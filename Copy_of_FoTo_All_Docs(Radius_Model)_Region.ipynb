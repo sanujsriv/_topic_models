{
  "nbformat": 4,
  "nbformat_minor": 0,
  "metadata": {
    "colab": {
      "provenance": [],
      "collapsed_sections": [
        "OHeUvin1UYy2",
        "LbxaWVhRS9kc",
        "Ehb8Jqe_Uf9J",
        "l7R0FR3SpoLQ",
        "uBecXbW4amm2",
        "EfY0rA4xZJQN",
        "7_6ifWD8l8WA",
        "2p5lYecYtWFm",
        "dk4oWni-BmyK",
        "x12xv1cuJLiR"
      ],
      "toc_visible": true,
      "machine_shape": "hm",
      "include_colab_link": true
    },
    "kernelspec": {
      "display_name": "Python 3",
      "name": "python3"
    },
    "accelerator": "GPU"
  },
  "cells": [
    {
      "cell_type": "markdown",
      "metadata": {
        "id": "view-in-github",
        "colab_type": "text"
      },
      "source": [
        "<a href=\"https://colab.research.google.com/github/sanujsriv/_topic_models/blob/FoTo/Copy_of_FoTo_All_Docs(Radius_Model)_Region.ipynb\" target=\"_parent\"><img src=\"https://colab.research.google.com/assets/colab-badge.svg\" alt=\"Open In Colab\"/></a>"
      ]
    },
    {
      "cell_type": "markdown",
      "metadata": {
        "id": "OHeUvin1UYy2"
      },
      "source": [
        "# **Download pickle from Dropbox (Documents)**"
      ]
    },
    {
      "cell_type": "code",
      "metadata": {
        "colab": {
          "base_uri": "https://localhost:8080/"
        },
        "id": "39dF4-1F5aRY",
        "outputId": "37080d5d-194f-440e-c2fe-555a803ba2c9"
      },
      "source": [
        "# Local\n",
        "# %cd /home/grad16/sakumar/colab/FoTo_All_Docs_Region"
      ],
      "execution_count": null,
      "outputs": [
        {
          "output_type": "stream",
          "text": [
            "/home/grad16/sakumar/colab/FoTo_All_Docs_Region\n"
          ],
          "name": "stdout"
        }
      ]
    },
    {
      "cell_type": "code",
      "metadata": {
        "id": "2cphx-__Whq8"
      },
      "source": [
        "## Short-Text\n",
        "!wget https://www.dropbox.com/s/trz5uph29b0t0eg/data_crowder.zip"
      ],
      "execution_count": null,
      "outputs": []
    },
    {
      "cell_type": "code",
      "metadata": {
        "id": "TKjLnzJiUlFK"
      },
      "source": [
        "# !wget https://www.dropbox.com/s/09y9y1h0xk3cxaj/embeddings_twentynews.pkl\n",
        "# !wget https://www.dropbox.com/s/ewv3vcwgll0r8a7/data_twentynews_labels.pkl\n",
        "# !wget https://www.dropbox.com/s/chpjn9lzr7rmn2k/fixed_data_twentynews_preprocessed.pkl"
      ],
      "execution_count": null,
      "outputs": []
    },
    {
      "cell_type": "code",
      "metadata": {
        "id": "hFXlj4SBOjT-"
      },
      "source": [
        "# !wget https://www.dropbox.com/s/8khmuj31il8zgkp/data_reuters_labels.pkl\n",
        "# !wget https://www.dropbox.com/s/bgc1ht0jsyjed6s/embeddings_reuters.pkl\n",
        "# !wget https://www.dropbox.com/s/9fk30bjzeefvhgl/data_reuters_preprocessed.pkl"
      ],
      "execution_count": null,
      "outputs": []
    },
    {
      "cell_type": "code",
      "metadata": {
        "id": "Y7gmfMHjFD6z"
      },
      "source": [
        "# !wget https://www.dropbox.com/s/52eoulcm5807npk/data_arxiv_preprocessed.pkl\n",
        "# !wget https://www.dropbox.com/s/zgjy9575pcj5v67/embeddings_arxiv.pkl\n",
        "# !wget https://www.dropbox.com/s/xzvshpgvwiy3spz/data_arxiv_labels.pkl"
      ],
      "execution_count": null,
      "outputs": []
    },
    {
      "cell_type": "code",
      "metadata": {
        "id": "eqdDSogFIek3"
      },
      "source": [
        "# !wget https://www.dropbox.com/s/c6wlr148lhwsbaz/embeddings_wos.pkl\n",
        "# !wget https://www.dropbox.com/s/j96061ln6oeejkf/data_wos_preprocessed.pkl\n",
        "# !wget https://www.dropbox.com/s/kiffa4nidkjt7wi/data_wos_labels.pkl"
      ],
      "execution_count": null,
      "outputs": []
    },
    {
      "cell_type": "code",
      "metadata": {
        "id": "Ma1b5gX2XypH"
      },
      "source": [
        "# !wget https://www.dropbox.com/s/wz88fk42r0viqvo/data_webkb_preprocessed.pkl\n",
        "# !wget https://www.dropbox.com/s/8oi5qactwrar1ad/data_webkb_labels.pkl\n",
        "# !wget https://www.dropbox.com/s/go7r4h39q6l01d5/embeddings_webkb.pkl"
      ],
      "execution_count": null,
      "outputs": []
    },
    {
      "cell_type": "markdown",
      "metadata": {
        "id": "LbxaWVhRS9kc"
      },
      "source": [
        "#**Unzip**"
      ]
    },
    {
      "cell_type": "code",
      "metadata": {
        "id": "mMxtkTHvS8aE"
      },
      "source": [
        "import os\n",
        "\n",
        "def unzip_crowdgender():\n",
        "  os.system('unzip data_crowder.zip')"
      ],
      "execution_count": null,
      "outputs": []
    },
    {
      "cell_type": "code",
      "metadata": {
        "id": "9z1mweuRTNk-"
      },
      "source": [
        "unzip_crowdgender()"
      ],
      "execution_count": null,
      "outputs": []
    },
    {
      "cell_type": "markdown",
      "metadata": {
        "id": "Ehb8Jqe_Uf9J"
      },
      "source": [
        "# **Just Run these..**"
      ]
    },
    {
      "cell_type": "code",
      "metadata": {
        "id": "gn9JFNO4qjuf",
        "cellView": "form"
      },
      "source": [
        "#@title Imports\n",
        "# from sympy.stats import RaisedCosine, density\n",
        "import torch\n",
        "import pandas as pd\n",
        "from IPython.display import display\n",
        "from torch import nn\n",
        "import re\n",
        "import gc\n",
        "from time import time\n",
        "import numpy as np\n",
        "import collections\n",
        "import torch.optim as optim\n",
        "# from utils import get_topwords, plot_fig\n",
        "# from plsv_vae import PlsvVAE\n",
        "# import data_preprocessing\n",
        "from sklearn.feature_extraction.text import CountVectorizer\n",
        "from nltk.corpus import stopwords\n",
        "import sklearn\n",
        "import re\n",
        "import string\n",
        "from numpy import random\n",
        "# from nltk.stem import PorterStemmer\n",
        "from nltk.stem import WordNetLemmatizer\n",
        "from nltk import word_tokenize\n",
        "from nltk.corpus import stopwords\n",
        "from sklearn.datasets import fetch_20newsgroups\n",
        "from sklearn.datasets import fetch_rcv1\n",
        "from sklearn.feature_extraction.text import CountVectorizer\n",
        "from sklearn.feature_extraction.text import TfidfVectorizer"
      ],
      "execution_count": null,
      "outputs": []
    },
    {
      "cell_type": "code",
      "metadata": {
        "id": "EivGqJ7vBoAo",
        "cellView": "form"
      },
      "source": [
        "#@title function : load / save pickle_obj\n",
        "import pickle\n",
        "\n",
        "def save_obj(obj, name):\n",
        "    with open(name + '.pkl', 'wb') as f:\n",
        "        pickle.dump(obj, f, pickle.HIGHEST_PROTOCOL)\n",
        "\n",
        "def load_obj(name):\n",
        "    with open(name + '.pkl', 'rb') as f:\n",
        "        return pickle.load(f)"
      ],
      "execution_count": null,
      "outputs": []
    },
    {
      "cell_type": "code",
      "metadata": {
        "id": "B-mhG9BmEXzm",
        "cellView": "form"
      },
      "source": [
        "# @title Data Loading functions..\n",
        "\n",
        "def new_50_twenty_news():\n",
        "  embeddings = load_obj('50_embeddings_twentynews_docs')\n",
        "  data_preprocessed = load_obj('50_data_twentynews_preprocessed_docs')\n",
        "  data_preprocessed_labels = load_obj(\"50_data_twentynews_labels_docs\")\n",
        "  return data_preprocessed,data_preprocessed_labels,embeddings,new_50_twenty_news.__name__\n",
        "\n",
        "def new_50_twenty_news_sent():\n",
        "  embeddings = load_obj('50_embeddings_twentynews_docs')\n",
        "  data_preprocessed = load_obj('50_data_twentynews_preprocessed_sent')\n",
        "  data_preprocessed_labels = load_obj(\"50_data_twentynews_labels_sent\")\n",
        "  doc_sent_id = load_obj('50_doc_id_sent')\n",
        "  return data_preprocessed,data_preprocessed_labels,embeddings,doc_sent_id,new_50_twenty_news_sent.__name__\n",
        "\n",
        "\n",
        "def load_20News_50():\n",
        "  embeddings = load_obj('50_embeddings_load_20news_docs')\n",
        "  data_preprocessed = load_obj('50_docs_preprocessed')\n",
        "  data_preprocessed_labels = load_obj(\"50_docs_labels\")\n",
        "  return data_preprocessed,data_preprocessed_labels,embeddings,load_20News_50.__name__\n",
        "\n",
        "def load_20News_50_sentences():\n",
        "  embeddings = load_obj('50_embeddings_load_20news_docs')\n",
        "  data_preprocessed = load_obj('50_data_load_20news_sentences_preprocessed')\n",
        "  data_preprocessed_labels = load_obj(\"50_data_load_20news_sentences_labels\")\n",
        "  doc_sent_id = load_obj('50_doc_id_sent_load_20news_sentences')\n",
        "  return data_preprocessed,data_preprocessed_labels,embeddings,doc_sent_id,load_20News_50_sentences.__name__\n",
        "\n",
        "\n",
        "def load_crowdgender():\n",
        "  data_preprocessed = load_obj('data_crowdgender_preprocessed')\n",
        "  data_preprocessed_labels = load_obj(\"data_crowdgender_labels\")\n",
        "  embeddings = load_obj('embeddings_crowdgender')\n",
        "  return data_preprocessed,data_preprocessed_labels,embeddings,load_crowdgender.__name__\n",
        "\n",
        "def load_reuters():\n",
        "  data_preprocessed = load_obj('data_reuters_preprocessed')\n",
        "  data_preprocessed_labels = load_obj(\"data_reuters_labels\")\n",
        "  embeddings = load_obj('embeddings_reuters')\n",
        "  return data_preprocessed,data_preprocessed_labels,embeddings,load_reuters.__name__\n",
        "\n",
        "def load_20News():\n",
        "  embeddings = load_obj('embeddings_twentynews')\n",
        "  # data_preprocessed = load_obj('data_twentynews_preprocessed')\n",
        "  data_preprocessed = load_obj('fixed_data_twentynews_preprocessed')\n",
        "  data_preprocessed_labels = load_obj(\"data_twentynews_labels\")\n",
        "  return data_preprocessed,data_preprocessed_labels,embeddings,load_20News.__name__\n",
        "\n",
        "def load_20News_sentences():\n",
        "  embeddings = load_obj('embeddings_twentynews_sent')\n",
        "  data_preprocessed = load_obj('data_twentynews_preprocessed_sent')\n",
        "  data_preprocessed_labels = load_obj(\"data_twentynews_labels_sent\")\n",
        "  doc_sent_id = load_obj('doc_id_sent_twentynews')\n",
        "  return data_preprocessed,data_preprocessed_labels,embeddings,doc_sent_id,load_20News_sentences.__name__\n",
        "\n",
        "def load_20News_reuters():\n",
        "  data_preprocessed = load_obj('data_reuters_preprocessed')\n",
        "  data_preprocessed_labels = load_obj(\"data_reuters_labels\")\n",
        "  embeddings = load_obj('embeddings_reuters')\n",
        "  data_preprocessed.extend(load_obj('data_20News_preprocessed'))\n",
        "  data_preprocessed_labels.extend(load_obj(\"data_20news_preprocessed_labels\"))\n",
        "  embeddings.update(load_obj('embeddings_20news'))\n",
        "  return data_preprocessed,data_preprocessed_labels,embeddings,load_20News_reuters.__name__\n",
        "\n",
        "def load_r52():\n",
        "  data_preprocessed = load_obj('data_r52_preprocessed')\n",
        "  data_preprocessed_labels = load_obj(\"data_r52_labels\")\n",
        "  embeddings = load_obj('embeddings_r52')\n",
        "  return data_preprocessed,data_preprocessed_labels,embeddings,load_r52.__name__\n",
        "\n",
        "def load_WebKb():\n",
        "  data_preprocessed = load_obj('data_webkb_preprocessed')\n",
        "  data_preprocessed_labels = load_obj(\"data_webkb_labels\")\n",
        "  embeddings = load_obj('embeddings_webkb')\n",
        "  return data_preprocessed,data_preprocessed_labels,embeddings,load_WebKb.__name__\n",
        "\n",
        "def load_WoS():\n",
        "  data_preprocessed = load_obj('data_wos_preprocessed')\n",
        "  data_preprocessed_labels = load_obj(\"data_wos_labels\")\n",
        "  embeddings = load_obj('embeddings_wos')\n",
        "  return data_preprocessed,data_preprocessed_labels,embeddings,load_WoS.__name__\n",
        "def load_arXiv():\n",
        "  data_preprocessed = load_obj('data_arxiv_preprocessed')\n",
        "  data_preprocessed_labels = load_obj(\"data_arxiv_labels\")\n",
        "  embeddings = load_obj('embeddings_arxiv')\n",
        "  return data_preprocessed,data_preprocessed_labels,embeddings,load_arXiv.__name__"
      ],
      "execution_count": null,
      "outputs": []
    },
    {
      "cell_type": "code",
      "metadata": {
        "cellView": "form",
        "id": "xzwwlUAQTzi9"
      },
      "source": [
        "#@title get_keywords\n",
        "def get_keywords():\n",
        "  keywords = []\n",
        "  keywords_arxiv = ['molecular ','stimulation','liquid','fluid']\n",
        "\n",
        "  keywords_webkb = ['class','student','department','year']\n",
        "  # keywords_r52 = ['mutual','fund','market','money']\n",
        "\n",
        "  keywords_WoS = ['pediatric','protein','clone']\n",
        "  # keywords_20News_Reuters = ['oil','price','opec','bpd','barrel','saudi','production','mln','crude']\n",
        "\n",
        "  # keywords_reuters = ['company', 'analyst', 'offer', 'pct', 'takeover', 'merger', 'record', 'dividend', 'pay', 'stock']\n",
        "  # keywords_reuters = ['stock', 'dividend', 'inc']\n",
        "  # keywords_reuters = ['company', 'stock', 'pct']\n",
        "  keywords_reuters = ['oil','crude','ship']\n",
        "\n",
        "\n",
        "  keywords_20News = ['sport', 'baseball', 'game','match']\n",
        "  # keywords_20News = ['looking' ,'add', 'voice' ,'input', 'capability', 'user', 'interface']\n",
        "\n",
        "  keywords_crowdgender = ['housewife','girl','beautiful','blonde']\n",
        "\n",
        "  keywords = keywords_crowdgender\n",
        "\n",
        "  return keywords"
      ],
      "execution_count": null,
      "outputs": []
    },
    {
      "cell_type": "code",
      "metadata": {
        "id": "SSDtRw61M-rx",
        "cellView": "form"
      },
      "source": [
        "#@title ## DESM Score ##\n",
        "def cosine_similarity_desm_docs(query_list, train_vec, vocab, embeddings):\n",
        "  num_docs = len(train_vec)\n",
        "  num_voc = len(vocab)\n",
        "  sim_list = torch.zeros(num_docs)\n",
        "  index = 0\n",
        "  id_vocab = dict(map(reversed, vocab.items()))\n",
        "  for d in range(num_docs):\n",
        "    if(d%5000==0): print(d)\n",
        "    doc_bar = torch.zeros(300)\n",
        "    doc_length = 0\n",
        "    for v in range(num_voc):\n",
        "      # print(type(train_vec[d][v]))\n",
        "      if(train_vec[d][v] > 0):\n",
        "        doc_bar.add_(train_vec[d][v] * torch.from_numpy(embeddings[id_vocab[v]])/torch.norm(torch.from_numpy(embeddings[id_vocab[v]])))\n",
        "        doc_length = doc_length + train_vec[d][v]\n",
        "    doc_bar = doc_bar / doc_length\n",
        "    sum = 0\n",
        "\n",
        "    for q in query_list:\n",
        "      sum += torch.dot(torch.from_numpy(embeddings[q]) , doc_bar)/(torch.norm(torch.from_numpy(embeddings[q]))*torch.norm(doc_bar))\n",
        "    sum = sum/len(query_list)\n",
        "    sim_list[index]=sum\n",
        "    index = index + 1\n",
        "\n",
        "  return sim_list"
      ],
      "execution_count": null,
      "outputs": []
    },
    {
      "cell_type": "markdown",
      "metadata": {
        "id": "uuMpIj0Q7i7D"
      },
      "source": [
        "# **Loading Data & Model Hyperparameter**"
      ]
    },
    {
      "cell_type": "code",
      "metadata": {
        "colab": {
          "base_uri": "https://localhost:8080/"
        },
        "id": "t2uRoAZcWx7e",
        "outputId": "826beae1-eaa2-47ff-a8bd-8cae664fb5be"
      },
      "source": [
        "# ##### Data loading #####\n",
        "loaded_data = load_crowdgender()\n",
        "##########################\n",
        "data_preprocessed , data_preprocessed_labels , embeddings, name = loaded_data\n",
        "print(name,len(data_preprocessed_labels),len(data_preprocessed),len(embeddings))"
      ],
      "execution_count": null,
      "outputs": [
        {
          "output_type": "stream",
          "text": [
            "load_crowdgender 19804 19804 15369\n"
          ],
          "name": "stdout"
        }
      ]
    },
    {
      "cell_type": "markdown",
      "metadata": {
        "id": "nEfu6UC2Bqpm"
      },
      "source": [
        "#"
      ]
    },
    {
      "cell_type": "code",
      "metadata": {
        "id": "Ik1H9Ba_WKr3"
      },
      "source": [
        "# preprossed_data = data_preprocessed\n",
        "# train_label = data_preprocessed_labels\n",
        "# vectorizer = CountVectorizer()\n",
        "# train_vec = vectorizer.fit_transform(preprossed_data).toarray()\n",
        "# vocab = vectorizer.vocabulary_\n",
        "# nonzeros_indexes = np.where(train_vec.any(1))[0]\n",
        "# train_vec_non_zeros = [train_vec[i] for i in nonzeros_indexes]\n",
        "# preprossed_data_non_zeros = [preprossed_data[i] for i in nonzeros_indexes]\n",
        "# train_label = [data_preprocessed_labels[i] for i in nonzeros_indexes]"
      ],
      "execution_count": null,
      "outputs": []
    },
    {
      "cell_type": "code",
      "metadata": {
        "colab": {
          "base_uri": "https://localhost:8080/",
          "height": 151
        },
        "id": "OdIRahOKR9Qf",
        "outputId": "0155b74b-670d-4c0e-e885-f34148150345"
      },
      "source": [
        "# !zip data_crowder.zip *.pkl\n",
        "# from google.colab import files\n",
        "# files.download(\"data_crowder.zip\")"
      ],
      "execution_count": null,
      "outputs": [
        {
          "output_type": "stream",
          "text": [
            "  adding: all_rscores.pkl (deflated 19%)\n",
            "  adding: data_crowdgender_labels.pkl (deflated 83%)\n",
            "  adding: data_crowdgender_preprocessed.pkl (deflated 60%)\n",
            "  adding: embeddings_crowdgender.pkl (deflated 54%)\n",
            "  adding: preprossed_data_non_zeros.pkl (deflated 60%)\n",
            "  adding: train_label.pkl (deflated 83%)\n",
            "  adding: train_vec_non_zeros.pkl (deflated 100%)\n",
            "  adding: vocab.pkl (deflated 70%)\n"
          ],
          "name": "stdout"
        },
        {
          "output_type": "display_data",
          "data": {
            "application/javascript": [
              "\n",
              "    async function download(id, filename, size) {\n",
              "      if (!google.colab.kernel.accessAllowed) {\n",
              "        return;\n",
              "      }\n",
              "      const div = document.createElement('div');\n",
              "      const label = document.createElement('label');\n",
              "      label.textContent = `Downloading \"${filename}\": `;\n",
              "      div.appendChild(label);\n",
              "      const progress = document.createElement('progress');\n",
              "      progress.max = size;\n",
              "      div.appendChild(progress);\n",
              "      document.body.appendChild(div);\n",
              "\n",
              "      const buffers = [];\n",
              "      let downloaded = 0;\n",
              "\n",
              "      const channel = await google.colab.kernel.comms.open(id);\n",
              "      // Send a message to notify the kernel that we're ready.\n",
              "      channel.send({})\n",
              "\n",
              "      for await (const message of channel.messages) {\n",
              "        // Send a message to notify the kernel that we're ready.\n",
              "        channel.send({})\n",
              "        if (message.buffers) {\n",
              "          for (const buffer of message.buffers) {\n",
              "            buffers.push(buffer);\n",
              "            downloaded += buffer.byteLength;\n",
              "            progress.value = downloaded;\n",
              "          }\n",
              "        }\n",
              "      }\n",
              "      const blob = new Blob(buffers, {type: 'application/binary'});\n",
              "      const a = document.createElement('a');\n",
              "      a.href = window.URL.createObjectURL(blob);\n",
              "      a.download = filename;\n",
              "      div.appendChild(a);\n",
              "      a.click();\n",
              "      div.remove();\n",
              "    }\n",
              "  "
            ],
            "text/plain": [
              "<IPython.core.display.Javascript object>"
            ]
          },
          "metadata": {
            "tags": []
          }
        },
        {
          "output_type": "display_data",
          "data": {
            "application/javascript": [
              "download(\"download_cbada0dd-39dc-4ae9-9a40-2736afc5300c\", \"data_crowder.zip\", 13095374)"
            ],
            "text/plain": [
              "<IPython.core.display.Javascript object>"
            ]
          },
          "metadata": {
            "tags": []
          }
        }
      ]
    },
    {
      "cell_type": "code",
      "metadata": {
        "id": "__1Q8sFXU9is"
      },
      "source": [
        "vocab  =load_obj('vocab')\n",
        "preprossed_data_non_zeros = load_obj('preprossed_data_non_zeros')\n",
        "train_vec_non_zeros = load_obj('train_vec_non_zeros')\n",
        "keywords  = get_keywords()\n",
        "# all_rscores = cosine_similarity_desm_docs(keywords,train_vec_non_zeros,vocab, embeddings) # run if query change\n",
        "all_rscores= load_obj('all_rscores')"
      ],
      "execution_count": null,
      "outputs": []
    },
    {
      "cell_type": "code",
      "metadata": {
        "cellView": "both",
        "colab": {
          "base_uri": "https://localhost:8080/"
        },
        "id": "c_MShBhcgdzu",
        "outputId": "240ab18e-7368-4232-ac23-671a5b343c68"
      },
      "source": [
        "device = torch.device(\"cuda:0\" if torch.cuda.is_available() else \"cpu\")\n",
        "tensor_train_w = torch.tensor(np.asanyarray(train_vec_non_zeros)).float()\n",
        "train_label = load_obj('train_label')\n",
        "id_vocab = dict(map(reversed, vocab.items()))\n",
        "\n",
        "num_coordinate = 2\n",
        "bs = 256\n",
        "en1_units_x = 100\n",
        "en2_units_x = 100\n",
        "num_input = train_vec_non_zeros[0].shape[0]\n",
        "variance_x = 1\n",
        "learning_rate = 0.002\n",
        "beta1 = 0.99\n",
        "beta2 = 0.999\n",
        "drop_rate = 0.6\n",
        "num_topic = 20\n",
        "gc.collect()"
      ],
      "execution_count": null,
      "outputs": [
        {
          "output_type": "execute_result",
          "data": {
            "text/plain": [
              "149"
            ]
          },
          "metadata": {
            "tags": []
          },
          "execution_count": 32
        }
      ]
    },
    {
      "cell_type": "code",
      "metadata": {
        "id": "4nnkLeGKB6o4"
      },
      "source": [
        "def get_mem_size(a):\n",
        "  return 'Mem Size: '+str(a.element_size()*a.nelement() /(1024**3))+' GB'"
      ],
      "execution_count": null,
      "outputs": []
    },
    {
      "cell_type": "code",
      "metadata": {
        "cellView": "form",
        "id": "2aoUqeoo20hq"
      },
      "source": [
        "#@title All variables occupying memory\n",
        "import sys\n",
        "local_vars = list(locals().items())\n",
        "for var, obj in local_vars:\n",
        "    print(var, sys.getsizeof(obj))"
      ],
      "execution_count": null,
      "outputs": []
    },
    {
      "cell_type": "code",
      "metadata": {
        "cellView": "form",
        "id": "ep4R4oR64ztV"
      },
      "source": [
        "#@title Variables occupying large amt of mem\n",
        "import sys\n",
        "def sizeof_fmt(num, suffix='B'):\n",
        "    for unit in ['','Ki','Mi','Gi','Ti','Pi','Ei','Zi']:\n",
        "        if abs(num) < 1024.0:\n",
        "            return \"%3.1f %s%s\" % (num, unit, suffix)\n",
        "        num /= 1024.0\n",
        "    return \"%.1f %s%s\" % (num, 'Yi', suffix)\n",
        "\n",
        "for name, size in sorted(((name, sys.getsizeof(value)) for name, value in locals().items()),\n",
        "                         key= lambda x: -x[1])[:10]:\n",
        "    print(\"{:>30}: {:>8}\".format(name, sizeof_fmt(size)))"
      ],
      "execution_count": null,
      "outputs": []
    },
    {
      "cell_type": "code",
      "metadata": {
        "colab": {
          "base_uri": "https://localhost:8080/"
        },
        "id": "DkvzqQMNXbuK",
        "outputId": "ac1daaef-82ee-4645-9d51-790921b753ce"
      },
      "source": [
        "# torch.max(all_rscores)\n",
        "top_10_docs=[]\n",
        "sort,indices = torch.sort(all_rscores,descending=True)\n",
        "print('Keywords',get_keywords())\n",
        "print('Descending :',sort,'\\n','indices:',indices)\n",
        "print('\\n\\n Top 10 Relevant Documents (DESM):\\n\\n',\"---\"*40)\n",
        "\n",
        "for k in range(10):\n",
        "   print(k+1,') ',preprossed_data_non_zeros[indices[k].item()])\n",
        "   print(k+1,')',train_label[indices[k].item()])\n",
        "with open(\"1000.txt\", \"w\") as output:\n",
        "  for k in range(0,1000):\n",
        "    output.write(str(k+1)+') '+str(preprossed_data_non_zeros[indices[k].item()])+'\\n')\n",
        "    output.write(str(k+1)+') '+str(sort[k].item())+'\\n')\n",
        "    output.write(str(k+1)+'label) '+str(train_label[indices[k].item()])+'\\n\\n')\n",
        "    # print()\n",
        "\n",
        "output.close()"
      ],
      "execution_count": null,
      "outputs": [
        {
          "output_type": "stream",
          "text": [
            "Keywords ['housewife', 'girl', 'beautiful', 'blonde']\n",
            "Descending : tensor([ 0.5789,  0.5721,  0.5721,  ..., -0.0401, -0.0422, -0.0427]) \n",
            " indices: tensor([ 3410, 18680, 16444,  ...,  1202, 13706, 13368])\n",
            "\n",
            "\n",
            " Top 10 Relevant Documents (DESM):\n",
            "\n",
            " ------------------------------------------------------------------------------------------------------------------------\n",
            "1 )  cute girl\n",
            "1 ) female\n",
            "2 )  girl\n",
            "2 ) female\n",
            "3 )  girl\n",
            "3 ) male\n",
            "4 )  girl\n",
            "4 ) brand\n",
            "5 )  girl girl\n",
            "5 ) unknown\n",
            "6 )  gaping beautiful sexy woman\n",
            "6 ) brand\n",
            "7 )  beautiful girl earth\n",
            "7 ) female\n",
            "8 )  blonde goddess\n",
            "8 ) unknown\n",
            "9 )  beautiful person good singer beautiful cute\n",
            "9 ) male\n",
            "10 )  shout girl hotline bling skimpy outfit girl fun friend honey\n",
            "10 ) female\n"
          ],
          "name": "stdout"
        }
      ]
    },
    {
      "cell_type": "code",
      "metadata": {
        "id": "2bELCcZ0Wu-v"
      },
      "source": [
        "from sklearn.preprocessing import MinMaxScaler\n",
        "from matplotlib import pyplot as plt\n",
        "num_div = 10\n",
        "scaler = MinMaxScaler(feature_range=(0+1e-10, 0.99))\n",
        "normalized_all_rscores = scaler.fit_transform(all_rscores.data.reshape(-1,1))\n",
        "normalized_all_rscores=torch.tensor(normalized_all_rscores.flatten())\n",
        "irrelevant_scores = torch.round((1-normalized_all_rscores)*(num_div))/(num_div)"
      ],
      "execution_count": null,
      "outputs": []
    },
    {
      "cell_type": "code",
      "metadata": {
        "id": "eyJZs_wzaaWN"
      },
      "source": [
        "plt.hist(normalized_all_rscores)"
      ],
      "execution_count": null,
      "outputs": []
    },
    {
      "cell_type": "code",
      "metadata": {
        "id": "o_D8mZpEaa19"
      },
      "source": [
        "plt.hist(irrelevant_scores)"
      ],
      "execution_count": null,
      "outputs": []
    },
    {
      "cell_type": "markdown",
      "metadata": {
        "id": "l7R0FR3SpoLQ"
      },
      "source": [
        "#Short-text"
      ]
    },
    {
      "cell_type": "code",
      "metadata": {
        "id": "YJzRsxJnu6pf"
      },
      "source": [
        "# ## Short-Text\n",
        "# def shortTextScore(score,preprossed_data_non_zeros):\n",
        "#   for i in range(len(score)):\n",
        "#   #   if (train_label[i] == 'sci.crypt' or train_label[i] == 'rec.sport.hockey' or train_label[i] == 'sci.med'):\n",
        "#       for k in get_keywords():\n",
        "#         if (k in preprossed_data_non_zeros[i]):\n",
        "#           score[i] = 1.0\n",
        "#   return score"
      ],
      "execution_count": null,
      "outputs": []
    },
    {
      "cell_type": "code",
      "metadata": {
        "id": "SivI6PugvsRg"
      },
      "source": [
        "# def getCount_rscore(score,val=1.0):\n",
        "#   s,i = score.sort()\n",
        "#   c=0\n",
        "#   for a in s:\n",
        "#     if a == val:\n",
        "#       c = c+1\n",
        "#   return c"
      ],
      "execution_count": null,
      "outputs": []
    },
    {
      "cell_type": "code",
      "metadata": {
        "id": "f_soE82QwSs4"
      },
      "source": [
        "# irrelevant_scores = shortTextScore(irrelevant_scores,preprossed_data_non_zeros)\n",
        "# getCount_rscore(irrelevant_scores,1.0)"
      ],
      "execution_count": null,
      "outputs": []
    },
    {
      "cell_type": "markdown",
      "metadata": {
        "id": "JtRrwY7L-oRL"
      },
      "source": [
        "# Current Working Model\n"
      ]
    },
    {
      "cell_type": "code",
      "metadata": {
        "id": "20SZS3Q4FVzq"
      },
      "source": [
        "import torch.nn as nn\n",
        "import torch.nn.functional as F\n",
        "import torch.optim as optim\n",
        "from torch.nn import Parameter\n",
        "torch.cuda.empty_cache()\n",
        "\n",
        "mu_div=200.0\n",
        "smoothen=1e-20\n",
        "sig=10.0\n",
        "\n",
        "gaussian_variance=torch.tensor(0.05)\n",
        "pi = 3.1415927410125732\n",
        "\n",
        "def gaussian_dist(x,mu,variance):\n",
        "  exp_term = torch.exp( -0.5 * ((x-mu)/variance)**2 )\n",
        "  var_term = (1.0 / (variance * (2*pi)**0.5)) + smoothen\n",
        "  ret = torch.mul(var_term,exp_term)\n",
        "  ret = torch.log(ret)\n",
        "  return ret\n",
        "\n",
        "def torch_lgamma(a):\n",
        "  return torch.lgamma(torch.tensor(a))\n",
        "\n",
        "def NewBeta_dist(x,mu,phi_beta,smoothen):\n",
        "  First = torch_lgamma(phi_beta+smoothen) - (torch_lgamma(phi_beta * mu+smoothen) + torch_lgamma(phi_beta * (1-mu)+smoothen ))\n",
        "  Second_1 = (mu*phi_beta-1) * torch.log(x+smoothen)\n",
        "  Second_2 = ( (1-mu)*phi_beta-1 )* torch.log(1-x+smoothen)\n",
        "  Second = Second_1 + Second_2\n",
        "  return First + Second\n",
        "\n",
        "def LogL_NewBeta(x,relevant_scores):\n",
        "\n",
        "  # x_norm = torch.norm(x,dim=-1)\n",
        "  # mu =\n",
        "\n",
        "  # LogL = torch.log(NewBeta_dist(relevant_scores,mu,sig,smoothen)+smoothen)\n",
        "  LogL = NewBeta_dist(relevant_scores,mu,sig,smoothen)\n",
        "  return LogL.sum()\n",
        "\n",
        "def truncate_phi(Xi):\n",
        "  pi = 3.1415927410125732\n",
        "  return (1.0/ ((2.0*pi)**0.5) )*torch.exp(-0.5*(Xi**2))\n",
        "\n",
        "def gaussian(alpha):\n",
        "    # phi = torch.exp(-5*alpha)\n",
        "    phi = -0.5*alpha\n",
        "    return phi\n",
        "\n",
        "def inverse_multi_quadric(alpha):\n",
        "    phi = -0.5*torch.log(torch.ones_like(alpha) + alpha)\n",
        "    return phi\n",
        "\n",
        "def inverse_quadratic(alpha):\n",
        "    # phi = torch.ones_like(alpha) / (torch.ones_like(alpha) + alpha)\n",
        "    phi = -torch.log(torch.ones_like(alpha) + alpha)\n",
        "    return phi\n",
        "\n",
        "class PlsvVAE(nn.Module):\n",
        "    def __init__(self, num_input, en1_units_x, en2_units_x, num_coordinate, num_topic, drop_rate, variance_x, bs, distance=\"gaussian\"):\n",
        "        super(PlsvVAE, self).__init__()\n",
        "        self.num_input, self.num_coordinate, self.num_topic, self.variance_x, self.bs\\\n",
        "            = num_input, num_coordinate, num_topic, variance_x, bs\n",
        "\n",
        "        # encoder\n",
        "        self.en1_fc     = nn.Linear(num_input, en1_units_x)             # V -> 100 #nxV->(vxh1)->nxh1;\n",
        "        self.en2_fc     = nn.Linear(en1_units_x, en2_units_x)             # 100  -> 100\n",
        "        self.en2_drop   = nn.Dropout(drop_rate)\n",
        "        self.mean_fc    = nn.Linear(en2_units_x, num_coordinate)        # 100  -> 2\n",
        "        self.mean_bn    = nn.BatchNorm1d(num_coordinate)              # bn for mean\n",
        "        self.logvar_fc  = nn.Linear(en2_units_x, num_coordinate)        # 100  -> 2\n",
        "        self.logvar_bn  = nn.BatchNorm1d(num_coordinate)              # bn for logvar\n",
        "\n",
        "\n",
        "        # RBF\n",
        "        self.in_features = self.num_coordinate\n",
        "        self.out_features = self.num_topic\n",
        "        self.centres = nn.Parameter(torch.Tensor(self.out_features, self.in_features))\n",
        "\n",
        "\n",
        "        self.query_center = nn.Parameter(torch.zeros(2,1))\n",
        "        self.R = nn.Parameter(torch.tensor(0.01))\n",
        "        self.iR = nn.Parameter(torch.tensor([0.01 for _ in range(num_div)]))\n",
        "\n",
        "        if distance==\"gaussian\":\n",
        "            self.basis_func = gaussian\n",
        "        if distance==\"inverse_quadratic\":\n",
        "            self.basis_func = inverse_quadratic\n",
        "        if distance==\"inverse_multi_quadric\":\n",
        "            self.basis_func = inverse_multi_quadric\n",
        "        self.init_parameters()\n",
        "\n",
        "\n",
        "        # decoder layer\n",
        "        self.decoder    = nn.Linear(self.num_topic, self.num_input)             # 50   -> 1995\n",
        "        self.decoder_bn = nn.BatchNorm1d(self.num_topic)                      # bn for decoder\n",
        "\n",
        "        # decoder document\n",
        "        self.decoder_phi_bn = nn.BatchNorm1d(num_coordinate)                      # bn for decoder\n",
        "        self.decoder_x_bn = nn.BatchNorm1d(num_coordinate)\n",
        "\n",
        "        # prior mean and variance as constant buffers\n",
        "        prior_mean   = torch.Tensor(1, num_coordinate).fill_(0)\n",
        "        prior_var    = torch.Tensor(1, num_coordinate).fill_(variance_x)\n",
        "        self.prior_mean = nn.Parameter(prior_mean, requires_grad=False)\n",
        "        self.prior_var  = nn.Parameter(prior_var, requires_grad=False)\n",
        "        self.prior_logvar = nn.Parameter(prior_var.log(), requires_grad=False)\n",
        "\n",
        "\n",
        "    def init_parameters(self):\n",
        "        nn.init.normal_(self.centres, 0, 0.01)\n",
        "\n",
        "    def encode(self, input_):\n",
        "        N, *_ = input_.size()\n",
        "        # compute posterior\n",
        "        en1 = F.softplus(self.en1_fc(input_))                           # en1_fc   output\n",
        "        en2 = F.softplus(self.en2_fc(en1))                              # encoder2 output\n",
        "        en2 = self.en2_drop(en2)\n",
        "        posterior_mean   = self.mean_bn  (self.mean_fc  (en2))          # posterior mean\n",
        "        posterior_logvar = self.logvar_bn(self.logvar_fc(en2))          # posterior log variance\n",
        "        posterior_var    = posterior_logvar.exp()\n",
        "\n",
        "        return en2, posterior_mean, posterior_logvar, posterior_var\n",
        "\n",
        "    def take_sample(self, input_, posterior_mean, posterior_var, prior_var):\n",
        "        # take sample\n",
        "        eps = input_.data.new().resize_as_(posterior_mean.data).normal_(std=1) # noise\n",
        "        # N x X\n",
        "        z = posterior_mean + posterior_var.sqrt() * eps                   # reparameterization\n",
        "\n",
        "        return z\n",
        "\n",
        "    def decode(self, z):\n",
        "        # decode\n",
        "        N, *_ = z.size()\n",
        "        zx = self.decoder_x_bn(z).view(N, 1, self.num_coordinate) # Nx1xX\n",
        "        size = (N, self.out_features, self.in_features) # N,K,2\n",
        "        x = zx.expand(size)\n",
        "        c = self.decoder_phi_bn(self.centres).unsqueeze(0).expand(size)\n",
        "        d = (x-c).pow(2).sum(-1)\n",
        "        distances = self.basis_func(d) #NxK\n",
        "        zx_phi = torch.exp(distances - torch.logsumexp(distances, dim=-1, keepdim=True))\n",
        "        recon_v = torch.mm(zx_phi, F.softmax(self.decoder_bn(self.decoder.weight).transpose(1,0), dim=-1))\n",
        "        return recon_v, zx, zx_phi, d, c\n",
        "\n",
        "\n",
        "    def forward(self, input_, r_indexes, compute_loss=False):\n",
        "        en2, posterior_mean, posterior_logvar, posterior_var = self.encode(input_)\n",
        "        z = self.take_sample(input_, posterior_mean, posterior_var, self.variance_x)\n",
        "\n",
        "        # decode\n",
        "        recon_v, zx, zx_phi,d,c= self.decode(z)\n",
        "\n",
        "        if compute_loss:\n",
        "            return recon_v, self.loss(input_, recon_v, zx_phi, posterior_mean, posterior_logvar, posterior_var, d, c, r_indexes, zx)\n",
        "        else:\n",
        "            return z, recon_v, zx, zx_phi\n",
        "\n",
        "\n",
        "    def loss(self, input_, recon_v, zx_phi, posterior_mean, posterior_logvar, posterior_var, d, c, r_indexes, zx, avg=True):\n",
        "\n",
        "        N = posterior_mean.shape[0]\n",
        "        NL = - (input_ * (recon_v+1e-10).log()).sum(-1)\n",
        "\n",
        "        prior_mean   = self.prior_mean.expand_as(posterior_mean)\n",
        "        prior_var    = self.prior_var.expand_as(posterior_mean)\n",
        "        prior_logvar = self.prior_logvar.expand_as(posterior_mean)\n",
        "\n",
        "        var_division    = posterior_var  / prior_var #Nx2\n",
        "        diff            = posterior_mean - prior_mean\n",
        "        diff_term       = diff * diff / prior_var\n",
        "        logvar_division = prior_logvar - posterior_logvar\n",
        "\n",
        "        xKLD = 0.5 * ( (var_division + diff_term + logvar_division).sum(-1) - self.num_coordinate)\n",
        "\n",
        "        xKLD_mean = xKLD.mean()\n",
        "        NL_mean = NL.mean()\n",
        "\n",
        "\n",
        "      ######################################################################################\n",
        "\n",
        "        R_x = torch.norm(zx,dim=-1).expand(N,num_div)\n",
        "        i = torch.arange(1,num_div+1).to(device)\n",
        "        #R_i = i * (1+self.iR[i-1].pow(2)) * self.R.pow(2)\n",
        "        R_i = i * self.R.pow(2)\n",
        "        #distances = self.basis_func((R_x - R_i).pow(2))\n",
        "        pi_x = (R_x - R_i).pow(2)/(R_x - R_i).pow(2).sum()\n",
        "        #pi_x = torch.exp(distances - torch.logsumexp(distances, dim=-1, keepdim=True))\n",
        "        #print(pi_x)\n",
        "        #print(pi_x)\n",
        "        # pi_x = F.softmax(-(R_x - R_i).pow(2),dim=-1)\n",
        "        NL_i = - ((r_indexes * pi_x).sum(-1)).log()\n",
        "\n",
        "        # val,ind = pi_x.max(1)\n",
        "        # relv_i = ind + 1\n",
        "        # NL_i = - pi_x.prod(-1).log().sum()\n",
        "\n",
        "        NL_i_mean =  NL_i.mean()\n",
        "\n",
        "      ######################################################################################\n",
        "\n",
        "        NegativeLogL_RScore = torch.tensor(0.0) # Disable Score (Works like PLSV-VAE)\n",
        "        loss = NL_mean + xKLD_mean + NL_i_mean\n",
        "\n",
        "        return loss, NL_mean , xKLD_mean , NL_i_mean"
      ],
      "execution_count": null,
      "outputs": []
    },
    {
      "cell_type": "code",
      "metadata": {
        "id": "Xiv54gv6-sqB"
      },
      "source": [
        "model = PlsvVAE(num_input, en1_units_x, en2_units_x, num_coordinate, num_topic, drop_rate, variance_x, bs, \"inverse_quadratic\")\n",
        "model.to(device)\n",
        "optimizer = optim.Adam(model.parameters(), learning_rate, betas=(beta1, beta2))\n",
        "epochs = 1000\n",
        "\n",
        "neg_log_rscore_arr=[]\n",
        "x_arr,recon_arr = [],[]\n",
        "\n",
        "all_indices = torch.randperm(tensor_train_w.size(0)).split(bs)\n",
        "\n",
        "for epoch in range(epochs):\n",
        "    loss_u_epoch = 0.0\n",
        "    loss_xkl_epoch = 0.0\n",
        "    recon_ep = 0.0\n",
        "    loss_epoch = 0.0\n",
        "    neg_log_rscore_ep = 0.0\n",
        "    model.train()\n",
        "\n",
        "    for batch_ndx in all_indices:\n",
        "\n",
        "        input_w = tensor_train_w[batch_ndx].to(device)\n",
        "        labels = train_label[batch_ndx]\n",
        "        r_indexes = relv_indexes[batch_ndx].to(device)\n",
        "        recon_v, (loss, loss_u, xkl_loss, neg_log_rscore) = model(input_w, r_indexes, compute_loss=True)\n",
        "\n",
        "        optimizer.zero_grad()\n",
        "        loss.backward()\n",
        "\n",
        "        optimizer.step()             # backpror.step()            # update parameters\n",
        "        loss_epoch += loss.item()\n",
        "        loss_u_epoch += loss_u.item()\n",
        "        loss_xkl_epoch += xkl_loss.item()\n",
        "        neg_log_rscore_ep += neg_log_rscore.item()\n",
        "    x_arr.append(loss_xkl_epoch)\n",
        "    recon_arr.append(loss_u_epoch)\n",
        "    neg_log_rscore_arr.append(neg_log_rscore_ep)\n",
        "\n",
        "    if epoch % 10 == 0:\n",
        "        print('Epoch {}, loss={}'.format(epoch, loss_epoch))\n",
        "        print(model.R)\n",
        "        print('recon_loss={}, KLD= {}, neg_loss = {}'.format(loss_u_epoch, loss_xkl_epoch,neg_log_rscore_ep))\n",
        "        gc.collect()"
      ],
      "execution_count": null,
      "outputs": []
    },
    {
      "cell_type": "code",
      "metadata": {
        "id": "H2dWYfSoAqaC"
      },
      "source": [
        "def get_topwords(beta, id_vocab):\n",
        "    topic_indx = 0\n",
        "    topwords_topic = []\n",
        "    for i in range(len(beta)):\n",
        "        topwords_topic.append( str(topic_indx)+\": \"+ \" \".join([id_vocab[j] for j in beta[i].argsort()[:-10 - 1:-1]]))\n",
        "        topic_indx+=1\n",
        "    return topwords_topic"
      ],
      "execution_count": null,
      "outputs": []
    },
    {
      "cell_type": "markdown",
      "metadata": {
        "id": "K0zQCuyY_kaq"
      },
      "source": [
        "# **Functions (Plot_loss, get_topwords, get_Z, get_Contour, print_Topics)** - *Run Once*"
      ]
    },
    {
      "cell_type": "code",
      "metadata": {
        "id": "IQs6On09Oj9I",
        "cellView": "form"
      },
      "source": [
        "#@title get_all_tensor_size\n",
        "def getall_tensor_size():\n",
        "  for obj in gc.get_objects():\n",
        "    try:\n",
        "        if torch.is_tensor(obj) or (hasattr(obj, 'data') and torch.is_tensor(obj.data)):\n",
        "            print(type(obj), obj.size(),get_mem_size(obj))\n",
        "    except:\n",
        "        pass"
      ],
      "execution_count": null,
      "outputs": []
    },
    {
      "cell_type": "code",
      "metadata": {
        "id": "r9dbke4-9_Wy"
      },
      "source": [
        "import plotly.graph_objects as go\n",
        "def plot_loss(y,name):\n",
        "  figure = go.Figure()\n",
        "  figure.add_trace(go.Scatter(x=[i for i in range(1,epochs+1)], y=y,mode='lines',name=name))\n",
        "  figure.show(renderer='colab')"
      ],
      "execution_count": null,
      "outputs": []
    },
    {
      "cell_type": "code",
      "metadata": {
        "id": "VRM89oumbZAs"
      },
      "source": [
        "def get_topwords(beta, id_vocab):\n",
        "    topic_indx = 0\n",
        "    topwords_topic = []\n",
        "    for i in range(len(beta)):\n",
        "        topwords_topic.append( str(topic_indx)+\": \"+ \" \".join([id_vocab[j] for j in beta[i].argsort()[:-10 - 1:-1]]))\n",
        "        topic_indx+=1\n",
        "    return topwords_topic"
      ],
      "execution_count": null,
      "outputs": []
    },
    {
      "cell_type": "code",
      "metadata": {
        "id": "UKdw2hm7bZAs"
      },
      "source": [
        "def get_Z(X,Y,query_center):\n",
        "  norms = torch.zeros(X.shape)\n",
        "  Z = torch.zeros(X.shape)\n",
        "\n",
        "  for i in range(X.shape[0]):\n",
        "    for j in range(X.shape[0]):\n",
        "      v = torch.tensor([X[i][j],Y[i][j]])\n",
        "\n",
        "      norms[i][j] = torch.norm(v)\n",
        "      Z[i][j]=torch.exp(-0.5 * (torch.pow(norms[i][j],2))/mu_div)\n",
        "\n",
        "      # norms[i][j] = (v-query_center.T).pow(2).sum(-1)\n",
        "      # Z[i][j]=torch.exp(-0.5 * norms[i][j]/mu_div)\n",
        "  return Z"
      ],
      "execution_count": null,
      "outputs": []
    },
    {
      "cell_type": "code",
      "metadata": {
        "id": "YBJfo4THbZAs"
      },
      "source": [
        "def get_Contour(ax,x_list,query_center):\n",
        "  xlist = np.linspace(-50, 50, 100)\n",
        "  ylist = np.linspace(-50, 50, 100)\n",
        "  X, Y = np.meshgrid(xlist, ylist)\n",
        "  Z = get_Z(X,Y,query_center)\n",
        "  levels = np.arange(0,1,0.1)\n",
        "  cp = ax.contour(X, Y, Z, levels=levels)\n",
        "  ax.clabel(cp, inline=1, fontsize=10)"
      ],
      "execution_count": null,
      "outputs": []
    },
    {
      "cell_type": "code",
      "metadata": {
        "id": "Vneg8vGabZAs"
      },
      "source": [
        "import seaborn as sb\n",
        "\n",
        "def plot_fig(zx, labels_list, zphi, query_center,lim,contour='No'):\n",
        "    labels = []\n",
        "    for i in range(len(labels_list)):\n",
        "        labels.append('C'+str(labels_list[i]))\n",
        "    fig, ax = plt.subplots( figsize=(20, 20))\n",
        "    if contour=='yes':\n",
        "       get_Contour(ax,zx)\n",
        "\n",
        "    sb.scatterplot(ax=ax,x=zx[:,0],y=zx[:,1],hue=labels_list,alpha=0.8,palette='deep')\n",
        "    ax.set(ylim=lim)\n",
        "    ax.set(xlim=lim)\n",
        "\n",
        "    # ax.scatter(zx[:,0], zx[:,1], alpha=0.8, c=labels, facecolors='none', s=8)\n",
        "    # for d in range(len(labels_list)):\n",
        "    #  score = rounded_normalized_all_rscores[doc_ids[d]].item()\n",
        "    #  if(score>0.7 and score<0.9):\n",
        "    #   ax.text(zx[d,0],zx[d,1], str(round(score, 3) ) )\n",
        "\n",
        "    # ax.text(query_center[0],query_center[1], 'X' ,c='black')\n",
        "    # ax.text(0,0, 'X' ,c='black')\n",
        "    ax.scatter(zphi[:, 0], zphi[:, 1], alpha=1.0,  edgecolors='black', facecolors='none', s=30)\n",
        "\n",
        "    for indx, topic in enumerate(zphi):\n",
        "        ax.text(zphi[indx, 0], zphi[indx, 1], 'topic'+str(indx))"
      ],
      "execution_count": null,
      "outputs": []
    },
    {
      "cell_type": "code",
      "metadata": {
        "id": "yx1pgbyn0qhe"
      },
      "source": [
        "def print_Topics():\n",
        "  print(\"---\"*10)\n",
        "  topword_topics = get_topwords(beta, id_vocab)\n",
        "  topword_topics_list=[]\n",
        "  for topwords in topword_topics:\n",
        "      topword_topics_list.append(topwords.split())\n",
        "      print(topwords)\n",
        "  print(\"---\"*10)"
      ],
      "execution_count": null,
      "outputs": []
    },
    {
      "cell_type": "code",
      "metadata": {
        "cellView": "form",
        "id": "wiFv_tOVZx8x"
      },
      "source": [
        "#@title Previous Contour Function\n",
        "def get_Z(X,Y,query_center):\n",
        "  norms = torch.zeros(X.shape)\n",
        "  Z = torch.zeros(X.shape)\n",
        "\n",
        "  for i in range(X.shape[0]):\n",
        "    for j in range(X.shape[0]):\n",
        "      v = torch.tensor([X[i][j],Y[i][j]])\n",
        "\n",
        "      norms[i][j] = torch.norm(v)\n",
        "      Z[i][j]=torch.exp(-0.5 * (torch.pow(norms[i][j],2))/mu_div)\n",
        "      # Z[i][j]=1.0/(1 + torch.pow(norms[i][j],2)/mu_div)\n",
        "  return Z"
      ],
      "execution_count": null,
      "outputs": []
    },
    {
      "cell_type": "code",
      "metadata": {
        "id": "h2DrizcsH104"
      },
      "source": [
        "def get_Z(X,Y):\n",
        "  norms = torch.zeros(X.shape)\n",
        "  Z = torch.zeros(X.shape)\n",
        "\n",
        "  for i in range(X.shape[0]):\n",
        "    for j in range(X.shape[0]):\n",
        "      v = torch.tensor([X[i][j],Y[i][j]])\n",
        "      norms[i][j] = torch.norm(v)\n",
        "      Z[i][j]=torch.exp(-0.5 * (torch.pow(norms[i][j],2))/mu_div)\n",
        "  return Z"
      ],
      "execution_count": null,
      "outputs": []
    },
    {
      "cell_type": "code",
      "metadata": {
        "id": "hRLLNAyXZx81"
      },
      "source": [
        "def get_Contour(ax,x_list,lx,ly,space):\n",
        "  xlist = np.linspace(lx, ly, space)\n",
        "  ylist = np.linspace(lx, ly, space)\n",
        "  X, Y = np.meshgrid(xlist, ylist)\n",
        "  Z = get_Z(X,Y)\n",
        "  levels = np.arange(0,1,0.1)\n",
        "  cp = ax.contour(X, Y, Z, levels=levels)\n",
        "  ax.clabel(cp, inline=1, fontsize=10)"
      ],
      "execution_count": null,
      "outputs": []
    },
    {
      "cell_type": "markdown",
      "metadata": {
        "id": "jXFBuugDbXL7"
      },
      "source": [
        "# **Plots, Topics & Visualization**"
      ]
    },
    {
      "cell_type": "code",
      "metadata": {
        "id": "X3zflgFrcCAt"
      },
      "source": [
        "plot_loss(recon_arr,\"recon_loss\")"
      ],
      "execution_count": null,
      "outputs": []
    },
    {
      "cell_type": "code",
      "metadata": {
        "id": "rBaAuEapcGUL"
      },
      "source": [
        "model.eval()\n",
        "x_list = []\n",
        "phi_list = []\n",
        "beta_list = []\n",
        "labels_list = []\n",
        "doc_ids = []\n",
        "zx_phi_list=[]\n",
        "\n",
        "with torch.no_grad():\n",
        "    for batch_ndx in all_indices:\n",
        "        input_w = tensor_train_w[batch_ndx].to(device)\n",
        "        labels = train_label[batch_ndx]\n",
        "\n",
        "        relevant_scores = rounded_normalized_all_rscores[batch_ndx].to(device).unsqueeze(-1)\n",
        "\n",
        "        labels_list.extend(labels)\n",
        "        z, recon_v, zx, zx_phi = model(input_w, relevant_scores, compute_loss=False)\n",
        "        zx = zx.view(-1, num_coordinate).data.detach().cpu().numpy()\n",
        "        zx_phi = zx_phi.view(-1, num_topic).data.detach().cpu().numpy()\n",
        "        zx_phi_list.extend(zx_phi)\n",
        "        x_list.extend(zx)\n",
        "        doc_ids.extend(batch_ndx)\n",
        "\n",
        "    x_list = np.array(x_list)\n",
        "\n",
        "    beta = model.decoder.weight.data.cpu().numpy().T#\n",
        "    zphi = model.decoder_phi_bn(model.centres).data.cpu().numpy()\n",
        "    query_center = model.query_center.data.cpu().numpy()"
      ],
      "execution_count": null,
      "outputs": []
    },
    {
      "cell_type": "markdown",
      "metadata": {
        "id": "uBecXbW4amm2"
      },
      "source": [
        "#Stop here!!"
      ]
    },
    {
      "cell_type": "code",
      "metadata": {
        "id": "PHXaKHiuapB1"
      },
      "source": [
        "Stop here!!!!!"
      ],
      "execution_count": null,
      "outputs": []
    },
    {
      "cell_type": "markdown",
      "metadata": {
        "id": "EfY0rA4xZJQN"
      },
      "source": [
        "# Radius Model (Regions)"
      ]
    },
    {
      "cell_type": "code",
      "metadata": {
        "id": "kugqlFYXA1kv"
      },
      "source": [
        "# vals,indexes = torch.sort(normalized_all_rscores)\n",
        "# region_indexes = torch.ones(normalized_all_rscores.shape) * 5\n",
        "# split_idx = int((max(indexes)+1)/num_div)\n",
        "# for i in range(num_div-1):\n",
        "#   for j in range(i*split_idx,(i+1)*split_idx):\n",
        "#     region_indexes[indexes[j]] = i+1"
      ],
      "execution_count": null,
      "outputs": []
    },
    {
      "cell_type": "code",
      "metadata": {
        "id": "59zA1wSunT-g"
      },
      "source": [
        "# num_div = 5\n",
        "# def get_regions_indexes(num_div,normalized_all_rscores):\n",
        "#   rounded_normalized_all_rscores =  torch.round(normalized_all_rscores*(num_div))/(num_div)\n",
        "#   score_boundaries = rounded_normalized_all_rscores.unique()\n",
        "#   region_indexes = torch.zeros(normalized_all_rscores.shape)\n",
        "#   for i in range(len(score_boundaries)-1):\n",
        "#     for r in range(len(normalized_all_rscores)):\n",
        "#       if normalized_all_rscores[r] > score_boundaries[i] and normalized_all_rscores[r] <= score_boundaries[i+1]:\n",
        "#         region_indexes[r] = i+1\n",
        "#       else :\n",
        "#         continue\n",
        "#   return score_boundaries,region_indexes,rounded_normalized_all_rscores"
      ],
      "execution_count": null,
      "outputs": []
    },
    {
      "cell_type": "code",
      "metadata": {
        "id": "i5p07lTlntCl"
      },
      "source": [
        "# score_boundaries,region_indexes,rounded_normalized_all_rscores = get_regions_indexes(num_div,normalized_all_rscores)"
      ],
      "execution_count": null,
      "outputs": []
    },
    {
      "cell_type": "code",
      "metadata": {
        "id": "LnlKqOCLoPDx"
      },
      "source": [
        "# from IPython.display import display\n",
        "# display(score_boundaries,region_indexes,normalized_all_rscores)\n",
        "# display('regions: ',region_indexes.unique())"
      ],
      "execution_count": null,
      "outputs": []
    },
    {
      "cell_type": "code",
      "metadata": {
        "id": "4l6-mCK8Z07d"
      },
      "source": [
        "# relv_r_indexes = (num_div+1 - region_indexes)\n",
        "# relv_indexes = torch.zeros(tensor_train_w.shape[0],num_div)\n",
        "# for r in range(tensor_train_w.shape[0]):\n",
        "#   relv_indexes[r][int(relv_r_indexes[r].item())-1] = 1\n",
        "# relv_r_indexes,relv_indexes"
      ],
      "execution_count": null,
      "outputs": []
    },
    {
      "cell_type": "code",
      "metadata": {
        "id": "ylYdScAGZw8A"
      },
      "source": [
        "# plt.hist(region_indexes)"
      ],
      "execution_count": null,
      "outputs": []
    },
    {
      "cell_type": "markdown",
      "metadata": {
        "id": "7_6ifWD8l8WA"
      },
      "source": [
        "\n",
        "\n",
        "\n",
        "#WordCloud\n",
        "\n"
      ]
    },
    {
      "cell_type": "code",
      "metadata": {
        "id": "h8Q7B-0Apmz0"
      },
      "source": [
        "!pip install wordcloud"
      ],
      "execution_count": null,
      "outputs": []
    },
    {
      "cell_type": "code",
      "metadata": {
        "id": "9KNJAR_ifvVv"
      },
      "source": [
        "word_list=data_20news_preprocessed[j].split()\n",
        "print(word_list)\n",
        "flatten_all_words"
      ],
      "execution_count": null,
      "outputs": []
    },
    {
      "cell_type": "code",
      "metadata": {
        "id": "F-0-_FjTptoz"
      },
      "source": [
        "import pandas as pd\n",
        "from wordcloud import WordCloud, STOPWORDS\n",
        "from matplotlib import pyplot as plt\n",
        "\n",
        "comment_words = ''\n",
        "topic_topword_comment = ''\n",
        "\n",
        "for val in top_10_docs:\n",
        "    comment_words += \" \".join(val)+\" \"\n",
        "\n",
        "for topword_topic in topword_topics_list:\n",
        "    topic_topword_comment += \" \".join(topword_topic)+\" \"\n",
        "\n",
        "wordcloud_top10_docs = WordCloud(width = 800, height = 800,\n",
        "                background_color ='white',\n",
        "                stopwords = stopwords,\n",
        "                min_font_size = 10).generate(comment_words)\n",
        "\n",
        "wordcloud_topword_topics = WordCloud(width = 800, height = 800,\n",
        "                background_color ='white',\n",
        "                stopwords = stopwords,\n",
        "                min_font_size = 10).generate(topic_topword_comment)\n",
        "\n",
        "f = plt.figure(1,figsize = (8, 8))\n",
        "plt.title('Words in Top Relevant 10 Docs')\n",
        "plt.axis(\"off\")\n",
        "plt.tight_layout(pad = 3.0)\n",
        "plt.imshow(wordcloud_top10_docs)\n",
        "g = plt.figure(2,figsize = (8, 8))\n",
        "plt.title(\"Top Words in k topics\")\n",
        "plt.axis(\"off\")\n",
        "plt.tight_layout(pad = 3.0)\n",
        "plt.imshow(wordcloud_topword_topics)\n",
        "plt.show()"
      ],
      "execution_count": null,
      "outputs": []
    },
    {
      "cell_type": "markdown",
      "metadata": {
        "id": "2p5lYecYtWFm"
      },
      "source": [
        "#Archive"
      ]
    },
    {
      "cell_type": "code",
      "metadata": {
        "id": "YSN6RiXaXiYq"
      },
      "source": [
        "plt.hist(x=all_rscores.data)\n",
        "\n",
        "\n",
        "from sklearn.preprocessing import MinMaxScaler\n",
        "scaler = MinMaxScaler()\n",
        "normalized_all_rscores = scaler.fit_transform(all_rscores.data.reshape(-1,1))\n",
        "normalized_all_rscores"
      ],
      "execution_count": null,
      "outputs": []
    },
    {
      "cell_type": "code",
      "metadata": {
        "id": "AIKqMyokYnQG"
      },
      "source": [
        "plt.hist(x=normalized_all_rscores)\n",
        "# print(normalized_all_rscores)\n",
        "np.max(normalized_all_rscores.flatten())"
      ],
      "execution_count": null,
      "outputs": []
    },
    {
      "cell_type": "code",
      "metadata": {
        "id": "Zyt072hYrLe9"
      },
      "source": [
        "# with open('neg_log_rscore_arr.txt', 'w') as filehandle:\n",
        "#     for listitem in neg_log_rscore_arr:\n",
        "#         filehandle.write('%s\\n' % listitem)"
      ],
      "execution_count": null,
      "outputs": []
    },
    {
      "cell_type": "code",
      "metadata": {
        "id": "_rbbelM5O9vj"
      },
      "source": [
        "all_words_in_docs=[]\n",
        "\n",
        "def doc_to_words(doc):\n",
        "  word_list=[]\n",
        "  for i in doc:\n",
        "    words = i.split()\n",
        "    word_list.append([w for w in words])\n",
        "  return word_list\n",
        "\n",
        "all_words_in_docs = doc_to_words(data_WoS_preprocessed)"
      ],
      "execution_count": null,
      "outputs": []
    },
    {
      "cell_type": "code",
      "metadata": {
        "id": "gu_wcnuhQ3y2"
      },
      "source": [
        "# data_20news_embedded = []\n",
        "# for word in all_words_in_docs:\n",
        "#   for w in word:\n",
        "#     try:\n",
        "#       type(word2vec_model[w])=='numpy.ndarray'\n",
        "#     except KeyError:\n",
        "#       word.remove(w)\n",
        "#   data_20news_embedded.append(' '.join(word))\n",
        "# # data_20news_embedded"
      ],
      "execution_count": null,
      "outputs": []
    },
    {
      "cell_type": "code",
      "metadata": {
        "id": "rgww2GGBQxlb"
      },
      "source": [
        "def flatten_list(user_list):\n",
        "  return [item for sublist in user_list for item in sublist]\n",
        "flatten_all_words = flatten_list(all_words_in_docs)\n",
        "# # flatten_embedded = flatten_list(data_20news_embedded)\n",
        "# # flatten_embedded"
      ],
      "execution_count": null,
      "outputs": []
    },
    {
      "cell_type": "code",
      "metadata": {
        "id": "xPpZcOA5R_FI"
      },
      "source": [
        "# len(set(flatten_all_words))"
      ],
      "execution_count": null,
      "outputs": []
    },
    {
      "cell_type": "code",
      "metadata": {
        "id": "rqoR2yotPR0y"
      },
      "source": [
        "count=0\n",
        "embeddings = {}\n",
        "\n",
        "for f in flatten_all_words:\n",
        "  try :\n",
        "     embeddings[f] = word2vec_model[f]\n",
        "  except KeyError:\n",
        "    count = count+1\n",
        "print( count / len(flatten_all_words)*100)"
      ],
      "execution_count": null,
      "outputs": []
    },
    {
      "cell_type": "code",
      "metadata": {
        "id": "nmaScPcQ8fFW"
      },
      "source": [
        "save_obj(embeddings,'embeddings_WoS')"
      ],
      "execution_count": null,
      "outputs": []
    },
    {
      "cell_type": "markdown",
      "metadata": {
        "id": "x7aT_AcryygB"
      },
      "source": [
        "> Keyword search in corpus: Returns docs with matching keywords\n"
      ]
    },
    {
      "cell_type": "code",
      "metadata": {
        "id": "yotYgCXX0s96"
      },
      "source": [
        "matching = [s for s in data_20news_preprocessed if \" sport \" in s]\n",
        "matching"
      ],
      "execution_count": null,
      "outputs": []
    },
    {
      "cell_type": "code",
      "metadata": {
        "id": "ZFiMVsBNmeXC"
      },
      "source": [
        "# !wget https://www.dropbox.com/s/yg1zf6hel0zxt3i/data_20news_preprocessed_labels.pkl\n",
        "# !wget https://www.dropbox.com/s/5drfxhzxz8nsy2l/embeddings_20news.pkl\n",
        "# !wget https://www.dropbox.com/s/756dcuil3mjdgus/data_20news_preprocessed.pkl"
      ],
      "execution_count": null,
      "outputs": []
    },
    {
      "cell_type": "markdown",
      "metadata": {
        "id": "dk4oWni-BmyK"
      },
      "source": [
        "# TFIDF"
      ]
    },
    {
      "cell_type": "code",
      "metadata": {
        "id": "-Cn3LWv9teLx"
      },
      "source": [
        "def cosine_similarity_desm_docs_tfidf(query_list, doc, embeddings):\n",
        "\n",
        "  sim_list = torch.zeros(len(doc))\n",
        "  index = 0\n",
        "\n",
        "  for d in doc:\n",
        "    doc_bar = torch.zeros(300)\n",
        "    words = d.split()\n",
        "    for word in words:\n",
        "      doc_bar.add_(torch.from_numpy(embeddings[word])/torch.norm(torch.from_numpy(embeddings[word])))\n",
        "    doc_bar = doc_bar / len(words)\n",
        "    sum = 0\n",
        "\n",
        "    for q in query_list:\n",
        "      sum += torch.dot(torch.from_numpy(embeddings[q]) , doc_bar)/(torch.norm(torch.from_numpy(embeddings[q]))*torch.norm(doc_bar))\n",
        "    sum = sum/len(query_list)\n",
        "    sim_list[index]=sum\n",
        "    index = index + 1\n",
        "\n",
        "  return sim_list"
      ],
      "execution_count": null,
      "outputs": []
    },
    {
      "cell_type": "code",
      "metadata": {
        "id": "o96bc037wCXv"
      },
      "source": [
        "tfidfvectorizer = TfidfVectorizer(min_df=5,dtype=np.float32,use_idf=True)\n",
        "tfIdf = tfidfvectorizer.fit_transform(data_preprocessed)\n",
        "df_tfidf = pd.DataFrame(tfIdf[0].T.todense(), index=tfidfvectorizer.get_feature_names(), columns=[\"TF-IDF\"])\n",
        "# df_tfidf = df_tfidf.sort_values('TF-IDF', ascending=False)\n",
        "df_tfidf"
      ],
      "execution_count": null,
      "outputs": []
    },
    {
      "cell_type": "code",
      "metadata": {
        "id": "WSxjafLpVnPz"
      },
      "source": [
        "list(vocab.values())[0]"
      ],
      "execution_count": null,
      "outputs": []
    },
    {
      "cell_type": "code",
      "metadata": {
        "id": "6OA8tbyvV-3E"
      },
      "source": [
        "df_tfidf[]"
      ],
      "execution_count": null,
      "outputs": []
    },
    {
      "cell_type": "code",
      "metadata": {
        "id": "lwVGOvzM93yh"
      },
      "source": [
        "df_doc_term_matrix = pd.DataFrame(tfIdf.toarray().transpose(),index=tfidfvectorizer.get_feature_names())\n",
        "df_doc_term_matrix_sum = df_doc_term_matrix.sum(axis=0)"
      ],
      "execution_count": null,
      "outputs": []
    },
    {
      "cell_type": "code",
      "metadata": {
        "id": "xWNkoElfS0Xc"
      },
      "source": [
        "df_doc_term_matrix"
      ],
      "execution_count": null,
      "outputs": []
    },
    {
      "cell_type": "code",
      "metadata": {
        "id": "y8O9PBVI-k_u"
      },
      "source": [
        "df_doc_term_matrix_sum.sort_values(ascending=True)"
      ],
      "execution_count": null,
      "outputs": []
    },
    {
      "cell_type": "markdown",
      "metadata": {
        "id": "x12xv1cuJLiR"
      },
      "source": [
        "\n",
        "# Google Pre-trained Model & Word2Vec | Data preprocessing\n",
        "\n"
      ]
    },
    {
      "cell_type": "code",
      "metadata": {
        "id": "L2C975-2JLiW"
      },
      "source": [
        "# !wget -c \"https://s3.amazonaws.com/dl4j-distribution/GoogleNews-vectors-negative300.bin.gz\""
      ],
      "execution_count": null,
      "outputs": []
    },
    {
      "cell_type": "code",
      "metadata": {
        "id": "b1uS0y3lJLiZ"
      },
      "source": [
        "# start=time()\n",
        "# !gunzip GoogleNews-vectors-negative300.bin.gz\n",
        "# print('Cell took %.2f seconds to run.' % (time() - start))"
      ],
      "execution_count": null,
      "outputs": []
    },
    {
      "cell_type": "code",
      "metadata": {
        "id": "RUgNS5EcJLib"
      },
      "source": [
        "# from gensim import models\n",
        "# word2vec_model = models.KeyedVectors.load_word2vec_format(\n",
        "#     'C:/Users/sanuj/Documents/FoTo/GoogleNews-vectors-negative300.bin/GoogleNews-vectors-negative300.bin', binary=True)\n",
        "# # print('Cell took %.2f seconds to run.' % (time() - start))"
      ],
      "execution_count": null,
      "outputs": []
    },
    {
      "cell_type": "code",
      "metadata": {
        "id": "eZ34cvzkJLid"
      },
      "source": [
        "# data_WoS_read = open(\"C:/Users/sanuj/Documents/FoTo/data/20News\", \"r\")\n",
        "# targets_WoS_read = open(\"C:/Users/sanuj/Documents/FoTo/data/WebOfScience/WOS46985/YL1.txt\", \"r\")\n",
        "# data_WoS = data_WoS_read.readlines()\n",
        "# targets_WoS = targets_WoS_read.readlines()"
      ],
      "execution_count": null,
      "outputs": []
    },
    {
      "cell_type": "code",
      "metadata": {
        "id": "BJikC_dbK4uJ"
      },
      "source": [
        "# data_WoS = [d.strip() for d in data_WoS]\n",
        "# targets_WoS = [int(d.strip()) for d in targets_WoS]"
      ],
      "execution_count": null,
      "outputs": []
    },
    {
      "cell_type": "code",
      "metadata": {
        "id": "fxv-8bIBM9e7"
      },
      "source": [
        "# labels_dict ={\n",
        "#     0 : \"Computer Science\",\n",
        "#     1 : \"Electrical Engineering\",\n",
        "#     2 : \"Psychology\",\n",
        "#     3 : \"Mechanical Engineering\",\n",
        "#     4 : \"Civil Engineering\",\n",
        "#     5 : \"Medical Science\",\n",
        "#     6 : \"Biochemistry\"}"
      ],
      "execution_count": null,
      "outputs": []
    },
    {
      "cell_type": "code",
      "metadata": {
        "id": "bFjzgbd1NfJ2"
      },
      "source": [
        "# targets_WoS_labels = [labels_dict[t] for t in targets_WoS]"
      ],
      "execution_count": null,
      "outputs": []
    },
    {
      "cell_type": "code",
      "metadata": {
        "cellView": "both",
        "id": "113Pr2zIJLig"
      },
      "source": [
        "# data_WoS_preprocessed = []\n",
        "# data_WoS_labels = []\n",
        "\n",
        "# for i in range(len(data_WoS)):\n",
        "#   doc = preprocessing_nonstem(data_WoS[i],word2vec_model)\n",
        "#   if(doc!=''):\n",
        "#     data_WoS_preprocessed.append(doc)\n",
        "#     data_WoS_labels.append(targets_WoS_labels[i])"
      ],
      "execution_count": null,
      "outputs": []
    },
    {
      "cell_type": "code",
      "metadata": {
        "id": "By9EDGuuJLii"
      },
      "source": [
        "# save_obj(data_WoS_preprocessed,'data_WoS_preprocessed')\n",
        "# save_obj(data_WoS_labels,'data_WoS_labels')"
      ],
      "execution_count": null,
      "outputs": []
    }
  ]
}