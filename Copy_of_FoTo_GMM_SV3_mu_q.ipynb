{
  "nbformat": 4,
  "nbformat_minor": 0,
  "metadata": {
    "accelerator": "GPU",
    "colab": {
      "provenance": [],
      "collapsed_sections": [
        "TeQ-X4wx45iA",
        "dZdh-PWjaqzf",
        "oC_2iVJ0RxWY",
        "tFms0ZiwR5TF",
        "XwcrBK2pe4Qc",
        "4AEuaG5erxy7",
        "K0zQCuyY_kaq",
        "TPfQ0IUnPlfi"
      ],
      "include_colab_link": true
    },
    "kernelspec": {
      "display_name": "Python 3",
      "name": "python3"
    }
  },
  "cells": [
    {
      "cell_type": "markdown",
      "metadata": {
        "id": "view-in-github",
        "colab_type": "text"
      },
      "source": [
        "<a href=\"https://colab.research.google.com/github/sanujsriv/_topic_models/blob/FoTo/Copy_of_FoTo_GMM_SV3_mu_q.ipynb\" target=\"_parent\"><img src=\"https://colab.research.google.com/assets/colab-badge.svg\" alt=\"Open In Colab\"/></a>"
      ]
    },
    {
      "cell_type": "code",
      "metadata": {
        "id": "GWcqnMCHQ04d"
      },
      "source": [
        "rm -r *.*"
      ],
      "execution_count": null,
      "outputs": []
    },
    {
      "cell_type": "code",
      "metadata": {
        "id": "u__LrMC9JZZ7"
      },
      "source": [
        "down_count=0"
      ],
      "execution_count": null,
      "outputs": []
    },
    {
      "cell_type": "markdown",
      "metadata": {
        "id": "TeQ-X4wx45iA"
      },
      "source": [
        "# **Download Data Functions(Documents)**"
      ]
    },
    {
      "cell_type": "code",
      "metadata": {
        "id": "elQ7pces4wBW",
        "cellView": "form"
      },
      "source": [
        "#@title Download Data Function\n",
        "def download_data(data):\n",
        "  data = data.lower()\n",
        "  if data == 'reuters':\n",
        "    download_reuters()\n",
        "  elif data == 'twenty_news':\n",
        "    download_twenty_news()\n",
        "  elif data == 'crowdgender':\n",
        "   download_unzip_crowdgender()\n",
        "  elif data == 'bbc':\n",
        "   download_unzip_bbc()\n",
        "  elif data == 'webkb':\n",
        "    download_webkb()\n",
        "  elif data == 'wos':\n",
        "    download_WoS()"
      ],
      "execution_count": null,
      "outputs": []
    },
    {
      "cell_type": "code",
      "metadata": {
        "id": "soLvVis5433m"
      },
      "source": [
        "def download_twenty_news():\n",
        "  !wget https://www.dropbox.com/s/09y9y1h0xk3cxaj/embeddings_twentynews.pkl\n",
        "  !wget https://www.dropbox.com/s/ewv3vcwgll0r8a7/data_twentynews_labels.pkl\n",
        "  !wget https://www.dropbox.com/s/chpjn9lzr7rmn2k/fixed_data_twentynews_preprocessed.pkl"
      ],
      "execution_count": null,
      "outputs": []
    },
    {
      "cell_type": "code",
      "metadata": {
        "id": "xtI_f7qHCr9e",
        "cellView": "both"
      },
      "source": [
        "def download_reuters():\n",
        "  !wget https://www.dropbox.com/s/8khmuj31il8zgkp/data_reuters_labels.pkl\n",
        "  !wget https://www.dropbox.com/s/bgc1ht0jsyjed6s/embeddings_reuters.pkl\n",
        "  !wget https://www.dropbox.com/s/9fk30bjzeefvhgl/data_reuters_preprocessed.pkl"
      ],
      "execution_count": null,
      "outputs": []
    },
    {
      "cell_type": "code",
      "metadata": {
        "id": "iN4Hx3KwtKG3"
      },
      "source": [
        "def download_webkb():\n",
        "  !wget https://www.dropbox.com/s/wz88fk42r0viqvo/data_webkb_preprocessed.pkl\n",
        "  !wget https://www.dropbox.com/s/8oi5qactwrar1ad/data_webkb_labels.pkl\n",
        "  !wget https://www.dropbox.com/s/go7r4h39q6l01d5/embeddings_webkb.pkl"
      ],
      "execution_count": null,
      "outputs": []
    },
    {
      "cell_type": "code",
      "metadata": {
        "id": "Yo_CWo9pslxT"
      },
      "source": [
        "def download_WoS():\n",
        "  !wget https://www.dropbox.com/s/c6wlr148lhwsbaz/embeddings_wos.pkl\n",
        "  !wget https://www.dropbox.com/s/j96061ln6oeejkf/data_wos_preprocessed.pkl\n",
        "  !wget https://www.dropbox.com/s/kiffa4nidkjt7wi/data_wos_labels.pkl"
      ],
      "execution_count": null,
      "outputs": []
    },
    {
      "cell_type": "code",
      "metadata": {
        "id": "pciXVjzayvYx"
      },
      "source": [
        "import os\n",
        "def download_unzip_crowdgender():\n",
        "  !wget https://www.dropbox.com/s/trz5uph29b0t0eg/data_crowder.zip\n",
        "  os.system('unzip data_crowder.zip')"
      ],
      "execution_count": null,
      "outputs": []
    },
    {
      "cell_type": "code",
      "metadata": {
        "id": "mKqRtiER8xmm"
      },
      "source": [
        "def download_unzip_bbc():\n",
        "  !wget https://www.dropbox.com/s/2m1gbuvk1lz151j/data_bbc-headlines_abstract.zip\n",
        "  os.system('unzip data_bbc-headlines_abstract.zip')"
      ],
      "execution_count": null,
      "outputs": []
    },
    {
      "cell_type": "markdown",
      "metadata": {
        "id": "dZdh-PWjaqzf"
      },
      "source": [
        "# Downloading Data (Run Once)"
      ]
    },
    {
      "cell_type": "code",
      "metadata": {
        "id": "3M4GBQ6PSoef"
      },
      "source": [
        "d_data= 'bbc' # reuters, twenty_news, webkb, wos, crowdgender,bbc"
      ],
      "execution_count": null,
      "outputs": []
    },
    {
      "cell_type": "code",
      "metadata": {
        "id": "TpmIYu2Fatu8",
        "colab": {
          "base_uri": "https://localhost:8080/"
        },
        "outputId": "404c643e-fbdb-4628-dd52-c1322727346e"
      },
      "source": [
        "#### Data Downloading ####\n",
        "if down_count == 0:\n",
        "  download_data(d_data) ### Run Once\n",
        "  down_count =1"
      ],
      "execution_count": null,
      "outputs": [
        {
          "output_type": "stream",
          "text": [
            "--2021-05-17 04:40:53--  https://www.dropbox.com/s/2m1gbuvk1lz151j/data_bbc-headlines_abstract.zip\n",
            "Resolving www.dropbox.com (www.dropbox.com)... 162.125.1.18, 2620:100:601a:18::a27d:712\n",
            "Connecting to www.dropbox.com (www.dropbox.com)|162.125.1.18|:443... connected.\n",
            "HTTP request sent, awaiting response... 301 Moved Permanently\n",
            "Location: /s/raw/2m1gbuvk1lz151j/data_bbc-headlines_abstract.zip [following]\n",
            "--2021-05-17 04:40:53--  https://www.dropbox.com/s/raw/2m1gbuvk1lz151j/data_bbc-headlines_abstract.zip\n",
            "Reusing existing connection to www.dropbox.com:443.\n",
            "HTTP request sent, awaiting response... 302 Found\n",
            "Location: https://uc78c5d06fb9adfab7f730191618.dl.dropboxusercontent.com/cd/0/inline/BOqtJx6H2L6ro_F_-3ymwQjVhdZ2z4H9vO_7gSrGIvcv0UYHxXq1GV9nAK5ixNSAwMzwWpowRAvdzJSxXvfHiMATD75A-0nmEDgmMpN57CoDfop4dCpImi1nUHzhiPqrhktHqZlOgmImrobRyJXRg-2K/file# [following]\n",
            "--2021-05-17 04:40:53--  https://uc78c5d06fb9adfab7f730191618.dl.dropboxusercontent.com/cd/0/inline/BOqtJx6H2L6ro_F_-3ymwQjVhdZ2z4H9vO_7gSrGIvcv0UYHxXq1GV9nAK5ixNSAwMzwWpowRAvdzJSxXvfHiMATD75A-0nmEDgmMpN57CoDfop4dCpImi1nUHzhiPqrhktHqZlOgmImrobRyJXRg-2K/file\n",
            "Resolving uc78c5d06fb9adfab7f730191618.dl.dropboxusercontent.com (uc78c5d06fb9adfab7f730191618.dl.dropboxusercontent.com)... 162.125.1.15, 2620:100:601a:15::a27d:70f\n",
            "Connecting to uc78c5d06fb9adfab7f730191618.dl.dropboxusercontent.com (uc78c5d06fb9adfab7f730191618.dl.dropboxusercontent.com)|162.125.1.15|:443... connected.\n",
            "HTTP request sent, awaiting response... 302 Found\n",
            "Location: /cd/0/inline2/BOoCTvKVh8GfcFOBudxqoab2WnIRALBrfCnx40IIyhUCHyCpmzn3GeTs50cU2V1l1f-aAcQmPBnXqNIFFuLIQd2DXv8gGfAHXMdZiuoY_jlTfvtJp3CTT5FiizmjsFKHTR7bKSdsH_NFa-V-3hQzn-bGK6qbo9ApKgP1VjiJLwAThhU_mstfX2dWrRruneFDrElN9kuNY3rJS25wLv1GSpq7XaP57X3sP0TgFcGxcOfcTsqZRRsdLLyp-TqMvpYsLlk3M5RLddxFM0SMx13kSDFBoIUFcdDZXjBHL0ZoA7Ntl1FTn_TZgBhFuj3RjrnY-JA2_zy-XLprMD6ZciF36XfCB_h8IEMRBRSC76hP9CPmPspraqXYg73cdqHfxkfrMqM/file [following]\n",
            "--2021-05-17 04:40:53--  https://uc78c5d06fb9adfab7f730191618.dl.dropboxusercontent.com/cd/0/inline2/BOoCTvKVh8GfcFOBudxqoab2WnIRALBrfCnx40IIyhUCHyCpmzn3GeTs50cU2V1l1f-aAcQmPBnXqNIFFuLIQd2DXv8gGfAHXMdZiuoY_jlTfvtJp3CTT5FiizmjsFKHTR7bKSdsH_NFa-V-3hQzn-bGK6qbo9ApKgP1VjiJLwAThhU_mstfX2dWrRruneFDrElN9kuNY3rJS25wLv1GSpq7XaP57X3sP0TgFcGxcOfcTsqZRRsdLLyp-TqMvpYsLlk3M5RLddxFM0SMx13kSDFBoIUFcdDZXjBHL0ZoA7Ntl1FTn_TZgBhFuj3RjrnY-JA2_zy-XLprMD6ZciF36XfCB_h8IEMRBRSC76hP9CPmPspraqXYg73cdqHfxkfrMqM/file\n",
            "Reusing existing connection to uc78c5d06fb9adfab7f730191618.dl.dropboxusercontent.com:443.\n",
            "HTTP request sent, awaiting response... 200 OK\n",
            "Length: 3770959 (3.6M) [application/zip]\n",
            "Saving to: ‘data_bbc-headlines_abstract.zip’\n",
            "\n",
            "data_bbc-headlines_ 100%[===================>]   3.60M  23.6MB/s    in 0.2s    \n",
            "\n",
            "2021-05-17 04:40:54 (23.6 MB/s) - ‘data_bbc-headlines_abstract.zip’ saved [3770959/3770959]\n",
            "\n"
          ],
          "name": "stdout"
        }
      ]
    },
    {
      "cell_type": "markdown",
      "metadata": {
        "id": "oC_2iVJ0RxWY"
      },
      "source": [
        "#**0. Just Run these..**"
      ]
    },
    {
      "cell_type": "code",
      "metadata": {
        "id": "gn9JFNO4qjuf",
        "cellView": "form"
      },
      "source": [
        "# @title Imports\n",
        "# from sympy.stats import RaisedCosine, density\n",
        "import torch\n",
        "from sklearn.preprocessing import MinMaxScaler\n",
        "from matplotlib import pyplot as plt\n",
        "import pandas as pd\n",
        "from torch import Tensor\n",
        "from torch import nn\n",
        "import re\n",
        "from time import time\n",
        "import numpy as np\n",
        "import collections\n",
        "import gc\n",
        "from sklearn.feature_extraction.text import CountVectorizer\n",
        "import torch.nn\n",
        "cos_sim = nn.CosineSimilarity(dim=-1,eps=1e-08)\n",
        "# from nltk.corpus import stopwords"
      ],
      "execution_count": null,
      "outputs": []
    },
    {
      "cell_type": "code",
      "metadata": {
        "id": "iE-bBrpfHd5C",
        "cellView": "form"
      },
      "source": [
        "#@title torch imports\n",
        "import torch\n",
        "import torch.nn as nn\n",
        "import torch.nn.functional as F\n",
        "import torch.optim as optim\n",
        "from torch.nn import Parameter\n",
        "import math"
      ],
      "execution_count": null,
      "outputs": []
    },
    {
      "cell_type": "code",
      "metadata": {
        "id": "EivGqJ7vBoAo",
        "cellView": "form"
      },
      "source": [
        "#@title function : load / save pickle_obj\n",
        "import pickle\n",
        "\n",
        "def save_obj(obj, name):\n",
        "    with open(name + '.pkl', 'wb') as f:\n",
        "        pickle.dump(obj, f, pickle.HIGHEST_PROTOCOL)\n",
        "\n",
        "def load_obj(name):\n",
        "    with open(name + '.pkl', 'rb') as f:\n",
        "        return pickle.load(f)"
      ],
      "execution_count": null,
      "outputs": []
    },
    {
      "cell_type": "code",
      "metadata": {
        "id": "wUua0C3EUnLc",
        "cellView": "form"
      },
      "source": [
        "#@title Data Loading functions..\n",
        "\n",
        "def load_bbc():\n",
        "  data_preprocessed = load_obj('doc_preprocessed_nonzeroes')\n",
        "  data_preprocessed_labels = load_obj(\"doc_preprocessed_nonzeroes_labels\")\n",
        "  embeddings = load_obj('embeddings')\n",
        "  return data_preprocessed,data_preprocessed_labels,embeddings,load_bbc.__name__\n",
        "\n",
        "def load_crowdgender():\n",
        "  data_preprocessed = load_obj('data_crowdgender_preprocessed')\n",
        "  data_preprocessed_labels = load_obj(\"data_crowdgender_labels\")\n",
        "  embeddings = load_obj('embeddings_crowdgender')\n",
        "  return data_preprocessed,data_preprocessed_labels,embeddings,load_crowdgender.__name__\n",
        "\n",
        "def load_reuters():\n",
        "  embeddings = load_obj('embeddings_reuters')\n",
        "  data_preprocessed = load_obj('data_reuters_preprocessed')\n",
        "  data_preprocessed_labels = load_obj(\"data_reuters_labels\")\n",
        "  return data_preprocessed,data_preprocessed_labels,embeddings,load_reuters.__name__\n",
        "\n",
        "def new_50_twenty_news():\n",
        "  embeddings = load_obj('50_embeddings_twentynews_docs')\n",
        "  data_preprocessed = load_obj('50_data_twentynews_preprocessed_docs')\n",
        "  data_preprocessed_labels = load_obj(\"50_data_twentynews_labels_docs\")\n",
        "  return data_preprocessed,data_preprocessed_labels,embeddings,new_50_twenty_news.__name__\n",
        "\n",
        "def new_50_twenty_news_sent():\n",
        "  embeddings = load_obj('50_embeddings_twentynews_docs')\n",
        "  data_preprocessed = load_obj('50_data_twentynews_preprocessed_sent')\n",
        "  data_preprocessed_labels = load_obj(\"50_data_twentynews_labels_sent\")\n",
        "  doc_sent_id = load_obj('50_doc_id_sent')\n",
        "  return data_preprocessed,data_preprocessed_labels,embeddings,doc_sent_id,new_50_twenty_news_sent.__name__\n",
        "\n",
        "\n",
        "def load_20News_50():\n",
        "  embeddings = load_obj('50_embeddings_load_20news_docs')\n",
        "  data_preprocessed = load_obj('50_docs_preprocessed')\n",
        "  data_preprocessed_labels = load_obj(\"50_docs_labels\")\n",
        "  return data_preprocessed,data_preprocessed_labels,embeddings,load_20News_50.__name__\n",
        "\n",
        "def load_20News_50_sentences():\n",
        "  embeddings = load_obj('50_embeddings_load_20news_docs')\n",
        "  data_preprocessed = load_obj('50_data_load_20news_sentences_preprocessed')\n",
        "  data_preprocessed_labels = load_obj(\"50_data_load_20news_sentences_labels\")\n",
        "  doc_sent_id = load_obj('50_doc_id_sent_load_20news_sentences')\n",
        "  return data_preprocessed,data_preprocessed_labels,embeddings,doc_sent_id,load_20News_50_sentences.__name__\n",
        "\n",
        "def load_20News():\n",
        "  embeddings = load_obj('embeddings_twentynews')\n",
        "  # data_preprocessed = load_obj('data_twentynews_preprocessed')\n",
        "  data_preprocessed = load_obj('fixed_data_twentynews_preprocessed')\n",
        "  data_preprocessed_labels = load_obj(\"data_twentynews_labels\")\n",
        "  return data_preprocessed,data_preprocessed_labels,embeddings,load_20News.__name__\n",
        "\n",
        "def load_20News_sentences():\n",
        "  embeddings = load_obj('embeddings_twentynews_sent')\n",
        "  data_preprocessed = load_obj('data_twentynews_preprocessed_sent')\n",
        "  data_preprocessed_labels = load_obj(\"data_twentynews_labels_sent\")\n",
        "  doc_sent_id = load_obj('doc_id_sent_twentynews')\n",
        "  return data_preprocessed,data_preprocessed_labels,embeddings,doc_sent_id,load_20News_sentences.__name__\n",
        "\n",
        "def load_20News_reuters():\n",
        "  data_preprocessed = load_obj('data_reuters_preprocessed')\n",
        "  data_preprocessed_labels = load_obj(\"data_reuters_labels\")\n",
        "  embeddings = load_obj('embeddings_reuters')\n",
        "  data_preprocessed.extend(load_obj('data_20News_preprocessed'))\n",
        "  data_preprocessed_labels.extend(load_obj(\"data_20news_preprocessed_labels\"))\n",
        "  embeddings.update(load_obj('embeddings_20news'))\n",
        "  return data_preprocessed,data_preprocessed_labels,embeddings,load_20News_reuters.__name__\n",
        "\n",
        "def load_r52():\n",
        "  data_preprocessed = load_obj('data_r52_preprocessed')\n",
        "  data_preprocessed_labels = load_obj(\"data_r52_labels\")\n",
        "  embeddings = load_obj('embeddings_r52')\n",
        "  return data_preprocessed,data_preprocessed_labels,embeddings,load_r52.__name__\n",
        "\n",
        "def load_WebKb():\n",
        "  data_preprocessed = load_obj('data_webkb_preprocessed')\n",
        "  data_preprocessed_labels = load_obj(\"data_webkb_labels\")\n",
        "  embeddings = load_obj('embeddings_webkb')\n",
        "  return data_preprocessed,data_preprocessed_labels,embeddings,load_WebKb.__name__\n",
        "\n",
        "def load_WoS():\n",
        "  data_preprocessed = load_obj('data_wos_preprocessed')\n",
        "  data_preprocessed_labels = load_obj(\"data_wos_labels\")\n",
        "  embeddings = load_obj('embeddings_wos')\n",
        "  return data_preprocessed,data_preprocessed_labels,embeddings,load_WoS.__name__\n",
        "def load_arXiv():\n",
        "  data_preprocessed = load_obj('data_arxiv_preprocessed')\n",
        "  data_preprocessed_labels = load_obj(\"data_arxiv_labels\")\n",
        "  embeddings = load_obj('embeddings_arxiv')\n",
        "  return data_preprocessed,data_preprocessed_labels,embeddings,load_arXiv.__name__"
      ],
      "execution_count": null,
      "outputs": []
    },
    {
      "cell_type": "code",
      "metadata": {
        "id": "8R4SK4-e6Aec"
      },
      "source": [
        "# @title get_keywords\n",
        "def get_keywords(data):\n",
        "  keywords_arxiv = ['molecular ','stimulation','liquid','fluid']\n",
        "  keywords_webkb = ['student','department','india']\n",
        "  keywords_r52 = ['mutual','fund','market','money']\n",
        "\n",
        "  keywords_WoS = ['pediatric','protein','clone']\n",
        "  keywords_20News_Reuters = ['oil','price','opec','bpd','barrel','saudi','production','mln','crude']\n",
        "\n",
        "  # keywords_reuters = ['company', 'analyst', 'offer', 'pct', 'takeover', 'merger', 'record', 'dividend', 'pay', 'stock']\n",
        "  # keywords_reuters = ['stock', 'dividend', 'inc']\n",
        "  # keywords_reuters = ['oil','crude','ship']\n",
        "  # keywords =['stock']\n",
        "  keywords_reuters = ['usa','america']\n",
        "  # keywords_reuters = ['oil','country']\n",
        "  # keywords_reuters = ['stock','interest']\n",
        "  # keywords_reuters = ['children','kids','young']\n",
        "  # keywords_reuters =['pct', 'takeover', 'merger']\n",
        "  # keywords_reuters = ['oil','tanker','ship']\n",
        "  keywords_bbc = ['','game','baseball']\n",
        "\n",
        "  keywords_crowdgender = ['housewife','girl','beautiful','blonde']\n",
        "\n",
        "  keywords_20News = ['sport','game','baseball']\n",
        "  # keywords_20News = ['looking' ,'add', 'voice' ,'input', 'capability', 'user', 'interface']\n",
        "  keywords_bbc=['strike','nuclear','terror']\n",
        "  data = data.lower()\n",
        "  if data=='reuters': keywords = keywords_reuters\n",
        "  elif data=='twenty_news':keywords = keywords_20News\n",
        "  elif data=='crowdgender':keywords = keywords_crowdgender\n",
        "  elif data=='webkb':keywords = keywords_webkb\n",
        "  elif data=='bbc':keywords = keywords_bbc\n",
        "  else:\n",
        "    print('keyword list not found!!!')\n",
        "  return keywords"
      ],
      "execution_count": null,
      "outputs": []
    },
    {
      "cell_type": "code",
      "metadata": {
        "id": "ajHkB_vb7xza",
        "cellView": "form"
      },
      "source": [
        "#@title DESM Score\n",
        "def cosine_similarity_desm_docs(query_list, train_vec, vocab, embeddings):\n",
        "  num_docs = len(train_vec)\n",
        "  num_voc = len(vocab)\n",
        "  sim_list = torch.zeros(num_docs)\n",
        "  index = 0\n",
        "  id_vocab = dict(map(reversed, vocab.items()))\n",
        "  for d in range(num_docs):\n",
        "    if(d%5000==0): print(d)\n",
        "    doc_bar = torch.zeros(300)\n",
        "    doc_length = 0\n",
        "    for v in range(num_voc):\n",
        "      if(train_vec[d][v] > 0):\n",
        "        doc_bar.add_(train_vec[d][v] * torch.from_numpy(embeddings[id_vocab[v]])/torch.norm(torch.from_numpy(embeddings[id_vocab[v]])))\n",
        "        doc_length = doc_length + train_vec[d][v]\n",
        "    doc_bar = doc_bar / doc_length\n",
        "    sum = 0\n",
        "\n",
        "    for q in query_list:\n",
        "      sum += torch.dot(torch.from_numpy(embeddings[q]) , doc_bar)/(torch.norm(torch.from_numpy(embeddings[q]))*torch.norm(doc_bar))\n",
        "    sum = sum/len(query_list)\n",
        "    sim_list[index]=sum\n",
        "    index = index + 1\n",
        "\n",
        "  return sim_list"
      ],
      "execution_count": null,
      "outputs": []
    },
    {
      "cell_type": "markdown",
      "metadata": {
        "id": "tFms0ZiwR5TF"
      },
      "source": [
        "# **1. Data Loading**"
      ]
    },
    {
      "cell_type": "code",
      "metadata": {
        "id": "cyaMXtJl4PlX",
        "colab": {
          "base_uri": "https://localhost:8080/"
        },
        "outputId": "79031a2d-693c-4852-8bcc-9b81ff3e9074"
      },
      "source": [
        "import nltk\n",
        "from nltk import word_tokenize\n",
        "nltk.download('punkt')\n",
        "def doc_remove_extra_stopwords(doc):\n",
        "  extra_stopwords = ['la','wa','will','fa','ha','pa','co','v','said']\n",
        "  doc = word_tokenize(doc)\n",
        "  doc = filter(lambda x:x not in extra_stopwords, doc)\n",
        "  doc = ' '.join(e for e in doc)\n",
        "  return doc"
      ],
      "execution_count": null,
      "outputs": [
        {
          "output_type": "stream",
          "text": [
            "[nltk_data] Downloading package punkt to /root/nltk_data...\n",
            "[nltk_data]   Package punkt is already up-to-date!\n"
          ],
          "name": "stdout"
        }
      ]
    },
    {
      "cell_type": "code",
      "metadata": {
        "id": "1MN4t01dDLCs",
        "colab": {
          "base_uri": "https://localhost:8080/"
        },
        "outputId": "8008e85b-5a82-4088-ca79-6b8c38fa863e"
      },
      "source": [
        "# ##### Data loading #####\n",
        "loaded_data = load_bbc()\n",
        "##########################\n",
        "\n",
        "data_preprocessed , data_preprocessed_labels , embeddings, name = loaded_data\n",
        "for d in range(len(data_preprocessed)):\n",
        "  data_preprocessed[d] = doc_remove_extra_stopwords(data_preprocessed[d])\n",
        "print(name,len(data_preprocessed_labels),len(data_preprocessed),len(embeddings))"
      ],
      "execution_count": null,
      "outputs": [
        {
          "output_type": "stream",
          "text": [
            "load_bbc 2225 2225 5695\n"
          ],
          "name": "stdout"
        }
      ]
    },
    {
      "cell_type": "code",
      "metadata": {
        "cellView": "both",
        "id": "2gU5icTALJTS",
        "colab": {
          "base_uri": "https://localhost:8080/"
        },
        "outputId": "e2ebbe1b-ebf0-4448-cc53-7858c80f4f72"
      },
      "source": [
        "preprossed_data = data_preprocessed\n",
        "train_label = data_preprocessed_labels\n",
        "vectorizer = CountVectorizer(min_df=10)\n",
        "train_vec = vectorizer.fit_transform(preprossed_data).toarray()\n",
        "vocab = vectorizer.vocabulary_\n",
        "id_vocab = dict(map(reversed, vocab.items()))\n",
        "nonzeros_indexes = np.where(train_vec.any(1))[0]\n",
        "train_vec_non_zeros = [train_vec[i] for i in nonzeros_indexes]\n",
        "preprossed_data_non_zeros = [preprossed_data[i] for i in nonzeros_indexes]\n",
        "train_label = [data_preprocessed_labels[i] for i in nonzeros_indexes]\n",
        "train_vec = np.asanyarray(train_vec_non_zeros)\n",
        "keywords = get_keywords(d_data)\n",
        "print(train_vec)\n",
        "print(train_label)\n",
        "print(vocab)"
      ],
      "execution_count": null,
      "outputs": [
        {
          "output_type": "stream",
          "text": [
            "[[0 0 0 ... 0 0 0]\n",
            " [0 0 0 ... 0 0 0]\n",
            " [0 0 0 ... 0 0 0]\n",
            " ...\n",
            " [0 0 1 ... 0 0 0]\n",
            " [0 0 0 ... 0 1 0]\n",
            " [0 0 0 ... 0 0 0]]\n",
            "['business', 'business', 'business', 'business', 'business', 'business', 'business', 'business', 'business', 'business', 'business', 'business', 'business', 'business', 'business', 'business', 'business', 'business', 'business', 'business', 'business', 'business', 'business', 'business', 'business', 'business', 'business', 'business', 'business', 'business', 'business', 'business', 'business', 'business', 'business', 'business', 'business', 'business', 'business', 'business', 'business', 'business', 'business', 'business', 'business', 'business', 'business', 'business', 'business', 'business', 'business', 'business', 'business', 'business', 'business', 'business', 'business', 'business', 'business', 'business', 'business', 'business', 'business', 'business', 'business', 'business', 'business', 'business', 'business', 'business', 'business', 'business', 'business', 'business', 'business', 'business', 'business', 'business', 'business', 'business', 'business', 'business', 'business', 'business', 'business', 'business', 'business', 'business', 'business', 'business', 'business', 'business', 'business', 'business', 'business', 'business', 'business', 'business', 'business', 'business', 'business', 'business', 'business', 'business', 'business', 'business', 'business', 'business', 'business', 'business', 'business', 'business', 'business', 'business', 'business', 'business', 'business', 'business', 'business', 'business', 'business', 'business', 'business', 'business', 'business', 'business', 'business', 'business', 'business', 'business', 'business', 'business', 'business', 'business', 'business', 'business', 'business', 'business', 'business', 'business', 'business', 'business', 'business', 'business', 'business', 'business', 'business', 'business', 'business', 'business', 'business', 'business', 'business', 'business', 'business', 'business', 'business', 'business', 'business', 'business', 'business', 'business', 'business', 'business', 'business', 'business', 'business', 'business', 'business', 'business', 'business', 'business', 'business', 'business', 'business', 'business', 'business', 'business', 'business', 'business', 'business', 'business', 'business', 'business', 'business', 'business', 'business', 'business', 'business', 'business', 'business', 'business', 'business', 'business', 'business', 'business', 'business', 'business', 'business', 'business', 'business', 'business', 'business', 'business', 'business', 'business', 'business', 'business', 'business', 'business', 'business', 'business', 'business', 'business', 'business', 'business', 'business', 'business', 'business', 'business', 'business', 'business', 'business', 'business', 'business', 'business', 'business', 'business', 'business', 'business', 'business', 'business', 'business', 'business', 'business', 'business', 'business', 'business', 'business', 'business', 'business', 'business', 'business', 'business', 'business', 'business', 'business', 'business', 'business', 'business', 'business', 'business', 'business', 'business', 'business', 'business', 'business', 'business', 'business', 'business', 'business', 'business', 'business', 'business', 'business', 'business', 'business', 'business', 'business', 'business', 'business', 'business', 'business', 'business', 'business', 'business', 'business', 'business', 'business', 'business', 'business', 'business', 'business', 'business', 'business', 'business', 'business', 'business', 'business', 'business', 'business', 'business', 'business', 'business', 'business', 'business', 'business', 'business', 'business', 'business', 'business', 'business', 'business', 'business', 'business', 'business', 'business', 'business', 'business', 'business', 'business', 'business', 'business', 'business', 'business', 'business', 'business', 'business', 'business', 'business', 'business', 'business', 'business', 'business', 'business', 'business', 'business', 'business', 'business', 'business', 'business', 'business', 'business', 'business', 'business', 'business', 'business', 'business', 'business', 'business', 'business', 'business', 'business', 'business', 'business', 'business', 'business', 'business', 'business', 'business', 'business', 'business', 'business', 'business', 'business', 'business', 'business', 'business', 'business', 'business', 'business', 'business', 'business', 'business', 'business', 'business', 'business', 'business', 'business', 'business', 'business', 'business', 'business', 'business', 'business', 'business', 'business', 'business', 'business', 'business', 'business', 'business', 'business', 'business', 'business', 'business', 'business', 'business', 'business', 'business', 'business', 'business', 'business', 'business', 'business', 'business', 'business', 'business', 'business', 'business', 'business', 'business', 'business', 'business', 'business', 'business', 'business', 'business', 'business', 'business', 'business', 'business', 'business', 'business', 'business', 'business', 'business', 'business', 'business', 'business', 'business', 'business', 'business', 'business', 'business', 'business', 'business', 'business', 'business', 'business', 'business', 'business', 'business', 'business', 'business', 'business', 'business', 'business', 'business', 'business', 'business', 'business', 'business', 'business', 'business', 'business', 'business', 'business', 'business', 'business', 'business', 'business', 'business', 'business', 'business', 'business', 'business', 'business', 'business', 'business', 'business', 'business', 'business', 'business', 'business', 'business', 'business', 'business', 'business', 'business', 'business', 'business', 'business', 'business', 'business', 'business', 'business', 'business', 'business', 'business', 'business', 'business', 'business', 'business', 'business', 'business', 'business', 'business', 'business', 'business', 'business', 'business', 'business', 'business', 'business', 'business', 'business', 'business', 'business', 'business', 'business', 'business', 'business', 'business', 'business', 'business', 'business', 'business', 'business', 'entertainment', 'entertainment', 'entertainment', 'entertainment', 'entertainment', 'entertainment', 'entertainment', 'entertainment', 'entertainment', 'entertainment', 'entertainment', 'entertainment', 'entertainment', 'entertainment', 'entertainment', 'entertainment', 'entertainment', 'entertainment', 'entertainment', 'entertainment', 'entertainment', 'entertainment', 'entertainment', 'entertainment', 'entertainment', 'entertainment', 'entertainment', 'entertainment', 'entertainment', 'entertainment', 'entertainment', 'entertainment', 'entertainment', 'entertainment', 'entertainment', 'entertainment', 'entertainment', 'entertainment', 'entertainment', 'entertainment', 'entertainment', 'entertainment', 'entertainment', 'entertainment', 'entertainment', 'entertainment', 'entertainment', 'entertainment', 'entertainment', 'entertainment', 'entertainment', 'entertainment', 'entertainment', 'entertainment', 'entertainment', 'entertainment', 'entertainment', 'entertainment', 'entertainment', 'entertainment', 'entertainment', 'entertainment', 'entertainment', 'entertainment', 'entertainment', 'entertainment', 'entertainment', 'entertainment', 'entertainment', 'entertainment', 'entertainment', 'entertainment', 'entertainment', 'entertainment', 'entertainment', 'entertainment', 'entertainment', 'entertainment', 'entertainment', 'entertainment', 'entertainment', 'entertainment', 'entertainment', 'entertainment', 'entertainment', 'entertainment', 'entertainment', 'entertainment', 'entertainment', 'entertainment', 'entertainment', 'entertainment', 'entertainment', 'entertainment', 'entertainment', 'entertainment', 'entertainment', 'entertainment', 'entertainment', 'entertainment', 'entertainment', 'entertainment', 'entertainment', 'entertainment', 'entertainment', 'entertainment', 'entertainment', 'entertainment', 'entertainment', 'entertainment', 'entertainment', 'entertainment', 'entertainment', 'entertainment', 'entertainment', 'entertainment', 'entertainment', 'entertainment', 'entertainment', 'entertainment', 'entertainment', 'entertainment', 'entertainment', 'entertainment', 'entertainment', 'entertainment', 'entertainment', 'entertainment', 'entertainment', 'entertainment', 'entertainment', 'entertainment', 'entertainment', 'entertainment', 'entertainment', 'entertainment', 'entertainment', 'entertainment', 'entertainment', 'entertainment', 'entertainment', 'entertainment', 'entertainment', 'entertainment', 'entertainment', 'entertainment', 'entertainment', 'entertainment', 'entertainment', 'entertainment', 'entertainment', 'entertainment', 'entertainment', 'entertainment', 'entertainment', 'entertainment', 'entertainment', 'entertainment', 'entertainment', 'entertainment', 'entertainment', 'entertainment', 'entertainment', 'entertainment', 'entertainment', 'entertainment', 'entertainment', 'entertainment', 'entertainment', 'entertainment', 'entertainment', 'entertainment', 'entertainment', 'entertainment', 'entertainment', 'entertainment', 'entertainment', 'entertainment', 'entertainment', 'entertainment', 'entertainment', 'entertainment', 'entertainment', 'entertainment', 'entertainment', 'entertainment', 'entertainment', 'entertainment', 'entertainment', 'entertainment', 'entertainment', 'entertainment', 'entertainment', 'entertainment', 'entertainment', 'entertainment', 'entertainment', 'entertainment', 'entertainment', 'entertainment', 'entertainment', 'entertainment', 'entertainment', 'entertainment', 'entertainment', 'entertainment', 'entertainment', 'entertainment', 'entertainment', 'entertainment', 'entertainment', 'entertainment', 'entertainment', 'entertainment', 'entertainment', 'entertainment', 'entertainment', 'entertainment', 'entertainment', 'entertainment', 'entertainment', 'entertainment', 'entertainment', 'entertainment', 'entertainment', 'entertainment', 'entertainment', 'entertainment', 'entertainment', 'entertainment', 'entertainment', 'entertainment', 'entertainment', 'entertainment', 'entertainment', 'entertainment', 'entertainment', 'entertainment', 'entertainment', 'entertainment', 'entertainment', 'entertainment', 'entertainment', 'entertainment', 'entertainment', 'entertainment', 'entertainment', 'entertainment', 'entertainment', 'entertainment', 'entertainment', 'entertainment', 'entertainment', 'entertainment', 'entertainment', 'entertainment', 'entertainment', 'entertainment', 'entertainment', 'entertainment', 'entertainment', 'entertainment', 'entertainment', 'entertainment', 'entertainment', 'entertainment', 'entertainment', 'entertainment', 'entertainment', 'entertainment', 'entertainment', 'entertainment', 'entertainment', 'entertainment', 'entertainment', 'entertainment', 'entertainment', 'entertainment', 'entertainment', 'entertainment', 'entertainment', 'entertainment', 'entertainment', 'entertainment', 'entertainment', 'entertainment', 'entertainment', 'entertainment', 'entertainment', 'entertainment', 'entertainment', 'entertainment', 'entertainment', 'entertainment', 'entertainment', 'entertainment', 'entertainment', 'entertainment', 'entertainment', 'entertainment', 'entertainment', 'entertainment', 'entertainment', 'entertainment', 'entertainment', 'entertainment', 'entertainment', 'entertainment', 'entertainment', 'entertainment', 'entertainment', 'entertainment', 'entertainment', 'entertainment', 'entertainment', 'entertainment', 'entertainment', 'entertainment', 'entertainment', 'entertainment', 'entertainment', 'entertainment', 'entertainment', 'entertainment', 'entertainment', 'entertainment', 'entertainment', 'entertainment', 'entertainment', 'entertainment', 'entertainment', 'entertainment', 'entertainment', 'entertainment', 'entertainment', 'entertainment', 'entertainment', 'entertainment', 'entertainment', 'entertainment', 'entertainment', 'entertainment', 'entertainment', 'entertainment', 'entertainment', 'entertainment', 'entertainment', 'entertainment', 'entertainment', 'entertainment', 'entertainment', 'entertainment', 'entertainment', 'entertainment', 'entertainment', 'entertainment', 'entertainment', 'entertainment', 'entertainment', 'entertainment', 'entertainment', 'entertainment', 'entertainment', 'entertainment', 'entertainment', 'entertainment', 'entertainment', 'entertainment', 'entertainment', 'entertainment', 'entertainment', 'entertainment', 'entertainment', 'entertainment', 'entertainment', 'entertainment', 'entertainment', 'entertainment', 'entertainment', 'entertainment', 'entertainment', 'entertainment', 'entertainment', 'entertainment', 'entertainment', 'entertainment', 'politics', 'politics', 'politics', 'politics', 'politics', 'politics', 'politics', 'politics', 'politics', 'politics', 'politics', 'politics', 'politics', 'politics', 'politics', 'politics', 'politics', 'politics', 'politics', 'politics', 'politics', 'politics', 'politics', 'politics', 'politics', 'politics', 'politics', 'politics', 'politics', 'politics', 'politics', 'politics', 'politics', 'politics', 'politics', 'politics', 'politics', 'politics', 'politics', 'politics', 'politics', 'politics', 'politics', 'politics', 'politics', 'politics', 'politics', 'politics', 'politics', 'politics', 'politics', 'politics', 'politics', 'politics', 'politics', 'politics', 'politics', 'politics', 'politics', 'politics', 'politics', 'politics', 'politics', 'politics', 'politics', 'politics', 'politics', 'politics', 'politics', 'politics', 'politics', 'politics', 'politics', 'politics', 'politics', 'politics', 'politics', 'politics', 'politics', 'politics', 'politics', 'politics', 'politics', 'politics', 'politics', 'politics', 'politics', 'politics', 'politics', 'politics', 'politics', 'politics', 'politics', 'politics', 'politics', 'politics', 'politics', 'politics', 'politics', 'politics', 'politics', 'politics', 'politics', 'politics', 'politics', 'politics', 'politics', 'politics', 'politics', 'politics', 'politics', 'politics', 'politics', 'politics', 'politics', 'politics', 'politics', 'politics', 'politics', 'politics', 'politics', 'politics', 'politics', 'politics', 'politics', 'politics', 'politics', 'politics', 'politics', 'politics', 'politics', 'politics', 'politics', 'politics', 'politics', 'politics', 'politics', 'politics', 'politics', 'politics', 'politics', 'politics', 'politics', 'politics', 'politics', 'politics', 'politics', 'politics', 'politics', 'politics', 'politics', 'politics', 'politics', 'politics', 'politics', 'politics', 'politics', 'politics', 'politics', 'politics', 'politics', 'politics', 'politics', 'politics', 'politics', 'politics', 'politics', 'politics', 'politics', 'politics', 'politics', 'politics', 'politics', 'politics', 'politics', 'politics', 'politics', 'politics', 'politics', 'politics', 'politics', 'politics', 'politics', 'politics', 'politics', 'politics', 'politics', 'politics', 'politics', 'politics', 'politics', 'politics', 'politics', 'politics', 'politics', 'politics', 'politics', 'politics', 'politics', 'politics', 'politics', 'politics', 'politics', 'politics', 'politics', 'politics', 'politics', 'politics', 'politics', 'politics', 'politics', 'politics', 'politics', 'politics', 'politics', 'politics', 'politics', 'politics', 'politics', 'politics', 'politics', 'politics', 'politics', 'politics', 'politics', 'politics', 'politics', 'politics', 'politics', 'politics', 'politics', 'politics', 'politics', 'politics', 'politics', 'politics', 'politics', 'politics', 'politics', 'politics', 'politics', 'politics', 'politics', 'politics', 'politics', 'politics', 'politics', 'politics', 'politics', 'politics', 'politics', 'politics', 'politics', 'politics', 'politics', 'politics', 'politics', 'politics', 'politics', 'politics', 'politics', 'politics', 'politics', 'politics', 'politics', 'politics', 'politics', 'politics', 'politics', 'politics', 'politics', 'politics', 'politics', 'politics', 'politics', 'politics', 'politics', 'politics', 'politics', 'politics', 'politics', 'politics', 'politics', 'politics', 'politics', 'politics', 'politics', 'politics', 'politics', 'politics', 'politics', 'politics', 'politics', 'politics', 'politics', 'politics', 'politics', 'politics', 'politics', 'politics', 'politics', 'politics', 'politics', 'politics', 'politics', 'politics', 'politics', 'politics', 'politics', 'politics', 'politics', 'politics', 'politics', 'politics', 'politics', 'politics', 'politics', 'politics', 'politics', 'politics', 'politics', 'politics', 'politics', 'politics', 'politics', 'politics', 'politics', 'politics', 'politics', 'politics', 'politics', 'politics', 'politics', 'politics', 'politics', 'politics', 'politics', 'politics', 'politics', 'politics', 'politics', 'politics', 'politics', 'politics', 'politics', 'politics', 'politics', 'politics', 'politics', 'politics', 'politics', 'politics', 'politics', 'politics', 'politics', 'politics', 'politics', 'politics', 'politics', 'politics', 'politics', 'politics', 'politics', 'politics', 'politics', 'politics', 'politics', 'politics', 'politics', 'politics', 'politics', 'politics', 'politics', 'politics', 'politics', 'politics', 'politics', 'politics', 'politics', 'politics', 'politics', 'politics', 'politics', 'politics', 'politics', 'politics', 'politics', 'politics', 'politics', 'politics', 'politics', 'politics', 'politics', 'politics', 'politics', 'politics', 'politics', 'politics', 'politics', 'politics', 'politics', 'politics', 'politics', 'politics', 'politics', 'politics', 'politics', 'politics', 'politics', 'politics', 'politics', 'politics', 'politics', 'politics', 'sport', 'sport', 'sport', 'sport', 'sport', 'sport', 'sport', 'sport', 'sport', 'sport', 'sport', 'sport', 'sport', 'sport', 'sport', 'sport', 'sport', 'sport', 'sport', 'sport', 'sport', 'sport', 'sport', 'sport', 'sport', 'sport', 'sport', 'sport', 'sport', 'sport', 'sport', 'sport', 'sport', 'sport', 'sport', 'sport', 'sport', 'sport', 'sport', 'sport', 'sport', 'sport', 'sport', 'sport', 'sport', 'sport', 'sport', 'sport', 'sport', 'sport', 'sport', 'sport', 'sport', 'sport', 'sport', 'sport', 'sport', 'sport', 'sport', 'sport', 'sport', 'sport', 'sport', 'sport', 'sport', 'sport', 'sport', 'sport', 'sport', 'sport', 'sport', 'sport', 'sport', 'sport', 'sport', 'sport', 'sport', 'sport', 'sport', 'sport', 'sport', 'sport', 'sport', 'sport', 'sport', 'sport', 'sport', 'sport', 'sport', 'sport', 'sport', 'sport', 'sport', 'sport', 'sport', 'sport', 'sport', 'sport', 'sport', 'sport', 'sport', 'sport', 'sport', 'sport', 'sport', 'sport', 'sport', 'sport', 'sport', 'sport', 'sport', 'sport', 'sport', 'sport', 'sport', 'sport', 'sport', 'sport', 'sport', 'sport', 'sport', 'sport', 'sport', 'sport', 'sport', 'sport', 'sport', 'sport', 'sport', 'sport', 'sport', 'sport', 'sport', 'sport', 'sport', 'sport', 'sport', 'sport', 'sport', 'sport', 'sport', 'sport', 'sport', 'sport', 'sport', 'sport', 'sport', 'sport', 'sport', 'sport', 'sport', 'sport', 'sport', 'sport', 'sport', 'sport', 'sport', 'sport', 'sport', 'sport', 'sport', 'sport', 'sport', 'sport', 'sport', 'sport', 'sport', 'sport', 'sport', 'sport', 'sport', 'sport', 'sport', 'sport', 'sport', 'sport', 'sport', 'sport', 'sport', 'sport', 'sport', 'sport', 'sport', 'sport', 'sport', 'sport', 'sport', 'sport', 'sport', 'sport', 'sport', 'sport', 'sport', 'sport', 'sport', 'sport', 'sport', 'sport', 'sport', 'sport', 'sport', 'sport', 'sport', 'sport', 'sport', 'sport', 'sport', 'sport', 'sport', 'sport', 'sport', 'sport', 'sport', 'sport', 'sport', 'sport', 'sport', 'sport', 'sport', 'sport', 'sport', 'sport', 'sport', 'sport', 'sport', 'sport', 'sport', 'sport', 'sport', 'sport', 'sport', 'sport', 'sport', 'sport', 'sport', 'sport', 'sport', 'sport', 'sport', 'sport', 'sport', 'sport', 'sport', 'sport', 'sport', 'sport', 'sport', 'sport', 'sport', 'sport', 'sport', 'sport', 'sport', 'sport', 'sport', 'sport', 'sport', 'sport', 'sport', 'sport', 'sport', 'sport', 'sport', 'sport', 'sport', 'sport', 'sport', 'sport', 'sport', 'sport', 'sport', 'sport', 'sport', 'sport', 'sport', 'sport', 'sport', 'sport', 'sport', 'sport', 'sport', 'sport', 'sport', 'sport', 'sport', 'sport', 'sport', 'sport', 'sport', 'sport', 'sport', 'sport', 'sport', 'sport', 'sport', 'sport', 'sport', 'sport', 'sport', 'sport', 'sport', 'sport', 'sport', 'sport', 'sport', 'sport', 'sport', 'sport', 'sport', 'sport', 'sport', 'sport', 'sport', 'sport', 'sport', 'sport', 'sport', 'sport', 'sport', 'sport', 'sport', 'sport', 'sport', 'sport', 'sport', 'sport', 'sport', 'sport', 'sport', 'sport', 'sport', 'sport', 'sport', 'sport', 'sport', 'sport', 'sport', 'sport', 'sport', 'sport', 'sport', 'sport', 'sport', 'sport', 'sport', 'sport', 'sport', 'sport', 'sport', 'sport', 'sport', 'sport', 'sport', 'sport', 'sport', 'sport', 'sport', 'sport', 'sport', 'sport', 'sport', 'sport', 'sport', 'sport', 'sport', 'sport', 'sport', 'sport', 'sport', 'sport', 'sport', 'sport', 'sport', 'sport', 'sport', 'sport', 'sport', 'sport', 'sport', 'sport', 'sport', 'sport', 'sport', 'sport', 'sport', 'sport', 'sport', 'sport', 'sport', 'sport', 'sport', 'sport', 'sport', 'sport', 'sport', 'sport', 'sport', 'sport', 'sport', 'sport', 'sport', 'sport', 'sport', 'sport', 'sport', 'sport', 'sport', 'sport', 'sport', 'sport', 'sport', 'sport', 'sport', 'sport', 'sport', 'sport', 'sport', 'sport', 'sport', 'sport', 'sport', 'sport', 'sport', 'sport', 'sport', 'sport', 'sport', 'sport', 'sport', 'sport', 'sport', 'sport', 'sport', 'sport', 'sport', 'sport', 'sport', 'sport', 'sport', 'sport', 'sport', 'sport', 'sport', 'sport', 'sport', 'sport', 'sport', 'sport', 'sport', 'sport', 'sport', 'sport', 'sport', 'sport', 'sport', 'sport', 'sport', 'sport', 'sport', 'sport', 'sport', 'sport', 'sport', 'sport', 'sport', 'sport', 'sport', 'sport', 'sport', 'sport', 'sport', 'sport', 'sport', 'sport', 'sport', 'sport', 'sport', 'sport', 'sport', 'sport', 'sport', 'sport', 'sport', 'sport', 'sport', 'sport', 'sport', 'sport', 'sport', 'sport', 'sport', 'sport', 'sport', 'sport', 'sport', 'sport', 'sport', 'sport', 'sport', 'sport', 'sport', 'sport', 'sport', 'sport', 'sport', 'sport', 'sport', 'sport', 'sport', 'tech', 'tech', 'tech', 'tech', 'tech', 'tech', 'tech', 'tech', 'tech', 'tech', 'tech', 'tech', 'tech', 'tech', 'tech', 'tech', 'tech', 'tech', 'tech', 'tech', 'tech', 'tech', 'tech', 'tech', 'tech', 'tech', 'tech', 'tech', 'tech', 'tech', 'tech', 'tech', 'tech', 'tech', 'tech', 'tech', 'tech', 'tech', 'tech', 'tech', 'tech', 'tech', 'tech', 'tech', 'tech', 'tech', 'tech', 'tech', 'tech', 'tech', 'tech', 'tech', 'tech', 'tech', 'tech', 'tech', 'tech', 'tech', 'tech', 'tech', 'tech', 'tech', 'tech', 'tech', 'tech', 'tech', 'tech', 'tech', 'tech', 'tech', 'tech', 'tech', 'tech', 'tech', 'tech', 'tech', 'tech', 'tech', 'tech', 'tech', 'tech', 'tech', 'tech', 'tech', 'tech', 'tech', 'tech', 'tech', 'tech', 'tech', 'tech', 'tech', 'tech', 'tech', 'tech', 'tech', 'tech', 'tech', 'tech', 'tech', 'tech', 'tech', 'tech', 'tech', 'tech', 'tech', 'tech', 'tech', 'tech', 'tech', 'tech', 'tech', 'tech', 'tech', 'tech', 'tech', 'tech', 'tech', 'tech', 'tech', 'tech', 'tech', 'tech', 'tech', 'tech', 'tech', 'tech', 'tech', 'tech', 'tech', 'tech', 'tech', 'tech', 'tech', 'tech', 'tech', 'tech', 'tech', 'tech', 'tech', 'tech', 'tech', 'tech', 'tech', 'tech', 'tech', 'tech', 'tech', 'tech', 'tech', 'tech', 'tech', 'tech', 'tech', 'tech', 'tech', 'tech', 'tech', 'tech', 'tech', 'tech', 'tech', 'tech', 'tech', 'tech', 'tech', 'tech', 'tech', 'tech', 'tech', 'tech', 'tech', 'tech', 'tech', 'tech', 'tech', 'tech', 'tech', 'tech', 'tech', 'tech', 'tech', 'tech', 'tech', 'tech', 'tech', 'tech', 'tech', 'tech', 'tech', 'tech', 'tech', 'tech', 'tech', 'tech', 'tech', 'tech', 'tech', 'tech', 'tech', 'tech', 'tech', 'tech', 'tech', 'tech', 'tech', 'tech', 'tech', 'tech', 'tech', 'tech', 'tech', 'tech', 'tech', 'tech', 'tech', 'tech', 'tech', 'tech', 'tech', 'tech', 'tech', 'tech', 'tech', 'tech', 'tech', 'tech', 'tech', 'tech', 'tech', 'tech', 'tech', 'tech', 'tech', 'tech', 'tech', 'tech', 'tech', 'tech', 'tech', 'tech', 'tech', 'tech', 'tech', 'tech', 'tech', 'tech', 'tech', 'tech', 'tech', 'tech', 'tech', 'tech', 'tech', 'tech', 'tech', 'tech', 'tech', 'tech', 'tech', 'tech', 'tech', 'tech', 'tech', 'tech', 'tech', 'tech', 'tech', 'tech', 'tech', 'tech', 'tech', 'tech', 'tech', 'tech', 'tech', 'tech', 'tech', 'tech', 'tech', 'tech', 'tech', 'tech', 'tech', 'tech', 'tech', 'tech', 'tech', 'tech', 'tech', 'tech', 'tech', 'tech', 'tech', 'tech', 'tech', 'tech', 'tech', 'tech', 'tech', 'tech', 'tech', 'tech', 'tech', 'tech', 'tech', 'tech', 'tech', 'tech', 'tech', 'tech', 'tech', 'tech', 'tech', 'tech', 'tech', 'tech', 'tech', 'tech', 'tech', 'tech', 'tech', 'tech', 'tech', 'tech', 'tech', 'tech', 'tech', 'tech', 'tech', 'tech', 'tech', 'tech', 'tech', 'tech', 'tech', 'tech', 'tech', 'tech', 'tech', 'tech', 'tech', 'tech', 'tech', 'tech', 'tech', 'tech', 'tech', 'tech', 'tech', 'tech', 'tech', 'tech', 'tech', 'tech', 'tech', 'tech', 'tech', 'tech', 'tech', 'tech', 'tech', 'tech', 'tech', 'tech', 'tech', 'tech', 'tech', 'tech', 'tech', 'tech', 'tech', 'tech', 'tech', 'tech', 'tech', 'tech', 'tech', 'tech', 'tech', 'tech', 'tech', 'tech', 'tech', 'tech', 'tech', 'tech', 'tech', 'tech', 'tech', 'tech', 'tech', 'tech', 'tech', 'tech', 'tech', 'tech', 'tech', 'tech']\n",
            "{'sale': 473, 'boost': 61, 'time': 550, 'profit': 429, 'medium': 345, 'giant': 234, 'three': 548, 'month': 358, 'december': 139, 'dollar': 156, 'hit': 258, 'highest': 257, 'level': 316, 'euro': 180, 'federal': 201, 'reserve': 453, 'head': 251, 'trade': 560, 'deficit': 143, 'set': 491, 'unit': 570, 'face': 191, 'owner': 387, 'russian': 472, 'oil': 380, 'production': 428, 'pay': 391, 'high': 256, 'fuel': 223, 'price': 421, 'takeover': 537, 'talk': 538, 'lift': 320, 'uk': 568, 'firm': 212, 'speculation': 506, 'target': 539, 'france': 218, 'japan': 291, 'economy': 171, 'figure': 206, 'job': 293, 'growth': 246, 'expected': 187, 'january': 290, 'fall': 194, 'rate': 439, 'year': 606, 'india': 272, 'call': 75, 'meeting': 347, 'leading': 310, 'nation': 366, 'friday': 222, 'report': 451, 'court': 127, 'reject': 447, 'government': 240, 'claim': 102, 'country': 126, 'biggest': 54, 'company': 112, 'appeal': 27, 'online': 382, 'third': 547, 'search': 480, 'week': 592, 'internet': 280, 'confirmed': 116, 'deal': 136, 'japanese': 292, 'car': 80, 'maker': 336, 'motor': 359, 'french': 220, 'sport': 508, 'sunday': 532, 'win': 595, 'eu': 179, 'board': 58, 'demand': 144, 'china': 99, 'keep': 297, 'effort': 172, 'continue': 120, 'state': 517, 'italian': 287, 'group': 244, 'europe': 181, 'reported': 452, 'standard': 514, 'foreign': 216, 'access': 0, 'investment': 282, 'user': 574, 'lose': 327, 'survey': 533, 'suggests': 530, 'sell': 487, 'film': 207, 'plan': 400, 'service': 490, 'business': 73, 'german': 233, 'number': 376, 'people': 395, 'work': 602, 'largest': 301, 'straight': 520, 'official': 379, 'fallen': 195, 'hope': 263, 'record': 445, 'export': 189, 'latest': 303, 'attempt': 38, 'general': 231, 'cut': 131, 'producer': 426, 'chief': 97, 'executive': 186, 'strong': 525, 'thursday': 549, 'energy': 176, 'market': 342, 'watchdog': 588, 'global': 235, 'british': 67, 'president': 420, 'reform': 446, 'cost': 125, 'economic': 170, 'major': 335, 'rise': 458, 'irish': 285, 'reach': 441, 'share': 492, 'buy': 74, 'low': 330, 'battle': 46, 'financial': 210, 'offer': 377, 'rival': 459, 'bank': 44, 'half': 248, 'money': 357, 'help': 254, 'ahead': 11, 'annual': 26, 'meet': 346, 'tough': 558, 'stock': 519, 'charge': 92, 'data': 132, 'mobile': 355, 'fourth': 217, 'quarter': 432, 'earnings': 169, 'italy': 288, 'agreed': 10, 'england': 177, 'football': 213, 'warning': 587, 'chairman': 85, 'alan': 16, 'warned': 586, 'huge': 267, 'budget': 71, 'loss': 328, 'minister': 353, 'fresh': 221, 'problem': 425, 'fell': 202, 'rose': 465, 'doubt': 160, 'airline': 15, 'order': 385, 'lead': 308, 'return': 455, 'exchange': 185, 'cash': 83, 'launched': 305, 'announced': 25, 'european': 182, 'action': 2, 'prime': 422, 'aimed': 14, 'night': 372, 'second': 482, 'growing': 245, 'unveils': 573, 'south': 504, 'tax': 540, 'spending': 507, 'drive': 162, 'asia': 32, 'faster': 198, 'tuesday': 565, 'launch': 304, 'called': 76, 'insurance': 277, 'investigation': 281, 'industry': 275, 'total': 557, 'row': 467, 'sue': 528, 'bush': 72, 'agency': 9, 'george': 232, 'development': 151, 'union': 569, 'finance': 209, 'including': 270, 'aid': 12, 'february': 200, 'seek': 486, 'unveiled': 572, 'city': 101, 'received': 444, 'turn': 566, 'making': 337, 'consumer': 119, 'mp': 362, 'controversial': 124, 'potential': 416, 'role': 464, 'russia': 471, 'key': 300, 'revealed': 456, 'helped': 255, 'robert': 460, 'bid': 52, 'accused': 1, 'bos': 62, 'left': 313, 'book': 60, 'decision': 140, 'told': 552, 'sold': 501, 'life': 319, 'leader': 309, 'hand': 249, 'network': 369, 'stake': 512, 'close': 106, 'indian': 273, 'contract': 122, 'secretary': 483, 'john': 294, 'interest': 278, 'international': 279, 'fund': 224, 'forced': 215, 'denies': 148, 'denied': 147, 'despite': 149, 'sign': 495, 'martin': 343, 'golden': 237, 'rule': 469, 'gordon': 239, 'brown': 70, 'start': 516, 'long': 324, 'concern': 114, 'good': 238, 'phone': 398, 'challenge': 86, 'director': 155, 'admitted': 5, 'york': 607, 'member': 348, 'aim': 13, 'security': 484, 'amid': 21, 'big': 53, 'parent': 388, 'leave': 312, 'hold': 260, 'triple': 562, 'move': 360, 'strike': 523, 'iraq': 283, 'eye': 190, 'gas': 230, 'bought': 63, 'street': 522, 'preparing': 419, 'review': 457, 'wednesday': 591, 'side': 494, 'north': 374, 'dropped': 163, 'bbc': 47, 'news': 371, 'asian': 33, 'lost': 329, 'planning': 401, 'early': 168, 'united': 571, 'drug': 164, 'monday': 356, 'suspended': 535, 'body': 59, 'minute': 354, 'house': 265, 'signed': 496, 'school': 476, 'top': 554, 'force': 214, 'won': 601, 'worth': 605, 'backed': 41, 'public': 431, 'office': 378, 'london': 323, 'power': 417, 'man': 338, 'utd': 575, 'manchester': 340, 'club': 108, 'series': 489, 'future': 225, 'fear': 199, 'closer': 107, 'stay': 518, 'computer': 113, 'detail': 150, 'victim': 577, 'madrid': 332, 'war': 585, 'control': 123, 'heart': 252, 'attack': 36, 'champion': 87, 'raise': 438, 'evidence': 184, 'trial': 561, 'ruled': 470, 'ban': 42, 'legal': 314, 'lse': 331, 'chance': 89, 'clash': 105, 'policy': 409, 'music': 363, 'album': 17, 'release': 449, 'game': 227, 'entertainment': 178, 'technology': 542, 'screen': 479, 'television': 543, 'hail': 247, 'scottish': 478, 'election': 173, 'named': 365, 'africa': 6, 'gaming': 229, 'open': 383, 'failed': 193, 'christmas': 100, 'season': 481, 'save': 475, 'tsunami': 564, 'hard': 250, 'britain': 66, 'main': 334, 'product': 427, 'pension': 394, 'card': 81, 'final': 208, 'working': 604, 'continues': 121, 'facing': 192, 'political': 410, 'shock': 493, 'change': 91, 'debate': 137, 'trust': 563, 'great': 242, 'late': 302, 'broadband': 68, 'video': 579, 'australian': 39, 'system': 536, 'best': 51, 'performance': 396, 'saturday': 474, 'michael': 350, 'ready': 442, 'song': 502, 'list': 322, 'child': 98, 'national': 367, 'debut': 138, 'day': 135, 'arsenal': 29, 'david': 133, 'web': 589, 'held': 253, 'american': 20, 'le': 307, 'ended': 175, 'voter': 583, 'place': 399, 'analyst': 22, 'premiership': 418, 'victory': 578, 'march': 341, 'worker': 603, 'charity': 93, 'johnson': 295, 'play': 402, 'played': 403, 'law': 306, 'november': 375, 'newcastle': 370, 'claiming': 104, 'join': 296, 'independent': 271, 'senior': 488, 'resigned': 454, 'family': 196, 'defended': 142, 'free': 219, 'police': 408, 'summer': 531, 'probe': 424, 'weekend': 593, 'brother': 69, 'allow': 19, 'magazine': 333, 'fight': 205, 'issue': 286, 'bill': 55, 'single': 498, 'double': 159, 'ireland': 284, 'campaign': 77, 'rejected': 448, 'aged': 8, 'died': 153, 'opposition': 384, 'chancellor': 90, 'net': 368, 'beat': 48, 'software': 500, 'draw': 161, 'tony': 553, 'blair': 56, 'protest': 430, 'banned': 45, 'poll': 412, 'suffered': 529, 'released': 450, 'spain': 505, 'claimed': 103, 'art': 30, 'musical': 364, 'award': 40, 'success': 527, 'winner': 597, 'stage': 511, 'critic': 128, 'prize': 423, 'winning': 598, 'star': 515, 'artist': 31, 'party': 390, 'fan': 197, 'age': 7, 'career': 82, 'topped': 555, 'chart': 95, 'pop': 413, 'hollywood': 261, 'festival': 204, 'comedy': 110, 'association': 34, 'dvd': 167, 'mike': 352, 'oscar': 386, 'movie': 361, 'race': 436, 'version': 576, 'actor': 3, 'davis': 134, 'box': 64, 'injury': 276, 'student': 526, 'tv': 567, 'nomination': 373, 'break': 65, 'beating': 49, 'actress': 4, 'vote': 582, 'woman': 600, 'los': 326, 'angeles': 24, 'singer': 497, 'howard': 266, 'host': 264, 'band': 43, 'find': 211, 'digital': 154, 'radio': 437, 'legend': 315, 'rock': 462, 'player': 404, 'dublin': 166, 'sir': 499, 'alex': 18, 'quit': 435, 'tour': 559, 'website': 590, 'rb': 440, 'apple': 28, 'campbell': 78, 'charles': 94, 'celebrity': 84, 'holmes': 262, 'kelly': 298, 'olympic': 381, 'real': 443, 'expert': 188, 'popular': 414, 'park': 389, 'title': 551, 'ferguson': 203, 'event': 183, 'williams': 594, 'scotland': 477, 'lord': 325, 'playing': 405, 'visit': 581, 'manager': 339, 'attacked': 37, 'men': 349, 'wale': 584, 'team': 541, 'door': 157, 'email': 174, 'conference': 115, 'tory': 556, 'conservative': 117, 'terror': 545, 'jack': 289, 'straw': 521, 'immigration': 269, 'lib': 317, 'dems': 146, 'question': 434, 'politics': 411, 'kennedy': 299, 'suspect': 534, 'liberal': 318, 'democrat': 145, 'common': 111, 'hunting': 268, 'peer': 393, 'stand': 513, 'personal': 397, 'test': 546, 'goal': 236, 'belief': 50, 'match': 344, 'point': 407, 'grand': 241, 'defeat': 141, 'robinson': 461, 'console': 118, 'indoor': 274, 'championship': 88, 'cross': 129, 'athletics': 35, 'coach': 109, 'squad': 510, 'greek': 243, 'sprinter': 509, 'doping': 158, 'cup': 130, 'quarterfinal': 433, 'striker': 524, 'round': 466, 'chelsea': 96, 'league': 311, 'captain': 79, 'window': 596, 'seed': 485, 'andy': 23, 'lion': 321, 'rugby': 468, 'dubai': 165, 'tennis': 544, 'roddick': 463, 'microsoft': 351, 'pc': 392, 'hitech': 259, 'wireless': 599, 'virus': 580, 'gadget': 226, 'blog': 57, 'playstation': 406, 'sony': 503, 'gamers': 228, 'portable': 415, 'device': 152}\n"
          ],
          "name": "stdout"
        }
      ]
    },
    {
      "cell_type": "code",
      "metadata": {
        "id": "4E9i9OAVjcpf"
      },
      "source": [
        "# all_rscores = cosine_similarity_desm_docs(keywords,train_vec,vocab,embeddings)\n",
        "# scaler = MinMaxScaler(feature_range=(0+1e-10, 0.99))\n",
        "# normalized_all_rscores = scaler.fit_transform(all_rscores.data.reshape(-1,1))\n",
        "# normalized_all_rscores=torch.tensor(normalized_all_rscores.flatten())\n",
        "# rounded_normalized_all_rscores = torch.round(normalized_all_rscores*10)/10.0"
      ],
      "execution_count": null,
      "outputs": []
    },
    {
      "cell_type": "code",
      "metadata": {
        "cellView": "both",
        "id": "DqC69zvaqjus",
        "colab": {
          "base_uri": "https://localhost:8080/"
        },
        "outputId": "22f0e627-1ee2-4041-a29e-9d5f05be7523"
      },
      "source": [
        "device = torch.device(\"cuda:0\" if torch.cuda.is_available() else \"cpu\")\n",
        "tensor_train_w = torch.from_numpy(train_vec).float()\n",
        "train_label = np.asarray(train_label)\n",
        "\n",
        "num_coordinate = 2\n",
        "bs = 256\n",
        "en1_units_x = 100\n",
        "en2_units_x = 100\n",
        "num_input = train_vec[0].shape[0]\n",
        "learning_rate = 0.001\n",
        "beta1 = 0.99\n",
        "beta2 = 0.999\n",
        "drop_rate = 0.2\n",
        "num_topic = 10\n",
        "# variance_x = 1.0/(0.1*num_topic)\n",
        "variance_x = 1.0\n",
        "gc.collect()"
      ],
      "execution_count": null,
      "outputs": [
        {
          "output_type": "execute_result",
          "data": {
            "text/plain": [
              "38206"
            ]
          },
          "metadata": {
            "tags": []
          },
          "execution_count": 299
        }
      ]
    },
    {
      "cell_type": "markdown",
      "metadata": {
        "id": "XwcrBK2pe4Qc"
      },
      "source": [
        "# **Cosine Scores**"
      ]
    },
    {
      "cell_type": "code",
      "metadata": {
        "id": "LTSIn3KOU9gz"
      },
      "source": [
        "import torch.nn\n",
        "cos_sim = nn.CosineSimilarity(dim=-1, eps=1e-8)\n",
        "def flatten_list(user_list): return [item for sublist in user_list for item in sublist]\n",
        "def get_embedding_tensor(word_list,embeddings): return torch.tensor([embeddings[w] for w in word_list])\n",
        "def cosine_angular_sim(keyword_torch,words_tensor): return 1 - (torch.acos(cos_sim(keyword_torch,words_tensor))) / torch.pi\n",
        "def cosine_norm_01(keyword_torch,words_tensor): return (cos_sim(keyword_torch,words_tensor) + 1.0)/2.0\n",
        "def cosine_sqrt(keyword_torch,words_tensor): return 1 - ((1 - cos_sim(keyword_torch,words_tensor) )/2)**0.5"
      ],
      "execution_count": null,
      "outputs": []
    },
    {
      "cell_type": "code",
      "metadata": {
        "id": "TZDLGsPOAT_G"
      },
      "source": [
        "def cosine_keywords(keywords,words_tensor,word_list):\n",
        "  all_keywords_score = torch.empty(len(keywords),len(vocab))\n",
        "  cosine_score_vocab = {}\n",
        "  keyword_total_score = torch.zeros(len(vocab))\n",
        "  kidx = 0\n",
        "  for k in keywords:\n",
        "    keyword_torch = torch.from_numpy(embeddings[k])\n",
        "    keyword_torch = keyword_torch.unsqueeze(0).expand(len(vocab),words_tensor.shape[1])\n",
        "    # all_keywords_score.append(cosine_sqrt(keyword_torch,words_tensor))\n",
        "    all_keywords_score[kidx] = cosine_sqrt(keyword_torch,words_tensor)\n",
        "    kidx = kidx +1\n",
        "    # keyword_total_score += cos_sim(keyword_torch,words_tensor)\n",
        "  keywords_max_score,keyword_max_score_idx = torch.max(all_keywords_score,dim=0)\n",
        "  cosine_score_vocab = dict(zip(word_list,keywords_max_score.numpy()))\n",
        "  return all_keywords_score,keyword_total_score/len(keywords),keywords_max_score,cosine_score_vocab"
      ],
      "execution_count": null,
      "outputs": []
    },
    {
      "cell_type": "code",
      "metadata": {
        "id": "OJbv4cJ-Umax"
      },
      "source": [
        "sorted_id_word_vocab = sorted(id_vocab.items(), key=lambda x: x[1]) ### alphabetically sorted\n",
        "word_list = [s[1] for s in sorted_id_word_vocab]\n",
        "words_tensor = get_embedding_tensor(word_list,embeddings)\n",
        "\n",
        "all_keywords_score,keywords_mean_score,keywords_max_score,cosine_score_vocab = cosine_keywords(keywords,words_tensor,word_list)\n",
        "\n",
        "sorted_cosine_words_vocab = sorted(cosine_score_vocab.items(), key=lambda x: x[1]) ### cosine sim score sorted\n",
        "sorted_cosine_vocab = [s[0] for s in sorted_cosine_words_vocab]\n",
        "\n",
        "embedding_tensor_sorted_alp = get_embedding_tensor(word_list,embeddings)\n",
        "embedding_tensor_keywords = get_embedding_tensor(keywords,embeddings)\n",
        "embedding_tensor_sorted_cos = get_embedding_tensor(sorted_cosine_vocab,embeddings)\n",
        "num_keyword = embedding_tensor_keywords.shape[0]\n",
        "emb_size = embedding_tensor_keywords.shape[1]"
      ],
      "execution_count": null,
      "outputs": []
    },
    {
      "cell_type": "code",
      "metadata": {
        "id": "2j6Eo5U-YzmW"
      },
      "source": [
        "val,idx=torch.sort(keywords_max_score,descending=True)\n",
        "cosine_flag_testing = torch.zeros(num_input)\n",
        "cosine_flag_testing[idx[0:500]] = 1.0\n",
        "# cosine_flag_testing  = cosine_flag_testing.to(device)\n",
        "ranked_input = torch.ones(num_input)\n",
        "for i in range(1,num_input+1,1):\n",
        "  ranked_input[idx[i-1]] = i"
      ],
      "execution_count": null,
      "outputs": []
    },
    {
      "cell_type": "code",
      "metadata": {
        "id": "0ekvOBbnuWAn"
      },
      "source": [
        "cosine_idx_test = torch.tensor(np.arange(0,num_input))\n",
        "scaler = MinMaxScaler(feature_range=(0+1e-10, 0.99))\n",
        "cosine_idx_test_sc = scaler.fit_transform(cosine_idx_test.data.reshape(-1,1))"
      ],
      "execution_count": null,
      "outputs": []
    },
    {
      "cell_type": "code",
      "metadata": {
        "id": "vyRwXKUs-Ugn",
        "colab": {
          "base_uri": "https://localhost:8080/"
        },
        "outputId": "410ba0af-6e94-4476-a265-06aa677c2c44"
      },
      "source": [
        "plt.hist(keywords_max_score),np.median(keywords_max_score)"
      ],
      "execution_count": null,
      "outputs": [
        {
          "output_type": "execute_result",
          "data": {
            "text/plain": [
              "((array([478., 120.,   7.,   1.,   0.,   0.,   0.,   0.,   0.,   2.]),\n",
              "  array([0.27698046, 0.3492824 , 0.42158437, 0.49388632, 0.5661883 ,\n",
              "         0.6384902 , 0.7107922 , 0.78309417, 0.8553961 , 0.927698  ,\n",
              "         1.        ], dtype=float32),\n",
              "  <a list of 10 Patch objects>),\n",
              " 0.33043516)"
            ]
          },
          "metadata": {
            "tags": []
          },
          "execution_count": 305
        },
        {
          "output_type": "display_data",
          "data": {
            "image/png": "[encoded data removed]",
            "text/plain": [
              "<Figure size 432x288 with 1 Axes>"
            ]
          },
          "metadata": {
            "tags": [],
            "needs_background": "light"
          }
        }
      ]
    },
    {
      "cell_type": "code",
      "metadata": {
        "id": "34lJtGKOqDAC",
        "colab": {
          "base_uri": "https://localhost:8080/"
        },
        "outputId": "f4711f57-17e9-44be-dd23-98ca4468dcbf"
      },
      "source": [
        "plt.hist(cosine_flag_testing)"
      ],
      "execution_count": null,
      "outputs": [
        {
          "output_type": "execute_result",
          "data": {
            "text/plain": [
              "(array([108.,   0.,   0.,   0.,   0.,   0.,   0.,   0.,   0., 500.]),\n",
              " array([0. , 0.1, 0.2, 0.3, 0.4, 0.5, 0.6, 0.7, 0.8, 0.9, 1. ],\n",
              "       dtype=float32),\n",
              " <a list of 10 Patch objects>)"
            ]
          },
          "metadata": {
            "tags": []
          },
          "execution_count": 306
        },
        {
          "output_type": "display_data",
          "data": {
            "image/png": "[encoded data removed]",
            "text/plain": [
              "<Figure size 432x288 with 1 Axes>"
            ]
          },
          "metadata": {
            "tags": [],
            "needs_background": "light"
          }
        }
      ]
    },
    {
      "cell_type": "markdown",
      "metadata": {
        "id": "4AEuaG5erxy7"
      },
      "source": [
        "# torch_functions_extra"
      ]
    },
    {
      "cell_type": "code",
      "metadata": {
        "id": "0Ove8f9uEGzR"
      },
      "source": [
        "# embdding_input_NV300 = embedding_tensor_sorted_alp.unsqueeze(0).expand(tensor_train_w.shape[0],embedding_tensor_sorted_alp.shape[0],embedding_tensor_sorted_alp.shape[1])\n",
        "# tensor_train_w_input = tensor_train_w\n",
        "# y = torch.ones(tensor_train_w.size())\n",
        "# w_input = torch.where(tensor_train_w_input >= 1, y, tensor_train_w_input)\n",
        "# docWord_embedding_input = w_input.unsqueeze(-1).expand(w_input.shape[0],w_input.shape[1],300) * embdding_input_NV300\n",
        "\n",
        "# def Log_NormDist_wC(x,mu,sigma=sig0,sigma_ir=sigc,d=emb_size):\n",
        "#   x_Q = torch.narrow(x,1,0,x.shape[1]-1) # First Q (KxQx300)\n",
        "#   mu_Q = torch.narrow(mu,1,0,mu.shape[1]-1) # First (KxQx300)\n",
        "#   x_C_ir = torch.narrow(x,1,x.shape[1]-1,1) # Last C (Kx1x300)\n",
        "#   mu_C_ir = torch.narrow(mu,1,mu.shape[1]-1,1) # Last C (Kx1x300)\n",
        "\n",
        "#   First_Q = d/2.0 * torch.log(torch.tensor(sigma/(2.0*pi)))\n",
        "#   Second_Q = -(sigma/2.0) * (torch.norm(x_Q-mu_Q,dim=-1)**2)\n",
        "\n",
        "#   First_C_ir = d/2.0 * torch.log(torch.tensor(sigma_ir/(2.0*pi)))\n",
        "#   Second_C_ir = -(sigma_ir/2.0) * (torch.norm(x_C_ir-mu_C_ir,dim=-1)**2)\n",
        "\n",
        "#   First = First_Q+First_C_ir\n",
        "#   Second = torch.cat((Second_Q,Second_C_ir),dim=1)\n",
        "#   ret = First + Second\n",
        "\n",
        "#   return ret\n",
        "\n",
        "def min_max_normalization(ip):\n",
        "  vmax,_ = torch.max(ip,-1)\n",
        "  vmin,_ = torch.min(ip,-1)\n",
        "  vmax = vmax.unsqueeze(-1).expand(ip.shape[0],ip.shape[1])\n",
        "  vmin= vmin.unsqueeze(-1).expand(ip.shape[0],ip.shape[1])\n",
        "  ip = (ip - vmin) / (vmax-vmin+smoothen)\n",
        "  return ip\n",
        "\n",
        "def NewBeta_dist(x,mu,phi_beta,smoothen):\n",
        "  First = torch_lgamma(phi_beta+smoothen) - (torch_lgamma(phi_beta * mu+smoothen) + torch_lgamma(phi_beta * (1-mu)+smoothen ))\n",
        "  Second_1 = (mu*phi_beta-1) * torch.log(x+smoothen)\n",
        "  Second_2 = ( (1-mu)*phi_beta-1 )* torch.log(1-x+smoothen)\n",
        "  Second = Second_1 + Second_2\n",
        "  return First + Second\n",
        "\n",
        "def LogL_NewBeta(x,relevant_scores):\n",
        "  x_norm = torch.norm(x,dim=-1)\n",
        "  mu = torch.exp(-0.5 * (torch.pow(x_norm,2))/mu_div)\n",
        "  # LogL = torch.log(NewBeta_dist(relevant_scores,mu,sig,smoothen)+smoothen)\n",
        "  LogL = NewBeta_dist(relevant_scores,mu,100.0,smoothen)\n",
        "  return LogL\n",
        "\n",
        "def log_bmm(a: Tensor, b: Tensor) -> Tensor:\n",
        "    \"\"\"Performs a batch matrix-matrix product of matrices in log-space.\n",
        "    Args:\n",
        "        a: tensor with shape (b, n, m)\n",
        "        b: tensor with shape (b, m, p)\n",
        "    Returns:\n",
        "        tensor with shape (b, n, p)\n",
        "    \"\"\"\n",
        "\n",
        "    assert a.ndim == b.ndim == 3\n",
        "    assert a.size(0) == b.size(0)\n",
        "    assert a.size(2) == b.size(1)\n",
        "\n",
        "    bsz, p, m = a.size()\n",
        "    _, _, n = b.size()\n",
        "    a = a.unsqueeze(2).expand(bsz, p, n, m)\n",
        "    b = b.unsqueeze(1).transpose(2, 3).expand(bsz, p, n, m)\n",
        "    return torch.logsumexp(a + b, dim=-1)"
      ],
      "execution_count": null,
      "outputs": []
    },
    {
      "cell_type": "code",
      "metadata": {
        "id": "C5TQ2ttGALRt"
      },
      "source": [
        "# a = torch.ones(12,10) * 4\n",
        "# b = torch.ones(2,1)\n",
        "# torch.norm(b,dim=0)\n",
        "###\n",
        "# for i in range(12):\n",
        "#   a[i] = i\n",
        "# a.unsqueeze(1).expand(12,5,10)\n",
        "###\n",
        "# x = torch.rand(5,4,3)\n",
        "# a=torch.narrow(x,1,0,x.shape[1]-1) # First\n",
        "# b=torch.narrow(x,1,x.shape[1]-1,1) # Last\n",
        "# torch.cat((a,b),dim=1)\n",
        "###\n",
        "# a = torch.Tensor(10,3367,300)\n",
        "# b = embedding_0_center_words.unsqueeze(0).expand(10,3367,300)\n",
        "# c = torch.norm(a-b,dim=-1)**2"
      ],
      "execution_count": null,
      "outputs": []
    },
    {
      "cell_type": "markdown",
      "metadata": {
        "id": "JtRrwY7L-oRL"
      },
      "source": [
        "# Current Working Model"
      ]
    },
    {
      "cell_type": "code",
      "metadata": {
        "id": "20SZS3Q4FVzq"
      },
      "source": [
        "torch.cuda.empty_cache()\n",
        "pi = torch.acos(torch.zeros(1)).item() * 2\n",
        "smoothen=1e-20\n",
        "\n",
        "sig0=1.0/1000\n",
        "sig_mu_z = 1.0/100000\n",
        "sig_phi = 1.0 / (0.1*len(data_preprocessed))\n",
        "#sig_phi = 0.1\n",
        "\n",
        "\n",
        "def torch_lgamma(a): return torch.lgamma(torch.tensor(a))\n",
        "def torch_gamma(a): return torch.exp(torch.lgamma(torch.tensor(a)))\n",
        "\n",
        "def NormDist(x,mu,sigma=sig0,d=emb_size):\n",
        "    return (sigma/(2*pi))**(d/2.0) * torch.exp( (-sigma/2.0) * torch.norm(x-mu,dim=-1)**2.0 )\n",
        "\n",
        "def Log_NormDist(x,mu,sigma,d=emb_size):\n",
        "  First = d/2.0 * torch.log(torch.tensor(1/(2.0*pi*sigma)))\n",
        "  Second = -(1/(2.0*sigma)) * (torch.norm(x-mu,dim=-1)**2)\n",
        "  ret = First + Second\n",
        "  return ret\n",
        "\n",
        "#phi\n",
        "def gaussian(alpha): return -0.5*alpha\n",
        "def inverse_multi_quadric(alpha): return -0.5*torch.log(torch.ones_like(alpha) + alpha)\n",
        "def inverse_quadratic(alpha): return -torch.log(torch.ones_like(alpha) + alpha)\n",
        "\n",
        "class Model(nn.Module):\n",
        "    def __init__(self, num_input, en1_units_x, en2_units_x, num_coordinate, num_topic, drop_rate, variance_x, bs,\n",
        "                 embedding_words, word_emb_size, distance=\"gaussian\"):\n",
        "\n",
        "        super(Model, self).__init__()\n",
        "        self.num_input, self.num_coordinate, self.num_topic, self.variance_x, self.bs \\\n",
        "            = num_input, num_coordinate, num_topic, variance_x, bs\n",
        "\n",
        "        self.embedding_words = embedding_words\n",
        "        self.emb_size = word_emb_size\n",
        "\n",
        "        # encoder\n",
        "        self.en1_fc     = nn.Linear(num_input, en1_units_x)\n",
        "        self.en2_fc     = nn.Linear(en1_units_x, en2_units_x)\n",
        "        self.en2_drop   = nn.Dropout(drop_rate)\n",
        "        self.mean_fc    = nn.Linear(en2_units_x, num_coordinate)\n",
        "        self.mean_bn    = nn.BatchNorm1d(num_coordinate)\n",
        "        self.logvar_fc  = nn.Linear(en2_units_x, num_coordinate)\n",
        "        self.logvar_bn  = nn.BatchNorm1d(num_coordinate)\n",
        "\n",
        "        # RBF\n",
        "        self.in_features = self.num_coordinate\n",
        "        self.out_features = self.num_topic\n",
        "        self.centres = nn.Parameter(torch.Tensor(self.out_features, self.in_features)) # K x 2\n",
        "        self.mu_z = nn.Parameter(torch.Tensor(self.out_features,self.emb_size))# K x 300\n",
        "\n",
        "        if distance==\"gaussian\": self.basis_func = gaussian\n",
        "        if distance==\"inverse_quadratic\": self.basis_func = inverse_quadratic\n",
        "        if distance==\"inverse_multi_quadric\": self.basis_func = inverse_multi_quadric\n",
        "        self.init_parameters()\n",
        "\n",
        "        # decoder document\n",
        "        self.decoder_phi_bn = nn.BatchNorm1d(num_coordinate)                      # bn for decoder\n",
        "        self.decoder_x_bn = nn.BatchNorm1d(num_coordinate)\n",
        "        self.deocder_mu_z_bn = nn.BatchNorm1d(self.num_topic)\n",
        "\n",
        "        # prior mean and variance as constant buffers\n",
        "        prior_mean   = torch.Tensor(1, num_coordinate).fill_(0)\n",
        "        prior_var    = torch.Tensor(1, num_coordinate).fill_(variance_x)\n",
        "        self.prior_mean = nn.Parameter(prior_mean, requires_grad=False)\n",
        "        self.prior_var  = nn.Parameter(prior_var, requires_grad=False)\n",
        "        self.prior_logvar = nn.Parameter(prior_var.log(), requires_grad=False)\n",
        "\n",
        "    def init_parameters(self):\n",
        "        nn.init.normal_(self.centres,0, 0.01)\n",
        "        nn.init.normal_(self.mu_z,0,0.01)\n",
        "\n",
        "    def encode(self, input_):\n",
        "        N, *_ = input_.size()\n",
        "        en1 = F.softplus(self.en1_fc(input_))                           # en1_fc   output\n",
        "        en2 = F.softplus(self.en2_fc(en1))                              # encoder2 output\n",
        "        en2 = self.en2_drop(en2)\n",
        "        posterior_mean   = self.mean_bn(self.mean_fc(en2))          # posterior mean\n",
        "        posterior_logvar = self.logvar_bn(self.logvar_fc(en2))          # posterior log variance\n",
        "        posterior_var    = posterior_logvar.exp()\n",
        "\n",
        "        return en2, posterior_mean, posterior_logvar, posterior_var\n",
        "\n",
        "    def take_sample(self, input_, posterior_mean, posterior_var, prior_var):\n",
        "        eps = input_.data.new().resize_as_(posterior_mean.data).normal_(std=1) # noise\n",
        "        z = posterior_mean + posterior_var.sqrt() * eps                   # reparameterization\n",
        "        return z\n",
        "\n",
        "    def get_beta(self):\n",
        "      size_KV300 = (self.num_topic,self.num_input,self.emb_size) # KxVx300\n",
        "      kv_wnm = self.embedding_words.unsqueeze(0).expand(size_KV300)\n",
        "      # mu_z_bn = self.deocder_mu_z_bn(self.mu_z.T).T\n",
        "      # kv_mu_z = mu_z_bn.unsqueeze(1).expand(size_KV300)\n",
        "      kv_mu_z = self.mu_z.unsqueeze(1).expand(size_KV300)\n",
        "      wmn_normal = Log_NormDist(kv_wnm,kv_mu_z,sig0) # K x V\n",
        "      return wmn_normal\n",
        "\n",
        "    def decode(self, z):\n",
        "\n",
        "        ## Theta - P(z|x,phi)\n",
        "        N, *_ = z.size()\n",
        "        # zx = self.decoder_x_bn(z).view(N, 1, self.num_coordinate) # Nx1x2\n",
        "        zx = z.view(N, 1, self.num_coordinate) # Nx1x2\n",
        "        size = (N, self.out_features, self.in_features) # N,K,2\n",
        "        x = zx.expand(size)\n",
        "        # c = self.decoder_phi_bn(self.centres).unsqueeze(0).expand(size)\n",
        "        c = self.centres.unsqueeze(0).expand(size)\n",
        "        d = (x-c).pow(2).sum(-1)\n",
        "        distances = self.basis_func(d)\n",
        "        zx_phi = torch.exp(distances - torch.logsumexp(distances, dim=-1, keepdim=True)) # N x K\n",
        "\n",
        "        beta = self.get_beta()\n",
        "        recon_v = log_bmm(torch.log(zx_phi+smoothen).unsqueeze(0),beta.unsqueeze(0)).squeeze(0)\n",
        "\n",
        "        # MAP_LOSS\n",
        "        map_phi = -Log_NormDist(x=self.centres,mu=0.0,sigma=sig_phi,d=2).sum(0)\n",
        "        map_mu_z = -Log_NormDist(x=self.mu_z,mu=0.0,sigma=sig_mu_z,d=300).sum(0)\n",
        "        map_loss = map_mu_z + map_phi\n",
        "        return recon_v, zx, zx_phi, d,map_loss\n",
        "\n",
        "    def forward(self, input_, compute_loss=False):\n",
        "        en2, posterior_mean, posterior_logvar, posterior_var = self.encode(input_)\n",
        "        z = self.take_sample(input_, posterior_mean, posterior_var, self.variance_x)\n",
        "        recon_v, zx, zx_phi,d,map_loss= self.decode(z)\n",
        "\n",
        "        if compute_loss:\n",
        "            return recon_v, self.loss(input_, recon_v, zx_phi, posterior_mean, posterior_logvar, posterior_var, d,zx,map_loss)\n",
        "        else: return z, recon_v, zx, zx_phi\n",
        "\n",
        "    def KLD(self, posterior_mean,posterior_logvar,posterior_var):\n",
        "        N = posterior_mean.shape[0]\n",
        "        prior_mean   = self.prior_mean.expand_as(posterior_mean)\n",
        "        prior_var    = self.prior_var.expand_as(posterior_mean)\n",
        "        prior_logvar = self.prior_logvar.expand_as(posterior_mean)\n",
        "\n",
        "        var_division    = posterior_var  / prior_var\n",
        "        diff            = posterior_mean - prior_mean\n",
        "        diff_term       = diff * diff / prior_var\n",
        "        logvar_division = prior_logvar - posterior_logvar\n",
        "\n",
        "        xKLD = 0.5 * ((var_division + diff_term + logvar_division).sum(-1) - self.num_coordinate)\n",
        "        return xKLD\n",
        "\n",
        "    def loss(self, input_, recon_v, zx_phi, posterior_mean, posterior_logvar, posterior_var, d, zx, map_loss,avg=True):\n",
        "        N = posterior_mean.shape[0]\n",
        "\n",
        "        # NL = - (input_ * (recon_v +1e-30).log()).sum(-1) # (Word_Count_input_loss)\n",
        "        NL = - (input_ * recon_v).sum(-1) # (Word_Count_input_loss)\n",
        "        NL= NL.sum()\n",
        "        KLD = self.KLD(posterior_mean,posterior_logvar,posterior_var).sum()\n",
        "\n",
        "        loss = NL + KLD\n",
        "        return loss/N, NL,KLD,map_loss/n_batch"
      ],
      "execution_count": null,
      "outputs": []
    },
    {
      "cell_type": "code",
      "metadata": {
        "id": "Xiv54gv6-sqB",
        "colab": {
          "base_uri": "https://localhost:8080/"
        },
        "outputId": "e411a76c-29be-4740-c3c1-e524afc10dd3"
      },
      "source": [
        "embedding_tensor_words = embedding_tensor_sorted_alp ## alphabetically sorted Vocab\n",
        "embedding_0_center_words = embedding_tensor_words - embedding_tensor_words.mean(0)\n",
        "embedding_tensor_words_d = embedding_0_center_words.to(device)\n",
        "\n",
        "kld_arr,recon_arr,neg_log_rscore_arr = [],[],[]\n",
        "all_indices = torch.randperm(tensor_train_w.size(0)).split(bs)\n",
        "n_batch = len(all_indices)\n",
        "\n",
        "model = Model(num_input, en1_units_x, en2_units_x, num_coordinate, num_topic, drop_rate, variance_x, bs,\n",
        "              embedding_tensor_words_d,emb_size, \"gaussian\")\n",
        "\n",
        "model.to(device)\n",
        "\n",
        "optimizer = optim.Adam(model.parameters(), learning_rate, betas=(beta1, beta2))\n",
        "\n",
        "epochs = 500\n",
        "\n",
        "for epoch in range(epochs):\n",
        "\n",
        "    loss_u_epoch = 0.0 ## NL loss\n",
        "    loss_KLD = 0.0  ## KL loss\n",
        "    loss_epoch = 0.0 ## Loss per batch #\n",
        "    neg_log_rscore_ep = 0.0 ## Neg Loss (Score)\n",
        "\n",
        "    model.train()\n",
        "\n",
        "    for batch_ndx in all_indices:\n",
        "\n",
        "        input_w = tensor_train_w[batch_ndx].to(device)\n",
        "        labels = train_label[batch_ndx]\n",
        "        recon_v, (loss, loss_u, xkl_loss, neg_log_rscore) = model(input_w,compute_loss=True)\n",
        "\n",
        "        optimizer.zero_grad()\n",
        "        loss.backward()\n",
        "\n",
        "        optimizer.step()             # backpror.step()\n",
        "        loss_epoch += loss.item()\n",
        "        loss_u_epoch += loss_u.item()\n",
        "        loss_KLD += xkl_loss.item()\n",
        "        neg_log_rscore_ep += neg_log_rscore.item()\n",
        "\n",
        "    kld_arr.append(loss_KLD)\n",
        "    recon_arr.append(loss_u_epoch)\n",
        "    neg_log_rscore_arr.append(neg_log_rscore_ep)\n",
        "\n",
        "    if epoch % 10 == 0:\n",
        "        print('Epoch -> {} , loss -> {}'.format(epoch,loss_epoch))\n",
        "        print('recon_loss==> {} || KLD==> {} || map_loss==> {}'.format(loss_u_epoch, loss_KLD,neg_log_rscore_ep))"
      ],
      "execution_count": null,
      "outputs": [
        {
          "output_type": "stream",
          "text": [
            "Epoch -> 0 , loss -> 184082.0625\n",
            "recon_loss==> 45277633.25 || KLD==> 3624.57666015625 || map_loss==> 4626.825439453125\n",
            "Epoch -> 10 , loss -> 153660.931640625\n",
            "recon_loss==> 37784686.5 || KLD==> 2596.83935546875 || map_loss==> 515511.13671875\n",
            "Epoch -> 20 , loss -> 147704.5322265625\n",
            "recon_loss==> 36321027.0 || KLD==> 2032.92578125 || map_loss==> 908977.109375\n",
            "Epoch -> 30 , loss -> 145745.8017578125\n",
            "recon_loss==> 35843448.0 || KLD==> 1639.1393737792969 || map_loss==> 998750.015625\n",
            "Epoch -> 40 , loss -> 144370.6748046875\n",
            "recon_loss==> 35502804.75 || KLD==> 1327.4211044311523 || map_loss==> 1042927.8515625\n",
            "Epoch -> 50 , loss -> 143717.3056640625\n",
            "recon_loss==> 35342336.5 || KLD==> 1105.9950790405273 || map_loss==> 1071370.359375\n",
            "Epoch -> 60 , loss -> 143453.927734375\n",
            "recon_loss==> 35279046.0 || KLD==> 1005.3847579956055 || map_loss==> 1049919.84375\n",
            "Epoch -> 70 , loss -> 143354.935546875\n",
            "recon_loss==> 35254580.0 || KLD==> 1040.7220153808594 || map_loss==> 1029722.6484375\n",
            "Epoch -> 80 , loss -> 143309.2802734375\n",
            "recon_loss==> 35242876.75 || KLD==> 1129.5349502563477 || map_loss==> 1028187.9609375\n",
            "Epoch -> 90 , loss -> 143289.810546875\n",
            "recon_loss==> 35238194.0 || KLD==> 1196.4317932128906 || map_loss==> 1030384.8046875\n",
            "Epoch -> 100 , loss -> 143281.078125\n",
            "recon_loss==> 35235913.75 || KLD==> 1272.9991149902344 || map_loss==> 1028840.5\n",
            "Epoch -> 110 , loss -> 143276.6279296875\n",
            "recon_loss==> 35234761.0 || KLD==> 1362.5545959472656 || map_loss==> 1028148.125\n",
            "Epoch -> 120 , loss -> 143274.884765625\n",
            "recon_loss==> 35234220.75 || KLD==> 1454.395248413086 || map_loss==> 1028662.9609375\n",
            "Epoch -> 130 , loss -> 143273.34765625\n",
            "recon_loss==> 35233762.25 || KLD==> 1524.1880798339844 || map_loss==> 1029103.140625\n",
            "Epoch -> 140 , loss -> 143272.5244140625\n",
            "recon_loss==> 35233503.25 || KLD==> 1598.239013671875 || map_loss==> 1029203.859375\n",
            "Epoch -> 150 , loss -> 143271.794921875\n",
            "recon_loss==> 35233233.5 || KLD==> 1683.4249877929688 || map_loss==> 1029041.171875\n",
            "Epoch -> 160 , loss -> 143271.6513671875\n",
            "recon_loss==> 35233124.0 || KLD==> 1742.7824401855469 || map_loss==> 1029167.9296875\n",
            "Epoch -> 170 , loss -> 143271.0546875\n",
            "recon_loss==> 35232941.25 || KLD==> 1792.3497009277344 || map_loss==> 1029323.515625\n",
            "Epoch -> 180 , loss -> 143270.7080078125\n",
            "recon_loss==> 35232814.75 || KLD==> 1838.4351654052734 || map_loss==> 1029390.734375\n",
            "Epoch -> 190 , loss -> 143270.5576171875\n",
            "recon_loss==> 35232758.75 || KLD==> 1852.4082641601562 || map_loss==> 1029463.75\n",
            "Epoch -> 200 , loss -> 143269.9140625\n",
            "recon_loss==> 35232595.5 || KLD==> 1857.9080657958984 || map_loss==> 1029542.3359375\n",
            "Epoch -> 210 , loss -> 143269.94921875\n",
            "recon_loss==> 35232603.5 || KLD==> 1852.114761352539 || map_loss==> 1029620.296875\n",
            "Epoch -> 220 , loss -> 143269.6181640625\n",
            "recon_loss==> 35232529.75 || KLD==> 1848.716781616211 || map_loss==> 1029700.984375\n",
            "Epoch -> 230 , loss -> 143269.8115234375\n",
            "recon_loss==> 35232594.5 || KLD==> 1836.9401245117188 || map_loss==> 1029780.1328125\n",
            "Epoch -> 240 , loss -> 143269.2080078125\n",
            "recon_loss==> 35232439.75 || KLD==> 1835.2897033691406 || map_loss==> 1029861.8828125\n",
            "Epoch -> 250 , loss -> 143269.48828125\n",
            "recon_loss==> 35232506.5 || KLD==> 1841.436264038086 || map_loss==> 1029943.8984375\n",
            "Epoch -> 260 , loss -> 143268.763671875\n",
            "recon_loss==> 35232323.25 || KLD==> 1846.9790802001953 || map_loss==> 1030024.859375\n",
            "Epoch -> 270 , loss -> 143269.1552734375\n",
            "recon_loss==> 35232419.5 || KLD==> 1838.2015380859375 || map_loss==> 1030105.5859375\n",
            "Epoch -> 280 , loss -> 143268.8154296875\n",
            "recon_loss==> 35232347.25 || KLD==> 1835.8106079101562 || map_loss==> 1030184.671875\n",
            "Epoch -> 290 , loss -> 143268.525390625\n",
            "recon_loss==> 35232284.5 || KLD==> 1832.9906311035156 || map_loss==> 1030260.6796875\n",
            "Epoch -> 300 , loss -> 143268.7099609375\n",
            "recon_loss==> 35232308.0 || KLD==> 1840.3276824951172 || map_loss==> 1030336.5546875\n",
            "Epoch -> 310 , loss -> 143268.1767578125\n",
            "recon_loss==> 35232171.5 || KLD==> 1850.4754333496094 || map_loss==> 1030409.9921875\n",
            "Epoch -> 320 , loss -> 143268.177734375\n",
            "recon_loss==> 35232183.25 || KLD==> 1853.9891662597656 || map_loss==> 1030479.015625\n",
            "Epoch -> 330 , loss -> 143268.7080078125\n",
            "recon_loss==> 35232311.25 || KLD==> 1848.2294311523438 || map_loss==> 1030550.3515625\n",
            "Epoch -> 340 , loss -> 143268.111328125\n",
            "recon_loss==> 35232148.5 || KLD==> 1857.2300262451172 || map_loss==> 1030622.078125\n",
            "Epoch -> 350 , loss -> 143268.1845703125\n",
            "recon_loss==> 35232161.0 || KLD==> 1856.0267639160156 || map_loss==> 1030684.5078125\n",
            "Epoch -> 360 , loss -> 143268.0029296875\n",
            "recon_loss==> 35232125.25 || KLD==> 1857.5228576660156 || map_loss==> 1030747.0625\n",
            "Epoch -> 370 , loss -> 143267.87890625\n",
            "recon_loss==> 35232086.25 || KLD==> 1866.4585723876953 || map_loss==> 1030808.9765625\n",
            "Epoch -> 380 , loss -> 143267.859375\n",
            "recon_loss==> 35232096.25 || KLD==> 1858.7620849609375 || map_loss==> 1030869.2890625\n",
            "Epoch -> 390 , loss -> 143267.8076171875\n",
            "recon_loss==> 35232077.5 || KLD==> 1854.9786987304688 || map_loss==> 1030926.2265625\n",
            "Epoch -> 400 , loss -> 143267.583984375\n",
            "recon_loss==> 35232020.0 || KLD==> 1863.1463470458984 || map_loss==> 1030979.1796875\n",
            "Epoch -> 410 , loss -> 143268.083984375\n",
            "recon_loss==> 35232142.75 || KLD==> 1855.6251983642578 || map_loss==> 1031032.5234375\n",
            "Epoch -> 420 , loss -> 143267.4990234375\n",
            "recon_loss==> 35232021.5 || KLD==> 1840.477066040039 || map_loss==> 1031084.59375\n",
            "Epoch -> 430 , loss -> 143267.798828125\n",
            "recon_loss==> 35232097.75 || KLD==> 1842.9513854980469 || map_loss==> 1031135.0234375\n",
            "Epoch -> 440 , loss -> 143267.755859375\n",
            "recon_loss==> 35232087.0 || KLD==> 1843.081527709961 || map_loss==> 1031180.671875\n",
            "Epoch -> 450 , loss -> 143267.4755859375\n",
            "recon_loss==> 35232016.5 || KLD==> 1844.968505859375 || map_loss==> 1031225.9296875\n",
            "Epoch -> 460 , loss -> 143267.5361328125\n",
            "recon_loss==> 35232016.75 || KLD==> 1849.8679656982422 || map_loss==> 1031271.0078125\n",
            "Epoch -> 470 , loss -> 143267.3837890625\n",
            "recon_loss==> 35231982.25 || KLD==> 1847.6072540283203 || map_loss==> 1031311.25\n",
            "Epoch -> 480 , loss -> 143267.6064453125\n",
            "recon_loss==> 35232051.75 || KLD==> 1825.8381958007812 || map_loss==> 1031350.828125\n",
            "Epoch -> 490 , loss -> 143267.6064453125\n",
            "recon_loss==> 35232079.5 || KLD==> 1823.8236999511719 || map_loss==> 1031395.8984375\n"
          ],
          "name": "stdout"
        }
      ]
    },
    {
      "cell_type": "markdown",
      "metadata": {
        "id": "K0zQCuyY_kaq"
      },
      "source": [
        "# **Functions (Plot_loss, get_topwords, get_Z, get_Contour, print_Topics)** - *Run Once*"
      ]
    },
    {
      "cell_type": "code",
      "metadata": {
        "id": "IQs6On09Oj9I",
        "cellView": "form"
      },
      "source": [
        "#@title get_all_tensor_size\n",
        "def getall_tensor_size():\n",
        "  for obj in gc.get_objects():\n",
        "    try:\n",
        "        if torch.is_tensor(obj) or (hasattr(obj, 'data') and torch.is_tensor(obj.data)):\n",
        "            print(type(obj), obj.size(),get_mem_size(obj))\n",
        "    except:\n",
        "        pass"
      ],
      "execution_count": null,
      "outputs": []
    },
    {
      "cell_type": "code",
      "metadata": {
        "id": "r9dbke4-9_Wy"
      },
      "source": [
        "import plotly.graph_objects as go\n",
        "def plot_loss(y,name):\n",
        "  figure = go.Figure()\n",
        "  figure.add_trace(go.Scatter(x=[i for i in range(1,epochs+1)], y=y,mode='lines',name=name))\n",
        "  figure.show(renderer='colab')"
      ],
      "execution_count": null,
      "outputs": []
    },
    {
      "cell_type": "code",
      "metadata": {
        "id": "a2KM8q_S7ivG"
      },
      "source": [
        "def get_topwords(beta, id_vocab):\n",
        "    topic_indx = 0\n",
        "    no_of_topwords = 20\n",
        "    topwords_topic = []\n",
        "    for i in range(len(beta)):\n",
        "        topwords_topic.append(str(topic_indx)+\": \"+ \" \".join([id_vocab[j] for j in beta[i].argsort()[:-no_of_topwords - 1:-1]]))\n",
        "        topic_indx+=1\n",
        "    return topwords_topic"
      ],
      "execution_count": null,
      "outputs": []
    },
    {
      "cell_type": "code",
      "metadata": {
        "id": "h2DrizcsH104"
      },
      "source": [
        "def get_Z(X,Y):\n",
        "  norms = torch.zeros(X.shape)\n",
        "  Z = torch.zeros(X.shape)\n",
        "\n",
        "  for i in range(X.shape[0]):\n",
        "    for j in range(X.shape[0]):\n",
        "      v = torch.tensor([X[i][j],Y[i][j]])\n",
        "\n",
        "      norms[i][j] = torch.norm(v)\n",
        "      Z[i][j]=torch.exp(-0.5 * (torch.pow(norms[i][j],2))/mu_div)\n",
        "\n",
        "      # norms[i][j] = (v-query_center.T).pow(2).sum(-1)\n",
        "      # Z[i][j]=torch.exp(-0.5 * norms[i][j]/mu_div)\n",
        "  return Z"
      ],
      "execution_count": null,
      "outputs": []
    },
    {
      "cell_type": "code",
      "metadata": {
        "id": "NHlxtT-07ivG"
      },
      "source": [
        "def get_Contour(ax,x_list,lim):\n",
        "  xlist = np.linspace(-lim, lim, 200)\n",
        "  ylist = np.linspace(-lim, lim, 200)\n",
        "  X, Y = np.meshgrid(xlist, ylist)\n",
        "  Z = get_Z(X,Y)\n",
        "  levels = np.arange(0,1,0.1)\n",
        "  cp = ax.contour(X, Y, Z, levels=levels)\n",
        "  ax.clabel(cp, inline=1, fontsize=10)"
      ],
      "execution_count": null,
      "outputs": []
    },
    {
      "cell_type": "code",
      "metadata": {
        "id": "pSndz8tz7ivH"
      },
      "source": [
        "import seaborn as sb\n",
        "\n",
        "def plot_fig(zx, labels_list, zphi,lim,contour='No'):\n",
        "    labels = []\n",
        "    for i in range(len(labels_list)):\n",
        "        labels.append('C'+str(labels_list[i]))\n",
        "    fig, ax = plt.subplots( figsize=(20, 20))\n",
        "    if contour=='yes':\n",
        "       get_Contour(ax,zx,lim)\n",
        "\n",
        "    sb.scatterplot(ax=ax,x=zx[:,0],y=zx[:,1],hue=labels_list,alpha=0.8,palette='deep')\n",
        "    ax.set(ylim=(-lim,lim))\n",
        "    ax.set(xlim=(-lim,lim))\n",
        "    ax.text(0,0, 'X' ,c='black')\n",
        "    ax.scatter(zphi[:, 0], zphi[:, 1], alpha=1.0,  edgecolors='black', facecolors='none', s=30)\n",
        "\n",
        "    for indx, topic in enumerate(zphi):\n",
        "        ax.text(zphi[indx, 0], zphi[indx, 1], 'topic'+str(indx))"
      ],
      "execution_count": null,
      "outputs": []
    },
    {
      "cell_type": "code",
      "metadata": {
        "id": "yx1pgbyn0qhe"
      },
      "source": [
        "def print_Topics():\n",
        "  print(\"---\"*10)\n",
        "  topword_topics = get_topwords(beta, id_vocab)\n",
        "  topword_topics_list=[]\n",
        "  for topwords in topword_topics:\n",
        "      topword_topics_list.append(topwords.split())\n",
        "      print(topwords)\n",
        "  print(\"---\"*10)"
      ],
      "execution_count": null,
      "outputs": []
    },
    {
      "cell_type": "markdown",
      "metadata": {
        "id": "0Uhb1PwzUlOk"
      },
      "source": []
    },
    {
      "cell_type": "code",
      "metadata": {
        "id": "KKN8jVXRB72X"
      },
      "source": [],
      "execution_count": null,
      "outputs": []
    },
    {
      "cell_type": "markdown",
      "metadata": {
        "id": "JM0IBTQv_s8T"
      },
      "source": [
        "# **Plots,Topics,Visualizations**"
      ]
    },
    {
      "cell_type": "code",
      "metadata": {
        "id": "LpNa3a4LOzVH",
        "colab": {
          "base_uri": "https://localhost:8080/",
          "height": 542
        },
        "outputId": "2950365c-d035-492f-c49f-e33b9991c09a"
      },
      "source": [
        "plot_loss(neg_log_rscore_arr,\"map\")"
      ],
      "execution_count": null,
      "outputs": [
        {
          "output_type": "display_data",
          "data": {
            "text/html": [
              "<html>\n",
              "<head><meta charset=\"utf-8\" /></head>\n",
              "<body>\n",
              "    <div>\n",
              "            <script src=\"https://cdnjs.cloudflare.com/ajax/libs/mathjax/2.7.5/MathJax.js?config=TeX-AMS-MML_SVG\"></script><script type=\"text/javascript\">if (window.MathJax) {MathJax.Hub.Config({SVG: {font: \"STIX-Web\"}});}</script>\n",
              "                <script type=\"text/javascript\">window.PlotlyConfig = {MathJaxConfig: 'local'};</script>\n",
              "        <script src=\"https://cdn.plot.ly/plotly-latest.min.js\"></script>    \n",
              "            <div id=\"176e8184-3fd0-4001-b707-c6344f5534cb\" class=\"plotly-graph-div\" style=\"height:525px; width:100%;\"></div>\n",
              "            <script type=\"text/javascript\">\n",
              "                \n",
              "                    window.PLOTLYENV=window.PLOTLYENV || {};\n",
              "                    \n",
              "                if (document.getElementById(\"176e8184-3fd0-4001-b707-c6344f5534cb\")) {\n",
              "                    Plotly.newPlot(\n",
              "                        '176e8184-3fd0-4001-b707-c6344f5534cb',\n",
              "                        [{\"mode\": \"lines\", \"name\": \"map\", \"type\": \"scatter\", \"x\": [1, 2, 3, 4, 5, 6, 7, 8, 9, 10, 11, 12, 13, 14, 15, 16, 17, 18, 19, 20, 21, 22, 23, 24, 25, 26, 27, 28, 29, 30, 31, 32, 33, 34, 35, 36, 37, 38, 39, 40, 41, 42, 43, 44, 45, 46, 47, 48, 49, 50, 51, 52, 53, 54, 55, 56, 57, 58, 59, 60, 61, 62, 63, 64, 65, 66, 67, 68, 69, 70, 71, 72, 73, 74, 75, 76, 77, 78, 79, 80, 81, 82, 83, 84, 85, 86, 87, 88, 89, 90, 91, 92, 93, 94, 95, 96, 97, 98, 99, 100, 101, 102, 103, 104, 105, 106, 107, 108, 109, 110, 111, 112, 113, 114, 115, 116, 117, 118, 119, 120, 121, 122, 123, 124, 125, 126, 127, 128, 129, 130, 131, 132, 133, 134, 135, 136, 137, 138, 139, 140, 141, 142, 143, 144, 145, 146, 147, 148, 149, 150, 151, 152, 153, 154, 155, 156, 157, 158, 159, 160, 161, 162, 163, 164, 165, 166, 167, 168, 169, 170, 171, 172, 173, 174, 175, 176, 177, 178, 179, 180, 181, 182, 183, 184, 185, 186, 187, 188, 189, 190, 191, 192, 193, 194, 195, 196, 197, 198, 199, 200, 201, 202, 203, 204, 205, 206, 207, 208, 209, 210, 211, 212, 213, 214, 215, 216, 217, 218, 219, 220, 221, 222, 223, 224, 225, 226, 227, 228, 229, 230, 231, 232, 233, 234, 235, 236, 237, 238, 239, 240, 241, 242, 243, 244, 245, 246, 247, 248, 249, 250, 251, 252, 253, 254, 255, 256, 257, 258, 259, 260, 261, 262, 263, 264, 265, 266, 267, 268, 269, 270, 271, 272, 273, 274, 275, 276, 277, 278, 279, 280, 281, 282, 283, 284, 285, 286, 287, 288, 289, 290, 291, 292, 293, 294, 295, 296, 297, 298, 299, 300, 301, 302, 303, 304, 305, 306, 307, 308, 309, 310, 311, 312, 313, 314, 315, 316, 317, 318, 319, 320, 321, 322, 323, 324, 325, 326, 327, 328, 329, 330, 331, 332, 333, 334, 335, 336, 337, 338, 339, 340, 341, 342, 343, 344, 345, 346, 347, 348, 349, 350, 351, 352, 353, 354, 355, 356, 357, 358, 359, 360, 361, 362, 363, 364, 365, 366, 367, 368, 369, 370, 371, 372, 373, 374, 375, 376, 377, 378, 379, 380, 381, 382, 383, 384, 385, 386, 387, 388, 389, 390, 391, 392, 393, 394, 395, 396, 397, 398, 399, 400, 401, 402, 403, 404, 405, 406, 407, 408, 409, 410, 411, 412, 413, 414, 415, 416, 417, 418, 419, 420, 421, 422, 423, 424, 425, 426, 427, 428, 429, 430, 431, 432, 433, 434, 435, 436, 437, 438, 439, 440, 441, 442, 443, 444, 445, 446, 447, 448, 449, 450, 451, 452, 453, 454, 455, 456, 457, 458, 459, 460, 461, 462, 463, 464, 465, 466, 467, 468, 469, 470, 471, 472, 473, 474, 475, 476, 477, 478, 479, 480, 481, 482, 483, 484, 485, 486, 487, 488, 489, 490, 491, 492, 493, 494, 495, 496, 497, 498, 499, 500], \"y\": [4626.825439453125, 20095.67919921875, 48453.730712890625, 88019.873046875, 137048.8408203125, 193576.619140625, 255411.294921875, 320445.375, 386688.453125, 452249.09765625, 515511.13671875, 575205.41015625, 630559.703125, 681216.046875, 727056.046875, 768106.03125, 804511.3515625, 836553.84375, 864475.375, 888515.2734375, 908977.109375, 926187.4765625, 940572.71875, 952587.015625, 962642.5859375, 971111.6875, 978276.8671875, 984358.609375, 989644.359375, 994395.3671875, 998750.015625, 1002842.0703125, 1006838.2109375, 1010896.78125, 1015047.4453125, 1019331.484375, 1023784.1796875, 1028403.59375, 1033172.1953125, 1038040.4375, 1042927.8515625, 1047749.6796875, 1052396.5703125, 1056742.8828125, 1060652.2109375, 1064011.078125, 1066781.109375, 1068927.1484375, 1070418.1953125, 1071229.6953125, 1071370.359375, 1070890.859375, 1069835.671875, 1068251.625, 1066236.71875, 1063899.046875, 1061320.109375, 1058570.1484375, 1055716.609375, 1052814.3359375, 1049919.84375, 1047089.4140625, 1044375.546875, 1041818.3984375, 1039444.828125, 1037274.03125, 1035318.640625, 1033586.2265625, 1032077.2265625, 1030790.6875, 1029722.6484375, 1028866.1015625, 1028210.859375, 1027743.8828125, 1027449.296875, 1027309.0546875, 1027303.125, 1027410.2109375, 1027608.171875, 1027874.8203125, 1028187.9609375, 1028526.9453125, 1028872.515625, 1029207.5078125, 1029517.546875, 1029790.6953125, 1030018.0546875, 1030193.2734375, 1030312.9375, 1030376.234375, 1030384.8046875, 1030342.3984375, 1030254.6484375, 1030128.5859375, 1029972.15625, 1029793.5625, 1029601.296875, 1029403.1015625, 1029206.21875, 1029016.9765625, 1028840.5, 1028680.8203125, 1028540.5234375, 1028421.3203125, 1028323.8203125, 1028247.8125, 1028192.4375, 1028156.4140625, 1028138.140625, 1028136.03125, 1028148.125, 1028172.6875, 1028207.8203125, 1028251.796875, 1028302.59375, 1028358.59375, 1028418.15625, 1028479.546875, 1028541.625, 1028603.046875, 1028662.9609375, 1028720.5078125, 1028775.25, 1028826.859375, 1028875.265625, 1028920.5078125, 1028962.6171875, 1029001.9140625, 1029038.453125, 1029072.203125, 1029103.140625, 1029131.125, 1029156.03125, 1029177.3203125, 1029194.75, 1029208.015625, 1029216.6328125, 1029220.4921875, 1029219.4765625, 1029213.828125, 1029203.859375, 1029190.0078125, 1029173.234375, 1029154.1953125, 1029133.890625, 1029113.390625, 1029093.7421875, 1029075.796875, 1029060.65625, 1029048.8984375, 1029041.171875, 1029037.8046875, 1029038.859375, 1029044.375, 1029054.1171875, 1029067.65625, 1029084.3515625, 1029103.4140625, 1029124.25, 1029145.9609375, 1029167.9296875, 1029189.6796875, 1029210.484375, 1029230.078125, 1029248.125, 1029264.515625, 1029279.1484375, 1029292.2421875, 1029303.890625, 1029314.265625, 1029323.515625, 1029331.84375, 1029339.4609375, 1029346.59375, 1029353.421875, 1029359.9296875, 1029366.140625, 1029372.2890625, 1029378.4765625, 1029384.65625, 1029390.734375, 1029396.9296875, 1029403.2734375, 1029409.859375, 1029416.7734375, 1029423.9375, 1029431.4453125, 1029439.2578125, 1029447.2734375, 1029455.4453125, 1029463.75, 1029472.03125, 1029480.2265625, 1029488.296875, 1029496.328125, 1029504.2421875, 1029512.0546875, 1029519.6796875, 1029527.2578125, 1029534.8359375, 1029542.3359375, 1029549.765625, 1029557.1640625, 1029564.5625, 1029572.1875, 1029579.9140625, 1029587.8515625, 1029595.8828125, 1029604.0859375, 1029612.2265625, 1029620.296875, 1029628.375, 1029636.453125, 1029644.484375, 1029652.4140625, 1029660.4921875, 1029668.5078125, 1029676.5390625, 1029684.625, 1029692.796875, 1029700.984375, 1029709.1328125, 1029717.265625, 1029725.3125, 1029733.265625, 1029741.171875, 1029749.03125, 1029756.9140625, 1029764.6796875, 1029772.4140625, 1029780.1328125, 1029787.9375, 1029795.90625, 1029804.03125, 1029812.15625, 1029820.4609375, 1029828.71875, 1029836.9375, 1029845.328125, 1029853.5859375, 1029861.8828125, 1029870.2578125, 1029878.546875, 1029886.703125, 1029894.8359375, 1029903.03125, 1029911.1953125, 1029919.359375, 1029927.609375, 1029935.828125, 1029943.8984375, 1029952.03125, 1029960.3828125, 1029968.625, 1029976.8046875, 1029985.0390625, 1029993.1953125, 1030001.25, 1030009.0, 1030016.8203125, 1030024.859375, 1030032.890625, 1030041.0078125, 1030049.1640625, 1030057.1328125, 1030065.2421875, 1030073.328125, 1030081.40625, 1030089.390625, 1030097.421875, 1030105.5859375, 1030113.78125, 1030121.8828125, 1030129.8671875, 1030137.6953125, 1030145.6171875, 1030153.4375, 1030161.203125, 1030169.046875, 1030176.9140625, 1030184.671875, 1030192.25, 1030199.75, 1030207.078125, 1030214.5234375, 1030222.0703125, 1030229.7265625, 1030237.484375, 1030245.28125, 1030252.9375, 1030260.6796875, 1030268.3828125, 1030275.9765625, 1030283.5234375, 1030291.109375, 1030298.71875, 1030306.3125, 1030313.859375, 1030321.4140625, 1030328.984375, 1030336.5546875, 1030344.125, 1030351.5390625, 1030358.9921875, 1030366.4921875, 1030373.9453125, 1030381.265625, 1030388.5703125, 1030395.8515625, 1030403.0390625, 1030409.9921875, 1030416.984375, 1030423.953125, 1030430.9921875, 1030437.90625, 1030444.765625, 1030451.5390625, 1030458.28125, 1030465.0859375, 1030472.0, 1030479.015625, 1030485.9609375, 1030493.0078125, 1030500.1015625, 1030507.2890625, 1030514.5546875, 1030521.734375, 1030528.8359375, 1030535.9453125, 1030543.1171875, 1030550.3515625, 1030557.421875, 1030564.5234375, 1030571.7109375, 1030578.9296875, 1030586.140625, 1030593.3828125, 1030600.765625, 1030608.140625, 1030615.1953125, 1030622.078125, 1030628.7734375, 1030635.40625, 1030641.96875, 1030648.375, 1030654.5859375, 1030660.6796875, 1030666.6171875, 1030672.609375, 1030678.5234375, 1030684.5078125, 1030690.609375, 1030696.828125, 1030703.1796875, 1030709.578125, 1030715.7734375, 1030721.84375, 1030727.9921875, 1030734.265625, 1030740.6328125, 1030747.0625, 1030753.5078125, 1030759.8125, 1030766.03125, 1030772.265625, 1030778.5390625, 1030784.59375, 1030790.625, 1030796.875, 1030803.0, 1030808.9765625, 1030815.0234375, 1030821.125, 1030827.3046875, 1030833.6171875, 1030839.78125, 1030845.8359375, 1030851.71875, 1030857.6015625, 1030863.46875, 1030869.2890625, 1030875.125, 1030880.8359375, 1030886.46875, 1030892.203125, 1030897.9453125, 1030903.578125, 1030909.1640625, 1030914.8125, 1030920.5390625, 1030926.2265625, 1030931.8671875, 1030937.4375, 1030942.78125, 1030947.9921875, 1030953.203125, 1030958.5390625, 1030963.796875, 1030969.0859375, 1030974.1640625, 1030979.1796875, 1030984.3125, 1030989.5703125, 1030994.8984375, 1031000.1328125, 1031005.359375, 1031010.7109375, 1031016.1015625, 1031021.5625, 1031027.0078125, 1031032.5234375, 1031037.875, 1031043.09375, 1031048.2578125, 1031053.5234375, 1031058.890625, 1031064.21875, 1031069.4140625, 1031074.5625, 1031079.5625, 1031084.59375, 1031089.703125, 1031094.953125, 1031100.234375, 1031105.4140625, 1031110.6171875, 1031115.8125, 1031120.8046875, 1031125.59375, 1031130.4140625, 1031135.0234375, 1031139.421875, 1031144.0, 1031148.6953125, 1031153.265625, 1031157.765625, 1031162.2109375, 1031166.7578125, 1031171.2734375, 1031175.90625, 1031180.671875, 1031185.453125, 1031190.0859375, 1031194.6875, 1031199.109375, 1031203.3671875, 1031207.703125, 1031212.0703125, 1031216.453125, 1031221.109375, 1031225.9296875, 1031230.8046875, 1031235.515625, 1031240.1640625, 1031244.8203125, 1031249.4609375, 1031253.921875, 1031258.234375, 1031262.4140625, 1031266.6953125, 1031271.0078125, 1031275.1796875, 1031279.3515625, 1031283.40625, 1031287.4609375, 1031291.5859375, 1031295.734375, 1031299.75, 1031303.6796875, 1031307.5, 1031311.25, 1031315.046875, 1031318.8515625, 1031322.5234375, 1031326.1875, 1031329.984375, 1031333.875, 1031337.9375, 1031342.1328125, 1031346.4296875, 1031350.828125, 1031355.390625, 1031360.0078125, 1031364.765625, 1031369.421875, 1031373.859375, 1031378.3828125, 1031382.9296875, 1031387.34375, 1031391.6953125, 1031395.8984375, 1031399.9765625, 1031403.890625, 1031407.6953125, 1031411.53125, 1031415.484375, 1031419.6328125, 1031423.8515625, 1031428.15625, 1031432.421875]}],\n",
              "                        {\"template\": {\"data\": {\"bar\": [{\"error_x\": {\"color\": \"#2a3f5f\"}, \"error_y\": {\"color\": \"#2a3f5f\"}, \"marker\": {\"line\": {\"color\": \"#E5ECF6\", \"width\": 0.5}}, \"type\": \"bar\"}], \"barpolar\": [{\"marker\": {\"line\": {\"color\": \"#E5ECF6\", \"width\": 0.5}}, \"type\": \"barpolar\"}], \"carpet\": [{\"aaxis\": {\"endlinecolor\": \"#2a3f5f\", \"gridcolor\": \"white\", \"linecolor\": \"white\", \"minorgridcolor\": \"white\", \"startlinecolor\": \"#2a3f5f\"}, \"baxis\": {\"endlinecolor\": \"#2a3f5f\", \"gridcolor\": \"white\", \"linecolor\": \"white\", \"minorgridcolor\": \"white\", \"startlinecolor\": \"#2a3f5f\"}, \"type\": \"carpet\"}], \"choropleth\": [{\"colorbar\": {\"outlinewidth\": 0, \"ticks\": \"\"}, \"type\": \"choropleth\"}], \"contour\": [{\"colorbar\": {\"outlinewidth\": 0, \"ticks\": \"\"}, \"colorscale\": [[0.0, \"#0d0887\"], [0.1111111111111111, \"#46039f\"], [0.2222222222222222, \"#7201a8\"], [0.3333333333333333, \"#9c179e\"], [0.4444444444444444, \"#bd3786\"], [0.5555555555555556, \"#d8576b\"], [0.6666666666666666, \"#ed7953\"], [0.7777777777777778, \"#fb9f3a\"], [0.8888888888888888, \"#fdca26\"], [1.0, \"#f0f921\"]], \"type\": \"contour\"}], \"contourcarpet\": [{\"colorbar\": {\"outlinewidth\": 0, \"ticks\": \"\"}, \"type\": \"contourcarpet\"}], \"heatmap\": [{\"colorbar\": {\"outlinewidth\": 0, \"ticks\": \"\"}, \"colorscale\": [[0.0, \"#0d0887\"], [0.1111111111111111, \"#46039f\"], [0.2222222222222222, \"#7201a8\"], [0.3333333333333333, \"#9c179e\"], [0.4444444444444444, \"#bd3786\"], [0.5555555555555556, \"#d8576b\"], [0.6666666666666666, \"#ed7953\"], [0.7777777777777778, \"#fb9f3a\"], [0.8888888888888888, \"#fdca26\"], [1.0, \"#f0f921\"]], \"type\": \"heatmap\"}], \"heatmapgl\": [{\"colorbar\": {\"outlinewidth\": 0, \"ticks\": \"\"}, \"colorscale\": [[0.0, \"#0d0887\"], [0.1111111111111111, \"#46039f\"], [0.2222222222222222, \"#7201a8\"], [0.3333333333333333, \"#9c179e\"], [0.4444444444444444, \"#bd3786\"], [0.5555555555555556, \"#d8576b\"], [0.6666666666666666, \"#ed7953\"], [0.7777777777777778, \"#fb9f3a\"], [0.8888888888888888, \"#fdca26\"], [1.0, \"#f0f921\"]], \"type\": \"heatmapgl\"}], \"histogram\": [{\"marker\": {\"colorbar\": {\"outlinewidth\": 0, \"ticks\": \"\"}}, \"type\": \"histogram\"}], \"histogram2d\": [{\"colorbar\": {\"outlinewidth\": 0, \"ticks\": \"\"}, \"colorscale\": [[0.0, \"#0d0887\"], [0.1111111111111111, \"#46039f\"], [0.2222222222222222, \"#7201a8\"], [0.3333333333333333, \"#9c179e\"], [0.4444444444444444, \"#bd3786\"], [0.5555555555555556, \"#d8576b\"], [0.6666666666666666, \"#ed7953\"], [0.7777777777777778, \"#fb9f3a\"], [0.8888888888888888, \"#fdca26\"], [1.0, \"#f0f921\"]], \"type\": \"histogram2d\"}], \"histogram2dcontour\": [{\"colorbar\": {\"outlinewidth\": 0, \"ticks\": \"\"}, \"colorscale\": [[0.0, \"#0d0887\"], [0.1111111111111111, \"#46039f\"], [0.2222222222222222, \"#7201a8\"], [0.3333333333333333, \"#9c179e\"], [0.4444444444444444, \"#bd3786\"], [0.5555555555555556, \"#d8576b\"], [0.6666666666666666, \"#ed7953\"], [0.7777777777777778, \"#fb9f3a\"], [0.8888888888888888, \"#fdca26\"], [1.0, \"#f0f921\"]], \"type\": \"histogram2dcontour\"}], \"mesh3d\": [{\"colorbar\": {\"outlinewidth\": 0, \"ticks\": \"\"}, \"type\": \"mesh3d\"}], \"parcoords\": [{\"line\": {\"colorbar\": {\"outlinewidth\": 0, \"ticks\": \"\"}}, \"type\": \"parcoords\"}], \"pie\": [{\"automargin\": true, \"type\": \"pie\"}], \"scatter\": [{\"marker\": {\"colorbar\": {\"outlinewidth\": 0, \"ticks\": \"\"}}, \"type\": \"scatter\"}], \"scatter3d\": [{\"line\": {\"colorbar\": {\"outlinewidth\": 0, \"ticks\": \"\"}}, \"marker\": {\"colorbar\": {\"outlinewidth\": 0, \"ticks\": \"\"}}, \"type\": \"scatter3d\"}], \"scattercarpet\": [{\"marker\": {\"colorbar\": {\"outlinewidth\": 0, \"ticks\": \"\"}}, \"type\": \"scattercarpet\"}], \"scattergeo\": [{\"marker\": {\"colorbar\": {\"outlinewidth\": 0, \"ticks\": \"\"}}, \"type\": \"scattergeo\"}], \"scattergl\": [{\"marker\": {\"colorbar\": {\"outlinewidth\": 0, \"ticks\": \"\"}}, \"type\": \"scattergl\"}], \"scattermapbox\": [{\"marker\": {\"colorbar\": {\"outlinewidth\": 0, \"ticks\": \"\"}}, \"type\": \"scattermapbox\"}], \"scatterpolar\": [{\"marker\": {\"colorbar\": {\"outlinewidth\": 0, \"ticks\": \"\"}}, \"type\": \"scatterpolar\"}], \"scatterpolargl\": [{\"marker\": {\"colorbar\": {\"outlinewidth\": 0, \"ticks\": \"\"}}, \"type\": \"scatterpolargl\"}], \"scatterternary\": [{\"marker\": {\"colorbar\": {\"outlinewidth\": 0, \"ticks\": \"\"}}, \"type\": \"scatterternary\"}], \"surface\": [{\"colorbar\": {\"outlinewidth\": 0, \"ticks\": \"\"}, \"colorscale\": [[0.0, \"#0d0887\"], [0.1111111111111111, \"#46039f\"], [0.2222222222222222, \"#7201a8\"], [0.3333333333333333, \"#9c179e\"], [0.4444444444444444, \"#bd3786\"], [0.5555555555555556, \"#d8576b\"], [0.6666666666666666, \"#ed7953\"], [0.7777777777777778, \"#fb9f3a\"], [0.8888888888888888, \"#fdca26\"], [1.0, \"#f0f921\"]], \"type\": \"surface\"}], \"table\": [{\"cells\": {\"fill\": {\"color\": \"#EBF0F8\"}, \"line\": {\"color\": \"white\"}}, \"header\": {\"fill\": {\"color\": \"#C8D4E3\"}, \"line\": {\"color\": \"white\"}}, \"type\": \"table\"}]}, \"layout\": {\"annotationdefaults\": {\"arrowcolor\": \"#2a3f5f\", \"arrowhead\": 0, \"arrowwidth\": 1}, \"coloraxis\": {\"colorbar\": {\"outlinewidth\": 0, \"ticks\": \"\"}}, \"colorscale\": {\"diverging\": [[0, \"#8e0152\"], [0.1, \"#c51b7d\"], [0.2, \"#de77ae\"], [0.3, \"#f1b6da\"], [0.4, \"#fde0ef\"], [0.5, \"#f7f7f7\"], [0.6, \"#e6f5d0\"], [0.7, \"#b8e186\"], [0.8, \"#7fbc41\"], [0.9, \"#4d9221\"], [1, \"#276419\"]], \"sequential\": [[0.0, \"#0d0887\"], [0.1111111111111111, \"#46039f\"], [0.2222222222222222, \"#7201a8\"], [0.3333333333333333, \"#9c179e\"], [0.4444444444444444, \"#bd3786\"], [0.5555555555555556, \"#d8576b\"], [0.6666666666666666, \"#ed7953\"], [0.7777777777777778, \"#fb9f3a\"], [0.8888888888888888, \"#fdca26\"], [1.0, \"#f0f921\"]], \"sequentialminus\": [[0.0, \"#0d0887\"], [0.1111111111111111, \"#46039f\"], [0.2222222222222222, \"#7201a8\"], [0.3333333333333333, \"#9c179e\"], [0.4444444444444444, \"#bd3786\"], [0.5555555555555556, \"#d8576b\"], [0.6666666666666666, \"#ed7953\"], [0.7777777777777778, \"#fb9f3a\"], [0.8888888888888888, \"#fdca26\"], [1.0, \"#f0f921\"]]}, \"colorway\": [\"#636efa\", \"#EF553B\", \"#00cc96\", \"#ab63fa\", \"#FFA15A\", \"#19d3f3\", \"#FF6692\", \"#B6E880\", \"#FF97FF\", \"#FECB52\"], \"font\": {\"color\": \"#2a3f5f\"}, \"geo\": {\"bgcolor\": \"white\", \"lakecolor\": \"white\", \"landcolor\": \"#E5ECF6\", \"showlakes\": true, \"showland\": true, \"subunitcolor\": \"white\"}, \"hoverlabel\": {\"align\": \"left\"}, \"hovermode\": \"closest\", \"mapbox\": {\"style\": \"light\"}, \"paper_bgcolor\": \"white\", \"plot_bgcolor\": \"#E5ECF6\", \"polar\": {\"angularaxis\": {\"gridcolor\": \"white\", \"linecolor\": \"white\", \"ticks\": \"\"}, \"bgcolor\": \"#E5ECF6\", \"radialaxis\": {\"gridcolor\": \"white\", \"linecolor\": \"white\", \"ticks\": \"\"}}, \"scene\": {\"xaxis\": {\"backgroundcolor\": \"#E5ECF6\", \"gridcolor\": \"white\", \"gridwidth\": 2, \"linecolor\": \"white\", \"showbackground\": true, \"ticks\": \"\", \"zerolinecolor\": \"white\"}, \"yaxis\": {\"backgroundcolor\": \"#E5ECF6\", \"gridcolor\": \"white\", \"gridwidth\": 2, \"linecolor\": \"white\", \"showbackground\": true, \"ticks\": \"\", \"zerolinecolor\": \"white\"}, \"zaxis\": {\"backgroundcolor\": \"#E5ECF6\", \"gridcolor\": \"white\", \"gridwidth\": 2, \"linecolor\": \"white\", \"showbackground\": true, \"ticks\": \"\", \"zerolinecolor\": \"white\"}}, \"shapedefaults\": {\"line\": {\"color\": \"#2a3f5f\"}}, \"ternary\": {\"aaxis\": {\"gridcolor\": \"white\", \"linecolor\": \"white\", \"ticks\": \"\"}, \"baxis\": {\"gridcolor\": \"white\", \"linecolor\": \"white\", \"ticks\": \"\"}, \"bgcolor\": \"#E5ECF6\", \"caxis\": {\"gridcolor\": \"white\", \"linecolor\": \"white\", \"ticks\": \"\"}}, \"title\": {\"x\": 0.05}, \"xaxis\": {\"automargin\": true, \"gridcolor\": \"white\", \"linecolor\": \"white\", \"ticks\": \"\", \"title\": {\"standoff\": 15}, \"zerolinecolor\": \"white\", \"zerolinewidth\": 2}, \"yaxis\": {\"automargin\": true, \"gridcolor\": \"white\", \"linecolor\": \"white\", \"ticks\": \"\", \"title\": {\"standoff\": 15}, \"zerolinecolor\": \"white\", \"zerolinewidth\": 2}}}},\n",
              "                        {\"responsive\": true}\n",
              "                    ).then(function(){\n",
              "                            \n",
              "var gd = document.getElementById('176e8184-3fd0-4001-b707-c6344f5534cb');\n",
              "var x = new MutationObserver(function (mutations, observer) {{\n",
              "        var display = window.getComputedStyle(gd).display;\n",
              "        if (!display || display === 'none') {{\n",
              "            console.log([gd, 'removed!']);\n",
              "            Plotly.purge(gd);\n",
              "            observer.disconnect();\n",
              "        }}\n",
              "}});\n",
              "\n",
              "// Listen for the removal of the full notebook cells\n",
              "var notebookContainer = gd.closest('#notebook-container');\n",
              "if (notebookContainer) {{\n",
              "    x.observe(notebookContainer, {childList: true});\n",
              "}}\n",
              "\n",
              "// Listen for the clearing of the current output cell\n",
              "var outputEl = gd.closest('.output');\n",
              "if (outputEl) {{\n",
              "    x.observe(outputEl, {childList: true});\n",
              "}}\n",
              "\n",
              "                        })\n",
              "                };\n",
              "                \n",
              "            </script>\n",
              "        </div>\n",
              "</body>\n",
              "</html>"
            ]
          },
          "metadata": {
            "tags": []
          }
        }
      ]
    },
    {
      "cell_type": "code",
      "metadata": {
        "id": "WPXzCVFuO0_n",
        "colab": {
          "base_uri": "https://localhost:8080/",
          "height": 542
        },
        "outputId": "eb432088-3046-4c7c-e51c-b61641df5740"
      },
      "source": [
        "plot_loss(recon_arr,\"Recon\")"
      ],
      "execution_count": null,
      "outputs": [
        {
          "output_type": "display_data",
          "data": {
            "text/html": [
              "<html>\n",
              "<head><meta charset=\"utf-8\" /></head>\n",
              "<body>\n",
              "    <div>\n",
              "            <script src=\"https://cdnjs.cloudflare.com/ajax/libs/mathjax/2.7.5/MathJax.js?config=TeX-AMS-MML_SVG\"></script><script type=\"text/javascript\">if (window.MathJax) {MathJax.Hub.Config({SVG: {font: \"STIX-Web\"}});}</script>\n",
              "                <script type=\"text/javascript\">window.PlotlyConfig = {MathJaxConfig: 'local'};</script>\n",
              "        <script src=\"https://cdn.plot.ly/plotly-latest.min.js\"></script>    \n",
              "            <div id=\"e3f0f383-a964-46e8-b4be-7da6c18e8596\" class=\"plotly-graph-div\" style=\"height:525px; width:100%;\"></div>\n",
              "            <script type=\"text/javascript\">\n",
              "                \n",
              "                    window.PLOTLYENV=window.PLOTLYENV || {};\n",
              "                    \n",
              "                if (document.getElementById(\"e3f0f383-a964-46e8-b4be-7da6c18e8596\")) {\n",
              "                    Plotly.newPlot(\n",
              "                        'e3f0f383-a964-46e8-b4be-7da6c18e8596',\n",
              "                        [{\"mode\": \"lines\", \"name\": \"Recon\", \"type\": \"scatter\", \"x\": [1, 2, 3, 4, 5, 6, 7, 8, 9, 10, 11, 12, 13, 14, 15, 16, 17, 18, 19, 20, 21, 22, 23, 24, 25, 26, 27, 28, 29, 30, 31, 32, 33, 34, 35, 36, 37, 38, 39, 40, 41, 42, 43, 44, 45, 46, 47, 48, 49, 50, 51, 52, 53, 54, 55, 56, 57, 58, 59, 60, 61, 62, 63, 64, 65, 66, 67, 68, 69, 70, 71, 72, 73, 74, 75, 76, 77, 78, 79, 80, 81, 82, 83, 84, 85, 86, 87, 88, 89, 90, 91, 92, 93, 94, 95, 96, 97, 98, 99, 100, 101, 102, 103, 104, 105, 106, 107, 108, 109, 110, 111, 112, 113, 114, 115, 116, 117, 118, 119, 120, 121, 122, 123, 124, 125, 126, 127, 128, 129, 130, 131, 132, 133, 134, 135, 136, 137, 138, 139, 140, 141, 142, 143, 144, 145, 146, 147, 148, 149, 150, 151, 152, 153, 154, 155, 156, 157, 158, 159, 160, 161, 162, 163, 164, 165, 166, 167, 168, 169, 170, 171, 172, 173, 174, 175, 176, 177, 178, 179, 180, 181, 182, 183, 184, 185, 186, 187, 188, 189, 190, 191, 192, 193, 194, 195, 196, 197, 198, 199, 200, 201, 202, 203, 204, 205, 206, 207, 208, 209, 210, 211, 212, 213, 214, 215, 216, 217, 218, 219, 220, 221, 222, 223, 224, 225, 226, 227, 228, 229, 230, 231, 232, 233, 234, 235, 236, 237, 238, 239, 240, 241, 242, 243, 244, 245, 246, 247, 248, 249, 250, 251, 252, 253, 254, 255, 256, 257, 258, 259, 260, 261, 262, 263, 264, 265, 266, 267, 268, 269, 270, 271, 272, 273, 274, 275, 276, 277, 278, 279, 280, 281, 282, 283, 284, 285, 286, 287, 288, 289, 290, 291, 292, 293, 294, 295, 296, 297, 298, 299, 300, 301, 302, 303, 304, 305, 306, 307, 308, 309, 310, 311, 312, 313, 314, 315, 316, 317, 318, 319, 320, 321, 322, 323, 324, 325, 326, 327, 328, 329, 330, 331, 332, 333, 334, 335, 336, 337, 338, 339, 340, 341, 342, 343, 344, 345, 346, 347, 348, 349, 350, 351, 352, 353, 354, 355, 356, 357, 358, 359, 360, 361, 362, 363, 364, 365, 366, 367, 368, 369, 370, 371, 372, 373, 374, 375, 376, 377, 378, 379, 380, 381, 382, 383, 384, 385, 386, 387, 388, 389, 390, 391, 392, 393, 394, 395, 396, 397, 398, 399, 400, 401, 402, 403, 404, 405, 406, 407, 408, 409, 410, 411, 412, 413, 414, 415, 416, 417, 418, 419, 420, 421, 422, 423, 424, 425, 426, 427, 428, 429, 430, 431, 432, 433, 434, 435, 436, 437, 438, 439, 440, 441, 442, 443, 444, 445, 446, 447, 448, 449, 450, 451, 452, 453, 454, 455, 456, 457, 458, 459, 460, 461, 462, 463, 464, 465, 466, 467, 468, 469, 470, 471, 472, 473, 474, 475, 476, 477, 478, 479, 480, 481, 482, 483, 484, 485, 486, 487, 488, 489, 490, 491, 492, 493, 494, 495, 496, 497, 498, 499, 500], \"y\": [45277633.25, 43984452.5, 42771959.75, 41694859.5, 40771716.5, 39995699.75, 39353505.0, 38829685.0, 38407732.75, 38065163.5, 37784686.5, 37547449.0, 37334169.0, 37142368.25, 36972337.0, 36823353.75, 36692770.75, 36578886.0, 36479775.25, 36394727.75, 36321027.0, 36256245.5, 36197626.75, 36143857.25, 36093680.75, 36046428.0, 36002788.75, 35960458.0, 35918687.75, 35879532.0, 35843448.0, 35809249.0, 35774940.75, 35739412.0, 35703689.0, 35668774.75, 35634561.5, 35600435.5, 35566418.25, 35533504.75, 35502804.75, 35475244.25, 35451688.75, 35431228.25, 35414104.25, 35398732.0, 35385011.75, 35372883.0, 35361463.25, 35351444.25, 35342336.5, 35333661.25, 35326170.75, 35319419.75, 35311680.0, 35304295.5, 35297811.75, 35292133.5, 35287154.25, 35282887.75, 35279046.0, 35275716.25, 35272824.0, 35270068.25, 35267631.5, 35265303.25, 35263041.5, 35260914.0, 35258657.5, 35256575.0, 35254580.0, 35252612.5, 35250922.75, 35249504.75, 35248160.0, 35246887.25, 35245935.25, 35245080.75, 35244224.5, 35243558.25, 35242876.75, 35242349.75, 35241808.0, 35241191.75, 35240692.25, 35240135.0, 35239662.5, 35239322.75, 35238814.5, 35238521.75, 35238194.0, 35237920.5, 35237490.25, 35237404.75, 35237082.75, 35236864.75, 35236756.25, 35236503.0, 35236378.0, 35236097.5, 35235913.75, 35235975.25, 35235669.0, 35235563.75, 35235527.0, 35235352.75, 35235291.0, 35235152.25, 35235085.0, 35234930.25, 35234761.0, 35234768.5, 35234687.75, 35234678.0, 35234534.5, 35234472.75, 35234415.5, 35234477.75, 35234285.0, 35234193.25, 35234220.75, 35234220.0, 35234217.0, 35233979.25, 35234018.0, 35233960.25, 35233929.5, 35233936.25, 35233820.5, 35233750.0, 35233762.25, 35233814.0, 35233737.0, 35233694.25, 35233643.25, 35233644.75, 35233643.0, 35233665.5, 35233527.75, 35233622.25, 35233503.25, 35233486.75, 35233482.5, 35233509.0, 35233423.75, 35233382.0, 35233334.75, 35233306.75, 35233333.25, 35233301.25, 35233233.5, 35233292.75, 35233245.0, 35233143.0, 35233191.5, 35233254.75, 35233183.75, 35233085.5, 35233073.25, 35233139.75, 35233124.0, 35233060.75, 35233108.0, 35233080.0, 35233013.0, 35233027.25, 35233062.0, 35233001.75, 35233080.75, 35233012.5, 35232941.25, 35232918.5, 35232946.75, 35232936.5, 35232972.5, 35232959.75, 35232889.75, 35232782.0, 35232886.75, 35232845.0, 35232814.75, 35232783.75, 35232961.25, 35232855.5, 35232779.0, 35232792.0, 35232750.75, 35232755.75, 35232745.75, 35232725.0, 35232758.75, 35232810.0, 35232771.5, 35232812.0, 35232732.25, 35232745.75, 35232808.75, 35232802.5, 35232686.25, 35232660.0, 35232595.5, 35232598.25, 35232625.5, 35232700.25, 35232774.75, 35232612.0, 35232607.0, 35232656.5, 35232731.25, 35232742.25, 35232603.5, 35232492.5, 35232662.5, 35232696.5, 35232561.25, 35232587.0, 35232611.75, 35232563.5, 35232510.5, 35232578.25, 35232529.75, 35232556.75, 35232633.25, 35232550.0, 35232616.0, 35232563.25, 35232501.75, 35232611.75, 35232610.75, 35232538.25, 35232594.5, 35232489.0, 35232564.0, 35232491.75, 35232506.75, 35232575.75, 35232498.0, 35232478.5, 35232561.0, 35232474.0, 35232439.75, 35232553.25, 35232502.5, 35232525.75, 35232462.0, 35232487.5, 35232539.75, 35232389.75, 35232474.0, 35232487.0, 35232506.5, 35232475.75, 35232430.75, 35232448.75, 35232428.25, 35232373.0, 35232426.0, 35232420.5, 35232302.0, 35232374.75, 35232323.25, 35232462.0, 35232375.5, 35232380.75, 35232381.75, 35232356.25, 35232291.25, 35232367.25, 35232410.0, 35232358.0, 35232419.5, 35232355.0, 35232303.0, 35232280.75, 35232384.5, 35232280.5, 35232321.75, 35232368.5, 35232279.5, 35232345.5, 35232347.25, 35232326.0, 35232229.5, 35232281.5, 35232314.75, 35232323.5, 35232295.25, 35232305.5, 35232282.25, 35232290.0, 35232284.5, 35232338.75, 35232315.25, 35232353.5, 35232320.75, 35232254.25, 35232277.25, 35232326.75, 35232247.25, 35232173.25, 35232308.0, 35232300.5, 35232268.75, 35232172.75, 35232281.0, 35232246.25, 35232197.25, 35232320.5, 35232189.5, 35232284.5, 35232171.5, 35232236.75, 35232217.5, 35232249.25, 35232199.25, 35232150.5, 35232147.5, 35232141.75, 35232112.25, 35232214.5, 35232183.25, 35232175.0, 35232125.0, 35232190.75, 35232200.25, 35232221.75, 35232233.0, 35232185.5, 35232212.5, 35232174.0, 35232311.25, 35232212.5, 35232163.0, 35232154.5, 35232189.75, 35232160.25, 35232102.75, 35232217.0, 35232115.0, 35232088.5, 35232148.5, 35232167.25, 35232110.75, 35232140.5, 35232171.5, 35232098.0, 35232203.0, 35232159.25, 35232124.5, 35232073.75, 35232161.0, 35232070.5, 35232086.5, 35232102.0, 35232146.5, 35232149.25, 35232103.0, 35232152.75, 35232144.25, 35232189.0, 35232125.25, 35232081.0, 35232107.5, 35232140.25, 35232120.75, 35232108.0, 35232169.5, 35232064.75, 35232148.25, 35232078.5, 35232086.25, 35232032.75, 35232111.0, 35232038.75, 35232090.0, 35232019.25, 35232093.75, 35232055.0, 35232021.75, 35232095.25, 35232096.25, 35232127.75, 35232069.5, 35232148.25, 35232143.5, 35232052.5, 35232077.25, 35232123.0, 35232104.75, 35232075.75, 35232077.5, 35232113.25, 35232084.75, 35232045.25, 35232151.25, 35232045.5, 35232073.5, 35232039.25, 35232026.5, 35232032.75, 35232020.0, 35232030.25, 35232122.25, 35232121.75, 35232011.75, 35232032.75, 35232050.25, 35231926.25, 35232023.25, 35232023.25, 35232142.75, 35232035.5, 35231986.75, 35232048.5, 35232017.0, 35232108.75, 35232017.0, 35232065.5, 35232099.5, 35232098.25, 35232021.5, 35232024.75, 35232002.0, 35232034.75, 35232049.5, 35232004.5, 35232095.0, 35232072.75, 35232023.5, 35232012.0, 35232097.75, 35232009.0, 35232072.75, 35232072.0, 35232015.0, 35232008.5, 35232014.25, 35232049.5, 35232104.0, 35232108.0, 35232087.0, 35232036.0, 35232019.5, 35232019.5, 35232109.75, 35231985.75, 35232001.5, 35232003.25, 35232067.75, 35231979.25, 35232016.5, 35232025.5, 35232021.5, 35232095.0, 35232001.0, 35232095.0, 35231944.0, 35232061.25, 35232026.25, 35232009.0, 35232016.75, 35232011.0, 35232024.0, 35232006.5, 35232015.5, 35232066.5, 35232025.25, 35232058.25, 35232007.0, 35231977.0, 35231982.25, 35232043.0, 35231970.5, 35231999.75, 35231941.25, 35231967.0, 35232040.25, 35231992.5, 35231980.25, 35232026.25, 35232051.75, 35232034.0, 35232042.5, 35232049.5, 35232041.75, 35232026.5, 35231993.75, 35232091.75, 35232026.25, 35232081.0, 35232079.5, 35232022.0, 35231941.5, 35232023.0, 35231986.0, 35232014.0, 35231968.0, 35231999.75, 35232029.0, 35231992.75]}],\n",
              "                        {\"template\": {\"data\": {\"bar\": [{\"error_x\": {\"color\": \"#2a3f5f\"}, \"error_y\": {\"color\": \"#2a3f5f\"}, \"marker\": {\"line\": {\"color\": \"#E5ECF6\", \"width\": 0.5}}, \"type\": \"bar\"}], \"barpolar\": [{\"marker\": {\"line\": {\"color\": \"#E5ECF6\", \"width\": 0.5}}, \"type\": \"barpolar\"}], \"carpet\": [{\"aaxis\": {\"endlinecolor\": \"#2a3f5f\", \"gridcolor\": \"white\", \"linecolor\": \"white\", \"minorgridcolor\": \"white\", \"startlinecolor\": \"#2a3f5f\"}, \"baxis\": {\"endlinecolor\": \"#2a3f5f\", \"gridcolor\": \"white\", \"linecolor\": \"white\", \"minorgridcolor\": \"white\", \"startlinecolor\": \"#2a3f5f\"}, \"type\": \"carpet\"}], \"choropleth\": [{\"colorbar\": {\"outlinewidth\": 0, \"ticks\": \"\"}, \"type\": \"choropleth\"}], \"contour\": [{\"colorbar\": {\"outlinewidth\": 0, \"ticks\": \"\"}, \"colorscale\": [[0.0, \"#0d0887\"], [0.1111111111111111, \"#46039f\"], [0.2222222222222222, \"#7201a8\"], [0.3333333333333333, \"#9c179e\"], [0.4444444444444444, \"#bd3786\"], [0.5555555555555556, \"#d8576b\"], [0.6666666666666666, \"#ed7953\"], [0.7777777777777778, \"#fb9f3a\"], [0.8888888888888888, \"#fdca26\"], [1.0, \"#f0f921\"]], \"type\": \"contour\"}], \"contourcarpet\": [{\"colorbar\": {\"outlinewidth\": 0, \"ticks\": \"\"}, \"type\": \"contourcarpet\"}], \"heatmap\": [{\"colorbar\": {\"outlinewidth\": 0, \"ticks\": \"\"}, \"colorscale\": [[0.0, \"#0d0887\"], [0.1111111111111111, \"#46039f\"], [0.2222222222222222, \"#7201a8\"], [0.3333333333333333, \"#9c179e\"], [0.4444444444444444, \"#bd3786\"], [0.5555555555555556, \"#d8576b\"], [0.6666666666666666, \"#ed7953\"], [0.7777777777777778, \"#fb9f3a\"], [0.8888888888888888, \"#fdca26\"], [1.0, \"#f0f921\"]], \"type\": \"heatmap\"}], \"heatmapgl\": [{\"colorbar\": {\"outlinewidth\": 0, \"ticks\": \"\"}, \"colorscale\": [[0.0, \"#0d0887\"], [0.1111111111111111, \"#46039f\"], [0.2222222222222222, \"#7201a8\"], [0.3333333333333333, \"#9c179e\"], [0.4444444444444444, \"#bd3786\"], [0.5555555555555556, \"#d8576b\"], [0.6666666666666666, \"#ed7953\"], [0.7777777777777778, \"#fb9f3a\"], [0.8888888888888888, \"#fdca26\"], [1.0, \"#f0f921\"]], \"type\": \"heatmapgl\"}], \"histogram\": [{\"marker\": {\"colorbar\": {\"outlinewidth\": 0, \"ticks\": \"\"}}, \"type\": \"histogram\"}], \"histogram2d\": [{\"colorbar\": {\"outlinewidth\": 0, \"ticks\": \"\"}, \"colorscale\": [[0.0, \"#0d0887\"], [0.1111111111111111, \"#46039f\"], [0.2222222222222222, \"#7201a8\"], [0.3333333333333333, \"#9c179e\"], [0.4444444444444444, \"#bd3786\"], [0.5555555555555556, \"#d8576b\"], [0.6666666666666666, \"#ed7953\"], [0.7777777777777778, \"#fb9f3a\"], [0.8888888888888888, \"#fdca26\"], [1.0, \"#f0f921\"]], \"type\": \"histogram2d\"}], \"histogram2dcontour\": [{\"colorbar\": {\"outlinewidth\": 0, \"ticks\": \"\"}, \"colorscale\": [[0.0, \"#0d0887\"], [0.1111111111111111, \"#46039f\"], [0.2222222222222222, \"#7201a8\"], [0.3333333333333333, \"#9c179e\"], [0.4444444444444444, \"#bd3786\"], [0.5555555555555556, \"#d8576b\"], [0.6666666666666666, \"#ed7953\"], [0.7777777777777778, \"#fb9f3a\"], [0.8888888888888888, \"#fdca26\"], [1.0, \"#f0f921\"]], \"type\": \"histogram2dcontour\"}], \"mesh3d\": [{\"colorbar\": {\"outlinewidth\": 0, \"ticks\": \"\"}, \"type\": \"mesh3d\"}], \"parcoords\": [{\"line\": {\"colorbar\": {\"outlinewidth\": 0, \"ticks\": \"\"}}, \"type\": \"parcoords\"}], \"pie\": [{\"automargin\": true, \"type\": \"pie\"}], \"scatter\": [{\"marker\": {\"colorbar\": {\"outlinewidth\": 0, \"ticks\": \"\"}}, \"type\": \"scatter\"}], \"scatter3d\": [{\"line\": {\"colorbar\": {\"outlinewidth\": 0, \"ticks\": \"\"}}, \"marker\": {\"colorbar\": {\"outlinewidth\": 0, \"ticks\": \"\"}}, \"type\": \"scatter3d\"}], \"scattercarpet\": [{\"marker\": {\"colorbar\": {\"outlinewidth\": 0, \"ticks\": \"\"}}, \"type\": \"scattercarpet\"}], \"scattergeo\": [{\"marker\": {\"colorbar\": {\"outlinewidth\": 0, \"ticks\": \"\"}}, \"type\": \"scattergeo\"}], \"scattergl\": [{\"marker\": {\"colorbar\": {\"outlinewidth\": 0, \"ticks\": \"\"}}, \"type\": \"scattergl\"}], \"scattermapbox\": [{\"marker\": {\"colorbar\": {\"outlinewidth\": 0, \"ticks\": \"\"}}, \"type\": \"scattermapbox\"}], \"scatterpolar\": [{\"marker\": {\"colorbar\": {\"outlinewidth\": 0, \"ticks\": \"\"}}, \"type\": \"scatterpolar\"}], \"scatterpolargl\": [{\"marker\": {\"colorbar\": {\"outlinewidth\": 0, \"ticks\": \"\"}}, \"type\": \"scatterpolargl\"}], \"scatterternary\": [{\"marker\": {\"colorbar\": {\"outlinewidth\": 0, \"ticks\": \"\"}}, \"type\": \"scatterternary\"}], \"surface\": [{\"colorbar\": {\"outlinewidth\": 0, \"ticks\": \"\"}, \"colorscale\": [[0.0, \"#0d0887\"], [0.1111111111111111, \"#46039f\"], [0.2222222222222222, \"#7201a8\"], [0.3333333333333333, \"#9c179e\"], [0.4444444444444444, \"#bd3786\"], [0.5555555555555556, \"#d8576b\"], [0.6666666666666666, \"#ed7953\"], [0.7777777777777778, \"#fb9f3a\"], [0.8888888888888888, \"#fdca26\"], [1.0, \"#f0f921\"]], \"type\": \"surface\"}], \"table\": [{\"cells\": {\"fill\": {\"color\": \"#EBF0F8\"}, \"line\": {\"color\": \"white\"}}, \"header\": {\"fill\": {\"color\": \"#C8D4E3\"}, \"line\": {\"color\": \"white\"}}, \"type\": \"table\"}]}, \"layout\": {\"annotationdefaults\": {\"arrowcolor\": \"#2a3f5f\", \"arrowhead\": 0, \"arrowwidth\": 1}, \"coloraxis\": {\"colorbar\": {\"outlinewidth\": 0, \"ticks\": \"\"}}, \"colorscale\": {\"diverging\": [[0, \"#8e0152\"], [0.1, \"#c51b7d\"], [0.2, \"#de77ae\"], [0.3, \"#f1b6da\"], [0.4, \"#fde0ef\"], [0.5, \"#f7f7f7\"], [0.6, \"#e6f5d0\"], [0.7, \"#b8e186\"], [0.8, \"#7fbc41\"], [0.9, \"#4d9221\"], [1, \"#276419\"]], \"sequential\": [[0.0, \"#0d0887\"], [0.1111111111111111, \"#46039f\"], [0.2222222222222222, \"#7201a8\"], [0.3333333333333333, \"#9c179e\"], [0.4444444444444444, \"#bd3786\"], [0.5555555555555556, \"#d8576b\"], [0.6666666666666666, \"#ed7953\"], [0.7777777777777778, \"#fb9f3a\"], [0.8888888888888888, \"#fdca26\"], [1.0, \"#f0f921\"]], \"sequentialminus\": [[0.0, \"#0d0887\"], [0.1111111111111111, \"#46039f\"], [0.2222222222222222, \"#7201a8\"], [0.3333333333333333, \"#9c179e\"], [0.4444444444444444, \"#bd3786\"], [0.5555555555555556, \"#d8576b\"], [0.6666666666666666, \"#ed7953\"], [0.7777777777777778, \"#fb9f3a\"], [0.8888888888888888, \"#fdca26\"], [1.0, \"#f0f921\"]]}, \"colorway\": [\"#636efa\", \"#EF553B\", \"#00cc96\", \"#ab63fa\", \"#FFA15A\", \"#19d3f3\", \"#FF6692\", \"#B6E880\", \"#FF97FF\", \"#FECB52\"], \"font\": {\"color\": \"#2a3f5f\"}, \"geo\": {\"bgcolor\": \"white\", \"lakecolor\": \"white\", \"landcolor\": \"#E5ECF6\", \"showlakes\": true, \"showland\": true, \"subunitcolor\": \"white\"}, \"hoverlabel\": {\"align\": \"left\"}, \"hovermode\": \"closest\", \"mapbox\": {\"style\": \"light\"}, \"paper_bgcolor\": \"white\", \"plot_bgcolor\": \"#E5ECF6\", \"polar\": {\"angularaxis\": {\"gridcolor\": \"white\", \"linecolor\": \"white\", \"ticks\": \"\"}, \"bgcolor\": \"#E5ECF6\", \"radialaxis\": {\"gridcolor\": \"white\", \"linecolor\": \"white\", \"ticks\": \"\"}}, \"scene\": {\"xaxis\": {\"backgroundcolor\": \"#E5ECF6\", \"gridcolor\": \"white\", \"gridwidth\": 2, \"linecolor\": \"white\", \"showbackground\": true, \"ticks\": \"\", \"zerolinecolor\": \"white\"}, \"yaxis\": {\"backgroundcolor\": \"#E5ECF6\", \"gridcolor\": \"white\", \"gridwidth\": 2, \"linecolor\": \"white\", \"showbackground\": true, \"ticks\": \"\", \"zerolinecolor\": \"white\"}, \"zaxis\": {\"backgroundcolor\": \"#E5ECF6\", \"gridcolor\": \"white\", \"gridwidth\": 2, \"linecolor\": \"white\", \"showbackground\": true, \"ticks\": \"\", \"zerolinecolor\": \"white\"}}, \"shapedefaults\": {\"line\": {\"color\": \"#2a3f5f\"}}, \"ternary\": {\"aaxis\": {\"gridcolor\": \"white\", \"linecolor\": \"white\", \"ticks\": \"\"}, \"baxis\": {\"gridcolor\": \"white\", \"linecolor\": \"white\", \"ticks\": \"\"}, \"bgcolor\": \"#E5ECF6\", \"caxis\": {\"gridcolor\": \"white\", \"linecolor\": \"white\", \"ticks\": \"\"}}, \"title\": {\"x\": 0.05}, \"xaxis\": {\"automargin\": true, \"gridcolor\": \"white\", \"linecolor\": \"white\", \"ticks\": \"\", \"title\": {\"standoff\": 15}, \"zerolinecolor\": \"white\", \"zerolinewidth\": 2}, \"yaxis\": {\"automargin\": true, \"gridcolor\": \"white\", \"linecolor\": \"white\", \"ticks\": \"\", \"title\": {\"standoff\": 15}, \"zerolinecolor\": \"white\", \"zerolinewidth\": 2}}}},\n",
              "                        {\"responsive\": true}\n",
              "                    ).then(function(){\n",
              "                            \n",
              "var gd = document.getElementById('e3f0f383-a964-46e8-b4be-7da6c18e8596');\n",
              "var x = new MutationObserver(function (mutations, observer) {{\n",
              "        var display = window.getComputedStyle(gd).display;\n",
              "        if (!display || display === 'none') {{\n",
              "            console.log([gd, 'removed!']);\n",
              "            Plotly.purge(gd);\n",
              "            observer.disconnect();\n",
              "        }}\n",
              "}});\n",
              "\n",
              "// Listen for the removal of the full notebook cells\n",
              "var notebookContainer = gd.closest('#notebook-container');\n",
              "if (notebookContainer) {{\n",
              "    x.observe(notebookContainer, {childList: true});\n",
              "}}\n",
              "\n",
              "// Listen for the clearing of the current output cell\n",
              "var outputEl = gd.closest('.output');\n",
              "if (outputEl) {{\n",
              "    x.observe(outputEl, {childList: true});\n",
              "}}\n",
              "\n",
              "                        })\n",
              "                };\n",
              "                \n",
              "            </script>\n",
              "        </div>\n",
              "</body>\n",
              "</html>"
            ]
          },
          "metadata": {
            "tags": []
          }
        }
      ]
    },
    {
      "cell_type": "code",
      "metadata": {
        "id": "xQETW799qju9"
      },
      "source": [
        "model.eval()\n",
        "x_list = []\n",
        "labels_list = []\n",
        "doc_ids = []\n",
        "zx_phi_list=[]\n",
        "with torch.no_grad():\n",
        "    for batch_ndx in all_indices:\n",
        "        input_w = tensor_train_w[batch_ndx].to(device)\n",
        "        labels = train_label[batch_ndx]\n",
        "        labels_list.extend(labels)\n",
        "\n",
        "        z, recon_v, zx, zx_phi = model(input_w,compute_loss=False)\n",
        "        zx = zx.view(-1, num_coordinate).data.detach().cpu().numpy()\n",
        "        zx_phi = zx_phi.view(-1, num_topic).data.detach().cpu().numpy()\n",
        "        zx_phi_list.extend(zx_phi)\n",
        "        x_list.extend(zx)\n",
        "        doc_ids.extend(batch_ndx)\n",
        "\n",
        "    x_list = np.array(x_list)\n",
        "\n",
        "    beta = model.get_beta().data.cpu().numpy()\n",
        "    # zphi = model.decoder_phi_bn(model.centres).data.cpu().numpy()\n",
        "    zphi = model.centres.data.cpu().numpy()"
      ],
      "execution_count": null,
      "outputs": []
    },
    {
      "cell_type": "code",
      "metadata": {
        "id": "rAAbQoUXOeDU",
        "colab": {
          "base_uri": "https://localhost:8080/"
        },
        "outputId": "73eb2300-ff53-40d2-d498-9c5c3e47531d"
      },
      "source": [
        "print_Topics()"
      ],
      "execution_count": null,
      "outputs": [
        {
          "output_type": "stream",
          "text": [
            "------------------------------\n",
            "0: head official general called roddick group including executive time company president chief year late national day senior business leading angeles\n",
            "1: roddick dublin angeles holmes american european gordon britain ferguson tv british bos february india robinson alan williams indian saturday spain\n",
            "2: roddick team time play film movie game star day music playing country group year three player club night angeles work\n",
            "3: time roddick including three called day work late early help left group move year country second angeles set long turn\n",
            "4: roddick second time three third top final including left year big best late fourth day early half leading winning point\n",
            "5: government country state time roddick day national public business people nation group year company including three work late help city\n",
            "6: year month week day time summer weekend three night fall roddick season half second late including country group early third\n",
            "7: company business roddick time technology including group work country market day year real three second service late network help angeles\n",
            "8: uk dublin british britain spain europe gordon england holmes scotland roddick european ferguson france london newcastle robinson bos angeles india\n",
            "9: holmes gordon robinson ferguson roddick blair dublin williams angeles alan howard bos sunday saturday john tory johnson thursday campbell monday\n",
            "------------------------------\n"
          ],
          "name": "stdout"
        }
      ]
    },
    {
      "cell_type": "code",
      "metadata": {
        "id": "KD-SEwBxOcwM",
        "colab": {
          "base_uri": "https://localhost:8080/"
        },
        "outputId": "66987edb-9037-4e2f-9295-1bc8956515c7"
      },
      "source": [
        "get_keywords(d_data)"
      ],
      "execution_count": null,
      "outputs": [
        {
          "output_type": "execute_result",
          "data": {
            "text/plain": [
              "['strike', 'nuclear', 'terror']"
            ]
          },
          "metadata": {
            "tags": []
          },
          "execution_count": 317
        }
      ]
    },
    {
      "cell_type": "code",
      "metadata": {
        "id": "U7RblkCMWvD7",
        "colab": {
          "base_uri": "https://localhost:8080/"
        },
        "outputId": "f28ce7c1-bc9b-409e-d329-b152480d6aa6"
      },
      "source": [
        "x_list"
      ],
      "execution_count": null,
      "outputs": [
        {
          "output_type": "execute_result",
          "data": {
            "text/plain": [
              "array([[-0.11070928,  0.15100867],\n",
              "       [ 1.2761086 , -0.05255651],\n",
              "       [-0.15858723,  1.1049597 ],\n",
              "       ...,\n",
              "       [-1.1216177 ,  1.8712304 ],\n",
              "       [-0.8933679 ,  2.3764868 ],\n",
              "       [ 0.33586514,  1.7754729 ]], dtype=float32)"
            ]
          },
          "metadata": {
            "tags": []
          },
          "execution_count": 318
        }
      ]
    },
    {
      "cell_type": "code",
      "metadata": {
        "id": "tG02e45pQ0y0"
      },
      "source": [
        "# query_center\n",
        "# zphi\n",
        "# x_list"
      ],
      "execution_count": null,
      "outputs": []
    },
    {
      "cell_type": "code",
      "metadata": {
        "id": "XVCrOy3WaCL1"
      },
      "source": [
        "# a1 = np.exp(-0.5 * ((-0.9241141-0.326416)**2 + (1.080526-(-1.5733637)))**2)\n",
        "# a2 = np.exp(-0.5 * ((-0.9241141-(-4.8322263))**2 + (1.080526-0.88595086))**2)\n",
        "# a3 = np.exp(-0.5 * ((-0.9241141-1.10666)**2 + (1.080526-(-2.8282874)))**2)\n",
        "# print(a1/(a1+a2+a3))\n",
        "# print(a2/(a1+a2+a3))\n",
        "# print(a3/(a1+a2+a3))"
      ],
      "execution_count": null,
      "outputs": []
    },
    {
      "cell_type": "code",
      "metadata": {
        "id": "NBiWOAapWTZN"
      },
      "source": [
        "# q_phi_exp"
      ],
      "execution_count": null,
      "outputs": []
    },
    {
      "cell_type": "code",
      "metadata": {
        "id": "66qJeOlMzdu9",
        "colab": {
          "base_uri": "https://localhost:8080/",
          "height": 1000
        },
        "outputId": "d52c393d-b317-47b2-f2cf-63fe3abce5a3"
      },
      "source": [
        "plot_fig(x_list, labels_list, zphi,lim =10,contour='no')"
      ],
      "execution_count": null,
      "outputs": [
        {
          "output_type": "display_data",
          "data": {
            "image/png": "[encoded data removed]",
            "text/plain": [
              "<Figure size 1440x1440 with 1 Axes>"
            ]
          },
          "metadata": {
            "tags": [],
            "needs_background": "light"
          }
        }
      ]
    },
    {
      "cell_type": "markdown",
      "metadata": {
        "id": "oCVawukWgxeH"
      },
      "source": [
        "# ____ STOP____"
      ]
    },
    {
      "cell_type": "code",
      "metadata": {
        "id": "xiUorw-Xg0Hg",
        "colab": {
          "base_uri": "https://localhost:8080/",
          "height": 128
        },
        "outputId": "d473cea0-31f5-4abf-a261-8f592df6d929"
      },
      "source": [
        "STOP!!!!"
      ],
      "execution_count": null,
      "outputs": [
        {
          "output_type": "error",
          "ename": "SyntaxError",
          "evalue": "ignored",
          "traceback": [
            "\u001b[0;36m  File \u001b[0;32m\"<ipython-input-269-b364428b80d5>\"\u001b[0;36m, line \u001b[0;32m1\u001b[0m\n\u001b[0;31m    STOP!!!!\u001b[0m\n\u001b[0m        ^\u001b[0m\n\u001b[0;31mSyntaxError\u001b[0m\u001b[0;31m:\u001b[0m invalid syntax\n"
          ]
        }
      ]
    },
    {
      "cell_type": "code",
      "metadata": {
        "id": "A2gbTUI2g1Vt"
      },
      "source": [
        "STOP!!!!"
      ],
      "execution_count": null,
      "outputs": []
    },
    {
      "cell_type": "code",
      "metadata": {
        "id": "Ng3vECMBg1o1"
      },
      "source": [
        "STOP!!!!"
      ],
      "execution_count": null,
      "outputs": []
    },
    {
      "cell_type": "markdown",
      "metadata": {
        "id": "x4YikNw87hTm"
      },
      "source": [
        "# Comments :\n",
        "\n",
        "<5/6/21>\n",
        "* Topic quality is good. We can see keywords and other words that are closely related to the keywords in the topics\n",
        "* Visualization has some issues though. It can't form and all the documents seems to converge at a single coordinate.\n",
        "\n",
        "<5/7/21>\n",
        "* Introduced dimension 'C' as new irrelevant center (we are not visualizing that)\n",
        "* WAF to have two diff sigmas , 1 for relv i.e query(Q) , 1 for irrelv for C\n",
        "* First Q dim should have relv sigma, Last dim (for Center C) should have irrelv sigma\n",
        "\n",
        "<5/15/21>\n",
        "* Tried to implement QxV as decoder weight without query > result - Cluster with Q centers (Centered at Keyword)\n",
        "** K topics essentially grouped into Q different topics , Works Like PLSV.\n",
        "* **ToDo** - Implement GaussianSV with VAE (Short Paper)\n",
        "\n",
        "\n"
      ]
    },
    {
      "cell_type": "markdown",
      "metadata": {
        "id": "TPfQ0IUnPlfi"
      },
      "source": [
        "# Save/Download Results"
      ]
    },
    {
      "cell_type": "code",
      "metadata": {
        "id": "475CSACcuqNS"
      },
      "source": [
        "doc_ids_model = [i.item() for i in doc_ids]"
      ],
      "execution_count": null,
      "outputs": []
    },
    {
      "cell_type": "code",
      "metadata": {
        "id": "uLNlLcmYiA59"
      },
      "source": [
        "save_obj(get_topwords(beta, id_vocab),\"top100_docmodel_\"+d_data)"
      ],
      "execution_count": null,
      "outputs": []
    },
    {
      "cell_type": "code",
      "metadata": {
        "id": "-REuGjLoGIU_"
      },
      "source": [
        "save_obj(x_list,\"x_list\")\n",
        "save_obj(indices,\"doc_id_desm\")\n",
        "save_obj(doc_ids_model,\"doc_ids_model\")\n",
        "save_obj(labels_list,\"labels_list\")\n",
        "save_obj(all_rscores,\"all_rscores\")\n",
        "save_obj(keywords,'keywords_'+d_data)"
      ],
      "execution_count": null,
      "outputs": []
    },
    {
      "cell_type": "code",
      "metadata": {
        "id": "EYDLajZGGaFr"
      },
      "source": [
        "from google.colab import files\n",
        "files.download(\"doc_ids_model.pkl\")\n",
        "files.download(\"doc_id_desm.pkl\")\n",
        "files.download(\"x_list.pkl\")\n",
        "files.download(\"labels_list.pkl\")\n",
        "files.download(\"all_rscores.pkl\")\n",
        "files.download(\"keywords_\"+d_data+\".pkl\")\n",
        "files.download(\"top100_docmodel_\"+d_data+\".pkl\")"
      ],
      "execution_count": null,
      "outputs": []
    },
    {
      "cell_type": "code",
      "metadata": {
        "id": "pKaudPXXcbk7"
      },
      "source": [],
      "execution_count": null,
      "outputs": []
    },
    {
      "cell_type": "code",
      "metadata": {
        "id": "xmeP5Rjmoxyg"
      },
      "source": [
        "rm -r *.pkl*"
      ],
      "execution_count": null,
      "outputs": []
    }
  ]
}