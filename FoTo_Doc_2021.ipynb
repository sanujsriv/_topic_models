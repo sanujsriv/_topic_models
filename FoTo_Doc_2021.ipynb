{
  "nbformat": 4,
  "nbformat_minor": 0,
  "metadata": {
    "colab": {
      "provenance": [],
      "collapsed_sections": [
        "OHeUvin1UYy2",
        "LbxaWVhRS9kc",
        "Ehb8Jqe_Uf9J",
        "uuMpIj0Q7i7D",
        "QRAYS2gUgG91",
        "K0zQCuyY_kaq",
        "jXFBuugDbXL7",
        "uBecXbW4amm2",
        "EfY0rA4xZJQN",
        "7_6ifWD8l8WA",
        "2p5lYecYtWFm",
        "dk4oWni-BmyK",
        "x12xv1cuJLiR"
      ],
      "toc_visible": true,
      "machine_shape": "hm",
      "include_colab_link": true
    },
    "kernelspec": {
      "display_name": "Python 3",
      "name": "python3"
    },
    "accelerator": "GPU"
  },
  "cells": [
    {
      "cell_type": "markdown",
      "metadata": {
        "id": "view-in-github",
        "colab_type": "text"
      },
      "source": [
        "<a href=\"https://colab.research.google.com/github/sanujsriv/_topic_models/blob/FoTo/FoTo_Doc_2021.ipynb\" target=\"_parent\"><img src=\"https://colab.research.google.com/assets/colab-badge.svg\" alt=\"Open In Colab\"/></a>"
      ]
    },
    {
      "cell_type": "markdown",
      "metadata": {
        "id": "OHeUvin1UYy2"
      },
      "source": [
        "# **Download pickle from Dropbox (Documents)**"
      ]
    },
    {
      "cell_type": "code",
      "metadata": {
        "id": "39dF4-1F5aRY"
      },
      "source": [
        "# Local\n",
        "# %cd /home/grad16/sakumar/colab/FoTo_All_Docs_Region"
      ],
      "execution_count": null,
      "outputs": []
    },
    {
      "cell_type": "code",
      "metadata": {
        "id": "2cphx-__Whq8"
      },
      "source": [
        "## Short-Text\n",
        "!wget https://www.dropbox.com/s/trz5uph29b0t0eg/data_crowder.zip"
      ],
      "execution_count": null,
      "outputs": []
    },
    {
      "cell_type": "code",
      "metadata": {
        "id": "TKjLnzJiUlFK"
      },
      "source": [
        "# !wget https://www.dropbox.com/s/09y9y1h0xk3cxaj/embeddings_twentynews.pkl\n",
        "# !wget https://www.dropbox.com/s/ewv3vcwgll0r8a7/data_twentynews_labels.pkl\n",
        "# !wget https://www.dropbox.com/s/chpjn9lzr7rmn2k/fixed_data_twentynews_preprocessed.pkl"
      ],
      "execution_count": null,
      "outputs": []
    },
    {
      "cell_type": "code",
      "metadata": {
        "id": "hFXlj4SBOjT-"
      },
      "source": [
        "# !wget https://www.dropbox.com/s/8khmuj31il8zgkp/data_reuters_labels.pkl\n",
        "# !wget https://www.dropbox.com/s/bgc1ht0jsyjed6s/embeddings_reuters.pkl\n",
        "# !wget https://www.dropbox.com/s/9fk30bjzeefvhgl/data_reuters_preprocessed.pkl"
      ],
      "execution_count": null,
      "outputs": []
    },
    {
      "cell_type": "code",
      "metadata": {
        "id": "Y7gmfMHjFD6z"
      },
      "source": [
        "# !wget https://www.dropbox.com/s/52eoulcm5807npk/data_arxiv_preprocessed.pkl\n",
        "# !wget https://www.dropbox.com/s/zgjy9575pcj5v67/embeddings_arxiv.pkl\n",
        "# !wget https://www.dropbox.com/s/xzvshpgvwiy3spz/data_arxiv_labels.pkl"
      ],
      "execution_count": null,
      "outputs": []
    },
    {
      "cell_type": "code",
      "metadata": {
        "id": "eqdDSogFIek3"
      },
      "source": [
        "# !wget https://www.dropbox.com/s/c6wlr148lhwsbaz/embeddings_wos.pkl\n",
        "# !wget https://www.dropbox.com/s/j96061ln6oeejkf/data_wos_preprocessed.pkl\n",
        "# !wget https://www.dropbox.com/s/kiffa4nidkjt7wi/data_wos_labels.pkl"
      ],
      "execution_count": null,
      "outputs": []
    },
    {
      "cell_type": "code",
      "metadata": {
        "id": "Ma1b5gX2XypH"
      },
      "source": [
        "# !wget https://www.dropbox.com/s/wz88fk42r0viqvo/data_webkb_preprocessed.pkl\n",
        "# !wget https://www.dropbox.com/s/8oi5qactwrar1ad/data_webkb_labels.pkl\n",
        "# !wget https://www.dropbox.com/s/go7r4h39q6l01d5/embeddings_webkb.pkl"
      ],
      "execution_count": null,
      "outputs": []
    },
    {
      "cell_type": "markdown",
      "metadata": {
        "id": "LbxaWVhRS9kc"
      },
      "source": [
        "#**Unzip**"
      ]
    },
    {
      "cell_type": "code",
      "metadata": {
        "id": "mMxtkTHvS8aE"
      },
      "source": [
        "import os\n",
        "\n",
        "def unzip_crowdgender():\n",
        "  os.system('unzip data_crowder.zip')"
      ],
      "execution_count": null,
      "outputs": []
    },
    {
      "cell_type": "code",
      "metadata": {
        "id": "9z1mweuRTNk-"
      },
      "source": [
        "unzip_crowdgender()"
      ],
      "execution_count": null,
      "outputs": []
    },
    {
      "cell_type": "markdown",
      "metadata": {
        "id": "Ehb8Jqe_Uf9J"
      },
      "source": [
        "# **Just Run these..**"
      ]
    },
    {
      "cell_type": "code",
      "metadata": {
        "id": "gn9JFNO4qjuf",
        "cellView": "form"
      },
      "source": [
        "#@title Imports\n",
        "# from sympy.stats import RaisedCosine, density\n",
        "import torch\n",
        "import pandas as pd\n",
        "from IPython.display import display\n",
        "import re\n",
        "import gc\n",
        "from time import time\n",
        "import numpy as np\n",
        "import collections\n",
        "# from utils import get_topwords, plot_fig\n",
        "# from plsv_vae import PlsvVAE\n",
        "# import data_preprocessing\n",
        "from sklearn.feature_extraction.text import CountVectorizer\n",
        "from nltk.corpus import stopwords\n",
        "import sklearn\n",
        "import re\n",
        "import string\n",
        "from numpy import random\n",
        "# from nltk.stem import PorterStemmer\n",
        "from nltk.stem import WordNetLemmatizer\n",
        "from nltk import word_tokenize\n",
        "from nltk.corpus import stopwords\n",
        "from sklearn.datasets import fetch_20newsgroups\n",
        "from sklearn.datasets import fetch_rcv1\n",
        "from sklearn.feature_extraction.text import CountVectorizer\n",
        "from sklearn.feature_extraction.text import TfidfVectorizer"
      ],
      "execution_count": null,
      "outputs": []
    },
    {
      "cell_type": "code",
      "metadata": {
        "id": "EivGqJ7vBoAo",
        "cellView": "form"
      },
      "source": [
        "#@title function : load / save pickle_obj\n",
        "import pickle\n",
        "\n",
        "def save_obj(obj, name):\n",
        "    with open(name + '.pkl', 'wb') as f:\n",
        "        pickle.dump(obj, f, pickle.HIGHEST_PROTOCOL)\n",
        "\n",
        "def load_obj(name):\n",
        "    with open(name + '.pkl', 'rb') as f:\n",
        "        return pickle.load(f)"
      ],
      "execution_count": null,
      "outputs": []
    },
    {
      "cell_type": "code",
      "metadata": {
        "id": "B-mhG9BmEXzm",
        "cellView": "form"
      },
      "source": [
        "# @title Data Loading functions..\n",
        "\n",
        "def new_50_twenty_news():\n",
        "  embeddings = load_obj('50_embeddings_twentynews_docs')\n",
        "  data_preprocessed = load_obj('50_data_twentynews_preprocessed_docs')\n",
        "  data_preprocessed_labels = load_obj(\"50_data_twentynews_labels_docs\")\n",
        "  return data_preprocessed,data_preprocessed_labels,embeddings,new_50_twenty_news.__name__\n",
        "\n",
        "def new_50_twenty_news_sent():\n",
        "  embeddings = load_obj('50_embeddings_twentynews_docs')\n",
        "  data_preprocessed = load_obj('50_data_twentynews_preprocessed_sent')\n",
        "  data_preprocessed_labels = load_obj(\"50_data_twentynews_labels_sent\")\n",
        "  doc_sent_id = load_obj('50_doc_id_sent')\n",
        "  return data_preprocessed,data_preprocessed_labels,embeddings,doc_sent_id,new_50_twenty_news_sent.__name__\n",
        "\n",
        "\n",
        "def load_20News_50():\n",
        "  embeddings = load_obj('50_embeddings_load_20news_docs')\n",
        "  data_preprocessed = load_obj('50_docs_preprocessed')\n",
        "  data_preprocessed_labels = load_obj(\"50_docs_labels\")\n",
        "  return data_preprocessed,data_preprocessed_labels,embeddings,load_20News_50.__name__\n",
        "\n",
        "def load_20News_50_sentences():\n",
        "  embeddings = load_obj('50_embeddings_load_20news_docs')\n",
        "  data_preprocessed = load_obj('50_data_load_20news_sentences_preprocessed')\n",
        "  data_preprocessed_labels = load_obj(\"50_data_load_20news_sentences_labels\")\n",
        "  doc_sent_id = load_obj('50_doc_id_sent_load_20news_sentences')\n",
        "  return data_preprocessed,data_preprocessed_labels,embeddings,doc_sent_id,load_20News_50_sentences.__name__\n",
        "\n",
        "\n",
        "def load_crowdgender():\n",
        "  data_preprocessed = load_obj('data_crowdgender_preprocessed')\n",
        "  data_preprocessed_labels = load_obj(\"data_crowdgender_labels\")\n",
        "  embeddings = load_obj('embeddings_crowdgender')\n",
        "  return data_preprocessed,data_preprocessed_labels,embeddings,load_crowdgender.__name__\n",
        "\n",
        "def load_reuters():\n",
        "  data_preprocessed = load_obj('data_reuters_preprocessed')\n",
        "  data_preprocessed_labels = load_obj(\"data_reuters_labels\")\n",
        "  embeddings = load_obj('embeddings_reuters')\n",
        "  return data_preprocessed,data_preprocessed_labels,embeddings,load_reuters.__name__\n",
        "\n",
        "def load_20News():\n",
        "  embeddings = load_obj('embeddings_twentynews')\n",
        "  # data_preprocessed = load_obj('data_twentynews_preprocessed')\n",
        "  data_preprocessed = load_obj('fixed_data_twentynews_preprocessed')\n",
        "  data_preprocessed_labels = load_obj(\"data_twentynews_labels\")\n",
        "  return data_preprocessed,data_preprocessed_labels,embeddings,load_20News.__name__\n",
        "\n",
        "def load_20News_sentences():\n",
        "  embeddings = load_obj('embeddings_twentynews_sent')\n",
        "  data_preprocessed = load_obj('data_twentynews_preprocessed_sent')\n",
        "  data_preprocessed_labels = load_obj(\"data_twentynews_labels_sent\")\n",
        "  doc_sent_id = load_obj('doc_id_sent_twentynews')\n",
        "  return data_preprocessed,data_preprocessed_labels,embeddings,doc_sent_id,load_20News_sentences.__name__\n",
        "\n",
        "def load_20News_reuters():\n",
        "  data_preprocessed = load_obj('data_reuters_preprocessed')\n",
        "  data_preprocessed_labels = load_obj(\"data_reuters_labels\")\n",
        "  embeddings = load_obj('embeddings_reuters')\n",
        "  data_preprocessed.extend(load_obj('data_20News_preprocessed'))\n",
        "  data_preprocessed_labels.extend(load_obj(\"data_20news_preprocessed_labels\"))\n",
        "  embeddings.update(load_obj('embeddings_20news'))\n",
        "  return data_preprocessed,data_preprocessed_labels,embeddings,load_20News_reuters.__name__\n",
        "\n",
        "def load_r52():\n",
        "  data_preprocessed = load_obj('data_r52_preprocessed')\n",
        "  data_preprocessed_labels = load_obj(\"data_r52_labels\")\n",
        "  embeddings = load_obj('embeddings_r52')\n",
        "  return data_preprocessed,data_preprocessed_labels,embeddings,load_r52.__name__\n",
        "\n",
        "def load_WebKb():\n",
        "  data_preprocessed = load_obj('data_webkb_preprocessed')\n",
        "  data_preprocessed_labels = load_obj(\"data_webkb_labels\")\n",
        "  embeddings = load_obj('embeddings_webkb')\n",
        "  return data_preprocessed,data_preprocessed_labels,embeddings,load_WebKb.__name__\n",
        "\n",
        "def load_WoS():\n",
        "  data_preprocessed = load_obj('data_wos_preprocessed')\n",
        "  data_preprocessed_labels = load_obj(\"data_wos_labels\")\n",
        "  embeddings = load_obj('embeddings_wos')\n",
        "  return data_preprocessed,data_preprocessed_labels,embeddings,load_WoS.__name__\n",
        "def load_arXiv():\n",
        "  data_preprocessed = load_obj('data_arxiv_preprocessed')\n",
        "  data_preprocessed_labels = load_obj(\"data_arxiv_labels\")\n",
        "  embeddings = load_obj('embeddings_arxiv')\n",
        "  return data_preprocessed,data_preprocessed_labels,embeddings,load_arXiv.__name__"
      ],
      "execution_count": null,
      "outputs": []
    },
    {
      "cell_type": "code",
      "metadata": {
        "cellView": "form",
        "id": "xzwwlUAQTzi9"
      },
      "source": [
        "#@title get_keywords\n",
        "def get_keywords():\n",
        "  keywords = []\n",
        "  keywords_arxiv = ['molecular ','stimulation','liquid','fluid']\n",
        "\n",
        "  keywords_webkb = ['class','student','department','year']\n",
        "  # keywords_r52 = ['mutual','fund','market','money']\n",
        "\n",
        "  keywords_WoS = ['pediatric','protein','clone']\n",
        "  # keywords_20News_Reuters = ['oil','price','opec','bpd','barrel','saudi','production','mln','crude']\n",
        "\n",
        "  # keywords_reuters = ['company', 'analyst', 'offer', 'pct', 'takeover', 'merger', 'record', 'dividend', 'pay', 'stock']\n",
        "  # keywords_reuters = ['stock', 'dividend', 'inc']\n",
        "  # keywords_reuters = ['company', 'stock', 'pct']\n",
        "  keywords_reuters = ['oil','crude','ship']\n",
        "\n",
        "\n",
        "  keywords_20News = ['sport', 'baseball', 'game','match']\n",
        "  # keywords_20News = ['looking' ,'add', 'voice' ,'input', 'capability', 'user', 'interface']\n",
        "\n",
        "  keywords_crowdgender = ['housewife','girl','beautiful','blonde']\n",
        "\n",
        "  keywords = keywords_crowdgender\n",
        "\n",
        "  return keywords"
      ],
      "execution_count": null,
      "outputs": []
    },
    {
      "cell_type": "code",
      "metadata": {
        "id": "SSDtRw61M-rx",
        "cellView": "form"
      },
      "source": [
        "#@title ## DESM Score ##\n",
        "def cosine_similarity_desm_docs(query_list, train_vec, vocab, embeddings):\n",
        "  num_docs = len(train_vec)\n",
        "  num_voc = len(vocab)\n",
        "  sim_list = torch.zeros(num_docs)\n",
        "  index = 0\n",
        "  id_vocab = dict(map(reversed, vocab.items()))\n",
        "  for d in range(num_docs):\n",
        "    if(d%5000==0): print(d)\n",
        "    doc_bar = torch.zeros(300)\n",
        "    doc_length = 0\n",
        "    for v in range(num_voc):\n",
        "      # print(type(train_vec[d][v]))\n",
        "      if(train_vec[d][v] > 0):\n",
        "        doc_bar.add_(train_vec[d][v] * torch.from_numpy(embeddings[id_vocab[v]])/torch.norm(torch.from_numpy(embeddings[id_vocab[v]])))\n",
        "        doc_length = doc_length + train_vec[d][v]\n",
        "    doc_bar = doc_bar / doc_length\n",
        "    sum = 0\n",
        "\n",
        "    for q in query_list:\n",
        "      sum += torch.dot(torch.from_numpy(embeddings[q]) , doc_bar)/(torch.norm(torch.from_numpy(embeddings[q]))*torch.norm(doc_bar))\n",
        "    sum = sum/len(query_list)\n",
        "    sim_list[index]=sum\n",
        "    index = index + 1\n",
        "\n",
        "  return sim_list"
      ],
      "execution_count": null,
      "outputs": []
    },
    {
      "cell_type": "markdown",
      "metadata": {
        "id": "uuMpIj0Q7i7D"
      },
      "source": [
        "# **Loading Data & Model Hyperparameter**"
      ]
    },
    {
      "cell_type": "code",
      "metadata": {
        "colab": {
          "base_uri": "https://localhost:8080/"
        },
        "id": "t2uRoAZcWx7e",
        "outputId": "f032997b-2abc-45ae-b5b2-0fbe745aeef7"
      },
      "source": [
        "# ##### Data loading #####\n",
        "loaded_data = load_crowdgender()\n",
        "##########################\n",
        "data_preprocessed , data_preprocessed_labels , embeddings, name = loaded_data\n",
        "print(name,len(data_preprocessed_labels),len(data_preprocessed),len(embeddings))"
      ],
      "execution_count": null,
      "outputs": [
        {
          "output_type": "stream",
          "text": [
            "load_crowdgender 19804 19804 15369\n"
          ],
          "name": "stdout"
        }
      ]
    },
    {
      "cell_type": "markdown",
      "metadata": {
        "id": "nEfu6UC2Bqpm"
      },
      "source": [
        "#"
      ]
    },
    {
      "cell_type": "code",
      "metadata": {
        "id": "Ik1H9Ba_WKr3"
      },
      "source": [
        "# preprossed_data = data_preprocessed\n",
        "# train_label = data_preprocessed_labels\n",
        "# vectorizer = CountVectorizer()\n",
        "# train_vec = vectorizer.fit_transform(preprossed_data).toarray()\n",
        "# vocab = vectorizer.vocabulary_\n",
        "# nonzeros_indexes = np.where(train_vec.any(1))[0]\n",
        "# train_vec_non_zeros = [train_vec[i] for i in nonzeros_indexes]\n",
        "# preprossed_data_non_zeros = [preprossed_data[i] for i in nonzeros_indexes]\n",
        "# train_label = [data_preprocessed_labels[i] for i in nonzeros_indexes]"
      ],
      "execution_count": null,
      "outputs": []
    },
    {
      "cell_type": "code",
      "metadata": {
        "id": "OdIRahOKR9Qf"
      },
      "source": [
        "# !zip data_crowder.zip *.pkl\n",
        "# from google.colab import files\n",
        "# files.download(\"data_crowder.zip\")"
      ],
      "execution_count": null,
      "outputs": []
    },
    {
      "cell_type": "code",
      "metadata": {
        "id": "__1Q8sFXU9is"
      },
      "source": [
        "vocab  =load_obj('vocab')\n",
        "preprossed_data_non_zeros = load_obj('preprossed_data_non_zeros')\n",
        "train_vec_non_zeros = load_obj('train_vec_non_zeros')\n",
        "keywords  = get_keywords()\n",
        "# all_rscores = cosine_similarity_desm_docs(keywords,train_vec_non_zeros,vocab, embeddings) # run if query change\n",
        "all_rscores= load_obj('all_rscores')"
      ],
      "execution_count": null,
      "outputs": []
    },
    {
      "cell_type": "code",
      "metadata": {
        "cellView": "both",
        "colab": {
          "base_uri": "https://localhost:8080/"
        },
        "id": "c_MShBhcgdzu",
        "outputId": "ff0326c9-b61d-462c-ac8a-2b4ca242f237"
      },
      "source": [
        "device = torch.device(\"cuda:0\" if torch.cuda.is_available() else \"cpu\")\n",
        "tensor_train_w = torch.tensor(np.asanyarray(train_vec_non_zeros)).float()\n",
        "train_label = np.asanyarray(load_obj('train_label'))\n",
        "id_vocab = dict(map(reversed, vocab.items()))\n",
        "\n",
        "num_coordinate = 2\n",
        "bs = 256\n",
        "en1_units_x = 100\n",
        "en2_units_x = 100\n",
        "num_input = train_vec_non_zeros[0].shape[0]\n",
        "variance_x = 1\n",
        "learning_rate = 0.002\n",
        "beta1 = 0.99\n",
        "beta2 = 0.999\n",
        "drop_rate = 0.6\n",
        "num_topic = 20\n",
        "gc.collect()"
      ],
      "execution_count": null,
      "outputs": [
        {
          "output_type": "execute_result",
          "data": {
            "text/plain": [
              "0"
            ]
          },
          "metadata": {
            "tags": []
          },
          "execution_count": 19
        }
      ]
    },
    {
      "cell_type": "code",
      "metadata": {
        "id": "4nnkLeGKB6o4"
      },
      "source": [
        "def get_mem_size(a):\n",
        "  return 'Mem Size: '+str(a.element_size()*a.nelement() /(1024**3))+' GB'"
      ],
      "execution_count": null,
      "outputs": []
    },
    {
      "cell_type": "code",
      "metadata": {
        "cellView": "form",
        "id": "2aoUqeoo20hq",
        "colab": {
          "base_uri": "https://localhost:8080/"
        },
        "outputId": "76a3ac95-23d1-4bef-db53-b4d63fb1778d"
      },
      "source": [
        "#@title All variables occupying memory\n",
        "import sys\n",
        "local_vars = list(locals().items())\n",
        "for var, obj in local_vars:\n",
        "    print(var, sys.getsizeof(obj))"
      ],
      "execution_count": null,
      "outputs": [
        {
          "output_type": "stream",
          "text": [
            "__name__ 57\n",
            "__doc__ 113\n",
            "__package__ 16\n",
            "__loader__ 16\n",
            "__spec__ 16\n",
            "__builtin__ 80\n",
            "__builtins__ 80\n",
            "_ih 264\n",
            "_oh 240\n",
            "_dh 72\n",
            "_sh 80\n",
            "In 264\n",
            "Out 240\n",
            "get_ipython 64\n",
            "exit 56\n",
            "quit 56\n",
            "_ 24\n",
            "__ 53\n",
            "___ 53\n",
            "_i 143\n",
            "_ii 511\n",
            "_iii 372\n",
            "_i1 110\n",
            "_i2 127\n",
            "_exit_code 24\n",
            "_i3 290\n",
            "_i4 275\n",
            "_i5 269\n",
            "_i6 263\n",
            "_i7 269\n",
            "_i8 123\n",
            "os 80\n",
            "unzip_crowdgender 136\n",
            "_i9 68\n",
            "_i10 873\n",
            "torch 80\n",
            "pd 80\n",
            "display 136\n",
            "re 80\n",
            "gc 80\n",
            "time 72\n",
            "np 80\n",
            "collections 80\n",
            "CountVectorizer 1056\n",
            "stopwords 56\n",
            "sklearn 80\n",
            "string 80\n",
            "random 80\n",
            "WordNetLemmatizer 1056\n",
            "word_tokenize 136\n",
            "fetch_20newsgroups 136\n",
            "fetch_rcv1 136\n",
            "TfidfVectorizer 1056\n",
            "_i11 318\n",
            "pickle 80\n",
            "save_obj 136\n",
            "load_obj 136\n",
            "_i12 4296\n",
            "new_50_twenty_news 136\n",
            "new_50_twenty_news_sent 136\n",
            "load_20News_50 136\n",
            "load_20News_50_sentences 136\n",
            "load_crowdgender 136\n",
            "load_reuters 136\n",
            "load_20News 136\n",
            "load_20News_sentences 136\n",
            "load_20News_reuters 136\n",
            "load_r52 136\n",
            "load_WebKb 136\n",
            "load_WoS 136\n",
            "load_arXiv 136\n",
            "_i13 984\n",
            "get_keywords 136\n",
            "_i14 986\n",
            "cosine_similarity_desm_docs 136\n",
            "_i15 294\n",
            "loaded_data 80\n",
            "data_preprocessed 171112\n",
            "data_preprocessed_labels 171112\n",
            "embeddings 589928\n",
            "name 65\n",
            "_i16 524\n",
            "_i17 148\n",
            "_i18 372\n",
            "vocab 589928\n",
            "preprossed_data_non_zeros 171112\n",
            "train_vec_non_zeros 171112\n",
            "keywords 96\n",
            "all_rscores 72\n",
            "_i19 511\n",
            "device 24\n",
            "tensor_train_w 72\n",
            "train_label 554608\n",
            "id_vocab 589928\n",
            "num_coordinate 28\n",
            "bs 28\n",
            "en1_units_x 28\n",
            "en2_units_x 28\n",
            "num_input 28\n",
            "variance_x 28\n",
            "learning_rate 24\n",
            "beta1 24\n",
            "beta2 24\n",
            "drop_rate 24\n",
            "num_topic 28\n",
            "_19 24\n",
            "_i20 143\n",
            "get_mem_size 136\n",
            "_i21 197\n",
            "sys 80\n"
          ],
          "name": "stdout"
        }
      ]
    },
    {
      "cell_type": "code",
      "metadata": {
        "cellView": "form",
        "id": "ep4R4oR64ztV",
        "colab": {
          "base_uri": "https://localhost:8080/"
        },
        "outputId": "8c1d860e-fbfa-4d32-ff54-1fc0fd152e21"
      },
      "source": [
        "#@title Variables occupying large amt of mem\n",
        "import sys\n",
        "def sizeof_fmt(num, suffix='B'):\n",
        "    for unit in ['','Ki','Mi','Gi','Ti','Pi','Ei','Zi']:\n",
        "        if abs(num) < 1024.0:\n",
        "            return \"%3.1f %s%s\" % (num, unit, suffix)\n",
        "        num /= 1024.0\n",
        "    return \"%.1f %s%s\" % (num, 'Yi', suffix)\n",
        "\n",
        "for name, size in sorted(((name, sys.getsizeof(value)) for name, value in locals().items()),\n",
        "                         key= lambda x: -x[1])[:10]:\n",
        "    print(\"{:>30}: {:>8}\".format(name, sizeof_fmt(size)))"
      ],
      "execution_count": null,
      "outputs": [
        {
          "output_type": "stream",
          "text": [
            "                    embeddings: 576.1 KiB\n",
            "                         vocab: 576.1 KiB\n",
            "                      id_vocab: 576.1 KiB\n",
            "                   train_label: 541.6 KiB\n",
            "             data_preprocessed: 167.1 KiB\n",
            "      data_preprocessed_labels: 167.1 KiB\n",
            "     preprossed_data_non_zeros: 167.1 KiB\n",
            "           train_vec_non_zeros: 167.1 KiB\n",
            "                          _i12:  4.2 KiB\n",
            "                    local_vars:  1.1 KiB\n"
          ],
          "name": "stdout"
        }
      ]
    },
    {
      "cell_type": "markdown",
      "metadata": {
        "id": "QRAYS2gUgG91"
      },
      "source": [
        "# **Irrelevant Score**"
      ]
    },
    {
      "cell_type": "code",
      "metadata": {
        "colab": {
          "base_uri": "https://localhost:8080/"
        },
        "id": "DkvzqQMNXbuK",
        "outputId": "752c6f55-31dd-40af-9af1-8a7b2c13df26"
      },
      "source": [
        "# torch.max(all_rscores)\n",
        "top_10_docs=[]\n",
        "sort,indices = torch.sort(all_rscores,descending=True)\n",
        "print('Keywords',get_keywords())\n",
        "print('Descending :',sort,'\\n','indices:',indices)\n",
        "print('\\n\\n Top 10 Relevant Documents (DESM):\\n\\n',\"---\"*40)\n",
        "\n",
        "for k in range(10):\n",
        "   print(k+1,') ',preprossed_data_non_zeros[indices[k].item()])\n",
        "   print(k+1,')',train_label[indices[k].item()])\n",
        "with open(\"1000.txt\", \"w\") as output:\n",
        "  for k in range(0,1000):\n",
        "    output.write(str(k+1)+') '+str(preprossed_data_non_zeros[indices[k].item()])+'\\n')\n",
        "    output.write(str(k+1)+') '+str(sort[k].item())+'\\n')\n",
        "    output.write(str(k+1)+'label) '+str(train_label[indices[k].item()])+'\\n\\n')\n",
        "    # print()\n",
        "\n",
        "output.close()"
      ],
      "execution_count": null,
      "outputs": [
        {
          "output_type": "stream",
          "text": [
            "Keywords ['housewife', 'girl', 'beautiful', 'blonde']\n",
            "Descending : tensor([ 0.5789,  0.5721,  0.5721,  ..., -0.0401, -0.0422, -0.0427]) \n",
            " indices: tensor([ 3410, 18680, 16444,  ...,  1202, 13706, 13368])\n",
            "\n",
            "\n",
            " Top 10 Relevant Documents (DESM):\n",
            "\n",
            " ------------------------------------------------------------------------------------------------------------------------\n",
            "1 )  cute girl\n",
            "1 ) female\n",
            "2 )  girl\n",
            "2 ) female\n",
            "3 )  girl\n",
            "3 ) male\n",
            "4 )  girl\n",
            "4 ) brand\n",
            "5 )  girl girl\n",
            "5 ) unknown\n",
            "6 )  gaping beautiful sexy woman\n",
            "6 ) brand\n",
            "7 )  beautiful girl earth\n",
            "7 ) female\n",
            "8 )  blonde goddess\n",
            "8 ) unknown\n",
            "9 )  beautiful person good singer beautiful cute\n",
            "9 ) male\n",
            "10 )  shout girl hotline bling skimpy outfit girl fun friend honey\n",
            "10 ) female\n"
          ],
          "name": "stdout"
        }
      ]
    },
    {
      "cell_type": "code",
      "metadata": {
        "id": "2bELCcZ0Wu-v"
      },
      "source": [
        "from sklearn.preprocessing import MinMaxScaler\n",
        "from matplotlib import pyplot as plt\n",
        "num_div = 10\n",
        "scaler = MinMaxScaler(feature_range=(0+1e-10, 0.99))\n",
        "normalized_all_rscores = scaler.fit_transform(all_rscores.data.reshape(-1,1))\n",
        "normalized_all_rscores=torch.tensor(normalized_all_rscores.flatten())"
      ],
      "execution_count": null,
      "outputs": []
    },
    {
      "cell_type": "code",
      "metadata": {
        "colab": {
          "base_uri": "https://localhost:8080/"
        },
        "id": "eyJZs_wzaaWN",
        "outputId": "75a8e2f1-f93b-4c83-ced3-fe00fef0f016"
      },
      "source": [
        "plt.hist(normalized_all_rscores)"
      ],
      "execution_count": null,
      "outputs": [
        {
          "output_type": "execute_result",
          "data": {
            "text/plain": [
              "(array([ 121., 1494., 5336., 5946., 4237., 1807.,  598.,  210.,   46.,\n",
              "           9.]),\n",
              " array([9.99999944e-11, 9.90000001e-02, 1.98000000e-01, 2.97000000e-01,\n",
              "        3.96000000e-01, 4.95000000e-01, 5.94000000e-01, 6.93000000e-01,\n",
              "        7.92000000e-01, 8.91000000e-01, 9.90000000e-01]),\n",
              " <a list of 10 Patch objects>)"
            ]
          },
          "metadata": {
            "tags": []
          },
          "execution_count": 25
        },
        {
          "output_type": "display_data",
          "data": {
            "image/png": "[encoded data removed]",
            "text/plain": [
              "<Figure size 432x288 with 1 Axes>"
            ]
          },
          "metadata": {
            "tags": [],
            "needs_background": "light"
          }
        }
      ]
    },
    {
      "cell_type": "code",
      "metadata": {
        "id": "YJzRsxJnu6pf"
      },
      "source": [
        "## Short-Text\n",
        "def shortTextScore(score,preprossed_data_non_zeros):\n",
        "  for i in range(len(score)):\n",
        "  #   if (train_label[i] == 'sci.crypt' or train_label[i] == 'rec.sport.hockey' or train_label[i] == 'sci.med'):\n",
        "      for k in get_keywords():\n",
        "        if (k in preprossed_data_non_zeros[i]):\n",
        "          score[i] = 1.0\n",
        "  return score"
      ],
      "execution_count": null,
      "outputs": []
    },
    {
      "cell_type": "code",
      "metadata": {
        "id": "SivI6PugvsRg"
      },
      "source": [
        "def getCount_rscore(score,val=1.0):\n",
        "  s,i = score.sort()\n",
        "  c=0\n",
        "  for a in s:\n",
        "    if a == val:\n",
        "      c = c+1\n",
        "  return c"
      ],
      "execution_count": null,
      "outputs": []
    },
    {
      "cell_type": "code",
      "metadata": {
        "id": "f_soE82QwSs4",
        "colab": {
          "base_uri": "https://localhost:8080/"
        },
        "outputId": "d56a8c8f-cd01-4744-db27-88e05f7e6ca7"
      },
      "source": [
        "rscore = shortTextScore(normalized_all_rscores,preprossed_data_non_zeros)\n",
        "getCount_rscore(rscore,1.0)"
      ],
      "execution_count": null,
      "outputs": [
        {
          "output_type": "execute_result",
          "data": {
            "text/plain": [
              "406"
            ]
          },
          "metadata": {
            "tags": []
          },
          "execution_count": 28
        }
      ]
    },
    {
      "cell_type": "code",
      "metadata": {
        "id": "myL6i6IrfqcS"
      },
      "source": [
        "irrelevant_scores = torch.round((1-rscore)*(num_div))/(num_div)"
      ],
      "execution_count": null,
      "outputs": []
    },
    {
      "cell_type": "code",
      "metadata": {
        "colab": {
          "base_uri": "https://localhost:8080/"
        },
        "id": "o_D8mZpEaa19",
        "outputId": "bbadaa7b-626d-4b7c-b01b-95b8dcd4616d"
      },
      "source": [
        "plt.hist(irrelevant_scores)"
      ],
      "execution_count": null,
      "outputs": [
        {
          "output_type": "execute_result",
          "data": {
            "text/plain": [
              "(array([4.060e+02, 1.000e+00, 2.470e+02, 0.000e+00, 8.390e+02, 8.160e+03,\n",
              "        5.473e+03, 0.000e+00, 4.156e+03, 5.220e+02]),\n",
              " array([0. , 0.1, 0.2, 0.3, 0.4, 0.5, 0.6, 0.7, 0.8, 0.9, 1. ]),\n",
              " <a list of 10 Patch objects>)"
            ]
          },
          "metadata": {
            "tags": []
          },
          "execution_count": 30
        },
        {
          "output_type": "display_data",
          "data": {
            "image/png": "[encoded data removed]",
            "text/plain": [
              "<Figure size 432x288 with 1 Axes>"
            ]
          },
          "metadata": {
            "tags": [],
            "needs_background": "light"
          }
        }
      ]
    },
    {
      "cell_type": "markdown",
      "metadata": {
        "id": "JtRrwY7L-oRL"
      },
      "source": [
        "# **Document Model**\n"
      ]
    },
    {
      "cell_type": "code",
      "metadata": {
        "id": "20SZS3Q4FVzq"
      },
      "source": [
        "import torch.nn as nn\n",
        "import torch.nn.functional as F\n",
        "import torch.optim as optim\n",
        "from torch.nn import Parameter\n",
        "torch.cuda.empty_cache()\n",
        "\n",
        "mu_div=200.0\n",
        "smoothen=1e-20\n",
        "sig=10.0\n",
        "\n",
        "pi = 3.1415927410125732\n",
        "\n",
        "def gaussian_dist(x,mu,variance):\n",
        "  exp_term = torch.exp( -0.5 * ((x-mu)/variance)**2 )\n",
        "  var_term = (1.0 / (variance * (2*pi)**0.5)) + smoothen\n",
        "  ret = torch.mul(var_term,exp_term)\n",
        "  ret = torch.log(ret)\n",
        "  return ret\n",
        "\n",
        "def torch_lgamma(a):\n",
        "  return torch.lgamma(torch.tensor(a))\n",
        "\n",
        "def NewBeta_dist(x,mu,phi_beta,smoothen):\n",
        "  First = torch_lgamma(phi_beta+smoothen) - (torch_lgamma(phi_beta * mu+smoothen) + torch_lgamma(phi_beta * (1-mu)+smoothen))\n",
        "  Second_1 = (mu*phi_beta-1) * torch.log(x+smoothen)\n",
        "  Second_2 = ( (1-mu)*phi_beta-1 )* torch.log(1-x+smoothen)\n",
        "  Second = Second_1 + Second_2\n",
        "  return First + Second\n",
        "\n",
        "def LogL_NewBeta(phi_1,score):\n",
        "  phi_1_norm = torch.norm(phi_1,dim=-1)\n",
        "  mu = torch.exp(-0.5 * (torch.pow(phi_1_norm,2))/mu_div)\n",
        "  # LogL = torch.log(NewBeta_dist(relevant_scores,mu,sig,smoothen)+smoothen)\n",
        "  LogL = NewBeta_dist(score,mu,sig,smoothen)\n",
        "  return LogL.sum()\n",
        "\n",
        "#phi\n",
        "def gaussian(alpha): return -0.5*alpha\n",
        "def inverse_multi_quadric(alpha): return -0.5*torch.log(torch.ones_like(alpha) + alpha)\n",
        "def inverse_quadratic(alpha): return -torch.log(torch.ones_like(alpha) + alpha)\n",
        "\n",
        "class FoTo_Doc(nn.Module):\n",
        "    def __init__(self, num_input, en1_units_x, en2_units_x, num_coordinate, num_topic, drop_rate, variance_x, bs, distance=\"gaussian\"):\n",
        "        super(FoTo_Doc, self).__init__()\n",
        "        self.num_input, self.num_coordinate, self.num_topic, self.variance_x, self.bs\\\n",
        "            = num_input, num_coordinate, num_topic, variance_x, bs\n",
        "\n",
        "        # encoder\n",
        "        self.en1_fc     = nn.Linear(num_input, en1_units_x)           # V -> 100 #nxV->(vxh1)->nxh1;\n",
        "        self.en2_fc     = nn.Linear(en1_units_x, en2_units_x)         # 100  -> 100\n",
        "        self.en2_drop   = nn.Dropout(drop_rate)                       # 0.6\n",
        "        self.mean_fc    = nn.Linear(en2_units_x, num_coordinate)      # 100  -> 2\n",
        "        self.mean_bn    = nn.BatchNorm1d(num_coordinate)              # bn for mean\n",
        "        self.logvar_fc  = nn.Linear(en2_units_x, num_coordinate)      # 100  -> 2\n",
        "        self.logvar_bn  = nn.BatchNorm1d(num_coordinate)              # bn for logvar\n",
        "\n",
        "        # RBF\n",
        "        self.in_features = self.num_coordinate\n",
        "        self.out_features = self.num_topic\n",
        "        self.centres = nn.Parameter(torch.Tensor(self.out_features, self.in_features))\n",
        "        self.query_center = nn.Parameter(torch.zeros(2,1))\n",
        "\n",
        "        if distance==\"gaussian\": self.basis_func = gaussian\n",
        "        if distance==\"inverse_quadratic\": self.basis_func = inverse_quadratic\n",
        "        if distance==\"inverse_multi_quadric\": self.basis_func = inverse_multi_quadric\n",
        "        self.init_parameters()\n",
        "\n",
        "        # decoder layer\n",
        "        self.decoder    = nn.Linear(self.num_topic, self.num_input)  #T X V\n",
        "        self.decoder_bn = nn.BatchNorm1d(self.num_topic)\n",
        "\n",
        "        # decoder document\n",
        "        self.decoder_phi_bn = nn.BatchNorm1d(num_coordinate)\n",
        "        self.decoder_x_bn = nn.BatchNorm1d(num_coordinate)\n",
        "\n",
        "        # prior mean and variance as constant buffers\n",
        "        prior_mean   = torch.Tensor(1, num_coordinate).fill_(0)\n",
        "        prior_var    = torch.Tensor(1, num_coordinate).fill_(variance_x)\n",
        "        self.prior_mean = nn.Parameter(prior_mean, requires_grad=False)\n",
        "        self.prior_var  = nn.Parameter(prior_var, requires_grad=False)\n",
        "        self.prior_logvar = nn.Parameter(prior_var.log(), requires_grad=False)\n",
        "\n",
        "\n",
        "    def init_parameters(self):\n",
        "        nn.init.normal_(self.centres, 0, 0.01)\n",
        "\n",
        "    def encode(self, input_):\n",
        "        N, *_ = input_.size()\n",
        "        en1 = F.softplus(self.en1_fc(input_))                           # en1_fc   output\n",
        "        en2 = F.softplus(self.en2_fc(en1))                              # encoder2 output\n",
        "        en2 = self.en2_drop(en2)\n",
        "\n",
        "        posterior_mean   = self.mean_bn  (self.mean_fc  (en2))          # posterior mean\n",
        "        posterior_logvar = self.logvar_bn(self.logvar_fc(en2))          # posterior log variance\n",
        "        posterior_var    = posterior_logvar.exp()\n",
        "\n",
        "        return en2, posterior_mean, posterior_logvar, posterior_var\n",
        "\n",
        "    def take_sample(self, input_, posterior_mean, posterior_var, prior_var):\n",
        "        eps = input_.data.new().resize_as_(posterior_mean.data).normal_(std=1) # noise\n",
        "        z = posterior_mean + posterior_var.sqrt() * eps                   # reparameterization\n",
        "\n",
        "        return z\n",
        "\n",
        "    def decode(self, z):\n",
        "        # decode\n",
        "        N, *_ = z.size()\n",
        "        zx = self.decoder_x_bn(z).view(N, 1, self.num_coordinate) # Nx1xX\n",
        "        size = (N, self.out_features, self.in_features) # NxTx2\n",
        "        x = zx.expand(size)\n",
        "        c = self.decoder_phi_bn(self.centres).unsqueeze(0).expand(size)\n",
        "        d = (x-c).pow(2).sum(-1)\n",
        "        distances = self.basis_func(d) #NxT\n",
        "        zx_phi = torch.exp(distances - torch.logsumexp(distances, dim=-1, keepdim=True))\n",
        "        recon_v = torch.mm(zx_phi, F.softmax(self.decoder_bn(self.decoder.weight).transpose(1,0), dim=-1))\n",
        "        return recon_v, zx, zx_phi, d, c\n",
        "\n",
        "\n",
        "    def forward(self, input_, score, compute_loss=False):\n",
        "        en2, posterior_mean, posterior_logvar, posterior_var = self.encode(input_)\n",
        "        z = self.take_sample(input_, posterior_mean, posterior_var, self.variance_x)\n",
        "\n",
        "        # decode\n",
        "        recon_v, zx, zx_phi,d,c= self.decode(z)\n",
        "\n",
        "        if compute_loss:\n",
        "            return recon_v, self.loss(input_, recon_v, zx_phi, posterior_mean, posterior_logvar, posterior_var, d, c, score, zx)\n",
        "        else:\n",
        "            return z, recon_v, zx, zx_phi\n",
        "\n",
        "\n",
        "    def KLD(self, posterior_mean,posterior_logvar,posterior_var):\n",
        "        N = posterior_mean.shape[0]\n",
        "        prior_mean   = self.prior_mean.expand_as(posterior_mean)\n",
        "        prior_var    = self.prior_var.expand_as(posterior_mean)\n",
        "        prior_logvar = self.prior_logvar.expand_as(posterior_mean)\n",
        "\n",
        "        var_division    = posterior_var  / prior_var\n",
        "        diff            = posterior_mean - prior_mean\n",
        "        diff_term       = diff * diff / prior_var\n",
        "        logvar_division = prior_logvar - posterior_logvar\n",
        "\n",
        "        xKLD = 0.5 * ((var_division + diff_term + logvar_division).sum(-1) - self.num_coordinate)\n",
        "        xKLD_mean = xKLD.mean()\n",
        "        return xKLD_mean\n",
        "\n",
        "    def loss(self, input_, recon_v, zx_phi, posterior_mean, posterior_logvar, posterior_var, d, c, score, zx, avg=True):\n",
        "\n",
        "        N = posterior_mean.shape[0]\n",
        "        NL_mean = - (input_ * (recon_v+1e-10).log()).sum(-1).mean()\n",
        "        xKLD_mean = self.KLD(posterior_mean,posterior_logvar,posterior_var)\n",
        "\n",
        "        # NegativeLogL_RScore = torch.tensor(0.0) # Disable Score (Works like PLSV-VAE)\n",
        "        phi_1 = torch.narrow(zx_phi,1,0,1)\n",
        "        NegativeLogL_RScore = - LogL_NewBeta(phi_1,score)\n",
        "        loss = NL_mean + xKLD_mean + NegativeLogL_RScore\n",
        "\n",
        "        return loss, NL_mean , xKLD_mean , NegativeLogL_RScore"
      ],
      "execution_count": null,
      "outputs": []
    },
    {
      "cell_type": "code",
      "metadata": {
        "id": "Xiv54gv6-sqB",
        "colab": {
          "base_uri": "https://localhost:8080/",
          "height": 1000
        },
        "outputId": "0723357b-7775-4282-8259-34c325ad97b2"
      },
      "source": [
        "model = FoTo_Doc(num_input, en1_units_x, en2_units_x, num_coordinate, num_topic, drop_rate, variance_x, bs, \"inverse_quadratic\")\n",
        "model.to(device)\n",
        "optimizer = optim.Adam(model.parameters(), learning_rate, betas=(beta1, beta2))\n",
        "epochs = 1000\n",
        "\n",
        "neg_log_rscore_arr=[]\n",
        "x_arr,recon_arr = [],[]\n",
        "\n",
        "all_indices = torch.randperm(tensor_train_w.size(0)).split(bs)\n",
        "\n",
        "for epoch in range(epochs):\n",
        "    loss_u_epoch = 0.0\n",
        "    loss_xkl_epoch = 0.0\n",
        "    recon_ep = 0.0\n",
        "    loss_epoch = 0.0\n",
        "    neg_log_rscore_ep = 0.0\n",
        "    model.train()\n",
        "\n",
        "    for batch_ndx in all_indices:\n",
        "\n",
        "        input_w = tensor_train_w[batch_ndx].to(device)\n",
        "        labels = train_label[batch_ndx]\n",
        "        # r_indexes = relv_indexes[batch_ndx].to(device)\n",
        "        irr_scores_b = irrelevant_scores[batch_ndx].to(device)\n",
        "        recon_v, (loss, loss_u, xkl_loss, neg_log_rscore) = model(input_w, irr_scores_b, compute_loss=True)\n",
        "\n",
        "        optimizer.zero_grad()\n",
        "        loss.backward()\n",
        "\n",
        "        optimizer.step()             # backpror.step()            # update parameters\n",
        "        loss_epoch += loss.item()\n",
        "        loss_u_epoch += loss_u.item()\n",
        "        loss_xkl_epoch += xkl_loss.item()\n",
        "        neg_log_rscore_ep += neg_log_rscore.item()\n",
        "    x_arr.append(loss_xkl_epoch)\n",
        "    recon_arr.append(loss_u_epoch)\n",
        "    neg_log_rscore_arr.append(neg_log_rscore_ep)\n",
        "\n",
        "    if epoch % 10 == 0:\n",
        "        print('Epoch -> {}, loss->{}'.format(epoch,loss_epoch))\n",
        "        print('recon_loss==> {} || KLD==> {} || neg_loss = {}'.format(loss_u_epoch, loss_xkl_epoch,neg_log_rscore_ep))\n",
        "        gc.collect()"
      ],
      "execution_count": null,
      "outputs": [
        {
          "output_type": "stream",
          "text": [
            "/usr/local/lib/python3.6/dist-packages/ipykernel_launcher.py:21: UserWarning: To copy construct from a tensor, it is recommended to use sourceTensor.clone().detach() or sourceTensor.clone().detach().requires_grad_(True), rather than torch.tensor(sourceTensor).\n"
          ],
          "name": "stderr"
        },
        {
          "output_type": "stream",
          "text": [
            "Epoch -> 0, loss->449261.43212129385\n",
            "recon_loss==> 4092.385654449463 || KLD==> 103.65081834793091 || neg_loss = 445065.3956489733\n",
            "Epoch -> 10, loss->427737.1315440857\n",
            "recon_loss==> 3624.1808891296387 || KLD==> 9.232499346137047 || neg_loss = 424103.7181567871\n",
            "Epoch -> 20, loss->407760.2523389232\n",
            "recon_loss==> 3611.303092956543 || KLD==> 37.07377681136131 || neg_loss = 404111.8754811657\n",
            "Epoch -> 30, loss->411282.1742007609\n",
            "recon_loss==> 3596.281295776367 || KLD==> 43.3616738319397 || neg_loss = 407642.5312335368\n",
            "Epoch -> 40, loss->406305.91394795716\n",
            "recon_loss==> 3586.835174560547 || KLD==> 46.927308678627014 || neg_loss = 402672.1514738972\n",
            "Epoch -> 50, loss->406117.38117806055\n",
            "recon_loss==> 3580.8020973205566 || KLD==> 48.90055072307587 || neg_loss = 402487.67853371246\n",
            "Epoch -> 60, loss->406816.4371596133\n",
            "recon_loss==> 3574.4166374206543 || KLD==> 50.74266821146011 || neg_loss = 403191.2778616702\n",
            "Epoch -> 70, loss->405971.0434108689\n",
            "recon_loss==> 3567.628593444824 || KLD==> 52.93534606695175 || neg_loss = 402350.47946128395\n",
            "Epoch -> 80, loss->400533.6897599785\n",
            "recon_loss==> 3558.433017730713 || KLD==> 55.903960824012756 || neg_loss = 396919.3527848808\n",
            "Epoch -> 90, loss->396818.7988840704\n",
            "recon_loss==> 3548.5816650390625 || KLD==> 59.074187994003296 || neg_loss = 393211.14302698424\n",
            "Epoch -> 100, loss->397191.9076120981\n",
            "recon_loss==> 3540.5924949645996 || KLD==> 61.126585602760315 || neg_loss = 393590.1885378488\n",
            "Epoch -> 110, loss->396583.893128665\n",
            "recon_loss==> 3535.5985145568848 || KLD==> 62.708781361579895 || neg_loss = 392985.58582809736\n",
            "Epoch -> 120, loss->397745.9500536677\n",
            "recon_loss==> 3530.023910522461 || KLD==> 64.0595126748085 || neg_loss = 394151.8666376826\n",
            "Epoch -> 130, loss->403811.3941880383\n",
            "recon_loss==> 3522.0925903320312 || KLD==> 65.0740008354187 || neg_loss = 400224.227596394\n",
            "Epoch -> 140, loss->406552.32479935436\n",
            "recon_loss==> 3517.217140197754 || KLD==> 65.63428199291229 || neg_loss = 402969.47338562756\n",
            "Epoch -> 150, loss->409301.3599680975\n",
            "recon_loss==> 3512.498504638672 || KLD==> 67.71081727743149 || neg_loss = 405721.1506594732\n",
            "Epoch -> 160, loss->409786.4981127647\n",
            "recon_loss==> 3507.4873085021973 || KLD==> 70.2324013710022 || neg_loss = 406208.77842434915\n",
            "Epoch -> 170, loss->412536.9648314905\n",
            "recon_loss==> 3502.4461212158203 || KLD==> 72.62137991189957 || neg_loss = 408961.89733423706\n",
            "Epoch -> 180, loss->412654.574188156\n",
            "recon_loss==> 3497.3250312805176 || KLD==> 74.41074645519257 || neg_loss = 409082.838401718\n",
            "Epoch -> 190, loss->412629.41573502263\n",
            "recon_loss==> 3488.8148040771484 || KLD==> 78.26063024997711 || neg_loss = 409062.3403070136\n",
            "Epoch -> 200, loss->415446.0119445608\n",
            "recon_loss==> 3483.885799407959 || KLD==> 81.28172564506531 || neg_loss = 411880.84439924225\n",
            "Epoch -> 210, loss->418437.3314204873\n",
            "recon_loss==> 3479.064914703369 || KLD==> 83.72918128967285 || neg_loss = 414874.5373302163\n",
            "Epoch -> 220, loss->419764.0618433703\n",
            "recon_loss==> 3473.2233123779297 || KLD==> 86.19171023368835 || neg_loss = 416204.6468233813\n",
            "Epoch -> 230, loss->421754.8178208679\n",
            "recon_loss==> 3469.131580352783 || KLD==> 88.95929396152496 || neg_loss = 418196.7269395202\n",
            "Epoch -> 240, loss->423479.6435379345\n",
            "recon_loss==> 3465.080924987793 || KLD==> 90.10319459438324 || neg_loss = 419924.45943301497\n",
            "Epoch -> 250, loss->445176.2359124869\n",
            "recon_loss==> 3464.242576599121 || KLD==> 90.40342235565186 || neg_loss = 441621.58992402256\n",
            "Epoch -> 260, loss->454051.65708945185\n",
            "recon_loss==> 3462.387794494629 || KLD==> 90.80872428417206 || neg_loss = 450498.46055243403\n",
            "Epoch -> 270, loss->459038.6324358304\n",
            "recon_loss==> 3460.2477226257324 || KLD==> 91.75825762748718 || neg_loss = 455486.6264505704\n",
            "Epoch -> 280, loss->460267.28005188686\n",
            "recon_loss==> 3460.5641136169434 || KLD==> 91.26238119602203 || neg_loss = 456715.4535443185\n",
            "Epoch -> 290, loss->461412.6906095504\n",
            "recon_loss==> 3459.4806785583496 || KLD==> 91.60128855705261 || neg_loss = 457861.60863933555\n",
            "Epoch -> 300, loss->465223.9507402027\n",
            "recon_loss==> 3458.086898803711 || KLD==> 91.76706659793854 || neg_loss = 461674.0967706287\n",
            "Epoch -> 310, loss->464479.7481708933\n",
            "recon_loss==> 3458.415740966797 || KLD==> 91.54053127765656 || neg_loss = 460929.79187587986\n",
            "Epoch -> 320, loss->468270.4319273736\n",
            "recon_loss==> 3458.1592178344727 || KLD==> 91.3853828907013 || neg_loss = 464720.88732593314\n",
            "Epoch -> 330, loss->468815.5361902726\n",
            "recon_loss==> 3459.0722732543945 || KLD==> 91.67684543132782 || neg_loss = 465264.78708672646\n",
            "Epoch -> 340, loss->473910.6160583488\n",
            "recon_loss==> 3457.092945098877 || KLD==> 91.40526163578033 || neg_loss = 470362.1178398124\n",
            "Epoch -> 350, loss->474734.79610712145\n",
            "recon_loss==> 3455.776023864746 || KLD==> 92.04218924045563 || neg_loss = 471186.97789270495\n",
            "Epoch -> 360, loss->474994.63630107266\n",
            "recon_loss==> 3456.036781311035 || KLD==> 91.31824696063995 || neg_loss = 471447.28128245694\n",
            "Epoch -> 370, loss->479112.4285181182\n",
            "recon_loss==> 3455.4345512390137 || KLD==> 91.80479323863983 || neg_loss = 475565.1891763824\n",
            "Epoch -> 380, loss->479016.8571471251\n",
            "recon_loss==> 3456.0955657958984 || KLD==> 92.24809432029724 || neg_loss = 475468.51348104846\n",
            "Epoch -> 390, loss->480464.37345583964\n",
            "recon_loss==> 3456.5841064453125 || KLD==> 91.52557170391083 || neg_loss = 476916.26376803446\n",
            "Epoch -> 400, loss->482881.2961876972\n",
            "recon_loss==> 3456.185371398926 || KLD==> 92.10811984539032 || neg_loss = 479333.0027077778\n",
            "Epoch -> 410, loss->485087.3545747144\n",
            "recon_loss==> 3455.481788635254 || KLD==> 91.32432162761688 || neg_loss = 481540.5484567029\n",
            "Epoch -> 420, loss->487448.30055848777\n",
            "recon_loss==> 3455.799747467041 || KLD==> 91.23616206645966 || neg_loss = 483901.2646545571\n",
            "Epoch -> 430, loss->487582.7643267634\n",
            "recon_loss==> 3454.5503425598145 || KLD==> 92.00729942321777 || neg_loss = 484036.2066905024\n",
            "Epoch -> 440, loss->487770.9391590408\n",
            "recon_loss==> 3455.858444213867 || KLD==> 92.01674270629883 || neg_loss = 484223.0639873794\n",
            "Epoch -> 450, loss->486946.21224652004\n",
            "recon_loss==> 3456.112335205078 || KLD==> 91.7721118927002 || neg_loss = 483398.3278013296\n",
            "Epoch -> 460, loss->489469.5323578574\n",
            "recon_loss==> 3454.2467193603516 || KLD==> 92.24063122272491 || neg_loss = 485923.0450340964\n",
            "Epoch -> 470, loss->490285.4097545843\n",
            "recon_loss==> 3455.6734619140625 || KLD==> 91.41875290870667 || neg_loss = 486738.3175266485\n",
            "Epoch -> 480, loss->491596.09418167325\n",
            "recon_loss==> 3454.3939323425293 || KLD==> 92.80710542201996 || neg_loss = 488048.89313568326\n"
          ],
          "name": "stdout"
        },
        {
          "output_type": "error",
          "ename": "KeyboardInterrupt",
          "evalue": "ignored",
          "traceback": [
            "\u001b[0;31m---------------------------------------------------------------------------\u001b[0m",
            "\u001b[0;31mKeyboardInterrupt\u001b[0m                         Traceback (most recent call last)",
            "\u001b[0;32m<ipython-input-32-d4985d9ee324>\u001b[0m in \u001b[0;36m<module>\u001b[0;34m()\u001b[0m\n\u001b[1;32m     19\u001b[0m     \u001b[0;32mfor\u001b[0m \u001b[0mbatch_ndx\u001b[0m \u001b[0;32min\u001b[0m \u001b[0mall_indices\u001b[0m\u001b[0;34m:\u001b[0m\u001b[0;34m\u001b[0m\u001b[0;34m\u001b[0m\u001b[0m\n\u001b[1;32m     20\u001b[0m \u001b[0;34m\u001b[0m\u001b[0m\n\u001b[0;32m---> 21\u001b[0;31m         \u001b[0minput_w\u001b[0m \u001b[0;34m=\u001b[0m \u001b[0mtensor_train_w\u001b[0m\u001b[0;34m[\u001b[0m\u001b[0mbatch_ndx\u001b[0m\u001b[0;34m]\u001b[0m\u001b[0;34m.\u001b[0m\u001b[0mto\u001b[0m\u001b[0;34m(\u001b[0m\u001b[0mdevice\u001b[0m\u001b[0;34m)\u001b[0m\u001b[0;34m\u001b[0m\u001b[0;34m\u001b[0m\u001b[0m\n\u001b[0m\u001b[1;32m     22\u001b[0m         \u001b[0mlabels\u001b[0m \u001b[0;34m=\u001b[0m \u001b[0mtrain_label\u001b[0m\u001b[0;34m[\u001b[0m\u001b[0mbatch_ndx\u001b[0m\u001b[0;34m]\u001b[0m\u001b[0;34m\u001b[0m\u001b[0;34m\u001b[0m\u001b[0m\n\u001b[1;32m     23\u001b[0m         \u001b[0;31m# r_indexes = relv_indexes[batch_ndx].to(device)\u001b[0m\u001b[0;34m\u001b[0m\u001b[0;34m\u001b[0m\u001b[0;34m\u001b[0m\u001b[0m\n",
            "\u001b[0;31mKeyboardInterrupt\u001b[0m: "
          ]
        }
      ]
    },
    {
      "cell_type": "markdown",
      "metadata": {
        "id": "K0zQCuyY_kaq"
      },
      "source": [
        "# **Functions (Plot_loss, get_topwords, get_Z, get_Contour, print_Topics)** - *Run Once*"
      ]
    },
    {
      "cell_type": "code",
      "metadata": {
        "id": "IQs6On09Oj9I",
        "cellView": "form"
      },
      "source": [
        "#@title get_all_tensor_size\n",
        "def getall_tensor_size():\n",
        "  for obj in gc.get_objects():\n",
        "    try:\n",
        "        if torch.is_tensor(obj) or (hasattr(obj, 'data') and torch.is_tensor(obj.data)):\n",
        "            print(type(obj), obj.size(),get_mem_size(obj))\n",
        "    except:\n",
        "        pass"
      ],
      "execution_count": null,
      "outputs": []
    },
    {
      "cell_type": "code",
      "metadata": {
        "id": "r9dbke4-9_Wy"
      },
      "source": [
        "import plotly.graph_objects as go\n",
        "def plot_loss(y,name):\n",
        "  figure = go.Figure()\n",
        "  figure.add_trace(go.Scatter(x=[i for i in range(1,epochs+1)], y=y,mode='lines',name=name))\n",
        "  figure.show(renderer='colab')"
      ],
      "execution_count": null,
      "outputs": []
    },
    {
      "cell_type": "code",
      "metadata": {
        "id": "VRM89oumbZAs"
      },
      "source": [
        "def get_topwords(beta, id_vocab):\n",
        "    topic_indx = 0\n",
        "    topwords_topic = []\n",
        "    for i in range(len(beta)):\n",
        "        topwords_topic.append( str(topic_indx)+\": \"+ \" \".join([id_vocab[j] for j in beta[i].argsort()[:-10 - 1:-1]]))\n",
        "        topic_indx+=1\n",
        "    return topwords_topic"
      ],
      "execution_count": null,
      "outputs": []
    },
    {
      "cell_type": "code",
      "metadata": {
        "id": "UKdw2hm7bZAs"
      },
      "source": [
        "def get_Z(X,Y,query_center):\n",
        "  norms = torch.zeros(X.shape)\n",
        "  Z = torch.zeros(X.shape)\n",
        "\n",
        "  for i in range(X.shape[0]):\n",
        "    for j in range(X.shape[0]):\n",
        "      v = torch.tensor([X[i][j],Y[i][j]])\n",
        "\n",
        "      # norms[i][j] = torch.norm(v)\n",
        "      # Z[i][j]=torch.exp(-0.5 * (torch.pow(norms[i][j],2))/mu_div)\n",
        "\n",
        "      norms[i][j] = (v-query_center.T).pow(2).sum(-1)\n",
        "      Z[i][j]=torch.exp(-0.5 * norms[i][j]/mu_div)\n",
        "  return Z"
      ],
      "execution_count": null,
      "outputs": []
    },
    {
      "cell_type": "code",
      "metadata": {
        "id": "YBJfo4THbZAs"
      },
      "source": [
        "def get_Contour(ax,x_list,lx,ly,space,query_center):\n",
        "  xlist = np.linspace(lx, ly, space)\n",
        "  ylist = np.linspace(lx, ly, space)\n",
        "  X, Y = np.meshgrid(xlist, ylist)\n",
        "  Z = get_Z(X,Y,query_center)\n",
        "  levels = np.arange(0,1,0.1)\n",
        "  cp = ax.contour(X, Y, Z, levels=levels)\n",
        "  ax.clabel(cp, inline=1, fontsize=10)"
      ],
      "execution_count": null,
      "outputs": []
    },
    {
      "cell_type": "code",
      "metadata": {
        "id": "Vneg8vGabZAs"
      },
      "source": [
        "import seaborn as sb\n",
        "\n",
        "def plot_fig(zx, labels_list, zphi, query_center,lim,contour='No'):\n",
        "    labels = []\n",
        "    for i in range(len(labels_list)):\n",
        "        labels.append('C'+str(labels_list[i]))\n",
        "    fig, ax = plt.subplots( figsize=(20, 20))\n",
        "    if contour=='yes':\n",
        "       get_Contour(ax,zx)\n",
        "\n",
        "    sb.scatterplot(ax=ax,x=zx[:,0],y=zx[:,1],hue=labels_list,alpha=0.8,palette='deep')\n",
        "    ax.set(ylim=lim)\n",
        "    ax.set(xlim=lim)\n",
        "\n",
        "    # ax.scatter(zx[:,0], zx[:,1], alpha=0.8, c=labels, facecolors='none', s=8)\n",
        "    # for d in range(len(labels_list)):\n",
        "    #  score = rounded_normalized_all_rscores[doc_ids[d]].item()\n",
        "    #  if(score>0.7 and score<0.9):\n",
        "    #   ax.text(zx[d,0],zx[d,1], str(round(score, 3) ) )\n",
        "\n",
        "    # ax.text(query_center[0],query_center[1], 'X' ,c='black')\n",
        "    # ax.text(0,0, 'X' ,c='black')\n",
        "    ax.scatter(zphi[:, 0], zphi[:, 1], alpha=1.0,  edgecolors='black', facecolors='none', s=30)\n",
        "\n",
        "    for indx, topic in enumerate(zphi):\n",
        "        ax.text(zphi[indx, 0], zphi[indx, 1], 'topic'+str(indx))"
      ],
      "execution_count": null,
      "outputs": []
    },
    {
      "cell_type": "code",
      "metadata": {
        "id": "yx1pgbyn0qhe"
      },
      "source": [
        "def print_Topics():\n",
        "  print(\"---\"*10)\n",
        "  topword_topics = get_topwords(beta, id_vocab)\n",
        "  topword_topics_list=[]\n",
        "  for topwords in topword_topics:\n",
        "      topword_topics_list.append(topwords.split())\n",
        "      print(topwords)\n",
        "  print(\"---\"*10)"
      ],
      "execution_count": null,
      "outputs": []
    },
    {
      "cell_type": "code",
      "metadata": {
        "id": "H2dWYfSoAqaC"
      },
      "source": [
        "def get_topwords(beta, id_vocab):\n",
        "    topic_indx = 0\n",
        "    topwords_topic = []\n",
        "    for i in range(len(beta)):\n",
        "        topwords_topic.append( str(topic_indx)+\": \"+ \" \".join([id_vocab[j] for j in beta[i].argsort()[:-10 - 1:-1]]))\n",
        "        topic_indx+=1\n",
        "    return topwords_topic"
      ],
      "execution_count": null,
      "outputs": []
    },
    {
      "cell_type": "markdown",
      "metadata": {
        "id": "jXFBuugDbXL7"
      },
      "source": [
        "# **Plots, Topics & Visualization**"
      ]
    },
    {
      "cell_type": "code",
      "metadata": {
        "id": "X3zflgFrcCAt",
        "colab": {
          "base_uri": "https://localhost:8080/",
          "height": 542
        },
        "outputId": "30f48d7f-651b-42d9-aad8-cf8f6fa9922c"
      },
      "source": [
        "plot_loss(recon_arr,\"recon_loss\")"
      ],
      "execution_count": null,
      "outputs": [
        {
          "output_type": "display_data",
          "data": {
            "text/html": [
              "<html>\n",
              "<head><meta charset=\"utf-8\" /></head>\n",
              "<body>\n",
              "    <div>\n",
              "            <script src=\"https://cdnjs.cloudflare.com/ajax/libs/mathjax/2.7.5/MathJax.js?config=TeX-AMS-MML_SVG\"></script><script type=\"text/javascript\">if (window.MathJax) {MathJax.Hub.Config({SVG: {font: \"STIX-Web\"}});}</script>\n",
              "                <script type=\"text/javascript\">window.PlotlyConfig = {MathJaxConfig: 'local'};</script>\n",
              "        <script src=\"https://cdn.plot.ly/plotly-latest.min.js\"></script>    \n",
              "            <div id=\"2028680a-024d-4ca5-a954-9dfd5461a01e\" class=\"plotly-graph-div\" style=\"height:525px; width:100%;\"></div>\n",
              "            <script type=\"text/javascript\">\n",
              "                \n",
              "                    window.PLOTLYENV=window.PLOTLYENV || {};\n",
              "                    \n",
              "                if (document.getElementById(\"2028680a-024d-4ca5-a954-9dfd5461a01e\")) {\n",
              "                    Plotly.newPlot(\n",
              "                        '2028680a-024d-4ca5-a954-9dfd5461a01e',\n",
              "                        [{\"mode\": \"lines\", \"name\": \"recon_loss\", \"type\": \"scatter\", \"x\": [1, 2, 3, 4, 5, 6, 7, 8, 9, 10, 11, 12, 13, 14, 15, 16, 17, 18, 19, 20, 21, 22, 23, 24, 25, 26, 27, 28, 29, 30, 31, 32, 33, 34, 35, 36, 37, 38, 39, 40, 41, 42, 43, 44, 45, 46, 47, 48, 49, 50, 51, 52, 53, 54, 55, 56, 57, 58, 59, 60, 61, 62, 63, 64, 65, 66, 67, 68, 69, 70, 71, 72, 73, 74, 75, 76, 77, 78, 79, 80, 81, 82, 83, 84, 85, 86, 87, 88, 89, 90, 91, 92, 93, 94, 95, 96, 97, 98, 99, 100, 101, 102, 103, 104, 105, 106, 107, 108, 109, 110, 111, 112, 113, 114, 115, 116, 117, 118, 119, 120, 121, 122, 123, 124, 125, 126, 127, 128, 129, 130, 131, 132, 133, 134, 135, 136, 137, 138, 139, 140, 141, 142, 143, 144, 145, 146, 147, 148, 149, 150, 151, 152, 153, 154, 155, 156, 157, 158, 159, 160, 161, 162, 163, 164, 165, 166, 167, 168, 169, 170, 171, 172, 173, 174, 175, 176, 177, 178, 179, 180, 181, 182, 183, 184, 185, 186, 187, 188, 189, 190, 191, 192, 193, 194, 195, 196, 197, 198, 199, 200, 201, 202, 203, 204, 205, 206, 207, 208, 209, 210, 211, 212, 213, 214, 215, 216, 217, 218, 219, 220, 221, 222, 223, 224, 225, 226, 227, 228, 229, 230, 231, 232, 233, 234, 235, 236, 237, 238, 239, 240, 241, 242, 243, 244, 245, 246, 247, 248, 249, 250, 251, 252, 253, 254, 255, 256, 257, 258, 259, 260, 261, 262, 263, 264, 265, 266, 267, 268, 269, 270, 271, 272, 273, 274, 275, 276, 277, 278, 279, 280, 281, 282, 283, 284, 285, 286, 287, 288, 289, 290, 291, 292, 293, 294, 295, 296, 297, 298, 299, 300, 301, 302, 303, 304, 305, 306, 307, 308, 309, 310, 311, 312, 313, 314, 315, 316, 317, 318, 319, 320, 321, 322, 323, 324, 325, 326, 327, 328, 329, 330, 331, 332, 333, 334, 335, 336, 337, 338, 339, 340, 341, 342, 343, 344, 345, 346, 347, 348, 349, 350, 351, 352, 353, 354, 355, 356, 357, 358, 359, 360, 361, 362, 363, 364, 365, 366, 367, 368, 369, 370, 371, 372, 373, 374, 375, 376, 377, 378, 379, 380, 381, 382, 383, 384, 385, 386, 387, 388, 389, 390, 391, 392, 393, 394, 395, 396, 397, 398, 399, 400, 401, 402, 403, 404, 405, 406, 407, 408, 409, 410, 411, 412, 413, 414, 415, 416, 417, 418, 419, 420, 421, 422, 423, 424, 425, 426, 427, 428, 429, 430, 431, 432, 433, 434, 435, 436, 437, 438, 439, 440, 441, 442, 443, 444, 445, 446, 447, 448, 449, 450, 451, 452, 453, 454, 455, 456, 457, 458, 459, 460, 461, 462, 463, 464, 465, 466, 467, 468, 469, 470, 471, 472, 473, 474, 475, 476, 477, 478, 479, 480, 481, 482, 483, 484, 485, 486, 487, 488, 489, 490, 491, 492, 493, 494, 495, 496, 497, 498, 499, 500, 501, 502, 503, 504, 505, 506, 507, 508, 509, 510, 511, 512, 513, 514, 515, 516, 517, 518, 519, 520, 521, 522, 523, 524, 525, 526, 527, 528, 529, 530, 531, 532, 533, 534, 535, 536, 537, 538, 539, 540, 541, 542, 543, 544, 545, 546, 547, 548, 549, 550, 551, 552, 553, 554, 555, 556, 557, 558, 559, 560, 561, 562, 563, 564, 565, 566, 567, 568, 569, 570, 571, 572, 573, 574, 575, 576, 577, 578, 579, 580, 581, 582, 583, 584, 585, 586, 587, 588, 589, 590, 591, 592, 593, 594, 595, 596, 597, 598, 599, 600, 601, 602, 603, 604, 605, 606, 607, 608, 609, 610, 611, 612, 613, 614, 615, 616, 617, 618, 619, 620, 621, 622, 623, 624, 625, 626, 627, 628, 629, 630, 631, 632, 633, 634, 635, 636, 637, 638, 639, 640, 641, 642, 643, 644, 645, 646, 647, 648, 649, 650, 651, 652, 653, 654, 655, 656, 657, 658, 659, 660, 661, 662, 663, 664, 665, 666, 667, 668, 669, 670, 671, 672, 673, 674, 675, 676, 677, 678, 679, 680, 681, 682, 683, 684, 685, 686, 687, 688, 689, 690, 691, 692, 693, 694, 695, 696, 697, 698, 699, 700, 701, 702, 703, 704, 705, 706, 707, 708, 709, 710, 711, 712, 713, 714, 715, 716, 717, 718, 719, 720, 721, 722, 723, 724, 725, 726, 727, 728, 729, 730, 731, 732, 733, 734, 735, 736, 737, 738, 739, 740, 741, 742, 743, 744, 745, 746, 747, 748, 749, 750, 751, 752, 753, 754, 755, 756, 757, 758, 759, 760, 761, 762, 763, 764, 765, 766, 767, 768, 769, 770, 771, 772, 773, 774, 775, 776, 777, 778, 779, 780, 781, 782, 783, 784, 785, 786, 787, 788, 789, 790, 791, 792, 793, 794, 795, 796, 797, 798, 799, 800, 801, 802, 803, 804, 805, 806, 807, 808, 809, 810, 811, 812, 813, 814, 815, 816, 817, 818, 819, 820, 821, 822, 823, 824, 825, 826, 827, 828, 829, 830, 831, 832, 833, 834, 835, 836, 837, 838, 839, 840, 841, 842, 843, 844, 845, 846, 847, 848, 849, 850, 851, 852, 853, 854, 855, 856, 857, 858, 859, 860, 861, 862, 863, 864, 865, 866, 867, 868, 869, 870, 871, 872, 873, 874, 875, 876, 877, 878, 879, 880, 881, 882, 883, 884, 885, 886, 887, 888, 889, 890, 891, 892, 893, 894, 895, 896, 897, 898, 899, 900, 901, 902, 903, 904, 905, 906, 907, 908, 909, 910, 911, 912, 913, 914, 915, 916, 917, 918, 919, 920, 921, 922, 923, 924, 925, 926, 927, 928, 929, 930, 931, 932, 933, 934, 935, 936, 937, 938, 939, 940, 941, 942, 943, 944, 945, 946, 947, 948, 949, 950, 951, 952, 953, 954, 955, 956, 957, 958, 959, 960, 961, 962, 963, 964, 965, 966, 967, 968, 969, 970, 971, 972, 973, 974, 975, 976, 977, 978, 979, 980, 981, 982, 983, 984, 985, 986, 987, 988, 989, 990, 991, 992, 993, 994, 995, 996, 997, 998, 999, 1000], \"y\": [4092.385654449463, 3705.9901580810547, 3639.8765602111816, 3635.3604011535645, 3629.348648071289, 3627.5020484924316, 3626.477813720703, 3626.199851989746, 3626.306541442871, 3625.5496406555176, 3624.1808891296387, 3622.270290374756, 3621.3405113220215, 3619.575782775879, 3618.352642059326, 3617.5128898620605, 3613.9691467285156, 3614.808868408203, 3612.4277877807617, 3612.4880180358887, 3611.303092956543, 3607.595920562744, 3609.730312347412, 3606.5838050842285, 3603.3392066955566, 3601.5545539855957, 3600.012031555176, 3599.956027984619, 3599.9116249084473, 3598.7174339294434, 3596.281295776367, 3595.763572692871, 3594.533618927002, 3594.014377593994, 3592.128490447998, 3592.5986976623535, 3591.424472808838, 3589.9671897888184, 3588.8436851501465, 3587.634605407715, 3586.835174560547, 3586.2524070739746, 3585.722969055176, 3585.0255699157715, 3584.465473175049, 3584.0013465881348, 3583.159683227539, 3582.1677284240723, 3582.0094604492188, 3580.8624839782715, 3580.8020973205566, 3580.2431030273438, 3582.0781860351562, 3579.7889366149902, 3579.857467651367, 3579.478561401367, 3577.6399421691895, 3577.4954566955566, 3575.673671722412, 3574.940029144287, 3574.4166374206543, 3574.6220779418945, 3575.072799682617, 3573.930160522461, 3573.275089263916, 3572.9132690429688, 3572.663314819336, 3570.6509590148926, 3569.646068572998, 3567.604389190674, 3567.628593444824, 3566.024673461914, 3566.8608932495117, 3565.211566925049, 3563.4339599609375, 3563.878879547119, 3561.8088760375977, 3561.169849395752, 3560.1199684143066, 3558.9614486694336, 3558.433017730713, 3555.798023223877, 3555.786518096924, 3554.4380531311035, 3553.9327850341797, 3553.340877532959, 3551.271041870117, 3551.1255264282227, 3551.313346862793, 3549.636978149414, 3548.5816650390625, 3547.8929405212402, 3547.7067108154297, 3546.3423957824707, 3545.8881340026855, 3544.8453483581543, 3544.7974586486816, 3543.9575271606445, 3543.7431030273438, 3542.6259803771973, 3540.5924949645996, 3540.564365386963, 3540.3168296813965, 3539.009346008301, 3538.6005058288574, 3537.8707962036133, 3537.753074645996, 3536.1493186950684, 3535.9972534179688, 3535.867862701416, 3535.5985145568848, 3534.0712509155273, 3532.955795288086, 3533.1109619140625, 3532.096408843994, 3532.235481262207, 3532.580982208252, 3531.5134468078613, 3531.0547065734863, 3529.7516899108887, 3530.023910522461, 3528.9959716796875, 3527.484676361084, 3527.435432434082, 3526.5519638061523, 3525.675151824951, 3524.637348175049, 3525.3350868225098, 3523.4769897460938, 3523.546932220459, 3522.0925903320312, 3522.2758712768555, 3522.188247680664, 3520.1477661132812, 3519.457981109619, 3520.7341499328613, 3518.952220916748, 3519.0313262939453, 3518.851718902588, 3518.064311981201, 3517.217140197754, 3517.356216430664, 3515.5399894714355, 3517.162624359131, 3515.613857269287, 3515.949287414551, 3515.6125450134277, 3514.5076866149902, 3513.2106018066406, 3513.252658843994, 3512.498504638672, 3512.9247817993164, 3512.457015991211, 3512.9491539001465, 3511.7784996032715, 3511.8112564086914, 3510.658889770508, 3510.3975677490234, 3509.1101417541504, 3507.76216506958, 3507.4873085021973, 3506.682605743408, 3506.3434448242188, 3506.2795753479004, 3505.8400955200195, 3505.8152351379395, 3505.528190612793, 3502.3402137756348, 3503.852809906006, 3502.852565765381, 3502.4461212158203, 3502.6462593078613, 3501.490131378174, 3500.0222969055176, 3500.2156944274902, 3499.502094268799, 3499.154121398926, 3497.9473152160645, 3497.605785369873, 3496.2764434814453, 3497.3250312805176, 3495.875591278076, 3494.309642791748, 3495.118911743164, 3493.1503944396973, 3493.2290992736816, 3494.330799102783, 3491.308792114258, 3491.3635635375977, 3490.268699645996, 3488.8148040771484, 3489.2490196228027, 3487.6752586364746, 3487.5177307128906, 3487.1348838806152, 3485.6719284057617, 3485.783618927002, 3484.5125999450684, 3485.121768951416, 3484.8560752868652, 3483.885799407959, 3483.9435272216797, 3482.787685394287, 3482.0983276367188, 3481.7284049987793, 3480.9937782287598, 3480.184280395508, 3478.3261108398438, 3478.6689491271973, 3478.6092224121094, 3479.064914703369, 3476.883071899414, 3475.643539428711, 3475.8524856567383, 3475.653121948242, 3476.0123138427734, 3475.7724533081055, 3473.5230293273926, 3473.0735244750977, 3472.3520278930664, 3473.2233123779297, 3472.032913208008, 3471.667339324951, 3470.7803955078125, 3471.7958221435547, 3471.2878074645996, 3470.4051055908203, 3470.838779449463, 3470.1519889831543, 3469.2280235290527, 3469.131580352783, 3467.89603805542, 3468.5397758483887, 3467.036937713623, 3466.9377212524414, 3467.2345237731934, 3467.6017150878906, 3467.15128326416, 3464.4742851257324, 3464.3589820861816, 3465.080924987793, 3465.618896484375, 3464.758399963379, 3464.434093475342, 3465.108039855957, 3464.9787673950195, 3463.322338104248, 3462.819309234619, 3462.1361083984375, 3463.916332244873, 3464.242576599121, 3462.8854217529297, 3462.8012084960938, 3461.6947746276855, 3465.765953063965, 3463.0092010498047, 3462.2922325134277, 3463.130771636963, 3462.3124046325684, 3461.113353729248, 3462.387794494629, 3460.8800888061523, 3462.250534057617, 3461.6919326782227, 3460.554298400879, 3460.8791427612305, 3459.229465484619, 3461.499126434326, 3461.5583572387695, 3461.0606269836426, 3460.2477226257324, 3459.1817512512207, 3460.5192642211914, 3461.793975830078, 3460.8135833740234, 3459.9718475341797, 3458.9448204040527, 3459.719680786133, 3460.1994972229004, 3460.0707054138184, 3460.5641136169434, 3460.4295082092285, 3459.5637283325195, 3459.37601852417, 3459.5478477478027, 3459.799144744873, 3460.9096069335938, 3459.6817321777344, 3460.6176528930664, 3459.699378967285, 3459.4806785583496, 3460.0272903442383, 3460.201000213623, 3460.052574157715, 3458.5913276672363, 3459.6679611206055, 3459.6178970336914, 3456.4565353393555, 3460.18111038208, 3458.4456748962402, 3458.086898803711, 3457.7923164367676, 3457.4668579101562, 3459.665424346924, 3457.068801879883, 3459.382236480713, 3458.3773803710938, 3458.2828483581543, 3457.8672218322754, 3459.431140899658, 3458.415740966797, 3458.9051780700684, 3458.3560180664062, 3458.8816261291504, 3459.787998199463, 3457.834785461426, 3457.7901763916016, 3458.6895141601562, 3458.159091949463, 3457.9436836242676, 3458.1592178344727, 3459.580436706543, 3456.9101333618164, 3456.773452758789, 3460.1715660095215, 3458.230422973633, 3457.700019836426, 3456.777843475342, 3457.1855125427246, 3457.915382385254, 3459.0722732543945, 3457.6426162719727, 3458.098705291748, 3457.073043823242, 3456.3087730407715, 3457.0699577331543, 3458.3095092773438, 3457.275119781494, 3457.879608154297, 3456.4980125427246, 3457.092945098877, 3457.813789367676, 3457.053310394287, 3458.1706924438477, 3457.2439193725586, 3458.4096603393555, 3457.415294647217, 3457.7550048828125, 3457.1801567077637, 3457.1949157714844, 3455.776023864746, 3458.1693840026855, 3456.3815383911133, 3458.0175437927246, 3456.9479179382324, 3457.649833679199, 3456.2870025634766, 3456.3051147460938, 3457.409656524658, 3456.377758026123, 3456.036781311035, 3457.3504638671875, 3456.596736907959, 3457.147472381592, 3455.2327766418457, 3456.989059448242, 3456.5964584350586, 3458.062789916992, 3455.695323944092, 3456.23526763916, 3455.4345512390137, 3457.326145172119, 3457.1191635131836, 3455.228630065918, 3457.2532234191895, 3456.6795616149902, 3456.068862915039, 3454.7584533691406, 3456.876205444336, 3455.1713829040527, 3456.0955657958984, 3456.2082328796387, 3456.453193664551, 3455.512321472168, 3456.947235107422, 3455.218551635742, 3456.3717727661133, 3456.2612953186035, 3455.2810401916504, 3456.074306488037, 3456.5841064453125, 3455.4849853515625, 3455.2008895874023, 3455.8787002563477, 3457.621593475342, 3455.737117767334, 3455.2272567749023, 3455.4776573181152, 3456.1129302978516, 3456.2902069091797, 3456.185371398926, 3455.6719551086426, 3456.6736488342285, 3454.619487762451, 3456.363208770752, 3454.7287788391113, 3456.519775390625, 3456.6320877075195, 3455.0206260681152, 3454.909828186035, 3455.481788635254, 3455.328884124756, 3457.3968772888184, 3454.89900970459, 3455.389862060547, 3455.6740226745605, 3455.3665466308594, 3455.521041870117, 3455.1496200561523, 3454.904151916504, 3455.799747467041, 3455.7532119750977, 3453.769203186035, 3455.3217124938965, 3455.3488159179688, 3455.0938415527344, 3456.826145172119, 3455.511817932129, 3456.4852256774902, 3454.4015502929688, 3454.5503425598145, 3455.518497467041, 3455.332809448242, 3454.9681663513184, 3455.4424934387207, 3455.9921112060547, 3454.9164657592773, 3454.8667182922363, 3454.113513946533, 3454.792133331299, 3455.858444213867, 3453.910987854004, 3454.707733154297, 3455.1397399902344, 3455.350238800049, 3453.924247741699, 3456.4308013916016, 3455.533390045166, 3453.5245628356934, 3456.0391578674316, 3456.112335205078, 3455.5929260253906, 3455.6376342773438, 3454.6126556396484, 3454.576835632324, 3454.4278144836426, 3454.2832794189453, 3455.340244293213, 3455.3101959228516, 3454.8891830444336, 3454.2467193603516, 3454.2462043762207, 3455.6413612365723, 3455.0054779052734, 3454.7822074890137, 3453.576358795166, 3455.9767723083496, 3454.400463104248, 3454.8083572387695, 3454.201591491699, 3455.6734619140625, 3455.9185752868652, 3453.7064666748047, 3454.776226043701, 3454.9979515075684, 3455.108066558838, 3453.9540481567383, 3455.3193283081055, 3454.8196296691895, 3455.1101303100586, 3454.3939323425293, 3453.7033081054688, 3454.3341102600098]}],\n",
              "                        {\"template\": {\"data\": {\"bar\": [{\"error_x\": {\"color\": \"#2a3f5f\"}, \"error_y\": {\"color\": \"#2a3f5f\"}, \"marker\": {\"line\": {\"color\": \"#E5ECF6\", \"width\": 0.5}}, \"type\": \"bar\"}], \"barpolar\": [{\"marker\": {\"line\": {\"color\": \"#E5ECF6\", \"width\": 0.5}}, \"type\": \"barpolar\"}], \"carpet\": [{\"aaxis\": {\"endlinecolor\": \"#2a3f5f\", \"gridcolor\": \"white\", \"linecolor\": \"white\", \"minorgridcolor\": \"white\", \"startlinecolor\": \"#2a3f5f\"}, \"baxis\": {\"endlinecolor\": \"#2a3f5f\", \"gridcolor\": \"white\", \"linecolor\": \"white\", \"minorgridcolor\": \"white\", \"startlinecolor\": \"#2a3f5f\"}, \"type\": \"carpet\"}], \"choropleth\": [{\"colorbar\": {\"outlinewidth\": 0, \"ticks\": \"\"}, \"type\": \"choropleth\"}], \"contour\": [{\"colorbar\": {\"outlinewidth\": 0, \"ticks\": \"\"}, \"colorscale\": [[0.0, \"#0d0887\"], [0.1111111111111111, \"#46039f\"], [0.2222222222222222, \"#7201a8\"], [0.3333333333333333, \"#9c179e\"], [0.4444444444444444, \"#bd3786\"], [0.5555555555555556, \"#d8576b\"], [0.6666666666666666, \"#ed7953\"], [0.7777777777777778, \"#fb9f3a\"], [0.8888888888888888, \"#fdca26\"], [1.0, \"#f0f921\"]], \"type\": \"contour\"}], \"contourcarpet\": [{\"colorbar\": {\"outlinewidth\": 0, \"ticks\": \"\"}, \"type\": \"contourcarpet\"}], \"heatmap\": [{\"colorbar\": {\"outlinewidth\": 0, \"ticks\": \"\"}, \"colorscale\": [[0.0, \"#0d0887\"], [0.1111111111111111, \"#46039f\"], [0.2222222222222222, \"#7201a8\"], [0.3333333333333333, \"#9c179e\"], [0.4444444444444444, \"#bd3786\"], [0.5555555555555556, \"#d8576b\"], [0.6666666666666666, \"#ed7953\"], [0.7777777777777778, \"#fb9f3a\"], [0.8888888888888888, \"#fdca26\"], [1.0, \"#f0f921\"]], \"type\": \"heatmap\"}], \"heatmapgl\": [{\"colorbar\": {\"outlinewidth\": 0, \"ticks\": \"\"}, \"colorscale\": [[0.0, \"#0d0887\"], [0.1111111111111111, \"#46039f\"], [0.2222222222222222, \"#7201a8\"], [0.3333333333333333, \"#9c179e\"], [0.4444444444444444, \"#bd3786\"], [0.5555555555555556, \"#d8576b\"], [0.6666666666666666, \"#ed7953\"], [0.7777777777777778, \"#fb9f3a\"], [0.8888888888888888, \"#fdca26\"], [1.0, \"#f0f921\"]], \"type\": \"heatmapgl\"}], \"histogram\": [{\"marker\": {\"colorbar\": {\"outlinewidth\": 0, \"ticks\": \"\"}}, \"type\": \"histogram\"}], \"histogram2d\": [{\"colorbar\": {\"outlinewidth\": 0, \"ticks\": \"\"}, \"colorscale\": [[0.0, \"#0d0887\"], [0.1111111111111111, \"#46039f\"], [0.2222222222222222, \"#7201a8\"], [0.3333333333333333, \"#9c179e\"], [0.4444444444444444, \"#bd3786\"], [0.5555555555555556, \"#d8576b\"], [0.6666666666666666, \"#ed7953\"], [0.7777777777777778, \"#fb9f3a\"], [0.8888888888888888, \"#fdca26\"], [1.0, \"#f0f921\"]], \"type\": \"histogram2d\"}], \"histogram2dcontour\": [{\"colorbar\": {\"outlinewidth\": 0, \"ticks\": \"\"}, \"colorscale\": [[0.0, \"#0d0887\"], [0.1111111111111111, \"#46039f\"], [0.2222222222222222, \"#7201a8\"], [0.3333333333333333, \"#9c179e\"], [0.4444444444444444, \"#bd3786\"], [0.5555555555555556, \"#d8576b\"], [0.6666666666666666, \"#ed7953\"], [0.7777777777777778, \"#fb9f3a\"], [0.8888888888888888, \"#fdca26\"], [1.0, \"#f0f921\"]], \"type\": \"histogram2dcontour\"}], \"mesh3d\": [{\"colorbar\": {\"outlinewidth\": 0, \"ticks\": \"\"}, \"type\": \"mesh3d\"}], \"parcoords\": [{\"line\": {\"colorbar\": {\"outlinewidth\": 0, \"ticks\": \"\"}}, \"type\": \"parcoords\"}], \"pie\": [{\"automargin\": true, \"type\": \"pie\"}], \"scatter\": [{\"marker\": {\"colorbar\": {\"outlinewidth\": 0, \"ticks\": \"\"}}, \"type\": \"scatter\"}], \"scatter3d\": [{\"line\": {\"colorbar\": {\"outlinewidth\": 0, \"ticks\": \"\"}}, \"marker\": {\"colorbar\": {\"outlinewidth\": 0, \"ticks\": \"\"}}, \"type\": \"scatter3d\"}], \"scattercarpet\": [{\"marker\": {\"colorbar\": {\"outlinewidth\": 0, \"ticks\": \"\"}}, \"type\": \"scattercarpet\"}], \"scattergeo\": [{\"marker\": {\"colorbar\": {\"outlinewidth\": 0, \"ticks\": \"\"}}, \"type\": \"scattergeo\"}], \"scattergl\": [{\"marker\": {\"colorbar\": {\"outlinewidth\": 0, \"ticks\": \"\"}}, \"type\": \"scattergl\"}], \"scattermapbox\": [{\"marker\": {\"colorbar\": {\"outlinewidth\": 0, \"ticks\": \"\"}}, \"type\": \"scattermapbox\"}], \"scatterpolar\": [{\"marker\": {\"colorbar\": {\"outlinewidth\": 0, \"ticks\": \"\"}}, \"type\": \"scatterpolar\"}], \"scatterpolargl\": [{\"marker\": {\"colorbar\": {\"outlinewidth\": 0, \"ticks\": \"\"}}, \"type\": \"scatterpolargl\"}], \"scatterternary\": [{\"marker\": {\"colorbar\": {\"outlinewidth\": 0, \"ticks\": \"\"}}, \"type\": \"scatterternary\"}], \"surface\": [{\"colorbar\": {\"outlinewidth\": 0, \"ticks\": \"\"}, \"colorscale\": [[0.0, \"#0d0887\"], [0.1111111111111111, \"#46039f\"], [0.2222222222222222, \"#7201a8\"], [0.3333333333333333, \"#9c179e\"], [0.4444444444444444, \"#bd3786\"], [0.5555555555555556, \"#d8576b\"], [0.6666666666666666, \"#ed7953\"], [0.7777777777777778, \"#fb9f3a\"], [0.8888888888888888, \"#fdca26\"], [1.0, \"#f0f921\"]], \"type\": \"surface\"}], \"table\": [{\"cells\": {\"fill\": {\"color\": \"#EBF0F8\"}, \"line\": {\"color\": \"white\"}}, \"header\": {\"fill\": {\"color\": \"#C8D4E3\"}, \"line\": {\"color\": \"white\"}}, \"type\": \"table\"}]}, \"layout\": {\"annotationdefaults\": {\"arrowcolor\": \"#2a3f5f\", \"arrowhead\": 0, \"arrowwidth\": 1}, \"coloraxis\": {\"colorbar\": {\"outlinewidth\": 0, \"ticks\": \"\"}}, \"colorscale\": {\"diverging\": [[0, \"#8e0152\"], [0.1, \"#c51b7d\"], [0.2, \"#de77ae\"], [0.3, \"#f1b6da\"], [0.4, \"#fde0ef\"], [0.5, \"#f7f7f7\"], [0.6, \"#e6f5d0\"], [0.7, \"#b8e186\"], [0.8, \"#7fbc41\"], [0.9, \"#4d9221\"], [1, \"#276419\"]], \"sequential\": [[0.0, \"#0d0887\"], [0.1111111111111111, \"#46039f\"], [0.2222222222222222, \"#7201a8\"], [0.3333333333333333, \"#9c179e\"], [0.4444444444444444, \"#bd3786\"], [0.5555555555555556, \"#d8576b\"], [0.6666666666666666, \"#ed7953\"], [0.7777777777777778, \"#fb9f3a\"], [0.8888888888888888, \"#fdca26\"], [1.0, \"#f0f921\"]], \"sequentialminus\": [[0.0, \"#0d0887\"], [0.1111111111111111, \"#46039f\"], [0.2222222222222222, \"#7201a8\"], [0.3333333333333333, \"#9c179e\"], [0.4444444444444444, \"#bd3786\"], [0.5555555555555556, \"#d8576b\"], [0.6666666666666666, \"#ed7953\"], [0.7777777777777778, \"#fb9f3a\"], [0.8888888888888888, \"#fdca26\"], [1.0, \"#f0f921\"]]}, \"colorway\": [\"#636efa\", \"#EF553B\", \"#00cc96\", \"#ab63fa\", \"#FFA15A\", \"#19d3f3\", \"#FF6692\", \"#B6E880\", \"#FF97FF\", \"#FECB52\"], \"font\": {\"color\": \"#2a3f5f\"}, \"geo\": {\"bgcolor\": \"white\", \"lakecolor\": \"white\", \"landcolor\": \"#E5ECF6\", \"showlakes\": true, \"showland\": true, \"subunitcolor\": \"white\"}, \"hoverlabel\": {\"align\": \"left\"}, \"hovermode\": \"closest\", \"mapbox\": {\"style\": \"light\"}, \"paper_bgcolor\": \"white\", \"plot_bgcolor\": \"#E5ECF6\", \"polar\": {\"angularaxis\": {\"gridcolor\": \"white\", \"linecolor\": \"white\", \"ticks\": \"\"}, \"bgcolor\": \"#E5ECF6\", \"radialaxis\": {\"gridcolor\": \"white\", \"linecolor\": \"white\", \"ticks\": \"\"}}, \"scene\": {\"xaxis\": {\"backgroundcolor\": \"#E5ECF6\", \"gridcolor\": \"white\", \"gridwidth\": 2, \"linecolor\": \"white\", \"showbackground\": true, \"ticks\": \"\", \"zerolinecolor\": \"white\"}, \"yaxis\": {\"backgroundcolor\": \"#E5ECF6\", \"gridcolor\": \"white\", \"gridwidth\": 2, \"linecolor\": \"white\", \"showbackground\": true, \"ticks\": \"\", \"zerolinecolor\": \"white\"}, \"zaxis\": {\"backgroundcolor\": \"#E5ECF6\", \"gridcolor\": \"white\", \"gridwidth\": 2, \"linecolor\": \"white\", \"showbackground\": true, \"ticks\": \"\", \"zerolinecolor\": \"white\"}}, \"shapedefaults\": {\"line\": {\"color\": \"#2a3f5f\"}}, \"ternary\": {\"aaxis\": {\"gridcolor\": \"white\", \"linecolor\": \"white\", \"ticks\": \"\"}, \"baxis\": {\"gridcolor\": \"white\", \"linecolor\": \"white\", \"ticks\": \"\"}, \"bgcolor\": \"#E5ECF6\", \"caxis\": {\"gridcolor\": \"white\", \"linecolor\": \"white\", \"ticks\": \"\"}}, \"title\": {\"x\": 0.05}, \"xaxis\": {\"automargin\": true, \"gridcolor\": \"white\", \"linecolor\": \"white\", \"ticks\": \"\", \"title\": {\"standoff\": 15}, \"zerolinecolor\": \"white\", \"zerolinewidth\": 2}, \"yaxis\": {\"automargin\": true, \"gridcolor\": \"white\", \"linecolor\": \"white\", \"ticks\": \"\", \"title\": {\"standoff\": 15}, \"zerolinecolor\": \"white\", \"zerolinewidth\": 2}}}},\n",
              "                        {\"responsive\": true}\n",
              "                    ).then(function(){\n",
              "                            \n",
              "var gd = document.getElementById('2028680a-024d-4ca5-a954-9dfd5461a01e');\n",
              "var x = new MutationObserver(function (mutations, observer) {{\n",
              "        var display = window.getComputedStyle(gd).display;\n",
              "        if (!display || display === 'none') {{\n",
              "            console.log([gd, 'removed!']);\n",
              "            Plotly.purge(gd);\n",
              "            observer.disconnect();\n",
              "        }}\n",
              "}});\n",
              "\n",
              "// Listen for the removal of the full notebook cells\n",
              "var notebookContainer = gd.closest('#notebook-container');\n",
              "if (notebookContainer) {{\n",
              "    x.observe(notebookContainer, {childList: true});\n",
              "}}\n",
              "\n",
              "// Listen for the clearing of the current output cell\n",
              "var outputEl = gd.closest('.output');\n",
              "if (outputEl) {{\n",
              "    x.observe(outputEl, {childList: true});\n",
              "}}\n",
              "\n",
              "                        })\n",
              "                };\n",
              "                \n",
              "            </script>\n",
              "        </div>\n",
              "</body>\n",
              "</html>"
            ]
          },
          "metadata": {
            "tags": []
          }
        }
      ]
    },
    {
      "cell_type": "code",
      "metadata": {
        "id": "0P08nTHOpnrY",
        "colab": {
          "base_uri": "https://localhost:8080/",
          "height": 542
        },
        "outputId": "b6c6f551-fc05-4a43-bca3-811dac188da2"
      },
      "source": [
        "plot_loss(neg_log_rscore_arr,'neg_log_rscore_arr')"
      ],
      "execution_count": null,
      "outputs": [
        {
          "output_type": "display_data",
          "data": {
            "text/html": [
              "<html>\n",
              "<head><meta charset=\"utf-8\" /></head>\n",
              "<body>\n",
              "    <div>\n",
              "            <script src=\"https://cdnjs.cloudflare.com/ajax/libs/mathjax/2.7.5/MathJax.js?config=TeX-AMS-MML_SVG\"></script><script type=\"text/javascript\">if (window.MathJax) {MathJax.Hub.Config({SVG: {font: \"STIX-Web\"}});}</script>\n",
              "                <script type=\"text/javascript\">window.PlotlyConfig = {MathJaxConfig: 'local'};</script>\n",
              "        <script src=\"https://cdn.plot.ly/plotly-latest.min.js\"></script>    \n",
              "            <div id=\"9b75c155-758a-424b-be91-bea2f4d2a405\" class=\"plotly-graph-div\" style=\"height:525px; width:100%;\"></div>\n",
              "            <script type=\"text/javascript\">\n",
              "                \n",
              "                    window.PLOTLYENV=window.PLOTLYENV || {};\n",
              "                    \n",
              "                if (document.getElementById(\"9b75c155-758a-424b-be91-bea2f4d2a405\")) {\n",
              "                    Plotly.newPlot(\n",
              "                        '9b75c155-758a-424b-be91-bea2f4d2a405',\n",
              "                        [{\"mode\": \"lines\", \"name\": \"neg_log_rscore_arr\", \"type\": \"scatter\", \"x\": [1, 2, 3, 4, 5, 6, 7, 8, 9, 10, 11, 12, 13, 14, 15, 16, 17, 18, 19, 20, 21, 22, 23, 24, 25, 26, 27, 28, 29, 30, 31, 32, 33, 34, 35, 36, 37, 38, 39, 40, 41, 42, 43, 44, 45, 46, 47, 48, 49, 50, 51, 52, 53, 54, 55, 56, 57, 58, 59, 60, 61, 62, 63, 64, 65, 66, 67, 68, 69, 70, 71, 72, 73, 74, 75, 76, 77, 78, 79, 80, 81, 82, 83, 84, 85, 86, 87, 88, 89, 90, 91, 92, 93, 94, 95, 96, 97, 98, 99, 100, 101, 102, 103, 104, 105, 106, 107, 108, 109, 110, 111, 112, 113, 114, 115, 116, 117, 118, 119, 120, 121, 122, 123, 124, 125, 126, 127, 128, 129, 130, 131, 132, 133, 134, 135, 136, 137, 138, 139, 140, 141, 142, 143, 144, 145, 146, 147, 148, 149, 150, 151, 152, 153, 154, 155, 156, 157, 158, 159, 160, 161, 162, 163, 164, 165, 166, 167, 168, 169, 170, 171, 172, 173, 174, 175, 176, 177, 178, 179, 180, 181, 182, 183, 184, 185, 186, 187, 188, 189, 190, 191, 192, 193, 194, 195, 196, 197, 198, 199, 200, 201, 202, 203, 204, 205, 206, 207, 208, 209, 210, 211, 212, 213, 214, 215, 216, 217, 218, 219, 220, 221, 222, 223, 224, 225, 226, 227, 228, 229, 230, 231, 232, 233, 234, 235, 236, 237, 238, 239, 240, 241, 242, 243, 244, 245, 246, 247, 248, 249, 250, 251, 252, 253, 254, 255, 256, 257, 258, 259, 260, 261, 262, 263, 264, 265, 266, 267, 268, 269, 270, 271, 272, 273, 274, 275, 276, 277, 278, 279, 280, 281, 282, 283, 284, 285, 286, 287, 288, 289, 290, 291, 292, 293, 294, 295, 296, 297, 298, 299, 300, 301, 302, 303, 304, 305, 306, 307, 308, 309, 310, 311, 312, 313, 314, 315, 316, 317, 318, 319, 320, 321, 322, 323, 324, 325, 326, 327, 328, 329, 330, 331, 332, 333, 334, 335, 336, 337, 338, 339, 340, 341, 342, 343, 344, 345, 346, 347, 348, 349, 350, 351, 352, 353, 354, 355, 356, 357, 358, 359, 360, 361, 362, 363, 364, 365, 366, 367, 368, 369, 370, 371, 372, 373, 374, 375, 376, 377, 378, 379, 380, 381, 382, 383, 384, 385, 386, 387, 388, 389, 390, 391, 392, 393, 394, 395, 396, 397, 398, 399, 400, 401, 402, 403, 404, 405, 406, 407, 408, 409, 410, 411, 412, 413, 414, 415, 416, 417, 418, 419, 420, 421, 422, 423, 424, 425, 426, 427, 428, 429, 430, 431, 432, 433, 434, 435, 436, 437, 438, 439, 440, 441, 442, 443, 444, 445, 446, 447, 448, 449, 450, 451, 452, 453, 454, 455, 456, 457, 458, 459, 460, 461, 462, 463, 464, 465, 466, 467, 468, 469, 470, 471, 472, 473, 474, 475, 476, 477, 478, 479, 480, 481, 482, 483, 484, 485, 486, 487, 488, 489, 490, 491, 492, 493, 494, 495, 496, 497, 498, 499, 500, 501, 502, 503, 504, 505, 506, 507, 508, 509, 510, 511, 512, 513, 514, 515, 516, 517, 518, 519, 520, 521, 522, 523, 524, 525, 526, 527, 528, 529, 530, 531, 532, 533, 534, 535, 536, 537, 538, 539, 540, 541, 542, 543, 544, 545, 546, 547, 548, 549, 550, 551, 552, 553, 554, 555, 556, 557, 558, 559, 560, 561, 562, 563, 564, 565, 566, 567, 568, 569, 570, 571, 572, 573, 574, 575, 576, 577, 578, 579, 580, 581, 582, 583, 584, 585, 586, 587, 588, 589, 590, 591, 592, 593, 594, 595, 596, 597, 598, 599, 600, 601, 602, 603, 604, 605, 606, 607, 608, 609, 610, 611, 612, 613, 614, 615, 616, 617, 618, 619, 620, 621, 622, 623, 624, 625, 626, 627, 628, 629, 630, 631, 632, 633, 634, 635, 636, 637, 638, 639, 640, 641, 642, 643, 644, 645, 646, 647, 648, 649, 650, 651, 652, 653, 654, 655, 656, 657, 658, 659, 660, 661, 662, 663, 664, 665, 666, 667, 668, 669, 670, 671, 672, 673, 674, 675, 676, 677, 678, 679, 680, 681, 682, 683, 684, 685, 686, 687, 688, 689, 690, 691, 692, 693, 694, 695, 696, 697, 698, 699, 700, 701, 702, 703, 704, 705, 706, 707, 708, 709, 710, 711, 712, 713, 714, 715, 716, 717, 718, 719, 720, 721, 722, 723, 724, 725, 726, 727, 728, 729, 730, 731, 732, 733, 734, 735, 736, 737, 738, 739, 740, 741, 742, 743, 744, 745, 746, 747, 748, 749, 750, 751, 752, 753, 754, 755, 756, 757, 758, 759, 760, 761, 762, 763, 764, 765, 766, 767, 768, 769, 770, 771, 772, 773, 774, 775, 776, 777, 778, 779, 780, 781, 782, 783, 784, 785, 786, 787, 788, 789, 790, 791, 792, 793, 794, 795, 796, 797, 798, 799, 800, 801, 802, 803, 804, 805, 806, 807, 808, 809, 810, 811, 812, 813, 814, 815, 816, 817, 818, 819, 820, 821, 822, 823, 824, 825, 826, 827, 828, 829, 830, 831, 832, 833, 834, 835, 836, 837, 838, 839, 840, 841, 842, 843, 844, 845, 846, 847, 848, 849, 850, 851, 852, 853, 854, 855, 856, 857, 858, 859, 860, 861, 862, 863, 864, 865, 866, 867, 868, 869, 870, 871, 872, 873, 874, 875, 876, 877, 878, 879, 880, 881, 882, 883, 884, 885, 886, 887, 888, 889, 890, 891, 892, 893, 894, 895, 896, 897, 898, 899, 900, 901, 902, 903, 904, 905, 906, 907, 908, 909, 910, 911, 912, 913, 914, 915, 916, 917, 918, 919, 920, 921, 922, 923, 924, 925, 926, 927, 928, 929, 930, 931, 932, 933, 934, 935, 936, 937, 938, 939, 940, 941, 942, 943, 944, 945, 946, 947, 948, 949, 950, 951, 952, 953, 954, 955, 956, 957, 958, 959, 960, 961, 962, 963, 964, 965, 966, 967, 968, 969, 970, 971, 972, 973, 974, 975, 976, 977, 978, 979, 980, 981, 982, 983, 984, 985, 986, 987, 988, 989, 990, 991, 992, 993, 994, 995, 996, 997, 998, 999, 1000], \"y\": [445065.3956489733, 436132.64346604544, 424581.7231358256, 411758.5613341936, 413839.0845151593, 411852.70197202766, 409654.72522242274, 402371.3668247461, 400879.5620760521, 412189.199199347, 424103.7181567871, 435054.41288318904, 423127.1876780117, 422324.03171187465, 418285.9325968293, 413307.8788005455, 405980.57974112773, 404300.18803209916, 402053.75932201673, 401743.3679394076, 404111.8754811657, 403135.3719383606, 403440.9661081729, 404653.9720142336, 403536.2178612614, 404088.34673831833, 406084.4928010497, 408996.5036506629, 408634.21801318775, 408003.46063165995, 407642.5312335368, 407495.19842327875, 406535.0813632995, 405946.56596139126, 407031.97900859965, 405331.0978947686, 405344.4479813983, 404598.748723788, 403681.3360057903, 402748.24945479585, 402672.1514738972, 402218.88138515083, 401370.04020640213, 401790.79973525443, 401554.3839309556, 400682.1885341211, 401041.3043580285, 401171.2149488, 402502.08996838337, 402774.55873590626, 402487.67853371246, 402528.57212817896, 401829.6387358835, 402860.868737306, 404188.9766884883, 403698.0599857835, 403472.081406144, 402478.45213660965, 402192.03408052324, 402867.7474684059, 403191.2778616702, 403459.3637750412, 403116.83555828256, 404026.62926532887, 404699.0406172306, 402604.723324099, 403200.7483101231, 403561.06693371275, 403268.35660257895, 402344.43803417374, 402350.47946128395, 400594.91014339635, 400933.2953096878, 401949.58391913376, 400940.96982527885, 400464.53374229395, 399175.208012743, 398743.5672948287, 398107.86824146175, 397376.9318284193, 396919.3527848808, 395971.8012896375, 396139.29609466175, 395120.92287370836, 395285.69107966026, 395269.1437714858, 394814.8119334986, 393801.8702830927, 393746.30825079395, 393386.3567548581, 393211.14302698424, 393620.70600620145, 392736.6044530723, 394227.2325597708, 393005.5210740908, 393115.6560039471, 392534.38634525426, 390513.13457423117, 392803.0724088296, 392821.5846583113, 393590.1885378488, 393475.9044947087, 393035.88281434873, 393069.6210474763, 393884.53928517306, 393330.6550891756, 392934.93969355273, 393609.46618706087, 393370.6962074431, 393061.14465046243, 392985.58582809736, 394086.616184344, 393325.9898969034, 393505.0998014688, 393970.7539187349, 393384.6321282356, 394501.77456374466, 394079.38066413876, 394125.6458107226, 394041.8281473133, 394151.8666376826, 395831.3409884208, 396382.3098832514, 396249.5519465413, 397371.8597453199, 397281.6344181327, 397694.05013574124, 398467.740543065, 398291.98696089943, 399717.6785407563, 400224.227596394, 401537.2822178503, 402003.91946205165, 401548.65147497517, 403936.9386692098, 401056.18679356313, 404331.0175975258, 402842.5120270207, 402294.00018311845, 403148.3796158935, 402969.47338562756, 403819.16484559583, 402967.81413272984, 403228.5769467084, 403671.33278474165, 403101.32800013496, 403464.2786241623, 404831.9263127629, 404331.47799289663, 404884.5471336352, 405721.1506594732, 404508.55728826375, 404644.2479462404, 403598.1374928781, 405384.9579499958, 404677.576871726, 406996.98897061753, 405647.90153906925, 405229.2793198157, 406823.246433663, 406208.77842434915, 406484.0156169728, 406506.6792887876, 406664.63092099695, 408954.12600403326, 407109.2937283585, 407559.27209679666, 409471.8680314778, 407196.74647458794, 409185.9796519045, 408961.89733423706, 406685.28883373586, 407804.060005641, 408375.84286886075, 408521.20554307406, 408358.4681309302, 408088.3350846115, 408814.6390062561, 408212.91608012427, 407628.78709932696, 409082.838401718, 409013.0460887438, 410674.16899776034, 409451.6378774165, 408524.27386261954, 409011.59221727477, 408667.0191012656, 410160.01976572006, 410034.7741366729, 409440.58761574415, 409062.3403070136, 410835.1881906064, 411500.0957240565, 409399.18449641974, 411203.7562098666, 412366.2874156573, 410549.39863249764, 411910.8442543305, 411854.45053396444, 411863.6857669168, 411880.84439924225, 411529.2028403111, 411216.88154094154, 412173.53314842924, 411131.1561342883, 413781.2978261256, 412051.06943881745, 413663.17214129365, 414020.29242240736, 414641.9554940959, 414874.5373302163, 415055.5813168383, 413315.0438412062, 415383.13849355356, 413932.549318632, 414006.46066167485, 415402.982587727, 416264.7401452907, 416894.7268315199, 416808.86950526957, 416204.6468233813, 416140.68272106175, 416102.50803488377, 417450.68338481104, 416171.0800743028, 417443.0357500363, 416030.27031830215, 417787.609844546, 415324.24355797766, 419111.899298459, 418196.7269395202, 419668.0425723941, 418330.6856870114, 419301.80730743083, 420008.62688084575, 419225.72507999826, 419252.13939055265, 419364.0290836797, 421823.4514081405, 421532.4425449024, 419924.45943301497, 418818.55534269323, 420226.0555715486, 421577.58620743995, 435820.26600734686, 428739.9651226314, 419810.6900244337, 431083.67769954266, 439640.67689221393, 445046.39311535016, 441621.58992402256, 432884.9426837095, 438663.5951529332, 447971.7075791023, 443646.90144005825, 441659.9767696975, 444678.8153392129, 449608.09099163197, 451292.1678376956, 450147.331068006, 450498.46055243403, 448775.2990852998, 451890.69638835755, 453022.8992618089, 453143.653849269, 453005.13939571014, 453245.82937866834, 453143.20057604247, 452883.9784749491, 455384.1914652522, 455486.6264505704, 454443.6488892712, 455056.09796253755, 454678.54878291325, 455169.3437879, 454853.92679953796, 455449.9517892053, 458139.90445528313, 456876.5698607461, 452799.4913386743, 456715.4535443185, 455738.82684587257, 456948.25342048006, 458980.48296559183, 455713.11830727494, 458287.39311934815, 458411.0353584823, 458686.9846612493, 461081.80512275937, 457038.38764779165, 457861.60863933555, 460365.07914796926, 460802.8316678391, 460354.3442160542, 460562.11182870576, 460237.91995026084, 458205.7910916503, 464510.443047974, 457576.58507524844, 462873.8180295623, 461674.0967706287, 461233.8316824768, 462830.9006440238, 461268.25884707, 460405.9719754598, 461436.87708428706, 464367.741576571, 464881.60048218654, 463077.5846869639, 463249.48310088913, 460929.79187587986, 462843.47144634795, 463368.4013320862, 465515.309333273, 462794.6572484268, 464840.9350212454, 467320.73929439584, 464260.4007580063, 463970.9663973146, 464220.65156693076, 464720.88732593314, 465088.86229248147, 464613.05568409065, 467999.33792336576, 465841.1256577827, 468131.51132411766, 468874.07886390586, 467660.0824087902, 467487.0878540862, 469173.6541077385, 465264.78708672646, 470521.4593207617, 469048.0621238453, 467110.03160232643, 467338.9923513671, 471513.08001373516, 464107.64001571975, 466950.99027657264, 470092.3994497121, 469137.2359974727, 470362.1178398124, 469590.4498008544, 470092.4039862068, 465100.68609640124, 467116.8612360448, 467610.99112456973, 470022.5602243702, 471523.170604787, 471073.46407562715, 470751.7700649626, 471186.97789270495, 473707.390925049, 474614.50272940274, 472202.086328813, 471439.2922642278, 469985.2718064548, 471435.1094668089, 472065.2561157447, 471322.18563231063, 472094.4188344094, 471447.28128245694, 471688.87546815356, 473075.18775332224, 472159.28849355405, 475881.4580899142, 471263.4026000202, 473814.0571103124, 475351.21271806787, 475163.18343886524, 479487.6080464538, 475565.1891763824, 474422.79850612464, 475944.22592169174, 477056.87686295557, 474575.12232226, 475766.3932226017, 474562.30172905914, 476903.0733419123, 477930.84523090743, 477713.2124345607, 475468.51348104846, 476185.53303948336, 477397.0502719333, 475157.0865977744, 475954.82932931575, 479124.05636101076, 474800.2892872146, 474751.435148491, 481194.66330395377, 481044.2193993966, 476916.26376803446, 478176.53562483075, 478556.82263299497, 477286.453712483, 479238.14782547177, 478164.88184573164, 477975.8759304026, 478843.4794250095, 480605.56996109535, 475141.4360827954, 479333.0027077778, 476989.5268461459, 476283.3761932471, 481345.52002379403, 481158.04237577727, 479541.4649088835, 479082.28964574635, 476273.191890209, 478678.05113175156, 481290.9296678944, 481540.5484567029, 480071.4701777695, 479055.4205802642, 484512.24633103574, 481018.098593123, 483492.23417872126, 482832.9747418225, 480693.7715257711, 485177.154046171, 480853.40642942564, 483901.2646545571, 479685.0371692313, 480747.02430762997, 483936.409879436, 478619.23061885394, 484800.91300168436, 482187.10870827106, 482381.2681129742, 482671.6838522803, 479194.0489503021, 484036.2066905024, 482899.4369160005, 482679.21571773785, 485481.94201016566, 482743.68605098315, 485863.6018338771, 484389.37104887556, 486618.96829532285, 482845.85826112615, 484033.7785573859, 484223.0639873794, 483859.2793566462, 485496.36537246575, 483290.3646252439, 483771.65535429446, 487350.9169077503, 486672.3906995544, 484751.51693427475, 488255.3171995146, 482477.12621273316, 483398.3278013296, 484663.59427982697, 488804.52017757215, 483974.35510459926, 484472.3321541636, 484564.4599105769, 485392.87899132434, 488461.1702184252, 485071.67680832656, 488156.8233245422, 485923.0450340964, 488355.90690383286, 485908.4137085221, 485170.075332328, 487137.7051925041, 489559.843913204, 486297.29443927726, 488385.8180794518, 485040.0528950173, 488397.21711311303, 486738.3175266485, 485626.60204393585, 487553.8248485749, 483950.99004942045, 489050.99728228146, 486890.0413597324, 487445.8808678405, 489874.63910305535, 488864.00159329886, 488974.4430484815, 488048.89313568326, 485795.2454472768, 485591.36745728104]}],\n",
              "                        {\"template\": {\"data\": {\"bar\": [{\"error_x\": {\"color\": \"#2a3f5f\"}, \"error_y\": {\"color\": \"#2a3f5f\"}, \"marker\": {\"line\": {\"color\": \"#E5ECF6\", \"width\": 0.5}}, \"type\": \"bar\"}], \"barpolar\": [{\"marker\": {\"line\": {\"color\": \"#E5ECF6\", \"width\": 0.5}}, \"type\": \"barpolar\"}], \"carpet\": [{\"aaxis\": {\"endlinecolor\": \"#2a3f5f\", \"gridcolor\": \"white\", \"linecolor\": \"white\", \"minorgridcolor\": \"white\", \"startlinecolor\": \"#2a3f5f\"}, \"baxis\": {\"endlinecolor\": \"#2a3f5f\", \"gridcolor\": \"white\", \"linecolor\": \"white\", \"minorgridcolor\": \"white\", \"startlinecolor\": \"#2a3f5f\"}, \"type\": \"carpet\"}], \"choropleth\": [{\"colorbar\": {\"outlinewidth\": 0, \"ticks\": \"\"}, \"type\": \"choropleth\"}], \"contour\": [{\"colorbar\": {\"outlinewidth\": 0, \"ticks\": \"\"}, \"colorscale\": [[0.0, \"#0d0887\"], [0.1111111111111111, \"#46039f\"], [0.2222222222222222, \"#7201a8\"], [0.3333333333333333, \"#9c179e\"], [0.4444444444444444, \"#bd3786\"], [0.5555555555555556, \"#d8576b\"], [0.6666666666666666, \"#ed7953\"], [0.7777777777777778, \"#fb9f3a\"], [0.8888888888888888, \"#fdca26\"], [1.0, \"#f0f921\"]], \"type\": \"contour\"}], \"contourcarpet\": [{\"colorbar\": {\"outlinewidth\": 0, \"ticks\": \"\"}, \"type\": \"contourcarpet\"}], \"heatmap\": [{\"colorbar\": {\"outlinewidth\": 0, \"ticks\": \"\"}, \"colorscale\": [[0.0, \"#0d0887\"], [0.1111111111111111, \"#46039f\"], [0.2222222222222222, \"#7201a8\"], [0.3333333333333333, \"#9c179e\"], [0.4444444444444444, \"#bd3786\"], [0.5555555555555556, \"#d8576b\"], [0.6666666666666666, \"#ed7953\"], [0.7777777777777778, \"#fb9f3a\"], [0.8888888888888888, \"#fdca26\"], [1.0, \"#f0f921\"]], \"type\": \"heatmap\"}], \"heatmapgl\": [{\"colorbar\": {\"outlinewidth\": 0, \"ticks\": \"\"}, \"colorscale\": [[0.0, \"#0d0887\"], [0.1111111111111111, \"#46039f\"], [0.2222222222222222, \"#7201a8\"], [0.3333333333333333, \"#9c179e\"], [0.4444444444444444, \"#bd3786\"], [0.5555555555555556, \"#d8576b\"], [0.6666666666666666, \"#ed7953\"], [0.7777777777777778, \"#fb9f3a\"], [0.8888888888888888, \"#fdca26\"], [1.0, \"#f0f921\"]], \"type\": \"heatmapgl\"}], \"histogram\": [{\"marker\": {\"colorbar\": {\"outlinewidth\": 0, \"ticks\": \"\"}}, \"type\": \"histogram\"}], \"histogram2d\": [{\"colorbar\": {\"outlinewidth\": 0, \"ticks\": \"\"}, \"colorscale\": [[0.0, \"#0d0887\"], [0.1111111111111111, \"#46039f\"], [0.2222222222222222, \"#7201a8\"], [0.3333333333333333, \"#9c179e\"], [0.4444444444444444, \"#bd3786\"], [0.5555555555555556, \"#d8576b\"], [0.6666666666666666, \"#ed7953\"], [0.7777777777777778, \"#fb9f3a\"], [0.8888888888888888, \"#fdca26\"], [1.0, \"#f0f921\"]], \"type\": \"histogram2d\"}], \"histogram2dcontour\": [{\"colorbar\": {\"outlinewidth\": 0, \"ticks\": \"\"}, \"colorscale\": [[0.0, \"#0d0887\"], [0.1111111111111111, \"#46039f\"], [0.2222222222222222, \"#7201a8\"], [0.3333333333333333, \"#9c179e\"], [0.4444444444444444, \"#bd3786\"], [0.5555555555555556, \"#d8576b\"], [0.6666666666666666, \"#ed7953\"], [0.7777777777777778, \"#fb9f3a\"], [0.8888888888888888, \"#fdca26\"], [1.0, \"#f0f921\"]], \"type\": \"histogram2dcontour\"}], \"mesh3d\": [{\"colorbar\": {\"outlinewidth\": 0, \"ticks\": \"\"}, \"type\": \"mesh3d\"}], \"parcoords\": [{\"line\": {\"colorbar\": {\"outlinewidth\": 0, \"ticks\": \"\"}}, \"type\": \"parcoords\"}], \"pie\": [{\"automargin\": true, \"type\": \"pie\"}], \"scatter\": [{\"marker\": {\"colorbar\": {\"outlinewidth\": 0, \"ticks\": \"\"}}, \"type\": \"scatter\"}], \"scatter3d\": [{\"line\": {\"colorbar\": {\"outlinewidth\": 0, \"ticks\": \"\"}}, \"marker\": {\"colorbar\": {\"outlinewidth\": 0, \"ticks\": \"\"}}, \"type\": \"scatter3d\"}], \"scattercarpet\": [{\"marker\": {\"colorbar\": {\"outlinewidth\": 0, \"ticks\": \"\"}}, \"type\": \"scattercarpet\"}], \"scattergeo\": [{\"marker\": {\"colorbar\": {\"outlinewidth\": 0, \"ticks\": \"\"}}, \"type\": \"scattergeo\"}], \"scattergl\": [{\"marker\": {\"colorbar\": {\"outlinewidth\": 0, \"ticks\": \"\"}}, \"type\": \"scattergl\"}], \"scattermapbox\": [{\"marker\": {\"colorbar\": {\"outlinewidth\": 0, \"ticks\": \"\"}}, \"type\": \"scattermapbox\"}], \"scatterpolar\": [{\"marker\": {\"colorbar\": {\"outlinewidth\": 0, \"ticks\": \"\"}}, \"type\": \"scatterpolar\"}], \"scatterpolargl\": [{\"marker\": {\"colorbar\": {\"outlinewidth\": 0, \"ticks\": \"\"}}, \"type\": \"scatterpolargl\"}], \"scatterternary\": [{\"marker\": {\"colorbar\": {\"outlinewidth\": 0, \"ticks\": \"\"}}, \"type\": \"scatterternary\"}], \"surface\": [{\"colorbar\": {\"outlinewidth\": 0, \"ticks\": \"\"}, \"colorscale\": [[0.0, \"#0d0887\"], [0.1111111111111111, \"#46039f\"], [0.2222222222222222, \"#7201a8\"], [0.3333333333333333, \"#9c179e\"], [0.4444444444444444, \"#bd3786\"], [0.5555555555555556, \"#d8576b\"], [0.6666666666666666, \"#ed7953\"], [0.7777777777777778, \"#fb9f3a\"], [0.8888888888888888, \"#fdca26\"], [1.0, \"#f0f921\"]], \"type\": \"surface\"}], \"table\": [{\"cells\": {\"fill\": {\"color\": \"#EBF0F8\"}, \"line\": {\"color\": \"white\"}}, \"header\": {\"fill\": {\"color\": \"#C8D4E3\"}, \"line\": {\"color\": \"white\"}}, \"type\": \"table\"}]}, \"layout\": {\"annotationdefaults\": {\"arrowcolor\": \"#2a3f5f\", \"arrowhead\": 0, \"arrowwidth\": 1}, \"coloraxis\": {\"colorbar\": {\"outlinewidth\": 0, \"ticks\": \"\"}}, \"colorscale\": {\"diverging\": [[0, \"#8e0152\"], [0.1, \"#c51b7d\"], [0.2, \"#de77ae\"], [0.3, \"#f1b6da\"], [0.4, \"#fde0ef\"], [0.5, \"#f7f7f7\"], [0.6, \"#e6f5d0\"], [0.7, \"#b8e186\"], [0.8, \"#7fbc41\"], [0.9, \"#4d9221\"], [1, \"#276419\"]], \"sequential\": [[0.0, \"#0d0887\"], [0.1111111111111111, \"#46039f\"], [0.2222222222222222, \"#7201a8\"], [0.3333333333333333, \"#9c179e\"], [0.4444444444444444, \"#bd3786\"], [0.5555555555555556, \"#d8576b\"], [0.6666666666666666, \"#ed7953\"], [0.7777777777777778, \"#fb9f3a\"], [0.8888888888888888, \"#fdca26\"], [1.0, \"#f0f921\"]], \"sequentialminus\": [[0.0, \"#0d0887\"], [0.1111111111111111, \"#46039f\"], [0.2222222222222222, \"#7201a8\"], [0.3333333333333333, \"#9c179e\"], [0.4444444444444444, \"#bd3786\"], [0.5555555555555556, \"#d8576b\"], [0.6666666666666666, \"#ed7953\"], [0.7777777777777778, \"#fb9f3a\"], [0.8888888888888888, \"#fdca26\"], [1.0, \"#f0f921\"]]}, \"colorway\": [\"#636efa\", \"#EF553B\", \"#00cc96\", \"#ab63fa\", \"#FFA15A\", \"#19d3f3\", \"#FF6692\", \"#B6E880\", \"#FF97FF\", \"#FECB52\"], \"font\": {\"color\": \"#2a3f5f\"}, \"geo\": {\"bgcolor\": \"white\", \"lakecolor\": \"white\", \"landcolor\": \"#E5ECF6\", \"showlakes\": true, \"showland\": true, \"subunitcolor\": \"white\"}, \"hoverlabel\": {\"align\": \"left\"}, \"hovermode\": \"closest\", \"mapbox\": {\"style\": \"light\"}, \"paper_bgcolor\": \"white\", \"plot_bgcolor\": \"#E5ECF6\", \"polar\": {\"angularaxis\": {\"gridcolor\": \"white\", \"linecolor\": \"white\", \"ticks\": \"\"}, \"bgcolor\": \"#E5ECF6\", \"radialaxis\": {\"gridcolor\": \"white\", \"linecolor\": \"white\", \"ticks\": \"\"}}, \"scene\": {\"xaxis\": {\"backgroundcolor\": \"#E5ECF6\", \"gridcolor\": \"white\", \"gridwidth\": 2, \"linecolor\": \"white\", \"showbackground\": true, \"ticks\": \"\", \"zerolinecolor\": \"white\"}, \"yaxis\": {\"backgroundcolor\": \"#E5ECF6\", \"gridcolor\": \"white\", \"gridwidth\": 2, \"linecolor\": \"white\", \"showbackground\": true, \"ticks\": \"\", \"zerolinecolor\": \"white\"}, \"zaxis\": {\"backgroundcolor\": \"#E5ECF6\", \"gridcolor\": \"white\", \"gridwidth\": 2, \"linecolor\": \"white\", \"showbackground\": true, \"ticks\": \"\", \"zerolinecolor\": \"white\"}}, \"shapedefaults\": {\"line\": {\"color\": \"#2a3f5f\"}}, \"ternary\": {\"aaxis\": {\"gridcolor\": \"white\", \"linecolor\": \"white\", \"ticks\": \"\"}, \"baxis\": {\"gridcolor\": \"white\", \"linecolor\": \"white\", \"ticks\": \"\"}, \"bgcolor\": \"#E5ECF6\", \"caxis\": {\"gridcolor\": \"white\", \"linecolor\": \"white\", \"ticks\": \"\"}}, \"title\": {\"x\": 0.05}, \"xaxis\": {\"automargin\": true, \"gridcolor\": \"white\", \"linecolor\": \"white\", \"ticks\": \"\", \"title\": {\"standoff\": 15}, \"zerolinecolor\": \"white\", \"zerolinewidth\": 2}, \"yaxis\": {\"automargin\": true, \"gridcolor\": \"white\", \"linecolor\": \"white\", \"ticks\": \"\", \"title\": {\"standoff\": 15}, \"zerolinecolor\": \"white\", \"zerolinewidth\": 2}}}},\n",
              "                        {\"responsive\": true}\n",
              "                    ).then(function(){\n",
              "                            \n",
              "var gd = document.getElementById('9b75c155-758a-424b-be91-bea2f4d2a405');\n",
              "var x = new MutationObserver(function (mutations, observer) {{\n",
              "        var display = window.getComputedStyle(gd).display;\n",
              "        if (!display || display === 'none') {{\n",
              "            console.log([gd, 'removed!']);\n",
              "            Plotly.purge(gd);\n",
              "            observer.disconnect();\n",
              "        }}\n",
              "}});\n",
              "\n",
              "// Listen for the removal of the full notebook cells\n",
              "var notebookContainer = gd.closest('#notebook-container');\n",
              "if (notebookContainer) {{\n",
              "    x.observe(notebookContainer, {childList: true});\n",
              "}}\n",
              "\n",
              "// Listen for the clearing of the current output cell\n",
              "var outputEl = gd.closest('.output');\n",
              "if (outputEl) {{\n",
              "    x.observe(outputEl, {childList: true});\n",
              "}}\n",
              "\n",
              "                        })\n",
              "                };\n",
              "                \n",
              "            </script>\n",
              "        </div>\n",
              "</body>\n",
              "</html>"
            ]
          },
          "metadata": {
            "tags": []
          }
        }
      ]
    },
    {
      "cell_type": "code",
      "metadata": {
        "id": "rBaAuEapcGUL"
      },
      "source": [
        "model.eval()\n",
        "x_list = []\n",
        "labels_list = []\n",
        "doc_ids = []\n",
        "zx_phi_list=[]\n",
        "\n",
        "with torch.no_grad():\n",
        "    for batch_ndx in all_indices:\n",
        "        input_w = tensor_train_w[batch_ndx].to(device)\n",
        "        labels = train_label[batch_ndx]\n",
        "        irr_scores_b = irrelevant_scores[batch_ndx].to(device)\n",
        "        labels_list.extend(labels)\n",
        "        z, recon_v, zx, zx_phi = model(input_w, irr_scores_b, compute_loss=False)\n",
        "        zx = zx.view(-1, num_coordinate).data.detach().cpu().numpy()\n",
        "        zx_phi = zx_phi.view(-1, num_topic).data.detach().cpu().numpy()\n",
        "        zx_phi_list.extend(zx_phi)\n",
        "        x_list.extend(zx)\n",
        "        doc_ids.extend(batch_ndx)\n",
        "\n",
        "    x_list = np.array(x_list)\n",
        "\n",
        "    beta = model.decoder.weight.data.cpu().numpy().T#\n",
        "    zphi = model.decoder_phi_bn(model.centres).data.cpu().numpy()\n",
        "    query_center = model.query_center.data.cpu().numpy()"
      ],
      "execution_count": null,
      "outputs": []
    },
    {
      "cell_type": "code",
      "metadata": {
        "id": "bUo3HVV8-Olj",
        "colab": {
          "base_uri": "https://localhost:8080/"
        },
        "outputId": "7450bc1a-33e6-4051-dd87-1786be3ed21e"
      },
      "source": [
        "print_Topics()"
      ],
      "execution_count": null,
      "outputs": [
        {
          "output_type": "stream",
          "text": [
            "------------------------------\n",
            "0: love wa girl people man day friend shit life guy\n",
            "1: people bad gon feeling class humble advice fall literally automatically\n",
            "2: feel time till genuine cold real tired best youll better\n",
            "3: incredible costume text people eat sick minute worst hear evening\n",
            "4: wa time day amp ha best game week work good\n",
            "5: time checked real unfollowed happen people tina swear havent demi\n",
            "6: time wa ive yeah day sick hotel bad coffee james\n",
            "7: people thing hour minute ha fuck tweep stay sit drake\n",
            "8: time people thing feel bad human unfollowed incredible hear night\n",
            "9: weather update channel amas favorite vote year voted stats build\n",
            "10: wa candy tired checked real hour chicken bullshit hotel tina\n",
            "11: time unfollowed wa minute die literally feel fault god yeah\n",
            "12: people fuck time god thing gon bad going literally stay\n",
            "13: day lot best wa automatically checked incredible selfless human genuine\n",
            "14: people thing time food forgot havent real door humble summer\n",
            "15: people time good till yeah fry tired hear worst maui\n",
            "16: unfollowed wa time feel literally drive incredible evening candy real\n",
            "17: time people real wa sit multi feel happen best buy\n",
            "18: unfollowed time people blood fall good eat weekend drinking god\n",
            "19: good feel time ive bad bed day class shit food\n",
            "------------------------------\n"
          ],
          "name": "stdout"
        }
      ]
    },
    {
      "cell_type": "code",
      "metadata": {
        "id": "mQi11VZVMWI9",
        "colab": {
          "base_uri": "https://localhost:8080/"
        },
        "outputId": "86ab000e-4d28-42fd-d923-fddff4a41cf8"
      },
      "source": [
        "get_keywords()"
      ],
      "execution_count": null,
      "outputs": [
        {
          "output_type": "execute_result",
          "data": {
            "text/plain": [
              "['housewife', 'girl', 'beautiful', 'blonde']"
            ]
          },
          "metadata": {
            "tags": []
          },
          "execution_count": 45
        }
      ]
    },
    {
      "cell_type": "code",
      "metadata": {
        "id": "IG-GbXwiTIW3",
        "colab": {
          "base_uri": "https://localhost:8080/"
        },
        "outputId": "612ce74e-2564-4a3a-db3d-852224ea165b"
      },
      "source": [
        "x_list"
      ],
      "execution_count": null,
      "outputs": [
        {
          "output_type": "execute_result",
          "data": {
            "text/plain": [
              "array([[19.06641   , 21.370733  ],\n",
              "       [-2.597504  , 21.381157  ],\n",
              "       [-8.143982  , 21.371222  ],\n",
              "       ...,\n",
              "       [ 0.5582142 , 21.374485  ],\n",
              "       [-0.25613955, 21.374098  ],\n",
              "       [-3.4516933 , 21.373339  ]], dtype=float32)"
            ]
          },
          "metadata": {
            "tags": []
          },
          "execution_count": 48
        }
      ]
    },
    {
      "cell_type": "code",
      "metadata": {
        "id": "ktnEa7wASfIQ",
        "colab": {
          "base_uri": "https://localhost:8080/",
          "height": 1000
        },
        "outputId": "87c22e17-f362-4bcf-bca0-34fd64117f3c"
      },
      "source": [
        "# Visualization\n",
        "plot_fig(x_list, labels_list, zphi,query_center=0.0,lim = (-50,50) ,contour='No')"
      ],
      "execution_count": null,
      "outputs": [
        {
          "output_type": "display_data",
          "data": {
            "image/png": "[encoded data removed]",
            "text/plain": [
              "<Figure size 1440x1440 with 1 Axes>"
            ]
          },
          "metadata": {
            "tags": [],
            "needs_background": "light"
          }
        }
      ]
    },
    {
      "cell_type": "markdown",
      "metadata": {
        "id": "uBecXbW4amm2"
      },
      "source": [
        "#Stop here!!"
      ]
    },
    {
      "cell_type": "code",
      "metadata": {
        "id": "PHXaKHiuapB1"
      },
      "source": [
        "Stop here!!!!!"
      ],
      "execution_count": null,
      "outputs": []
    },
    {
      "cell_type": "markdown",
      "metadata": {
        "id": "EfY0rA4xZJQN"
      },
      "source": [
        "# Radius Model (Regions)"
      ]
    },
    {
      "cell_type": "code",
      "metadata": {
        "id": "kugqlFYXA1kv"
      },
      "source": [
        "# vals,indexes = torch.sort(normalized_all_rscores)\n",
        "# region_indexes = torch.ones(normalized_all_rscores.shape) * 5\n",
        "# split_idx = int((max(indexes)+1)/num_div)\n",
        "# for i in range(num_div-1):\n",
        "#   for j in range(i*split_idx,(i+1)*split_idx):\n",
        "#     region_indexes[indexes[j]] = i+1"
      ],
      "execution_count": null,
      "outputs": []
    },
    {
      "cell_type": "code",
      "metadata": {
        "id": "59zA1wSunT-g"
      },
      "source": [
        "# num_div = 5\n",
        "# def get_regions_indexes(num_div,normalized_all_rscores):\n",
        "#   rounded_normalized_all_rscores =  torch.round(normalized_all_rscores*(num_div))/(num_div)\n",
        "#   score_boundaries = rounded_normalized_all_rscores.unique()\n",
        "#   region_indexes = torch.zeros(normalized_all_rscores.shape)\n",
        "#   for i in range(len(score_boundaries)-1):\n",
        "#     for r in range(len(normalized_all_rscores)):\n",
        "#       if normalized_all_rscores[r] > score_boundaries[i] and normalized_all_rscores[r] <= score_boundaries[i+1]:\n",
        "#         region_indexes[r] = i+1\n",
        "#       else :\n",
        "#         continue\n",
        "#   return score_boundaries,region_indexes,rounded_normalized_all_rscores"
      ],
      "execution_count": null,
      "outputs": []
    },
    {
      "cell_type": "code",
      "metadata": {
        "id": "i5p07lTlntCl"
      },
      "source": [
        "# score_boundaries,region_indexes,rounded_normalized_all_rscores = get_regions_indexes(num_div,normalized_all_rscores)"
      ],
      "execution_count": null,
      "outputs": []
    },
    {
      "cell_type": "code",
      "metadata": {
        "id": "LnlKqOCLoPDx"
      },
      "source": [
        "# from IPython.display import display\n",
        "# display(score_boundaries,region_indexes,normalized_all_rscores)\n",
        "# display('regions: ',region_indexes.unique())"
      ],
      "execution_count": null,
      "outputs": []
    },
    {
      "cell_type": "code",
      "metadata": {
        "id": "4l6-mCK8Z07d"
      },
      "source": [
        "# relv_r_indexes = (num_div+1 - region_indexes)\n",
        "# relv_indexes = torch.zeros(tensor_train_w.shape[0],num_div)\n",
        "# for r in range(tensor_train_w.shape[0]):\n",
        "#   relv_indexes[r][int(relv_r_indexes[r].item())-1] = 1\n",
        "# relv_r_indexes,relv_indexes"
      ],
      "execution_count": null,
      "outputs": []
    },
    {
      "cell_type": "code",
      "metadata": {
        "id": "ylYdScAGZw8A"
      },
      "source": [
        "# plt.hist(region_indexes)"
      ],
      "execution_count": null,
      "outputs": []
    },
    {
      "cell_type": "markdown",
      "metadata": {
        "id": "7_6ifWD8l8WA"
      },
      "source": [
        "\n",
        "\n",
        "\n",
        "#WordCloud\n",
        "\n"
      ]
    },
    {
      "cell_type": "code",
      "metadata": {
        "id": "h8Q7B-0Apmz0"
      },
      "source": [
        "!pip install wordcloud"
      ],
      "execution_count": null,
      "outputs": []
    },
    {
      "cell_type": "code",
      "metadata": {
        "id": "9KNJAR_ifvVv"
      },
      "source": [
        "word_list=data_20news_preprocessed[j].split()\n",
        "print(word_list)\n",
        "flatten_all_words"
      ],
      "execution_count": null,
      "outputs": []
    },
    {
      "cell_type": "code",
      "metadata": {
        "id": "F-0-_FjTptoz"
      },
      "source": [
        "import pandas as pd\n",
        "from wordcloud import WordCloud, STOPWORDS\n",
        "from matplotlib import pyplot as plt\n",
        "\n",
        "comment_words = ''\n",
        "topic_topword_comment = ''\n",
        "\n",
        "for val in top_10_docs:\n",
        "    comment_words += \" \".join(val)+\" \"\n",
        "\n",
        "for topword_topic in topword_topics_list:\n",
        "    topic_topword_comment += \" \".join(topword_topic)+\" \"\n",
        "\n",
        "wordcloud_top10_docs = WordCloud(width = 800, height = 800,\n",
        "                background_color ='white',\n",
        "                stopwords = stopwords,\n",
        "                min_font_size = 10).generate(comment_words)\n",
        "\n",
        "wordcloud_topword_topics = WordCloud(width = 800, height = 800,\n",
        "                background_color ='white',\n",
        "                stopwords = stopwords,\n",
        "                min_font_size = 10).generate(topic_topword_comment)\n",
        "\n",
        "f = plt.figure(1,figsize = (8, 8))\n",
        "plt.title('Words in Top Relevant 10 Docs')\n",
        "plt.axis(\"off\")\n",
        "plt.tight_layout(pad = 3.0)\n",
        "plt.imshow(wordcloud_top10_docs)\n",
        "g = plt.figure(2,figsize = (8, 8))\n",
        "plt.title(\"Top Words in k topics\")\n",
        "plt.axis(\"off\")\n",
        "plt.tight_layout(pad = 3.0)\n",
        "plt.imshow(wordcloud_topword_topics)\n",
        "plt.show()"
      ],
      "execution_count": null,
      "outputs": []
    },
    {
      "cell_type": "markdown",
      "metadata": {
        "id": "2p5lYecYtWFm"
      },
      "source": [
        "#Archive"
      ]
    },
    {
      "cell_type": "code",
      "metadata": {
        "id": "YSN6RiXaXiYq"
      },
      "source": [
        "plt.hist(x=all_rscores.data)\n",
        "\n",
        "\n",
        "from sklearn.preprocessing import MinMaxScaler\n",
        "scaler = MinMaxScaler()\n",
        "normalized_all_rscores = scaler.fit_transform(all_rscores.data.reshape(-1,1))\n",
        "normalized_all_rscores"
      ],
      "execution_count": null,
      "outputs": []
    },
    {
      "cell_type": "code",
      "metadata": {
        "id": "AIKqMyokYnQG"
      },
      "source": [
        "plt.hist(x=normalized_all_rscores)\n",
        "# print(normalized_all_rscores)\n",
        "np.max(normalized_all_rscores.flatten())"
      ],
      "execution_count": null,
      "outputs": []
    },
    {
      "cell_type": "code",
      "metadata": {
        "id": "Zyt072hYrLe9"
      },
      "source": [
        "# with open('neg_log_rscore_arr.txt', 'w') as filehandle:\n",
        "#     for listitem in neg_log_rscore_arr:\n",
        "#         filehandle.write('%s\\n' % listitem)"
      ],
      "execution_count": null,
      "outputs": []
    },
    {
      "cell_type": "code",
      "metadata": {
        "id": "_rbbelM5O9vj"
      },
      "source": [
        "all_words_in_docs=[]\n",
        "\n",
        "def doc_to_words(doc):\n",
        "  word_list=[]\n",
        "  for i in doc:\n",
        "    words = i.split()\n",
        "    word_list.append([w for w in words])\n",
        "  return word_list\n",
        "\n",
        "all_words_in_docs = doc_to_words(data_WoS_preprocessed)"
      ],
      "execution_count": null,
      "outputs": []
    },
    {
      "cell_type": "code",
      "metadata": {
        "id": "gu_wcnuhQ3y2"
      },
      "source": [
        "# data_20news_embedded = []\n",
        "# for word in all_words_in_docs:\n",
        "#   for w in word:\n",
        "#     try:\n",
        "#       type(word2vec_model[w])=='numpy.ndarray'\n",
        "#     except KeyError:\n",
        "#       word.remove(w)\n",
        "#   data_20news_embedded.append(' '.join(word))\n",
        "# # data_20news_embedded"
      ],
      "execution_count": null,
      "outputs": []
    },
    {
      "cell_type": "code",
      "metadata": {
        "id": "rgww2GGBQxlb"
      },
      "source": [
        "def flatten_list(user_list):\n",
        "  return [item for sublist in user_list for item in sublist]\n",
        "flatten_all_words = flatten_list(all_words_in_docs)\n",
        "# # flatten_embedded = flatten_list(data_20news_embedded)\n",
        "# # flatten_embedded"
      ],
      "execution_count": null,
      "outputs": []
    },
    {
      "cell_type": "code",
      "metadata": {
        "id": "xPpZcOA5R_FI"
      },
      "source": [
        "# len(set(flatten_all_words))"
      ],
      "execution_count": null,
      "outputs": []
    },
    {
      "cell_type": "code",
      "metadata": {
        "id": "rqoR2yotPR0y"
      },
      "source": [
        "count=0\n",
        "embeddings = {}\n",
        "\n",
        "for f in flatten_all_words:\n",
        "  try :\n",
        "     embeddings[f] = word2vec_model[f]\n",
        "  except KeyError:\n",
        "    count = count+1\n",
        "print( count / len(flatten_all_words)*100)"
      ],
      "execution_count": null,
      "outputs": []
    },
    {
      "cell_type": "code",
      "metadata": {
        "id": "nmaScPcQ8fFW"
      },
      "source": [
        "save_obj(embeddings,'embeddings_WoS')"
      ],
      "execution_count": null,
      "outputs": []
    },
    {
      "cell_type": "markdown",
      "metadata": {
        "id": "x7aT_AcryygB"
      },
      "source": [
        "> Keyword search in corpus: Returns docs with matching keywords\n"
      ]
    },
    {
      "cell_type": "code",
      "metadata": {
        "id": "yotYgCXX0s96"
      },
      "source": [
        "matching = [s for s in data_20news_preprocessed if \" sport \" in s]\n",
        "matching"
      ],
      "execution_count": null,
      "outputs": []
    },
    {
      "cell_type": "code",
      "metadata": {
        "id": "ZFiMVsBNmeXC"
      },
      "source": [
        "# !wget https://www.dropbox.com/s/yg1zf6hel0zxt3i/data_20news_preprocessed_labels.pkl\n",
        "# !wget https://www.dropbox.com/s/5drfxhzxz8nsy2l/embeddings_20news.pkl\n",
        "# !wget https://www.dropbox.com/s/756dcuil3mjdgus/data_20news_preprocessed.pkl"
      ],
      "execution_count": null,
      "outputs": []
    },
    {
      "cell_type": "markdown",
      "metadata": {
        "id": "dk4oWni-BmyK"
      },
      "source": [
        "# TFIDF"
      ]
    },
    {
      "cell_type": "code",
      "metadata": {
        "id": "-Cn3LWv9teLx"
      },
      "source": [
        "def cosine_similarity_desm_docs_tfidf(query_list, doc, embeddings):\n",
        "\n",
        "  sim_list = torch.zeros(len(doc))\n",
        "  index = 0\n",
        "\n",
        "  for d in doc:\n",
        "    doc_bar = torch.zeros(300)\n",
        "    words = d.split()\n",
        "    for word in words:\n",
        "      doc_bar.add_(torch.from_numpy(embeddings[word])/torch.norm(torch.from_numpy(embeddings[word])))\n",
        "    doc_bar = doc_bar / len(words)\n",
        "    sum = 0\n",
        "\n",
        "    for q in query_list:\n",
        "      sum += torch.dot(torch.from_numpy(embeddings[q]) , doc_bar)/(torch.norm(torch.from_numpy(embeddings[q]))*torch.norm(doc_bar))\n",
        "    sum = sum/len(query_list)\n",
        "    sim_list[index]=sum\n",
        "    index = index + 1\n",
        "\n",
        "  return sim_list"
      ],
      "execution_count": null,
      "outputs": []
    },
    {
      "cell_type": "code",
      "metadata": {
        "id": "o96bc037wCXv"
      },
      "source": [
        "tfidfvectorizer = TfidfVectorizer(min_df=5,dtype=np.float32,use_idf=True)\n",
        "tfIdf = tfidfvectorizer.fit_transform(data_preprocessed)\n",
        "df_tfidf = pd.DataFrame(tfIdf[0].T.todense(), index=tfidfvectorizer.get_feature_names(), columns=[\"TF-IDF\"])\n",
        "# df_tfidf = df_tfidf.sort_values('TF-IDF', ascending=False)\n",
        "df_tfidf"
      ],
      "execution_count": null,
      "outputs": []
    },
    {
      "cell_type": "code",
      "metadata": {
        "id": "WSxjafLpVnPz"
      },
      "source": [
        "list(vocab.values())[0]"
      ],
      "execution_count": null,
      "outputs": []
    },
    {
      "cell_type": "code",
      "metadata": {
        "id": "6OA8tbyvV-3E"
      },
      "source": [
        "df_tfidf[]"
      ],
      "execution_count": null,
      "outputs": []
    },
    {
      "cell_type": "code",
      "metadata": {
        "id": "lwVGOvzM93yh"
      },
      "source": [
        "df_doc_term_matrix = pd.DataFrame(tfIdf.toarray().transpose(),index=tfidfvectorizer.get_feature_names())\n",
        "df_doc_term_matrix_sum = df_doc_term_matrix.sum(axis=0)"
      ],
      "execution_count": null,
      "outputs": []
    },
    {
      "cell_type": "code",
      "metadata": {
        "id": "xWNkoElfS0Xc"
      },
      "source": [
        "df_doc_term_matrix"
      ],
      "execution_count": null,
      "outputs": []
    },
    {
      "cell_type": "code",
      "metadata": {
        "id": "y8O9PBVI-k_u"
      },
      "source": [
        "df_doc_term_matrix_sum.sort_values(ascending=True)"
      ],
      "execution_count": null,
      "outputs": []
    },
    {
      "cell_type": "markdown",
      "metadata": {
        "id": "x12xv1cuJLiR"
      },
      "source": [
        "\n",
        "# Google Pre-trained Model & Word2Vec | Data preprocessing\n",
        "\n"
      ]
    },
    {
      "cell_type": "code",
      "metadata": {
        "id": "L2C975-2JLiW"
      },
      "source": [
        "# !wget -c \"https://s3.amazonaws.com/dl4j-distribution/GoogleNews-vectors-negative300.bin.gz\""
      ],
      "execution_count": null,
      "outputs": []
    },
    {
      "cell_type": "code",
      "metadata": {
        "id": "b1uS0y3lJLiZ"
      },
      "source": [
        "# start=time()\n",
        "# !gunzip GoogleNews-vectors-negative300.bin.gz\n",
        "# print('Cell took %.2f seconds to run.' % (time() - start))"
      ],
      "execution_count": null,
      "outputs": []
    },
    {
      "cell_type": "code",
      "metadata": {
        "id": "RUgNS5EcJLib"
      },
      "source": [
        "# from gensim import models\n",
        "# word2vec_model = models.KeyedVectors.load_word2vec_format(\n",
        "#     'C:/Users/sanuj/Documents/FoTo/GoogleNews-vectors-negative300.bin/GoogleNews-vectors-negative300.bin', binary=True)\n",
        "# # print('Cell took %.2f seconds to run.' % (time() - start))"
      ],
      "execution_count": null,
      "outputs": []
    },
    {
      "cell_type": "code",
      "metadata": {
        "id": "eZ34cvzkJLid"
      },
      "source": [
        "# data_WoS_read = open(\"C:/Users/sanuj/Documents/FoTo/data/20News\", \"r\")\n",
        "# targets_WoS_read = open(\"C:/Users/sanuj/Documents/FoTo/data/WebOfScience/WOS46985/YL1.txt\", \"r\")\n",
        "# data_WoS = data_WoS_read.readlines()\n",
        "# targets_WoS = targets_WoS_read.readlines()"
      ],
      "execution_count": null,
      "outputs": []
    },
    {
      "cell_type": "code",
      "metadata": {
        "id": "BJikC_dbK4uJ"
      },
      "source": [
        "# data_WoS = [d.strip() for d in data_WoS]\n",
        "# targets_WoS = [int(d.strip()) for d in targets_WoS]"
      ],
      "execution_count": null,
      "outputs": []
    },
    {
      "cell_type": "code",
      "metadata": {
        "id": "fxv-8bIBM9e7"
      },
      "source": [
        "# labels_dict ={\n",
        "#     0 : \"Computer Science\",\n",
        "#     1 : \"Electrical Engineering\",\n",
        "#     2 : \"Psychology\",\n",
        "#     3 : \"Mechanical Engineering\",\n",
        "#     4 : \"Civil Engineering\",\n",
        "#     5 : \"Medical Science\",\n",
        "#     6 : \"Biochemistry\"}"
      ],
      "execution_count": null,
      "outputs": []
    },
    {
      "cell_type": "code",
      "metadata": {
        "id": "bFjzgbd1NfJ2"
      },
      "source": [
        "# targets_WoS_labels = [labels_dict[t] for t in targets_WoS]"
      ],
      "execution_count": null,
      "outputs": []
    },
    {
      "cell_type": "code",
      "metadata": {
        "cellView": "both",
        "id": "113Pr2zIJLig"
      },
      "source": [
        "# data_WoS_preprocessed = []\n",
        "# data_WoS_labels = []\n",
        "\n",
        "# for i in range(len(data_WoS)):\n",
        "#   doc = preprocessing_nonstem(data_WoS[i],word2vec_model)\n",
        "#   if(doc!=''):\n",
        "#     data_WoS_preprocessed.append(doc)\n",
        "#     data_WoS_labels.append(targets_WoS_labels[i])"
      ],
      "execution_count": null,
      "outputs": []
    },
    {
      "cell_type": "code",
      "metadata": {
        "id": "By9EDGuuJLii"
      },
      "source": [
        "# save_obj(data_WoS_preprocessed,'data_WoS_preprocessed')\n",
        "# save_obj(data_WoS_labels,'data_WoS_labels')"
      ],
      "execution_count": null,
      "outputs": []
    }
  ]
}