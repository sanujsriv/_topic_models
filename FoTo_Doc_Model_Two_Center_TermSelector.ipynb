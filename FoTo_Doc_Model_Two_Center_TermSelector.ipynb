{
  "nbformat": 4,
  "nbformat_minor": 0,
  "metadata": {
    "accelerator": "GPU",
    "colab": {
      "provenance": [],
      "collapsed_sections": [
        "TeQ-X4wx45iA",
        "oC_2iVJ0RxWY",
        "_H35cwZwSR2O",
        "XwcrBK2pe4Qc",
        "JtRrwY7L-oRL",
        "K0zQCuyY_kaq",
        "JM0IBTQv_s8T",
        "oCVawukWgxeH",
        "TPfQ0IUnPlfi"
      ],
      "toc_visible": true,
      "include_colab_link": true
    },
    "kernelspec": {
      "display_name": "Python 3",
      "name": "python3"
    }
  },
  "cells": [
    {
      "cell_type": "markdown",
      "metadata": {
        "id": "view-in-github",
        "colab_type": "text"
      },
      "source": [
        "<a href=\"https://colab.research.google.com/github/sanujsriv/_topic_models/blob/FoTo/FoTo_Doc_Model_Two_Center_TermSelector.ipynb\" target=\"_parent\"><img src=\"https://colab.research.google.com/assets/colab-badge.svg\" alt=\"Open In Colab\"/></a>"
      ]
    },
    {
      "cell_type": "code",
      "metadata": {
        "id": "GWcqnMCHQ04d",
        "colab": {
          "base_uri": "https://localhost:8080/"
        },
        "outputId": "066e4dda-062e-4537-f807-c306d24634a3"
      },
      "source": [
        "rm -r *.pkl*"
      ],
      "execution_count": null,
      "outputs": [
        {
          "output_type": "stream",
          "text": [
            "rm: cannot remove '*.pkl*': No such file or directory\n"
          ],
          "name": "stdout"
        }
      ]
    },
    {
      "cell_type": "markdown",
      "metadata": {
        "id": "TeQ-X4wx45iA"
      },
      "source": [
        "# **Download Data (Documents)**"
      ]
    },
    {
      "cell_type": "code",
      "metadata": {
        "id": "soLvVis5433m"
      },
      "source": [
        "def download_twenty_news():\n",
        "  !wget https://www.dropbox.com/s/09y9y1h0xk3cxaj/embeddings_twentynews.pkl\n",
        "  !wget https://www.dropbox.com/s/ewv3vcwgll0r8a7/data_twentynews_labels.pkl\n",
        "  !wget https://www.dropbox.com/s/chpjn9lzr7rmn2k/fixed_data_twentynews_preprocessed.pkl"
      ],
      "execution_count": null,
      "outputs": []
    },
    {
      "cell_type": "code",
      "metadata": {
        "id": "xtI_f7qHCr9e",
        "cellView": "both"
      },
      "source": [
        "def download_reuters():\n",
        "  !wget https://www.dropbox.com/s/8khmuj31il8zgkp/data_reuters_labels.pkl\n",
        "  !wget https://www.dropbox.com/s/bgc1ht0jsyjed6s/embeddings_reuters.pkl\n",
        "  !wget https://www.dropbox.com/s/9fk30bjzeefvhgl/data_reuters_preprocessed.pkl"
      ],
      "execution_count": null,
      "outputs": []
    },
    {
      "cell_type": "code",
      "metadata": {
        "id": "iN4Hx3KwtKG3"
      },
      "source": [
        "def download_webkb():\n",
        "  !wget https://www.dropbox.com/s/wz88fk42r0viqvo/data_webkb_preprocessed.pkl\n",
        "  !wget https://www.dropbox.com/s/8oi5qactwrar1ad/data_webkb_labels.pkl\n",
        "  !wget https://www.dropbox.com/s/go7r4h39q6l01d5/embeddings_webkb.pkl"
      ],
      "execution_count": null,
      "outputs": []
    },
    {
      "cell_type": "code",
      "metadata": {
        "id": "Yo_CWo9pslxT"
      },
      "source": [
        "def download_WoS():\n",
        "  !wget https://www.dropbox.com/s/c6wlr148lhwsbaz/embeddings_wos.pkl\n",
        "  !wget https://www.dropbox.com/s/j96061ln6oeejkf/data_wos_preprocessed.pkl\n",
        "  !wget https://www.dropbox.com/s/kiffa4nidkjt7wi/data_wos_labels.pkl"
      ],
      "execution_count": null,
      "outputs": []
    },
    {
      "cell_type": "code",
      "metadata": {
        "id": "pciXVjzayvYx"
      },
      "source": [
        "import os\n",
        "def download_unzip_crowdgender():\n",
        "  !wget https://www.dropbox.com/s/trz5uph29b0t0eg/data_crowder.zip\n",
        "  os.system('unzip data_crowder.zip')"
      ],
      "execution_count": null,
      "outputs": []
    },
    {
      "cell_type": "code",
      "metadata": {
        "id": "d2jRZizJ5Te5"
      },
      "source": [
        "def download_data(data):\n",
        "  data = data.lower()\n",
        "  if data == 'reuters':\n",
        "    download_reuters()\n",
        "  elif data == 'twenty_news':\n",
        "    download_twenty_news()\n",
        "  elif data == 'crowdgender':\n",
        "   download_unzip_crowdgender()\n",
        "  elif data == 'webkb':\n",
        "    download_webkb()\n",
        "  elif data == 'wos':\n",
        "    download_WoS()"
      ],
      "execution_count": null,
      "outputs": []
    },
    {
      "cell_type": "markdown",
      "metadata": {
        "id": "oC_2iVJ0RxWY"
      },
      "source": [
        "#**0. Just Run these..**"
      ]
    },
    {
      "cell_type": "code",
      "metadata": {
        "id": "gn9JFNO4qjuf",
        "cellView": "form"
      },
      "source": [
        "#@title Imports\n",
        "# from sympy.stats import RaisedCosine, density\n",
        "import torch\n",
        "import pandas as pd\n",
        "from torch import nn\n",
        "import re\n",
        "from time import time\n",
        "import numpy as np\n",
        "import collections\n",
        "import gc\n",
        "from sklearn.feature_extraction.text import CountVectorizer\n",
        "import torch.nn\n",
        "cos_sim = nn.CosineSimilarity(dim=-1,eps=1e-08)\n",
        "# from nltk.corpus import stopwords"
      ],
      "execution_count": null,
      "outputs": []
    },
    {
      "cell_type": "code",
      "metadata": {
        "id": "EivGqJ7vBoAo",
        "cellView": "form"
      },
      "source": [
        "#@title function : load / save pickle_obj\n",
        "import pickle\n",
        "\n",
        "def save_obj(obj, name):\n",
        "    with open(name + '.pkl', 'wb') as f:\n",
        "        pickle.dump(obj, f, pickle.HIGHEST_PROTOCOL)\n",
        "\n",
        "def load_obj(name):\n",
        "    with open(name + '.pkl', 'rb') as f:\n",
        "        return pickle.load(f)"
      ],
      "execution_count": null,
      "outputs": []
    },
    {
      "cell_type": "code",
      "metadata": {
        "id": "wUua0C3EUnLc",
        "cellView": "form"
      },
      "source": [
        "#@title Data Loading functions..\n",
        "\n",
        "def load_crowdgender():\n",
        "  data_preprocessed = load_obj('data_crowdgender_preprocessed')\n",
        "  data_preprocessed_labels = load_obj(\"data_crowdgender_labels\")\n",
        "  embeddings = load_obj('embeddings_crowdgender')\n",
        "  return data_preprocessed,data_preprocessed_labels,embeddings,load_crowdgender.__name__\n",
        "\n",
        "def load_reuters():\n",
        "  embeddings = load_obj('embeddings_reuters')\n",
        "  data_preprocessed = load_obj('data_reuters_preprocessed')\n",
        "  data_preprocessed_labels = load_obj(\"data_reuters_labels\")\n",
        "  return data_preprocessed,data_preprocessed_labels,embeddings,load_reuters.__name__\n",
        "\n",
        "def new_50_twenty_news():\n",
        "  embeddings = load_obj('50_embeddings_twentynews_docs')\n",
        "  data_preprocessed = load_obj('50_data_twentynews_preprocessed_docs')\n",
        "  data_preprocessed_labels = load_obj(\"50_data_twentynews_labels_docs\")\n",
        "  return data_preprocessed,data_preprocessed_labels,embeddings,new_50_twenty_news.__name__\n",
        "\n",
        "def new_50_twenty_news_sent():\n",
        "  embeddings = load_obj('50_embeddings_twentynews_docs')\n",
        "  data_preprocessed = load_obj('50_data_twentynews_preprocessed_sent')\n",
        "  data_preprocessed_labels = load_obj(\"50_data_twentynews_labels_sent\")\n",
        "  doc_sent_id = load_obj('50_doc_id_sent')\n",
        "  return data_preprocessed,data_preprocessed_labels,embeddings,doc_sent_id,new_50_twenty_news_sent.__name__\n",
        "\n",
        "\n",
        "def load_20News_50():\n",
        "  embeddings = load_obj('50_embeddings_load_20news_docs')\n",
        "  data_preprocessed = load_obj('50_docs_preprocessed')\n",
        "  data_preprocessed_labels = load_obj(\"50_docs_labels\")\n",
        "  return data_preprocessed,data_preprocessed_labels,embeddings,load_20News_50.__name__\n",
        "\n",
        "def load_20News_50_sentences():\n",
        "  embeddings = load_obj('50_embeddings_load_20news_docs')\n",
        "  data_preprocessed = load_obj('50_data_load_20news_sentences_preprocessed')\n",
        "  data_preprocessed_labels = load_obj(\"50_data_load_20news_sentences_labels\")\n",
        "  doc_sent_id = load_obj('50_doc_id_sent_load_20news_sentences')\n",
        "  return data_preprocessed,data_preprocessed_labels,embeddings,doc_sent_id,load_20News_50_sentences.__name__\n",
        "\n",
        "def load_20News():\n",
        "  embeddings = load_obj('embeddings_twentynews')\n",
        "  # data_preprocessed = load_obj('data_twentynews_preprocessed')\n",
        "  data_preprocessed = load_obj('fixed_data_twentynews_preprocessed')\n",
        "  data_preprocessed_labels = load_obj(\"data_twentynews_labels\")\n",
        "  return data_preprocessed,data_preprocessed_labels,embeddings,load_20News.__name__\n",
        "\n",
        "def load_20News_sentences():\n",
        "  embeddings = load_obj('embeddings_twentynews_sent')\n",
        "  data_preprocessed = load_obj('data_twentynews_preprocessed_sent')\n",
        "  data_preprocessed_labels = load_obj(\"data_twentynews_labels_sent\")\n",
        "  doc_sent_id = load_obj('doc_id_sent_twentynews')\n",
        "  return data_preprocessed,data_preprocessed_labels,embeddings,doc_sent_id,load_20News_sentences.__name__\n",
        "\n",
        "def load_20News_reuters():\n",
        "  data_preprocessed = load_obj('data_reuters_preprocessed')\n",
        "  data_preprocessed_labels = load_obj(\"data_reuters_labels\")\n",
        "  embeddings = load_obj('embeddings_reuters')\n",
        "  data_preprocessed.extend(load_obj('data_20News_preprocessed'))\n",
        "  data_preprocessed_labels.extend(load_obj(\"data_20news_preprocessed_labels\"))\n",
        "  embeddings.update(load_obj('embeddings_20news'))\n",
        "  return data_preprocessed,data_preprocessed_labels,embeddings,load_20News_reuters.__name__\n",
        "\n",
        "def load_r52():\n",
        "  data_preprocessed = load_obj('data_r52_preprocessed')\n",
        "  data_preprocessed_labels = load_obj(\"data_r52_labels\")\n",
        "  embeddings = load_obj('embeddings_r52')\n",
        "  return data_preprocessed,data_preprocessed_labels,embeddings,load_r52.__name__\n",
        "\n",
        "def load_WebKb():\n",
        "  data_preprocessed = load_obj('data_webkb_preprocessed')\n",
        "  data_preprocessed_labels = load_obj(\"data_webkb_labels\")\n",
        "  embeddings = load_obj('embeddings_webkb')\n",
        "  return data_preprocessed,data_preprocessed_labels,embeddings,load_WebKb.__name__\n",
        "\n",
        "def load_WoS():\n",
        "  data_preprocessed = load_obj('data_wos_preprocessed')\n",
        "  data_preprocessed_labels = load_obj(\"data_wos_labels\")\n",
        "  embeddings = load_obj('embeddings_wos')\n",
        "  return data_preprocessed,data_preprocessed_labels,embeddings,load_WoS.__name__\n",
        "def load_arXiv():\n",
        "  data_preprocessed = load_obj('data_arxiv_preprocessed')\n",
        "  data_preprocessed_labels = load_obj(\"data_arxiv_labels\")\n",
        "  embeddings = load_obj('embeddings_arxiv')\n",
        "  return data_preprocessed,data_preprocessed_labels,embeddings,load_arXiv.__name__"
      ],
      "execution_count": null,
      "outputs": []
    },
    {
      "cell_type": "code",
      "metadata": {
        "id": "8R4SK4-e6Aec",
        "cellView": "form"
      },
      "source": [
        "# @title get_keywords\n",
        "def get_keywords(data):\n",
        "  keywords_arxiv = ['molecular ','stimulation','liquid','fluid']\n",
        "  keywords_webkb = ['student','department','india']\n",
        "  keywords_r52 = ['mutual','fund','market','money']\n",
        "\n",
        "  keywords_WoS = ['pediatric','protein','clone']\n",
        "  keywords_20News_Reuters = ['oil','price','opec','bpd','barrel','saudi','production','mln','crude']\n",
        "\n",
        "  # keywords_reuters = ['company', 'analyst', 'offer', 'pct', 'takeover', 'merger', 'record', 'dividend', 'pay', 'stock']\n",
        "  # keywords_reuters = ['stock', 'dividend', 'inc']\n",
        "  # keywords_reuters = ['oil','crude','ship']\n",
        "  # keywords =['stock']\n",
        "  keywords_reuters = ['usa']\n",
        "\n",
        "  keywords_crowdgender = ['housewife','girl','beautiful','blonde']\n",
        "\n",
        "  keywords_20News = ['sport','game','baseball']\n",
        "  # keywords_20News = ['looking' ,'add', 'voice' ,'input', 'capability', 'user', 'interface']\n",
        "  keywords=[]\n",
        "  data = data.lower()\n",
        "  if data=='reuters': keywords = keywords_reuters\n",
        "  elif data=='twenty_news':keywords = keywords_20News\n",
        "  elif data=='crowdgender':keywords = keywords_crowdgender\n",
        "  elif data=='webkb':keywords = keywords_webkb\n",
        "  else:\n",
        "    print('keyword list not found!!!')\n",
        "  return keywords"
      ],
      "execution_count": null,
      "outputs": []
    },
    {
      "cell_type": "code",
      "metadata": {
        "id": "ajHkB_vb7xza",
        "cellView": "form"
      },
      "source": [
        "#@title DESM Score\n",
        "def cosine_similarity_desm_docs(query_list, train_vec, vocab, embeddings):\n",
        "  num_docs = len(train_vec)\n",
        "  num_voc = len(vocab)\n",
        "  sim_list = torch.zeros(num_docs)\n",
        "  index = 0\n",
        "  id_vocab = dict(map(reversed, vocab.items()))\n",
        "  for d in range(num_docs):\n",
        "    if(d%5000==0): print(d)\n",
        "    doc_bar = torch.zeros(300)\n",
        "    doc_length = 0\n",
        "    for v in range(num_voc):\n",
        "      if(train_vec[d][v] > 0):\n",
        "        doc_bar.add_(train_vec[d][v] * torch.from_numpy(embeddings[id_vocab[v]])/torch.norm(torch.from_numpy(embeddings[id_vocab[v]])))\n",
        "        doc_length = doc_length + train_vec[d][v]\n",
        "    doc_bar = doc_bar / doc_length\n",
        "    sum = 0\n",
        "\n",
        "    for q in query_list:\n",
        "      sum += torch.dot(torch.from_numpy(embeddings[q]) , doc_bar)/(torch.norm(torch.from_numpy(embeddings[q]))*torch.norm(doc_bar))\n",
        "    sum = sum/len(query_list)\n",
        "    sim_list[index]=sum\n",
        "    index = index + 1\n",
        "\n",
        "  return sim_list"
      ],
      "execution_count": null,
      "outputs": []
    },
    {
      "cell_type": "markdown",
      "metadata": {
        "id": "tFms0ZiwR5TF"
      },
      "source": [
        "# **1. Data Loading**"
      ]
    },
    {
      "cell_type": "code",
      "metadata": {
        "id": "vMyE4tXd5q-e",
        "colab": {
          "base_uri": "https://localhost:8080/"
        },
        "outputId": "17be189b-9120-4640-9893-2a510356702f"
      },
      "source": [
        "#### Data Downloading ####\n",
        "d_data= 'reuters' # reuters, twenty_news, webkb, wos, crowdgender\n",
        "download_data(d_data) ### Run Once"
      ],
      "execution_count": null,
      "outputs": [
        {
          "output_type": "stream",
          "text": [
            "--2021-04-22 23:23:45--  https://www.dropbox.com/s/8khmuj31il8zgkp/data_reuters_labels.pkl\n",
            "Resolving www.dropbox.com (www.dropbox.com)... 162.125.1.18, 2620:100:601a:18::a27d:712\n",
            "Connecting to www.dropbox.com (www.dropbox.com)|162.125.1.18|:443... connected.\n",
            "HTTP request sent, awaiting response... 301 Moved Permanently\n",
            "Location: /s/raw/8khmuj31il8zgkp/data_reuters_labels.pkl [following]\n",
            "--2021-04-22 23:23:45--  https://www.dropbox.com/s/raw/8khmuj31il8zgkp/data_reuters_labels.pkl\n",
            "Reusing existing connection to www.dropbox.com:443.\n",
            "HTTP request sent, awaiting response... 302 Found\n",
            "Location: https://uce69f6b4a69448ce8f1f0da5f62.dl.dropboxusercontent.com/cd/0/inline/BNJ8dehK0Jfz6MePnEd83awI6emF3pq_xu0FhEfbv8g7WsoXnHI7NjipVZdKUjF4BHVGEfdno-XpfyTJ1U1_zaxH5Xdm_i6MPaTQJFaHPhp61QjQJseWwKLPxhRUOzWQHKhXQmUm7qOPVZyWZ3xb6wPA/file# [following]\n",
            "--2021-04-22 23:23:46--  https://uce69f6b4a69448ce8f1f0da5f62.dl.dropboxusercontent.com/cd/0/inline/BNJ8dehK0Jfz6MePnEd83awI6emF3pq_xu0FhEfbv8g7WsoXnHI7NjipVZdKUjF4BHVGEfdno-XpfyTJ1U1_zaxH5Xdm_i6MPaTQJFaHPhp61QjQJseWwKLPxhRUOzWQHKhXQmUm7qOPVZyWZ3xb6wPA/file\n",
            "Resolving uce69f6b4a69448ce8f1f0da5f62.dl.dropboxusercontent.com (uce69f6b4a69448ce8f1f0da5f62.dl.dropboxusercontent.com)... 162.125.1.15, 2620:100:601a:15::a27d:70f\n",
            "Connecting to uce69f6b4a69448ce8f1f0da5f62.dl.dropboxusercontent.com (uce69f6b4a69448ce8f1f0da5f62.dl.dropboxusercontent.com)|162.125.1.15|:443... connected.\n",
            "HTTP request sent, awaiting response... 200 OK\n",
            "Length: 54463 (53K) [text/plain]\n",
            "Saving to: ‘data_reuters_labels.pkl’\n",
            "\n",
            "data_reuters_labels 100%[===================>]  53.19K  --.-KB/s    in 0.01s   \n",
            "\n",
            "2021-04-22 23:23:46 (4.63 MB/s) - ‘data_reuters_labels.pkl’ saved [54463/54463]\n",
            "\n",
            "--2021-04-22 23:23:46--  https://www.dropbox.com/s/bgc1ht0jsyjed6s/embeddings_reuters.pkl\n",
            "Resolving www.dropbox.com (www.dropbox.com)... 162.125.1.18, 2620:100:601a:18::a27d:712\n",
            "Connecting to www.dropbox.com (www.dropbox.com)|162.125.1.18|:443... connected.\n",
            "HTTP request sent, awaiting response... 301 Moved Permanently\n",
            "Location: /s/raw/bgc1ht0jsyjed6s/embeddings_reuters.pkl [following]\n",
            "--2021-04-22 23:23:46--  https://www.dropbox.com/s/raw/bgc1ht0jsyjed6s/embeddings_reuters.pkl\n",
            "Reusing existing connection to www.dropbox.com:443.\n",
            "HTTP request sent, awaiting response... 302 Found\n",
            "Location: https://uc870b280de73b1008d3967bba3f.dl.dropboxusercontent.com/cd/0/inline/BNJmARwz8mmpDRRNFgXOCIHGaWOCvO0pdTSqk7kX4Y1BA_IxLSJwxFMkybhwGcSHoRH1VD-ZPoiUUlGU763PnBEB7nAvnxS6cROLcv7la3EyJcn3cs9n-e45yGtNMefBXJPgHRZE-Cf_PIzb8Z3By43U/file# [following]\n",
            "--2021-04-22 23:23:47--  https://uc870b280de73b1008d3967bba3f.dl.dropboxusercontent.com/cd/0/inline/BNJmARwz8mmpDRRNFgXOCIHGaWOCvO0pdTSqk7kX4Y1BA_IxLSJwxFMkybhwGcSHoRH1VD-ZPoiUUlGU763PnBEB7nAvnxS6cROLcv7la3EyJcn3cs9n-e45yGtNMefBXJPgHRZE-Cf_PIzb8Z3By43U/file\n",
            "Resolving uc870b280de73b1008d3967bba3f.dl.dropboxusercontent.com (uc870b280de73b1008d3967bba3f.dl.dropboxusercontent.com)... 162.125.1.15, 2620:100:601a:15::a27d:70f\n",
            "Connecting to uc870b280de73b1008d3967bba3f.dl.dropboxusercontent.com (uc870b280de73b1008d3967bba3f.dl.dropboxusercontent.com)|162.125.1.15|:443... connected.\n",
            "HTTP request sent, awaiting response... 302 Found\n",
            "Location: /cd/0/inline2/BNKbKBY1-KC-ZtKeSi7M7jqknqkoqR0RmqsBkRnaeXvSBfPMa-J7YnJLTPPZRNd0TDq0E_P8B-eMLf-GB_wKksaHDRuUjtvLLDHSUkxoVCPTA6pmoxtTkm4tTh791sIofIyavFutrztDm6pJpcdAdNqGeH6f8isFf9UZsPCuoMtfjrR1erm3jqXcFl7uQ-O-p3sfrvSAHqj_htHmYXSHSlYFKrr3O-0VKgjUZoosBe303g1ADgHYA5_RhAKwibSgbt1w3MmzQq9C-kdj1XnSBe54CBPkHa3zMbkYq-iv2JKv9SO-U1C5zXuKDDITm2mBP5fgZi_NpuMEJ0HqkyvZwvflqNuDrwE6aJCWwpAED3vYeuqy62O3Cl59UeV--QD2zcU/file [following]\n",
            "--2021-04-22 23:23:47--  https://uc870b280de73b1008d3967bba3f.dl.dropboxusercontent.com/cd/0/inline2/BNKbKBY1-KC-ZtKeSi7M7jqknqkoqR0RmqsBkRnaeXvSBfPMa-J7YnJLTPPZRNd0TDq0E_P8B-eMLf-GB_wKksaHDRuUjtvLLDHSUkxoVCPTA6pmoxtTkm4tTh791sIofIyavFutrztDm6pJpcdAdNqGeH6f8isFf9UZsPCuoMtfjrR1erm3jqXcFl7uQ-O-p3sfrvSAHqj_htHmYXSHSlYFKrr3O-0VKgjUZoosBe303g1ADgHYA5_RhAKwibSgbt1w3MmzQq9C-kdj1XnSBe54CBPkHa3zMbkYq-iv2JKv9SO-U1C5zXuKDDITm2mBP5fgZi_NpuMEJ0HqkyvZwvflqNuDrwE6aJCWwpAED3vYeuqy62O3Cl59UeV--QD2zcU/file\n",
            "Reusing existing connection to uc870b280de73b1008d3967bba3f.dl.dropboxusercontent.com:443.\n",
            "HTTP request sent, awaiting response... 200 OK\n",
            "Length: 16984897 (16M) [application/octet-stream]\n",
            "Saving to: ‘embeddings_reuters.pkl’\n",
            "\n",
            "embeddings_reuters. 100%[===================>]  16.20M  88.8MB/s    in 0.2s    \n",
            "\n",
            "2021-04-22 23:23:48 (88.8 MB/s) - ‘embeddings_reuters.pkl’ saved [16984897/16984897]\n",
            "\n",
            "--2021-04-22 23:23:48--  https://www.dropbox.com/s/9fk30bjzeefvhgl/data_reuters_preprocessed.pkl\n",
            "Resolving www.dropbox.com (www.dropbox.com)... 162.125.1.18, 2620:100:601a:18::a27d:712\n",
            "Connecting to www.dropbox.com (www.dropbox.com)|162.125.1.18|:443... connected.\n",
            "HTTP request sent, awaiting response... 301 Moved Permanently\n",
            "Location: /s/raw/9fk30bjzeefvhgl/data_reuters_preprocessed.pkl [following]\n",
            "--2021-04-22 23:23:48--  https://www.dropbox.com/s/raw/9fk30bjzeefvhgl/data_reuters_preprocessed.pkl\n",
            "Reusing existing connection to www.dropbox.com:443.\n",
            "HTTP request sent, awaiting response... 302 Found\n",
            "Location: https://uc25fae373e4b48a626ff64c32c0.dl.dropboxusercontent.com/cd/0/inline/BNJCyWNOjyXuVVIGA9PAqHp-6ilTR_qC7a1i-oUPLhJP42imIaLTyIHqD86Yx10VslqJAx_a1KL9Oqn8ZxJpYrhMs0_jPhN4qktPlTShkoY0zd0y5uIPhsrTIHooFvlRDdEUPFmQZloiarcmesM7uc-t/file# [following]\n",
            "--2021-04-22 23:23:48--  https://uc25fae373e4b48a626ff64c32c0.dl.dropboxusercontent.com/cd/0/inline/BNJCyWNOjyXuVVIGA9PAqHp-6ilTR_qC7a1i-oUPLhJP42imIaLTyIHqD86Yx10VslqJAx_a1KL9Oqn8ZxJpYrhMs0_jPhN4qktPlTShkoY0zd0y5uIPhsrTIHooFvlRDdEUPFmQZloiarcmesM7uc-t/file\n",
            "Resolving uc25fae373e4b48a626ff64c32c0.dl.dropboxusercontent.com (uc25fae373e4b48a626ff64c32c0.dl.dropboxusercontent.com)... 162.125.1.15, 2620:100:601a:15::a27d:70f\n",
            "Connecting to uc25fae373e4b48a626ff64c32c0.dl.dropboxusercontent.com (uc25fae373e4b48a626ff64c32c0.dl.dropboxusercontent.com)|162.125.1.15|:443... connected.\n",
            "HTTP request sent, awaiting response... 200 OK\n",
            "Length: 3266493 (3.1M) [text/plain]\n",
            "Saving to: ‘data_reuters_preprocessed.pkl’\n",
            "\n",
            "data_reuters_prepro 100%[===================>]   3.11M  --.-KB/s    in 0.08s   \n",
            "\n",
            "2021-04-22 23:23:50 (39.4 MB/s) - ‘data_reuters_preprocessed.pkl’ saved [3266493/3266493]\n",
            "\n"
          ],
          "name": "stdout"
        }
      ]
    },
    {
      "cell_type": "code",
      "metadata": {
        "colab": {
          "base_uri": "https://localhost:8080/"
        },
        "id": "cyaMXtJl4PlX",
        "outputId": "05e70ba0-cb5b-4062-ed6f-e3ebb46f26f3"
      },
      "source": [
        "import nltk\n",
        "from nltk import word_tokenize\n",
        "nltk.download('punkt')\n",
        "def doc_remove_extra_stopwords(doc):\n",
        "  extra_stopwords = ['la','wa','will','fa','ha','pa','co','v','said']\n",
        "  doc = word_tokenize(doc)\n",
        "  doc = filter(lambda x:x not in extra_stopwords, doc)\n",
        "  doc = ' '.join(e for e in doc)\n",
        "  return doc"
      ],
      "execution_count": null,
      "outputs": [
        {
          "output_type": "stream",
          "text": [
            "[nltk_data] Downloading package punkt to /root/nltk_data...\n",
            "[nltk_data]   Unzipping tokenizers/punkt.zip.\n"
          ],
          "name": "stdout"
        }
      ]
    },
    {
      "cell_type": "code",
      "metadata": {
        "id": "1MN4t01dDLCs",
        "colab": {
          "base_uri": "https://localhost:8080/"
        },
        "outputId": "3026aa7b-dfe9-4e7e-e65d-fbe101562816"
      },
      "source": [
        "# ##### Data loading #####\n",
        "loaded_data = load_reuters()\n",
        "##########################\n",
        "\n",
        "data_preprocessed , data_preprocessed_labels , embeddings, name = loaded_data\n",
        "for d in range(len(data_preprocessed)):\n",
        "  data_preprocessed[d] = doc_remove_extra_stopwords(data_preprocessed[d])\n",
        "print(name,len(data_preprocessed_labels),len(data_preprocessed),len(embeddings))"
      ],
      "execution_count": null,
      "outputs": [
        {
          "output_type": "stream",
          "text": [
            "load_reuters 7674 7674 13651\n"
          ],
          "name": "stdout"
        }
      ]
    },
    {
      "cell_type": "code",
      "metadata": {
        "cellView": "both",
        "colab": {
          "base_uri": "https://localhost:8080/"
        },
        "id": "2gU5icTALJTS",
        "outputId": "9314e36c-94bd-46dc-8788-a626899fb525"
      },
      "source": [
        "preprossed_data = data_preprocessed\n",
        "train_label = data_preprocessed_labels\n",
        "vectorizer = CountVectorizer(min_df=10)\n",
        "train_vec = vectorizer.fit_transform(preprossed_data).toarray()\n",
        "vocab = vectorizer.vocabulary_\n",
        "id_vocab = dict(map(reversed, vocab.items()))\n",
        "nonzeros_indexes = np.where(train_vec.any(1))[0]\n",
        "train_vec_non_zeros = [train_vec[i] for i in nonzeros_indexes]\n",
        "preprossed_data_non_zeros = [preprossed_data[i] for i in nonzeros_indexes]\n",
        "train_label = [data_preprocessed_labels[i] for i in nonzeros_indexes]\n",
        "train_vec = np.asanyarray(train_vec_non_zeros)\n",
        "print(train_vec)\n",
        "print(train_label)\n",
        "print(vocab)"
      ],
      "execution_count": null,
      "outputs": [
        {
          "output_type": "stream",
          "text": [
            "[[0 0 0 ... 0 0 0]\n",
            " [0 0 0 ... 0 0 0]\n",
            " [0 0 0 ... 0 0 0]\n",
            " ...\n",
            " [0 0 0 ... 0 0 0]\n",
            " [0 0 0 ... 0 0 0]\n",
            " [0 0 0 ... 0 0 0]]\n",
            "['earn', 'acq', 'earn', 'earn', 'earn', 'earn', 'earn', 'earn', 'earn', 'earn', 'earn', 'earn', 'earn', 'earn', 'acq', 'trade', 'ship', 'earn', 'earn', 'earn', 'ship', 'earn', 'earn', 'earn', 'acq', 'earn', 'earn', 'earn', 'earn', 'earn', 'earn', 'earn', 'earn', 'earn', 'acq', 'earn', 'earn', 'acq', 'earn', 'earn', 'grain', 'acq', 'earn', 'crude', 'acq', 'earn', 'earn', 'acq', 'acq', 'grain', 'earn', 'earn', 'earn', 'earn', 'earn', 'crude', 'earn', 'earn', 'earn', 'earn', 'earn', 'acq', 'acq', 'earn', 'acq', 'earn', 'earn', 'earn', 'earn', 'earn', 'earn', 'earn', 'earn', 'acq', 'acq', 'earn', 'crude', 'crude', 'crude', 'earn', 'acq', 'earn', 'earn', 'earn', 'crude', 'earn', 'earn', 'interest', 'interest', 'crude', 'crude', 'crude', 'crude', 'money-fx', 'crude', 'money-fx', 'acq', 'trade', 'crude', 'earn', 'ship', 'acq', 'earn', 'acq', 'acq', 'acq', 'earn', 'interest', 'acq', 'acq', 'trade', 'trade', 'earn', 'crude', 'crude', 'crude', 'trade', 'earn', 'acq', 'acq', 'acq', 'acq', 'acq', 'acq', 'acq', 'earn', 'acq', 'earn', 'acq', 'acq', 'earn', 'acq', 'earn', 'earn', 'acq', 'earn', 'acq', 'earn', 'acq', 'acq', 'earn', 'earn', 'earn', 'earn', 'acq', 'earn', 'earn', 'acq', 'earn', 'earn', 'earn', 'acq', 'earn', 'acq', 'earn', 'earn', 'acq', 'acq', 'acq', 'acq', 'earn', 'earn', 'earn', 'crude', 'earn', 'earn', 'earn', 'acq', 'earn', 'acq', 'acq', 'earn', 'earn', 'earn', 'crude', 'earn', 'earn', 'acq', 'acq', 'acq', 'crude', 'acq', 'acq', 'earn', 'earn', 'earn', 'crude', 'earn', 'earn', 'earn', 'earn', 'ship', 'earn', 'earn', 'earn', 'earn', 'earn', 'earn', 'acq', 'earn', 'earn', 'earn', 'earn', 'earn', 'earn', 'earn', 'crude', 'acq', 'earn', 'acq', 'earn', 'acq', 'acq', 'earn', 'acq', 'earn', 'earn', 'earn', 'acq', 'acq', 'earn', 'ship', 'acq', 'earn', 'acq', 'earn', 'earn', 'earn', 'earn', 'earn', 'earn', 'earn', 'earn', 'earn', 'earn', 'earn', 'earn', 'earn', 'earn', 'acq', 'crude', 'acq', 'earn', 'acq', 'acq', 'acq', 'earn', 'trade', 'earn', 'acq', 'acq', 'earn', 'earn', 'acq', 'acq', 'earn', 'acq', 'acq', 'earn', 'acq', 'earn', 'acq', 'acq', 'earn', 'acq', 'earn', 'acq', 'acq', 'acq', 'acq', 'earn', 'earn', 'earn', 'earn', 'earn', 'earn', 'earn', 'acq', 'crude', 'acq', 'earn', 'earn', 'earn', 'acq', 'earn', 'crude', 'acq', 'earn', 'acq', 'acq', 'earn', 'earn', 'acq', 'acq', 'acq', 'earn', 'acq', 'ship', 'earn', 'earn', 'earn', 'earn', 'earn', 'crude', 'earn', 'acq', 'earn', 'earn', 'earn', 'trade', 'earn', 'interest', 'interest', 'money-fx', 'acq', 'crude', 'earn', 'earn', 'trade', 'trade', 'crude', 'acq', 'acq', 'acq', 'crude', 'earn', 'crude', 'earn', 'acq', 'acq', 'earn', 'ship', 'earn', 'earn', 'acq', 'earn', 'acq', 'earn', 'earn', 'acq', 'earn', 'trade', 'earn', 'earn', 'acq', 'earn', 'earn', 'earn', 'earn', 'earn', 'earn', 'earn', 'earn', 'earn', 'earn', 'acq', 'trade', 'earn', 'acq', 'acq', 'earn', 'acq', 'earn', 'earn', 'ship', 'earn', 'earn', 'earn', 'earn', 'earn', 'earn', 'acq', 'acq', 'interest', 'earn', 'earn', 'earn', 'money-fx', 'earn', 'earn', 'earn', 'acq', 'earn', 'acq', 'acq', 'earn', 'earn', 'earn', 'earn', 'earn', 'acq', 'interest', 'earn', 'acq', 'earn', 'interest', 'earn', 'earn', 'earn', 'earn', 'earn', 'earn', 'earn', 'acq', 'earn', 'acq', 'earn', 'acq', 'earn', 'earn', 'earn', 'earn', 'earn', 'earn', 'earn', 'earn', 'earn', 'earn', 'earn', 'earn', 'earn', 'trade', 'earn', 'trade', 'earn', 'trade', 'acq', 'earn', 'earn', 'acq', 'trade', 'acq', 'acq', 'acq', 'earn', 'trade', 'acq', 'earn', 'earn', 'acq', 'earn', 'acq', 'earn', 'earn', 'earn', 'earn', 'earn', 'earn', 'earn', 'earn', 'earn', 'earn', 'acq', 'earn', 'acq', 'earn', 'earn', 'earn', 'earn', 'earn', 'acq', 'acq', 'earn', 'earn', 'grain', 'earn', 'acq', 'crude', 'earn', 'earn', 'earn', 'earn', 'acq', 'earn', 'earn', 'earn', 'crude', 'earn', 'earn', 'earn', 'crude', 'crude', 'earn', 'acq', 'earn', 'earn', 'crude', 'earn', 'earn', 'trade', 'earn', 'acq', 'earn', 'trade', 'earn', 'earn', 'earn', 'earn', 'earn', 'earn', 'earn', 'earn', 'earn', 'earn', 'earn', 'earn', 'crude', 'earn', 'earn', 'grain', 'acq', 'acq', 'earn', 'earn', 'acq', 'interest', 'earn', 'acq', 'earn', 'earn', 'earn', 'earn', 'earn', 'earn', 'earn', 'earn', 'earn', 'money-fx', 'earn', 'earn', 'earn', 'earn', 'earn', 'earn', 'acq', 'trade', 'acq', 'earn', 'earn', 'earn', 'earn', 'earn', 'acq', 'earn', 'trade', 'acq', 'earn', 'acq', 'earn', 'acq', 'crude', 'earn', 'earn', 'earn', 'earn', 'earn', 'earn', 'earn', 'earn', 'earn', 'earn', 'earn', 'earn', 'earn', 'earn', 'acq', 'earn', 'earn', 'earn', 'earn', 'earn', 'earn', 'earn', 'earn', 'earn', 'acq', 'acq', 'acq', 'earn', 'earn', 'trade', 'acq', 'earn', 'acq', 'earn', 'earn', 'crude', 'earn', 'acq', 'grain', 'acq', 'acq', 'grain', 'earn', 'acq', 'earn', 'earn', 'earn', 'earn', 'earn', 'earn', 'acq', 'earn', 'earn', 'earn', 'earn', 'trade', 'earn', 'earn', 'acq', 'acq', 'acq', 'acq', 'acq', 'trade', 'acq', 'earn', 'acq', 'acq', 'trade', 'earn', 'acq', 'crude', 'earn', 'earn', 'crude', 'acq', 'acq', 'earn', 'earn', 'earn', 'crude', 'earn', 'earn', 'earn', 'acq', 'earn', 'ship', 'earn', 'acq', 'grain', 'earn', 'earn', 'acq', 'acq', 'acq', 'acq', 'earn', 'earn', 'earn', 'earn', 'earn', 'acq', 'earn', 'earn', 'earn', 'earn', 'earn', 'earn', 'acq', 'earn', 'acq', 'acq', 'acq', 'earn', 'earn', 'acq', 'crude', 'acq', 'earn', 'acq', 'trade', 'earn', 'earn', 'earn', 'earn', 'acq', 'acq', 'earn', 'trade', 'grain', 'earn', 'acq', 'earn', 'earn', 'acq', 'earn', 'acq', 'trade', 'trade', 'earn', 'earn', 'crude', 'earn', 'acq', 'ship', 'crude', 'earn', 'earn', 'acq', 'earn', 'trade', 'crude', 'money-fx', 'trade', 'trade', 'interest', 'money-fx', 'acq', 'acq', 'crude', 'acq', 'interest', 'acq', 'earn', 'crude', 'earn', 'acq', 'ship', 'acq', 'earn', 'earn', 'acq', 'money-fx', 'earn', 'acq', 'earn', 'earn', 'earn', 'earn', 'acq', 'earn', 'crude', 'earn', 'earn', 'earn', 'acq', 'earn', 'earn', 'interest', 'earn', 'acq', 'earn', 'acq', 'earn', 'earn', 'acq', 'earn', 'earn', 'acq', 'acq', 'earn', 'earn', 'earn', 'acq', 'earn', 'acq', 'crude', 'earn', 'acq', 'acq', 'earn', 'earn', 'earn', 'earn', 'earn', 'earn', 'acq', 'earn', 'earn', 'interest', 'earn', 'acq', 'earn', 'earn', 'earn', 'earn', 'crude', 'crude', 'earn', 'earn', 'earn', 'earn', 'earn', 'earn', 'acq', 'earn', 'earn', 'acq', 'earn', 'earn', 'earn', 'earn', 'acq', 'acq', 'earn', 'acq', 'acq', 'earn', 'interest', 'earn', 'crude', 'earn', 'earn', 'acq', 'earn', 'acq', 'acq', 'acq', 'earn', 'acq', 'earn', 'earn', 'acq', 'earn', 'earn', 'earn', 'earn', 'acq', 'earn', 'acq', 'earn', 'earn', 'earn', 'earn', 'acq', 'earn', 'acq', 'acq', 'earn', 'acq', 'earn', 'earn', 'earn', 'earn', 'earn', 'ship', 'earn', 'earn', 'earn', 'acq', 'acq', 'acq', 'ship', 'earn', 'earn', 'earn', 'trade', 'earn', 'earn', 'earn', 'earn', 'earn', 'acq', 'earn', 'earn', 'earn', 'earn', 'earn', 'earn', 'interest', 'acq', 'earn', 'earn', 'acq', 'acq', 'acq', 'earn', 'earn', 'earn', 'crude', 'earn', 'earn', 'earn', 'earn', 'earn', 'earn', 'earn', 'earn', 'earn', 'earn', 'acq', 'trade', 'acq', 'earn', 'earn', 'earn', 'earn', 'acq', 'earn', 'earn', 'earn', 'acq', 'crude', 'earn', 'earn', 'earn', 'acq', 'acq', 'earn', 'acq', 'acq', 'acq', 'earn', 'earn', 'earn', 'earn', 'earn', 'earn', 'earn', 'acq', 'earn', 'earn', 'earn', 'acq', 'trade', 'acq', 'earn', 'acq', 'acq', 'earn', 'crude', 'earn', 'earn', 'acq', 'crude', 'acq', 'acq', 'crude', 'acq', 'acq', 'acq', 'earn', 'acq', 'ship', 'acq', 'earn', 'acq', 'earn', 'earn', 'acq', 'acq', 'earn', 'earn', 'earn', 'earn', 'acq', 'money-fx', 'earn', 'earn', 'earn', 'earn', 'acq', 'acq', 'acq', 'acq', 'earn', 'earn', 'acq', 'acq', 'earn', 'crude', 'earn', 'earn', 'earn', 'earn', 'acq', 'earn', 'acq', 'earn', 'acq', 'earn', 'earn', 'earn', 'trade', 'trade', 'earn', 'acq', 'ship', 'acq', 'acq', 'earn', 'acq', 'trade', 'earn', 'acq', 'acq', 'earn', 'earn', 'acq', 'earn', 'earn', 'earn', 'earn', 'earn', 'acq', 'earn', 'earn', 'ship', 'earn', 'crude', 'earn', 'earn', 'earn', 'acq', 'earn', 'earn', 'earn', 'acq', 'earn', 'earn', 'earn', 'earn', 'interest', 'acq', 'earn', 'acq', 'earn', 'earn', 'earn', 'earn', 'earn', 'earn', 'earn', 'earn', 'earn', 'acq', 'money-fx', 'crude', 'acq', 'acq', 'earn', 'earn', 'earn', 'crude', 'earn', 'earn', 'acq', 'acq', 'earn', 'earn', 'acq', 'earn', 'acq', 'earn', 'acq', 'acq', 'earn', 'earn', 'acq', 'earn', 'earn', 'earn', 'earn', 'acq', 'acq', 'acq', 'acq', 'acq', 'ship', 'earn', 'earn', 'earn', 'earn', 'acq', 'earn', 'earn', 'crude', 'earn', 'acq', 'earn', 'earn', 'ship', 'earn', 'trade', 'earn', 'acq', 'earn', 'earn', 'acq', 'earn', 'earn', 'earn', 'acq', 'acq', 'acq', 'acq', 'acq', 'earn', 'acq', 'earn', 'earn', 'earn', 'acq', 'earn', 'earn', 'earn', 'acq', 'acq', 'acq', 'earn', 'earn', 'earn', 'acq', 'earn', 'acq', 'acq', 'ship', 'acq', 'acq', 'acq', 'acq', 'acq', 'interest', 'acq', 'ship', 'acq', 'ship', 'ship', 'earn', 'earn', 'earn', 'earn', 'ship', 'crude', 'ship', 'crude', 'interest', 'trade', 'money-fx', 'crude', 'acq', 'money-fx', 'crude', 'interest', 'interest', 'earn', 'acq', 'acq', 'acq', 'acq', 'earn', 'ship', 'acq', 'earn', 'acq', 'acq', 'acq', 'acq', 'interest', 'ship', 'ship', 'crude', 'acq', 'acq', 'acq', 'earn', 'acq', 'money-fx', 'acq', 'acq', 'acq', 'acq', 'earn', 'trade', 'earn', 'acq', 'acq', 'acq', 'interest', 'interest', 'acq', 'earn', 'interest', 'acq', 'acq', 'acq', 'acq', 'acq', 'interest', 'acq', 'ship', 'interest', 'acq', 'crude', 'earn', 'earn', 'interest', 'acq', 'interest', 'acq', 'interest', 'interest', 'interest', 'acq', 'acq', 'crude', 'acq', 'acq', 'acq', 'acq', 'money-fx', 'earn', 'crude', 'acq', 'acq', 'acq', 'acq', 'acq', 'acq', 'crude', 'interest', 'earn', 'acq', 'trade', 'crude', 'acq', 'acq', 'ship', 'interest', 'money-fx', 'acq', 'acq', 'acq', 'acq', 'acq', 'earn', 'earn', 'acq', 'acq', 'interest', 'earn', 'ship', 'earn', 'ship', 'acq', 'acq', 'acq', 'acq', 'earn', 'earn', 'earn', 'earn', 'acq', 'acq', 'ship', 'acq', 'acq', 'acq', 'acq', 'acq', 'crude', 'acq', 'acq', 'grain', 'grain', 'acq', 'acq', 'ship', 'crude', 'acq', 'acq', 'crude', 'earn', 'earn', 'acq', 'ship', 'ship', 'crude', 'acq', 'earn', 'interest', 'acq', 'crude', 'interest', 'acq', 'acq', 'interest', 'acq', 'acq', 'acq', 'earn', 'acq', 'earn', 'acq', 'acq', 'crude', 'grain', 'acq', 'acq', 'acq', 'acq', 'acq', 'earn', 'acq', 'acq', 'acq', 'acq', 'acq', 'acq', 'acq', 'earn', 'acq', 'acq', 'crude', 'money-fx', 'money-fx', 'ship', 'trade', 'money-fx', 'trade', 'interest', 'interest', 'crude', 'crude', 'earn', 'acq', 'money-fx', 'earn', 'earn', 'earn', 'ship', 'earn', 'earn', 'acq', 'earn', 'earn', 'money-fx', 'money-fx', 'earn', 'earn', 'acq', 'interest', 'earn', 'crude', 'crude', 'money-fx', 'earn', 'money-fx', 'interest', 'money-fx', 'interest', 'earn', 'interest', 'interest', 'earn', 'earn', 'acq', 'trade', 'money-fx', 'crude', 'earn', 'crude', 'earn', 'acq', 'earn', 'acq', 'crude', 'ship', 'acq', 'earn', 'earn', 'earn', 'earn', 'earn', 'money-fx', 'earn', 'acq', 'acq', 'acq', 'crude', 'crude', 'acq', 'earn', 'earn', 'acq', 'earn', 'earn', 'earn', 'earn', 'earn', 'acq', 'crude', 'money-fx', 'earn', 'earn', 'acq', 'earn', 'earn', 'earn', 'earn', 'earn', 'earn', 'acq', 'earn', 'earn', 'earn', 'earn', 'acq', 'earn', 'earn', 'earn', 'acq', 'earn', 'earn', 'earn', 'earn', 'acq', 'earn', 'earn', 'earn', 'earn', 'acq', 'earn', 'money-fx', 'earn', 'earn', 'earn', 'interest', 'acq', 'acq', 'earn', 'earn', 'money-fx', 'earn', 'earn', 'money-fx', 'earn', 'earn', 'acq', 'earn', 'earn', 'acq', 'acq', 'earn', 'earn', 'earn', 'earn', 'acq', 'earn', 'interest', 'earn', 'earn', 'earn', 'acq', 'earn', 'trade', 'earn', 'earn', 'earn', 'acq', 'earn', 'acq', 'earn', 'earn', 'earn', 'earn', 'earn', 'earn', 'acq', 'acq', 'ship', 'acq', 'earn', 'earn', 'earn', 'earn', 'earn', 'acq', 'interest', 'acq', 'ship', 'earn', 'acq', 'acq', 'earn', 'earn', 'crude', 'earn', 'earn', 'earn', 'earn', 'acq', 'earn', 'earn', 'earn', 'acq', 'earn', 'earn', 'earn', 'earn', 'acq', 'earn', 'earn', 'acq', 'earn', 'earn', 'earn', 'earn', 'earn', 'earn', 'earn', 'earn', 'trade', 'earn', 'earn', 'earn', 'earn', 'acq', 'acq', 'acq', 'earn', 'acq', 'acq', 'earn', 'acq', 'trade', 'acq', 'acq', 'earn', 'acq', 'earn', 'earn', 'acq', 'earn', 'earn', 'earn', 'earn', 'crude', 'acq', 'acq', 'acq', 'earn', 'acq', 'earn', 'ship', 'crude', 'earn', 'crude', 'interest', 'acq', 'acq', 'crude', 'earn', 'acq', 'acq', 'acq', 'earn', 'earn', 'acq', 'earn', 'earn', 'earn', 'earn', 'earn', 'earn', 'earn', 'earn', 'trade', 'trade', 'crude', 'earn', 'trade', 'acq', 'acq', 'money-fx', 'crude', 'crude', 'acq', 'trade', 'ship', 'acq', 'acq', 'ship', 'acq', 'earn', 'earn', 'acq', 'earn', 'earn', 'earn', 'trade', 'earn', 'earn', 'money-fx', 'earn', 'earn', 'earn', 'earn', 'earn', 'earn', 'earn', 'earn', 'acq', 'earn', 'trade', 'trade', 'earn', 'earn', 'crude', 'acq', 'crude', 'earn', 'acq', 'money-fx', 'earn', 'earn', 'earn', 'earn', 'acq', 'acq', 'acq', 'earn', 'acq', 'earn', 'trade', 'earn', 'acq', 'earn', 'acq', 'acq', 'acq', 'earn', 'money-fx', 'trade', 'crude', 'earn', 'earn', 'earn', 'earn', 'acq', 'earn', 'earn', 'earn', 'earn', 'earn', 'earn', 'acq', 'acq', 'earn', 'earn', 'acq', 'earn', 'earn', 'earn', 'earn', 'earn', 'acq', 'earn', 'acq', 'acq', 'acq', 'acq', 'trade', 'earn', 'earn', 'earn', 'earn', 'crude', 'acq', 'earn', 'earn', 'earn', 'trade', 'earn', 'earn', 'earn', 'earn', 'acq', 'earn', 'acq', 'acq', 'acq', 'earn', 'earn', 'earn', 'earn', 'money-fx', 'acq', 'earn', 'acq', 'earn', 'earn', 'acq', 'earn', 'earn', 'acq', 'earn', 'ship', 'earn', 'earn', 'crude', 'earn', 'earn', 'acq', 'crude', 'earn', 'acq', 'earn', 'ship', 'earn', 'earn', 'earn', 'earn', 'earn', 'earn', 'acq', 'earn', 'earn', 'earn', 'crude', 'acq', 'earn', 'acq', 'earn', 'earn', 'earn', 'earn', 'earn', 'earn', 'earn', 'crude', 'earn', 'earn', 'earn', 'earn', 'earn', 'earn', 'acq', 'earn', 'acq', 'interest', 'earn', 'acq', 'earn', 'earn', 'earn', 'crude', 'crude', 'earn', 'acq', 'earn', 'earn', 'earn', 'earn', 'crude', 'earn', 'acq', 'interest', 'earn', 'earn', 'crude', 'earn', 'interest', 'earn', 'interest', 'earn', 'earn', 'crude', 'acq', 'crude', 'earn', 'earn', 'crude', 'earn', 'earn', 'acq', 'trade', 'crude', 'interest', 'interest', 'acq', 'acq', 'earn', 'earn', 'interest', 'earn', 'earn', 'trade', 'acq', 'trade', 'earn', 'acq', 'earn', 'earn', 'grain', 'crude', 'acq', 'acq', 'earn', 'trade', 'earn', 'crude', 'earn', 'earn', 'earn', 'crude', 'crude', 'acq', 'earn', 'earn', 'crude', 'earn', 'acq', 'acq', 'acq', 'crude', 'trade', 'crude', 'crude', 'acq', 'acq', 'crude', 'earn', 'earn', 'acq', 'ship', 'earn', 'earn', 'acq', 'acq', 'trade', 'trade', 'grain', 'trade', 'ship', 'earn', 'earn', 'earn', 'trade', 'interest', 'earn', 'crude', 'acq', 'crude', 'crude', 'acq', 'money-fx', 'earn', 'crude', 'acq', 'earn', 'earn', 'earn', 'ship', 'money-fx', 'crude', 'crude', 'trade', 'earn', 'earn', 'acq', 'ship', 'ship', 'ship', 'crude', 'earn', 'earn', 'acq', 'earn', 'earn', 'earn', 'acq', 'earn', 'acq', 'interest', 'earn', 'money-fx', 'acq', 'earn', 'acq', 'earn', 'earn', 'earn', 'earn', 'earn', 'ship', 'earn', 'earn', 'earn', 'earn', 'earn', 'earn', 'earn', 'earn', 'acq', 'earn', 'earn', 'earn', 'earn', 'acq', 'acq', 'money-fx', 'earn', 'acq', 'earn', 'acq', 'earn', 'earn', 'earn', 'earn', 'money-fx', 'crude', 'ship', 'trade', 'acq', 'earn', 'ship', 'crude', 'acq', 'crude', 'interest', 'acq', 'acq', 'acq', 'acq', 'earn', 'acq', 'acq', 'earn', 'earn', 'trade', 'acq', 'acq', 'acq', 'earn', 'earn', 'acq', 'earn', 'earn', 'interest', 'earn', 'acq', 'earn', 'acq', 'acq', 'earn', 'acq', 'earn', 'acq', 'earn', 'acq', 'acq', 'acq', 'earn', 'earn', 'acq', 'acq', 'crude', 'trade', 'earn', 'earn', 'earn', 'earn', 'acq', 'earn', 'earn', 'earn', 'earn', 'acq', 'earn', 'earn', 'earn', 'earn', 'earn', 'acq', 'earn', 'earn', 'earn', 'earn', 'earn', 'earn', 'earn', 'trade', 'earn', 'earn', 'earn', 'money-fx', 'earn', 'earn', 'earn', 'acq', 'earn', 'acq', 'acq', 'acq', 'earn', 'earn', 'earn', 'earn', 'earn', 'earn', 'acq', 'earn', 'acq', 'earn', 'acq', 'earn', 'acq', 'earn', 'acq', 'acq', 'earn', 'acq', 'crude', 'crude', 'acq', 'crude', 'crude', 'earn', 'interest', 'earn', 'acq', 'trade', 'ship', 'trade', 'acq', 'crude', 'crude', 'crude', 'earn', 'money-fx', 'acq', 'money-fx', 'earn', 'money-fx', 'ship', 'money-fx', 'acq', 'earn', 'acq', 'earn', 'trade', 'earn', 'money-fx', 'acq', 'earn', 'acq', 'interest', 'trade', 'interest', 'crude', 'earn', 'earn', 'earn', 'crude', 'money-fx', 'crude', 'acq', 'crude', 'trade', 'earn', 'trade', 'crude', 'earn', 'acq', 'acq', 'acq', 'trade', 'acq', 'acq', 'earn', 'earn', 'earn', 'acq', 'earn', 'acq', 'acq', 'earn', 'acq', 'earn', 'earn', 'earn', 'earn', 'earn', 'acq', 'earn', 'earn', 'earn', 'earn', 'acq', 'ship', 'acq', 'acq', 'acq', 'earn', 'acq', 'earn', 'earn', 'earn', 'acq', 'acq', 'earn', 'acq', 'earn', 'earn', 'earn', 'acq', 'earn', 'earn', 'money-fx', 'acq', 'grain', 'earn', 'earn', 'trade', 'acq', 'trade', 'earn', 'acq', 'earn', 'earn', 'money-fx', 'acq', 'acq', 'earn', 'earn', 'grain', 'acq', 'earn', 'acq', 'earn', 'earn', 'earn', 'earn', 'earn', 'earn', 'earn', 'earn', 'earn', 'money-fx', 'earn', 'earn', 'earn', 'acq', 'acq', 'earn', 'earn', 'earn', 'earn', 'earn', 'acq', 'earn', 'earn', 'earn', 'acq', 'acq', 'earn', 'earn', 'earn', 'earn', 'trade', 'acq', 'earn', 'earn', 'earn', 'earn', 'earn', 'trade', 'ship', 'earn', 'earn', 'earn', 'acq', 'trade', 'trade', 'earn', 'acq', 'acq', 'acq', 'earn', 'earn', 'earn', 'earn', 'earn', 'acq', 'earn', 'earn', 'earn', 'earn', 'earn', 'earn', 'earn', 'earn', 'earn', 'earn', 'earn', 'acq', 'trade', 'earn', 'earn', 'earn', 'earn', 'earn', 'earn', 'earn', 'earn', 'earn', 'earn', 'earn', 'earn', 'earn', 'earn', 'earn', 'earn', 'earn', 'earn', 'acq', 'acq', 'earn', 'earn', 'earn', 'earn', 'acq', 'acq', 'grain', 'acq', 'earn', 'earn', 'earn', 'earn', 'earn', 'earn', 'acq', 'acq', 'acq', 'earn', 'earn', 'earn', 'acq', 'earn', 'earn', 'earn', 'acq', 'earn', 'acq', 'earn', 'earn', 'acq', 'acq', 'acq', 'earn', 'acq', 'acq', 'acq', 'acq', 'earn', 'earn', 'earn', 'earn', 'earn', 'trade', 'acq', 'earn', 'earn', 'earn', 'acq', 'trade', 'earn', 'earn', 'earn', 'acq', 'acq', 'earn', 'earn', 'acq', 'earn', 'earn', 'trade', 'earn', 'earn', 'earn', 'earn', 'earn', 'acq', 'earn', 'earn', 'earn', 'earn', 'acq', 'ship', 'earn', 'earn', 'acq', 'acq', 'earn', 'earn', 'earn', 'earn', 'earn', 'earn', 'acq', 'acq', 'trade', 'acq', 'acq', 'acq', 'acq', 'earn', 'acq', 'acq', 'earn', 'acq', 'crude', 'grain', 'acq', 'trade', 'earn', 'ship', 'money-fx', 'earn', 'grain', 'trade', 'acq', 'money-fx', 'ship', 'acq', 'acq', 'acq', 'acq', 'earn', 'trade', 'earn', 'acq', 'acq', 'earn', 'acq', 'money-fx', 'earn', 'trade', 'money-fx', 'acq', 'earn', 'earn', 'earn', 'earn', 'acq', 'acq', 'earn', 'earn', 'earn', 'earn', 'earn', 'acq', 'earn', 'acq', 'earn', 'money-fx', 'acq', 'acq', 'acq', 'earn', 'earn', 'trade', 'acq', 'earn', 'trade', 'earn', 'earn', 'earn', 'earn', 'grain', 'trade', 'acq', 'acq', 'earn', 'acq', 'earn', 'earn', 'acq', 'earn', 'earn', 'earn', 'money-fx', 'acq', 'earn', 'earn', 'earn', 'earn', 'earn', 'earn', 'acq', 'crude', 'acq', 'acq', 'acq', 'earn', 'acq', 'earn', 'earn', 'earn', 'earn', 'earn', 'earn', 'earn', 'earn', 'earn', 'acq', 'acq', 'crude', 'acq', 'acq', 'acq', 'acq', 'earn', 'earn', 'earn', 'acq', 'money-fx', 'earn', 'acq', 'crude', 'earn', 'acq', 'interest', 'acq', 'acq', 'earn', 'acq', 'acq', 'earn', 'acq', 'earn', 'earn', 'earn', 'earn', 'crude', 'earn', 'earn', 'crude', 'acq', 'acq', 'earn', 'acq', 'crude', 'earn', 'earn', 'earn', 'acq', 'money-fx', 'earn', 'earn', 'earn', 'earn', 'earn', 'earn', 'acq', 'crude', 'crude', 'earn', 'crude', 'crude', 'earn', 'earn', 'earn', 'interest', 'crude', 'interest', 'earn', 'acq', 'earn', 'crude', 'earn', 'earn', 'earn', 'acq', 'earn', 'acq', 'crude', 'earn', 'earn', 'earn', 'crude', 'earn', 'acq', 'earn', 'earn', 'earn', 'acq', 'earn', 'earn', 'acq', 'acq', 'earn', 'earn', 'earn', 'earn', 'earn', 'earn', 'earn', 'earn', 'earn', 'earn', 'acq', 'earn', 'earn', 'earn', 'earn', 'crude', 'grain', 'earn', 'earn', 'earn', 'earn', 'acq', 'acq', 'acq', 'earn', 'earn', 'acq', 'earn', 'earn', 'earn', 'earn', 'crude', 'earn', 'earn', 'earn', 'earn', 'crude', 'earn', 'earn', 'earn', 'earn', 'earn', 'earn', 'earn', 'acq', 'earn', 'earn', 'earn', 'acq', 'earn', 'earn', 'acq', 'acq', 'earn', 'acq', 'earn', 'crude', 'earn', 'interest', 'interest', 'earn', 'earn', 'earn', 'earn', 'acq', 'interest', 'interest', 'interest', 'interest', 'acq', 'interest', 'earn', 'acq', 'earn', 'acq', 'interest', 'acq', 'acq', 'crude', 'earn', 'earn', 'acq', 'acq', 'acq', 'crude', 'acq', 'earn', 'acq', 'ship', 'earn', 'earn', 'earn', 'acq', 'acq', 'acq', 'money-fx', 'earn', 'acq', 'trade', 'interest', 'earn', 'earn', 'earn', 'earn', 'earn', 'earn', 'earn', 'earn', 'acq', 'earn', 'earn', 'earn', 'acq', 'earn', 'earn', 'earn', 'acq', 'earn', 'earn', 'interest', 'earn', 'acq', 'earn', 'earn', 'earn', 'acq', 'acq', 'acq', 'earn', 'acq', 'earn', 'earn', 'earn', 'earn', 'earn', 'earn', 'acq', 'earn', 'earn', 'earn', 'earn', 'earn', 'earn', 'earn', 'acq', 'earn', 'earn', 'earn', 'earn', 'earn', 'acq', 'acq', 'earn', 'earn', 'ship', 'earn', 'earn', 'earn', 'earn', 'earn', 'acq', 'earn', 'acq', 'earn', 'earn', 'earn', 'earn', 'money-fx', 'earn', 'crude', 'earn', 'earn', 'earn', 'earn', 'earn', 'earn', 'earn', 'earn', 'earn', 'crude', 'earn', 'acq', 'earn', 'earn', 'earn', 'earn', 'acq', 'earn', 'earn', 'earn', 'acq', 'earn', 'earn', 'acq', 'acq', 'earn', 'earn', 'earn', 'earn', 'acq', 'acq', 'acq', 'earn', 'acq', 'acq', 'earn', 'earn', 'earn', 'earn', 'earn', 'earn', 'acq', 'earn', 'earn', 'earn', 'acq', 'earn', 'earn', 'earn', 'earn', 'earn', 'acq', 'acq', 'acq', 'earn', 'acq', 'earn', 'earn', 'acq', 'earn', 'acq', 'earn', 'earn', 'acq', 'earn', 'earn', 'ship', 'trade', 'acq', 'earn', 'earn', 'acq', 'earn', 'earn', 'earn', 'acq', 'earn', 'earn', 'earn', 'earn', 'earn', 'earn', 'earn', 'earn', 'earn', 'crude', 'earn', 'earn', 'earn', 'trade', 'earn', 'earn', 'earn', 'earn', 'interest', 'earn', 'acq', 'earn', 'earn', 'earn', 'earn', 'earn', 'earn', 'earn', 'earn', 'earn', 'earn', 'earn', 'earn', 'acq', 'acq', 'earn', 'crude', 'earn', 'earn', 'earn', 'earn', 'earn', 'acq', 'acq', 'earn', 'acq', 'acq', 'earn', 'earn', 'acq', 'earn', 'acq', 'acq', 'acq', 'earn', 'earn', 'earn', 'earn', 'earn', 'earn', 'acq', 'acq', 'earn', 'acq', 'earn', 'earn', 'acq', 'acq', 'acq', 'earn', 'earn', 'earn', 'earn', 'earn', 'earn', 'earn', 'trade', 'acq', 'acq', 'acq', 'earn', 'earn', 'earn', 'earn', 'acq', 'acq', 'acq', 'acq', 'earn', 'earn', 'acq', 'crude', 'acq', 'earn', 'interest', 'trade', 'acq', 'acq', 'acq', 'earn', 'ship', 'acq', 'trade', 'acq', 'acq', 'trade', 'earn', 'earn', 'trade', 'money-fx', 'earn', 'crude', 'earn', 'earn', 'earn', 'earn', 'earn', 'trade', 'money-fx', 'acq', 'money-fx', 'acq', 'interest', 'acq', 'acq', 'acq', 'acq', 'earn', 'earn', 'acq', 'earn', 'earn', 'earn', 'earn', 'earn', 'acq', 'earn', 'crude', 'acq', 'earn', 'earn', 'earn', 'earn', 'earn', 'earn', 'earn', 'earn', 'money-fx', 'earn', 'earn', 'trade', 'acq', 'earn', 'acq', 'earn', 'crude', 'money-fx', 'earn', 'earn', 'earn', 'acq', 'acq', 'acq', 'earn', 'earn', 'ship', 'earn', 'earn', 'earn', 'acq', 'earn', 'earn', 'trade', 'acq', 'earn', 'earn', 'earn', 'earn', 'acq', 'grain', 'earn', 'earn', 'earn', 'earn', 'acq', 'earn', 'earn', 'earn', 'earn', 'earn', 'earn', 'earn', 'ship', 'acq', 'money-fx', 'earn', 'earn', 'earn', 'earn', 'earn', 'acq', 'acq', 'acq', 'earn', 'earn', 'acq', 'earn', 'acq', 'earn', 'earn', 'acq', 'earn', 'acq', 'earn', 'earn', 'acq', 'earn', 'earn', 'earn', 'earn', 'earn', 'earn', 'earn', 'earn', 'earn', 'earn', 'earn', 'crude', 'acq', 'earn', 'earn', 'acq', 'interest', 'money-fx', 'acq', 'earn', 'acq', 'earn', 'interest', 'earn', 'earn', 'earn', 'earn', 'earn', 'acq', 'earn', 'earn', 'earn', 'acq', 'acq', 'earn', 'earn', 'acq', 'acq', 'acq', 'crude', 'earn', 'earn', 'acq', 'earn', 'earn', 'acq', 'earn', 'earn', 'earn', 'earn', 'acq', 'earn', 'acq', 'money-fx', 'earn', 'earn', 'acq', 'earn', 'earn', 'earn', 'earn', 'earn', 'acq', 'earn', 'earn', 'earn', 'earn', 'earn', 'earn', 'earn', 'acq', 'earn', 'earn', 'earn', 'acq', 'earn', 'earn', 'earn', 'acq', 'acq', 'earn', 'earn', 'acq', 'earn', 'trade', 'earn', 'acq', 'earn', 'acq', 'earn', 'earn', 'acq', 'earn', 'acq', 'earn', 'crude', 'acq', 'earn', 'ship', 'acq', 'earn', 'earn', 'earn', 'earn', 'earn', 'earn', 'earn', 'earn', 'trade', 'crude', 'crude', 'trade', 'ship', 'acq', 'earn', 'earn', 'acq', 'acq', 'interest', 'money-fx', 'acq', 'earn', 'acq', 'acq', 'trade', 'acq', 'acq', 'acq', 'earn', 'crude', 'crude', 'earn', 'earn', 'earn', 'trade', 'acq', 'earn', 'trade', 'earn', 'acq', 'earn', 'acq', 'interest', 'crude', 'acq', 'ship', 'trade', 'acq', 'earn', 'acq', 'earn', 'acq', 'money-fx', 'acq', 'acq', 'earn', 'earn', 'acq', 'acq', 'earn', 'earn', 'crude', 'earn', 'earn', 'earn', 'acq', 'earn', 'earn', 'acq', 'earn', 'acq', 'earn', 'earn', 'money-fx', 'acq', 'earn', 'earn', 'earn', 'earn', 'earn', 'acq', 'earn', 'earn', 'acq', 'earn', 'earn', 'earn', 'acq', 'earn', 'earn', 'earn', 'earn', 'acq', 'acq', 'earn', 'earn', 'earn', 'earn', 'earn', 'earn', 'acq', 'earn', 'earn', 'trade', 'acq', 'earn', 'earn', 'earn', 'acq', 'acq', 'acq', 'earn', 'acq', 'acq', 'acq', 'earn', 'trade', 'earn', 'acq', 'acq', 'acq', 'acq', 'acq', 'acq', 'acq', 'earn', 'acq', 'acq', 'earn', 'earn', 'earn', 'acq', 'earn', 'earn', 'earn', 'earn', 'acq', 'earn', 'earn', 'earn', 'earn', 'acq', 'earn', 'earn', 'earn', 'acq', 'earn', 'earn', 'earn', 'acq', 'earn', 'acq', 'earn', 'acq', 'earn', 'earn', 'earn', 'earn', 'earn', 'earn', 'earn', 'earn', 'earn', 'earn', 'earn', 'earn', 'earn', 'acq', 'earn', 'earn', 'acq', 'acq', 'acq', 'acq', 'earn', 'earn', 'earn', 'trade', 'acq', 'earn', 'earn', 'earn', 'earn', 'acq', 'acq', 'acq', 'earn', 'acq', 'earn', 'earn', 'earn', 'money-fx', 'earn', 'earn', 'earn', 'earn', 'earn', 'ship', 'acq', 'acq', 'acq', 'acq', 'acq', 'acq', 'earn', 'earn', 'earn', 'acq', 'earn', 'acq', 'acq', 'earn', 'earn', 'earn', 'acq', 'acq', 'earn', 'acq', 'earn', 'earn', 'acq', 'earn', 'earn', 'acq', 'earn', 'earn', 'crude', 'earn', 'earn', 'acq', 'acq', 'earn', 'acq', 'earn', 'earn', 'earn', 'earn', 'trade', 'earn', 'earn', 'earn', 'earn', 'acq', 'trade', 'earn', 'earn', 'earn', 'earn', 'earn', 'earn', 'money-fx', 'crude', 'money-fx', 'trade', 'acq', 'earn', 'crude', 'acq', 'earn', 'earn', 'money-fx', 'trade', 'interest', 'trade', 'ship', 'acq', 'crude', 'earn', 'acq', 'earn', 'acq', 'acq', 'crude', 'crude', 'interest', 'trade', 'trade', 'interest', 'trade', 'earn', 'crude', 'earn', 'earn', 'crude', 'earn', 'earn', 'interest', 'trade', 'ship', 'trade', 'money-fx', 'acq', 'acq', 'crude', 'trade', 'ship', 'acq', 'earn', 'earn', 'acq', 'earn', 'acq', 'earn', 'acq', 'acq', 'earn', 'earn', 'earn', 'money-fx', 'earn', 'trade', 'trade', 'earn', 'ship', 'trade', 'earn', 'earn', 'acq', 'earn', 'acq', 'earn', 'acq', 'earn', 'earn', 'earn', 'earn', 'acq', 'earn', 'acq', 'earn', 'earn', 'earn', 'acq', 'earn', 'earn', 'earn', 'acq', 'earn', 'money-fx', 'money-fx', 'earn', 'earn', 'earn', 'earn', 'earn', 'earn', 'earn', 'acq', 'earn', 'earn', 'earn', 'earn', 'earn', 'earn', 'interest', 'interest', 'earn', 'earn', 'acq', 'acq', 'acq', 'acq', 'acq', 'earn', 'earn', 'acq', 'acq', 'acq', 'acq', 'grain', 'earn', 'acq', 'earn', 'earn', 'earn', 'acq', 'earn', 'interest', 'crude', 'crude', 'acq', 'earn', 'earn', 'earn', 'earn', 'earn', 'acq', 'acq', 'acq', 'acq', 'acq', 'earn', 'acq', 'acq', 'earn', 'earn', 'earn', 'earn', 'earn', 'earn', 'acq', 'acq', 'earn', 'crude', 'earn', 'earn', 'earn', 'earn', 'earn', 'earn', 'earn', 'earn', 'crude', 'acq', 'acq', 'earn', 'earn', 'earn', 'acq', 'earn', 'acq', 'earn', 'acq', 'acq', 'earn', 'earn', 'earn', 'earn', 'earn', 'earn', 'earn', 'acq', 'earn', 'earn', 'acq', 'acq', 'earn', 'acq', 'earn', 'crude', 'trade', 'earn', 'earn', 'acq', 'earn', 'earn', 'money-fx', 'earn', 'acq', 'earn', 'acq', 'acq', 'earn', 'money-fx', 'earn', 'earn', 'earn', 'earn', 'money-fx', 'money-fx', 'money-fx', 'trade', 'earn', 'crude', 'trade', 'trade', 'money-fx', 'crude', 'money-fx', 'trade', 'earn', 'crude', 'earn', 'earn', 'grain', 'earn', 'acq', 'earn', 'acq', 'acq', 'earn', 'crude', 'trade', 'acq', 'money-fx', 'earn', 'trade', 'trade', 'money-fx', 'earn', 'earn', 'grain', 'money-fx', 'trade', 'trade', 'earn', 'acq', 'trade', 'earn', 'money-fx', 'crude', 'interest', 'money-fx', 'trade', 'interest', 'money-fx', 'acq', 'grain', 'ship', 'acq', 'acq', 'acq', 'trade', 'ship', 'trade', 'earn', 'acq', 'earn', 'earn', 'acq', 'money-fx', 'acq', 'earn', 'acq', 'earn', 'earn', 'trade', 'money-fx', 'acq', 'earn', 'earn', 'earn', 'acq', 'earn', 'earn', 'earn', 'earn', 'earn', 'earn', 'trade', 'acq', 'earn', 'crude', 'acq', 'acq', 'money-fx', 'earn', 'crude', 'earn', 'earn', 'acq', 'earn', 'acq', 'acq', 'acq', 'earn', 'earn', 'earn', 'earn', 'earn', 'earn', 'money-fx', 'earn', 'earn', 'interest', 'earn', 'earn', 'earn', 'earn', 'acq', 'acq', 'earn', 'acq', 'crude', 'acq', 'earn', 'money-fx', 'earn', 'acq', 'acq', 'acq', 'earn', 'earn', 'earn', 'earn', 'earn', 'earn', 'earn', 'earn', 'earn', 'acq', 'earn', 'earn', 'earn', 'grain', 'earn', 'earn', 'earn', 'acq', 'earn', 'acq', 'trade', 'earn', 'crude', 'earn', 'acq', 'acq', 'acq', 'earn', 'earn', 'earn', 'acq', 'earn', 'earn', 'grain', 'acq', 'acq', 'earn', 'acq', 'interest', 'earn', 'acq', 'earn', 'earn', 'earn', 'earn', 'earn', 'acq', 'earn', 'acq', 'earn', 'earn', 'trade', 'money-fx', 'earn', 'earn', 'acq', 'interest', 'earn', 'earn', 'acq', 'earn', 'acq', 'earn', 'earn', 'acq', 'interest', 'trade', 'acq', 'acq', 'acq', 'earn', 'earn', 'crude', 'acq', 'earn', 'earn', 'acq', 'earn', 'acq', 'acq', 'earn', 'earn', 'trade', 'earn', 'earn', 'acq', 'acq', 'crude', 'earn', 'acq', 'acq', 'earn', 'earn', 'earn', 'acq', 'trade', 'acq', 'acq', 'acq', 'acq', 'earn', 'earn', 'acq', 'earn', 'acq', 'earn', 'acq', 'acq', 'earn', 'earn', 'earn', 'earn', 'earn', 'earn', 'money-fx', 'money-fx', 'money-fx', 'trade', 'interest', 'earn', 'earn', 'acq', 'acq', 'crude', 'acq', 'earn', 'earn', 'earn', 'earn', 'trade', 'acq', 'earn', 'earn', 'earn', 'earn', 'trade', 'earn', 'earn', 'earn', 'trade', 'earn', 'earn', 'crude', 'acq', 'money-fx', 'money-fx', 'money-fx', 'earn', 'earn', 'acq', 'earn', 'earn', 'acq', 'earn', 'earn', 'earn', 'acq', 'earn', 'earn', 'acq', 'acq', 'earn', 'acq', 'crude', 'earn', 'acq', 'acq', 'earn', 'earn', 'acq', 'earn', 'earn', 'earn', 'earn', 'earn', 'earn', 'earn', 'earn', 'acq', 'earn', 'crude', 'earn', 'acq', 'earn', 'acq', 'earn', 'acq', 'crude', 'acq', 'money-fx', 'earn', 'acq', 'earn', 'trade', 'earn', 'earn', 'earn', 'ship', 'trade', 'earn', 'acq', 'earn', 'earn', 'acq', 'earn', 'earn', 'earn', 'earn', 'acq', 'earn', 'acq', 'earn', 'ship', 'earn', 'earn', 'ship', 'acq', 'acq', 'earn', 'acq', 'earn', 'earn', 'earn', 'earn', 'earn', 'earn', 'acq', 'acq', 'earn', 'earn', 'earn', 'earn', 'acq', 'acq', 'earn', 'earn', 'earn', 'earn', 'acq', 'acq', 'earn', 'earn', 'trade', 'earn', 'earn', 'acq', 'earn', 'earn', 'earn', 'earn', 'earn', 'acq', 'acq', 'acq', 'acq', 'earn', 'earn', 'earn', 'acq', 'earn', 'crude', 'acq', 'earn', 'earn', 'acq', 'acq', 'ship', 'earn', 'earn', 'earn', 'ship', 'earn', 'earn', 'acq', 'earn', 'earn', 'trade', 'acq', 'acq', 'earn', 'earn', 'earn', 'acq', 'acq', 'earn', 'trade', 'earn', 'earn', 'acq', 'crude', 'earn', 'earn', 'trade', 'money-fx', 'money-fx', 'acq', 'acq', 'earn', 'acq', 'earn', 'earn', 'earn', 'earn', 'acq', 'earn', 'earn', 'acq', 'earn', 'earn', 'acq', 'earn', 'acq', 'earn', 'earn', 'earn', 'earn', 'earn', 'acq', 'earn', 'earn', 'earn', 'acq', 'earn', 'earn', 'trade', 'trade', 'ship', 'earn', 'earn', 'acq', 'acq', 'earn', 'earn', 'earn', 'earn', 'earn', 'acq', 'earn', 'acq', 'trade', 'acq', 'acq', 'acq', 'acq', 'earn', 'acq', 'acq', 'earn', 'earn', 'trade', 'acq', 'acq', 'earn', 'crude', 'interest', 'acq', 'earn', 'money-fx', 'earn', 'money-fx', 'money-fx', 'trade', 'money-fx', 'trade', 'earn', 'earn', 'trade', 'money-fx', 'earn', 'money-fx', 'earn', 'acq', 'acq', 'earn', 'interest', 'earn', 'acq', 'earn', 'acq', 'earn', 'money-fx', 'trade', 'acq', 'earn', 'earn', 'trade', 'money-fx', 'trade', 'earn', 'grain', 'trade', 'acq', 'money-fx', 'money-fx', 'trade', 'money-fx', 'earn', 'earn', 'acq', 'earn', 'acq', 'earn', 'earn', 'acq', 'earn', 'earn', 'acq', 'earn', 'earn', 'interest', 'acq', 'trade', 'acq', 'money-fx', 'money-fx', 'money-fx', 'acq', 'earn', 'earn', 'acq', 'earn', 'earn', 'acq', 'earn', 'earn', 'earn', 'money-fx', 'earn', 'acq', 'acq', 'earn', 'earn', 'earn', 'earn', 'earn', 'ship', 'grain', 'earn', 'earn', 'acq', 'acq', 'money-fx', 'acq', 'acq', 'earn', 'acq', 'acq', 'earn', 'earn', 'earn', 'earn', 'earn', 'earn', 'acq', 'interest', 'earn', 'acq', 'money-fx', 'earn', 'earn', 'earn', 'earn', 'earn', 'earn', 'earn', 'earn', 'acq', 'interest', 'earn', 'money-fx', 'acq', 'acq', 'acq', 'earn', 'acq', 'earn', 'interest', 'earn', 'earn', 'earn', 'earn', 'earn', 'earn', 'earn', 'acq', 'earn', 'acq', 'earn', 'earn', 'earn', 'earn', 'earn', 'earn', 'acq', 'earn', 'money-fx', 'acq', 'earn', 'acq', 'earn', 'earn', 'earn', 'acq', 'earn', 'earn', 'acq', 'acq', 'earn', 'earn', 'acq', 'earn', 'earn', 'crude', 'earn', 'earn', 'acq', 'acq', 'earn', 'earn', 'earn', 'earn', 'earn', 'earn', 'earn', 'acq', 'earn', 'acq', 'earn', 'earn', 'earn', 'earn', 'earn', 'earn', 'earn', 'earn', 'acq', 'acq', 'earn', 'money-fx', 'earn', 'acq', 'interest', 'acq', 'earn', 'earn', 'earn', 'acq', 'earn', 'earn', 'earn', 'earn', 'earn', 'earn', 'money-fx', 'crude', 'earn', 'earn', 'crude', 'earn', 'earn', 'earn', 'trade', 'earn', 'acq', 'earn', 'acq', 'earn', 'acq', 'earn', 'earn', 'earn', 'earn', 'earn', 'earn', 'acq', 'earn', 'earn', 'earn', 'earn', 'earn', 'earn', 'trade', 'trade', 'trade', 'earn', 'interest', 'earn', 'earn', 'earn', 'earn', 'earn', 'earn', 'ship', 'acq', 'acq', 'acq', 'earn', 'money-fx', 'earn', 'acq', 'earn', 'earn', 'trade', 'acq', 'earn', 'trade', 'money-fx', 'trade', 'money-fx', 'money-fx', 'money-fx', 'acq', 'money-fx', 'acq', 'trade', 'earn', 'earn', 'ship', 'earn', 'ship', 'earn', 'ship', 'interest', 'earn', 'acq', 'earn', 'earn', 'acq', 'earn', 'earn', 'acq', 'money-fx', 'money-fx', 'acq', 'acq', 'earn', 'acq', 'earn', 'earn', 'earn', 'acq', 'acq', 'earn', 'earn', 'earn', 'acq', 'earn', 'acq', 'earn', 'acq', 'acq', 'trade', 'acq', 'earn', 'acq', 'interest', 'acq', 'earn', 'earn', 'acq', 'earn', 'earn', 'earn', 'earn', 'earn', 'acq', 'earn', 'earn', 'acq', 'earn', 'acq', 'earn', 'trade', 'earn', 'earn', 'earn', 'earn', 'acq', 'earn', 'earn', 'interest', 'earn', 'earn', 'acq', 'acq', 'earn', 'ship', 'earn', 'acq', 'earn', 'earn', 'earn', 'earn', 'acq', 'acq', 'acq', 'acq', 'earn', 'earn', 'earn', 'earn', 'earn', 'money-fx', 'trade', 'earn', 'earn', 'earn', 'earn', 'money-fx', 'money-fx', 'trade', 'trade', 'crude', 'money-fx', 'money-fx', 'trade', 'earn', 'earn', 'money-fx', 'trade', 'crude', 'acq', 'acq', 'earn', 'earn', 'acq', 'crude', 'acq', 'trade', 'earn', 'earn', 'earn', 'money-fx', 'money-fx', 'acq', 'earn', 'ship', 'acq', 'money-fx', 'earn', 'earn', 'acq', 'ship', 'money-fx', 'crude', 'money-fx', 'money-fx', 'trade', 'acq', 'money-fx', 'money-fx', 'trade', 'trade', 'acq', 'acq', 'acq', 'acq', 'earn', 'acq', 'money-fx', 'earn', 'money-fx', 'money-fx', 'acq', 'acq', 'earn', 'earn', 'trade', 'earn', 'acq', 'earn', 'earn', 'acq', 'earn', 'earn', 'earn', 'acq', 'acq', 'crude', 'earn', 'acq', 'acq', 'earn', 'earn', 'earn', 'earn', 'money-fx', 'money-fx', 'acq', 'earn', 'acq', 'acq', 'crude', 'acq', 'earn', 'earn', 'acq', 'earn', 'earn', 'acq', 'earn', 'acq', 'earn', 'earn', 'acq', 'earn', 'acq', 'acq', 'earn', 'trade', 'earn', 'acq', 'acq', 'money-fx', 'earn', 'acq', 'earn', 'earn', 'earn', 'earn', 'earn', 'earn', 'earn', 'acq', 'acq', 'earn', 'earn', 'earn', 'crude', 'acq', 'acq', 'acq', 'acq', 'earn', 'earn', 'earn', 'acq', 'earn', 'earn', 'earn', 'acq', 'earn', 'earn', 'acq', 'acq', 'acq', 'acq', 'acq', 'earn', 'acq', 'crude', 'earn', 'earn', 'earn', 'crude', 'earn', 'earn', 'acq', 'earn', 'earn', 'earn', 'earn', 'acq', 'earn', 'earn', 'acq', 'earn', 'acq', 'acq', 'earn', 'earn', 'money-fx', 'earn', 'acq', 'grain', 'acq', 'acq', 'trade', 'acq', 'acq', 'earn', 'acq', 'earn', 'acq', 'earn', 'crude', 'acq', 'acq', 'money-fx', 'earn', 'earn', 'earn', 'earn', 'earn', 'acq', 'earn', 'crude', 'earn', 'acq', 'earn', 'earn', 'acq', 'acq', 'acq', 'acq', 'acq', 'acq', 'earn', 'crude', 'earn', 'earn', 'earn', 'earn', 'acq', 'earn', 'earn', 'trade', 'trade', 'acq', 'earn', 'acq', 'money-fx', 'earn', 'trade', 'acq', 'acq', 'earn', 'acq', 'earn', 'earn', 'earn', 'trade', 'trade', 'earn', 'money-fx', 'trade', 'earn', 'money-fx', 'acq', 'acq', 'acq', 'earn', 'acq', 'earn', 'earn', 'ship', 'acq', 'acq', 'acq', 'money-fx', 'acq', 'trade', 'acq', 'earn', 'ship', 'earn', 'acq', 'earn', 'acq', 'earn', 'earn', 'money-fx', 'acq', 'trade', 'acq', 'acq', 'acq', 'money-fx', 'acq', 'earn', 'earn', 'earn', 'earn', 'earn', 'earn', 'earn', 'interest', 'trade', 'earn', 'earn', 'money-fx', 'acq', 'earn', 'earn', 'earn', 'earn', 'earn', 'acq', 'acq', 'acq', 'trade', 'earn', 'trade', 'earn', 'earn', 'acq', 'acq', 'earn', 'acq', 'acq', 'earn', 'acq', 'earn', 'trade', 'ship', 'acq', 'trade', 'acq', 'earn', 'earn', 'acq', 'trade', 'earn', 'acq', 'crude', 'acq', 'earn', 'earn', 'earn', 'money-fx', 'earn', 'trade', 'crude', 'interest', 'earn', 'interest', 'earn', 'earn', 'money-fx', 'acq', 'earn', 'earn', 'earn', 'acq', 'earn', 'crude', 'trade', 'money-fx', 'acq', 'money-fx', 'earn', 'earn', 'crude', 'trade', 'trade', 'acq', 'acq', 'acq', 'acq', 'earn', 'earn', 'earn', 'acq', 'earn', 'earn', 'earn', 'acq', 'trade', 'acq', 'earn', 'acq', 'earn', 'trade', 'earn', 'trade', 'earn', 'earn', 'earn', 'earn', 'acq', 'acq', 'earn', 'acq', 'earn', 'acq', 'acq', 'acq', 'acq', 'acq', 'acq', 'earn', 'earn', 'acq', 'earn', 'earn', 'trade', 'earn', 'acq', 'money-fx', 'acq', 'trade', 'trade', 'trade', 'crude', 'acq', 'earn', 'earn', 'earn', 'earn', 'earn', 'earn', 'earn', 'earn', 'earn', 'trade', 'earn', 'earn', 'acq', 'trade', 'acq', 'ship', 'earn', 'acq', 'acq', 'acq', 'acq', 'earn', 'earn', 'acq', 'earn', 'earn', 'acq', 'earn', 'earn', 'earn', 'earn', 'trade', 'earn', 'earn', 'earn', 'crude', 'earn', 'earn', 'earn', 'acq', 'trade', 'interest', 'acq', 'earn', 'earn', 'earn', 'earn', 'earn', 'earn', 'acq', 'earn', 'earn', 'earn', 'earn', 'earn', 'earn', 'earn', 'earn', 'earn', 'earn', 'earn', 'earn', 'earn', 'acq', 'earn', 'earn', 'earn', 'earn', 'interest', 'earn', 'earn', 'acq', 'crude', 'earn', 'earn', 'earn', 'earn', 'earn', 'earn', 'crude', 'earn', 'money-fx', 'earn', 'acq', 'acq', 'acq', 'interest', 'acq', 'earn', 'acq', 'earn', 'money-fx', 'earn', 'acq', 'earn', 'earn', 'acq', 'acq', 'grain', 'trade', 'earn', 'earn', 'acq', 'acq', 'acq', 'money-fx', 'money-fx', 'earn', 'acq', 'acq', 'interest', 'acq', 'acq', 'acq', 'acq', 'interest', 'money-fx', 'acq', 'acq', 'acq', 'acq', 'interest', 'earn', 'acq', 'earn', 'earn', 'interest', 'earn', 'acq', 'interest', 'grain', 'acq', 'money-fx', 'acq', 'acq', 'acq', 'acq', 'acq', 'earn', 'earn', 'earn', 'earn', 'earn', 'acq', 'acq', 'acq', 'acq', 'earn', 'earn', 'interest', 'interest', 'earn', 'acq', 'interest', 'earn', 'acq', 'acq', 'interest', 'acq', 'acq', 'acq', 'acq', 'earn', 'earn', 'earn', 'interest', 'money-fx', 'interest', 'interest', 'money-fx', 'earn', 'acq', 'interest', 'acq', 'earn', 'earn', 'acq', 'earn', 'earn', 'earn', 'earn', 'earn', 'acq', 'acq', 'earn', 'interest', 'earn', 'earn', 'earn', 'acq', 'acq', 'earn', 'earn', 'interest', 'earn', 'interest', 'earn', 'acq', 'interest', 'earn', 'interest', 'acq', 'earn', 'acq', 'earn', 'earn', 'earn', 'interest', 'earn', 'earn', 'earn', 'earn', 'acq', 'earn', 'acq', 'acq', 'earn', 'earn', 'earn', 'earn', 'earn', 'acq', 'interest', 'earn', 'earn', 'earn', 'acq', 'interest', 'earn', 'acq', 'interest', 'acq', 'acq', 'earn', 'interest', 'interest', 'acq', 'earn', 'interest', 'earn', 'earn', 'earn', 'interest', 'interest', 'acq', 'earn', 'interest', 'acq', 'acq', 'acq', 'acq', 'acq', 'acq', 'interest', 'earn', 'earn', 'earn', 'earn', 'earn', 'acq', 'earn', 'ship', 'earn', 'ship', 'earn', 'earn', 'acq', 'acq', 'acq', 'earn', 'money-fx', 'acq', 'ship', 'earn', 'earn', 'earn', 'acq', 'earn', 'acq', 'acq', 'interest', 'earn', 'earn', 'acq', 'earn', 'acq', 'earn', 'earn', 'acq', 'earn', 'acq', 'acq', 'acq', 'acq', 'acq', 'earn', 'interest', 'earn', 'interest', 'acq', 'earn', 'earn', 'earn', 'earn', 'interest', 'ship', 'acq', 'interest', 'earn', 'earn', 'interest', 'interest', 'earn', 'crude', 'ship', 'earn', 'interest', 'acq', 'interest', 'acq', 'earn', 'earn', 'crude', 'earn', 'earn', 'earn', 'earn', 'acq', 'earn', 'interest', 'earn', 'earn', 'acq', 'earn', 'acq', 'interest', 'earn', 'earn', 'acq', 'acq', 'interest', 'earn', 'interest', 'grain', 'acq', 'earn', 'acq', 'acq', 'earn', 'acq', 'earn', 'earn', 'earn', 'acq', 'earn', 'earn', 'acq', 'acq', 'acq', 'earn', 'earn', 'earn', 'earn', 'acq', 'earn', 'acq', 'earn', 'earn', 'acq', 'earn', 'interest', 'earn', 'earn', 'acq', 'money-fx', 'earn', 'earn', 'acq', 'acq', 'earn', 'acq', 'acq', 'interest', 'trade', 'acq', 'earn', 'acq', 'interest', 'trade', 'trade', 'interest', 'acq', 'earn', 'earn', 'acq', 'interest', 'crude', 'acq', 'earn', 'earn', 'earn', 'interest', 'earn', 'acq', 'interest', 'earn', 'earn', 'earn', 'earn', 'earn', 'money-fx', 'earn', 'acq', 'acq', 'earn', 'acq', 'acq', 'acq', 'earn', 'acq', 'earn', 'earn', 'earn', 'acq', 'trade', 'earn', 'earn', 'trade', 'trade', 'earn', 'earn', 'interest', 'earn', 'earn', 'earn', 'earn', 'earn', 'interest', 'interest', 'interest', 'acq', 'trade', 'acq', 'ship', 'acq', 'interest', 'crude', 'earn', 'money-fx', 'money-fx', 'acq', 'earn', 'crude', 'interest', 'money-fx', 'interest', 'money-fx', 'acq', 'ship', 'earn', 'acq', 'grain', 'earn', 'acq', 'acq', 'money-fx', 'interest', 'trade', 'acq', 'acq', 'acq', 'earn', 'earn', 'acq', 'earn', 'earn', 'earn', 'interest', 'interest', 'acq', 'earn', 'earn', 'acq', 'acq', 'acq', 'interest', 'earn', 'earn', 'earn', 'acq', 'earn', 'earn', 'acq', 'interest', 'interest', 'earn', 'earn', 'earn', 'interest', 'ship', 'earn', 'acq', 'acq', 'crude', 'earn', 'acq', 'earn', 'acq', 'acq', 'acq', 'earn', 'acq', 'acq', 'acq', 'acq', 'acq', 'earn', 'interest', 'acq', 'earn', 'acq', 'acq', 'interest', 'earn', 'earn', 'earn', 'earn', 'earn', 'acq', 'acq', 'trade', 'acq', 'acq', 'trade', 'trade', 'money-fx', 'acq', 'earn', 'acq', 'earn', 'earn', 'grain', 'grain', 'acq', 'acq', 'earn', 'acq', 'acq', 'acq', 'earn', 'earn', 'acq', 'crude', 'acq', 'interest', 'earn', 'earn', 'earn', 'crude', 'earn', 'earn', 'acq', 'earn', 'earn', 'earn', 'earn', 'acq', 'earn', 'crude', 'interest', 'earn', 'acq', 'acq', 'earn', 'acq', 'earn', 'acq', 'earn', 'acq', 'crude', 'earn', 'earn', 'acq', 'acq', 'earn', 'earn', 'acq', 'acq', 'acq', 'acq', 'acq', 'crude', 'earn', 'earn', 'acq', 'acq', 'acq', 'acq', 'acq', 'earn', 'earn', 'earn', 'earn', 'interest', 'interest', 'money-fx', 'money-fx', 'money-fx', 'ship', 'crude', 'money-fx', 'interest', 'earn', 'acq', 'crude', 'money-fx', 'interest', 'ship', 'interest', 'earn', 'acq', 'money-fx', 'money-fx', 'earn', 'grain', 'trade', 'money-fx', 'acq', 'interest', 'money-fx', 'crude', 'earn', 'crude', 'trade', 'earn', 'ship', 'earn', 'acq', 'earn', 'earn', 'earn', 'acq', 'acq', 'earn', 'earn', 'earn', 'earn', 'money-fx', 'acq', 'acq', 'acq', 'acq', 'trade', 'trade', 'trade', 'earn', 'acq', 'acq', 'trade', 'earn', 'earn', 'earn', 'trade', 'trade', 'money-fx', 'money-fx', 'earn', 'trade', 'acq', 'money-fx', 'money-fx', 'earn', 'earn', 'earn', 'acq', 'earn', 'acq', 'money-fx', 'acq', 'acq', 'earn', 'earn', 'acq', 'money-fx', 'earn', 'earn', 'trade', 'acq', 'grain', 'interest', 'trade', 'acq', 'interest', 'earn', 'earn', 'interest', 'acq', 'earn', 'earn', 'grain', 'earn', 'acq', 'earn', 'earn', 'grain', 'acq', 'earn', 'grain', 'earn', 'acq', 'crude', 'earn', 'earn', 'acq', 'earn', 'acq', 'acq', 'acq', 'acq', 'earn', 'earn', 'earn', 'earn', 'ship', 'earn', 'earn', 'acq', 'earn', 'earn', 'earn', 'earn', 'earn', 'earn', 'acq', 'earn', 'acq', 'earn', 'acq', 'acq', 'acq', 'earn', 'acq', 'acq', 'earn', 'earn', 'interest', 'earn', 'earn', 'earn', 'acq', 'money-fx', 'earn', 'acq', 'earn', 'acq', 'trade', 'earn', 'earn', 'earn', 'earn', 'money-fx', 'earn', 'money-fx', 'ship', 'trade', 'grain', 'ship', 'acq', 'earn', 'earn', 'acq', 'earn', 'earn', 'earn', 'earn', 'trade', 'acq', 'earn', 'acq', 'earn', 'trade', 'acq', 'acq', 'earn', 'trade', 'acq', 'earn', 'earn', 'acq', 'earn', 'earn', 'acq', 'acq', 'acq', 'earn', 'ship', 'earn', 'ship', 'earn', 'earn', 'earn', 'earn', 'earn', 'earn', 'earn', 'earn', 'earn', 'earn', 'acq', 'earn', 'acq', 'earn', 'earn', 'earn', 'money-fx', 'earn', 'earn', 'earn', 'earn', 'acq', 'earn', 'acq', 'earn', 'earn', 'earn', 'earn', 'earn', 'earn', 'earn', 'acq', 'earn', 'earn', 'earn', 'earn', 'acq', 'earn', 'acq', 'earn', 'money-fx', 'interest', 'acq', 'earn', 'earn', 'earn', 'acq', 'acq', 'earn', 'earn', 'earn', 'acq', 'earn', 'earn', 'earn', 'earn', 'earn', 'earn', 'earn', 'acq', 'interest', 'earn', 'earn', 'interest', 'earn', 'earn', 'earn', 'earn', 'earn', 'acq', 'earn', 'acq', 'earn', 'earn', 'acq', 'acq', 'earn', 'acq', 'earn', 'earn', 'acq', 'earn', 'earn', 'earn', 'acq', 'acq', 'earn', 'earn', 'trade', 'acq', 'earn', 'acq', 'earn', 'trade', 'earn', 'earn', 'earn', 'earn', 'earn', 'earn', 'earn', 'earn', 'earn', 'earn', 'crude', 'acq', 'earn', 'earn', 'earn', 'acq', 'earn', 'earn', 'acq', 'earn', 'earn', 'trade', 'earn', 'earn', 'crude', 'earn', 'money-fx', 'acq', 'earn', 'earn', 'crude', 'earn', 'earn', 'money-fx', 'acq', 'earn', 'earn', 'earn', 'earn', 'earn', 'earn', 'acq', 'earn', 'earn', 'acq', 'earn', 'earn', 'acq', 'earn', 'earn', 'earn', 'earn', 'acq', 'grain', 'acq', 'earn', 'acq', 'earn', 'interest', 'acq', 'earn', 'earn', 'earn', 'earn', 'earn', 'earn', 'earn', 'earn', 'acq', 'earn', 'acq', 'earn', 'earn', 'acq', 'trade', 'earn', 'earn', 'earn', 'acq', 'acq', 'earn', 'earn', 'earn', 'interest', 'trade', 'earn', 'earn', 'earn', 'earn', 'earn', 'acq', 'earn', 'interest', 'earn', 'earn', 'acq', 'acq', 'earn', 'trade', 'earn', 'trade', 'earn', 'trade', 'money-fx', 'money-fx', 'earn', 'money-fx', 'earn', 'earn', 'acq', 'acq', 'acq', 'earn', 'earn', 'earn', 'acq', 'earn', 'ship', 'acq', 'earn', 'earn', 'earn', 'earn', 'acq', 'money-fx', 'earn', 'earn', 'earn', 'money-fx', 'money-fx', 'earn', 'earn', 'acq', 'acq', 'acq', 'earn', 'earn', 'interest', 'earn', 'earn', 'earn', 'interest', 'acq', 'acq', 'earn', 'earn', 'earn', 'acq', 'acq', 'interest', 'interest', 'grain', 'earn', 'earn', 'earn', 'earn', 'acq', 'earn', 'earn', 'acq', 'acq', 'earn', 'earn', 'acq', 'earn', 'earn', 'interest', 'acq', 'interest', 'earn', 'acq', 'interest', 'money-fx', 'earn', 'acq', 'earn', 'earn', 'money-fx', 'earn', 'earn', 'earn', 'earn', 'earn', 'money-fx', 'acq', 'trade', 'earn', 'earn', 'earn', 'acq', 'earn', 'earn', 'earn', 'acq', 'earn', 'earn', 'earn', 'money-fx', 'earn', 'acq', 'earn', 'earn', 'earn', 'earn', 'earn', 'earn', 'acq', 'earn', 'acq', 'earn', 'earn', 'earn', 'earn', 'earn', 'earn', 'acq', 'earn', 'earn', 'earn', 'earn', 'earn', 'earn', 'earn', 'earn', 'acq', 'earn', 'earn', 'acq', 'earn', 'earn', 'earn', 'earn', 'interest', 'earn', 'earn', 'acq', 'interest', 'earn', 'earn', 'earn', 'earn', 'earn', 'earn', 'earn', 'trade', 'earn', 'grain', 'grain', 'earn', 'earn', 'acq', 'earn', 'earn', 'acq', 'earn', 'acq', 'earn', 'earn', 'earn', 'acq', 'acq', 'earn', 'earn', 'acq', 'earn', 'acq', 'earn', 'earn', 'earn', 'earn', 'acq', 'earn', 'grain', 'acq', 'acq', 'earn', 'earn', 'earn', 'earn', 'crude', 'earn', 'acq', 'earn', 'acq', 'acq', 'crude', 'earn', 'acq', 'earn', 'acq', 'earn', 'earn', 'earn', 'earn', 'earn', 'acq', 'acq', 'acq', 'acq', 'earn', 'money-fx', 'crude', 'money-fx', 'earn', 'earn', 'earn', 'acq', 'earn', 'earn', 'acq', 'acq', 'earn', 'acq', 'acq', 'acq', 'earn', 'trade', 'earn', 'interest', 'interest', 'ship', 'crude', 'earn', 'trade', 'acq', 'trade', 'trade', 'interest', 'earn', 'acq', 'earn', 'interest', 'trade', 'trade', 'acq', 'money-fx', 'acq', 'trade', 'earn', 'earn', 'money-fx', 'acq', 'interest', 'acq', 'acq', 'acq', 'acq', 'earn', 'earn', 'acq', 'earn', 'acq', 'money-fx', 'money-fx', 'earn', 'acq', 'earn', 'earn', 'acq', 'acq', 'money-fx', 'interest', 'acq', 'acq', 'earn', 'earn', 'acq', 'earn', 'earn', 'acq', 'acq', 'earn', 'acq', 'earn', 'earn', 'acq', 'money-fx', 'earn', 'trade', 'trade', 'acq', 'earn', 'earn', 'earn', 'earn', 'earn', 'earn', 'interest', 'earn', 'acq', 'earn', 'earn', 'earn', 'money-fx', 'acq', 'earn', 'earn', 'earn', 'earn', 'interest', 'earn', 'earn', 'earn', 'acq', 'earn', 'interest', 'acq', 'earn', 'earn', 'earn', 'earn', 'earn', 'earn', 'money-fx', 'acq', 'earn', 'earn', 'earn', 'earn', 'earn', 'earn', 'earn', 'earn', 'earn', 'earn', 'trade', 'grain', 'earn', 'earn', 'earn', 'earn', 'earn', 'acq', 'earn', 'earn', 'earn', 'earn', 'earn', 'earn', 'earn', 'earn', 'earn', 'earn', 'earn', 'earn', 'earn', 'acq', 'earn', 'acq', 'earn', 'earn', 'earn', 'acq', 'acq', 'earn', 'acq', 'interest', 'acq', 'earn', 'earn', 'earn', 'acq', 'acq', 'earn', 'earn', 'earn', 'earn', 'acq', 'earn', 'crude', 'earn', 'earn', 'earn', 'earn', 'earn', 'earn', 'trade', 'acq', 'acq', 'earn', 'acq', 'acq', 'earn', 'acq', 'earn', 'acq', 'acq', 'earn', 'acq', 'acq', 'earn', 'earn', 'earn', 'earn', 'earn', 'earn', 'acq', 'earn', 'earn', 'acq', 'earn', 'earn', 'earn', 'earn', 'earn', 'earn', 'earn', 'acq', 'earn', 'earn', 'earn', 'trade', 'acq', 'acq', 'acq', 'earn', 'acq', 'earn', 'acq', 'earn', 'earn', 'acq', 'earn', 'earn', 'earn', 'earn', 'earn', 'earn', 'earn', 'earn', 'acq', 'earn', 'acq', 'earn', 'earn', 'acq', 'earn', 'acq', 'acq', 'earn', 'earn', 'earn', 'earn', 'earn', 'acq', 'earn', 'acq', 'earn', 'earn', 'earn', 'earn', 'earn', 'crude', 'earn', 'earn', 'earn', 'earn', 'earn', 'acq', 'acq', 'earn', 'earn', 'earn', 'earn', 'earn', 'earn', 'crude', 'earn', 'earn', 'earn', 'earn', 'earn', 'acq', 'acq', 'crude', 'crude', 'acq', 'earn', 'earn', 'earn', 'acq', 'crude', 'earn', 'acq', 'earn', 'earn', 'acq', 'earn', 'earn', 'earn', 'acq', 'acq', 'acq', 'earn', 'earn', 'acq', 'interest', 'acq', 'acq', 'earn', 'acq', 'acq', 'earn', 'acq', 'earn', 'acq', 'earn', 'crude', 'earn', 'acq', 'earn', 'earn', 'acq', 'earn', 'crude', 'earn', 'earn', 'acq', 'acq', 'earn', 'acq', 'crude', 'trade', 'acq', 'money-fx', 'acq', 'crude', 'money-fx', 'trade', 'trade', 'trade', 'trade', 'earn', 'trade', 'earn', 'acq', 'earn', 'earn', 'earn', 'earn', 'earn', 'earn', 'earn', 'earn', 'earn', 'earn', 'earn', 'earn', 'earn', 'acq', 'earn', 'earn', 'earn', 'earn', 'earn', 'earn', 'earn', 'earn', 'earn', 'earn', 'earn', 'acq', 'earn', 'earn', 'earn', 'earn', 'earn', 'earn', 'earn', 'earn', 'acq', 'interest', 'trade', 'earn', 'earn', 'trade', 'acq', 'acq', 'acq', 'acq', 'earn', 'earn', 'earn', 'earn', 'earn', 'earn', 'money-fx', 'earn', 'earn', 'earn', 'earn', 'earn', 'earn', 'acq', 'earn', 'earn', 'acq', 'acq', 'acq', 'trade', 'trade', 'trade', 'earn', 'earn', 'earn', 'earn', 'earn', 'acq', 'acq', 'acq', 'interest', 'acq', 'crude', 'ship', 'earn', 'interest', 'interest', 'trade', 'trade', 'ship', 'interest', 'crude', 'acq', 'acq', 'acq', 'acq', 'acq', 'earn', 'acq', 'acq', 'acq', 'acq', 'acq', 'acq', 'trade', 'acq', 'acq', 'crude', 'money-fx', 'acq', 'acq', 'acq', 'acq', 'earn', 'earn', 'earn', 'earn', 'acq', 'earn', 'earn', 'earn', 'acq', 'acq', 'acq', 'acq', 'acq', 'acq', 'acq', 'acq', 'crude', 'acq', 'interest', 'acq', 'acq', 'acq', 'acq', 'earn', 'acq', 'earn', 'earn', 'crude', 'earn', 'acq', 'earn', 'acq', 'acq', 'acq', 'acq', 'acq', 'earn', 'acq', 'earn', 'earn', 'acq', 'acq', 'earn', 'acq', 'acq', 'acq', 'acq', 'earn', 'acq', 'acq', 'acq', 'acq', 'acq', 'earn', 'acq', 'acq', 'earn', 'acq', 'acq', 'acq', 'acq', 'acq', 'acq', 'money-fx', 'acq', 'money-fx', 'acq', 'earn', 'acq', 'earn', 'crude', 'interest', 'acq', 'acq', 'acq', 'acq', 'acq', 'crude', 'earn', 'acq', 'acq', 'acq', 'crude', 'acq', 'acq', 'acq', 'acq', 'earn', 'earn', 'acq', 'earn', 'acq', 'earn', 'earn', 'acq', 'acq', 'earn', 'acq', 'crude', 'crude', 'acq', 'acq', 'earn', 'acq', 'acq', 'acq', 'acq', 'earn', 'acq', 'acq', 'acq', 'acq', 'acq', 'acq', 'acq', 'acq', 'acq', 'acq', 'crude', 'acq', 'money-fx', 'interest', 'earn', 'crude', 'interest', 'earn', 'earn', 'acq', 'acq', 'money-fx', 'earn', 'ship', 'crude', 'money-fx', 'interest', 'interest', 'trade', 'acq', 'money-fx', 'acq', 'acq', 'acq', 'acq', 'crude', 'earn', 'earn', 'earn', 'acq', 'earn', 'acq', 'earn', 'acq', 'ship', 'money-fx', 'acq', 'acq', 'earn', 'acq', 'interest', 'acq', 'earn', 'acq', 'acq', 'acq', 'acq', 'acq', 'earn', 'money-fx', 'earn', 'trade', 'earn', 'earn', 'crude', 'earn', 'acq', 'acq', 'acq', 'acq', 'crude', 'earn', 'acq', 'trade', 'interest', 'crude', 'acq', 'earn', 'acq', 'acq', 'acq', 'trade', 'acq', 'earn', 'earn', 'acq', 'earn', 'ship', 'earn', 'earn', 'acq', 'crude', 'acq', 'acq', 'acq', 'acq', 'acq', 'acq', 'ship', 'acq', 'crude', 'acq', 'acq', 'acq', 'earn', 'earn', 'earn', 'acq', 'trade', 'earn', 'ship', 'earn', 'earn', 'acq', 'trade', 'earn', 'earn', 'earn', 'earn', 'acq', 'earn', 'ship', 'crude', 'acq', 'acq', 'acq', 'acq', 'earn', 'earn', 'ship', 'money-fx', 'interest', 'interest', 'acq', 'ship', 'trade', 'acq', 'acq', 'earn', 'earn', 'interest', 'crude', 'earn', 'earn', 'acq', 'earn', 'trade', 'interest', 'crude', 'acq', 'interest', 'interest', 'trade', 'earn', 'interest', 'acq', 'acq', 'acq', 'acq', 'acq', 'acq', 'acq', 'acq', 'acq', 'earn', 'acq', 'interest', 'acq', 'earn', 'acq', 'earn', 'earn', 'crude', 'earn', 'acq', 'acq', 'acq', 'earn', 'earn', 'acq', 'crude', 'acq', 'acq', 'acq', 'acq', 'money-fx', 'interest', 'money-fx', 'crude', 'crude', 'acq', 'acq', 'acq', 'crude', 'crude', 'crude', 'earn', 'crude', 'earn', 'crude', 'crude', 'crude', 'crude', 'earn', 'earn', 'earn', 'earn', 'earn', 'crude', 'acq', 'earn', 'crude', 'crude', 'crude', 'crude', 'crude', 'acq', 'crude', 'crude', 'earn', 'crude', 'crude', 'acq', 'earn', 'acq', 'crude', 'crude', 'crude', 'acq', 'earn', 'crude', 'earn', 'earn', 'earn', 'trade', 'crude', 'acq', 'ship', 'acq', 'acq', 'acq', 'acq', 'ship', 'trade', 'earn', 'earn', 'acq', 'acq', 'acq', 'interest', 'acq', 'acq', 'acq', 'acq', 'acq', 'earn', 'earn', 'acq', 'acq', 'acq', 'acq', 'acq', 'acq', 'trade', 'earn', 'acq', 'earn', 'interest', 'interest', 'earn', 'trade', 'acq', 'trade', 'earn', 'acq', 'acq', 'earn', 'trade', 'crude', 'ship', 'acq', 'ship', 'ship', 'acq', 'acq', 'interest', 'ship', 'acq', 'crude', 'acq', 'acq', 'earn', 'acq', 'acq', 'trade', 'interest', 'earn', 'earn', 'earn', 'earn', 'acq', 'acq', 'crude', 'interest', 'crude', 'ship', 'acq', 'acq', 'ship', 'acq', 'acq', 'earn', 'acq', 'acq', 'acq', 'acq', 'earn', 'acq', 'acq', 'trade', 'acq', 'acq', 'acq', 'crude', 'acq', 'acq', 'crude', 'trade', 'acq', 'earn', 'acq', 'earn', 'acq', 'acq', 'acq', 'acq', 'acq', 'acq', 'acq', 'acq', 'acq', 'acq', 'acq', 'earn', 'acq', 'acq', 'acq', 'earn', 'acq', 'acq', 'earn', 'earn', 'trade', 'acq', 'acq', 'acq', 'acq', 'acq', 'acq', 'acq', 'acq', 'earn', 'acq', 'acq', 'money-fx', 'acq', 'acq', 'earn', 'earn', 'acq', 'earn', 'acq', 'acq', 'trade', 'acq', 'earn', 'acq', 'acq', 'acq', 'earn', 'acq', 'acq', 'earn', 'acq', 'acq', 'acq', 'earn', 'acq', 'acq', 'earn', 'earn', 'acq', 'interest', 'interest', 'money-fx', 'ship', 'crude', 'crude', 'acq', 'crude', 'crude', 'acq', 'crude', 'acq', 'interest', 'interest', 'earn', 'interest', 'trade', 'interest', 'trade', 'interest', 'crude', 'interest', 'crude', 'crude', 'earn', 'earn', 'trade', 'earn', 'acq', 'acq', 'acq', 'earn', 'earn', 'earn', 'acq', 'earn', 'earn', 'acq', 'earn', 'earn', 'acq', 'earn', 'earn', 'trade', 'acq', 'acq', 'earn', 'earn', 'acq', 'acq', 'earn', 'acq', 'acq', 'acq', 'acq', 'acq', 'acq', 'acq', 'earn', 'acq', 'earn', 'acq', 'earn', 'acq', 'acq', 'earn', 'acq', 'acq', 'acq', 'acq', 'acq', 'acq', 'earn', 'acq', 'earn', 'acq', 'acq', 'acq', 'acq', 'earn', 'acq', 'acq', 'acq', 'acq', 'acq', 'acq', 'interest', 'acq', 'earn', 'earn', 'earn', 'earn', 'acq', 'acq', 'earn', 'acq', 'earn', 'earn', 'acq', 'acq', 'acq', 'acq', 'acq', 'crude', 'acq', 'acq', 'acq', 'crude', 'earn', 'earn', 'acq', 'acq', 'earn', 'acq', 'earn', 'acq', 'acq', 'acq', 'acq', 'acq', 'ship', 'earn', 'acq', 'acq', 'acq', 'acq', 'acq', 'acq', 'acq', 'acq', 'earn', 'acq', 'crude', 'acq', 'earn', 'acq', 'acq', 'acq', 'acq', 'acq', 'acq', 'earn', 'acq', 'acq', 'acq', 'grain', 'acq', 'earn', 'acq', 'acq', 'earn', 'acq', 'acq', 'acq', 'money-fx', 'money-fx', 'money-fx', 'crude', 'money-fx', 'crude', 'money-fx', 'money-fx', 'money-fx', 'interest', 'interest', 'ship', 'acq', 'acq', 'interest', 'acq', 'interest', 'money-fx', 'money-fx', 'money-fx', 'money-fx', 'money-fx', 'money-fx', 'money-fx', 'money-fx', 'crude', 'crude', 'earn', 'earn', 'acq', 'earn', 'earn', 'earn', 'earn', 'earn', 'earn', 'acq', 'earn', 'earn', 'acq', 'interest', 'earn', 'interest', 'interest', 'earn', 'earn', 'earn', 'earn', 'earn', 'earn', 'earn', 'earn', 'earn', 'earn', 'earn', 'earn', 'acq', 'earn', 'earn', 'earn', 'acq', 'earn', 'earn', 'earn', 'acq', 'earn', 'earn', 'earn', 'earn', 'earn', 'earn', 'earn', 'earn', 'earn', 'earn', 'earn', 'earn', 'earn', 'earn', 'earn', 'earn', 'earn', 'money-fx', 'ship', 'interest', 'interest', 'earn', 'earn', 'crude', 'earn', 'earn', 'interest', 'earn', 'earn', 'earn', 'earn', 'earn', 'acq', 'acq', 'earn', 'earn', 'earn', 'earn', 'acq', 'earn', 'earn', 'earn', 'acq', 'earn', 'earn', 'acq', 'earn', 'acq', 'earn', 'earn', 'earn', 'earn', 'earn', 'earn', 'money-fx', 'money-fx', 'acq', 'earn', 'earn', 'earn', 'earn', 'earn', 'earn', 'earn', 'earn', 'earn', 'earn', 'earn', 'earn', 'earn', 'earn', 'money-fx', 'earn', 'acq', 'earn', 'earn', 'earn', 'earn', 'earn', 'earn', 'earn', 'earn', 'earn', 'earn', 'acq', 'acq', 'earn', 'earn', 'earn', 'interest', 'earn', 'earn', 'earn', 'earn', 'crude', 'earn', 'earn', 'earn', 'acq', 'earn', 'earn', 'earn', 'ship', 'earn', 'earn', 'earn', 'earn', 'earn', 'acq', 'crude', 'earn', 'acq', 'earn', 'trade', 'earn', 'earn', 'earn', 'crude', 'earn', 'earn', 'earn', 'acq', 'earn', 'acq', 'earn', 'earn', 'earn', 'money-fx', 'earn', 'earn', 'earn', 'earn', 'earn', 'earn', 'earn', 'earn', 'earn', 'acq', 'earn', 'earn', 'earn', 'interest', 'earn', 'earn', 'earn', 'earn', 'earn', 'acq', 'earn', 'earn', 'earn', 'earn', 'earn', 'earn', 'earn', 'earn', 'earn', 'acq', 'earn', 'earn', 'earn', 'earn', 'earn', 'earn', 'earn', 'acq', 'ship', 'earn', 'earn', 'crude', 'earn', 'earn', 'earn', 'acq', 'earn', 'earn', 'earn', 'earn', 'earn', 'crude', 'earn', 'earn', 'earn', 'earn', 'earn', 'crude', 'acq', 'earn', 'earn', 'earn', 'earn', 'earn', 'earn', 'acq', 'earn', 'trade', 'earn', 'crude', 'acq', 'earn', 'acq', 'earn', 'earn', 'crude', 'earn', 'earn', 'earn', 'ship', 'crude', 'acq', 'earn', 'acq', 'earn', 'earn', 'acq', 'earn', 'earn', 'earn', 'acq', 'acq', 'trade', 'interest', 'acq', 'earn', 'earn', 'interest', 'earn', 'earn', 'earn', 'acq', 'earn', 'crude', 'earn', 'earn', 'trade', 'earn', 'acq', 'earn', 'earn', 'money-fx', 'acq', 'earn', 'earn', 'earn', 'earn', 'earn', 'earn', 'earn', 'acq', 'earn', 'earn', 'earn', 'earn', 'earn', 'acq', 'earn', 'earn', 'trade', 'earn', 'acq', 'acq', 'earn', 'earn', 'earn', 'acq', 'money-fx', 'trade', 'crude', 'crude', 'earn', 'earn', 'earn', 'acq', 'earn', 'money-fx', 'earn', 'earn', 'acq', 'earn', 'acq', 'ship', 'earn', 'acq', 'money-fx', 'crude', 'earn', 'earn', 'earn', 'acq', 'earn', 'crude', 'earn', 'acq', 'money-fx', 'money-fx', 'earn', 'earn', 'earn', 'earn', 'earn', 'crude', 'earn', 'earn', 'money-fx', 'earn', 'crude', 'acq', 'acq', 'earn', 'money-fx', 'earn', 'earn', 'money-fx', 'crude', 'earn', 'earn', 'earn', 'earn', 'earn', 'earn', 'earn', 'earn', 'acq', 'earn', 'earn', 'earn', 'trade', 'acq', 'acq', 'acq', 'acq', 'earn', 'earn', 'earn', 'earn', 'crude', 'acq', 'earn', 'money-fx', 'earn', 'acq', 'trade', 'earn', 'earn', 'earn', 'earn', 'earn', 'acq', 'acq', 'acq', 'earn', 'earn', 'earn', 'acq', 'earn', 'earn', 'acq', 'acq', 'earn', 'earn', 'crude', 'acq', 'acq', 'acq', 'acq', 'acq', 'crude', 'acq', 'acq', 'crude', 'earn', 'acq', 'earn', 'acq', 'acq', 'earn', 'acq', 'earn', 'earn', 'earn', 'earn', 'earn', 'earn', 'earn', 'earn', 'earn', 'money-fx', 'grain', 'interest', 'money-fx', 'acq', 'crude', 'earn', 'acq', 'acq', 'earn', 'earn', 'money-fx', 'acq', 'earn', 'acq', 'earn', 'earn', 'money-fx', 'money-fx', 'earn', 'earn', 'earn', 'grain', 'earn', 'earn', 'earn', 'earn', 'earn', 'earn', 'earn', 'trade', 'earn', 'earn', 'earn', 'earn', 'earn', 'earn', 'earn', 'earn', 'crude', 'earn', 'acq', 'money-fx', 'earn', 'earn', 'earn', 'earn', 'earn', 'acq', 'earn', 'earn', 'earn', 'earn', 'earn', 'earn', 'earn', 'earn', 'earn', 'earn', 'acq', 'acq', 'earn', 'earn', 'earn', 'earn', 'earn', 'earn', 'earn', 'earn', 'earn', 'earn', 'acq', 'earn', 'acq', 'earn', 'earn', 'earn', 'earn', 'earn', 'acq', 'earn', 'earn', 'earn', 'earn', 'crude', 'earn', 'earn', 'crude', 'earn', 'money-fx', 'acq', 'earn', 'acq', 'earn', 'interest', 'earn', 'acq', 'acq', 'acq', 'earn', 'acq', 'earn', 'earn', 'acq', 'earn', 'money-fx', 'acq', 'earn', 'earn', 'acq', 'acq', 'earn', 'money-fx', 'earn', 'earn', 'earn', 'interest', 'acq', 'earn', 'earn', 'money-fx', 'interest', 'money-fx', 'earn', 'earn', 'earn', 'earn', 'earn', 'acq', 'acq', 'earn', 'earn', 'earn', 'crude', 'crude', 'ship', 'earn', 'earn', 'acq', 'acq', 'earn', 'crude', 'acq', 'earn', 'earn', 'acq', 'earn', 'trade', 'acq', 'acq', 'acq', 'earn', 'acq', 'earn', 'earn', 'acq', 'acq', 'acq', 'earn', 'earn', 'earn', 'earn', 'earn', 'acq', 'acq', 'acq', 'acq', 'earn', 'earn', 'earn', 'earn', 'earn', 'acq', 'earn', 'earn', 'earn', 'earn', 'earn', 'acq', 'earn', 'earn', 'acq', 'crude', 'acq', 'acq', 'earn', 'money-fx', 'acq', 'earn', 'earn', 'crude', 'earn', 'earn', 'earn', 'ship', 'crude', 'acq', 'money-fx', 'ship', 'money-fx', 'ship', 'acq', 'money-fx', 'crude', 'acq', 'earn', 'earn', 'acq', 'money-fx', 'trade', 'crude', 'acq', 'ship']\n",
            "{'product': 2312, 'approves': 192, 'stock': 2926, 'split': 2883, 'inc': 1500, 'board': 368, 'director': 892, 'approved': 191, 'two': 3160, 'one': 2052, 'common': 589, 'share': 2765, 'shareholder': 2766, 'record': 2456, 'april': 194, 'company': 595, 'also': 131, 'voted': 3255, 'recommend': 2452, 'annual': 159, 'meeting': 1846, 'increase': 1509, 'authorized': 271, 'capital': 463, 'five': 1238, 'mln': 1902, 'computer': 625, 'terminal': 3060, 'system': 3018, 'completes': 614, 'sale': 2669, 'completed': 612, 'warrant': 3274, 'acquire': 30, 'additional': 51, 'switzerland': 3015, 'dlrs': 934, 'exercisable': 1115, 'year': 3354, 'purchase': 2370, 'price': 2283, 'per': 2167, 'right': 2636, 'buy': 435, 'total': 3113, 'holding': 1443, 'pct': 2155, 'outstanding': 2101, 'certain': 499, 'circumstance': 536, 'involving': 1589, 'change': 508, 'control': 700, 'condition': 636, 'occur': 2029, 'would': 3344, 'equal': 1063, 'market': 1820, 'time': 3095, 'exceed': 1093, 'sold': 2840, 'dot': 944, 'impact': 1481, 'technology': 3040, 'including': 1506, 'future': 1317, 'improvement': 1497, 'houston': 1457, 'continue': 690, 'exclusive': 1110, 'worldwide': 3340, 'move': 1931, 'part': 2128, 'reorganization': 2532, 'plan': 2205, 'help': 1423, 'pay': 2149, 'current': 765, 'operation': 2065, 'cost': 727, 'ensure': 1050, 'delivery': 837, 'make': 1790, 'generated': 1332, 'form': 1271, 'printer': 2292, 'net': 1975, 'shr': 2793, 'ct': 760, 'asset': 230, 'deposit': 852, 'loan': 1748, 'note': 2008, 'th': 3068, 'qtr': 2386, 'available': 276, 'includes': 1505, 'extraordinary': 1162, 'gain': 1319, 'tax': 3035, 'carry': 475, 'forward': 1282, 'international': 1568, 'nd': 1960, 'jan': 1610, 'oper': 2060, 'loss': 1761, 'profit': 2317, 'seven': 2756, 'rev': 2619, 'avg': 281, 'shrs': 2794, 'six': 2815, 'mths': 1938, 'nil': 1992, 'calculated': 443, 'payment': 2152, 'preferred': 2258, 'dividend': 931, 'result': 2601, 'exclude': 1106, 'credit': 749, 'four': 1288, 'nine': 1993, 'prior': 2294, 'period': 2173, 'operating': 2064, 'carryforwards': 477, 'brown': 422, 'dlr': 933, 'billion': 359, 'dean': 797, 'food': 1261, 'see': 2715, 'strong': 2945, 'earnings': 977, 'expects': 1128, 'fourth': 1289, 'quarter': 2392, 'ending': 1038, 'may': 1837, 'ago': 91, 'chairman': 503, 'kenneth': 1642, 'douglas': 948, 'told': 3102, 'analyst': 150, 'fiscal': 1236, 'reported': 2547, 'repeated': 2538, 'earlier': 972, 'projection': 2325, 'third': 3076, 'probably': 2299, 'slightly': 2822, 'last': 1671, 'falling': 1181, 'range': 2415, 'early': 973, 'project': 2323, 'whether': 3301, 'anticipated': 164, 'performance': 2169, 'enough': 1049, 'overall': 2102, 'experience': 1132, 'bottom': 385, 'line': 1729, 'effect': 995, 'reform': 2486, 'act': 37, 'alone': 128, 'president': 2271, 'howard': 1458, 'benefit': 345, 'various': 3230, 'dairy': 775, 'frozen': 1308, 'acquisition': 34, 'late': 1672, 'december': 805, 'west': 3296, 'chicago': 526, 'major': 1788, 'ltd': 1773, 'united': 3188, 'kingdom': 1649, 'arrangement': 214, 'australia': 267, 'canada': 456, 'brazil': 395, 'japan': 1612, 'provides': 2352, 'entry': 1060, 'corp': 718, 'set': 2751, 'ups': 3203, 'payout': 2153, 'three': 3085, 'cash': 482, 'cited': 538, 'improved': 1496, 'outlook': 2097, 'continued': 691, 'flow': 1253, 'reason': 2441, 'raising': 2411, 'class': 546, 'effective': 996, 'march': 1812, 'declared': 811, 'quarterly': 2393, 'new': 1981, 'payable': 2150, 'holder': 1442, 'paid': 2118, 'today': 3099, 'month': 1919, 'declined': 814, 'bit': 362, 'due': 967, 'second': 2707, 'charge': 513, 'restructuring': 2600, 'beverage': 349, 'lower': 1768, 'corporate': 719, 'rate': 2420, 'expected': 1126, 'substantially': 2964, 'improve': 1495, 'radio': 2404, 'electronics': 1013, 'div': 924, 'yr': 3362, 'stockholder': 2928, 'presidential': 2272, 'include': 1503, 'adjustment': 55, 'universal': 3190, 'life': 1718, 'business': 433, 'first': 1235, 'estimated': 1075, 'owen': 2106, 'raise': 2409, 'qtly': 2385, 'eight': 1002, 'language': 1665, 'research': 2566, 'standard': 2900, 'better': 348, 'least': 1694, 'recorded': 2457, 'stable': 2894, 'interest': 1563, 'growing': 1377, 'economy': 990, 'provide': 2350, 'favorable': 1190, 'growth': 1379, 'brian': 402, 'previously': 2282, 'return': 2616, 'equity': 1066, 'special': 2867, 'chem': 523, 'rise': 2638, 'hope': 1448, 'higher': 1432, 'bid': 351, 'could': 729, 'attract': 256, 'offered': 2035, 'waste': 3276, 'management': 1797, 'wall': 3263, 'street': 2939, 'arbitrageur': 200, 'counter': 732, 'trading': 3122, 'changing': 510, 'hand': 1395, 'afternoon': 83, 'go': 1347, 'maybe': 1838, 'dollar': 936, 'depending': 850, 'competing': 604, 'bidder': 352, 'tender': 3053, 'offer': 2034, 'announced': 155, 'opening': 2059, 'expires': 1137, 'surprise': 2999, 'spokeswoman': 2885, 'held': 1421, 'regularly': 2498, 'scheduled': 2694, 'discussing': 906, 'announcement': 156, 'statement': 2909, 'ready': 2432, 'unable': 3167, 'say': 2688, 'contact': 680, 'official': 2039, 'think': 3074, 'resist': 2572, 'like': 1723, 'attack': 247, 'pointed': 2225, 'difficult': 882, 'try': 3148, 'find': 1228, 'white': 3302, 'want': 3266, 'acquired': 31, 'example': 1092, 'interested': 1564, 'customer': 768, 'largest': 1669, 'involved': 1587, 'application': 179, 'removal': 2523, 'base': 312, 'another': 161, 'residential': 2570, 'commercial': 582, 'distribution': 921, 'noted': 2009, 'high': 1431, 'mid': 1874, 'slowed': 2825, 'concentrated': 627, 'earned': 975, 'full': 1311, 'thousand': 3081, 'individual': 1525, 'garden': 1322, 'care': 467, 'anti': 163, 'inflation': 1531, 'initially': 1537, 'home': 1445, 'abroad': 5, 'towards': 3118, 'amid': 142, 'widespread': 3311, 'shortage': 2786, 'foreign': 1269, 'crisis': 752, 'february': 1196, 'fixed': 1239, 'value': 3224, 'currency': 764, 'ended': 1037, 'halt': 1392, 'country': 733, 'within': 3329, 'situation': 2814, 'worse': 3342, 'although': 134, 'worked': 3335, 'leading': 1689, 'bank': 302, 'economist': 989, 'reversal': 2622, 'trade': 3119, 'account': 20, 'surplus': 2998, 'sufficient': 2972, 'cover': 741, 'needed': 1967, 'service': 2748, 'debt': 801, 'seemed': 2719, 'target': 3031, 'monthly': 1920, 'averaging': 279, 'export': 1145, 'import': 1487, 'increased': 1510, 'avoid': 283, 'domestic': 938, 'plunged': 2222, 'october': 2033, 'since': 2809, 'averaged': 278, 'agency': 85, 'report': 2546, 'ship': 2777, 'waiting': 3260, 'commission': 583, 'government': 1358, 'daily': 774, 'backlog': 292, 'enter': 1051, 'next': 1986, 'day': 788, 'end': 1036, 'average': 277, 'tomorrow': 3103, 'super': 2986, 'tanker': 3030, 'regular': 2497, 'vessel': 3238, 'north': 2002, 'south': 2855, 'america': 140, 'mortgage': 1925, 'guaranteed': 1382, 'fund': 1313, 'making': 1792, 'exchangeable': 1103, 'unit': 3187, 'income': 1507, 'cite': 537, 'prospect': 2339, 'reporting': 2549, 'january': 1611, 'balance': 297, 'remain': 2517, 'good': 1354, 'order': 2078, 'harris': 1405, 'graphic': 1367, 'subsidiary': 2961, 'june': 1634, 'run': 2663, 'pace': 2112, 'rose': 2650, 'basis': 317, 'running': 2664, 'beginning': 333, 'old': 2050, 'division': 932, 'recent': 2449, 'introduction': 1576, 'decline': 813, 'development': 875, 'engineering': 1045, 'expenditure': 1129, 'allocated': 119, 'compared': 598, 'revenue': 2621, 'gulf': 1388, 'freight': 1301, 'call': 449, 'firmed': 1233, 'steady': 2915, 'loading': 1747, 'increasing': 1511, 'demand': 838, 'supply': 2992, 'dealer': 795, 'traded': 3120, 'st': 2891, 'louis': 1764, 'merchant': 1855, 'exchange': 1102, 'session': 2750, 'versus': 3237, 'yesterday': 3358, 'included': 1504, 'week': 3287, 'illinois': 1475, 'river': 2643, 'tariff': 3033, 'ex': 1089, 'quoted': 2402, 'percentage': 2168, 'point': 2224, 'mississippi': 1899, 'ohio': 2046, 'station': 2910, 'comparison': 599, 'level': 1709, 'sept': 2740, 'nov': 2013, 'dec': 803, 'section': 2710, 'applied': 180, 'sell': 2725, 'pipeline': 2199, 'added': 48, 'federal': 1198, 'owed': 2105, 'transaction': 3128, 'offset': 2042, 'farmer': 1186, 'group': 1375, 'electric': 1009, 'power': 2248, 'latest': 1674, 'virginia': 3247, 'dominion': 940, 'resource': 2578, 'undisclosed': 3182, 'amount': 145, 'based': 313, 'custom': 767, 'pressure': 2276, 'process': 2305, 'energy': 1039, 'industry': 1530, 'manufacture': 1805, 'oil': 2047, 'gas': 1323, 'utility': 3219, 'pulp': 2367, 'paper': 2121, 'marine': 1816, 'financial': 1224, 'formerly': 1278, 'saving': 2686, 'association': 237, 'merger': 1858, 'philippine': 2190, 'long': 1753, 'distance': 916, 'primary': 2287, 'peso': 2182, 'diluted': 886, 'name': 1948, 'telephone': 3046, 'figure': 1213, 'declaration': 810, 'liberty': 1715, 'star': 2903, 'initial': 1536, 'qtrly': 2387, 'secondary': 2708, 'offering': 2036, 'investment': 1583, 'firm': 1232, 'cut': 769, 'cyclops': 772, 'cyl': 773, 'stake': 2897, 'affiliated': 79, 'york': 3361, 'lowered': 1769, 'filing': 1216, 'security': 2714, 'led': 1697, 'mutual': 1944, 'feb': 1195, 'cent': 495, 'american': 141, 'express': 1150, 'seen': 2721, 'possible': 2239, 'remained': 2519, 'rumor': 2662, 'lehman': 1702, 'brother': 420, 'considering': 666, 'got': 1357, 'lift': 1719, 'partially': 2130, 'public': 2360, 'boosting': 377, 'talk': 3026, 'boost': 375, 'closed': 558, 'heavy': 1420, 'volume': 3252, 'comment': 578, 'activity': 43, 'tuesday': 3150, 'helped': 1424, 'fuel': 1310, 'undervalued': 3178, 'fully': 1312, 'reflect': 2482, 'according': 19, 'chief': 527, 'officer': 2038, 'lane': 1664, 'position': 2236, 'created': 747, 'speculated': 2873, 'partial': 2129, 'sense': 2735, 'contrary': 696, 'however': 1459, 'center': 496, 'highly': 1434, 'unlikely': 3193, 'going': 1349, 'questioned': 2397, 'profitable': 2319, 'several': 2757, 'need': 1966, 'might': 1880, 'others': 2087, 'believe': 340, 'well': 3294, 'considered': 665, 'option': 2077, 'selling': 2727, 'prudential': 2358, 'belief': 339, 'past': 2145, 'big': 354, 'premium': 2261, 'place': 2201, 'book': 374, 'worth': 3343, 'term': 3059, 'use': 3212, 'expand': 1120, 'internal': 1567, 'take': 3022, 'realistic': 2436, 'valuation': 3223, 'enhance': 1047, 'ability': 3, 'kind': 1647, 'road': 2644, 'hutton': 1466, 'michael': 1869, 'lewis': 1712, 'outlined': 2096, 'fact': 1170, 'investing': 1582, 'heavily': 1419, 'divestiture': 929, 'along': 129, 'way': 3279, 'reduced': 2469, 'exposure': 1149, 'brokerage': 418, 'travel': 3133, 'related': 2506, 'true': 3144, 'water': 3277, 'mark': 1818, 'component': 620, 'contributed': 698, 'usa': 3210, 'november': 2015, 'began': 331, 'steel': 2916, 'particularly': 2136, 'canadian': 457, 'subsequent': 2960, 'show': 2789, 'substantial': 2963, 'reach': 2426, 'previous': 2281, 'continuing': 693, 'grain': 1363, 'fall': 1179, 'totaled': 3114, 'car': 465, 'railroad': 2406, 'mill': 1883, 'hong': 1446, 'kong': 1653, 'industrial': 1528, 'pacific': 2113, 'raised': 2410, 'principally': 2290, 'owned': 2107, 'publicly': 2362, 'zealand': 3363, 'bought': 386, 'disclosed': 897, 'purpose': 2374, 'diamond': 878, 'shamrock': 2763, 'crude': 759, 'contract': 694, 'barrel': 310, 'reduction': 2472, 'brings': 407, 'posted': 2242, 'texas': 3066, 'intermediate': 1566, 'made': 1780, 'light': 1722, 'weak': 3280, 'citing': 540, 'wholly': 3305, 'receive': 2445, 'northern': 2004, 'telecom': 3043, 'proposes': 2336, 'profitability': 2318, 'prepared': 2264, 'swing': 3012, 'primarily': 2286, 'steep': 2917, 'changed': 509, 'single': 2811, 'diversified': 925, 'organization': 2083, 'enable': 1032, 'fair': 1177, 'vice': 3240, 'projected': 2324, 'reasonable': 2442, 'engaged': 1042, 'subject': 2955, 'post': 2241, 'closing': 561, 'fundamental': 1314, 'study': 2952, 'carl': 471, 'recently': 2450, 'elected': 1007, 'likely': 1725, 'costly': 728, 'certificate': 501, 'shortly': 2788, 'accounting': 22, 'office': 2037, 'administration': 56, 'source': 2854, 'obtained': 2025, 'agriculture': 97, 'department': 845, 'budget': 424, 'reuters': 2618, 'preparing': 2265, 'specific': 2870, 'request': 2559, 'former': 1277, 'senate': 2730, 'committee': 587, 'focus': 1255, 'released': 2513, 'depends': 851, 'program': 2320, 'usda': 3211, 'encourage': 1033, 'cause': 485, 'determined': 868, 'caused': 486, 'decrease': 816, 'le': 1685, 'suggest': 2974, 'expanded': 1121, 'negative': 1968, 'fire': 1231, 'agricultural': 96, 'expansion': 1123, 'remains': 2521, 'committed': 586, 'city': 542, 'national': 1953, 'page': 2117, 'petroleum': 2185, 'writedowns': 3348, 'communication': 591, 'ten': 3052, 'opec': 2056, 'meet': 1845, 'forced': 1264, 'production': 2313, 'cutting': 771, 'agreement': 94, 'slide': 2820, 'movement': 1933, 'never': 1980, 'thought': 3080, 'emergency': 1022, 'sort': 2850, 'problem': 2300, 'daniel': 782, 'associate': 235, 'face': 1166, 'excess': 1100, 'world': 3339, 'issue': 1599, 'must': 1943, 'paul': 2148, 'optimism': 2075, 'keep': 1640, 'given': 1342, 'address': 52, 'soon': 2849, 'wish': 3324, 'initiative': 1538, 'uncertain': 3170, 'even': 1082, 'bpd': 390, 'quota': 2401, 'buyer': 437, 'differential': 881, 'regional': 2493, 'manager': 1798, 'named': 1949, 'trying': 3149, 'david': 787, 'mideast': 1876, 'immediately': 1480, 'optimistic': 2076, 'principal': 2289, 'advantage': 63, 'winter': 3321, 'anything': 167, 'output': 2098, 'critical': 753, 'hold': 1441, 'together': 3100, 'pact': 2116, 'come': 576, 'back': 289, 'university': 3191, 'environment': 1061, 'policy': 2227, 'rising': 2640, 'prompted': 2329, 'clearly': 552, 'closer': 560, 'interview': 1573, 'property': 2331, 'following': 1259, 'reserve': 2567, 'fell': 1203, 'cubic': 761, 'foot': 1262, 'produce': 2308, 'recover': 2459, 'declares': 812, 'approval': 189, 'repurchase': 2558, 'significant': 2802, 'portion': 2234, 'convertible': 707, 'subordinated': 2958, 'debenture': 799, 'redeem': 2464, 'data': 784, 'senior': 2734, 'lambert': 1662, 'thomas': 3077, 'los': 1758, 'angeles': 151, 'seek': 2716, 'nova': 2014, 'win': 3318, 'deal': 794, 'owns': 2111, 'received': 2446, 'union': 3185, 'minister': 1891, 'ruled': 2660, 'non': 1996, 'ruling': 2661, 'key': 1644, 'completing': 615, 'equally': 1064, 'become': 327, 'private': 2296, 'relative': 2510, 'imperial': 1482, 'excludes': 1108, 'get': 1338, 'fed': 1197, 'coastal': 566, 'portland': 2235, 'still': 2924, 'banking': 304, 'santa': 2677, 'realty': 2440, 'enterprise': 1054, 'liquid': 1733, 'air': 103, 'detail': 863, 'agreed': 93, 'principle': 2291, 'alberta': 111, 'ontario': 2055, 'equipment': 1065, 'bbl': 322, 'par': 2122, 'grade': 1360, 'posting': 2243, 'benchmark': 343, 'edmonton': 993, 'hill': 1436, 'sweet': 3010, 'marathon': 1811, 'reduces': 2470, 'sour': 2853, 'louisiana': 1765, 'george': 1334, 'circuit': 534, 'maker': 1791, 'pretax': 2277, 'mail': 1781, 'rd': 2425, 'adjusted': 54, 'july': 1631, 'discontinued': 899, 'trust': 3146, 'independent': 1514, 'engineer': 1044, 'estimate': 1074, 'proved': 2348, 'discounted': 901, 'present': 2267, 'money': 1915, 'unitholders': 3189, 'remainder': 2518, 'restaurant': 2590, 'recurring': 2462, 'register': 2494, 'proceeds': 2304, 'repay': 2535, 'finance': 1222, 'state': 2907, 'body': 370, 'lending': 1705, 'institution': 1546, 'nation': 1952, 'paris': 2124, 'ministry': 1893, 'revision': 2629, 'bureau': 432, 'law': 1679, 'parliament': 2126, 'minimum': 1889, 'channel': 511, 'work': 3334, 'people': 2165, 'corporation': 720, 'local': 1749, 'usually': 3217, 'prime': 2288, 'follow': 1257, 'introduce': 1574, 'resolve': 2575, 'stimulate': 2925, 'allowed': 123, 'banker': 303, 'low': 1767, 'suggested': 2975, 'reached': 2427, 'using': 3215, 'telecommunication': 3044, 'health': 1413, 'determine': 867, 'setting': 2752, 'coupon': 737, 'bond': 372, 'choice': 531, 'italian': 1602, 'treasury': 3134, 'maturing': 1833, 'september': 2741, 'kuwait': 1656, 'remark': 2522, 'published': 2363, 'review': 2624, 'weakness': 3284, 'sheikh': 2772, 'ali': 113, 'al': 108, 'saying': 2689, 'none': 1997, 'member': 1847, 'asked': 224, 'denied': 843, 'pumping': 2369, 'self': 2724, 'imposed': 1493, 'limit': 1726, 'trader': 3121, 'producing': 2311, 'ceiling': 492, 'geneva': 1333, 'arab': 195, 'emirate': 1025, 'much': 1939, 'smaller': 2832, 'producer': 2310, 'ecuador': 991, 'among': 144, 'difficulty': 883, 'marketing': 1822, 'mean': 1839, 'referring': 2477, 'apparently': 172, 'qatar': 2384, 'pegged': 2158, 'dropped': 963, 'lowest': 1771, 'almost': 127, 'delivered': 836, 'challenge': 504, 'charging': 515, 'lost': 1762, 'elaborate': 1004, 'refining': 2481, 'facility': 1168, 'network': 1977, 'reaffirmed': 2433, 'planned': 2207, 'postponed': 2244, 'start': 2904, 'deputy': 856, 'fernando': 1205, 'santos': 2678, 'wednesday': 3286, 'wanted': 3267, 'pricing': 2285, 'apparent': 171, 'reference': 2475, 'faced': 1167, 'later': 1673, 'indonesia': 1526, 'economic': 987, 'appears': 177, 'political': 2228, 'measure': 1842, 'protected': 2341, 'launched': 1678, 'series': 2743, 'outside': 2100, 'sector': 2711, 'asian': 221, 'commodity': 588, 'severely': 2760, 'hit': 1439, 'divided': 930, 'direction': 890, 'lead': 1686, 'regard': 2490, 'deregulation': 857, 'ass': 228, 'general': 1328, 'many': 1809, 'adviser': 70, 'strongly': 2947, 'welcomed': 3293, 'step': 2919, 'though': 3079, 'crucial': 758, 'area': 204, 'plastic': 2211, 'monopoly': 1917, 'restriction': 2596, 'calendar': 445, 'zero': 3364, 'east': 984, 'asia': 220, 'million': 1885, 'facing': 1169, 'election': 1008, 'little': 1742, 'indication': 1521, 'positive': 2237, 'exceeding': 1095, 'continues': 692, 'suffer': 2970, 'sharp': 2769, 'coupled': 736, 'excessive': 1101, 'plant': 2209, 'capacity': 462, 'real': 2435, 'construction': 675, 'continuation': 689, 'support': 2993, 'partly': 2137, 'maintain': 1784, 'momentum': 1912, 'saudi': 2684, 'interbank': 1562, 'reluctant': 2516, 'uncertainty': 3171, 'succeed': 2966, 'traditional': 3123, 'sunday': 2985, 'european': 1078, 'weekend': 3288, 'lack': 1660, 'spot': 2886, 'put': 2382, 'ranging': 2416, 'unchanged': 3172, 'respectively': 2581, 'firmer': 1234, 'deficit': 827, 'shortfall': 2787, 'abdul': 2, 'spend': 2878, 'failed': 1174, 'surrounding': 3001, 'decided': 807, 'allocation': 120, 'urged': 3207, 'head': 1408, 'covered': 742, 'taken': 3023, 'burden': 431, 'placed': 2202, 'housing': 1456, 'building': 427, 'social': 2835, 'transport': 3131, 'expectation': 1125, 'sign': 2799, 'regarding': 2491, 'trend': 3136, 'determination': 866, 'protect': 2340, 'coming': 577, 'assigned': 231, 'behind': 336, 'grown': 1378, 'decade': 804, 'large': 1666, 'extent': 1158, 'henry': 1427, 'investor': 1584, 'vehicle': 3231, 'estate': 1073, 'metal': 1863, 'greater': 1369, 'instrument': 1548, 'disclosure': 898, 'requirement': 2563, 'reviewed': 2625, 'short': 2785, 'region': 2492, 'floated': 1248, 'underwriting': 3181, 'yet': 3359, 'establish': 1071, 'actively': 42, 'pursuing': 2378, 'develop': 871, 'recession': 2451, 'addition': 50, 'family': 1182, 'depth': 855, 'recovery': 2461, 'absence': 6, 'authority': 269, 'adopt': 58, 'called': 450, 'incorporation': 1508, 'joint': 1623, 'flotation': 1252, 'citizen': 541, 'cooperation': 712, 'council': 730, 'bahrain': 295, 'arabia': 196, 'uae': 3163, 'allowing': 124, 'bill': 358, 'regulation': 2499, 'issued': 1600, 'formal': 1273, 'appear': 175, 'commitment': 585, 'arabian': 197, 'reiterated': 2502, 'accord': 17, 'press': 2273, 'spa': 2860, 'free': 1299, 'season': 2702, 'main': 1782, 'around': 211, 'followed': 1258, 'saw': 2687, 'slump': 2829, 'currently': 766, 'shown': 2792, 'showed': 2790, 'stick': 2923, 'nigerian': 1990, 'aware': 286, 'force': 1263, 'satisfied': 2681, 'retain': 2609, 'auction': 261, 'despite': 862, 'suspension': 3005, 'weekly': 3289, 'away': 287, 'monetary': 1914, 'hoped': 1449, 'backed': 290, 'fresh': 1303, 'aid': 99, 'dismissed': 908, 'central': 497, 'used': 3213, 'suspended': 3004, 'rapid': 2418, 'devaluation': 870, 'fluctuation': 1254, 'planning': 2208, 'paying': 2151, 'successful': 2968, 'replaced': 2541, 'affiliate': 78, 'spokesman': 2884, 'decide': 806, 'yen': 3356, 'appreciation': 184, 'employ': 1028, 'worker': 3336, 'forecast': 1267, 'interim': 1565, 'jump': 1632, 'cleared': 550, 'jumped': 1633, 'sharply': 2770, 'drop': 962, 'neutral': 1978, 'zone': 3366, 'floating': 1249, 'storage': 2932, 'generally': 1330, 'restraint': 2593, 'scheme': 2695, 'appeared': 176, 'partner': 2138, 'exxon': 1164, 'mobil': 1906, 'tx': 3161, 'chevron': 525, 'signed': 2801, 'test': 3065, 'traditionally': 3124, 'fallen': 1180, 'refinery': 2480, 'telegraph': 3045, 'submitted': 2957, 'competition': 605, 'field': 1210, 'introduced': 1575, 'factor': 1171, 'japanese': 1613, 'china': 528, 'port': 2232, 'tonne': 3107, 'news': 1984, 'chinese': 529, 'foundation': 1285, 'able': 4, 'handle': 1396, 'container': 683, 'mineral': 1888, 'ore': 2081, 'mining': 1890, 'hk': 1440, 'final': 1220, 'excluded': 1107, 'bonus': 373, 'close': 557, 'fight': 1212, 'swedish': 3009, 'match': 1830, 'sweden': 3008, 'london': 1752, 'financier': 1226, 'secure': 2712, 'core': 716, 'ab': 0, 'voting': 3256, 'open': 2057, 'crown': 757, 'friday': 1305, 'restricted': 2595, 'left': 1699, 'amounted': 146, 'undertaken': 3177, 'defend': 820, 'far': 1183, 'originally': 2086, 'arm': 210, 'chemical': 524, 'buying': 438, 'incentive': 1501, 'managed': 1796, 'prevent': 2279, 'raid': 2405, 'heart': 1418, 'electrical': 1010, 'small': 2831, 'speculation': 2874, 'ordinary': 2080, 'continental': 687, 'every': 1086, 'stg': 2922, 'nominal': 1994, 'already': 130, 'representing': 2554, 'completion': 616, 'tendering': 3055, 'converted': 706, 'gave': 1326, 'insurance': 1549, 'broker': 417, 'plc': 2216, 'purchased': 2371, 'plus': 2223, 'tangible': 3028, 'combined': 575, 'excluding': 1109, 'institute': 1545, 'economics': 988, 'listed': 1739, 'tokyo': 3101, 'manufacturing': 1808, 'reduce': 2468, 'borrowing': 383, 'supported': 2994, 'promote': 2327, 'lowering': 1770, 'guideline': 1386, 'maturity': 1834, 'prevailing': 2278, 'cd': 491, 'half': 1390, 'discount': 900, 'british': 410, 'commonwealth': 590, 'shipping': 2781, 'richard': 2634, 'obligation': 2022, 'valued': 3225, 'managing': 1800, 'peter': 2183, 'suggesting': 2976, 'fee': 1200, 'doubled': 946, 'sm': 2830, 'provided': 2351, 'software': 2839, 'community': 593, 'turnover': 3156, 'permission': 2175, 'lifted': 1720, 'rapidly': 2419, 'contribute': 697, 'agrees': 95, 'entered': 1052, 'conditional': 637, 'distributes': 920, 'enlarged': 1048, 'ahead': 98, 'african': 82, 'sanction': 2674, 'democratic': 841, 'party': 2140, 'decree': 817, 'africa': 81, 'conference': 641, 'took': 3108, 'priority': 2295, 'backing': 291, 'begin': 332, 'top': 3110, 'side': 2797, 'increasingly': 1512, 'annually': 160, 'cabinet': 440, 'whole': 3303, 'relation': 2508, 'secretary': 2709, 'stop': 2930, 'congressional': 651, 'protectionist': 2345, 'pressing': 2275, 'action': 40, 'huge': 1462, 'hard': 1402, 'forcing': 1265, 'exporter': 1147, 'slash': 2819, 'spending': 2879, 'lay': 1684, 'statistic': 2911, 'progress': 2321, 'instead': 1544, 'congress': 650, 'minute': 1897, 'list': 1738, 'replied': 2544, 'discussion': 907, 'structure': 2950, 'affect': 75, 'bilateral': 357, 'imbalance': 1477, 'multilateral': 1942, 'structural': 2949, 'intended': 1557, 'consumer': 678, 'implication': 1486, 'tight': 3092, 'complained': 609, 'intention': 1560, 'washington': 3275, 'turn': 3152, 'meant': 1840, 'seems': 2720, 'draft': 953, 'practice': 2250, 'without': 3330, 'otherwise': 2088, 'senator': 2731, 'lloyd': 1745, 'proposal': 2333, 'access': 14, 'retaliatory': 2613, 'especially': 1068, 'threat': 3082, 'complaint': 610, 'variety': 3229, 'sent': 2736, 'machine': 1778, 'eventually': 1084, 'informal': 1533, 'bidding': 353, 'procedure': 2301, 'easily': 982, 'potential': 2245, 'seller': 2726, 'started': 2905, 'showing': 2791, 'healthy': 1415, 'looked': 1756, 'successfully': 2969, 'presence': 2266, 'represented': 2553, 'television': 3047, 'look': 1755, 'discus': 904, 'implementation': 1484, 'exporting': 1148, 'resistance': 2573, 'stabilize': 2893, 'newspaper': 1985, 'taiwan': 3021, 'round': 2652, 'deep': 818, 'narrow': 1950, 'wang': 3265, 'sometime': 2846, 'item': 1604, 'speed': 2877, 'faster': 1188, 'island': 1597, 'boosted': 376, 'protectionism': 2344, 'weakened': 3281, 'shoe': 2782, 'textile': 3067, 'tool': 3109, 'delegation': 835, 'leaf': 1690, 'limited': 1728, 'losing': 1760, 'korea': 1654, 'satisfactory': 2680, 'proposed': 2335, 'morning': 1924, 'remaining': 2520, 'performing': 2171, 'largely': 1667, 'gross': 1373, 'grew': 1372, 'nearly': 1963, 'adversely': 65, 'entire': 1056, 'spin': 2881, 'separately': 2739, 'issuing': 1601, 'give': 1341, 'decision': 809, 'criticism': 754, 'hilton': 1437, 'hotel': 1453, 'britain': 409, 'scientific': 2697, 'micro': 1871, 'supplier': 2991, 'disc': 895, 'drive': 961, 'personal': 2179, 'privately': 2297, 'mountain': 1930, 'view': 3243, 'california': 448, 'approximately': 193, 'double': 945, 'studying': 2953, 'consideration': 664, 'strategy': 2938, 'external': 1159, 'matter': 1832, 'strategic': 2937, 'ultimately': 3166, 'giant': 1340, 'focused': 1256, 'beyond': 350, 'thursday': 3088, 'bring': 405, 'similar': 2806, 'employee': 1029, 'consider': 661, 'concerned': 629, 'allow': 121, 'stand': 2899, 'confirm': 645, 'unsuccessfully': 3198, 'attempted': 250, 'looking': 1757, 'global': 1345, 'takeover': 3024, 'rejected': 2504, 'approached': 186, 'accepted': 12, 'response': 2585, 'expired': 1136, 'starting': 2906, 'hostile': 1452, 'lender': 1704, 'margin': 1814, 'acceptance': 11, 'intends': 1558, 'evaluate': 1079, 'number': 2017, 'negotiation': 1972, 'seeking': 2717, 'ill': 1473, 'concentrate': 626, 'load': 1746, 'evaluating': 1080, 'satisfy': 2682, 'jr': 1628, 'resigned': 2571, 'limitation': 1727, 'liability': 1713, 'damage': 777, 'claim': 544, 'owner': 2108, 'publication': 2361, 'qualified': 2389, 'difference': 879, 'exchanged': 1104, 'buyout': 439, 'jersey': 1615, 'overnight': 2103, 'courier': 738, 'formed': 1276, 'predicted': 2255, 'majority': 1789, 'acquiring': 33, 'pc': 2154, 'rest': 2588, 'containing': 684, 'tendered': 3054, 'aggregate': 88, 'follows': 1260, 'auto': 272, 'closure': 562, 'cap': 459, 'tank': 3029, 'reviewing': 2626, 'rival': 2642, 'add': 47, 'ground': 1374, 'fleet': 1243, 'complete': 611, 'bridge': 403, 'financing': 1227, 'keeping': 1641, 'turning': 3155, 'serious': 2744, 'competitor': 608, 'william': 3312, 'executive': 1113, 'conditioned': 638, 'withdrawn': 3327, 'expiration': 1134, 'clearance': 549, 'staff': 2895, 'interstate': 1569, 'commerce': 581, 'expire': 1135, 'unless': 3192, 'extended': 1153, 'fsb': 1309, 'definitive': 828, 'ag': 84, 'und': 3173, 'cie': 533, 'parent': 2123, 'swiss': 3013, 'franc': 1291, 'venture': 3235, 'invest': 1578, 'room': 2649, 'omits': 2051, 'consecutive': 657, 'roughly': 2651, 'participation': 2134, 'existing': 1119, 'amusement': 149, 'withdrawal': 3326, 'est': 1070, 'gmt': 1346, 'sydney': 3016, 'western': 3297, 'sum': 2981, 'financed': 1223, 'manufacturer': 1807, 'transfer': 3129, 'pre': 2252, 'hart': 1406, 'scott': 2698, 'expecting': 1127, 'reporter': 2548, 'mainly': 1783, 'attributed': 260, 'surge': 2997, 'contribution': 699, 'associated': 236, 'stability': 2892, 'rich': 2633, 'noting': 2012, 'land': 1663, 'build': 425, 'airport': 106, 'via': 3239, 'receives': 2447, 'revised': 2628, 'delayed': 833, 'assurance': 242, 'society': 2837, 'ownership': 2109, 'vote': 3254, 'diagnostic': 877, 'miller': 1884, 'traffic': 3125, 'approve': 190, 'representative': 2552, 'serve': 2746, 'minneapolis': 1894, 'sb': 2690, 'tentatively': 3058, 'granted': 1366, 'refusal': 2488, 'described': 858, 'fast': 1187, 'throughout': 3087, 'date': 785, 'eliminate': 1015, 'underway': 3179, 'elimination': 1016, 'multi': 1941, 'listing': 1740, 'consolidated': 672, 'significantly': 2803, 'reflecting': 2484, 'retirement': 2614, 'august': 266, 'shop': 2783, 'provision': 2355, 'store': 2933, 'jim': 1616, 'walter': 3264, 'wood': 3331, 'disposition': 912, 'defer': 825, 'maintenance': 1787, 'medical': 1843, 'sa': 2665, 'france': 1293, 'incurred': 1513, 'unsolicited': 3195, 'sterling': 2921, 'lp': 1772, 'acting': 39, 'person': 2178, 'entity': 1059, 'obtaining': 2026, 'diligence': 885, 'referred': 2476, 'realize': 2437, 'ratio': 2423, 'glass': 1344, 'laboratory': 1659, 'established': 1072, 'golden': 1351, 'casino': 483, 'atlantic': 245, 'assumption': 241, 'reverse': 2623, 'shell': 2774, 'massachusetts': 1828, 'florida': 1251, 'acre': 35, 'house': 1455, 'semi': 2728, 'indiana': 1518, 'scale': 2691, 'retail': 2606, 'electronic': 1012, 'effort': 1000, 'grow': 1376, 'jointly': 1624, 'resort': 2577, 'urge': 3206, 'overseas': 2104, 'exploration': 1141, 'consumption': 679, 'guard': 1384, 'risk': 2641, 'unusual': 3199, 'settlement': 2755, 'patent': 2146, 'suit': 2978, 'writeoff': 3349, 'sweetened': 3011, 'mass': 1827, 'chain': 502, 'operator': 2066, 'fifth': 1211, 'disclose': 896, 'information': 1534, 'sec': 2706, 'confident': 643, 'besides': 346, 'syndicate': 3017, 'separate': 2738, 'merrill': 1860, 'lynch': 1776, 'smith': 2833, 'toward': 3117, 'consist': 668, 'war': 3268, 'newly': 1982, 'drawn': 957, 'document': 935, 'consisting': 670, 'mi': 1868, 'concluded': 633, 'spanish': 2863, 'pharmaceutical': 2186, 'authorization': 270, 'lira': 1737, 'became': 326, 'responsible': 2587, 'basic': 314, 'device': 876, 'accept': 9, 'cheap': 520, 'either': 1003, 'uk': 3164, 'approach': 185, 'route': 2653, 'identified': 1469, 'attitude': 254, 'explained': 1138, 'done': 942, 'best': 347, 'link': 1730, 'someone': 2844, 'extending': 1154, 'specialty': 2869, 'corrected': 722, 'negotiating': 1971, 'bac': 288, 'german': 1336, 'branch': 393, 'card': 466, 'proceeding': 2303, 'franklin': 1298, 'gold': 1350, 'petro': 2184, 'employer': 1030, 'dutch': 969, 'abandoned': 1, 'tonight': 3106, 'strike': 2944, 'cargo': 470, 'broke': 415, 'protest': 2346, 'redundancy': 2473, 'workforce': 3337, 'deadline': 793, 'affair': 74, 'de': 791, 'resolution': 2574, 'dispute': 913, 'withdraw': 3325, 'guilder': 1387, 'subsidy': 2962, 'technical': 3039, 'default': 819, 'southeast': 2856, 'neither': 1974, 'expense': 1130, 'newport': 1983, 'healthcare': 1414, 'entertainment': 1055, 'eastern': 985, 'coast': 565, 'living': 1744, 'discussed': 905, 'possibility': 2238, 'joining': 1622, 'stressed': 2943, 'refused': 2489, 'rule': 2659, 'closely': 559, 'concern': 628, 'controlled': 701, 'specify': 2872, 'understanding': 3176, 'appropriate': 187, 'rex': 2631, 'pursuant': 2375, 'midnight': 1878, 'corrects': 725, 'ran': 2413, 'film': 1218, 'distributor': 922, 'mostly': 1927, 'required': 2562, 'slight': 2821, 'release': 2512, 'represents': 2555, 'germany': 1337, 'extends': 1155, 'accepting': 13, 'extension': 1156, 'son': 2848, 'mr': 1935, 'ice': 1467, 'shipbuilding': 2778, 'letter': 1708, 'intent': 1559, 'john': 1618, 'vancouver': 3228, 'awarded': 285, 'prepare': 2263, 'financially': 1225, 'capable': 461, 'generate': 1331, 'direct': 889, 'employment': 1031, 'powerful': 2249, 'controversial': 703, 'passage': 2142, 'sea': 2699, 'disputed': 914, 'northwest': 2005, 'operates': 2063, 'explore': 1143, 'video': 3241, 'carryforward': 476, 'merchandise': 1854, 'proceed': 2302, 'terminate': 3061, 'obtain': 2024, 'england': 1046, 'thrift': 3086, 'yield': 3360, 'respond': 2582, 'insured': 1550, 'minnesota': 1895, 'michigan': 1870, 'expect': 1124, 'weaker': 3283, 'accelerated': 8, 'drug': 964, 'puerto': 2366, 'leasing': 1693, 'involve': 1586, 'hour': 1454, 'mercantile': 1853, 'complex': 617, 'negotiate': 1969, 'frank': 1296, 'century': 498, 'liquidity': 1736, 'entering': 1053, 'providing': 2353, 'requested': 2560, 'halted': 1393, 'responded': 2583, 'confidence': 642, 'reject': 2503, 'georgia': 1335, 'pioneer': 2197, 'atlanta': 244, 'talking': 3027, 'timing': 3096, 'proxy': 2357, 'material': 1831, 'regulatory': 2501, 'broadcast': 412, 'license': 1717, 'cable': 441, 'franchise': 1294, 'arbitrage': 198, 'player': 2214, 'convinced': 709, 'superior': 2987, 'chance': 506, 'word': 3333, 'climbed': 556, 'recommendation': 2453, 'create': 746, 'restructured': 2599, 'leveraged': 1710, 'sheet': 2771, 'package': 2114, 'thereafter': 3071, 'really': 2439, 'adopted': 59, 'affected': 76, 'warner': 3271, 'subscriber': 2959, 'satellite': 2679, 'spirit': 2882, 'immediate': 1479, 'negotiator': 1973, 'opened': 2058, 'summer': 2982, 'aimed': 102, 'barrier': 311, 'biggest': 356, 'shipment': 2779, 'competitiveness': 607, 'lessen': 1706, 'mar': 1810, 'tie': 3090, 'politically': 2229, 'size': 2817, 'realized': 2438, 'permit': 2176, 'productivity': 2315, 'demanded': 839, 'competitive': 606, 'imposing': 1494, 'duty': 970, 'lumber': 1775, 'curb': 763, 'publishing': 2365, 'broadcasting': 413, 'defense': 823, 'rain': 2408, 'rejection': 2505, 'rental': 2530, 'fla': 1240, 'location': 1751, 'merge': 1856, 'headquartered': 1411, 'calif': 447, 'san': 2673, 'int': 1552, 'event': 1083, 'acquires': 32, 'announces': 157, 'served': 2747, 'nature': 1956, 'advised': 69, 'engage': 1041, 'concerning': 630, 'combination': 574, 'animal': 153, 'johnson': 1619, 'moore': 1922, 'farm': 1185, 'robert': 2645, 'friendly': 1306, 'advertising': 67, 'heading': 1410, 'mine': 1887, 'write': 3346, 'silver': 2805, 'flat': 1242, 'legal': 1700, 'advisor': 71, 'outcome': 2092, 'bass': 318, 'indicated': 1520, 'identify': 1470, 'segment': 2722, 'join': 1620, 'reynolds': 2632, 'republic': 2556, 'larger': 1668, 'representation': 2551, 'doubt': 947, 'type': 3162, 'efficient': 999, 'hospital': 1451, 'begun': 334, 'turnaround': 3153, 'replacing': 2543, 'reducing': 2471, 'requires': 2564, 'finalized': 1221, 'inventory': 1577, 'toronto': 3112, 'ottawa': 2089, 'operate': 2061, 'suitor': 2979, 'emerge': 1020, 'struck': 2948, 'slipped': 2823, 'read': 2431, 'restated': 2589, 'automotive': 274, 'aerospace': 73, 'user': 3214, 'transportation': 3132, 'near': 1961, 'developer': 873, 'equivalent': 1067, 'horizon': 1450, 'packaging': 2115, 'tire': 3097, 'rubber': 2658, 'tenn': 3056, 'original': 2085, 'replacement': 2542, 'drilling': 960, 'responding': 2584, 'warning': 3272, 'turkey': 3151, 'clear': 548, 'ambassador': 136, 'met': 1862, 'undersecretary': 3175, 'framework': 1290, 'shelf': 2773, 'drill': 959, 'repeatedly': 2539, 'let': 1707, 'know': 1651, 'considers': 667, 'court': 740, 'irwin': 1596, 'jacob': 1607, 'del': 830, 'charter': 517, 'salt': 2670, 'lake': 1661, 'utah': 3218, 'partnership': 2139, 'whose': 3306, 'cumulative': 762, 'repeal': 2537, 'writedown': 3347, 'swap': 3007, 'maximum': 1836, 'behalf': 335, 'client': 553, 'laser': 1670, 'precision': 2253, 'redeemed': 2466, 'appliance': 178, 'purchaser': 2372, 'retailer': 2607, 'fidelity': 1208, 'boston': 384, 'bringing': 406, 'casualty': 484, 'written': 3352, 'attempt': 249, 'violation': 3246, 'connection': 656, 'unsuccessful': 3197, 'attorney': 255, 'reliance': 2514, 'working': 3338, 'adequate': 53, 'confirmed': 646, 'heard': 1416, 'nothing': 2010, 'investigation': 1581, 'acknowledged': 29, 'enforcement': 1040, 'threaten': 3083, 'spring': 2889, 'wage': 3257, 'guarantee': 1381, 'great': 1368, 'appointed': 183, 'settle': 2753, 'asking': 225, 'crew': 751, 'job': 1617, 'dallas': 776, 'dd': 790, 'ford': 1266, 'europe': 1077, 'soared': 2834, 'attend': 252, 'motor': 1929, 'indonesian': 1527, 'weather': 3285, 'cartel': 479, 'predict': 2254, 'refiner': 2479, 'slack': 2818, 'occidental': 2028, 'battery': 319, 'australian': 268, 'pratt': 2251, 'pty': 2359, 'professional': 2316, 'placement': 2203, 'effectively': 997, 'assuming': 240, 'exercise': 1116, 'underwriter': 3180, 'depreciation': 853, 'accounted': 21, 'minority': 1896, 'tighten': 3093, 'chip': 530, 'acted': 38, 'microchip': 1872, 'preserve': 2270, 'semiconductor': 2729, 'argue': 205, 'gap': 1321, 'exported': 1146, 'case': 481, 'ask': 223, 'debit': 800, 'question': 2396, 'success': 2967, 'intend': 1556, 'flexible': 1245, 'oppose': 2069, 'dead': 792, 'thing': 3073, 'saturday': 2683, 'arc': 202, 'recommended': 2454, 'mexican': 1866, 'improving': 1498, 'consists': 671, 'linking': 1732, 'mexico': 1867, 'phase': 2187, 'rather': 2421, 'diversify': 926, 'exceptional': 1099, 'legislation': 1701, 'poor': 2231, 'exception': 1098, 'expressed': 1151, 'volatility': 3251, 'revaluation': 2620, 'slowly': 2827, 'steadily': 2914, 'iron': 1594, 'zinc': 3365, 'coal': 564, 'resulted': 2602, 'remove': 2524, 'status': 2912, 'ease': 979, 'peking': 2159, 'persuade': 2181, 'visit': 3249, 'extremely': 1163, 'important': 1489, 'businessmen': 434, 'quickly': 2399, 'treatment': 3135, 'preference': 2257, 'easing': 983, 'influence': 1532, 'normal': 2000, 'article': 218, 'preventing': 2280, 'table': 3019, 'except': 1097, 'trans': 3127, 'getting': 1339, 'qualify': 2390, 'dumping': 968, 'diplomat': 887, 'willingness': 3315, 'voluntary': 3253, 'respect': 2579, 'massive': 1829, 'speech': 2876, 'northeast': 2003, 'participating': 2133, 'designed': 860, 'play': 2213, 'role': 2646, 'opportunity': 2068, 'membership': 1848, 'actual': 44, 'presented': 2268, 'gradually': 1362, 'mandatory': 1801, 'royal': 2656, 'airline': 105, 'flight': 1246, 'amsterdam': 148, 'preliminary': 2259, 'fail': 1173, 'agree': 92, 'exploratory': 1142, 'brought': 421, 'night': 1991, 'nv': 2018, 'attributable': 259, 'shanghai': 2764, 'battle': 320, 'attracted': 257, 'underlying': 3174, 'strength': 2940, 'known': 1652, 'site': 2813, 'sun': 2984, 'team': 3037, 'cooperate': 711, 'different': 880, 'fit': 1237, 'conservative': 660, 'gained': 1320, 'jacques': 1608, 'accused': 26, 'alter': 132, 'stance': 2898, 'necessary': 1965, 'break': 398, 'settled': 2754, 'greatly': 1371, 'method': 1864, 'accumulated': 25, 'factory': 1172, 'belgium': 338, 'apply': 182, 'colorado': 572, 'seat': 2704, 'brewing': 401, 'consortium': 674, 'came': 453, 'expensive': 1131, 'leased': 1692, 'lease': 1691, 'iii': 1472, 'upon': 3201, 'restructure': 2598, 'cross': 756, 'repayment': 2536, 'assume': 238, 'grant': 1365, 'concession': 631, 'particular': 2135, 'asks': 226, 'federation': 1199, 'reagan': 2434, 'moderate': 1908, 'pleased': 2218, 'ban': 299, 'triggered': 3138, 'wake': 3262, 'county': 734, 'deferred': 826, 'pro': 2298, 'forma': 1272, 'resulting': 2603, 'shield': 2775, 'respective': 2580, 'revise': 2627, 'downward': 952, 'compensation': 602, 'auditor': 264, 'supermarket': 2988, 'disposal': 910, 'taking': 3025, 'considerable': 662, 'turned': 3154, 'launch': 1677, 'lee': 1698, 'french': 1302, 'accordance': 18, 'chartered': 518, 'tv': 3157, 'tech': 3038, 'receipt': 2444, 'weakening': 3282, 'blamed': 364, 'badly': 294, 'drawing': 956, 'maritime': 1817, 'extend': 1152, 'possibly': 2240, 'conduct': 639, 'contest': 686, 'italy': 1603, 'reply': 2545, 'deutsche': 869, 'soviet': 2859, 'moscow': 1926, 'temporary': 3051, 'indirectly': 1524, 'arranging': 215, 'directly': 891, 'upward': 3205, 'weighted': 3291, 'bearing': 325, 'charged': 514, 'accrual': 23, 'climate': 554, 'comparable': 596, 'pension': 2164, 'termination': 3064, 'retained': 2610, 'replace': 2540, 'prefer': 2256, 'pledge': 2219, 'intervention': 1572, 'subcommittee': 2954, 'correction': 724, 'occurred': 2030, 'welcome': 3292, 'consulting': 677, 'agent': 87, 'platform': 2212, 'penny': 2163, 'ongoing': 2053, 'evaluation': 1081, 'quality': 2391, 'exceeded': 1094, 'image': 1476, 'trim': 3139, 'science': 2696, 'leaving': 1696, 'dealing': 796, 'arrange': 212, 'indirect': 1523, 'harper': 1404, 'please': 2217, 'servicing': 2749, 'troubled': 3142, 'borrower': 382, 'adverse': 64, 'nasdaq': 1951, 'pending': 2161, 'headquarters': 1412, 'permitted': 2177, 'distributed': 919, 'unissued': 3186, 'beneficial': 344, 'extra': 1161, 'went': 3295, 'solid': 2841, 'hurt': 1465, 'belgian': 337, 'ec': 986, 'react': 2429, 'passed': 2143, 'retaliate': 2611, 'retaliation': 2612, 'bigger': 355, 'iran': 1590, 'scandal': 2692, 'congressman': 652, 'impose': 1492, 'lot': 1763, 'seem': 2718, 'solve': 2843, 'conflict': 648, 'adoption': 60, 'printing': 2293, 'opposes': 2071, 'dan': 780, 'pas': 2141, 'club': 563, 'warned': 3270, 'message': 1861, 'freedom': 1300, 'informed': 1535, 'longer': 1754, 'pursue': 2376, 'dynamic': 971, 'earn': 974, 'malcolm': 1794, 'stephen': 2920, 'civil': 543, 'jack': 1606, 'exchequer': 1105, 'adding': 49, 'compete': 603, 'aggressively': 90, 'developed': 872, 'simply': 2808, 'peak': 2157, 'builder': 426, 'standstill': 2901, 'filed': 1215, 'registration': 2496, 'explaining': 1139, 'favor': 1189, 'philip': 2189, 'design': 859, 'involves': 1588, 'carrier': 474, 'hike': 1435, 'sought': 2851, 'leave': 1695, 'protection': 2343, 'owning': 2110, 'quick': 2398, 'bristol': 408, 'myers': 1946, 'aircraft': 104, 'nevada': 1979, 'passenger': 2144, 'pooling': 2230, 'environmental': 1062, 'mn': 1904, 'ge': 1327, 'engine': 1043, 'wave': 3278, 'plane': 2206, 'nicholas': 1987, 'boeing': 371, 'rent': 2529, 'notice': 2011, 'severe': 2759, 'downturn': 951, 'decides': 808, 'trouble': 3141, 'barney': 309, 'military': 1882, 'element': 1014, 'earning': 976, 'retailing': 2608, 'founded': 1286, 'roy': 2655, 'operated': 2062, 'apparel': 170, 'cosmetic': 726, 'failure': 1176, 'aviation': 282, 'manufactured': 1806, 'premier': 2260, 'bell': 342, 'advisory': 72, 'goodyear': 1356, 'specialist': 2868, 'harm': 1403, 'strengthening': 2942, 'sir': 2812, 'james': 1609, 'giving': 1343, 'hearing': 1417, 'crop': 755, 'harvest': 1407, 'bear': 324, 'careful': 468, 'ussr': 3216, 'broken': 416, 'highest': 1433, 'damaged': 778, 'normally': 2001, 'inadequate': 1499, 'excellent': 1096, 'bulk': 429, 'southern': 2857, 'feed': 1201, 'require': 2561, 'worried': 3341, 'feel': 1202, 'bad': 293, 'push': 2379, 'hanson': 1399, 'han': 1394, 'cement': 494, 'promptly': 2330, 'mentioned': 1851, 'redemption': 2467, 'moving': 1934, 'restore': 2591, 'sanford': 2676, 'seasonal': 2703, 'pushed': 2380, 'sure': 2996, 'lose': 1759, 'resume': 2604, 'assistance': 233, 'nigeria': 1989, 'fear': 1193, 'apart': 168, 'covering': 743, 'rally': 2412, 'iranian': 1591, 'brent': 399, 'sparked': 2864, 'mixed': 1901, 'opinion': 2067, 'slow': 2824, 'seaman': 2700, 'furniture': 1316, 'reflects': 2485, 'api': 169, 'gasoline': 1324, 'pound': 2247, 'regulator': 2500, 'royalty': 2657, 'divest': 927, 'located': 1750, 'founder': 1287, 'jones': 1625, 'wine': 3320, 'francisco': 1295, 'importer': 1491, 'declining': 815, 'panel': 2120, 'strengthen': 2941, 'selected': 2723, 'developing': 874, 'wheat': 3300, 'india': 1516, 'malaysia': 1793, 'venezuela': 3232, 'stage': 2896, 'broad': 411, 'liquidating': 1734, 'issuance': 1598, 'lawson': 1682, 'br': 391, 'stay': 2913, 'morgan': 1923, 'stanley': 2902, 'speaking': 2866, 'offshore': 2044, 'willing': 3314, 'happen': 1400, 'pushing': 2381, 'attempting': 251, 'believed': 341, 'natural': 1955, 'lab': 1657, 'audit': 263, 'version': 3236, 'relating': 2507, 'resolved': 2576, 'exempt': 1114, 'row': 2654, 'edward': 994, 'produced': 2309, 'invested': 1579, 'attractive': 258, 'targeted': 3032, 'blocked': 366, 'donald': 941, 'suffered': 2971, 'soft': 2838, 'sharing': 2768, 'greatest': 1370, 'contractor': 695, 'priced': 2284, 'metropolitan': 1865, 'alternative': 133, 'applies': 181, 'columbia': 573, 'dow': 949, 'black': 363, 'williams': 3313, 'shift': 2776, 'conversion': 704, 'survey': 3002, 'writeoffs': 3350, 'lawsuit': 1683, 'van': 3227, 'severance': 2758, 'trustee': 3147, 'depend': 846, 'labor': 1658, 'shutdown': 2796, 'compare': 597, 'antitrust': 166, 'peabody': 2156, 'pipe': 2198, 'specifically': 2871, 'ought': 2091, 'spain': 2862, 'productive': 2314, 'vital': 3250, 'amounting': 147, 'merged': 1857, 'frankfurt': 1297, 'eased': 980, 'latin': 1675, 'korean': 1655, 'likelihood': 1724, 'wide': 3307, 'depressed': 854, 'mart': 1824, 'oregon': 2082, 'seattle': 2705, 'wholesale': 3304, 'midland': 1877, 'mm': 1903, 'across': 36, 'electro': 1011, 'terminated': 3062, 'piedmont': 2194, 'pie': 2193, 'agenda': 86, 'withdrew': 3328, 'norfolk': 1999, 'flexibility': 1244, 'suggestion': 2977, 'refund': 2487, 'propose': 2334, 'oct': 2032, 'extensive': 1157, 'invited': 1585, 'search': 2701, 'compatible': 600, 'aide': 100, 'commissioner': 584, 'handling': 1397, 'delay': 832, 'chapter': 512, 'bankruptcy': 305, 'active': 41, 'recapitalization': 2443, 'maximize': 1835, 'wilson': 3317, 'rig': 2635, 'onshore': 2054, 'injection': 1539, 'spur': 2890, 'revolving': 2630, 'elect': 1006, 'task': 3034, 'potentially': 2246, 'boat': 369, 'middle': 1875, 'railway': 2407, 'supreme': 2995, 'preparation': 2262, 'sullivan': 2980, 'bound': 387, 'switch': 3014, 'transferred': 3130, 'machinery': 1779, 'park': 2125, 'represent': 2550, 'comply': 619, 'training': 3126, 'allied': 118, 'insurer': 1551, 'samuel': 2672, 'charles': 516, 'aim': 101, 'officially': 2040, 'breached': 397, 'monitor': 1916, 'singapore': 2810, 'debate': 798, 'delegate': 834, 'funding': 1315, 'purchasing': 2373, 'examine': 1091, 'consultation': 676, 'buyback': 436, 'kidder': 1645, 'bullish': 430, 'borrow': 381, 'truck': 3143, 'chrysler': 532, 'wind': 3319, 'reaction': 2430, 'ever': 1085, 'lucky': 1774, 'goldman': 1352, 'sachs': 2666, 'utilization': 3220, 'collapse': 569, 'recovered': 2460, 'chase': 519, 'manhattan': 1802, 'expanding': 1122, 'quite': 2400, 'medium': 1844, 'advance': 61, 'francaise': 1292, 'communique': 592, 'journalist': 1627, 'marked': 1819, 'save': 2685, 'wait': 3259, 'lawmaker': 1680, 'finding': 1229, 'assist': 232, 'tell': 3048, 'marginal': 1815, 'stood': 2929, 'opposition': 2073, 'found': 1284, 'calculation': 444, 'justice': 1637, 'becoming': 329, 'alliance': 117, 'tea': 3036, 'stopped': 2931, 'shareholding': 2767, 'indicate': 1519, 'twa': 3158, 'negotiated': 1970, 'acceptable': 10, 'poison': 2226, 'pill': 2195, 'litigation': 1741, 'appeal': 173, 'integrated': 1553, 'presently': 2269, 'carrying': 478, 'down': 950, 'correcting': 723, 'maryland': 1826, 'alaska': 110, 'secured': 2713, 'mer': 1852, 'hanover': 1398, 'brand': 394, 'receiving': 2448, 'clayton': 547, 'counsel': 731, 'advanced': 62, 'motion': 1928, 'picture': 2192, 'emerging': 1023, 'inquiry': 1541, 'participate': 2132, 'sentiment': 2737, 'tried': 3137, 'joined': 1621, 'liberal': 1714, 'drew': 958, 'tactic': 3020, 'alleged': 115, 'therefore': 3072, 'discovered': 902, 'spent': 2880, 'opposing': 2072, 'threatened': 3084, 'else': 1017, 'arbitrager': 199, 'putting': 2383, 'seriously': 2745, 'relatively': 2511, 'prove': 2347, 'certainly': 500, 'objective': 2021, 'becomes': 328, 'insider': 1542, 'midwest': 1879, 'dominant': 939, 'stronger': 2946, 'forest': 1270, 'trip': 3140, 'appropriation': 188, 'fine': 1230, 'mull': 1940, 'writing': 3351, 'mitsubishi': 1900, 'weight': 3290, 'ton': 3104, 'concrete': 635, 'often': 2045, 'announce': 154, 'forecasting': 1268, 'considerably': 663, 'portfolio': 2233, 'balanced': 298, 'leader': 1687, 'tough': 3116, 'airway': 107, 'hundred': 1464, 'hughes': 1463, 'baker': 296, 'ht': 1460, 'moved': 1932, 'maintained': 1785, 'levy': 1711, 'submit': 2956, 'valid': 3221, 'failing': 1175, 'sluggish': 2828, 'spotlight': 2887, 'lifting': 1721, 'convert': 705, 'expert': 1133, 'yes': 3357, 'assessment': 229, 'argument': 207, 'imf': 1478, 'cooperative': 713, 'creditor': 750, 'answer': 162, 'egypt': 1001, 'allows': 125, 'iraq': 1592, 'reflected': 2483, 'pledged': 2220, 'libya': 1716, 'consent': 659, 'explanation': 1140, 'objection': 2020, 'defendant': 821, 'injunction': 1540, 'live': 1743, 'proportion': 2332, 'lend': 1703, 'obviously': 2027, 'defensive': 824, 'contained': 682, 'commenting': 580, 'kept': 1643, 'restrict': 2594, 'generale': 1329, 'societe': 2836, 'du': 965, 'siemens': 2798, 'relief': 2515, 'arranged': 213, 'advertisement': 66, 'proration': 2338, 'fewer': 1207, 'responsibility': 2586, 'something': 2845, 'summit': 2983, 'thomson': 3078, 'distribute': 918, 'oak': 2019, 'formally': 1274, 'controlling': 702, 'southwest': 2858, 'comprising': 623, 'execution': 1112, 'banco': 300, 'repair': 2534, 'always': 135, 'headed': 1409, 'pep': 2166, 'rep': 2533, 'disruption': 915, 'republican': 2557, 'illegal': 1474, 'advise': 68, 'compliance': 618, 'indicator': 1522, 'strain': 2935, 'vienna': 3242, 'serf': 2742, 'promised': 2326, 'offs': 2041, 'att': 246, 'ordered': 2079, 'na': 1947, 'beach': 323, 'formation': 1275, 'intervene': 1570, 'drain': 954, 'tone': 3105, 'fortune': 1281, 'course': 739, 'aug': 265, 'marlin': 1823, 'implement': 1483, 'yearend': 3355, 'integration': 1554, 'virtually': 3248, 'liquidation': 1735, 'alan': 109, 'montreal': 1921, 'index': 1515, 'meanwhile': 1841, 'signal': 2800, 'moment': 1911, 'phillips': 2191, 'rating': 2422, 'speculative': 2875, 'cautious': 487, 'margaret': 1813, 'thatcher': 3070, 'latter': 1676, 'argued': 206, 'front': 1307, 'clearing': 551, 'philadelphia': 2188, 'merit': 1859, 'file': 1214, 'opposed': 2070, 'speaker': 2865, 'wright': 3345, 'pump': 2368, 'signing': 2804, 'allegation': 114, 'compromise': 624, 'block': 365, 'banque': 306, 'monday': 1913, 'reserved': 2568, 'stockbroker': 2927, 'bourse': 388, 'joseph': 1626, 'nominee': 1995, 'outlet': 2094, 'arising': 208, 'nuclear': 2016, 'rand': 2414, 'announcing': 158, 'demonstrated': 842, 'redeemable': 2465, 'westminster': 3298, 'idea': 1468, 'ald': 112, 'maintaining': 1786, 'attacked': 248, 'completely': 613, 'capability': 460, 'brazilian': 396, 'rio': 2637, 'netherlands': 1976, 'suspend': 3003, 'deterioration': 865, 'extinguishment': 1160, 'solution': 2842, 'door': 943, 'tel': 3042, 'slower': 2826, 'spread': 2888, 'institutional': 1547, 'unavailable': 3169, 'consolidation': 673, 'necessarily': 1964, 'oilfield': 2048, 'goal': 1348, 'emerged': 1021, 'brief': 404, 'correct': 721, 'ministerial': 1892, 'twice': 3159, 'connecticut': 655, 'consensus': 658, 'climb': 555, 'tension': 3057, 'progressive': 2322, 'chancellor': 507, 'helmut': 1422, 'pursued': 2377, 'nonrecurring': 1998, 'automobile': 273, 'performed': 2170, 'conducted': 640, 'totaling': 3115, 'comprised': 622, 'brace': 392, 'returned': 2617, 'fin': 1219, 'renewed': 2528, 'simon': 2807, 'shut': 2795, 'mo': 1905, 'inter': 1561, 'guardian': 1385, 'calling': 451, 'candidate': 458, 'borg': 380, 'bor': 378, 'reed': 2474, 'tied': 3091, 'supplied': 2990, 'mobile': 1907, 'manages': 1799, 'alleges': 116, 'violated': 3244, 'fiduciary': 1209, 'carefully': 469, 'beef': 330, 'contingent': 688, 'fe': 1192, 'reconsider': 2455, 'reopen': 2531, 'hall': 1391, 'cutback': 770, 'iraqi': 1593, 'sand': 2675, 'norwegian': 2007, 'carter': 480, 'felt': 1204, 'navigation': 1958, 'delaware': 831, 'investigate': 1580, 'martin': 1825, 'space': 2861, 'band': 301, 'district': 923, 'dome': 937, 'commented': 579, 'fairly': 1178, 'plaza': 2215, 'ally': 126, 'broadly': 414, 'consistent': 669, 'story': 2934, 'border': 379, 'dudley': 966, 'fbc': 1191, 'outline': 2095, 'debtor': 802, 'safety': 2667, 'pennsylvania': 2162, 'cooper': 710, 'upper': 3202, 'earthquake': 978, 'installation': 1543, 'km': 1650, 'quake': 2388, 'registered': 2495, 'colombia': 570, 'nationwide': 1954, 'offsetting': 2043, 'memory': 1849, 'nigel': 1988, 'stated': 2908, 'risen': 2639, 'cheaper': 521, 'widely': 3308, 'rank': 2417, 'mind': 1886, 'requiring': 2565, 'organized': 2084, 'encouraging': 1035, 'proposing': 2337, 'exercised': 1117, 'detailed': 864, 'resident': 2569, 'colonial': 571, 'send': 2732, 'industrialized': 1529, 'draw': 955, 'ultimate': 3165, 'pattern': 2147, 'amendment': 139, 'asher': 219, 'fabric': 1165, 'accompanying': 16, 'formula': 1279, 'gte': 1380, 'confirms': 647, 'protecting': 2342, 'degree': 829, 'depended': 847, 'crazy': 745, 'sound': 2852, 'elder': 1005, 'ferry': 1206, 'herald': 1428, 'unspecified': 3196, 'quoting': 2403, 'pilot': 2196, 'salvage': 2671, 'accident': 15, 'nearby': 1962, 'pressed': 2274, 'prompt': 2328, 'carried': 473, 'actually': 45, 'connected': 654, 'arrived': 216, 'sugar': 2973, 'assumed': 239, 'entitled': 1058, 'audio': 262, 'ava': 275, 'stem': 2918, 'salary': 2668, 'king': 1648, 'disaster': 894, 'governor': 1359, 'province': 2354, 'contain': 681, 'bay': 321, 'feared': 1194, 'perhaps': 2172, 'sixth': 2816, 'indian': 1517, 'incident': 1502, 'lawrence': 1681, 'roll': 2647, 'shall': 2762, 'happened': 1401, 'built': 428, 'yard': 3353, 'shipowner': 2780, 'navy': 1959, 'jungle': 1635, 'venezuelan': 3233, 'linked': 1731, 'processing': 2306, 'man': 1795, 'affecting': 77, 'circulation': 535, 'basin': 316, 'unanimously': 3168, 'amended': 138, 'caesar': 442, 'caw': 488, 'mt': 1936, 'urging': 3208, 'obstacle': 2023, 'trump': 3145, 'discovery': 903, 'permanent': 2174, 'personnel': 2180, 'renault': 2526, 'disney': 909, 'cellular': 493, 'amc': 137, 'amo': 143, 'ga': 1318, 'schedule': 2693, 'thus': 3089, 'waiver': 3261, 'ii': 1471, 'accrued': 24, 'conclusion': 634, 'procurement': 2307, 'efficiency': 998, 'gy': 1389, 'renew': 2527, 'wor': 3332, 'appealed': 174, 'barclays': 308, 'dependent': 849, 'pittsburgh': 2200, 'restraining': 2592, 'wisconsin': 3323, 'carolina': 472, 'participant': 2131, 'foster': 1283, 'surprised': 3000, 'calgary': 446, 'query': 2395, 'basically': 315, 'achieved': 28, 'creating': 748, 'binding': 360, 'compagnie': 594, 'tobacco': 3098, 'resumed': 2605, 'unfair': 3183, 'ronald': 2648, 'montgomery': 1918, 'sgl': 2761, 'citibank': 539, 'modified': 1910, 'dart': 783, 'henley': 1426, 'conclude': 632, 'renamed': 2525, 'shopping': 2784, 'arco': 203, 'biotechnology': 361, 'arizona': 209, 'mile': 1881, 'ocean': 2031, 'exact': 1090, 'publisher': 2364, 'avert': 280, 'dependence': 848, 'floor': 1250, 'afford': 80, 'imported': 1490, 'distiller': 917, 'grand': 1364, 'achieve': 27, 'couple': 735, 'temporarily': 3050, 'entirely': 1057, 'corn': 717, 'valuing': 3226, 'fort': 1280, 'helping': 1425, 'dated': 786, 'essential': 1069, 'attention': 253, 'modest': 1909, 'aggressive': 89, 'upturn': 3204, 'easier': 981, 'campaign': 454, 'comprehensive': 621, 'gradual': 1361, 'importance': 1488, 'everything': 1087, 'desire': 861, 'supervisory': 2989, 'placing': 2204, 'administrative': 57, 'retroactive': 2615, 'flag': 1241, 'proven': 2349, 'em': 1019, 'outflow': 2093, 'corazon': 715, 'anger': 152, 'guaranty': 1383, 'cpc': 744, 'refined': 2478, 'intervened': 1571, 'divested': 928, 'et': 1076, 'holiday': 1444, 'compensate': 601, 'hernandez': 1430, 'goodwill': 1355, 'unveiled': 3200, 'history': 1438, 'recording': 2458, 'digital': 884, 'adam': 46, 'assistant': 234, 'evidence': 1088, 'keen': 1639, 'willy': 3316, 'judgment': 1630, 'parliamentary': 2127, 'unrelated': 3194, 'unidentified': 3184, 'topped': 3111, 'cola': 568, 'microwave': 1873, 'mutually': 1945, 'manila': 1803, 'aside': 222, 'copy': 714, 'valley': 3222, 'campbell': 455, 'red': 2463, 'penalty': 2160, 'democrat': 840, 'whatever': 3299, 'encouraged': 1034, 'wider': 3310, 'damaging': 779, 'elsewhere': 1018, 'missile': 1898, 'intelligence': 1555, 'gathering': 1325, 'allowance': 122, 'conglomerate': 649, 'cci': 490, 'tightening': 3094, 'ward': 3269, 'gone': 1353, 'somewhat': 2847, 'iv': 1605, 'reaching': 2428, 'thinking': 3075, 'provisional': 2356, 'wireless': 3322, 'cawl': 489, 'dayton': 789, 'hudson': 1461, 'relationship': 2509, 'aspect': 227, 'disappointed': 893, 'optic': 2074, 'blue': 367, 'bar': 307, 'bp': 389, 'mth': 1937, 'bruce': 423, 'lyon': 1777, 'manner': 1804, 'arthur': 217, 'anticipates': 165, 'violating': 3245, 'defending': 822, 'assure': 243, 'strait': 2936, 'structured': 2951, 'confidential': 644, 'uruguay': 3209, 'restrictive': 2597, 'raw': 2424, 'sending': 2733, 'exploring': 1144, 'naval': 1957, 'tehran': 3041, 'warns': 3273, 'danger': 781, 'implemented': 1485, 'norway': 2006, 'chamber': 505, 'calm': 452, 'karl': 1638, 'otto': 2090, 'killed': 1646, 'brewer': 400, 'accelerate': 7, 'widened': 3309, 'conn': 653, 'clark': 545, 'marketable': 1821, 'check': 522, 'code': 567, 'emphasized': 1027, 'existence': 1118, 'fill': 1217, 'honor': 1447, 'terminates': 3063, 'emphasis': 1026, 'suburban': 2965, 'heritage': 1429, 'sustained': 3006, 'friction': 1304, 'oklahoma': 2049, 'jardine': 1614, 'convince': 708, 'outright': 2099, 'executed': 1111, 'irving': 1595, 'content': 685, 'junior': 1636, 'planter': 2210, 'arbitration': 201, 'thailand': 3069, 'wagner': 3258, 'fargo': 1184, 'mention': 1850, 'denver': 844, 'brook': 419, 'dispose': 911, 'quebec': 2394, 'diplomatic': 888, 'capitalized': 464, 'judge': 1629, 'leadership': 1688, 'venice': 3234, 'telling': 3049, 'award': 284, 'float': 1247, 'plunge': 2221, 'pak': 2119, 'emery': 1024, 'louvre': 1766, 'eddie': 992}\n"
          ],
          "name": "stdout"
        }
      ]
    },
    {
      "cell_type": "code",
      "metadata": {
        "colab": {
          "base_uri": "https://localhost:8080/"
        },
        "id": "4E9i9OAVjcpf",
        "outputId": "d5b66d38-46be-4ea0-b391-2412b52e12bd"
      },
      "source": [
        "keywords = get_keywords(d_data)\n",
        "all_rscores = cosine_similarity_desm_docs(keywords,train_vec,vocab,embeddings)"
      ],
      "execution_count": null,
      "outputs": [
        {
          "output_type": "stream",
          "text": [
            "0\n",
            "5000\n"
          ],
          "name": "stdout"
        }
      ]
    },
    {
      "cell_type": "code",
      "metadata": {
        "cellView": "both",
        "colab": {
          "base_uri": "https://localhost:8080/"
        },
        "id": "DqC69zvaqjus",
        "outputId": "fc452428-dfb7-4ebe-b9f8-15c305659cdb"
      },
      "source": [
        "device = torch.device(\"cuda:0\" if torch.cuda.is_available() else \"cpu\")\n",
        "tensor_train_w = torch.from_numpy(train_vec).float()\n",
        "train_label = np.asarray(train_label)\n",
        "\n",
        "num_coordinate = 2\n",
        "bs = 256\n",
        "en1_units_x = 100\n",
        "en2_units_x = 100\n",
        "num_input = train_vec[0].shape[0]\n",
        "variance_x = 1\n",
        "learning_rate = 0.001\n",
        "beta1 = 0.99\n",
        "beta2 = 0.999\n",
        "drop_rate = 0.2\n",
        "num_topic = 20\n",
        "gc.collect()"
      ],
      "execution_count": null,
      "outputs": [
        {
          "output_type": "execute_result",
          "data": {
            "text/plain": [
              "301"
            ]
          },
          "metadata": {
            "tags": []
          },
          "execution_count": 25
        }
      ]
    },
    {
      "cell_type": "markdown",
      "metadata": {
        "id": "_H35cwZwSR2O"
      },
      "source": [
        "# **2. Score**"
      ]
    },
    {
      "cell_type": "code",
      "metadata": {
        "colab": {
          "base_uri": "https://localhost:8080/",
          "height": 229
        },
        "id": "DkvzqQMNXbuK",
        "outputId": "5fe377e7-f502-43f8-eba8-255eeae4f731"
      },
      "source": [
        "top_10_docs=[]\n",
        "sort,indices = torch.sort(all_rscores,descending=True)\n",
        "print('Keywords',keywords)\n",
        "print('Descending :',sort,'\\n','indices:',indices)\n",
        "print('\\n\\n Top 10 Relevant Documents (DESM):\\n\\n',\"---\"*40)\n",
        "\n",
        "for k in range(10):\n",
        "   print(k+1,') ',preprossed_data_non_zeros[indices[k].item()])\n",
        "   print(k+1,')',train_label[indices[k].item()])\n",
        "\n",
        "with open(\"1000.txt\", \"w\") as output:\n",
        "  for k in range(0,1000):\n",
        "    output.write(str(k+1)+') '+str(preprossed_data_non_zeros[indices[k].item()])+'\\n')\n",
        "    output.write(str(k+1)+') '+str(sort[k].item())+'\\n')\n",
        "    output.write(str(k+1)+') '+str(train_label[indices[k].item()])+'\\n')\n",
        "output.close()"
      ],
      "execution_count": null,
      "outputs": [
        {
          "output_type": "error",
          "ename": "NameError",
          "evalue": "ignored",
          "traceback": [
            "\u001b[0;31m---------------------------------------------------------------------------\u001b[0m",
            "\u001b[0;31mNameError\u001b[0m                                 Traceback (most recent call last)",
            "\u001b[0;32m<ipython-input-22-b024f200f40c>\u001b[0m in \u001b[0;36m<module>\u001b[0;34m()\u001b[0m\n\u001b[1;32m      1\u001b[0m \u001b[0mtop_10_docs\u001b[0m\u001b[0;34m=\u001b[0m\u001b[0;34m[\u001b[0m\u001b[0;34m]\u001b[0m\u001b[0;34m\u001b[0m\u001b[0;34m\u001b[0m\u001b[0m\n\u001b[0;32m----> 2\u001b[0;31m \u001b[0msort\u001b[0m\u001b[0;34m,\u001b[0m\u001b[0mindices\u001b[0m \u001b[0;34m=\u001b[0m \u001b[0mtorch\u001b[0m\u001b[0;34m.\u001b[0m\u001b[0msort\u001b[0m\u001b[0;34m(\u001b[0m\u001b[0mall_rscores\u001b[0m\u001b[0;34m,\u001b[0m\u001b[0mdescending\u001b[0m\u001b[0;34m=\u001b[0m\u001b[0;32mTrue\u001b[0m\u001b[0;34m)\u001b[0m\u001b[0;34m\u001b[0m\u001b[0;34m\u001b[0m\u001b[0m\n\u001b[0m\u001b[1;32m      3\u001b[0m \u001b[0mprint\u001b[0m\u001b[0;34m(\u001b[0m\u001b[0;34m'Keywords'\u001b[0m\u001b[0;34m,\u001b[0m\u001b[0mkeywords\u001b[0m\u001b[0;34m)\u001b[0m\u001b[0;34m\u001b[0m\u001b[0;34m\u001b[0m\u001b[0m\n\u001b[1;32m      4\u001b[0m \u001b[0mprint\u001b[0m\u001b[0;34m(\u001b[0m\u001b[0;34m'Descending :'\u001b[0m\u001b[0;34m,\u001b[0m\u001b[0msort\u001b[0m\u001b[0;34m,\u001b[0m\u001b[0;34m'\\n'\u001b[0m\u001b[0;34m,\u001b[0m\u001b[0;34m'indices:'\u001b[0m\u001b[0;34m,\u001b[0m\u001b[0mindices\u001b[0m\u001b[0;34m)\u001b[0m\u001b[0;34m\u001b[0m\u001b[0;34m\u001b[0m\u001b[0m\n\u001b[1;32m      5\u001b[0m \u001b[0mprint\u001b[0m\u001b[0;34m(\u001b[0m\u001b[0;34m'\\n\\n Top 10 Relevant Documents (DESM):\\n\\n'\u001b[0m\u001b[0;34m,\u001b[0m\u001b[0;34m\"---\"\u001b[0m\u001b[0;34m*\u001b[0m\u001b[0;36m40\u001b[0m\u001b[0;34m)\u001b[0m\u001b[0;34m\u001b[0m\u001b[0;34m\u001b[0m\u001b[0m\n",
            "\u001b[0;31mNameError\u001b[0m: name 'all_rscores' is not defined"
          ]
        }
      ]
    },
    {
      "cell_type": "code",
      "metadata": {
        "id": "2bELCcZ0Wu-v",
        "colab": {
          "base_uri": "https://localhost:8080/",
          "height": 229
        },
        "outputId": "4ef7d415-ad2e-408e-904f-badbb38322ba"
      },
      "source": [
        "from sklearn.preprocessing import MinMaxScaler\n",
        "from matplotlib import pyplot as plt\n",
        "scaler = MinMaxScaler(feature_range=(0+1e-10, 0.99))\n",
        "normalized_all_rscores = scaler.fit_transform(all_rscores.data.reshape(-1,1))\n",
        "normalized_all_rscores=torch.tensor(normalized_all_rscores.flatten())\n",
        "rounded_normalized_all_rscores = torch.round(normalized_all_rscores*10)/10.0"
      ],
      "execution_count": null,
      "outputs": [
        {
          "output_type": "error",
          "ename": "NameError",
          "evalue": "ignored",
          "traceback": [
            "\u001b[0;31m---------------------------------------------------------------------------\u001b[0m",
            "\u001b[0;31mNameError\u001b[0m                                 Traceback (most recent call last)",
            "\u001b[0;32m<ipython-input-23-7c772925b510>\u001b[0m in \u001b[0;36m<module>\u001b[0;34m()\u001b[0m\n\u001b[1;32m      2\u001b[0m \u001b[0;32mfrom\u001b[0m \u001b[0mmatplotlib\u001b[0m \u001b[0;32mimport\u001b[0m \u001b[0mpyplot\u001b[0m \u001b[0;32mas\u001b[0m \u001b[0mplt\u001b[0m\u001b[0;34m\u001b[0m\u001b[0;34m\u001b[0m\u001b[0m\n\u001b[1;32m      3\u001b[0m \u001b[0mscaler\u001b[0m \u001b[0;34m=\u001b[0m \u001b[0mMinMaxScaler\u001b[0m\u001b[0;34m(\u001b[0m\u001b[0mfeature_range\u001b[0m\u001b[0;34m=\u001b[0m\u001b[0;34m(\u001b[0m\u001b[0;36m0\u001b[0m\u001b[0;34m+\u001b[0m\u001b[0;36m1e-10\u001b[0m\u001b[0;34m,\u001b[0m \u001b[0;36m0.99\u001b[0m\u001b[0;34m)\u001b[0m\u001b[0;34m)\u001b[0m\u001b[0;34m\u001b[0m\u001b[0;34m\u001b[0m\u001b[0m\n\u001b[0;32m----> 4\u001b[0;31m \u001b[0mnormalized_all_rscores\u001b[0m \u001b[0;34m=\u001b[0m \u001b[0mscaler\u001b[0m\u001b[0;34m.\u001b[0m\u001b[0mfit_transform\u001b[0m\u001b[0;34m(\u001b[0m\u001b[0mall_rscores\u001b[0m\u001b[0;34m.\u001b[0m\u001b[0mdata\u001b[0m\u001b[0;34m.\u001b[0m\u001b[0mreshape\u001b[0m\u001b[0;34m(\u001b[0m\u001b[0;34m-\u001b[0m\u001b[0;36m1\u001b[0m\u001b[0;34m,\u001b[0m\u001b[0;36m1\u001b[0m\u001b[0;34m)\u001b[0m\u001b[0;34m)\u001b[0m\u001b[0;34m\u001b[0m\u001b[0;34m\u001b[0m\u001b[0m\n\u001b[0m\u001b[1;32m      5\u001b[0m \u001b[0mnormalized_all_rscores\u001b[0m\u001b[0;34m=\u001b[0m\u001b[0mtorch\u001b[0m\u001b[0;34m.\u001b[0m\u001b[0mtensor\u001b[0m\u001b[0;34m(\u001b[0m\u001b[0mnormalized_all_rscores\u001b[0m\u001b[0;34m.\u001b[0m\u001b[0mflatten\u001b[0m\u001b[0;34m(\u001b[0m\u001b[0;34m)\u001b[0m\u001b[0;34m)\u001b[0m\u001b[0;34m\u001b[0m\u001b[0;34m\u001b[0m\u001b[0m\n\u001b[1;32m      6\u001b[0m \u001b[0mrounded_normalized_all_rscores\u001b[0m \u001b[0;34m=\u001b[0m \u001b[0mtorch\u001b[0m\u001b[0;34m.\u001b[0m\u001b[0mround\u001b[0m\u001b[0;34m(\u001b[0m\u001b[0mnormalized_all_rscores\u001b[0m\u001b[0;34m*\u001b[0m\u001b[0;36m10\u001b[0m\u001b[0;34m)\u001b[0m\u001b[0;34m/\u001b[0m\u001b[0;36m10.0\u001b[0m\u001b[0;34m\u001b[0m\u001b[0;34m\u001b[0m\u001b[0m\n",
            "\u001b[0;31mNameError\u001b[0m: name 'all_rscores' is not defined"
          ]
        }
      ]
    },
    {
      "cell_type": "code",
      "metadata": {
        "id": "Ij7bLLIzsSwT"
      },
      "source": [
        "plt.hist(normalized_all_rscores)"
      ],
      "execution_count": null,
      "outputs": []
    },
    {
      "cell_type": "code",
      "metadata": {
        "id": "AFKk_TJcMSSB"
      },
      "source": [
        "plt.hist(rounded_normalized_all_rscores)"
      ],
      "execution_count": null,
      "outputs": []
    },
    {
      "cell_type": "code",
      "metadata": {
        "id": "F8zGrIE4E3gP"
      },
      "source": [
        "gc.collect()"
      ],
      "execution_count": null,
      "outputs": []
    },
    {
      "cell_type": "markdown",
      "metadata": {
        "id": "XwcrBK2pe4Qc"
      },
      "source": [
        "# Cosine Score"
      ]
    },
    {
      "cell_type": "code",
      "metadata": {
        "id": "LTSIn3KOU9gz"
      },
      "source": [
        "import torch.nn\n",
        "cos_sim = nn.CosineSimilarity(dim=-1, eps=1e-8)"
      ],
      "execution_count": null,
      "outputs": []
    },
    {
      "cell_type": "code",
      "metadata": {
        "id": "XynFNdWqUmaw"
      },
      "source": [
        "def flatten_list(user_list): return [item for sublist in user_list for item in sublist]\n",
        "def get_embedding_tensor(word_list,embeddings): return torch.tensor([embeddings[w] for w in word_list])"
      ],
      "execution_count": null,
      "outputs": []
    },
    {
      "cell_type": "code",
      "metadata": {
        "id": "TZDLGsPOAT_G"
      },
      "source": [
        "torch.pi = torch.acos(torch.zeros(1)).item() * 2\n",
        "def cosine_angular_sim(keyword_torch,words_tensor): return 1 - (torch.acos(cos_sim(keyword_torch,words_tensor))) / torch.pi\n",
        "def cosine_norm_01(keyword_torch,words_tensor): return (cos_sim(keyword_torch,words_tensor) + 1.0)/2.0\n",
        "def cosine_sqrt(keyword_torch,words_tensor): return 1 - ((1 - cos_sim(keyword_torch,words_tensor) )/2)**0.5\n",
        "\n",
        "def cosine_keywords(keywords,words_tensor,word_list):\n",
        "  all_keywords_score = []\n",
        "  cosine_score_vocab = {}\n",
        "  keyword_total_score = torch.zeros(len(vocab))\n",
        "  for k in keywords:\n",
        "    keyword_torch = torch.from_numpy(embeddings[k])\n",
        "    keyword_torch = keyword_torch.unsqueeze(0).expand(len(vocab),words_tensor.shape[1])\n",
        "    all_keywords_score.append(cosine_sqrt(keyword_torch,words_tensor))\n",
        "    # keyword_total_score += cos_sim(keyword_torch,words_tensor)\n",
        "  keywords_max_score,keyword_max_score_idx = torch.max(torch.stack(all_keywords_score),dim=0)\n",
        "  cosine_score_vocab = dict(zip(word_list,keywords_max_score.numpy()))\n",
        "\n",
        "  return all_keywords_score,keyword_total_score/len(keywords),keywords_max_score,cosine_score_vocab"
      ],
      "execution_count": null,
      "outputs": []
    },
    {
      "cell_type": "code",
      "metadata": {
        "id": "OJbv4cJ-Umax"
      },
      "source": [
        "sorted_id_word_vocab = sorted(id_vocab.items(), key=lambda x: x[1]) ### alphabetically sorted\n",
        "word_list = [s[1] for s in sorted_id_word_vocab]\n",
        "words_tensor = get_embedding_tensor(word_list,embeddings)\n",
        "\n",
        "all_keywords_score,keywords_mean_score,keywords_max_score,cosine_score_vocab = cosine_keywords(keywords,words_tensor,word_list)\n",
        "\n",
        "sorted_cosine_words_vocab = sorted(cosine_score_vocab.items(), key=lambda x: x[1]) ### cosine sim score sorted\n",
        "sorted_cosine_vocab = [s[0] for s in sorted_cosine_words_vocab]\n",
        "\n",
        "embedding_tensor_sorted_alp = get_embedding_tensor(word_list,embeddings)\n",
        "embedding_tensor_keywords = get_embedding_tensor(keywords,embeddings)\n",
        "embedding_tensor_sorted_cos = get_embedding_tensor(sorted_cosine_vocab,embeddings)"
      ],
      "execution_count": null,
      "outputs": []
    },
    {
      "cell_type": "code",
      "metadata": {
        "colab": {
          "base_uri": "https://localhost:8080/"
        },
        "id": "HN5pZ4JxjmVd",
        "outputId": "3e8c14da-7ed0-4371-8392-a4d567905125"
      },
      "source": [
        "sorted_id_word_vocab"
      ],
      "execution_count": null,
      "outputs": [
        {
          "output_type": "execute_result",
          "data": {
            "text/plain": [
              "[(0, 'ab'),\n",
              " (1, 'abandoned'),\n",
              " (2, 'abdul'),\n",
              " (3, 'ability'),\n",
              " (4, 'able'),\n",
              " (5, 'abroad'),\n",
              " (6, 'absence'),\n",
              " (7, 'accelerate'),\n",
              " (8, 'accelerated'),\n",
              " (9, 'accept'),\n",
              " (10, 'acceptable'),\n",
              " (11, 'acceptance'),\n",
              " (12, 'accepted'),\n",
              " (13, 'accepting'),\n",
              " (14, 'access'),\n",
              " (15, 'accident'),\n",
              " (16, 'accompanying'),\n",
              " (17, 'accord'),\n",
              " (18, 'accordance'),\n",
              " (19, 'according'),\n",
              " (20, 'account'),\n",
              " (21, 'accounted'),\n",
              " (22, 'accounting'),\n",
              " (23, 'accrual'),\n",
              " (24, 'accrued'),\n",
              " (25, 'accumulated'),\n",
              " (26, 'accused'),\n",
              " (27, 'achieve'),\n",
              " (28, 'achieved'),\n",
              " (29, 'acknowledged'),\n",
              " (30, 'acquire'),\n",
              " (31, 'acquired'),\n",
              " (32, 'acquires'),\n",
              " (33, 'acquiring'),\n",
              " (34, 'acquisition'),\n",
              " (35, 'acre'),\n",
              " (36, 'across'),\n",
              " (37, 'act'),\n",
              " (38, 'acted'),\n",
              " (39, 'acting'),\n",
              " (40, 'action'),\n",
              " (41, 'active'),\n",
              " (42, 'actively'),\n",
              " (43, 'activity'),\n",
              " (44, 'actual'),\n",
              " (45, 'actually'),\n",
              " (46, 'adam'),\n",
              " (47, 'add'),\n",
              " (48, 'added'),\n",
              " (49, 'adding'),\n",
              " (50, 'addition'),\n",
              " (51, 'additional'),\n",
              " (52, 'address'),\n",
              " (53, 'adequate'),\n",
              " (54, 'adjusted'),\n",
              " (55, 'adjustment'),\n",
              " (56, 'administration'),\n",
              " (57, 'administrative'),\n",
              " (58, 'adopt'),\n",
              " (59, 'adopted'),\n",
              " (60, 'adoption'),\n",
              " (61, 'advance'),\n",
              " (62, 'advanced'),\n",
              " (63, 'advantage'),\n",
              " (64, 'adverse'),\n",
              " (65, 'adversely'),\n",
              " (66, 'advertisement'),\n",
              " (67, 'advertising'),\n",
              " (68, 'advise'),\n",
              " (69, 'advised'),\n",
              " (70, 'adviser'),\n",
              " (71, 'advisor'),\n",
              " (72, 'advisory'),\n",
              " (73, 'aerospace'),\n",
              " (74, 'affair'),\n",
              " (75, 'affect'),\n",
              " (76, 'affected'),\n",
              " (77, 'affecting'),\n",
              " (78, 'affiliate'),\n",
              " (79, 'affiliated'),\n",
              " (80, 'afford'),\n",
              " (81, 'africa'),\n",
              " (82, 'african'),\n",
              " (83, 'afternoon'),\n",
              " (84, 'ag'),\n",
              " (85, 'agency'),\n",
              " (86, 'agenda'),\n",
              " (87, 'agent'),\n",
              " (88, 'aggregate'),\n",
              " (89, 'aggressive'),\n",
              " (90, 'aggressively'),\n",
              " (91, 'ago'),\n",
              " (92, 'agree'),\n",
              " (93, 'agreed'),\n",
              " (94, 'agreement'),\n",
              " (95, 'agrees'),\n",
              " (96, 'agricultural'),\n",
              " (97, 'agriculture'),\n",
              " (98, 'ahead'),\n",
              " (99, 'aid'),\n",
              " (100, 'aide'),\n",
              " (101, 'aim'),\n",
              " (102, 'aimed'),\n",
              " (103, 'air'),\n",
              " (104, 'aircraft'),\n",
              " (105, 'airline'),\n",
              " (106, 'airport'),\n",
              " (107, 'airway'),\n",
              " (108, 'al'),\n",
              " (109, 'alan'),\n",
              " (110, 'alaska'),\n",
              " (111, 'alberta'),\n",
              " (112, 'ald'),\n",
              " (113, 'ali'),\n",
              " (114, 'allegation'),\n",
              " (115, 'alleged'),\n",
              " (116, 'alleges'),\n",
              " (117, 'alliance'),\n",
              " (118, 'allied'),\n",
              " (119, 'allocated'),\n",
              " (120, 'allocation'),\n",
              " (121, 'allow'),\n",
              " (122, 'allowance'),\n",
              " (123, 'allowed'),\n",
              " (124, 'allowing'),\n",
              " (125, 'allows'),\n",
              " (126, 'ally'),\n",
              " (127, 'almost'),\n",
              " (128, 'alone'),\n",
              " (129, 'along'),\n",
              " (130, 'already'),\n",
              " (131, 'also'),\n",
              " (132, 'alter'),\n",
              " (133, 'alternative'),\n",
              " (134, 'although'),\n",
              " (135, 'always'),\n",
              " (136, 'ambassador'),\n",
              " (137, 'amc'),\n",
              " (138, 'amended'),\n",
              " (139, 'amendment'),\n",
              " (140, 'america'),\n",
              " (141, 'american'),\n",
              " (142, 'amid'),\n",
              " (143, 'amo'),\n",
              " (144, 'among'),\n",
              " (145, 'amount'),\n",
              " (146, 'amounted'),\n",
              " (147, 'amounting'),\n",
              " (148, 'amsterdam'),\n",
              " (149, 'amusement'),\n",
              " (150, 'analyst'),\n",
              " (151, 'angeles'),\n",
              " (152, 'anger'),\n",
              " (153, 'animal'),\n",
              " (154, 'announce'),\n",
              " (155, 'announced'),\n",
              " (156, 'announcement'),\n",
              " (157, 'announces'),\n",
              " (158, 'announcing'),\n",
              " (159, 'annual'),\n",
              " (160, 'annually'),\n",
              " (161, 'another'),\n",
              " (162, 'answer'),\n",
              " (163, 'anti'),\n",
              " (164, 'anticipated'),\n",
              " (165, 'anticipates'),\n",
              " (166, 'antitrust'),\n",
              " (167, 'anything'),\n",
              " (168, 'apart'),\n",
              " (169, 'api'),\n",
              " (170, 'apparel'),\n",
              " (171, 'apparent'),\n",
              " (172, 'apparently'),\n",
              " (173, 'appeal'),\n",
              " (174, 'appealed'),\n",
              " (175, 'appear'),\n",
              " (176, 'appeared'),\n",
              " (177, 'appears'),\n",
              " (178, 'appliance'),\n",
              " (179, 'application'),\n",
              " (180, 'applied'),\n",
              " (181, 'applies'),\n",
              " (182, 'apply'),\n",
              " (183, 'appointed'),\n",
              " (184, 'appreciation'),\n",
              " (185, 'approach'),\n",
              " (186, 'approached'),\n",
              " (187, 'appropriate'),\n",
              " (188, 'appropriation'),\n",
              " (189, 'approval'),\n",
              " (190, 'approve'),\n",
              " (191, 'approved'),\n",
              " (192, 'approves'),\n",
              " (193, 'approximately'),\n",
              " (194, 'april'),\n",
              " (195, 'arab'),\n",
              " (196, 'arabia'),\n",
              " (197, 'arabian'),\n",
              " (198, 'arbitrage'),\n",
              " (199, 'arbitrager'),\n",
              " (200, 'arbitrageur'),\n",
              " (201, 'arbitration'),\n",
              " (202, 'arc'),\n",
              " (203, 'arco'),\n",
              " (204, 'area'),\n",
              " (205, 'argue'),\n",
              " (206, 'argued'),\n",
              " (207, 'argument'),\n",
              " (208, 'arising'),\n",
              " (209, 'arizona'),\n",
              " (210, 'arm'),\n",
              " (211, 'around'),\n",
              " (212, 'arrange'),\n",
              " (213, 'arranged'),\n",
              " (214, 'arrangement'),\n",
              " (215, 'arranging'),\n",
              " (216, 'arrived'),\n",
              " (217, 'arthur'),\n",
              " (218, 'article'),\n",
              " (219, 'asher'),\n",
              " (220, 'asia'),\n",
              " (221, 'asian'),\n",
              " (222, 'aside'),\n",
              " (223, 'ask'),\n",
              " (224, 'asked'),\n",
              " (225, 'asking'),\n",
              " (226, 'asks'),\n",
              " (227, 'aspect'),\n",
              " (228, 'ass'),\n",
              " (229, 'assessment'),\n",
              " (230, 'asset'),\n",
              " (231, 'assigned'),\n",
              " (232, 'assist'),\n",
              " (233, 'assistance'),\n",
              " (234, 'assistant'),\n",
              " (235, 'associate'),\n",
              " (236, 'associated'),\n",
              " (237, 'association'),\n",
              " (238, 'assume'),\n",
              " (239, 'assumed'),\n",
              " (240, 'assuming'),\n",
              " (241, 'assumption'),\n",
              " (242, 'assurance'),\n",
              " (243, 'assure'),\n",
              " (244, 'atlanta'),\n",
              " (245, 'atlantic'),\n",
              " (246, 'att'),\n",
              " (247, 'attack'),\n",
              " (248, 'attacked'),\n",
              " (249, 'attempt'),\n",
              " (250, 'attempted'),\n",
              " (251, 'attempting'),\n",
              " (252, 'attend'),\n",
              " (253, 'attention'),\n",
              " (254, 'attitude'),\n",
              " (255, 'attorney'),\n",
              " (256, 'attract'),\n",
              " (257, 'attracted'),\n",
              " (258, 'attractive'),\n",
              " (259, 'attributable'),\n",
              " (260, 'attributed'),\n",
              " (261, 'auction'),\n",
              " (262, 'audio'),\n",
              " (263, 'audit'),\n",
              " (264, 'auditor'),\n",
              " (265, 'aug'),\n",
              " (266, 'august'),\n",
              " (267, 'australia'),\n",
              " (268, 'australian'),\n",
              " (269, 'authority'),\n",
              " (270, 'authorization'),\n",
              " (271, 'authorized'),\n",
              " (272, 'auto'),\n",
              " (273, 'automobile'),\n",
              " (274, 'automotive'),\n",
              " (275, 'ava'),\n",
              " (276, 'available'),\n",
              " (277, 'average'),\n",
              " (278, 'averaged'),\n",
              " (279, 'averaging'),\n",
              " (280, 'avert'),\n",
              " (281, 'avg'),\n",
              " (282, 'aviation'),\n",
              " (283, 'avoid'),\n",
              " (284, 'award'),\n",
              " (285, 'awarded'),\n",
              " (286, 'aware'),\n",
              " (287, 'away'),\n",
              " (288, 'bac'),\n",
              " (289, 'back'),\n",
              " (290, 'backed'),\n",
              " (291, 'backing'),\n",
              " (292, 'backlog'),\n",
              " (293, 'bad'),\n",
              " (294, 'badly'),\n",
              " (295, 'bahrain'),\n",
              " (296, 'baker'),\n",
              " (297, 'balance'),\n",
              " (298, 'balanced'),\n",
              " (299, 'ban'),\n",
              " (300, 'banco'),\n",
              " (301, 'band'),\n",
              " (302, 'bank'),\n",
              " (303, 'banker'),\n",
              " (304, 'banking'),\n",
              " (305, 'bankruptcy'),\n",
              " (306, 'banque'),\n",
              " (307, 'bar'),\n",
              " (308, 'barclays'),\n",
              " (309, 'barney'),\n",
              " (310, 'barrel'),\n",
              " (311, 'barrier'),\n",
              " (312, 'base'),\n",
              " (313, 'based'),\n",
              " (314, 'basic'),\n",
              " (315, 'basically'),\n",
              " (316, 'basin'),\n",
              " (317, 'basis'),\n",
              " (318, 'bass'),\n",
              " (319, 'battery'),\n",
              " (320, 'battle'),\n",
              " (321, 'bay'),\n",
              " (322, 'bbl'),\n",
              " (323, 'beach'),\n",
              " (324, 'bear'),\n",
              " (325, 'bearing'),\n",
              " (326, 'became'),\n",
              " (327, 'become'),\n",
              " (328, 'becomes'),\n",
              " (329, 'becoming'),\n",
              " (330, 'beef'),\n",
              " (331, 'began'),\n",
              " (332, 'begin'),\n",
              " (333, 'beginning'),\n",
              " (334, 'begun'),\n",
              " (335, 'behalf'),\n",
              " (336, 'behind'),\n",
              " (337, 'belgian'),\n",
              " (338, 'belgium'),\n",
              " (339, 'belief'),\n",
              " (340, 'believe'),\n",
              " (341, 'believed'),\n",
              " (342, 'bell'),\n",
              " (343, 'benchmark'),\n",
              " (344, 'beneficial'),\n",
              " (345, 'benefit'),\n",
              " (346, 'besides'),\n",
              " (347, 'best'),\n",
              " (348, 'better'),\n",
              " (349, 'beverage'),\n",
              " (350, 'beyond'),\n",
              " (351, 'bid'),\n",
              " (352, 'bidder'),\n",
              " (353, 'bidding'),\n",
              " (354, 'big'),\n",
              " (355, 'bigger'),\n",
              " (356, 'biggest'),\n",
              " (357, 'bilateral'),\n",
              " (358, 'bill'),\n",
              " (359, 'billion'),\n",
              " (360, 'binding'),\n",
              " (361, 'biotechnology'),\n",
              " (362, 'bit'),\n",
              " (363, 'black'),\n",
              " (364, 'blamed'),\n",
              " (365, 'block'),\n",
              " (366, 'blocked'),\n",
              " (367, 'blue'),\n",
              " (368, 'board'),\n",
              " (369, 'boat'),\n",
              " (370, 'body'),\n",
              " (371, 'boeing'),\n",
              " (372, 'bond'),\n",
              " (373, 'bonus'),\n",
              " (374, 'book'),\n",
              " (375, 'boost'),\n",
              " (376, 'boosted'),\n",
              " (377, 'boosting'),\n",
              " (378, 'bor'),\n",
              " (379, 'border'),\n",
              " (380, 'borg'),\n",
              " (381, 'borrow'),\n",
              " (382, 'borrower'),\n",
              " (383, 'borrowing'),\n",
              " (384, 'boston'),\n",
              " (385, 'bottom'),\n",
              " (386, 'bought'),\n",
              " (387, 'bound'),\n",
              " (388, 'bourse'),\n",
              " (389, 'bp'),\n",
              " (390, 'bpd'),\n",
              " (391, 'br'),\n",
              " (392, 'brace'),\n",
              " (393, 'branch'),\n",
              " (394, 'brand'),\n",
              " (395, 'brazil'),\n",
              " (396, 'brazilian'),\n",
              " (397, 'breached'),\n",
              " (398, 'break'),\n",
              " (399, 'brent'),\n",
              " (400, 'brewer'),\n",
              " (401, 'brewing'),\n",
              " (402, 'brian'),\n",
              " (403, 'bridge'),\n",
              " (404, 'brief'),\n",
              " (405, 'bring'),\n",
              " (406, 'bringing'),\n",
              " (407, 'brings'),\n",
              " (408, 'bristol'),\n",
              " (409, 'britain'),\n",
              " (410, 'british'),\n",
              " (411, 'broad'),\n",
              " (412, 'broadcast'),\n",
              " (413, 'broadcasting'),\n",
              " (414, 'broadly'),\n",
              " (415, 'broke'),\n",
              " (416, 'broken'),\n",
              " (417, 'broker'),\n",
              " (418, 'brokerage'),\n",
              " (419, 'brook'),\n",
              " (420, 'brother'),\n",
              " (421, 'brought'),\n",
              " (422, 'brown'),\n",
              " (423, 'bruce'),\n",
              " (424, 'budget'),\n",
              " (425, 'build'),\n",
              " (426, 'builder'),\n",
              " (427, 'building'),\n",
              " (428, 'built'),\n",
              " (429, 'bulk'),\n",
              " (430, 'bullish'),\n",
              " (431, 'burden'),\n",
              " (432, 'bureau'),\n",
              " (433, 'business'),\n",
              " (434, 'businessmen'),\n",
              " (435, 'buy'),\n",
              " (436, 'buyback'),\n",
              " (437, 'buyer'),\n",
              " (438, 'buying'),\n",
              " (439, 'buyout'),\n",
              " (440, 'cabinet'),\n",
              " (441, 'cable'),\n",
              " (442, 'caesar'),\n",
              " (443, 'calculated'),\n",
              " (444, 'calculation'),\n",
              " (445, 'calendar'),\n",
              " (446, 'calgary'),\n",
              " (447, 'calif'),\n",
              " (448, 'california'),\n",
              " (449, 'call'),\n",
              " (450, 'called'),\n",
              " (451, 'calling'),\n",
              " (452, 'calm'),\n",
              " (453, 'came'),\n",
              " (454, 'campaign'),\n",
              " (455, 'campbell'),\n",
              " (456, 'canada'),\n",
              " (457, 'canadian'),\n",
              " (458, 'candidate'),\n",
              " (459, 'cap'),\n",
              " (460, 'capability'),\n",
              " (461, 'capable'),\n",
              " (462, 'capacity'),\n",
              " (463, 'capital'),\n",
              " (464, 'capitalized'),\n",
              " (465, 'car'),\n",
              " (466, 'card'),\n",
              " (467, 'care'),\n",
              " (468, 'careful'),\n",
              " (469, 'carefully'),\n",
              " (470, 'cargo'),\n",
              " (471, 'carl'),\n",
              " (472, 'carolina'),\n",
              " (473, 'carried'),\n",
              " (474, 'carrier'),\n",
              " (475, 'carry'),\n",
              " (476, 'carryforward'),\n",
              " (477, 'carryforwards'),\n",
              " (478, 'carrying'),\n",
              " (479, 'cartel'),\n",
              " (480, 'carter'),\n",
              " (481, 'case'),\n",
              " (482, 'cash'),\n",
              " (483, 'casino'),\n",
              " (484, 'casualty'),\n",
              " (485, 'cause'),\n",
              " (486, 'caused'),\n",
              " (487, 'cautious'),\n",
              " (488, 'caw'),\n",
              " (489, 'cawl'),\n",
              " (490, 'cci'),\n",
              " (491, 'cd'),\n",
              " (492, 'ceiling'),\n",
              " (493, 'cellular'),\n",
              " (494, 'cement'),\n",
              " (495, 'cent'),\n",
              " (496, 'center'),\n",
              " (497, 'central'),\n",
              " (498, 'century'),\n",
              " (499, 'certain'),\n",
              " (500, 'certainly'),\n",
              " (501, 'certificate'),\n",
              " (502, 'chain'),\n",
              " (503, 'chairman'),\n",
              " (504, 'challenge'),\n",
              " (505, 'chamber'),\n",
              " (506, 'chance'),\n",
              " (507, 'chancellor'),\n",
              " (508, 'change'),\n",
              " (509, 'changed'),\n",
              " (510, 'changing'),\n",
              " (511, 'channel'),\n",
              " (512, 'chapter'),\n",
              " (513, 'charge'),\n",
              " (514, 'charged'),\n",
              " (515, 'charging'),\n",
              " (516, 'charles'),\n",
              " (517, 'charter'),\n",
              " (518, 'chartered'),\n",
              " (519, 'chase'),\n",
              " (520, 'cheap'),\n",
              " (521, 'cheaper'),\n",
              " (522, 'check'),\n",
              " (523, 'chem'),\n",
              " (524, 'chemical'),\n",
              " (525, 'chevron'),\n",
              " (526, 'chicago'),\n",
              " (527, 'chief'),\n",
              " (528, 'china'),\n",
              " (529, 'chinese'),\n",
              " (530, 'chip'),\n",
              " (531, 'choice'),\n",
              " (532, 'chrysler'),\n",
              " (533, 'cie'),\n",
              " (534, 'circuit'),\n",
              " (535, 'circulation'),\n",
              " (536, 'circumstance'),\n",
              " (537, 'cite'),\n",
              " (538, 'cited'),\n",
              " (539, 'citibank'),\n",
              " (540, 'citing'),\n",
              " (541, 'citizen'),\n",
              " (542, 'city'),\n",
              " (543, 'civil'),\n",
              " (544, 'claim'),\n",
              " (545, 'clark'),\n",
              " (546, 'class'),\n",
              " (547, 'clayton'),\n",
              " (548, 'clear'),\n",
              " (549, 'clearance'),\n",
              " (550, 'cleared'),\n",
              " (551, 'clearing'),\n",
              " (552, 'clearly'),\n",
              " (553, 'client'),\n",
              " (554, 'climate'),\n",
              " (555, 'climb'),\n",
              " (556, 'climbed'),\n",
              " (557, 'close'),\n",
              " (558, 'closed'),\n",
              " (559, 'closely'),\n",
              " (560, 'closer'),\n",
              " (561, 'closing'),\n",
              " (562, 'closure'),\n",
              " (563, 'club'),\n",
              " (564, 'coal'),\n",
              " (565, 'coast'),\n",
              " (566, 'coastal'),\n",
              " (567, 'code'),\n",
              " (568, 'cola'),\n",
              " (569, 'collapse'),\n",
              " (570, 'colombia'),\n",
              " (571, 'colonial'),\n",
              " (572, 'colorado'),\n",
              " (573, 'columbia'),\n",
              " (574, 'combination'),\n",
              " (575, 'combined'),\n",
              " (576, 'come'),\n",
              " (577, 'coming'),\n",
              " (578, 'comment'),\n",
              " (579, 'commented'),\n",
              " (580, 'commenting'),\n",
              " (581, 'commerce'),\n",
              " (582, 'commercial'),\n",
              " (583, 'commission'),\n",
              " (584, 'commissioner'),\n",
              " (585, 'commitment'),\n",
              " (586, 'committed'),\n",
              " (587, 'committee'),\n",
              " (588, 'commodity'),\n",
              " (589, 'common'),\n",
              " (590, 'commonwealth'),\n",
              " (591, 'communication'),\n",
              " (592, 'communique'),\n",
              " (593, 'community'),\n",
              " (594, 'compagnie'),\n",
              " (595, 'company'),\n",
              " (596, 'comparable'),\n",
              " (597, 'compare'),\n",
              " (598, 'compared'),\n",
              " (599, 'comparison'),\n",
              " (600, 'compatible'),\n",
              " (601, 'compensate'),\n",
              " (602, 'compensation'),\n",
              " (603, 'compete'),\n",
              " (604, 'competing'),\n",
              " (605, 'competition'),\n",
              " (606, 'competitive'),\n",
              " (607, 'competitiveness'),\n",
              " (608, 'competitor'),\n",
              " (609, 'complained'),\n",
              " (610, 'complaint'),\n",
              " (611, 'complete'),\n",
              " (612, 'completed'),\n",
              " (613, 'completely'),\n",
              " (614, 'completes'),\n",
              " (615, 'completing'),\n",
              " (616, 'completion'),\n",
              " (617, 'complex'),\n",
              " (618, 'compliance'),\n",
              " (619, 'comply'),\n",
              " (620, 'component'),\n",
              " (621, 'comprehensive'),\n",
              " (622, 'comprised'),\n",
              " (623, 'comprising'),\n",
              " (624, 'compromise'),\n",
              " (625, 'computer'),\n",
              " (626, 'concentrate'),\n",
              " (627, 'concentrated'),\n",
              " (628, 'concern'),\n",
              " (629, 'concerned'),\n",
              " (630, 'concerning'),\n",
              " (631, 'concession'),\n",
              " (632, 'conclude'),\n",
              " (633, 'concluded'),\n",
              " (634, 'conclusion'),\n",
              " (635, 'concrete'),\n",
              " (636, 'condition'),\n",
              " (637, 'conditional'),\n",
              " (638, 'conditioned'),\n",
              " (639, 'conduct'),\n",
              " (640, 'conducted'),\n",
              " (641, 'conference'),\n",
              " (642, 'confidence'),\n",
              " (643, 'confident'),\n",
              " (644, 'confidential'),\n",
              " (645, 'confirm'),\n",
              " (646, 'confirmed'),\n",
              " (647, 'confirms'),\n",
              " (648, 'conflict'),\n",
              " (649, 'conglomerate'),\n",
              " (650, 'congress'),\n",
              " (651, 'congressional'),\n",
              " (652, 'congressman'),\n",
              " (653, 'conn'),\n",
              " (654, 'connected'),\n",
              " (655, 'connecticut'),\n",
              " (656, 'connection'),\n",
              " (657, 'consecutive'),\n",
              " (658, 'consensus'),\n",
              " (659, 'consent'),\n",
              " (660, 'conservative'),\n",
              " (661, 'consider'),\n",
              " (662, 'considerable'),\n",
              " (663, 'considerably'),\n",
              " (664, 'consideration'),\n",
              " (665, 'considered'),\n",
              " (666, 'considering'),\n",
              " (667, 'considers'),\n",
              " (668, 'consist'),\n",
              " (669, 'consistent'),\n",
              " (670, 'consisting'),\n",
              " (671, 'consists'),\n",
              " (672, 'consolidated'),\n",
              " (673, 'consolidation'),\n",
              " (674, 'consortium'),\n",
              " (675, 'construction'),\n",
              " (676, 'consultation'),\n",
              " (677, 'consulting'),\n",
              " (678, 'consumer'),\n",
              " (679, 'consumption'),\n",
              " (680, 'contact'),\n",
              " (681, 'contain'),\n",
              " (682, 'contained'),\n",
              " (683, 'container'),\n",
              " (684, 'containing'),\n",
              " (685, 'content'),\n",
              " (686, 'contest'),\n",
              " (687, 'continental'),\n",
              " (688, 'contingent'),\n",
              " (689, 'continuation'),\n",
              " (690, 'continue'),\n",
              " (691, 'continued'),\n",
              " (692, 'continues'),\n",
              " (693, 'continuing'),\n",
              " (694, 'contract'),\n",
              " (695, 'contractor'),\n",
              " (696, 'contrary'),\n",
              " (697, 'contribute'),\n",
              " (698, 'contributed'),\n",
              " (699, 'contribution'),\n",
              " (700, 'control'),\n",
              " (701, 'controlled'),\n",
              " (702, 'controlling'),\n",
              " (703, 'controversial'),\n",
              " (704, 'conversion'),\n",
              " (705, 'convert'),\n",
              " (706, 'converted'),\n",
              " (707, 'convertible'),\n",
              " (708, 'convince'),\n",
              " (709, 'convinced'),\n",
              " (710, 'cooper'),\n",
              " (711, 'cooperate'),\n",
              " (712, 'cooperation'),\n",
              " (713, 'cooperative'),\n",
              " (714, 'copy'),\n",
              " (715, 'corazon'),\n",
              " (716, 'core'),\n",
              " (717, 'corn'),\n",
              " (718, 'corp'),\n",
              " (719, 'corporate'),\n",
              " (720, 'corporation'),\n",
              " (721, 'correct'),\n",
              " (722, 'corrected'),\n",
              " (723, 'correcting'),\n",
              " (724, 'correction'),\n",
              " (725, 'corrects'),\n",
              " (726, 'cosmetic'),\n",
              " (727, 'cost'),\n",
              " (728, 'costly'),\n",
              " (729, 'could'),\n",
              " (730, 'council'),\n",
              " (731, 'counsel'),\n",
              " (732, 'counter'),\n",
              " (733, 'country'),\n",
              " (734, 'county'),\n",
              " (735, 'couple'),\n",
              " (736, 'coupled'),\n",
              " (737, 'coupon'),\n",
              " (738, 'courier'),\n",
              " (739, 'course'),\n",
              " (740, 'court'),\n",
              " (741, 'cover'),\n",
              " (742, 'covered'),\n",
              " (743, 'covering'),\n",
              " (744, 'cpc'),\n",
              " (745, 'crazy'),\n",
              " (746, 'create'),\n",
              " (747, 'created'),\n",
              " (748, 'creating'),\n",
              " (749, 'credit'),\n",
              " (750, 'creditor'),\n",
              " (751, 'crew'),\n",
              " (752, 'crisis'),\n",
              " (753, 'critical'),\n",
              " (754, 'criticism'),\n",
              " (755, 'crop'),\n",
              " (756, 'cross'),\n",
              " (757, 'crown'),\n",
              " (758, 'crucial'),\n",
              " (759, 'crude'),\n",
              " (760, 'ct'),\n",
              " (761, 'cubic'),\n",
              " (762, 'cumulative'),\n",
              " (763, 'curb'),\n",
              " (764, 'currency'),\n",
              " (765, 'current'),\n",
              " (766, 'currently'),\n",
              " (767, 'custom'),\n",
              " (768, 'customer'),\n",
              " (769, 'cut'),\n",
              " (770, 'cutback'),\n",
              " (771, 'cutting'),\n",
              " (772, 'cyclops'),\n",
              " (773, 'cyl'),\n",
              " (774, 'daily'),\n",
              " (775, 'dairy'),\n",
              " (776, 'dallas'),\n",
              " (777, 'damage'),\n",
              " (778, 'damaged'),\n",
              " (779, 'damaging'),\n",
              " (780, 'dan'),\n",
              " (781, 'danger'),\n",
              " (782, 'daniel'),\n",
              " (783, 'dart'),\n",
              " (784, 'data'),\n",
              " (785, 'date'),\n",
              " (786, 'dated'),\n",
              " (787, 'david'),\n",
              " (788, 'day'),\n",
              " (789, 'dayton'),\n",
              " (790, 'dd'),\n",
              " (791, 'de'),\n",
              " (792, 'dead'),\n",
              " (793, 'deadline'),\n",
              " (794, 'deal'),\n",
              " (795, 'dealer'),\n",
              " (796, 'dealing'),\n",
              " (797, 'dean'),\n",
              " (798, 'debate'),\n",
              " (799, 'debenture'),\n",
              " (800, 'debit'),\n",
              " (801, 'debt'),\n",
              " (802, 'debtor'),\n",
              " (803, 'dec'),\n",
              " (804, 'decade'),\n",
              " (805, 'december'),\n",
              " (806, 'decide'),\n",
              " (807, 'decided'),\n",
              " (808, 'decides'),\n",
              " (809, 'decision'),\n",
              " (810, 'declaration'),\n",
              " (811, 'declared'),\n",
              " (812, 'declares'),\n",
              " (813, 'decline'),\n",
              " (814, 'declined'),\n",
              " (815, 'declining'),\n",
              " (816, 'decrease'),\n",
              " (817, 'decree'),\n",
              " (818, 'deep'),\n",
              " (819, 'default'),\n",
              " (820, 'defend'),\n",
              " (821, 'defendant'),\n",
              " (822, 'defending'),\n",
              " (823, 'defense'),\n",
              " (824, 'defensive'),\n",
              " (825, 'defer'),\n",
              " (826, 'deferred'),\n",
              " (827, 'deficit'),\n",
              " (828, 'definitive'),\n",
              " (829, 'degree'),\n",
              " (830, 'del'),\n",
              " (831, 'delaware'),\n",
              " (832, 'delay'),\n",
              " (833, 'delayed'),\n",
              " (834, 'delegate'),\n",
              " (835, 'delegation'),\n",
              " (836, 'delivered'),\n",
              " (837, 'delivery'),\n",
              " (838, 'demand'),\n",
              " (839, 'demanded'),\n",
              " (840, 'democrat'),\n",
              " (841, 'democratic'),\n",
              " (842, 'demonstrated'),\n",
              " (843, 'denied'),\n",
              " (844, 'denver'),\n",
              " (845, 'department'),\n",
              " (846, 'depend'),\n",
              " (847, 'depended'),\n",
              " (848, 'dependence'),\n",
              " (849, 'dependent'),\n",
              " (850, 'depending'),\n",
              " (851, 'depends'),\n",
              " (852, 'deposit'),\n",
              " (853, 'depreciation'),\n",
              " (854, 'depressed'),\n",
              " (855, 'depth'),\n",
              " (856, 'deputy'),\n",
              " (857, 'deregulation'),\n",
              " (858, 'described'),\n",
              " (859, 'design'),\n",
              " (860, 'designed'),\n",
              " (861, 'desire'),\n",
              " (862, 'despite'),\n",
              " (863, 'detail'),\n",
              " (864, 'detailed'),\n",
              " (865, 'deterioration'),\n",
              " (866, 'determination'),\n",
              " (867, 'determine'),\n",
              " (868, 'determined'),\n",
              " (869, 'deutsche'),\n",
              " (870, 'devaluation'),\n",
              " (871, 'develop'),\n",
              " (872, 'developed'),\n",
              " (873, 'developer'),\n",
              " (874, 'developing'),\n",
              " (875, 'development'),\n",
              " (876, 'device'),\n",
              " (877, 'diagnostic'),\n",
              " (878, 'diamond'),\n",
              " (879, 'difference'),\n",
              " (880, 'different'),\n",
              " (881, 'differential'),\n",
              " (882, 'difficult'),\n",
              " (883, 'difficulty'),\n",
              " (884, 'digital'),\n",
              " (885, 'diligence'),\n",
              " (886, 'diluted'),\n",
              " (887, 'diplomat'),\n",
              " (888, 'diplomatic'),\n",
              " (889, 'direct'),\n",
              " (890, 'direction'),\n",
              " (891, 'directly'),\n",
              " (892, 'director'),\n",
              " (893, 'disappointed'),\n",
              " (894, 'disaster'),\n",
              " (895, 'disc'),\n",
              " (896, 'disclose'),\n",
              " (897, 'disclosed'),\n",
              " (898, 'disclosure'),\n",
              " (899, 'discontinued'),\n",
              " (900, 'discount'),\n",
              " (901, 'discounted'),\n",
              " (902, 'discovered'),\n",
              " (903, 'discovery'),\n",
              " (904, 'discus'),\n",
              " (905, 'discussed'),\n",
              " (906, 'discussing'),\n",
              " (907, 'discussion'),\n",
              " (908, 'dismissed'),\n",
              " (909, 'disney'),\n",
              " (910, 'disposal'),\n",
              " (911, 'dispose'),\n",
              " (912, 'disposition'),\n",
              " (913, 'dispute'),\n",
              " (914, 'disputed'),\n",
              " (915, 'disruption'),\n",
              " (916, 'distance'),\n",
              " (917, 'distiller'),\n",
              " (918, 'distribute'),\n",
              " (919, 'distributed'),\n",
              " (920, 'distributes'),\n",
              " (921, 'distribution'),\n",
              " (922, 'distributor'),\n",
              " (923, 'district'),\n",
              " (924, 'div'),\n",
              " (925, 'diversified'),\n",
              " (926, 'diversify'),\n",
              " (927, 'divest'),\n",
              " (928, 'divested'),\n",
              " (929, 'divestiture'),\n",
              " (930, 'divided'),\n",
              " (931, 'dividend'),\n",
              " (932, 'division'),\n",
              " (933, 'dlr'),\n",
              " (934, 'dlrs'),\n",
              " (935, 'document'),\n",
              " (936, 'dollar'),\n",
              " (937, 'dome'),\n",
              " (938, 'domestic'),\n",
              " (939, 'dominant'),\n",
              " (940, 'dominion'),\n",
              " (941, 'donald'),\n",
              " (942, 'done'),\n",
              " (943, 'door'),\n",
              " (944, 'dot'),\n",
              " (945, 'double'),\n",
              " (946, 'doubled'),\n",
              " (947, 'doubt'),\n",
              " (948, 'douglas'),\n",
              " (949, 'dow'),\n",
              " (950, 'down'),\n",
              " (951, 'downturn'),\n",
              " (952, 'downward'),\n",
              " (953, 'draft'),\n",
              " (954, 'drain'),\n",
              " (955, 'draw'),\n",
              " (956, 'drawing'),\n",
              " (957, 'drawn'),\n",
              " (958, 'drew'),\n",
              " (959, 'drill'),\n",
              " (960, 'drilling'),\n",
              " (961, 'drive'),\n",
              " (962, 'drop'),\n",
              " (963, 'dropped'),\n",
              " (964, 'drug'),\n",
              " (965, 'du'),\n",
              " (966, 'dudley'),\n",
              " (967, 'due'),\n",
              " (968, 'dumping'),\n",
              " (969, 'dutch'),\n",
              " (970, 'duty'),\n",
              " (971, 'dynamic'),\n",
              " (972, 'earlier'),\n",
              " (973, 'early'),\n",
              " (974, 'earn'),\n",
              " (975, 'earned'),\n",
              " (976, 'earning'),\n",
              " (977, 'earnings'),\n",
              " (978, 'earthquake'),\n",
              " (979, 'ease'),\n",
              " (980, 'eased'),\n",
              " (981, 'easier'),\n",
              " (982, 'easily'),\n",
              " (983, 'easing'),\n",
              " (984, 'east'),\n",
              " (985, 'eastern'),\n",
              " (986, 'ec'),\n",
              " (987, 'economic'),\n",
              " (988, 'economics'),\n",
              " (989, 'economist'),\n",
              " (990, 'economy'),\n",
              " (991, 'ecuador'),\n",
              " (992, 'eddie'),\n",
              " (993, 'edmonton'),\n",
              " (994, 'edward'),\n",
              " (995, 'effect'),\n",
              " (996, 'effective'),\n",
              " (997, 'effectively'),\n",
              " (998, 'efficiency'),\n",
              " (999, 'efficient'),\n",
              " ...]"
            ]
          },
          "metadata": {
            "tags": []
          },
          "execution_count": 30
        }
      ]
    },
    {
      "cell_type": "code",
      "metadata": {
        "id": "2j6Eo5U-YzmW"
      },
      "source": [
        "val,idx=torch.sort(keywords_max_score,descending=True)\n",
        "cosine_flag_testing = torch.zeros(num_input)\n",
        "cosine_flag_testing[idx[0:500]] = 1.0\n",
        "# cosine_flag_testing  = cosine_flag_testing.to(device)\n",
        "ranked_input = torch.ones(num_input)\n",
        "for i in range(1,num_input+1,1):\n",
        "  ranked_input[idx[i-1]] = i"
      ],
      "execution_count": null,
      "outputs": []
    },
    {
      "cell_type": "code",
      "metadata": {
        "id": "0ekvOBbnuWAn"
      },
      "source": [
        "cosine_idx_test = torch.tensor(np.arange(0,num_input))\n",
        "scaler = MinMaxScaler(feature_range=(0+1e-10, 0.99))\n",
        "cosine_idx_test_sc = scaler.fit_transform(cosine_idx_test.data.reshape(-1,1))"
      ],
      "execution_count": null,
      "outputs": []
    },
    {
      "cell_type": "code",
      "metadata": {
        "id": "D6eYOXrISG_Q",
        "colab": {
          "base_uri": "https://localhost:8080/"
        },
        "outputId": "4ee5829f-4138-45ee-cb31-8b4c83a49c8b"
      },
      "source": [
        "np.median(keywords_max_score)"
      ],
      "execution_count": null,
      "outputs": [
        {
          "output_type": "execute_result",
          "data": {
            "text/plain": [
              "0.3021173"
            ]
          },
          "metadata": {
            "tags": []
          },
          "execution_count": 33
        }
      ]
    },
    {
      "cell_type": "code",
      "metadata": {
        "id": "vyRwXKUs-Ugn",
        "colab": {
          "base_uri": "https://localhost:8080/"
        },
        "outputId": "fd1152e7-d7a7-4bb7-ddf4-3220cfe6d423"
      },
      "source": [
        "plt.hist(keywords_max_score)"
      ],
      "execution_count": null,
      "outputs": [
        {
          "output_type": "execute_result",
          "data": {
            "text/plain": [
              "(array([1.988e+03, 9.880e+02, 1.480e+02, 2.130e+02, 2.800e+01, 1.000e+00,\n",
              "        0.000e+00, 0.000e+00, 0.000e+00, 1.000e+00]),\n",
              " array([0.2306453 , 0.30758077, 0.38451624, 0.4614517 , 0.5383872 ,\n",
              "        0.61532265, 0.6922581 , 0.7691936 , 0.84612906, 0.92306453,\n",
              "        1.        ], dtype=float32),\n",
              " <a list of 10 Patch objects>)"
            ]
          },
          "metadata": {
            "tags": []
          },
          "execution_count": 34
        },
        {
          "output_type": "display_data",
          "data": {
            "image/png": "[encoded data removed]",
            "text/plain": [
              "<Figure size 432x288 with 1 Axes>"
            ]
          },
          "metadata": {
            "tags": [],
            "needs_background": "light"
          }
        }
      ]
    },
    {
      "cell_type": "code",
      "metadata": {
        "id": "34lJtGKOqDAC",
        "colab": {
          "base_uri": "https://localhost:8080/"
        },
        "outputId": "148e8d39-749b-4ccd-ca55-192792944948"
      },
      "source": [
        "plt.hist(cosine_flag_testing)"
      ],
      "execution_count": null,
      "outputs": [
        {
          "output_type": "execute_result",
          "data": {
            "text/plain": [
              "(array([2867.,    0.,    0.,    0.,    0.,    0.,    0.,    0.,    0.,\n",
              "         500.]), array([0. , 0.1, 0.2, 0.3, 0.4, 0.5, 0.6, 0.7, 0.8, 0.9, 1. ],\n",
              "       dtype=float32), <a list of 10 Patch objects>)"
            ]
          },
          "metadata": {
            "tags": []
          },
          "execution_count": 35
        },
        {
          "output_type": "display_data",
          "data": {
            "image/png": "[encoded data removed]",
            "text/plain": [
              "<Figure size 432x288 with 1 Axes>"
            ]
          },
          "metadata": {
            "tags": [],
            "needs_background": "light"
          }
        }
      ]
    },
    {
      "cell_type": "markdown",
      "metadata": {
        "id": "JtRrwY7L-oRL"
      },
      "source": [
        "# Current Working Model"
      ]
    },
    {
      "cell_type": "code",
      "metadata": {
        "id": "iE-bBrpfHd5C",
        "cellView": "form"
      },
      "source": [
        "#@title torch imports\n",
        "import torch\n",
        "import torch.nn as nn\n",
        "import torch.nn.functional as F\n",
        "import torch.optim as optim\n",
        "from torch.nn import Parameter"
      ],
      "execution_count": null,
      "outputs": []
    },
    {
      "cell_type": "code",
      "metadata": {
        "id": "HZlo3d0m-Ac4",
        "cellView": "form"
      },
      "source": [
        "#@title Weight Drop\n",
        "def _weight_drop(module, weights, dropout):\n",
        "    \"\"\"\n",
        "    Helper for `WeightDrop`.\n",
        "    \"\"\"\n",
        "    for name_w in weights:\n",
        "        w = getattr(module, name_w)\n",
        "        del module._parameters[name_w]\n",
        "        module.register_parameter(name_w + '_raw', Parameter(w))\n",
        "\n",
        "    original_module_forward = module.forward\n",
        "\n",
        "    def forward(*args, **kwargs):\n",
        "        for name_w in weights:\n",
        "            raw_w = getattr(module, name_w + '_raw')\n",
        "            w = torch.nn.functional.dropout(raw_w, p=dropout, training=module.training)\n",
        "\n",
        "            setattr(module, name_w, w)\n",
        "\n",
        "        # return original_module_forward(*args, **kwargs)\n",
        "\n",
        "    setattr(module, 'forward', forward)\n",
        "\n",
        "\n",
        "class WeightDrop(torch.nn.Module):\n",
        "    \"\"\"\n",
        "    The weight-dropped module applies recurrent regularization through a DropConnect mask on the\n",
        "    hidden-to-hidden recurrent weights.\n",
        "\n",
        "    **Thank you** to Sales Force for their initial implementation of :class:`WeightDrop`. Here is\n",
        "    their `License\n",
        "    <https://github.com/salesforce/awd-lstm-lm/blob/master/LICENSE>`__.\n",
        "\n",
        "    Args:\n",
        "        module (:class:`torch.nn.Module`): Containing module.\n",
        "        weights (:class:`list` of :class:`str`): Names of the module weight parameters to apply a\n",
        "          dropout too.\n",
        "        dropout (float): The probability a weight will be dropped.\n",
        "\n",
        "    Example:\n",
        "\n",
        "        >>> from torchnlp.nn import WeightDrop\n",
        "        >>> import torch\n",
        "        >>>\n",
        "        >>> torch.manual_seed(123)\n",
        "        <torch._C.Generator object ...\n",
        "        >>>\n",
        "        >>> gru = torch.nn.GRUCell(2, 2)\n",
        "        >>> weights = ['weight_hh']\n",
        "        >>> weight_drop_gru = WeightDrop(gru, weights, dropout=0.9)\n",
        "        >>>\n",
        "        >>> input_ = torch.randn(3, 2)\n",
        "        >>> hidden_state = torch.randn(3, 2)\n",
        "        >>> weight_drop_gru(input_, hidden_state)\n",
        "        tensor(... grad_fn=<AddBackward0>)\n",
        "    \"\"\"\n",
        "\n",
        "    def __init__(self, module, weights, dropout=0.0):\n",
        "        super(WeightDrop, self).__init__()\n",
        "        _weight_drop(module, weights, dropout)\n",
        "        self.forward = module.forward\n",
        "\n",
        "class WeightDropLinear(torch.nn.Linear):\n",
        "    \"\"\"\n",
        "    Wrapper around :class:`torch.nn.Linear` that adds ``weight_dropout`` named argument.\n",
        "\n",
        "    Args:\n",
        "        weight_dropout (float): The probability a weight will be dropped.\n",
        "    \"\"\"\n",
        "\n",
        "    def __init__(self, *args, weight_dropout=0.0, **kwargs):\n",
        "        super().__init__(*args, **kwargs)\n",
        "\n",
        "        weights = ['weight']\n",
        "        # print('name_w in _weight_drop: ', name_w)\n",
        "        _weight_drop(self, weights, weight_dropout)"
      ],
      "execution_count": null,
      "outputs": []
    },
    {
      "cell_type": "code",
      "metadata": {
        "id": "iJJw4-xTu-ZF",
        "cellView": "form"
      },
      "source": [
        "# @title Targeted Dropout Class\n",
        "import torch\n",
        "import torch.nn as nn\n",
        "\n",
        "\n",
        "class TargetedDropout(nn.Module):\n",
        "    \"\"\"\n",
        "    Learning Sparse Networks Using Targeted Dropout\n",
        "    https://arxiv.org/abs/1905.13678\n",
        "    \"\"\"\n",
        "\n",
        "    def __init__(self,targeted=\"weight\",target_layer=None,\n",
        "                 dropout_rate=0.5,targeted_portion=0.5):\n",
        "        super(TargetedDropout, self).__init__()\n",
        "        self.targeted = targeted\n",
        "        self.target_layer = target_layer\n",
        "        self.dropout_rate = dropout_rate\n",
        "        self.targeted_portion = targeted_portion\n",
        "        self.weight = target_layer.weight\n",
        "\n",
        "        if self.targeted == \"weight\":\n",
        "            self.targeted_dropout = targeted_weight_dropout\n",
        "        elif self.targeted == \"unit\":\n",
        "            self.targeted_dropout = targeted_unit_dropout\n",
        "\n",
        "    def forward(self):\n",
        "        self.weight = self.targeted_dropout(\n",
        "            weight=self.target_layer.weight,\n",
        "            dropout_rate=self.dropout_rate,\n",
        "            targeted_portion=self.targeted_portion,\n",
        "            is_training=self.training,\n",
        "        )\n",
        "\n",
        "        self.target_layer.weight = self.weight\n",
        "        # output = self.target_layer(x)\n",
        "        return self.weight\n",
        "\n",
        "    def extra_repr(self):\n",
        "        return f\"targeted={self.targeted}, dropout_rate={self.dropout_rate}, targeted_portion={self.targeted_portion}\"\n",
        "\n",
        "\n",
        "def targeted_weight_dropout(weight, dropout_rate, targeted_portion, is_training):\n",
        "    weight_shape = weight.shape\n",
        "    weight = torch.reshape(weight, [-1, weight_shape[-1]]).float()\n",
        "\n",
        "    norm = torch.abs(weight)\n",
        "    idx = int(targeted_portion * torch.tensor(weight.shape[0]).float())\n",
        "    threshold = torch.sort(norm, dim=0)[0][idx]\n",
        "    mask = norm < threshold[None, :]\n",
        "\n",
        "    if not is_training:\n",
        "        mask = (torch.rand_like(weight) < dropout_rate).to(mask.device.type) & mask\n",
        "\n",
        "    weight = (1.0 - mask.float()) * weight\n",
        "    weight = torch.reshape(weight, weight_shape)\n",
        "    weight = torch.nn.Parameter(weight)\n",
        "\n",
        "    return weight\n",
        "\n",
        "def targeted_unit_dropout(weight, dropout_rate, targeted_portion, is_training):\n",
        "    weight_shape = weight.shape\n",
        "    weight = torch.reshape(weight, [-1, weight_shape[-1]]).float()\n",
        "\n",
        "    norm = torch.norm(weight, dim=0)\n",
        "    idx = int(targeted_portion * int(weight.shape[1]))\n",
        "    sorted_norms = torch.sort(norm)[0]\n",
        "    threshold = sorted_norms[idx]\n",
        "    mask = (norm < threshold)[None, :]\n",
        "    mask = mask.repeat(weight.shape[0], 1)\n",
        "\n",
        "    if not is_training:\n",
        "        mask = torch.where(\n",
        "            ((1.0 - dropout_rate) < torch.rand_like(weight)).to(mask.device.type)\n",
        "            & mask,\n",
        "            torch.ones_like(weight, dtype=torch.float32),\n",
        "            torch.zeros_like(weight, dtype=torch.float32),\n",
        "        )\n",
        "\n",
        "    weight = (1.0 - mask.float()) * weight\n",
        "    weight = torch.reshape(weight, weight_shape)\n",
        "    weight = torch.nn.Parameter(weight)\n",
        "\n",
        "    return weight"
      ],
      "execution_count": null,
      "outputs": []
    },
    {
      "cell_type": "code",
      "metadata": {
        "id": "20SZS3Q4FVzq"
      },
      "source": [
        "torch.cuda.empty_cache()\n",
        "mu_div=200.0\n",
        "smoothen=1e-20\n",
        "sig=100.0\n",
        "\n",
        "def torch_lgamma(a): return torch.lgamma(torch.tensor(a))\n",
        "def torch_gamma(a): return torch.exp(torch.lgamma(torch.tensor(a)))\n",
        "\n",
        "def min_max_normalization(ip):\n",
        "  vmax,_ = torch.max(ip,-1)\n",
        "  vmin,_ = torch.min(ip,-1)\n",
        "  vmax = vmax.unsqueeze(-1).expand(ip.shape[0],ip.shape[1])\n",
        "  vmin= vmin.unsqueeze(-1).expand(ip.shape[0],ip.shape[1])\n",
        "  ip = (ip - vmin) / (vmax-vmin+smoothen)\n",
        "  return ip\n",
        "\n",
        "def NewBeta_dist(x,mu,phi_beta,smoothen):\n",
        "  First = torch_lgamma(phi_beta+smoothen) - (torch_lgamma(phi_beta * mu+smoothen) + torch_lgamma(phi_beta * (1-mu)+smoothen ))\n",
        "  Second_1 = (mu*phi_beta-1) * torch.log(x+smoothen)\n",
        "  Second_2 = ( (1-mu)*phi_beta-1 )* torch.log(1-x+smoothen)\n",
        "  Second = Second_1 + Second_2\n",
        "  return First + Second\n",
        "\n",
        "def LogL_NewBeta(x,relevant_scores):\n",
        "  x_norm = torch.norm(x,dim=-1)\n",
        "  print(x_norm.shape)\n",
        "  mu = torch.exp(-0.5 * (torch.pow(x_norm,2))/mu_div)\n",
        "  # LogL = torch.log(NewBeta_dist(relevant_scores,mu,sig,smoothen)+smoothen)\n",
        "  LogL = NewBeta_dist(relevant_scores,mu,sig,smoothen)\n",
        "  return LogL\n",
        "\n",
        "#phi\n",
        "def gaussian(alpha): return -0.5*alpha\n",
        "def inverse_multi_quadric(alpha): return -0.5*torch.log(torch.ones_like(alpha) + alpha)\n",
        "def inverse_quadratic(alpha): return -torch.log(torch.ones_like(alpha) + alpha)\n",
        "\n",
        "class Model(nn.Module):\n",
        "    def __init__(self, num_input, en1_units_x, en2_units_x, num_coordinate, num_topic, drop_rate, variance_x, bs,\n",
        "                 embedding_words,embedding_keywords, word_emb_size,num_keyword, distance=\"gaussian\"):\n",
        "\n",
        "        super(Model, self).__init__()\n",
        "        self.num_input, self.num_coordinate, self.num_topic, self.variance_x, self.bs ,self.word_emb_size, self.num_keyword \\\n",
        "            = num_input, num_coordinate, num_topic, variance_x, bs,word_emb_size,num_keyword\n",
        "\n",
        "        self.word_emb = embedding_words\n",
        "        self.embeddings_keys = embedding_keywords\n",
        "        # self.embeddings_key_red = embedding_key_red\n",
        "\n",
        "        # encoder\n",
        "        self.en1_fc     = nn.Linear(num_input, en1_units_x)             # V -> 100 #nxV->(vxh1)->nxh1;\n",
        "        self.en2_fc     = nn.Linear(en1_units_x, en2_units_x)             # 100  -> 100\n",
        "        self.en2_drop   = nn.Dropout(drop_rate)\n",
        "        self.mean_fc    = nn.Linear(en2_units_x, num_coordinate)        # 100  -> 2\n",
        "        self.mean_bn    = nn.BatchNorm1d(num_coordinate)              # bn for mean\n",
        "        self.logvar_fc  = nn.Linear(en2_units_x, num_coordinate)        # 100  -> 2\n",
        "        self.logvar_bn  = nn.BatchNorm1d(num_coordinate)              # bn for logvar\n",
        "\n",
        "        # RBF\n",
        "        self.in_features = self.num_coordinate\n",
        "        self.out_features = self.num_topic\n",
        "        self.centres = nn.Parameter(torch.Tensor(self.out_features, self.in_features))\n",
        "        self.query_center = nn.Parameter(torch.zeros(2,1))\n",
        "\n",
        "        self.relv_center = nn.Parameter(torch.zeros(1,2))\n",
        "        self.irrelv_center = nn.Parameter(torch.zeros(1,2))\n",
        "\n",
        "        self.threshold = nn.Parameter(torch.ones(1)*0.75)\n",
        "        self.query_words = nn.Parameter(torch.Tensor(self.num_keyword,self.in_features))\n",
        "\n",
        "        if distance==\"gaussian\": self.basis_func = gaussian\n",
        "        if distance==\"inverse_quadratic\": self.basis_func = inverse_quadratic\n",
        "        if distance==\"inverse_multi_quadric\": self.basis_func = inverse_multi_quadric\n",
        "        self.init_parameters()\n",
        "\n",
        "        # self.topic_embedding = nn.Parameter(300,self.num_topic) # 300 x K\n",
        "        # self.topic_embedding = nn.Linear(self.word_emb_size,self.num_topic,bias=False) # 300 x K\n",
        "\n",
        "        self.topic1_fc     = nn.Linear(self.in_features, en1_units_x)\n",
        "        self.topic2_fc     = nn.Linear(en1_units_x, en2_units_x)\n",
        "        self.topic2_drop   = nn.Dropout(drop_rate)\n",
        "        self.topic_mapping = nn.Linear(en2_units_x, self.word_emb_size)\n",
        "        self.topic_embeddings = 0\n",
        "\n",
        "        # decoder layer\n",
        "        self.decoder    = nn.Linear(self.num_topic, self.num_input)             # 50   -> 1995\n",
        "        self.decoder_bn = nn.BatchNorm1d(self.num_topic)                      # bn for decoder\n",
        "\n",
        "        # decoder document\n",
        "        self.decoder_phi_bn = nn.BatchNorm1d(num_coordinate)                      # bn for decoder\n",
        "        self.decoder_x_bn = nn.BatchNorm1d(num_coordinate)\n",
        "        self.decoder_q_bn = nn.BatchNorm1d(num_coordinate)\n",
        "\n",
        "        # prior mean and variance as constant buffers\n",
        "        prior_mean   = torch.Tensor(1, num_coordinate).fill_(0)\n",
        "        prior_var    = torch.Tensor(1, num_coordinate).fill_(variance_x)\n",
        "        self.prior_mean = nn.Parameter(prior_mean, requires_grad=False)\n",
        "        self.prior_var  = nn.Parameter(prior_var, requires_grad=False)\n",
        "        self.prior_logvar = nn.Parameter(prior_var.log(), requires_grad=False)\n",
        "\n",
        "\n",
        "    def init_parameters(self):\n",
        "        nn.init.normal_(self.centres, 0, 0.01)\n",
        "        nn.init.normal_(self.query_words, 0, 0.01)\n",
        "\n",
        "\n",
        "    def get_beta(self,cosine_score):\n",
        "        cos_v = cosine_score.unsqueeze(-1).expand(self.num_input,self.out_features)\n",
        "\n",
        "        # cos_v_2 = torch.cat((cos_v.unsqueeze(-1),(1-cos_v).unsqueeze(-1)),-1)\n",
        "############ beta ##########\n",
        "        # # beta_param = torch.mm(self.word_emb,self.topic_embedding) # V x 300 * 300 x K\n",
        "        # beta = F.softmax(beta_param,dim=0).transpose(1,0) ## softmax over vocab dimension # KxV\n",
        "\n",
        "        # beta_param = self.topic_embedding(self.word_emb)\n",
        "        # vt2 = beta_param.unsqueeze(-1).expand(self.num_input,self.out_features,2)\n",
        "        # beta = F.softmax(vt2 * cos_v_2 ,dim=0).transpose(1,0) ## word embedding beta\n",
        "\n",
        "        t1 = F.softplus(self.topic1_fc(self.decoder_phi_bn(self.centres)))\n",
        "        t2 = F.softplus(self.topic2_fc(t1))\n",
        "        # t2 = self.topic2_drop(t2)\n",
        "        self.topic_embeddings = self.topic_mapping(t2) # 300 x K\n",
        "\n",
        "        # vt = torch.mm(self.word_emb,self.topic_embeddings.T)\n",
        "        # beta = F.softmax(vt,dim=0).transpose(1,0)\n",
        "\n",
        "        # vt2 = torch.mm(self.word_emb,self.topic_embeddings.T).unsqueeze(-1).expand(self.num_input,self.out_features,2)\n",
        "        # beta = F.softmax(vt2 * cos_v_2 ,dim=0).transpose(1,0) ## word embedding beta\n",
        "\n",
        "        # vt2 = (self.decoder_bn(self.decoder.weight)).unsqueeze(-1).expand(self.num_input,self.out_features,2)\n",
        "        # beta = F.softmax((vt2 * cos_v_2).sum(-1),dim=0).transpose(1,0) ## FoTo Doc Model beta\n",
        "\n",
        "        beta = F.softmax((self.decoder_bn(self.decoder.weight)),dim=0).transpose(1,0) ## PLSV beta\n",
        "\n",
        "        return beta\n",
        "\n",
        "    def encode(self, input_):\n",
        "        N, *_ = input_.size()\n",
        "        en1 = F.softplus(self.en1_fc(input_))                           # en1_fc   output\n",
        "        en2 = F.softplus(self.en2_fc(en1))                              # encoder2 output\n",
        "        en2 = self.en2_drop(en2)\n",
        "        posterior_mean   = self.mean_bn  (self.mean_fc  (en2))          # posterior mean\n",
        "        posterior_logvar = self.logvar_bn(self.logvar_fc(en2))          # posterior log variance\n",
        "        posterior_var    = posterior_logvar.exp()\n",
        "\n",
        "        return en2, posterior_mean, posterior_logvar, posterior_var\n",
        "\n",
        "    def take_sample(self, input_, posterior_mean, posterior_var, prior_var):\n",
        "        eps = input_.data.new().resize_as_(posterior_mean.data).normal_(std=1) # noise\n",
        "        z = posterior_mean + posterior_var.sqrt() * eps                   # reparameterization\n",
        "        return z\n",
        "\n",
        "    def decode(self, z,cosine_score):\n",
        "        N, *_ = z.size()\n",
        "        zx = self.decoder_x_bn(z).view(N, 1, self.num_coordinate) # Nx1x2\n",
        "        size = (N, self.out_features, self.in_features) # N,K,2\n",
        "        x = zx.expand(size)\n",
        "        c = self.decoder_phi_bn(self.centres).unsqueeze(0).expand(size)\n",
        "        d = (x-c).pow(2).sum(-1)\n",
        "        distances = self.basis_func(d)\n",
        "        zx_phi = torch.exp(distances - torch.logsumexp(distances, dim=-1, keepdim=True)) # theta\n",
        "        beta = self.get_beta(cosine_score)\n",
        "        recon_v = torch.mm(zx_phi, beta) ## (N x T) * (T x V)\n",
        "        return recon_v, zx, zx_phi, d, c\n",
        "\n",
        "    def forward(self, input_, relevant_scores,cosine_score, compute_loss=False):\n",
        "        en2, posterior_mean, posterior_logvar, posterior_var = self.encode(input_)\n",
        "        z = self.take_sample(input_, posterior_mean, posterior_var, self.variance_x)\n",
        "        recon_v, zx, zx_phi,d,c= self.decode(z,cosine_score)\n",
        "\n",
        "        if compute_loss:\n",
        "            return recon_v, self.loss(input_, recon_v, zx_phi, posterior_mean, posterior_logvar, posterior_var, d, c, relevant_scores, cosine_score,zx)\n",
        "        else: return z, recon_v, zx, zx_phi\n",
        "\n",
        "    def KLD(self, posterior_mean,posterior_logvar,posterior_var):\n",
        "        N = posterior_mean.shape[0]\n",
        "        prior_mean   = self.prior_mean.expand_as(posterior_mean)\n",
        "        prior_var    = self.prior_var.expand_as(posterior_mean)\n",
        "        prior_logvar = self.prior_logvar.expand_as(posterior_mean)\n",
        "\n",
        "        var_division    = posterior_var  / prior_var\n",
        "        diff            = posterior_mean - prior_mean\n",
        "        diff_term       = diff * diff / prior_var\n",
        "        logvar_division = prior_logvar - posterior_logvar\n",
        "\n",
        "        xKLD = 0.5 * ((var_division + diff_term + logvar_division).sum(-1) - self.num_coordinate)\n",
        "        return xKLD\n",
        "\n",
        "    def loss(self, input_, recon_v, zx_phi, posterior_mean, posterior_logvar, posterior_var, d, c, relevant_scores,cosine_score, zx, avg=True):\n",
        "        N = posterior_mean.shape[0]\n",
        "\n",
        "        pk_r = torch.ones(N,self.num_topic) #r=0, NxT\n",
        "        pk_r[:,0] = 0 ### First Topic is irrelv\n",
        "        pk_ir = 1-pk_r\n",
        "\n",
        "        # pC1 = F.Softmax(cosine_score ## relv_centre\n",
        "        # pC2 = 1-cosine_score ## irrelv_centre\n",
        "\n",
        "        # relv_loss =\n",
        "        # irrelv_loss =\n",
        "\n",
        "        # reg1 = relv_loss\n",
        "        # reg2 =   irrelv_loss\n",
        "\n",
        "##########\n",
        "\n",
        "        # size_nv2 = (N,self.num_input,2)\n",
        "        # cos_nv = 1.0/((cosine_score)*(cosine_score+1))\n",
        "        # cos_nv = 1.0/( (cosine_score)**(1/4) )\n",
        "\n",
        "        cosine_score=cosine_score-self.threshold\n",
        "        cos_nv = torch.heaviside(cosine_score,torch.tensor(0.0))\n",
        "\n",
        "        #cosine_score[idx[:500]] = 0.5\n",
        "        #cosine_score[idx[500:]] = 0.00001\n",
        "        #cos_nv = cosine_score\n",
        "\n",
        "        cos_r_nv = cos_nv.unsqueeze(0).expand(N,self.num_input)\n",
        "        #relv_nv = relevant_scores.expand(N,self.num_input)\n",
        "        #rel_cos_nv = min_max_normalization(cos_nv /(1.0-relv_nv+smoothen))\n",
        "\n",
        "        #renormalize [0,1]\n",
        "\n",
        "        cos_vocab_p =torch.cat((cos_nv.unsqueeze(-1),(1-cos_nv).unsqueeze(-1)),-1) # N x V x 2\n",
        "        # NL = - (input_v_2 * ( (recon_v_2 * cos_vocab_p) + 1e-10).log()).sum(-1).sum(-1)\n",
        "\n",
        "##########\n",
        "\n",
        "        # NL = - (input_ * (recon_v * relv_nv +1e-30).log()).sum(-1)\n",
        "        NL = - (input_ * (recon_v * cos_r_nv +1e-30).log()).sum(-1)\n",
        "        # NL = - (input_ * (recon_v +1e-30).log()).sum(-1)\n",
        "\n",
        "        NL= NL.sum()\n",
        "        KLD = self.KLD(posterior_mean,posterior_logvar,posterior_var).sum()\n",
        "        NegativeLogL_RScore = - LogL_NewBeta(zx,relevant_scores).sum()\n",
        "\n",
        "        ## cosine_sim ==> cosine between words and keywords\n",
        "        ## Term_selector ~ Bernoulli(cosine_sim) ... Needs to be integrated, Not on batch size(N), it is on topic and vocab\n",
        "        ## Multiply with beta\n",
        "        ## ( ][_t then sum over all possible cases of term selector(t(latent)) )\n",
        "        ## What is the Likelihood\n",
        "\n",
        "        ## include that to make topic modelling better\n",
        "        ### How to generate term selector using visualization coordinate\n",
        "\n",
        "        loss = NL + KLD + NegativeLogL_RScore\n",
        "\n",
        "        return loss/N, NL,KLD, NegativeLogL_RScore"
      ],
      "execution_count": null,
      "outputs": []
    },
    {
      "cell_type": "code",
      "metadata": {
        "id": "Xiv54gv6-sqB",
        "colab": {
          "base_uri": "https://localhost:8080/",
          "height": 229
        },
        "outputId": "7ad049ae-d055-423e-aa89-551fb257c607"
      },
      "source": [
        "num_keyword = embedding_tensor_keywords.shape[0]\n",
        "emb_size = embedding_tensor_keywords.shape[1]\n",
        "cos_sim = nn.CosineSimilarity(dim=-1, eps=1e-8)\n",
        "\n",
        "embedding_tensor_words = embedding_tensor_sorted_alp ## alphabetically sorted Vocab\n",
        "\n",
        "embedding_tensor_words = embedding_tensor_words.to(device)\n",
        "embedding_tensor_keywords = embedding_tensor_keywords.to(device)\n",
        "\n",
        "model = Model(num_input, en1_units_x, en2_units_x, num_coordinate, num_topic, drop_rate, variance_x, bs,\n",
        "              embedding_tensor_words,embedding_tensor_keywords,emb_size,num_keyword, \"inverse_quadratic\")\n",
        "\n",
        "model.to(device)\n",
        "\n",
        "# optimizer = optim.Adam(model.parameters(), learning_rate, betas=(beta1, beta2), weight_decay=0.01) # L2 for loss\n",
        "optimizer = optim.Adam(model.parameters(), learning_rate, betas=(beta1, beta2))\n",
        "\n",
        "epochs = 1000\n",
        "\n",
        "kld_arr,recon_arr,neg_log_rscore_arr = [],[],[]\n",
        "all_indices = torch.randperm(tensor_train_w.size(0)).split(bs)\n",
        "# cosine_score = torch.bernoulli(keywords_max_score).to(device)\n",
        "\n",
        "for epoch in range(epochs):\n",
        "\n",
        "    loss_u_epoch = 0.0 ## NL loss\n",
        "    loss_KLD = 0.0  ## KL loss\n",
        "    loss_epoch = 0.0 ## Loss per batch #\n",
        "    neg_log_rscore_ep = 0.0 ## Neg Loss (Score)\n",
        "\n",
        "    model.train()\n",
        "\n",
        "    for batch_ndx in all_indices:\n",
        "\n",
        "        input_w = tensor_train_w[batch_ndx].to(device)\n",
        "        labels = train_label[batch_ndx]\n",
        "        relevant_scores = rounded_normalized_all_rscores[batch_ndx].to(device).unsqueeze(-1)\n",
        "        cosine_score = keywords_max_score.to(device)\n",
        "        # cosine_score = cosine_flag_testing.to(device)\n",
        "        # cosine_score = torch.bernoulli(keywords_max_score).to(device)\n",
        "        # ranked_input_d = ranked_input.to(device)\n",
        "        recon_v, (loss, loss_u, xkl_loss, neg_log_rscore) = model(input_w, relevant_scores, cosine_score,compute_loss=True)\n",
        "\n",
        "        optimizer.zero_grad()\n",
        "        loss.backward()\n",
        "\n",
        "        optimizer.step()             # backpror.step()\n",
        "        loss_epoch += loss.item()\n",
        "        loss_u_epoch += loss_u.item()\n",
        "        loss_KLD += xkl_loss.item()\n",
        "        neg_log_rscore_ep += neg_log_rscore.item()\n",
        "\n",
        "    kld_arr.append(loss_KLD)\n",
        "    recon_arr.append(loss_u_epoch)\n",
        "    neg_log_rscore_arr.append(neg_log_rscore_ep)\n",
        "\n",
        "    if epoch % 10 == 0:\n",
        "        print('Epoch -> {} , loss -> {}'.format(epoch,loss_epoch))\n",
        "        print('recon_loss==> {} || KLD==> {} || neg_loss==> {}'.format(loss_u_epoch, loss_KLD,neg_log_rscore_ep))"
      ],
      "execution_count": null,
      "outputs": [
        {
          "output_type": "error",
          "ename": "NameError",
          "evalue": "ignored",
          "traceback": [
            "\u001b[0;31m---------------------------------------------------------------------------\u001b[0m",
            "\u001b[0;31mNameError\u001b[0m                                 Traceback (most recent call last)",
            "\u001b[0;32m<ipython-input-40-20af95cfa3dd>\u001b[0m in \u001b[0;36m<module>\u001b[0;34m()\u001b[0m\n\u001b[1;32m     35\u001b[0m         \u001b[0minput_w\u001b[0m \u001b[0;34m=\u001b[0m \u001b[0mtensor_train_w\u001b[0m\u001b[0;34m[\u001b[0m\u001b[0mbatch_ndx\u001b[0m\u001b[0;34m]\u001b[0m\u001b[0;34m.\u001b[0m\u001b[0mto\u001b[0m\u001b[0;34m(\u001b[0m\u001b[0mdevice\u001b[0m\u001b[0;34m)\u001b[0m\u001b[0;34m\u001b[0m\u001b[0;34m\u001b[0m\u001b[0m\n\u001b[1;32m     36\u001b[0m         \u001b[0mlabels\u001b[0m \u001b[0;34m=\u001b[0m \u001b[0mtrain_label\u001b[0m\u001b[0;34m[\u001b[0m\u001b[0mbatch_ndx\u001b[0m\u001b[0;34m]\u001b[0m\u001b[0;34m\u001b[0m\u001b[0;34m\u001b[0m\u001b[0m\n\u001b[0;32m---> 37\u001b[0;31m         \u001b[0mrelevant_scores\u001b[0m \u001b[0;34m=\u001b[0m \u001b[0mrounded_normalized_all_rscores\u001b[0m\u001b[0;34m[\u001b[0m\u001b[0mbatch_ndx\u001b[0m\u001b[0;34m]\u001b[0m\u001b[0;34m.\u001b[0m\u001b[0mto\u001b[0m\u001b[0;34m(\u001b[0m\u001b[0mdevice\u001b[0m\u001b[0;34m)\u001b[0m\u001b[0;34m.\u001b[0m\u001b[0munsqueeze\u001b[0m\u001b[0;34m(\u001b[0m\u001b[0;34m-\u001b[0m\u001b[0;36m1\u001b[0m\u001b[0;34m)\u001b[0m\u001b[0;34m\u001b[0m\u001b[0;34m\u001b[0m\u001b[0m\n\u001b[0m\u001b[1;32m     38\u001b[0m         \u001b[0mcosine_score\u001b[0m \u001b[0;34m=\u001b[0m \u001b[0mkeywords_max_score\u001b[0m\u001b[0;34m.\u001b[0m\u001b[0mto\u001b[0m\u001b[0;34m(\u001b[0m\u001b[0mdevice\u001b[0m\u001b[0;34m)\u001b[0m\u001b[0;34m\u001b[0m\u001b[0;34m\u001b[0m\u001b[0m\n\u001b[1;32m     39\u001b[0m         \u001b[0;31m# cosine_score = cosine_flag_testing.to(device)\u001b[0m\u001b[0;34m\u001b[0m\u001b[0;34m\u001b[0m\u001b[0;34m\u001b[0m\u001b[0m\n",
            "\u001b[0;31mNameError\u001b[0m: name 'rounded_normalized_all_rscores' is not defined"
          ]
        }
      ]
    },
    {
      "cell_type": "markdown",
      "metadata": {
        "id": "K0zQCuyY_kaq"
      },
      "source": [
        "# **Functions (Plot_loss, get_topwords, get_Z, get_Contour, print_Topics)** - *Run Once*"
      ]
    },
    {
      "cell_type": "code",
      "metadata": {
        "id": "IQs6On09Oj9I",
        "cellView": "form"
      },
      "source": [
        "#@title get_all_tensor_size\n",
        "def getall_tensor_size():\n",
        "  for obj in gc.get_objects():\n",
        "    try:\n",
        "        if torch.is_tensor(obj) or (hasattr(obj, 'data') and torch.is_tensor(obj.data)):\n",
        "            print(type(obj), obj.size(),get_mem_size(obj))\n",
        "    except:\n",
        "        pass"
      ],
      "execution_count": null,
      "outputs": []
    },
    {
      "cell_type": "code",
      "metadata": {
        "id": "r9dbke4-9_Wy"
      },
      "source": [
        "import plotly.graph_objects as go\n",
        "def plot_loss(y,name):\n",
        "  figure = go.Figure()\n",
        "  figure.add_trace(go.Scatter(x=[i for i in range(1,epochs+1)], y=y,mode='lines',name=name))\n",
        "  figure.show(renderer='colab')"
      ],
      "execution_count": null,
      "outputs": []
    },
    {
      "cell_type": "code",
      "metadata": {
        "id": "a2KM8q_S7ivG"
      },
      "source": [
        "def get_topwords(beta, id_vocab):\n",
        "    topic_indx = 0\n",
        "    topwords_topic = []\n",
        "    for i in range(len(beta)):\n",
        "        topwords_topic.append( str(topic_indx)+\": \"+ \" \".join([id_vocab[j] for j in beta[i].argsort()[:-100 - 1:-1]]))\n",
        "        topic_indx+=1\n",
        "    return topwords_topic"
      ],
      "execution_count": null,
      "outputs": []
    },
    {
      "cell_type": "code",
      "metadata": {
        "id": "h2DrizcsH104"
      },
      "source": [
        "def get_Z(X,Y):\n",
        "  norms = torch.zeros(X.shape)\n",
        "  Z = torch.zeros(X.shape)\n",
        "\n",
        "  for i in range(X.shape[0]):\n",
        "    for j in range(X.shape[0]):\n",
        "      v = torch.tensor([X[i][j],Y[i][j]])\n",
        "\n",
        "      norms[i][j] = torch.norm(v)\n",
        "      Z[i][j]=torch.exp(-0.5 * (torch.pow(norms[i][j],2))/mu_div)\n",
        "\n",
        "      # norms[i][j] = (v-query_center.T).pow(2).sum(-1)\n",
        "      # Z[i][j]=torch.exp(-0.5 * norms[i][j]/mu_div)\n",
        "  return Z"
      ],
      "execution_count": null,
      "outputs": []
    },
    {
      "cell_type": "code",
      "metadata": {
        "id": "NHlxtT-07ivG"
      },
      "source": [
        "def get_Contour(ax,x_list,lim):\n",
        "  xlist = np.linspace(-lim, lim, 200)\n",
        "  ylist = np.linspace(-lim, lim, 200)\n",
        "  X, Y = np.meshgrid(xlist, ylist)\n",
        "  Z = get_Z(X,Y)\n",
        "  levels = np.arange(0,1,0.1)\n",
        "  cp = ax.contour(X, Y, Z, levels=levels)\n",
        "  ax.clabel(cp, inline=1, fontsize=10)"
      ],
      "execution_count": null,
      "outputs": []
    },
    {
      "cell_type": "code",
      "metadata": {
        "id": "pSndz8tz7ivH"
      },
      "source": [
        "import seaborn as sb\n",
        "\n",
        "def plot_fig(zx, labels_list, zphi, query_center,query_words,lim,contour='No'):\n",
        "    labels = []\n",
        "    for i in range(len(labels_list)):\n",
        "        labels.append('C'+str(labels_list[i]))\n",
        "    fig, ax = plt.subplots( figsize=(20, 20))\n",
        "    if contour=='yes':\n",
        "       get_Contour(ax,zx,lim)\n",
        "\n",
        "    sb.scatterplot(ax=ax,x=zx[:,0],y=zx[:,1],hue=labels_list,alpha=0.8,palette='deep')\n",
        "    ax.set(ylim=(-lim,lim))\n",
        "    ax.set(xlim=(-lim,lim))\n",
        "\n",
        "    ax.text(query_center[0],query_center[1], 'X' ,c='red')\n",
        "    # ax.text(0,0, 'X' ,c='black')\n",
        "    # for i in range(len(query_words)):\n",
        "    #   if (i==len(query_words)-1):\n",
        "    #     ax.text(query_words[i][0],query_words[i][1], 'X'+keywords[i] ,c='black')\n",
        "    #   else:\n",
        "    #     ax.text(query_words[i][0],query_words[i][1], 'X'+keywords[i] ,c='black')\n",
        "\n",
        "    ax.scatter(zphi[:, 0], zphi[:, 1], alpha=1.0,  edgecolors='black', facecolors='none', s=30)\n",
        "\n",
        "    for indx, topic in enumerate(zphi):\n",
        "        ax.text(zphi[indx, 0], zphi[indx, 1], 'topic'+str(indx))"
      ],
      "execution_count": null,
      "outputs": []
    },
    {
      "cell_type": "code",
      "metadata": {
        "id": "yx1pgbyn0qhe"
      },
      "source": [
        "def print_Topics():\n",
        "  print(\"---\"*10)\n",
        "  topword_topics = get_topwords(beta, id_vocab)\n",
        "  topword_topics_list=[]\n",
        "  for topwords in topword_topics:\n",
        "      topword_topics_list.append(topwords.split())\n",
        "      print(topwords)\n",
        "  print(\"---\"*10)"
      ],
      "execution_count": null,
      "outputs": []
    },
    {
      "cell_type": "code",
      "metadata": {
        "id": "graGlyOraFaG"
      },
      "source": [],
      "execution_count": null,
      "outputs": []
    },
    {
      "cell_type": "markdown",
      "metadata": {
        "id": "JM0IBTQv_s8T"
      },
      "source": [
        "# **Plots,Topics,Visualizations**"
      ]
    },
    {
      "cell_type": "code",
      "metadata": {
        "id": "LpNa3a4LOzVH"
      },
      "source": [
        "plot_loss(neg_log_rscore_arr,\"neg\")"
      ],
      "execution_count": null,
      "outputs": []
    },
    {
      "cell_type": "code",
      "metadata": {
        "id": "WPXzCVFuO0_n"
      },
      "source": [
        "plot_loss(recon_arr,\"Recon\")"
      ],
      "execution_count": null,
      "outputs": []
    },
    {
      "cell_type": "code",
      "metadata": {
        "id": "xQETW799qju9"
      },
      "source": [
        "model.eval()\n",
        "x_list = []\n",
        "labels_list = []\n",
        "doc_ids = []\n",
        "zx_phi_list=[]\n",
        "\n",
        "with torch.no_grad():\n",
        "    for batch_ndx in all_indices:\n",
        "        input_w = tensor_train_w[batch_ndx].to(device)\n",
        "        labels = train_label[batch_ndx]\n",
        "\n",
        "        relevant_scores = rounded_normalized_all_rscores[batch_ndx].to(device).unsqueeze(-1)\n",
        "        cosine_score = keywords_max_score.to(device)\n",
        "        # cosine_score = cosine_flag_testing.to(device)\n",
        "        # ranked_input_d = ranked_input.to(device)\n",
        "        labels_list.extend(labels)\n",
        "\n",
        "        z, recon_v, zx, zx_phi = model(input_w, relevant_scores,cosine_score,compute_loss=False)\n",
        "        zx = zx.view(-1, num_coordinate).data.detach().cpu().numpy()\n",
        "        zx_phi = zx_phi.view(-1, num_topic).data.detach().cpu().numpy()\n",
        "        zx_phi_list.extend(zx_phi)\n",
        "        x_list.extend(zx)\n",
        "        doc_ids.extend(batch_ndx)\n",
        "\n",
        "    x_list = np.array(x_list)\n",
        "\n",
        "    # beta = model.decoder.weight.data.cpu().numpy().T#\n",
        "    beta = model.get_beta(cosine_score).data.cpu().numpy()\n",
        "    zphi = model.decoder_phi_bn(model.centres).data.cpu().numpy()\n",
        "    query_center = model.query_center.data.cpu().numpy()\n",
        "    threshold_model = model.threshold.data.cpu().numpy()\n",
        "    # query_words = model.decoder_q_bn(embedding_key_red).data.cpu().numpy()"
      ],
      "execution_count": null,
      "outputs": []
    },
    {
      "cell_type": "code",
      "metadata": {
        "id": "rAAbQoUXOeDU"
      },
      "source": [
        "print_Topics()"
      ],
      "execution_count": null,
      "outputs": []
    },
    {
      "cell_type": "code",
      "metadata": {
        "id": "KD-SEwBxOcwM"
      },
      "source": [
        "get_keywords(d_data),threshold_model"
      ],
      "execution_count": null,
      "outputs": []
    },
    {
      "cell_type": "code",
      "metadata": {
        "id": "66qJeOlMzdu9"
      },
      "source": [
        "plot_fig(x_list, labels_list, zphi,query_center,query_words=[0,0],lim =50,contour='yes')"
      ],
      "execution_count": null,
      "outputs": []
    },
    {
      "cell_type": "markdown",
      "metadata": {
        "id": "oCVawukWgxeH"
      },
      "source": [
        "# ____ STOP____"
      ]
    },
    {
      "cell_type": "code",
      "metadata": {
        "id": "xiUorw-Xg0Hg"
      },
      "source": [
        "STOP!!!!"
      ],
      "execution_count": null,
      "outputs": []
    },
    {
      "cell_type": "code",
      "metadata": {
        "id": "A2gbTUI2g1Vt"
      },
      "source": [
        "STOP!!!!"
      ],
      "execution_count": null,
      "outputs": []
    },
    {
      "cell_type": "code",
      "metadata": {
        "id": "Ng3vECMBg1o1"
      },
      "source": [
        "STOP!!!!"
      ],
      "execution_count": null,
      "outputs": []
    },
    {
      "cell_type": "markdown",
      "metadata": {
        "id": "TPfQ0IUnPlfi"
      },
      "source": [
        "# Save/Download Results"
      ]
    },
    {
      "cell_type": "code",
      "metadata": {
        "id": "475CSACcuqNS"
      },
      "source": [
        "doc_ids_model = [i.item() for i in doc_ids]"
      ],
      "execution_count": null,
      "outputs": []
    },
    {
      "cell_type": "code",
      "metadata": {
        "id": "uLNlLcmYiA59"
      },
      "source": [
        "save_obj(get_topwords(beta, id_vocab),\"top100_docmodel_\"+d_data)"
      ],
      "execution_count": null,
      "outputs": []
    },
    {
      "cell_type": "code",
      "metadata": {
        "id": "-REuGjLoGIU_"
      },
      "source": [
        "save_obj(x_list,\"x_list\")\n",
        "save_obj(indices,\"doc_id_desm\")\n",
        "save_obj(doc_ids_model,\"doc_ids_model\")\n",
        "save_obj(labels_list,\"labels_list\")\n",
        "save_obj(all_rscores,\"all_rscores\")\n",
        "save_obj(keywords,'keywords_'+d_data)"
      ],
      "execution_count": null,
      "outputs": []
    },
    {
      "cell_type": "code",
      "metadata": {
        "id": "EYDLajZGGaFr",
        "colab": {
          "base_uri": "https://localhost:8080/",
          "height": 17
        },
        "outputId": "b9dd0f5d-1b62-459c-f238-8b6b0f0d14a8"
      },
      "source": [
        "from google.colab import files\n",
        "files.download(\"doc_ids_model.pkl\")\n",
        "files.download(\"doc_id_desm.pkl\")\n",
        "files.download(\"x_list.pkl\")\n",
        "files.download(\"labels_list.pkl\")\n",
        "files.download(\"all_rscores.pkl\")\n",
        "files.download(\"keywords_\"+d_data+\".pkl\")\n",
        "files.download(\"top100_docmodel_\"+d_data+\".pkl\")"
      ],
      "execution_count": null,
      "outputs": [
        {
          "output_type": "display_data",
          "data": {
            "application/javascript": [
              "\n",
              "    async function download(id, filename, size) {\n",
              "      if (!google.colab.kernel.accessAllowed) {\n",
              "        return;\n",
              "      }\n",
              "      const div = document.createElement('div');\n",
              "      const label = document.createElement('label');\n",
              "      label.textContent = `Downloading \"${filename}\": `;\n",
              "      div.appendChild(label);\n",
              "      const progress = document.createElement('progress');\n",
              "      progress.max = size;\n",
              "      div.appendChild(progress);\n",
              "      document.body.appendChild(div);\n",
              "\n",
              "      const buffers = [];\n",
              "      let downloaded = 0;\n",
              "\n",
              "      const channel = await google.colab.kernel.comms.open(id);\n",
              "      // Send a message to notify the kernel that we're ready.\n",
              "      channel.send({})\n",
              "\n",
              "      for await (const message of channel.messages) {\n",
              "        // Send a message to notify the kernel that we're ready.\n",
              "        channel.send({})\n",
              "        if (message.buffers) {\n",
              "          for (const buffer of message.buffers) {\n",
              "            buffers.push(buffer);\n",
              "            downloaded += buffer.byteLength;\n",
              "            progress.value = downloaded;\n",
              "          }\n",
              "        }\n",
              "      }\n",
              "      const blob = new Blob(buffers, {type: 'application/binary'});\n",
              "      const a = document.createElement('a');\n",
              "      a.href = window.URL.createObjectURL(blob);\n",
              "      a.download = filename;\n",
              "      div.appendChild(a);\n",
              "      a.click();\n",
              "      div.remove();\n",
              "    }\n",
              "  "
            ],
            "text/plain": [
              "<IPython.core.display.Javascript object>"
            ]
          },
          "metadata": {
            "tags": []
          }
        },
        {
          "output_type": "display_data",
          "data": {
            "application/javascript": [
              "download(\"download_1a790675-29d4-4bc8-9b97-ec78d260d7fb\", \"doc_ids_model.pkl\", 22796)"
            ],
            "text/plain": [
              "<IPython.core.display.Javascript object>"
            ]
          },
          "metadata": {
            "tags": []
          }
        },
        {
          "output_type": "display_data",
          "data": {
            "application/javascript": [
              "\n",
              "    async function download(id, filename, size) {\n",
              "      if (!google.colab.kernel.accessAllowed) {\n",
              "        return;\n",
              "      }\n",
              "      const div = document.createElement('div');\n",
              "      const label = document.createElement('label');\n",
              "      label.textContent = `Downloading \"${filename}\": `;\n",
              "      div.appendChild(label);\n",
              "      const progress = document.createElement('progress');\n",
              "      progress.max = size;\n",
              "      div.appendChild(progress);\n",
              "      document.body.appendChild(div);\n",
              "\n",
              "      const buffers = [];\n",
              "      let downloaded = 0;\n",
              "\n",
              "      const channel = await google.colab.kernel.comms.open(id);\n",
              "      // Send a message to notify the kernel that we're ready.\n",
              "      channel.send({})\n",
              "\n",
              "      for await (const message of channel.messages) {\n",
              "        // Send a message to notify the kernel that we're ready.\n",
              "        channel.send({})\n",
              "        if (message.buffers) {\n",
              "          for (const buffer of message.buffers) {\n",
              "            buffers.push(buffer);\n",
              "            downloaded += buffer.byteLength;\n",
              "            progress.value = downloaded;\n",
              "          }\n",
              "        }\n",
              "      }\n",
              "      const blob = new Blob(buffers, {type: 'application/binary'});\n",
              "      const a = document.createElement('a');\n",
              "      a.href = window.URL.createObjectURL(blob);\n",
              "      a.download = filename;\n",
              "      div.appendChild(a);\n",
              "      a.click();\n",
              "      div.remove();\n",
              "    }\n",
              "  "
            ],
            "text/plain": [
              "<IPython.core.display.Javascript object>"
            ]
          },
          "metadata": {
            "tags": []
          }
        },
        {
          "output_type": "display_data",
          "data": {
            "application/javascript": [
              "download(\"download_2b39657b-0c3e-449a-8f35-734cf8d8b6a0\", \"doc_id_desm.pkl\", 61790)"
            ],
            "text/plain": [
              "<IPython.core.display.Javascript object>"
            ]
          },
          "metadata": {
            "tags": []
          }
        },
        {
          "output_type": "display_data",
          "data": {
            "application/javascript": [
              "\n",
              "    async function download(id, filename, size) {\n",
              "      if (!google.colab.kernel.accessAllowed) {\n",
              "        return;\n",
              "      }\n",
              "      const div = document.createElement('div');\n",
              "      const label = document.createElement('label');\n",
              "      label.textContent = `Downloading \"${filename}\": `;\n",
              "      div.appendChild(label);\n",
              "      const progress = document.createElement('progress');\n",
              "      progress.max = size;\n",
              "      div.appendChild(progress);\n",
              "      document.body.appendChild(div);\n",
              "\n",
              "      const buffers = [];\n",
              "      let downloaded = 0;\n",
              "\n",
              "      const channel = await google.colab.kernel.comms.open(id);\n",
              "      // Send a message to notify the kernel that we're ready.\n",
              "      channel.send({})\n",
              "\n",
              "      for await (const message of channel.messages) {\n",
              "        // Send a message to notify the kernel that we're ready.\n",
              "        channel.send({})\n",
              "        if (message.buffers) {\n",
              "          for (const buffer of message.buffers) {\n",
              "            buffers.push(buffer);\n",
              "            downloaded += buffer.byteLength;\n",
              "            progress.value = downloaded;\n",
              "          }\n",
              "        }\n",
              "      }\n",
              "      const blob = new Blob(buffers, {type: 'application/binary'});\n",
              "      const a = document.createElement('a');\n",
              "      a.href = window.URL.createObjectURL(blob);\n",
              "      a.download = filename;\n",
              "      div.appendChild(a);\n",
              "      a.click();\n",
              "      div.remove();\n",
              "    }\n",
              "  "
            ],
            "text/plain": [
              "<IPython.core.display.Javascript object>"
            ]
          },
          "metadata": {
            "tags": []
          }
        },
        {
          "output_type": "display_data",
          "data": {
            "application/javascript": [
              "download(\"download_bb8bc76d-7cb7-4952-b537-8eefe12f8fd2\", \"x_list.pkl\", 61545)"
            ],
            "text/plain": [
              "<IPython.core.display.Javascript object>"
            ]
          },
          "metadata": {
            "tags": []
          }
        },
        {
          "output_type": "display_data",
          "data": {
            "application/javascript": [
              "\n",
              "    async function download(id, filename, size) {\n",
              "      if (!google.colab.kernel.accessAllowed) {\n",
              "        return;\n",
              "      }\n",
              "      const div = document.createElement('div');\n",
              "      const label = document.createElement('label');\n",
              "      label.textContent = `Downloading \"${filename}\": `;\n",
              "      div.appendChild(label);\n",
              "      const progress = document.createElement('progress');\n",
              "      progress.max = size;\n",
              "      div.appendChild(progress);\n",
              "      document.body.appendChild(div);\n",
              "\n",
              "      const buffers = [];\n",
              "      let downloaded = 0;\n",
              "\n",
              "      const channel = await google.colab.kernel.comms.open(id);\n",
              "      // Send a message to notify the kernel that we're ready.\n",
              "      channel.send({})\n",
              "\n",
              "      for await (const message of channel.messages) {\n",
              "        // Send a message to notify the kernel that we're ready.\n",
              "        channel.send({})\n",
              "        if (message.buffers) {\n",
              "          for (const buffer of message.buffers) {\n",
              "            buffers.push(buffer);\n",
              "            downloaded += buffer.byteLength;\n",
              "            progress.value = downloaded;\n",
              "          }\n",
              "        }\n",
              "      }\n",
              "      const blob = new Blob(buffers, {type: 'application/binary'});\n",
              "      const a = document.createElement('a');\n",
              "      a.href = window.URL.createObjectURL(blob);\n",
              "      a.download = filename;\n",
              "      div.appendChild(a);\n",
              "      a.click();\n",
              "      div.remove();\n",
              "    }\n",
              "  "
            ],
            "text/plain": [
              "<IPython.core.display.Javascript object>"
            ]
          },
          "metadata": {
            "tags": []
          }
        },
        {
          "output_type": "display_data",
          "data": {
            "application/javascript": [
              "download(\"download_d079fbc1-b3ea-4628-b9e6-dbadf923d945\", \"labels_list.pkl\", 425065)"
            ],
            "text/plain": [
              "<IPython.core.display.Javascript object>"
            ]
          },
          "metadata": {
            "tags": []
          }
        },
        {
          "output_type": "display_data",
          "data": {
            "application/javascript": [
              "\n",
              "    async function download(id, filename, size) {\n",
              "      if (!google.colab.kernel.accessAllowed) {\n",
              "        return;\n",
              "      }\n",
              "      const div = document.createElement('div');\n",
              "      const label = document.createElement('label');\n",
              "      label.textContent = `Downloading \"${filename}\": `;\n",
              "      div.appendChild(label);\n",
              "      const progress = document.createElement('progress');\n",
              "      progress.max = size;\n",
              "      div.appendChild(progress);\n",
              "      document.body.appendChild(div);\n",
              "\n",
              "      const buffers = [];\n",
              "      let downloaded = 0;\n",
              "\n",
              "      const channel = await google.colab.kernel.comms.open(id);\n",
              "      // Send a message to notify the kernel that we're ready.\n",
              "      channel.send({})\n",
              "\n",
              "      for await (const message of channel.messages) {\n",
              "        // Send a message to notify the kernel that we're ready.\n",
              "        channel.send({})\n",
              "        if (message.buffers) {\n",
              "          for (const buffer of message.buffers) {\n",
              "            buffers.push(buffer);\n",
              "            downloaded += buffer.byteLength;\n",
              "            progress.value = downloaded;\n",
              "          }\n",
              "        }\n",
              "      }\n",
              "      const blob = new Blob(buffers, {type: 'application/binary'});\n",
              "      const a = document.createElement('a');\n",
              "      a.href = window.URL.createObjectURL(blob);\n",
              "      a.download = filename;\n",
              "      div.appendChild(a);\n",
              "      a.click();\n",
              "      div.remove();\n",
              "    }\n",
              "  "
            ],
            "text/plain": [
              "<IPython.core.display.Javascript object>"
            ]
          },
          "metadata": {
            "tags": []
          }
        },
        {
          "output_type": "display_data",
          "data": {
            "application/javascript": [
              "download(\"download_1e2cb1e7-ffd9-4400-a706-51696f73baf2\", \"all_rscores.pkl\", 31095)"
            ],
            "text/plain": [
              "<IPython.core.display.Javascript object>"
            ]
          },
          "metadata": {
            "tags": []
          }
        },
        {
          "output_type": "display_data",
          "data": {
            "application/javascript": [
              "\n",
              "    async function download(id, filename, size) {\n",
              "      if (!google.colab.kernel.accessAllowed) {\n",
              "        return;\n",
              "      }\n",
              "      const div = document.createElement('div');\n",
              "      const label = document.createElement('label');\n",
              "      label.textContent = `Downloading \"${filename}\": `;\n",
              "      div.appendChild(label);\n",
              "      const progress = document.createElement('progress');\n",
              "      progress.max = size;\n",
              "      div.appendChild(progress);\n",
              "      document.body.appendChild(div);\n",
              "\n",
              "      const buffers = [];\n",
              "      let downloaded = 0;\n",
              "\n",
              "      const channel = await google.colab.kernel.comms.open(id);\n",
              "      // Send a message to notify the kernel that we're ready.\n",
              "      channel.send({})\n",
              "\n",
              "      for await (const message of channel.messages) {\n",
              "        // Send a message to notify the kernel that we're ready.\n",
              "        channel.send({})\n",
              "        if (message.buffers) {\n",
              "          for (const buffer of message.buffers) {\n",
              "            buffers.push(buffer);\n",
              "            downloaded += buffer.byteLength;\n",
              "            progress.value = downloaded;\n",
              "          }\n",
              "        }\n",
              "      }\n",
              "      const blob = new Blob(buffers, {type: 'application/binary'});\n",
              "      const a = document.createElement('a');\n",
              "      a.href = window.URL.createObjectURL(blob);\n",
              "      a.download = filename;\n",
              "      div.appendChild(a);\n",
              "      a.click();\n",
              "      div.remove();\n",
              "    }\n",
              "  "
            ],
            "text/plain": [
              "<IPython.core.display.Javascript object>"
            ]
          },
          "metadata": {
            "tags": []
          }
        },
        {
          "output_type": "display_data",
          "data": {
            "application/javascript": [
              "download(\"download_bb9e08e6-6e02-475a-9fff-beee6ebed609\", \"keywords_reuters.pkl\", 21)"
            ],
            "text/plain": [
              "<IPython.core.display.Javascript object>"
            ]
          },
          "metadata": {
            "tags": []
          }
        },
        {
          "output_type": "display_data",
          "data": {
            "application/javascript": [
              "\n",
              "    async function download(id, filename, size) {\n",
              "      if (!google.colab.kernel.accessAllowed) {\n",
              "        return;\n",
              "      }\n",
              "      const div = document.createElement('div');\n",
              "      const label = document.createElement('label');\n",
              "      label.textContent = `Downloading \"${filename}\": `;\n",
              "      div.appendChild(label);\n",
              "      const progress = document.createElement('progress');\n",
              "      progress.max = size;\n",
              "      div.appendChild(progress);\n",
              "      document.body.appendChild(div);\n",
              "\n",
              "      const buffers = [];\n",
              "      let downloaded = 0;\n",
              "\n",
              "      const channel = await google.colab.kernel.comms.open(id);\n",
              "      // Send a message to notify the kernel that we're ready.\n",
              "      channel.send({})\n",
              "\n",
              "      for await (const message of channel.messages) {\n",
              "        // Send a message to notify the kernel that we're ready.\n",
              "        channel.send({})\n",
              "        if (message.buffers) {\n",
              "          for (const buffer of message.buffers) {\n",
              "            buffers.push(buffer);\n",
              "            downloaded += buffer.byteLength;\n",
              "            progress.value = downloaded;\n",
              "          }\n",
              "        }\n",
              "      }\n",
              "      const blob = new Blob(buffers, {type: 'application/binary'});\n",
              "      const a = document.createElement('a');\n",
              "      a.href = window.URL.createObjectURL(blob);\n",
              "      a.download = filename;\n",
              "      div.appendChild(a);\n",
              "      a.click();\n",
              "      div.remove();\n",
              "    }\n",
              "  "
            ],
            "text/plain": [
              "<IPython.core.display.Javascript object>"
            ]
          },
          "metadata": {
            "tags": []
          }
        },
        {
          "output_type": "display_data",
          "data": {
            "application/javascript": [
              "download(\"download_788ba677-8ee6-473a-9fc4-420db2da84f1\", \"top100_DocModel_reuters.pkl\", 13368)"
            ],
            "text/plain": [
              "<IPython.core.display.Javascript object>"
            ]
          },
          "metadata": {
            "tags": []
          }
        }
      ]
    },
    {
      "cell_type": "code",
      "metadata": {
        "id": "pKaudPXXcbk7"
      },
      "source": [],
      "execution_count": null,
      "outputs": []
    },
    {
      "cell_type": "code",
      "metadata": {
        "id": "xmeP5Rjmoxyg"
      },
      "source": [
        "rm -r *.pkl*"
      ],
      "execution_count": null,
      "outputs": []
    }
  ]
}