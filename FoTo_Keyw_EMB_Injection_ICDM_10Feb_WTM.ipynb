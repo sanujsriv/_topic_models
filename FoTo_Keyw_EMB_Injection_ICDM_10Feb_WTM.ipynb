{
  "cells": [
    {
      "cell_type": "markdown",
      "metadata": {
        "id": "view-in-github",
        "colab_type": "text"
      },
      "source": [
        "<a href=\"https://colab.research.google.com/github/sanujsriv/_topic_models/blob/FoTo/FoTo_Keyw_EMB_Injection_ICDM_10Feb_WTM.ipynb\" target=\"_parent\"><img src=\"https://colab.research.google.com/assets/colab-badge.svg\" alt=\"Open In Colab\"/></a>"
      ]
    },
    {
      "cell_type": "code",
      "execution_count": null,
      "metadata": {
        "id": "ikwLjYjIs4iR"
      },
      "outputs": [],
      "source": [
        "import os\n",
        "# from google import colab # works only in colab (prevents from accidentally deleting files from NMSU server)\n",
        "def clear_colab():\n",
        "  home_dir = '/content/'\n",
        "  os.chdir(home_dir)\n",
        "  !rm -r *"
      ]
    },
    {
      "cell_type": "code",
      "execution_count": null,
      "metadata": {
        "id": "GWcqnMCHQ04d",
        "colab": {
          "base_uri": "https://localhost:8080/",
          "height": 36
        },
        "outputId": "cedf862c-2882-4de2-af0d-050474ce9001"
      },
      "outputs": [
        {
          "output_type": "execute_result",
          "data": {
            "application/vnd.google.colaboratory.intrinsic+json": {
              "type": "string"
            },
            "text/plain": [
              "'/content'"
            ]
          },
          "metadata": {},
          "execution_count": 38
        }
      ],
      "source": [
        "home_dir = os.getcwd()\n",
        "min_df = 0\n",
        "perc_vocab = 0.7\n",
        "d_data='bbc'  # reuters, twentynews, webkb, wos, crowdgender,bbc,searchsnippet,yahooanswers,agnews120k\n",
        "dtype = 'short'\n",
        "all_vocab = True # False\n",
        "injection = False\n",
        "home_dir"
      ]
    },
    {
      "cell_type": "code",
      "execution_count": null,
      "metadata": {
        "colab": {
          "base_uri": "https://localhost:8080/"
        },
        "id": "vUErfm4baqgK",
        "outputId": "607159ca-8a5b-4c67-f11d-d9811b078002"
      },
      "outputs": [
        {
          "output_type": "stream",
          "name": "stdout",
          "text": [
            "Mon Feb 14 17:40:03 2022       \n",
            "+-----------------------------------------------------------------------------+\n",
            "| NVIDIA-SMI 460.32.03    Driver Version: 460.32.03    CUDA Version: 11.2     |\n",
            "|-------------------------------+----------------------+----------------------+\n",
            "| GPU  Name        Persistence-M| Bus-Id        Disp.A | Volatile Uncorr. ECC |\n",
            "| Fan  Temp  Perf  Pwr:Usage/Cap|         Memory-Usage | GPU-Util  Compute M. |\n",
            "|                               |                      |               MIG M. |\n",
            "|===============================+======================+======================|\n",
            "|   0  Tesla P100-PCIE...  Off  | 00000000:00:04.0 Off |                    0 |\n",
            "| N/A   40C    P0    28W / 250W |      2MiB / 16280MiB |      0%      Default |\n",
            "|                               |                      |                  N/A |\n",
            "+-------------------------------+----------------------+----------------------+\n",
            "                                                                               \n",
            "+-----------------------------------------------------------------------------+\n",
            "| Processes:                                                                  |\n",
            "|  GPU   GI   CI        PID   Type   Process name                  GPU Memory |\n",
            "|        ID   ID                                                   Usage      |\n",
            "|=============================================================================|\n",
            "|  No running processes found                                                 |\n",
            "+-----------------------------------------------------------------------------+\n"
          ]
        }
      ],
      "source": [
        "!nvidia-smi"
      ]
    },
    {
      "cell_type": "code",
      "execution_count": null,
      "metadata": {
        "colab": {
          "base_uri": "https://localhost:8080/"
        },
        "id": "RKuthgRK7DmE",
        "outputId": "71fb927e-49d4-4474-eded-2dd68f7c9ac2"
      },
      "outputs": [
        {
          "output_type": "stream",
          "name": "stdout",
          "text": [
            "/content\n"
          ]
        }
      ],
      "source": [
        "%cd /content/\n",
        "if d_data == \"twentynews\":\n",
        "  !wget -N -c https://www.dropbox.com/s/7yj1yvzpw589018/twentynews_4000.zip\n",
        "  !unzip twentynews_4000.zip"
      ]
    },
    {
      "cell_type": "markdown",
      "metadata": {
        "id": "oC_2iVJ0RxWY"
      },
      "source": [
        "#⬅️ **0. Just Run these..**"
      ]
    },
    {
      "cell_type": "code",
      "execution_count": null,
      "metadata": {
        "id": "gn9JFNO4qjuf",
        "colab": {
          "base_uri": "https://localhost:8080/"
        },
        "outputId": "deb540da-9a32-4840-c48e-6dd1781d2db4",
        "cellView": "form"
      },
      "outputs": [
        {
          "output_type": "stream",
          "name": "stdout",
          "text": [
            "Requirement already satisfied: pickle5 in /usr/local/lib/python3.7/dist-packages (0.0.12)\n"
          ]
        }
      ],
      "source": [
        "#@title Imports\n",
        "# from sympy.stats import RaisedCosine, density\n",
        "# from nltk.corpus import stopwords\n",
        "import pandas as pd\n",
        "import re\n",
        "from time import time\n",
        "import numpy as np\n",
        "import collections\n",
        "import gc\n",
        "from sklearn.feature_extraction.text import CountVectorizer,TfidfVectorizer\n",
        "from sklearn.preprocessing import MinMaxScaler\n",
        "import shutil\n",
        "from collections import Counter\n",
        "# cos_sim = nn.CosineSimilarity(dim=-1,eps=1e-08)\n",
        "\n",
        "### pickle\n",
        "import pickle\n",
        "!pip install pickle5\n",
        "import pickle5\n",
        "import bz2\n",
        "import _pickle as cPickle\n",
        "\n",
        "\n",
        "### plots\n",
        "import plotly.express as px\n",
        "import plotly.graph_objects as go\n",
        "import seaborn as sb\n",
        "from matplotlib import pyplot as plt\n",
        "\n",
        "\n",
        "#### torch imports\n",
        "import torch\n",
        "import torch.nn as nn\n",
        "import torch.nn.functional as F\n",
        "import torch.optim as optim\n",
        "from torch.nn import Parameter\n",
        "import subprocess\n"
      ]
    },
    {
      "cell_type": "code",
      "execution_count": null,
      "metadata": {
        "cellView": "form",
        "id": "EivGqJ7vBoAo"
      },
      "outputs": [],
      "source": [
        "#@title function : load / save pickle_obj\n",
        "\n",
        "def save_obj(obj, name):\n",
        "    with open(name + '.pkl', 'wb') as f:\n",
        "        pickle.dump(obj, f, pickle.HIGHEST_PROTOCOL)\n",
        "\n",
        "def load_obj(name):\n",
        "    with open(name + '.pkl', 'rb') as f:\n",
        "        return pickle.load(f)\n",
        "\n",
        "def load_obj_pkl5(name):\n",
        "    with open(name + '.pkl', 'rb') as f:\n",
        "        return pickle5.load(f)\n",
        "\n",
        "def compressed_pickle(data,title):\n",
        "  with bz2.BZ2File(title + '.pbz2', 'w') as f:\n",
        "    cPickle.dump(data, f)\n",
        "\n",
        "def decompress_pickle(file):\n",
        " data = bz2.BZ2File(file+'.pbz2', 'rb')\n",
        " data = cPickle.load(data)\n",
        " return data"
      ]
    },
    {
      "cell_type": "markdown",
      "metadata": {
        "id": "TeQ-X4wx45iA"
      },
      "source": [
        "## **Download Data (Short & Full Documents)**"
      ]
    },
    {
      "cell_type": "code",
      "execution_count": null,
      "metadata": {
        "id": "m8duBpAxl-qY"
      },
      "outputs": [],
      "source": [
        "def short_text_datasets():\n",
        "  if not os.path.exists(\"VLDB_WTM_Datasets.zip\"):\n",
        "    !wget -N -c https://www.dropbox.com/s/0vzwa9eagkmgi0q/VLDB_WTM_Datasets.zip\n",
        "    !unzip -o VLDB_WTM_Datasets.zip\n",
        "    if all_vocab == True:\n",
        "      if d_data == \"bbc\":\n",
        "        dir ='/content/content/data_'+d_data\n",
        "        shutil.rmtree(dir)\n",
        "        !wget -N -c https://www.dropbox.com/s/2ow6rn3xgtpg6uq/bbc_all_vocab_.zip\n",
        "        !unzip bbc_all_vocab_.zip\n",
        ""
      ]
    },
    {
      "cell_type": "code",
      "execution_count": null,
      "metadata": {
        "id": "soLvVis5433m"
      },
      "outputs": [],
      "source": [
        "# def download_twenty_news():\n",
        "#   !wget -N https://www.dropbox.com/s/09y9y1h0xk3cxaj/embeddings_twentynews.pkl\n",
        "#   !wget -N https://www.dropbox.com/s/ewv3vcwgll0r8a7/data_twentynews_labels.pkl\n",
        "#   !wget -N https://www.dropbox.com/s/chpjn9lzr7rmn2k/fixed_data_twentynews_preprocessed.pkl"
      ]
    },
    {
      "cell_type": "code",
      "execution_count": null,
      "metadata": {
        "cellView": "both",
        "id": "xtI_f7qHCr9e"
      },
      "outputs": [],
      "source": [
        "def download_reuters():\n",
        "  !wget -N https://www.dropbox.com/s/8khmuj31il8zgkp/data_reuters_labels.pkl\n",
        "  !wget -N https://www.dropbox.com/s/bgc1ht0jsyjed6s/embeddings_reuters.pkl\n",
        "  !wget -N https://www.dropbox.com/s/9fk30bjzeefvhgl/data_reuters_preprocessed.pkl"
      ]
    },
    {
      "cell_type": "code",
      "execution_count": null,
      "metadata": {
        "id": "iN4Hx3KwtKG3"
      },
      "outputs": [],
      "source": [
        "def download_webkb():\n",
        "  !wget -N https://www.dropbox.com/s/wz88fk42r0viqvo/data_webkb_preprocessed.pkl\n",
        "  !wget -N https://www.dropbox.com/s/8oi5qactwrar1ad/data_webkb_labels.pkl\n",
        "  !wget -N https://www.dropbox.com/s/go7r4h39q6l01d5/embeddings_webkb.pkl"
      ]
    },
    {
      "cell_type": "code",
      "execution_count": null,
      "metadata": {
        "id": "Yo_CWo9pslxT"
      },
      "outputs": [],
      "source": [
        "def download_WoS():\n",
        "  # !wget -N -c https://www.dropbox.com/s/3bse48k5kjpt5zd/wos_full_short_all_vocab.zip\n",
        "  # !unzip -o wos_full_short_all_vocab.zip\n",
        "  !wget -N -c https://www.dropbox.com/s/td8vf1lqmau41vn/wos_full_iter200_sent.zip\n",
        "  !unzip -o wos_full_iter200_sent.zip\n",
        "\n",
        "  # !wget -N https://www.dropbox.com/s/c6wlr148lhwsbaz/embeddings_wos.pkl\n",
        "  # !wget -N https://www.dropbox.com/s/j96061ln6oeejkf/data_wos_preprocessed.pkl\n",
        "  # !wget -N https://www.dropbox.com/s/kiffa4nidkjt7wi/data_wos_labels.pkl"
      ]
    },
    {
      "cell_type": "code",
      "execution_count": null,
      "metadata": {
        "id": "pciXVjzayvYx"
      },
      "outputs": [],
      "source": [
        "def download_unzip_crowdgender():\n",
        "  !wget -N https://www.dropbox.com/s/trz5uph29b0t0eg/data_crowder.zip\n",
        "  os.system('unzip data_crowder.zip')"
      ]
    },
    {
      "cell_type": "code",
      "execution_count": null,
      "metadata": {
        "id": "d2jRZizJ5Te5"
      },
      "outputs": [],
      "source": [
        "def download_data(data,dtype):\n",
        "  data = data.lower()\n",
        "  dtype = dtype.lower()\n",
        "  if data == 'reuters':\n",
        "    download_reuters()\n",
        "  elif data == 'crowdgender':\n",
        "   download_unzip_crowdgender()\n",
        "  elif data == 'webkb':\n",
        "    download_webkb()\n",
        "  elif data == 'wos':\n",
        "    download_WoS()\n",
        "  # elif dtype == 'short':\n",
        "  #   short_text_datasets()\n",
        "\n",
        "  elif data == 'searchsnippet' and dtype =='short' and all_vocab:\n",
        "    !wget -N -c https://www.dropbox.com/s/vu3ftyv72fodfiv/searchsnippet_all_vocab_.zip\n",
        "    !unzip -o searchsnippet_all_vocab_.zip\n",
        "  elif data == 'agnews120k' and dtype =='short' and all_vocab:\n",
        "    !wget -N -c https://www.dropbox.com/s/wvx9ed1rop9vjkg/agnews120k_all_vocab_.zip\n",
        "    !unzip -o agnews120k_all_vocab_.zip\n",
        "  elif data=='bbc' and dtype =='short' and all_vocab:\n",
        "    !wget -N -c https://www.dropbox.com/s/4mxikpqoj26rmsg/bbc_short_all_vocab_.zip\n",
        "    !unzip -o bbc_short_all_vocab_.zip\n",
        "  elif data=='bbc' and dtype =='full' and all_vocab:\n",
        "    # dir ='/content/content/data_'+d_data\n",
        "    # shutil.rmtree(dir)\n",
        "    # !wget -N -c https://www.dropbox.com/s/e2ftkdd742chouz/bbc_full_short_all_vocab_.zip\n",
        "    # !unzip -o bbc_full_short_all_vocab_.zip\n",
        "    !wget -N -c https://www.dropbox.com/s/t217pxhn280njre/bbc_full_all_vocab_200iter_sent.zip\n",
        "    !unzip -o bbc_full_all_vocab_200iter_sent.zip"
      ]
    },
    {
      "cell_type": "markdown",
      "metadata": {
        "id": "f8wJtTb42ioB"
      },
      "source": [
        "##**Data Loading functions**"
      ]
    },
    {
      "cell_type": "code",
      "execution_count": null,
      "metadata": {
        "id": "wUua0C3EUnLc"
      },
      "outputs": [],
      "source": [
        "def load_data(d_data,dtype,generated):\n",
        "  dir= home_dir+'/content/data_'+d_data+'/'+dtype\n",
        "  # dir ='/content/content/data_'+d_data+'/'+dtype\n",
        "  os.chdir(dir)\n",
        "  data_preprocessed=load_obj_pkl5(\"data_preprocessed_\"+d_data+\"_\"+dtype)\n",
        "  data_preprocessed_labels=load_obj_pkl5(\"data_preprocessed_labels_\"+d_data+\"_\"+dtype)\n",
        "  if generated == False:\n",
        "    embeddings=load_obj_pkl5(\"embeddings_\"+d_data+\"_\"+dtype)\n",
        "  # generated_embeddings=load_obj_pkl5(\"generated_embeddings_\"+d_data+\"_\"+dtype)\n",
        "  elif generated==True:\n",
        "    embeddings = load_obj_pkl5(\"generated_embeddings_\"+d_data+\"_\"+dtype)\n",
        "  os.chdir(home_dir)\n",
        "  return data_preprocessed,data_preprocessed_labels,embeddings,load_data.__name__\n",
        "\n",
        "def load_20News_sentences():\n",
        "  embeddings = load_obj('embeddings_twentynews_sent')\n",
        "  data_preprocessed = load_obj('data_twentynews_preprocessed_sent')\n",
        "  data_preprocessed_labels = load_obj(\"data_twentynews_labels_sent\")\n",
        "  doc_sent_id = load_obj('doc_id_sent_twentynews')\n",
        "  return data_preprocessed,data_preprocessed_labels,embeddings,doc_sent_id,load_20News_sentences.__name__\n",
        "\n",
        "def load_20News_reuters():\n",
        "  data_preprocessed = load_obj('data_reuters_preprocessed')\n",
        "  data_preprocessed_labels = load_obj(\"data_reuters_labels\")\n",
        "  embeddings = load_obj('embeddings_reuters')\n",
        "  data_preprocessed.extend(load_obj('data_20News_preprocessed'))\n",
        "  data_preprocessed_labels.extend(load_obj(\"data_20news_preprocessed_labels\"))\n",
        "  embeddings.update(load_obj('embeddings_20news'))\n",
        "  return data_preprocessed,data_preprocessed_labels,embeddings,load_20News_reuters.__name__"
      ]
    },
    {
      "cell_type": "markdown",
      "metadata": {
        "id": "DQmnmNU2pN8K"
      },
      "source": [
        "## get_keywords"
      ]
    },
    {
      "cell_type": "code",
      "execution_count": null,
      "metadata": {
        "id": "8R4SK4-e6Aec"
      },
      "outputs": [],
      "source": [
        "def get_keywords(data):\n",
        "  keywords_arxiv = ['molecular ','stimulation','liquid','fluid']\n",
        "  keywords_webkb = ['student','department','india']\n",
        "  keywords_r52 = ['mutual','fund','market','money']\n",
        "\n",
        "  keywords_WoS = ['pediatric','protein','clone']\n",
        "  keywords_20News_Reuters = ['oil','price','opec','bpd','barrel','saudi','production','mln','crude']\n",
        "\n",
        "  # keywords_reuters = ['company', 'analyst', 'offer', 'pct', 'takeover', 'merger', 'record', 'dividend', 'pay', 'stock']\n",
        "  # keywords_reuters = ['stock', 'dividend', 'inc']\n",
        "  keywords_reuters = ['oil','crude','ship']\n",
        "  # keywords =['stock']\n",
        "  # keywords_reuters = ['usa']\n",
        "\n",
        "  keywords_crowdgender = ['housewife','girl','beautiful','blonde']\n",
        "\n",
        "  keywords_20News = ['sport','game','baseball']\n",
        "  # keywords_20News = ['looking' ,'add', 'voice' ,'input', 'capability', 'user', 'interface']\n",
        "\n",
        "  # keywords_bbc=['fuel','reserve','oil']\n",
        "  # keywords_bbc=['fuel','oil','game','win']\n",
        "  # keywords_bbc=['fuel','oil','crude']\n",
        "  # keywords_bbc=['fuel','usa'] #,'politics'\n",
        "  # keywords_bbc = ['stock','apple','increase']\n",
        "  keywords_bbc = ['microsoft','computer']\n",
        "  # keywords_bbc = ['apple','microsoft', 'stock']\n",
        "  # keywords_bbc = ['apple','stock']\n",
        "  # keywords_bbc = ['fuel']\n",
        "  # keywords_bbc = ['microsoft','fuel']\n",
        "  # keywords_bbc = ['apple','microsoft','stock']\n",
        "\n",
        "  # keywords_bbc = ['politics']#,'security','minister']\n",
        "  # keywords_bbc = ['sport','league','rugby']\n",
        "\n",
        "  ## all infreq\n",
        "  # keywords_bbc = ['mcdonald', 'food','delivery']\n",
        "  # keywords_bbc = ['business','entertainment','politics']\n",
        "  # keywords_bbc = ['clumsy','food']\n",
        "  keywords_bbc = ['star','singer']\n",
        "\n",
        "  # keywords_searchsnippet = ['politics','drama','minister']\n",
        "  keywords_searchsnippet = ['korean','drama']\n",
        "  keywords_yahooanswers = ['anger','hate','crime']\n",
        "  # keywords_agnews = ['computer','apple','microsoft']\n",
        "  keywords_agnews = ['auto','gasoline']\n",
        "\n",
        "  data = data.lower()\n",
        "  if data=='reuters': keywords = keywords_reuters\n",
        "  elif data=='twentynews':keywords = keywords_20News\n",
        "  elif data=='crowdgender':keywords = keywords_crowdgender\n",
        "  elif data=='webkb':keywords = keywords_webkb\n",
        "  elif data=='bbc': keywords = keywords_bbc\n",
        "  elif data=='searchsnippet': keywords = keywords_searchsnippet\n",
        "  elif data=='yahooanswers': keywords = keywords_yahooanswers\n",
        "  elif data=='agnews120k': keywords = keywords_agnews\n",
        "  elif data=='wos': keywords = keywords_WoS\n",
        "  else:\n",
        "    print('keyword list not found!!!')\n",
        "  return keywords"
      ]
    },
    {
      "cell_type": "markdown",
      "metadata": {
        "id": "CCBiqaMRpRBi"
      },
      "source": [
        "##DESM Score Function"
      ]
    },
    {
      "cell_type": "code",
      "execution_count": null,
      "metadata": {
        "id": "ajHkB_vb7xza"
      },
      "outputs": [],
      "source": [
        "def cosine_similarity_desm_docs(query_list, train_vec, vocab, embeddings):\n",
        "  num_docs = train_vec.shape[0]\n",
        "  num_voc = len(vocab)\n",
        "  sim_list = torch.zeros(num_docs)\n",
        "  index = 0\n",
        "  id_vocab = dict(map(reversed, vocab.items()))\n",
        "  for d in range(num_docs):\n",
        "    if(d%5000==0): print(d)\n",
        "    doc_bar = torch.zeros(300)\n",
        "    doc_length = 0\n",
        "    for v in range(num_voc):\n",
        "      if(train_vec[d][v] > 0):\n",
        "        doc_bar.add_(train_vec[d][v] * torch.from_numpy(embeddings[id_vocab[v]])/torch.norm(torch.from_numpy(embeddings[id_vocab[v]])))\n",
        "        doc_length = doc_length + train_vec[d][v]\n",
        "    doc_bar = doc_bar / doc_length\n",
        "    sum = 0\n",
        "\n",
        "    for q in query_list:\n",
        "      sum += torch.dot(torch.from_numpy(embeddings[q]) , doc_bar)/(torch.norm(torch.from_numpy(embeddings[q]))*torch.norm(doc_bar))\n",
        "    sum = sum/len(query_list)\n",
        "    sim_list[index]=sum\n",
        "    index = index + 1\n",
        "\n",
        "  return sim_list"
      ]
    },
    {
      "cell_type": "code",
      "execution_count": null,
      "metadata": {
        "id": "7ln_kgdTcVSc"
      },
      "outputs": [],
      "source": [
        "def cosine_similarity_desm_docs_forlarge(query_list, train_vec, vocab, embeddings):\n",
        "  num_docs = train_vec.shape[0]\n",
        "  num_voc = len(vocab)\n",
        "  sim_list = torch.zeros(num_docs)\n",
        "  index = 0\n",
        "  id_vocab = dict(map(reversed, vocab.items()))\n",
        "  for d in range(num_docs):\n",
        "    if(d%5000==0): print(d)\n",
        "    doc_bar = torch.zeros(300)\n",
        "    doc_length = 0\n",
        "    for v in range(num_voc):\n",
        "      train_vec_val = train_vec[d].toarray()[0][v]\n",
        "      if(train_vec_val > 0):\n",
        "        doc_bar.add_(train_vec_val * torch.from_numpy(embeddings[id_vocab[v]])/torch.norm(torch.from_numpy(embeddings[id_vocab[v]])))\n",
        "        doc_length = doc_length + train_vec_val\n",
        "    doc_bar = doc_bar / doc_length\n",
        "    sum = 0\n",
        "\n",
        "    for q in query_list:\n",
        "      sum += torch.dot(torch.from_numpy(embeddings[q]) , doc_bar)/(torch.norm(torch.from_numpy(embeddings[q]))*torch.norm(doc_bar))\n",
        "    sum = sum/len(query_list)\n",
        "    sim_list[index]=sum\n",
        "    index = index + 1\n",
        "\n",
        "  return sim_list"
      ]
    },
    {
      "cell_type": "markdown",
      "metadata": {
        "id": "K0zQCuyY_kaq"
      },
      "source": [
        "\n",
        "## functions (Plot_loss, get_topwords, get_Z, get_Contour, print_Topics)"
      ]
    },
    {
      "cell_type": "code",
      "source": [
        "import plotly.graph_objects as go\n",
        "def plot_relative_diff(x,y,y2,name2,title,yaxis_title,xaxis_title):\n",
        "  fig = go.Figure()\n",
        "  fig.add_trace(go.Scatter(x=x, y=y,\n",
        "                      mode='lines+markers',\n",
        "                      name=\"FoTo\"))\n",
        "  fig.add_trace(go.Scatter(x=x, y=y2,\n",
        "                      mode='lines+markers',\n",
        "                      name=name2))\n",
        "\n",
        "  fig.update_layout(title=title,\n",
        "                    yaxis_title=yaxis_title,\n",
        "                    xaxis_title=xaxis_title)\n",
        "\n",
        "  fig.show(renderer='colab')"
      ],
      "metadata": {
        "id": "Tif95Nm0imtM"
      },
      "execution_count": null,
      "outputs": []
    },
    {
      "cell_type": "code",
      "execution_count": null,
      "metadata": {
        "id": "ju7hYPrZrxfJ"
      },
      "outputs": [],
      "source": [
        "def getall_tensor_size():\n",
        "  for obj in gc.get_objects():\n",
        "    try:\n",
        "        if torch.is_tensor(obj) or (hasattr(obj, 'data') and torch.is_tensor(obj.data)):\n",
        "            print(type(obj), obj.size(),get_mem_size(obj))\n",
        "    except:\n",
        "        pass\n",
        "\n",
        "def list_of_tensors_to_tensor(loT):\n",
        "  stacked_tensor = torch.stack(loT)\n",
        "  return stacked_tensor\n",
        "\n",
        "def get_labels_dict(unique_labels):\n",
        "  labels_dict = {}\n",
        "  for l in unique_labels:\n",
        "    labels_dict[l] = 'C'+str(unique_labels.index(l))\n",
        "  return labels_dict\n",
        "\n",
        "def get_topwords(beta, id_vocab,topwords):\n",
        "    topic_indx = 0\n",
        "    topwords_topic = []\n",
        "    topic_topwords = topwords\n",
        "    for i in range(len(beta)):\n",
        "        topwords_topic.append( str(topic_indx)+\": \"+ \" \".join([id_vocab[j] for j in beta[i].argsort()[:-topic_topwords - 1:-1]]))\n",
        "        topic_indx+=1\n",
        "    return topwords_topic\n",
        "\n",
        "def print_Topics(topwords):\n",
        "  print(\"---\"*10)\n",
        "  topword_topics = get_topwords(beta, id_vocab,topwords)\n",
        "  topword_topics_list=[]\n",
        "  for topwords in topword_topics:\n",
        "      topword_topics_list.append(topwords.split())\n",
        "      print(topwords)\n",
        "  print(\"---\"*10)"
      ]
    },
    {
      "cell_type": "code",
      "execution_count": null,
      "metadata": {
        "id": "h2DrizcsH104"
      },
      "outputs": [],
      "source": [
        "def plot_loss(y,name):\n",
        "  figure = go.Figure()\n",
        "  figure.add_trace(go.Scatter(x=[i for i in range(1,epochs+1)], y=y,mode='lines',name=name))\n",
        "  figure.show(renderer='colab')\n",
        "\n",
        "def plot_fig(zx, labels_list, zphi, query_center,query_words,keywords,lim,contour='No'):\n",
        "\n",
        "    fig, ax = plt.subplots( figsize=(20, 20))\n",
        "    if contour=='yes':\n",
        "       get_Contour(ax,zx,lim)\n",
        "\n",
        "    label_colors_dict = get_labels_dict(sorted_unique_labels)\n",
        "    # sb.scatterplot(ax=ax,x=zx[:,0],y=zx[:,1],hue=labels_list,alpha=0.8,palette='deep')\n",
        "    sb.scatterplot(ax=ax,x=zx[:,0],y=zx[:,1],hue=labels_list,alpha=0.8,palette=label_colors_dict)\n",
        "\n",
        "    ax.set(ylim=(-lim,lim))\n",
        "    ax.set(xlim=(-lim,lim))\n",
        "\n",
        "    # ax.text(query_center[0],query_center[1], 'X' ,c='red')\n",
        "    # ax.text(0,0, 'X' ,c='black')\n",
        "    for i in range(len(query_words)):\n",
        "      if (i==len(query_words)-1):\n",
        "        ax.text(query_words[i][0],query_words[i][1], 'X'+keywords[i] ,c='black',weight='bold')\n",
        "      else:\n",
        "        ax.text(query_words[i][0],query_words[i][1], 'X'+keywords[i] ,c='black',weight='bold')\n",
        "\n",
        "    ax.scatter(zphi[:, 0], zphi[:, 1], alpha=1.0,  edgecolors='black', facecolors='none', s=30)\n",
        "\n",
        "    for indx, topic in enumerate(zphi):\n",
        "        ax.text(zphi[indx, 0], zphi[indx, 1], 'topic'+str(indx))\n",
        "\n",
        "\n",
        "\n",
        "def get_Z(X,Y):\n",
        "  norms = torch.zeros(X.shape)\n",
        "  Z = torch.zeros(X.shape)\n",
        "\n",
        "  for i in range(X.shape[0]):\n",
        "    for j in range(X.shape[0]):\n",
        "      v = torch.tensor([X[i][j],Y[i][j]])\n",
        "\n",
        "      norms[i][j] = torch.norm(v)\n",
        "      Z[i][j]=torch.exp(-0.5 * (torch.pow(norms[i][j],2))/mu_div)\n",
        "\n",
        "      # norms[i][j] = (v-query_center.T).pow(2).sum(-1)\n",
        "      # Z[i][j]=torch.exp(-0.5 * norms[i][j]/mu_div)\n",
        "  return Z\n",
        "\n",
        "def get_Contour(ax,x_list,lim):\n",
        "  xlist = np.linspace(-lim, lim, 200)\n",
        "  ylist = np.linspace(-lim, lim, 200)\n",
        "  X, Y = np.meshgrid(xlist, ylist)\n",
        "  Z = get_Z(X,Y)\n",
        "  levels = np.arange(0,1,0.1)\n",
        "  cp = ax.contour(X, Y, Z, levels=levels)\n",
        "  ax.clabel(cp, inline=1, fontsize=10)\n",
        "\n",
        "\n",
        "def get_gpu_memory_map():\n",
        "    \"\"\"Get the current gpu usage.\n",
        "    Returns\n",
        "    -------\n",
        "    usage: dict\n",
        "        Keys are device ids as integers.\n",
        "        Values are memory usage as integers in MB.\n",
        "    \"\"\"\n",
        "    result = subprocess.check_output(\n",
        "        [\n",
        "            'nvidia-smi', '--query-gpu=memory.used',\n",
        "            '--format=csv,nounits,noheader'\n",
        "        ], encoding='utf-8')\n",
        "    # Convert lines into a dictionary\n",
        "    gpu_memory = np.array([int(x) for x in result.strip().split('\\n')])\n",
        "    # gpu_memory_map = dict(zip(range(len(gpu_memory)), gpu_memory))\n",
        "    return gpu_memory\n",
        "\n",
        "def auto_select_gpu(memory_threshold = 7000, smooth_ratio=200, strategy='greedy'):\n",
        "    gpu_memory_raw = get_gpu_memory_map() + 10\n",
        "    if strategy=='random':\n",
        "        gpu_memory = gpu_memory_raw/smooth_ratio\n",
        "        gpu_memory = gpu_memory.sum() / (gpu_memory+10)\n",
        "        gpu_memory[gpu_memory_raw>memory_threshold] = 0\n",
        "        gpu_prob = gpu_memory / gpu_memory.sum()\n",
        "        cuda = str(np.random.choice(len(gpu_prob), p=gpu_prob))\n",
        "        print('GPU select prob: {}, Select GPU {}'.format(gpu_prob, cuda))\n",
        "    elif strategy == 'greedy':\n",
        "        cuda = np.argmin(gpu_memory_raw)\n",
        "        print('GPU mem: {}, Select GPU {}'.format(gpu_memory_raw[cuda], cuda))\n",
        "    return cuda"
      ]
    },
    {
      "cell_type": "markdown",
      "metadata": {
        "id": "Ew89XnAFbbYP"
      },
      "source": [
        "## Just Run (pytorch)"
      ]
    },
    {
      "cell_type": "code",
      "execution_count": null,
      "metadata": {
        "cellView": "form",
        "id": "HZlo3d0m-Ac4"
      },
      "outputs": [],
      "source": [
        "#@title Weight Drop\n",
        "def _weight_drop(module, weights, dropout):\n",
        "    \"\"\"\n",
        "    Helper for `WeightDrop`.\n",
        "    \"\"\"\n",
        "    for name_w in weights:\n",
        "        w = getattr(module, name_w)\n",
        "        del module._parameters[name_w]\n",
        "        module.register_parameter(name_w + '_raw', Parameter(w))\n",
        "\n",
        "    original_module_forward = module.forward\n",
        "\n",
        "    def forward(*args, **kwargs):\n",
        "        for name_w in weights:\n",
        "            raw_w = getattr(module, name_w + '_raw')\n",
        "            w = torch.nn.functional.dropout(raw_w, p=dropout, training=module.training)\n",
        "\n",
        "            setattr(module, name_w, w)\n",
        "\n",
        "        # return original_module_forward(*args, **kwargs)\n",
        "\n",
        "    setattr(module, 'forward', forward)\n",
        "\n",
        "\n",
        "class WeightDrop(torch.nn.Module):\n",
        "    \"\"\"\n",
        "    The weight-dropped module applies recurrent regularization through a DropConnect mask on the\n",
        "    hidden-to-hidden recurrent weights.\n",
        "\n",
        "    **Thank you** to Sales Force for their initial implementation of :class:`WeightDrop`. Here is\n",
        "    their `License\n",
        "    <https://github.com/salesforce/awd-lstm-lm/blob/master/LICENSE>`__.\n",
        "\n",
        "    Args:\n",
        "        module (:class:`torch.nn.Module`): Containing module.\n",
        "        weights (:class:`list` of :class:`str`): Names of the module weight parameters to apply a\n",
        "          dropout too.\n",
        "        dropout (float): The probability a weight will be dropped.\n",
        "\n",
        "    Example:\n",
        "\n",
        "        >>> from torchnlp.nn import WeightDrop\n",
        "        >>> import torch\n",
        "        >>>\n",
        "        >>> torch.manual_seed(123)\n",
        "        <torch._C.Generator object ...\n",
        "        >>>\n",
        "        >>> gru = torch.nn.GRUCell(2, 2)\n",
        "        >>> weights = ['weight_hh']\n",
        "        >>> weight_drop_gru = WeightDrop(gru, weights, dropout=0.9)\n",
        "        >>>\n",
        "        >>> input_ = torch.randn(3, 2)\n",
        "        >>> hidden_state = torch.randn(3, 2)\n",
        "        >>> weight_drop_gru(input_, hidden_state)\n",
        "        tensor(... grad_fn=<AddBackward0>)\n",
        "    \"\"\"\n",
        "\n",
        "    def __init__(self, module, weights, dropout=0.0):\n",
        "        super(WeightDrop, self).__init__()\n",
        "        _weight_drop(module, weights, dropout)\n",
        "        self.forward = module.forward\n",
        "\n",
        "class WeightDropLinear(torch.nn.Linear):\n",
        "    \"\"\"\n",
        "    Wrapper around :class:`torch.nn.Linear` that adds ``weight_dropout`` named argument.\n",
        "\n",
        "    Args:\n",
        "        weight_dropout (float): The probability a weight will be dropped.\n",
        "    \"\"\"\n",
        "\n",
        "    def __init__(self, *args, weight_dropout=0.0, **kwargs):\n",
        "        super().__init__(*args, **kwargs)\n",
        "\n",
        "        weights = ['weight']\n",
        "        # print('name_w in _weight_drop: ', name_w)\n",
        "        _weight_drop(self, weights, weight_dropout)"
      ]
    },
    {
      "cell_type": "code",
      "execution_count": null,
      "metadata": {
        "cellView": "form",
        "id": "iJJw4-xTu-ZF"
      },
      "outputs": [],
      "source": [
        "# @title Targeted Dropout Class\n",
        "import torch\n",
        "import torch.nn as nn\n",
        "\n",
        "\n",
        "class TargetedDropout(nn.Module):\n",
        "    \"\"\"\n",
        "    Learning Sparse Networks Using Targeted Dropout\n",
        "    https://arxiv.org/abs/1905.13678\n",
        "    \"\"\"\n",
        "\n",
        "    def __init__(self,targeted=\"weight\",target_layer=None,\n",
        "                 dropout_rate=0.5,targeted_portion=0.5):\n",
        "        super(TargetedDropout, self).__init__()\n",
        "        self.targeted = targeted\n",
        "        self.target_layer = target_layer\n",
        "        self.dropout_rate = dropout_rate\n",
        "        self.targeted_portion = targeted_portion\n",
        "        self.weight = target_layer.weight\n",
        "\n",
        "        if self.targeted == \"weight\":\n",
        "            self.targeted_dropout = targeted_weight_dropout\n",
        "        elif self.targeted == \"unit\":\n",
        "            self.targeted_dropout = targeted_unit_dropout\n",
        "\n",
        "    def forward(self):\n",
        "        self.weight = self.targeted_dropout(\n",
        "            weight=self.target_layer.weight,\n",
        "            dropout_rate=self.dropout_rate,\n",
        "            targeted_portion=self.targeted_portion,\n",
        "            is_training=self.training,\n",
        "        )\n",
        "\n",
        "        self.target_layer.weight = self.weight\n",
        "        # output = self.target_layer(x)\n",
        "        return self.weight\n",
        "\n",
        "    def extra_repr(self):\n",
        "        return f\"targeted={self.targeted}, dropout_rate={self.dropout_rate}, targeted_portion={self.targeted_portion}\"\n",
        "\n",
        "\n",
        "def targeted_weight_dropout(weight, dropout_rate, targeted_portion, is_training):\n",
        "    weight_shape = weight.shape\n",
        "    weight = torch.reshape(weight, [-1, weight_shape[-1]]).float()\n",
        "\n",
        "    norm = torch.abs(weight)\n",
        "    idx = int(targeted_portion * torch.tensor(weight.shape[0]).float())\n",
        "    threshold = torch.sort(norm, dim=0)[0][idx]\n",
        "    mask = norm < threshold[None, :]\n",
        "\n",
        "    if not is_training:\n",
        "        mask = (torch.rand_like(weight) < dropout_rate).to(mask.device.type) & mask\n",
        "\n",
        "    weight = (1.0 - mask.float()) * weight\n",
        "    weight = torch.reshape(weight, weight_shape)\n",
        "    weight = torch.nn.Parameter(weight)\n",
        "\n",
        "    return weight\n",
        "\n",
        "def targeted_unit_dropout(weight, dropout_rate, targeted_portion, is_training):\n",
        "    weight_shape = weight.shape\n",
        "    weight = torch.reshape(weight, [-1, weight_shape[-1]]).float()\n",
        "\n",
        "    norm = torch.norm(weight, dim=0)\n",
        "    idx = int(targeted_portion * int(weight.shape[1]))\n",
        "    sorted_norms = torch.sort(norm)[0]\n",
        "    threshold = sorted_norms[idx]\n",
        "    mask = (norm < threshold)[None, :]\n",
        "    mask = mask.repeat(weight.shape[0], 1)\n",
        "\n",
        "    if not is_training:\n",
        "        mask = torch.where(\n",
        "            ((1.0 - dropout_rate) < torch.rand_like(weight)).to(mask.device.type)\n",
        "            & mask,\n",
        "            torch.ones_like(weight, dtype=torch.float32),\n",
        "            torch.zeros_like(weight, dtype=torch.float32),\n",
        "        )\n",
        "\n",
        "    weight = (1.0 - mask.float()) * weight\n",
        "    weight = torch.reshape(weight, weight_shape)\n",
        "    weight = torch.nn.Parameter(weight)\n",
        "\n",
        "    return weight"
      ]
    },
    {
      "cell_type": "markdown",
      "metadata": {
        "id": "tFms0ZiwR5TF"
      },
      "source": [
        "# **1. Prepare Data**"
      ]
    },
    {
      "cell_type": "code",
      "execution_count": null,
      "metadata": {
        "id": "vMyE4tXd5q-e",
        "colab": {
          "base_uri": "https://localhost:8080/"
        },
        "outputId": "48fe9120-6422-44af-d352-b6e3cba9ad1c"
      },
      "outputs": [
        {
          "output_type": "stream",
          "name": "stdout",
          "text": [
            "--2022-02-14 17:40:10--  https://www.dropbox.com/s/4mxikpqoj26rmsg/bbc_short_all_vocab_.zip\n",
            "Resolving www.dropbox.com (www.dropbox.com)... 162.125.80.18, 2620:100:6030:18::a27d:5012\n",
            "Connecting to www.dropbox.com (www.dropbox.com)|162.125.80.18|:443... connected.\n",
            "HTTP request sent, awaiting response... 301 Moved Permanently\n",
            "Location: /s/raw/4mxikpqoj26rmsg/bbc_short_all_vocab_.zip [following]\n",
            "--2022-02-14 17:40:10--  https://www.dropbox.com/s/raw/4mxikpqoj26rmsg/bbc_short_all_vocab_.zip\n",
            "Reusing existing connection to www.dropbox.com:443.\n",
            "HTTP request sent, awaiting response... 302 Found\n",
            "Location: https://ucec9e312f7122c499afe8fc8841.dl.dropboxusercontent.com/cd/0/inline/BftlUv5vo1bLbrXXxjXlFb_XjwsjaBca7Mu0k0KXU5Dba1PeVeWiO2gegJ-UdlMUYtwlBY85yFYIuO0bHcxdvoT7Aox_jV1dfL9EcOJCmZoX7P2Q1iKD3SbsR824m4KR1UiK-VjmaRn0sFZeXHY03iQP/file# [following]\n",
            "--2022-02-14 17:40:10--  https://ucec9e312f7122c499afe8fc8841.dl.dropboxusercontent.com/cd/0/inline/BftlUv5vo1bLbrXXxjXlFb_XjwsjaBca7Mu0k0KXU5Dba1PeVeWiO2gegJ-UdlMUYtwlBY85yFYIuO0bHcxdvoT7Aox_jV1dfL9EcOJCmZoX7P2Q1iKD3SbsR824m4KR1UiK-VjmaRn0sFZeXHY03iQP/file\n",
            "Resolving ucec9e312f7122c499afe8fc8841.dl.dropboxusercontent.com (ucec9e312f7122c499afe8fc8841.dl.dropboxusercontent.com)... 162.125.81.15, 2620:100:6031:15::a27d:510f\n",
            "Connecting to ucec9e312f7122c499afe8fc8841.dl.dropboxusercontent.com (ucec9e312f7122c499afe8fc8841.dl.dropboxusercontent.com)|162.125.81.15|:443... connected.\n",
            "HTTP request sent, awaiting response... 302 Found\n",
            "Location: /cd/0/inline2/BftuP-VhbQfZBofXhr1le7QbJdblfFFS84Ey8H9boM8Uo3FS5nvQ85KijmxUVPdV7QcRpoXA-2bdwUs01bhuIHa_GiK-kFfJpuggXtbkJQ6xFMj7yQuF2bvBNwWrDn5N-Jk_Dmu_xGqcAVs4Tnq9ezfgjXF8im-ewoqMrFX5mEjN-XojwHOh4Li9XuAnKAINc8x5yeOIfIowb9tpIu1_Ja32zzgUVtSxJFesjs2xnCaqlnbUvXuuagobVdJGAhB-t3b7xUPVuxSlp6fkQtxojSxsF0mYd_qpYxjCp0ETz95CLPg-ugEdI7S5zT8D4zFpzjDGt61W0kl23rwuCOm9Irbi45UaKebXCJa4l6eMDbLI0YbMpPoWHELzngSd15BG7Go/file [following]\n",
            "--2022-02-14 17:40:11--  https://ucec9e312f7122c499afe8fc8841.dl.dropboxusercontent.com/cd/0/inline2/BftuP-VhbQfZBofXhr1le7QbJdblfFFS84Ey8H9boM8Uo3FS5nvQ85KijmxUVPdV7QcRpoXA-2bdwUs01bhuIHa_GiK-kFfJpuggXtbkJQ6xFMj7yQuF2bvBNwWrDn5N-Jk_Dmu_xGqcAVs4Tnq9ezfgjXF8im-ewoqMrFX5mEjN-XojwHOh4Li9XuAnKAINc8x5yeOIfIowb9tpIu1_Ja32zzgUVtSxJFesjs2xnCaqlnbUvXuuagobVdJGAhB-t3b7xUPVuxSlp6fkQtxojSxsF0mYd_qpYxjCp0ETz95CLPg-ugEdI7S5zT8D4zFpzjDGt61W0kl23rwuCOm9Irbi45UaKebXCJa4l6eMDbLI0YbMpPoWHELzngSd15BG7Go/file\n",
            "Reusing existing connection to ucec9e312f7122c499afe8fc8841.dl.dropboxusercontent.com:443.\n",
            "HTTP request sent, awaiting response... 200 OK\n",
            "Length: unspecified [application/zip]\n",
            "Saving to: ‘bbc_short_all_vocab_.zip’\n",
            "\n",
            "bbc_short_all_vocab     [    <=>             ]   9.53M  11.4MB/s    in 0.8s    \n",
            "\n",
            "Last-modified header missing -- time-stamps turned off.\n",
            "2022-02-14 17:40:12 (11.4 MB/s) - ‘bbc_short_all_vocab_.zip’ saved [9993730]\n",
            "\n",
            "Archive:  bbc_short_all_vocab_.zip\n",
            "  inflating: content/data_bbc/short/vocab_bbc_short.pkl  \n",
            "  inflating: content/data_bbc/short/allsents_in_docs_bbc_short.pkl  \n",
            "  inflating: content/data_bbc/short/generated_vocab_bbc_short.pkl  \n",
            "  inflating: content/data_bbc/short/generated_embeddings_bbc_short.pkl  \n",
            "  inflating: content/data_bbc/short/allsents_labels_bbc_short.pkl  \n",
            "  inflating: content/data_bbc/short/data_preprocessed_labels_bbc_short.pkl  \n",
            "  inflating: content/data_bbc/short/bbc_short.txt  \n",
            "  inflating: content/data_bbc/short/embeddings_bbc_short.pkl  \n",
            "  inflating: content/data_bbc/short/data_preprocessed_bbc_short.pkl  \n"
          ]
        }
      ],
      "source": [
        "#### Data Downloading ####\n",
        "download_data(d_data,dtype) ### Run Once"
      ]
    },
    {
      "cell_type": "code",
      "execution_count": null,
      "metadata": {
        "colab": {
          "base_uri": "https://localhost:8080/"
        },
        "id": "1MN4t01dDLCs",
        "outputId": "01526bc8-bf4b-46d3-8e9c-a62183e42f82"
      },
      "outputs": [
        {
          "output_type": "stream",
          "name": "stdout",
          "text": [
            "load_data bbc 2224 2224 5733 4013\n"
          ]
        }
      ],
      "source": [
        "# ##### Data loading #####\n",
        "# dtype='short'\n",
        "loaded_data = load_data(d_data,dtype,generated=False)\n",
        "##########################\n",
        "\n",
        "data_preprocessed , data_preprocessed_labels , embeddings, name = loaded_data\n",
        "max_features=int(len(embeddings)*perc_vocab)\n",
        "\n",
        "# if len(embeddings)>10000:\n",
        "#   max_features = 10000\n",
        "sorted_unique_labels = sorted(set(data_preprocessed_labels))\n",
        "\n",
        "# for d in range(len(data_preprocessed)):\n",
        "#   data_preprocessed[d] = doc_remove_extra_stopwords(data_preprocessed[d])\n",
        "print(name,d_data,len(data_preprocessed_labels),len(data_preprocessed),len(embeddings),max_features)"
      ]
    },
    {
      "cell_type": "markdown",
      "source": [
        "### injection"
      ],
      "metadata": {
        "id": "kNBWvIY5itSO"
      }
    },
    {
      "cell_type": "code",
      "source": [
        "if injection:\n",
        "  d = Counter(data_preprocessed_labels)\n",
        "  rare_class = min(d, key=d.get)\n",
        "  rare_class_nlabels = d[rare_class]\n",
        "\n",
        "  np.random.seed(seed=len(data_preprocessed_labels))\n",
        "  np_data = np.asarray(data_preprocessed)\n",
        "  np_labels = np.asarray(data_preprocessed_labels)\n",
        "\n",
        "  to_change = np.where(np_labels != rare_class)[0]\n",
        "  to_change_with  =  np.where(np_labels == rare_class)[0]\n",
        "  rand_perm_k_to_change_with = np.random.permutation(to_change_with)\n",
        "  rand_perm_k_to_change = np.random.permutation(to_change)\n",
        "\n",
        "  to_change_with_docs = np_data[rand_perm_k_to_change_with]\n",
        "  to_change_docs =  np_data[rand_perm_k_to_change]\n",
        "  print('Before Injection - \\n',data_preprocessed[rand_perm_k_to_change[0]])\n",
        "  # dict_docs[to_change_label] = to_change_docs\n",
        "  p=0.35\n",
        "  n_docs_changed = 0\n",
        "  changed_docs = []\n",
        "  for i in range(rare_class_nlabels):\n",
        "    words = to_change_with_docs[i].split()\n",
        "    words_to_change = to_change_docs[i].split()\n",
        "    perc = int(len(words_to_change)*p)\n",
        "    if perc == 0:\n",
        "      continue\n",
        "    # perc_to_change = min(perc1,perc2)\n",
        "    # random.shuffle(words)\n",
        "    # random.shuffle(words_to_change)\n",
        "    n_docs_changed = n_docs_changed+1\n",
        "    to_change_docs[i] = \" \".join(words[:perc] + words_to_change)\n",
        "    changed_docs.append(to_change_docs[i])\n",
        "    data_preprocessed[rand_perm_k_to_change[i]] = to_change_docs[i]\n",
        "  print('After Injection - \\n',data_preprocessed[rand_perm_k_to_change[0]])\n",
        "\n",
        "  np_data_new = np.asarray(data_preprocessed)\n",
        "  np_data_new[to_change_with] = ''\n",
        "  new_data = []\n",
        "  new_labels = []\n",
        "  for d in range(len(np_data_new)):\n",
        "    if len(np_data_new[d])!=0:\n",
        "      new_data.append(data_preprocessed[d])\n",
        "      new_labels.append(data_preprocessed_labels[d])"
      ],
      "metadata": {
        "id": "cE4wpDnSEqvh"
      },
      "execution_count": null,
      "outputs": []
    },
    {
      "cell_type": "code",
      "source": [
        "#@title to inject individually\n",
        "# if injection:\n",
        "# # from random import shuffle\n",
        "# # import random\n",
        "\n",
        "# to_change_labels = ['politics','sport']\n",
        "# for to_change_label in to_change_labels:\n",
        "#   np.random.seed(seed=len(data_preprocessed_labels))\n",
        "#   np_labels = np.asarray(data_preprocessed_labels)\n",
        "#   # to_change = np.where(np_labels == 'sport')[0]\n",
        "#   to_change = np.where(np_labels == to_change_label)[0]\n",
        "#   to_change_with  =  np.where(np_labels == 'tech')[0]\n",
        "#   rand_perm_k_to_change_with = np.random.permutation(to_change_with) # int(len(to_change_with)*k/100)\n",
        "#   rand_perm_k_to_change = np.random.permutation(to_change) # int(len(to_change)*k/100)\n",
        "\n",
        "#   k = min(len(rand_perm_k_to_change_with),len(rand_perm_k_to_change))\n",
        "#   # k = int(k*0.35)\n",
        "\n",
        "#   rand_perm_k_to_change_with = rand_perm_k_to_change_with[:k]\n",
        "#   rand_perm_k_to_change = rand_perm_k_to_change[:k]\n",
        "\n",
        "#   np_data = np.asarray(data_preprocessed)\n",
        "#   to_change_with_docs = np_data[rand_perm_k_to_change_with]\n",
        "#   to_change_docs =  np_data[rand_perm_k_to_change]\n",
        "#   dict_docs[to_change_label] = to_change_docs\n",
        "#   p=0.35\n",
        "#   for i in range(k):\n",
        "#     words = to_change_with_docs[i].split()\n",
        "#     words_to_change = to_change_docs[i].split()\n",
        "\n",
        "#     original_words = words.copy()\n",
        "#     original_words_to_change = words_to_change.copy()\n",
        "\n",
        "#     # perc1 = int(len(words)*p)\n",
        "#     perc2 = int(len(words_to_change)*p)\n",
        "\n",
        "#     # perc_to_change = min(perc1,perc2)\n",
        "#     # random.shuffle(words)\n",
        "#     # random.shuffle(words_to_change)\n",
        "\n",
        "#     to_change_docs[i] = \" \".join(words[:perc2] + original_words_to_change[perc2:])\n",
        "\n",
        "#     data_preprocessed[rand_perm_k_to_change[i]] = to_change_docs[i]"
      ],
      "metadata": {
        "cellView": "form",
        "id": "HfxuRxgUi5M9"
      },
      "execution_count": null,
      "outputs": []
    },
    {
      "cell_type": "markdown",
      "source": [
        "### prepare data for model"
      ],
      "metadata": {
        "id": "h3CXc7DUUOWv"
      }
    },
    {
      "cell_type": "code",
      "execution_count": null,
      "metadata": {
        "cellView": "both",
        "colab": {
          "base_uri": "https://localhost:8080/"
        },
        "id": "2gU5icTALJTS",
        "outputId": "527410c8-20cd-4d6b-8192-bfb737e81c58"
      },
      "outputs": [
        {
          "output_type": "stream",
          "name": "stdout",
          "text": [
            "(2224, 4013)\n",
            "['business', 'business', 'business', 'business', 'business', 'business', 'business', 'business', 'business', 'business', 'business', 'business', 'business', 'business', 'business', 'business', 'business', 'business', 'business', 'business', 'business', 'business', 'business', 'business', 'business', 'business', 'business', 'business', 'business', 'business', 'business', 'business', 'business', 'business', 'business', 'business', 'business', 'business', 'business', 'business', 'business', 'business', 'business', 'business', 'business', 'business', 'business', 'business', 'business', 'business', 'business', 'business', 'business', 'business', 'business', 'business', 'business', 'business', 'business', 'business', 'business', 'business', 'business', 'business', 'business', 'business', 'business', 'business', 'business', 'business', 'business', 'business', 'business', 'business', 'business', 'business', 'business', 'business', 'business', 'business', 'business', 'business', 'business', 'business', 'business', 'business', 'business', 'business', 'business', 'business', 'business', 'business', 'business', 'business', 'business', 'business', 'business', 'business', 'business', 'business', 'business', 'business', 'business', 'business', 'business', 'business', 'business', 'business', 'business', 'business', 'business', 'business', 'business', 'business', 'business', 'business', 'business', 'business', 'business', 'business', 'business', 'business', 'business', 'business', 'business', 'business', 'business', 'business', 'business', 'business', 'business', 'business', 'business', 'business', 'business', 'business', 'business', 'business', 'business', 'business', 'business', 'business', 'business', 'business', 'business', 'business', 'business', 'business', 'business', 'business', 'business', 'business', 'business', 'business', 'business', 'business', 'business', 'business', 'business', 'business', 'business', 'business', 'business', 'business', 'business', 'business', 'business', 'business', 'business', 'business', 'business', 'business', 'business', 'business', 'business', 'business', 'business', 'business', 'business', 'business', 'business', 'business', 'business', 'business', 'business', 'business', 'business', 'business', 'business', 'business', 'business', 'business', 'business', 'business', 'business', 'business', 'business', 'business', 'business', 'business', 'business', 'business', 'business', 'business', 'business', 'business', 'business', 'business', 'business', 'business', 'business', 'business', 'business', 'business', 'business', 'business', 'business', 'business', 'business', 'business', 'business', 'business', 'business', 'business', 'business', 'business', 'business', 'business', 'business', 'business', 'business', 'business', 'business', 'business', 'business', 'business', 'business', 'business', 'business', 'business', 'business', 'business', 'business', 'business', 'business', 'business', 'business', 'business', 'business', 'business', 'business', 'business', 'business', 'business', 'business', 'business', 'business', 'business', 'business', 'business', 'business', 'business', 'business', 'business', 'business', 'business', 'business', 'business', 'business', 'business', 'business', 'business', 'business', 'business', 'business', 'business', 'business', 'business', 'business', 'business', 'business', 'business', 'business', 'business', 'business', 'business', 'business', 'business', 'business', 'business', 'business', 'business', 'business', 'business', 'business', 'business', 'business', 'business', 'business', 'business', 'business', 'business', 'business', 'business', 'business', 'business', 'business', 'business', 'business', 'business', 'business', 'business', 'business', 'business', 'business', 'business', 'business', 'business', 'business', 'business', 'business', 'business', 'business', 'business', 'business', 'business', 'business', 'business', 'business', 'business', 'business', 'business', 'business', 'business', 'business', 'business', 'business', 'business', 'business', 'business', 'business', 'business', 'business', 'business', 'business', 'business', 'business', 'business', 'business', 'business', 'business', 'business', 'business', 'business', 'business', 'business', 'business', 'business', 'business', 'business', 'business', 'business', 'business', 'business', 'business', 'business', 'business', 'business', 'business', 'business', 'business', 'business', 'business', 'business', 'business', 'business', 'business', 'business', 'business', 'business', 'business', 'business', 'business', 'business', 'business', 'business', 'business', 'business', 'business', 'business', 'business', 'business', 'business', 'business', 'business', 'business', 'business', 'business', 'business', 'business', 'business', 'business', 'business', 'business', 'business', 'business', 'business', 'business', 'business', 'business', 'business', 'business', 'business', 'business', 'business', 'business', 'business', 'business', 'business', 'business', 'business', 'business', 'business', 'business', 'business', 'business', 'business', 'business', 'business', 'business', 'business', 'business', 'business', 'business', 'business', 'business', 'business', 'business', 'business', 'business', 'business', 'business', 'business', 'business', 'business', 'business', 'business', 'business', 'business', 'business', 'business', 'business', 'business', 'business', 'business', 'business', 'business', 'business', 'business', 'business', 'business', 'business', 'business', 'business', 'business', 'business', 'business', 'business', 'business', 'business', 'business', 'business', 'business', 'business', 'business', 'business', 'business', 'business', 'business', 'business', 'business', 'business', 'business', 'business', 'business', 'business', 'business', 'business', 'business', 'business', 'business', 'business', 'business', 'business', 'business', 'business', 'business', 'business', 'business', 'business', 'business', 'business', 'business', 'business', 'business', 'business', 'business', 'business', 'business', 'business', 'entertainment', 'entertainment', 'entertainment', 'entertainment', 'entertainment', 'entertainment', 'entertainment', 'entertainment', 'entertainment', 'entertainment', 'entertainment', 'entertainment', 'entertainment', 'entertainment', 'entertainment', 'entertainment', 'entertainment', 'entertainment', 'entertainment', 'entertainment', 'entertainment', 'entertainment', 'entertainment', 'entertainment', 'entertainment', 'entertainment', 'entertainment', 'entertainment', 'entertainment', 'entertainment', 'entertainment', 'entertainment', 'entertainment', 'entertainment', 'entertainment', 'entertainment', 'entertainment', 'entertainment', 'entertainment', 'entertainment', 'entertainment', 'entertainment', 'entertainment', 'entertainment', 'entertainment', 'entertainment', 'entertainment', 'entertainment', 'entertainment', 'entertainment', 'entertainment', 'entertainment', 'entertainment', 'entertainment', 'entertainment', 'entertainment', 'entertainment', 'entertainment', 'entertainment', 'entertainment', 'entertainment', 'entertainment', 'entertainment', 'entertainment', 'entertainment', 'entertainment', 'entertainment', 'entertainment', 'entertainment', 'entertainment', 'entertainment', 'entertainment', 'entertainment', 'entertainment', 'entertainment', 'entertainment', 'entertainment', 'entertainment', 'entertainment', 'entertainment', 'entertainment', 'entertainment', 'entertainment', 'entertainment', 'entertainment', 'entertainment', 'entertainment', 'entertainment', 'entertainment', 'entertainment', 'entertainment', 'entertainment', 'entertainment', 'entertainment', 'entertainment', 'entertainment', 'entertainment', 'entertainment', 'entertainment', 'entertainment', 'entertainment', 'entertainment', 'entertainment', 'entertainment', 'entertainment', 'entertainment', 'entertainment', 'entertainment', 'entertainment', 'entertainment', 'entertainment', 'entertainment', 'entertainment', 'entertainment', 'entertainment', 'entertainment', 'entertainment', 'entertainment', 'entertainment', 'entertainment', 'entertainment', 'entertainment', 'entertainment', 'entertainment', 'entertainment', 'entertainment', 'entertainment', 'entertainment', 'entertainment', 'entertainment', 'entertainment', 'entertainment', 'entertainment', 'entertainment', 'entertainment', 'entertainment', 'entertainment', 'entertainment', 'entertainment', 'entertainment', 'entertainment', 'entertainment', 'entertainment', 'entertainment', 'entertainment', 'entertainment', 'entertainment', 'entertainment', 'entertainment', 'entertainment', 'entertainment', 'entertainment', 'entertainment', 'entertainment', 'entertainment', 'entertainment', 'entertainment', 'entertainment', 'entertainment', 'entertainment', 'entertainment', 'entertainment', 'entertainment', 'entertainment', 'entertainment', 'entertainment', 'entertainment', 'entertainment', 'entertainment', 'entertainment', 'entertainment', 'entertainment', 'entertainment', 'entertainment', 'entertainment', 'entertainment', 'entertainment', 'entertainment', 'entertainment', 'entertainment', 'entertainment', 'entertainment', 'entertainment', 'entertainment', 'entertainment', 'entertainment', 'entertainment', 'entertainment', 'entertainment', 'entertainment', 'entertainment', 'entertainment', 'entertainment', 'entertainment', 'entertainment', 'entertainment', 'entertainment', 'entertainment', 'entertainment', 'entertainment', 'entertainment', 'entertainment', 'entertainment', 'entertainment', 'entertainment', 'entertainment', 'entertainment', 'entertainment', 'entertainment', 'entertainment', 'entertainment', 'entertainment', 'entertainment', 'entertainment', 'entertainment', 'entertainment', 'entertainment', 'entertainment', 'entertainment', 'entertainment', 'entertainment', 'entertainment', 'entertainment', 'entertainment', 'entertainment', 'entertainment', 'entertainment', 'entertainment', 'entertainment', 'entertainment', 'entertainment', 'entertainment', 'entertainment', 'entertainment', 'entertainment', 'entertainment', 'entertainment', 'entertainment', 'entertainment', 'entertainment', 'entertainment', 'entertainment', 'entertainment', 'entertainment', 'entertainment', 'entertainment', 'entertainment', 'entertainment', 'entertainment', 'entertainment', 'entertainment', 'entertainment', 'entertainment', 'entertainment', 'entertainment', 'entertainment', 'entertainment', 'entertainment', 'entertainment', 'entertainment', 'entertainment', 'entertainment', 'entertainment', 'entertainment', 'entertainment', 'entertainment', 'entertainment', 'entertainment', 'entertainment', 'entertainment', 'entertainment', 'entertainment', 'entertainment', 'entertainment', 'entertainment', 'entertainment', 'entertainment', 'entertainment', 'entertainment', 'entertainment', 'entertainment', 'entertainment', 'entertainment', 'entertainment', 'entertainment', 'entertainment', 'entertainment', 'entertainment', 'entertainment', 'entertainment', 'entertainment', 'entertainment', 'entertainment', 'entertainment', 'entertainment', 'entertainment', 'entertainment', 'entertainment', 'entertainment', 'entertainment', 'entertainment', 'entertainment', 'entertainment', 'entertainment', 'entertainment', 'entertainment', 'entertainment', 'entertainment', 'entertainment', 'entertainment', 'entertainment', 'entertainment', 'entertainment', 'entertainment', 'entertainment', 'entertainment', 'entertainment', 'entertainment', 'entertainment', 'entertainment', 'entertainment', 'entertainment', 'entertainment', 'entertainment', 'entertainment', 'entertainment', 'entertainment', 'entertainment', 'entertainment', 'entertainment', 'entertainment', 'entertainment', 'entertainment', 'entertainment', 'entertainment', 'entertainment', 'entertainment', 'entertainment', 'entertainment', 'entertainment', 'entertainment', 'entertainment', 'entertainment', 'entertainment', 'entertainment', 'entertainment', 'entertainment', 'entertainment', 'entertainment', 'entertainment', 'entertainment', 'entertainment', 'entertainment', 'entertainment', 'entertainment', 'entertainment', 'entertainment', 'entertainment', 'entertainment', 'entertainment', 'entertainment', 'entertainment', 'entertainment', 'entertainment', 'entertainment', 'entertainment', 'entertainment', 'entertainment', 'entertainment', 'entertainment', 'entertainment', 'entertainment', 'entertainment', 'entertainment', 'entertainment', 'entertainment', 'entertainment', 'entertainment', 'entertainment', 'entertainment', 'entertainment', 'entertainment', 'entertainment', 'entertainment', 'entertainment', 'entertainment', 'politics', 'politics', 'politics', 'politics', 'politics', 'politics', 'politics', 'politics', 'politics', 'politics', 'politics', 'politics', 'politics', 'politics', 'politics', 'politics', 'politics', 'politics', 'politics', 'politics', 'politics', 'politics', 'politics', 'politics', 'politics', 'politics', 'politics', 'politics', 'politics', 'politics', 'politics', 'politics', 'politics', 'politics', 'politics', 'politics', 'politics', 'politics', 'politics', 'politics', 'politics', 'politics', 'politics', 'politics', 'politics', 'politics', 'politics', 'politics', 'politics', 'politics', 'politics', 'politics', 'politics', 'politics', 'politics', 'politics', 'politics', 'politics', 'politics', 'politics', 'politics', 'politics', 'politics', 'politics', 'politics', 'politics', 'politics', 'politics', 'politics', 'politics', 'politics', 'politics', 'politics', 'politics', 'politics', 'politics', 'politics', 'politics', 'politics', 'politics', 'politics', 'politics', 'politics', 'politics', 'politics', 'politics', 'politics', 'politics', 'politics', 'politics', 'politics', 'politics', 'politics', 'politics', 'politics', 'politics', 'politics', 'politics', 'politics', 'politics', 'politics', 'politics', 'politics', 'politics', 'politics', 'politics', 'politics', 'politics', 'politics', 'politics', 'politics', 'politics', 'politics', 'politics', 'politics', 'politics', 'politics', 'politics', 'politics', 'politics', 'politics', 'politics', 'politics', 'politics', 'politics', 'politics', 'politics', 'politics', 'politics', 'politics', 'politics', 'politics', 'politics', 'politics', 'politics', 'politics', 'politics', 'politics', 'politics', 'politics', 'politics', 'politics', 'politics', 'politics', 'politics', 'politics', 'politics', 'politics', 'politics', 'politics', 'politics', 'politics', 'politics', 'politics', 'politics', 'politics', 'politics', 'politics', 'politics', 'politics', 'politics', 'politics', 'politics', 'politics', 'politics', 'politics', 'politics', 'politics', 'politics', 'politics', 'politics', 'politics', 'politics', 'politics', 'politics', 'politics', 'politics', 'politics', 'politics', 'politics', 'politics', 'politics', 'politics', 'politics', 'politics', 'politics', 'politics', 'politics', 'politics', 'politics', 'politics', 'politics', 'politics', 'politics', 'politics', 'politics', 'politics', 'politics', 'politics', 'politics', 'politics', 'politics', 'politics', 'politics', 'politics', 'politics', 'politics', 'politics', 'politics', 'politics', 'politics', 'politics', 'politics', 'politics', 'politics', 'politics', 'politics', 'politics', 'politics', 'politics', 'politics', 'politics', 'politics', 'politics', 'politics', 'politics', 'politics', 'politics', 'politics', 'politics', 'politics', 'politics', 'politics', 'politics', 'politics', 'politics', 'politics', 'politics', 'politics', 'politics', 'politics', 'politics', 'politics', 'politics', 'politics', 'politics', 'politics', 'politics', 'politics', 'politics', 'politics', 'politics', 'politics', 'politics', 'politics', 'politics', 'politics', 'politics', 'politics', 'politics', 'politics', 'politics', 'politics', 'politics', 'politics', 'politics', 'politics', 'politics', 'politics', 'politics', 'politics', 'politics', 'politics', 'politics', 'politics', 'politics', 'politics', 'politics', 'politics', 'politics', 'politics', 'politics', 'politics', 'politics', 'politics', 'politics', 'politics', 'politics', 'politics', 'politics', 'politics', 'politics', 'politics', 'politics', 'politics', 'politics', 'politics', 'politics', 'politics', 'politics', 'politics', 'politics', 'politics', 'politics', 'politics', 'politics', 'politics', 'politics', 'politics', 'politics', 'politics', 'politics', 'politics', 'politics', 'politics', 'politics', 'politics', 'politics', 'politics', 'politics', 'politics', 'politics', 'politics', 'politics', 'politics', 'politics', 'politics', 'politics', 'politics', 'politics', 'politics', 'politics', 'politics', 'politics', 'politics', 'politics', 'politics', 'politics', 'politics', 'politics', 'politics', 'politics', 'politics', 'politics', 'politics', 'politics', 'politics', 'politics', 'politics', 'politics', 'politics', 'politics', 'politics', 'politics', 'politics', 'politics', 'politics', 'politics', 'politics', 'politics', 'politics', 'politics', 'politics', 'politics', 'politics', 'politics', 'politics', 'politics', 'politics', 'politics', 'politics', 'politics', 'politics', 'politics', 'politics', 'politics', 'politics', 'politics', 'politics', 'politics', 'politics', 'politics', 'politics', 'politics', 'politics', 'politics', 'politics', 'politics', 'politics', 'politics', 'politics', 'politics', 'politics', 'politics', 'politics', 'politics', 'politics', 'politics', 'politics', 'politics', 'politics', 'politics', 'politics', 'politics', 'politics', 'politics', 'politics', 'politics', 'politics', 'politics', 'politics', 'politics', 'politics', 'politics', 'politics', 'politics', 'politics', 'sport', 'sport', 'sport', 'sport', 'sport', 'sport', 'sport', 'sport', 'sport', 'sport', 'sport', 'sport', 'sport', 'sport', 'sport', 'sport', 'sport', 'sport', 'sport', 'sport', 'sport', 'sport', 'sport', 'sport', 'sport', 'sport', 'sport', 'sport', 'sport', 'sport', 'sport', 'sport', 'sport', 'sport', 'sport', 'sport', 'sport', 'sport', 'sport', 'sport', 'sport', 'sport', 'sport', 'sport', 'sport', 'sport', 'sport', 'sport', 'sport', 'sport', 'sport', 'sport', 'sport', 'sport', 'sport', 'sport', 'sport', 'sport', 'sport', 'sport', 'sport', 'sport', 'sport', 'sport', 'sport', 'sport', 'sport', 'sport', 'sport', 'sport', 'sport', 'sport', 'sport', 'sport', 'sport', 'sport', 'sport', 'sport', 'sport', 'sport', 'sport', 'sport', 'sport', 'sport', 'sport', 'sport', 'sport', 'sport', 'sport', 'sport', 'sport', 'sport', 'sport', 'sport', 'sport', 'sport', 'sport', 'sport', 'sport', 'sport', 'sport', 'sport', 'sport', 'sport', 'sport', 'sport', 'sport', 'sport', 'sport', 'sport', 'sport', 'sport', 'sport', 'sport', 'sport', 'sport', 'sport', 'sport', 'sport', 'sport', 'sport', 'sport', 'sport', 'sport', 'sport', 'sport', 'sport', 'sport', 'sport', 'sport', 'sport', 'sport', 'sport', 'sport', 'sport', 'sport', 'sport', 'sport', 'sport', 'sport', 'sport', 'sport', 'sport', 'sport', 'sport', 'sport', 'sport', 'sport', 'sport', 'sport', 'sport', 'sport', 'sport', 'sport', 'sport', 'sport', 'sport', 'sport', 'sport', 'sport', 'sport', 'sport', 'sport', 'sport', 'sport', 'sport', 'sport', 'sport', 'sport', 'sport', 'sport', 'sport', 'sport', 'sport', 'sport', 'sport', 'sport', 'sport', 'sport', 'sport', 'sport', 'sport', 'sport', 'sport', 'sport', 'sport', 'sport', 'sport', 'sport', 'sport', 'sport', 'sport', 'sport', 'sport', 'sport', 'sport', 'sport', 'sport', 'sport', 'sport', 'sport', 'sport', 'sport', 'sport', 'sport', 'sport', 'sport', 'sport', 'sport', 'sport', 'sport', 'sport', 'sport', 'sport', 'sport', 'sport', 'sport', 'sport', 'sport', 'sport', 'sport', 'sport', 'sport', 'sport', 'sport', 'sport', 'sport', 'sport', 'sport', 'sport', 'sport', 'sport', 'sport', 'sport', 'sport', 'sport', 'sport', 'sport', 'sport', 'sport', 'sport', 'sport', 'sport', 'sport', 'sport', 'sport', 'sport', 'sport', 'sport', 'sport', 'sport', 'sport', 'sport', 'sport', 'sport', 'sport', 'sport', 'sport', 'sport', 'sport', 'sport', 'sport', 'sport', 'sport', 'sport', 'sport', 'sport', 'sport', 'sport', 'sport', 'sport', 'sport', 'sport', 'sport', 'sport', 'sport', 'sport', 'sport', 'sport', 'sport', 'sport', 'sport', 'sport', 'sport', 'sport', 'sport', 'sport', 'sport', 'sport', 'sport', 'sport', 'sport', 'sport', 'sport', 'sport', 'sport', 'sport', 'sport', 'sport', 'sport', 'sport', 'sport', 'sport', 'sport', 'sport', 'sport', 'sport', 'sport', 'sport', 'sport', 'sport', 'sport', 'sport', 'sport', 'sport', 'sport', 'sport', 'sport', 'sport', 'sport', 'sport', 'sport', 'sport', 'sport', 'sport', 'sport', 'sport', 'sport', 'sport', 'sport', 'sport', 'sport', 'sport', 'sport', 'sport', 'sport', 'sport', 'sport', 'sport', 'sport', 'sport', 'sport', 'sport', 'sport', 'sport', 'sport', 'sport', 'sport', 'sport', 'sport', 'sport', 'sport', 'sport', 'sport', 'sport', 'sport', 'sport', 'sport', 'sport', 'sport', 'sport', 'sport', 'sport', 'sport', 'sport', 'sport', 'sport', 'sport', 'sport', 'sport', 'sport', 'sport', 'sport', 'sport', 'sport', 'sport', 'sport', 'sport', 'sport', 'sport', 'sport', 'sport', 'sport', 'sport', 'sport', 'sport', 'sport', 'sport', 'sport', 'sport', 'sport', 'sport', 'sport', 'sport', 'sport', 'sport', 'sport', 'sport', 'sport', 'sport', 'sport', 'sport', 'sport', 'sport', 'sport', 'sport', 'sport', 'sport', 'sport', 'sport', 'sport', 'sport', 'sport', 'sport', 'sport', 'sport', 'sport', 'sport', 'sport', 'sport', 'sport', 'sport', 'sport', 'sport', 'sport', 'sport', 'sport', 'sport', 'sport', 'sport', 'sport', 'sport', 'sport', 'sport', 'sport', 'sport', 'sport', 'sport', 'sport', 'sport', 'sport', 'sport', 'sport', 'sport', 'sport', 'sport', 'sport', 'sport', 'sport', 'sport', 'sport', 'sport', 'sport', 'sport', 'sport', 'sport', 'sport', 'sport', 'sport', 'sport', 'sport', 'sport', 'sport', 'sport', 'sport', 'sport', 'sport', 'sport', 'sport', 'sport', 'sport', 'sport', 'sport', 'sport', 'sport', 'sport', 'sport', 'sport', 'sport', 'sport', 'sport', 'sport', 'sport', 'sport', 'sport', 'sport', 'sport', 'sport', 'sport', 'sport', 'sport', 'sport', 'sport', 'sport', 'sport', 'sport', 'sport', 'sport', 'sport', 'sport', 'sport', 'sport', 'sport', 'sport', 'sport', 'sport', 'sport', 'sport', 'sport', 'sport', 'tech', 'tech', 'tech', 'tech', 'tech', 'tech', 'tech', 'tech', 'tech', 'tech', 'tech', 'tech', 'tech', 'tech', 'tech', 'tech', 'tech', 'tech', 'tech', 'tech', 'tech', 'tech', 'tech', 'tech', 'tech', 'tech', 'tech', 'tech', 'tech', 'tech', 'tech', 'tech', 'tech', 'tech', 'tech', 'tech', 'tech', 'tech', 'tech', 'tech', 'tech', 'tech', 'tech', 'tech', 'tech', 'tech', 'tech', 'tech', 'tech', 'tech', 'tech', 'tech', 'tech', 'tech', 'tech', 'tech', 'tech', 'tech', 'tech', 'tech', 'tech', 'tech', 'tech', 'tech', 'tech', 'tech', 'tech', 'tech', 'tech', 'tech', 'tech', 'tech', 'tech', 'tech', 'tech', 'tech', 'tech', 'tech', 'tech', 'tech', 'tech', 'tech', 'tech', 'tech', 'tech', 'tech', 'tech', 'tech', 'tech', 'tech', 'tech', 'tech', 'tech', 'tech', 'tech', 'tech', 'tech', 'tech', 'tech', 'tech', 'tech', 'tech', 'tech', 'tech', 'tech', 'tech', 'tech', 'tech', 'tech', 'tech', 'tech', 'tech', 'tech', 'tech', 'tech', 'tech', 'tech', 'tech', 'tech', 'tech', 'tech', 'tech', 'tech', 'tech', 'tech', 'tech', 'tech', 'tech', 'tech', 'tech', 'tech', 'tech', 'tech', 'tech', 'tech', 'tech', 'tech', 'tech', 'tech', 'tech', 'tech', 'tech', 'tech', 'tech', 'tech', 'tech', 'tech', 'tech', 'tech', 'tech', 'tech', 'tech', 'tech', 'tech', 'tech', 'tech', 'tech', 'tech', 'tech', 'tech', 'tech', 'tech', 'tech', 'tech', 'tech', 'tech', 'tech', 'tech', 'tech', 'tech', 'tech', 'tech', 'tech', 'tech', 'tech', 'tech', 'tech', 'tech', 'tech', 'tech', 'tech', 'tech', 'tech', 'tech', 'tech', 'tech', 'tech', 'tech', 'tech', 'tech', 'tech', 'tech', 'tech', 'tech', 'tech', 'tech', 'tech', 'tech', 'tech', 'tech', 'tech', 'tech', 'tech', 'tech', 'tech', 'tech', 'tech', 'tech', 'tech', 'tech', 'tech', 'tech', 'tech', 'tech', 'tech', 'tech', 'tech', 'tech', 'tech', 'tech', 'tech', 'tech', 'tech', 'tech', 'tech', 'tech', 'tech', 'tech', 'tech', 'tech', 'tech', 'tech', 'tech', 'tech', 'tech', 'tech', 'tech', 'tech', 'tech', 'tech', 'tech', 'tech', 'tech', 'tech', 'tech', 'tech', 'tech', 'tech', 'tech', 'tech', 'tech', 'tech', 'tech', 'tech', 'tech', 'tech', 'tech', 'tech', 'tech', 'tech', 'tech', 'tech', 'tech', 'tech', 'tech', 'tech', 'tech', 'tech', 'tech', 'tech', 'tech', 'tech', 'tech', 'tech', 'tech', 'tech', 'tech', 'tech', 'tech', 'tech', 'tech', 'tech', 'tech', 'tech', 'tech', 'tech', 'tech', 'tech', 'tech', 'tech', 'tech', 'tech', 'tech', 'tech', 'tech', 'tech', 'tech', 'tech', 'tech', 'tech', 'tech', 'tech', 'tech', 'tech', 'tech', 'tech', 'tech', 'tech', 'tech', 'tech', 'tech', 'tech', 'tech', 'tech', 'tech', 'tech', 'tech', 'tech', 'tech', 'tech', 'tech', 'tech', 'tech', 'tech', 'tech', 'tech', 'tech', 'tech', 'tech', 'tech', 'tech', 'tech', 'tech', 'tech', 'tech', 'tech', 'tech', 'tech', 'tech', 'tech', 'tech', 'tech', 'tech', 'tech', 'tech', 'tech', 'tech', 'tech', 'tech', 'tech', 'tech', 'tech', 'tech', 'tech', 'tech', 'tech', 'tech', 'tech', 'tech', 'tech', 'tech', 'tech', 'tech', 'tech', 'tech', 'tech', 'tech', 'tech', 'tech', 'tech', 'tech', 'tech', 'tech', 'tech', 'tech', 'tech', 'tech', 'tech', 'tech', 'tech', 'tech', 'tech', 'tech', 'tech', 'tech', 'tech', 'tech', 'tech', 'tech', 'tech', 'tech', 'tech', 'tech', 'tech', 'tech', 'tech', 'tech', 'tech', 'tech', 'tech', 'tech']\n",
            "{'sale': 3002, 'boost': 411, 'time': 3675, 'warner': 3910, 'profit': 2681, 'quarterly': 2740, 'medium': 2239, 'giant': 1612, 'jumped': 1986, 'three': 3664, 'month': 2303, 'december': 900, 'year': 4003, 'earlier': 1200, 'dollar': 1109, 'gain': 1578, 'greenspan': 1664, 'speech': 3333, 'hit': 1770, 'highest': 1760, 'level': 2098, 'euro': 1355, 'federal': 1447, 'reserve': 2883, 'head': 1730, 'trade': 3705, 'deficit': 923, 'set': 3105, 'unit': 3783, 'buyer': 507, 'face': 1402, 'loan': 2136, 'claim': 635, 'owner': 2468, 'embattled': 1275, 'russian': 2987, 'oil': 2422, 'production': 2677, 'pay': 2512, 'high': 1758, 'fuel': 1564, 'price': 2656, 'british': 469, 'airway': 106, 'blamed': 373, 'drop': 1168, 'takeover': 3603, 'talk': 3606, 'lift': 2112, 'share': 3126, 'drink': 1162, 'food': 1515, 'firm': 1490, 'allied': 125, 'risen': 2935, 'speculation': 3332, 'target': 3612, 'france': 1540, 'japan': 1948, 'narrowly': 2356, 'escape': 1349, 'recession': 2801, 'economy': 1230, 'teetered': 3629, 'brink': 465, 'technical': 3624, 'september': 3091, 'figure': 1470, 'job': 1959, 'growth': 1679, 'slow': 3237, 'created': 822, 'fewer': 1464, 'expected': 1383, 'january': 1947, 'fall': 1417, 'jobseekers': 1961, 'pushed': 2731, 'unemployment': 3778, 'rate': 2776, 'lowest': 2159, 'india': 1856, 'call': 519, 'fair': 1413, 'rule': 2978, 'meeting': 2241, 'leading': 2064, 'nation': 2358, 'friday': 1554, 'newcomer': 2374, 'status': 3419, 'ethiopia': 1353, 'crop': 835, 'produced': 2673, 'tonne': 3685, 'higher': 1759, 'average': 256, 'report': 2871, 'court': 813, 'reject': 2837, 'tobacco': 3678, 'case': 557, 'government': 1647, 'accusing': 33, 'country': 810, 'biggest': 353, 'company': 723, 'covering': 817, 'smoking': 3262, 'thrown': 3668, 'appeal': 178, 'online': 2429, 'revival': 2918, 'third': 3658, 'search': 3052, 'week': 3928, 'internet': 1895, 'advertising': 59, 'improving': 1843, 'indonesian': 1864, 'rise': 2934, 'indonesia': 1863, 'confirmed': 752, 'considering': 766, 'raising': 2762, 'peugeot': 2539, 'deal': 891, 'mitsubishi': 2286, 'struggling': 3491, 'japanese': 1949, 'car': 542, 'maker': 2184, 'motor': 2316, 'struck': 3489, 'supply': 3557, 'french': 1551, 'sport': 3358, 'vehicle': 3822, 'telegraph': 3633, 'newspaper': 2378, 'daily': 862, 'sunday': 3546, 'journalist': 1976, 'editorial': 1239, 'staff': 3392, 'air': 98, 'passenger': 2499, 'win': 3954, 'unable': 3771, 'board': 391, 'flight': 1502, 'delay': 927, 'demand': 936, 'greater': 1659, 'compensation': 725, 'china': 615, 'keep': 2002, 'tight': 3673, 'rein': 2835, 'credit': 825, 'effort': 1245, 'clamping': 638, 'continue': 780, 'state': 3414, 'doubled': 1130, 'italian': 1928, 'group': 1674, 'europe': 1357, 'corporate': 803, 'scandal': 3023, 'reported': 2872, 'doubling': 1131, 'rupee': 2983, 'standard': 3404, 'poor': 2601, 'raised': 2761, 'foreign': 1524, 'currency': 853, 'rating': 2777, 'widens': 3943, 'access': 26, 'telecom': 3631, 'limit': 2115, 'direct': 1031, 'investment': 1905, 'user': 3807, 'lose': 2149, 'patience': 2505, 'customer': 857, 'quicker': 2747, 'survey': 3572, 'suggests': 3534, 'rank': 2769, 'sell': 3073, 'film': 1474, 'unveil': 3794, 'plan': 2565, 'demerge': 938, 'service': 3103, 'business': 500, 'sluggish': 3244, 'german': 1609, 'number': 2406, 'people': 2522, 'work': 3980, 'largest': 2047, 'straight': 3468, 'remains': 2855, 'stubbornly': 3493, 'mixed': 2288, 'signal': 3178, 'picked': 2550, 'speed': 3334, 'official': 2419, 'fallen': 1418, 'short': 3154, 'hope': 1788, 'gap': 1588, 'record': 2803, 'export': 1394, 'import': 1838, '7bn': 6, 'latest': 2050, 'loses': 2150, 'bankruptcy': 290, 'battle': 308, 'judge': 1980, 'dismissed': 1071, 'attempt': 233, 'protection': 2705, 'safety': 2996, 'alert': 112, 'recall': 2797, 'carmaker': 551, 'general': 1603, 'ground': 1673, 'regulator': 2834, 'steel': 3425, 'cut': 858, 'producer': 2674, 'chief': 612, 'executive': 1372, 'strong': 3487, 'trigger': 3727, 'rally': 2763, 'crude': 841, 'surged': 3568, 'barrel': 297, 'mark': 2210, 'thursday': 3669, 'energy': 1305, 'market': 2211, 'watchdog': 3917, 'forecast': 1522, 'global': 1626, 'venezuelan': 3826, 'land': 2038, 'row': 2971, 'authority': 252, 'owned': 2467, 'president': 2647, 'chavez': 602, 'agrarian': 79, 'reform': 2819, 'soaring': 3277, 'cost': 805, 'economic': 1227, 'major': 2182, 'weather': 3924, 'storm': 3463, 'irish': 1917, 'reach': 2781, 'investor': 1906, 'buy': 506, 'low': 2157, 'inflation': 1868, 'banking': 288, 'financial': 1479, 'withdrawn': 3969, 'offer': 2414, 'rival': 2938, 'bank': 286, 'holding': 1779, 'enabling': 1296, 'merge': 2251, 'tokyo': 3680, 'rich': 2924, 'grab': 1649, 'half': 1700, 'colombia': 700, 'fund': 1571, 'money': 2299, 'colombian': 701, 'help': 1747, 'benefiting': 337, 'study': 3496, 'rover': 2970, 'midland': 2267, 'plant': 2570, 'chinese': 616, 'ahead': 88, 'surge': 3567, 'posted': 2617, 'larger': 2046, 'annual': 170, 'predicted': 2634, 'extra': 1398, 'meet': 2240, 'tough': 3695, 'governance': 1645, 'regulation': 2833, 'imposed': 1839, 'stock': 3450, 'mogul': 2294, 'arrested': 203, 'fraud': 1544, 'best': 343, 'businessmen': 502, 'charge': 592, 'shareholder': 3128, 'selling': 3076, 'based': 299, 'false': 1420, 'data': 879, 'deutsche': 997, 'mobile': 2289, 'fourth': 1536, 'quarter': 2739, 'upbeat': 3797, 'earnings': 1207, 'asset': 219, 'wine': 3957, 'italy': 1929, 'agreed': 81, 'lifted': 2113, 'sportswear': 3361, 'england': 1310, 'football': 1517, 'kit': 2021, 'boosted': 412, 'tournament': 3698, 'fed': 1446, 'warning': 3911, 'chairman': 581, 'alan': 109, 'warned': 3909, 'allowing': 129, 'huge': 1807, 'budget': 485, 'severe': 3113, 'coal': 681, 'plunge': 2586, 'loss': 2152, 'mining': 2278, 'deepened': 910, 'saudi': 3012, 'ministry': 2280, 'employ': 1288, 'woman': 3973, 'employed': 1289, 'arabia': 192, 'minister': 2279, 'prince': 2659, 'slide': 3225, 'officially': 2420, 'decade': 899, 'soared': 3276, 'fresh': 1553, 'problem': 2669, 'petrol': 2538, 'industrial': 1866, 'output': 2459, 'fell': 1451, 'october': 2411, 'rose': 2966, 'casting': 561, 'doubt': 1132, 'strength': 3475, 'recovery': 2808, '4bn': 3, 'boeing': 395, 'plane': 2566, 'airline': 104, 'order': 2450, '1bn': 0, 'lead': 2061, 'return': 2909, 'stockmarket': 3451, 'dairy': 863, 'bust': 503, 'accounting': 31, 'exchange': 1370, 'july': 1984, 'bmw': 389, 'cash': 558, 'mini': 2276, 'launched': 2053, 'announced': 167, 'bad': 276, 'nestle': 2369, 'rising': 2936, 'raw': 2779, 'material': 2226, 'european': 1358, 'swiss': 3592, 'fiat': 1465, 'mull': 2329, 'ferrari': 1457, 'listing': 2128, 'overhaul': 2463, 'operation': 2437, 'action': 39, 'prime': 2658, 'aimed': 96, 'sputtering': 3377, 'night': 2384, 'rome': 2962, 'weak': 3922, 'reuters': 2911, 'slipped': 3232, 'hyundai': 1821, 'build': 489, 'south': 3306, 'korea': 2028, 'second': 3058, 'growing': 1676, 'unveils': 3796, 'african': 69, 'tax': 3618, 'increased': 1850, 'social': 3279, 'spending': 3339, 'drive': 1164, 'asia': 213, 'stronger': 3488, 'grew': 1668, 'faster': 1434, 'deputy': 968, 'tuesday': 3750, 'shifting': 3142, 'manufacturing': 2199, 'bos': 419, 'launch': 2052, 'lawyer': 2059, 'defending': 919, 'bernie': 342, 'called': 520, 'whistleblower': 3939, 'witness': 3970, 'insurance': 1888, 'boss': 420, 'plead': 2580, 'guilty': 1687, 'pleaded': 2581, 'stemming': 3431, 'ongoing': 2428, 'investigation': 1904, 'industry': 1867, 'jobless': 1960, 'total': 3692, 'wembley': 3934, 'won': 3974, 'building': 490, 'stadium': 3391, 'project': 2685, 'pull': 2721, 'retail': 2900, 'monthly': 2304, 'decline': 906, 'august': 245, 'driven': 1165, 'heavy': 1743, 'sue': 3524, 'bush': 499, 'visit': 3867, 'agency': 74, 'damage': 866, 'arrival': 204, 'george': 1606, 'disrupted': 1081, 'aiming': 97, 'development': 1004, 'aid': 91, 'union': 3782, 'finance': 1477, 'discus': 1058, 'proposal': 2697, 'including': 1847, 'jet': 1955, 'poorer': 2602, 'confidence': 749, 'february': 1445, 'knocking': 2025, 'speedy': 3335, 'warns': 3912, 'impact': 1837, 'subsidy': 3510, 'billion': 357, 'farmer': 1431, 'risk': 2937, 'falling': 1419, 'agriculture': 85, 'seek': 3069, 'construction': 770, 'cleared': 649, 'sector': 3063, 'aircraft': 100, 'unveiled': 3795, 'long': 2142, 'distance': 1082, 'regain': 2825, 'position': 2613, 'manufacturer': 2198, 'circuit': 629, 'city': 633, 'store': 3461, 'electronics': 1261, 'retailer': 2901, 'received': 2799, 'turn': 3755, 'beer': 321, 'alternative': 135, 'brewer': 454, 'increasingly': 1852, 'making': 2185, 'korean': 2029, 'consumer': 772, 'sustain': 3581, 'renewed': 2861, 'private': 2664, 'central': 576, 'germany': 1610, 'shrank': 3163, 'sustained': 3582, 'turkey': 3754, 'iran': 1912, 'scrapped': 3042, 'slashed': 3216, 'brussels': 484, 'controversial': 788, 'palestinian': 2481, 'despite': 985, 'increase': 1849, 'performing': 2527, 'potential': 2622, 'role': 2958, 'split': 3350, 'russia': 2986, '6bn': 5, '2bn': 1, 'key': 2012, 'revealed': 2913, 'deadline': 889, 'nears': 2363, 'settle': 3108, 'disagreement': 1041, 'theft': 3653, 'complained': 731, 'targeted': 3613, 'identity': 1826, 'argentina': 196, 'venezuela': 3825, 'helped': 1748, 'overcome': 2461, 'crisis': 831, 'faulty': 1439, 'diesel': 1017, 'equipped': 1344, 'injection': 1874, 'pump': 2723, 'supplied': 3555, 'robert': 2944, 'storage': 3460, 'delivery': 932, 'closed': 666, 'receive': 2798, 'bid': 348, 'accused': 32, 'lying': 2169, 'lied': 2109, 'heard': 1735, 'mexican': 2257, 'send': 3080, 'living': 2133, 'mortgage': 2312, 'approved': 189, 'lending': 2090, 'slowing': 3241, 'slowest': 3240, 'pace': 2473, 'left': 2081, 'book': 405, '8bn': 7, 'decision': 904, 'told': 3681, 'juror': 1991, 'citigroup': 630, 'insurer': 1889, 'sold': 3287, 'life': 2110, 'arm': 199, '5bn': 4, 'blame': 372, 'leader': 2062, 'sharp': 3132, 'top': 3688, 'hand': 1708, 'damaging': 868, 'blessing': 376, 'debt': 897, 'longer': 2143, 'iranian': 1913, 'bail': 279, '3bn': 2, 'network': 2372, 'stake': 3395, 'close': 665, 'swap': 3585, 'hopeful': 1790, 'creditor': 826, 'accept': 23, 'solid': 3289, 'grown': 1677, 'reddy': 2811, 'indian': 1857, 'drugmaker': 1172, 'flagged': 1496, 'awarded': 267, 'egyptian': 1247, 'contract': 784, 'lucrative': 2163, 'exploration': 1391, 'egypt': 1246, 'halt': 1705, 'yen': 4005, 'treasury': 3716, 'secretary': 3061, 'john': 1962, 'snow': 3271, 'america': 140, 'interest': 1892, 'imf': 1834, 'international': 1894, 'monetary': 2298, 'deutschland': 998, 'ford': 1521, 'forced': 1520, 'denies': 950, 'denied': 949, 'doctoring': 1100, 'australia': 248, 'sign': 3177, 'slowdown': 3238, 'admits': 50, 'bribery': 458, 'telecommunication': 3632, 'admitting': 52, 'west': 3936, 'marsh': 2216, 'broker': 478, 'shake': 3119, 'bigger': 352, 'smoker': 3261, 'ruling': 2980, 'justice': 1992, 'department': 956, 'aston': 223, 'porsche': 2607, 'martin': 2218, 'cheapest': 604, 'model': 2291, 'golden': 1637, 'aide': 92, 'chancellor': 588, 'gordon': 1642, 'brown': 481, 'margin': 2208, 'spare': 3319, 'start': 3411, 'grow': 1675, 'started': 3412, 'deep': 909, 'needed': 2365, 'ensure': 1321, 'term': 3642, 'factory': 1406, 'slower': 3239, 'fly': 1508, 'returned': 2910, 'posting': 2620, 'sparking': 3322, 'concern': 740, 'slip': 3231, 'anglo': 158, 'dutch': 1191, 'good': 1640, 'management': 2192, 'orange': 2449, 'subscription': 3508, 'phone': 2546, 'rap': 2770, 'commission': 713, 'written': 3997, 'operator': 2438, 'vodafone': 3874, 'challenge': 582, 'director': 1036, 'officer': 2418, 'admitted': 51, 'york': 4006, 'lie': 2108, 'fellow': 1452, 'member': 2244, 'aim': 95, 'link': 2119, 'security': 3067, 'amid': 142, 'mercedes': 2249, 'slump': 3246, 'luxury': 2168, 'prompted': 2693, 'big': 351, 'parent': 2487, 'ericsson': 1347, 'improve': 1842, 'equipment': 1343, 'supplier': 3556, 'client': 656, 'leave': 2075, 'hold': 1777, 'sixth': 3202, 'nigeria': 2382, 'cocoa': 684, 'hoping': 1791, 'triple': 3733, 'ambitious': 139, 'anticipated': 175, 'move': 2321, 'settlement': 3110, 'subsidiary': 3509, 'trading': 3707, 'train': 3710, 'strike': 3481, 'grip': 1670, 'buenos': 486, 'aire': 101, 'underground': 3777, 'caused': 566, 'traffic': 3708, 'chaos': 591, 'large': 2045, 'bus': 498, 'argentine': 197, 'capital': 538, 'communication': 721, 'widened': 3942, 'criticism': 834, 'australian': 249, 'resource': 2890, 'continuing': 783, 'hostile': 1796, 'barclays': 296, 'pre': 2631, 'climb': 659, 'majority': 2183, 'sued': 3525, 'fiscal': 1491, 'cutting': 859, 'measure': 2236, 'iraq': 1914, 'invite': 1908, 'telephone': 3634, 'nationwide': 2360, 'coverage': 816, 'aviation': 259, 'eye': 1400, 'booming': 410, 'opened': 2431, 'invitation': 1907, 'aerospace': 62, 'merger': 2252, 'gas': 1594, 'bought': 422, 'brazil': 442, 'belgium': 330, 'belgian': 329, 'brewing': 456, 'soar': 3275, 'acquisition': 36, 'salary': 3001, 'corruption': 804, 'franc': 1539, 'add': 45, 'wall': 3901, 'street': 3474, 'expectation': 1382, 'feta': 1460, 'cheese': 607, 'allowed': 128, 'label': 2034, 'reached': 2782, 'ukraine': 3766, 'offs': 2421, 'preparing': 2643, 'wholesale': 3941, 'review': 2917, 'previous': 2655, 'administration': 49, 'remain': 2853, 'winter': 3964, 'freeze': 1550, 'wednesday': 3927, 'cold': 690, 'side': 3171, 'north': 2394, 'atlantic': 229, 'ore': 2452, 'dropped': 1169, 'worldwide': 3984, 'iron': 1918, 'pipeline': 2555, 'enter': 1323, 'style': 3502, 'bbc': 313, 'news': 2377, 'asian': 214, 'lost': 2153, 'planning': 2569, 'trim': 3729, 'modest': 2293, 'bite': 366, 'result': 2898, 'early': 1202, 'winn': 3961, 'dixie': 1097, 'file': 1471, 'supermarket': 3553, 'filed': 1472, 'succumbing': 3523, 'stiff': 3444, 'competition': 728, 'dominated': 1114, 'wal': 3897, 'mart': 2217, 'summit': 3543, 'meant': 2235, 'united': 3784, 'malaysia': 2186, 'islamic': 1921, 'ownership': 2469, 'encourage': 1299, 'alfa': 116, 'romeo': 2963, 'engine': 1308, 'sporty': 3362, 'saab': 2990, 'sweden': 3588, 'sized': 3204, 'drug': 1170, 'suspension': 3580, 'elan': 1251, 'plunged': 2587, 'monday': 2297, 'suspended': 3578, 'multiple': 2332, 'patient': 2506, 'death': 892, 'voted': 3884, 'change': 589, 'passed': 2498, 'setting': 3107, 'body': 394, 'minute': 2282, 'house': 1801, 'slight': 3226, 'society': 3282, 'allows': 130, 'borrow': 418, 'boosting': 413, 'retreat': 2907, 'ally': 131, 'associate': 221, 'qatar': 2733, 'shell': 3140, 'signed': 3179, 'middle': 2265, 'eastern': 1217, 'sheikhdom': 3137, 'natural': 2361, 'anti': 174, 'poverty': 2625, 'primary': 2657, 'school': 3028, 'health': 1733, 'citizen': 631, 'buyout': 509, 'jail': 1938, 'sentence': 3086, 'fine': 1482, 'illegally': 1832, 'hiring': 1767, 'force': 1519, 'verizon': 3836, 'seal': 3050, 'worth': 3989, 'spark': 3321, 'worry': 3986, 'fastest': 1435, 'auction': 241, 'accelerated': 22, 'transport': 3714, 'backed': 273, 'mail': 2180, 'killing': 2018, 'beirut': 328, 'small': 3250, 'hitting': 1773, 'lobby': 2137, 'snap': 3265, 'snapped': 3266, 'initial': 1871, 'public': 2717, 'suffer': 3526, 'festive': 1459, 'office': 2417, 'dividend': 1093, 'london': 2141, 'payment': 2514, 'newest': 2375, 'western': 3937, 'flat': 1499, 'electric': 1257, 'double': 1129, 'power': 2626, 'gorge': 1643, 'dam': 865, 'hiv': 1774, 'initiative': 1873, 'combat': 703, 'smuggling': 3263, 'cheaper': 603, 'optimism': 2445, 'housing': 1804, 'property': 2696, 'lender': 2089, 'bradford': 430, 'wto': 3999, 'progress': 2684, 'proposed': 2698, 'membership': 2245, 'negotiation': 2366, 'duo': 1186, 'block': 380, 'man': 2191, 'utd': 3809, 'manchester': 2194, 'reportedly': 2873, 'club': 673, 'amount': 144, 'series': 3097, 'pact': 2475, 'invest': 1900, 'batch': 304, 'downbeat': 1138, 'cast': 560, 'future': 1576, 'prospect': 2700, 'fear': 1441, 'gather': 1596, 'constitution': 769, 'focusing': 1512, 'matter': 2229, 'closer': 667, 'stay': 3421, 'spencer': 3337, 'region': 2829, 'detail': 989, 'computer': 738, 'tape': 3611, 'account': 30, 'employee': 1290, 'rush': 2985, 'offering': 2416, 'banker': 287, 'payout': 2515, 'victim': 3847, 'donate': 1119, 'chilean': 614, 'military': 2272, 'regime': 2827, 'madrid': 2175, 'qwest': 2751, 'bidding': 350, 'war': 3905, 'table': 3597, 'losing': 2151, 'scene': 3025, 'steering': 3428, 'conglomerate': 758, 'day': 887, 'control': 785, 'pain': 2477, 'decide': 901, 'linked': 2120, 'heart': 1738, 'attack': 230, 'stroke': 3485, 'troubled': 3739, 'champion': 585, 'bankrupt': 289, 'rescue': 2881, 'fail': 1408, 'post': 2615, 'christmas': 626, 'lull': 2165, 'breaking': 447, 'raise': 2760, 'avoid': 261, 'evidence': 1368, 'finished': 1486, 'trial': 3722, 'illegal': 1831, 'mill': 2274, 'relative': 2842, 'ruled': 2979, 'cairn': 516, 'find': 1480, 'thought': 3661, 'georgia': 1607, 'hidden': 1756, 'amnesty': 143, 'cuba': 847, 'ban': 283, 'transaction': 3712, 'turned': 3756, 'spotlight': 3364, 'ailing': 94, 'trail': 3709, '9bn': 8, 'purchase': 2727, 'legal': 2082, 'standoff': 3407, 'lse': 2161, 'unhappy': 3781, 'chance': 587, 'outline': 2457, 'toughest': 3696, 'congress': 760, 'seeking': 3070, 'domestic': 1112, 'lower': 2158, 'clash': 641, 'venture': 3829, 'easyjet': 1219, 'founder': 1535, 'policy': 2595, 'bonus': 403, 'emi': 1281, 'music': 2341, 'sunk': 3548, 'issued': 1927, 'disappointing': 1046, 'album': 111, 'release': 2844, 'shanda': 3122, 'sina': 3189, 'game': 1583, 'interactive': 1891, 'entertainment': 1328, 'reaction': 2784, 'malcolm': 2187, 'glazer': 1623, 'gold': 1636, 'relief': 2849, 'plasma': 2571, 'joining': 1967, 'develop': 1000, 'technology': 3626, 'screen': 3044, 'television': 3636, 'tie': 3671, 'delayed': 928, 'hail': 1697, 'genius': 1605, 'smith': 3259, 'scottish': 3040, 'church': 627, 'pioneering': 2554, 'economist': 1229, 'adam': 43, 'election': 1256, 'prosper': 2701, 'rethink': 2903, 'enron': 1320, 'soften': 3283, 'ease': 1211, 'burden': 494, 'nissan': 2389, 'successor': 3522, 'named': 2352, 'carlos': 549, 'highly': 1762, 'successful': 3519, 'renault': 2860, 'check': 605, 'dozen': 1145, 'tackle': 3599, 'africa': 68, 'agreeing': 82, 'express': 1395, 'setback': 3106, 'bar': 293, 'gaming': 1587, 'dog': 1105, 'track': 3704, 'break': 446, 'open': 2430, 'tycoon': 3763, 'failed': 1409, 'recover': 2807, 'season': 3054, 'mcdonald': 2234, 'sponsor': 3355, 'mtv': 2328, 'chain': 580, 'channel': 590, 'youth': 4009, 'promotion': 2692, 'save': 3014, 'tuc': 3749, 'calling': 521, 'stem': 3430, 'tsunami': 3746, 'sri': 3386, 'lanka': 2043, 'hard': 1720, 'disaster': 1047, 'threat': 3662, 'involvement': 1910, 'strengthen': 3476, 'indigenous': 1861, 'lloyd': 2135, 'fsa': 1563, 'britain': 468, 'bat': 303, 'spit': 3349, 'main': 2181, 'product': 2676, 'derived': 971, 'vampire': 3813, 'drafted': 1147, 'william': 3949, 'pension': 2521, 'hitch': 1771, 'men': 2247, 'male': 2188, 'estimated': 1352, 'researcher': 2882, 'card': 543, 'fraudsters': 1545, 'web': 3925, 'debit': 895, 'shop': 3151, 'led': 2078, 'focus': 1510, 'windfall': 3955, 'employer': 1291, 'spent': 3340, 'pound': 2624, 'final': 1475, 'trillion': 3728, 'indicates': 1859, 'write': 3994, 'poorest': 2603, 'approach': 188, 'mission': 2284, 'brighten': 461, 'working': 3982, 'continues': 782, 'aurora': 246, 'dock': 1099, 'photo': 2547, 'interview': 1897, 'tale': 3604, 'woe': 3971, 'facing': 1403, 'institute': 1887, 'critical': 833, 'politician': 2597, 'political': 2596, 'dose': 1127, 'shock': 3144, 'current': 854, 'simply': 3187, 'debate': 893, 'fact': 1404, 'program': 2682, 'standpoint': 3408, 'trend': 3721, 'ability': 14, 'trust': 3743, 'require': 2879, 'bond': 401, 'promised': 2688, 'benefit': 336, 'aware': 268, 'directly': 1035, 'involved': 1909, 'closest': 668, 'great': 1658, 'confirms': 754, 'late': 2049, 'presented': 2644, 'stall': 3398, 'lenovo': 2093, 'stood': 3457, 'stiffening': 3446, 'equal': 1341, 'moved': 2322, 'empt': 1292, 'broadband': 471, 'corp': 802, 'video': 3851, 'controlled': 786, 'billionaire': 358, 'rupert': 2984, 'murdoch': 2337, 'eyeing': 1401, 'system': 3596, 'branded': 436, 'retirement': 2905, 'tank': 3609, 'singapore': 3190, 'performance': 2525, 'knock': 2024, 'lira': 2125, 'saturday': 3011, 'create': 821, 'kick': 2014, 'latin': 2051, 'registered': 2832, 'defy': 926, 'quake': 2734, 'gloom': 1628, 'hong': 1785, 'kong': 2027, 'tear': 3622, 'michael': 2261, 'travel': 3715, 'scale': 3020, 'cap': 536, 'suitor': 3539, 'euronext': 1356, 'met': 2255, 'ready': 2788, 'scrutiny': 3048, 'investigating': 1903, 'disguise': 1065, 'thing': 3656, 'entrepreneur': 1332, 'languishing': 2042, 'song': 3294, 'nasdaq': 2357, 'list': 2126, 'operates': 2435, 'gift': 1613, 'child': 613, 'grandchild': 1654, 'toy': 3702, 'national': 2359, 'overseas': 2464, 'debut': 898, 'dual': 1175, 'heavily': 1742, 'closing': 669, 'arsenal': 205, 'full': 1566, 'vice': 3845, 'david': 883, 'consider': 764, 'brazilian': 443, 'display': 1076, 'durability': 1188, 'sinking': 3195, 'stern': 3437, 'word': 3979, 'google': 1641, 'advantage': 57, 'jump': 1985, 'charm': 598, 'dressed': 1157, 'sbc': 3019, 'expects': 1384, 'bidder': 349, 'held': 1745, 'professional': 2679, 'friendly': 1556, 'spin': 3345, 'american': 141, 'sun': 3544, 'beijing': 327, 'refusing': 2824, 'press': 2648, 'ended': 1302, 'iraqi': 1915, 'voter': 3885, 'issue': 1926, 'desperate': 983, 'situation': 3201, 'place': 2563, 'competitive': 729, 'breakneck': 448, 'expanded': 1379, 'built': 491, 'twenty': 3761, 'tuberculosis': 3748, 'clothing': 672, 'eaten': 1221, 'behemoth': 325, 'declared': 905, 'shape': 3124, 'serious': 3098, 'chamber': 584, 'commerce': 711, 'welcomed': 3932, 'alleged': 122, 'danger': 874, 'steady': 3423, 'analyst': 147, 'dip': 1027, 'derail': 969, 'premiership': 2638, 'cheer': 606, 'victory': 3850, 'response': 2892, 'march': 2205, 'textile': 3651, 'worker': 3981, 'introduced': 1899, 'charity': 594, 'lay': 2060, 'netherlands': 2371, 'fannie': 1427, 'mae': 2176, 'restate': 2896, 'dent': 953, 'agrees': 84, 'pharmaceutical': 2540, 'johnson': 1964, 'medical': 2238, 'libya': 2106, 'frozen': 1560, 'cactus': 513, 'diet': 1018, 'slimming': 3229, 'southern': 3308, 'developed': 1001, 'play': 2573, 'played': 2575, 'step': 3432, 'bombardier': 399, 'departure': 957, 'approves': 190, 'law': 2055, 'hoped': 1789, 'november': 2403, 'shopper': 3152, 'began': 322, 'seasonal': 3055, 'flock': 1504, 'drilling': 1161, 'update': 3798, 'eads': 1197, 'philippe': 2543, 'failure': 1412, 'swedish': 3589, 'clinical': 661, 'nike': 2385, 'shoe': 3146, 'sneaker': 3268, 'stormy': 3465, 'string': 3483, 'earthquake': 1209, 'crash': 820, 'paid': 2476, 'fetch': 1461, 'moscow': 2313, 'newcastle': 2373, 'brewery': 455, 'poised': 2590, 'pan': 2482, 'claiming': 637, 'mystery': 2347, 'fate': 1437, 'subject': 3504, 'join': 1965, 'afghanistan': 67, 'spirit': 3348, 'starting': 3413, 'april': 191, 'paper': 2485, 'publishing': 2720, 'independent': 1855, 'buying': 508, 'senior': 3082, 'resigned': 2886, 'irregularity': 1919, 'cannabis': 534, 'canada': 528, 'pledged': 2583, 'introduce': 1898, 'toll': 3683, 'royal': 2972, 'chartered': 600, 'disney': 1073, 'disclosure': 1052, 'settled': 3109, 'disclose': 1051, 'family': 1423, 'defended': 917, 'free': 1547, 'pulled': 2722, 'reconstruction': 2802, 'secures': 3066, 'forthcoming': 1529, 'sexism': 3115, 'sex': 3114, 'discrimination': 1057, 'asbestos': 211, 'james': 1944, 'disease': 1061, 'police': 2593, 'detain': 991, 'milk': 2273, 'detained': 992, 'suggesting': 3532, 'investigated': 1902, 'embezzlement': 1276, 'ordered': 2451, 'airbus': 99, 'expands': 1380, 'fast': 1433, 'offered': 2415, 'ranging': 2767, 'tube': 3747, 'spain': 3313, 'engineering': 1309, 'honda': 1783, 'copyright': 798, 'protecting': 2704, 'jamaica': 1943, 'difficulty': 1020, 'battered': 307, 'emerging': 1280, 'devastation': 999, 'sought': 3301, 'calm': 522, 'wave': 3920, 'killed': 2017, 'pakistan': 2479, 'peace': 2516, 'relation': 2840, 'paying': 2513, 'showing': 3162, 'summer': 3542, 'probe': 2668, 'investigate': 1901, 'delta': 933, 'weekend': 3929, 'liquidation': 2124, 'fails': 1411, 'versus': 3839, 'continued': 781, 'tumbled': 3751, 'mild': 2271, 'densely': 952, 'feud': 1463, 'reliance': 2848, 'counter': 808, 'struggle': 3490, 'controlling': 787, 'massive': 2224, 'thailand': 3652, 'israeli': 1925, 'picking': 2551, 'israel': 1924, 'emerge': 1279, 'soros': 3300, 'financed': 1478, 'local': 2138, 'challenged': 583, 'crunch': 843, 'agreement': 83, 'auto': 253, 'copper': 795, 'optimistic': 2446, 'influential': 1870, 'friend': 1555, 'pas': 2496, 'ssl': 3387, 'awaits': 265, 'refused': 2823, 'comment': 710, 'sunderland': 3547, 'bob': 392, 'murray': 2339, 'broadcaster': 473, 'taxpayer': 3619, 'eco': 1226, 'completes': 734, 'switch': 3593, 'completed': 733, 'replacement': 2868, 'ski': 3206, 'grows': 1678, 'size': 3203, 'predict': 2633, 'considers': 767, 'opening': 2433, 'volkswagen': 3881, 'anil': 162, 'brother': 479, 'running': 2982, 'sky': 3212, 'allow': 126, 'commercial': 712, 'stoke': 3452, 'rebound': 2795, 'retire': 2904, 'justify': 1993, 'clearance': 648, 'proved': 2712, 'tate': 3616, 'bag': 277, 'award': 266, 'businessman': 501, 'magazine': 2177, 'krispy': 2032, 'dunking': 1185, 'idle': 1827, 'farm': 1430, 'gun': 1691, 'suit': 3537, 'lawsuit': 2058, 'california': 518, 'heading': 1731, 'fight': 1468, 'survival': 3573, 'woo': 3977, 'laura': 2054, 'ashley': 212, 'stepping': 3435, 'agree': 80, 'attendant': 237, 'fare': 1429, 'green': 1662, 'shun': 3168, 'environment': 1335, 'bill': 354, 'fined': 1483, 'agrochemical': 86, 'bribing': 459, 'plea': 2579, 'criminal': 829, 'connection': 761, 'rigging': 2929, 'june': 1988, 'ten': 3640, 'pocket': 2588, 'class': 643, 'continental': 779, 'halifax': 1701, 'slash': 3215, 'regional': 2830, 'toyota': 3703, 'spend': 3338, 'jakarta': 1941, 'designed': 978, 'expand': 1378, 'republic': 2877, 'dependence': 958, 'truce': 3741, 'breaching': 445, 'eighteen': 1248, 'collapse': 693, 'dipped': 1030, 'christian': 623, 'stepped': 3434, 'stated': 3415, 'fox': 1538, 'minority': 2281, 'broadcasting': 474, 'asked': 215, 'dispute': 1078, 'commissioner': 714, 'peter': 2537, 'sharply': 3133, 'reversed': 2916, 'karachi': 1996, 'recorded': 2804, 'single': 3193, 'prepares': 2642, 'hybrid': 1819, 'trouble': 3738, 'alliance': 124, 'suspend': 3577, 'discovery': 1055, 'northern': 2395, 'ocean': 2410, 'foster': 1532, 'winemaker': 3958, 'ecb': 1224, 'succession': 3520, 'sharing': 3130, 'narrow': 2354, 'leaving': 2076, 'kraft': 2031, 'snack': 3264, 'sugary': 3530, 'promote': 2690, 'eating': 1222, 'quits': 2749, 'jailed': 1939, 'partner': 2494, 'trio': 3731, 'aer': 61, 'ireland': 1916, 'conflict': 755, 'tariff': 3614, 'hamper': 1706, 'ahold': 90, 'charged': 593, 'helping': 1749, 'campaign': 525, 'note': 2399, 'rejected': 2838, 'bell': 332, 'aged': 73, 'charlie': 596, 'died': 1016, 'cancer': 530, 'eas': 1210, 'albeit': 110, 'voiced': 3876, 'opposition': 2444, 'planned': 2568, 'option': 2447, 'transfer': 3713, 'nuclear': 2405, 'period': 2528, 'stability': 3389, 'grant': 1655, 'apology': 177, 'oracle': 2448, 'completion': 735, 'smaller': 3251, 'parking': 2491, 'fee': 1450, 'jam': 1942, 'area': 195, 'beige': 326, 'cool': 792, 'ebay': 1223, 'hour': 1800, 'southwest': 3309, 'net': 2370, 'depth': 967, 'funding': 1573, 'draft': 1146, 'support': 3558, 'pick': 2549, 'savoy': 3016, 'famous': 1424, 'hotel': 1797, 'slows': 3242, 'unity': 3785, 'suspends': 3579, 'station': 3417, 'environmental': 1336, 'nigerian': 2383, 'virgin': 3862, 'blue': 388, 'steep': 3426, 'vivendi': 3872, 'complaint': 732, 'universal': 3786, 'cooperative': 793, 'morgan': 2309, 'slavery': 3219, 'slave': 3218, 'accepted': 24, 'collateral': 694, 'protocol': 2709, 'wipro': 3965, 'beat': 315, 'software': 3284, 'topping': 3690, 'worst': 3988, 'failing': 1410, 'draw': 1153, 'cope': 794, 'vow': 3888, 'mouse': 2319, 'young': 4007, 'league': 2067, 'enjoy': 1315, 'income': 1848, 'spanish': 3317, 'youngster': 4008, 'cement': 574, 'spree': 3368, 'heat': 1739, 'spat': 3323, 'spilled': 3344, 'globe': 1627, 'mountain': 2317, 'resort': 2889, 'davos': 885, 'forum': 1530, 'wef': 3930, 'tony': 3686, 'blair': 371, 'attending': 238, 'protest': 2707, 'campaigner': 526, 'demonstration': 945, 'worse': 3987, 'trader': 3706, 'paris': 2488, 'economics': 1228, 'suing': 3536, 'banned': 291, 'rapid': 2772, 'poll': 2599, 'asks': 216, 'pressure': 2650, 'fbi': 1440, 'agent': 76, 'colludes': 699, 'confidential': 751, 'missing': 2283, 'disappeared': 1044, 'tunnel': 3752, 'water': 3919, 'agua': 87, 'riot': 2933, 'suffered': 3527, 'violent': 3861, 'maruti': 2220, 'climate': 658, 'agenda': 75, 'released': 2845, 'emilio': 1282, 'powerful': 2628, 'spurt': 3376, 'statistic': 3418, 'claimed': 636, 'gallery': 1580, 'tree': 3718, 'text': 3650, 'message': 2253, 'art': 208, 'musician': 2343, 'perform': 2524, 'concert': 743, 'birth': 363, 'writer': 3995, 'musical': 2342, 'treatment': 3717, 'capra': 539, 'classic': 644, 'wonderful': 3976, 'jerry': 1954, 'springer': 3371, 'opera': 2434, 'richard': 2925, 'judy': 1981, 'choose': 619, 'author': 251, 'shortlisted': 3157, 'success': 3518, 'winner': 3962, 'flying': 1509, 'stage': 3393, 'adaptation': 44, 'mary': 2221, 'bennett': 339, 'prize': 2666, 'history': 1769, 'boy': 426, 'critic': 832, 'levy': 2099, 'tipped': 3676, 'novelist': 2402, 'andrea': 149, 'winning': 3963, 'novel': 2401, 'island': 1922, 'finest': 1484, 'star': 3409, 'evening': 1363, 'vinci': 3860, 'code': 686, 'plot': 2585, 'bestseller': 344, 'reader': 2786, 'clergyman': 653, 'uganda': 3765, 'vagina': 3811, 'monologue': 2302, 'artist': 210, 'secret': 3060, 'postcard': 2616, 'academy': 21, 'hollywood': 1780, 'liam': 2101, 'dinner': 1026, 'party': 2495, 'lyric': 2170, 'adventure': 58, 'fan': 1425, 'story': 3466, 'horse': 1793, 'smarties': 3254, 'mutant': 2345, 'guardian': 1682, 'science': 3030, 'arthur': 209, 'king': 2020, 'age': 72, 'booker': 407, 'dame': 869, 'shortlist': 3156, 'versace': 3837, 'portfolio': 2609, 'collection': 697, 'murdered': 2336, 'designer': 979, 'slater': 3217, 'broadway': 475, 'actor': 41, 'tom': 3684, 'glass': 1622, 'reynolds': 2922, 'portrait': 2610, 'sir': 3197, 'airing': 103, 'wrangle': 3991, 'alicia': 117, 'bath': 306, 'modern': 2292, 'greatest': 1660, 'ballet': 281, 'dancer': 872, 'career': 547, 'famed': 1422, 'conductor': 747, 'venice': 3827, 'century': 577, 'harry': 1725, 'potter': 2623, 'chart': 599, 'topped': 3689, 'amazon': 136, 'visitor': 3868, 'idol': 1828, 'pop': 2604, 'talent': 3605, 'begun': 323, 'simon': 3185, 'studio': 3495, 'variety': 3817, 'baghdad': 278, 'blogger': 384, 'festival': 1458, 'comedy': 707, 'sideways': 3175, 'road': 2940, 'trip': 3732, 'praise': 2629, 'heaped': 1734, 'association': 222, 'adding': 46, 'dirty': 1038, 'den': 947, 'demise': 939, 'marking': 2213, 'anniversary': 166, 'vision': 3866, 'sundance': 3545, 'sporting': 3359, 'pair': 2478, 'dark': 878, 'crowd': 837, 'dvd': 1193, 'prisoner': 2663, 'brought': 480, 'dramatic': 1151, 'visual': 3869, 'shine': 3143, 'vera': 3832, 'drake': 1149, 'scoop': 3033, 'oscar': 2454, 'mike': 2269, 'leigh': 2088, 'vie': 3853, 'eligible': 1264, 'chosen': 620, 'forward': 1531, 'nominee': 2393, 'hank': 1715, 'greeted': 1666, 'premiere': 2637, 'leicester': 2087, 'square': 3384, 'pirate': 2557, 'cannibal': 535, 'sequel': 3092, 'gear': 1600, 'ceremony': 578, 'walk': 3899, 'red': 2810, 'carpet': 553, 'aviator': 260, 'creator': 824, 'snub': 3273, 'nominated': 2391, 'movie': 2324, 'leonardo': 2094, 'shut': 3169, 'race': 2752, 'starring': 3410, 'paul': 2510, 'version': 3838, 'passion': 2500, 'mel': 2242, 'christ': 622, 'berlin': 340, 'tribute': 3724, 'davis': 884, 'spike': 3343, 'lee': 2079, 'burt': 497, 'funeral': 1574, 'dead': 888, 'gerard': 1608, 'beaten': 316, 'howl': 1806, 'cinema': 628, 'box': 424, 'ticket': 3670, 'thriller': 3667, 'rousing': 2969, 'reception': 2800, 'spectator': 3330, 'landmark': 2039, 'hailed': 1698, 'fahrenheit': 1407, 'cultural': 849, 'hide': 1757, 'willis': 3951, 'injury': 1876, 'bruce': 483, 'revolution': 2919, 'swank': 3583, 'jamie': 1945, 'hilary': 1763, 'guild': 1686, 'female': 1453, 'student': 3494, 'black': 367, 'true': 3742, 'camera': 523, 'horror': 1792, 'evil': 1369, 'sam': 3003, 'mumbai': 2333, 'bomb': 398, 'postponed': 2621, 'blast': 374, 'bombing': 400, 'robot': 2948, 'godfather': 1634, 'watch': 3916, 'van': 3814, 'slain': 3213, 'theo': 3655, 'epic': 1338, 'celebrate': 568, 'broadcast': 472, 'live': 2130, 'displacing': 1075, 'nair': 2350, 'vanity': 3816, 'thrilled': 3666, 'cesar': 579, 'engagement': 1307, 'nomination': 2392, 'calendar': 517, 'animation': 164, 'beating': 317, 'alienated': 118, 'suburb': 3514, 'prepare': 2640, 'actress': 42, 'vote': 3883, 'shrek': 3165, 'animated': 163, 'kevin': 2011, 'spacey': 3312, 'kate': 1998, 'sea': 3049, 'blow': 386, 'alexander': 115, 'oliver': 2424, 'stone': 3456, 'historical': 1768, 'entering': 1325, 'ray': 2780, 'biopic': 361, 'surpassed': 3570, 'combined': 704, 'tally': 3607, 'rental': 2863, 'twelve': 3760, 'raid': 2758, 'crime': 828, 'caper': 537, 'clooney': 664, 'brad': 429, 'pitt': 2561, 'julia': 1982, 'indie': 1860, 'abortion': 16, 'drama': 1150, 'scooped': 3034, 'spider': 3342, 'superhero': 3552, 'special': 3328, 'extravaganza': 1399, 'baby': 270, 'clint': 662, 'boxing': 425, 'picture': 2552, 'editing': 1237, 'front': 1557, 'enters': 1327, 'entered': 1324, 'cage': 515, 'attend': 236, 'anger': 156, 'bollywood': 396, 'demanded': 937, 'withdrawal': 3968, 'depicts': 962, 'affair': 63, 'girl': 1617, 'bookmaker': 408, 'moving': 2325, 'distributor': 1086, 'dan': 870, 'nazi': 2362, 'drawn': 1154, 'applause': 183, 'los': 2148, 'angeles': 155, 'cate': 564, 'godzilla': 1635, 'fame': 1421, 'birthday': 364, 'god': 1633, 'screenwriter': 3046, 'philip': 2542, 'remove': 2859, 'reference': 2817, 'accolade': 29, 'singer': 3191, 'documentary': 1103, 'candid': 532, 'surprise': 3571, 'moore': 2307, 'choice': 618, 'howard': 1805, 'convicted': 790, 'retain': 2902, 'crown': 838, 'spot': 3363, 'prominence': 2686, 'theme': 3654, 'lewis': 2100, 'daniel': 875, 'downloads': 1144, 'digital': 1022, 'included': 1846, 'glasgow': 1621, 'host': 1795, 'gig': 1614, 'band': 284, 'busted': 504, 'verge': 3834, 'splitting': 3351, 'aka': 108, 'rapper': 2773, 'songwriter': 3295, 'skinner': 3208, 'manic': 2195, 'preacher': 2632, 'helm': 1746, 'radio': 2756, 'jackson': 1935, 'reporter': 2874, 'strengthening': 3478, 'marion': 2209, 'knight': 2023, 'allegedly': 123, 'elton': 1268, 'performed': 2526, 'elvis': 1270, 'rock': 2952, 'roll': 2959, 'legend': 2085, 'pete': 2536, 'snoop': 3270, 'dogg': 1106, 'entourage': 1331, 'drugged': 1171, 'raped': 2771, 'ago': 78, 'legendary': 2086, 'lennon': 2092, 'jay': 1951, 'hip': 1766, 'hop': 1787, 'rem': 2852, 'player': 2576, 'hospital': 1794, 'suffering': 3528, 'ring': 2930, 'fire': 1487, 'memory': 2246, 'marley': 2214, 'reggae': 2826, 'rob': 2941, 'belle': 334, 'sebastian': 3057, 'dance': 871, 'fatboy': 1436, 'slim': 3227, 'currently': 855, 'patch': 2502, 'brian': 457, 'dublin': 1178, 'son': 3293, 'byrd': 510, 'patrol': 2507, 'feted': 1462, 'dove': 1137, 'scissor': 3032, 'sister': 3198, 'brit': 467, 'keane': 2000, 'cliff': 657, 'recording': 2806, 'ferdinand': 1454, 'frontman': 1559, 'alex': 114, 'edinburgh': 1236, 'lecture': 2077, 'discussion': 1060, 'follow': 1514, 'trophy': 3737, 'super': 3549, 'bowl': 423, 'wowed': 3990, 'avoided': 262, 'janet': 1946, 'controversy': 789, 'korn': 2030, 'guitarist': 1689, 'quit': 2748, 'religious': 2850, 'vibe': 3843, 'stabbing': 3388, 'happened': 1718, 'formula': 1528, 'ultimate': 3768, 'tout': 3699, 'queen': 2742, 'recruit': 2809, 'tour': 3697, 'remaining': 2854, 'rodgers': 2955, 'freddie': 1546, 'mercury': 2250, 'grammy': 1651, 'smashed': 3257, 'ozzy': 2471, 'praised': 2630, 'tackling': 3600, 'burglar': 496, 'stole': 3453, 'rocker': 2953, 'electro': 1258, 'bravery': 440, 'website': 3926, 'sound': 3303, 'promising': 2689, 'copy': 796, 'eminem': 1283, 'soldier': 3288, 'stormed': 3464, 'husband': 1818, 'duet': 1179, 'jennifer': 1953, 'lopez': 2146, 'anthony': 173, 'beastie': 314, 'pupil': 2726, 'piracy': 2556, 'lesson': 2095, 'secondary': 3059, 'spector': 3331, 'phil': 2541, 'mother': 2315, 'usher': 3808, 'billboard': 355, 'category': 565, 'venue': 3830, 'beatles': 318, 'cover': 815, 'glory': 1629, 'oasis': 2408, 'brawl': 441, 'disputed': 1079, 'nirvana': 2388, 'featuring': 1444, 'unreleased': 3790, 'soul': 3302, 'field': 1466, 'anthem': 172, 'inspired': 1886, 'itunes': 1930, 'ipod': 1911, 'download': 1140, 'apple': 184, 'morrison': 2311, 'footballer': 1518, 'campbell': 527, 'stopping': 3459, 'releasing': 2846, 'crowned': 839, 'earner': 1205, 'earned': 1204, 'madonna': 2174, 'rolling': 2960, 'earliest': 1201, 'shook': 3147, 'parker': 2490, 'saxophone': 3018, 'belonging': 335, 'jazz': 1952, 'comic': 708, 'morris': 2310, 'sitcom': 3199, 'comedian': 706, 'chris': 621, 'brass': 438, 'spoof': 3356, 'refuse': 2822, 'adoption': 53, 'father': 1438, 'stiller': 3447, 'ricky': 2927, 'sleaze': 3221, 'indecency': 1853, 'residue': 2885, 'clothes': 671, 'wife': 3944, 'shot': 3158, 'soap': 3274, 'language': 2041, 'eurovision': 1360, 'contest': 777, 'compete': 726, 'csi': 846, 'sending': 3081, 'offensive': 2413, 'threatening': 3663, 'viewer': 3856, 'murder': 2335, 'scientist': 3031, 'factor': 1405, 'itv': 1931, 'singing': 3192, 'charles': 595, 'vicki': 3846, 'comeback': 705, 'branson': 437, 'flop': 1505, 'proving': 2714, 'housewife': 1803, 'audience': 242, 'compared': 724, 'pundit': 2724, 'contestant': 778, 'evicted': 1366, 'celebrity': 571, 'evans': 1362, 'hugh': 1809, 'trek': 3719, 'persuade': 2534, 'scrap': 3041, 'enterprise': 1326, 'leaf': 2065, 'flagship': 1497, 'clean': 646, 'steer': 3427, 'clear': 647, 'johnny': 1963, 'denise': 951, 'passport': 2501, 'vaughan': 3818, 'paradise': 2486, 'eviction': 1367, 'edward': 1242, 'skate': 3205, 'strictly': 3480, 'dancing': 873, 'holmes': 1781, 'moment': 2296, 'sprinter': 3373, 'kelly': 2005, 'olympic': 2426, 'veteran': 3841, 'fletcher': 1501, 'vies': 3854, 'prestigious': 2651, 'unrealistic': 3789, 'view': 3855, 'real': 2789, 'expert': 1385, 'ethnic': 1354, 'barrier': 298, 'succeeding': 3517, 'suggested': 3531, 'writing': 3996, 'simpson': 3188, 'episode': 1340, 'matt': 2228, 'peel': 2518, 'fill': 1473, 'presenter': 2645, 'slot': 3236, 'anna': 165, 'appeared': 181, 'touch': 3694, 'jungle': 1989, 'triumph': 3734, 'cult': 848, 'urged': 3803, 'freedom': 1549, 'greer': 1665, 'quitting': 2750, 'reality': 2790, 'allegation': 121, 'sexual': 3117, 'copycat': 797, 'drew': 1158, 'duran': 1189, 'appear': 179, 'vh1': 3842, 'rat': 2775, 'stunt': 3500, 'disgusted': 1067, 'watching': 3918, 'eat': 1220, 'muslim': 2344, 'aired': 102, 'islam': 1920, 'culture': 850, 'lucas': 2162, 'angolan': 159, 'attempting': 235, 'separated': 3089, 'hugely': 1808, 'popular': 2605, 'volcano': 3880, 'docu': 1101, 'volcanic': 3879, 'park': 2489, 'highlight': 1761, 'reward': 2920, 'dubbed': 1177, 'surf': 3564, 'title': 3677, 'promoting': 2691, 'satellite': 3010, 'clark': 639, 'suffers': 3529, 'dick': 1011, 'bet': 345, 'leak': 2068, 'stopped': 3458, 'sensitive': 3085, 'carson': 555, 'town': 3701, 'ferguson': 1455, 'sheila': 3138, 'farrell': 1432, 'colin': 692, 'joy': 1977, 'division': 1095, 'ian': 1822, 'booked': 406, 'ill': 1830, 'replace': 2867, 'succeeded': 3516, 'diverse': 1088, 'bash': 300, 'scored': 3036, 'jailhouse': 1940, 'shooting': 3150, 'teenage': 3627, 'birmingham': 362, 'announcing': 169, 'hat': 1727, 'trick': 3725, 'score': 3035, 'dour': 1136, 'vanished': 3815, 'disappearance': 1043, 'wilson': 3952, 'backing': 275, 'established': 1351, 'discovered': 1054, 'swearing': 3587, 'gay': 1599, 'spear': 3327, 'britney': 470, 'homophobic': 1782, 'sensation': 3083, 'joss': 1974, 'devon': 1007, 'event': 1364, 'girlfriend': 1618, 'mar': 2202, 'broke': 476, 'promise': 2687, 'care': 546, 'urban': 3801, 'robbie': 2943, 'williams': 3950, 'angel': 154, 'ana': 145, 'collected': 696, 'sioux': 3196, 'today': 3679, 'dream': 1155, 'secure': 3064, 'museum': 2340, 'dedicated': 908, 'jimi': 1958, 'courtney': 814, 'love': 2155, 'spared': 3320, 'assault': 217, 'serve': 3101, 'kanye': 1995, 'shrewd': 3166, 'grammys': 1652, 'producing': 2675, 'christina': 625, 'desire': 980, 'vertigo': 3840, 'influence': 1869, 'posthumous': 2619, 'generation': 1604, 'course': 812, 'abba': 11, 'original': 2453, 'quartet': 2741, 'mamma': 2190, 'mia': 2260, 'downloading': 1143, 'scotland': 3038, 'sabbath': 2991, 'guitar': 1688, 'zombie': 4012, 'respond': 2891, 'blockbuster': 381, 'olivier': 2425, 'coming': 709, 'austrian': 250, 'downloaded': 1142, 'awaiting': 264, 'sheriff': 3141, 'tricked': 3726, 'letting': 2097, 'crew': 827, 'spinning': 3347, 'urge': 3802, 'nelly': 2368, 'boycott': 427, 'prevent': 2653, 'vile': 3858, 'cent': 575, 'protege': 2706, 'prodigy': 2672, 'headline': 1732, 'showbiz': 3160, 'solo': 3290, 'individual': 1862, 'wanted': 3903, 'community': 722, 'visa': 3865, 'hall': 1702, 'schedule': 3026, 'elliot': 1267, 'preview': 2654, 'arrest': 202, 'san': 3005, 'francisco': 1543, 'spokesman': 3354, 'lord': 2147, 'abandoned': 10, 'suitable': 3538, 'julie': 1983, 'andrew': 150, 'bassist': 302, 'exit': 1376, 'gary': 1593, 'stan': 3402, 'multi': 2330, 'fry': 1562, 'hitchhiker': 1772, 'stephen': 3433, 'guide': 1683, 'warrior': 3913, 'hunt': 1816, 'destination': 986, 'depp': 965, 'fantasy': 1428, 'sum': 3541, 'scott': 3039, 'responsible': 2894, 'slice': 3223, 'bangkok': 285, 'determined': 996, 'carry': 554, 'patsy': 2508, 'inside': 1882, 'corbett': 799, 'dumbed': 1181, 'joined': 1966, 'victoria': 3849, 'wood': 3978, 'jason': 1950, 'attacking': 232, 'declining': 907, 'diary': 1010, 'developing': 1003, 'breath': 450, 'discover': 1053, 'showered': 3161, 'humble': 1812, 'hoffman': 1776, 'dustin': 1190, 'quality': 2736, 'acting': 38, 'finding': 1481, 'relationship': 2841, 'equally': 1342, 'tim': 3674, 'born': 416, 'playing': 2577, 'supporting': 3560, 'florida': 1506, 'patti': 2509, 'isle': 1923, 'wight': 3946, 'fuller': 1567, 'supremo': 3562, 'manager': 2193, 'pixy': 2562, 'reading': 2787, 'leeds': 2080, 'moreno': 2308, 'rare': 2774, 'breakthrough': 449, 'safer': 2995, 'contentious': 776, 'kidman': 2016, 'photographer': 2548, 'nicole': 2381, 'sydney': 3595, 'submission': 3506, 'douglas': 1135, 'diamond': 1009, 'hill': 1764, 'reef': 2815, 'composer': 736, 'bach': 271, 'tabloid': 3598, 'attacked': 231, 'questioning': 2745, 'honesty': 1784, 'casino': 559, 'royale': 2973, 'goldeneye': 1638, 'celebrates': 569, 'deport': 963, 'deportation': 964, 'norway': 2396, 'earning': 1206, 'earn': 1203, 'counterpart': 809, 'clutch': 677, 'roundabout': 2968, 'nostalgia': 2398, 'magic': 2178, 'shared': 3127, 'owen': 2466, 'empty': 1293, 'handed': 1709, 'celebrating': 570, 'bit': 365, 'elizabeth': 1266, 'enormous': 1319, 'sure': 3563, 'swansea': 3584, 'wale': 3898, 'shark': 3131, 'seller': 3075, 'appearance': 180, 'feature': 1443, 'exorcist': 1377, 'lack': 2036, 'pirated': 2558, 'prison': 2662, 'wild': 3947, 'viewing': 3857, 'sick': 3170, 'arnold': 201, 'dominates': 1115, 'congratulated': 759, 'council': 807, 'directing': 1032, 'team': 3621, 'absolute': 18, 'abuse': 19, 'braced': 428, 'halloween': 1703, 'debra': 896, 'franchise': 1541, 'boogeyman': 404, 'door': 1125, 'clip': 663, 'university': 3787, 'letter': 2096, 'hobbit': 1775, 'buffy': 487, 'wonder': 3975, 'slayer': 3220, 'signing': 3180, 'maternity': 2227, 'hewitt': 1755, 'cabinet': 511, 'telling': 3637, 'extend': 1397, 'manifesto': 2196, 'autumn': 255, 'conference': 748, 'blackpool': 370, 'suggestion': 3533, 'giveaway': 1619, 'error': 1348, 'doomed': 1124, 'dome': 1111, 'tory': 3691, 'qualm': 2737, 'reveal': 2912, 'sexist': 3116, 'taunt': 3617, 'endure': 1303, 'shocking': 3145, 'silly': 3184, 'crucial': 840, 'parliament': 2492, 'sandra': 3006, 'conservative': 763, 'rebuts': 2796, 'asylum': 225, 'immigrant': 1835, 'terror': 3644, 'eased': 1212, 'passage': 2497, 'jack': 1934, 'straw': 3472, 'skill': 3207, 'shortage': 3155, 'committee': 717, 'camp': 524, 'remark': 2856, 'diversion': 1089, 'statement': 3416, 'drunk': 1173, 'diverted': 1091, 'diploma': 1028, 'ditch': 1087, 'bullish': 492, 'disgraceful': 1064, 'waste': 3915, 'scheme': 3027, 'slum': 3245, 'kenya': 2008, 'shantytown': 3123, 'immigration': 1836, 'monitor': 2301, 'butler': 505, 'civil': 634, 'lib': 2102, 'dems': 946, 'inquiry': 1880, 'question': 2743, 'embassy': 1274, 'truant': 3740, 'crackdown': 818, 'persistent': 2531, 'education': 1240, 'ruth': 2988, 'demo': 940, 'pro': 2667, 'supporter': 3559, 'spring': 3369, 'protester': 2708, 'airport': 105, 'expansion': 1381, 'kennedy': 2007, 'politics': 2598, 'profile': 2680, 'border': 414, 'rail': 2759, 'reopened': 2865, 'welsh': 3933, 'assembly': 218, 'idea': 1825, 'dictatorship': 1012, 'wrong': 3998, 'detainee': 993, 'detaining': 994, 'terrorist': 3645, 'suspect': 3575, 'human': 1810, 'substantial': 3512, 'policing': 2594, 'warn': 3908, 'afford': 64, 'older': 2423, 'granted': 1656, 'questioned': 2744, 'sheffield': 3136, 'angler': 157, 'prosecuted': 2699, 'clarke': 640, 'vowed': 3889, 'scot': 3037, 'smoke': 3260, 'mcconnell': 2233, 'insisted': 1884, 'divorced': 1096, 'disadvantaged': 1040, 'academic': 20, 'spy': 3378, 'hunger': 1814, 'spying': 3379, 'seventh': 3111, 'downing': 1139, 'stamp': 3401, 'duty': 1192, 'liberal': 2103, 'democrat': 942, 'threshold': 3665, 'discipline': 1050, 'citizenship': 632, 'touted': 3700, 'appointed': 187, 'embargo': 1271, 'donation': 1120, 'cardinal': 545, 'east': 1215, 'reduce': 2813, 'murphy': 2338, 'connor': 762, 'ballot': 282, 'referendum': 2818, 'voting': 3886, 'debated': 894, 'representative': 2875, 'protect': 2703, 'bringing': 464, 'prosperity': 2702, 'guantanamo': 1680, 'freed': 1548, 'bay': 311, 'common': 719, 'hunting': 1817, 'disorderly': 1074, 'contact': 773, 'electronically': 1260, 'tagged': 3602, 'considered': 765, 'falconer': 1416, 'outlined': 2458, 'couple': 811, 'resolve': 2888, 'separation': 3090, 'intervention': 1896, 'euthanasia': 1361, 'avert': 257, 'averting': 258, 'expressed': 1396, 'keeping': 2004, 'processing': 2670, 'application': 185, 'concession': 744, 'statute': 3420, 'peer': 2519, 'bnp': 390, 'nick': 2380, 'griffin': 1669, 'boris': 415, 'opposes': 2442, 'mayor': 2232, 'ken': 2006, 'stick': 3443, 'jewish': 1956, 'deliver': 931, 'register': 2831, 'adult': 56, 'literacy': 2129, 'propaganda': 2695, 'exercise': 1373, 'sense': 3084, 'ambition': 138, 'stand': 3403, 'leadership': 2063, 'prove': 2711, 'useless': 3806, 'quango': 2738, 'duplicate': 1187, 'cell': 572, 'racist': 2754, 'refugee': 2821, 'telephoning': 3635, 'marketing': 2212, 'voucher': 3887, 'strategy': 3471, 'wake': 3896, 'dem': 935, 'rift': 2928, 'elected': 1255, 'sentenced': 3087, 'deny': 954, 'personal': 2533, 'elderly': 1253, 'stress': 3479, 'goal': 1631, 'reasonable': 2792, 'minimum': 2277, 'guaranteed': 1681, 'allowance': 127, 'mood': 2305, 'married': 2215, 'form': 1526, 'embracing': 1278, 'opportunity': 2441, 'veritas': 3835, 'chat': 601, 'mep': 2248, 'silk': 3183, 'damaged': 867, 'daughter': 880, 'learning': 2072, 'concerned': 741, 'resident': 2884, 'saved': 3015, 'speaker': 3325, 'betty': 347, 'reforming': 2820, 'upper': 3799, 'distinguished': 1083, 'conducted': 746, 'wearing': 3923, 'fancy': 1426, 'dress': 1156, 'waiting': 3895, 'migrant': 2268, 'wanting': 3904, 'undergo': 3776, 'test': 3646, 'blackberry': 368, 'learn': 2070, 'candidate': 533, 'eurosceptic': 1359, 'criminally': 830, 'insane': 1881, 'denial': 948, 'urging': 3804, 'presidency': 2646, 'shrug': 3167, 'package': 2474, 'troop': 3736, 'ivory': 1933, 'coast': 683, 'standby': 3405, 'exploded': 1389, 'vega': 3821, 'jibe': 1957, 'gambling': 1582, 'activity': 40, 'condemned': 745, 'defiant': 922, 'basis': 301, 'kashmir': 1997, 'dividing': 1094, 'shadow': 3118, 'stolen': 3454, 'resigns': 2887, 'independence': 1854, 'dumpsite': 1182, 'permanently': 2529, 'stored': 3462, 'broken': 477, 'pledge': 2582, 'ink': 1877, 'dried': 1159, 'operating': 2436, 'diplomatic': 1029, 'galloway': 1581, 'margaret': 2207, 'custody': 856, 'defends': 920, 'banning': 292, 'enforceable': 1306, 'retract': 2906, 'pakistani': 2480, 'veil': 3823, 'servant': 3100, 'slurry': 3248, 'platform': 2572, 'fundamental': 1572, 'neil': 2367, 'seat': 3056, 'democratic': 943, 'pub': 2716, 'closure': 670, 'spoken': 3353, 'publisher': 2719, 'reduced': 2814, 'automatically': 254, 'define': 924, 'english': 1311, 'training': 3711, 'faith': 1414, 'cohesion': 689, 'democracy': 941, 'slopping': 3235, 'inmate': 1878, 'slop': 3234, 'rallying': 2764, 'cry': 844, 'gypsy': 1694, 'site': 3200, 'concerning': 742, 'encampment': 1297, 'plaid': 2564, 'arson': 207, 'belief': 331, 'nicholas': 2379, 'advice': 60, 'legality': 2083, 'mosque': 2314, 'leaflet': 2066, 'opposing': 2443, 'snooker': 3269, 'coalition': 682, 'confusion': 757, 'cherie': 609, 'address': 47, 'divert': 1090, 'pressing': 2649, 'indicated': 1858, 'drinking': 1163, 'responsibility': 2893, 'clearer': 650, 'wade': 3892, 'foot': 1516, 'mouth': 2320, 'tutu': 3759, 'desmond': 982, 'swept': 3591, 'described': 973, 'abbas': 12, 'tolerate': 3682, 'suicide': 3535, 'tel': 3630, 'clashed': 642, 'sham': 3120, 'naive': 2351, 'tap': 3610, 'mock': 2290, 'dismisses': 1072, 'soccer': 3278, 'match': 2225, 'point': 2589, 'detention': 995, 'breached': 444, 'blitz': 379, 'abolish': 15, 'rebellion': 2794, 'pig': 2553, 'poster': 2618, 'semitic': 3078, 'semitism': 3079, 'depicting': 961, 'guideline': 1685, 'householder': 1802, 'providing': 2713, 'disrepute': 1080, 'prepared': 2641, 'bobby': 393, 'cunningham': 851, 'wage': 3893, 'regiment': 2828, 'federation': 1448, 'betting': 346, 'learned': 2071, 'shredding': 3164, 'increasing': 1851, 'drastically': 1152, 'document': 1102, 'compiled': 730, 'fishing': 1492, 'vital': 3871, 'army': 200, 'teenager': 3628, 'deprived': 966, 'temple': 3638, 'speaking': 3326, 'rivalry': 2939, 'overshadow': 2465, 'desperately': 984, 'stuff': 3497, 'backbencher': 272, 'angrily': 160, 'squabbling': 3382, 'stiffen': 3445, 'spine': 3346, 'finally': 1476, 'heated': 1740, 'squabble': 3381, 'snowball': 3272, 'looked': 2145, 'kicked': 2015, 'governing': 1646, 'pursue': 2729, 'defection': 914, 'defector': 915, 'attempted': 234, 'describe': 972, 'effective': 1244, 'person': 2532, 'driving': 1167, 'positive': 2614, 'donor': 1122, 'wait': 3894, 'divide': 1092, 'shameful': 3121, 'cautious': 567, 'grand': 1653, 'empire': 1287, 'joke': 1968, 'mass': 2223, 'truth': 3745, 'roger': 2956, 'longest': 2144, 'serving': 3104, 'archer': 194, 'disgraced': 1063, 'rejoin': 2839, 'trusted': 3744, 'heath': 1741, 'outspent': 2460, 'fold': 1513, 'defected': 913, 'stalking': 3397, 'meyer': 2259, 'interested': 1893, 'opinion': 2439, 'keen': 2001, 'stalemate': 3396, 'white': 3940, 'prof': 2678, 'detailed': 990, 'chest': 610, 'predicts': 2635, 'turnout': 3758, 'unseat': 3791, 'goldsmith': 1639, 'attorney': 239, 'leant': 2069, 'defeat': 912, 'image': 1833, 'depict': 960, 'sly': 3249, 'core': 800, 'hungry': 1815, 'doe': 1104, 'vulnerable': 3890, 'afforded': 66, 'aggressively': 77, 'affordable': 65, 'publicly': 2718, 'planet': 2567, 'elect': 1254, 'sailing': 2999, 'donned': 1121, 'dinghy': 1025, 'analysis': 146, 'handling': 1713, 'rebate': 2793, 'bring': 463, 'smiling': 3258, 'ninth': 2387, 'gmt': 1630, 'insist': 1883, 'testing': 3647, 'didn': 1014, 'unfair': 3780, 'epidemic': 1339, 'vaccine': 3810, 'robinson': 2947, 'baa': 269, 'reiterated': 2836, 'discriminated': 1056, 'rom': 2961, 'entry': 1333, 'pitch': 2560, 'observer': 2409, 'unjustified': 3788, 'jacques': 1936, 'direction': 1033, 'answer': 171, 'explain': 1387, 'printed': 2660, 'socially': 3280, 'suspected': 3576, 'disabled': 1039, 'graphic': 1657, 'colonial': 702, 'room': 2965, 'hint': 1765, 'clue': 674, 'sacked': 2993, 'easter': 1216, 'editor': 1238, 'don': 1117, 'creative': 823, 'destruction': 988, 'elude': 1269, 'console': 768, 'mongrel': 2300, 'hain': 1699, 'rattled': 2778, 'delegate': 929, 'jonathan': 1970, 'brighton': 462, 'smart': 3252, 'description': 975, 'vicar': 3844, 'stepson': 3436, 'standing': 3406, 'lot': 2154, 'smarter': 3253, 'slogan': 3233, 'medal': 2237, 'confident': 750, 'indoor': 1865, 'championship': 586, 'sullivan': 3540, 'sonia': 3296, 'cross': 836, 'greene': 1663, 'sight': 3176, 'maurice': 2231, 'athens': 226, 'athletics': 228, 'doping': 1126, 'coach': 679, 'athlete': 227, 'pole': 2592, 'vaulter': 3820, 'clearing': 651, 'hansen': 1717, 'jumper': 1987, 'knee': 2022, 'gardener': 1590, 'upset': 3800, 'stomach': 3455, 'collins': 698, 'kim': 2019, 'norwich': 2397, 'prix': 2665, 'paula': 2511, 'outdoor': 2456, 'holder': 1778, 'phillips': 2544, 'marathon': 2203, 'runner': 2981, 'susan': 3574, 'spar': 3318, 'squad': 3383, 'verdict': 3833, 'greek': 1661, 'soil': 3285, 'hearing': 1736, 'tribunal': 3723, 'fit': 1493, 'michelle': 2262, 'arbitration': 193, 'sprint': 3372, 'deciding': 903, 'sprinting': 3374, 'vault': 3819, 'walker': 3900, 'dougie': 1134, 'fitness': 1494, 'olympics': 2427, 'plenty': 2584, 'jones': 1971, 'doubter': 1133, 'wada': 3891, 'stripped': 3484, 'substance': 3511, 'task': 3615, 'hayes': 1728, 'usa': 3805, 'enjoys': 1318, 'dave': 881, 'steroid': 3438, 'lab': 2033, 'victor': 3848, 'conte': 774, 'distribution': 1085, 'defamation': 911, 'enhancing': 1314, 'hamstring': 1707, 'impressed': 1840, 'carolina': 552, 'spoke': 3352, 'fought': 1533, 'aaa': 9, 'edge': 1232, 'jade': 1937, 'edged': 1233, 'competing': 727, 'streak': 3473, 'endured': 1304, 'emotion': 1284, 'stunning': 3499, 'francis': 1542, 'select': 3071, 'confirming': 753, 'achievement': 34, 'focused': 1511, 'fully': 1568, 'ambassador': 137, 'uncertain': 3774, 'enjoyed': 1316, 'relay': 2843, 'yelling': 4004, 'cardiff': 544, 'hayley': 1729, 'afternoon': 71, 'kathy': 1999, 'impressive': 1841, 'venta': 3828, 'acquittal': 37, 'disappointed': 1045, 'allan': 120, 'selected': 3072, 'eager': 1198, 'laboratory': 2035, 'christie': 624, 'preparation': 2639, 'stroll': 3486, 'cup': 852, 'wayne': 3921, 'everton': 1365, 'striker': 3482, 'achilles': 35, 'round': 2967, 'moyes': 2326, 'dismissal': 1070, 'chelsea': 608, 'defender': 918, 'gallas': 1579, 'ronaldo': 2964, 'winger': 3960, 'walter': 3902, 'ahmed': 89, 'scrappy': 3043, 'gerrard': 1611, 'steven': 3440, 'liverpool': 2131, 'duff': 1180, 'barcelona': 295, 'clinch': 660, 'bolton': 397, 'dyer': 1196, 'unbeaten': 3772, 'charlton': 597, 'danny': 876, 'graham': 1650, 'battling': 310, 'dundee': 1184, 'aberdeen': 13, 'semi': 3077, 'emphatic': 1286, 'clyde': 678, 'celtic': 573, 'livingston': 2134, 'robben': 2942, 'bridge': 460, 'rest': 2895, 'parry': 2493, 'listen': 2127, 'wright': 3992, 'shaun': 3135, 'sidelined': 3173, 'bone': 402, 'giggs': 1615, 'ryan': 2989, 'captain': 540, 'hungary': 1813, 'sociedad': 3281, 'ranger': 2766, 'midfielder': 2266, 'window': 3956, 'relish': 2851, 'anfield': 153, 'rick': 2926, 'replay': 2870, 'southampton': 3307, 'defensive': 921, 'tottenham': 3693, 'premier': 2636, 'cole': 691, 'earns': 1208, 'reprieve': 2876, 'sack': 2992, 'eddie': 1231, 'thompson': 3660, 'drag': 1148, 'weir': 3931, 'turning': 3757, 'ejection': 1250, 'steve': 3439, 'finish': 1485, 'kerr': 2010, 'goalkeeper': 1632, 'uefa': 3764, 'bayern': 312, 'munich': 2334, 'incident': 1845, 'bellamy': 333, 'craig': 819, 'magpie': 2179, 'heroic': 1754, 'brave': 439, 'keeper': 2003, 'assistant': 220, 'benitez': 338, 'rafael': 2757, 'happy': 1719, 'wenger': 3935, 'arsene': 206, 'delight': 930, 'stewart': 3442, 'seriously': 3099, 'nacho': 2348, 'novo': 2404, 'referee': 2816, 'mask': 2222, 'eric': 1346, 'jol': 1969, 'acclaimed': 28, 'nottingham': 2400, 'forest': 1525, 'milan': 2270, 'easier': 1213, 'absence': 17, 'chester': 611, 'severance': 3112, 'reyes': 2921, 'jose': 1973, 'linking': 2121, 'lining': 2118, 'stam': 3400, 'spice': 3341, 'encounter': 1298, 'mourinho': 2318, 'blackburn': 369, 'insists': 1885, 'elite': 1265, 'ranieri': 2768, 'valencia': 3812, 'lengthy': 2091, 'villa': 3859, 'penalty': 2520, 'ajax': 107, 'unclear': 3775, 'carling': 548, 'injured': 1875, 'adriano': 55, 'decides': 902, 'punish': 2725, 'racism': 2753, 'luis': 2164, 'henry': 1751, 'boro': 417, 'robson': 2950, 'preston': 2652, 'fowler': 1537, 'robin': 2946, 'revenge': 2915, 'marcel': 2204, 'repeating': 2866, 'difficult': 1019, 'candela': 531, 'stuart': 3492, 'discussing': 1059, 'lid': 2107, 'sol': 3286, 'gunner': 1692, 'seed': 3068, 'embarrassing': 1273, 'andy': 151, 'dawson': 886, 'redknapp': 2812, 'saint': 3000, 'pompey': 2600, 'portsmouth': 2611, 'thomas': 3659, 'alive': 119, 'departing': 955, 'describes': 974, 'mutu': 2346, 'adrian': 54, 'served': 3102, 'spur': 3375, 'reason': 2791, 'juventus': 1994, 'fake': 1415, 'anelka': 152, 'hart': 1726, 'lane': 2040, 'perfect': 2523, 'succeed': 3515, 'stalling': 3399, 'surgery': 3569, 'mansfield': 2197, 'successive': 3521, 'zambia': 4010, 'frustrated': 1561, 'fulham': 1565, 'oak': 2407, 'brand': 435, 'bristol': 466, 'hereford': 1753, 'wolf': 3972, 'appoint': 186, 'glenn': 1624, 'qualification': 2735, 'leary': 2073, 'millwall': 2275, 'revel': 2914, 'knockout': 2026, 'beckham': 319, 'exeter': 1374, 'edging': 1234, 'lure': 2166, 'pearce': 2517, 'scare': 3024, 'gripping': 1671, 'commit': 715, 'bates': 305, 'rue': 2975, 'ruing': 2977, 'initiated': 1872, 'disciplinary': 1049, 'iceland': 1824, 'accepts': 25, 'disastrous': 1048, 'fernando': 1456, 'robertson': 2945, 'sink': 3194, 'bramble': 434, 'strachan': 3467, 'fifa': 1467, 'slam': 3214, 'savage': 3013, 'brady': 431, 'derisory': 970, 'bottom': 421, 'clearly': 652, 'shoulder': 3159, 'prop': 2694, 'scrum': 3047, 'bernard': 341, 'disallowed': 1042, 'fuming': 1569, 'livid': 2132, 'gara': 1589, 'gareth': 1591, 'elated': 1252, 'wasp': 3914, 'light': 2114, 'neath': 2364, 'osprey': 2455, 'duncan': 1183, 'quick': 2746, 'stutter': 3501, 'guided': 1684, 'workmanlike': 3983, 'gavin': 1598, 'sonny': 3297, 'flanker': 1498, 'serge': 3095, 'clumsy': 675, 'lock': 2139, 'dwayne': 1194, 'lion': 2123, 'glittering': 1625, 'zealand': 4011, 'secured': 3065, 'opener': 2432, 'switched': 3594, 'coaching': 680, 'disgrace': 1062, 'sat': 3009, 'stade': 3390, 'brennan': 453, 'sella': 3074, 'umaga': 3770, 'tama': 3608, 'fearsome': 1442, 'opponent': 2440, 'whingeing': 3938, 'wing': 3959, 'hemisphere': 1750, 'rugby': 2976, 'stevens': 3441, 'skipper': 3210, 'marco': 2206, 'dominating': 1116, 'moody': 2306, 'wilkinson': 3948, 'jonny': 1972, 'captaincy': 541, 'replacing': 2869, 'straightforward': 3469, 'spoon': 3357, 'hots': 1798, 'dal': 864, 'dry': 1174, 'essential': 1350, 'andre': 148, 'destroying': 987, 'announces': 168, 'eagle': 1199, 'remember': 2858, 'subliminal': 3505, 'sweep': 3590, 'separate': 3088, 'lawrence': 2057, 'emotional': 1285, 'uncapped': 3773, 'ulster': 3767, 'dubai': 1176, 'barbarian': 294, 'easy': 1218, 'clung': 676, 'consultant': 771, 'awaited': 263, 'springboard': 3370, 'entire': 1330, 'silent': 3181, 'thinking': 3657, 'wigan': 3945, 'tiger': 3672, 'saga': 2997, 'lindsay': 2116, 'solution': 3291, 'eclipse': 1225, 'stirring': 3449, 'taylor': 3620, 'staying': 3422, 'eighth': 1249, 'overcomes': 2462, 'fighting': 1469, 'greg': 1667, 'tennis': 3641, 'unseeded': 3792, 'juan': 1979, 'roddick': 2954, 'sap': 3008, 'federer': 1449, 'ivan': 1932, 'donald': 1118, 'comprehensive': 737, 'dig': 1021, 'squeezing': 3385, 'nadal': 2349, 'mexico': 2258, 'serena': 3094, 'davenport': 882, 'wimbledon': 3953, 'dogged': 1107, 'slumped': 3247, 'sania': 3007, 'remarkable': 2857, 'venus': 3831, 'stunned': 3498, 'elia': 1263, 'martinez': 2219, 'spaniard': 3316, 'doha': 1108, 'unexpected': 3779, 'volvo': 3882, 'hardcourt': 1721, 'adelaide': 48, 'angry': 161, 'dismantles': 1069, 'void': 3877, 'defend': 916, 'corium': 801, 'auckland': 240, 'elena': 1262, 'sideline': 3172, 'groin': 1672, 'breeze': 452, 'supplement': 3554, 'lawn': 2056, 'exhibition': 1375, 'rubber': 2974, 'melbourne': 2243, 'lady': 2037, 'withdraw': 3967, 'twin': 3762, 'sportsman': 3360, 'sharapova': 3125, 'aussie': 247, 'wrist': 3993, 'edgy': 1235, 'gilbert': 1616, 'stefan': 3429, 'staged': 3394, 'newly': 2376, 'roche': 2951, 'dominate': 1113, 'sidestep': 3174, 'canberra': 529, 'serbia': 3093, 'soviet': 3310, 'cafe': 514, 'microsoft': 2263, 'spyware': 3380, 'trojan': 3735, 'guru': 1693, 'float': 1503, 'mit': 2285, 'laptop': 2044, 'bug': 488, 'tech': 3623, 'peru': 2535, 'wireless': 3966, 'bumper': 493, 'flaw': 1500, 'virus': 3864, 'pose': 2612, 'disguising': 1066, 'electronic': 1259, 'gadget': 1577, 'powerbook': 2627, 'tool': 3687, 'directs': 1037, 'ibm': 1823, 'linux': 2122, 'push': 2730, 'beefing': 320, 'commitment': 716, 'patent': 2503, 'patented': 2504, 'xbox': 4000, 'cable': 512, 'blog': 383, 'playstation': 2578, 'chip': 617, 'sony': 3298, 'intel': 1890, 'laser': 2048, 'browser': 482, 'explorer': 1392, 'microsystems': 2264, 'requiring': 2880, 'computing': 739, 'rent': 2862, 'voice': 3875, 'audition': 244, 'psp': 2715, 'gamers': 1586, 'portable': 2608, 'junk': 1990, 'deluge': 934, 'spam': 3314, 'scam': 3021, 'collect': 695, 'behalf': 324, 'source': 3305, 'movement': 2323, 'govern': 1644, 'phishing': 2545, 'turbo': 3753, 'surfing': 3566, 'exciting': 1371, 'narrowing': 2355, 'alerting': 113, 'aiding': 93, 'cartridge': 556, 'printer': 2661, 'secretly': 3062, 'programmed': 2683, 'expire': 1386, 'bureau': 495, 'spread': 3366, 'purport': 2728, 'device': 1005, 'hotspot': 1799, 'strengthened': 3477, 'harder': 1722, 'devised': 1006, 'liberty': 2104, 'frontier': 1558, 'foundation': 1534, 'eff': 1243, 'gizmo': 1620, 'mp3': 2327, 'equivalent': 1345, 'owns': 2470, 'request': 2878, 'domain': 1110, 'alphabet': 133, 'cyrillic': 861, 'scammer': 3022, 'processor': 2671, 'silicon': 3182, 'blind': 377, 'hears': 1737, 'read': 2785, 'map': 2200, 'codenamed': 688, 'xenon': 4001, 'relentless': 2847, 'putting': 2732, 'astonishing': 224, 'slew': 3222, 'emulate': 1294, 'shooter': 3149, 'multimedia': 2331, 'rfid': 2923, 'tag': 3601, 'frequency': 1552, 'log': 2140, 'handle': 1712, 'content': 775, 'journal': 1975, 'enjoying': 1317, 'boom': 409, 'gartner': 1592, 'yahoo': 4002, 'kenyan': 2009, 'handhelds': 1711, 'click': 654, 'handheld': 1710, 'stylus': 3503, 'ringtone': 2931, 'flout': 1507, 'ringtones': 2932, 'mac': 2171, 'macintosh': 2173, 'dependent': 959, 'recorder': 2805, 'classroom': 645, 'lover': 2156, 'disposing': 1077, 'population': 2606, 'conviction': 791, 'malicious': 2189, 'catch': 563, 'subtle': 3513, 'hooked': 1786, 'keystroke': 2013, 'legally': 2084, 'binding': 359, 'savvy': 3017, 'searcher': 3053, 'odd': 2412, 'mix': 2287, 'sophisticated': 3299, 'habit': 1695, 'restricting': 2897, 'nintendo': 2386, 'space': 3311, 'vocal': 3873, 'accessible': 27, 'dial': 1008, 'napster': 2353, 'downloadable': 1141, 'supreme': 3561, 'geek': 1601, 'fun': 1570, 'definition': 925, 'maturing': 2230, 'skip': 3209, 'clicking': 655, 'hefty': 1744, 'aftermath': 70, 'rack': 2755, 'surfer': 3565, 'deserve': 976, 'enhance': 1312, 'panda': 2483, 'dwindling': 1195, 'desktop': 981, 'fixed': 1495, 'endangered': 1301, 'specie': 3329, 'diy': 1098, 'ware': 3906, 'innovation': 1879, 'audio': 243, 'spreading': 3367, 'machine': 2172, 'blocking': 382, 'loyalty': 2160, 'battlefront': 309, 'warm': 3907, 'doom': 1123, 'sci': 3029, 'blasted': 375, 'joystick': 1978, 'herald': 1752, 'commodore': 718, 'lease': 2074, 'resurrected': 2899, 'slimmer': 3228, 'seaman': 3051, 'sail': 2998, 'biometric': 360, 'cruise': 842, 'liner': 2117, 'crystal': 845, 'harmony': 1724, 'gulf': 1690, 'unsolicited': 3793, 'aol': 176, 'subscriber': 3507, 'fired': 1488, 'inappropriate': 1844, 'gate': 1595, 'technological': 3625, 'firefox': 1489, 'halo': 1704, 'supercomputing': 3551, 'prototype': 2710, 'gene': 1602, 'messaging': 2254, 'virtual': 3863, 'reaching': 2783, 'appears': 182, 'blogging': 385, 'encouraging': 1300, 'dictionary': 1013, 'explode': 1388, 'range': 2765, 'playback': 2574, 'hype': 1820, 'safe': 2994, 'blu': 387, 'format': 1527, 'backer': 274, 'swappers': 3586, 'gathered': 1597, 'argues': 198, 'brainwave': 433, 'brain': 432, 'lifestyle': 2111, 'design': 977, 'metal': 2256, 'slug': 3243, 'retro': 2908, 'drill': 1160, 'sergeant': 3096, 'molly': 2295, 'coddled': 685, 'slick': 3224, 'visuals': 3870, 'trimming': 3730, 'casual': 562, 'supercomputer': 3550, 'nokia': 2390, 'rogue': 2957, 'screensaver': 3045, 'explosion': 1393, 'smartphones': 3255, 'skull': 3211, 'solve': 3292, 'library': 2105, 'alongside': 132, 'smash': 3256, 'disk': 1068, 'forehead': 1523, 'governs': 1648, 'funkier': 1575, 'hardware': 1723, 'handset': 1714, 'spammer': 3315, 'cyber': 860, 'persia': 2530, 'digitally': 1023, 'spell': 3336, 'mapping': 2201, 'darfur': 877, 'tempt': 3639, 'ignore': 1829, 'lured': 2167, 'carly': 550, 'robotic': 2949, 'breed': 451, 'envelop': 1334, 'driver': 1166, 'ensuring': 1322, 'simple': 3186, 'strange': 3470, 'slinkier': 3230, 'shopping': 3153, 'sharpness': 3134, 'developer': 1002, 'stir': 3448, 'shoot': 3148, 'humanoid': 1811, 'gamer': 1585, 'deaf': 890, 'communicate': 720, 'videophones': 3852, 'gameboy': 1584, 'blip': 378, 'poland': 2591, 'worm': 3985, 'sharer': 3129, 'billed': 356, 'steam': 3424, 'rented': 2864, 'costly': 806, 'hacker': 1696, 'tetri': 3648, 'texas': 3649, 'embark': 1272, 'souped': 3304, 'demon': 944, 'speak': 3324, 'educational': 1241, 'confuse': 756, 'samsung': 3004, 'pirating': 2559, 'p2p': 2472, 'exploited': 1390, 'panel': 2484, 'dot': 1128, 'alter': 134, 'enables': 1295, 'enhancement': 1313, 'environmentally': 1337, 'codename': 687, 'dimension': 1024, 'ultra': 3769, 'hanover': 1716, 'sneak': 3267, 'voip': 3878, 'tremor': 3720, 'easily': 1214, 'die': 1015, 'bailey': 280, 'vendor': 3824, 'shelf': 3139, 'embraced': 1277, 'terrestrial': 3643, 'spotted': 3365, 'distribute': 1084, 'directive': 1034, 'enthralling': 1329}\n"
          ]
        }
      ],
      "source": [
        "data_islarge = False\n",
        "if injection:\n",
        "  preprossed_data = new_data\n",
        "  train_label = new_labels\n",
        "else:\n",
        "  preprossed_data = data_preprocessed\n",
        "  train_label = data_preprocessed_labels\n",
        "vectorizer = CountVectorizer(min_df=min_df,max_features=max_features)\n",
        "if len(preprossed_data) > 45000:\n",
        "  data_islarge= True\n",
        "  train_vec = vectorizer.fit_transform(preprossed_data)\n",
        "  vocab = vectorizer.vocabulary_\n",
        "  id_vocab = dict(map(reversed, vocab.items()))\n",
        "  train_label = np.asarray(train_label)\n",
        "else:\n",
        "  train_vec = vectorizer.fit_transform(preprossed_data).toarray()\n",
        "  vocab = vectorizer.vocabulary_\n",
        "  id_vocab = dict(map(reversed, vocab.items()))\n",
        "  nonzeros_indexes = np.where(train_vec.any(1))[0]\n",
        "  train_vec_non_zeros = [train_vec[i] for i in nonzeros_indexes]\n",
        "  preprossed_data_non_zeros = [preprossed_data[i] for i in nonzeros_indexes]\n",
        "  train_label = [train_label[i] for i in nonzeros_indexes]\n",
        "\n",
        "# train_vec = np.asanyarray(train_vec_non_zeros)\n",
        "num_input = train_vec.shape[1]\n",
        "\n",
        "print(train_vec.shape)\n",
        "print(train_label)\n",
        "print(vocab)"
      ]
    },
    {
      "cell_type": "code",
      "source": [
        "np.where(train_vec.sum(0) ==0)"
      ],
      "metadata": {
        "colab": {
          "base_uri": "https://localhost:8080/"
        },
        "id": "sDWaerm9yhXB",
        "outputId": "de861559-3ad0-419c-db8f-5e7cc7ac3c8c"
      },
      "execution_count": null,
      "outputs": [
        {
          "output_type": "execute_result",
          "data": {
            "text/plain": [
              "(array([], dtype=int64),)"
            ]
          },
          "metadata": {},
          "execution_count": 70
        }
      ]
    },
    {
      "cell_type": "code",
      "source": [
        "# tfidfvectorizer = TfidfVectorizer(min_df=min_df,max_features=max_features)\n",
        "# tfidf_vec = tfidfvectorizer.fit_transform(data_preprocessed).toarray()"
      ],
      "metadata": {
        "id": "Jtd9j52wBpko"
      },
      "execution_count": null,
      "outputs": []
    },
    {
      "cell_type": "code",
      "execution_count": null,
      "metadata": {
        "id": "4E9i9OAVjcpf",
        "colab": {
          "base_uri": "https://localhost:8080/"
        },
        "outputId": "07cc5468-ea1e-4126-b4af-5e9f3bd479e2"
      },
      "outputs": [
        {
          "output_type": "stream",
          "name": "stdout",
          "text": [
            "0\n"
          ]
        }
      ],
      "source": [
        "keywords = get_keywords(d_data)\n",
        "\n",
        "# commented for WoS\n",
        "if data_islarge == True:# pass\n",
        "  all_rscores = cosine_similarity_desm_docs_forlarge(keywords,train_vec,vocab,embeddings)\n",
        "else:\n",
        "  all_rscores = cosine_similarity_desm_docs(keywords,train_vec,vocab,embeddings)"
      ]
    },
    {
      "cell_type": "code",
      "execution_count": null,
      "metadata": {
        "cellView": "both",
        "id": "DqC69zvaqjus",
        "colab": {
          "base_uri": "https://localhost:8080/"
        },
        "outputId": "f7e6842a-84a7-4838-c1d3-6f1b75187492"
      },
      "outputs": [
        {
          "output_type": "stream",
          "name": "stdout",
          "text": [
            "GPU mem: 12, Select GPU 0\n"
          ]
        }
      ],
      "source": [
        "device = torch.device(\"cuda:\"+str(auto_select_gpu()) if torch.cuda.is_available() else \"cpu\")\n",
        "if data_islarge: pass\n",
        "else: tensor_train_w = torch.from_numpy(train_vec).float()\n",
        "train_label = np.asarray(train_label)"
      ]
    },
    {
      "cell_type": "code",
      "source": [
        "# @title for individual injection\n",
        "# if injection:\n",
        "  # changed_docs_categories = ['politics','sport']\n",
        "  # docs_idx_dict = {}\n",
        "  # for c in changed_docs_categories:\n",
        "  #   docs_idx = []\n",
        "  #   all_docs = dict_docs[c]\n",
        "  #   for a in all_docs:\n",
        "  #     docs_idx.append(preprossed_data_non_zeros.index(a))\n",
        "  #   docs_idx_dict[c] = docs_idx"
      ],
      "metadata": {
        "id": "_qYz5tRdacpv",
        "cellView": "form"
      },
      "execution_count": null,
      "outputs": []
    },
    {
      "cell_type": "code",
      "source": [
        "if injection:\n",
        "  changed_docs_idx = [preprossed_data_non_zeros.index(a) for a in changed_docs]"
      ],
      "metadata": {
        "id": "JBQLUoskKATQ"
      },
      "execution_count": null,
      "outputs": []
    },
    {
      "cell_type": "markdown",
      "metadata": {
        "id": "_H35cwZwSR2O"
      },
      "source": [
        "# **2. Scores**"
      ]
    },
    {
      "cell_type": "markdown",
      "metadata": {
        "id": "_ElmsnJB1Dzb"
      },
      "source": [
        "## DESM Score"
      ]
    },
    {
      "cell_type": "code",
      "execution_count": null,
      "metadata": {
        "id": "DkvzqQMNXbuK",
        "colab": {
          "base_uri": "https://localhost:8080/"
        },
        "outputId": "11c26984-1b82-4bdb-c206-37390adf1e82"
      },
      "outputs": [
        {
          "output_type": "stream",
          "name": "stdout",
          "text": [
            "Keywords ['star', 'singer']\n",
            "Descending : tensor([ 0.6747,  0.5770,  0.5644,  ..., -0.0032, -0.0058, -0.0090]) \n",
            " indices: tensor([ 769,  685,  741,  ...,  319, 1959,  135])\n",
            "\n",
            "\n",
            " Top 10 Relevant Documents (DESM):\n",
            "\n",
            " ------------------------------------------------------------------------------------------------------------------------\n",
            "1 )  singer christina pop star christina marry music executive jordan singer agent confirmed\n",
            "1 ) entertainment\n",
            "2 )  comeback friend star friend actress lisa play lead role series time sitcom star hollywood reporter\n",
            "2 ) entertainment\n",
            "3 )  lead broadway singer actor harry star broadway revival hit musical pajama game\n",
            "3 ) entertainment\n",
            "4 )  husband plan debut duet singer jennifer lopez husband marc anthony latin pop star perform duet month grammy award los angeles\n",
            "4 ) entertainment\n",
            "5 )  star enter rock hall fame singer bruce inducted irish rock band rock roll hall fame york\n",
            "5 ) entertainment\n",
            "6 )  reef hollywood star actor reef best role matrix movie awarded star prestigious hollywood walk fame\n",
            "6 ) entertainment\n",
            "7 )  star vinci film french actress star hit film play female lead film adaptation vinci code reported\n",
            "7 ) entertainment\n",
            "8 )  star vinci film french actress star hit film play female lead film adaptation vinci code reported\n",
            "8 ) entertainment\n",
            "9 )  turn elvis impersonator top pop turned star elvis musical jailhouse rock late rock legend scooped number single\n",
            "9 ) entertainment\n",
            "10 )  queen recruit singer tour remaining member rock band queen tour year free bad company singer paul rodgers freddie mercury place\n",
            "10 ) entertainment\n"
          ]
        }
      ],
      "source": [
        "top_10_docs=[]\n",
        "sort,indices = torch.sort(all_rscores,descending=True)\n",
        "print('Keywords',keywords)\n",
        "print('Descending :',sort,'\\n','indices:',indices)\n",
        "print('\\n\\n Top 10 Relevant Documents (DESM):\\n\\n',\"---\"*40)\n",
        "\n",
        "for k in range(10):\n",
        "   print(k+1,') ',preprossed_data_non_zeros[indices[k].item()])\n",
        "   print(k+1,')',train_label[indices[k].item()])\n",
        "\n",
        "with open(\"1000.txt\", \"w\") as output:\n",
        "  for k in range(0,1000):\n",
        "    output.write(str(k+1)+') '+str(preprossed_data_non_zeros[indices[k].item()])+'\\n')\n",
        "    output.write(str(k+1)+') '+str(sort[k].item())+'\\n')\n",
        "    output.write(str(k+1)+') '+str(train_label[indices[k].item()])+'\\n')\n",
        "output.close()\n",
        "\n",
        "scaler = MinMaxScaler(feature_range=(0+1e-10, 0.99))\n",
        "normalized_all_rscores = scaler.fit_transform(all_rscores.data.reshape(-1,1))\n",
        "normalized_all_rscores=torch.tensor(normalized_all_rscores.flatten())\n",
        "\n",
        "sorted_docs, sorted_idxs = torch.sort(normalized_all_rscores,descending=True)\n",
        "rounded_normalized_all_rscores = torch.round(normalized_all_rscores*10)/10.0"
      ]
    },
    {
      "cell_type": "code",
      "execution_count": null,
      "metadata": {
        "id": "Ij7bLLIzsSwT"
      },
      "outputs": [],
      "source": [
        "# plt.hist(normalized_all_rscores)"
      ]
    },
    {
      "cell_type": "code",
      "execution_count": null,
      "metadata": {
        "id": "AFKk_TJcMSSB"
      },
      "outputs": [],
      "source": [
        "# plt.hist(rounded_normalized_all_rscores)"
      ]
    },
    {
      "cell_type": "code",
      "execution_count": null,
      "metadata": {
        "id": "l-TD0g4qYddh"
      },
      "outputs": [],
      "source": [
        "from collections import defaultdict\n",
        "\n",
        "contains_key = 0\n",
        "doc_contains__anykey_idx = []\n",
        "for doc in preprossed_data_non_zeros:\n",
        "  for k in keywords:\n",
        "    if k in doc:\n",
        "      contains_key += 1\n",
        "      doc_contains__anykey_idx = np.append(doc_contains__anykey_idx,preprossed_data_non_zeros.index(doc)).astype(int)\n",
        "      break\n",
        "\n",
        "doc_contains_anykey = torch.zeros(train_vec.shape[0])\n",
        "doc_contains_anykey[doc_contains__anykey_idx] = 1.0\n",
        "# doc_contains_anykey = torch.zeros(tensor_train_w.size())\n",
        "# for idx in doc_contains__anykey_idx:\n",
        "#     doc_contains_anykey[idx][torch.where(tensor_train_w[idx]>0)[0]] = 1.0\n",
        "\n",
        "def get_relv_words(docs_keys_idx,preprossed_data_non_zeros,vocab):\n",
        "  relv_words  = []\n",
        "  for d in docs_keys_idx:\n",
        "    relv_words.extend(preprossed_data_non_zeros[d].split(' '))\n",
        "  idx_relv_words = np.asarray(list(set([vocab[r] for r in relv_words])))\n",
        "  return idx_relv_words\n",
        "\n",
        "## Approach 1 - All words only in the docs containing the keyword are relevant  (.)\n",
        "\n",
        "## Approach 2 - All words in the docs containing the keyword are relevant i.e. the same words if appear in other docs are relevant  (X)\n",
        "N_V_relv_doc_cOnkey = torch.zeros(tensor_train_w.size())\n",
        "\n",
        "doc_contains_keyidx = defaultdict(list)\n",
        "for k in keywords:\n",
        "  for doc in preprossed_data_non_zeros:\n",
        "    if k in doc:\n",
        "      dk_idx = preprossed_data_non_zeros.index(doc)\n",
        "      doc_contains_keyidx[k].append(dk_idx)\n",
        "      N_V_relv_doc_cOnkey[dk_idx][torch.where(tensor_train_w[dk_idx]>0)[0]] = 1.0 #  All words only in the docs containing the keyword are relevant\n",
        "\n",
        "\n",
        "# idx_allkeys_relvWord = get_relv_words(doc_contains__anykey_idx,preprossed_data_non_zeros,vocab)\n",
        "# idx_keys_relvWord = {}\n",
        "# for k in keywords:\n",
        "#   idx_keys_relvWord[k] =  get_relv_words(doc_contains_keyidx[k],preprossed_data_non_zeros,vocab)  # docs containing the keyword are relevant i.e. the same words if appear in other docs are relevant"
      ]
    },
    {
      "cell_type": "code",
      "execution_count": null,
      "metadata": {
        "id": "F8zGrIE4E3gP",
        "colab": {
          "base_uri": "https://localhost:8080/"
        },
        "outputId": "0ae60cc4-539c-4fd7-ee20-732ffcd70ead"
      },
      "outputs": [
        {
          "output_type": "execute_result",
          "data": {
            "text/plain": [
              "320"
            ]
          },
          "metadata": {},
          "execution_count": 80
        }
      ],
      "source": [
        "gc.collect()"
      ]
    },
    {
      "cell_type": "code",
      "execution_count": null,
      "metadata": {
        "id": "ud9pOcxjLSx6"
      },
      "outputs": [],
      "source": [
        "# import torch\n",
        "\n",
        "# def log_bmm(a,b):\n",
        "#     \"\"\"Performs a batch matrix-matrix product of matrices in log-space.\n",
        "#     Args:\n",
        "#         a: tensor with shape (b, n, m)\n",
        "#         b: tensor with shape (b, m, p)\n",
        "#     Returns:\n",
        "#         tensor with shape (b, n, p)\n",
        "#     \"\"\"\n",
        "#     assert a.ndim == b.ndim == 3\n",
        "#     assert a.size(0) == b.size(0)\n",
        "#     assert a.size(2) == b.size(1)\n",
        "\n",
        "#     bsz, p, m = a.size()\n",
        "#     _, _, n = b.size()\n",
        "#     a1 = a.unsqueeze(2).expand(bsz, p, n, m)\n",
        "#     b1 = b.unsqueeze(1).transpose(2, 3).expand(bsz, p, n, m)\n",
        "#     return torch.logsumexp(a1 + b1, dim=-1)\n",
        "\n",
        "# a = torch.ones(10,5,20) * 5\n",
        "# b = torch.ones(10,7,5) * 3\n",
        "\n",
        "# log_bmm(a,b)"
      ]
    },
    {
      "cell_type": "markdown",
      "metadata": {
        "id": "XwcrBK2pe4Qc"
      },
      "source": [
        "## Cosine Score"
      ]
    },
    {
      "cell_type": "code",
      "execution_count": null,
      "metadata": {
        "id": "LTSIn3KOU9gz"
      },
      "outputs": [],
      "source": [
        "cos_sim = nn.CosineSimilarity(dim=-1, eps=1e-8)\n",
        "torch.pi = torch.acos(torch.zeros(1)).item() * 2\n",
        "# model 5.3\n",
        "sig_exp_dist = 50.0\n",
        "\n",
        "\n",
        "def flatten_list(user_list): return [item for sublist in user_list for item in sublist]\n",
        "def get_embedding_tensor(word_list,embeddings): return torch.tensor([embeddings[w] for w in word_list])\n",
        "\n",
        "\n",
        "def cosine_angular_sim(keyword_torch,words_tensor): return 1 - (torch.acos(cos_sim(keyword_torch,words_tensor))) / torch.pi\n",
        "def cosine_norm_01(keyword_torch,words_tensor): return (cos_sim(keyword_torch,words_tensor) + 1.0)/2.0\n",
        "def cosine_sqrt(keyword_torch,words_tensor): return 1 - ((1 - cos_sim(keyword_torch,words_tensor) )/2)**0.5\n",
        "def euclidean_dist(keyword_torch,words_tensor) : return ((words_tensor-keyword_torch).pow(2).sum(-1))**0.5\n",
        "\n",
        "def edist(x,x1):\n",
        "  dist = torch.pow((x-x1),2).sum(-1)\n",
        "  dist_sim = torch.exp(-dist/0.1)\n",
        "  return dist_sim\n",
        "\n",
        "\n",
        "def inv_new_fn(x,x1):\n",
        "  beta = 3\n",
        "  dist = torch.pow((x-x1),2).sum(-1)\n",
        "  dist_sim = 1.0 / (1.0 + (dist/(1-dist))**(-beta))\n",
        "  return dist_sim\n",
        "\n",
        "def exp_dist_sim_x_x1(x,x1,sig=sig_exp_dist):\n",
        "  # sig = 0.1\n",
        "  dist = torch.pow((x-x1),2).sum(-1)\n",
        "  # dist2 = torch.norm((x-x1),dim=-1)**2\n",
        "  exp_dist_sim = torch.exp(- dist / sig)\n",
        "  return exp_dist_sim\n",
        "\n",
        "def get_dist_val_score(f,keyword_torch,words_tensor):\n",
        "  score = f(keyword_torch,words_tensor)\n",
        "  return score\n",
        "\n",
        "def cosine_keywords(keywords,words_tensor,word_list,similarity_function):\n",
        "  all_keywords_score = []\n",
        "  all_cosine_sim = []\n",
        "  all_dist = []\n",
        "  cosine_score_vocab = {}\n",
        "  keyword_total_score = torch.zeros(words_tensor.shape[0])\n",
        "  for k in keywords:\n",
        "    keyword_torch = torch.from_numpy(embeddings[k])\n",
        "    keyword_torch = keyword_torch.unsqueeze(0).expand(words_tensor.shape[0],words_tensor.shape[1])\n",
        "\n",
        "    cosine_sim_score = cos_sim(keyword_torch,words_tensor)\n",
        "    score = get_dist_val_score(similarity_function,keyword_torch,words_tensor)\n",
        "    # cosine_score = cosine_sqrt(keyword_torch,words_tensor)\n",
        "    # cosine_score = cosine_angular_sim(keyword_torch,words_tensor)\n",
        "    # cosine_score = cosine_norm_01(keyword_torch,words_tensor)\n",
        "\n",
        "    # cosine_score[idx_keys_relvWord[k]] = 1.0\n",
        "    all_keywords_score.append(score)\n",
        "    all_cosine_sim.append(cosine_sim_score)\n",
        "\n",
        "    # dist_sim_val,dist_val = exp_dist_sim_x_x1(words_tensor,keyword_torch,sig_exp_dist)\n",
        "    # dist_sim_val,dist_val = edist(keyword_torch,words_tensor,sig_exp_dist)\n",
        "\n",
        "    # dist_sim_val[idx_keys_relvWord[k]] = 1.0\n",
        "    # all_keywords_score.append(dist_sim_val)\n",
        "    # all_dist.append(dist_val)\n",
        "\n",
        "    keyword_total_score += cosine_sim_score\n",
        "  keywords_max_score,keyword_max_score_idx = torch.max(torch.stack(all_keywords_score),dim=0)\n",
        "  cosine_score_vocab = dict(zip(word_list,keywords_max_score.numpy()))\n",
        "\n",
        "  return all_keywords_score,keyword_total_score/len(keywords),keywords_max_score,cosine_score_vocab,all_cosine_sim"
      ]
    },
    {
      "cell_type": "code",
      "execution_count": null,
      "metadata": {
        "id": "OJbv4cJ-Umax",
        "colab": {
          "base_uri": "https://localhost:8080/"
        },
        "outputId": "a0bd788a-444c-441f-8807-3558f008bace"
      },
      "outputs": [
        {
          "output_type": "stream",
          "name": "stderr",
          "text": [
            "/usr/local/lib/python3.7/dist-packages/ipykernel_launcher.py:8: UserWarning: Creating a tensor from a list of numpy.ndarrays is extremely slow. Please consider converting the list to a single numpy.ndarray with numpy.array() before converting to a tensor. (Triggered internally at  ../torch/csrc/utils/tensor_new.cpp:201.)\n",
            "  \n"
          ]
        }
      ],
      "source": [
        "sorted_id_word_vocab = sorted(id_vocab.items(), key=lambda x: x[1]) ### alphabetically sorted\n",
        "word_list = [s[1] for s in sorted_id_word_vocab]\n",
        "words_tensor = get_embedding_tensor(word_list,embeddings)\n",
        "\n",
        "# sorted_cosine_words_vocab = sorted(cosine_score_vocab.items(), key=lambda x: x[1]) ### cosine sim score sorted\n",
        "# sorted_cosine_vocab = [s[0] for s in sorted_cosine_words_vocab]\n",
        "\n",
        "embedding_tensor_sorted_alp = get_embedding_tensor(word_list,embeddings)\n",
        "embedding_tensor_keywords = get_embedding_tensor(keywords,embeddings)\n",
        "similarity_function = cosine_sqrt # exp_dist_sim_x_x1 # << your similarity function here\n",
        "all_keywords_score,keywords_mean_score,keywords_max_score,cosine_score_vocab,all_cosine_sim = cosine_keywords(keywords,words_tensor,word_list,similarity_function)\n",
        "\n",
        "\n",
        "idx_where_0 = torch.where(keywords_max_score <= 0.45)[0]\n",
        "cosine_flag_testing = keywords_max_score.clone()\n",
        "cosine_flag_testing[idx_where_0] = 0.0"
      ]
    },
    {
      "cell_type": "code",
      "execution_count": null,
      "metadata": {
        "id": "K9H60nLxZSIE"
      },
      "outputs": [],
      "source": [
        "# key_idx = np.array([vocab[k] for k in keywords])\n",
        "\n",
        "def min_max_norm_1(cosine_val):\n",
        "  min_v = torch.min(cosine_val)\n",
        "  # max_v = torch.topk(cosine_val,k=len(keywords)+1).values[-1]\n",
        "  max_v = torch.max(cosine_val)\n",
        "  # max_v=torch.max(cosine_val)\n",
        "  val = (cosine_val - min_v) / ( (max_v - min_v) )\n",
        "  # for i in range(len(key_idx)):\n",
        "  #   val[key_idx[i]] = 1.0\n",
        "  return val"
      ]
    },
    {
      "cell_type": "code",
      "execution_count": null,
      "metadata": {
        "id": "XU-ICYq-MdHd"
      },
      "outputs": [],
      "source": [
        "# val = min_max_norm_1(list_of_tensors_to_tensor(all_cosine_sim),key_idx)\n",
        "# threshold_focus = 0.0\n",
        "\n",
        "# most_sim_key_V_K1 = torch.zeros(num_input,len(keywords))\n",
        "# filter = torch.zeros(num_input)\n",
        "\n",
        "# for i in range(num_input):\n",
        "#   maximum,index = torch.max(val[:,i],-1)\n",
        "#   if(maximum>threshold_focus):\n",
        "#     most_sim_key_V_K1[i][int(index)] = 1.0\n",
        "#     filter[i] = 1"
      ]
    },
    {
      "cell_type": "code",
      "execution_count": null,
      "metadata": {
        "id": "YnJw-hrJ0sQk"
      },
      "outputs": [],
      "source": [
        "####@title Threshold focus (quantile)\n",
        "threshold_focus_quantile = 0.5 #@param {type:\"slider\", min:0.1, max:1.0, step:0.05}\n",
        "\n",
        "val = min_max_norm_1(list_of_tensors_to_tensor(all_cosine_sim))\n",
        "# val = (list_of_tensors_to_tensor(all_cosine_sim))\n",
        "# val = (list_of_tensors_to_tensor(all_keywords_score))\n",
        "a = val\n",
        "q = torch.tensor([threshold_focus_quantile])#0.25, 0.5, 0.75])\n",
        "q_v = torch.quantile(a, q, dim=1, keepdim=True)[0]\n",
        "\n",
        "most_sim_key_V_K1 = torch.zeros(num_input,len(keywords))\n",
        "# most_sim_key_V_K1 = torch.zeros(num_input,len(keywords))\n",
        "filter = torch.zeros(num_input)\n",
        "\n",
        "for i in range(num_input):\n",
        "  maximum,index = torch.max(val[:,i],-1)\n",
        "  # minimum,index = torch.min(val[:,i],-1)\n",
        "  #q_v[index][0] = 0.1\n",
        "  if(maximum>q_v[index][0]):\n",
        "  # if(minimum<q_v[index][0]):\n",
        "\n",
        "    most_sim_key_V_K1[i][int(index)] = 1.0\n",
        "    filter[i] = 1\n",
        "  # else:\n",
        "  #   # most_sim_key_V_K1[i][len(keywords)] = 1.0\n",
        "  #   most_sim_key_V_K1[i] = torch.ones(len(keywords))\n",
        "  #   filter[i] = 1"
      ]
    },
    {
      "cell_type": "code",
      "source": [
        "most_sim_key_V_K1.sum()"
      ],
      "metadata": {
        "colab": {
          "base_uri": "https://localhost:8080/"
        },
        "id": "0506Mo-K527n",
        "outputId": "fae3b95f-af76-4c4c-f576-b93933557c78"
      },
      "execution_count": null,
      "outputs": [
        {
          "output_type": "execute_result",
          "data": {
            "text/plain": [
              "tensor(2721.)"
            ]
          },
          "metadata": {},
          "execution_count": 87
        }
      ]
    },
    {
      "cell_type": "code",
      "source": [
        "# word_list[vocab['apple']]"
      ],
      "metadata": {
        "id": "tHFCZgB9oVtG"
      },
      "execution_count": null,
      "outputs": []
    },
    {
      "cell_type": "code",
      "source": [
        "# k=232\n",
        "# keywords_and_dummy = keywords#+['dummy']\n",
        "# idx_list = []\n",
        "# all_w= []\n",
        "# doc_words = data_preprocessed[k].split(' ')\n",
        "# for d in doc_words:\n",
        "#   if d in word_list:\n",
        "#     all_w.append(d)\n",
        "#     idx_list.append(torch.where(most_sim_key_V_K1[vocab[d]]==1)[0].item())\n",
        "#   else: pass\n",
        "# idx_list\n",
        "# #   if d in word_list:\n",
        "# #     idx_list.append(word_list.index(d))\n",
        "# # idx_ar = np.asarray(idx_list)\n",
        "# # vals , idxs = torch.where(most_sim_key_V_K1[idx_ar]==1)\n",
        "# # vals = vals.numpy()\n",
        "# # idxs = idxs.numpy()\n",
        "\n",
        "\n",
        "# # for i in range(len(all_w)):\n",
        "# #     print(all_w[i],\" : \",keywords_and_dummy[idx_list[i]])\n",
        "# plt.hist(idx_list)"
      ],
      "metadata": {
        "id": "5SdQh1kuoFwT"
      },
      "execution_count": null,
      "outputs": []
    },
    {
      "cell_type": "code",
      "source": [
        "# STOP!!"
      ],
      "metadata": {
        "id": "qITmwlnfqwZP"
      },
      "execution_count": null,
      "outputs": []
    },
    {
      "cell_type": "code",
      "execution_count": null,
      "metadata": {
        "id": "Oc4f_nio7ehr"
      },
      "outputs": [],
      "source": [
        "# plt.hist(val[0])\n",
        "# torch.median(val[0])"
      ]
    },
    {
      "cell_type": "code",
      "execution_count": null,
      "metadata": {
        "id": "fez8YcMBpVug"
      },
      "outputs": [],
      "source": [
        "# N_K_for_docs = []\n",
        "# for doc in preprossed_data_non_zeros:\n",
        "#   key_in_doc = []\n",
        "#   for k in keywords:\n",
        "#     if k in doc:\n",
        "#       key_in_doc.append(1)\n",
        "#     else:\n",
        "#       key_in_doc.append(0)\n",
        "#   key_in_doc.append(0) # comment this for N_K_V_key_doc_bernoulli\n",
        "#   N_K_for_docs.append(key_in_doc)\n",
        "# N_K_for_docs_t = torch.tensor(np.asarray(N_K_for_docs))\n",
        "# #\n",
        "# # size = (len(preprossed_data_non_zeros) , len(get_keywords(d_data)), num_input)\n",
        "# # all_key_score_t = list_of_tensors_to_tensor(all_keywords_score)\n",
        "# # N_K_for_docs_t_expanded = N_K_for_docs_t.unsqueeze(-1).expand(size)\n",
        "# # N_K_V_key_doc_bernoulli =  all_key_score_t ** N_K_for_docs_t_expanded\n",
        "\n",
        "# # for i in range(len(N_K_V_key_doc_bernoulli)):\n",
        "# #   for j in range(len(keywords)):\n",
        "# #     N_K_V_key_doc_bernoulli[i][j][torch.where(tensor_train_w[i]==0)[0]] = 0.0"
      ]
    },
    {
      "cell_type": "code",
      "execution_count": null,
      "metadata": {
        "id": "D6eYOXrISG_Q"
      },
      "outputs": [],
      "source": [
        "# print('median : ',np.median(keywords_max_score))\n",
        "# print('\\n\\nCosine score (words closest to keywords)\\n')\n",
        "# plt.hist(all_keywords_score[0])"
      ]
    },
    {
      "cell_type": "markdown",
      "source": [
        "# Heatmap Plot"
      ],
      "metadata": {
        "id": "RafVPKDmxCVb"
      }
    },
    {
      "cell_type": "code",
      "source": [
        "import numpy as np\n",
        "import pandas as pd\n",
        "import seaborn as sns\n",
        "import matplotlib as mpl\n",
        "import matplotlib.pyplot as plt\n",
        "\n",
        "def plot_heatmap(zx,color,zphi,query_words,keyword_vis_labels,cmap,lim):\n",
        "\n",
        "  fig, ax = plt.subplots( figsize=(20, 20))\n",
        "  # lim = 15\n",
        "  ax.set(ylim=(-lim,lim))\n",
        "  ax.set(xlim=(-lim,lim))\n",
        "\n",
        "  # color = 'red'\n",
        "  plt.scatter(x=zx[:,0],y=zx[:,1], alpha = 1.0, c = 'red', cmap = cmap,edgecolors='white',s=60)\n",
        "  zxd = zx[color]\n",
        "  plt.scatter(x=zxd[:,0],y=zxd[:,1], alpha = 1.0, c = 'blue', cmap = cmap,edgecolors='white',s=60, marker='x')\n",
        "  # ax.collections[0].colorbar.set_label(\"Hello\")\n",
        "  # cbar = plt.colorbar()\n",
        "\n",
        "\n",
        "  for i in range(len(query_words)):\n",
        "    if (i==len(query_words)-1):\n",
        "      ax.text(query_words[i][0],query_words[i][1], 'X'+keyword_vis_labels[i] ,c='black',weight='bold')\n",
        "    else:\n",
        "      ax.text(query_words[i][0],query_words[i][1], 'X'+keyword_vis_labels[i] ,c='black',weight='bold')\n",
        "\n",
        "  ax.scatter(zphi[:, 0], zphi[:, 1], alpha=1.0,  edgecolors='black', facecolors='none', s=30)\n",
        "\n",
        "  for indx, topic in enumerate(zphi):\n",
        "      ax.text(zphi[indx, 0], zphi[indx, 1], 'topic'+str(indx),weight='bold')"
      ],
      "metadata": {
        "id": "NHfKfHFqxGD6"
      },
      "execution_count": null,
      "outputs": []
    },
    {
      "cell_type": "code",
      "source": [
        "def plot_heatmap1(zx,color,color2,zphi,query_words,keyword_vis_labels,cmap,lim):\n",
        "\n",
        "  fig, ax = plt.subplots( figsize=(20, 20))\n",
        "  # lim = 15\n",
        "  ax.set(ylim=(-lim,lim))\n",
        "  ax.set(xlim=(-lim,lim))\n",
        "\n",
        "  # color = 'red'\n",
        "  plt.scatter(x=zx[:,0],y=zx[:,1], alpha = 1.0, c = 'yellow', cmap = cmap,edgecolors='white',s=60)\n",
        "  zxd = zx[color]\n",
        "  plt.scatter(x=zxd[:,0],y=zxd[:,1], alpha = 1.0, c = 'red', cmap = cmap,edgecolors='white',s=60, marker='x')\n",
        "  zxd2 = zx[color2]\n",
        "  plt.scatter(x=zxd2[:,0],y=zxd2[:,1], alpha = 1.0, c = 'blue', cmap = cmap,edgecolors='white',s=60, marker='x')\n",
        "  # ax.collections[0].colorbar.set_label(\"Hello\")\n",
        "  # cbar = plt.colorbar()\n",
        "\n",
        "\n",
        "  for i in range(len(query_words)):\n",
        "    if (i==len(query_words)-1):\n",
        "      ax.text(query_words[i][0],query_words[i][1], 'X'+keyword_vis_labels[i] ,c='black',weight='bold')\n",
        "    else:\n",
        "      ax.text(query_words[i][0],query_words[i][1], 'X'+keyword_vis_labels[i] ,c='black',weight='bold')\n",
        "\n",
        "  ax.scatter(zphi[:, 0], zphi[:, 1], alpha=1.0,  edgecolors='black', facecolors='none', s=30)\n",
        "\n",
        "  for indx, topic in enumerate(zphi):\n",
        "      ax.text(zphi[indx, 0], zphi[indx, 1], 'topic'+str(indx),weight='bold')"
      ],
      "metadata": {
        "id": "pmfOhdXVc5AX"
      },
      "execution_count": null,
      "outputs": []
    },
    {
      "cell_type": "code",
      "source": [
        "def plot_examples(cms):\n",
        "    \"\"\"\n",
        "    helper function to plot two colormaps\n",
        "    \"\"\"\n",
        "    np.random.seed(19680801)\n",
        "    data = np.random.randn(30, 30)\n",
        "\n",
        "    fig, axs = plt.subplots(1, 2, figsize=(6, 3), constrained_layout=True)\n",
        "    for [ax, cmap] in zip(axs, cms):\n",
        "        psm = ax.pcolormesh(data, cmap=cmap, rasterized=True, vmin=-4, vmax=4)\n",
        "        fig.colorbar(psm, ax=ax)\n",
        "    plt.show()"
      ],
      "metadata": {
        "id": "S9MXdTOZevSb"
      },
      "execution_count": null,
      "outputs": []
    },
    {
      "cell_type": "code",
      "source": [
        "import matplotlib.colors as clr\n",
        "import numpy as np\n",
        "some_matrix = np.random.rand(10,10)\n",
        "red = \"#ff0000\"\n",
        "yellow = '#ffe603'\n",
        "green = \"#02730c\"\n",
        "cmap = clr.LinearSegmentedColormap.from_list('custom', [green,yellow,red], N=256)\n",
        "plt.matshow(some_matrix, cmap=cmap)\n",
        "# plt.show()"
      ],
      "metadata": {
        "id": "KkYRtf3AvhgM",
        "colab": {
          "base_uri": "https://localhost:8080/"
        },
        "outputId": "e026738c-8c8c-464a-cfbe-f76df3f66465"
      },
      "execution_count": null,
      "outputs": [
        {
          "output_type": "execute_result",
          "data": {
            "text/plain": [
              "<matplotlib.image.AxesImage at 0x7f9deaaf6650>"
            ]
          },
          "metadata": {},
          "execution_count": 97
        },
        {
          "output_type": "display_data",
          "data": {
            "image/png": "[encoded data removed]",
            "text/plain": [
              "<Figure size 288x288 with 1 Axes>"
            ]
          },
          "metadata": {
            "needs_background": "light"
          }
        }
      ]
    },
    {
      "cell_type": "code",
      "source": [
        "# changed_doc_Vis_idxs = np.asarray([np.where(doc_ids == docs_idx_dict['sport'][i])[0][0] for i in range(len(docs_idx_dict['sport'])) ])\n",
        "# changed_doc_Vis_idxs2 = np.asarray([np.where(doc_ids == docs_idx_dict['tech'][i])[0][0] for i in range(len(docs_idx_dict['tech'])) ])"
      ],
      "metadata": {
        "id": "4GSusKriznVk"
      },
      "execution_count": null,
      "outputs": []
    },
    {
      "cell_type": "code",
      "source": [
        "# print_Topics(topwords=20)\n",
        "# print(get_keywords(d_data))\n",
        "# plot_heatmap1(x_list,changed_doc_Vis_idxs,changed_doc_Vis_idxs2,zphi,query_words,keyword_vis_labels,cmap=cmap,lim=10) # cmap  #magma, seismic, autumn, (Pastel2,Dark2,Paired)"
      ],
      "metadata": {
        "id": "zQ_tStEZUu5A"
      },
      "execution_count": null,
      "outputs": []
    },
    {
      "cell_type": "code",
      "source": [
        "# changed_doc_Vis_idxs = np.asarray([np.where(doc_ids == i)[0][0] for i in changed_docs_idx])\n",
        "# plot_heatmap(x_list,changed_doc_Vis_idxs,zphi,query_words,keyword_vis_labels,cmap=cmap,lim=15) # cmap  #magma, seismic, autumn, (Pastel2,Dark2,Paired)"
      ],
      "metadata": {
        "id": "SJOTeDY-jOjg"
      },
      "execution_count": null,
      "outputs": []
    },
    {
      "cell_type": "markdown",
      "source": [
        "# WTM"
      ],
      "metadata": {
        "id": "hObifgOHF_Gw"
      }
    },
    {
      "cell_type": "code",
      "source": [
        "from torch import Tensor\n",
        "import torch\n",
        "import torch.nn as nn\n",
        "import torch.nn.functional as F\n",
        "import torch.optim as optim\n",
        "from torch.nn import Parameter\n",
        "torch.cuda.empty_cache()\n",
        "\n",
        "epochs = 1000\n",
        "bs = 256\n",
        "en1_units_x = 100\n",
        "en2_units_x = 100\n",
        "variance_x = 1.0\n",
        "learning_rate = 0.001\n",
        "beta1 = 0.99\n",
        "beta2 = 0.999\n",
        "dropout = 0.2\n",
        "num_topic = 15\n",
        "num_coordinate = 2\n",
        "\n",
        "#RBF\n",
        "def gaussian(alpha): return -0.5*alpha\n",
        "def inverse_quadratic(alpha): return -torch.log(torch.ones_like(alpha) + alpha)\n",
        "\n",
        "class WTM(nn.Module):\n",
        "    def __init__(self, num_input, en1_units_x, en2_units_x, num_coordinate, num_topic, drop_rate, variance_x, bs,\n",
        "                 embedding_words, word_emb_size,activation,distance=\"gaussian\"):\n",
        "\n",
        "        super(WTM, self).__init__()\n",
        "        self.num_input, self.num_coordinate, self.num_topic, self.variance_x, self.bs \\\n",
        "            = num_input, num_coordinate, num_topic, variance_x, bs\n",
        "\n",
        "        self.embedding_words = embedding_words\n",
        "        self.emb_size = word_emb_size\n",
        "        self.activation = activation\n",
        "        self.embedding_words = embedding_words\n",
        "        self.emb_size = word_emb_size\n",
        "\n",
        "        # encoder\n",
        "        self.en1_fc     = nn.Linear(num_input, en1_units_x)\n",
        "        self.en2_fc     = nn.Linear(en1_units_x, en2_units_x)\n",
        "        self.mu1_fc     = nn.Linear(2, 100)\n",
        "        self.mu2_fc     = nn.Linear(100, 100)\n",
        "        self.mu_fc      = nn.Linear(100, 300)\n",
        "        self.mu_z = 0\n",
        "\n",
        "        self.en2_drop   = nn.Dropout(drop_rate)\n",
        "        self.mean_fc    = nn.Linear(en2_units_x, num_coordinate)\n",
        "        self.logvar_fc  = nn.Linear(en2_units_x, num_coordinate)\n",
        "\n",
        "        self.mean_bn    = nn.BatchNorm1d(num_coordinate)\n",
        "        self.logvar_bn  = nn.BatchNorm1d(num_coordinate)\n",
        "        self.decoder_x_bn = nn.BatchNorm1d(num_coordinate)\n",
        "        self.decoder_phi_bn = nn.BatchNorm1d(num_coordinate)\n",
        "        self.decoder_bn = nn.BatchNorm1d(self.num_topic)\n",
        "        self.mu_z_bn = nn.BatchNorm1d(self.emb_size)\n",
        "\n",
        "        # RBF\n",
        "        self.in_features = self.num_coordinate\n",
        "        self.out_features = self.num_topic\n",
        "        self.topics = nn.Parameter(torch.Tensor(self.out_features, self.in_features)) # K x 2\n",
        "        self.beta_bias = nn.Parameter(torch.Tensor(self.out_features,self.num_input))\n",
        "\n",
        "        if distance==\"gaussian\": self.basis_func = gaussian\n",
        "        if distance==\"inverse_quadratic\": self.basis_func = inverse_quadratic\n",
        "        self.init_parameters()\n",
        "\n",
        "        # prior mean and variance as constant buffers\n",
        "        prior_mean   = torch.Tensor(1, num_coordinate).fill_(0)\n",
        "        prior_var    = torch.Tensor(1, num_coordinate).fill_(variance_x)\n",
        "        self.prior_mean = nn.Parameter(prior_mean, requires_grad=False)\n",
        "        self.prior_var  = nn.Parameter(prior_var, requires_grad=False)\n",
        "        self.prior_logvar = nn.Parameter(prior_var.log(), requires_grad=False)\n",
        "\n",
        "    def init_parameters(self):\n",
        "        nn.init.normal_(self.topics, 0, 0.1)\n",
        "        nn.init.normal_(self.beta_bias, 0, 0.01)\n",
        "\n",
        "    def get_activation(self, activation,layer):\n",
        "      activation = activation.lower()\n",
        "      if activation == 'relu':\n",
        "          layer =  F.relu(layer)\n",
        "      elif activation == 'softplus':\n",
        "          layer =  F.softplus(layer)\n",
        "      elif activation == 'sigmoid':\n",
        "          layer =  F.sigmoid(layer)\n",
        "      elif activation == 'leaky_relu':\n",
        "          layer = F.leaky_relu(layer)\n",
        "      else:\n",
        "          layer = F.softplus(layer)\n",
        "      return layer\n",
        "\n",
        "    def encode(self, input_):\n",
        "        N, *_ = input_.size()\n",
        "\n",
        "        en1 = self.get_activation(self.activation,self.en1_fc(input_))\n",
        "        en2 = self.get_activation(self.activation,self.en2_fc(en1))\n",
        "\n",
        "        # en1 = F.softplus(self.en1_fc(input_))\n",
        "        # en2 = F.softplus(self.en2_fc(en1))\n",
        "\n",
        "        en2 = self.en2_drop(en2)\n",
        "\n",
        "        posterior_mean   = self.mean_bn(self.mean_fc(en2))\n",
        "        posterior_logvar = self.logvar_bn(self.logvar_fc(en2))\n",
        "        posterior_var    = posterior_logvar.exp()\n",
        "\n",
        "        return en2, posterior_mean, posterior_logvar, posterior_var\n",
        "\n",
        "    def take_sample(self, input_, posterior_mean, posterior_var, prior_var):\n",
        "        eps = input_.data.new().resize_as_(posterior_mean.data).normal_(std=1.0) # noise(epsilon)\n",
        "        z = posterior_mean + posterior_var.sqrt() * eps     # reparameterization trick\n",
        "        return z\n",
        "\n",
        "    def get_beta(self):\n",
        "        return F.softmax(self.decoder_bn(torch.mm(self.mu_z,self.embedding_words.T).T).T + self.beta_bias,dim=-1)\n",
        "\n",
        "    def decode(self, z):\n",
        "\n",
        "      ## Theta - P(z|x,phi) ## NXT\n",
        "      N, *_ = z.size()\n",
        "      size = (N, self.out_features, self.in_features) # N,T,2\n",
        "\n",
        "      ## apply batch normalization across X  (Document coordintes)\n",
        "      zx = self.decoder_x_bn(z) # Nx2\n",
        "      x = zx.view(N, 1, self.num_coordinate).expand(size) # Nx1x2\n",
        "\n",
        "      ## apply batch normalization across phi (Topic coordintes)\n",
        "      zc = self.decoder_phi_bn(self.topics)\n",
        "      c = zc.view(1, self.num_topic, self.num_coordinate).expand(size)\n",
        "\n",
        "      d = (x-c).pow(2).sum(-1)\n",
        "      distances = self.basis_func(d)\n",
        "      theta = torch.exp(distances - torch.logsumexp(distances, dim=-1, keepdim=True)) # N x T\n",
        "\n",
        "      ## Topic Coordinates mapped to topic embeddings\n",
        "      mu1 = F.softplus((self.mu1_fc(zc)))\n",
        "      mu2 = F.softplus(self.en2_drop(self.mu2_fc(mu1)))\n",
        "      self.mu_z = self.mu_fc(mu2)\n",
        "\n",
        "      ## Beta P(w|z) ## (TxV)\n",
        "      beta = self.get_beta()\n",
        "      recon_v = torch.mm(theta,beta)\n",
        "\n",
        "      return recon_v, zx, theta, zc\n",
        "\n",
        "\n",
        "    def forward(self, input_, compute_loss=False):\n",
        "        en2, posterior_mean, posterior_logvar, posterior_var = self.encode(input_)\n",
        "        z = self.take_sample(input_, posterior_mean, posterior_var, self.variance_x)\n",
        "        recon_v, zx, theta,zc= self.decode(z)\n",
        "\n",
        "        if compute_loss:\n",
        "            return recon_v, zx, self.loss(input_, recon_v, theta, posterior_mean, posterior_logvar, posterior_var, zx)\n",
        "        else: return z, recon_v, zx, zc, theta\n",
        "\n",
        "    def KLD(self, posterior_mean,posterior_logvar,posterior_var):\n",
        "        N = posterior_mean.shape[0]\n",
        "        prior_mean   = self.prior_mean.expand_as(posterior_mean)\n",
        "        prior_var    = self.prior_var.expand_as(posterior_mean)\n",
        "        prior_logvar = self.prior_logvar.expand_as(posterior_mean)\n",
        "\n",
        "        var_division    = posterior_var  / prior_var\n",
        "        diff            = posterior_mean - prior_mean\n",
        "        diff_term       = diff * diff / prior_var\n",
        "        logvar_division = prior_logvar - posterior_logvar\n",
        "\n",
        "        KLD = 0.5 * ((var_division + diff_term + logvar_division).sum(-1) - self.num_coordinate)\n",
        "        return KLD\n",
        "\n",
        "    def loss(self, input_, recon_v, theta, posterior_mean, posterior_logvar, posterior_var, zx,avg=True):\n",
        "        N = posterior_mean.shape[0]\n",
        "        smoothen = 1e-6 # 'error/term-smoothening constant'\n",
        "\n",
        "        NL = - (input_ * (recon_v+smoothen).log()).sum(-1)\n",
        "        NL= NL.mean(0)\n",
        "\n",
        "        KLD = self.KLD(posterior_mean,posterior_logvar,posterior_var).mean(0)\n",
        "\n",
        "        loss = NL + KLD\n",
        "        return loss,NL,KLD"
      ],
      "metadata": {
        "id": "yEiQwlCRGAWs"
      },
      "execution_count": null,
      "outputs": []
    },
    {
      "cell_type": "markdown",
      "source": [
        "## Train"
      ],
      "metadata": {
        "id": "AAPNCYd1GBJS"
      }
    },
    {
      "cell_type": "code",
      "source": [
        "activation = 'softplus'\n",
        "embedding_tensor_words = embedding_tensor_sorted_alp.to(device)\n",
        "emb_size = 300\n",
        "model = WTM(num_input, en1_units_x, en2_units_x, num_coordinate, num_topic, dropout,variance_x, bs,\n",
        "  embedding_tensor_words,emb_size,activation, \"inverse_quadratic\")\n",
        "\n",
        "kld_arr,recon_arr = [],[]\n",
        "model.to(device)\n",
        "all_indices = torch.randperm(train_vec.shape[0]).split(bs)\n",
        "optimizer = optim.Adam(model.parameters(), learning_rate, betas=(beta1, beta2))\n",
        "for epoch in range(epochs):\n",
        "\n",
        "    loss_u_epoch = 0.0 ## NL loss\n",
        "    loss_KLD = 0.0  ## KL loss\n",
        "    loss_epoch = 0.0 ## Loss per batch #\n",
        "\n",
        "    model.train()\n",
        "    zx_l = []\n",
        "    label_l = []\n",
        "    for batch_ndx in all_indices:\n",
        "    # batch_ndx = all_indices[0]\n",
        "      input_w = tensor_train_w[batch_ndx].to(device)\n",
        "      labels = train_label[batch_ndx]\n",
        "      label_l.extend(labels)\n",
        "      recon_v, zx, (loss, loss_u, xkl_loss) = model(input_w,compute_loss=True)\n",
        "      zx_l.extend(zx.data.detach().cpu().numpy())\n",
        "      optimizer.zero_grad()\n",
        "      loss.backward()\n",
        "\n",
        "      optimizer.step()             # backpror.step()\n",
        "      loss_epoch += loss.item()\n",
        "      loss_u_epoch += loss_u.item()\n",
        "      loss_KLD += xkl_loss.item()\n",
        "      current_model = model\n",
        "    kld_arr.append(loss_KLD)\n",
        "    recon_arr.append(loss_u_epoch)\n",
        "\n",
        "    if epoch % 10 == 0:\n",
        "        #  print('Epoch -> {}'.format(epoch))\n",
        "        print('Epoch -> {} , loss -> {}'.format(epoch,loss_epoch))\n",
        "        print('recon_loss==> {} || KLD==> {}'.format(loss_u_epoch, loss_KLD))\n",
        "        # plot_fig(np.array(zx_l),label_l,model.decoder_phi_bn(model.centres).data.cpu().numpy(),10.0,'No')"
      ],
      "metadata": {
        "id": "Evrmm205GNpu",
        "colab": {
          "base_uri": "https://localhost:8080/"
        },
        "outputId": "006bf35e-7d70-461c-b14e-81cd87ea3de5"
      },
      "execution_count": null,
      "outputs": [
        {
          "output_type": "stream",
          "name": "stdout",
          "text": [
            "Epoch -> 0 , loss -> 1054.959732055664\n",
            "recon_loss==> 1040.3919143676758 || KLD==> 14.567823886871338\n",
            "Epoch -> 10 , loss -> 994.422981262207\n",
            "recon_loss==> 983.8732223510742 || KLD==> 10.549744009971619\n",
            "Epoch -> 20 , loss -> 986.6814498901367\n",
            "recon_loss==> 978.4888000488281 || KLD==> 8.192656815052032\n",
            "Epoch -> 30 , loss -> 980.1136322021484\n",
            "recon_loss==> 973.4877471923828 || KLD==> 6.62587696313858\n",
            "Epoch -> 40 , loss -> 970.0167922973633\n",
            "recon_loss==> 964.6207733154297 || KLD==> 5.396019220352173\n",
            "Epoch -> 50 , loss -> 961.8177032470703\n",
            "recon_loss==> 957.1260223388672 || KLD==> 4.691682159900665\n",
            "Epoch -> 60 , loss -> 955.4973602294922\n",
            "recon_loss==> 950.8837509155273 || KLD==> 4.61360365152359\n",
            "Epoch -> 70 , loss -> 950.8193817138672\n",
            "recon_loss==> 945.7822799682617 || KLD==> 5.037094712257385\n",
            "Epoch -> 80 , loss -> 945.9780044555664\n",
            "recon_loss==> 940.2440032958984 || KLD==> 5.733996331691742\n",
            "Epoch -> 90 , loss -> 943.6626968383789\n",
            "recon_loss==> 937.1979904174805 || KLD==> 6.464709758758545\n",
            "Epoch -> 100 , loss -> 940.5194396972656\n",
            "recon_loss==> 933.4323196411133 || KLD==> 7.087111532688141\n",
            "Epoch -> 110 , loss -> 938.3152313232422\n",
            "recon_loss==> 930.8393936157227 || KLD==> 7.475839138031006\n",
            "Epoch -> 120 , loss -> 936.8981399536133\n",
            "recon_loss==> 929.2347946166992 || KLD==> 7.66334992647171\n",
            "Epoch -> 130 , loss -> 935.3578796386719\n",
            "recon_loss==> 927.5384368896484 || KLD==> 7.819440007209778\n",
            "Epoch -> 140 , loss -> 933.8767547607422\n",
            "recon_loss==> 925.8982162475586 || KLD==> 7.978543221950531\n",
            "Epoch -> 150 , loss -> 932.2913131713867\n",
            "recon_loss==> 924.1536178588867 || KLD==> 8.137694716453552\n",
            "Epoch -> 160 , loss -> 931.2161712646484\n",
            "recon_loss==> 922.8869094848633 || KLD==> 8.329267680644989\n",
            "Epoch -> 170 , loss -> 929.4063034057617\n",
            "recon_loss==> 920.8190536499023 || KLD==> 8.587243676185608\n",
            "Epoch -> 180 , loss -> 928.2179794311523\n",
            "recon_loss==> 919.2509536743164 || KLD==> 8.96701955795288\n",
            "Epoch -> 190 , loss -> 926.5360641479492\n",
            "recon_loss==> 917.0181503295898 || KLD==> 9.5179203748703\n",
            "Epoch -> 200 , loss -> 925.8440246582031\n",
            "recon_loss==> 915.6748504638672 || KLD==> 10.169174909591675\n",
            "Epoch -> 210 , loss -> 923.5858840942383\n",
            "recon_loss==> 912.6671295166016 || KLD==> 10.91875696182251\n",
            "Epoch -> 220 , loss -> 922.3686141967773\n",
            "recon_loss==> 910.8008270263672 || KLD==> 11.567789077758789\n",
            "Epoch -> 230 , loss -> 921.1005706787109\n",
            "recon_loss==> 909.0096664428711 || KLD==> 12.090900301933289\n",
            "Epoch -> 240 , loss -> 918.4456253051758\n",
            "recon_loss==> 905.930046081543 || KLD==> 12.515564203262329\n",
            "Epoch -> 250 , loss -> 915.5775604248047\n",
            "recon_loss==> 902.7103652954102 || KLD==> 12.867197632789612\n",
            "Epoch -> 260 , loss -> 913.7662658691406\n",
            "recon_loss==> 900.62060546875 || KLD==> 13.1456458568573\n",
            "Epoch -> 270 , loss -> 912.6178359985352\n",
            "recon_loss==> 899.1771926879883 || KLD==> 13.440637826919556\n",
            "Epoch -> 280 , loss -> 910.7723159790039\n",
            "recon_loss==> 897.025032043457 || KLD==> 13.747280478477478\n",
            "Epoch -> 290 , loss -> 909.7481231689453\n",
            "recon_loss==> 895.6651992797852 || KLD==> 14.082924127578735\n",
            "Epoch -> 300 , loss -> 908.4659194946289\n",
            "recon_loss==> 893.9012222290039 || KLD==> 14.564693808555603\n",
            "Epoch -> 310 , loss -> 906.6213073730469\n",
            "recon_loss==> 891.4790191650391 || KLD==> 15.142287135124207\n",
            "Epoch -> 320 , loss -> 903.7280426025391\n",
            "recon_loss==> 887.857780456543 || KLD==> 15.870261788368225\n",
            "Epoch -> 330 , loss -> 901.7346572875977\n",
            "recon_loss==> 884.9172058105469 || KLD==> 16.81745445728302\n",
            "Epoch -> 340 , loss -> 899.6108779907227\n",
            "recon_loss==> 881.9577560424805 || KLD==> 17.653127789497375\n",
            "Epoch -> 350 , loss -> 897.697639465332\n",
            "recon_loss==> 879.4523239135742 || KLD==> 18.245315074920654\n",
            "Epoch -> 360 , loss -> 895.772819519043\n",
            "recon_loss==> 876.9536209106445 || KLD==> 18.81919264793396\n",
            "Epoch -> 370 , loss -> 894.0958633422852\n",
            "recon_loss==> 874.7543258666992 || KLD==> 19.341537952423096\n",
            "Epoch -> 380 , loss -> 891.6016540527344\n",
            "recon_loss==> 871.7115707397461 || KLD==> 19.89008665084839\n",
            "Epoch -> 390 , loss -> 890.3203353881836\n",
            "recon_loss==> 869.8307113647461 || KLD==> 20.489625692367554\n",
            "Epoch -> 400 , loss -> 887.707893371582\n",
            "recon_loss==> 866.6602935791016 || KLD==> 21.047597885131836\n",
            "Epoch -> 410 , loss -> 886.313346862793\n",
            "recon_loss==> 864.8980255126953 || KLD==> 21.41531229019165\n",
            "Epoch -> 420 , loss -> 885.084716796875\n",
            "recon_loss==> 863.1885070800781 || KLD==> 21.89620876312256\n",
            "Epoch -> 430 , loss -> 883.5354995727539\n",
            "recon_loss==> 861.2490692138672 || KLD==> 22.2864191532135\n",
            "Epoch -> 440 , loss -> 881.4509582519531\n",
            "recon_loss==> 858.8467330932617 || KLD==> 22.604230642318726\n",
            "Epoch -> 450 , loss -> 880.7279891967773\n",
            "recon_loss==> 857.7608337402344 || KLD==> 22.96716332435608\n",
            "Epoch -> 460 , loss -> 880.019287109375\n",
            "recon_loss==> 856.5834808349609 || KLD==> 23.435800552368164\n",
            "Epoch -> 470 , loss -> 877.9753341674805\n",
            "recon_loss==> 854.2398300170898 || KLD==> 23.735501527786255\n",
            "Epoch -> 480 , loss -> 877.3448181152344\n",
            "recon_loss==> 853.4325637817383 || KLD==> 23.91224980354309\n",
            "Epoch -> 490 , loss -> 875.8502731323242\n",
            "recon_loss==> 851.5565719604492 || KLD==> 24.293691396713257\n",
            "Epoch -> 500 , loss -> 874.8761749267578\n",
            "recon_loss==> 850.2240447998047 || KLD==> 24.652133464813232\n",
            "Epoch -> 510 , loss -> 873.8682327270508\n",
            "recon_loss==> 848.9391784667969 || KLD==> 24.929064750671387\n",
            "Epoch -> 520 , loss -> 872.9360885620117\n",
            "recon_loss==> 847.7815322875977 || KLD==> 25.154545783996582\n",
            "Epoch -> 530 , loss -> 872.4255828857422\n",
            "recon_loss==> 847.0967636108398 || KLD==> 25.328805685043335\n",
            "Epoch -> 540 , loss -> 870.9924087524414\n",
            "recon_loss==> 845.2525863647461 || KLD==> 25.73981738090515\n",
            "Epoch -> 550 , loss -> 869.9118423461914\n",
            "recon_loss==> 843.876953125 || KLD==> 26.034894227981567\n",
            "Epoch -> 560 , loss -> 868.4071044921875\n",
            "recon_loss==> 842.2508850097656 || KLD==> 26.156218767166138\n",
            "Epoch -> 570 , loss -> 868.2868499755859\n",
            "recon_loss==> 842.0169448852539 || KLD==> 26.26991319656372\n",
            "Epoch -> 580 , loss -> 867.1930160522461\n",
            "recon_loss==> 840.4782943725586 || KLD==> 26.71471667289734\n",
            "Epoch -> 590 , loss -> 866.0060348510742\n",
            "recon_loss==> 839.0491104125977 || KLD==> 26.956919193267822\n",
            "Epoch -> 600 , loss -> 865.3701477050781\n",
            "recon_loss==> 838.2163238525391 || KLD==> 27.153809785842896\n",
            "Epoch -> 610 , loss -> 864.1168670654297\n",
            "recon_loss==> 836.7810211181641 || KLD==> 27.335844039916992\n",
            "Epoch -> 620 , loss -> 862.9648361206055\n",
            "recon_loss==> 835.3701782226562 || KLD==> 27.594661712646484\n",
            "Epoch -> 630 , loss -> 861.4920196533203\n",
            "recon_loss==> 833.5594177246094 || KLD==> 27.932594537734985\n",
            "Epoch -> 640 , loss -> 860.8691177368164\n",
            "recon_loss==> 832.8263092041016 || KLD==> 28.042810440063477\n",
            "Epoch -> 650 , loss -> 860.6738128662109\n",
            "recon_loss==> 832.3616027832031 || KLD==> 28.31221103668213\n",
            "Epoch -> 660 , loss -> 859.9968185424805\n",
            "recon_loss==> 831.4631500244141 || KLD==> 28.533668041229248\n",
            "Epoch -> 670 , loss -> 858.7816314697266\n",
            "recon_loss==> 829.9905319213867 || KLD==> 28.79110312461853\n",
            "Epoch -> 680 , loss -> 857.3404083251953\n",
            "recon_loss==> 828.2552032470703 || KLD==> 29.08520770072937\n",
            "Epoch -> 690 , loss -> 856.8095474243164\n",
            "recon_loss==> 827.4952239990234 || KLD==> 29.31432580947876\n",
            "Epoch -> 700 , loss -> 856.1134033203125\n",
            "recon_loss==> 826.5364837646484 || KLD==> 29.576924324035645\n",
            "Epoch -> 710 , loss -> 855.0792999267578\n",
            "recon_loss==> 825.3272094726562 || KLD==> 29.75208067893982\n",
            "Epoch -> 720 , loss -> 853.572509765625\n",
            "recon_loss==> 823.5920944213867 || KLD==> 29.98041582107544\n",
            "Epoch -> 730 , loss -> 852.8018569946289\n",
            "recon_loss==> 822.5409851074219 || KLD==> 30.260874271392822\n",
            "Epoch -> 740 , loss -> 852.4235534667969\n",
            "recon_loss==> 821.9218521118164 || KLD==> 30.501709699630737\n",
            "Epoch -> 750 , loss -> 851.3146896362305\n",
            "recon_loss==> 820.643196105957 || KLD==> 30.671490907669067\n",
            "Epoch -> 760 , loss -> 850.1065139770508\n",
            "recon_loss==> 819.3209915161133 || KLD==> 30.785523653030396\n",
            "Epoch -> 770 , loss -> 849.1980209350586\n",
            "recon_loss==> 818.2119293212891 || KLD==> 30.9860897064209\n",
            "Epoch -> 780 , loss -> 848.7994766235352\n",
            "recon_loss==> 817.6047897338867 || KLD==> 31.19468331336975\n",
            "Epoch -> 790 , loss -> 848.2037353515625\n",
            "recon_loss==> 816.8043060302734 || KLD==> 31.399428844451904\n",
            "Epoch -> 800 , loss -> 847.63427734375\n",
            "recon_loss==> 816.0519256591797 || KLD==> 31.582353830337524\n",
            "Epoch -> 810 , loss -> 846.8253326416016\n",
            "recon_loss==> 815.0526123046875 || KLD==> 31.772722482681274\n",
            "Epoch -> 820 , loss -> 845.8257217407227\n",
            "recon_loss==> 814.0131378173828 || KLD==> 31.812580108642578\n",
            "Epoch -> 830 , loss -> 845.2456893920898\n",
            "recon_loss==> 813.2305068969727 || KLD==> 32.01518154144287\n",
            "Epoch -> 840 , loss -> 844.3937606811523\n",
            "recon_loss==> 812.2775573730469 || KLD==> 32.11622166633606\n",
            "Epoch -> 850 , loss -> 843.653190612793\n",
            "recon_loss==> 811.3859558105469 || KLD==> 32.26724076271057\n",
            "Epoch -> 860 , loss -> 843.2191390991211\n",
            "recon_loss==> 810.7496643066406 || KLD==> 32.46947622299194\n",
            "Epoch -> 870 , loss -> 842.8342590332031\n",
            "recon_loss==> 810.2627105712891 || KLD==> 32.57154679298401\n",
            "Epoch -> 880 , loss -> 842.5483016967773\n",
            "recon_loss==> 809.8929672241211 || KLD==> 32.655338287353516\n",
            "Epoch -> 890 , loss -> 842.0545043945312\n",
            "recon_loss==> 809.2693252563477 || KLD==> 32.78518080711365\n",
            "Epoch -> 900 , loss -> 840.2856750488281\n",
            "recon_loss==> 807.5155258178711 || KLD==> 32.77015709877014\n",
            "Epoch -> 910 , loss -> 839.8667297363281\n",
            "recon_loss==> 806.976203918457 || KLD==> 32.890525579452515\n",
            "Epoch -> 920 , loss -> 838.9962921142578\n",
            "recon_loss==> 805.9243545532227 || KLD==> 33.07194519042969\n",
            "Epoch -> 930 , loss -> 839.2262725830078\n",
            "recon_loss==> 806.0273895263672 || KLD==> 33.19888925552368\n",
            "Epoch -> 940 , loss -> 838.8142623901367\n",
            "recon_loss==> 805.5648574829102 || KLD==> 33.24940371513367\n",
            "Epoch -> 950 , loss -> 838.3632659912109\n",
            "recon_loss==> 804.9865798950195 || KLD==> 33.37668585777283\n",
            "Epoch -> 960 , loss -> 837.9054336547852\n",
            "recon_loss==> 804.3327331542969 || KLD==> 33.57270860671997\n",
            "Epoch -> 970 , loss -> 837.0351943969727\n",
            "recon_loss==> 803.3829803466797 || KLD==> 33.652223110198975\n",
            "Epoch -> 980 , loss -> 836.6739730834961\n",
            "recon_loss==> 803.0976181030273 || KLD==> 33.576350927352905\n",
            "Epoch -> 990 , loss -> 835.9507904052734\n",
            "recon_loss==> 802.1575012207031 || KLD==> 33.79328513145447\n"
          ]
        }
      ]
    },
    {
      "cell_type": "markdown",
      "source": [
        "## Test"
      ],
      "metadata": {
        "id": "n65qLbLaGB-6"
      }
    },
    {
      "cell_type": "code",
      "source": [
        "model.eval()\n",
        "topwords = 20\n",
        "x_list = []\n",
        "labels_list = []\n",
        "doc_ids = []\n",
        "zx_phi_list=[]\n",
        "docs_rscore = []\n",
        "with torch.no_grad():\n",
        "    for batch_ndx in all_indices:\n",
        "        input_w = tensor_train_w[batch_ndx].to(device)\n",
        "        labels = train_label[batch_ndx]\n",
        "        labels_list.extend(labels)\n",
        "        docs_rscore.extend(normalized_all_rscores[batch_ndx])\n",
        "        z, recon_v, zx,zphi, zx_phi = model(input_w,compute_loss=False)\n",
        "        zx = zx.data.detach().cpu().numpy()\n",
        "        zphi = zphi.data.detach().cpu().numpy()\n",
        "        zx_phi = zx_phi.view(-1, num_topic).data.detach().cpu().numpy()\n",
        "        zx_phi_list.extend(zx_phi)\n",
        "        x_list.extend(zx)\n",
        "        doc_ids.extend(batch_ndx)\n",
        "\n",
        "    x_list = np.array(x_list)\n",
        "    labels_list = np.asarray(labels_list)\n",
        "    docs_rscore = list_of_tensors_to_tensor(docs_rscore)\n",
        "    beta = model.get_beta().data.cpu().numpy()\n",
        "    query_words = np.array([[0,0],[0,0],[0,0]])\n",
        "    keyword_vis_labels = keywords#+['dummy']\n",
        "    WTM_topics = get_topwords(beta,id_vocab,topwords=topwords)"
      ],
      "metadata": {
        "id": "6EunAZLrGPOq"
      },
      "execution_count": null,
      "outputs": []
    },
    {
      "cell_type": "code",
      "source": [
        "key_rscores = []\n",
        "for k in keywords:\n",
        "  key_rscores.append(cosine_similarity_desm_docs([k],train_vec,vocab,embeddings))\n",
        "\n",
        "idx_most_relv_doc = []\n",
        "for k in range(len(keywords)):\n",
        "  idx_most_relv_doc.append(torch.sort(key_rscores[k],descending=True).indices[k].item())"
      ],
      "metadata": {
        "id": "GUoydjcnAUxN",
        "colab": {
          "base_uri": "https://localhost:8080/"
        },
        "outputId": "d7c9a71f-851f-40de-d7d2-92430006f996"
      },
      "execution_count": null,
      "outputs": [
        {
          "output_type": "stream",
          "name": "stdout",
          "text": [
            "0\n",
            "0\n"
          ]
        }
      ]
    },
    {
      "cell_type": "code",
      "source": [
        "doc_idx_tensor = list_of_tensors_to_tensor(doc_ids)\n",
        "batch_most_relv_idx = []\n",
        "for idx_m in idx_most_relv_doc:\n",
        "  batch_most_relv_idx.append(torch.where(doc_idx_tensor==idx_m)[0][0].item())"
      ],
      "metadata": {
        "id": "OZY6Bn_kBJPI"
      },
      "execution_count": null,
      "outputs": []
    },
    {
      "cell_type": "code",
      "source": [
        "query_words = [x_list[b] for b in batch_most_relv_idx]\n",
        "# query_words.append(np.array(([0,0])))\n",
        "query_words"
      ],
      "metadata": {
        "id": "ztUOPsmwBq-z",
        "colab": {
          "base_uri": "https://localhost:8080/"
        },
        "outputId": "7c126535-194f-4207-d3e9-c5734944a957"
      },
      "execution_count": null,
      "outputs": [
        {
          "output_type": "execute_result",
          "data": {
            "text/plain": [
              "[array([-5.5611005,  9.121571 ], dtype=float32),\n",
              " array([-6.6427574,  4.3023477], dtype=float32)]"
            ]
          },
          "metadata": {},
          "execution_count": 106
        }
      ]
    },
    {
      "cell_type": "markdown",
      "source": [
        "- ndcg (topwords  Vs ndcg instead of cosine)\n",
        "- use rare class A (the class has the min num docs). Select randomly one doc b not in A, inject 30% (vary 10-50%) of a ranomly doc from A to b (append). Repeat |A| times.\n",
        "- Voc size? (0.7 forllowing ETM)\n",
        "- WTM straight line?\n",
        "- Topic coherence\n",
        "- Topic diversity\n"
      ],
      "metadata": {
        "id": "wotHIJVk5irJ"
      }
    },
    {
      "cell_type": "code",
      "source": [
        "query_center = [0,0]\n",
        "plot_fig(x_list, labels_list, zphi,query_center,query_words=query_words,\n",
        "         keywords=keyword_vis_labels,lim =20,contour='No')"
      ],
      "metadata": {
        "colab": {
          "base_uri": "https://localhost:8080/",
          "height": 1000
        },
        "id": "XnfvnUUvxyXc",
        "outputId": "f978da87-a3bb-4466-9e11-06e3ed9f0356"
      },
      "execution_count": null,
      "outputs": [
        {
          "output_type": "display_data",
          "data": {
            "image/png": "[encoded data removed]",
            "text/plain": [
              "<Figure size 1440x1440 with 1 Axes>"
            ]
          },
          "metadata": {
            "needs_background": "light"
          }
        }
      ]
    },
    {
      "cell_type": "code",
      "source": [
        "new_doc_s = key_rscores[0][doc_ids]"
      ],
      "metadata": {
        "id": "GxoDRWs0FYU-"
      },
      "execution_count": null,
      "outputs": []
    },
    {
      "cell_type": "code",
      "source": [
        "# all_idx = torch.cat((plt_idx[l+1:mid] , plt_idx[:l], plt_idx[-r:]),0) # seq -> middle 0.25 - 0.75 then bottom 0 - 0.25 and finally top 0.75 - 1.0"
      ],
      "metadata": {
        "id": "ybv0vac2UOsM"
      },
      "execution_count": null,
      "outputs": []
    },
    {
      "cell_type": "code",
      "source": [
        "# changed_doc_Vis_idxs_wtm = np.asarray([np.where(doc_ids == rand_perm_k_to_change[i])[0][0] for i in range(len(rand_perm_k_to_change)) ])"
      ],
      "metadata": {
        "id": "B-UVfphLRCci"
      },
      "execution_count": null,
      "outputs": []
    },
    {
      "cell_type": "code",
      "source": [
        "# doc_ids = list_of_tensors_to_tensor(doc_ids).numpy()"
      ],
      "metadata": {
        "id": "QtYwUEVKqKf9"
      },
      "execution_count": null,
      "outputs": []
    },
    {
      "cell_type": "code",
      "source": [
        "changed_doc_Vis_idxs = np.asarray([np.where(doc_idx_tensor == docs_idx_dict['sport'][i])[0][0] for i in range(len(docs_idx_dict['sport'])) ])\n",
        "changed_doc_Vis_idxs2 = np.asarray([np.where(doc_idx_tensor == docs_idx_dict['politics'][i])[0][0] for i in range(len(docs_idx_dict['politics'])) ])"
      ],
      "metadata": {
        "id": "nXj2NEkpp3T_",
        "colab": {
          "base_uri": "https://localhost:8080/",
          "height": 191
        },
        "outputId": "50be90ff-81df-46ca-f47d-820a62a4557c"
      },
      "execution_count": null,
      "outputs": [
        {
          "output_type": "error",
          "ename": "NameError",
          "evalue": "ignored",
          "traceback": [
            "\u001b[0;31m---------------------------------------------------------------------------\u001b[0m",
            "\u001b[0;31mNameError\u001b[0m                                 Traceback (most recent call last)",
            "\u001b[0;32m<ipython-input-112-7af4ba9c4657>\u001b[0m in \u001b[0;36m<module>\u001b[0;34m()\u001b[0m\n\u001b[0;32m----> 1\u001b[0;31m \u001b[0mchanged_doc_Vis_idxs\u001b[0m \u001b[0;34m=\u001b[0m \u001b[0mnp\u001b[0m\u001b[0;34m.\u001b[0m\u001b[0masarray\u001b[0m\u001b[0;34m(\u001b[0m\u001b[0;34m[\u001b[0m\u001b[0mnp\u001b[0m\u001b[0;34m.\u001b[0m\u001b[0mwhere\u001b[0m\u001b[0;34m(\u001b[0m\u001b[0mdoc_idx_tensor\u001b[0m \u001b[0;34m==\u001b[0m \u001b[0mdocs_idx_dict\u001b[0m\u001b[0;34m[\u001b[0m\u001b[0;34m'sport'\u001b[0m\u001b[0;34m]\u001b[0m\u001b[0;34m[\u001b[0m\u001b[0mi\u001b[0m\u001b[0;34m]\u001b[0m\u001b[0;34m)\u001b[0m\u001b[0;34m[\u001b[0m\u001b[0;36m0\u001b[0m\u001b[0;34m]\u001b[0m\u001b[0;34m[\u001b[0m\u001b[0;36m0\u001b[0m\u001b[0;34m]\u001b[0m \u001b[0;32mfor\u001b[0m \u001b[0mi\u001b[0m \u001b[0;32min\u001b[0m \u001b[0mrange\u001b[0m\u001b[0;34m(\u001b[0m\u001b[0mlen\u001b[0m\u001b[0;34m(\u001b[0m\u001b[0mdocs_idx_dict\u001b[0m\u001b[0;34m[\u001b[0m\u001b[0;34m'sport'\u001b[0m\u001b[0;34m]\u001b[0m\u001b[0;34m)\u001b[0m\u001b[0;34m)\u001b[0m \u001b[0;34m]\u001b[0m\u001b[0;34m)\u001b[0m\u001b[0;34m\u001b[0m\u001b[0;34m\u001b[0m\u001b[0m\n\u001b[0m\u001b[1;32m      2\u001b[0m \u001b[0mchanged_doc_Vis_idxs2\u001b[0m \u001b[0;34m=\u001b[0m \u001b[0mnp\u001b[0m\u001b[0;34m.\u001b[0m\u001b[0masarray\u001b[0m\u001b[0;34m(\u001b[0m\u001b[0;34m[\u001b[0m\u001b[0mnp\u001b[0m\u001b[0;34m.\u001b[0m\u001b[0mwhere\u001b[0m\u001b[0;34m(\u001b[0m\u001b[0mdoc_idx_tensor\u001b[0m \u001b[0;34m==\u001b[0m \u001b[0mdocs_idx_dict\u001b[0m\u001b[0;34m[\u001b[0m\u001b[0;34m'politics'\u001b[0m\u001b[0;34m]\u001b[0m\u001b[0;34m[\u001b[0m\u001b[0mi\u001b[0m\u001b[0;34m]\u001b[0m\u001b[0;34m)\u001b[0m\u001b[0;34m[\u001b[0m\u001b[0;36m0\u001b[0m\u001b[0;34m]\u001b[0m\u001b[0;34m[\u001b[0m\u001b[0;36m0\u001b[0m\u001b[0;34m]\u001b[0m \u001b[0;32mfor\u001b[0m \u001b[0mi\u001b[0m \u001b[0;32min\u001b[0m \u001b[0mrange\u001b[0m\u001b[0;34m(\u001b[0m\u001b[0mlen\u001b[0m\u001b[0;34m(\u001b[0m\u001b[0mdocs_idx_dict\u001b[0m\u001b[0;34m[\u001b[0m\u001b[0;34m'politics'\u001b[0m\u001b[0;34m]\u001b[0m\u001b[0;34m)\u001b[0m\u001b[0;34m)\u001b[0m \u001b[0;34m]\u001b[0m\u001b[0;34m)\u001b[0m\u001b[0;34m\u001b[0m\u001b[0;34m\u001b[0m\u001b[0m\n",
            "\u001b[0;31mNameError\u001b[0m: name 'docs_idx_dict' is not defined"
          ]
        }
      ]
    },
    {
      "cell_type": "code",
      "source": [
        "print_Topics(topwords=20)\n",
        "print(get_keywords(d_data))"
      ],
      "metadata": {
        "id": "OJ38SIUG0eof"
      },
      "execution_count": null,
      "outputs": []
    },
    {
      "cell_type": "code",
      "source": [
        "plot_heatmap1(x_list,changed_doc_Vis_idxs,changed_doc_Vis_idxs2,zphi,query_words,keyword_vis_labels,cmap=cmap,lim=15) # cmap  #magma, seismic, autumn, (Pastel2,Dark2,Paired)"
      ],
      "metadata": {
        "id": "c4IqRwYep3T_"
      },
      "execution_count": null,
      "outputs": []
    },
    {
      "cell_type": "code",
      "source": [
        "# print_Topics(topwords=20)\n",
        "# print(get_keywords(d_data)) #, which_focus,threshold_model\n",
        "# plot_heatmap(x_list,changed_doc_Vis_idxs_wtm,zphi,query_words,keyword_vis_labels,cmap=cmap,lim=20) # cmap  #magma, seismic, autumn, (Pastel2,Dark2,Paired)\n",
        "\n",
        "# # plot_heatmap(x_list[all_idx],docs_rscore[all_idx],zphi,query_words,keyword_vis_labels,cmap=cmap,lim=20) # cmap  #magma, seismic, autumn, (Pastel2,Dark2,Paired)\n",
        "# # plot_heatmap(x_list[plt_idx[-r:]],docs_rscore[plt_idx[-r:]],zphi,query_words,keyword_vis_labels,cmap=cmap,lim=20) # cmap  #magma, seismic, autumn, (Pastel2,Dark2,Paired)"
      ],
      "metadata": {
        "id": "_c6RnUqcJ_Vi"
      },
      "execution_count": null,
      "outputs": []
    },
    {
      "cell_type": "code",
      "source": [
        "# plot_heatmap(x_list[changed_doc_Vis_idxs],docs_rscore[changed_doc_Vis_idxs],zphi,query_words,keyword_vis_labels,cmap=cmap,lim=15) # cmap  #magma, seismic, autumn, (Pastel2,Dark2,Paired)"
      ],
      "metadata": {
        "id": "eZh7JkK8Ecax"
      },
      "execution_count": null,
      "outputs": []
    },
    {
      "cell_type": "code",
      "source": [
        "# plot_heatmap(x_list[sortidx[:100]],docs_rscore[sortidx[:100]],zphi,query_words,keyword_vis_labels,cmap=cmap,lim=20) # cmap  #magma, seismic, autumn, (Pastel2,Dark2,Paired)"
      ],
      "metadata": {
        "id": "ZI3-7vPV_213"
      },
      "execution_count": null,
      "outputs": []
    },
    {
      "cell_type": "code",
      "source": [
        "# plot_heatmap(x_list[plt_idx[:100]],docs_rscore[plt_idx[:100]],zphi,query_words,keyword_vis_labels,cmap=cmap,lim=20) # cmap  #magma, seismic, autumn, (Pastel2,Dark2,Paired)"
      ],
      "metadata": {
        "id": "mI1fUarsNkm3"
      },
      "execution_count": null,
      "outputs": []
    },
    {
      "cell_type": "code",
      "source": [
        "import numpy as np\n",
        "from sklearn.metrics import ndcg_score\n",
        "# we have groud-truth relevance of some answers to a query:\n",
        "true_relevance = np.asarray([[10, 0, 0, 1, 5]])\n",
        "# we predict some scores (relevance) for the answers\n",
        "scores = np.asarray([[.1, .2, .3, 4, 70]])\n",
        "ndcg_score(true_relevance, scores)"
      ],
      "metadata": {
        "id": "BrIlItshEqJe"
      },
      "execution_count": null,
      "outputs": []
    },
    {
      "cell_type": "markdown",
      "metadata": {
        "id": "oCVawukWgxeH"
      },
      "source": [
        "# ____ STOP____"
      ]
    },
    {
      "cell_type": "code",
      "execution_count": null,
      "metadata": {
        "id": "xiUorw-Xg0Hg"
      },
      "outputs": [],
      "source": [
        "STOP!!!!"
      ]
    },
    {
      "cell_type": "code",
      "execution_count": null,
      "metadata": {
        "id": "A2gbTUI2g1Vt"
      },
      "outputs": [],
      "source": [
        "STOP!!!!"
      ]
    },
    {
      "cell_type": "code",
      "execution_count": null,
      "metadata": {
        "id": "Ng3vECMBg1o1"
      },
      "outputs": [],
      "source": [
        "STOP!!!!"
      ]
    },
    {
      "cell_type": "markdown",
      "source": [
        "# Sum Cosine Metric"
      ],
      "metadata": {
        "id": "eTonasdm7UdP"
      }
    },
    {
      "cell_type": "code",
      "source": [
        "import plotly.express as px\n",
        "def plot_relv_topwords(keywords,np_topics_wordsScores):\n",
        "  for i in range(len(keywords)):\n",
        "    fig = px.histogram(pd.DataFrame(np_topics_wordsScores[i],columns=['scores']), x=\"scores\")\n",
        "    print(keywords[i])\n",
        "    fig.show()\n",
        "# print(\"Spike Slab Filter (top # relv words that represents documents):\",spikeSlab_filter,\"\\n\\n\")"
      ],
      "metadata": {
        "id": "P2j-14HZ8vgK"
      },
      "execution_count": null,
      "outputs": []
    },
    {
      "cell_type": "code",
      "source": [
        "# PLSV_topics\n",
        "# WTM_topics\n",
        "# FoTo_topics\n",
        "\n",
        "\n",
        "def get_cosine_sum_topics(topwords_cos_sum):\n",
        "  all_topics = get_topwords(beta,id_vocab,topwords=topwords_cos_sum)\n",
        "  topics_wordlist = [topics.split(': ')[1].split(\" \") for topics in all_topics]\n",
        "  np_flatten_topics_wordlist = np.array(flatten_list(topics_wordlist))\n",
        "  topics_wordtensors = get_embedding_tensor(np_flatten_topics_wordlist,embeddings)\n",
        "  topics_wordsScores,*_ = cosine_keywords(keywords,topics_wordtensors,np_flatten_topics_wordlist,cos_sim)\n",
        "  np_topics_wordsScores = list_of_tensors_to_tensor(topics_wordsScores)\n",
        "  return np_topics_wordsScores\n",
        "\n",
        "\n",
        "# np_topics_wordsScores_WTM = get_cosine_sum_topics(FoTo_topics)\n",
        "# np_topics_wordsScores_PLSV = get_cosine_sum_topics(PLSV_topics)\n",
        "np_topics_wordsScores_WTM = get_cosine_sum_topics(topwords_cos_sum=10)\n",
        "# np_topics_wordsScores_WTM = min_max_norm_1(np_topics_wordsScores_WTM)\n",
        "\n",
        "# plot_relv_topwords(keywords,np_topics_wordsScores_FoTo)"
      ],
      "metadata": {
        "id": "ZML-0uTF7TkC"
      },
      "execution_count": null,
      "outputs": []
    },
    {
      "cell_type": "code",
      "source": [
        "def keyw_sum_median_mean(np_topics_wordsScores):\n",
        "   return keywords,torch.max(np_topics_wordsScores,0).values.sum().item() , torch.mean(np_topics_wordsScores,-1) , torch.median(np_topics_wordsScores,-1).values"
      ],
      "metadata": {
        "id": "zQWTZF80875D"
      },
      "execution_count": null,
      "outputs": []
    },
    {
      "cell_type": "code",
      "source": [
        "_,sum_max,_,_ = keyw_sum_median_mean(np_topics_wordsScores_WTM)\n",
        "print(sum_max)"
      ],
      "metadata": {
        "id": "-ylqMrFr9Vee",
        "colab": {
          "base_uri": "https://localhost:8080/"
        },
        "outputId": "ec3a6ce1-ff8a-4d26-abe8-0e400e56280e"
      },
      "execution_count": null,
      "outputs": [
        {
          "output_type": "stream",
          "name": "stdout",
          "text": [
            "15.985258102416992\n"
          ]
        }
      ]
    },
    {
      "cell_type": "code",
      "source": [
        "def plot_cosine_sum(x,y,name):\n",
        "  fig = go.Figure()\n",
        "  df = pd.DataFrame(list(zip(x,y)),columns = ['topwords','cos_sum'])\n",
        "  fig = px.line(df, x='topwords', y='cos_sum',  text='cos_sum')\n",
        "  fig.update_traces(textposition=\"bottom right\")\n",
        "  # fig.show()\n",
        "  # figure.add_trace(go.Scatter(x=x, y=y,mode='lines',name=name, text=str(y)))\n",
        "  fig.show(renderer='colab')"
      ],
      "metadata": {
        "id": "4yt3rMK8fMwF"
      },
      "execution_count": null,
      "outputs": []
    },
    {
      "cell_type": "code",
      "source": [
        "a = [i for i in range(10,100,10)]\n",
        "cos_sum_max = []\n",
        "for i in a:\n",
        "  np_topics_wordsScores_WTM = get_cosine_sum_topics(topwords_cos_sum=i)\n",
        "  _,sum_max,_,_ = keyw_sum_median_mean(np_topics_wordsScores_WTM)\n",
        "  cos_sum_max.append(sum_max)"
      ],
      "metadata": {
        "id": "Aro7jXO3eE4w"
      },
      "execution_count": null,
      "outputs": []
    },
    {
      "cell_type": "code",
      "source": [
        "cos_sum_max"
      ],
      "metadata": {
        "id": "ttMqJPS8phhN",
        "colab": {
          "base_uri": "https://localhost:8080/"
        },
        "outputId": "30c38002-c709-429b-d022-9763b23770a7"
      },
      "execution_count": null,
      "outputs": [
        {
          "output_type": "execute_result",
          "data": {
            "text/plain": [
              "[15.985258102416992,\n",
              " 31.262832641601562,\n",
              " 47.74919128417969,\n",
              " 62.70668411254883,\n",
              " 76.5947036743164,\n",
              " 91.42622375488281,\n",
              " 106.56011199951172,\n",
              " 121.78340148925781,\n",
              " 134.78677368164062]"
            ]
          },
          "metadata": {},
          "execution_count": 73
        }
      ]
    },
    {
      "cell_type": "code",
      "source": [
        "plot_cosine_sum(a,cos_sum_max,\"cos_sum_V_topwords\")"
      ],
      "metadata": {
        "id": "t-7No-hFe_HD",
        "colab": {
          "base_uri": "https://localhost:8080/",
          "height": 542
        },
        "outputId": "831ee917-6e9f-466c-b88d-78aa1c3fc74a"
      },
      "execution_count": null,
      "outputs": [
        {
          "output_type": "display_data",
          "data": {
            "text/html": [
              "<html>\n",
              "<head><meta charset=\"utf-8\" /></head>\n",
              "<body>\n",
              "    <div>            <script src=\"https://cdnjs.cloudflare.com/ajax/libs/mathjax/2.7.5/MathJax.js?config=TeX-AMS-MML_SVG\"></script><script type=\"text/javascript\">if (window.MathJax) {MathJax.Hub.Config({SVG: {font: \"STIX-Web\"}});}</script>                <script type=\"text/javascript\">window.PlotlyConfig = {MathJaxConfig: 'local'};</script>\n",
              "        <script src=\"https://cdn.plot.ly/plotly-2.8.3.min.js\"></script>                <div id=\"47371843-b0e1-4030-8676-50c02b4e61ce\" class=\"plotly-graph-div\" style=\"height:525px; width:100%;\"></div>            <script type=\"text/javascript\">                                    window.PLOTLYENV=window.PLOTLYENV || {};                                    if (document.getElementById(\"47371843-b0e1-4030-8676-50c02b4e61ce\")) {                    Plotly.newPlot(                        \"47371843-b0e1-4030-8676-50c02b4e61ce\",                        [{\"hovertemplate\":\"topwords=%{x}<br>cos_sum=%{text}<extra></extra>\",\"legendgroup\":\"\",\"line\":{\"color\":\"#636efa\",\"dash\":\"solid\"},\"marker\":{\"symbol\":\"circle\"},\"mode\":\"markers+text+lines\",\"name\":\"\",\"orientation\":\"v\",\"showlegend\":false,\"text\":[15.985258102416992,31.262832641601562,47.74919128417969,62.70668411254883,76.5947036743164,91.42622375488281,106.56011199951172,121.78340148925781,134.78677368164062],\"x\":[10,20,30,40,50,60,70,80,90],\"xaxis\":\"x\",\"y\":[15.985258102416992,31.262832641601562,47.74919128417969,62.70668411254883,76.5947036743164,91.42622375488281,106.56011199951172,121.78340148925781,134.78677368164062],\"yaxis\":\"y\",\"type\":\"scatter\",\"textposition\":\"bottom right\"}],                        {\"template\":{\"data\":{\"bar\":[{\"error_x\":{\"color\":\"#2a3f5f\"},\"error_y\":{\"color\":\"#2a3f5f\"},\"marker\":{\"line\":{\"color\":\"#E5ECF6\",\"width\":0.5},\"pattern\":{\"fillmode\":\"overlay\",\"size\":10,\"solidity\":0.2}},\"type\":\"bar\"}],\"barpolar\":[{\"marker\":{\"line\":{\"color\":\"#E5ECF6\",\"width\":0.5},\"pattern\":{\"fillmode\":\"overlay\",\"size\":10,\"solidity\":0.2}},\"type\":\"barpolar\"}],\"carpet\":[{\"aaxis\":{\"endlinecolor\":\"#2a3f5f\",\"gridcolor\":\"white\",\"linecolor\":\"white\",\"minorgridcolor\":\"white\",\"startlinecolor\":\"#2a3f5f\"},\"baxis\":{\"endlinecolor\":\"#2a3f5f\",\"gridcolor\":\"white\",\"linecolor\":\"white\",\"minorgridcolor\":\"white\",\"startlinecolor\":\"#2a3f5f\"},\"type\":\"carpet\"}],\"choropleth\":[{\"colorbar\":{\"outlinewidth\":0,\"ticks\":\"\"},\"type\":\"choropleth\"}],\"contour\":[{\"colorbar\":{\"outlinewidth\":0,\"ticks\":\"\"},\"colorscale\":[[0.0,\"#0d0887\"],[0.1111111111111111,\"#46039f\"],[0.2222222222222222,\"#7201a8\"],[0.3333333333333333,\"#9c179e\"],[0.4444444444444444,\"#bd3786\"],[0.5555555555555556,\"#d8576b\"],[0.6666666666666666,\"#ed7953\"],[0.7777777777777778,\"#fb9f3a\"],[0.8888888888888888,\"#fdca26\"],[1.0,\"#f0f921\"]],\"type\":\"contour\"}],\"contourcarpet\":[{\"colorbar\":{\"outlinewidth\":0,\"ticks\":\"\"},\"type\":\"contourcarpet\"}],\"heatmap\":[{\"colorbar\":{\"outlinewidth\":0,\"ticks\":\"\"},\"colorscale\":[[0.0,\"#0d0887\"],[0.1111111111111111,\"#46039f\"],[0.2222222222222222,\"#7201a8\"],[0.3333333333333333,\"#9c179e\"],[0.4444444444444444,\"#bd3786\"],[0.5555555555555556,\"#d8576b\"],[0.6666666666666666,\"#ed7953\"],[0.7777777777777778,\"#fb9f3a\"],[0.8888888888888888,\"#fdca26\"],[1.0,\"#f0f921\"]],\"type\":\"heatmap\"}],\"heatmapgl\":[{\"colorbar\":{\"outlinewidth\":0,\"ticks\":\"\"},\"colorscale\":[[0.0,\"#0d0887\"],[0.1111111111111111,\"#46039f\"],[0.2222222222222222,\"#7201a8\"],[0.3333333333333333,\"#9c179e\"],[0.4444444444444444,\"#bd3786\"],[0.5555555555555556,\"#d8576b\"],[0.6666666666666666,\"#ed7953\"],[0.7777777777777778,\"#fb9f3a\"],[0.8888888888888888,\"#fdca26\"],[1.0,\"#f0f921\"]],\"type\":\"heatmapgl\"}],\"histogram\":[{\"marker\":{\"pattern\":{\"fillmode\":\"overlay\",\"size\":10,\"solidity\":0.2}},\"type\":\"histogram\"}],\"histogram2d\":[{\"colorbar\":{\"outlinewidth\":0,\"ticks\":\"\"},\"colorscale\":[[0.0,\"#0d0887\"],[0.1111111111111111,\"#46039f\"],[0.2222222222222222,\"#7201a8\"],[0.3333333333333333,\"#9c179e\"],[0.4444444444444444,\"#bd3786\"],[0.5555555555555556,\"#d8576b\"],[0.6666666666666666,\"#ed7953\"],[0.7777777777777778,\"#fb9f3a\"],[0.8888888888888888,\"#fdca26\"],[1.0,\"#f0f921\"]],\"type\":\"histogram2d\"}],\"histogram2dcontour\":[{\"colorbar\":{\"outlinewidth\":0,\"ticks\":\"\"},\"colorscale\":[[0.0,\"#0d0887\"],[0.1111111111111111,\"#46039f\"],[0.2222222222222222,\"#7201a8\"],[0.3333333333333333,\"#9c179e\"],[0.4444444444444444,\"#bd3786\"],[0.5555555555555556,\"#d8576b\"],[0.6666666666666666,\"#ed7953\"],[0.7777777777777778,\"#fb9f3a\"],[0.8888888888888888,\"#fdca26\"],[1.0,\"#f0f921\"]],\"type\":\"histogram2dcontour\"}],\"mesh3d\":[{\"colorbar\":{\"outlinewidth\":0,\"ticks\":\"\"},\"type\":\"mesh3d\"}],\"parcoords\":[{\"line\":{\"colorbar\":{\"outlinewidth\":0,\"ticks\":\"\"}},\"type\":\"parcoords\"}],\"pie\":[{\"automargin\":true,\"type\":\"pie\"}],\"scatter\":[{\"marker\":{\"colorbar\":{\"outlinewidth\":0,\"ticks\":\"\"}},\"type\":\"scatter\"}],\"scatter3d\":[{\"line\":{\"colorbar\":{\"outlinewidth\":0,\"ticks\":\"\"}},\"marker\":{\"colorbar\":{\"outlinewidth\":0,\"ticks\":\"\"}},\"type\":\"scatter3d\"}],\"scattercarpet\":[{\"marker\":{\"colorbar\":{\"outlinewidth\":0,\"ticks\":\"\"}},\"type\":\"scattercarpet\"}],\"scattergeo\":[{\"marker\":{\"colorbar\":{\"outlinewidth\":0,\"ticks\":\"\"}},\"type\":\"scattergeo\"}],\"scattergl\":[{\"marker\":{\"colorbar\":{\"outlinewidth\":0,\"ticks\":\"\"}},\"type\":\"scattergl\"}],\"scattermapbox\":[{\"marker\":{\"colorbar\":{\"outlinewidth\":0,\"ticks\":\"\"}},\"type\":\"scattermapbox\"}],\"scatterpolar\":[{\"marker\":{\"colorbar\":{\"outlinewidth\":0,\"ticks\":\"\"}},\"type\":\"scatterpolar\"}],\"scatterpolargl\":[{\"marker\":{\"colorbar\":{\"outlinewidth\":0,\"ticks\":\"\"}},\"type\":\"scatterpolargl\"}],\"scatterternary\":[{\"marker\":{\"colorbar\":{\"outlinewidth\":0,\"ticks\":\"\"}},\"type\":\"scatterternary\"}],\"surface\":[{\"colorbar\":{\"outlinewidth\":0,\"ticks\":\"\"},\"colorscale\":[[0.0,\"#0d0887\"],[0.1111111111111111,\"#46039f\"],[0.2222222222222222,\"#7201a8\"],[0.3333333333333333,\"#9c179e\"],[0.4444444444444444,\"#bd3786\"],[0.5555555555555556,\"#d8576b\"],[0.6666666666666666,\"#ed7953\"],[0.7777777777777778,\"#fb9f3a\"],[0.8888888888888888,\"#fdca26\"],[1.0,\"#f0f921\"]],\"type\":\"surface\"}],\"table\":[{\"cells\":{\"fill\":{\"color\":\"#EBF0F8\"},\"line\":{\"color\":\"white\"}},\"header\":{\"fill\":{\"color\":\"#C8D4E3\"},\"line\":{\"color\":\"white\"}},\"type\":\"table\"}]},\"layout\":{\"annotationdefaults\":{\"arrowcolor\":\"#2a3f5f\",\"arrowhead\":0,\"arrowwidth\":1},\"autotypenumbers\":\"strict\",\"coloraxis\":{\"colorbar\":{\"outlinewidth\":0,\"ticks\":\"\"}},\"colorscale\":{\"diverging\":[[0,\"#8e0152\"],[0.1,\"#c51b7d\"],[0.2,\"#de77ae\"],[0.3,\"#f1b6da\"],[0.4,\"#fde0ef\"],[0.5,\"#f7f7f7\"],[0.6,\"#e6f5d0\"],[0.7,\"#b8e186\"],[0.8,\"#7fbc41\"],[0.9,\"#4d9221\"],[1,\"#276419\"]],\"sequential\":[[0.0,\"#0d0887\"],[0.1111111111111111,\"#46039f\"],[0.2222222222222222,\"#7201a8\"],[0.3333333333333333,\"#9c179e\"],[0.4444444444444444,\"#bd3786\"],[0.5555555555555556,\"#d8576b\"],[0.6666666666666666,\"#ed7953\"],[0.7777777777777778,\"#fb9f3a\"],[0.8888888888888888,\"#fdca26\"],[1.0,\"#f0f921\"]],\"sequentialminus\":[[0.0,\"#0d0887\"],[0.1111111111111111,\"#46039f\"],[0.2222222222222222,\"#7201a8\"],[0.3333333333333333,\"#9c179e\"],[0.4444444444444444,\"#bd3786\"],[0.5555555555555556,\"#d8576b\"],[0.6666666666666666,\"#ed7953\"],[0.7777777777777778,\"#fb9f3a\"],[0.8888888888888888,\"#fdca26\"],[1.0,\"#f0f921\"]]},\"colorway\":[\"#636efa\",\"#EF553B\",\"#00cc96\",\"#ab63fa\",\"#FFA15A\",\"#19d3f3\",\"#FF6692\",\"#B6E880\",\"#FF97FF\",\"#FECB52\"],\"font\":{\"color\":\"#2a3f5f\"},\"geo\":{\"bgcolor\":\"white\",\"lakecolor\":\"white\",\"landcolor\":\"#E5ECF6\",\"showlakes\":true,\"showland\":true,\"subunitcolor\":\"white\"},\"hoverlabel\":{\"align\":\"left\"},\"hovermode\":\"closest\",\"mapbox\":{\"style\":\"light\"},\"paper_bgcolor\":\"white\",\"plot_bgcolor\":\"#E5ECF6\",\"polar\":{\"angularaxis\":{\"gridcolor\":\"white\",\"linecolor\":\"white\",\"ticks\":\"\"},\"bgcolor\":\"#E5ECF6\",\"radialaxis\":{\"gridcolor\":\"white\",\"linecolor\":\"white\",\"ticks\":\"\"}},\"scene\":{\"xaxis\":{\"backgroundcolor\":\"#E5ECF6\",\"gridcolor\":\"white\",\"gridwidth\":2,\"linecolor\":\"white\",\"showbackground\":true,\"ticks\":\"\",\"zerolinecolor\":\"white\"},\"yaxis\":{\"backgroundcolor\":\"#E5ECF6\",\"gridcolor\":\"white\",\"gridwidth\":2,\"linecolor\":\"white\",\"showbackground\":true,\"ticks\":\"\",\"zerolinecolor\":\"white\"},\"zaxis\":{\"backgroundcolor\":\"#E5ECF6\",\"gridcolor\":\"white\",\"gridwidth\":2,\"linecolor\":\"white\",\"showbackground\":true,\"ticks\":\"\",\"zerolinecolor\":\"white\"}},\"shapedefaults\":{\"line\":{\"color\":\"#2a3f5f\"}},\"ternary\":{\"aaxis\":{\"gridcolor\":\"white\",\"linecolor\":\"white\",\"ticks\":\"\"},\"baxis\":{\"gridcolor\":\"white\",\"linecolor\":\"white\",\"ticks\":\"\"},\"bgcolor\":\"#E5ECF6\",\"caxis\":{\"gridcolor\":\"white\",\"linecolor\":\"white\",\"ticks\":\"\"}},\"title\":{\"x\":0.05},\"xaxis\":{\"automargin\":true,\"gridcolor\":\"white\",\"linecolor\":\"white\",\"ticks\":\"\",\"title\":{\"standoff\":15},\"zerolinecolor\":\"white\",\"zerolinewidth\":2},\"yaxis\":{\"automargin\":true,\"gridcolor\":\"white\",\"linecolor\":\"white\",\"ticks\":\"\",\"title\":{\"standoff\":15},\"zerolinecolor\":\"white\",\"zerolinewidth\":2}}},\"xaxis\":{\"anchor\":\"y\",\"domain\":[0.0,1.0],\"title\":{\"text\":\"topwords\"}},\"yaxis\":{\"anchor\":\"x\",\"domain\":[0.0,1.0],\"title\":{\"text\":\"cos_sum\"}},\"legend\":{\"tracegroupgap\":0},\"margin\":{\"t\":60}},                        {\"responsive\": true}                    ).then(function(){\n",
              "                            \n",
              "var gd = document.getElementById('47371843-b0e1-4030-8676-50c02b4e61ce');\n",
              "var x = new MutationObserver(function (mutations, observer) {{\n",
              "        var display = window.getComputedStyle(gd).display;\n",
              "        if (!display || display === 'none') {{\n",
              "            console.log([gd, 'removed!']);\n",
              "            Plotly.purge(gd);\n",
              "            observer.disconnect();\n",
              "        }}\n",
              "}});\n",
              "\n",
              "// Listen for the removal of the full notebook cells\n",
              "var notebookContainer = gd.closest('#notebook-container');\n",
              "if (notebookContainer) {{\n",
              "    x.observe(notebookContainer, {childList: true});\n",
              "}}\n",
              "\n",
              "// Listen for the clearing of the current output cell\n",
              "var outputEl = gd.closest('.output');\n",
              "if (outputEl) {{\n",
              "    x.observe(outputEl, {childList: true});\n",
              "}}\n",
              "\n",
              "                        })                };                            </script>        </div>\n",
              "</body>\n",
              "</html>"
            ]
          },
          "metadata": {}
        }
      ]
    },
    {
      "cell_type": "code",
      "source": [
        "print_keyw_sum_median_mean(np_topics_wordsScores_FoTo)"
      ],
      "metadata": {
        "id": "kj7sE7uU9SRJ",
        "colab": {
          "base_uri": "https://localhost:8080/",
          "height": 171
        },
        "outputId": "4cefff63-a152-4bdc-f43d-49d23f752bf0"
      },
      "execution_count": null,
      "outputs": [
        {
          "output_type": "error",
          "ename": "NameError",
          "evalue": "ignored",
          "traceback": [
            "\u001b[0;31m---------------------------------------------------------------------------\u001b[0m",
            "\u001b[0;31mNameError\u001b[0m                                 Traceback (most recent call last)",
            "\u001b[0;32m<ipython-input-75-ae6ff71ab272>\u001b[0m in \u001b[0;36m<module>\u001b[0;34m()\u001b[0m\n\u001b[0;32m----> 1\u001b[0;31m \u001b[0mprint_keyw_sum_median_mean\u001b[0m\u001b[0;34m(\u001b[0m\u001b[0mnp_topics_wordsScores_FoTo\u001b[0m\u001b[0;34m)\u001b[0m\u001b[0;34m\u001b[0m\u001b[0;34m\u001b[0m\u001b[0m\n\u001b[0m",
            "\u001b[0;31mNameError\u001b[0m: name 'print_keyw_sum_median_mean' is not defined"
          ]
        }
      ]
    },
    {
      "cell_type": "code",
      "source": [
        "print_keyw_sum_median_mean(np_topics_wordsScores_PLSV)"
      ],
      "metadata": {
        "id": "9jNi_3E99UW8"
      },
      "execution_count": null,
      "outputs": []
    },
    {
      "cell_type": "code",
      "source": [
        "plot_relv_topwords(keywords,np_topics_wordsScores_WTM)"
      ],
      "metadata": {
        "id": "-xFb1UGm9j2V"
      },
      "execution_count": null,
      "outputs": []
    },
    {
      "cell_type": "markdown",
      "source": [
        "#NDCG Score"
      ],
      "metadata": {
        "id": "kpAWP2KrSv1k"
      }
    },
    {
      "cell_type": "code",
      "source": [
        "from sklearn.metrics import ndcg_score\n",
        "## example\n",
        "true_relevance = np.asarray([[10, 0, 0, 1, 5]])\n",
        "scores = np.asarray([[.1, .2, .3, 4, 70]])\n",
        "ndcg_score(true_relevance, scores)"
      ],
      "metadata": {
        "colab": {
          "base_uri": "https://localhost:8080/"
        },
        "id": "cxqnUYcnSyV8",
        "outputId": "41e9c976-5c36-4851-a60b-963c06da0028"
      },
      "execution_count": null,
      "outputs": [
        {
          "output_type": "execute_result",
          "data": {
            "text/plain": [
              "0.6956940443813076"
            ]
          },
          "metadata": {},
          "execution_count": 76
        }
      ]
    },
    {
      "cell_type": "code",
      "source": [
        "def get_ndcg_topics(topwords_cos_sum):\n",
        "  all_topics = get_topwords(beta,id_vocab,topwords=topwords_cos_sum)\n",
        "  topics_wordlist = [topics.split(': ')[1].split(\" \") for topics in all_topics]\n",
        "  sorted_cosine_keywords = torch.sort(val,descending=True)\n",
        "  ids_of_words = []\n",
        "  for topics in topics_wordlist:\n",
        "    id_words_topic = []\n",
        "    for words in topics:\n",
        "      sorted_cosine_keywords.values\n",
        "      id_words_topic.append(vocab[words])\n",
        "    ids_of_words.append(id_words_topic)\n",
        "\n",
        "  order_topwords = np.arange(topwords_cos_sum,0,-1)\n",
        "  ndcg_topic = {}\n",
        "  max_cos_for_topwords = torch.max(sorted_cosine_keywords.values,0).values\n",
        "  # print(max_cos_for_topwords)\n",
        "  for ids in ids_of_words:\n",
        "    true_relevance = np.asarray([order_topwords])\n",
        "    scores = np.asarray([max_cos_for_topwords[ids].numpy()])\n",
        "    ndcg_sc = ndcg_score(true_relevance, scores)\n",
        "    ndcg_topic.setdefault(keywords[0],[]).append(ndcg_sc)\n",
        "\n",
        "  # cos_for_topwords = sorted_cosine_keywords.indices\n",
        "  # order_topwords = np.arange(topwords_cos_sum,0,-1)\n",
        "  # for i in range(len(cos_for_topwords)):\n",
        "  #   # print('\\n\\n\\n\\n')\n",
        "  #   for ids in ids_of_words:\n",
        "  #     true_relevance = np.asarray([order_topwords])\n",
        "  #     # print(keywords[i],cos_for_topwords[i][ids].numpy())\n",
        "  #     scores = np.asarray([cos_for_topwords[i][ids].numpy()])\n",
        "  #     ndcg_sc = ndcg_score(true_relevance, scores)\n",
        "  #     ndcg_topic.setdefault(keywords[i],[]).append(ndcg_sc)\n",
        "  gc.collect()\n",
        "  return ndcg_topic\n",
        ""
      ],
      "metadata": {
        "id": "zMIBIM8dTxdz"
      },
      "execution_count": null,
      "outputs": []
    },
    {
      "cell_type": "code",
      "source": [
        "a = [i for i in range(10,100,10)]\n",
        "ndcg_sum_max = []\n",
        "def toT(a): return torch.tensor(a)\n",
        "for i in a:\n",
        "  ndcg_topic = get_ndcg_topics(topwords_cos_sum=i)\n",
        "  ndcg_topic_scores = toT(np.asarray(list(ndcg_topic.values())))\n",
        "  _,sum_max,_,_ = keyw_sum_median_mean(ndcg_topic_scores)\n",
        "  ndcg_sum_max.append(sum_max)"
      ],
      "metadata": {
        "id": "g2Upf6IngUnP"
      },
      "execution_count": null,
      "outputs": []
    },
    {
      "cell_type": "code",
      "source": [
        "ndcg_sum_max"
      ],
      "metadata": {
        "colab": {
          "base_uri": "https://localhost:8080/"
        },
        "id": "9FafkxhalDHC",
        "outputId": "dcc842b9-8f8f-4423-cf6f-596717e4db87"
      },
      "execution_count": null,
      "outputs": [
        {
          "output_type": "execute_result",
          "data": {
            "text/plain": [
              "[12.431380477012464,\n",
              " 12.419263840845602,\n",
              " 12.257638684279117,\n",
              " 12.065759851384305,\n",
              " 12.127536966454773,\n",
              " 12.175671514268892,\n",
              " 12.213057227366612,\n",
              " 12.376113334327043,\n",
              " 12.356216786674208]"
            ]
          },
          "metadata": {},
          "execution_count": 98
        }
      ]
    },
    {
      "cell_type": "code",
      "source": [
        "wtm_ndcg = []"
      ],
      "metadata": {
        "id": "d-FH4DWSgisA"
      },
      "execution_count": null,
      "outputs": []
    },
    {
      "cell_type": "code",
      "source": [
        "plot_relative_diff(a,ndcg_sum_max,wtm_ndcg,\"WTM\",\"ndcg_V_topwords\",\"ndcg_score\",\"topwords\")"
      ],
      "metadata": {
        "colab": {
          "base_uri": "https://localhost:8080/",
          "height": 542
        },
        "outputId": "3dc4a939-afe0-43a7-d49c-4731513952fe",
        "id": "YT1nSUnHgisB"
      },
      "execution_count": null,
      "outputs": [
        {
          "output_type": "display_data",
          "data": {
            "text/html": [
              "<html>\n",
              "<head><meta charset=\"utf-8\" /></head>\n",
              "<body>\n",
              "    <div>            <script src=\"https://cdnjs.cloudflare.com/ajax/libs/mathjax/2.7.5/MathJax.js?config=TeX-AMS-MML_SVG\"></script><script type=\"text/javascript\">if (window.MathJax) {MathJax.Hub.Config({SVG: {font: \"STIX-Web\"}});}</script>                <script type=\"text/javascript\">window.PlotlyConfig = {MathJaxConfig: 'local'};</script>\n",
              "        <script src=\"https://cdn.plot.ly/plotly-2.8.3.min.js\"></script>                <div id=\"7921fb4a-ea4e-4ea3-b523-61e693faedc6\" class=\"plotly-graph-div\" style=\"height:525px; width:100%;\"></div>            <script type=\"text/javascript\">                                    window.PLOTLYENV=window.PLOTLYENV || {};                                    if (document.getElementById(\"7921fb4a-ea4e-4ea3-b523-61e693faedc6\")) {                    Plotly.newPlot(                        \"7921fb4a-ea4e-4ea3-b523-61e693faedc6\",                        [{\"mode\":\"lines+markers\",\"name\":\"FoTo\",\"x\":[10,20,30,40,50,60,70,80,90],\"y\":[12.431380477012464,12.419263840845602,12.257638684279117,12.065759851384305,12.127536966454773,12.175671514268892,12.213057227366612,12.376113334327043,12.356216786674208],\"type\":\"scatter\"},{\"mode\":\"lines+markers\",\"name\":\"WTM\",\"x\":[10,20,30,40,50,60,70,80,90],\"y\":[],\"type\":\"scatter\"}],                        {\"template\":{\"data\":{\"bar\":[{\"error_x\":{\"color\":\"#2a3f5f\"},\"error_y\":{\"color\":\"#2a3f5f\"},\"marker\":{\"line\":{\"color\":\"#E5ECF6\",\"width\":0.5},\"pattern\":{\"fillmode\":\"overlay\",\"size\":10,\"solidity\":0.2}},\"type\":\"bar\"}],\"barpolar\":[{\"marker\":{\"line\":{\"color\":\"#E5ECF6\",\"width\":0.5},\"pattern\":{\"fillmode\":\"overlay\",\"size\":10,\"solidity\":0.2}},\"type\":\"barpolar\"}],\"carpet\":[{\"aaxis\":{\"endlinecolor\":\"#2a3f5f\",\"gridcolor\":\"white\",\"linecolor\":\"white\",\"minorgridcolor\":\"white\",\"startlinecolor\":\"#2a3f5f\"},\"baxis\":{\"endlinecolor\":\"#2a3f5f\",\"gridcolor\":\"white\",\"linecolor\":\"white\",\"minorgridcolor\":\"white\",\"startlinecolor\":\"#2a3f5f\"},\"type\":\"carpet\"}],\"choropleth\":[{\"colorbar\":{\"outlinewidth\":0,\"ticks\":\"\"},\"type\":\"choropleth\"}],\"contour\":[{\"colorbar\":{\"outlinewidth\":0,\"ticks\":\"\"},\"colorscale\":[[0.0,\"#0d0887\"],[0.1111111111111111,\"#46039f\"],[0.2222222222222222,\"#7201a8\"],[0.3333333333333333,\"#9c179e\"],[0.4444444444444444,\"#bd3786\"],[0.5555555555555556,\"#d8576b\"],[0.6666666666666666,\"#ed7953\"],[0.7777777777777778,\"#fb9f3a\"],[0.8888888888888888,\"#fdca26\"],[1.0,\"#f0f921\"]],\"type\":\"contour\"}],\"contourcarpet\":[{\"colorbar\":{\"outlinewidth\":0,\"ticks\":\"\"},\"type\":\"contourcarpet\"}],\"heatmap\":[{\"colorbar\":{\"outlinewidth\":0,\"ticks\":\"\"},\"colorscale\":[[0.0,\"#0d0887\"],[0.1111111111111111,\"#46039f\"],[0.2222222222222222,\"#7201a8\"],[0.3333333333333333,\"#9c179e\"],[0.4444444444444444,\"#bd3786\"],[0.5555555555555556,\"#d8576b\"],[0.6666666666666666,\"#ed7953\"],[0.7777777777777778,\"#fb9f3a\"],[0.8888888888888888,\"#fdca26\"],[1.0,\"#f0f921\"]],\"type\":\"heatmap\"}],\"heatmapgl\":[{\"colorbar\":{\"outlinewidth\":0,\"ticks\":\"\"},\"colorscale\":[[0.0,\"#0d0887\"],[0.1111111111111111,\"#46039f\"],[0.2222222222222222,\"#7201a8\"],[0.3333333333333333,\"#9c179e\"],[0.4444444444444444,\"#bd3786\"],[0.5555555555555556,\"#d8576b\"],[0.6666666666666666,\"#ed7953\"],[0.7777777777777778,\"#fb9f3a\"],[0.8888888888888888,\"#fdca26\"],[1.0,\"#f0f921\"]],\"type\":\"heatmapgl\"}],\"histogram\":[{\"marker\":{\"pattern\":{\"fillmode\":\"overlay\",\"size\":10,\"solidity\":0.2}},\"type\":\"histogram\"}],\"histogram2d\":[{\"colorbar\":{\"outlinewidth\":0,\"ticks\":\"\"},\"colorscale\":[[0.0,\"#0d0887\"],[0.1111111111111111,\"#46039f\"],[0.2222222222222222,\"#7201a8\"],[0.3333333333333333,\"#9c179e\"],[0.4444444444444444,\"#bd3786\"],[0.5555555555555556,\"#d8576b\"],[0.6666666666666666,\"#ed7953\"],[0.7777777777777778,\"#fb9f3a\"],[0.8888888888888888,\"#fdca26\"],[1.0,\"#f0f921\"]],\"type\":\"histogram2d\"}],\"histogram2dcontour\":[{\"colorbar\":{\"outlinewidth\":0,\"ticks\":\"\"},\"colorscale\":[[0.0,\"#0d0887\"],[0.1111111111111111,\"#46039f\"],[0.2222222222222222,\"#7201a8\"],[0.3333333333333333,\"#9c179e\"],[0.4444444444444444,\"#bd3786\"],[0.5555555555555556,\"#d8576b\"],[0.6666666666666666,\"#ed7953\"],[0.7777777777777778,\"#fb9f3a\"],[0.8888888888888888,\"#fdca26\"],[1.0,\"#f0f921\"]],\"type\":\"histogram2dcontour\"}],\"mesh3d\":[{\"colorbar\":{\"outlinewidth\":0,\"ticks\":\"\"},\"type\":\"mesh3d\"}],\"parcoords\":[{\"line\":{\"colorbar\":{\"outlinewidth\":0,\"ticks\":\"\"}},\"type\":\"parcoords\"}],\"pie\":[{\"automargin\":true,\"type\":\"pie\"}],\"scatter\":[{\"marker\":{\"colorbar\":{\"outlinewidth\":0,\"ticks\":\"\"}},\"type\":\"scatter\"}],\"scatter3d\":[{\"line\":{\"colorbar\":{\"outlinewidth\":0,\"ticks\":\"\"}},\"marker\":{\"colorbar\":{\"outlinewidth\":0,\"ticks\":\"\"}},\"type\":\"scatter3d\"}],\"scattercarpet\":[{\"marker\":{\"colorbar\":{\"outlinewidth\":0,\"ticks\":\"\"}},\"type\":\"scattercarpet\"}],\"scattergeo\":[{\"marker\":{\"colorbar\":{\"outlinewidth\":0,\"ticks\":\"\"}},\"type\":\"scattergeo\"}],\"scattergl\":[{\"marker\":{\"colorbar\":{\"outlinewidth\":0,\"ticks\":\"\"}},\"type\":\"scattergl\"}],\"scattermapbox\":[{\"marker\":{\"colorbar\":{\"outlinewidth\":0,\"ticks\":\"\"}},\"type\":\"scattermapbox\"}],\"scatterpolar\":[{\"marker\":{\"colorbar\":{\"outlinewidth\":0,\"ticks\":\"\"}},\"type\":\"scatterpolar\"}],\"scatterpolargl\":[{\"marker\":{\"colorbar\":{\"outlinewidth\":0,\"ticks\":\"\"}},\"type\":\"scatterpolargl\"}],\"scatterternary\":[{\"marker\":{\"colorbar\":{\"outlinewidth\":0,\"ticks\":\"\"}},\"type\":\"scatterternary\"}],\"surface\":[{\"colorbar\":{\"outlinewidth\":0,\"ticks\":\"\"},\"colorscale\":[[0.0,\"#0d0887\"],[0.1111111111111111,\"#46039f\"],[0.2222222222222222,\"#7201a8\"],[0.3333333333333333,\"#9c179e\"],[0.4444444444444444,\"#bd3786\"],[0.5555555555555556,\"#d8576b\"],[0.6666666666666666,\"#ed7953\"],[0.7777777777777778,\"#fb9f3a\"],[0.8888888888888888,\"#fdca26\"],[1.0,\"#f0f921\"]],\"type\":\"surface\"}],\"table\":[{\"cells\":{\"fill\":{\"color\":\"#EBF0F8\"},\"line\":{\"color\":\"white\"}},\"header\":{\"fill\":{\"color\":\"#C8D4E3\"},\"line\":{\"color\":\"white\"}},\"type\":\"table\"}]},\"layout\":{\"annotationdefaults\":{\"arrowcolor\":\"#2a3f5f\",\"arrowhead\":0,\"arrowwidth\":1},\"autotypenumbers\":\"strict\",\"coloraxis\":{\"colorbar\":{\"outlinewidth\":0,\"ticks\":\"\"}},\"colorscale\":{\"diverging\":[[0,\"#8e0152\"],[0.1,\"#c51b7d\"],[0.2,\"#de77ae\"],[0.3,\"#f1b6da\"],[0.4,\"#fde0ef\"],[0.5,\"#f7f7f7\"],[0.6,\"#e6f5d0\"],[0.7,\"#b8e186\"],[0.8,\"#7fbc41\"],[0.9,\"#4d9221\"],[1,\"#276419\"]],\"sequential\":[[0.0,\"#0d0887\"],[0.1111111111111111,\"#46039f\"],[0.2222222222222222,\"#7201a8\"],[0.3333333333333333,\"#9c179e\"],[0.4444444444444444,\"#bd3786\"],[0.5555555555555556,\"#d8576b\"],[0.6666666666666666,\"#ed7953\"],[0.7777777777777778,\"#fb9f3a\"],[0.8888888888888888,\"#fdca26\"],[1.0,\"#f0f921\"]],\"sequentialminus\":[[0.0,\"#0d0887\"],[0.1111111111111111,\"#46039f\"],[0.2222222222222222,\"#7201a8\"],[0.3333333333333333,\"#9c179e\"],[0.4444444444444444,\"#bd3786\"],[0.5555555555555556,\"#d8576b\"],[0.6666666666666666,\"#ed7953\"],[0.7777777777777778,\"#fb9f3a\"],[0.8888888888888888,\"#fdca26\"],[1.0,\"#f0f921\"]]},\"colorway\":[\"#636efa\",\"#EF553B\",\"#00cc96\",\"#ab63fa\",\"#FFA15A\",\"#19d3f3\",\"#FF6692\",\"#B6E880\",\"#FF97FF\",\"#FECB52\"],\"font\":{\"color\":\"#2a3f5f\"},\"geo\":{\"bgcolor\":\"white\",\"lakecolor\":\"white\",\"landcolor\":\"#E5ECF6\",\"showlakes\":true,\"showland\":true,\"subunitcolor\":\"white\"},\"hoverlabel\":{\"align\":\"left\"},\"hovermode\":\"closest\",\"mapbox\":{\"style\":\"light\"},\"paper_bgcolor\":\"white\",\"plot_bgcolor\":\"#E5ECF6\",\"polar\":{\"angularaxis\":{\"gridcolor\":\"white\",\"linecolor\":\"white\",\"ticks\":\"\"},\"bgcolor\":\"#E5ECF6\",\"radialaxis\":{\"gridcolor\":\"white\",\"linecolor\":\"white\",\"ticks\":\"\"}},\"scene\":{\"xaxis\":{\"backgroundcolor\":\"#E5ECF6\",\"gridcolor\":\"white\",\"gridwidth\":2,\"linecolor\":\"white\",\"showbackground\":true,\"ticks\":\"\",\"zerolinecolor\":\"white\"},\"yaxis\":{\"backgroundcolor\":\"#E5ECF6\",\"gridcolor\":\"white\",\"gridwidth\":2,\"linecolor\":\"white\",\"showbackground\":true,\"ticks\":\"\",\"zerolinecolor\":\"white\"},\"zaxis\":{\"backgroundcolor\":\"#E5ECF6\",\"gridcolor\":\"white\",\"gridwidth\":2,\"linecolor\":\"white\",\"showbackground\":true,\"ticks\":\"\",\"zerolinecolor\":\"white\"}},\"shapedefaults\":{\"line\":{\"color\":\"#2a3f5f\"}},\"ternary\":{\"aaxis\":{\"gridcolor\":\"white\",\"linecolor\":\"white\",\"ticks\":\"\"},\"baxis\":{\"gridcolor\":\"white\",\"linecolor\":\"white\",\"ticks\":\"\"},\"bgcolor\":\"#E5ECF6\",\"caxis\":{\"gridcolor\":\"white\",\"linecolor\":\"white\",\"ticks\":\"\"}},\"title\":{\"x\":0.05},\"xaxis\":{\"automargin\":true,\"gridcolor\":\"white\",\"linecolor\":\"white\",\"ticks\":\"\",\"title\":{\"standoff\":15},\"zerolinecolor\":\"white\",\"zerolinewidth\":2},\"yaxis\":{\"automargin\":true,\"gridcolor\":\"white\",\"linecolor\":\"white\",\"ticks\":\"\",\"title\":{\"standoff\":15},\"zerolinecolor\":\"white\",\"zerolinewidth\":2}}},\"title\":{\"text\":\"ndcg_V_topwords\"},\"yaxis\":{\"title\":{\"text\":\"ndcg_score\"}},\"xaxis\":{\"title\":{\"text\":\"topwords\"}}},                        {\"responsive\": true}                    ).then(function(){\n",
              "                            \n",
              "var gd = document.getElementById('7921fb4a-ea4e-4ea3-b523-61e693faedc6');\n",
              "var x = new MutationObserver(function (mutations, observer) {{\n",
              "        var display = window.getComputedStyle(gd).display;\n",
              "        if (!display || display === 'none') {{\n",
              "            console.log([gd, 'removed!']);\n",
              "            Plotly.purge(gd);\n",
              "            observer.disconnect();\n",
              "        }}\n",
              "}});\n",
              "\n",
              "// Listen for the removal of the full notebook cells\n",
              "var notebookContainer = gd.closest('#notebook-container');\n",
              "if (notebookContainer) {{\n",
              "    x.observe(notebookContainer, {childList: true});\n",
              "}}\n",
              "\n",
              "// Listen for the clearing of the current output cell\n",
              "var outputEl = gd.closest('.output');\n",
              "if (outputEl) {{\n",
              "    x.observe(outputEl, {childList: true});\n",
              "}}\n",
              "\n",
              "                        })                };                            </script>        </div>\n",
              "</body>\n",
              "</html>"
            ]
          },
          "metadata": {}
        }
      ]
    },
    {
      "cell_type": "markdown",
      "source": [
        "# Furthur Evaluation (TTM etc..)"
      ],
      "metadata": {
        "id": "nt3Y9cqyMPAB"
      }
    },
    {
      "cell_type": "code",
      "source": [
        "np_topics_wordsScores_FoTo"
      ],
      "metadata": {
        "id": "MIRPRCo68zbL"
      },
      "execution_count": null,
      "outputs": []
    },
    {
      "cell_type": "code",
      "source": [
        "## ToDo\n",
        "\n",
        "# vis of bbc, searchsnippet: Foto, TTM, WTM: 10, 20, 30 topics, old beta, heatmap\n",
        "# sum cosine scores top words (10, 20)"
      ],
      "metadata": {
        "id": "JYUJvcuIKl6J"
      },
      "execution_count": null,
      "outputs": []
    },
    {
      "cell_type": "code",
      "source": [
        "# New Beta cos (for long text) -\n",
        "# softmax((\\tau*\\keyEmbT)*\\cos)\n",
        "# ------------------------------\n",
        "# 0: democracy korean representative star actress action war republic actor amazon stanford college party asian photo school info president critic life\n",
        "# 1: news wikipedia business computer system online game resource encyclopedia health web wiki sport article theory journal service book program link\n",
        "# 2: physic computer service device sale digital theme drama software music performance radio field journal internet database program driver development company\n",
        "# 3: gov team news product topic global issue cover solution management source article consumer overview history application division multi learn system\n",
        "# 4: drama art classical dance character literature beatles ballet architecture television fashion cup artist photography literary philosopher doctor museum film movie\n",
        "# 5: solving square maintenance implication enabling lose monitoring roadmap amp disaster handling monitor vendor problem control environmental solution recovery function measure\n",
        "# 6: movie culture film school democracy college star actor war blog republic car chinese forum tom character action doctor actress football\n",
        "# 7: korean eng representative gov korea sun star democracy actress spotlight dennis powered action doc ngo head israel bush men cross\n",
        "# 8: science music art yahoo political library market search student course theoretical site video job american fashion graduate philosophy digital museum\n",
        "# 9: democracy korean representative star actress action war republic actor amazon stanford college party asian photo school info president critic life\n",
        "# ------------------------------\n",
        "# ['korean', 'drama']\n",
        "\n",
        "# --------------------------------------- VS -------------------------------------------\n",
        "# Old Beta cos (For short text)\n",
        "# softmax ( (\\omegaT*\\tau).cos)\n",
        "# ------------------------------\n",
        "# 0: game sport news football wikipedia soccer team league player tennis match ticket wiki espn article club website racing encyclopedia olympic\n",
        "# 1: computer software network memory web drug intel system electrical linux server device company virtual download motor core processor source document\n",
        "# 2: wikipedia journal theory computer program system web science university article wiki paper theoretical programming encyclopedia physic center data link engineering\n",
        "# 3: amazon book history wikipedia car house online film encyclopedia award video model search american people photo event production community wiki\n",
        "# 4: business health gov market service trade cancer economic product management news disease national bank global exchange federal stock resource public\n",
        "# 5: party democracy political war system republic government democratic presidential election president income parliamentary politics automatic stress people europe representative tax\n",
        "# 6: movie culture imdb star news american oscar film actor disney tom director george ancient robert character cartoon guide biography leonardo\n",
        "# 7: science school library news student yahoo course directory job education online resource graduate study search site philosophy physical degree master\n",
        "# 8: gov engine calorie military healthy hiv diet theorem food diagnosis aid fitness force hospital earth medical weapon north legislation weight\n",
        "# 9: music art fashion digital band artist lyric review wheel rock album classical romantic video piano painting camera pop designer television\n",
        "# ------------------------------\n",
        "# ['korean', 'drama']"
      ],
      "metadata": {
        "id": "2RImm7Sm7AKc"
      },
      "execution_count": null,
      "outputs": []
    },
    {
      "cell_type": "code",
      "execution_count": null,
      "metadata": {
        "id": "i-yI2tVon4Hw"
      },
      "outputs": [],
      "source": []
    },
    {
      "cell_type": "code",
      "execution_count": null,
      "metadata": {
        "id": "lF7nl5p3fYfP"
      },
      "outputs": [],
      "source": [
        "## How much are the topic topwords relevant to keywords\n",
        "## (Calc using cosine sim score)\n",
        "# with_cos_score_more_than = 0.45\n",
        "\n",
        "all_topics = get_topwords(beta,id_vocab,topwords=30)\n",
        "topics_wordlist = [topics.split(': ')[1].split(\" \") for topics in all_topics]\n",
        "# topic_key_idx = [flatten_topics_wordlist.index(k) for k in keywords]\n",
        "np_flatten_topics_wordlist = np.array(flatten_list(topics_wordlist))\n",
        "topics_wordtensors = get_embedding_tensor(np_flatten_topics_wordlist,embeddings)\n",
        "\n",
        "topics_wordsScores,*_ = cosine_keywords(keywords,topics_wordtensors,np_flatten_topics_wordlist,cosine_sqrt)\n",
        "# np_topics_wordsScores = torch_min_max_sim(list_of_tensors_to_tensor(topics_wordsScores),topic_key_idx,3)\n",
        "np_topics_wordsScores = list_of_tensors_to_tensor(topics_wordsScores)\n",
        "# relv_topic_words = flatten_topics_wordlist[np.where(topics_wordsScores>with_cos_score_more_than)[0]]\n",
        "# relv_topic_words , len(relv_topic_words)\n",
        "len(np_flatten_topics_wordlist)"
      ]
    },
    {
      "cell_type": "code",
      "source": [
        "keywords,torch.max(np_topics_wordsScores,0).values.sum().item() , torch.mean(np_topics_wordsScores,-1) , torch.median(np_topics_wordsScores,-1).values"
      ],
      "metadata": {
        "id": "KbDSc4XFNaVQ"
      },
      "execution_count": null,
      "outputs": []
    },
    {
      "cell_type": "code",
      "source": [
        "plot_relv_topwords(keywords,np_topics_wordsScores)"
      ],
      "metadata": {
        "id": "g7SBImS5eEmz"
      },
      "execution_count": null,
      "outputs": []
    },
    {
      "cell_type": "code",
      "source": [
        "# save_obj(beta,'beta_'+d_data)\n",
        "# save_obj(id_vocab,'id_vocab_'+d_data)\n",
        "# save_obj(keywords,'keywords_'+d_data)\n",
        "# !zip -r bbc_results_t15_3k_FoTo.zip *.pkl"
      ],
      "metadata": {
        "id": "iG6WFnSzZBob"
      },
      "execution_count": null,
      "outputs": []
    },
    {
      "cell_type": "code",
      "source": [
        "!wget -N -c https://www.dropbox.com/s/s0xi2fnk5kz72wx/ttm_more_results.zip\n",
        "!unzip -o ttm_more_results.zip"
      ],
      "metadata": {
        "id": "Mk6MhSyYMpr6"
      },
      "execution_count": null,
      "outputs": []
    },
    {
      "cell_type": "code",
      "source": [
        "from os import listdir\n",
        "from os.path import isfile, join\n",
        "import pandas as pd\n",
        "# % cd /content/short\n",
        "mypath = \"/content/short\"\n",
        "onlyfiles = [f for f in listdir(mypath) if isfile(join(mypath, f))]\n",
        "csv_files = []\n",
        "for o in onlyfiles:\n",
        "  for k in keywords:\n",
        "    if k+\"-PT-5-1-Iter-250\" in o and \"target-keyword\" in o:\n",
        "      csv_files.append(o)\n",
        "\n",
        "## get all words\n",
        "all_words = []\n",
        "for c in csv_files:\n",
        "  df = pd.read_csv(c)\n",
        "  words = df.values.reshape(-1)\n",
        "  words_cleaned = [a for a in words if str(a).isalpha() == True and str(a) != 'nan']\n",
        "  all_words.extend(words_cleaned[:150])\n",
        "all_words = np.asarray(all_words)\n",
        "\n",
        "topics_wordtensors = get_embedding_tensor(all_words,embeddings)\n",
        "topics_wordsScores,*_ = cosine_keywords(keywords,topics_wordtensors,np_flatten_topics_wordlist,cosine_sqrt)\n",
        "np_topics_wordsScores = list_of_tensors_to_tensor(topics_wordsScores)\n",
        "# len(all_words)"
      ],
      "metadata": {
        "id": "qPB-kqAoZ5aJ"
      },
      "execution_count": null,
      "outputs": []
    },
    {
      "cell_type": "code",
      "source": [
        "keywords,torch.max(np_topics_wordsScores,0).values.sum().item() , torch.mean(np_topics_wordsScores,-1) , torch.median(np_topics_wordsScores,-1).values"
      ],
      "metadata": {
        "id": "0cTDQI5rdVFY"
      },
      "execution_count": null,
      "outputs": []
    },
    {
      "cell_type": "code",
      "source": [
        "plot_relv_topwords(keywords,np_topics_wordsScores)"
      ],
      "metadata": {
        "id": "Cy8QmO-Zdw8u"
      },
      "execution_count": null,
      "outputs": []
    },
    {
      "cell_type": "code",
      "source": [
        "## how to select topwords for TTM if topics have empty topwords?\n",
        "## the cosine score is as per the embeddings we generated is that fair?"
      ],
      "metadata": {
        "id": "NnxWPIpEdAU8"
      },
      "execution_count": null,
      "outputs": []
    },
    {
      "cell_type": "markdown",
      "metadata": {
        "id": "TPfQ0IUnPlfi"
      },
      "source": [
        "# Save/Download Results"
      ]
    },
    {
      "cell_type": "code",
      "source": [
        "STOP!!"
      ],
      "metadata": {
        "id": "NZMcqg9-MXyl"
      },
      "execution_count": null,
      "outputs": []
    },
    {
      "cell_type": "code",
      "execution_count": null,
      "metadata": {
        "id": "475CSACcuqNS"
      },
      "outputs": [],
      "source": [
        "doc_ids_model = [i.item() for i in doc_ids]"
      ]
    },
    {
      "cell_type": "code",
      "execution_count": null,
      "metadata": {
        "id": "uLNlLcmYiA59"
      },
      "outputs": [],
      "source": [
        "save_obj(get_topwords(beta, id_vocab),\"top100_docmodel_\"+d_data)"
      ]
    },
    {
      "cell_type": "code",
      "execution_count": null,
      "metadata": {
        "id": "-REuGjLoGIU_"
      },
      "outputs": [],
      "source": [
        "save_obj(x_list,\"x_list\")\n",
        "save_obj(indices,\"doc_id_desm\")\n",
        "save_obj(doc_ids_model,\"doc_ids_model\")\n",
        "save_obj(labels_list,\"labels_list\")\n",
        "save_obj(all_rscores,\"all_rscores\")\n",
        "save_obj(keywords,'keywords_'+d_data)"
      ]
    },
    {
      "cell_type": "code",
      "execution_count": null,
      "metadata": {
        "id": "EYDLajZGGaFr"
      },
      "outputs": [],
      "source": [
        "from google.colab import files\n",
        "files.download(\"doc_ids_model.pkl\")\n",
        "files.download(\"doc_id_desm.pkl\")\n",
        "files.download(\"x_list.pkl\")\n",
        "files.download(\"labels_list.pkl\")\n",
        "files.download(\"all_rscores.pkl\")\n",
        "files.download(\"keywords_\"+d_data+\".pkl\")\n",
        "files.download(\"top100_docmodel_\"+d_data+\".pkl\")"
      ]
    },
    {
      "cell_type": "code",
      "execution_count": null,
      "metadata": {
        "id": "xmeP5Rjmoxyg"
      },
      "outputs": [],
      "source": [
        "rm -r *.pkl*"
      ]
    }
  ],
  "metadata": {
    "accelerator": "GPU",
    "colab": {
      "collapsed_sections": [
        "oC_2iVJ0RxWY",
        "TeQ-X4wx45iA",
        "f8wJtTb42ioB",
        "DQmnmNU2pN8K",
        "CCBiqaMRpRBi",
        "K0zQCuyY_kaq",
        "Ew89XnAFbbYP",
        "kNBWvIY5itSO",
        "_H35cwZwSR2O",
        "_ElmsnJB1Dzb",
        "XwcrBK2pe4Qc",
        "RafVPKDmxCVb",
        "hObifgOHF_Gw",
        "nt3Y9cqyMPAB",
        "TPfQ0IUnPlfi"
      ],
      "provenance": [],
      "include_colab_link": true
    },
    "kernelspec": {
      "display_name": "Python 3",
      "name": "python3"
    }
  },
  "nbformat": 4,
  "nbformat_minor": 0
}