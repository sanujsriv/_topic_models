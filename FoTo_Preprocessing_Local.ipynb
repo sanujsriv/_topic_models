{
  "nbformat": 4,
  "nbformat_minor": 0,
  "metadata": {
    "colab": {
      "provenance": [],
      "toc_visible": true,
      "include_colab_link": true
    },
    "kernelspec": {
      "name": "python3",
      "display_name": "Python 3"
    }
  },
  "cells": [
    {
      "cell_type": "markdown",
      "metadata": {
        "id": "view-in-github",
        "colab_type": "text"
      },
      "source": [
        "<a href=\"https://colab.research.google.com/github/sanujsriv/_topic_models/blob/FoTo/FoTo_Preprocessing_Local.ipynb\" target=\"_parent\"><img src=\"https://colab.research.google.com/assets/colab-badge.svg\" alt=\"Open In Colab\"/></a>"
      ]
    },
    {
      "cell_type": "code",
      "metadata": {
        "id": "HASuoYkFWPzg",
        "cellView": "form"
      },
      "source": [
        "#@title Browsing to Local Directory\n",
        "import os\n",
        "os.chdir(\"C:/Users/sanuj/Documents/FoTo/\")\n",
        "!dir"
      ],
      "execution_count": null,
      "outputs": []
    },
    {
      "cell_type": "code",
      "metadata": {
        "id": "j5jTIh_kZsNf",
        "cellView": "form",
        "colab": {
          "base_uri": "https://localhost:8080/"
        },
        "outputId": "f913c25c-20ef-4cac-9fcb-e16684fd8b2e"
      },
      "source": [
        "#@title Download Stopwords , punkt, wordnet\n",
        "import nltk\n",
        "nltk.download('stopwords')\n",
        "nltk.download('punkt')\n",
        "nltk.download('wordnet')"
      ],
      "execution_count": null,
      "outputs": [
        {
          "output_type": "stream",
          "text": [
            "[nltk_data] Downloading package stopwords to /root/nltk_data...\n",
            "[nltk_data]   Unzipping corpora/stopwords.zip.\n",
            "[nltk_data] Downloading package punkt to /root/nltk_data...\n",
            "[nltk_data]   Unzipping tokenizers/punkt.zip.\n",
            "[nltk_data] Downloading package wordnet to /root/nltk_data...\n",
            "[nltk_data]   Unzipping corpora/wordnet.zip.\n"
          ],
          "name": "stdout"
        },
        {
          "output_type": "execute_result",
          "data": {
            "text/plain": [
              "True"
            ]
          },
          "metadata": {
            "tags": []
          },
          "execution_count": 1
        }
      ]
    },
    {
      "cell_type": "code",
      "metadata": {
        "id": "gn9JFNO4qjuf",
        "cellView": "form"
      },
      "source": [
        "#@title Imports\n",
        "import torch\n",
        "import pandas as pd\n",
        "from torch import nn\n",
        "import re\n",
        "from time import time\n",
        "import numpy as np\n",
        "import collections\n",
        "import torch.optim as optim\n",
        "from sklearn.feature_extraction.text import CountVectorizer\n",
        "from nltk.corpus import stopwords"
      ],
      "execution_count": null,
      "outputs": []
    },
    {
      "cell_type": "code",
      "metadata": {
        "id": "EivGqJ7vBoAo",
        "cellView": "form"
      },
      "source": [
        "#@title function : load / save pickle_obj\n",
        "import pickle\n",
        "\n",
        "def save_obj(obj, name):\n",
        "    with open(name + '.pkl', 'wb') as f:\n",
        "        pickle.dump(obj, f, pickle.HIGHEST_PROTOCOL)\n",
        "\n",
        "def load_obj(name):\n",
        "    with open(name + '.pkl', 'rb') as f:\n",
        "        return pickle.load(f)"
      ],
      "execution_count": null,
      "outputs": []
    },
    {
      "cell_type": "code",
      "metadata": {
        "id": "bZcnoeYRqRGJ",
        "cellView": "form"
      },
      "source": [
        "# @title preprocessing non-stem (old)\n",
        "# import sklearn\n",
        "# import re\n",
        "# import string\n",
        "# from numpy import random\n",
        "# # from nltk.stem import PorterStemmer\n",
        "# from nltk.stem import WordNetLemmatizer\n",
        "# from nltk import word_tokenize\n",
        "# from nltk.corpus import stopwords\n",
        "# from sklearn.feature_extraction.text import CountVectorizer\n",
        "# from sklearn.feature_extraction.text import TfidfVectorizer\n",
        "\n",
        "\n",
        "# # stem = PorterStemmer()\n",
        "# wnl = WordNetLemmatizer()\n",
        "# stopwords = ['would' ,'know' ,'dont' ,'get', 'like', 'think' ,'im' ,\"also\",\"said\",\"a\", \"able\", \"about\", \"above\", \"abst\", \"accordance\", \"according\", \"accordingly\", \"across\", \"act\", \"actually\", \"added\", \"adj\", \"affected\", \"affecting\", \"affects\", \"after\", \"afterwards\", \"again\", \"against\", \"ah\", \"all\", \"almost\", \"alone\", \"along\", \"already\", \"also\", \"although\", \"always\", \"am\", \"among\", \"amongst\", \"an\", \"and\", \"announce\", \"another\", \"any\", \"anybody\", \"anyhow\", \"anymore\", \"anyone\", \"anything\", \"anyway\", \"anyways\", \"anywhere\", \"apparently\", \"approximately\", \"are\", \"aren\", \"arent\", \"arise\", \"around\", \"as\", \"aside\", \"ask\", \"asking\", \"at\", \"auth\", \"available\", \"away\", \"awfully\", \"b\", \"back\", \"be\", \"became\", \"because\", \"become\", \"becomes\", \"becoming\", \"been\", \"before\", \"beforehand\", \"begin\", \"beginning\", \"beginnings\", \"begins\", \"behind\", \"being\", \"believe\", \"below\", \"beside\", \"besides\", \"between\", \"beyond\", \"biol\", \"both\", \"brief\", \"briefly\", \"but\", \"by\", \"c\", \"ca\", \"came\", \"can\", \"cannot\", \"can't\", \"cause\", \"causes\", \"certain\", \"certainly\", \"co\", \"com\", \"come\", \"comes\", \"contain\", \"containing\", \"contains\", \"could\", \"couldnt\", \"d\", \"date\", \"did\", \"didn't\", \"different\", \"do\", \"does\", \"doesn't\", \"doing\", \"done\", \"don't\", \"down\", \"downwards\", \"due\", \"during\", \"e\", \"each\", \"ed\", \"edu\", \"effect\", \"eg\", \"eight\", \"eighty\", \"either\", \"else\", \"elsewhere\", \"end\", \"ending\", \"enough\", \"especially\", \"et\", \"et-al\", \"etc\", \"even\", \"ever\", \"every\", \"everybody\", \"everyone\", \"everything\", \"everywhere\", \"ex\", \"except\", \"f\", \"far\", \"few\", \"ff\", \"fifth\", \"first\", \"five\", \"fix\", \"followed\", \"following\", \"follows\", \"for\", \"former\", \"formerly\", \"forth\", \"found\", \"four\", \"from\", \"further\", \"furthermore\", \"g\", \"gave\", \"get\", \"gets\", \"getting\", \"give\", \"given\", \"gives\", \"giving\", \"go\", \"goes\", \"gone\", \"got\", \"gotten\", \"h\", \"had\", \"happens\", \"hardly\", \"has\", \"hasn't\", \"have\", \"haven't\", \"having\", \"he\", \"hed\", \"hence\", \"her\", \"here\", \"hereafter\", \"hereby\", \"herein\", \"heres\", \"hereupon\", \"hers\", \"herself\", \"hes\", \"hi\", \"hid\", \"him\", \"himself\", \"his\", \"hither\", \"home\", \"how\", \"howbeit\", \"however\", \"hundred\", \"i\", \"id\", \"ie\", \"if\", \"i'll\", \"im\", \"immediate\", \"immediately\", \"importance\", \"important\", \"in\", \"inc\", \"indeed\", \"index\", \"information\", \"instead\", \"into\", \"invention\", \"inward\", \"is\", \"isn't\", \"it\", \"itd\", \"it'll\", \"its\", \"itself\", \"i've\", \"j\", \"just\", \"k\", \"keep  keeps\", \"kept\", \"kg\", \"km\", \"know\", \"known\", \"knows\", \"l\", \"largely\", \"last\", \"lately\", \"later\", \"latter\", \"latterly\", \"least\", \"less\", \"lest\", \"let\", \"lets\", \"like\", \"liked\", \"likely\", \"line\", \"little\", \"'ll\", \"look\", \"looking\", \"looks\", \"ltd\", \"m\", \"made\", \"mainly\", \"make\", \"makes\", \"many\", \"may\", \"maybe\", \"me\", \"mean\", \"means\", \"meantime\", \"meanwhile\", \"merely\", \"mg\", \"might\", \"million\", \"miss\", \"ml\", \"more\", \"moreover\", \"most\", \"mostly\", \"mr\", \"mrs\", \"much\", \"mug\", \"must\", \"my\", \"myself\", \"n\", \"na\", \"name\", \"namely\", \"nay\", \"nd\", \"near\", \"nearly\", \"necessarily\", \"necessary\", \"need\", \"needs\", \"neither\", \"never\", \"nevertheless\", \"new\", \"next\", \"nine\", \"ninety\", \"no\", \"nobody\", \"non\", \"none\", \"nonetheless\", \"noone\", \"nor\", \"normally\", \"nos\", \"not\", \"noted\", \"nothing\", \"now\", \"nowhere\", \"o\", \"obtain\", \"obtained\", \"obviously\", \"of\", \"off\", \"often\", \"oh\", \"ok\", \"okay\", \"old\", \"omitted\", \"on\", \"once\", \"one\", \"ones\", \"only\", \"onto\", \"or\", \"ord\", \"other\", \"others\", \"otherwise\", \"ought\", \"our\", \"ours\", \"ourselves\", \"out\", \"outside\", \"over\", \"overall\", \"owing\", \"own\", \"p\", \"page\", \"pages\", \"part\", \"particular\", \"particularly\", \"past\", \"per\", \"perhaps\", \"placed\", \"please\", \"plus\", \"poorly\", \"possible\", \"possibly\", \"potentially\", \"pp\", \"predominantly\", \"present\", \"previously\", \"primarily\", \"probably\", \"promptly\", \"proud\", \"provides\", \"put\", \"q\", \"que\", \"quickly\", \"quite\", \"qv\", \"r\", \"ran\", \"rather\", \"rd\", \"re\", \"readily\", \"really\", \"recent\", \"recently\", \"ref\", \"refs\", \"regarding\", \"regardless\", \"regards\", \"related\", \"relatively\", \"research\", \"respectively\", \"resulted\", \"resulting\", \"results\", \"right\", \"run\", \"s\", \"said\", \"same\", \"saw\", \"say\", \"saying\", \"says\", \"sec\", \"section\", \"see\", \"seeing\", \"seem\", \"seemed\", \"seeming\", \"seems\", \"seen\", \"self\", \"selves\", \"sent\", \"seven\", \"several\", \"shall\", \"she\", \"shed\", \"she'll\", \"shes\", \"should\", \"shouldn't\", \"show\", \"showed\", \"shown\", \"showns\", \"shows\", \"significant\", \"significantly\", \"similar\", \"similarly\", \"since\", \"six\", \"slightly\", \"so\", \"some\", \"somebody\", \"somehow\", \"someone\", \"somethan\", \"something\", \"sometime\", \"sometimes\", \"somewhat\", \"somewhere\", \"soon\", \"sorry\", \"specifically\", \"specified\", \"specify\", \"specifying\", \"still\", \"stop\", \"strongly\", \"sub\", \"substantially\", \"successfully\", \"such\", \"sufficiently\", \"suggest\", \"sup\", \"sure    t\", \"take\", \"taken\", \"taking\", \"tell\", \"tends\", \"th\", \"than\", \"thank\", \"thanks\", \"thanx\", \"that\", \"that'll\", \"thats\", \"that've\", \"the\", \"their\", \"theirs\", \"them\", \"themselves\", \"then\", \"thence\", \"there\", \"thereafter\", \"thereby\", \"thered\", \"therefore\", \"therein\", \"there'll\", \"thereof\", \"therere\", \"theres\", \"thereto\", \"thereupon\", \"there've\", \"these\", \"they\", \"theyd\", \"they'll\", \"theyre\", \"they've\", \"think\", \"this\", \"those\", \"thou\", \"though\", \"thoughh\", \"thousand\", \"throug\", \"through\", \"throughout\", \"thru\", \"thus\", \"til\", \"tip\", \"to\", \"together\", \"too\", \"took\", \"toward\", \"towards\", \"tried\", \"tries\", \"truly\", \"try\", \"trying\", \"ts\", \"twice\", \"two\", \"u\", \"un\", \"under\", \"unfortunately\", \"unless\", \"unlike\", \"unlikely\", \"until\", \"unto\", \"up\", \"upon\", \"ups\", \"us\", \"use\", \"used\", \"useful\", \"usefully\", \"usefulness\", \"uses\", \"using\", \"usually\", \"v\", \"value\", \"various\", \"'ve\", \"very\", \"via\", \"viz\", \"vol\", \"vols\", \"vs\", \"w\", \"want\", \"wants\", \"was\", \"wasnt\", \"way\", \"we\", \"wed\", \"welcome\", \"we'll\", \"went\", \"were\", \"werent\", \"we've\", \"what\", \"whatever\", \"what'll\", \"whats\", \"when\", \"whence\", \"whenever\", \"where\", \"whereafter\", \"whereas\", \"whereby\", \"wherein\", \"wheres\", \"whereupon\", \"wherever\", \"whether\", \"which\", \"while\", \"whim\", \"whither\", \"who\", \"whod\", \"whoever\", \"whole\", \"who'll\", \"whom\", \"whomever\", \"whos\", \"whose\", \"why\", \"widely\", \"willing\", \"wish\", \"with\", \"within\", \"without\", \"wont\", \"words\", \"world\", \"would\", \"wouldnt\", \"www\", \"x\", \"y\", \"yes\", \"yet\", \"you\", \"youd\", \"you'll\", \"your\", \"youre\", \"yours\", \"yourself\", \"yourselves\", \"you've\", \"z\", \"zero\"]\n",
        "\n",
        "# def preprocessing_nonstem(doc, word2vec_model):\n",
        "#     # word_vectors = word2vec_model.wv\n",
        "#     doc = doc.lower()\n",
        "#     doc = doc.translate(str.maketrans('', '', string.punctuation))\n",
        "#     doc = word_tokenize(doc)\n",
        "#     doc = filter(lambda x: x not in string.punctuation)\n",
        "#     doc = filter(lambda x:x not in stopwords, doc)\n",
        "#     doc = filter(lambda x:not x.isdigit(), doc)\n",
        "#     doc = [wnl.lemmatize(w.lower()) for w in doc]\n",
        "#     doc = filter(lambda x: x in word2vec_model.vocab)\n",
        "#     doc = ' '.join(e for e in doc)\n",
        "#     return doc"
      ],
      "execution_count": null,
      "outputs": []
    },
    {
      "cell_type": "code",
      "metadata": {
        "id": "uf0-X5SGwvA1"
      },
      "source": [
        "#@title preprocessing non-stem\n",
        "import sklearn\n",
        "import re\n",
        "import string\n",
        "from numpy import random\n",
        "# from nltk.stem import PorterStemmer\n",
        "from nltk.stem import WordNetLemmatizer\n",
        "from nltk import word_tokenize\n",
        "from nltk.corpus import stopwords\n",
        "from sklearn.feature_extraction.text import CountVectorizer\n",
        "from sklearn.feature_extraction.text import TfidfVectorizer\n",
        "import gc,time.time as time\n",
        "# stem = PorterStemmer()\n",
        "wnl = WordNetLemmatizer()\n",
        "\n",
        "from nltk.corpus import stopwords as stp\n",
        "stop_nltk = stp.words('english')\n",
        "from sklearn.feature_extraction import text\n",
        "stop_eng = text.ENGLISH_STOP_WORDS\n",
        "\n",
        "stopwords_manual = ['would','know','dont','get','like','think','im',\"also\",\"said\",\"a\", \"able\", \"about\", \"above\", \"abst\", \"accordance\", \"according\", \"accordingly\", \"across\", \"act\", \"actually\", \"added\", \"adj\", \"affected\", \"affecting\", \"affects\", \"after\", \"afterwards\", \"again\", \"against\", \"ah\", \"all\", \"almost\", \"alone\", \"along\", \"already\", \"also\", \"although\", \"always\", \"am\", \"among\", \"amongst\", \"an\", \"and\", \"announce\", \"another\", \"any\", \"anybody\", \"anyhow\", \"anymore\", \"anyone\", \"anything\", \"anyway\", \"anyways\", \"anywhere\", \"apparently\", \"approximately\", \"are\", \"aren\", \"arent\", \"arise\", \"around\", \"as\", \"aside\", \"ask\", \"asking\", \"at\", \"auth\", \"available\", \"away\", \"awfully\", \"b\", \"back\", \"be\", \"became\", \"because\", \"become\", \"becomes\", \"becoming\", \"been\", \"before\", \"beforehand\", \"begin\", \"beginning\", \"beginnings\", \"begins\", \"behind\", \"being\", \"believe\", \"below\", \"beside\", \"besides\", \"between\", \"beyond\", \"biol\", \"both\", \"brief\", \"briefly\", \"but\", \"by\", \"c\", \"ca\", \"came\", \"can\", \"cannot\", \"can't\", \"cause\", \"causes\", \"certain\", \"certainly\", \"co\", \"com\", \"come\", \"comes\", \"contain\", \"containing\", \"contains\", \"could\", \"couldnt\", \"d\", \"date\", \"did\", \"didn't\", \"different\", \"do\", \"does\", \"doesn't\", \"doing\", \"done\", \"don't\", \"down\", \"downwards\", \"due\", \"during\", \"e\", \"each\", \"ed\", \"edu\", \"effect\", \"eg\", \"eight\", \"eighty\", \"either\", \"else\", \"elsewhere\", \"end\", \"ending\", \"enough\", \"especially\", \"et\", \"et-al\", \"etc\", \"even\", \"ever\", \"every\", \"everybody\", \"everyone\", \"everything\", \"everywhere\", \"ex\", \"except\", \"f\", \"far\", \"few\", \"ff\", \"fifth\", \"first\", \"five\", \"fix\", \"followed\", \"following\", \"follows\", \"for\", \"former\", \"formerly\", \"forth\", \"found\", \"four\", \"from\", \"further\", \"furthermore\", \"g\", \"gave\", \"get\", \"gets\", \"getting\", \"give\", \"given\", \"gives\", \"giving\", \"go\", \"goes\", \"gone\", \"got\", \"gotten\", \"h\", \"had\", \"happens\", \"hardly\", \"has\", \"hasn't\", \"have\", \"haven't\", \"having\", \"he\", \"hed\", \"hence\", \"her\", \"here\", \"hereafter\", \"hereby\", \"herein\", \"heres\", \"hereupon\", \"hers\", \"herself\", \"hes\", \"hi\", \"hid\", \"him\", \"himself\", \"his\", \"hither\", \"home\", \"how\", \"howbeit\", \"however\", \"hundred\", \"i\", \"id\", \"ie\", \"if\", \"i'll\", \"im\", \"immediate\", \"immediately\", \"importance\", \"important\", \"in\", \"inc\", \"indeed\", \"index\", \"information\", \"instead\", \"into\", \"invention\", \"inward\", \"is\", \"isn't\", \"it\", \"itd\", \"it'll\", \"its\", \"itself\", \"i've\", \"j\", \"just\", \"k\", \"keep  keeps\", \"kept\", \"kg\", \"km\", \"know\", \"known\", \"knows\", \"l\", \"largely\", \"last\", \"lately\", \"later\", \"latter\", \"latterly\", \"least\", \"less\", \"lest\", \"let\", \"lets\", \"like\", \"liked\", \"likely\", \"line\", \"little\", \"'ll\", \"look\", \"looking\", \"looks\", \"ltd\", \"m\", \"made\", \"mainly\", \"make\", \"makes\", \"many\", \"may\", \"maybe\", \"me\", \"mean\", \"means\", \"meantime\", \"meanwhile\", \"merely\", \"mg\", \"might\", \"million\", \"miss\", \"ml\", \"more\", \"moreover\", \"most\", \"mostly\", \"mr\", \"mrs\", \"much\", \"mug\", \"must\", \"my\", \"myself\", \"n\", \"na\", \"name\", \"namely\", \"nay\", \"nd\", \"near\", \"nearly\", \"necessarily\", \"necessary\", \"need\", \"needs\", \"neither\", \"never\", \"nevertheless\", \"new\", \"next\", \"nine\", \"ninety\", \"no\", \"nobody\", \"non\", \"none\", \"nonetheless\", \"noone\", \"nor\", \"normally\", \"nos\", \"not\", \"noted\", \"nothing\", \"now\", \"nowhere\", \"o\", \"obtain\", \"obtained\", \"obviously\", \"of\", \"off\", \"often\", \"oh\", \"ok\", \"okay\", \"old\", \"omitted\", \"on\", \"once\", \"one\", \"ones\", \"only\", \"onto\", \"or\", \"ord\", \"other\", \"others\", \"otherwise\", \"ought\", \"our\", \"ours\", \"ourselves\", \"out\", \"outside\", \"over\", \"overall\", \"owing\", \"own\", \"p\", \"page\", \"pages\", \"part\", \"particular\", \"particularly\", \"past\", \"per\", \"perhaps\", \"placed\", \"please\", \"plus\", \"poorly\", \"possible\", \"possibly\", \"potentially\", \"pp\", \"predominantly\", \"present\", \"previously\", \"primarily\", \"probably\", \"promptly\", \"proud\", \"provides\", \"put\", \"q\", \"que\", \"quickly\", \"quite\", \"qv\", \"r\", \"ran\", \"rather\", \"rd\", \"re\", \"readily\", \"really\", \"recent\", \"recently\", \"ref\", \"refs\", \"regarding\", \"regardless\", \"regards\", \"related\", \"relatively\", \"research\", \"respectively\", \"resulted\", \"resulting\", \"results\", \"right\", \"run\", \"s\", \"said\", \"same\", \"saw\", \"say\", \"saying\", \"says\", \"sec\", \"section\", \"see\", \"seeing\", \"seem\", \"seemed\", \"seeming\", \"seems\", \"seen\", \"self\", \"selves\", \"sent\", \"seven\", \"several\", \"shall\", \"she\", \"shed\", \"she'll\", \"shes\", \"should\", \"shouldn't\", \"show\", \"showed\", \"shown\", \"showns\", \"shows\", \"significant\", \"significantly\", \"similar\", \"similarly\", \"since\", \"six\", \"slightly\", \"so\", \"some\", \"somebody\", \"somehow\", \"someone\", \"somethan\", \"something\", \"sometime\", \"sometimes\", \"somewhat\", \"somewhere\", \"soon\", \"sorry\", \"specifically\", \"specified\", \"specify\", \"specifying\", \"still\", \"stop\", \"strongly\", \"sub\", \"substantially\", \"successfully\", \"such\", \"sufficiently\", \"suggest\", \"sup\", \"sure    t\", \"take\", \"taken\", \"taking\", \"tell\", \"tends\", \"th\", \"than\", \"thank\", \"thanks\", \"thanx\", \"that\", \"that'll\", \"thats\", \"that've\", \"the\", \"their\", \"theirs\", \"them\", \"themselves\", \"then\", \"thence\", \"there\", \"thereafter\", \"thereby\", \"thered\", \"therefore\", \"therein\", \"there'll\", \"thereof\", \"therere\", \"theres\", \"thereto\", \"thereupon\", \"there've\", \"these\", \"they\", \"theyd\", \"they'll\", \"theyre\", \"they've\", \"think\", \"this\", \"those\", \"thou\", \"though\", \"thoughh\", \"thousand\", \"throug\", \"through\", \"throughout\", \"thru\", \"thus\", \"til\", \"tip\", \"to\", \"together\", \"too\", \"took\", \"toward\", \"towards\", \"tried\", \"tries\", \"truly\", \"try\", \"trying\", \"ts\", \"twice\", \"two\", \"u\", \"un\", \"under\", \"unfortunately\", \"unless\", \"unlike\", \"unlikely\", \"until\", \"unto\", \"up\", \"upon\", \"ups\", \"us\", \"use\", \"used\", \"useful\", \"usefully\", \"usefulness\", \"uses\", \"using\", \"usually\", \"v\", \"value\", \"various\", \"'ve\", \"very\", \"via\", \"viz\", \"vol\", \"vols\", \"vs\", \"w\", \"want\", \"wants\", \"was\", \"wasnt\", \"way\", \"we\", \"wed\", \"welcome\", \"we'll\", \"went\", \"were\", \"werent\", \"we've\", \"what\", \"whatever\", \"what'll\", \"whats\", \"when\", \"whence\", \"whenever\", \"where\", \"whereafter\", \"whereas\", \"whereby\", \"wherein\", \"wheres\", \"whereupon\", \"wherever\", \"whether\", \"which\", \"while\", \"whim\", \"whither\", \"who\", \"whod\", \"whoever\", \"whole\", \"who'll\", \"whom\", \"whomever\", \"whos\", \"whose\", \"why\", \"widely\", \"willing\", \"wish\", \"with\", \"within\", \"without\", \"wont\", \"words\", \"world\", \"would\", \"wouldnt\", \"www\", \"x\", \"y\", \"yes\", \"yet\", \"you\", \"youd\", \"you'll\", \"your\", \"youre\", \"yours\", \"yourself\", \"yourselves\", \"you've\", \"z\", \"zero\"]\n",
        "stopwords = list(set(list(stop_eng) +  stopwords_manual + stop_nltk))\n",
        "\n",
        "def preprocessing_nonstem(doc, word2vec_model,my_punctuation):\n",
        "    # print(doc)\n",
        "    # word_vectors = word2vec_model.wv\n",
        "    doc = doc.lower()\n",
        "    # print(doc)\n",
        "    doc = doc.translate(str.maketrans('', '', my_punctuation))\n",
        "    doc = word_tokenize(doc)\n",
        "    doc = filter(lambda x: x not in my_punctuation, doc)\n",
        "    # doc = filter(lambda x:x not in stopwords, doc)\n",
        "    doc = filter(lambda x:not x.isdigit(), doc)\n",
        "    doc = [wnl.lemmatize(w.lower()) for w in doc]\n",
        "    # doc = filter(lambda x: x in word2vec_model.vocab,doc)\n",
        "    doc = filter(lambda x:x not in stopwords, doc)\n",
        "    doc = filter(lambda x: x in word2vec_model.vocab or x in \".\",doc)\n",
        "    # doc = filter(lambda x:x not in stopwords, doc)\n",
        "    doc = ' '.join(e for e in doc)\n",
        "    return doc"
      ],
      "execution_count": null,
      "outputs": []
    },
    {
      "cell_type": "markdown",
      "metadata": {
        "id": "dWw35yv1QeTc"
      },
      "source": [
        "\n",
        "# Google Pre-trained Model & Word2Vec | Data preprocessing\n",
        "\n"
      ]
    },
    {
      "cell_type": "code",
      "metadata": {
        "id": "qime1pFYQeTd",
        "colab": {
          "base_uri": "https://localhost:8080/"
        },
        "outputId": "0056f2b6-7530-42d2-8957-b1d45ead4b95"
      },
      "source": [
        "!wget -c \"https://s3.amazonaws.com/dl4j-distribution/GoogleNews-vectors-negative300.bin.gz\"\n",
        "gc.collect()"
      ],
      "execution_count": null,
      "outputs": [
        {
          "output_type": "stream",
          "text": [
            "--2020-11-27 19:48:58--  https://s3.amazonaws.com/dl4j-distribution/GoogleNews-vectors-negative300.bin.gz\n",
            "Resolving s3.amazonaws.com (s3.amazonaws.com)... 52.217.0.190\n",
            "Connecting to s3.amazonaws.com (s3.amazonaws.com)|52.217.0.190|:443... connected.\n",
            "HTTP request sent, awaiting response... 200 OK\n",
            "Length: 1647046227 (1.5G) [application/x-gzip]\n",
            "Saving to: ‘GoogleNews-vectors-negative300.bin.gz’\n",
            "\n",
            "GoogleNews-vectors- 100%[===================>]   1.53G  75.1MB/s    in 22s     \n",
            "\n",
            "2020-11-27 19:49:20 (71.0 MB/s) - ‘GoogleNews-vectors-negative300.bin.gz’ saved [1647046227/1647046227]\n",
            "\n"
          ],
          "name": "stdout"
        },
        {
          "output_type": "execute_result",
          "data": {
            "text/plain": [
              "0"
            ]
          },
          "metadata": {
            "tags": []
          },
          "execution_count": 44
        }
      ]
    },
    {
      "cell_type": "code",
      "metadata": {
        "id": "QMsW2RTLQeTg",
        "colab": {
          "base_uri": "https://localhost:8080/"
        },
        "outputId": "6d6c065e-0125-4aba-cbba-3cb11b07edff"
      },
      "source": [
        "start=time()\n",
        "!gunzip GoogleNews-vectors-negative300.bin.gz\n",
        "print('Cell took %.2f seconds to run.' % (time() - start))\n",
        "gc.collect()"
      ],
      "execution_count": null,
      "outputs": [
        {
          "output_type": "stream",
          "text": [
            "Cell took 45.97 seconds to run.\n"
          ],
          "name": "stdout"
        },
        {
          "output_type": "execute_result",
          "data": {
            "text/plain": [
              "0"
            ]
          },
          "metadata": {
            "tags": []
          },
          "execution_count": 45
        }
      ]
    },
    {
      "cell_type": "code",
      "metadata": {
        "id": "L-z47C6mGRx_"
      },
      "source": [
        "# Local\n",
        "from gensim import models\n",
        "# word2vec_model = models.KeyedVectors.load_word2vec_format(\n",
        "#     'C:/Users/sanuj/Documents/FoTo/GoogleNews-vectors-negative300.bin/GoogleNews-vectors-negative300.bin', binary=True)\n",
        "word2vec_model = models.KeyedVectors.load_word2vec_format('GoogleNews-vectors-negative300.bin', binary=True)\n",
        "# print('Cell took %.2f seconds to run.' % (time() - start))"
      ],
      "execution_count": null,
      "outputs": []
    },
    {
      "cell_type": "code",
      "metadata": {
        "id": "JHZpST1llIcq"
      },
      "source": [
        "def reuters():\n",
        "  reuters_train_data_read = open(\"C:/Users/sanuj/Documents/FoTo/data/reuters/r8-train-all-terms.txt\", \"r\")\n",
        "  reuters_test_data_read = open(\"C:/Users/sanuj/Documents/FoTo/data/reuters/r8-test-all-terms.txt\", \"r\")\n",
        "  reuters_data = reuters_train_data_read.readlines()\n",
        "  test_reuters = reuters_test_data_read.readlines()\n",
        "  reuters_data.extend(test_reuters)\n",
        "  reuters_data_list= [r.split('\\t') for r in reuters_data]\n",
        "  reuters_labels=[]\n",
        "  reuters_docs=[]\n",
        "\n",
        "  for r in reuters_data_list:\n",
        "    reuters_labels.append(r[0])\n",
        "    reuters_docs.append(r[1])\n",
        "\n",
        "  return reuters_docs,reuters_labels\n",
        "\n",
        "def webkb():\n",
        "  webkb_train_data_read = open(\"C:/Users/sanuj/Documents/FoTo/data/webkb/webkb-train-stemmed.txt\", \"r\")\n",
        "  webkb_test_data_read = open(\"C:/Users/sanuj/Documents/FoTo/data/webkb/webkb-test-stemmed.txt\", \"r\")\n",
        "  webkb_data = webkb_train_data_read.readlines()\n",
        "  test_webkb = webkb_test_data_read.readlines()\n",
        "  webkb_data.extend(test_webkb)\n",
        "  webkb_data_list= [r.split('\\t') for r in webkb_data]\n",
        "  webkb_labels=[]\n",
        "  webkb_docs=[]\n",
        "\n",
        "  for r in webkb_data_list:\n",
        "    webkb_labels.append(r[0])\n",
        "    webkb_docs.append(r[1])\n",
        "\n",
        "  return webkb_docs , webkb_labels\n",
        "\n",
        "def twentynews():\n",
        "  from sklearn.datasets import fetch_20newsgroups\n",
        "  data_20news=fetch_20newsgroups(subset='all',remove=('headers', 'footers', 'quotes'))\n",
        "  targets = data_20news.target\n",
        "  target_labels = data_20news.target_names\n",
        "  labels = [target_labels[t] for t in targets]\n",
        "  return data_20news.data , labels\n",
        "\n",
        "def WoS():\n",
        "  data_WoS_read = open(\"C:/Users/sanuj/Documents/FoTo/data/WebOfScience/WOS46985/X.txt\", \"r\")\n",
        "  targets_WoS_read = open(\"C:/Users/sanuj/Documents/FoTo/data/WebOfScience/WOS46985/YL1.txt\", \"r\")\n",
        "  data_WoS = data_WoS_read.readlines()\n",
        "  targets_WoS = targets_WoS_read.readlines()\n",
        "\n",
        "  data_WoS = [d.strip() for d in data_WoS]\n",
        "  targets_WoS = [int(d.strip()) for d in targets_WoS]\n",
        "\n",
        "  labels_dict ={\n",
        "    0 : \"Computer Science\",\n",
        "    1 : \"Electrical Engineering\",\n",
        "    2 : \"Psychology\",\n",
        "    3 : \"Mechanical Engineering\",\n",
        "    4 : \"Civil Engineering\",\n",
        "    5 : \"Medical Science\",\n",
        "    6 : \"Biochemistry\"}\n",
        "\n",
        "  targets_WoS_labels = [labels_dict[t] for t in targets_WoS]\n",
        "  return data_WoS,targets_WoS_labels\n",
        "\n",
        "def arXiv():\n",
        "  data_read = open(\"C:/Users/sanuj/Documents/FoTo/data/arXiv/text.txt\", \"r\",encoding=\"utf8\")\n",
        "  targets_read = open(\"C:/Users/sanuj/Documents/FoTo/data/arXiv/labels.txt\", \"r\",encoding=\"utf8\")\n",
        "  data = data_read.readlines()\n",
        "  targets = targets_read.readlines()\n",
        "  data_new = [d.strip(\"_PAPER_\") for d in data]\n",
        "  targets_new = [d.strip(\"_PAPER_\") for d in targets]\n",
        "  data_nenw = [re.sub(r'\\d+_ ', '',d) for d in data_new]\n",
        "  targets_nenw = [re.sub(r'\\d+_ ', '',d) for d in targets_new]\n",
        "  targets_final = [d.split()[0] for d in targets_nenw]\n",
        "\n",
        "  return data_nenw , targets_final\n",
        "\n",
        "def r52():\n",
        "  reuters_train_data_read = open(\"C:/Users/sanuj/Documents/FoTo/data/reuters/r52/r52-train-all-terms.txt\", \"r\")\n",
        "  reuters_test_data_read = open(\"C:/Users/sanuj/Documents/FoTo/data/reuters/r52/r52-test-all-terms.txt\", \"r\")\n",
        "  reuters_data = reuters_train_data_read.readlines()\n",
        "  test_reuters = reuters_test_data_read.readlines()\n",
        "  reuters_data.extend(test_reuters)\n",
        "  reuters_data_list= [r.split('\\t') for r in reuters_data]\n",
        "  reuters_labels=[]\n",
        "  reuters_docs=[]\n",
        "  for r in reuters_data_list:\n",
        "    reuters_labels.append(r[0])\n",
        "    reuters_docs.append(r[1])\n",
        "  return reuters_docs,reuters_labels\n",
        "\n",
        "def crowdGender():\n",
        "  import pandas as pd\n",
        "  df = pd.read_csv(\"gender_classifier_dfe_791531.csv\")\n",
        "  df = df[['gender','text']]\n",
        "  null_data = df[df.isnull().any(axis=1)]\n",
        "  # display(null_data)\n",
        "  df=df.dropna(how='any',axis=0)\n",
        "  return df['text'].values,df['gender'].values"
      ],
      "execution_count": null,
      "outputs": []
    },
    {
      "cell_type": "markdown",
      "metadata": {
        "id": "rYQzLHQkQ1km"
      },
      "source": [
        "# Data Loading and Preprocessing"
      ]
    },
    {
      "cell_type": "code",
      "metadata": {
        "id": "1QvNLTpyaOPL",
        "cellView": "both"
      },
      "source": [
        "##### Load Data Here #####\n",
        "loaded_data = crowdGender\n",
        "##########################\n",
        "\n",
        "docs, labels = loaded_data()"
      ],
      "execution_count": null,
      "outputs": []
    },
    {
      "cell_type": "code",
      "metadata": {
        "id": "HA7mDwE5_JRg"
      },
      "source": [
        "my_punctuation_sentence = string.punctuation.replace(\".\",\"\") # sentences\n",
        "my_punctuation_docs = string.punctuation.replace(\".\",\".\") # docs\n",
        "# print(my_punctuation_sentence)"
      ],
      "execution_count": null,
      "outputs": []
    },
    {
      "cell_type": "code",
      "metadata": {
        "id": "WZpHgvMbhxYN"
      },
      "source": [
        "dots = [(\". \"*k).strip() for k in range(1,100)]\n",
        "def docs_labels_preprocessing(docs,labels,word2vec_model,my_punctuation):\n",
        "  data_preprocessed = []\n",
        "  data_preprocessed_labels = []\n",
        "  for i in range(len(docs)):\n",
        "    doc = preprocessing_nonstem(docs[i],word2vec_model,my_punctuation)\n",
        "    # doc[i] = docs[i].replace(\".\",\"\")\n",
        "    if(doc!='' and (doc not in dots)):\n",
        "      data_preprocessed.append(doc)\n",
        "      data_preprocessed_labels.append(labels[i])\n",
        "  return data_preprocessed,data_preprocessed_labels"
      ],
      "execution_count": null,
      "outputs": []
    },
    {
      "cell_type": "code",
      "metadata": {
        "id": "do7U_NeJQstW"
      },
      "source": [
        "# Crowd Data\n",
        "data_preprocessed_crowd,data_preprocessed_labels_crowd = docs_labels_preprocessing(docs,labels,word2vec_model,my_punctuation_docs)"
      ],
      "execution_count": null,
      "outputs": []
    },
    {
      "cell_type": "code",
      "metadata": {
        "id": "MwWy4biEGdk3"
      },
      "source": [
        "data_preprocessed_wdot,data_preprocessed_labels_wdot = docs_labels_preprocessing(docs,labels,word2vec_model,my_punctuation_sentence)"
      ],
      "execution_count": null,
      "outputs": []
    },
    {
      "cell_type": "code",
      "metadata": {
        "id": "n6LaZEp0WzkO"
      },
      "source": [
        "save_obj(data_preprocessed_wdot,'data_preprocessed_wdot')\n",
        "save_obj(data_preprocessed_labels_wdot,'data_preprocessed_labels_wdot')"
      ],
      "execution_count": null,
      "outputs": []
    },
    {
      "cell_type": "code",
      "metadata": {
        "id": "ASNEU5fe354D"
      },
      "source": [
        "data_preprocessed_ndot,data_preprocessed_labels_ndot = docs_labels_preprocessing(docs,labels,word2vec_model,my_punctuation_docs)"
      ],
      "execution_count": null,
      "outputs": []
    },
    {
      "cell_type": "code",
      "metadata": {
        "id": "SgLsHFYqTSRG",
        "colab": {
          "base_uri": "https://localhost:8080/",
          "height": 34
        },
        "outputId": "f9dad8d0-fc27-4e84-db61-53a765b63c61"
      },
      "source": [
        "len(data_preprocessed_wdot),len(data_preprocessed_labels_wdot)"
      ],
      "execution_count": null,
      "outputs": [
        {
          "output_type": "execute_result",
          "data": {
            "text/plain": [
              "(18248, 18248)"
            ]
          },
          "metadata": {
            "tags": []
          },
          "execution_count": 317
        }
      ]
    },
    {
      "cell_type": "code",
      "metadata": {
        "id": "38mhqOlk38-5",
        "colab": {
          "base_uri": "https://localhost:8080/",
          "height": 34
        },
        "outputId": "6d24f8d8-50f4-47cb-9b0a-812e905f7068"
      },
      "source": [
        "len(data_preprocessed_ndot),len(data_preprocessed_labels_ndot)"
      ],
      "execution_count": null,
      "outputs": [
        {
          "output_type": "execute_result",
          "data": {
            "text/plain": [
              "(18248, 18248)"
            ]
          },
          "metadata": {
            "tags": []
          },
          "execution_count": 301
        }
      ]
    },
    {
      "cell_type": "code",
      "metadata": {
        "id": "rADZcG3B3Ycp"
      },
      "source": [
        "with open(\"docs_wdot_18248.txt\", \"w\") as output:\n",
        "  for k in range(len(data_preprocessed_wdot)):\n",
        "    output.write(str(k+1)+')  '+str(data_preprocessed_wdot[k])+'\\n')\n",
        "    output.write(str(k+1)+')  '+str(data_preprocessed_labels_wdot[k])+'\\n\\n')\n",
        "    # output.write(str(k+1)+')  '+train_label[indices[k].item()]+'\\n\\n')\n",
        "output.close()"
      ],
      "execution_count": null,
      "outputs": []
    },
    {
      "cell_type": "code",
      "metadata": {
        "id": "ksy1Lf2y31R2"
      },
      "source": [
        "with open(\"docs_ndot_18248.txt\", \"w\") as output:\n",
        "  for k in range(len(data_preprocessed_ndot)):\n",
        "    output.write(str(k+1)+')  '+str(data_preprocessed_ndot[k])+'\\n')\n",
        "    output.write(str(k+1)+')  '+str(data_preprocessed_labels_ndot[k])+'\\n\\n')\n",
        "    # output.write(str(k+1)+')  '+train_label[indices[k].item()]+'\\n\\n')\n",
        "output.close()"
      ],
      "execution_count": null,
      "outputs": []
    },
    {
      "cell_type": "code",
      "metadata": {
        "id": "1CfinHtFStfE"
      },
      "source": [
        "# data_preprocessed_wdot[2609],data_preprocessed_ndot[2609]\n",
        "save_obj(data_preprocessed_wdot,'data_preprocessed_wdot_18248')"
      ],
      "execution_count": null,
      "outputs": []
    },
    {
      "cell_type": "code",
      "metadata": {
        "id": "ushEiGMAhS1t",
        "colab": {
          "base_uri": "https://localhost:8080/",
          "height": 34
        },
        "outputId": "b4bdab65-e3c7-4777-b54d-d9ec8aab3850"
      },
      "source": [
        "c=0\n",
        "data_w_sent_nspc = []\n",
        "data_w_sent = data_preprocessed_wdot[13550].split('.')\n",
        "# data_w_sent\n",
        "for d in data_w_sent:\n",
        "  if d == ' ':\n",
        "    c=c+1\n",
        "  else:\n",
        "    data_w_sent_nspc.append(d)"
      ],
      "execution_count": null,
      "outputs": [
        {
          "output_type": "execute_result",
          "data": {
            "text/plain": [
              "175"
            ]
          },
          "metadata": {
            "tags": []
          },
          "execution_count": 392
        }
      ]
    },
    {
      "cell_type": "code",
      "metadata": {
        "id": "AI3JsFvqizCp"
      },
      "source": [
        "with open(\"doc_13550.txt\", \"w\") as output:\n",
        "  for k in range(len(data_w_sent)):\n",
        "    output.write(data_w_sent[k]+'\\n')\n",
        "output.close()"
      ],
      "execution_count": null,
      "outputs": []
    },
    {
      "cell_type": "code",
      "metadata": {
        "id": "7OkDuQz_irC5",
        "colab": {
          "base_uri": "https://localhost:8080/",
          "height": 34
        },
        "outputId": "aa1343d4-68d5-4b80-cf06-8065d572a4f1"
      },
      "source": [
        "len(data_w_sent_nspc), len(data_w_sent) - c"
      ],
      "execution_count": null,
      "outputs": [
        {
          "output_type": "execute_result",
          "data": {
            "text/plain": [
              "(682, 682)"
            ]
          },
          "metadata": {
            "tags": []
          },
          "execution_count": 396
        }
      ]
    },
    {
      "cell_type": "code",
      "metadata": {
        "id": "IgU3TmjBnB_X"
      },
      "source": [
        "def docs_to_sentence(data_preprocessed,data_preprocessed_labels):\n",
        "  data_preprocessed_labels_sentence = []\n",
        "  data_preprocessed_sentence = []\n",
        "  doc_id_sent = []\n",
        "\n",
        "  for i in range(len(data_preprocessed)):\n",
        "    s = data_preprocessed[i].split('.')\n",
        "    for j in s:\n",
        "      j= j.split()\n",
        "      j = filter(lambda x:x not in stopwords, j)\n",
        "      j = ' '.join([e for e in j])\n",
        "      if (j!=''):\n",
        "        data_preprocessed_sentence.append(j)\n",
        "        data_preprocessed_labels_sentence.append(data_preprocessed_labels[i])\n",
        "        doc_id_sent.append(i+1)\n",
        "\n",
        "  return data_preprocessed_sentence,data_preprocessed_labels_sentence,doc_id_sent"
      ],
      "execution_count": null,
      "outputs": []
    },
    {
      "cell_type": "code",
      "metadata": {
        "id": "5WemeLWgK6sz"
      },
      "source": [
        "data_preprocessed_sentence_w,data_preprocessed_labels_sentence_w,doc_id_sent_w = docs_to_sentence(data_preprocessed_wdot,data_preprocessed_labels_wdot)"
      ],
      "execution_count": null,
      "outputs": []
    },
    {
      "cell_type": "code",
      "metadata": {
        "id": "ODWGKg1JPCsO",
        "colab": {
          "base_uri": "https://localhost:8080/",
          "height": 34
        },
        "outputId": "f9d5e4da-a515-45c1-d1cf-231134890839"
      },
      "source": [
        "len(data_preprocessed_sentence_w),len(data_preprocessed_labels_sentence_w),len(doc_id_sent_w)"
      ],
      "execution_count": null,
      "outputs": [
        {
          "output_type": "execute_result",
          "data": {
            "text/plain": [
              "(167718, 167718, 167718)"
            ]
          },
          "metadata": {
            "tags": []
          },
          "execution_count": 319
        }
      ]
    },
    {
      "cell_type": "code",
      "metadata": {
        "id": "BORxbTLGUG45"
      },
      "source": [
        "def most_frequent(List):\n",
        "    return max(set(List), key = List.count)\n",
        "most_freq = most_frequent(doc_id_sent_w)"
      ],
      "execution_count": null,
      "outputs": []
    },
    {
      "cell_type": "code",
      "metadata": {
        "id": "5bPbIYUUOpD_"
      },
      "source": [
        "doc_id_count = []\n",
        "for i in set(doc_id_sent_w):\n",
        "  doc_id_count.append(doc_id_sent_w.count(i))"
      ],
      "execution_count": null,
      "outputs": []
    },
    {
      "cell_type": "code",
      "metadata": {
        "id": "ot6vH3YiPRpJ"
      },
      "source": [
        "max(doc_id_count),doc_id_count.index(max(doc_id_count))+1"
      ],
      "execution_count": null,
      "outputs": []
    },
    {
      "cell_type": "code",
      "metadata": {
        "id": "hfmCGGRWYJn4"
      },
      "source": [
        "max_sent = doc_id_sent_w.count(most_freq)\n",
        "max_sent,most_freq"
      ],
      "execution_count": null,
      "outputs": []
    },
    {
      "cell_type": "code",
      "metadata": {
        "id": "SHW0JPr1uLRb"
      },
      "source": [
        "doc_id_array = np.array(doc_id_sent_w)"
      ],
      "execution_count": null,
      "outputs": []
    },
    {
      "cell_type": "code",
      "metadata": {
        "id": "UzpJT-q1urZl"
      },
      "source": [
        "output,counts = torch.unique(torch.from_numpy(doc_id_array) , return_counts=True)\n",
        "doc_id_val,doc_id_indices =  torch.sort(counts,descending=True)"
      ],
      "execution_count": null,
      "outputs": []
    },
    {
      "cell_type": "code",
      "metadata": {
        "id": "ccHrjXmOvXEy",
        "colab": {
          "base_uri": "https://localhost:8080/",
          "height": 676
        },
        "outputId": "61871217-efc2-44b4-a497-cfd622f10668"
      },
      "source": [
        "import numpy\n",
        "from matplotlib import pyplot as plt\n",
        "# plt.hist(numpy.log2(doc_id_val.numpy()))\n",
        "plt.figure(figsize=(10,10))\n",
        "plt.hist(doc_id_val.numpy())"
      ],
      "execution_count": null,
      "outputs": [
        {
          "output_type": "execute_result",
          "data": {
            "text/plain": [
              "(array([1.8022e+04, 1.3000e+02, 3.5000e+01, 2.3000e+01, 1.2000e+01,\n",
              "        7.0000e+00, 1.2000e+01, 3.0000e+00, 1.0000e+00, 3.0000e+00]),\n",
              " array([  1. ,  69.1, 137.2, 205.3, 273.4, 341.5, 409.6, 477.7, 545.8,\n",
              "        613.9, 682. ]),\n",
              " <a list of 10 Patch objects>)"
            ]
          },
          "metadata": {
            "tags": []
          },
          "execution_count": 476
        },
        {
          "output_type": "display_data",
          "data": {
            "text/plain": [
              "<Figure size 720x720 with 1 Axes>"
            ],
            "image/png": "[encoded data removed]"
          },
          "metadata": {
            "tags": [],
            "needs_background": "light"
          }
        }
      ]
    },
    {
      "cell_type": "markdown",
      "metadata": {
        "id": "QN1KJhnlfhoo"
      },
      "source": [
        "Saving obj to pickle"
      ]
    },
    {
      "cell_type": "code",
      "metadata": {
        "id": "olp8EvWYvr9K"
      },
      "source": [
        "save_obj(doc_id_sent_w,'doc_id_sent_'+loaded_data.__name__)"
      ],
      "execution_count": null,
      "outputs": []
    },
    {
      "cell_type": "code",
      "metadata": {
        "id": "ZWIwz31gVqvR"
      },
      "source": [
        "data_preprocessed_crowd"
      ],
      "execution_count": null,
      "outputs": []
    },
    {
      "cell_type": "code",
      "metadata": {
        "id": "MOBNqDE553PW"
      },
      "source": [
        "save_obj(data_preprocessed_crowd, 'data_'+loaded_data.__name__+'_preprocessed_sent')\n",
        "save_obj(data_preprocessed_labels_crowd,'data_'+loaded_data.__name__+'_labels_sent')"
      ],
      "execution_count": null,
      "outputs": []
    },
    {
      "cell_type": "code",
      "metadata": {
        "id": "hq9R4rlAnw1e"
      },
      "source": [
        "word2vec_model['v']"
      ],
      "execution_count": null,
      "outputs": []
    },
    {
      "cell_type": "markdown",
      "metadata": {
        "id": "2p5lYecYtWFm"
      },
      "source": [
        "# Generate Embeddings\n"
      ]
    },
    {
      "cell_type": "code",
      "metadata": {
        "id": "9aSMuxBHWhx9"
      },
      "source": [
        "data_preprocessed,data_preprocessed_labels = data_preprocessed_wdot,data_preprocessed_labels_wdot"
      ],
      "execution_count": null,
      "outputs": []
    },
    {
      "cell_type": "code",
      "metadata": {
        "id": "tJ-BDfwHbk6r"
      },
      "source": [
        "data_preprocessed_sentence , data_preprocessed_labels_sentence = data_preprocessed_sentence_w,data_preprocessed_labels_sentence_w"
      ],
      "execution_count": null,
      "outputs": []
    },
    {
      "cell_type": "code",
      "metadata": {
        "id": "yJOTTeKpcQEb"
      },
      "source": [
        "remove_words = ['etcetc','sgicom','fbigov','applecom','suncom']\n",
        "\n",
        "for d in range(len(data_preprocessed)):\n",
        "  dwords = data_preprocessed[d].split()\n",
        "  resultwords  = [word for word in dwords if word.lower() not in remove_words]\n",
        "  result = ' '.join(resultwords)\n",
        "  data_preprocessed[d] = result"
      ],
      "execution_count": null,
      "outputs": []
    },
    {
      "cell_type": "code",
      "metadata": {
        "id": "BMI_3d86zW9j"
      },
      "source": [
        "save_obj(data_preprocessed, 'data_'+loaded_data.__name__+'_preprocessed')\n",
        "save_obj(data_preprocessed_labels,'data_'+loaded_data.__name__+'_labels')"
      ],
      "execution_count": null,
      "outputs": []
    },
    {
      "cell_type": "code",
      "metadata": {
        "id": "W__has6kcfU7",
        "colab": {
          "base_uri": "https://localhost:8080/",
          "height": 34
        },
        "outputId": "c3f9827f-129d-499e-adbe-bc6339a9423d"
      },
      "source": [
        "len(data_preprocessed),len(data_preprocessed_labels)"
      ],
      "execution_count": null,
      "outputs": [
        {
          "output_type": "execute_result",
          "data": {
            "text/plain": [
              "(18248, 18248)"
            ]
          },
          "metadata": {
            "tags": []
          },
          "execution_count": 348
        }
      ]
    },
    {
      "cell_type": "code",
      "metadata": {
        "id": "_rbbelM5O9vj"
      },
      "source": [
        "all_words_in_docs=[]\n",
        "def doc_to_words(doc):\n",
        "  word_list=[]\n",
        "  for i in doc:\n",
        "    words = i.split()\n",
        "    word_list.append([w for w in words if w not in stopwords and w!=''])\n",
        "  return word_list\n",
        "\n",
        "# all_words_in_sentences = doc_to_words(data_preprocessed_sentence)\n",
        "# all_words_in_docs = doc_to_words(data_preprocessed)\n",
        "all_new = doc_to_words(data_preprocessed_crowd)"
      ],
      "execution_count": null,
      "outputs": []
    },
    {
      "cell_type": "code",
      "metadata": {
        "id": "rgww2GGBQxlb"
      },
      "source": [
        "def flatten_list(user_list):\n",
        "  return [item for sublist in user_list for item in sublist]\n",
        "# flatten_all_words_sent = flatten_list(all_words_in_sentences)\n",
        "# flatten_all_words = flatten_list(all_words_in_docs)\n",
        "flatten_all_new = flatten_list(all_new)"
      ],
      "execution_count": null,
      "outputs": []
    },
    {
      "cell_type": "code",
      "metadata": {
        "id": "GcQ9jw-yqEDW"
      },
      "source": [
        "set(flatten_all_words).difference(set(flatten_all_words_sent))"
      ],
      "execution_count": null,
      "outputs": []
    },
    {
      "cell_type": "code",
      "metadata": {
        "id": "gCCuAXMKxqC6"
      },
      "source": [
        "diff_list = list(set(flatten_all_words).difference(set(flatten_all_words_sent)))"
      ],
      "execution_count": null,
      "outputs": []
    },
    {
      "cell_type": "code",
      "metadata": {
        "id": "qUL9sE-xp-94",
        "colab": {
          "base_uri": "https://localhost:8080/",
          "height": 34
        },
        "outputId": "131ea6fe-cf37-4dd1-b780-0178584ad9b9"
      },
      "source": [
        "set(flatten_all_new).difference(set(flatten_all_words_sent))"
      ],
      "execution_count": null,
      "outputs": [
        {
          "output_type": "execute_result",
          "data": {
            "text/plain": [
              "{'sqft', 'sqkm'}"
            ]
          },
          "metadata": {
            "tags": []
          },
          "execution_count": 430
        }
      ]
    },
    {
      "cell_type": "code",
      "metadata": {
        "id": "rqoR2yotPR0y",
        "colab": {
          "base_uri": "https://localhost:8080/"
        },
        "outputId": "456ae42b-1d98-4f52-bd92-8fec3bd2c0cf"
      },
      "source": [
        "from collections import OrderedDict\n",
        "count=0\n",
        "embeddings = OrderedDict()\n",
        "set_words = set(flatten_all_new)\n",
        "\n",
        "for f in set_words:\n",
        "  try :\n",
        "     embeddings[f] = word2vec_model[f]\n",
        "  except KeyError:\n",
        "    print(f)\n",
        "    count = count+1\n",
        "print( count / len(set_words)*100)"
      ],
      "execution_count": null,
      "outputs": [
        {
          "output_type": "stream",
          "text": [
            "0.0\n"
          ],
          "name": "stdout"
        }
      ]
    },
    {
      "cell_type": "code",
      "metadata": {
        "id": "TkoTUKuxo2or",
        "colab": {
          "base_uri": "https://localhost:8080/",
          "height": 50
        },
        "outputId": "11a44b30-31c6-48be-d975-412cfbf40cbd"
      },
      "source": [
        "for f in diff_list:\n",
        "  try :\n",
        "     embeddings[f] = word2vec_model[f]\n",
        "  except KeyError:\n",
        "    print(f)\n",
        "    count = count+1\n",
        "print( count / len(flatten_all_words)*100)"
      ],
      "execution_count": null,
      "outputs": [
        {
          "output_type": "stream",
          "text": [
            "a\n",
            "0.0288782967112303\n"
          ],
          "name": "stdout"
        }
      ]
    },
    {
      "cell_type": "code",
      "metadata": {
        "id": "nmaScPcQ8fFW"
      },
      "source": [
        "save_obj(embeddings,'embeddings_'+loaded_data.__name__+'')"
      ],
      "execution_count": null,
      "outputs": []
    },
    {
      "cell_type": "code",
      "metadata": {
        "id": "2v1qfFgbly5C"
      },
      "source": [
        "count=0\n",
        "embeddings = OrderedDict()\n",
        "\n",
        "for f in flatten_all_words_sent:\n",
        "  try :\n",
        "     embeddings[f] = word2vec_model[f]\n",
        "  except KeyError:\n",
        "    print(f)\n",
        "    count = count+1\n",
        "print( count / len(flatten_all_words_sent)*100)"
      ],
      "execution_count": null,
      "outputs": []
    },
    {
      "cell_type": "code",
      "metadata": {
        "id": "SobhoQNalz7l"
      },
      "source": [
        "save_obj(embeddings,'embeddings_'+loaded_data.__name__+'sent')"
      ],
      "execution_count": null,
      "outputs": []
    },
    {
      "cell_type": "code",
      "metadata": {
        "id": "PZvZewpMpNxk"
      },
      "source": [
        "new_data_preprocessed = []\n",
        "for j in data_preprocessed:\n",
        "      j= j.split()\n",
        "      j = filter(lambda x:x not in stopwords, j)\n",
        "      j = ' '.join([e for e in j])\n",
        "      new_data_preprocessed.append(j)"
      ],
      "execution_count": null,
      "outputs": []
    },
    {
      "cell_type": "code",
      "metadata": {
        "id": "K4PCjvd0pm5V"
      },
      "source": [
        "save_obj(new_data_preprocessed, 'ndata_'+loaded_data.__name__+'_preprocessed')"
      ],
      "execution_count": null,
      "outputs": []
    },
    {
      "cell_type": "code",
      "metadata": {
        "id": "gu_wcnuhQ3y2"
      },
      "source": [
        "# data_20news_embedded = []\n",
        "# for word in all_words_in_docs:\n",
        "#   for w in word:\n",
        "#     try:\n",
        "#       type(word2vec_model[w])=='numpy.ndarray'\n",
        "#     except KeyError:\n",
        "#       word.remove(w)\n",
        "#   data_20news_embedded.append(' '.join(word))\n",
        "# # data_20news_embedded"
      ],
      "execution_count": null,
      "outputs": []
    },
    {
      "cell_type": "code",
      "metadata": {
        "id": "yotYgCXX0s96"
      },
      "source": [
        "# matching = [s for s in data_20news_preprocessed if \" sport \" in s]\n",
        "# matching"
      ],
      "execution_count": null,
      "outputs": []
    },
    {
      "cell_type": "code",
      "metadata": {
        "id": "9jj-g6sITlgm"
      },
      "source": [],
      "execution_count": null,
      "outputs": []
    }
  ]
}