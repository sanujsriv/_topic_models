{
  "nbformat": 4,
  "nbformat_minor": 0,
  "metadata": {
    "colab": {
      "provenance": [],
      "authorship_tag": "ABX9TyOnqjD2aIuTnQtp3EjfI2B5",
      "include_colab_link": true
    },
    "kernelspec": {
      "name": "python3",
      "display_name": "Python 3"
    }
  },
  "cells": [
    {
      "cell_type": "markdown",
      "metadata": {
        "id": "view-in-github",
        "colab_type": "text"
      },
      "source": [
        "<a href=\"https://colab.research.google.com/github/sanujsriv/_topic_models/blob/FoTo/FoTo_Sentence_Preprocessing.ipynb\" target=\"_parent\"><img src=\"https://colab.research.google.com/assets/colab-badge.svg\" alt=\"Open In Colab\"/></a>"
      ]
    },
    {
      "cell_type": "code",
      "metadata": {
        "id": "HASuoYkFWPzg",
        "cellView": "form"
      },
      "source": [
        "#@title Browsing to Local Directory\n",
        "import os\n",
        "os.chdir(\"C:/Users/sanuj/Documents/FoTo/\")\n",
        "!dir"
      ],
      "execution_count": null,
      "outputs": []
    },
    {
      "cell_type": "code",
      "source": [],
      "metadata": {
        "id": "dsLeK4lKZo66"
      },
      "execution_count": null,
      "outputs": []
    },
    {
      "cell_type": "code",
      "metadata": {
        "id": "lAPNI0hG9gmK",
        "cellView": "form"
      },
      "source": [
        "#@title function : load / save pickle_obj\n",
        "import pickle\n",
        "\n",
        "def save_obj(obj, name):\n",
        "    with open(name + '.pkl', 'wb') as f:\n",
        "        pickle.dump(obj, f, pickle.HIGHEST_PROTOCOL)\n",
        "\n",
        "def load_obj(name):\n",
        "    with open(name + '.pkl', 'rb') as f:\n",
        "        return pickle.load(f)"
      ],
      "execution_count": null,
      "outputs": []
    },
    {
      "cell_type": "code",
      "metadata": {
        "id": "gn9JFNO4qjuf",
        "cellView": "form"
      },
      "source": [
        "#@title Imports\n",
        "import torch\n",
        "import pandas as pd\n",
        "from torch import nn\n",
        "import re\n",
        "from time import time\n",
        "import numpy as np\n",
        "import collections\n",
        "from matplotlib import pyplot as plt\n",
        "import torch.optim as optim\n",
        "from sklearn.feature_extraction.text import CountVectorizer\n",
        "from nltk.corpus import stopwords"
      ],
      "execution_count": null,
      "outputs": []
    },
    {
      "cell_type": "code",
      "metadata": {
        "id": "j5jTIh_kZsNf",
        "cellView": "form"
      },
      "source": [
        "#@title Download Stopwords , punkt, wordnet\n",
        "import nltk\n",
        "nltk.download('stopwords')\n",
        "nltk.download('punkt')\n",
        "nltk.download('wordnet')"
      ],
      "execution_count": null,
      "outputs": []
    },
    {
      "cell_type": "code",
      "metadata": {
        "id": "B-mhG9BmEXzm",
        "cellView": "form"
      },
      "source": [
        "#@title Data Loading functions..\n",
        "def load_reuters():\n",
        "  data_preprocessed = load_obj('data_reuters_preprocessed')\n",
        "  data_preprocessed_labels = load_obj(\"data_reuters_labels\")\n",
        "  embeddings = load_obj('embeddings_reuters')\n",
        "  return data_preprocessed,data_preprocessed_labels,embeddings,load_reuters.__name__\n",
        "\n",
        "def load_20News():\n",
        "  embeddings = load_obj('embeddings_twentynews')\n",
        "  # data_preprocessed = load_obj('data_twentynews_preprocessed')\n",
        "  data_preprocessed = load_obj('fixed_data_twentynews_preprocessed')\n",
        "  data_preprocessed_labels = load_obj(\"data_twentynews_labels\")\n",
        "  return data_preprocessed,data_preprocessed_labels,embeddings,load_20News.__name__\n",
        "\n",
        "def load_20News_sentences():\n",
        "  embeddings = load_obj('embeddings_twentynews_sent')\n",
        "  data_preprocessed = load_obj('data_twentynews_preprocessed_sent')\n",
        "  data_preprocessed_labels = load_obj(\"data_twentynews_labels_sent\")\n",
        "  doc_sent_id = load_obj('doc_id_sent_twentynews')\n",
        "  return data_preprocessed,data_preprocessed_labels,embeddings,doc_sent_id,load_20News_sentences.__name__\n",
        "\n",
        "def load_20News_reuters():\n",
        "  data_preprocessed = load_obj('data_reuters_preprocessed')\n",
        "  data_preprocessed_labels = load_obj(\"data_reuters_labels\")\n",
        "  embeddings = load_obj('embeddings_reuters')\n",
        "  data_preprocessed.extend(load_obj('data_20News_preprocessed'))\n",
        "  data_preprocessed_labels.extend(load_obj(\"data_20news_preprocessed_labels\"))\n",
        "  embeddings.update(load_obj('embeddings_20news'))\n",
        "  return data_preprocessed,data_preprocessed_labels,embeddings,load_20News_reuters.__name__\n",
        "\n",
        "def load_r52():\n",
        "  data_preprocessed = load_obj('data_r52_preprocessed')\n",
        "  data_preprocessed_labels = load_obj(\"data_r52_labels\")\n",
        "  embeddings = load_obj('embeddings_r52')\n",
        "  return data_preprocessed,data_preprocessed_labels,embeddings,load_r52.__name__\n",
        "\n",
        "def load_WebKb():\n",
        "  data_preprocessed = load_obj('data_webkb_preprocessed')\n",
        "  data_preprocessed_labels = load_obj(\"data_webkb_labels\")\n",
        "  embeddings = load_obj('embeddings_webkb')\n",
        "  return data_preprocessed,data_preprocessed_labels,embeddings,load_WebKb.__name__\n",
        "\n",
        "def load_WoS():\n",
        "  data_preprocessed = load_obj('data_wos_preprocessed')\n",
        "  data_preprocessed_labels = load_obj(\"data_wos_labels\")\n",
        "  embeddings = load_obj('embeddings_wos')\n",
        "  return data_preprocessed,data_preprocessed_labels,embeddings,load_WoS.__name__\n",
        "def load_arXiv():\n",
        "  data_preprocessed = load_obj('data_arxiv_preprocessed')\n",
        "  data_preprocessed_labels = load_obj(\"data_arxiv_labels\")\n",
        "  embeddings = load_obj('embeddings_arxiv')\n",
        "  return data_preprocessed,data_preprocessed_labels,embeddings,load_arXiv.__name__"
      ],
      "execution_count": null,
      "outputs": []
    },
    {
      "cell_type": "code",
      "metadata": {
        "id": "Zt3i5rL6jHid",
        "outputId": "1f6d6369-0299-4443-df13-1140280fe4ad",
        "colab": {
          "base_uri": "https://localhost:8080/",
          "height": 70
        }
      },
      "source": [
        "# Local\n",
        "from gensim import models\n",
        "word2vec_model = models.KeyedVectors.load_word2vec_format(\n",
        "    'C:/Users/sanuj/Documents/FoTo/GoogleNews-vectors-negative300.bin/GoogleNews-vectors-negative300.bin', binary=True)\n",
        "# print('Cell took %.2f seconds to run.' % (time() - start))"
      ],
      "execution_count": null,
      "outputs": [
        {
          "output_type": "stream",
          "text": [
            "C:\\Users\\sanuj\\Anaconda3\\lib\\site-packages\\smart_open\\smart_open_lib.py:402: UserWarning: This function is deprecated, use smart_open.open instead. See the migration notes for details: https://github.com/RaRe-Technologies/smart_open/blob/master/README.rst#migrating-to-the-new-open-function\n",
            "  'See the migration notes for details: %s' % _MIGRATION_NOTES_URL\n"
          ],
          "name": "stderr"
        }
      ]
    },
    {
      "cell_type": "code",
      "metadata": {
        "id": "LfyraW249rNe"
      },
      "source": [
        "loaded_data = load_20News_sentences\n",
        "data_preprocessed , data_preprocessed_labels , embeddings, doc_sent_id, name = loaded_data()\n",
        "data_preprocessed_docs , data_preprocessed_labels_docs , embeddings_docs,doc_fn_name = load_20News()"
      ],
      "execution_count": null,
      "outputs": []
    },
    {
      "cell_type": "code",
      "metadata": {
        "id": "SHW0JPr1uLRb"
      },
      "source": [
        "doc_id_array = np.array(doc_sent_id)"
      ],
      "execution_count": null,
      "outputs": []
    },
    {
      "cell_type": "code",
      "metadata": {
        "id": "UzpJT-q1urZl"
      },
      "source": [
        "output,counts = torch.unique(torch.from_numpy(doc_id_array) , return_counts=True)\n",
        "doc_id_val,doc_id_indices =  torch.sort(counts,descending=True)"
      ],
      "execution_count": null,
      "outputs": []
    },
    {
      "cell_type": "code",
      "metadata": {
        "id": "7Fso_ebIApV2",
        "outputId": "64739e3a-5dca-49e9-dfb1-58e4e4870991",
        "colab": {
          "base_uri": "https://localhost:8080/",
          "height": 50
        }
      },
      "source": [
        "output,counts"
      ],
      "execution_count": null,
      "outputs": [
        {
          "output_type": "execute_result",
          "data": {
            "text/plain": [
              "(tensor([    1,     2,     3,  ..., 18246, 18247, 18248], dtype=torch.int32),\n",
              " tensor([ 9,  3,  7,  ...,  6,  4, 12]))"
            ]
          },
          "metadata": {
            "tags": []
          },
          "execution_count": 123
        }
      ]
    },
    {
      "cell_type": "code",
      "metadata": {
        "id": "ccHrjXmOvXEy",
        "outputId": "3752e098-0840-4249-8220-6ee1bb7134a5",
        "colab": {
          "base_uri": "https://localhost:8080/",
          "height": 642
        }
      },
      "source": [
        "# plt.hist(np.log2(doc_id_val.numpy()))\n",
        "plt.figure(figsize=(10,10))\n",
        "plt.hist(doc_id_val.numpy(), bins=[50, 60, 70, 80, 90, 100])"
      ],
      "execution_count": null,
      "outputs": [
        {
          "output_type": "execute_result",
          "data": {
            "text/plain": [
              "(array([75., 59., 44., 26., 17.]),\n",
              " array([ 50,  60,  70,  80,  90, 100]),\n",
              " <a list of 5 Patch objects>)"
            ]
          },
          "metadata": {
            "tags": []
          },
          "execution_count": 124
        },
        {
          "output_type": "display_data",
          "data": {
            "text/plain": [
              "<Figure size 720x720 with 1 Axes>"
            ],
            "image/png": "[encoded data removed]"
          },
          "metadata": {
            "tags": [],
            "needs_background": "light"
          }
        }
      ]
    },
    {
      "cell_type": "code",
      "metadata": {
        "id": "JWVcJ6QW_7KX",
        "outputId": "d501fa43-cec8-4f1b-b4fc-ce121940f77e",
        "colab": {
          "base_uri": "https://localhost:8080/",
          "height": 50
        }
      },
      "source": [
        "doc_id_val,doc_id_indices"
      ],
      "execution_count": null,
      "outputs": [
        {
          "output_type": "execute_result",
          "data": {
            "text/plain": [
              "(tensor([682, 661, 654,  ...,   1,   1,   1]),\n",
              " tensor([13550,  9378, 16467,  ..., 11564,  8191, 16675]))"
            ]
          },
          "metadata": {
            "tags": []
          },
          "execution_count": 125
        }
      ]
    },
    {
      "cell_type": "code",
      "metadata": {
        "id": "LmsPiGvqRQnA"
      },
      "source": [
        "list_doc_id_val = doc_id_val.tolist()"
      ],
      "execution_count": null,
      "outputs": []
    },
    {
      "cell_type": "code",
      "metadata": {
        "id": "C0Ml-sc7QDbG"
      },
      "source": [
        "list_doc_id_ndx = doc_id_indices.tolist()"
      ],
      "execution_count": null,
      "outputs": []
    },
    {
      "cell_type": "code",
      "metadata": {
        "id": "azcXSZ--R-GV"
      },
      "source": [
        "sent100_ndx = list_doc_id_val.index(50)"
      ],
      "execution_count": null,
      "outputs": []
    },
    {
      "cell_type": "code",
      "metadata": {
        "id": "ro2aZctaSL_E"
      },
      "source": [
        "list_doc_id_ndx = list_doc_id_ndx[sent100_ndx:]"
      ],
      "execution_count": null,
      "outputs": []
    },
    {
      "cell_type": "code",
      "metadata": {
        "id": "khSGLLQVTk1t",
        "outputId": "1208bdd5-c996-4ab0-c19a-49355934568f",
        "colab": {
          "base_uri": "https://localhost:8080/",
          "height": 34
        }
      },
      "source": [
        "len(list_doc_id_ndx[::-1])"
      ],
      "execution_count": null,
      "outputs": [
        {
          "output_type": "execute_result",
          "data": {
            "text/plain": [
              "17895"
            ]
          },
          "metadata": {
            "tags": []
          },
          "execution_count": 130
        }
      ]
    },
    {
      "cell_type": "code",
      "metadata": {
        "id": "xkbLmd_VXG1W"
      },
      "source": [
        "data_preprocessed_wdot, data_preprocessed_labels_wdot = load_obj('data_preprocessed_wdot'),load_obj('data_preprocessed_labels_wdot')"
      ],
      "execution_count": null,
      "outputs": []
    },
    {
      "cell_type": "code",
      "metadata": {
        "id": "9r46E27mXRw_",
        "outputId": "7d6bc61b-1022-476a-ed43-77a64847c1b3",
        "colab": {
          "base_uri": "https://localhost:8080/",
          "height": 34
        }
      },
      "source": [
        "len(data_preprocessed_wdot),len(data_preprocessed_labels_wdot)"
      ],
      "execution_count": null,
      "outputs": [
        {
          "output_type": "execute_result",
          "data": {
            "text/plain": [
              "(18248, 18248)"
            ]
          },
          "metadata": {
            "tags": []
          },
          "execution_count": 132
        }
      ]
    },
    {
      "cell_type": "code",
      "metadata": {
        "id": "fMGdkmNOMMdA"
      },
      "source": [
        "new_data =[]\n",
        "new_labels = []\n",
        "for i in list_doc_id_ndx[::-1]:\n",
        "  # print(i)\n",
        "  new_data.append(data_preprocessed_wdot[i])\n",
        "  new_labels.append(data_preprocessed_labels_wdot[i])"
      ],
      "execution_count": null,
      "outputs": []
    },
    {
      "cell_type": "code",
      "metadata": {
        "id": "Cg8IivLkXVe-",
        "outputId": "37c4ea04-b5ef-4054-d827-729fc4456e26",
        "colab": {
          "base_uri": "https://localhost:8080/",
          "height": 70
        }
      },
      "source": [
        "k=16625\n",
        "# data_preprocessed_wdot[k],data_preprocessed_labels_wdot[k]\n",
        "new_data[k],new_labels[k]"
      ],
      "execution_count": null,
      "outputs": [
        {
          "output_type": "execute_result",
          "data": {
            "text/plain": [
              "('general rule relay will cleanly switch audio tranfer circuit contact . noise hear momentary opening closing path . noiseless transfering audio ground circuit . high impedance audio circuit resistive t constructed close characteristic impedance circuit . grounding imputs connected t transfer audio . low impedance circuit transformer input shorted grounded . secondary paralleled characteristic impedance . switch audio second contact momentarily short circuit output duration switching time . telephone relay handy contact adjusted break versa havent year . switching electronically op amp . novel circuit build wa primitive optical consists resistive photocell lamp packaged tube . lamp cell high resistance . turn lamp resistance lower passing audio . device t switch audio . varying lamp resistance remote volume control . variable resister mixer lot luck tom tom wagner audio visual technician . college british columbia loc kentucky rifle snail mail site q4 c2 . british columbia canada',\n",
              " 'sci.electronics')"
            ]
          },
          "metadata": {
            "tags": []
          },
          "execution_count": 134
        }
      ]
    },
    {
      "cell_type": "code",
      "metadata": {
        "id": "KMPOUOOPYXPU"
      },
      "source": [
        "stopwords = ['would','know','dont','get','like','think','im',\"also\",\"said\",\"a\", \"able\", \"about\", \"above\", \"abst\", \"accordance\", \"according\", \"accordingly\", \"across\", \"act\", \"actually\", \"added\", \"adj\", \"affected\", \"affecting\", \"affects\", \"after\", \"afterwards\", \"again\", \"against\", \"ah\", \"all\", \"almost\", \"alone\", \"along\", \"already\", \"also\", \"although\", \"always\", \"am\", \"among\", \"amongst\", \"an\", \"and\", \"announce\", \"another\", \"any\", \"anybody\", \"anyhow\", \"anymore\", \"anyone\", \"anything\", \"anyway\", \"anyways\", \"anywhere\", \"apparently\", \"approximately\", \"are\", \"aren\", \"arent\", \"arise\", \"around\", \"as\", \"aside\", \"ask\", \"asking\", \"at\", \"auth\", \"available\", \"away\", \"awfully\", \"b\", \"back\", \"be\", \"became\", \"because\", \"become\", \"becomes\", \"becoming\", \"been\", \"before\", \"beforehand\", \"begin\", \"beginning\", \"beginnings\", \"begins\", \"behind\", \"being\", \"believe\", \"below\", \"beside\", \"besides\", \"between\", \"beyond\", \"biol\", \"both\", \"brief\", \"briefly\", \"but\", \"by\", \"c\", \"ca\", \"came\", \"can\", \"cannot\", \"can't\", \"cause\", \"causes\", \"certain\", \"certainly\", \"co\", \"com\", \"come\", \"comes\", \"contain\", \"containing\", \"contains\", \"could\", \"couldnt\", \"d\", \"date\", \"did\", \"didn't\", \"different\", \"do\", \"does\", \"doesn't\", \"doing\", \"done\", \"don't\", \"down\", \"downwards\", \"due\", \"during\", \"e\", \"each\", \"ed\", \"edu\", \"effect\", \"eg\", \"eight\", \"eighty\", \"either\", \"else\", \"elsewhere\", \"end\", \"ending\", \"enough\", \"especially\", \"et\", \"et-al\", \"etc\", \"even\", \"ever\", \"every\", \"everybody\", \"everyone\", \"everything\", \"everywhere\", \"ex\", \"except\", \"f\", \"far\", \"few\", \"ff\", \"fifth\", \"first\", \"five\", \"fix\", \"followed\", \"following\", \"follows\", \"for\", \"former\", \"formerly\", \"forth\", \"found\", \"four\", \"from\", \"further\", \"furthermore\", \"g\", \"gave\", \"get\", \"gets\", \"getting\", \"give\", \"given\", \"gives\", \"giving\", \"go\", \"goes\", \"gone\", \"got\", \"gotten\", \"h\", \"had\", \"happens\", \"hardly\", \"has\", \"hasn't\", \"have\", \"haven't\", \"having\", \"he\", \"hed\", \"hence\", \"her\", \"here\", \"hereafter\", \"hereby\", \"herein\", \"heres\", \"hereupon\", \"hers\", \"herself\", \"hes\", \"hi\", \"hid\", \"him\", \"himself\", \"his\", \"hither\", \"home\", \"how\", \"howbeit\", \"however\", \"hundred\", \"i\", \"id\", \"ie\", \"if\", \"i'll\", \"im\", \"immediate\", \"immediately\", \"importance\", \"important\", \"in\", \"inc\", \"indeed\", \"index\", \"information\", \"instead\", \"into\", \"invention\", \"inward\", \"is\", \"isn't\", \"it\", \"itd\", \"it'll\", \"its\", \"itself\", \"i've\", \"j\", \"just\", \"k\", \"keep  keeps\", \"kept\", \"kg\", \"km\", \"know\", \"known\", \"knows\", \"l\", \"largely\", \"last\", \"lately\", \"later\", \"latter\", \"latterly\", \"least\", \"less\", \"lest\", \"let\", \"lets\", \"like\", \"liked\", \"likely\", \"line\", \"little\", \"'ll\", \"look\", \"looking\", \"looks\", \"ltd\", \"m\", \"made\", \"mainly\", \"make\", \"makes\", \"many\", \"may\", \"maybe\", \"me\", \"mean\", \"means\", \"meantime\", \"meanwhile\", \"merely\", \"mg\", \"might\", \"million\", \"miss\", \"ml\", \"more\", \"moreover\", \"most\", \"mostly\", \"mr\", \"mrs\", \"much\", \"mug\", \"must\", \"my\", \"myself\", \"n\", \"na\", \"name\", \"namely\", \"nay\", \"nd\", \"near\", \"nearly\", \"necessarily\", \"necessary\", \"need\", \"needs\", \"neither\", \"never\", \"nevertheless\", \"new\", \"next\", \"nine\", \"ninety\", \"no\", \"nobody\", \"non\", \"none\", \"nonetheless\", \"noone\", \"nor\", \"normally\", \"nos\", \"not\", \"noted\", \"nothing\", \"now\", \"nowhere\", \"o\", \"obtain\", \"obtained\", \"obviously\", \"of\", \"off\", \"often\", \"oh\", \"ok\", \"okay\", \"old\", \"omitted\", \"on\", \"once\", \"one\", \"ones\", \"only\", \"onto\", \"or\", \"ord\", \"other\", \"others\", \"otherwise\", \"ought\", \"our\", \"ours\", \"ourselves\", \"out\", \"outside\", \"over\", \"overall\", \"owing\", \"own\", \"p\", \"page\", \"pages\", \"part\", \"particular\", \"particularly\", \"past\", \"per\", \"perhaps\", \"placed\", \"please\", \"plus\", \"poorly\", \"possible\", \"possibly\", \"potentially\", \"pp\", \"predominantly\", \"present\", \"previously\", \"primarily\", \"probably\", \"promptly\", \"proud\", \"provides\", \"put\", \"q\", \"que\", \"quickly\", \"quite\", \"qv\", \"r\", \"ran\", \"rather\", \"rd\", \"re\", \"readily\", \"really\", \"recent\", \"recently\", \"ref\", \"refs\", \"regarding\", \"regardless\", \"regards\", \"related\", \"relatively\", \"research\", \"respectively\", \"resulted\", \"resulting\", \"results\", \"right\", \"run\", \"s\", \"said\", \"same\", \"saw\", \"say\", \"saying\", \"says\", \"sec\", \"section\", \"see\", \"seeing\", \"seem\", \"seemed\", \"seeming\", \"seems\", \"seen\", \"self\", \"selves\", \"sent\", \"seven\", \"several\", \"shall\", \"she\", \"shed\", \"she'll\", \"shes\", \"should\", \"shouldn't\", \"show\", \"showed\", \"shown\", \"showns\", \"shows\", \"significant\", \"significantly\", \"similar\", \"similarly\", \"since\", \"six\", \"slightly\", \"so\", \"some\", \"somebody\", \"somehow\", \"someone\", \"somethan\", \"something\", \"sometime\", \"sometimes\", \"somewhat\", \"somewhere\", \"soon\", \"sorry\", \"specifically\", \"specified\", \"specify\", \"specifying\", \"still\", \"stop\", \"strongly\", \"sub\", \"substantially\", \"successfully\", \"such\", \"sufficiently\", \"suggest\", \"sup\", \"sure    t\", \"take\", \"taken\", \"taking\", \"tell\", \"tends\", \"th\", \"than\", \"thank\", \"thanks\", \"thanx\", \"that\", \"that'll\", \"thats\", \"that've\", \"the\", \"their\", \"theirs\", \"them\", \"themselves\", \"then\", \"thence\", \"there\", \"thereafter\", \"thereby\", \"thered\", \"therefore\", \"therein\", \"there'll\", \"thereof\", \"therere\", \"theres\", \"thereto\", \"thereupon\", \"there've\", \"these\", \"they\", \"theyd\", \"they'll\", \"theyre\", \"they've\", \"think\", \"this\", \"those\", \"thou\", \"though\", \"thoughh\", \"thousand\", \"throug\", \"through\", \"throughout\", \"thru\", \"thus\", \"til\", \"tip\", \"to\", \"together\", \"too\", \"took\", \"toward\", \"towards\", \"tried\", \"tries\", \"truly\", \"try\", \"trying\", \"ts\", \"twice\", \"two\", \"u\", \"un\", \"under\", \"unfortunately\", \"unless\", \"unlike\", \"unlikely\", \"until\", \"unto\", \"up\", \"upon\", \"ups\", \"us\", \"use\", \"used\", \"useful\", \"usefully\", \"usefulness\", \"uses\", \"using\", \"usually\", \"v\", \"value\", \"various\", \"'ve\", \"very\", \"via\", \"viz\", \"vol\", \"vols\", \"vs\", \"w\", \"want\", \"wants\", \"was\", \"wasnt\", \"way\", \"we\", \"wed\", \"welcome\", \"we'll\", \"went\", \"were\", \"werent\", \"we've\", \"what\", \"whatever\", \"what'll\", \"whats\", \"when\", \"whence\", \"whenever\", \"where\", \"whereafter\", \"whereas\", \"whereby\", \"wherein\", \"wheres\", \"whereupon\", \"wherever\", \"whether\", \"which\", \"while\", \"whim\", \"whither\", \"who\", \"whod\", \"whoever\", \"whole\", \"who'll\", \"whom\", \"whomever\", \"whos\", \"whose\", \"why\", \"widely\", \"willing\", \"wish\", \"with\", \"within\", \"without\", \"wont\", \"words\", \"world\", \"would\", \"wouldnt\", \"www\", \"x\", \"y\", \"yes\", \"yet\", \"you\", \"youd\", \"you'll\", \"your\", \"youre\", \"yours\", \"yourself\", \"yourselves\", \"you've\", \"z\", \"zero\"]\n",
        "\n",
        "def docs_to_sentence(data_preprocessed,data_preprocessed_labels):\n",
        "  data_preprocessed_labels_sentence = []\n",
        "  data_preprocessed_sentence = []\n",
        "  doc_id_sent = []\n",
        "\n",
        "  for i in range(len(data_preprocessed)):\n",
        "    s = data_preprocessed[i].split('.')\n",
        "    for j in s:\n",
        "      j= j.split()\n",
        "      j = filter(lambda x:x not in stopwords, j)\n",
        "      j = ' '.join([e for e in j])\n",
        "      if (j!=''):\n",
        "        data_preprocessed_sentence.append(j)\n",
        "        data_preprocessed_labels_sentence.append(data_preprocessed_labels[i])\n",
        "        doc_id_sent.append(i)\n",
        "\n",
        "  return data_preprocessed_sentence,data_preprocessed_labels_sentence,doc_id_sent"
      ],
      "execution_count": null,
      "outputs": []
    },
    {
      "cell_type": "code",
      "metadata": {
        "id": "5WemeLWgK6sz"
      },
      "source": [
        "data_preprocessed_sentence_w,data_preprocessed_labels_sentence_w,doc_id_sent_w = docs_to_sentence(new_data,new_labels)"
      ],
      "execution_count": null,
      "outputs": []
    },
    {
      "cell_type": "code",
      "metadata": {
        "id": "ODWGKg1JPCsO",
        "outputId": "e077d270-6230-44f3-9e50-89d6004315af",
        "colab": {
          "base_uri": "https://localhost:8080/",
          "height": 34
        }
      },
      "source": [
        "len(data_preprocessed_sentence_w),len(data_preprocessed_labels_sentence_w),len(doc_id_sent_w)"
      ],
      "execution_count": null,
      "outputs": [
        {
          "output_type": "execute_result",
          "data": {
            "text/plain": [
              "(121453, 121453, 121453)"
            ]
          },
          "metadata": {
            "tags": []
          },
          "execution_count": 137
        }
      ]
    },
    {
      "cell_type": "code",
      "metadata": {
        "id": "yUwhefipcaQ2",
        "outputId": "d1802c2d-dd14-4e37-ff23-1e9e621017a4",
        "colab": {
          "base_uri": "https://localhost:8080/",
          "height": 54
        }
      },
      "source": [
        "new_data[17894]"
      ],
      "execution_count": null,
      "outputs": [
        {
          "output_type": "execute_result",
          "data": {
            "text/plain": [
              "'tony read post wa antigay sentimental literature . gay people will con tinue persecuted long propaganda . unaware finding concerning published group reenforce bias . kkk instance group . course vast majority public scoff finding document today wa case . fortunately white supported public sentiment wa eventually entirely turned . wa civil war sentiment increased . fact law place protect inalienable black wa pretty legal discriminate . gay will turn free form discrimination . deceived perogative . church christian church disciple christ openly affirms oppressed people segment society including gay . gospel message preaching creation making disciple . lord great commandment love beleive standing oppressed popular . church reason . find church valley stand gospel belief commandment love hardpressed find sho love champion oppressed community . lost face greater christian community unpopularity belief abolitionist oppression . killed treated runaway slave . guess ive decided challenge worth . talk gay men woman heard tragic story tragic story centering failed marriage wife husband straight hurt process . funny thing case parent child continued reject gay family member son daughter exhusband father . began form support group . apalled legislation passed colorado equally raged slimey people louis tradition coalition actively working christian underground garner support state coming november oppressive legisation gay . will . middle age proclaimed god will massacred witch hunt inquisition . message loud clear proponent gay gay general strong dislike hatred gay call change result . major flaw posturing final post hudson conditional love gay . condition change well love . sure strange coming group claim god ha unconditional love call people . sure thing will naturally change habit alcoholism wife beating . changed sort therapy . thing . amount beating people going result outward people expectation . process coerced conformity people great deal harm caused people gain puffed sense . sad thoroughly day will change . unpopular cry justice equality basis ha personal sexuality taboo subject today firmly individual free impose regulation thier bedroom . funny straight people removed restrictive oppressive legislation invasive legislation maintain chestnut repression help maintain sense superiority segment society . gay people criminal . interesting thing happened . prominent charismatic church silicon valley pastor arrested admitted charge pederasty men sex boy . going time couple year charge voluntary church worked closely police imagine wa managed downplay medium . thing happen church ha ministry friend told wa approached going therapy wa thoroughly convinced request dinner wa invitation attend ministry . difficult time live providing hostile environment creating perpetuating atmosphere breed hate violence call christian community . result passing amendment colorado ha created organization poster appearing colorado called . forget definition hand wa immoral gross homosexual trash motto working america implicit advocation violence . sick hudson embracing . christian tradition coersion oppression feel measure constant organization christian institute good purpose major work finding better excluding people . gospel negative seek include people . martin book find helpful concerning cult . cri ha cult . stick positive find bring people jesus bullwhips driving'"
            ]
          },
          "metadata": {
            "tags": []
          },
          "execution_count": 138
        }
      ]
    },
    {
      "cell_type": "code",
      "metadata": {
        "id": "4YRYpzTicXLJ",
        "outputId": "763685dc-b62d-4a55-c23d-fe50b334b5b6",
        "colab": {
          "base_uri": "https://localhost:8080/",
          "height": 34
        }
      },
      "source": [
        "doc_id_sent_w.count(doc_id_sent_w[-1])"
      ],
      "execution_count": null,
      "outputs": [
        {
          "output_type": "execute_result",
          "data": {
            "text/plain": [
              "50"
            ]
          },
          "metadata": {
            "tags": []
          },
          "execution_count": 139
        }
      ]
    },
    {
      "cell_type": "code",
      "metadata": {
        "id": "5bPbIYUUOpD_"
      },
      "source": [
        "doc_id_count = []\n",
        "for i in set(doc_id_sent_w):\n",
        "  doc_id_count.append(doc_id_sent_w.count(i))"
      ],
      "execution_count": null,
      "outputs": []
    },
    {
      "cell_type": "code",
      "metadata": {
        "id": "ot6vH3YiPRpJ",
        "outputId": "ce73d94c-9d68-4d8d-cf27-547e5986c32e",
        "colab": {
          "base_uri": "https://localhost:8080/",
          "height": 34
        }
      },
      "source": [
        "max(doc_id_count),doc_id_count.index(max(doc_id_count))+1"
      ],
      "execution_count": null,
      "outputs": [
        {
          "output_type": "execute_result",
          "data": {
            "text/plain": [
              "(50, 17889)"
            ]
          },
          "metadata": {
            "tags": []
          },
          "execution_count": 141
        }
      ]
    },
    {
      "cell_type": "code",
      "metadata": {
        "id": "1lolCDeOZLWF"
      },
      "source": [
        "doc_id_array = np.array(doc_id_sent_w)"
      ],
      "execution_count": null,
      "outputs": []
    },
    {
      "cell_type": "code",
      "metadata": {
        "id": "59DNDr_9eLA0",
        "outputId": "7e0648f1-0c93-47be-bf0e-275f5763e501",
        "colab": {
          "base_uri": "https://localhost:8080/",
          "height": 34
        }
      },
      "source": [
        "max(doc_id_sent_w)"
      ],
      "execution_count": null,
      "outputs": [
        {
          "output_type": "execute_result",
          "data": {
            "text/plain": [
              "17894"
            ]
          },
          "metadata": {
            "tags": []
          },
          "execution_count": 143
        }
      ]
    },
    {
      "cell_type": "code",
      "metadata": {
        "id": "TJe8mR5-ZLWH"
      },
      "source": [
        "output,counts = torch.unique(torch.from_numpy(doc_id_array) , return_counts=True)\n",
        "doc_id_val,doc_id_indices =  torch.sort(counts,descending=True)"
      ],
      "execution_count": null,
      "outputs": []
    },
    {
      "cell_type": "code",
      "metadata": {
        "id": "uWwGu3MlZLWK",
        "outputId": "cab3a74c-ecd8-4ca5-c793-f6e03687b564",
        "colab": {
          "base_uri": "https://localhost:8080/",
          "height": 659
        }
      },
      "source": [
        "from matplotlib import pyplot as plt\n",
        "# plt.hist(numpy.log2(doc_id_val.numpy()))\n",
        "plt.figure(figsize=(10,10))\n",
        "plt.hist(doc_id_val.numpy())"
      ],
      "execution_count": null,
      "outputs": [
        {
          "output_type": "execute_result",
          "data": {
            "text/plain": [
              "(array([10538.,  4223.,  1516.,   650.,   359.,   226.,   143.,   112.,\n",
              "           75.,    53.]),\n",
              " array([ 1. ,  5.9, 10.8, 15.7, 20.6, 25.5, 30.4, 35.3, 40.2, 45.1, 50. ]),\n",
              " <a list of 10 Patch objects>)"
            ]
          },
          "metadata": {
            "tags": []
          },
          "execution_count": 145
        },
        {
          "output_type": "display_data",
          "data": {
            "text/plain": [
              "<Figure size 720x720 with 1 Axes>"
            ],
            "image/png": "[encoded data removed]"
          },
          "metadata": {
            "tags": [],
            "needs_background": "light"
          }
        }
      ]
    },
    {
      "cell_type": "code",
      "metadata": {
        "id": "olp8EvWYvr9K"
      },
      "source": [
        "save_obj(doc_id_sent_w,'50_doc_id_sent_'+loaded_data.__name__)"
      ],
      "execution_count": null,
      "outputs": []
    },
    {
      "cell_type": "code",
      "metadata": {
        "id": "MOBNqDE553PW"
      },
      "source": [
        "save_obj(data_preprocessed_sentence_w, '50_data_'+loaded_data.__name__+'_preprocessed_sent')\n",
        "save_obj(data_preprocessed_labels_sentence_w,'50_data_'+loaded_data.__name__+'_labels_sent')"
      ],
      "execution_count": null,
      "outputs": []
    },
    {
      "cell_type": "code",
      "metadata": {
        "id": "QHQim0PmerRH"
      },
      "source": [
        "doc_id = load_obj('50_doc_id_sent_load_20News_sentences')"
      ],
      "execution_count": null,
      "outputs": []
    },
    {
      "cell_type": "code",
      "metadata": {
        "id": "vL6qvEOGezO3",
        "outputId": "523acf6c-a2a4-4b6d-8611-5e06e66e7d4d",
        "colab": {
          "base_uri": "https://localhost:8080/",
          "height": 34
        }
      },
      "source": [
        "doc_id[-1]"
      ],
      "execution_count": null,
      "outputs": [
        {
          "output_type": "execute_result",
          "data": {
            "text/plain": [
              "17894"
            ]
          },
          "metadata": {
            "tags": []
          },
          "execution_count": 104
        }
      ]
    },
    {
      "cell_type": "code",
      "metadata": {
        "id": "TMo0E6ntUG7N"
      },
      "source": [
        "data_preprocessed_sentence_w"
      ],
      "execution_count": null,
      "outputs": []
    },
    {
      "cell_type": "code",
      "metadata": {
        "id": "psZsOnhovDwD"
      },
      "source": [
        "new_data"
      ],
      "execution_count": null,
      "outputs": []
    },
    {
      "cell_type": "code",
      "metadata": {
        "id": "Psg9E5xMkzHn"
      },
      "source": [
        "for n in range(len(new_data)):\n",
        "  new_data[n]=new_data[n].replace(\".\",\"\")"
      ],
      "execution_count": null,
      "outputs": []
    },
    {
      "cell_type": "code",
      "metadata": {
        "id": "BsNxynX4lGnl",
        "outputId": "52d9cec8-538b-4fce-9b3e-8eac2a215993",
        "colab": {
          "base_uri": "https://localhost:8080/",
          "height": 34
        }
      },
      "source": [
        "len(new_data)"
      ],
      "execution_count": null,
      "outputs": [
        {
          "output_type": "execute_result",
          "data": {
            "text/plain": [
              "17895"
            ]
          },
          "metadata": {
            "tags": []
          },
          "execution_count": 147
        }
      ]
    },
    {
      "cell_type": "code",
      "metadata": {
        "id": "Ldd5ZJexTSEH"
      },
      "source": [
        "def doc_to_words(doc):\n",
        "  word_list=[]\n",
        "  for i in doc:\n",
        "    words = i.split()\n",
        "    word_list.append([w for w in words if w not in stopwords and w!=''])\n",
        "  return word_list\n",
        "all_new = doc_to_words(new_data)"
      ],
      "execution_count": null,
      "outputs": []
    },
    {
      "cell_type": "code",
      "metadata": {
        "id": "NAyUAvmPiTw9",
        "outputId": "b3268112-0250-4f32-e532-e003be01e6bd",
        "colab": {
          "base_uri": "https://localhost:8080/",
          "height": 34
        }
      },
      "source": [
        "vectorizer = CountVectorizer(max_features=5000)\n",
        "fit_data=vectorizer.fit_transform(new_data).toarray()\n",
        "len(vectorizer.vocabulary_.keys())"
      ],
      "execution_count": null,
      "outputs": [
        {
          "output_type": "execute_result",
          "data": {
            "text/plain": [
              "5000"
            ]
          },
          "metadata": {
            "tags": []
          },
          "execution_count": 153
        }
      ]
    },
    {
      "cell_type": "code",
      "metadata": {
        "id": "mBbV7yjQixOd",
        "outputId": "498e01c7-a081-42c3-ae1b-e4bbfe8d0fdb",
        "colab": {
          "base_uri": "https://localhost:8080/",
          "height": 34
        }
      },
      "source": [
        "len(all_new)"
      ],
      "execution_count": null,
      "outputs": [
        {
          "output_type": "execute_result",
          "data": {
            "text/plain": [
              "17895"
            ]
          },
          "metadata": {
            "tags": []
          },
          "execution_count": 44
        }
      ]
    },
    {
      "cell_type": "code",
      "metadata": {
        "id": "rgww2GGBQxlb"
      },
      "source": [
        "def flatten_list(user_list):\n",
        "  return [item for sublist in user_list for item in sublist]\n",
        "flatten_all_new = flatten_list(all_new)"
      ],
      "execution_count": null,
      "outputs": []
    },
    {
      "cell_type": "code",
      "metadata": {
        "id": "YEyjyMdLvH6D",
        "outputId": "8453d7c9-5b40-4273-c310-6298b65765db",
        "colab": {
          "base_uri": "https://localhost:8080/",
          "height": 34
        }
      },
      "source": [
        "len(set(flatten_all_new))"
      ],
      "execution_count": null,
      "outputs": [
        {
          "output_type": "execute_result",
          "data": {
            "text/plain": [
              "35256"
            ]
          },
          "metadata": {
            "tags": []
          },
          "execution_count": 156
        }
      ]
    },
    {
      "cell_type": "code",
      "metadata": {
        "id": "7F8wdVO0imNp",
        "outputId": "74b38cc8-4ff8-4229-9b2e-e86d0c48791c",
        "colab": {
          "base_uri": "https://localhost:8080/",
          "height": 34
        }
      },
      "source": [
        "len(all_new),len(flatten_all_new)"
      ],
      "execution_count": null,
      "outputs": [
        {
          "output_type": "execute_result",
          "data": {
            "text/plain": [
              "(17895, 900567)"
            ]
          },
          "metadata": {
            "tags": []
          },
          "execution_count": 46
        }
      ]
    },
    {
      "cell_type": "code",
      "metadata": {
        "id": "UYfkmakWi8yP",
        "outputId": "5a918488-e000-442b-fd8b-b91f7626d714",
        "colab": {
          "base_uri": "https://localhost:8080/",
          "height": 34
        }
      },
      "source": [
        "count=0\n",
        "embeddings = {}\n",
        "\n",
        "for f in flatten_all_new:\n",
        "  try :\n",
        "     embeddings[f] = word2vec_model[f]\n",
        "  except KeyError:\n",
        "    print(f)\n",
        "    count = count+1\n",
        "print( count / len(flatten_all_new)*100)"
      ],
      "execution_count": null,
      "outputs": [
        {
          "output_type": "stream",
          "text": [
            "0.0\n"
          ],
          "name": "stdout"
        }
      ]
    },
    {
      "cell_type": "code",
      "metadata": {
        "id": "tx9nAbPnR7wX"
      },
      "source": [
        "remove_words = ['etcetc','sgicom','fbigov','applecom','suncom']\n",
        "\n",
        "for d in range(len(new_data)):\n",
        "  dwords = new_data[d].split()\n",
        "  resultwords  = [word for word in dwords if word.lower() not in remove_words and word.lower() not in stopwords]\n",
        "  result = ' '.join(resultwords)\n",
        "  new_data[d] = result"
      ],
      "execution_count": null,
      "outputs": []
    },
    {
      "cell_type": "code",
      "metadata": {
        "id": "hPJivwc-TTyu"
      },
      "source": [
        "save_obj(new_data, '50_data_'+loaded_data.__name__+'_preprocessed')\n",
        "# save_obj(new_labels,'50_data_'+loaded_data.__name__+'_labels')"
      ],
      "execution_count": null,
      "outputs": []
    },
    {
      "cell_type": "code",
      "metadata": {
        "id": "WsC-h5OWIrZg"
      },
      "source": [
        "save_obj(embeddings,'50_embeddings_'+loaded_data.__name__+'docs')"
      ],
      "execution_count": null,
      "outputs": []
    },
    {
      "cell_type": "code",
      "metadata": {
        "id": "0t1AgkFth7SS"
      },
      "source": [],
      "execution_count": null,
      "outputs": []
    }
  ]
}