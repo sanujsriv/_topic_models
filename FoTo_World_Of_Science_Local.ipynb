{
  "nbformat": 4,
  "nbformat_minor": 0,
  "metadata": {
    "colab": {
      "provenance": [],
      "collapsed_sections": [
        "7_6ifWD8l8WA",
        "2p5lYecYtWFm",
        "x12xv1cuJLiR"
      ],
      "toc_visible": true,
      "include_colab_link": true
    },
    "kernelspec": {
      "name": "python3",
      "display_name": "Python 3"
    }
  },
  "cells": [
    {
      "cell_type": "markdown",
      "metadata": {
        "id": "view-in-github",
        "colab_type": "text"
      },
      "source": [
        "<a href=\"https://colab.research.google.com/github/sanujsriv/_topic_models/blob/FoTo/FoTo_World_Of_Science_Local.ipynb\" target=\"_parent\"><img src=\"https://colab.research.google.com/assets/colab-badge.svg\" alt=\"Open In Colab\"/></a>"
      ]
    },
    {
      "cell_type": "code",
      "metadata": {
        "id": "hRvTeUX_wk1u"
      },
      "source": [
        "# !git clone https://github.com/dangpnh2/plsv_vae.git"
      ],
      "execution_count": null,
      "outputs": []
    },
    {
      "cell_type": "code",
      "metadata": {
        "id": "8_u-e3XvWfc8"
      },
      "source": [
        "# !mv plsv_vae FoTo"
      ],
      "execution_count": null,
      "outputs": []
    },
    {
      "cell_type": "code",
      "metadata": {
        "id": "HASuoYkFWPzg",
        "cellView": "form"
      },
      "source": [
        "#@title\n",
        "import os\n",
        "os.chdir(\"C:/Users/sanuj/Documents/FoTo/\")\n",
        "!dir"
      ],
      "execution_count": null,
      "outputs": []
    },
    {
      "cell_type": "code",
      "metadata": {
        "id": "j5jTIh_kZsNf",
        "cellView": "form"
      },
      "source": [
        "#@title\n",
        "import nltk\n",
        "nltk.download('stopwords')\n",
        "nltk.download('punkt')\n",
        "nltk.download('wordnet')"
      ],
      "execution_count": null,
      "outputs": []
    },
    {
      "cell_type": "code",
      "metadata": {
        "id": "gn9JFNO4qjuf",
        "cellView": "form"
      },
      "source": [
        "#@title\n",
        "# from sympy.stats import RaisedCosine, density\n",
        "import torch\n",
        "import pandas as pd\n",
        "from torch import nn\n",
        "import re\n",
        "from time import time\n",
        "import numpy as np\n",
        "import collections\n",
        "import torch.optim as optim\n",
        "# from utils import get_topwords, plot_fig\n",
        "# from plsv_vae import PlsvVAE\n",
        "# import data_preprocessing\n",
        "from sklearn.feature_extraction.text import CountVectorizer\n",
        "from nltk.corpus import stopwords"
      ],
      "execution_count": null,
      "outputs": []
    },
    {
      "cell_type": "code",
      "metadata": {
        "id": "EivGqJ7vBoAo",
        "cellView": "form"
      },
      "source": [
        "#@title\n",
        "import pickle\n",
        "\n",
        "def save_obj(obj, name):\n",
        "    with open(name + '.pkl', 'wb') as f:\n",
        "        pickle.dump(obj, f, pickle.HIGHEST_PROTOCOL)\n",
        "\n",
        "def load_obj(name):\n",
        "    with open(name + '.pkl', 'rb') as f:\n",
        "        return pickle.load(f)"
      ],
      "execution_count": null,
      "outputs": []
    },
    {
      "cell_type": "code",
      "metadata": {
        "id": "uf0-X5SGwvA1",
        "cellView": "form"
      },
      "source": [
        "#@title\n",
        "import sklearn\n",
        "import pickle\n",
        "import re\n",
        "import string\n",
        "from numpy import random\n",
        "# from nltk.stem import PorterStemmer\n",
        "from nltk.stem import WordNetLemmatizer\n",
        "from nltk import word_tokenize\n",
        "from nltk.corpus import stopwords\n",
        "from sklearn.datasets import fetch_20newsgroups\n",
        "from sklearn.datasets import fetch_rcv1\n",
        "from sklearn.feature_extraction.text import CountVectorizer\n",
        "from sklearn.feature_extraction.text import TfidfVectorizer\n",
        "\n",
        "\n",
        "# stem = PorterStemmer()\n",
        "wnl = WordNetLemmatizer()\n",
        "vectorizer = CountVectorizer(min_df=5)\n",
        "vectorizer_tfidf = TfidfVectorizer(min_df=5)\n",
        "stop_words = set(stopwords.words('english'))\n",
        "\n",
        "stopwords = [\"also\", \"said\",\"a\", \"able\", \"about\", \"above\", \"abst\", \"accordance\", \"according\", \"accordingly\", \"across\", \"act\", \"actually\", \"added\", \"adj\", \"affected\", \"affecting\", \"affects\", \"after\", \"afterwards\", \"again\", \"against\", \"ah\", \"all\", \"almost\", \"alone\", \"along\", \"already\", \"also\", \"although\", \"always\", \"am\", \"among\", \"amongst\", \"an\", \"and\", \"announce\", \"another\", \"any\", \"anybody\", \"anyhow\", \"anymore\", \"anyone\", \"anything\", \"anyway\", \"anyways\", \"anywhere\", \"apparently\", \"approximately\", \"are\", \"aren\", \"arent\", \"arise\", \"around\", \"as\", \"aside\", \"ask\", \"asking\", \"at\", \"auth\", \"available\", \"away\", \"awfully\", \"b\", \"back\", \"be\", \"became\", \"because\", \"become\", \"becomes\", \"becoming\", \"been\", \"before\", \"beforehand\", \"begin\", \"beginning\", \"beginnings\", \"begins\", \"behind\", \"being\", \"believe\", \"below\", \"beside\", \"besides\", \"between\", \"beyond\", \"biol\", \"both\", \"brief\", \"briefly\", \"but\", \"by\", \"c\", \"ca\", \"came\", \"can\", \"cannot\", \"can't\", \"cause\", \"causes\", \"certain\", \"certainly\", \"co\", \"com\", \"come\", \"comes\", \"contain\", \"containing\", \"contains\", \"could\", \"couldnt\", \"d\", \"date\", \"did\", \"didn't\", \"different\", \"do\", \"does\", \"doesn't\", \"doing\", \"done\", \"don't\", \"down\", \"downwards\", \"due\", \"during\", \"e\", \"each\", \"ed\", \"edu\", \"effect\", \"eg\", \"eight\", \"eighty\", \"either\", \"else\", \"elsewhere\", \"end\", \"ending\", \"enough\", \"especially\", \"et\", \"et-al\", \"etc\", \"even\", \"ever\", \"every\", \"everybody\", \"everyone\", \"everything\", \"everywhere\", \"ex\", \"except\", \"f\", \"far\", \"few\", \"ff\", \"fifth\", \"first\", \"five\", \"fix\", \"followed\", \"following\", \"follows\", \"for\", \"former\", \"formerly\", \"forth\", \"found\", \"four\", \"from\", \"further\", \"furthermore\", \"g\", \"gave\", \"get\", \"gets\", \"getting\", \"give\", \"given\", \"gives\", \"giving\", \"go\", \"goes\", \"gone\", \"got\", \"gotten\", \"h\", \"had\", \"happens\", \"hardly\", \"has\", \"hasn't\", \"have\", \"haven't\", \"having\", \"he\", \"hed\", \"hence\", \"her\", \"here\", \"hereafter\", \"hereby\", \"herein\", \"heres\", \"hereupon\", \"hers\", \"herself\", \"hes\", \"hi\", \"hid\", \"him\", \"himself\", \"his\", \"hither\", \"home\", \"how\", \"howbeit\", \"however\", \"hundred\", \"i\", \"id\", \"ie\", \"if\", \"i'll\", \"im\", \"immediate\", \"immediately\", \"importance\", \"important\", \"in\", \"inc\", \"indeed\", \"index\", \"information\", \"instead\", \"into\", \"invention\", \"inward\", \"is\", \"isn't\", \"it\", \"itd\", \"it'll\", \"its\", \"itself\", \"i've\", \"j\", \"just\", \"k\", \"keep\tkeeps\", \"kept\", \"kg\", \"km\", \"know\", \"known\", \"knows\", \"l\", \"largely\", \"last\", \"lately\", \"later\", \"latter\", \"latterly\", \"least\", \"less\", \"lest\", \"let\", \"lets\", \"like\", \"liked\", \"likely\", \"line\", \"little\", \"'ll\", \"look\", \"looking\", \"looks\", \"ltd\", \"m\", \"made\", \"mainly\", \"make\", \"makes\", \"many\", \"may\", \"maybe\", \"me\", \"mean\", \"means\", \"meantime\", \"meanwhile\", \"merely\", \"mg\", \"might\", \"million\", \"miss\", \"ml\", \"more\", \"moreover\", \"most\", \"mostly\", \"mr\", \"mrs\", \"much\", \"mug\", \"must\", \"my\", \"myself\", \"n\", \"na\", \"name\", \"namely\", \"nay\", \"nd\", \"near\", \"nearly\", \"necessarily\", \"necessary\", \"need\", \"needs\", \"neither\", \"never\", \"nevertheless\", \"new\", \"next\", \"nine\", \"ninety\", \"no\", \"nobody\", \"non\", \"none\", \"nonetheless\", \"noone\", \"nor\", \"normally\", \"nos\", \"not\", \"noted\", \"nothing\", \"now\", \"nowhere\", \"o\", \"obtain\", \"obtained\", \"obviously\", \"of\", \"off\", \"often\", \"oh\", \"ok\", \"okay\", \"old\", \"omitted\", \"on\", \"once\", \"one\", \"ones\", \"only\", \"onto\", \"or\", \"ord\", \"other\", \"others\", \"otherwise\", \"ought\", \"our\", \"ours\", \"ourselves\", \"out\", \"outside\", \"over\", \"overall\", \"owing\", \"own\", \"p\", \"page\", \"pages\", \"part\", \"particular\", \"particularly\", \"past\", \"per\", \"perhaps\", \"placed\", \"please\", \"plus\", \"poorly\", \"possible\", \"possibly\", \"potentially\", \"pp\", \"predominantly\", \"present\", \"previously\", \"primarily\", \"probably\", \"promptly\", \"proud\", \"provides\", \"put\", \"q\", \"que\", \"quickly\", \"quite\", \"qv\", \"r\", \"ran\", \"rather\", \"rd\", \"re\", \"readily\", \"really\", \"recent\", \"recently\", \"ref\", \"refs\", \"regarding\", \"regardless\", \"regards\", \"related\", \"relatively\", \"research\", \"respectively\", \"resulted\", \"resulting\", \"results\", \"right\", \"run\", \"s\", \"said\", \"same\", \"saw\", \"say\", \"saying\", \"says\", \"sec\", \"section\", \"see\", \"seeing\", \"seem\", \"seemed\", \"seeming\", \"seems\", \"seen\", \"self\", \"selves\", \"sent\", \"seven\", \"several\", \"shall\", \"she\", \"shed\", \"she'll\", \"shes\", \"should\", \"shouldn't\", \"show\", \"showed\", \"shown\", \"showns\", \"shows\", \"significant\", \"significantly\", \"similar\", \"similarly\", \"since\", \"six\", \"slightly\", \"so\", \"some\", \"somebody\", \"somehow\", \"someone\", \"somethan\", \"something\", \"sometime\", \"sometimes\", \"somewhat\", \"somewhere\", \"soon\", \"sorry\", \"specifically\", \"specified\", \"specify\", \"specifying\", \"still\", \"stop\", \"strongly\", \"sub\", \"substantially\", \"successfully\", \"such\", \"sufficiently\", \"suggest\", \"sup\", \"sure\tt\", \"take\", \"taken\", \"taking\", \"tell\", \"tends\", \"th\", \"than\", \"thank\", \"thanks\", \"thanx\", \"that\", \"that'll\", \"thats\", \"that've\", \"the\", \"their\", \"theirs\", \"them\", \"themselves\", \"then\", \"thence\", \"there\", \"thereafter\", \"thereby\", \"thered\", \"therefore\", \"therein\", \"there'll\", \"thereof\", \"therere\", \"theres\", \"thereto\", \"thereupon\", \"there've\", \"these\", \"they\", \"theyd\", \"they'll\", \"theyre\", \"they've\", \"think\", \"this\", \"those\", \"thou\", \"though\", \"thoughh\", \"thousand\", \"throug\", \"through\", \"throughout\", \"thru\", \"thus\", \"til\", \"tip\", \"to\", \"together\", \"too\", \"took\", \"toward\", \"towards\", \"tried\", \"tries\", \"truly\", \"try\", \"trying\", \"ts\", \"twice\", \"two\", \"u\", \"un\", \"under\", \"unfortunately\", \"unless\", \"unlike\", \"unlikely\", \"until\", \"unto\", \"up\", \"upon\", \"ups\", \"us\", \"use\", \"used\", \"useful\", \"usefully\", \"usefulness\", \"uses\", \"using\", \"usually\", \"v\", \"value\", \"various\", \"'ve\", \"very\", \"via\", \"viz\", \"vol\", \"vols\", \"vs\", \"w\", \"want\", \"wants\", \"was\", \"wasnt\", \"way\", \"we\", \"wed\", \"welcome\", \"we'll\", \"went\", \"were\", \"werent\", \"we've\", \"what\", \"whatever\", \"what'll\", \"whats\", \"when\", \"whence\", \"whenever\", \"where\", \"whereafter\", \"whereas\", \"whereby\", \"wherein\", \"wheres\", \"whereupon\", \"wherever\", \"whether\", \"which\", \"while\", \"whim\", \"whither\", \"who\", \"whod\", \"whoever\", \"whole\", \"who'll\", \"whom\", \"whomever\", \"whos\", \"whose\", \"why\", \"widely\", \"willing\", \"wish\", \"with\", \"within\", \"without\", \"wont\", \"words\", \"world\", \"would\", \"wouldnt\", \"www\", \"x\", \"y\", \"yes\", \"yet\", \"you\", \"youd\", \"you'll\", \"your\", \"youre\", \"yours\", \"yourself\", \"yourselves\", \"you've\", \"z\", \"zero\"]\n",
        "\n",
        "def preprocessing_nonstem(doc, word2vec_model):\n",
        "    # word_vectors = word2vec_model.wv\n",
        "    doc = doc.lower()\n",
        "    doc = doc.translate(str.maketrans('', '', string.punctuation))\n",
        "    doc = word_tokenize(doc)\n",
        "    doc = filter(lambda x:x not in string.punctuation, doc)\n",
        "    doc = filter(lambda x:x not in stop_words, doc)\n",
        "    doc = filter(lambda x:not x.isdigit(), doc)\n",
        "    doc = [wnl.lemmatize(w.lower()) for w in doc]\n",
        "    doc = filter(lambda x: x in word2vec_model.vocab,doc)\n",
        "    doc = ' '.join(e for e in doc)\n",
        "    return doc"
      ],
      "execution_count": null,
      "outputs": []
    },
    {
      "cell_type": "markdown",
      "metadata": {
        "id": "uuMpIj0Q7i7D"
      },
      "source": [
        "# Model, Training, Testing, Visualization"
      ]
    },
    {
      "cell_type": "code",
      "metadata": {
        "id": "1MN4t01dDLCs"
      },
      "source": [
        "# ## WoS data loading ##\n",
        "data_preprocessed = load_obj('data_WoS_preprocessed')\n",
        "data_preprocessed_labels = load_obj(\"data_WoS_labels\")\n",
        "embeddings = load_obj('embeddings_WoS')\n",
        "print(len(data_preprocessed_labels),len(data_preprocessed),len(embeddings))"
      ],
      "execution_count": null,
      "outputs": []
    },
    {
      "cell_type": "code",
      "metadata": {
        "id": "SSDtRw61M-rx"
      },
      "source": [
        "def cosine_similarity_desm_docs(query_list, doc, embeddings):\n",
        "  doc_bar = torch.zeros(300)\n",
        "  #doc_bar_list=[]\n",
        "  sim_list = torch.zeros(len(doc))\n",
        "  index = 0\n",
        "  for d in doc:\n",
        "    words = d.split()\n",
        "    for word in words:\n",
        "      doc_bar.add_(torch.from_numpy(embeddings[word])/torch.norm(torch.from_numpy(embeddings[word])))\n",
        "    doc_bar = doc_bar / len(words)\n",
        "\n",
        "    sum = 0\n",
        "    for q in query_list:\n",
        "      sum += torch.dot(torch.from_numpy(embeddings[q]) , doc_bar)/(torch.norm(torch.from_numpy(embeddings[q]))*torch.norm(doc_bar))\n",
        "    sum = sum/len(query_list)\n",
        "    sim_list[index]=sum\n",
        "    index = index + 1\n",
        "  return sim_list"
      ],
      "execution_count": null,
      "outputs": []
    },
    {
      "cell_type": "code",
      "metadata": {
        "id": "DqC69zvaqjus",
        "cellView": "both"
      },
      "source": [
        "preprossed_data = data_preprocessed\n",
        "train_label = data_preprocessed_labels\n",
        "\n",
        "vectorizer = CountVectorizer(min_df=10,dtype=np.float32)\n",
        "train_vec = vectorizer.fit_transform(preprossed_data).toarray()\n",
        "vocab = vectorizer.vocabulary_\n",
        "nonzeros_indexes = np.where(train_vec.any(1))[0]\n",
        "train_vec_non_zeros = [train_vec[i] for i in nonzeros_indexes]\n",
        "\n",
        "preprossed_data_non_zeros = [preprossed_data[i] for i in nonzeros_indexes]\n",
        "train_label = [train_label[i] for i in nonzeros_indexes]\n",
        "\n",
        "keywords = ['pediatric','protein','clone']\n",
        "all_rscores = cosine_similarity_desm_docs(keywords, preprossed_data_non_zeros, embeddings)\n",
        "\n",
        "train_vec = np.array(train_vec_non_zeros)\n",
        "device = torch.device(\"cuda:0\" if torch.cuda.is_available() else \"cpu\")\n",
        "\n",
        "# tensor_train_w = torch.from_numpy(np.array(train_vec)).float()\n",
        "tensor_train_w = torch.from_numpy(train_vec)\n",
        "train_label = np.asarray(train_label)\n",
        "\n",
        "id_vocab = dict(map(reversed, vocab.items()))\n",
        "\n",
        "num_coordinate = 2\n",
        "bs = 256\n",
        "en1_units_x = 100\n",
        "en2_units_x = 100\n",
        "num_input = train_vec[0].shape[0]\n",
        "variance_x = 1\n",
        "learning_rate = 0.002\n",
        "beta1 = 0.99\n",
        "beta2 = 0.999\n",
        "drop_rate = 0.6\n",
        "num_topic = 20"
      ],
      "execution_count": null,
      "outputs": []
    },
    {
      "cell_type": "code",
      "metadata": {
        "id": "DkvzqQMNXbuK"
      },
      "source": [
        "# torch.max(all_rscores)\n",
        "top_10_docs=[]\n",
        "sort,indices = torch.sort(all_rscores,descending=True)\n",
        "print('Descending :',sort,'\\n','indices:',indices)\n",
        "print('\\n\\n Top 10 Relevant Documents (DESM):\\n\\n',\"---\"*40)\n",
        "for k in range(0,10):\n",
        "  top_10_docs.append(data_preprocessed[indices[k].item()].split())\n",
        "  print(k+1,') ',data_preprocessed[indices[k].item()])"
      ],
      "execution_count": null,
      "outputs": []
    },
    {
      "cell_type": "code",
      "metadata": {
        "id": "2bELCcZ0Wu-v"
      },
      "source": [
        "from sklearn.preprocessing import MinMaxScaler\n",
        "scaler = MinMaxScaler(feature_range=(0+1e-10, 0.99))\n",
        "normalized_all_rscores = scaler.fit_transform(all_rscores.data.reshape(-1,1))\n",
        "normalized_all_rscores=torch.tensor(normalized_all_rscores.flatten())\n",
        "rounded_normalized_all_rscores = torch.round(normalized_all_rscores*20)/20.0"
      ],
      "execution_count": null,
      "outputs": []
    },
    {
      "cell_type": "code",
      "metadata": {
        "id": "yjB3n6TXrETw"
      },
      "source": [
        "plt.hist(all_rscores)"
      ],
      "execution_count": null,
      "outputs": []
    },
    {
      "cell_type": "code",
      "metadata": {
        "id": "yiHv4VJ5rJZk"
      },
      "source": [
        "plt.hist(rounded_normalized_all_rscores)"
      ],
      "execution_count": null,
      "outputs": []
    },
    {
      "cell_type": "code",
      "metadata": {
        "id": "F8zGrIE4E3gP"
      },
      "source": [
        "# word2vec_model = ''\n",
        "import gc\n",
        "gc.collect()"
      ],
      "execution_count": null,
      "outputs": []
    },
    {
      "cell_type": "markdown",
      "metadata": {
        "id": "A8MNqCWVYJcl"
      },
      "source": [
        "Other Distributions"
      ]
    },
    {
      "cell_type": "code",
      "metadata": {
        "id": "uY2AM29sYFOE",
        "cellView": "form"
      },
      "source": [
        "# @title\n",
        "# def beta(x,mu,a):\n",
        "#   smoothen=1e-20\n",
        "#   b = (a - a * (mu+smoothen))/(mu+smoothen)\n",
        "#   # a = (b * (mu+smoothen))/((1-mu)+smoothen)\n",
        "#   deno = (torch.lgamma(a)+torch.lgamma(b)-torch.lgamma(a+b))\n",
        "#   ret = (a-1)*torch.log(x) + (b-1)*torch.log(1-x)-deno\n",
        "#   return ret\n",
        "\n",
        "# def log_gaussian(x,mu,variance):\n",
        "#   pi = 3.1415927410125732\n",
        "#   ret = -0.5 * ((x-mu)/variance)**2 - torch.log(variance*(2*pi)**0.5)\n",
        "#   return ret\n",
        "\n",
        "# def raised_cosine(x,mu,s):\n",
        "#   #torch.pi = torch.acos(torch.zeros(1)).item() * 2\n",
        "#   pi = 3.1415927410125732\n",
        "\n",
        "#   check_range = (x > mu-s) & (x < mu+s)\n",
        "#   a = 1.0 / 2*s\n",
        "#   c = (x - mu) / s\n",
        "#   b = torch.cos(pi * c)\n",
        "#   raised_cosine = a*(1+b)\n",
        "\n",
        "#   raised_cosine = raised_cosine * check_range\n",
        "\n",
        "#   return raised_cosine\n",
        "\n",
        "# def LogL_Score_beta(theta,phi,torch_sim):\n",
        "#   # s_rc=1\n",
        "#   # phi_z = torch.norm(phi,dim=-1).unsqueeze(-1) #num_topic --> 50\n",
        "#   # R_phi = torch.exp(-0.5 * (torch.pow(phi_z,2))) # ---> 50 x 1\n",
        "#   # mu = torch.matmul(theta,R_phi) # bs x num_topic * num_topicx1\n",
        "#   # LogL = torch.log(raised_cosine(torch_sim, mu, s_rc)+1e-20)\n",
        "#   #b=torch.tensor(100.0)\n",
        "#   # a=torch.tensor(100.0)\n",
        "\n",
        "#   phi_z = torch.norm(phi,dim=-1).unsqueeze(-1) #num_topic --> 50\n",
        "#   R_phi = torch.exp(-0.5 * (torch.pow(phi_z,2))/100.0 ) # ---> 50 x 1\n",
        "#   mu = torch.matmul(theta,R_phi) # bs x num_topic * num_topicx1\n",
        "#   LogL = beta(torch_sim, mu, a)\n",
        "#   return LogL.sum()\n",
        "\n",
        "# def LogL_Score(x,torch_sim):\n",
        "#   x=x.squeeze(-2)\n",
        "#   variance=torch.tensor(0.1)\n",
        "#   x_norm = torch.norm(x,dim=-1)\n",
        "#   mu = torch.exp(-0.5 * (torch.pow(x_norm,2)))\n",
        "#   LogL = log_gaussian(torch_sim, mu, variance)\n",
        "#   #LogL = beta(torch_sim, mu, b)\n",
        "#   return LogL.sum()\n",
        "\n",
        "# # def LogL_Score_test(zx,relevant_scores):\n",
        "# #   x_norm = torch.norm(zx,dim=-1)\n",
        "# #   NegativeLogL_RScore = 10000 * torch.exp(-0.5 * (torch.pow(x_norm,2)/100.0) - relevant_scores)**2\n",
        "# #   return NegativeLogL_RScore.sum()\n",
        "\n",
        "\n",
        "# def LogL_Score_current(theta,phi,relevant_scores):\n",
        "#   a=torch.tensor(100.0)\n",
        "#   phi_z = torch.norm(phi,dim=-1).unsqueeze(-1)\n",
        "#   R_phi = torch.exp(-0.5 * (torch.pow(phi_z,2)))\n",
        "\n",
        "#   R_n = torch.pow(theta,R_phi)\n",
        "\n",
        "#   LogL = beta(torch_sim, mu, a)\n",
        "#   return LogL.sum()"
      ],
      "execution_count": null,
      "outputs": []
    },
    {
      "cell_type": "markdown",
      "metadata": {
        "id": "JtRrwY7L-oRL"
      },
      "source": [
        "# Current Working Model"
      ]
    },
    {
      "cell_type": "code",
      "metadata": {
        "id": "20SZS3Q4FVzq"
      },
      "source": [
        "import sklearn\n",
        "import pickle\n",
        "import torch\n",
        "import sys\n",
        "from torch.utils.data import Dataset, DataLoader\n",
        "import torch.nn as nn\n",
        "from sympy.stats import RaisedCosine,density\n",
        "import torch.nn.functional as F\n",
        "import torch.optim as optim\n",
        "import numpy as np\n",
        "import torch.utils.data as data_utils\n",
        "from torch.utils.data import Dataset, DataLoader, TensorDataset\n",
        "from types import SimpleNamespace\n",
        "from torch.nn import Parameter\n",
        "torch.cuda.empty_cache()\n",
        "\n",
        "def truncate_phi(Xi):\n",
        "  pi = 3.1415927410125732\n",
        "  return (1.0/ ((2.0*pi)**0.5) )*torch.exp(-0.5*(Xi**2))\n",
        "\n",
        "def truncate_bold_phi(x):\n",
        "  return 0.5 * (1.0 + torch.erf(x / (2.0**0.5)))\n",
        "\n",
        "def truncate_norm_dist(x,mu,a,b,sig,smoothen):\n",
        "    check_range = (x >=a) & (x <=b)\n",
        "    l=(1.0/sig)\n",
        "    r_numr= truncate_phi((x-mu)/sig)\n",
        "    r_deno= truncate_bold_phi((b-mu)/sig) - truncate_bold_phi((a-mu)/sig)\n",
        "    tr_ndist = l*(r_numr/(r_deno+smoothen))\n",
        "    tr_ndist = tr_ndist*check_range\n",
        "    return tr_ndist\n",
        "\n",
        "def LogL_Score_TND(theta,phi,relevant_scores, query_center,x):\n",
        "  smoothen=1e-20\n",
        "  a=0\n",
        "  b=1\n",
        "  sig=0.01\n",
        "  x_norm = torch.norm(x,dim=-1)\n",
        "  mu = torch.exp(-0.5 * (torch.pow(x_norm,2))/100.0)\n",
        "  LogL = torch.log(truncate_norm_dist(relevant_scores, mu, a,b,sig,smoothen)+smoothen)\n",
        "  return LogL.sum()\n",
        "\n",
        "def gaussian(alpha):\n",
        "    # phi = torch.exp(-5*alpha)\n",
        "    phi = -0.5*alpha\n",
        "    return phi\n",
        "\n",
        "def inverse_multi_quadric(alpha):\n",
        "    phi = -0.5*torch.log(torch.ones_like(alpha) + alpha)\n",
        "    return phi\n",
        "\n",
        "def inverse_quadratic(alpha):\n",
        "    # phi = torch.ones_like(alpha) / (torch.ones_like(alpha) + alpha)\n",
        "    phi = -torch.log(torch.ones_like(alpha) + alpha)\n",
        "    return phi\n",
        "\n",
        "class PlsvVAE(nn.Module):\n",
        "    def __init__(self, num_input, en1_units_x, en2_units_x, num_coordinate, num_topic, drop_rate, variance_x, bs, distance=\"gaussian\"):\n",
        "        super(PlsvVAE, self).__init__()\n",
        "        self.num_input, self.num_coordinate, self.num_topic, self.variance_x, self.bs\\\n",
        "            = num_input, num_coordinate, num_topic, variance_x, bs\n",
        "\n",
        "        # encoder\n",
        "        self.en1_fc     = nn.Linear(num_input, en1_units_x)             # V -> 100 #nxV->(vxh1)->nxh1;\n",
        "        self.en2_fc     = nn.Linear(en1_units_x, en2_units_x)             # 100  -> 100\n",
        "        self.en2_drop   = nn.Dropout(drop_rate)\n",
        "        self.mean_fc    = nn.Linear(en2_units_x, num_coordinate)        # 100  -> 2\n",
        "        self.mean_bn    = nn.BatchNorm1d(num_coordinate)              # bn for mean\n",
        "        self.logvar_fc  = nn.Linear(en2_units_x, num_coordinate)        # 100  -> 2\n",
        "        self.logvar_bn  = nn.BatchNorm1d(num_coordinate)              # bn for logvar\n",
        "\n",
        "\n",
        "        # RBF\n",
        "        self.in_features = self.num_coordinate\n",
        "        self.out_features = self.num_topic\n",
        "        self.centres = nn.Parameter(torch.Tensor(self.out_features, self.in_features))\n",
        "\n",
        "\n",
        "        self.query_center = nn.Parameter(torch.zeros(2,1))\n",
        "\n",
        "        if distance==\"gaussian\":\n",
        "            self.basis_func = gaussian\n",
        "        if distance==\"inverse_quadratic\":\n",
        "            self.basis_func = inverse_quadratic\n",
        "        if distance==\"inverse_multi_quadric\":\n",
        "            self.basis_func = inverse_multi_quadric\n",
        "        self.init_parameters()\n",
        "\n",
        "\n",
        "        # decoder layer\n",
        "        self.decoder    = nn.Linear(self.num_topic, self.num_input)             # 50   -> 1995\n",
        "        self.decoder_bn = nn.BatchNorm1d(self.num_topic)                      # bn for decoder\n",
        "\n",
        "        # decoder document\n",
        "        self.decoder_phi_bn = nn.BatchNorm1d(num_coordinate)                      # bn for decoder\n",
        "        self.decoder_x_bn = nn.BatchNorm1d(num_coordinate)\n",
        "\n",
        "        # prior mean and variance as constant buffers\n",
        "        prior_mean   = torch.Tensor(1, num_coordinate).fill_(0)\n",
        "        prior_var    = torch.Tensor(1, num_coordinate).fill_(variance_x)\n",
        "        self.prior_mean = nn.Parameter(prior_mean, requires_grad=False)\n",
        "        self.prior_var  = nn.Parameter(prior_var, requires_grad=False)\n",
        "        self.prior_logvar = nn.Parameter(prior_var.log(), requires_grad=False)\n",
        "\n",
        "\n",
        "    def init_parameters(self):\n",
        "        nn.init.normal_(self.centres, 0, 0.01)\n",
        "\n",
        "    def encode(self, input_):\n",
        "        N, *_ = input_.size()\n",
        "        # compute posterior\n",
        "        en1 = F.softplus(self.en1_fc(input_))                           # en1_fc   output\n",
        "        en2 = F.softplus(self.en2_fc(en1))                              # encoder2 output\n",
        "        en2 = self.en2_drop(en2)\n",
        "        posterior_mean   = self.mean_bn  (self.mean_fc  (en2))          # posterior mean\n",
        "        posterior_logvar = self.logvar_bn(self.logvar_fc(en2))          # posterior log variance\n",
        "        posterior_var    = posterior_logvar.exp()\n",
        "\n",
        "        return en2, posterior_mean, posterior_logvar, posterior_var\n",
        "\n",
        "    def take_sample(self, input_, posterior_mean, posterior_var, prior_var):\n",
        "        # take sample\n",
        "        eps = input_.data.new().resize_as_(posterior_mean.data).normal_(std=1) # noise\n",
        "        # N x X\n",
        "        z = posterior_mean + posterior_var.sqrt() * eps                   # reparameterization\n",
        "\n",
        "        return z\n",
        "\n",
        "    def decode(self, z):\n",
        "        # decode\n",
        "        N, *_ = z.size()\n",
        "        zx = self.decoder_x_bn(z).view(N, 1, self.num_coordinate) # Nx1xX\n",
        "        size = (N, self.out_features, self.in_features) # N,K,2\n",
        "        x = zx.expand(size)\n",
        "        c = self.decoder_phi_bn(self.centres).unsqueeze(0).expand(size)\n",
        "        d = (x-c).pow(2).sum(-1)\n",
        "        distances = self.basis_func(d) #NxK\n",
        "        zx_phi = torch.exp(distances - torch.logsumexp(distances, dim=-1, keepdim=True))\n",
        "        recon_v = torch.mm(zx_phi, F.softmax(self.decoder_bn(self.decoder.weight).transpose(1,0), dim=-1))\n",
        "        return recon_v, zx, zx_phi, d, c\n",
        "\n",
        "    def forward(self, input_, relevant_scores, compute_loss=False):\n",
        "        en2, posterior_mean, posterior_logvar, posterior_var = self.encode(input_)\n",
        "        z = self.take_sample(input_, posterior_mean, posterior_var, self.variance_x)\n",
        "\n",
        "        # decode\n",
        "        recon_v, zx, zx_phi,d,c= self.decode(z)\n",
        "\n",
        "        if compute_loss:\n",
        "            return recon_v, self.loss(input_, recon_v, zx_phi, posterior_mean, posterior_logvar, posterior_var, d, c, relevant_scores, zx)\n",
        "        else:\n",
        "            return z, recon_v, zx, zx_phi\n",
        "\n",
        "\n",
        "    def loss(self, input_, recon_v, zx_phi, posterior_mean, posterior_logvar, posterior_var, d, c, relevant_scores, zx, avg=True):\n",
        "        N = posterior_mean.shape[0]\n",
        "        L = recon_v.shape[0]\n",
        "        NL = - (input_ * (recon_v+1e-10).log()).sum(-1)\n",
        "\n",
        "#         N1, *_ = z.size()\n",
        "#         size = (N1, self.out_features, self.in_features)\n",
        "#         c = self.decoder_phi_bn(self.centres).unsqueeze(0).expand(size)\n",
        "\n",
        "        prior_mean   = self.prior_mean.expand_as(posterior_mean)\n",
        "        prior_var    = self.prior_var.expand_as(posterior_mean)\n",
        "        prior_logvar = self.prior_logvar.expand_as(posterior_mean)\n",
        "\n",
        "        var_division    = posterior_var  / prior_var #Nx2\n",
        "        diff            = posterior_mean - prior_mean\n",
        "        diff_term       = diff * diff / prior_var\n",
        "        logvar_division = prior_logvar - posterior_logvar\n",
        "\n",
        "        xKLD = 0.5 * ( (var_division + diff_term + logvar_division).sum(-1) - self.num_coordinate)\n",
        "        return_xKLD = xKLD.mean(0)\n",
        "        KL = return_xKLD\n",
        "\n",
        "        # NegativeLogL_RScore = - LogL_Score_beta(zx_phi,self.decoder_phi_bn(self.centres),relevant_scores)\n",
        "        # NegativeLogL_RScore = - LogL_Score(zx,relevant_scores)\n",
        "        # x_norm = torch.norm(zx,dim=-1)\n",
        "        # NegativeLogL_RScore = (100000 * (torch.exp(-0.5 * (torch.pow(x_norm,2)/10.0) - relevant_scores )  )**2  ).sum()\n",
        "        # NegativeLogL_RScore = LogL_Score_test(zx,relevant_scores)\n",
        "\n",
        "        NegativeLogL_RScore = - LogL_Score_TND(zx_phi,self.decoder_phi_bn(self.centres),relevant_scores, self.query_center,zx)\n",
        "        loss = NL.sum() + KL + NegativeLogL_RScore\n",
        "\n",
        "        # print(type(loss))\n",
        "        return loss/N, NL.sum(), return_xKLD,  KL, NegativeLogL_RScore"
      ],
      "execution_count": null,
      "outputs": []
    },
    {
      "cell_type": "code",
      "metadata": {
        "id": "Xiv54gv6-sqB"
      },
      "source": [
        "model = PlsvVAE(num_input, en1_units_x, en2_units_x, num_coordinate, num_topic, drop_rate, variance_x, bs, \"inverse_quadratic\")\n",
        "model.to(device)\n",
        "optimizer = optim.Adam(model.parameters(), learning_rate, betas=(beta1, beta2))\n",
        "epochs = 1000\n",
        "phi_arr = []\n",
        "beta_arr = []\n",
        "x_arr = []\n",
        "recon_arr = []\n",
        "neg_log_rscore_arr=[]\n",
        "list_d = []\n",
        "\n",
        "all_indices = torch.randperm(tensor_train_w.size(0)).split(bs)\n",
        "\n",
        "for epoch in range(epochs):\n",
        "    loss_u_epoch = 0.0\n",
        "    loss_xkl_epoch = 0.0\n",
        "    loss_betakl_epoch = 0.0\n",
        "    loss_phikl_epoch = 0.0\n",
        "    loss_KLD = 0.0\n",
        "    loss_phi_epoch = 0.0\n",
        "    recon_ep = 0.0\n",
        "    loss_epoch = 0.0\n",
        "    neg_log_rscore_ep = 0.0\n",
        "    model.train()\n",
        "    d_temp = []\n",
        "    count = 0\n",
        "\n",
        "    for batch_ndx in all_indices:\n",
        "\n",
        "        input_w = tensor_train_w[batch_ndx].to(device)\n",
        "        labels = train_label[batch_ndx]\n",
        "        #relevant_scores = all_rscores[batch_ndx].to(device).unsqueeze(-1)\n",
        "        #relevant_scores = normalized_all_rscores[batch_ndx].to(device).unsqueeze(-1)\n",
        "        relevant_scores = rounded_normalized_all_rscores[batch_ndx].to(device).unsqueeze(-1)\n",
        "        recon_v, (loss, loss_u, xkl_loss, kl, neg_log_rscore) = model(input_w, relevant_scores, compute_loss=True)\n",
        "\n",
        "        optimizer.zero_grad()\n",
        "        loss.backward()\n",
        "\n",
        "        optimizer.step()             # backpror.step()            # update parameters\n",
        "        loss_epoch += loss.item()\n",
        "        loss_u_epoch += loss_u.item()\n",
        "        loss_xkl_epoch += xkl_loss.item()\n",
        "        loss_KLD += kl.item() #/ len(tensor_train_w))\n",
        "        recon_ep += recon_v.mean().item()\n",
        "        neg_log_rscore_ep += neg_log_rscore.item()\n",
        "        count = count + 1;\n",
        "    x_arr.append(loss_xkl_epoch)\n",
        "    recon_arr.append(loss_u_epoch)\n",
        "    neg_log_rscore_arr.append(neg_log_rscore_ep)\n",
        "\n",
        "    if epoch % 10 == 0:\n",
        "        print('Epoch {}, loss={}'.format(epoch, loss_epoch))\n",
        "        print('x_loss={}, recon_loss={}, KLD= {}, neg_loss = {}'.format(loss_xkl_epoch, loss_u_epoch, loss_KLD,neg_log_rscore_ep))"
      ],
      "execution_count": null,
      "outputs": []
    },
    {
      "cell_type": "code",
      "metadata": {
        "id": "h0RREWGuNLfD"
      },
      "source": [
        "# plot_loss(neg_log_rscore_arr,\"neg\")"
      ],
      "execution_count": null,
      "outputs": []
    },
    {
      "cell_type": "code",
      "metadata": {
        "id": "aU0HFLuhUtdB"
      },
      "source": [
        "#  torch.save(model.state_dict(),'Foto_beta_t20_a100_div500_e20_20news_reuters.t7')"
      ],
      "execution_count": null,
      "outputs": []
    },
    {
      "cell_type": "code",
      "metadata": {
        "id": "_75Bb_BYOnZQ"
      },
      "source": [
        "# ## Loading a Saved Model\n",
        "# model = PlsvVAE(num_input, en1_units_x, en2_units_x, num_coordinate, num_topic, drop_rate, variance_x, bs, \"inverse_quadratic\")\n",
        "# model.to(device)\n",
        "# all_indices = torch.randperm(tensor_train_w.size(0)).split(bs)\n",
        "# model.load_state_dict(torch.load('Foto_beta_t50_a100_div500_e20_20news_reuters.t7'))"
      ],
      "execution_count": null,
      "outputs": []
    },
    {
      "cell_type": "code",
      "metadata": {
        "id": "H2dWYfSoAqaC"
      },
      "source": [
        "def get_topwords(beta, id_vocab):\n",
        "    topic_indx = 0\n",
        "    topwords_topic = []\n",
        "    for i in range(len(beta)):\n",
        "        topwords_topic.append( str(topic_indx)+\": \"+ \" \".join([id_vocab[j] for j in beta[i].argsort()[:-10 - 1:-1]]))\n",
        "        topic_indx+=1\n",
        "    return topwords_topic"
      ],
      "execution_count": null,
      "outputs": []
    },
    {
      "cell_type": "code",
      "metadata": {
        "id": "xQETW799qju9"
      },
      "source": [
        "model.eval()\n",
        "x_list = []\n",
        "phi_list = []\n",
        "beta_list = []\n",
        "labels_list = []\n",
        "doc_ids = []\n",
        "zx_phi_list=[]\n",
        "\n",
        "with torch.no_grad():\n",
        "    for batch_ndx in all_indices:\n",
        "        input_w = tensor_train_w[batch_ndx].to(device)\n",
        "        labels = train_label[batch_ndx]\n",
        "        relevant_scores = all_rscores[batch_ndx].to(device).unsqueeze(-1)\n",
        "        labels_list.extend(labels)\n",
        "        z, recon_v, zx, zx_phi = model(input_w, relevant_scores, compute_loss=False)\n",
        "        zx = zx.view(-1, num_coordinate).data.detach().cpu().numpy()\n",
        "        zx_phi = zx_phi.view(-1, num_topic).data.detach().cpu().numpy()\n",
        "        zx_phi_list.extend(zx_phi)\n",
        "        x_list.extend(zx)\n",
        "        doc_ids.extend(batch_ndx)\n",
        "\n",
        "    x_list = np.array(x_list)\n",
        "    # zx_phi_list =  np.array(zx_phi_list)\n",
        "\n",
        "    beta = model.decoder.weight.data.cpu().numpy().T#\n",
        "    zphi = model.decoder_phi_bn(model.centres).data.cpu().numpy()\n",
        "    query_center = model.query_center.data.cpu().numpy()\n",
        "    print(\"---\"*10)\n",
        "    topword_topics = get_topwords(beta, id_vocab)\n",
        "    topword_topics_list=[]\n",
        "    for topwords in topword_topics:\n",
        "        topword_topics_list.append(topwords.split())\n",
        "        print(topwords)\n",
        "    print(\"---\"*10)"
      ],
      "execution_count": null,
      "outputs": []
    },
    {
      "cell_type": "code",
      "metadata": {
        "id": "wiFv_tOVZx8x"
      },
      "source": [
        "def get_Z(X,Y):\n",
        "  norms = torch.zeros(X.shape)\n",
        "  Z = torch.zeros(X.shape)\n",
        "\n",
        "  for i in range(X.shape[0]):\n",
        "    for j in range(X.shape[0]):\n",
        "      v = torch.tensor([X[i][j],Y[i][j]])\n",
        "      norms[i][j] = torch.norm(v)\n",
        "      Z[i][j]=torch.exp(-0.5 * (torch.pow(norms[i][j],2))/100.0 )\n",
        "  return Z"
      ],
      "execution_count": null,
      "outputs": []
    },
    {
      "cell_type": "code",
      "metadata": {
        "id": "hRLLNAyXZx81"
      },
      "source": [
        "def get_Contour(ax,x_list):\n",
        "  xlist = np.linspace(-50, 50, 200)\n",
        "  ylist = np.linspace(-50, 50, 200)\n",
        "  X, Y = np.meshgrid(xlist, ylist)\n",
        "  Z = get_Z(X,Y)\n",
        "  levels = np.arange(0,1,0.1)\n",
        "  cp = ax.contour(X, Y, Z, levels=levels)\n",
        "  ax.clabel(cp, inline=1, fontsize=10)"
      ],
      "execution_count": null,
      "outputs": []
    },
    {
      "cell_type": "code",
      "metadata": {
        "id": "VvSQQ9csm8Uq"
      },
      "source": [
        "import collections\n",
        "import matplotlib.pyplot as plt\n",
        "from matplotlib.pyplot import plot, show\n",
        "import seaborn as sb\n",
        "\n",
        "def plot_fig(zx, labels_list, zphi, query_center):\n",
        "    labels = []\n",
        "    for i in range(len(labels_list)):\n",
        "        labels.append('C'+str(labels_list[i]))\n",
        "    fig, ax = plt.subplots( figsize=(20, 20))\n",
        "    get_Contour(ax,zx)\n",
        "\n",
        "    sb.scatterplot(ax=ax,x=zx[:,0],y=zx[:,1],hue=labels_list,alpha=0.8)\n",
        "    ax.set(ylim=(-30,30))\n",
        "    ax.set(xlim=(-30,30))\n",
        "\n",
        "\n",
        "    # ax.scatter(zx[:,0], zx[:,1], alpha=0.8, c=labels, facecolors='none', s=8)\n",
        "    # for d in range(len(labels_list)):\n",
        "    #  score = rounded_normalized_all_rscores[doc_ids[d]].item()\n",
        "    #  if(score>0.7 and score<0.9):\n",
        "    #   ax.text(zx[d,0],zx[d,1], str(round(score, 3) ) )\n",
        "\n",
        "    ax.text(query_center[0],query_center[1], 'X' ,c='black')\n",
        "    # ax.text(0,0, 'X' ,c='black')\n",
        "    ax.scatter(zphi[:, 0], zphi[:, 1], alpha=1.0,  edgecolors='black', facecolors='none', s=30)\n",
        "\n",
        "    for indx, topic in enumerate(zphi):\n",
        "        ax.text(zphi[indx, 0], zphi[indx, 1], 'topic'+str(indx))"
      ],
      "execution_count": null,
      "outputs": []
    },
    {
      "cell_type": "code",
      "metadata": {
        "id": "NNEwwuxqpIwF",
        "colab": {
          "base_uri": "https://localhost:8080/",
          "height": 202
        },
        "outputId": "9c071be0-adc9-426b-9646-78c133a8861c"
      },
      "source": [
        "!wget https://mega.nz/file/1CoHGYCZ#aGhhYPQIU1lmayq0SLKhT1MziLoao5aasLzdGevRpgw"
      ],
      "execution_count": null,
      "outputs": [
        {
          "output_type": "stream",
          "text": [
            "--2020-09-11 00:51:21--  https://mega.nz/file/1CoHGYCZ\n",
            "Resolving mega.nz (mega.nz)... 31.216.148.10, 2001:67c:1998:2212::10\n",
            "Connecting to mega.nz (mega.nz)|31.216.148.10|:443... connected.\n",
            "HTTP request sent, awaiting response... 200 OK\n",
            "Length: 2049 (2.0K) [text/html]\n",
            "Saving to: ‘1CoHGYCZ’\n",
            "\n",
            "1CoHGYCZ            100%[===================>]   2.00K  --.-KB/s    in 0s      \n",
            "\n",
            "2020-09-11 00:51:21 (408 MB/s) - ‘1CoHGYCZ’ saved [2049/2049]\n",
            "\n"
          ],
          "name": "stdout"
        }
      ]
    },
    {
      "cell_type": "code",
      "metadata": {
        "id": "e4n_hznlqjvD"
      },
      "source": [
        "plot_fig(x_list, labels_list, zphi,query_center)"
      ],
      "execution_count": null,
      "outputs": []
    },
    {
      "cell_type": "markdown",
      "metadata": {
        "id": "7_6ifWD8l8WA"
      },
      "source": [
        "\n",
        "\n",
        "\n",
        "#WordCloud\n",
        "\n"
      ]
    },
    {
      "cell_type": "code",
      "metadata": {
        "id": "h8Q7B-0Apmz0"
      },
      "source": [
        "!pip install wordcloud"
      ],
      "execution_count": null,
      "outputs": []
    },
    {
      "cell_type": "code",
      "metadata": {
        "id": "9KNJAR_ifvVv"
      },
      "source": [
        "word_list=data_20news_preprocessed[j].split()\n",
        "print(word_list)\n",
        "flatten_all_words"
      ],
      "execution_count": null,
      "outputs": []
    },
    {
      "cell_type": "code",
      "metadata": {
        "id": "F-0-_FjTptoz"
      },
      "source": [
        "import pandas as pd\n",
        "from wordcloud import WordCloud, STOPWORDS\n",
        "from matplotlib import pyplot as plt\n",
        "\n",
        "comment_words = ''\n",
        "topic_topword_comment = ''\n",
        "\n",
        "for val in top_10_docs:\n",
        "    comment_words += \" \".join(val)+\" \"\n",
        "\n",
        "for topword_topic in topword_topics_list:\n",
        "    topic_topword_comment += \" \".join(topword_topic)+\" \"\n",
        "\n",
        "wordcloud_top10_docs = WordCloud(width = 800, height = 800,\n",
        "                background_color ='white',\n",
        "                stopwords = stopwords,\n",
        "                min_font_size = 10).generate(comment_words)\n",
        "\n",
        "wordcloud_topword_topics = WordCloud(width = 800, height = 800,\n",
        "                background_color ='white',\n",
        "                stopwords = stopwords,\n",
        "                min_font_size = 10).generate(topic_topword_comment)\n",
        "\n",
        "f = plt.figure(1,figsize = (8, 8))\n",
        "plt.title('Words in Top Relevant 10 Docs')\n",
        "plt.axis(\"off\")\n",
        "plt.tight_layout(pad = 3.0)\n",
        "plt.imshow(wordcloud_top10_docs)\n",
        "g = plt.figure(2,figsize = (8, 8))\n",
        "plt.title(\"Top Words in k topics\")\n",
        "plt.axis(\"off\")\n",
        "plt.tight_layout(pad = 3.0)\n",
        "plt.imshow(wordcloud_topword_topics)\n",
        "plt.show()"
      ],
      "execution_count": null,
      "outputs": []
    },
    {
      "cell_type": "markdown",
      "metadata": {
        "id": "2p5lYecYtWFm"
      },
      "source": [
        "#Archive"
      ]
    },
    {
      "cell_type": "code",
      "metadata": {
        "id": "RK6dBYHd4BnC"
      },
      "source": [
        "import plotly.graph_objects as go\n",
        "epochs=1000\n",
        "def plot_loss(y,name):\n",
        "  figure = go.Figure()\n",
        "  figure.add_trace(go.Scatter(x=[i for i in range(1,epochs+1)], y=y,mode='lines',name=name))\n",
        "  figure.show(renderer='colab')\n",
        "\n",
        "plot_loss(x_arr,'KLD')\n",
        "plot_loss(recon_arr,'Recon_loss')\n",
        "plot_loss(neg_log_rscore_arr,'RScore')"
      ],
      "execution_count": null,
      "outputs": []
    },
    {
      "cell_type": "code",
      "metadata": {
        "id": "YSN6RiXaXiYq"
      },
      "source": [
        "plt.hist(x=all_rscores.data)\n",
        "\n",
        "\n",
        "from sklearn.preprocessing import MinMaxScaler\n",
        "scaler = MinMaxScaler()\n",
        "normalized_all_rscores = scaler.fit_transform(all_rscores.data.reshape(-1,1))\n",
        "normalized_all_rscores"
      ],
      "execution_count": null,
      "outputs": []
    },
    {
      "cell_type": "code",
      "metadata": {
        "id": "AIKqMyokYnQG"
      },
      "source": [
        "plt.hist(x=normalized_all_rscores)\n",
        "# print(normalized_all_rscores)\n",
        "np.max(normalized_all_rscores.flatten())"
      ],
      "execution_count": null,
      "outputs": []
    },
    {
      "cell_type": "code",
      "metadata": {
        "id": "Zyt072hYrLe9"
      },
      "source": [
        "# with open('neg_log_rscore_arr.txt', 'w') as filehandle:\n",
        "#     for listitem in neg_log_rscore_arr:\n",
        "#         filehandle.write('%s\\n' % listitem)"
      ],
      "execution_count": null,
      "outputs": []
    },
    {
      "cell_type": "code",
      "metadata": {
        "id": "_rbbelM5O9vj"
      },
      "source": [
        "all_words_in_docs=[]\n",
        "\n",
        "def doc_to_words(doc):\n",
        "  word_list=[]\n",
        "  for i in doc:\n",
        "    words = i.split()\n",
        "    word_list.append([w for w in words])\n",
        "  return word_list\n",
        "\n",
        "all_words_in_docs = doc_to_words(data_WoS_preprocessed)"
      ],
      "execution_count": null,
      "outputs": []
    },
    {
      "cell_type": "code",
      "metadata": {
        "id": "gu_wcnuhQ3y2"
      },
      "source": [
        "# data_20news_embedded = []\n",
        "# for word in all_words_in_docs:\n",
        "#   for w in word:\n",
        "#     try:\n",
        "#       type(word2vec_model[w])=='numpy.ndarray'\n",
        "#     except KeyError:\n",
        "#       word.remove(w)\n",
        "#   data_20news_embedded.append(' '.join(word))\n",
        "# # data_20news_embedded"
      ],
      "execution_count": null,
      "outputs": []
    },
    {
      "cell_type": "code",
      "metadata": {
        "id": "rgww2GGBQxlb"
      },
      "source": [
        "def flatten_list(user_list):\n",
        "  return [item for sublist in user_list for item in sublist]\n",
        "flatten_all_words = flatten_list(all_words_in_docs)\n",
        "# # flatten_embedded = flatten_list(data_20news_embedded)\n",
        "# # flatten_embedded"
      ],
      "execution_count": null,
      "outputs": []
    },
    {
      "cell_type": "code",
      "metadata": {
        "id": "xPpZcOA5R_FI"
      },
      "source": [
        "# len(set(flatten_all_words))"
      ],
      "execution_count": null,
      "outputs": []
    },
    {
      "cell_type": "code",
      "metadata": {
        "id": "rqoR2yotPR0y"
      },
      "source": [
        "count=0\n",
        "embeddings = {}\n",
        "\n",
        "for f in flatten_all_words:\n",
        "  try :\n",
        "     embeddings[f] = word2vec_model[f]\n",
        "  except KeyError:\n",
        "    count = count+1\n",
        "print( count / len(flatten_all_words)*100)"
      ],
      "execution_count": null,
      "outputs": []
    },
    {
      "cell_type": "code",
      "metadata": {
        "id": "nmaScPcQ8fFW"
      },
      "source": [
        "save_obj(embeddings,'embeddings_WoS')"
      ],
      "execution_count": null,
      "outputs": []
    },
    {
      "cell_type": "markdown",
      "metadata": {
        "id": "x7aT_AcryygB"
      },
      "source": [
        "> Keyword search in corpus: Returns docs with matching keywords\n"
      ]
    },
    {
      "cell_type": "code",
      "metadata": {
        "id": "yotYgCXX0s96"
      },
      "source": [
        "matching = [s for s in data_20news_preprocessed if \" sport \" in s]\n",
        "matching"
      ],
      "execution_count": null,
      "outputs": []
    },
    {
      "cell_type": "markdown",
      "metadata": {
        "id": "x12xv1cuJLiR"
      },
      "source": [
        "\n",
        "# Google Pre-trained Model & Word2Vec | Data preprocessing\n",
        "\n"
      ]
    },
    {
      "cell_type": "code",
      "metadata": {
        "id": "L2C975-2JLiW"
      },
      "source": [
        "# !wget -c \"https://s3.amazonaws.com/dl4j-distribution/GoogleNews-vectors-negative300.bin.gz\""
      ],
      "execution_count": null,
      "outputs": []
    },
    {
      "cell_type": "code",
      "metadata": {
        "id": "b1uS0y3lJLiZ"
      },
      "source": [
        "# start=time()\n",
        "# !gunzip GoogleNews-vectors-negative300.bin.gz\n",
        "# print('Cell took %.2f seconds to run.' % (time() - start))"
      ],
      "execution_count": null,
      "outputs": []
    },
    {
      "cell_type": "code",
      "metadata": {
        "id": "RUgNS5EcJLib"
      },
      "source": [
        "from gensim import models\n",
        "word2vec_model = models.KeyedVectors.load_word2vec_format(\n",
        "    'C:/Users/sanuj/Documents/FoTo/GoogleNews-vectors-negative300.bin/GoogleNews-vectors-negative300.bin', binary=True)\n",
        "# print('Cell took %.2f seconds to run.' % (time() - start))"
      ],
      "execution_count": null,
      "outputs": []
    },
    {
      "cell_type": "code",
      "metadata": {
        "id": "eZ34cvzkJLid"
      },
      "source": [
        "# data_WoS_read = open(\"C:/Users/sanuj/Documents/FoTo/data/WebOfScience/WOS46985/X.txt\", \"r\")\n",
        "# targets_WoS_read = open(\"C:/Users/sanuj/Documents/FoTo/data/WebOfScience/WOS46985/YL1.txt\", \"r\")\n",
        "# data_WoS = data_WoS_read.readlines()\n",
        "# targets_WoS = targets_WoS_read.readlines()"
      ],
      "execution_count": null,
      "outputs": []
    },
    {
      "cell_type": "code",
      "metadata": {
        "id": "BJikC_dbK4uJ"
      },
      "source": [
        "# data_WoS = [d.strip() for d in data_WoS]\n",
        "# targets_WoS = [int(d.strip()) for d in targets_WoS]"
      ],
      "execution_count": null,
      "outputs": []
    },
    {
      "cell_type": "code",
      "metadata": {
        "id": "fxv-8bIBM9e7"
      },
      "source": [
        "# labels_dict ={\n",
        "#     0 : \"Computer Science\",\n",
        "#     1 : \"Electrical Engineering\",\n",
        "#     2 : \"Psychology\",\n",
        "#     3 : \"Mechanical Engineering\",\n",
        "#     4 : \"Civil Engineering\",\n",
        "#     5 : \"Medical Science\",\n",
        "#     6 : \"Biochemistry\"}"
      ],
      "execution_count": null,
      "outputs": []
    },
    {
      "cell_type": "code",
      "metadata": {
        "id": "bFjzgbd1NfJ2"
      },
      "source": [
        "targets_WoS_labels = [labels_dict[t] for t in targets_WoS]"
      ],
      "execution_count": null,
      "outputs": []
    },
    {
      "cell_type": "code",
      "metadata": {
        "cellView": "both",
        "id": "113Pr2zIJLig"
      },
      "source": [
        "# data_WoS_preprocessed = []\n",
        "# data_WoS_labels = []\n",
        "\n",
        "# for i in range(len(data_WoS)):\n",
        "#   doc = preprocessing_nonstem(data_WoS[i],word2vec_model)\n",
        "#   if(doc!=''):\n",
        "#     data_WoS_preprocessed.append(doc)\n",
        "#     data_WoS_labels.append(targets_WoS_labels[i])"
      ],
      "execution_count": null,
      "outputs": []
    },
    {
      "cell_type": "code",
      "metadata": {
        "id": "By9EDGuuJLii"
      },
      "source": [
        "# save_obj(data_WoS_preprocessed,'data_WoS_preprocessed')\n",
        "# save_obj(data_WoS_labels,'data_WoS_labels')"
      ],
      "execution_count": null,
      "outputs": []
    }
  ]
}