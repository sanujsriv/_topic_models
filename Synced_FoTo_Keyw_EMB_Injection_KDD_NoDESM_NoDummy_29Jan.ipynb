{
  "cells": [
    {
      "cell_type": "markdown",
      "metadata": {
        "id": "view-in-github",
        "colab_type": "text"
      },
      "source": [
        "<a href=\"https://colab.research.google.com/github/sanujsriv/_topic_models/blob/FoTo/Synced_FoTo_Keyw_EMB_Injection_KDD_NoDESM_NoDummy_29Jan.ipynb\" target=\"_parent\"><img src=\"https://colab.research.google.com/assets/colab-badge.svg\" alt=\"Open In Colab\"/></a>"
      ]
    },
    {
      "cell_type": "code",
      "execution_count": null,
      "metadata": {
        "id": "ikwLjYjIs4iR"
      },
      "outputs": [],
      "source": [
        "import os\n",
        "# from google import colab # works only in colab (prevents from accidentally deleting files from NMSU server)\n",
        "def clear_colab():\n",
        "  home_dir = '/content/'\n",
        "  os.chdir(home_dir)\n",
        "  !rm -r *"
      ]
    },
    {
      "cell_type": "code",
      "execution_count": null,
      "metadata": {
        "id": "GWcqnMCHQ04d",
        "colab": {
          "base_uri": "https://localhost:8080/",
          "height": 37
        },
        "outputId": "7de14706-851a-4373-83ec-ea7edb746da1"
      },
      "outputs": [
        {
          "output_type": "execute_result",
          "data": {
            "application/vnd.google.colaboratory.intrinsic+json": {
              "type": "string"
            },
            "text/plain": [
              "'/content'"
            ]
          },
          "metadata": {},
          "execution_count": 2
        }
      ],
      "source": [
        "home_dir = os.getcwd()\n",
        "min_df = 0\n",
        "perc_vocab = 0.7\n",
        "d_data='bbc'  # reuters, twentynews, webkb, wos, crowdgender,bbc,searchsnippet,yahooanswers,agnews120k\n",
        "dtype = 'short'\n",
        "all_vocab = True # False\n",
        "home_dir"
      ]
    },
    {
      "cell_type": "code",
      "execution_count": null,
      "metadata": {
        "id": "vUErfm4baqgK"
      },
      "outputs": [],
      "source": [
        "# !nvidia-smi"
      ]
    },
    {
      "cell_type": "markdown",
      "metadata": {
        "id": "oC_2iVJ0RxWY"
      },
      "source": [
        "#⬅️ **0. Just Run these..**"
      ]
    },
    {
      "cell_type": "code",
      "execution_count": null,
      "metadata": {
        "id": "gn9JFNO4qjuf",
        "colab": {
          "base_uri": "https://localhost:8080/"
        },
        "outputId": "9cac6b5f-a641-48a9-8c42-27bbd55b0f4d",
        "cellView": "form"
      },
      "outputs": [
        {
          "output_type": "stream",
          "name": "stdout",
          "text": [
            "Requirement already satisfied: pickle5 in /usr/local/lib/python3.7/dist-packages (0.0.12)\n"
          ]
        }
      ],
      "source": [
        "#@title Imports\n",
        "# from sympy.stats import RaisedCosine, density\n",
        "# from nltk.corpus import stopwords\n",
        "import pandas as pd\n",
        "import re\n",
        "from time import time\n",
        "import numpy as np\n",
        "import collections\n",
        "import gc\n",
        "from sklearn.feature_extraction.text import CountVectorizer,TfidfVectorizer\n",
        "from sklearn.preprocessing import MinMaxScaler\n",
        "import shutil\n",
        "# cos_sim = nn.CosineSimilarity(dim=-1,eps=1e-08)\n",
        "\n",
        "### pickle\n",
        "import pickle\n",
        "!pip install pickle5\n",
        "import pickle5\n",
        "import bz2\n",
        "import _pickle as cPickle\n",
        "\n",
        "\n",
        "### plots\n",
        "import plotly.express as px\n",
        "import plotly.graph_objects as go\n",
        "import seaborn as sb\n",
        "from matplotlib import pyplot as plt\n",
        "\n",
        "\n",
        "#### torch imports\n",
        "import torch\n",
        "import torch.nn as nn\n",
        "import torch.nn.functional as F\n",
        "import torch.optim as optim\n",
        "from torch.nn import Parameter\n",
        "import subprocess\n"
      ]
    },
    {
      "cell_type": "code",
      "execution_count": null,
      "metadata": {
        "cellView": "form",
        "id": "EivGqJ7vBoAo"
      },
      "outputs": [],
      "source": [
        "#@title function : load / save pickle_obj\n",
        "\n",
        "def save_obj(obj, name):\n",
        "    with open(name + '.pkl', 'wb') as f:\n",
        "        pickle.dump(obj, f, pickle.HIGHEST_PROTOCOL)\n",
        "\n",
        "def load_obj(name):\n",
        "    with open(name + '.pkl', 'rb') as f:\n",
        "        return pickle.load(f)\n",
        "\n",
        "def load_obj_pkl5(name):\n",
        "    with open(name + '.pkl', 'rb') as f:\n",
        "        return pickle5.load(f)\n",
        "\n",
        "def compressed_pickle(data,title):\n",
        "  with bz2.BZ2File(title + '.pbz2', 'w') as f:\n",
        "    cPickle.dump(data, f)\n",
        "\n",
        "def decompress_pickle(file):\n",
        " data = bz2.BZ2File(file+'.pbz2', 'rb')\n",
        " data = cPickle.load(data)\n",
        " return data"
      ]
    },
    {
      "cell_type": "markdown",
      "metadata": {
        "id": "TeQ-X4wx45iA"
      },
      "source": [
        "## **Download Data (Short & Full Documents)**"
      ]
    },
    {
      "cell_type": "code",
      "execution_count": null,
      "metadata": {
        "id": "m8duBpAxl-qY"
      },
      "outputs": [],
      "source": [
        "def short_text_datasets():\n",
        "  if not os.path.exists(\"VLDB_WTM_Datasets.zip\"):\n",
        "    !wget -N -c https://www.dropbox.com/s/0vzwa9eagkmgi0q/VLDB_WTM_Datasets.zip\n",
        "    !unzip -o VLDB_WTM_Datasets.zip\n",
        "    if all_vocab == True:\n",
        "      if d_data == \"bbc\":\n",
        "        dir ='/content/content/data_'+d_data\n",
        "        shutil.rmtree(dir)\n",
        "        !wget -N -c https://www.dropbox.com/s/2ow6rn3xgtpg6uq/bbc_all_vocab_.zip\n",
        "        !unzip bbc_all_vocab_.zip\n",
        ""
      ]
    },
    {
      "cell_type": "code",
      "execution_count": null,
      "metadata": {
        "id": "soLvVis5433m"
      },
      "outputs": [],
      "source": [
        "# def download_twenty_news():\n",
        "#   !wget -N https://www.dropbox.com/s/09y9y1h0xk3cxaj/embeddings_twentynews.pkl\n",
        "#   !wget -N https://www.dropbox.com/s/ewv3vcwgll0r8a7/data_twentynews_labels.pkl\n",
        "#   !wget -N https://www.dropbox.com/s/chpjn9lzr7rmn2k/fixed_data_twentynews_preprocessed.pkl"
      ]
    },
    {
      "cell_type": "code",
      "execution_count": null,
      "metadata": {
        "cellView": "both",
        "id": "xtI_f7qHCr9e"
      },
      "outputs": [],
      "source": [
        "def download_reuters():\n",
        "  !wget -N https://www.dropbox.com/s/8khmuj31il8zgkp/data_reuters_labels.pkl\n",
        "  !wget -N https://www.dropbox.com/s/bgc1ht0jsyjed6s/embeddings_reuters.pkl\n",
        "  !wget -N https://www.dropbox.com/s/9fk30bjzeefvhgl/data_reuters_preprocessed.pkl"
      ]
    },
    {
      "cell_type": "code",
      "execution_count": null,
      "metadata": {
        "id": "iN4Hx3KwtKG3"
      },
      "outputs": [],
      "source": [
        "def download_webkb():\n",
        "  !wget -N https://www.dropbox.com/s/wz88fk42r0viqvo/data_webkb_preprocessed.pkl\n",
        "  !wget -N https://www.dropbox.com/s/8oi5qactwrar1ad/data_webkb_labels.pkl\n",
        "  !wget -N https://www.dropbox.com/s/go7r4h39q6l01d5/embeddings_webkb.pkl"
      ]
    },
    {
      "cell_type": "code",
      "execution_count": null,
      "metadata": {
        "id": "Yo_CWo9pslxT"
      },
      "outputs": [],
      "source": [
        "def download_WoS():\n",
        "  # !wget -N -c https://www.dropbox.com/s/3bse48k5kjpt5zd/wos_full_short_all_vocab.zip\n",
        "  # !unzip -o wos_full_short_all_vocab.zip\n",
        "  !wget -N -c https://www.dropbox.com/s/td8vf1lqmau41vn/wos_full_iter200_sent.zip\n",
        "  !unzip -o wos_full_iter200_sent.zip\n",
        "\n",
        "  # !wget -N https://www.dropbox.com/s/c6wlr148lhwsbaz/embeddings_wos.pkl\n",
        "  # !wget -N https://www.dropbox.com/s/j96061ln6oeejkf/data_wos_preprocessed.pkl\n",
        "  # !wget -N https://www.dropbox.com/s/kiffa4nidkjt7wi/data_wos_labels.pkl"
      ]
    },
    {
      "cell_type": "code",
      "execution_count": null,
      "metadata": {
        "id": "pciXVjzayvYx"
      },
      "outputs": [],
      "source": [
        "def download_unzip_crowdgender():\n",
        "  !wget -N https://www.dropbox.com/s/trz5uph29b0t0eg/data_crowder.zip\n",
        "  os.system('unzip data_crowder.zip')"
      ]
    },
    {
      "cell_type": "code",
      "execution_count": null,
      "metadata": {
        "id": "d2jRZizJ5Te5"
      },
      "outputs": [],
      "source": [
        "def download_data(data,dtype):\n",
        "  data = data.lower()\n",
        "  dtype = dtype.lower()\n",
        "  if data == 'reuters':\n",
        "    download_reuters()\n",
        "  elif data == 'crowdgender':\n",
        "   download_unzip_crowdgender()\n",
        "  elif data == 'webkb':\n",
        "    download_webkb()\n",
        "  elif data == 'wos':\n",
        "    download_WoS()\n",
        "  # elif dtype == 'short':\n",
        "  #   short_text_datasets()\n",
        "  elif data == \"twentynews\":\n",
        "    !wget -N -c https://www.dropbox.com/s/7yj1yvzpw589018/twentynews_4000.zip\n",
        "    !unzip twentynews_4000.zip\n",
        "  elif data == 'searchsnippet' and dtype =='short' and all_vocab:\n",
        "    !wget -N -c https://www.dropbox.com/s/vu3ftyv72fodfiv/searchsnippet_all_vocab_.zip\n",
        "    !unzip -o searchsnippet_all_vocab_.zip\n",
        "  elif data == 'agnews120k' and dtype =='short' and all_vocab:\n",
        "    !wget -N -c https://www.dropbox.com/s/wvx9ed1rop9vjkg/agnews120k_all_vocab_.zip\n",
        "    !unzip -o agnews120k_all_vocab_.zip\n",
        "  elif data=='bbc' and dtype =='short' and all_vocab:\n",
        "    !wget -N -c https://www.dropbox.com/s/4mxikpqoj26rmsg/bbc_short_all_vocab_.zip\n",
        "    !unzip -o bbc_short_all_vocab_.zip\n",
        "  elif data=='bbc' and dtype =='full' and all_vocab:\n",
        "    # dir ='/content/content/data_'+d_data\n",
        "    # shutil.rmtree(dir)\n",
        "    # !wget -N -c https://www.dropbox.com/s/e2ftkdd742chouz/bbc_full_short_all_vocab_.zip\n",
        "    # !unzip -o bbc_full_short_all_vocab_.zip\n",
        "    !wget -N -c https://www.dropbox.com/s/t217pxhn280njre/bbc_full_all_vocab_200iter_sent.zip\n",
        "    !unzip -o bbc_full_all_vocab_200iter_sent.zip"
      ]
    },
    {
      "cell_type": "markdown",
      "metadata": {
        "id": "f8wJtTb42ioB"
      },
      "source": [
        "##**Data Loading functions**"
      ]
    },
    {
      "cell_type": "code",
      "execution_count": null,
      "metadata": {
        "id": "wUua0C3EUnLc"
      },
      "outputs": [],
      "source": [
        "def load_data(d_data,dtype,generated):\n",
        "  dir= home_dir+'/content/data_'+d_data+'/'+dtype\n",
        "  # dir ='/content/content/data_'+d_data+'/'+dtype\n",
        "  os.chdir(dir)\n",
        "  data_preprocessed=load_obj_pkl5(\"data_preprocessed_\"+d_data+\"_\"+dtype)\n",
        "  data_preprocessed_labels=load_obj_pkl5(\"data_preprocessed_labels_\"+d_data+\"_\"+dtype)\n",
        "  if generated == False:\n",
        "    embeddings=load_obj_pkl5(\"embeddings_\"+d_data+\"_\"+dtype)\n",
        "  # generated_embeddings=load_obj_pkl5(\"generated_embeddings_\"+d_data+\"_\"+dtype)\n",
        "  elif generated==True:\n",
        "    embeddings = load_obj_pkl5(\"generated_embeddings_\"+d_data+\"_\"+dtype)\n",
        "  os.chdir(home_dir)\n",
        "  return data_preprocessed,data_preprocessed_labels,embeddings,load_data.__name__\n",
        "\n",
        "def load_20News_sentences():\n",
        "  embeddings = load_obj('embeddings_twentynews_sent')\n",
        "  data_preprocessed = load_obj('data_twentynews_preprocessed_sent')\n",
        "  data_preprocessed_labels = load_obj(\"data_twentynews_labels_sent\")\n",
        "  doc_sent_id = load_obj('doc_id_sent_twentynews')\n",
        "  return data_preprocessed,data_preprocessed_labels,embeddings,doc_sent_id,load_20News_sentences.__name__\n",
        "\n",
        "def load_20News_reuters():\n",
        "  data_preprocessed = load_obj('data_reuters_preprocessed')\n",
        "  data_preprocessed_labels = load_obj(\"data_reuters_labels\")\n",
        "  embeddings = load_obj('embeddings_reuters')\n",
        "  data_preprocessed.extend(load_obj('data_20News_preprocessed'))\n",
        "  data_preprocessed_labels.extend(load_obj(\"data_20news_preprocessed_labels\"))\n",
        "  embeddings.update(load_obj('embeddings_20news'))\n",
        "  return data_preprocessed,data_preprocessed_labels,embeddings,load_20News_reuters.__name__"
      ]
    },
    {
      "cell_type": "markdown",
      "metadata": {
        "id": "DQmnmNU2pN8K"
      },
      "source": [
        "## get_keywords"
      ]
    },
    {
      "cell_type": "code",
      "execution_count": null,
      "metadata": {
        "id": "8R4SK4-e6Aec"
      },
      "outputs": [],
      "source": [
        "def get_keywords(data):\n",
        "  keywords_arxiv = ['molecular ','stimulation','liquid','fluid']\n",
        "  keywords_webkb = ['student','department','india']\n",
        "  keywords_r52 = ['mutual','fund','market','money']\n",
        "\n",
        "  keywords_WoS = ['pediatric','protein','clone']\n",
        "  keywords_20News_Reuters = ['oil','price','opec','bpd','barrel','saudi','production','mln','crude']\n",
        "\n",
        "  # keywords_reuters = ['company', 'analyst', 'offer', 'pct', 'takeover', 'merger', 'record', 'dividend', 'pay', 'stock']\n",
        "  # keywords_reuters = ['stock', 'dividend', 'inc']\n",
        "  keywords_reuters = ['oil','crude','ship']\n",
        "  # keywords =['stock']\n",
        "  # keywords_reuters = ['usa']\n",
        "\n",
        "  keywords_crowdgender = ['housewife','girl','beautiful','blonde']\n",
        "\n",
        "  keywords_20News = ['sport','game','baseball']\n",
        "  # keywords_20News = ['looking' ,'add', 'voice' ,'input', 'capability', 'user', 'interface']\n",
        "\n",
        "  # keywords_bbc=['fuel','reserve','oil']\n",
        "  # keywords_bbc=['fuel','oil','game','win']\n",
        "  # keywords_bbc=['fuel','oil','crude']\n",
        "  # keywords_bbc=['fuel','usa'] #,'politics'\n",
        "  # keywords_bbc = ['stock','apple','increase']\n",
        "  keywords_bbc = ['microsoft','computer']\n",
        "  # keywords_bbc = ['apple','microsoft', 'stock']\n",
        "  # keywords_bbc = ['apple','stock']\n",
        "  # keywords_bbc = ['fuel']\n",
        "  # keywords_bbc = ['microsoft','fuel']\n",
        "\n",
        "  # keywords_bbc = ['politics']#,'security','minister']\n",
        "  # keywords_bbc = ['sport','league','rugby']\n",
        "\n",
        "  ## all infreq\n",
        "  # keywords_bbc = ['mcdonald', 'food','delivery']\n",
        "  # keywords_bbc = ['business','entertainment','politics']\n",
        "  # keywords_bbc = ['clumsy','food']\n",
        "\n",
        "  # keywords_searchsnippet = ['politics','drama','minister']\n",
        "  keywords_searchsnippet = ['korean','drama']\n",
        "\n",
        "\n",
        "  keywords_yahooanswers = ['anger','hate','crime']\n",
        "  # keywords_agnews = ['computer','apple','microsoft']\n",
        "  keywords_agnews = ['auto','gasoline']\n",
        "\n",
        "  data = data.lower()\n",
        "  if data=='reuters': keywords = keywords_reuters\n",
        "  elif data=='twentynews':keywords = keywords_20News\n",
        "  elif data=='crowdgender':keywords = keywords_crowdgender\n",
        "  elif data=='webkb':keywords = keywords_webkb\n",
        "  elif data=='bbc': keywords = keywords_bbc\n",
        "  elif data=='searchsnippet': keywords = keywords_searchsnippet\n",
        "  elif data=='yahooanswers': keywords = keywords_yahooanswers\n",
        "  elif data=='agnews120k': keywords = keywords_agnews\n",
        "  elif data=='wos': keywords = keywords_WoS\n",
        "  else:\n",
        "    print('keyword list not found!!!')\n",
        "  return keywords"
      ]
    },
    {
      "cell_type": "markdown",
      "metadata": {
        "id": "CCBiqaMRpRBi"
      },
      "source": [
        "##DESM Score Function"
      ]
    },
    {
      "cell_type": "code",
      "execution_count": null,
      "metadata": {
        "id": "ajHkB_vb7xza"
      },
      "outputs": [],
      "source": [
        "def cosine_similarity_desm_docs(query_list, train_vec, vocab, embeddings):\n",
        "  num_docs = train_vec.shape[0]\n",
        "  num_voc = len(vocab)\n",
        "  sim_list = torch.zeros(num_docs)\n",
        "  index = 0\n",
        "  id_vocab = dict(map(reversed, vocab.items()))\n",
        "  for d in range(num_docs):\n",
        "    if(d%5000==0): print(d)\n",
        "    doc_bar = torch.zeros(300)\n",
        "    doc_length = 0\n",
        "    for v in range(num_voc):\n",
        "      if(train_vec[d][v] > 0):\n",
        "        doc_bar.add_(train_vec[d][v] * torch.from_numpy(embeddings[id_vocab[v]])/torch.norm(torch.from_numpy(embeddings[id_vocab[v]])))\n",
        "        doc_length = doc_length + train_vec[d][v]\n",
        "    doc_bar = doc_bar / doc_length\n",
        "    sum = 0\n",
        "\n",
        "    for q in query_list:\n",
        "      sum += torch.dot(torch.from_numpy(embeddings[q]) , doc_bar)/(torch.norm(torch.from_numpy(embeddings[q]))*torch.norm(doc_bar))\n",
        "    sum = sum/len(query_list)\n",
        "    sim_list[index]=sum\n",
        "    index = index + 1\n",
        "\n",
        "  return sim_list"
      ]
    },
    {
      "cell_type": "code",
      "execution_count": null,
      "metadata": {
        "id": "7ln_kgdTcVSc"
      },
      "outputs": [],
      "source": [
        "def cosine_similarity_desm_docs_forlarge(query_list, train_vec, vocab, embeddings):\n",
        "  num_docs = train_vec.shape[0]\n",
        "  num_voc = len(vocab)\n",
        "  sim_list = torch.zeros(num_docs)\n",
        "  index = 0\n",
        "  id_vocab = dict(map(reversed, vocab.items()))\n",
        "  for d in range(num_docs):\n",
        "    if(d%5000==0): print(d)\n",
        "    doc_bar = torch.zeros(300)\n",
        "    doc_length = 0\n",
        "    for v in range(num_voc):\n",
        "      train_vec_val = train_vec[d].toarray()[0][v]\n",
        "      if(train_vec_val > 0):\n",
        "        doc_bar.add_(train_vec_val * torch.from_numpy(embeddings[id_vocab[v]])/torch.norm(torch.from_numpy(embeddings[id_vocab[v]])))\n",
        "        doc_length = doc_length + train_vec_val\n",
        "    doc_bar = doc_bar / doc_length\n",
        "    sum = 0\n",
        "\n",
        "    for q in query_list:\n",
        "      sum += torch.dot(torch.from_numpy(embeddings[q]) , doc_bar)/(torch.norm(torch.from_numpy(embeddings[q]))*torch.norm(doc_bar))\n",
        "    sum = sum/len(query_list)\n",
        "    sim_list[index]=sum\n",
        "    index = index + 1\n",
        "\n",
        "  return sim_list"
      ]
    },
    {
      "cell_type": "markdown",
      "metadata": {
        "id": "K0zQCuyY_kaq"
      },
      "source": [
        "\n",
        "## functions (Plot_loss, get_topwords, get_Z, get_Contour, print_Topics)"
      ]
    },
    {
      "cell_type": "code",
      "execution_count": null,
      "metadata": {
        "id": "ju7hYPrZrxfJ"
      },
      "outputs": [],
      "source": [
        "def getall_tensor_size():\n",
        "  for obj in gc.get_objects():\n",
        "    try:\n",
        "        if torch.is_tensor(obj) or (hasattr(obj, 'data') and torch.is_tensor(obj.data)):\n",
        "            print(type(obj), obj.size(),get_mem_size(obj))\n",
        "    except:\n",
        "        pass\n",
        "\n",
        "def list_of_tensors_to_tensor(loT):\n",
        "  stacked_tensor = torch.stack(loT)\n",
        "  return stacked_tensor\n",
        "\n",
        "def get_labels_dict(unique_labels):\n",
        "  labels_dict = {}\n",
        "  for l in unique_labels:\n",
        "    labels_dict[l] = 'C'+str(unique_labels.index(l))\n",
        "  return labels_dict\n",
        "\n",
        "def get_topwords(beta, id_vocab,topwords):\n",
        "    topic_indx = 0\n",
        "    topwords_topic = []\n",
        "    topic_topwords = topwords\n",
        "    for i in range(len(beta)):\n",
        "        topwords_topic.append( str(topic_indx)+\": \"+ \" \".join([id_vocab[j] for j in beta[i].argsort()[:-topic_topwords - 1:-1]]))\n",
        "        topic_indx+=1\n",
        "    return topwords_topic\n",
        "\n",
        "def print_Topics(topwords):\n",
        "  print(\"---\"*10)\n",
        "  topword_topics = get_topwords(beta, id_vocab,topwords)\n",
        "  topword_topics_list=[]\n",
        "  for topwords in topword_topics:\n",
        "      topword_topics_list.append(topwords.split())\n",
        "      print(topwords)\n",
        "  print(\"---\"*10)"
      ]
    },
    {
      "cell_type": "code",
      "execution_count": null,
      "metadata": {
        "id": "h2DrizcsH104"
      },
      "outputs": [],
      "source": [
        "def plot_loss(y,name):\n",
        "  figure = go.Figure()\n",
        "  figure.add_trace(go.Scatter(x=[i for i in range(1,epochs+1)], y=y,mode='lines',name=name))\n",
        "  figure.show(renderer='colab')\n",
        "\n",
        "def plot_fig(zx, labels_list, zphi, query_center,query_words,keywords,lim,contour='No'):\n",
        "\n",
        "    fig, ax = plt.subplots( figsize=(20, 20))\n",
        "    if contour=='yes':\n",
        "       get_Contour(ax,zx,lim)\n",
        "\n",
        "    label_colors_dict = get_labels_dict(sorted_unique_labels)\n",
        "    # sb.scatterplot(ax=ax,x=zx[:,0],y=zx[:,1],hue=labels_list,alpha=0.8,palette='deep')\n",
        "    sb.scatterplot(ax=ax,x=zx[:,0],y=zx[:,1],hue=labels_list,alpha=0.8,palette=label_colors_dict)\n",
        "\n",
        "    ax.set(ylim=(-lim,lim))\n",
        "    ax.set(xlim=(-lim,lim))\n",
        "\n",
        "    # ax.text(query_center[0],query_center[1], 'X' ,c='red')\n",
        "    # ax.text(0,0, 'X' ,c='black')\n",
        "    for i in range(len(query_words)):\n",
        "      if (i==len(query_words)-1):\n",
        "        ax.text(query_words[i][0],query_words[i][1], 'X'+keywords[i] ,c='black',weight='bold')\n",
        "      else:\n",
        "        ax.text(query_words[i][0],query_words[i][1], 'X'+keywords[i] ,c='black',weight='bold')\n",
        "\n",
        "    ax.scatter(zphi[:, 0], zphi[:, 1], alpha=1.0,  edgecolors='black', facecolors='none', s=30)\n",
        "\n",
        "    for indx, topic in enumerate(zphi):\n",
        "        ax.text(zphi[indx, 0], zphi[indx, 1], 'topic'+str(indx))\n",
        "\n",
        "\n",
        "\n",
        "def get_Z(X,Y):\n",
        "  norms = torch.zeros(X.shape)\n",
        "  Z = torch.zeros(X.shape)\n",
        "\n",
        "  for i in range(X.shape[0]):\n",
        "    for j in range(X.shape[0]):\n",
        "      v = torch.tensor([X[i][j],Y[i][j]])\n",
        "\n",
        "      norms[i][j] = torch.norm(v)\n",
        "      Z[i][j]=torch.exp(-0.5 * (torch.pow(norms[i][j],2))/mu_div)\n",
        "\n",
        "      # norms[i][j] = (v-query_center.T).pow(2).sum(-1)\n",
        "      # Z[i][j]=torch.exp(-0.5 * norms[i][j]/mu_div)\n",
        "  return Z\n",
        "\n",
        "def get_Contour(ax,x_list,lim):\n",
        "  xlist = np.linspace(-lim, lim, 200)\n",
        "  ylist = np.linspace(-lim, lim, 200)\n",
        "  X, Y = np.meshgrid(xlist, ylist)\n",
        "  Z = get_Z(X,Y)\n",
        "  levels = np.arange(0,1,0.1)\n",
        "  cp = ax.contour(X, Y, Z, levels=levels)\n",
        "  ax.clabel(cp, inline=1, fontsize=10)\n",
        "\n",
        "\n",
        "def get_gpu_memory_map():\n",
        "    \"\"\"Get the current gpu usage.\n",
        "    Returns\n",
        "    -------\n",
        "    usage: dict\n",
        "        Keys are device ids as integers.\n",
        "        Values are memory usage as integers in MB.\n",
        "    \"\"\"\n",
        "    result = subprocess.check_output(\n",
        "        [\n",
        "            'nvidia-smi', '--query-gpu=memory.used',\n",
        "            '--format=csv,nounits,noheader'\n",
        "        ], encoding='utf-8')\n",
        "    # Convert lines into a dictionary\n",
        "    gpu_memory = np.array([int(x) for x in result.strip().split('\\n')])\n",
        "    # gpu_memory_map = dict(zip(range(len(gpu_memory)), gpu_memory))\n",
        "    return gpu_memory\n",
        "\n",
        "def auto_select_gpu(memory_threshold = 7000, smooth_ratio=200, strategy='greedy'):\n",
        "    gpu_memory_raw = get_gpu_memory_map() + 10\n",
        "    if strategy=='random':\n",
        "        gpu_memory = gpu_memory_raw/smooth_ratio\n",
        "        gpu_memory = gpu_memory.sum() / (gpu_memory+10)\n",
        "        gpu_memory[gpu_memory_raw>memory_threshold] = 0\n",
        "        gpu_prob = gpu_memory / gpu_memory.sum()\n",
        "        cuda = str(np.random.choice(len(gpu_prob), p=gpu_prob))\n",
        "        print('GPU select prob: {}, Select GPU {}'.format(gpu_prob, cuda))\n",
        "    elif strategy == 'greedy':\n",
        "        cuda = np.argmin(gpu_memory_raw)\n",
        "        print('GPU mem: {}, Select GPU {}'.format(gpu_memory_raw[cuda], cuda))\n",
        "    return cuda"
      ]
    },
    {
      "cell_type": "markdown",
      "metadata": {
        "id": "Ew89XnAFbbYP"
      },
      "source": [
        "## Just Run (pytorch)"
      ]
    },
    {
      "cell_type": "code",
      "execution_count": null,
      "metadata": {
        "cellView": "form",
        "id": "HZlo3d0m-Ac4"
      },
      "outputs": [],
      "source": [
        "#@title Weight Drop\n",
        "def _weight_drop(module, weights, dropout):\n",
        "    \"\"\"\n",
        "    Helper for `WeightDrop`.\n",
        "    \"\"\"\n",
        "    for name_w in weights:\n",
        "        w = getattr(module, name_w)\n",
        "        del module._parameters[name_w]\n",
        "        module.register_parameter(name_w + '_raw', Parameter(w))\n",
        "\n",
        "    original_module_forward = module.forward\n",
        "\n",
        "    def forward(*args, **kwargs):\n",
        "        for name_w in weights:\n",
        "            raw_w = getattr(module, name_w + '_raw')\n",
        "            w = torch.nn.functional.dropout(raw_w, p=dropout, training=module.training)\n",
        "\n",
        "            setattr(module, name_w, w)\n",
        "\n",
        "        # return original_module_forward(*args, **kwargs)\n",
        "\n",
        "    setattr(module, 'forward', forward)\n",
        "\n",
        "\n",
        "class WeightDrop(torch.nn.Module):\n",
        "    \"\"\"\n",
        "    The weight-dropped module applies recurrent regularization through a DropConnect mask on the\n",
        "    hidden-to-hidden recurrent weights.\n",
        "\n",
        "    **Thank you** to Sales Force for their initial implementation of :class:`WeightDrop`. Here is\n",
        "    their `License\n",
        "    <https://github.com/salesforce/awd-lstm-lm/blob/master/LICENSE>`__.\n",
        "\n",
        "    Args:\n",
        "        module (:class:`torch.nn.Module`): Containing module.\n",
        "        weights (:class:`list` of :class:`str`): Names of the module weight parameters to apply a\n",
        "          dropout too.\n",
        "        dropout (float): The probability a weight will be dropped.\n",
        "\n",
        "    Example:\n",
        "\n",
        "        >>> from torchnlp.nn import WeightDrop\n",
        "        >>> import torch\n",
        "        >>>\n",
        "        >>> torch.manual_seed(123)\n",
        "        <torch._C.Generator object ...\n",
        "        >>>\n",
        "        >>> gru = torch.nn.GRUCell(2, 2)\n",
        "        >>> weights = ['weight_hh']\n",
        "        >>> weight_drop_gru = WeightDrop(gru, weights, dropout=0.9)\n",
        "        >>>\n",
        "        >>> input_ = torch.randn(3, 2)\n",
        "        >>> hidden_state = torch.randn(3, 2)\n",
        "        >>> weight_drop_gru(input_, hidden_state)\n",
        "        tensor(... grad_fn=<AddBackward0>)\n",
        "    \"\"\"\n",
        "\n",
        "    def __init__(self, module, weights, dropout=0.0):\n",
        "        super(WeightDrop, self).__init__()\n",
        "        _weight_drop(module, weights, dropout)\n",
        "        self.forward = module.forward\n",
        "\n",
        "class WeightDropLinear(torch.nn.Linear):\n",
        "    \"\"\"\n",
        "    Wrapper around :class:`torch.nn.Linear` that adds ``weight_dropout`` named argument.\n",
        "\n",
        "    Args:\n",
        "        weight_dropout (float): The probability a weight will be dropped.\n",
        "    \"\"\"\n",
        "\n",
        "    def __init__(self, *args, weight_dropout=0.0, **kwargs):\n",
        "        super().__init__(*args, **kwargs)\n",
        "\n",
        "        weights = ['weight']\n",
        "        # print('name_w in _weight_drop: ', name_w)\n",
        "        _weight_drop(self, weights, weight_dropout)"
      ]
    },
    {
      "cell_type": "code",
      "execution_count": null,
      "metadata": {
        "cellView": "form",
        "id": "iJJw4-xTu-ZF"
      },
      "outputs": [],
      "source": [
        "# @title Targeted Dropout Class\n",
        "import torch\n",
        "import torch.nn as nn\n",
        "\n",
        "\n",
        "class TargetedDropout(nn.Module):\n",
        "    \"\"\"\n",
        "    Learning Sparse Networks Using Targeted Dropout\n",
        "    https://arxiv.org/abs/1905.13678\n",
        "    \"\"\"\n",
        "\n",
        "    def __init__(self,targeted=\"weight\",target_layer=None,\n",
        "                 dropout_rate=0.5,targeted_portion=0.5):\n",
        "        super(TargetedDropout, self).__init__()\n",
        "        self.targeted = targeted\n",
        "        self.target_layer = target_layer\n",
        "        self.dropout_rate = dropout_rate\n",
        "        self.targeted_portion = targeted_portion\n",
        "        self.weight = target_layer.weight\n",
        "\n",
        "        if self.targeted == \"weight\":\n",
        "            self.targeted_dropout = targeted_weight_dropout\n",
        "        elif self.targeted == \"unit\":\n",
        "            self.targeted_dropout = targeted_unit_dropout\n",
        "\n",
        "    def forward(self):\n",
        "        self.weight = self.targeted_dropout(\n",
        "            weight=self.target_layer.weight,\n",
        "            dropout_rate=self.dropout_rate,\n",
        "            targeted_portion=self.targeted_portion,\n",
        "            is_training=self.training,\n",
        "        )\n",
        "\n",
        "        self.target_layer.weight = self.weight\n",
        "        # output = self.target_layer(x)\n",
        "        return self.weight\n",
        "\n",
        "    def extra_repr(self):\n",
        "        return f\"targeted={self.targeted}, dropout_rate={self.dropout_rate}, targeted_portion={self.targeted_portion}\"\n",
        "\n",
        "\n",
        "def targeted_weight_dropout(weight, dropout_rate, targeted_portion, is_training):\n",
        "    weight_shape = weight.shape\n",
        "    weight = torch.reshape(weight, [-1, weight_shape[-1]]).float()\n",
        "\n",
        "    norm = torch.abs(weight)\n",
        "    idx = int(targeted_portion * torch.tensor(weight.shape[0]).float())\n",
        "    threshold = torch.sort(norm, dim=0)[0][idx]\n",
        "    mask = norm < threshold[None, :]\n",
        "\n",
        "    if not is_training:\n",
        "        mask = (torch.rand_like(weight) < dropout_rate).to(mask.device.type) & mask\n",
        "\n",
        "    weight = (1.0 - mask.float()) * weight\n",
        "    weight = torch.reshape(weight, weight_shape)\n",
        "    weight = torch.nn.Parameter(weight)\n",
        "\n",
        "    return weight\n",
        "\n",
        "def targeted_unit_dropout(weight, dropout_rate, targeted_portion, is_training):\n",
        "    weight_shape = weight.shape\n",
        "    weight = torch.reshape(weight, [-1, weight_shape[-1]]).float()\n",
        "\n",
        "    norm = torch.norm(weight, dim=0)\n",
        "    idx = int(targeted_portion * int(weight.shape[1]))\n",
        "    sorted_norms = torch.sort(norm)[0]\n",
        "    threshold = sorted_norms[idx]\n",
        "    mask = (norm < threshold)[None, :]\n",
        "    mask = mask.repeat(weight.shape[0], 1)\n",
        "\n",
        "    if not is_training:\n",
        "        mask = torch.where(\n",
        "            ((1.0 - dropout_rate) < torch.rand_like(weight)).to(mask.device.type)\n",
        "            & mask,\n",
        "            torch.ones_like(weight, dtype=torch.float32),\n",
        "            torch.zeros_like(weight, dtype=torch.float32),\n",
        "        )\n",
        "\n",
        "    weight = (1.0 - mask.float()) * weight\n",
        "    weight = torch.reshape(weight, weight_shape)\n",
        "    weight = torch.nn.Parameter(weight)\n",
        "\n",
        "    return weight"
      ]
    },
    {
      "cell_type": "markdown",
      "metadata": {
        "id": "tFms0ZiwR5TF"
      },
      "source": [
        "# **1. Prepare Data**"
      ]
    },
    {
      "cell_type": "code",
      "execution_count": null,
      "metadata": {
        "id": "vMyE4tXd5q-e",
        "colab": {
          "base_uri": "https://localhost:8080/"
        },
        "outputId": "db365b47-2583-43c0-95f1-c10c522bfc2e"
      },
      "outputs": [
        {
          "output_type": "stream",
          "name": "stdout",
          "text": [
            "--2022-02-03 18:32:19--  https://www.dropbox.com/s/4mxikpqoj26rmsg/bbc_short_all_vocab_.zip\n",
            "Resolving www.dropbox.com (www.dropbox.com)... 162.125.3.18, 2620:100:601b:18::a27d:812\n",
            "Connecting to www.dropbox.com (www.dropbox.com)|162.125.3.18|:443... connected.\n",
            "HTTP request sent, awaiting response... 301 Moved Permanently\n",
            "Location: /s/raw/4mxikpqoj26rmsg/bbc_short_all_vocab_.zip [following]\n",
            "--2022-02-03 18:32:19--  https://www.dropbox.com/s/raw/4mxikpqoj26rmsg/bbc_short_all_vocab_.zip\n",
            "Reusing existing connection to www.dropbox.com:443.\n",
            "HTTP request sent, awaiting response... 302 Found\n",
            "Location: https://ucaaa79e539af5830421fa174f1e.dl.dropboxusercontent.com/cd/0/inline/BfD20-8VBhEZFFWq1FNPH9M-Pq7hFzY0TJSMq8cQSUZcxZCy0ahuLfv0E2eA_NnOu3WV1HnqueIDRQDFtLWUS1KUD350wPCLewhQ9aApIP-vjBn5Z0oNQWRq7qZdyP71mmllc6wocrdeA_nqeDBVQ1HI/file# [following]\n",
            "--2022-02-03 18:32:19--  https://ucaaa79e539af5830421fa174f1e.dl.dropboxusercontent.com/cd/0/inline/BfD20-8VBhEZFFWq1FNPH9M-Pq7hFzY0TJSMq8cQSUZcxZCy0ahuLfv0E2eA_NnOu3WV1HnqueIDRQDFtLWUS1KUD350wPCLewhQ9aApIP-vjBn5Z0oNQWRq7qZdyP71mmllc6wocrdeA_nqeDBVQ1HI/file\n",
            "Resolving ucaaa79e539af5830421fa174f1e.dl.dropboxusercontent.com (ucaaa79e539af5830421fa174f1e.dl.dropboxusercontent.com)... 162.125.3.15, 2620:100:6018:15::a27d:30f\n",
            "Connecting to ucaaa79e539af5830421fa174f1e.dl.dropboxusercontent.com (ucaaa79e539af5830421fa174f1e.dl.dropboxusercontent.com)|162.125.3.15|:443... connected.\n",
            "HTTP request sent, awaiting response... 302 Found\n",
            "Location: /cd/0/inline2/BfDl0l9yhzUIPGhO3Lj9MLbwZLHolkVDzNTeU5FfdXOrU5E1a8Aw8XvxCB9rqkl2cgbFYZy4oMHu0TiLedKC-0if33ah-xUh34Sv5-DpiYptwcLgBTvvH1BdJPi0qsbYyS2Dd8EC64VO0GRNaUHSPt7_fKE1jFzhJjA5D3_kvDrRiO1_tTqBnvx6dcNX224RqbQehYamjXnqg5yYKMOkKLotoN2OQ-7UO_WGuuJhHKyFNgXIqzc3VwqCFy72So8qUf1Z8fxZPu8b_R4nqwilRdXGfEYJn5G6sBfgqiacyHVqC72nZAbE5L2q8r5sTuZFSG6UmFhkoMXdvs7pAcgihbfkVOgjeN8-Lne6rh1GcmyzgwRqxCHo3NOIeoeVvw8UneI/file [following]\n",
            "--2022-02-03 18:32:19--  https://ucaaa79e539af5830421fa174f1e.dl.dropboxusercontent.com/cd/0/inline2/BfDl0l9yhzUIPGhO3Lj9MLbwZLHolkVDzNTeU5FfdXOrU5E1a8Aw8XvxCB9rqkl2cgbFYZy4oMHu0TiLedKC-0if33ah-xUh34Sv5-DpiYptwcLgBTvvH1BdJPi0qsbYyS2Dd8EC64VO0GRNaUHSPt7_fKE1jFzhJjA5D3_kvDrRiO1_tTqBnvx6dcNX224RqbQehYamjXnqg5yYKMOkKLotoN2OQ-7UO_WGuuJhHKyFNgXIqzc3VwqCFy72So8qUf1Z8fxZPu8b_R4nqwilRdXGfEYJn5G6sBfgqiacyHVqC72nZAbE5L2q8r5sTuZFSG6UmFhkoMXdvs7pAcgihbfkVOgjeN8-Lne6rh1GcmyzgwRqxCHo3NOIeoeVvw8UneI/file\n",
            "Reusing existing connection to ucaaa79e539af5830421fa174f1e.dl.dropboxusercontent.com:443.\n",
            "HTTP request sent, awaiting response... 200 OK\n",
            "Length: unspecified [application/zip]\n",
            "Saving to: ‘bbc_short_all_vocab_.zip’\n",
            "\n",
            "bbc_short_all_vocab     [ <=>                ]   9.53M  55.6MB/s    in 0.2s    \n",
            "\n",
            "Last-modified header missing -- time-stamps turned off.\n",
            "2022-02-03 18:32:20 (55.6 MB/s) - ‘bbc_short_all_vocab_.zip’ saved [9993730]\n",
            "\n",
            "Archive:  bbc_short_all_vocab_.zip\n",
            "  inflating: content/data_bbc/short/vocab_bbc_short.pkl  \n",
            "  inflating: content/data_bbc/short/allsents_in_docs_bbc_short.pkl  \n",
            "  inflating: content/data_bbc/short/generated_vocab_bbc_short.pkl  \n",
            "  inflating: content/data_bbc/short/generated_embeddings_bbc_short.pkl  \n",
            "  inflating: content/data_bbc/short/allsents_labels_bbc_short.pkl  \n",
            "  inflating: content/data_bbc/short/data_preprocessed_labels_bbc_short.pkl  \n",
            "  inflating: content/data_bbc/short/bbc_short.txt  \n",
            "  inflating: content/data_bbc/short/embeddings_bbc_short.pkl  \n",
            "  inflating: content/data_bbc/short/data_preprocessed_bbc_short.pkl  \n"
          ]
        }
      ],
      "source": [
        "#### Data Downloading ####\n",
        "download_data(d_data,dtype) ### Run Once"
      ]
    },
    {
      "cell_type": "code",
      "execution_count": null,
      "metadata": {
        "colab": {
          "base_uri": "https://localhost:8080/"
        },
        "id": "1MN4t01dDLCs",
        "outputId": "39eedab5-f164-48e7-8cc9-114ac3cb3f2e"
      },
      "outputs": [
        {
          "output_type": "stream",
          "name": "stdout",
          "text": [
            "load_data bbc 2224 2224 5733 2000\n"
          ]
        }
      ],
      "source": [
        "# ##### Data loading #####\n",
        "# dtype='short'\n",
        "loaded_data = load_data(d_data,dtype,generated=True)\n",
        "##########################\n",
        "\n",
        "data_preprocessed , data_preprocessed_labels , embeddings, name = loaded_data\n",
        "# max_features=int(len(embeddings)*perc_vocab)\n",
        "max_features =2000\n",
        "# if len(embeddings)>10000:\n",
        "#   max_features = 10000\n",
        "sorted_unique_labels = sorted(set(data_preprocessed_labels))\n",
        "\n",
        "# for d in range(len(data_preprocessed)):\n",
        "#   data_preprocessed[d] = doc_remove_extra_stopwords(data_preprocessed[d])\n",
        "print(name,d_data,len(data_preprocessed_labels),len(data_preprocessed),len(embeddings),max_features)"
      ]
    },
    {
      "cell_type": "code",
      "source": [
        "dict_docs = {}"
      ],
      "metadata": {
        "id": "Qes4onzAbpzT"
      },
      "execution_count": null,
      "outputs": []
    },
    {
      "cell_type": "code",
      "source": [
        "## to inject tech\n",
        "from random import shuffle\n",
        "import random\n",
        "\n",
        "to_change_label = 'politics'\n",
        "np.random.seed(seed=len(data_preprocessed_labels))\n",
        "np_labels = np.asarray(data_preprocessed_labels)\n",
        "# to_change = np.where(np_labels == 'sport')[0]\n",
        "to_change = np.where(np_labels == to_change_label)[0]\n",
        "to_change_with  =  np.where(np_labels == 'tech')[0]\n",
        "rand_perm_k_to_change_with = np.random.permutation(to_change_with) # int(len(to_change_with)*k/100)\n",
        "rand_perm_k_to_change = np.random.permutation(to_change) # int(len(to_change)*k/100)\n",
        "\n",
        "k = min(len(rand_perm_k_to_change_with),len(rand_perm_k_to_change))\n",
        "# k = int(k*0.35)\n",
        "\n",
        "rand_perm_k_to_change_with = rand_perm_k_to_change_with[:k]\n",
        "rand_perm_k_to_change = rand_perm_k_to_change[:k]\n",
        "\n",
        "np_data = np.asarray(data_preprocessed)\n",
        "to_change_with_docs = np_data[rand_perm_k_to_change_with]\n",
        "to_change_docs =  np_data[rand_perm_k_to_change]\n",
        "dict_docs[to_change_label] = to_change_docs\n",
        "p=0.35\n",
        "for i in range(k):\n",
        "  words = to_change_with_docs[i].split()\n",
        "  words_to_change = to_change_docs[i].split()\n",
        "\n",
        "  original_words = words.copy()\n",
        "  original_words_to_change = words_to_change.copy()\n",
        "\n",
        "  # perc1 = int(len(words)*p)\n",
        "  perc2 = int(len(words_to_change)*p)\n",
        "\n",
        "  # perc_to_change = min(perc1,perc2)\n",
        "  # random.shuffle(words)\n",
        "  # random.shuffle(words_to_change)\n",
        "\n",
        "  to_change_docs[i] = \" \".join(words[:perc2] + original_words_to_change[perc2:])\n",
        "\n",
        "  data_preprocessed[rand_perm_k_to_change[i]] = to_change_docs[i]"
      ],
      "metadata": {
        "id": "gD8jaCRNdyfB"
      },
      "execution_count": null,
      "outputs": []
    },
    {
      "cell_type": "code",
      "source": [
        "## to inject sport\n",
        "to_change_label = 'sport'\n",
        "np.random.seed(seed=len(data_preprocessed_labels))\n",
        "np_labels = np.asarray(data_preprocessed_labels)\n",
        "# to_change = np.where(np_labels == 'sport')[0]\n",
        "to_change = np.where(np_labels == to_change_label)[0]\n",
        "to_change_with  =  np.where(np_labels == 'tech')[0]\n",
        "rand_perm_k_to_change_with = np.random.permutation(to_change_with) # int(len(to_change_with)*k/100)\n",
        "rand_perm_k_to_change = np.random.permutation(to_change) # int(len(to_change)*k/100)\n",
        "\n",
        "k = min(len(rand_perm_k_to_change_with),len(rand_perm_k_to_change))\n",
        "# k = int(k*0.35)\n",
        "\n",
        "rand_perm_k_to_change_with = rand_perm_k_to_change_with[:k]\n",
        "rand_perm_k_to_change = rand_perm_k_to_change[:k]\n",
        "\n",
        "np_data = np.asarray(data_preprocessed)\n",
        "to_change_with_docs = np_data[rand_perm_k_to_change_with]\n",
        "to_change_docs =  np_data[rand_perm_k_to_change]\n",
        "dict_docs[to_change_label] = to_change_docs\n",
        "p=0.35\n",
        "for i in range(k):\n",
        "  words = to_change_with_docs[i].split()\n",
        "  words_to_change = to_change_docs[i].split()\n",
        "\n",
        "  original_words = words.copy()\n",
        "  original_words_to_change = words_to_change.copy()\n",
        "\n",
        "  # perc1 = int(len(words)*p)\n",
        "  perc2 = int(len(words_to_change)*p)\n",
        "\n",
        "  # perc_to_change = min(perc1,perc2)\n",
        "  # random.shuffle(words)\n",
        "  # random.shuffle(words_to_change)\n",
        "\n",
        "  to_change_docs[i] = \" \".join(words[:perc2] + original_words_to_change[perc2:])\n",
        "\n",
        "  data_preprocessed[rand_perm_k_to_change[i]] = to_change_docs[i]"
      ],
      "metadata": {
        "id": "euxHuR701ksH"
      },
      "execution_count": null,
      "outputs": []
    },
    {
      "cell_type": "code",
      "source": [
        "np_data_new = np.asarray(data_preprocessed)\n",
        "np_data_new[to_change_with] = ''"
      ],
      "metadata": {
        "id": "o6M-XnY-Twip"
      },
      "execution_count": null,
      "outputs": []
    },
    {
      "cell_type": "code",
      "source": [
        "new_data = []\n",
        "new_labels = []\n",
        "for d in range(len(np_data_new)):\n",
        "  if len(np_data_new[d])!=0:\n",
        "    new_data.append(data_preprocessed[d])\n",
        "    new_labels.append(data_preprocessed_labels[d])"
      ],
      "metadata": {
        "id": "o0wn7Nd-UXcF"
      },
      "execution_count": null,
      "outputs": []
    },
    {
      "cell_type": "code",
      "execution_count": null,
      "metadata": {
        "cellView": "both",
        "colab": {
          "base_uri": "https://localhost:8080/"
        },
        "id": "2gU5icTALJTS",
        "outputId": "d046ebe4-25af-4bac-dcbc-ad9751acaa85"
      },
      "outputs": [
        {
          "output_type": "stream",
          "name": "stdout",
          "text": [
            "(1823, 2000)\n",
            "['business', 'business', 'business', 'business', 'business', 'business', 'business', 'business', 'business', 'business', 'business', 'business', 'business', 'business', 'business', 'business', 'business', 'business', 'business', 'business', 'business', 'business', 'business', 'business', 'business', 'business', 'business', 'business', 'business', 'business', 'business', 'business', 'business', 'business', 'business', 'business', 'business', 'business', 'business', 'business', 'business', 'business', 'business', 'business', 'business', 'business', 'business', 'business', 'business', 'business', 'business', 'business', 'business', 'business', 'business', 'business', 'business', 'business', 'business', 'business', 'business', 'business', 'business', 'business', 'business', 'business', 'business', 'business', 'business', 'business', 'business', 'business', 'business', 'business', 'business', 'business', 'business', 'business', 'business', 'business', 'business', 'business', 'business', 'business', 'business', 'business', 'business', 'business', 'business', 'business', 'business', 'business', 'business', 'business', 'business', 'business', 'business', 'business', 'business', 'business', 'business', 'business', 'business', 'business', 'business', 'business', 'business', 'business', 'business', 'business', 'business', 'business', 'business', 'business', 'business', 'business', 'business', 'business', 'business', 'business', 'business', 'business', 'business', 'business', 'business', 'business', 'business', 'business', 'business', 'business', 'business', 'business', 'business', 'business', 'business', 'business', 'business', 'business', 'business', 'business', 'business', 'business', 'business', 'business', 'business', 'business', 'business', 'business', 'business', 'business', 'business', 'business', 'business', 'business', 'business', 'business', 'business', 'business', 'business', 'business', 'business', 'business', 'business', 'business', 'business', 'business', 'business', 'business', 'business', 'business', 'business', 'business', 'business', 'business', 'business', 'business', 'business', 'business', 'business', 'business', 'business', 'business', 'business', 'business', 'business', 'business', 'business', 'business', 'business', 'business', 'business', 'business', 'business', 'business', 'business', 'business', 'business', 'business', 'business', 'business', 'business', 'business', 'business', 'business', 'business', 'business', 'business', 'business', 'business', 'business', 'business', 'business', 'business', 'business', 'business', 'business', 'business', 'business', 'business', 'business', 'business', 'business', 'business', 'business', 'business', 'business', 'business', 'business', 'business', 'business', 'business', 'business', 'business', 'business', 'business', 'business', 'business', 'business', 'business', 'business', 'business', 'business', 'business', 'business', 'business', 'business', 'business', 'business', 'business', 'business', 'business', 'business', 'business', 'business', 'business', 'business', 'business', 'business', 'business', 'business', 'business', 'business', 'business', 'business', 'business', 'business', 'business', 'business', 'business', 'business', 'business', 'business', 'business', 'business', 'business', 'business', 'business', 'business', 'business', 'business', 'business', 'business', 'business', 'business', 'business', 'business', 'business', 'business', 'business', 'business', 'business', 'business', 'business', 'business', 'business', 'business', 'business', 'business', 'business', 'business', 'business', 'business', 'business', 'business', 'business', 'business', 'business', 'business', 'business', 'business', 'business', 'business', 'business', 'business', 'business', 'business', 'business', 'business', 'business', 'business', 'business', 'business', 'business', 'business', 'business', 'business', 'business', 'business', 'business', 'business', 'business', 'business', 'business', 'business', 'business', 'business', 'business', 'business', 'business', 'business', 'business', 'business', 'business', 'business', 'business', 'business', 'business', 'business', 'business', 'business', 'business', 'business', 'business', 'business', 'business', 'business', 'business', 'business', 'business', 'business', 'business', 'business', 'business', 'business', 'business', 'business', 'business', 'business', 'business', 'business', 'business', 'business', 'business', 'business', 'business', 'business', 'business', 'business', 'business', 'business', 'business', 'business', 'business', 'business', 'business', 'business', 'business', 'business', 'business', 'business', 'business', 'business', 'business', 'business', 'business', 'business', 'business', 'business', 'business', 'business', 'business', 'business', 'business', 'business', 'business', 'business', 'business', 'business', 'business', 'business', 'business', 'business', 'business', 'business', 'business', 'business', 'business', 'business', 'business', 'business', 'business', 'business', 'business', 'business', 'business', 'business', 'business', 'business', 'business', 'business', 'business', 'business', 'business', 'business', 'business', 'business', 'business', 'business', 'business', 'business', 'business', 'business', 'business', 'business', 'business', 'business', 'business', 'business', 'business', 'business', 'business', 'business', 'business', 'business', 'business', 'business', 'business', 'business', 'business', 'business', 'business', 'business', 'business', 'business', 'business', 'business', 'business', 'business', 'business', 'business', 'business', 'business', 'business', 'business', 'business', 'business', 'business', 'business', 'business', 'business', 'business', 'business', 'business', 'business', 'business', 'business', 'business', 'business', 'business', 'business', 'business', 'business', 'business', 'business', 'business', 'business', 'business', 'business', 'business', 'business', 'business', 'business', 'business', 'business', 'business', 'business', 'business', 'business', 'business', 'business', 'entertainment', 'entertainment', 'entertainment', 'entertainment', 'entertainment', 'entertainment', 'entertainment', 'entertainment', 'entertainment', 'entertainment', 'entertainment', 'entertainment', 'entertainment', 'entertainment', 'entertainment', 'entertainment', 'entertainment', 'entertainment', 'entertainment', 'entertainment', 'entertainment', 'entertainment', 'entertainment', 'entertainment', 'entertainment', 'entertainment', 'entertainment', 'entertainment', 'entertainment', 'entertainment', 'entertainment', 'entertainment', 'entertainment', 'entertainment', 'entertainment', 'entertainment', 'entertainment', 'entertainment', 'entertainment', 'entertainment', 'entertainment', 'entertainment', 'entertainment', 'entertainment', 'entertainment', 'entertainment', 'entertainment', 'entertainment', 'entertainment', 'entertainment', 'entertainment', 'entertainment', 'entertainment', 'entertainment', 'entertainment', 'entertainment', 'entertainment', 'entertainment', 'entertainment', 'entertainment', 'entertainment', 'entertainment', 'entertainment', 'entertainment', 'entertainment', 'entertainment', 'entertainment', 'entertainment', 'entertainment', 'entertainment', 'entertainment', 'entertainment', 'entertainment', 'entertainment', 'entertainment', 'entertainment', 'entertainment', 'entertainment', 'entertainment', 'entertainment', 'entertainment', 'entertainment', 'entertainment', 'entertainment', 'entertainment', 'entertainment', 'entertainment', 'entertainment', 'entertainment', 'entertainment', 'entertainment', 'entertainment', 'entertainment', 'entertainment', 'entertainment', 'entertainment', 'entertainment', 'entertainment', 'entertainment', 'entertainment', 'entertainment', 'entertainment', 'entertainment', 'entertainment', 'entertainment', 'entertainment', 'entertainment', 'entertainment', 'entertainment', 'entertainment', 'entertainment', 'entertainment', 'entertainment', 'entertainment', 'entertainment', 'entertainment', 'entertainment', 'entertainment', 'entertainment', 'entertainment', 'entertainment', 'entertainment', 'entertainment', 'entertainment', 'entertainment', 'entertainment', 'entertainment', 'entertainment', 'entertainment', 'entertainment', 'entertainment', 'entertainment', 'entertainment', 'entertainment', 'entertainment', 'entertainment', 'entertainment', 'entertainment', 'entertainment', 'entertainment', 'entertainment', 'entertainment', 'entertainment', 'entertainment', 'entertainment', 'entertainment', 'entertainment', 'entertainment', 'entertainment', 'entertainment', 'entertainment', 'entertainment', 'entertainment', 'entertainment', 'entertainment', 'entertainment', 'entertainment', 'entertainment', 'entertainment', 'entertainment', 'entertainment', 'entertainment', 'entertainment', 'entertainment', 'entertainment', 'entertainment', 'entertainment', 'entertainment', 'entertainment', 'entertainment', 'entertainment', 'entertainment', 'entertainment', 'entertainment', 'entertainment', 'entertainment', 'entertainment', 'entertainment', 'entertainment', 'entertainment', 'entertainment', 'entertainment', 'entertainment', 'entertainment', 'entertainment', 'entertainment', 'entertainment', 'entertainment', 'entertainment', 'entertainment', 'entertainment', 'entertainment', 'entertainment', 'entertainment', 'entertainment', 'entertainment', 'entertainment', 'entertainment', 'entertainment', 'entertainment', 'entertainment', 'entertainment', 'entertainment', 'entertainment', 'entertainment', 'entertainment', 'entertainment', 'entertainment', 'entertainment', 'entertainment', 'entertainment', 'entertainment', 'entertainment', 'entertainment', 'entertainment', 'entertainment', 'entertainment', 'entertainment', 'entertainment', 'entertainment', 'entertainment', 'entertainment', 'entertainment', 'entertainment', 'entertainment', 'entertainment', 'entertainment', 'entertainment', 'entertainment', 'entertainment', 'entertainment', 'entertainment', 'entertainment', 'entertainment', 'entertainment', 'entertainment', 'entertainment', 'entertainment', 'entertainment', 'entertainment', 'entertainment', 'entertainment', 'entertainment', 'entertainment', 'entertainment', 'entertainment', 'entertainment', 'entertainment', 'entertainment', 'entertainment', 'entertainment', 'entertainment', 'entertainment', 'entertainment', 'entertainment', 'entertainment', 'entertainment', 'entertainment', 'entertainment', 'entertainment', 'entertainment', 'entertainment', 'entertainment', 'entertainment', 'entertainment', 'entertainment', 'entertainment', 'entertainment', 'entertainment', 'entertainment', 'entertainment', 'entertainment', 'entertainment', 'entertainment', 'entertainment', 'entertainment', 'entertainment', 'entertainment', 'entertainment', 'entertainment', 'entertainment', 'entertainment', 'entertainment', 'entertainment', 'entertainment', 'entertainment', 'entertainment', 'entertainment', 'entertainment', 'entertainment', 'entertainment', 'entertainment', 'entertainment', 'entertainment', 'entertainment', 'entertainment', 'entertainment', 'entertainment', 'entertainment', 'entertainment', 'entertainment', 'entertainment', 'entertainment', 'entertainment', 'entertainment', 'entertainment', 'entertainment', 'entertainment', 'entertainment', 'entertainment', 'entertainment', 'entertainment', 'entertainment', 'entertainment', 'entertainment', 'entertainment', 'entertainment', 'entertainment', 'entertainment', 'entertainment', 'entertainment', 'entertainment', 'entertainment', 'entertainment', 'entertainment', 'entertainment', 'entertainment', 'entertainment', 'entertainment', 'entertainment', 'entertainment', 'entertainment', 'entertainment', 'entertainment', 'entertainment', 'entertainment', 'entertainment', 'entertainment', 'entertainment', 'entertainment', 'entertainment', 'entertainment', 'entertainment', 'entertainment', 'entertainment', 'entertainment', 'entertainment', 'entertainment', 'entertainment', 'entertainment', 'entertainment', 'entertainment', 'entertainment', 'entertainment', 'entertainment', 'entertainment', 'entertainment', 'entertainment', 'entertainment', 'entertainment', 'entertainment', 'entertainment', 'entertainment', 'entertainment', 'entertainment', 'entertainment', 'entertainment', 'entertainment', 'entertainment', 'entertainment', 'entertainment', 'entertainment', 'entertainment', 'entertainment', 'entertainment', 'entertainment', 'entertainment', 'entertainment', 'entertainment', 'entertainment', 'entertainment', 'entertainment', 'entertainment', 'entertainment', 'entertainment', 'entertainment', 'politics', 'politics', 'politics', 'politics', 'politics', 'politics', 'politics', 'politics', 'politics', 'politics', 'politics', 'politics', 'politics', 'politics', 'politics', 'politics', 'politics', 'politics', 'politics', 'politics', 'politics', 'politics', 'politics', 'politics', 'politics', 'politics', 'politics', 'politics', 'politics', 'politics', 'politics', 'politics', 'politics', 'politics', 'politics', 'politics', 'politics', 'politics', 'politics', 'politics', 'politics', 'politics', 'politics', 'politics', 'politics', 'politics', 'politics', 'politics', 'politics', 'politics', 'politics', 'politics', 'politics', 'politics', 'politics', 'politics', 'politics', 'politics', 'politics', 'politics', 'politics', 'politics', 'politics', 'politics', 'politics', 'politics', 'politics', 'politics', 'politics', 'politics', 'politics', 'politics', 'politics', 'politics', 'politics', 'politics', 'politics', 'politics', 'politics', 'politics', 'politics', 'politics', 'politics', 'politics', 'politics', 'politics', 'politics', 'politics', 'politics', 'politics', 'politics', 'politics', 'politics', 'politics', 'politics', 'politics', 'politics', 'politics', 'politics', 'politics', 'politics', 'politics', 'politics', 'politics', 'politics', 'politics', 'politics', 'politics', 'politics', 'politics', 'politics', 'politics', 'politics', 'politics', 'politics', 'politics', 'politics', 'politics', 'politics', 'politics', 'politics', 'politics', 'politics', 'politics', 'politics', 'politics', 'politics', 'politics', 'politics', 'politics', 'politics', 'politics', 'politics', 'politics', 'politics', 'politics', 'politics', 'politics', 'politics', 'politics', 'politics', 'politics', 'politics', 'politics', 'politics', 'politics', 'politics', 'politics', 'politics', 'politics', 'politics', 'politics', 'politics', 'politics', 'politics', 'politics', 'politics', 'politics', 'politics', 'politics', 'politics', 'politics', 'politics', 'politics', 'politics', 'politics', 'politics', 'politics', 'politics', 'politics', 'politics', 'politics', 'politics', 'politics', 'politics', 'politics', 'politics', 'politics', 'politics', 'politics', 'politics', 'politics', 'politics', 'politics', 'politics', 'politics', 'politics', 'politics', 'politics', 'politics', 'politics', 'politics', 'politics', 'politics', 'politics', 'politics', 'politics', 'politics', 'politics', 'politics', 'politics', 'politics', 'politics', 'politics', 'politics', 'politics', 'politics', 'politics', 'politics', 'politics', 'politics', 'politics', 'politics', 'politics', 'politics', 'politics', 'politics', 'politics', 'politics', 'politics', 'politics', 'politics', 'politics', 'politics', 'politics', 'politics', 'politics', 'politics', 'politics', 'politics', 'politics', 'politics', 'politics', 'politics', 'politics', 'politics', 'politics', 'politics', 'politics', 'politics', 'politics', 'politics', 'politics', 'politics', 'politics', 'politics', 'politics', 'politics', 'politics', 'politics', 'politics', 'politics', 'politics', 'politics', 'politics', 'politics', 'politics', 'politics', 'politics', 'politics', 'politics', 'politics', 'politics', 'politics', 'politics', 'politics', 'politics', 'politics', 'politics', 'politics', 'politics', 'politics', 'politics', 'politics', 'politics', 'politics', 'politics', 'politics', 'politics', 'politics', 'politics', 'politics', 'politics', 'politics', 'politics', 'politics', 'politics', 'politics', 'politics', 'politics', 'politics', 'politics', 'politics', 'politics', 'politics', 'politics', 'politics', 'politics', 'politics', 'politics', 'politics', 'politics', 'politics', 'politics', 'politics', 'politics', 'politics', 'politics', 'politics', 'politics', 'politics', 'politics', 'politics', 'politics', 'politics', 'politics', 'politics', 'politics', 'politics', 'politics', 'politics', 'politics', 'politics', 'politics', 'politics', 'politics', 'politics', 'politics', 'politics', 'politics', 'politics', 'politics', 'politics', 'politics', 'politics', 'politics', 'politics', 'politics', 'politics', 'politics', 'politics', 'politics', 'politics', 'politics', 'politics', 'politics', 'politics', 'politics', 'politics', 'politics', 'politics', 'politics', 'politics', 'politics', 'politics', 'politics', 'politics', 'politics', 'politics', 'politics', 'politics', 'politics', 'politics', 'politics', 'politics', 'politics', 'politics', 'politics', 'politics', 'politics', 'politics', 'politics', 'politics', 'politics', 'politics', 'politics', 'politics', 'politics', 'politics', 'politics', 'politics', 'politics', 'politics', 'politics', 'politics', 'politics', 'politics', 'politics', 'politics', 'politics', 'politics', 'politics', 'politics', 'politics', 'politics', 'politics', 'politics', 'politics', 'politics', 'politics', 'politics', 'politics', 'politics', 'politics', 'politics', 'politics', 'politics', 'politics', 'politics', 'politics', 'politics', 'politics', 'politics', 'politics', 'politics', 'politics', 'politics', 'sport', 'sport', 'sport', 'sport', 'sport', 'sport', 'sport', 'sport', 'sport', 'sport', 'sport', 'sport', 'sport', 'sport', 'sport', 'sport', 'sport', 'sport', 'sport', 'sport', 'sport', 'sport', 'sport', 'sport', 'sport', 'sport', 'sport', 'sport', 'sport', 'sport', 'sport', 'sport', 'sport', 'sport', 'sport', 'sport', 'sport', 'sport', 'sport', 'sport', 'sport', 'sport', 'sport', 'sport', 'sport', 'sport', 'sport', 'sport', 'sport', 'sport', 'sport', 'sport', 'sport', 'sport', 'sport', 'sport', 'sport', 'sport', 'sport', 'sport', 'sport', 'sport', 'sport', 'sport', 'sport', 'sport', 'sport', 'sport', 'sport', 'sport', 'sport', 'sport', 'sport', 'sport', 'sport', 'sport', 'sport', 'sport', 'sport', 'sport', 'sport', 'sport', 'sport', 'sport', 'sport', 'sport', 'sport', 'sport', 'sport', 'sport', 'sport', 'sport', 'sport', 'sport', 'sport', 'sport', 'sport', 'sport', 'sport', 'sport', 'sport', 'sport', 'sport', 'sport', 'sport', 'sport', 'sport', 'sport', 'sport', 'sport', 'sport', 'sport', 'sport', 'sport', 'sport', 'sport', 'sport', 'sport', 'sport', 'sport', 'sport', 'sport', 'sport', 'sport', 'sport', 'sport', 'sport', 'sport', 'sport', 'sport', 'sport', 'sport', 'sport', 'sport', 'sport', 'sport', 'sport', 'sport', 'sport', 'sport', 'sport', 'sport', 'sport', 'sport', 'sport', 'sport', 'sport', 'sport', 'sport', 'sport', 'sport', 'sport', 'sport', 'sport', 'sport', 'sport', 'sport', 'sport', 'sport', 'sport', 'sport', 'sport', 'sport', 'sport', 'sport', 'sport', 'sport', 'sport', 'sport', 'sport', 'sport', 'sport', 'sport', 'sport', 'sport', 'sport', 'sport', 'sport', 'sport', 'sport', 'sport', 'sport', 'sport', 'sport', 'sport', 'sport', 'sport', 'sport', 'sport', 'sport', 'sport', 'sport', 'sport', 'sport', 'sport', 'sport', 'sport', 'sport', 'sport', 'sport', 'sport', 'sport', 'sport', 'sport', 'sport', 'sport', 'sport', 'sport', 'sport', 'sport', 'sport', 'sport', 'sport', 'sport', 'sport', 'sport', 'sport', 'sport', 'sport', 'sport', 'sport', 'sport', 'sport', 'sport', 'sport', 'sport', 'sport', 'sport', 'sport', 'sport', 'sport', 'sport', 'sport', 'sport', 'sport', 'sport', 'sport', 'sport', 'sport', 'sport', 'sport', 'sport', 'sport', 'sport', 'sport', 'sport', 'sport', 'sport', 'sport', 'sport', 'sport', 'sport', 'sport', 'sport', 'sport', 'sport', 'sport', 'sport', 'sport', 'sport', 'sport', 'sport', 'sport', 'sport', 'sport', 'sport', 'sport', 'sport', 'sport', 'sport', 'sport', 'sport', 'sport', 'sport', 'sport', 'sport', 'sport', 'sport', 'sport', 'sport', 'sport', 'sport', 'sport', 'sport', 'sport', 'sport', 'sport', 'sport', 'sport', 'sport', 'sport', 'sport', 'sport', 'sport', 'sport', 'sport', 'sport', 'sport', 'sport', 'sport', 'sport', 'sport', 'sport', 'sport', 'sport', 'sport', 'sport', 'sport', 'sport', 'sport', 'sport', 'sport', 'sport', 'sport', 'sport', 'sport', 'sport', 'sport', 'sport', 'sport', 'sport', 'sport', 'sport', 'sport', 'sport', 'sport', 'sport', 'sport', 'sport', 'sport', 'sport', 'sport', 'sport', 'sport', 'sport', 'sport', 'sport', 'sport', 'sport', 'sport', 'sport', 'sport', 'sport', 'sport', 'sport', 'sport', 'sport', 'sport', 'sport', 'sport', 'sport', 'sport', 'sport', 'sport', 'sport', 'sport', 'sport', 'sport', 'sport', 'sport', 'sport', 'sport', 'sport', 'sport', 'sport', 'sport', 'sport', 'sport', 'sport', 'sport', 'sport', 'sport', 'sport', 'sport', 'sport', 'sport', 'sport', 'sport', 'sport', 'sport', 'sport', 'sport', 'sport', 'sport', 'sport', 'sport', 'sport', 'sport', 'sport', 'sport', 'sport', 'sport', 'sport', 'sport', 'sport', 'sport', 'sport', 'sport', 'sport', 'sport', 'sport', 'sport', 'sport', 'sport', 'sport', 'sport', 'sport', 'sport', 'sport', 'sport', 'sport', 'sport', 'sport', 'sport', 'sport', 'sport', 'sport', 'sport', 'sport', 'sport', 'sport', 'sport', 'sport', 'sport', 'sport', 'sport', 'sport', 'sport', 'sport', 'sport', 'sport', 'sport', 'sport', 'sport', 'sport', 'sport', 'sport', 'sport', 'sport', 'sport', 'sport', 'sport', 'sport', 'sport', 'sport', 'sport', 'sport', 'sport', 'sport', 'sport', 'sport', 'sport', 'sport', 'sport', 'sport', 'sport', 'sport', 'sport', 'sport', 'sport', 'sport', 'sport', 'sport', 'sport', 'sport', 'sport', 'sport', 'sport', 'sport', 'sport', 'sport', 'sport', 'sport', 'sport', 'sport', 'sport', 'sport', 'sport', 'sport', 'sport', 'sport', 'sport', 'sport', 'sport', 'sport', 'sport', 'sport', 'sport', 'sport', 'sport', 'sport', 'sport', 'sport', 'sport', 'sport', 'sport', 'sport', 'sport', 'sport', 'sport', 'sport', 'sport', 'sport', 'sport', 'sport', 'sport', 'sport', 'sport', 'sport', 'sport']\n",
            "{'sale': 1545, 'boost': 210, 'time': 1841, 'profit': 1396, 'quarterly': 1427, 'medium': 1125, 'giant': 736, 'jumped': 967, 'three': 1834, 'month': 1164, 'december': 466, 'year': 1995, 'earlier': 557, 'dollar': 520, 'gain': 719, 'greenspan': 768, 'speech': 1695, 'hit': 826, 'highest': 818, 'level': 1034, 'euro': 602, 'federal': 647, 'reserve': 1489, 'head': 801, 'trade': 1861, 'deficit': 474, 'set': 1608, 'unit': 1903, 'buyer': 255, 'face': 622, 'loan': 1057, 'claim': 335, 'owner': 1258, 'russian': 1539, 'oil': 1231, 'production': 1395, 'pay': 1285, 'high': 816, 'fuel': 710, 'price': 1379, 'british': 235, 'airway': 50, 'blamed': 191, 'drop': 545, 'takeover': 1797, 'talk': 1800, 'lift': 1044, 'share': 1617, 'drink': 542, 'food': 683, 'firm': 675, 'risen': 1511, 'speculation': 1694, 'target': 1802, 'france': 699, 'japan': 938, 'recession': 1458, 'economy': 567, 'technical': 1808, 'september': 1601, 'figure': 662, 'job': 946, 'growth': 774, 'slow': 1651, 'created': 424, 'fewer': 659, 'expected': 617, 'january': 937, 'fall': 629, 'pushed': 1422, 'unemployment': 1901, 'rate': 1446, 'lowest': 1074, 'india': 876, 'call': 260, 'fair': 628, 'rule': 1532, 'meeting': 1127, 'leading': 1014, 'nation': 1194, 'friday': 705, 'produced': 1392, 'higher': 817, 'average': 128, 'report': 1483, 'court': 421, 'reject': 1472, 'tobacco': 1844, 'case': 279, 'government': 758, 'accusing': 15, 'country': 419, 'biggest': 178, 'company': 373, 'thrown': 1836, 'appeal': 81, 'online': 1237, 'revival': 1502, 'third': 1829, 'search': 1579, 'week': 1956, 'internet': 901, 'advertising': 28, 'indonesian': 880, 'rise': 1510, 'indonesia': 879, 'confirmed': 386, 'considering': 395, 'peugeot': 1306, 'deal': 460, 'mitsubishi': 1154, 'struggling': 1754, 'japanese': 939, 'car': 271, 'maker': 1090, 'motor': 1170, 'supply': 1778, 'french': 703, 'sport': 1706, 'newspaper': 1206, 'daily': 447, 'sunday': 1774, 'staff': 1716, 'air': 46, 'win': 1968, 'board': 200, 'flight': 679, 'delay': 476, 'demand': 481, 'compensation': 374, 'china': 319, 'keep': 973, 'credit': 427, 'effort': 572, 'continue': 403, 'state': 1728, 'doubled': 530, 'italian': 925, 'group': 771, 'europe': 604, 'corporate': 416, 'scandal': 1556, 'reported': 1484, 'rupee': 1536, 'standard': 1722, 'poor': 1344, 'raised': 1439, 'foreign': 690, 'currency': 443, 'rating': 1447, 'access': 12, 'telecom': 1812, 'limit': 1046, 'direct': 504, 'investment': 908, 'user': 1915, 'lose': 1066, 'survey': 1784, 'suggests': 1768, 'rank': 1442, 'sell': 1593, 'film': 665, 'unveil': 1907, 'plan': 1321, 'service': 1607, 'business': 251, 'sluggish': 1655, 'german': 733, 'number': 1221, 'people': 1293, 'work': 1982, 'largest': 1001, 'straight': 1747, 'remains': 1480, 'mixed': 1155, 'signal': 1634, 'picked': 1311, 'speed': 1696, 'official': 1229, 'fallen': 630, 'short': 1624, 'hope': 837, 'gap': 724, 'record': 1459, 'export': 619, 'import': 866, '7bn': 6, 'latest': 1004, 'loses': 1067, 'bankruptcy': 149, 'battle': 155, 'judge': 963, 'dismissed': 512, 'attempt': 117, 'protection': 1412, 'recall': 1455, 'carmaker': 277, 'general': 729, 'ground': 770, 'regulator': 1471, 'steel': 1731, 'cut': 444, 'producer': 1393, 'chief': 316, 'executive': 614, 'strong': 1753, 'trigger': 1877, 'rally': 1440, 'crude': 438, 'mark': 1105, 'thursday': 1837, 'energy': 585, 'market': 1106, 'watchdog': 1948, 'forecast': 689, 'global': 742, 'venezuelan': 1920, 'land': 994, 'row': 1530, 'authority': 127, 'owned': 1257, 'president': 1373, 'reform': 1466, 'soaring': 1666, 'cost': 417, 'economic': 566, 'major': 1088, 'weather': 1952, 'storm': 1745, 'irish': 918, 'reach': 1449, 'investor': 909, 'buy': 254, 'low': 1072, 'banking': 148, 'financial': 668, 'withdrawn': 1977, 'offer': 1224, 'rival': 1514, 'bank': 146, 'holding': 832, 'merge': 1132, 'rich': 1506, 'half': 786, 'fund': 713, 'money': 1163, 'help': 808, 'study': 1757, 'rover': 1529, 'plant': 1325, 'chinese': 320, 'ahead': 40, 'surge': 1782, 'posted': 1354, 'larger': 1000, 'annual': 78, 'predicted': 1366, 'extra': 620, 'meet': 1126, 'tough': 1856, 'governance': 756, 'regulation': 1470, 'stock': 1740, 'mogul': 1159, 'arrested': 97, 'fraud': 700, 'best': 174, 'charge': 307, 'shareholder': 1618, 'selling': 1595, 'based': 153, 'false': 632, 'data': 453, 'deutsche': 497, 'mobile': 1156, 'fourth': 697, 'quarter': 1426, 'upbeat': 1910, 'earnings': 560, 'asset': 107, 'wine': 1970, 'italy': 926, 'agreed': 38, 'lifted': 1045, 'england': 587, 'football': 685, 'boosted': 211, 'tournament': 1859, 'fed': 646, 'warning': 1946, 'chairman': 296, 'alan': 51, 'warned': 1945, 'allowing': 59, 'huge': 851, 'budget': 244, 'severe': 1613, 'loss': 1069, 'mining': 1147, 'saudi': 1551, 'ministry': 1149, 'woman': 1979, 'arabia': 90, 'minister': 1148, 'prince': 1381, 'slide': 1649, 'officially': 1230, 'decade': 465, 'soared': 1665, 'fresh': 704, 'problem': 1388, 'petrol': 1305, 'industrial': 882, 'output': 1254, 'fell': 650, 'october': 1223, 'rose': 1527, 'doubt': 531, 'recovery': 1462, '4bn': 3, 'boeing': 202, 'plane': 1322, 'airline': 49, 'order': 1249, '1bn': 0, 'lead': 1011, 'return': 1498, 'bust': 252, 'accounting': 13, 'exchange': 613, 'july': 965, 'bmw': 199, 'cash': 280, 'mini': 1146, 'launched': 1007, 'announced': 77, 'bad': 141, 'rising': 1512, 'material': 1116, 'european': 605, 'swiss': 1791, 'fiat': 660, 'mull': 1180, 'listing': 1053, 'overhaul': 1255, 'operation': 1244, 'action': 17, 'prime': 1380, 'aimed': 44, 'night': 1208, 'rome': 1526, 'weak': 1951, 'build': 246, 'south': 1681, 'korea': 989, 'second': 1584, 'growing': 773, 'unveils': 1909, 'african': 32, 'tax': 1804, 'increased': 872, 'social': 1667, 'spending': 1699, 'drive': 543, 'asia': 103, 'grew': 769, 'faster': 640, 'deputy': 490, 'tuesday': 1890, 'manufacturing': 1101, 'bos': 214, 'launch': 1006, 'lawyer': 1010, 'bernie': 173, 'called': 261, 'insurance': 895, 'boss': 215, 'guilty': 778, 'pleaded': 1331, 'ongoing': 1236, 'investigation': 907, 'industry': 883, 'jobless': 947, 'total': 1853, 'won': 1980, 'building': 247, 'stadium': 1715, 'project': 1399, 'retail': 1494, 'decline': 470, 'driven': 544, 'sue': 1761, 'bush': 250, 'visit': 1935, 'agency': 35, 'damage': 449, 'george': 731, 'aiming': 45, 'development': 498, 'aid': 41, 'union': 1902, 'finance': 667, 'discus': 511, 'proposal': 1407, 'including': 870, 'jet': 944, 'poorer': 1345, 'confidence': 384, 'february': 645, 'speedy': 1697, 'billion': 180, 'risk': 1513, 'falling': 631, 'seek': 1591, 'construction': 398, 'cleared': 343, 'sector': 1587, 'aircraft': 47, 'unveiled': 1908, 'long': 1061, 'position': 1351, 'manufacturer': 1100, 'circuit': 330, 'city': 333, 'store': 1744, 'electronics': 577, 'retailer': 1495, 'received': 1457, 'turn': 1893, 'beer': 162, 'brewer': 229, 'making': 1091, 'korean': 990, 'consumer': 399, 'renewed': 1481, 'private': 1383, 'central': 293, 'germany': 734, 'turkey': 1892, 'iran': 914, 'scrapped': 1570, 'controversial': 411, 'despite': 494, 'increase': 871, 'performing': 1298, 'potential': 1357, 'role': 1524, 'split': 1705, 'russia': 1538, '6bn': 5, '2bn': 1, 'key': 981, 'revealed': 1500, 'nears': 1199, 'settle': 1611, 'theft': 1826, 'argentina': 92, 'venezuela': 1919, 'helped': 809, 'crisis': 432, 'robert': 1518, 'storage': 1743, 'closed': 346, 'receive': 1456, 'bid': 176, 'accused': 14, 'lying': 1079, 'lied': 1041, 'heard': 804, 'mexican': 1137, 'send': 1597, 'living': 1056, 'mortgage': 1168, 'approved': 88, 'lending': 1031, 'slowing': 1653, 'pace': 1261, 'left': 1025, 'book': 207, '8bn': 7, 'decision': 468, 'told': 1845, 'juror': 970, 'citigroup': 331, 'insurer': 896, 'sold': 1671, 'life': 1042, 'arm': 94, '5bn': 4, 'blame': 190, 'leader': 1012, 'sharp': 1620, 'top': 1849, 'hand': 791, 'debt': 463, 'longer': 1062, 'bail': 142, '3bn': 2, 'network': 1203, 'stake': 1718, 'close': 345, 'swap': 1789, 'hopeful': 838, 'creditor': 428, 'solid': 1672, 'indian': 877, 'drugmaker': 548, 'awarded': 136, 'egyptian': 574, 'contract': 407, 'egypt': 573, 'halt': 789, 'yen': 1996, 'treasury': 1870, 'secretary': 1586, 'john': 948, 'snow': 1661, 'america': 62, 'interest': 899, 'imf': 863, 'international': 900, 'monetary': 1162, 'ford': 688, 'forced': 687, 'denies': 485, 'denied': 484, 'australia': 123, 'sign': 1633, 'slowdown': 1652, 'admits': 24, 'west': 1960, 'marsh': 1109, 'shake': 1615, 'ruling': 1534, 'justice': 971, 'department': 487, 'aston': 110, 'martin': 1111, 'model': 1157, 'golden': 751, 'chancellor': 303, 'gordon': 754, 'brown': 242, 'start': 1725, 'grow': 772, 'started': 1726, 'needed': 1200, 'ensure': 590, 'term': 1818, 'factory': 624, 'fly': 682, 'returned': 1499, 'concern': 380, 'dutch': 554, 'good': 752, 'management': 1095, 'orange': 1248, 'phone': 1309, 'rap': 1443, 'commission': 366, 'written': 1991, 'operator': 1245, 'challenge': 297, 'director': 505, 'officer': 1228, 'admitted': 25, 'york': 1997, 'lie': 1040, 'fellow': 651, 'member': 1128, 'aim': 43, 'link': 1048, 'security': 1589, 'amid': 64, 'mercedes': 1131, 'slump': 1656, 'luxury': 1078, 'big': 177, 'parent': 1268, 'improve': 868, 'equipment': 599, 'supplier': 1777, 'leave': 1020, 'hold': 830, 'hoping': 839, 'triple': 1881, 'move': 1174, 'settlement': 1612, 'subsidiary': 1759, 'trading': 1862, 'train': 1864, 'strike': 1750, 'aire': 48, 'traffic': 1863, 'chaos': 306, 'large': 999, 'bus': 249, 'argentine': 93, 'capital': 269, 'communication': 371, 'criticism': 434, 'australian': 124, 'resource': 1491, 'continuing': 406, 'barclays': 152, 'pre': 1365, 'majority': 1089, 'sued': 1762, 'fiscal': 676, 'cutting': 445, 'measure': 1122, 'iraq': 915, 'invite': 910, 'nationwide': 1196, 'coverage': 422, 'aviation': 130, 'eye': 621, 'opened': 1239, 'merger': 1133, 'gas': 727, 'bought': 216, 'brazil': 223, 'belgium': 165, 'brewing': 230, 'soar': 1664, 'salary': 1544, 'add': 21, 'wall': 1942, 'street': 1749, 'expectation': 616, 'allowed': 58, 'label': 992, 'reached': 1450, 'ukraine': 1898, 'preparing': 1370, 'review': 1501, 'previous': 1378, 'administration': 23, 'winter': 1975, 'freeze': 702, 'wednesday': 1955, 'cold': 353, 'side': 1630, 'north': 1214, 'dropped': 546, 'pipeline': 1314, 'enter': 591, 'style': 1758, 'bbc': 157, 'news': 1205, 'asian': 104, 'lost': 1070, 'planning': 1324, 'bite': 186, 'result': 1493, 'early': 558, 'file': 663, 'filed': 664, 'competition': 376, 'dominated': 524, 'wal': 1939, 'mart': 1110, 'summit': 1771, 'meant': 1121, 'united': 1904, 'islamic': 919, 'ownership': 1259, 'engine': 586, 'drug': 547, 'monday': 1161, 'suspended': 1787, 'patient': 1281, 'death': 461, 'voted': 1937, 'change': 304, 'passed': 1276, 'setting': 1610, 'body': 201, 'minute': 1151, 'house': 846, 'society': 1669, 'boosting': 212, 'ally': 60, 'qatar': 1423, 'shell': 1621, 'signed': 1635, 'middle': 1141, 'natural': 1197, 'anti': 79, 'poverty': 1360, 'school': 1561, 'health': 803, 'citizen': 332, 'jail': 932, 'sentence': 1600, 'fine': 671, 'hiring': 824, 'force': 686, 'verizon': 1922, 'seal': 1577, 'worth': 1988, 'spark': 1689, 'worry': 1986, 'fastest': 641, 'auction': 119, 'transport': 1868, 'backed': 139, 'mail': 1086, 'small': 1657, 'hitting': 828, 'snap': 1660, 'public': 1417, 'suffer': 1763, 'festive': 656, 'office': 1227, 'dividend': 516, 'london': 1060, 'payment': 1286, 'western': 1961, 'electric': 576, 'double': 529, 'power': 1361, 'gorge': 755, 'dam': 448, 'hiv': 829, 'initiative': 885, 'combat': 357, 'cheaper': 313, 'housing': 848, 'property': 1406, 'lender': 1030, 'wto': 1992, 'progress': 1398, 'proposed': 1408, 'membership': 1129, 'duo': 552, 'block': 193, 'man': 1094, 'utd': 1917, 'manchester': 1097, 'reportedly': 1485, 'club': 349, 'amount': 65, 'series': 1604, 'cast': 282, 'future': 717, 'prospect': 1409, 'fear': 644, 'gather': 728, 'constitution': 397, 'matter': 1119, 'closer': 347, 'stay': 1730, 'detail': 495, 'computer': 379, 'tape': 1801, 'employee': 582, 'rush': 1537, 'offering': 1226, 'banker': 147, 'payout': 1287, 'victim': 1925, 'chilean': 318, 'madrid': 1082, 'war': 1944, 'losing': 1068, 'scene': 1558, 'conglomerate': 391, 'day': 458, 'control': 408, 'pain': 1264, 'decide': 467, 'heart': 806, 'attack': 115, 'troubled': 1884, 'champion': 300, 'rescue': 1488, 'fail': 625, 'post': 1353, 'christmas': 327, 'lull': 1077, 'breaking': 226, 'raise': 1438, 'avoid': 132, 'evidence': 611, 'trial': 1873, 'illegal': 862, 'ruled': 1533, 'cairn': 258, 'find': 669, 'thought': 1831, 'hidden': 814, 'ban': 143, 'transaction': 1866, 'turned': 1894, 'ailing': 42, 'legal': 1026, 'lse': 1075, 'chance': 302, 'toughest': 1857, 'congress': 392, 'seeking': 1592, 'domestic': 522, 'lower': 1073, 'clash': 339, 'founder': 696, 'policy': 1339, 'bonus': 206, 'music': 1186, 'issued': 924, 'disappointing': 508, 'album': 52, 'release': 1475, 'game': 721, 'interactive': 898, 'entertainment': 594, 'malcolm': 1092, 'glazer': 741, 'gold': 750, 'relief': 1478, 'joining': 953, 'technology': 1809, 'screen': 1572, 'television': 1813, 'tie': 1839, 'delayed': 477, 'hail': 784, 'smith': 1659, 'scottish': 1569, 'church': 328, 'election': 575, 'prosper': 1410, 'enron': 589, 'ease': 562, 'named': 1191, 'carlos': 276, 'highly': 820, 'check': 314, 'dozen': 534, 'tackle': 1795, 'africa': 31, 'setback': 1609, 'gaming': 723, 'dog': 519, 'track': 1860, 'break': 225, 'open': 1238, 'tycoon': 1896, 'failed': 626, 'recover': 1461, 'season': 1581, 'mcdonald': 1120, 'mtv': 1179, 'channel': 305, 'save': 1552, 'tuc': 1889, 'calling': 262, 'tsunami': 1888, 'sri': 1714, 'lanka': 997, 'hard': 797, 'disaster': 509, 'threat': 1832, 'involvement': 912, 'britain': 234, 'main': 1087, 'product': 1394, 'drafted': 536, 'william': 1965, 'pension': 1292, 'hitch': 827, 'men': 1130, 'male': 1093, 'estimated': 600, 'card': 272, 'web': 1953, 'led': 1022, 'spent': 1700, 'pound': 1359, 'final': 666, 'trillion': 1878, 'approach': 87, 'mission': 1153, 'working': 1984, 'continues': 405, 'photo': 1310, 'interview': 902, 'tale': 1798, 'facing': 623, 'institute': 894, 'politician': 1341, 'political': 1340, 'shock': 1622, 'debate': 462, 'program': 1397, 'trend': 1872, 'trust': 1886, 'bond': 205, 'promised': 1402, 'benefit': 169, 'involved': 911, 'closest': 348, 'great': 765, 'late': 1003, 'presented': 1371, 'equal': 598, 'moved': 1175, 'broadband': 236, 'corp': 415, 'video': 1927, 'controlled': 409, 'billionaire': 181, 'system': 1794, 'branded': 222, 'retirement': 1497, 'singapore': 1639, 'performance': 1296, 'saturday': 1550, 'create': 423, 'kick': 982, 'latin': 1005, 'quake': 1424, 'gloom': 744, 'hong': 835, 'kong': 988, 'michael': 1139, 'travel': 1869, 'scale': 1554, 'cap': 268, 'euronext': 603, 'met': 1135, 'ready': 1452, 'scrutiny': 1575, 'investigating': 906, 'thing': 1828, 'entrepreneur': 595, 'song': 1675, 'nasdaq': 1193, 'list': 1052, 'operates': 1243, 'gift': 737, 'child': 317, 'national': 1195, 'debut': 464, 'dual': 549, 'arsenal': 98, 'full': 712, 'david': 455, 'consider': 394, 'brazilian': 224, 'display': 514, 'stern': 1736, 'word': 1981, 'google': 753, 'jump': 966, 'held': 807, 'friendly': 707, 'spin': 1703, 'american': 63, 'sun': 1772, 'beijing': 164, 'press': 1374, 'ended': 584, 'iraqi': 916, 'voter': 1938, 'issue': 923, 'desperate': 493, 'place': 1320, 'competitive': 377, 'breakneck': 227, 'built': 248, 'declared': 469, 'shape': 1616, 'serious': 1605, 'chamber': 299, 'danger': 451, 'analyst': 66, 'dip': 503, 'premiership': 1369, 'victory': 1926, 'march': 1103, 'textile': 1824, 'worker': 1983, 'introduced': 904, 'charity': 309, 'netherlands': 1202, 'fannie': 637, 'mae': 1083, 'dent': 486, 'johnson': 950, 'medical': 1124, 'southern': 1683, 'play': 1326, 'played': 1327, 'step': 1733, 'departure': 488, 'law': 1008, 'november': 1219, 'shopper': 1623, 'flock': 681, 'failure': 627, 'string': 1752, 'earthquake': 561, 'paid': 1263, 'fetch': 657, 'newcastle': 1204, 'poised': 1336, 'pan': 1267, 'claiming': 337, 'join': 951, 'spirit': 1704, 'starting': 1727, 'april': 89, 'independent': 875, 'senior': 1599, 'resigned': 1490, 'pledged': 1333, 'introduce': 903, 'disney': 513, 'family': 634, 'defended': 472, 'free': 701, 'pulled': 1418, 'forthcoming': 693, 'james': 935, 'police': 1338, 'suggesting': 1767, 'ordered': 1250, 'expands': 615, 'fast': 639, 'offered': 1225, 'spain': 1684, 'jamaica': 934, 'sought': 1677, 'wave': 1950, 'killed': 983, 'pakistan': 1266, 'peace': 1288, 'showing': 1627, 'summer': 1770, 'probe': 1387, 'investigate': 905, 'delta': 479, 'weekend': 1957, 'liquidation': 1051, 'continued': 404, 'mild': 1145, 'feud': 658, 'reliance': 1477, 'controlling': 410, 'thailand': 1825, 'israeli': 922, 'picking': 1312, 'israel': 921, 'local': 1058, 'challenged': 298, 'agreement': 39, 'optimistic': 1247, 'influential': 884, 'friend': 706, 'pas': 1275, 'refused': 1468, 'comment': 364, 'murray': 1184, 'broadcaster': 237, 'eco': 565, 'switch': 1792, 'completed': 378, 'opening': 1241, 'brother': 240, 'running': 1535, 'sky': 1647, 'allow': 57, 'commercial': 365, 'retire': 1496, 'proved': 1415, 'tate': 1803, 'award': 135, 'magazine': 1084, 'idle': 859, 'gun': 780, 'lawsuit': 1009, 'california': 259, 'fight': 661, 'survival': 1785, 'ashley': 102, 'bill': 179, 'fined': 672, 'criminal': 430, 'june': 968, 'ten': 1816, 'pocket': 1334, 'class': 340, 'spend': 1698, 'republic': 1487, 'christian': 326, 'stepped': 1735, 'fox': 698, 'minority': 1150, 'asked': 105, 'dispute': 515, 'commissioner': 367, 'peter': 1304, 'single': 1641, 'northern': 1215, 'ocean': 1222, 'foster': 695, 'winemaker': 1971, 'leaving': 1021, 'promote': 1404, 'quits': 1431, 'jailed': 933, 'partner': 1273, 'trio': 1879, 'ireland': 917, 'conflict': 388, 'hamper': 790, 'charged': 308, 'campaign': 264, 'rejected': 1473, 'bell': 167, 'aged': 34, 'charlie': 311, 'died': 501, 'opposition': 1246, 'planned': 1323, 'transfer': 1867, 'nuclear': 1220, 'period': 1299, 'grant': 763, 'apology': 80, 'area': 91, 'hour': 845, 'net': 1201, 'funding': 715, 'draft': 535, 'support': 1779, 'famous': 635, 'hotel': 843, 'unity': 1905, 'station': 1729, 'virgin': 1932, 'blue': 198, 'morgan': 1165, 'beat': 158, 'software': 1670, 'topping': 1851, 'worst': 1987, 'draw': 540, 'mouse': 1173, 'young': 1998, 'league': 1015, 'spanish': 1688, 'cement': 291, 'globe': 743, 'mountain': 1171, 'tony': 1847, 'blair': 189, 'protest': 1414, 'campaigner': 265, 'paris': 1269, 'suing': 1769, 'banned': 150, 'rapid': 1444, 'poll': 1343, 'pressure': 1375, 'fbi': 643, 'agent': 36, 'missing': 1152, 'suffered': 1764, 'released': 1476, 'powerful': 1362, 'claimed': 336, 'gallery': 720, 'text': 1823, 'message': 1134, 'art': 100, 'musician': 1188, 'perform': 1295, 'concert': 381, 'birth': 184, 'writer': 1989, 'musical': 1187, 'classic': 341, 'jerry': 943, 'springer': 1710, 'opera': 1242, 'richard': 1507, 'choose': 323, 'author': 126, 'success': 1760, 'winner': 1973, 'stage': 1717, 'adaptation': 20, 'mary': 1113, 'prize': 1385, 'history': 825, 'boy': 219, 'critic': 433, 'levy': 1035, 'tipped': 1842, 'andrea': 68, 'winning': 1974, 'novel': 1218, 'island': 920, 'star': 1723, 'vinci': 1931, 'code': 352, 'artist': 101, 'secret': 1585, 'academy': 11, 'hollywood': 833, 'party': 1274, 'lyric': 1080, 'adventure': 27, 'fan': 636, 'king': 985, 'age': 33, 'dame': 450, 'shortlist': 1625, 'broadway': 238, 'actor': 18, 'tom': 1846, 'reynolds': 1504, 'sir': 1642, 'alicia': 54, 'bath': 154, 'modern': 1158, 'greatest': 766, 'career': 274, 'harry': 799, 'potter': 1358, 'chart': 312, 'topped': 1850, 'idol': 860, 'pop': 1346, 'talent': 1799, 'begun': 163, 'simon': 1638, 'studio': 1756, 'blogger': 195, 'festival': 655, 'comedy': 361, 'sideways': 1631, 'road': 1515, 'trip': 1880, 'praise': 1363, 'association': 109, 'dirty': 506, 'marking': 1107, 'anniversary': 76, 'sundance': 1773, 'sporting': 1707, 'pair': 1265, 'dark': 452, 'crowd': 436, 'dvd': 556, 'brought': 241, 'dramatic': 539, 'vera': 1921, 'drake': 537, 'scoop': 1563, 'oscar': 1252, 'mike': 1143, 'leigh': 1029, 'chosen': 324, 'forward': 694, 'nominee': 1213, 'hank': 795, 'premiere': 1368, 'pirate': 1316, 'sequel': 1602, 'ceremony': 294, 'walk': 1941, 'red': 1463, 'aviator': 131, 'creator': 426, 'snub': 1662, 'nominated': 1211, 'movie': 1176, 'leonardo': 1032, 'shut': 1629, 'race': 1433, 'starring': 1724, 'paul': 1283, 'version': 1923, 'passion': 1277, 'berlin': 171, 'tribute': 1875, 'davis': 456, 'spike': 1702, 'lee': 1023, 'funeral': 716, 'dead': 459, 'gerard': 732, 'beaten': 159, 'howl': 850, 'cinema': 329, 'box': 218, 'ticket': 1838, 'thriller': 1835, 'landmark': 995, 'hailed': 785, 'hide': 815, 'injury': 886, 'revolution': 1503, 'swank': 1788, 'jamie': 936, 'hilary': 821, 'guild': 777, 'female': 652, 'student': 1755, 'black': 187, 'true': 1885, 'camera': 263, 'horror': 840, 'evil': 612, 'bomb': 204, 'postponed': 1356, 'robot': 1520, 'watch': 1947, 'van': 1918, 'epic': 596, 'celebrate': 285, 'live': 1054, 'cesar': 295, 'nomination': 1212, 'animation': 75, 'beating': 160, 'actress': 19, 'vote': 1936, 'shrek': 1628, 'kevin': 980, 'sea': 1576, 'blow': 196, 'oliver': 1233, 'stone': 1741, 'entering': 592, 'ray': 1448, 'combined': 358, 'twelve': 1895, 'crime': 429, 'brad': 220, 'pitt': 1319, 'julia': 964, 'indie': 878, 'drama': 538, 'scooped': 1564, 'spider': 1701, 'superhero': 1776, 'special': 1693, 'baby': 137, 'clint': 344, 'picture': 1313, 'editing': 569, 'front': 708, 'enters': 593, 'bollywood': 203, 'affair': 30, 'girl': 739, 'bookmaker': 208, 'moving': 1177, 'nazi': 1198, 'drawn': 541, 'los': 1065, 'angeles': 74, 'fame': 633, 'birthday': 185, 'god': 749, 'singer': 1640, 'documentary': 517, 'surprise': 1783, 'choice': 322, 'howard': 849, 'crown': 437, 'spot': 1708, 'prominence': 1400, 'theme': 1827, 'lewis': 1036, 'downloads': 533, 'digital': 502, 'included': 869, 'glasgow': 740, 'host': 842, 'gig': 738, 'band': 144, 'busted': 253, 'rapper': 1445, 'manic': 1098, 'radio': 1436, 'jackson': 930, 'reporter': 1486, 'marion': 1104, 'knight': 987, 'allegedly': 56, 'elton': 578, 'performed': 1297, 'elvis': 579, 'rock': 1521, 'legend': 1027, 'pete': 1303, 'ago': 37, 'legendary': 1028, 'jay': 941, 'hip': 823, 'hop': 836, 'rem': 1479, 'player': 1328, 'hospital': 841, 'suffering': 1765, 'ring': 1508, 'fire': 673, 'marley': 1108, 'reggae': 1469, 'sebastian': 1583, 'slim': 1650, 'patch': 1279, 'brian': 231, 'dublin': 551, 'son': 1674, 'patrol': 1282, 'scissor': 1562, 'sister': 1643, 'brit': 233, 'keane': 972, 'recording': 1460, 'ferdinand': 653, 'alex': 53, 'edinburgh': 568, 'trophy': 1883, 'super': 1775, 'bowl': 217, 'avoided': 133, 'controversy': 412, 'guitarist': 779, 'quit': 1430, 'ultimate': 1899, 'queen': 1428, 'tour': 1858, 'grammy': 761, 'smashed': 1658, 'ozzy': 1260, 'praised': 1364, 'website': 1954, 'sound': 1679, 'promising': 1403, 'copy': 414, 'eminem': 580, 'stormed': 1746, 'jennifer': 942, 'lopez': 1063, 'pupil': 1420, 'piracy': 1315, 'lesson': 1033, 'phil': 1307, 'mother': 1169, 'usher': 1916, 'category': 284, 'glory': 745, 'soul': 1678, 'inspired': 893, 'itunes': 927, 'ipod': 913, 'apple': 84, 'morrison': 1167, 'campbell': 266, 'earned': 559, 'rolling': 1525, 'parker': 1271, 'comic': 362, 'morris': 1166, 'sitcom': 1644, 'comedian': 360, 'chris': 325, 'refuse': 1467, 'father': 642, 'indecency': 873, 'wife': 1963, 'shot': 1626, 'soap': 1663, 'language': 996, 'contest': 401, 'compete': 375, 'csi': 439, 'sending': 1598, 'threatening': 1833, 'viewer': 1929, 'murder': 1183, 'charles': 310, 'comeback': 359, 'housewife': 847, 'audience': 120, 'pundit': 1419, 'contestant': 402, 'evicted': 609, 'celebrity': 288, 'evans': 606, 'trek': 1871, 'steer': 1732, 'clear': 342, 'johnny': 949, 'passport': 1278, 'eviction': 610, 'edward': 571, 'holmes': 834, 'moment': 1160, 'sprinter': 1711, 'kelly': 976, 'olympic': 1234, 'veteran': 1924, 'prestigious': 1376, 'view': 1928, 'real': 1453, 'ethnic': 601, 'suggested': 1766, 'writing': 1990, 'episode': 597, 'matt': 1118, 'peel': 1289, 'presenter': 1372, 'touch': 1855, 'triumph': 1882, 'cult': 440, 'urged': 1913, 'quitting': 1432, 'reality': 1454, 'allegation': 55, 'duran': 553, 'appear': 82, 'watching': 1949, 'muslim': 1189, 'culture': 441, 'attempting': 118, 'park': 1270, 'highlight': 819, 'title': 1843, 'satellite': 1549, 'dick': 500, 'bet': 175, 'leak': 1016, 'stopped': 1742, 'ferguson': 654, 'farrell': 638, 'joy': 961, 'ian': 856, 'ill': 861, 'scored': 1566, 'teenage': 1810, 'birmingham': 183, 'hat': 800, 'trick': 1876, 'score': 1565, 'backing': 140, 'spear': 1692, 'joss': 960, 'devon': 499, 'event': 607, 'promise': 1401, 'urban': 1912, 'robbie': 1517, 'williams': 1966, 'angel': 73, 'secure': 1588, 'museum': 1185, 'love': 1071, 'desire': 491, 'generation': 730, 'course': 420, 'abba': 9, 'original': 1251, 'mia': 1138, 'scotland': 1567, 'coming': 363, 'austrian': 125, 'awaiting': 134, 'prevent': 1377, 'cent': 292, 'protege': 1413, 'prodigy': 1391, 'headline': 802, 'community': 372, 'visa': 1934, 'hall': 787, 'schedule': 1559, 'arrest': 96, 'san': 1546, 'lord': 1064, 'andrew': 69, 'stan': 1720, 'multi': 1181, 'stephen': 1734, 'guide': 776, 'hunt': 854, 'depp': 489, 'scott': 1568, 'bangkok': 145, 'determined': 496, 'carry': 278, 'inside': 890, 'joined': 952, 'jason': 940, 'humble': 853, 'quality': 1425, 'acting': 16, 'finding': 670, 'relationship': 1474, 'tim': 1840, 'playing': 1329, 'manager': 1096, 'reading': 1451, 'leeds': 1024, 'breakthrough': 228, 'safer': 1542, 'sydney': 1793, 'hill': 822, 'attacked': 116, 'casino': 281, 'celebrates': 286, 'norway': 1216, 'clutch': 350, 'magic': 1085, 'owen': 1256, 'handed': 792, 'celebrating': 287, 'sure': 1781, 'wale': 1940, 'shark': 1619, 'seller': 1594, 'appearance': 83, 'lack': 993, 'pirated': 1317, 'viewing': 1930, 'arnold': 95, 'council': 418, 'team': 1806, 'abuse': 10, 'door': 527, 'university': 1906, 'signing': 1636, 'maternity': 1117, 'hewitt': 813, 'gamers': 722, 'cabinet': 256, 'telling': 1814, 'manifesto': 1099, 'conference': 383, 'rack': 1435, 'question': 1429, 'printer': 1382, 'pro': 1386, 'tory': 1852, 'gadget': 718, 'xbox': 1993, 'parliament': 1272, 'conservative': 393, 'cable': 257, 'immigrant': 864, 'asylum': 111, 'window': 1969, 'terror': 1819, 'jack': 929, 'straw': 1748, 'spammer': 1686, 'committee': 368, 'chip': 321, 'site': 1645, 'blu': 197, 'mac': 1081, 'savvy': 1553, 'searcher': 1580, 'scheme': 1560, 'politics': 1342, 'immigration': 865, 'pole': 1337, 'spam': 1685, 'tempt': 1815, 'lib': 1037, 'dems': 483, 'microsoft': 1140, 'tool': 1848, 'persistent': 1300, 'education': 570, 'ruth': 1540, 'browser': 243, 'tech': 1807, 'poster': 1355, 'supporter': 1780, 'spring': 1709, 'portable': 1348, 'napster': 1192, 'rented': 1482, 'collect': 355, 'kennedy': 978, 'patent': 1280, 'border': 213, 'domain': 521, 'scam': 1555, 'welsh': 1958, 'assembly': 106, 'idea': 858, 'nintendo': 1209, 'terrorist': 1820, 'suspect': 1786, 'human': 852, 'commodore': 369, 'lease': 1019, 'playstation': 1330, 'sony': 1676, 'older': 1232, 'granted': 764, 'virus': 1933, 'pose': 1350, 'brainwave': 221, 'desktop': 492, 'clarke': 338, 'insisted': 891, 'library': 1039, 'turbo': 1891, 'downing': 532, 'handheld': 793, 'console': 396, 'stamp': 1719, 'duty': 555, 'appointed': 86, 'psp': 1416, 'donation': 525, 'swappers': 1790, 'east': 563, 'referendum': 1465, 'learn': 1017, 'bringing': 232, 'prosperity': 1411, 'guantanamo': 775, 'bay': 156, 'common': 370, 'hunting': 855, 'outlined': 1253, 'boom': 209, 'averting': 129, 'keeping': 975, 'processing': 1389, 'application': 85, 'dominate': 523, 'peer': 1290, 'lifestyle': 1043, 'governs': 759, 'inquiry': 889, 'ringtone': 1509, 'jewish': 945, 'deliver': 478, 'adult': 26, 'confusion': 390, 'definition': 475, 'stand': 1721, 'leadership': 1013, 'ambition': 61, 'civil': 334, 'cell': 289, 'racist': 1434, 'source': 1680, 'seaman': 1578, 'sail': 1543, 'biometric': 182, 'trusted': 1887, 'liberal': 1038, 'democrat': 482, 'dem': 480, 'slam': 1648, 'personal': 1302, 'goal': 747, 'halo': 788, 'intel': 897, 'laser': 1002, 'form': 691, 'silk': 1637, 'format': 692, 'confuse': 389, 'learning': 1018, 'speaker': 1691, 'conducted': 382, 'test': 1821, 'herald': 812, 'mp3': 1178, 'kenyan': 979, 'handhelds': 794, 'candidate': 267, 'criminally': 431, 'population': 1347, 'package': 1262, 'processor': 1390, 'hacker': 783, 'lab': 991, 'grand': 762, 'screensaver': 1573, 'shadow': 1614, 'wireless': 1976, 'innovation': 888, 'independence': 874, 'ink': 887, 'pledge': 1332, 'spyware': 1712, 'explosion': 618, 'ken': 977, 'servant': 1606, 'blog': 194, 'fundamental': 714, 'laptop': 998, 'seat': 1582, 'rugby': 1531, 'english': 588, 'training': 1865, 'yahoo': 1994, 'fired': 674, 'belief': 166, 'nicholas': 1207, 'advice': 29, 'speak': 1690, 'easy': 564, 'rfid': 1505, 'tag': 1796, 'disabled': 507, 'multimedia': 1182, 'catch': 283, 'guru': 782, 'float': 680, 'scare': 1557, 'foot': 684, 'joke': 954, 'worm': 1985, 'match': 1115, 'point': 1335, 'person': 1301, 'metal': 1136, 'slug': 1654, 'federation': 648, 'teenager': 1811, 'log': 1059, 'blind': 192, 'hears': 805, 'backbencher': 138, 'governing': 757, 'positive': 1352, 'sight': 1632, 'doom': 526, 'mass': 1114, 'roger': 1523, 'hotspot': 844, 'ibm': 857, 'linux': 1049, 'push': 1421, 'audio': 121, 'junk': 969, 'doe': 518, 'gmt': 746, 'testing': 1822, 'ninth': 1210, 'cyber': 446, 'robinson': 1519, 'pitch': 1318, 'bug': 245, 'jacques': 931, 'conviction': 413, 'beckham': 161, 'ultra': 1900, 'broken': 239, 'sacked': 1541, 'creative': 425, 'jonathan': 956, 'solution': 1673, 'medal': 1123, 'confident': 385, 'indoor': 881, 'championship': 301, 'cross': 435, 'athens': 112, 'doping': 528, 'coach': 351, 'athlete': 113, 'knee': 986, 'gardener': 725, 'upset': 1911, 'kim': 984, 'collins': 356, 'norwich': 1217, 'prix': 1384, 'paula': 1284, 'holder': 831, 'phillips': 1308, 'athletics': 114, 'marathon': 1102, 'squad': 1713, 'greek': 767, 'tribunal': 1874, 'fit': 677, 'olympics': 1235, 'jones': 957, 'usa': 1914, 'white': 1962, 'steroid': 1737, 'conte': 400, 'aaa': 8, 'defeat': 471, 'confirming': 387, 'cardiff': 273, 'impressive': 867, 'everton': 608, 'cup': 442, 'striker': 1751, 'round': 1528, 'chelsea': 315, 'defender': 473, 'winger': 1972, 'walter': 1943, 'scrappy': 1571, 'steven': 1739, 'gerrard': 735, 'liverpool': 1055, 'barcelona': 151, 'graham': 760, 'semi': 1596, 'robben': 1516, 'rest': 1492, 'captain': 270, 'midfielder': 1142, 'sociedad': 1668, 'southampton': 1682, 'tottenham': 1854, 'premier': 1367, 'cole': 354, 'steve': 1738, 'goalkeeper': 748, 'uefa': 1897, 'bellamy': 168, 'celtic': 290, 'keeper': 974, 'assistant': 108, 'rafael': 1437, 'benitez': 170, 'happy': 796, 'arsene': 99, 'wenger': 1959, 'ranger': 1441, 'referee': 1464, 'jol': 955, 'milan': 1144, 'encounter': 583, 'jose': 959, 'mourinho': 1172, 'insists': 892, 'penalty': 1291, 'carling': 275, 'luis': 1076, 'henry': 811, 'gunner': 781, 'blackburn': 188, 'andy': 70, 'dawson': 457, 'portsmouth': 1349, 'thomas': 1830, 'mutu': 1190, 'anelka': 71, 'perfect': 1294, 'frustrated': 709, 'fulham': 711, 'wolf': 1978, 'anfield': 72, 'disciplinary': 510, 'prop': 1405, 'bernard': 172, 'gareth': 726, 'flanker': 678, 'zealand': 1999, 'lion': 1050, 'opener': 1240, 'sat': 1548, 'hemisphere': 810, 'skipper': 1646, 'wilkinson': 1964, 'jonny': 958, 'scrum': 1574, 'andre': 67, 'emotional': 581, 'dubai': 550, 'lindsay': 1047, 'taylor': 1805, 'tennis': 1817, 'juan': 962, 'roddick': 1522, 'sap': 1547, 'federer': 649, 'ivan': 928, 'seed': 1590, 'serena': 1603, 'davenport': 454, 'wimbledon': 1967, 'martinez': 1112, 'spaniard': 1687, 'hardcourt': 798, 'adelaide': 22, 'aussie': 122}\n"
          ]
        }
      ],
      "source": [
        "data_islarge = False\n",
        "preprossed_data = new_data\n",
        "train_label = new_labels\n",
        "# preprossed_data = data_preprocessed\n",
        "# train_label = data_preprocessed_labels\n",
        "vectorizer = CountVectorizer(min_df=min_df,max_features=max_features)\n",
        "if len(preprossed_data) > 45000:\n",
        "  data_islarge= True\n",
        "  train_vec = vectorizer.fit_transform(preprossed_data)\n",
        "  vocab = vectorizer.vocabulary_\n",
        "  id_vocab = dict(map(reversed, vocab.items()))\n",
        "  train_label = np.asarray(train_label)\n",
        "else:\n",
        "  train_vec = vectorizer.fit_transform(preprossed_data).toarray()\n",
        "  vocab = vectorizer.vocabulary_\n",
        "  id_vocab = dict(map(reversed, vocab.items()))\n",
        "  nonzeros_indexes = np.where(train_vec.any(1))[0]\n",
        "  train_vec_non_zeros = [train_vec[i] for i in nonzeros_indexes]\n",
        "  preprossed_data_non_zeros = [preprossed_data[i] for i in nonzeros_indexes]\n",
        "  train_label = [train_label[i] for i in nonzeros_indexes]\n",
        "\n",
        "# train_vec = np.asanyarray(train_vec_non_zeros)\n",
        "num_input = train_vec.shape[1]\n",
        "\n",
        "print(train_vec.shape)\n",
        "print(train_label)\n",
        "print(vocab)"
      ]
    },
    {
      "cell_type": "code",
      "source": [
        "np.where(train_vec.sum(0)==0)"
      ],
      "metadata": {
        "colab": {
          "base_uri": "https://localhost:8080/"
        },
        "id": "sDWaerm9yhXB",
        "outputId": "0c41e319-27e2-4bf6-afe2-e17ec9951622"
      },
      "execution_count": null,
      "outputs": [
        {
          "output_type": "execute_result",
          "data": {
            "text/plain": [
              "(array([], dtype=int64),)"
            ]
          },
          "metadata": {},
          "execution_count": 29
        }
      ]
    },
    {
      "cell_type": "code",
      "source": [
        "# tfidfvectorizer = TfidfVectorizer(min_df=min_df,max_features=max_features)\n",
        "# tfidf_vec = tfidfvectorizer.fit_transform(data_preprocessed).toarray()"
      ],
      "metadata": {
        "id": "Jtd9j52wBpko"
      },
      "execution_count": null,
      "outputs": []
    },
    {
      "cell_type": "code",
      "execution_count": null,
      "metadata": {
        "id": "4E9i9OAVjcpf",
        "colab": {
          "base_uri": "https://localhost:8080/"
        },
        "outputId": "9623967d-559d-417d-fc49-32ed367f6301"
      },
      "outputs": [
        {
          "output_type": "stream",
          "name": "stdout",
          "text": [
            "0\n"
          ]
        }
      ],
      "source": [
        "keywords = get_keywords(d_data)\n",
        "\n",
        "# commented for WoS\n",
        "if data_islarge == True:# pass\n",
        "  all_rscores = cosine_similarity_desm_docs_forlarge(keywords,train_vec,vocab,embeddings)\n",
        "else:\n",
        "  all_rscores = cosine_similarity_desm_docs(keywords,train_vec,vocab,embeddings)"
      ]
    },
    {
      "cell_type": "code",
      "execution_count": null,
      "metadata": {
        "cellView": "both",
        "id": "DqC69zvaqjus",
        "colab": {
          "base_uri": "https://localhost:8080/"
        },
        "outputId": "f62e27ae-af77-4e38-c83e-1a08cddc4c14"
      },
      "outputs": [
        {
          "output_type": "stream",
          "name": "stdout",
          "text": [
            "GPU mem: 12, Select GPU 0\n"
          ]
        }
      ],
      "source": [
        "device = torch.device(\"cuda:\"+str(auto_select_gpu()) if torch.cuda.is_available() else \"cpu\")\n",
        "if data_islarge: pass\n",
        "else: tensor_train_w = torch.from_numpy(train_vec).float()\n",
        "train_label = np.asarray(train_label)"
      ]
    },
    {
      "cell_type": "code",
      "source": [
        "changed_docs_categories = ['politics','sport']\n",
        "docs_idx_dict = {}\n",
        "for c in changed_docs_categories:\n",
        "  docs_idx = []\n",
        "  all_docs = dict_docs[c]\n",
        "  for a in all_docs:\n",
        "    docs_idx.append(preprossed_data_non_zeros.index(a))\n",
        "  docs_idx_dict[c] = docs_idx"
      ],
      "metadata": {
        "id": "_qYz5tRdacpv"
      },
      "execution_count": null,
      "outputs": []
    },
    {
      "cell_type": "markdown",
      "metadata": {
        "id": "_H35cwZwSR2O"
      },
      "source": [
        "# **2. Scores**"
      ]
    },
    {
      "cell_type": "markdown",
      "metadata": {
        "id": "_ElmsnJB1Dzb"
      },
      "source": [
        "## DESM Score"
      ]
    },
    {
      "cell_type": "code",
      "execution_count": null,
      "metadata": {
        "id": "DkvzqQMNXbuK",
        "colab": {
          "base_uri": "https://localhost:8080/"
        },
        "outputId": "a007d6fd-a628-4d03-918f-f3053b83252d"
      },
      "outputs": [
        {
          "output_type": "stream",
          "name": "stdout",
          "text": [
            "Keywords ['microsoft', 'computer']\n",
            "Descending : tensor([0.5281, 0.5161, 0.5128,  ..., 0.1165, 0.1068, 0.1048]) \n",
            " indices: tensor([1035,  967, 1303,  ...,  709, 1498,  683])\n",
            "\n",
            "\n",
            " Top 10 Relevant Documents (DESM):\n",
            "\n",
            " ------------------------------------------------------------------------------------------------------------------------\n",
            "1 )  microsoft desktop search microsoft grant help woman survivor genocide raped deliberately infected hiv aid\n",
            "1 ) politics\n",
            "2 )  microsoft launch search microsoft desire offer concession controversial anti terror plan statute book\n",
            "2 ) politics\n",
            "3 )  microsoft release patch microsoft warned howard claim peter hain tory leader acting attack mongrel rattled opposition\n",
            "3 ) politics\n",
            "4 )  microsoft seeking spyware trojan microsoft civil service union ballot member strike protest government plan extend pension age\n",
            "4 ) politics\n",
            "5 )  microsoft release bumper patch microsoft tory plan cut immigration racist asylum system fairer genuine refugee michael howard\n",
            "5 ) politics\n",
            "6 )  microsoft defect conservative minister defected\n",
            "6 ) politics\n",
            "7 )  firefox browser microsoft microsoft government naive refusing allow phone tap evidence court senior politician\n",
            "7 ) politics\n",
            "8 )  security scare spark browser microsoft working extend pub opening time hold binge drinking control despite backing law change year\n",
            "8 ) politics\n",
            "9 )  xbox unveiled summer detail generation microsoft top official defended australian open court melbourne park criticism playing surface hewitt\n",
            "9 ) sport\n",
            "10 )  microsoft blogging dyer smashed winner bolton game unbeaten\n",
            "10 ) sport\n"
          ]
        }
      ],
      "source": [
        "top_10_docs=[]\n",
        "sort,indices = torch.sort(all_rscores,descending=True)\n",
        "print('Keywords',keywords)\n",
        "print('Descending :',sort,'\\n','indices:',indices)\n",
        "print('\\n\\n Top 10 Relevant Documents (DESM):\\n\\n',\"---\"*40)\n",
        "\n",
        "for k in range(10):\n",
        "   print(k+1,') ',preprossed_data_non_zeros[indices[k].item()])\n",
        "   print(k+1,')',train_label[indices[k].item()])\n",
        "\n",
        "with open(\"1000.txt\", \"w\") as output:\n",
        "  for k in range(0,1000):\n",
        "    output.write(str(k+1)+') '+str(preprossed_data_non_zeros[indices[k].item()])+'\\n')\n",
        "    output.write(str(k+1)+') '+str(sort[k].item())+'\\n')\n",
        "    output.write(str(k+1)+') '+str(train_label[indices[k].item()])+'\\n')\n",
        "output.close()\n",
        "\n",
        "scaler = MinMaxScaler(feature_range=(0+1e-10, 0.99))\n",
        "normalized_all_rscores = scaler.fit_transform(all_rscores.data.reshape(-1,1))\n",
        "normalized_all_rscores=torch.tensor(normalized_all_rscores.flatten())\n",
        "\n",
        "sorted_docs, sorted_idxs = torch.sort(normalized_all_rscores,descending=True)\n",
        "rounded_normalized_all_rscores = torch.round(normalized_all_rscores*10)/10.0"
      ]
    },
    {
      "cell_type": "code",
      "execution_count": null,
      "metadata": {
        "id": "Ij7bLLIzsSwT"
      },
      "outputs": [],
      "source": [
        "# plt.hist(normalized_all_rscores)"
      ]
    },
    {
      "cell_type": "code",
      "execution_count": null,
      "metadata": {
        "id": "AFKk_TJcMSSB"
      },
      "outputs": [],
      "source": [
        "# plt.hist(rounded_normalized_all_rscores)"
      ]
    },
    {
      "cell_type": "code",
      "execution_count": null,
      "metadata": {
        "id": "l-TD0g4qYddh"
      },
      "outputs": [],
      "source": [
        "from collections import defaultdict\n",
        "\n",
        "contains_key = 0\n",
        "doc_contains__anykey_idx = []\n",
        "for doc in preprossed_data_non_zeros:\n",
        "  for k in keywords:\n",
        "    if k in doc:\n",
        "      contains_key += 1\n",
        "      doc_contains__anykey_idx = np.append(doc_contains__anykey_idx,preprossed_data_non_zeros.index(doc)).astype(int)\n",
        "      break\n",
        "\n",
        "doc_contains_anykey = torch.zeros(train_vec.shape[0])\n",
        "doc_contains_anykey[doc_contains__anykey_idx] = 1.0\n",
        "# doc_contains_anykey = torch.zeros(tensor_train_w.size())\n",
        "# for idx in doc_contains__anykey_idx:\n",
        "#     doc_contains_anykey[idx][torch.where(tensor_train_w[idx]>0)[0]] = 1.0\n",
        "\n",
        "def get_relv_words(docs_keys_idx,preprossed_data_non_zeros,vocab):\n",
        "  relv_words  = []\n",
        "  for d in docs_keys_idx:\n",
        "    relv_words.extend(preprossed_data_non_zeros[d].split(' '))\n",
        "  idx_relv_words = np.asarray(list(set([vocab[r] for r in relv_words])))\n",
        "  return idx_relv_words\n",
        "\n",
        "## Approach 1 - All words only in the docs containing the keyword are relevant  (.)\n",
        "\n",
        "## Approach 2 - All words in the docs containing the keyword are relevant i.e. the same words if appear in other docs are relevant  (X)\n",
        "N_V_relv_doc_cOnkey = torch.zeros(tensor_train_w.size())\n",
        "\n",
        "doc_contains_keyidx = defaultdict(list)\n",
        "for k in keywords:\n",
        "  for doc in preprossed_data_non_zeros:\n",
        "    if k in doc:\n",
        "      dk_idx = preprossed_data_non_zeros.index(doc)\n",
        "      doc_contains_keyidx[k].append(dk_idx)\n",
        "      N_V_relv_doc_cOnkey[dk_idx][torch.where(tensor_train_w[dk_idx]>0)[0]] = 1.0 #  All words only in the docs containing the keyword are relevant\n",
        "\n",
        "\n",
        "# idx_allkeys_relvWord = get_relv_words(doc_contains__anykey_idx,preprossed_data_non_zeros,vocab)\n",
        "# idx_keys_relvWord = {}\n",
        "# for k in keywords:\n",
        "#   idx_keys_relvWord[k] =  get_relv_words(doc_contains_keyidx[k],preprossed_data_non_zeros,vocab)  # docs containing the keyword are relevant i.e. the same words if appear in other docs are relevant"
      ]
    },
    {
      "cell_type": "code",
      "execution_count": null,
      "metadata": {
        "id": "F8zGrIE4E3gP",
        "colab": {
          "base_uri": "https://localhost:8080/"
        },
        "outputId": "b63f7bc6-31aa-4ea4-fbc7-85f58ebf1100"
      },
      "outputs": [
        {
          "output_type": "execute_result",
          "data": {
            "text/plain": [
              "200"
            ]
          },
          "metadata": {},
          "execution_count": 38
        }
      ],
      "source": [
        "gc.collect()"
      ]
    },
    {
      "cell_type": "code",
      "execution_count": null,
      "metadata": {
        "id": "ud9pOcxjLSx6"
      },
      "outputs": [],
      "source": [
        "# import torch\n",
        "\n",
        "# def log_bmm(a,b):\n",
        "#     \"\"\"Performs a batch matrix-matrix product of matrices in log-space.\n",
        "#     Args:\n",
        "#         a: tensor with shape (b, n, m)\n",
        "#         b: tensor with shape (b, m, p)\n",
        "#     Returns:\n",
        "#         tensor with shape (b, n, p)\n",
        "#     \"\"\"\n",
        "#     assert a.ndim == b.ndim == 3\n",
        "#     assert a.size(0) == b.size(0)\n",
        "#     assert a.size(2) == b.size(1)\n",
        "\n",
        "#     bsz, p, m = a.size()\n",
        "#     _, _, n = b.size()\n",
        "#     a1 = a.unsqueeze(2).expand(bsz, p, n, m)\n",
        "#     b1 = b.unsqueeze(1).transpose(2, 3).expand(bsz, p, n, m)\n",
        "#     return torch.logsumexp(a1 + b1, dim=-1)\n",
        "\n",
        "# a = torch.ones(10,5,20) * 5\n",
        "# b = torch.ones(10,7,5) * 3\n",
        "\n",
        "# log_bmm(a,b)"
      ]
    },
    {
      "cell_type": "markdown",
      "metadata": {
        "id": "XwcrBK2pe4Qc"
      },
      "source": [
        "## Cosine Score"
      ]
    },
    {
      "cell_type": "code",
      "execution_count": null,
      "metadata": {
        "id": "LTSIn3KOU9gz"
      },
      "outputs": [],
      "source": [
        "cos_sim = nn.CosineSimilarity(dim=-1, eps=1e-8)\n",
        "torch.pi = torch.acos(torch.zeros(1)).item() * 2\n",
        "# model 5.3\n",
        "sig_exp_dist = 50.0\n",
        "\n",
        "\n",
        "def flatten_list(user_list): return [item for sublist in user_list for item in sublist]\n",
        "def get_embedding_tensor(word_list,embeddings): return torch.tensor([embeddings[w] for w in word_list])\n",
        "\n",
        "\n",
        "def cosine_angular_sim(keyword_torch,words_tensor): return 1 - (torch.acos(cos_sim(keyword_torch,words_tensor))) / torch.pi\n",
        "def cosine_norm_01(keyword_torch,words_tensor): return (cos_sim(keyword_torch,words_tensor) + 1.0)/2.0\n",
        "def cosine_sqrt(keyword_torch,words_tensor): return 1 - ((1 - cos_sim(keyword_torch,words_tensor) )/2)**0.5\n",
        "def euclidean_dist(keyword_torch,words_tensor) : return ((words_tensor-keyword_torch).pow(2).sum(-1))**0.5\n",
        "\n",
        "def edist(x,x1):\n",
        "  dist = torch.pow((x-x1),2).sum(-1)\n",
        "  dist_sim = torch.exp(-dist/0.1)\n",
        "  return dist_sim\n",
        "\n",
        "\n",
        "def inv_new_fn(x,x1):\n",
        "  beta = 3\n",
        "  dist = torch.pow((x-x1),2).sum(-1)\n",
        "  dist_sim = 1.0 / (1.0 + (dist/(1-dist))**(-beta))\n",
        "  return dist_sim\n",
        "\n",
        "def exp_dist_sim_x_x1(x,x1,sig=sig_exp_dist):\n",
        "  # sig = 0.1\n",
        "  dist = torch.pow((x-x1),2).sum(-1)\n",
        "  # dist2 = torch.norm((x-x1),dim=-1)**2\n",
        "  exp_dist_sim = torch.exp(- dist / sig)\n",
        "  return exp_dist_sim\n",
        "\n",
        "def get_dist_val_score(f,keyword_torch,words_tensor):\n",
        "  score = f(keyword_torch,words_tensor)\n",
        "  return score\n",
        "\n",
        "def cosine_keywords(keywords,words_tensor,word_list,similarity_function):\n",
        "  all_keywords_score = []\n",
        "  all_cosine_sim = []\n",
        "  all_dist = []\n",
        "  cosine_score_vocab = {}\n",
        "  keyword_total_score = torch.zeros(words_tensor.shape[0])\n",
        "  for k in keywords:\n",
        "    keyword_torch = torch.from_numpy(embeddings[k])\n",
        "    keyword_torch = keyword_torch.unsqueeze(0).expand(words_tensor.shape[0],words_tensor.shape[1])\n",
        "\n",
        "    cosine_sim_score = cos_sim(keyword_torch,words_tensor)\n",
        "    score = get_dist_val_score(similarity_function,keyword_torch,words_tensor)\n",
        "    # cosine_score = cosine_sqrt(keyword_torch,words_tensor)\n",
        "    # cosine_score = cosine_angular_sim(keyword_torch,words_tensor)\n",
        "    # cosine_score = cosine_norm_01(keyword_torch,words_tensor)\n",
        "\n",
        "    # cosine_score[idx_keys_relvWord[k]] = 1.0\n",
        "    all_keywords_score.append(score)\n",
        "    all_cosine_sim.append(cosine_sim_score)\n",
        "\n",
        "    # dist_sim_val,dist_val = exp_dist_sim_x_x1(words_tensor,keyword_torch,sig_exp_dist)\n",
        "    # dist_sim_val,dist_val = edist(keyword_torch,words_tensor,sig_exp_dist)\n",
        "\n",
        "    # dist_sim_val[idx_keys_relvWord[k]] = 1.0\n",
        "    # all_keywords_score.append(dist_sim_val)\n",
        "    # all_dist.append(dist_val)\n",
        "\n",
        "    keyword_total_score += cosine_sim_score\n",
        "  keywords_max_score,keyword_max_score_idx = torch.max(torch.stack(all_keywords_score),dim=0)\n",
        "  cosine_score_vocab = dict(zip(word_list,keywords_max_score.numpy()))\n",
        "\n",
        "  return all_keywords_score,keyword_total_score/len(keywords),keywords_max_score,cosine_score_vocab,all_cosine_sim"
      ]
    },
    {
      "cell_type": "code",
      "execution_count": null,
      "metadata": {
        "id": "OJbv4cJ-Umax",
        "colab": {
          "base_uri": "https://localhost:8080/"
        },
        "outputId": "b72987ec-5ac8-4b0a-d6f0-842da10554fa"
      },
      "outputs": [
        {
          "output_type": "stream",
          "name": "stderr",
          "text": [
            "/usr/local/lib/python3.7/dist-packages/ipykernel_launcher.py:8: UserWarning: Creating a tensor from a list of numpy.ndarrays is extremely slow. Please consider converting the list to a single numpy.ndarray with numpy.array() before converting to a tensor. (Triggered internally at  ../torch/csrc/utils/tensor_new.cpp:201.)\n",
            "  \n"
          ]
        }
      ],
      "source": [
        "sorted_id_word_vocab = sorted(id_vocab.items(), key=lambda x: x[1]) ### alphabetically sorted\n",
        "word_list = [s[1] for s in sorted_id_word_vocab]\n",
        "words_tensor = get_embedding_tensor(word_list,embeddings)\n",
        "\n",
        "# sorted_cosine_words_vocab = sorted(cosine_score_vocab.items(), key=lambda x: x[1]) ### cosine sim score sorted\n",
        "# sorted_cosine_vocab = [s[0] for s in sorted_cosine_words_vocab]\n",
        "\n",
        "embedding_tensor_sorted_alp = get_embedding_tensor(word_list,embeddings)\n",
        "embedding_tensor_keywords = get_embedding_tensor(keywords,embeddings)\n",
        "similarity_function = cosine_sqrt # exp_dist_sim_x_x1 # << your similarity function here\n",
        "all_keywords_score,keywords_mean_score,keywords_max_score,cosine_score_vocab,all_cosine_sim = cosine_keywords(keywords,words_tensor,word_list,similarity_function)\n",
        "\n",
        "\n",
        "idx_where_0 = torch.where(keywords_max_score <= 0.45)[0]\n",
        "cosine_flag_testing = keywords_max_score.clone()\n",
        "cosine_flag_testing[idx_where_0] = 0.0"
      ]
    },
    {
      "cell_type": "code",
      "execution_count": null,
      "metadata": {
        "id": "K9H60nLxZSIE"
      },
      "outputs": [],
      "source": [
        "# key_idx = np.array([vocab[k] for k in keywords])\n",
        "\n",
        "def min_max_norm_1(cosine_val):\n",
        "  min_v = torch.min(cosine_val)\n",
        "  # max_v = torch.topk(cosine_val,k=len(keywords)+1).values[-1]\n",
        "  max_v = torch.max(cosine_val)\n",
        "  # max_v=torch.max(cosine_val)\n",
        "  val = (cosine_val - min_v) / ( (max_v - min_v) )\n",
        "  # for i in range(len(key_idx)):\n",
        "  #   val[key_idx[i]] = 1.0\n",
        "  return val"
      ]
    },
    {
      "cell_type": "code",
      "execution_count": null,
      "metadata": {
        "id": "XU-ICYq-MdHd"
      },
      "outputs": [],
      "source": [
        "# val = min_max_norm_1(list_of_tensors_to_tensor(all_cosine_sim),key_idx)\n",
        "# threshold_focus = 0.0\n",
        "\n",
        "# most_sim_key_V_K1 = torch.zeros(num_input,len(keywords))\n",
        "# filter = torch.zeros(num_input)\n",
        "\n",
        "# for i in range(num_input):\n",
        "#   maximum,index = torch.max(val[:,i],-1)\n",
        "#   if(maximum>threshold_focus):\n",
        "#     most_sim_key_V_K1[i][int(index)] = 1.0\n",
        "#     filter[i] = 1"
      ]
    },
    {
      "cell_type": "code",
      "execution_count": null,
      "metadata": {
        "id": "YnJw-hrJ0sQk",
        "cellView": "form"
      },
      "outputs": [],
      "source": [
        "####@title Threshold focus (quantile)\n",
        "threshold_focus_quantile = 0.5 #@param {type:\"slider\", min:0.1, max:1.0, step:0.05}\n",
        "\n",
        "val = min_max_norm_1(list_of_tensors_to_tensor(all_cosine_sim))\n",
        "# val = (list_of_tensors_to_tensor(all_cosine_sim))\n",
        "# val = (list_of_tensors_to_tensor(all_keywords_score))\n",
        "a = val\n",
        "q = torch.tensor([threshold_focus_quantile])#0.25, 0.5, 0.75])\n",
        "q_v = torch.quantile(a, q, dim=1, keepdim=True)[0]\n",
        "\n",
        "most_sim_key_V_K1 = torch.zeros(num_input,len(keywords))\n",
        "# most_sim_key_V_K1 = torch.zeros(num_input,len(keywords))\n",
        "filter = torch.zeros(num_input)\n",
        "\n",
        "for i in range(num_input):\n",
        "  maximum,index = torch.max(val[:,i],-1)\n",
        "  # minimum,index = torch.min(val[:,i],-1)\n",
        "  #q_v[index][0] = 0.1\n",
        "  if(maximum>q_v[index][0]):\n",
        "  # if(minimum<q_v[index][0]):\n",
        "\n",
        "    most_sim_key_V_K1[i][int(index)] = 1.0\n",
        "    filter[i] = 1\n",
        "  # else:\n",
        "  #   # most_sim_key_V_K1[i][len(keywords)] = 1.0\n",
        "  #   most_sim_key_V_K1[i] = torch.ones(len(keywords))\n",
        "  #   filter[i] = 1"
      ]
    },
    {
      "cell_type": "code",
      "source": [
        "most_sim_key_V_K1.sum()"
      ],
      "metadata": {
        "colab": {
          "base_uri": "https://localhost:8080/"
        },
        "id": "0506Mo-K527n",
        "outputId": "c553944a-98ea-4f51-95d0-073d8442838f"
      },
      "execution_count": null,
      "outputs": [
        {
          "output_type": "execute_result",
          "data": {
            "text/plain": [
              "tensor(1362.)"
            ]
          },
          "metadata": {},
          "execution_count": 45
        }
      ]
    },
    {
      "cell_type": "markdown",
      "source": [
        "### cosine_etc"
      ],
      "metadata": {
        "id": "wgepbiLbqvAv"
      }
    },
    {
      "cell_type": "code",
      "source": [
        "# word_list[vocab['apple']]"
      ],
      "metadata": {
        "id": "tHFCZgB9oVtG"
      },
      "execution_count": null,
      "outputs": []
    },
    {
      "cell_type": "code",
      "source": [
        "# k=232\n",
        "# keywords_and_dummy = keywords#+['dummy']\n",
        "# idx_list = []\n",
        "# all_w= []\n",
        "# doc_words = data_preprocessed[k].split(' ')\n",
        "# for d in doc_words:\n",
        "#   if d in word_list:\n",
        "#     all_w.append(d)\n",
        "#     idx_list.append(torch.where(most_sim_key_V_K1[vocab[d]]==1)[0].item())\n",
        "#   else: pass\n",
        "# idx_list\n",
        "# #   if d in word_list:\n",
        "# #     idx_list.append(word_list.index(d))\n",
        "# # idx_ar = np.asarray(idx_list)\n",
        "# # vals , idxs = torch.where(most_sim_key_V_K1[idx_ar]==1)\n",
        "# # vals = vals.numpy()\n",
        "# # idxs = idxs.numpy()\n",
        "\n",
        "\n",
        "# # for i in range(len(all_w)):\n",
        "# #     print(all_w[i],\" : \",keywords_and_dummy[idx_list[i]])\n",
        "# plt.hist(idx_list)"
      ],
      "metadata": {
        "id": "5SdQh1kuoFwT"
      },
      "execution_count": null,
      "outputs": []
    },
    {
      "cell_type": "code",
      "source": [
        "# STOP!!"
      ],
      "metadata": {
        "id": "qITmwlnfqwZP"
      },
      "execution_count": null,
      "outputs": []
    },
    {
      "cell_type": "code",
      "execution_count": null,
      "metadata": {
        "id": "Oc4f_nio7ehr"
      },
      "outputs": [],
      "source": [
        "# plt.hist(val[0])\n",
        "# torch.median(val[0])"
      ]
    },
    {
      "cell_type": "code",
      "execution_count": null,
      "metadata": {
        "id": "fez8YcMBpVug"
      },
      "outputs": [],
      "source": [
        "# N_K_for_docs = []\n",
        "# for doc in preprossed_data_non_zeros:\n",
        "#   key_in_doc = []\n",
        "#   for k in keywords:\n",
        "#     if k in doc:\n",
        "#       key_in_doc.append(1)\n",
        "#     else:\n",
        "#       key_in_doc.append(0)\n",
        "#   key_in_doc.append(0) # comment this for N_K_V_key_doc_bernoulli\n",
        "#   N_K_for_docs.append(key_in_doc)\n",
        "# N_K_for_docs_t = torch.tensor(np.asarray(N_K_for_docs))\n",
        "# #\n",
        "# # size = (len(preprossed_data_non_zeros) , len(get_keywords(d_data)), num_input)\n",
        "# # all_key_score_t = list_of_tensors_to_tensor(all_keywords_score)\n",
        "# # N_K_for_docs_t_expanded = N_K_for_docs_t.unsqueeze(-1).expand(size)\n",
        "# # N_K_V_key_doc_bernoulli =  all_key_score_t ** N_K_for_docs_t_expanded\n",
        "\n",
        "# # for i in range(len(N_K_V_key_doc_bernoulli)):\n",
        "# #   for j in range(len(keywords)):\n",
        "# #     N_K_V_key_doc_bernoulli[i][j][torch.where(tensor_train_w[i]==0)[0]] = 0.0"
      ]
    },
    {
      "cell_type": "code",
      "execution_count": null,
      "metadata": {
        "id": "D6eYOXrISG_Q"
      },
      "outputs": [],
      "source": [
        "# print('median : ',np.median(keywords_max_score))\n",
        "# print('\\n\\nCosine score (words closest to keywords)\\n')\n",
        "# plt.hist(all_keywords_score[0])"
      ]
    },
    {
      "cell_type": "markdown",
      "metadata": {
        "id": "JtRrwY7L-oRL"
      },
      "source": [
        "# **FoTo**"
      ]
    },
    {
      "cell_type": "markdown",
      "source": [
        "## Model"
      ],
      "metadata": {
        "id": "NsE5r0dqr8E4"
      }
    },
    {
      "cell_type": "code",
      "execution_count": null,
      "metadata": {
        "id": "Av5mpUP5nWVZ",
        "cellView": "form"
      },
      "outputs": [],
      "source": [
        "#@title torch functions\n",
        "\n",
        "#####################\n",
        "\n",
        "### distance between topic and keyword embeddings\n",
        "\n",
        "  # # size_emb_topic_key = (self.num_topic,self.keywords_w_dummy_shape,self.word_emb_size)\n",
        "  # # t_emb = self.mu_z.view(self.num_topic, 1 , self.word_emb_size).expand(size_emb_topic_key)\n",
        "  # # k_emb = self.dummy_and_key_emb.view(1, self.keywords_w_dummy_shape , self.word_emb_size).expand(size_emb_topic_key)\n",
        "\n",
        "  # # k_emb = self.embeddings_keys.view(1, self.keywords_w_dummy_shape , self.word_emb_size).expand(size_emb_topic_key)\n",
        "\n",
        "  # # dist_emb_topic_key = (t_emb-k_emb).pow(2).sum(-1)\n",
        "  # # self.dist_emb_topic_key = dist_emb_topic_key\n",
        "\n",
        "###################\n",
        "\n",
        "\n",
        "def min_max_normalization(ip):\n",
        "  vmax,_ = torch.max(ip,-1)\n",
        "  vmin,_ = torch.min(ip,-1)\n",
        "  vmax = vmax.unsqueeze(-1).expand(ip.shape[0],ip.shape[1])\n",
        "  vmin= vmin.unsqueeze(-1).expand(ip.shape[0],ip.shape[1])\n",
        "  ip = (ip - vmin) / (vmax-vmin+smoothen)\n",
        "  return ip\n",
        "\n",
        "def cosine_sqrt_param(keyword_torch,words_tensor,pow):\n",
        "  return 1 - ((1 - cos_sim(keyword_torch,words_tensor) )/2)**pow\n",
        "\n",
        "def euclidean_dist_sim(keyword_torch,words_tensor,pow):\n",
        "  dist = ((words_tensor-keyword_torch).pow(2).sum(-1))**pow\n",
        "  return 1.0/(1.0 + dist)\n",
        "  # return torch.exp(-dist/100.0)\n",
        "\n",
        "def get_cosine_score(k,w,pow):\n",
        "  cos_sim = nn.CosineSimilarity(dim=-1, eps=1e-8)\n",
        "  similarity_function = cosine_sqrt_param\n",
        "  k = k.unsqueeze(1).expand(k.shape[0],w.shape[0],k.shape[1])\n",
        "  w = w.unsqueeze(0).expand(k.shape[0],w.shape[0],w.shape[1])\n",
        "  return cos_sim(k,w)\n",
        "  # return similarity_function(k,w,pow)\n",
        "\n",
        "def get_unit_len_embeddings(my_tensor):\n",
        "  return my_tensor/(torch.norm(my_tensor,dim=-1).unsqueeze(1))\n",
        "\n",
        "# key_idx = np.array([vocab[k] for k in keywords])\n",
        "\n",
        "def torch_min_topk_max_sim(cosine_val,key_idx,shape):\n",
        " min_v = torch.min(cosine_val,-1).values\n",
        " max_v = torch.topk(cosine_val,k=2).values[:,1]\n",
        " shape1 = cosine_val.shape[1]\n",
        " min_v_expanded = min_v.view(shape,1).expand(shape,shape1)\n",
        " max_v_expanded = max_v.view(shape,1).expand(shape,shape1)\n",
        " val = (cosine_val - min_v_expanded) / ( (max_v_expanded - min_v_expanded) )\n",
        "\n",
        " for i in range(len(key_idx)):\n",
        "   val[i][key_idx[i]] = 1.0\n",
        " return val\n",
        "\n",
        "def log_bmm(a,b):\n",
        "    \"\"\"Performs a batch matrix-matrix product of matrices in log-space.\n",
        "    Args:\n",
        "        a: tensor with shape (b, n, m)\n",
        "        b: tensor with shape (b, m , p)\n",
        "    Returns:\n",
        "        tensor with shape (b, n, p)\n",
        "    \"\"\"\n",
        "\n",
        "\n",
        "    # a = torch.ones(12,10) * 5\n",
        "    # b = torch.ones(10,4) * 5\n",
        "    # log_bmm(a.unsqueeze(0).log(),b.unsqueeze(0).log()).squeeze(0), torch.mm(a,b).log()\n",
        "    # example ^^\n",
        "\n",
        "    assert a.ndim == b.ndim == 3\n",
        "    assert a.size(0) == b.size(0)\n",
        "    assert a.size(2) == b.size(1)\n",
        "\n",
        "    bsz, p, m = a.size()\n",
        "    _, _, n = b.size()\n",
        "    a1 = a.unsqueeze(2).expand(bsz, p, n, m)\n",
        "    b1 = b.unsqueeze(1).transpose(2, 3).expand(bsz, p, n, m)\n",
        "    return torch.logsumexp(a1 + b1, dim=-1)\n",
        "\n",
        "def toT(a): return torch.tensor(a)\n",
        "\n",
        "def gaussian_dist(x,mu,variance):\n",
        "  pi = 3.1415927410125732\n",
        "  smoothen = 1e-8\n",
        "  x_expand = x.unsqueeze(1).expand(x.shape[0],mu.shape[0],x.shape[1])\n",
        "  #exp_term = torch.exp( -0.5 * torch.sum(((x_expand-mu)/variance)**2,dim=-1) )\n",
        "  exp_term = ( -0.5 * torch.sum(((x_expand-mu)/variance)**2,dim=-1) )\n",
        "  var_term = torch.log(toT(1.0 / (variance * ((2*pi)**0.5))))\n",
        "  ret = var_term + exp_term\n",
        "  return ret"
      ]
    },
    {
      "cell_type": "code",
      "source": [
        "gc.collect()\n",
        "torch.cuda.empty_cache()\n",
        "get_gpu_memory_map()"
      ],
      "metadata": {
        "id": "MShSQ2IqasIL",
        "colab": {
          "base_uri": "https://localhost:8080/"
        },
        "outputId": "7bd7f5b5-7323-485b-d85d-49a4ba016b09"
      },
      "execution_count": null,
      "outputs": [
        {
          "output_type": "execute_result",
          "data": {
            "text/plain": [
              "array([2])"
            ]
          },
          "metadata": {},
          "execution_count": 53
        }
      ]
    },
    {
      "cell_type": "code",
      "source": [
        "# heatmap visualization\n",
        "# test which beta works best\n",
        "# set of query (top and bottom half)\n",
        "# use full vocab?? (use top 70%)\n",
        "# run TTM"
      ],
      "metadata": {
        "id": "D_BhOAUMtlqI"
      },
      "execution_count": null,
      "outputs": []
    },
    {
      "cell_type": "code",
      "execution_count": null,
      "metadata": {
        "id": "yuJjrDMmK9CX"
      },
      "outputs": [],
      "source": [
        "##@title Model 5.5.7 (key-dep theta softmax | min max norm | Dummy )\n",
        "\n",
        "num_topic = 15\n",
        "bs = 256 # for searchsnippet short all docs all vocab\n",
        " ## WOS : for short 8192 for full 5120\n",
        "# bs = 4096 ## WOS NMSU Server full 4096\n",
        "drop_rate = 0.2\n",
        "epochs = 1000\n",
        "mu_div=300.0\n",
        "topwords = 10\n",
        "sig=100.0\n",
        "sig_gauss = 0.1\n",
        "sig_ring = 0.1\n",
        "\n",
        "is_KLD = True\n",
        "\n",
        "smoothen=1e-30\n",
        "# smoothen=1e-8\n",
        "\n",
        "num_coordinate = 2\n",
        "en1_units_x = 100\n",
        "en2_units_x = 100\n",
        "variance_x = 1.0\n",
        "learning_rate = 0.001\n",
        "beta1 = 0.99\n",
        "beta2 = 0.999\n",
        "\n",
        "gc.collect()\n",
        "torch.cuda.empty_cache()\n",
        "\n",
        "#phi\n",
        "def gaussian(alpha): return -0.5*alpha\n",
        "def inverse_quadratic(alpha): return -torch.log(torch.ones_like(alpha) + alpha)\n",
        "\n",
        "class Model(nn.Module):\n",
        "    def __init__(self, num_input, en1_units_x, en2_units_x, num_coordinate, num_topic, drop_rate, variance_x, bs,\n",
        "                 embedding_words,embedding_keywords, word_emb_size,num_keyword, distance=\"gaussian\"):\n",
        "\n",
        "        super(Model, self).__init__()\n",
        "\n",
        "        self.num_input, self.num_coordinate, self.num_topic, self.variance_x, self.bs ,self.word_emb_size, self.num_keyword \\\n",
        "            = num_input, num_coordinate, num_topic, variance_x, bs,word_emb_size,num_keyword\n",
        "\n",
        "        self.embedding_words = embedding_words\n",
        "        self.embeddings_keys = embedding_keywords\n",
        "\n",
        "        # encoder\n",
        "        self.en1_fc     = nn.Linear(num_input, en1_units_x)\n",
        "        self.en2_fc     = nn.Linear(en1_units_x, en2_units_x)\n",
        "        self.en2_drop   = nn.Dropout(drop_rate)\n",
        "        self.mean_fc    = nn.Linear(en2_units_x, num_coordinate)\n",
        "        self.mean_bn    = nn.BatchNorm1d(num_coordinate)\n",
        "        self.logvar_fc  = nn.Linear(en2_units_x, num_coordinate)\n",
        "        self.logvar_bn  = nn.BatchNorm1d(num_coordinate)\n",
        "\n",
        "        # mapping network for topic embeddings\n",
        "        self.mu1_fc     = nn.Linear(2, 100)\n",
        "        self.mu2_fc     = nn.Linear(100, 100)\n",
        "        self.mu_fc = nn.Linear(100, 300)\n",
        "        self.mu_z = 0\n",
        "        self.en2_drop_mu_z   = nn.Dropout(drop_rate)\n",
        "\n",
        "        # mapping network for keyword coordinates\n",
        "        self.k1_fc     = nn.Linear(300, 100)\n",
        "        self.k2_fc     = nn.Linear(100, 100)\n",
        "        self.k_fc = nn.Linear(100, 2)\n",
        "        self.keyword_coords = 0\n",
        "        self.en2_drop_keyw   = nn.Dropout(drop_rate)\n",
        "\n",
        "        # Model paramters\n",
        "        self.in_features = self.num_coordinate\n",
        "        self.out_features = self.num_topic\n",
        "        self.topics = nn.Parameter(torch.Tensor(self.out_features, self.in_features))\n",
        "        self.keywords_w_dummy_shape = self.num_keyword#+1\n",
        "\n",
        "        # self.mu_z = nn.Parameter(torch.Tensor(self.num_topic, self.word_emb_size))\n",
        "        # self.keyword_coords = nn.Parameter(torch.Tensor(self.keywords_w_dummy_shape, self.in_features)) # K+1 x 2\n",
        "\n",
        "        self.query_center = nn.Parameter(torch.zeros(2,1))\n",
        "        self.dummy_keyword = nn.Parameter(torch.Tensor(1,self.word_emb_size))# 1 x 300\n",
        "        self.beta_bias = nn.Parameter(torch.Tensor(self.out_features,self.num_input))\n",
        "        self.beta_k_bias = nn.Parameter(torch.Tensor(self.out_features,self.keywords_w_dummy_shape))\n",
        "\n",
        "        if distance==\"gaussian\": self.basis_func = gaussian\n",
        "        if distance==\"inverse_quadratic\": self.basis_func = inverse_quadratic\n",
        "\n",
        "        self.init_parameters()\n",
        "\n",
        "        # decoder batch normalization layers\n",
        "\n",
        "        self.decoder_phi_bn = nn.BatchNorm1d(num_coordinate)\n",
        "        self.decoder_x_bn = nn.BatchNorm1d(num_coordinate)\n",
        "        self.decoder_k_bn = nn.BatchNorm1d(num_coordinate)\n",
        "        self.decoder_bn = nn.BatchNorm1d(self.num_topic)\n",
        "        self.decoder_bn_key = nn.BatchNorm1d(self.keywords_w_dummy_shape)\n",
        "\n",
        "        # prior mean and variance as constant buffers\n",
        "        prior_mean   = torch.Tensor(1, num_coordinate).fill_(0)\n",
        "        prior_var    = torch.Tensor(1, num_coordinate).fill_(variance_x)\n",
        "        self.prior_mean = nn.Parameter(prior_mean, requires_grad=False)\n",
        "        self.prior_var  = nn.Parameter(prior_var, requires_grad=False)\n",
        "        self.prior_logvar = nn.Parameter(prior_var.log(), requires_grad=False)\n",
        "\n",
        "    def init_parameters(self):\n",
        "        nn.init.normal_(self.topics, 0, 0.01)\n",
        "        # nn.init.normal_(self.mu_z, 0, 0.01)\n",
        "        # nn.init.normal_(self.keyword_coords,0,0.01)\n",
        "        nn.init.normal_(self.beta_bias, 0, 0.01)\n",
        "        nn.init.normal_(self.beta_k_bias, 0, 0.01)\n",
        "        nn.init.normal_(self.dummy_keyword, 0, 0.01)\n",
        "\n",
        "    def get_beta(self):\n",
        "        return self.beta\n",
        "\n",
        "    def encode(self, input_):\n",
        "        N, *_ = input_.size()\n",
        "        en1 = F.relu(self.en1_fc(input_))                    # en1_fc   output\n",
        "        en2 = F.relu(self.en2_fc(en1))                       # encoder2 output\n",
        "        en2 = self.en2_drop(en2)\n",
        "        posterior_mean   = self.mean_bn  (self.mean_fc  (en2))   # posterior mean\n",
        "        posterior_logvar = self.logvar_bn(self.logvar_fc(en2))   # posterior log variance\n",
        "        posterior_var    = posterior_logvar.exp()\n",
        "        return en2, posterior_mean, posterior_logvar, posterior_var\n",
        "\n",
        "    def take_sample(self, input_, posterior_mean, posterior_var, prior_var):\n",
        "        eps = input_.data.new().resize_as_(posterior_mean.data).normal_(std=1) # noise\n",
        "        z = posterior_mean + posterior_var.sqrt() * eps           # reparameterization\n",
        "        return z\n",
        "\n",
        "    def get_key_dep_theta(self):\n",
        "\n",
        "      N, *_ = self.z.size()\n",
        "\n",
        "      zx = self.decoder_x_bn(self.z).view(N, 1, self.num_coordinate) # Nx1xX\n",
        "      # zx = self.z.view(N, 1, self.num_coordinate)\n",
        "\n",
        "      zc = self.decoder_phi_bn(self.topics)\n",
        "      # zc = self.topics\n",
        "\n",
        "      # cos_sc = get_cosine_score(k=self.dummy_keyword,w=self.embedding_words,pow=0.5)\n",
        "      # max_idx = torch.argmax(cos_sc)\n",
        "      # self.key_and_dummy_emb = torch.cat((self.embeddings_keys,self.embedding_words[max_idx].unsqueeze(0)),0)\n",
        "\n",
        "      self.key_and_dummy_emb = self.embeddings_keys # torch.cat((self.embeddings_keys,self.dummy_keyword),0)\n",
        "\n",
        "      k1 = F.relu((self.k1_fc(self.key_and_dummy_emb)))                           # keyword mapping\n",
        "      k2 = F.relu((self.k2_fc(k1)))\n",
        "      self.keyword_coords = self.k_fc(k2)\n",
        "\n",
        "      k = self.decoder_k_bn(self.keyword_coords)\n",
        "      # k = self.decoder_phi_bn(self.keyword_coords)\n",
        "      # k = self.keyword_coords\n",
        "\n",
        "      doc_topic_size = (N, self.out_features, self.in_features) # NxTx2\n",
        "      topic_key_size = (self.num_topic, self.keywords_w_dummy_shape, self.in_features) # TxK+1x2\n",
        "      doc_key_size = (N,self.keywords_w_dummy_shape,self.in_features) # NxK+1x2\n",
        "\n",
        "      x = zx.expand(doc_topic_size)\n",
        "      c = zc.view(1, self.num_topic, self.num_coordinate).expand(doc_topic_size)\n",
        "\n",
        "      c_key = zc.view(self.num_topic,1, self.num_coordinate).expand(topic_key_size) # TxK+1x2\n",
        "      k_topic = k.view(1, self.keywords_w_dummy_shape, self.num_coordinate).expand(topic_key_size) #TxK+1x2\n",
        "\n",
        "      x_key = zx.expand(doc_key_size)\n",
        "      k_doc = k.view(1, self.keywords_w_dummy_shape, self.num_coordinate).expand(doc_key_size)\n",
        "\n",
        "      d_doc_topic = (x-c).pow(2).sum(-1)\n",
        "      d_key_topic = (c_key-k_topic).pow(2).sum(-1)\n",
        "      d_doc_key  = (x_key - k_doc).pow(2).sum(-1)\n",
        "\n",
        "      distances_doc_topic = self.basis_func(d_doc_topic)\n",
        "      distances_key_topic = self.basis_func(d_key_topic)\n",
        "      distance_doc_key = self.basis_func(d_doc_key)\n",
        "\n",
        "      self.dist_doc_key = d_doc_key\n",
        "      self.dist_key_topic = d_key_topic\n",
        "      self.dist_doc_key_basis_func = distance_doc_key\n",
        "\n",
        "      doc_key_softmax = torch.exp(distance_doc_key - torch.logsumexp(distance_doc_key, dim=-1, keepdim=True)) # NxK\n",
        "      self.topic_key_softmax = torch.exp(distances_key_topic - torch.logsumexp(distances_key_topic, dim=-1, keepdim=True)) # TxK\n",
        "\n",
        "      add_size = (N,self.num_topic,self.keywords_w_dummy_shape)\n",
        "      distances_doc_topic_expanded = distances_doc_topic.unsqueeze(-1).expand(add_size)\n",
        "      distances_key_topic_expanded = distances_key_topic.unsqueeze(0).expand(add_size)\n",
        "\n",
        "      key_dep_theta = torch.exp( (distances_doc_topic_expanded + distances_key_topic_expanded) - torch.logsumexp((distances_doc_topic_expanded + distances_key_topic_expanded), dim=1, keepdim=True))\n",
        "      key_dep_theta_NT = torch.matmul(key_dep_theta,doc_key_softmax.unsqueeze(-1)).squeeze(-1) # NxTx(K+1) x  Nx(K+1)x1 --> (take sum across k) NxTx1 --> squeeze\n",
        "\n",
        "      return key_dep_theta_NT , zx, d_doc_topic, c, zc, distances_doc_topic,distances_key_topic, N,doc_key_softmax\n",
        "\n",
        "\n",
        "    def decode(self):\n",
        "      key_dep_theta, zx, d, c, zc, distances, distances_k_c, N, doc_key_softmax = self.get_key_dep_theta()\n",
        "\n",
        "      mu1 = F.relu((self.mu1_fc(zc)))  # topic mapping (F.relu, F.softplus)\n",
        "      mu2 = F.relu((self.mu2_fc(mu1))) # self.en2_drop()\n",
        "      self.mu_z = self.mu_fc(mu2)\n",
        "\n",
        "\n",
        "\n",
        "      # ## 13 Jan\n",
        "      # cos_score = torch.max((get_cosine_score(k=self.key_and_dummy_emb,w=self.embedding_words,pow=0.5)),0).values\n",
        "\n",
        "\n",
        "      # 18 jan\n",
        "      # cos_only_keys = get_cosine_score(k=self.key_and_dummy_emb,w=self.embedding_words,pow=0.5)#[0:num_keyword,:]\n",
        "      # cos_score =  torch.max(cos_only_keys,0).values\n",
        "\n",
        "      cos_score = torch.max(self.norm_cos_score,0).values\n",
        "\n",
        "      # # last tried 26th Jan\n",
        "      # cos_only_keys = get_cosine_score(k=self.key_and_dummy_emb,w=self.embedding_words,pow=0.5)[0:num_keyword,:]\n",
        "      # cos_score =  torch.max(cos_only_keys,0).values\n",
        "\n",
        "      # cos_score = torch.max(min_max_norm_1(get_cosine_score(k=self.embeddings_keys,w=self.embedding_words,pow=0.5)),0).values\n",
        "      self.beta = F.softmax( torch.mm(self.mu_z, self.embedding_words.T) * cos_score,dim=-1) # Cosine Ranked Beta (short beta)\n",
        "\n",
        "# -------------------------------\n",
        "\n",
        "      # cos_score = torch.max((get_cosine_score(k=self.key_and_dummy_emb,w=self.embedding_words,pow=0.5)),0).values # take min_max_norm_1? (NO just take normalized cosine)\n",
        "      # self.cos_score = get_cosine_score(k=self.key_and_dummy_emb,w=self.embedding_words,pow=0.5)\n",
        "\n",
        "      # self.beta = F.softmax(self.decoder_bn(torch.mm(self.mu_z, self.embedding_words.T).T).T * cos_score\n",
        "      #                       + self.beta_bias,dim=-1)\n",
        "\n",
        "      # self.beta = F.softmax(self.decoder_bn(torch.mm(self.mu_z, self.embedding_words.T).T).T * cos_score,dim=-1)\n",
        "      # self.beta = F.softmax(torch.mm(self.mu_z, self.embedding_words.T) * cos_score + self.beta_bias,dim=-1) # Cosine Ranked Beta + beta_bias\n",
        "\n",
        "\n",
        "\n",
        "      # # more focused bad visualization ( # Tx300 * Kx300 --> TxK --> TxK * KxV )\n",
        "      # topic_key_pdist = torch.mm(self.mu_z, self.key_and_dummy_emb.T)\n",
        "      # self.beta = F.softmax(self.decoder_bn(torch.mm(topic_key_pdist,self.cos_score).T).T,dim=-1) # Cosine Ranked Beta (long text)\n",
        "\n",
        "\n",
        "      # self.beta = F.softmax((torch.mm(self.mu_z, self.embedding_words.T).T).T,dim=-1) # WTM Beta\n",
        "      recon_v_relv = torch.mm(key_dep_theta,self.beta)\n",
        "\n",
        "      return recon_v_relv, zx, key_dep_theta, doc_key_softmax\n",
        "\n",
        "    def forward(self, input_,most_sim_key, word_filter,norm_cos_score, compute_loss=False):\n",
        "        en2, posterior_mean, posterior_logvar, posterior_var = self.encode(input_)\n",
        "        z = self.take_sample(input_, posterior_mean, posterior_var, self.variance_x)\n",
        "\n",
        "        self.z = z\n",
        "        self.most_sim_key = most_sim_key\n",
        "        self.word_filter = word_filter\n",
        "        self.norm_cos_score = norm_cos_score\n",
        "\n",
        "        recon_v_relv, zx, key_dep_theta, doc_key_softmax = self.decode()\n",
        "\n",
        "        if compute_loss:\n",
        "            return recon_v_relv,zx, self.loss(input_, recon_v_relv, most_sim_key, doc_key_softmax,key_dep_theta, posterior_mean, posterior_logvar, posterior_var,zx)\n",
        "        else: return z, recon_v_relv, zx, key_dep_theta,doc_key_softmax\n",
        "\n",
        "    def KLD(self, posterior_mean,posterior_logvar,posterior_var):\n",
        "        N = posterior_mean.shape[0]\n",
        "        prior_mean   = self.prior_mean.expand_as(posterior_mean)\n",
        "        prior_var    = self.prior_var.expand_as(posterior_mean)\n",
        "        prior_logvar = self.prior_logvar.expand_as(posterior_mean)\n",
        "\n",
        "        var_division    = posterior_var  / prior_var\n",
        "        diff            = posterior_mean - prior_mean\n",
        "        diff_term       = diff * diff / prior_var\n",
        "        logvar_division = prior_logvar - posterior_logvar\n",
        "\n",
        "        xKLD = 0.5 * ((var_division + diff_term + logvar_division).sum(-1) - self.num_coordinate)\n",
        "        return xKLD\n",
        "\n",
        "    def loss(self, input_, recon_v_relv, most_sim_key, doc_key_softmax,key_dep_theta, posterior_mean, posterior_logvar, posterior_var, zx, avg=True):\n",
        "        N = posterior_mean.shape[0]\n",
        "\n",
        "        filter = self.word_filter.unsqueeze(0).expand(N,self.num_input)\n",
        "        p_label = torch.mm(doc_key_softmax,most_sim_key.T) # N x V\n",
        "\n",
        "        NL1 = - ((input_ * (recon_v_relv+smoothen).log())).sum(-1)\n",
        "        NL2 = - ((input_ * (p_label+smoothen).log())*filter).sum(-1)\n",
        "\n",
        "        NL1 = NL1.sum()\n",
        "        NL2 = NL2.sum()\n",
        "        # NL2 = toT(0.0)\n",
        "        NL = NL1 + NL2\n",
        "        KLD = self.KLD(posterior_mean,posterior_logvar,posterior_var).sum()\n",
        "        loss = NL + KLD\n",
        "        return loss/N, NL,NL1,NL2, KLD"
      ]
    },
    {
      "cell_type": "markdown",
      "metadata": {
        "id": "t5sz_euGLjAV"
      },
      "source": [
        "##**Train Model**"
      ]
    },
    {
      "cell_type": "code",
      "source": [
        "# max_c = torch.max((get_cosine_score(k=embedding_tensor_keywords,w=embedding_tensor_words,pow=0.5)),0).values\n",
        "# torch.sort(max_c,descending=True).indices"
      ],
      "metadata": {
        "id": "q-fXhbptxijv"
      },
      "execution_count": null,
      "outputs": []
    },
    {
      "cell_type": "code",
      "execution_count": null,
      "metadata": {
        "id": "Xiv54gv6-sqB",
        "colab": {
          "base_uri": "https://localhost:8080/"
        },
        "outputId": "01021fa7-e0b4-4673-af69-87a2c703d8ac"
      },
      "outputs": [
        {
          "output_type": "stream",
          "name": "stdout",
          "text": [
            "Epoch -> 0 , loss -> 803.2759399414062\n",
            "recon_loss==> 181091.31860351562 || NL1==> 169850.041015625 || NL2==> 11241.276428222656 || KLD==> 2872.7984580993652\n",
            "Epoch -> 10 , loss -> 754.6206970214844\n",
            "recon_loss==> 170889.72583007812 || NL1==> 161614.095703125 || NL2==> 9275.633163452148 || KLD==> 1968.3547325134277\n",
            "Epoch -> 20 , loss -> 748.9316253662109\n",
            "recon_loss==> 169922.51147460938 || NL1==> 160436.73486328125 || NL2==> 9485.77865600586 || KLD==> 1614.2926406860352\n",
            "Epoch -> 30 , loss -> 745.9451065063477\n",
            "recon_loss==> 169467.767578125 || NL1==> 160059.22119140625 || NL2==> 9408.545776367188 || KLD==> 1417.9131813049316\n",
            "Epoch -> 40 , loss -> 743.120246887207\n",
            "recon_loss==> 169045.6298828125 || NL1==> 159733.48657226562 || NL2==> 9312.14340209961 || KLD==> 1353.6710510253906\n",
            "Epoch -> 50 , loss -> 740.7967758178711\n",
            "recon_loss==> 168493.89282226562 || NL1==> 159160.54370117188 || NL2==> 9333.34846496582 || KLD==> 1397.8094158172607\n",
            "Epoch -> 60 , loss -> 738.5092468261719\n",
            "recon_loss==> 167832.54663085938 || NL1==> 158565.345703125 || NL2==> 9267.20083618164 || KLD==> 1514.7030220031738\n",
            "Epoch -> 70 , loss -> 737.2457656860352\n",
            "recon_loss==> 167394.3076171875 || NL1==> 158153.84350585938 || NL2==> 9240.462188720703 || KLD==> 1680.5245819091797\n",
            "Epoch -> 80 , loss -> 734.9658737182617\n",
            "recon_loss==> 166791.390625 || NL1==> 157643.77880859375 || NL2==> 9147.611251831055 || KLD==> 1855.9531135559082\n",
            "Epoch -> 90 , loss -> 732.799446105957\n",
            "recon_loss==> 166218.09619140625 || NL1==> 157121.68090820312 || NL2==> 9096.417510986328 || KLD==> 2011.8966522216797\n",
            "Epoch -> 100 , loss -> 731.8306350708008\n",
            "recon_loss==> 165921.22998046875 || NL1==> 156822.3408203125 || NL2==> 9098.885787963867 || KLD==> 2120.6109161376953\n",
            "Epoch -> 110 , loss -> 730.3211059570312\n",
            "recon_loss==> 165615.50415039062 || NL1==> 156441.70385742188 || NL2==> 9173.800659179688 || KLD==> 2202.0160522460938\n",
            "Epoch -> 120 , loss -> 728.842414855957\n",
            "recon_loss==> 165265.1396484375 || NL1==> 156189.10205078125 || NL2==> 9076.036819458008 || KLD==> 2262.692840576172\n",
            "Epoch -> 130 , loss -> 728.5934143066406\n",
            "recon_loss==> 165135.52661132812 || NL1==> 156092.13623046875 || NL2==> 9043.39193725586 || KLD==> 2306.345516204834\n",
            "Epoch -> 140 , loss -> 728.1052932739258\n",
            "recon_loss==> 165039.53588867188 || NL1==> 155903.54809570312 || NL2==> 9135.991149902344 || KLD==> 2352.1350021362305\n",
            "Epoch -> 150 , loss -> 727.060417175293\n",
            "recon_loss==> 164749.6435546875 || NL1==> 155648.05151367188 || NL2==> 9101.592529296875 || KLD==> 2404.6439514160156\n",
            "Epoch -> 160 , loss -> 725.9299392700195\n",
            "recon_loss==> 164483.44970703125 || NL1==> 155418.8310546875 || NL2==> 9064.620819091797 || KLD==> 2460.8292274475098\n",
            "Epoch -> 170 , loss -> 725.2477722167969\n",
            "recon_loss==> 164312.77026367188 || NL1==> 155239.06103515625 || NL2==> 9073.710479736328 || KLD==> 2520.8486251831055\n",
            "Epoch -> 180 , loss -> 724.5297698974609\n",
            "recon_loss==> 164204.93334960938 || NL1==> 155209.97827148438 || NL2==> 8994.956481933594 || KLD==> 2590.531391143799\n",
            "Epoch -> 190 , loss -> 723.7160110473633\n",
            "recon_loss==> 163879.07080078125 || NL1==> 154905.26293945312 || NL2==> 8973.807861328125 || KLD==> 2671.3988876342773\n",
            "Epoch -> 200 , loss -> 722.458366394043\n",
            "recon_loss==> 163649.41772460938 || NL1==> 154608.14916992188 || NL2==> 9041.268035888672 || KLD==> 2753.39217376709\n",
            "Epoch -> 210 , loss -> 721.0847854614258\n",
            "recon_loss==> 163374.12353515625 || NL1==> 154420.71728515625 || NL2==> 8953.407989501953 || KLD==> 2826.849624633789\n",
            "Epoch -> 220 , loss -> 721.2049789428711\n",
            "recon_loss==> 163215.30981445312 || NL1==> 154209.79028320312 || NL2==> 9005.51904296875 || KLD==> 2901.0016708374023\n",
            "Epoch -> 230 , loss -> 720.2169952392578\n",
            "recon_loss==> 162942.591796875 || NL1==> 154049.44897460938 || NL2==> 8893.142440795898 || KLD==> 2970.508628845215\n",
            "Epoch -> 240 , loss -> 719.9618072509766\n",
            "recon_loss==> 162881.44213867188 || NL1==> 153950.86572265625 || NL2==> 8930.577087402344 || KLD==> 3046.8014488220215\n",
            "Epoch -> 250 , loss -> 718.3449325561523\n",
            "recon_loss==> 162513.79760742188 || NL1==> 153561.388671875 || NL2==> 8952.408996582031 || KLD==> 3107.5636825561523\n",
            "Epoch -> 260 , loss -> 718.2820587158203\n",
            "recon_loss==> 162411.96264648438 || NL1==> 153500.05419921875 || NL2==> 8911.909423828125 || KLD==> 3165.5710639953613\n",
            "Epoch -> 270 , loss -> 717.4368438720703\n",
            "recon_loss==> 162197.72314453125 || NL1==> 153310.8671875 || NL2==> 8886.853942871094 || KLD==> 3223.3297996520996\n",
            "Epoch -> 280 , loss -> 717.8365249633789\n",
            "recon_loss==> 162187.34936523438 || NL1==> 153288.25927734375 || NL2==> 8899.08869934082 || KLD==> 3279.227062225342\n",
            "Epoch -> 290 , loss -> 717.6805953979492\n",
            "recon_loss==> 162021.2177734375 || NL1==> 153162.865234375 || NL2==> 8858.35205078125 || KLD==> 3323.3649520874023\n",
            "Epoch -> 300 , loss -> 716.3747177124023\n",
            "recon_loss==> 161892.20141601562 || NL1==> 153020.0703125 || NL2==> 8872.130096435547 || KLD==> 3368.2839584350586\n",
            "Epoch -> 310 , loss -> 715.1438369750977\n",
            "recon_loss==> 161682.32983398438 || NL1==> 152884.80712890625 || NL2==> 8797.52279663086 || KLD==> 3397.9827880859375\n",
            "Epoch -> 320 , loss -> 715.1790313720703\n",
            "recon_loss==> 161588.90185546875 || NL1==> 152722.4423828125 || NL2==> 8866.462692260742 || KLD==> 3449.1084899902344\n",
            "Epoch -> 330 , loss -> 715.020133972168\n",
            "recon_loss==> 161453.84106445312 || NL1==> 152641.802734375 || NL2==> 8812.039611816406 || KLD==> 3496.8683319091797\n",
            "Epoch -> 340 , loss -> 715.3073501586914\n",
            "recon_loss==> 161394.84594726562 || NL1==> 152563.84814453125 || NL2==> 8830.999084472656 || KLD==> 3530.171730041504\n",
            "Epoch -> 350 , loss -> 714.5046997070312\n",
            "recon_loss==> 161210.5927734375 || NL1==> 152378.77099609375 || NL2==> 8831.823867797852 || KLD==> 3589.377861022949\n",
            "Epoch -> 360 , loss -> 713.6207656860352\n",
            "recon_loss==> 161147.35717773438 || NL1==> 152275.64599609375 || NL2==> 8871.711242675781 || KLD==> 3640.758071899414\n",
            "Epoch -> 370 , loss -> 712.9937286376953\n",
            "recon_loss==> 160982.72241210938 || NL1==> 152163.78125 || NL2==> 8818.939254760742 || KLD==> 3686.960006713867\n",
            "Epoch -> 380 , loss -> 712.2875061035156\n",
            "recon_loss==> 160816.35034179688 || NL1==> 151978.59106445312 || NL2==> 8837.758911132812 || KLD==> 3726.968116760254\n",
            "Epoch -> 390 , loss -> 712.2302932739258\n",
            "recon_loss==> 160717.49047851562 || NL1==> 151922.68798828125 || NL2==> 8794.802307128906 || KLD==> 3769.7943801879883\n",
            "Epoch -> 400 , loss -> 712.4906005859375\n",
            "recon_loss==> 160712.5146484375 || NL1==> 151893.99658203125 || NL2==> 8818.519927978516 || KLD==> 3805.201026916504\n",
            "Epoch -> 410 , loss -> 712.4228057861328\n",
            "recon_loss==> 160654.28735351562 || NL1==> 151833.84521484375 || NL2==> 8820.441284179688 || KLD==> 3826.6457290649414\n",
            "Epoch -> 420 , loss -> 711.7587356567383\n",
            "recon_loss==> 160458.60375976562 || NL1==> 151627.13427734375 || NL2==> 8831.468627929688 || KLD==> 3859.9647216796875\n",
            "Epoch -> 430 , loss -> 711.7651901245117\n",
            "recon_loss==> 160401.0166015625 || NL1==> 151591.4248046875 || NL2==> 8809.591690063477 || KLD==> 3889.5495986938477\n",
            "Epoch -> 440 , loss -> 711.7643051147461\n",
            "recon_loss==> 160430.02807617188 || NL1==> 151596.55639648438 || NL2==> 8833.470397949219 || KLD==> 3921.810287475586\n",
            "Epoch -> 450 , loss -> 710.7887344360352\n",
            "recon_loss==> 160198.9384765625 || NL1==> 151406.14428710938 || NL2==> 8792.792022705078 || KLD==> 3964.3435668945312\n",
            "Epoch -> 460 , loss -> 710.6949691772461\n",
            "recon_loss==> 160105.7998046875 || NL1==> 151286.9052734375 || NL2==> 8818.894973754883 || KLD==> 3994.818634033203\n",
            "Epoch -> 470 , loss -> 710.5316467285156\n",
            "recon_loss==> 160029.333984375 || NL1==> 151260.50805664062 || NL2==> 8768.826843261719 || KLD==> 4027.320571899414\n",
            "Epoch -> 480 , loss -> 710.127815246582\n",
            "recon_loss==> 160056.20361328125 || NL1==> 151189.90356445312 || NL2==> 8866.300323486328 || KLD==> 4050.149688720703\n",
            "Epoch -> 490 , loss -> 709.7916946411133\n",
            "recon_loss==> 159920.96704101562 || NL1==> 151112.068359375 || NL2==> 8808.898345947266 || KLD==> 4063.0062408447266\n",
            "Epoch -> 500 , loss -> 708.7406921386719\n",
            "recon_loss==> 159701.2431640625 || NL1==> 150871.13720703125 || NL2==> 8830.107147216797 || KLD==> 4084.895523071289\n",
            "Epoch -> 510 , loss -> 708.9026947021484\n",
            "recon_loss==> 159684.3486328125 || NL1==> 150861.59033203125 || NL2==> 8822.756286621094 || KLD==> 4129.599639892578\n",
            "Epoch -> 520 , loss -> 708.9468383789062\n",
            "recon_loss==> 159640.5390625 || NL1==> 150829.2646484375 || NL2==> 8811.27603149414 || KLD==> 4170.185409545898\n",
            "Epoch -> 530 , loss -> 708.8168258666992\n",
            "recon_loss==> 159580.91552734375 || NL1==> 150791.4296875 || NL2==> 8789.485214233398 || KLD==> 4203.891952514648\n",
            "Epoch -> 540 , loss -> 707.1996078491211\n",
            "recon_loss==> 159347.58154296875 || NL1==> 150615.72314453125 || NL2==> 8731.858108520508 || KLD==> 4219.647972106934\n",
            "Epoch -> 550 , loss -> 708.0102462768555\n",
            "recon_loss==> 159487.7255859375 || NL1==> 150674.6142578125 || NL2==> 8813.111907958984 || KLD==> 4235.386650085449\n",
            "Epoch -> 560 , loss -> 707.1670379638672\n",
            "recon_loss==> 159304.0947265625 || NL1==> 150515.85083007812 || NL2==> 8788.244873046875 || KLD==> 4253.965957641602\n",
            "Epoch -> 570 , loss -> 707.2968215942383\n",
            "recon_loss==> 159230.0234375 || NL1==> 150467.63623046875 || NL2==> 8762.386962890625 || KLD==> 4287.917663574219\n",
            "Epoch -> 580 , loss -> 707.5503082275391\n",
            "recon_loss==> 159254.68994140625 || NL1==> 150410.21142578125 || NL2==> 8844.480026245117 || KLD==> 4314.971939086914\n",
            "Epoch -> 590 , loss -> 707.1659164428711\n",
            "recon_loss==> 159194.52709960938 || NL1==> 150374.24072265625 || NL2==> 8820.286590576172 || KLD==> 4339.870498657227\n",
            "Epoch -> 600 , loss -> 706.1762542724609\n",
            "recon_loss==> 158935.58227539062 || NL1==> 150128.25341796875 || NL2==> 8807.330383300781 || KLD==> 4359.954147338867\n",
            "Epoch -> 610 , loss -> 705.6587677001953\n",
            "recon_loss==> 158873.9794921875 || NL1==> 150104.33471679688 || NL2==> 8769.644012451172 || KLD==> 4381.038040161133\n",
            "Epoch -> 620 , loss -> 706.0913543701172\n",
            "recon_loss==> 158950.79907226562 || NL1==> 150139.01513671875 || NL2==> 8811.783187866211 || KLD==> 4384.937644958496\n",
            "Epoch -> 630 , loss -> 706.4280090332031\n",
            "recon_loss==> 158930.08081054688 || NL1==> 150102.21606445312 || NL2==> 8827.861251831055 || KLD==> 4403.804626464844\n",
            "Epoch -> 640 , loss -> 704.8661575317383\n",
            "recon_loss==> 158736.94482421875 || NL1==> 149950.57666015625 || NL2==> 8786.3671875 || KLD==> 4436.686141967773\n",
            "Epoch -> 650 , loss -> 705.6060104370117\n",
            "recon_loss==> 158691.6591796875 || NL1==> 149873.01953125 || NL2==> 8818.639526367188 || KLD==> 4457.5469970703125\n",
            "Epoch -> 660 , loss -> 705.0861740112305\n",
            "recon_loss==> 158621.57788085938 || NL1==> 149801.89208984375 || NL2==> 8819.684112548828 || KLD==> 4484.786827087402\n",
            "Epoch -> 670 , loss -> 705.575798034668\n",
            "recon_loss==> 158604.220703125 || NL1==> 149801.4248046875 || NL2==> 8802.795837402344 || KLD==> 4519.744003295898\n",
            "Epoch -> 680 , loss -> 703.625\n",
            "recon_loss==> 158361.94311523438 || NL1==> 149568.9951171875 || NL2==> 8792.948669433594 || KLD==> 4565.701065063477\n",
            "Epoch -> 690 , loss -> 703.575553894043\n",
            "recon_loss==> 158390.37133789062 || NL1==> 149594.96923828125 || NL2==> 8795.401824951172 || KLD==> 4578.9392166137695\n",
            "Epoch -> 700 , loss -> 703.7271118164062\n",
            "recon_loss==> 158354.29370117188 || NL1==> 149564.57885742188 || NL2==> 8789.714981079102 || KLD==> 4574.830780029297\n",
            "Epoch -> 710 , loss -> 703.6742477416992\n",
            "recon_loss==> 158229.38720703125 || NL1==> 149416.2373046875 || NL2==> 8813.153350830078 || KLD==> 4591.545959472656\n",
            "Epoch -> 720 , loss -> 704.0021362304688\n",
            "recon_loss==> 158293.13159179688 || NL1==> 149457.734375 || NL2==> 8835.396255493164 || KLD==> 4619.977233886719\n",
            "Epoch -> 730 , loss -> 702.7736968994141\n",
            "recon_loss==> 158100.71752929688 || NL1==> 149290.83251953125 || NL2==> 8809.883483886719 || KLD==> 4660.048416137695\n",
            "Epoch -> 740 , loss -> 704.0044326782227\n",
            "recon_loss==> 158219.83349609375 || NL1==> 149411.71459960938 || NL2==> 8808.119995117188 || KLD==> 4668.887344360352\n",
            "Epoch -> 750 , loss -> 703.9646072387695\n",
            "recon_loss==> 158158.748046875 || NL1==> 149371.34521484375 || NL2==> 8787.40298461914 || KLD==> 4685.574630737305\n",
            "Epoch -> 760 , loss -> 704.1420440673828\n",
            "recon_loss==> 158061.35668945312 || NL1==> 149269.5341796875 || NL2==> 8791.820495605469 || KLD==> 4698.682815551758\n",
            "Epoch -> 770 , loss -> 702.8190689086914\n",
            "recon_loss==> 157952.78784179688 || NL1==> 149149.951171875 || NL2==> 8802.836181640625 || KLD==> 4718.186058044434\n",
            "Epoch -> 780 , loss -> 703.1990280151367\n",
            "recon_loss==> 158012.72216796875 || NL1==> 149213.82958984375 || NL2==> 8798.894241333008 || KLD==> 4731.2244873046875\n",
            "Epoch -> 790 , loss -> 702.4942626953125\n",
            "recon_loss==> 157818.66674804688 || NL1==> 149052.31665039062 || NL2==> 8766.348937988281 || KLD==> 4745.294143676758\n",
            "Epoch -> 800 , loss -> 701.4100494384766\n",
            "recon_loss==> 157701.06909179688 || NL1==> 148910.58154296875 || NL2==> 8790.485488891602 || KLD==> 4757.720817565918\n",
            "Epoch -> 810 , loss -> 701.5683517456055\n",
            "recon_loss==> 157723.06640625 || NL1==> 148902.21728515625 || NL2==> 8820.848358154297 || KLD==> 4764.9534912109375\n",
            "Epoch -> 820 , loss -> 701.2588806152344\n",
            "recon_loss==> 157712.50903320312 || NL1==> 148903.62890625 || NL2==> 8808.88264465332 || KLD==> 4782.733917236328\n",
            "Epoch -> 830 , loss -> 701.83837890625\n",
            "recon_loss==> 157713.826171875 || NL1==> 148917.99609375 || NL2==> 8795.829330444336 || KLD==> 4814.6171875\n",
            "Epoch -> 840 , loss -> 701.23974609375\n",
            "recon_loss==> 157635.75244140625 || NL1==> 148812.91430664062 || NL2==> 8822.837097167969 || KLD==> 4832.815353393555\n",
            "Epoch -> 850 , loss -> 700.7198791503906\n",
            "recon_loss==> 157569.25 || NL1==> 148785.56030273438 || NL2==> 8783.689407348633 || KLD==> 4844.422500610352\n",
            "Epoch -> 860 , loss -> 701.4939727783203\n",
            "recon_loss==> 157484.58276367188 || NL1==> 148717.17431640625 || NL2==> 8767.407913208008 || KLD==> 4853.584579467773\n",
            "Epoch -> 870 , loss -> 700.8853073120117\n",
            "recon_loss==> 157523.3447265625 || NL1==> 148740.7861328125 || NL2==> 8782.559158325195 || KLD==> 4868.253868103027\n",
            "Epoch -> 880 , loss -> 699.8454818725586\n",
            "recon_loss==> 157302.9921875 || NL1==> 148486.9970703125 || NL2==> 8815.995208740234 || KLD==> 4879.313232421875\n",
            "Epoch -> 890 , loss -> 700.6776580810547\n",
            "recon_loss==> 157431.77001953125 || NL1==> 148609.96264648438 || NL2==> 8821.808395385742 || KLD==> 4892.237457275391\n",
            "Epoch -> 900 , loss -> 699.7644653320312\n",
            "recon_loss==> 157386.37524414062 || NL1==> 148573.75048828125 || NL2==> 8812.626159667969 || KLD==> 4921.471054077148\n",
            "Epoch -> 910 , loss -> 699.5320587158203\n",
            "recon_loss==> 157178.54418945312 || NL1==> 148395.4091796875 || NL2==> 8783.134735107422 || KLD==> 4939.496871948242\n",
            "Epoch -> 920 , loss -> 699.8345794677734\n",
            "recon_loss==> 157211.1689453125 || NL1==> 148434.96215820312 || NL2==> 8776.205444335938 || KLD==> 4935.867568969727\n",
            "Epoch -> 930 , loss -> 700.6879577636719\n",
            "recon_loss==> 157271.44580078125 || NL1==> 148457.7412109375 || NL2==> 8813.706085205078 || KLD==> 4936.042617797852\n",
            "Epoch -> 940 , loss -> 699.9634780883789\n",
            "recon_loss==> 157269.95874023438 || NL1==> 148477.97314453125 || NL2==> 8791.98323059082 || KLD==> 4949.674713134766\n",
            "Epoch -> 950 , loss -> 699.09375\n",
            "recon_loss==> 157107.80102539062 || NL1==> 148332.11206054688 || NL2==> 8775.687713623047 || KLD==> 4968.203796386719\n",
            "Epoch -> 960 , loss -> 699.1790390014648\n",
            "recon_loss==> 157126.515625 || NL1==> 148334.83032226562 || NL2==> 8791.684799194336 || KLD==> 4984.440460205078\n",
            "Epoch -> 970 , loss -> 698.7682647705078\n",
            "recon_loss==> 156984.39013671875 || NL1==> 148183.0908203125 || NL2==> 8801.300048828125 || KLD==> 4989.163879394531\n",
            "Epoch -> 980 , loss -> 698.6986465454102\n",
            "recon_loss==> 157024.35888671875 || NL1==> 148225.6376953125 || NL2==> 8798.719329833984 || KLD==> 4999.37467956543\n",
            "Epoch -> 990 , loss -> 699.5974426269531\n",
            "recon_loss==> 157070.22534179688 || NL1==> 148203.83251953125 || NL2==> 8866.393829345703 || KLD==> 5006.249282836914\n"
          ]
        }
      ],
      "source": [
        "## Preparing model parameters\n",
        "def get_paramters(embedding_tensor_sorted_alp,embedding_tensor_keywords,device):\n",
        "  num_keyword = embedding_tensor_keywords.shape[0]\n",
        "  emb_size = embedding_tensor_keywords.shape[1]\n",
        "  cos_sim = nn.CosineSimilarity(dim=-1, eps=1e-8)\n",
        "  embedding_tensor_words = embedding_tensor_sorted_alp.to(device)\n",
        "  embedding_tensor_keywords = embedding_tensor_keywords.to(device)\n",
        "  return num_keyword,emb_size,cos_sim,embedding_tensor_words,embedding_tensor_keywords\n",
        "\n",
        "num_keyword,emb_size,cos_sim,embedding_tensor_words,embedding_tensor_keywords = get_paramters(embedding_tensor_sorted_alp,embedding_tensor_keywords,device)\n",
        "kld_arr,recon_arr,neg_log_rscore_arr = [],[],[]\n",
        "all_indices = torch.randperm(train_vec.shape[0]).split(bs)\n",
        "\n",
        "### Model training starts here...\n",
        "\n",
        "model = Model(num_input, en1_units_x, en2_units_x, num_coordinate, num_topic, drop_rate, variance_x, bs,\n",
        "              embedding_tensor_words,embedding_tensor_keywords,emb_size,num_keyword, \"inverse_quadratic\") # gaussian , inverse_quadratic\n",
        "\n",
        "model.to(device)\n",
        "\n",
        "optimizer = optim.Adam(model.parameters(), learning_rate, betas=(beta1, beta2)) # weight_decay=0.01 - L2 for loss\n",
        "\n",
        "def get_cosine_for_model(all_keywords_score, keywords_max_score,device):\n",
        "\n",
        "  cosine_score = list_of_tensors_to_tensor(all_keywords_score).to(device) # Model 4,5.1,5.3,5.4\n",
        "  return cosine_score\n",
        "\n",
        "# >> pass params to forward (cosine , filter, etc..)\n",
        "\n",
        "most_sim_key = most_sim_key_V_K1.to(device)\n",
        "word_filter = filter.to(device)\n",
        "norm_cos_score = val.to(device)\n",
        "\n",
        "# gaus_dist_w_k_device = gaus_dist_w_k.to(device)\n",
        "for epoch in range(epochs):\n",
        "\n",
        "    x_coord_train_list = [] ## Vis while training\n",
        "    labels_list = [] ## Vis while training\n",
        "\n",
        "    loss_u_epoch = 0.0 ## NL loss\n",
        "    loss_KLD = 0.0  ## KL loss\n",
        "    loss_epoch = 0.0 ## Loss per batch\n",
        "    loss_NL1_epoch = 0.0\n",
        "    loss_NL2_epoch = 0.0\n",
        "\n",
        "    model.train()\n",
        "    for batch_ndx in all_indices:\n",
        "        if data_islarge:\n",
        "           input_w = torch.from_numpy(train_vec[batch_ndx].toarray()).float().to(device) ## for large dataset\n",
        "        else: input_w = tensor_train_w[batch_ndx].to(device)\n",
        "\n",
        "        labels = train_label[batch_ndx]\n",
        "\n",
        "        recon_v, zx, (loss, loss_u,loss_NL1,loss_NL2, xkl_loss) = model(input_w,most_sim_key,word_filter,norm_cos_score,compute_loss=True)\n",
        "        zx = zx.view(-1, num_coordinate).data.detach().cpu().numpy()\n",
        "\n",
        "        x_coord_train_list.extend(zx) ## Vis while training\n",
        "        labels_list.extend(labels) ## Vis while training\n",
        "\n",
        "        optimizer.zero_grad()\n",
        "        loss.backward()\n",
        "        optimizer.step()\n",
        "\n",
        "        loss_epoch += loss.item()\n",
        "        loss_u_epoch += loss_u.item()\n",
        "        loss_KLD += xkl_loss.item()\n",
        "        loss_NL1_epoch += loss_NL1.item()\n",
        "        loss_NL2_epoch += loss_NL2.item()\n",
        "\n",
        "    kld_arr.append(loss_KLD)\n",
        "    recon_arr.append(loss_u_epoch)\n",
        "\n",
        "    if epoch % 10 == 0:\n",
        "        print('Epoch -> {} , loss -> {}'.format(epoch,loss_epoch))\n",
        "        print('recon_loss==> {} || NL1==> {} || NL2==> {} || KLD==> {}'.format(loss_u_epoch,loss_NL1_epoch,loss_NL2_epoch, loss_KLD))\n",
        "\n",
        "    # ## Vis while training\n",
        "    # zphi = model.decoder_phi_bn(model.topics).data.cpu().numpy()\n",
        "    # query_center = model.query_center.data.cpu().numpy()\n",
        "    # query_words = model.decoder_k_bn(model.keyword_coords).data.cpu().numpy()\n",
        "    # query_words = (model.keyword_coords).data.cpu().numpy()\n",
        "    # x_coord_train_list = np.array(x_coord_train_list)\n",
        "    # labels_list = np.array(labels_list)\n",
        "    # keyword_vis_labels = get_keywords(d_data)+['dummy']\n",
        "    # if epoch %100 ==0:\n",
        "    #   plot_fig(x_coord_train_list, labels_list, zphi,query_center,query_words=query_words,\n",
        "    #      keywords=keyword_vis_labels,lim =20,contour='yes')"
      ]
    },
    {
      "cell_type": "markdown",
      "metadata": {
        "id": "JM0IBTQv_s8T"
      },
      "source": [
        "## **Testing & Visualizations**"
      ]
    },
    {
      "cell_type": "code",
      "execution_count": null,
      "metadata": {
        "id": "WPXzCVFuO0_n",
        "colab": {
          "base_uri": "https://localhost:8080/"
        },
        "outputId": "7bccb3d3-e7eb-4e9a-8fb6-ffa335053fdf"
      },
      "outputs": [
        {
          "output_type": "display_data",
          "data": {
            "text/html": [
              "<html>\n",
              "<head><meta charset=\"utf-8\" /></head>\n",
              "<body>\n",
              "    <div>            <script src=\"https://cdnjs.cloudflare.com/ajax/libs/mathjax/2.7.5/MathJax.js?config=TeX-AMS-MML_SVG\"></script><script type=\"text/javascript\">if (window.MathJax) {MathJax.Hub.Config({SVG: {font: \"STIX-Web\"}});}</script>                <script type=\"text/javascript\">window.PlotlyConfig = {MathJaxConfig: 'local'};</script>\n",
              "        <script src=\"https://cdn.plot.ly/plotly-2.8.3.min.js\"></script>                <div id=\"b8ae127d-87dc-47b9-b0f9-45ffe2685cb7\" class=\"plotly-graph-div\" style=\"height:525px; width:100%;\"></div>            <script type=\"text/javascript\">                                    window.PLOTLYENV=window.PLOTLYENV || {};                                    if (document.getElementById(\"b8ae127d-87dc-47b9-b0f9-45ffe2685cb7\")) {                    Plotly.newPlot(                        \"b8ae127d-87dc-47b9-b0f9-45ffe2685cb7\",                        [{\"mode\":\"lines\",\"name\":\"Recon\",\"x\":[1,2,3,4,5,6,7,8,9,10,11,12,13,14,15,16,17,18,19,20,21,22,23,24,25,26,27,28,29,30,31,32,33,34,35,36,37,38,39,40,41,42,43,44,45,46,47,48,49,50,51,52,53,54,55,56,57,58,59,60,61,62,63,64,65,66,67,68,69,70,71,72,73,74,75,76,77,78,79,80,81,82,83,84,85,86,87,88,89,90,91,92,93,94,95,96,97,98,99,100,101,102,103,104,105,106,107,108,109,110,111,112,113,114,115,116,117,118,119,120,121,122,123,124,125,126,127,128,129,130,131,132,133,134,135,136,137,138,139,140,141,142,143,144,145,146,147,148,149,150,151,152,153,154,155,156,157,158,159,160,161,162,163,164,165,166,167,168,169,170,171,172,173,174,175,176,177,178,179,180,181,182,183,184,185,186,187,188,189,190,191,192,193,194,195,196,197,198,199,200,201,202,203,204,205,206,207,208,209,210,211,212,213,214,215,216,217,218,219,220,221,222,223,224,225,226,227,228,229,230,231,232,233,234,235,236,237,238,239,240,241,242,243,244,245,246,247,248,249,250,251,252,253,254,255,256,257,258,259,260,261,262,263,264,265,266,267,268,269,270,271,272,273,274,275,276,277,278,279,280,281,282,283,284,285,286,287,288,289,290,291,292,293,294,295,296,297,298,299,300,301,302,303,304,305,306,307,308,309,310,311,312,313,314,315,316,317,318,319,320,321,322,323,324,325,326,327,328,329,330,331,332,333,334,335,336,337,338,339,340,341,342,343,344,345,346,347,348,349,350,351,352,353,354,355,356,357,358,359,360,361,362,363,364,365,366,367,368,369,370,371,372,373,374,375,376,377,378,379,380,381,382,383,384,385,386,387,388,389,390,391,392,393,394,395,396,397,398,399,400,401,402,403,404,405,406,407,408,409,410,411,412,413,414,415,416,417,418,419,420,421,422,423,424,425,426,427,428,429,430,431,432,433,434,435,436,437,438,439,440,441,442,443,444,445,446,447,448,449,450,451,452,453,454,455,456,457,458,459,460,461,462,463,464,465,466,467,468,469,470,471,472,473,474,475,476,477,478,479,480,481,482,483,484,485,486,487,488,489,490,491,492,493,494,495,496,497,498,499,500,501,502,503,504,505,506,507,508,509,510,511,512,513,514,515,516,517,518,519,520,521,522,523,524,525,526,527,528,529,530,531,532,533,534,535,536,537,538,539,540,541,542,543,544,545,546,547,548,549,550,551,552,553,554,555,556,557,558,559,560,561,562,563,564,565,566,567,568,569,570,571,572,573,574,575,576,577,578,579,580,581,582,583,584,585,586,587,588,589,590,591,592,593,594,595,596,597,598,599,600,601,602,603,604,605,606,607,608,609,610,611,612,613,614,615,616,617,618,619,620,621,622,623,624,625,626,627,628,629,630,631,632,633,634,635,636,637,638,639,640,641,642,643,644,645,646,647,648,649,650,651,652,653,654,655,656,657,658,659,660,661,662,663,664,665,666,667,668,669,670,671,672,673,674,675,676,677,678,679,680,681,682,683,684,685,686,687,688,689,690,691,692,693,694,695,696,697,698,699,700,701,702,703,704,705,706,707,708,709,710,711,712,713,714,715,716,717,718,719,720,721,722,723,724,725,726,727,728,729,730,731,732,733,734,735,736,737,738,739,740,741,742,743,744,745,746,747,748,749,750,751,752,753,754,755,756,757,758,759,760,761,762,763,764,765,766,767,768,769,770,771,772,773,774,775,776,777,778,779,780,781,782,783,784,785,786,787,788,789,790,791,792,793,794,795,796,797,798,799,800,801,802,803,804,805,806,807,808,809,810,811,812,813,814,815,816,817,818,819,820,821,822,823,824,825,826,827,828,829,830,831,832,833,834,835,836,837,838,839,840,841,842,843,844,845,846,847,848,849,850,851,852,853,854,855,856,857,858,859,860,861,862,863,864,865,866,867,868,869,870,871,872,873,874,875,876,877,878,879,880,881,882,883,884,885,886,887,888,889,890,891,892,893,894,895,896,897,898,899,900,901,902,903,904,905,906,907,908,909,910,911,912,913,914,915,916,917,918,919,920,921,922,923,924,925,926,927,928,929,930,931,932,933,934,935,936,937,938,939,940,941,942,943,944,945,946,947,948,949,950,951,952,953,954,955,956,957,958,959,960,961,962,963,964,965,966,967,968,969,970,971,972,973,974,975,976,977,978,979,980,981,982,983,984,985,986,987,988,989,990,991,992,993,994,995,996,997,998,999,1000],\"y\":[181091.31860351562,175839.36962890625,173854.45434570312,172976.17358398438,172309.79296875,171979.98022460938,171841.93603515625,171380.01440429688,171273.009765625,171092.78930664062,170889.72583007812,170691.70068359375,170391.77954101562,170348.7783203125,170338.74682617188,170222.96215820312,169983.43896484375,170002.32055664062,169929.31616210938,169863.8681640625,169922.51147460938,169795.76440429688,169793.87060546875,169703.18969726562,169747.13916015625,169688.10986328125,169488.29077148438,169652.02368164062,169353.02783203125,169380.61254882812,169467.767578125,169438.94653320312,169305.88793945312,169299.50903320312,169390.16650390625,169405.45874023438,169092.884765625,169098.53295898438,169119.94702148438,168991.97729492188,169045.6298828125,168799.37866210938,169022.87622070312,168738.94018554688,168701.24194335938,168606.96142578125,168604.45849609375,168755.96044921875,168561.40747070312,168542.48901367188,168493.89282226562,168548.572265625,168332.48583984375,168282.47045898438,168123.72387695312,168192.18041992188,168108.9375,168105.65795898438,167988.7041015625,167952.43896484375,167832.54663085938,167804.18212890625,167734.6162109375,167876.19702148438,167692.58569335938,167553.966796875,167621.77172851562,167334.255859375,167317.74291992188,167355.0986328125,167394.3076171875,167185.482421875,167238.15112304688,167074.94848632812,167016.07739257812,166999.92236328125,167014.751953125,166809.9560546875,166861.36669921875,166689.13305664062,166791.390625,166570.36474609375,166663.5029296875,166582.66259765625,166496.77197265625,166471.51928710938,166435.07421875,166316.04467773438,166257.49731445312,166324.83935546875,166218.09619140625,166162.13671875,166060.8896484375,166286.11328125,166082.92041015625,166136.04467773438,165967.94140625,165974.2841796875,165903.0322265625,165929.93994140625,165921.22998046875,165899.5322265625,165887.83471679688,165872.01782226562,165862.48828125,165606.56201171875,165750.00805664062,165722.04736328125,165613.65942382812,165685.1357421875,165615.50415039062,165573.62841796875,165414.10375976562,165647.50170898438,165468.53930664062,165468.70141601562,165373.50463867188,165367.146484375,165338.15649414062,165341.9677734375,165265.1396484375,165334.1337890625,165300.1162109375,165204.40551757812,165160.85278320312,165143.25756835938,165177.34350585938,165165.23217773438,165005.90869140625,165102.40625,165135.52661132812,165023.37426757812,165002.51684570312,164979.109375,165023.97021484375,165078.6318359375,164865.38745117188,164940.93969726562,164910.19970703125,164920.73828125,165039.53588867188,164933.189453125,164857.12475585938,164849.40942382812,164849.47680664062,164784.02490234375,164662.44799804688,164726.35083007812,164642.51782226562,164586.18432617188,164749.6435546875,164683.49658203125,164736.95703125,164716.1748046875,164743.89916992188,164595.1943359375,164572.48168945312,164592.28173828125,164543.99877929688,164463.29296875,164483.44970703125,164376.66577148438,164479.89453125,164494.73193359375,164355.71533203125,164388.1552734375,164346.921875,164342.77880859375,164372.34008789062,164350.23120117188,164312.77026367188,164300.91186523438,164240.75219726562,164137.1494140625,164228.48217773438,164182.87109375,164156.841796875,164119.92138671875,164114.0791015625,164109.77978515625,164204.93334960938,164031.78271484375,164072.24829101562,164101.13134765625,163960.96923828125,163911.81396484375,163864.29028320312,163883.57421875,163985.55151367188,163752.236328125,163879.07080078125,163861.80419921875,163844.26928710938,163819.4130859375,163801.51220703125,163619.33911132812,163674.84887695312,163641.05004882812,163630.43627929688,163592.45581054688,163649.41772460938,163546.7158203125,163587.01123046875,163581.10717773438,163555.75024414062,163517.31176757812,163401.36791992188,163401.25561523438,163438.49096679688,163420.66479492188,163374.12353515625,163384.41943359375,163423.15576171875,163441.01635742188,163321.70556640625,163330.17724609375,163253.3369140625,163235.52758789062,163193.79736328125,163148.63745117188,163215.30981445312,163089.59936523438,163128.47216796875,163078.29077148438,163079.41650390625,163140.298828125,162997.90551757812,163122.62524414062,163052.71508789062,162996.57641601562,162942.591796875,163023.32568359375,162979.98364257812,163025.724609375,162900.13818359375,162833.33935546875,162857.12622070312,162769.65185546875,162889.6005859375,162736.10888671875,162881.44213867188,162781.92211914062,162606.54370117188,162723.53466796875,162702.31298828125,162580.3173828125,162713.12670898438,162716.61840820312,162711.1201171875,162532.60180664062,162513.79760742188,162616.31640625,162559.44750976562,162499.5244140625,162534.6875,162522.71923828125,162560.04760742188,162487.357421875,162488.68505859375,162497.66040039062,162411.96264648438,162555.78833007812,162421.96337890625,162380.66088867188,162430.09790039062,162246.26904296875,162352.3251953125,162234.50634765625,162359.7724609375,162283.39208984375,162197.72314453125,162260.22338867188,162213.06225585938,162190.55419921875,162293.20581054688,162186.8857421875,162155.11645507812,162151.53442382812,162131.00512695312,162221.12475585938,162187.34936523438,162060.24975585938,162172.32397460938,161956.82104492188,162004.67041015625,162049.07104492188,162109.5185546875,161996.6171875,161926.35717773438,162007.7470703125,162021.2177734375,162007.63330078125,161992.65844726562,161969.28173828125,161996.69750976562,161936.61669921875,161922.73876953125,161864.65478515625,161934.55346679688,161853.62084960938,161892.20141601562,161831.615234375,161772.09814453125,161689.04711914062,161794.1259765625,161796.25903320312,161758.67895507812,161858.03833007812,161774.9453125,161830.62646484375,161682.32983398438,161775.69677734375,161755.46728515625,161739.17602539062,161719.603515625,161672.79418945312,161499.47045898438,161623.09008789062,161688.24096679688,161586.78515625,161588.90185546875,161543.5869140625,161482.33447265625,161553.16284179688,161534.99975585938,161530.51391601562,161537.82348632812,161480.58154296875,161532.91137695312,161441.0595703125,161453.84106445312,161327.75708007812,161385.0546875,161313.15380859375,161394.28198242188,161440.26318359375,161381.736328125,161559.41333007812,161386.3134765625,161346.70825195312,161394.84594726562,161342.33349609375,161326.20043945312,161366.68090820312,161208.29272460938,161195.61669921875,161276.34423828125,161319.35498046875,161205.09155273438,161288.1728515625,161210.5927734375,161244.30419921875,161206.98608398438,161272.25659179688,161099.14453125,161171.8671875,161146.87841796875,161089.4306640625,161166.30395507812,161189.27783203125,161147.35717773438,161075.56958007812,161104.90771484375,161113.47143554688,161129.87622070312,161039.02392578125,161039.88500976562,161037.73608398438,160975.26806640625,161013.00903320312,160982.72241210938,160975.80151367188,160989.6416015625,160886.4501953125,160977.69091796875,160895.46606445312,160879.04931640625,160846.7958984375,160977.76440429688,160874.74340820312,160816.35034179688,160887.759765625,160990.265625,160758.23681640625,160988.2607421875,160852.19140625,160970.22021484375,160864.82470703125,160858.82861328125,160782.31201171875,160717.49047851562,160825.6884765625,160755.98022460938,160685.5224609375,160737.69750976562,160713.62939453125,160702.54516601562,160625.353515625,160693.3857421875,160578.74096679688,160712.5146484375,160712.73681640625,160710.79443359375,160581.494140625,160659.875,160652.00341796875,160603.98193359375,160666.3564453125,160578.91821289062,160643.0556640625,160654.28735351562,160623.83251953125,160511.94580078125,160558.80078125,160520.90063476562,160629.39721679688,160543.30297851562,160555.896484375,160409.939453125,160462.29174804688,160458.60375976562,160462.767578125,160526.67041015625,160361.75146484375,160426.88208007812,160348.8955078125,160320.07299804688,160537.04833984375,160429.7373046875,160420.39868164062,160401.0166015625,160423.28588867188,160344.01611328125,160267.1416015625,160434.96923828125,160339.5107421875,160395.70751953125,160339.958984375,160376.34619140625,160440.63330078125,160430.02807617188,160375.185546875,160191.646484375,160306.3701171875,160195.9853515625,160286.54541015625,160297.54614257812,160379.02807617188,160216.02026367188,160311.83862304688,160198.9384765625,160197.22412109375,160206.01538085938,160176.27978515625,160178.50756835938,160219.28833007812,160081.75024414062,160169.82250976562,160076.5849609375,160187.49047851562,160105.7998046875,160111.94140625,160001.60229492188,160091.2509765625,160164.9931640625,160066.45825195312,160040.888671875,160135.44775390625,160061.61865234375,159993.20092773438,160029.333984375,160017.830078125,159963.73974609375,159951.76806640625,160074.46240234375,160100.58715820312,159899.35009765625,159992.87182617188,159939.96728515625,160059.6630859375,160056.20361328125,159930.2744140625,159880.7099609375,159826.06958007812,159875.06298828125,159898.4365234375,159809.00854492188,159883.79541015625,159778.75341796875,159888.74267578125,159920.96704101562,159761.02661132812,159830.17919921875,159898.21630859375,159843.31176757812,159732.20971679688,159816.171875,159820.17309570312,159879.4248046875,159821.22216796875,159701.2431640625,159940.38916015625,159810.84643554688,159700.06665039062,159666.3798828125,159685.85546875,159697.59033203125,159643.72119140625,159785.45361328125,159750.18334960938,159684.3486328125,159753.15161132812,159658.24194335938,159580.71923828125,159749.64501953125,159691.4228515625,159627.48999023438,159562.20678710938,159639.88671875,159674.15942382812,159640.5390625,159614.6083984375,159639.05615234375,159551.27001953125,159670.36938476562,159494.72143554688,159525.5703125,159482.64135742188,159442.25122070312,159608.2626953125,159580.91552734375,159485.2265625,159406.94995117188,159473.45922851562,159471.2109375,159552.78466796875,159434.57495117188,159564.24633789062,159494.611328125,159489.00634765625,159347.58154296875,159401.40063476562,159553.7353515625,159437.90844726562,159523.33569335938,159407.3720703125,159510.26806640625,159477.33813476562,159295.77734375,159475.76586914062,159487.7255859375,159386.6376953125,159288.37255859375,159385.69555664062,159365.84448242188,159387.30834960938,159401.52124023438,159356.96044921875,159291.67138671875,159375.06958007812,159304.0947265625,159458.89599609375,159265.81591796875,159348.919921875,159280.3095703125,159235.64575195312,159348.57006835938,159245.7109375,159235.2998046875,159246.04150390625,159230.0234375,159190.54809570312,159181.20288085938,159273.3212890625,159294.2529296875,159095.69653320312,159145.33447265625,159238.94580078125,159147.12768554688,159072.96362304688,159254.68994140625,159233.22705078125,159173.92333984375,159258.22216796875,159213.69311523438,159193.56469726562,159090.27490234375,159137.77880859375,159066.580078125,159207.884765625,159194.52709960938,159132.96533203125,159050.79125976562,159115.64331054688,158967.83837890625,159004.38842773438,159115.173828125,158977.6474609375,159177.16357421875,159083.9462890625,158935.58227539062,159010.98999023438,158939.67724609375,159103.13916015625,158984.01123046875,158995.3212890625,158962.361328125,158869.1435546875,158972.7236328125,158977.0478515625,158873.9794921875,158912.6484375,158996.6162109375,158869.68139648438,159042.97338867188,158898.02294921875,158876.57568359375,158911.09106445312,158905.86157226562,158870.41088867188,158950.79907226562,158847.7470703125,158921.1796875,158853.53540039062,158863.12646484375,158812.84521484375,158902.89990234375,158822.97998046875,158844.0009765625,158972.05004882812,158930.08081054688,158812.4814453125,158855.61572265625,158868.57446289062,158840.11499023438,158694.44921875,158799.34326171875,158709.48291015625,158762.8818359375,158809.92431640625,158736.94482421875,158862.369140625,158736.93579101562,158751.28295898438,158785.32397460938,158583.46875,158694.72192382812,158766.14965820312,158653.25830078125,158655.41235351562,158691.6591796875,158836.94873046875,158612.90795898438,158734.14501953125,158723.67700195312,158611.99462890625,158624.0595703125,158632.04516601562,158634.671875,158635.74365234375,158621.57788085938,158582.48291015625,158617.83032226562,158573.92407226562,158643.58935546875,158700.19653320312,158664.12084960938,158541.24487304688,158584.97924804688,158422.66577148438,158604.220703125,158567.12890625,158519.78588867188,158431.5556640625,158479.330078125,158390.1923828125,158508.36108398438,158468.33203125,158462.93798828125,158471.27978515625,158361.94311523438,158391.9287109375,158506.02197265625,158468.37768554688,158475.681640625,158451.9658203125,158442.8603515625,158372.5234375,158395.16796875,158427.025390625,158390.37133789062,158448.6318359375,158425.919921875,158369.169921875,158391.68286132812,158302.6689453125,158346.55590820312,158342.435546875,158358.7294921875,158275.34985351562,158354.29370117188,158249.03149414062,158342.03564453125,158331.541015625,158394.13671875,158348.28369140625,158392.27368164062,158460.01611328125,158436.478515625,158307.19677734375,158229.38720703125,158245.39501953125,158374.29223632812,158230.75122070312,158142.29711914062,158215.11865234375,158295.82739257812,158282.06689453125,158254.82958984375,158221.2626953125,158293.13159179688,158272.33764648438,158266.8798828125,158223.08129882812,158227.2041015625,158180.35595703125,158235.90063476562,158072.18530273438,158140.46264648438,158127.1484375,158100.71752929688,158212.26123046875,158138.05419921875,158203.95971679688,158081.4755859375,158163.06689453125,158054.28979492188,158093.86962890625,158017.43432617188,158055.00366210938,158219.83349609375,158092.4619140625,158130.82104492188,158123.177734375,158060.71533203125,158051.62084960938,158052.126953125,158078.18676757812,158020.13134765625,158081.4970703125,158158.748046875,157951.2880859375,157944.16723632812,158031.99536132812,158075.13354492188,158047.3740234375,157973.9833984375,157948.64697265625,157998.11962890625,158111.96118164062,158061.35668945312,158042.77172851562,157924.67724609375,158027.51440429688,157968.96337890625,157990.80419921875,157969.48828125,157975.47680664062,158086.24169921875,157987.61499023438,157952.78784179688,157916.37866210938,158011.19995117188,157876.90673828125,157932.31640625,157792.11303710938,157927.54443359375,157910.7939453125,157903.23022460938,157911.33764648438,158012.72216796875,157833.97875976562,157815.56469726562,157794.74780273438,157824.07739257812,157907.63208007812,157715.6357421875,157808.41650390625,157778.13500976562,157862.79052734375,157818.66674804688,157770.59106445312,157874.23413085938,157895.17700195312,157752.79370117188,157873.60595703125,157899.3466796875,157894.12084960938,157810.42333984375,157678.67797851562,157701.06909179688,157798.03002929688,157760.13208007812,157828.62182617188,157803.72998046875,157839.94458007812,157818.03051757812,157804.9033203125,157709.0224609375,157656.46948242188,157723.06640625,157819.19165039062,157763.35009765625,157754.96752929688,157782.63305664062,157676.96069335938,157621.15893554688,157800.8525390625,157623.72875976562,157695.39770507812,157712.50903320312,157724.81396484375,157800.59716796875,157631.13818359375,157713.8359375,157654.65869140625,157625.32934570312,157627.11572265625,157689.79614257812,157605.77294921875,157713.826171875,157586.00219726562,157679.85302734375,157647.74389648438,157509.83959960938,157567.88549804688,157640.59765625,157686.76733398438,157535.10913085938,157677.43432617188,157635.75244140625,157630.69409179688,157545.60864257812,157429.43872070312,157655.705078125,157660.08129882812,157552.47729492188,157525.68530273438,157590.845703125,157599.98486328125,157569.25,157470.38793945312,157723.0,157529.10986328125,157565.37670898438,157564.36669921875,157442.42504882812,157506.22827148438,157446.30249023438,157538.50439453125,157484.58276367188,157361.83959960938,157546.10595703125,157558.91796875,157467.60546875,157477.9365234375,157525.73461914062,157369.83227539062,157467.84155273438,157347.36303710938,157523.3447265625,157476.53393554688,157499.79150390625,157428.68212890625,157464.90307617188,157390.20190429688,157349.89892578125,157420.11572265625,157503.25830078125,157436.44750976562,157302.9921875,157440.29321289062,157320.177734375,157523.5048828125,157383.9609375,157445.48803710938,157345.12158203125,157516.73559570312,157279.373046875,157455.67456054688,157431.77001953125,157458.58520507812,157372.57690429688,157297.10180664062,157281.486328125,157381.08520507812,157276.9736328125,157318.9365234375,157307.59008789062,157470.32788085938,157386.37524414062,157300.29418945312,157346.98974609375,157340.96215820312,157465.08813476562,157212.71215820312,157268.77221679688,157234.7734375,157260.85913085938,157279.63305664062,157178.54418945312,157342.34399414062,157218.55688476562,157369.58081054688,157216.869140625,157095.66845703125,157284.77514648438,157226.56909179688,157271.17553710938,157173.65844726562,157211.1689453125,157251.84716796875,157249.150390625,157190.11303710938,157257.58032226562,157214.94580078125,157210.3349609375,157153.76879882812,157227.96875,157297.0400390625,157271.44580078125,157229.44189453125,157249.82885742188,157309.98364257812,157203.39965820312,157155.1533203125,157192.6484375,157197.96997070312,157209.35888671875,157240.57055664062,157269.95874023438,157180.0771484375,157202.69189453125,157165.42163085938,157212.49755859375,157141.27587890625,157272.02124023438,157134.56713867188,157122.810546875,157145.49926757812,157107.80102539062,157170.62963867188,157044.27514648438,157114.54467773438,157241.25073242188,157215.09155273438,157095.53857421875,157052.6396484375,157071.5869140625,157048.38159179688,157126.515625,157075.81127929688,157099.23950195312,157023.52368164062,157041.236328125,156986.27685546875,157081.54663085938,157149.296875,157106.39379882812,157031.10717773438,156984.39013671875,157112.1982421875,157214.55908203125,157036.79248046875,157042.798828125,157041.34765625,157030.66162109375,157029.90625,157083.68041992188,157106.76489257812,157024.35888671875,157077.12475585938,157122.89379882812,157119.36547851562,157099.57080078125,157033.15600585938,157070.16723632812,157028.83032226562,157060.49926757812,157022.8564453125,157070.22534179688,156944.11767578125,156987.68188476562,157039.17749023438,156970.92895507812,157002.02514648438,157048.734375,157018.19506835938,157012.03344726562,156995.68701171875],\"type\":\"scatter\"}],                        {\"template\":{\"data\":{\"bar\":[{\"error_x\":{\"color\":\"#2a3f5f\"},\"error_y\":{\"color\":\"#2a3f5f\"},\"marker\":{\"line\":{\"color\":\"#E5ECF6\",\"width\":0.5},\"pattern\":{\"fillmode\":\"overlay\",\"size\":10,\"solidity\":0.2}},\"type\":\"bar\"}],\"barpolar\":[{\"marker\":{\"line\":{\"color\":\"#E5ECF6\",\"width\":0.5},\"pattern\":{\"fillmode\":\"overlay\",\"size\":10,\"solidity\":0.2}},\"type\":\"barpolar\"}],\"carpet\":[{\"aaxis\":{\"endlinecolor\":\"#2a3f5f\",\"gridcolor\":\"white\",\"linecolor\":\"white\",\"minorgridcolor\":\"white\",\"startlinecolor\":\"#2a3f5f\"},\"baxis\":{\"endlinecolor\":\"#2a3f5f\",\"gridcolor\":\"white\",\"linecolor\":\"white\",\"minorgridcolor\":\"white\",\"startlinecolor\":\"#2a3f5f\"},\"type\":\"carpet\"}],\"choropleth\":[{\"colorbar\":{\"outlinewidth\":0,\"ticks\":\"\"},\"type\":\"choropleth\"}],\"contour\":[{\"colorbar\":{\"outlinewidth\":0,\"ticks\":\"\"},\"colorscale\":[[0.0,\"#0d0887\"],[0.1111111111111111,\"#46039f\"],[0.2222222222222222,\"#7201a8\"],[0.3333333333333333,\"#9c179e\"],[0.4444444444444444,\"#bd3786\"],[0.5555555555555556,\"#d8576b\"],[0.6666666666666666,\"#ed7953\"],[0.7777777777777778,\"#fb9f3a\"],[0.8888888888888888,\"#fdca26\"],[1.0,\"#f0f921\"]],\"type\":\"contour\"}],\"contourcarpet\":[{\"colorbar\":{\"outlinewidth\":0,\"ticks\":\"\"},\"type\":\"contourcarpet\"}],\"heatmap\":[{\"colorbar\":{\"outlinewidth\":0,\"ticks\":\"\"},\"colorscale\":[[0.0,\"#0d0887\"],[0.1111111111111111,\"#46039f\"],[0.2222222222222222,\"#7201a8\"],[0.3333333333333333,\"#9c179e\"],[0.4444444444444444,\"#bd3786\"],[0.5555555555555556,\"#d8576b\"],[0.6666666666666666,\"#ed7953\"],[0.7777777777777778,\"#fb9f3a\"],[0.8888888888888888,\"#fdca26\"],[1.0,\"#f0f921\"]],\"type\":\"heatmap\"}],\"heatmapgl\":[{\"colorbar\":{\"outlinewidth\":0,\"ticks\":\"\"},\"colorscale\":[[0.0,\"#0d0887\"],[0.1111111111111111,\"#46039f\"],[0.2222222222222222,\"#7201a8\"],[0.3333333333333333,\"#9c179e\"],[0.4444444444444444,\"#bd3786\"],[0.5555555555555556,\"#d8576b\"],[0.6666666666666666,\"#ed7953\"],[0.7777777777777778,\"#fb9f3a\"],[0.8888888888888888,\"#fdca26\"],[1.0,\"#f0f921\"]],\"type\":\"heatmapgl\"}],\"histogram\":[{\"marker\":{\"pattern\":{\"fillmode\":\"overlay\",\"size\":10,\"solidity\":0.2}},\"type\":\"histogram\"}],\"histogram2d\":[{\"colorbar\":{\"outlinewidth\":0,\"ticks\":\"\"},\"colorscale\":[[0.0,\"#0d0887\"],[0.1111111111111111,\"#46039f\"],[0.2222222222222222,\"#7201a8\"],[0.3333333333333333,\"#9c179e\"],[0.4444444444444444,\"#bd3786\"],[0.5555555555555556,\"#d8576b\"],[0.6666666666666666,\"#ed7953\"],[0.7777777777777778,\"#fb9f3a\"],[0.8888888888888888,\"#fdca26\"],[1.0,\"#f0f921\"]],\"type\":\"histogram2d\"}],\"histogram2dcontour\":[{\"colorbar\":{\"outlinewidth\":0,\"ticks\":\"\"},\"colorscale\":[[0.0,\"#0d0887\"],[0.1111111111111111,\"#46039f\"],[0.2222222222222222,\"#7201a8\"],[0.3333333333333333,\"#9c179e\"],[0.4444444444444444,\"#bd3786\"],[0.5555555555555556,\"#d8576b\"],[0.6666666666666666,\"#ed7953\"],[0.7777777777777778,\"#fb9f3a\"],[0.8888888888888888,\"#fdca26\"],[1.0,\"#f0f921\"]],\"type\":\"histogram2dcontour\"}],\"mesh3d\":[{\"colorbar\":{\"outlinewidth\":0,\"ticks\":\"\"},\"type\":\"mesh3d\"}],\"parcoords\":[{\"line\":{\"colorbar\":{\"outlinewidth\":0,\"ticks\":\"\"}},\"type\":\"parcoords\"}],\"pie\":[{\"automargin\":true,\"type\":\"pie\"}],\"scatter\":[{\"marker\":{\"colorbar\":{\"outlinewidth\":0,\"ticks\":\"\"}},\"type\":\"scatter\"}],\"scatter3d\":[{\"line\":{\"colorbar\":{\"outlinewidth\":0,\"ticks\":\"\"}},\"marker\":{\"colorbar\":{\"outlinewidth\":0,\"ticks\":\"\"}},\"type\":\"scatter3d\"}],\"scattercarpet\":[{\"marker\":{\"colorbar\":{\"outlinewidth\":0,\"ticks\":\"\"}},\"type\":\"scattercarpet\"}],\"scattergeo\":[{\"marker\":{\"colorbar\":{\"outlinewidth\":0,\"ticks\":\"\"}},\"type\":\"scattergeo\"}],\"scattergl\":[{\"marker\":{\"colorbar\":{\"outlinewidth\":0,\"ticks\":\"\"}},\"type\":\"scattergl\"}],\"scattermapbox\":[{\"marker\":{\"colorbar\":{\"outlinewidth\":0,\"ticks\":\"\"}},\"type\":\"scattermapbox\"}],\"scatterpolar\":[{\"marker\":{\"colorbar\":{\"outlinewidth\":0,\"ticks\":\"\"}},\"type\":\"scatterpolar\"}],\"scatterpolargl\":[{\"marker\":{\"colorbar\":{\"outlinewidth\":0,\"ticks\":\"\"}},\"type\":\"scatterpolargl\"}],\"scatterternary\":[{\"marker\":{\"colorbar\":{\"outlinewidth\":0,\"ticks\":\"\"}},\"type\":\"scatterternary\"}],\"surface\":[{\"colorbar\":{\"outlinewidth\":0,\"ticks\":\"\"},\"colorscale\":[[0.0,\"#0d0887\"],[0.1111111111111111,\"#46039f\"],[0.2222222222222222,\"#7201a8\"],[0.3333333333333333,\"#9c179e\"],[0.4444444444444444,\"#bd3786\"],[0.5555555555555556,\"#d8576b\"],[0.6666666666666666,\"#ed7953\"],[0.7777777777777778,\"#fb9f3a\"],[0.8888888888888888,\"#fdca26\"],[1.0,\"#f0f921\"]],\"type\":\"surface\"}],\"table\":[{\"cells\":{\"fill\":{\"color\":\"#EBF0F8\"},\"line\":{\"color\":\"white\"}},\"header\":{\"fill\":{\"color\":\"#C8D4E3\"},\"line\":{\"color\":\"white\"}},\"type\":\"table\"}]},\"layout\":{\"annotationdefaults\":{\"arrowcolor\":\"#2a3f5f\",\"arrowhead\":0,\"arrowwidth\":1},\"autotypenumbers\":\"strict\",\"coloraxis\":{\"colorbar\":{\"outlinewidth\":0,\"ticks\":\"\"}},\"colorscale\":{\"diverging\":[[0,\"#8e0152\"],[0.1,\"#c51b7d\"],[0.2,\"#de77ae\"],[0.3,\"#f1b6da\"],[0.4,\"#fde0ef\"],[0.5,\"#f7f7f7\"],[0.6,\"#e6f5d0\"],[0.7,\"#b8e186\"],[0.8,\"#7fbc41\"],[0.9,\"#4d9221\"],[1,\"#276419\"]],\"sequential\":[[0.0,\"#0d0887\"],[0.1111111111111111,\"#46039f\"],[0.2222222222222222,\"#7201a8\"],[0.3333333333333333,\"#9c179e\"],[0.4444444444444444,\"#bd3786\"],[0.5555555555555556,\"#d8576b\"],[0.6666666666666666,\"#ed7953\"],[0.7777777777777778,\"#fb9f3a\"],[0.8888888888888888,\"#fdca26\"],[1.0,\"#f0f921\"]],\"sequentialminus\":[[0.0,\"#0d0887\"],[0.1111111111111111,\"#46039f\"],[0.2222222222222222,\"#7201a8\"],[0.3333333333333333,\"#9c179e\"],[0.4444444444444444,\"#bd3786\"],[0.5555555555555556,\"#d8576b\"],[0.6666666666666666,\"#ed7953\"],[0.7777777777777778,\"#fb9f3a\"],[0.8888888888888888,\"#fdca26\"],[1.0,\"#f0f921\"]]},\"colorway\":[\"#636efa\",\"#EF553B\",\"#00cc96\",\"#ab63fa\",\"#FFA15A\",\"#19d3f3\",\"#FF6692\",\"#B6E880\",\"#FF97FF\",\"#FECB52\"],\"font\":{\"color\":\"#2a3f5f\"},\"geo\":{\"bgcolor\":\"white\",\"lakecolor\":\"white\",\"landcolor\":\"#E5ECF6\",\"showlakes\":true,\"showland\":true,\"subunitcolor\":\"white\"},\"hoverlabel\":{\"align\":\"left\"},\"hovermode\":\"closest\",\"mapbox\":{\"style\":\"light\"},\"paper_bgcolor\":\"white\",\"plot_bgcolor\":\"#E5ECF6\",\"polar\":{\"angularaxis\":{\"gridcolor\":\"white\",\"linecolor\":\"white\",\"ticks\":\"\"},\"bgcolor\":\"#E5ECF6\",\"radialaxis\":{\"gridcolor\":\"white\",\"linecolor\":\"white\",\"ticks\":\"\"}},\"scene\":{\"xaxis\":{\"backgroundcolor\":\"#E5ECF6\",\"gridcolor\":\"white\",\"gridwidth\":2,\"linecolor\":\"white\",\"showbackground\":true,\"ticks\":\"\",\"zerolinecolor\":\"white\"},\"yaxis\":{\"backgroundcolor\":\"#E5ECF6\",\"gridcolor\":\"white\",\"gridwidth\":2,\"linecolor\":\"white\",\"showbackground\":true,\"ticks\":\"\",\"zerolinecolor\":\"white\"},\"zaxis\":{\"backgroundcolor\":\"#E5ECF6\",\"gridcolor\":\"white\",\"gridwidth\":2,\"linecolor\":\"white\",\"showbackground\":true,\"ticks\":\"\",\"zerolinecolor\":\"white\"}},\"shapedefaults\":{\"line\":{\"color\":\"#2a3f5f\"}},\"ternary\":{\"aaxis\":{\"gridcolor\":\"white\",\"linecolor\":\"white\",\"ticks\":\"\"},\"baxis\":{\"gridcolor\":\"white\",\"linecolor\":\"white\",\"ticks\":\"\"},\"bgcolor\":\"#E5ECF6\",\"caxis\":{\"gridcolor\":\"white\",\"linecolor\":\"white\",\"ticks\":\"\"}},\"title\":{\"x\":0.05},\"xaxis\":{\"automargin\":true,\"gridcolor\":\"white\",\"linecolor\":\"white\",\"ticks\":\"\",\"title\":{\"standoff\":15},\"zerolinecolor\":\"white\",\"zerolinewidth\":2},\"yaxis\":{\"automargin\":true,\"gridcolor\":\"white\",\"linecolor\":\"white\",\"ticks\":\"\",\"title\":{\"standoff\":15},\"zerolinecolor\":\"white\",\"zerolinewidth\":2}}}},                        {\"responsive\": true}                    ).then(function(){\n",
              "                            \n",
              "var gd = document.getElementById('b8ae127d-87dc-47b9-b0f9-45ffe2685cb7');\n",
              "var x = new MutationObserver(function (mutations, observer) {{\n",
              "        var display = window.getComputedStyle(gd).display;\n",
              "        if (!display || display === 'none') {{\n",
              "            console.log([gd, 'removed!']);\n",
              "            Plotly.purge(gd);\n",
              "            observer.disconnect();\n",
              "        }}\n",
              "}});\n",
              "\n",
              "// Listen for the removal of the full notebook cells\n",
              "var notebookContainer = gd.closest('#notebook-container');\n",
              "if (notebookContainer) {{\n",
              "    x.observe(notebookContainer, {childList: true});\n",
              "}}\n",
              "\n",
              "// Listen for the clearing of the current output cell\n",
              "var outputEl = gd.closest('.output');\n",
              "if (outputEl) {{\n",
              "    x.observe(outputEl, {childList: true});\n",
              "}}\n",
              "\n",
              "                        })                };                            </script>        </div>\n",
              "</body>\n",
              "</html>"
            ]
          },
          "metadata": {}
        }
      ],
      "source": [
        "plot_loss(recon_arr,\"Recon\")"
      ]
    },
    {
      "cell_type": "code",
      "execution_count": null,
      "metadata": {
        "id": "xQETW799qju9"
      },
      "outputs": [],
      "source": [
        "##@title Evaluation (x,phi,beta,query_center,)\n",
        "model.eval()\n",
        "x_list = []\n",
        "labels_list = []\n",
        "doc_ids = []\n",
        "zx_phi_list=[]\n",
        "dist_doc_key = []\n",
        "dist_doc_key_bfn = []\n",
        "docs_rscore = []\n",
        "with torch.no_grad():\n",
        "    for batch_ndx in all_indices:\n",
        "\n",
        "        if data_islarge:\n",
        "           input_w = torch.from_numpy(train_vec[batch_ndx].toarray()).float().to(device) ## for large dataset\n",
        "        else: input_w = tensor_train_w[batch_ndx].to(device)\n",
        "        labels = train_label[batch_ndx]\n",
        "\n",
        "        z, recon_v, zx, zx_phi,doc_key_softmax = model(input_w, most_sim_key, word_filter,norm_cos_score, compute_loss=False)\n",
        "        zx = zx.view(-1, num_coordinate).data.detach().cpu().numpy()\n",
        "        zx_phi = zx_phi.view(-1, num_topic).data.detach().cpu().numpy()\n",
        "        d_doc_key = model.dist_doc_key.data.detach().cpu().numpy()\n",
        "        dist_doc_key_basis_func = model.dist_doc_key_basis_func.data.detach().cpu().numpy()\n",
        "\n",
        "        labels_list.extend(labels)\n",
        "        docs_rscore.extend(normalized_all_rscores[batch_ndx])\n",
        "        zx_phi_list.extend(zx_phi)\n",
        "        x_list.extend(zx)\n",
        "        dist_doc_key.extend(d_doc_key)\n",
        "        dist_doc_key_bfn.extend(dist_doc_key_basis_func)\n",
        "        doc_ids = np.append(doc_ids,batch_ndx.numpy().astype(int))\n",
        "\n",
        "    doc_ids = doc_ids.astype(int)\n",
        "    x_list = np.array(x_list)\n",
        "    labels_list = np.array(labels_list)\n",
        "    docs_rscore = list_of_tensors_to_tensor(docs_rscore)\n",
        "    dist_doc_key = torch.tensor(np.array(dist_doc_key))\n",
        "    dist_doc_key_bfn = np.array(dist_doc_key_bfn)\n",
        "\n",
        "    beta = model.get_beta().data.cpu().numpy()\n",
        "\n",
        "    zphi = model.decoder_phi_bn(model.topics).data.cpu().numpy()\n",
        "    # zphi = model.topics.data.cpu().numpy()\n",
        "\n",
        "    query_center = model.query_center.data.cpu().numpy()\n",
        "    dist_key_topic = toT(model.dist_key_topic.data.detach().cpu().numpy())\n",
        "\n",
        "    query_words = model.decoder_k_bn(model.keyword_coords).data.cpu().numpy()\n",
        "    # query_words = model.keyword_coords.data.cpu().numpy()"
      ]
    },
    {
      "cell_type": "code",
      "execution_count": null,
      "metadata": {
        "id": "Oe7MfHKjpPmG",
        "colab": {
          "base_uri": "https://localhost:8080/"
        },
        "outputId": "0721ff35-028d-4086-bb39-360bc01c5ed0"
      },
      "outputs": [
        {
          "output_type": "execute_result",
          "data": {
            "text/plain": [
              "tensor([[ 0.8862, -1.6109,  0.7772,  ..., -0.8947,  0.1182, -1.5270],\n",
              "        [-0.7672,  0.6365,  1.4226,  ..., -3.3848,  5.5363, -3.8322],\n",
              "        [ 0.9682, -1.8143,  0.9608,  ..., -1.2424,  0.2836, -1.9916],\n",
              "        ...,\n",
              "        [ 2.3164, -0.9132,  0.7114,  ...,  0.3880,  1.2308,  0.2917],\n",
              "        [ 7.7280, -8.4547,  4.8747,  ...,  1.3597,  1.4066,  1.7785],\n",
              "        [ 5.1722, -4.0155,  0.6054,  ..., -1.0349,  4.5586,  3.6989]],\n",
              "       device='cuda:0')"
            ]
          },
          "metadata": {},
          "execution_count": 60
        }
      ],
      "source": [
        "model.mu_z"
      ]
    },
    {
      "cell_type": "code",
      "source": [
        "import plotly.io as pio\n",
        "pio.renderers.default = \"colab\"\n",
        "#@title Jaccard similarity - metric for topic diversity\n",
        "topic1 =  2#@param {type:\"integer\"}\n",
        "topic2 =  3#@param {type:\"integer\"}\n",
        "def get_common_items(list1,list2):\n",
        "  common_list = []\n",
        "  for item in list1:\n",
        "    if item in list2:\n",
        "      common_list.append(item)\n",
        "  return common_list\n",
        "\n",
        "def get_jaccard_score(topic1,topic2,topword_lists):\n",
        "  jaccard_topic_list = topword_lists[topic1] + topword_lists[topic2]\n",
        "  union_len = len(set(jaccard_topic_list))\n",
        "  interesection_len = len(get_common_items(topword_lists[topic1],topword_lists[topic2]))\n",
        "  jaccard_score = interesection_len / union_len\n",
        "  return jaccard_score\n",
        "\n",
        "## All topics word dictionary\n",
        "def topword_count_dict(all_topics_topwords):\n",
        "  flattened_all_topics_topwords = flatten_list(all_topics_topwords)\n",
        "  built_words_dict = {}\n",
        "  for f in flattened_all_topics_topwords:\n",
        "    try :\n",
        "      built_words_dict[f] = built_words_dict[f]+1\n",
        "    except KeyError:\n",
        "      built_words_dict[f] = 1\n",
        "  df_words = pd.DataFrame.from_dict(built_words_dict,orient='index',columns=['appears'])\n",
        "  all_topics_unique_words = df_words.index.tolist()\n",
        "  return df_words\n",
        "\n",
        "all_topics_topwords = get_topwords(beta,id_vocab,topwords=10)\n",
        "all_topics_topwords = [t.split(\": \")[1].split(\" \") for t in all_topics_topwords]\n",
        "print(\"Jaccard sim b/w topics\",topic1,\"and\",topic2,\"is : \",\n",
        "      get_jaccard_score(topic1=topic1,topic2=topic2,topword_lists=all_topics_topwords)) # <<\n",
        "\n",
        "df_word_count = topword_count_dict(all_topics_topwords)\n",
        "fig = px.histogram(df_word_count ,x=\"appears\",title=\"How many words(count) appear how many times(appears)\")\n",
        "fig.show()\n",
        "df_word_count.sort_values([\"appears\"], ascending=False).head()"
      ],
      "metadata": {
        "cellView": "form",
        "id": "XkXP2ehTug5O",
        "colab": {
          "base_uri": "https://localhost:8080/"
        },
        "outputId": "66359231-d51d-4996-dce1-73c175e0a23f"
      },
      "execution_count": null,
      "outputs": [
        {
          "output_type": "stream",
          "name": "stdout",
          "text": [
            "Jaccard sim b/w topics 2 and 3 is :  0.0\n"
          ]
        },
        {
          "output_type": "display_data",
          "data": {
            "text/html": [
              "<html>\n",
              "<head><meta charset=\"utf-8\" /></head>\n",
              "<body>\n",
              "    <div>            <script src=\"https://cdnjs.cloudflare.com/ajax/libs/mathjax/2.7.5/MathJax.js?config=TeX-AMS-MML_SVG\"></script><script type=\"text/javascript\">if (window.MathJax) {MathJax.Hub.Config({SVG: {font: \"STIX-Web\"}});}</script>                <script type=\"text/javascript\">window.PlotlyConfig = {MathJaxConfig: 'local'};</script>\n",
              "        <script src=\"https://cdn.plot.ly/plotly-2.8.3.min.js\"></script>                <div id=\"049042e5-5ea9-4a17-a178-f0e2d79e2cb5\" class=\"plotly-graph-div\" style=\"height:525px; width:100%;\"></div>            <script type=\"text/javascript\">                                    window.PLOTLYENV=window.PLOTLYENV || {};                                    if (document.getElementById(\"049042e5-5ea9-4a17-a178-f0e2d79e2cb5\")) {                    Plotly.newPlot(                        \"049042e5-5ea9-4a17-a178-f0e2d79e2cb5\",                        [{\"alignmentgroup\":\"True\",\"bingroup\":\"x\",\"hovertemplate\":\"appears=%{x}<br>count=%{y}<extra></extra>\",\"legendgroup\":\"\",\"marker\":{\"color\":\"#636efa\",\"pattern\":{\"shape\":\"\"}},\"name\":\"\",\"offsetgroup\":\"\",\"orientation\":\"v\",\"showlegend\":false,\"x\":[3,3,3,3,5,3,3,3,3,3,1,1,3,1,1,1,1,1,1,1,1,1,1,3,1,1,1,1,1,1,1,1,1,1,1,1,1,1,1,2,1,1,1,1,1,1,1,1,2,1,1,1,1,1,1,1,2,1,1,1,1,1,1,1,1,1,1,2,2,2,2,1,2,1,1,1,2,1,1,1,1,1,1,1,1,1,1,1,1,1,1,1,1,1,1,1,1,1,1,1,1,1,1,1,1,1,1,1,1,1,1,1,1,1,1],\"xaxis\":\"x\",\"yaxis\":\"y\",\"type\":\"histogram\"}],                        {\"template\":{\"data\":{\"bar\":[{\"error_x\":{\"color\":\"#2a3f5f\"},\"error_y\":{\"color\":\"#2a3f5f\"},\"marker\":{\"line\":{\"color\":\"#E5ECF6\",\"width\":0.5},\"pattern\":{\"fillmode\":\"overlay\",\"size\":10,\"solidity\":0.2}},\"type\":\"bar\"}],\"barpolar\":[{\"marker\":{\"line\":{\"color\":\"#E5ECF6\",\"width\":0.5},\"pattern\":{\"fillmode\":\"overlay\",\"size\":10,\"solidity\":0.2}},\"type\":\"barpolar\"}],\"carpet\":[{\"aaxis\":{\"endlinecolor\":\"#2a3f5f\",\"gridcolor\":\"white\",\"linecolor\":\"white\",\"minorgridcolor\":\"white\",\"startlinecolor\":\"#2a3f5f\"},\"baxis\":{\"endlinecolor\":\"#2a3f5f\",\"gridcolor\":\"white\",\"linecolor\":\"white\",\"minorgridcolor\":\"white\",\"startlinecolor\":\"#2a3f5f\"},\"type\":\"carpet\"}],\"choropleth\":[{\"colorbar\":{\"outlinewidth\":0,\"ticks\":\"\"},\"type\":\"choropleth\"}],\"contour\":[{\"colorbar\":{\"outlinewidth\":0,\"ticks\":\"\"},\"colorscale\":[[0.0,\"#0d0887\"],[0.1111111111111111,\"#46039f\"],[0.2222222222222222,\"#7201a8\"],[0.3333333333333333,\"#9c179e\"],[0.4444444444444444,\"#bd3786\"],[0.5555555555555556,\"#d8576b\"],[0.6666666666666666,\"#ed7953\"],[0.7777777777777778,\"#fb9f3a\"],[0.8888888888888888,\"#fdca26\"],[1.0,\"#f0f921\"]],\"type\":\"contour\"}],\"contourcarpet\":[{\"colorbar\":{\"outlinewidth\":0,\"ticks\":\"\"},\"type\":\"contourcarpet\"}],\"heatmap\":[{\"colorbar\":{\"outlinewidth\":0,\"ticks\":\"\"},\"colorscale\":[[0.0,\"#0d0887\"],[0.1111111111111111,\"#46039f\"],[0.2222222222222222,\"#7201a8\"],[0.3333333333333333,\"#9c179e\"],[0.4444444444444444,\"#bd3786\"],[0.5555555555555556,\"#d8576b\"],[0.6666666666666666,\"#ed7953\"],[0.7777777777777778,\"#fb9f3a\"],[0.8888888888888888,\"#fdca26\"],[1.0,\"#f0f921\"]],\"type\":\"heatmap\"}],\"heatmapgl\":[{\"colorbar\":{\"outlinewidth\":0,\"ticks\":\"\"},\"colorscale\":[[0.0,\"#0d0887\"],[0.1111111111111111,\"#46039f\"],[0.2222222222222222,\"#7201a8\"],[0.3333333333333333,\"#9c179e\"],[0.4444444444444444,\"#bd3786\"],[0.5555555555555556,\"#d8576b\"],[0.6666666666666666,\"#ed7953\"],[0.7777777777777778,\"#fb9f3a\"],[0.8888888888888888,\"#fdca26\"],[1.0,\"#f0f921\"]],\"type\":\"heatmapgl\"}],\"histogram\":[{\"marker\":{\"pattern\":{\"fillmode\":\"overlay\",\"size\":10,\"solidity\":0.2}},\"type\":\"histogram\"}],\"histogram2d\":[{\"colorbar\":{\"outlinewidth\":0,\"ticks\":\"\"},\"colorscale\":[[0.0,\"#0d0887\"],[0.1111111111111111,\"#46039f\"],[0.2222222222222222,\"#7201a8\"],[0.3333333333333333,\"#9c179e\"],[0.4444444444444444,\"#bd3786\"],[0.5555555555555556,\"#d8576b\"],[0.6666666666666666,\"#ed7953\"],[0.7777777777777778,\"#fb9f3a\"],[0.8888888888888888,\"#fdca26\"],[1.0,\"#f0f921\"]],\"type\":\"histogram2d\"}],\"histogram2dcontour\":[{\"colorbar\":{\"outlinewidth\":0,\"ticks\":\"\"},\"colorscale\":[[0.0,\"#0d0887\"],[0.1111111111111111,\"#46039f\"],[0.2222222222222222,\"#7201a8\"],[0.3333333333333333,\"#9c179e\"],[0.4444444444444444,\"#bd3786\"],[0.5555555555555556,\"#d8576b\"],[0.6666666666666666,\"#ed7953\"],[0.7777777777777778,\"#fb9f3a\"],[0.8888888888888888,\"#fdca26\"],[1.0,\"#f0f921\"]],\"type\":\"histogram2dcontour\"}],\"mesh3d\":[{\"colorbar\":{\"outlinewidth\":0,\"ticks\":\"\"},\"type\":\"mesh3d\"}],\"parcoords\":[{\"line\":{\"colorbar\":{\"outlinewidth\":0,\"ticks\":\"\"}},\"type\":\"parcoords\"}],\"pie\":[{\"automargin\":true,\"type\":\"pie\"}],\"scatter\":[{\"marker\":{\"colorbar\":{\"outlinewidth\":0,\"ticks\":\"\"}},\"type\":\"scatter\"}],\"scatter3d\":[{\"line\":{\"colorbar\":{\"outlinewidth\":0,\"ticks\":\"\"}},\"marker\":{\"colorbar\":{\"outlinewidth\":0,\"ticks\":\"\"}},\"type\":\"scatter3d\"}],\"scattercarpet\":[{\"marker\":{\"colorbar\":{\"outlinewidth\":0,\"ticks\":\"\"}},\"type\":\"scattercarpet\"}],\"scattergeo\":[{\"marker\":{\"colorbar\":{\"outlinewidth\":0,\"ticks\":\"\"}},\"type\":\"scattergeo\"}],\"scattergl\":[{\"marker\":{\"colorbar\":{\"outlinewidth\":0,\"ticks\":\"\"}},\"type\":\"scattergl\"}],\"scattermapbox\":[{\"marker\":{\"colorbar\":{\"outlinewidth\":0,\"ticks\":\"\"}},\"type\":\"scattermapbox\"}],\"scatterpolar\":[{\"marker\":{\"colorbar\":{\"outlinewidth\":0,\"ticks\":\"\"}},\"type\":\"scatterpolar\"}],\"scatterpolargl\":[{\"marker\":{\"colorbar\":{\"outlinewidth\":0,\"ticks\":\"\"}},\"type\":\"scatterpolargl\"}],\"scatterternary\":[{\"marker\":{\"colorbar\":{\"outlinewidth\":0,\"ticks\":\"\"}},\"type\":\"scatterternary\"}],\"surface\":[{\"colorbar\":{\"outlinewidth\":0,\"ticks\":\"\"},\"colorscale\":[[0.0,\"#0d0887\"],[0.1111111111111111,\"#46039f\"],[0.2222222222222222,\"#7201a8\"],[0.3333333333333333,\"#9c179e\"],[0.4444444444444444,\"#bd3786\"],[0.5555555555555556,\"#d8576b\"],[0.6666666666666666,\"#ed7953\"],[0.7777777777777778,\"#fb9f3a\"],[0.8888888888888888,\"#fdca26\"],[1.0,\"#f0f921\"]],\"type\":\"surface\"}],\"table\":[{\"cells\":{\"fill\":{\"color\":\"#EBF0F8\"},\"line\":{\"color\":\"white\"}},\"header\":{\"fill\":{\"color\":\"#C8D4E3\"},\"line\":{\"color\":\"white\"}},\"type\":\"table\"}]},\"layout\":{\"annotationdefaults\":{\"arrowcolor\":\"#2a3f5f\",\"arrowhead\":0,\"arrowwidth\":1},\"autotypenumbers\":\"strict\",\"coloraxis\":{\"colorbar\":{\"outlinewidth\":0,\"ticks\":\"\"}},\"colorscale\":{\"diverging\":[[0,\"#8e0152\"],[0.1,\"#c51b7d\"],[0.2,\"#de77ae\"],[0.3,\"#f1b6da\"],[0.4,\"#fde0ef\"],[0.5,\"#f7f7f7\"],[0.6,\"#e6f5d0\"],[0.7,\"#b8e186\"],[0.8,\"#7fbc41\"],[0.9,\"#4d9221\"],[1,\"#276419\"]],\"sequential\":[[0.0,\"#0d0887\"],[0.1111111111111111,\"#46039f\"],[0.2222222222222222,\"#7201a8\"],[0.3333333333333333,\"#9c179e\"],[0.4444444444444444,\"#bd3786\"],[0.5555555555555556,\"#d8576b\"],[0.6666666666666666,\"#ed7953\"],[0.7777777777777778,\"#fb9f3a\"],[0.8888888888888888,\"#fdca26\"],[1.0,\"#f0f921\"]],\"sequentialminus\":[[0.0,\"#0d0887\"],[0.1111111111111111,\"#46039f\"],[0.2222222222222222,\"#7201a8\"],[0.3333333333333333,\"#9c179e\"],[0.4444444444444444,\"#bd3786\"],[0.5555555555555556,\"#d8576b\"],[0.6666666666666666,\"#ed7953\"],[0.7777777777777778,\"#fb9f3a\"],[0.8888888888888888,\"#fdca26\"],[1.0,\"#f0f921\"]]},\"colorway\":[\"#636efa\",\"#EF553B\",\"#00cc96\",\"#ab63fa\",\"#FFA15A\",\"#19d3f3\",\"#FF6692\",\"#B6E880\",\"#FF97FF\",\"#FECB52\"],\"font\":{\"color\":\"#2a3f5f\"},\"geo\":{\"bgcolor\":\"white\",\"lakecolor\":\"white\",\"landcolor\":\"#E5ECF6\",\"showlakes\":true,\"showland\":true,\"subunitcolor\":\"white\"},\"hoverlabel\":{\"align\":\"left\"},\"hovermode\":\"closest\",\"mapbox\":{\"style\":\"light\"},\"paper_bgcolor\":\"white\",\"plot_bgcolor\":\"#E5ECF6\",\"polar\":{\"angularaxis\":{\"gridcolor\":\"white\",\"linecolor\":\"white\",\"ticks\":\"\"},\"bgcolor\":\"#E5ECF6\",\"radialaxis\":{\"gridcolor\":\"white\",\"linecolor\":\"white\",\"ticks\":\"\"}},\"scene\":{\"xaxis\":{\"backgroundcolor\":\"#E5ECF6\",\"gridcolor\":\"white\",\"gridwidth\":2,\"linecolor\":\"white\",\"showbackground\":true,\"ticks\":\"\",\"zerolinecolor\":\"white\"},\"yaxis\":{\"backgroundcolor\":\"#E5ECF6\",\"gridcolor\":\"white\",\"gridwidth\":2,\"linecolor\":\"white\",\"showbackground\":true,\"ticks\":\"\",\"zerolinecolor\":\"white\"},\"zaxis\":{\"backgroundcolor\":\"#E5ECF6\",\"gridcolor\":\"white\",\"gridwidth\":2,\"linecolor\":\"white\",\"showbackground\":true,\"ticks\":\"\",\"zerolinecolor\":\"white\"}},\"shapedefaults\":{\"line\":{\"color\":\"#2a3f5f\"}},\"ternary\":{\"aaxis\":{\"gridcolor\":\"white\",\"linecolor\":\"white\",\"ticks\":\"\"},\"baxis\":{\"gridcolor\":\"white\",\"linecolor\":\"white\",\"ticks\":\"\"},\"bgcolor\":\"#E5ECF6\",\"caxis\":{\"gridcolor\":\"white\",\"linecolor\":\"white\",\"ticks\":\"\"}},\"title\":{\"x\":0.05},\"xaxis\":{\"automargin\":true,\"gridcolor\":\"white\",\"linecolor\":\"white\",\"ticks\":\"\",\"title\":{\"standoff\":15},\"zerolinecolor\":\"white\",\"zerolinewidth\":2},\"yaxis\":{\"automargin\":true,\"gridcolor\":\"white\",\"linecolor\":\"white\",\"ticks\":\"\",\"title\":{\"standoff\":15},\"zerolinecolor\":\"white\",\"zerolinewidth\":2}}},\"xaxis\":{\"anchor\":\"y\",\"domain\":[0.0,1.0],\"title\":{\"text\":\"appears\"}},\"yaxis\":{\"anchor\":\"x\",\"domain\":[0.0,1.0],\"title\":{\"text\":\"count\"}},\"legend\":{\"tracegroupgap\":0},\"title\":{\"text\":\"How many words(count) appear how many times(appears)\"},\"barmode\":\"relative\"},                        {\"responsive\": true}                    ).then(function(){\n",
              "                            \n",
              "var gd = document.getElementById('049042e5-5ea9-4a17-a178-f0e2d79e2cb5');\n",
              "var x = new MutationObserver(function (mutations, observer) {{\n",
              "        var display = window.getComputedStyle(gd).display;\n",
              "        if (!display || display === 'none') {{\n",
              "            console.log([gd, 'removed!']);\n",
              "            Plotly.purge(gd);\n",
              "            observer.disconnect();\n",
              "        }}\n",
              "}});\n",
              "\n",
              "// Listen for the removal of the full notebook cells\n",
              "var notebookContainer = gd.closest('#notebook-container');\n",
              "if (notebookContainer) {{\n",
              "    x.observe(notebookContainer, {childList: true});\n",
              "}}\n",
              "\n",
              "// Listen for the clearing of the current output cell\n",
              "var outputEl = gd.closest('.output');\n",
              "if (outputEl) {{\n",
              "    x.observe(outputEl, {childList: true});\n",
              "}}\n",
              "\n",
              "                        })                };                            </script>        </div>\n",
              "</body>\n",
              "</html>"
            ]
          },
          "metadata": {}
        },
        {
          "output_type": "execute_result",
          "data": {
            "text/html": [
              "\n",
              "  <div id=\"df-e720ce1e-d1ed-4400-8954-4f945f8a4982\">\n",
              "    <div class=\"colab-df-container\">\n",
              "      <div>\n",
              "<style scoped>\n",
              "    .dataframe tbody tr th:only-of-type {\n",
              "        vertical-align: middle;\n",
              "    }\n",
              "\n",
              "    .dataframe tbody tr th {\n",
              "        vertical-align: top;\n",
              "    }\n",
              "\n",
              "    .dataframe thead th {\n",
              "        text-align: right;\n",
              "    }\n",
              "</style>\n",
              "<table border=\"1\" class=\"dataframe\">\n",
              "  <thead>\n",
              "    <tr style=\"text-align: right;\">\n",
              "      <th></th>\n",
              "      <th>appears</th>\n",
              "    </tr>\n",
              "  </thead>\n",
              "  <tbody>\n",
              "    <tr>\n",
              "      <th>year</th>\n",
              "      <td>5</td>\n",
              "    </tr>\n",
              "    <tr>\n",
              "      <th>deal</th>\n",
              "      <td>3</td>\n",
              "    </tr>\n",
              "    <tr>\n",
              "      <th>firm</th>\n",
              "      <td>3</td>\n",
              "    </tr>\n",
              "    <tr>\n",
              "      <th>share</th>\n",
              "      <td>3</td>\n",
              "    </tr>\n",
              "    <tr>\n",
              "      <th>oil</th>\n",
              "      <td>3</td>\n",
              "    </tr>\n",
              "  </tbody>\n",
              "</table>\n",
              "</div>\n",
              "      <button class=\"colab-df-convert\" onclick=\"convertToInteractive('df-e720ce1e-d1ed-4400-8954-4f945f8a4982')\"\n",
              "              title=\"Convert this dataframe to an interactive table.\"\n",
              "              style=\"display:none;\">\n",
              "        \n",
              "  <svg xmlns=\"http://www.w3.org/2000/svg\" height=\"24px\"viewBox=\"0 0 24 24\"\n",
              "       width=\"24px\">\n",
              "    <path d=\"M0 0h24v24H0V0z\" fill=\"none\"/>\n",
              "    <path d=\"M18.56 5.44l.94 2.06.94-2.06 2.06-.94-2.06-.94-.94-2.06-.94 2.06-2.06.94zm-11 1L8.5 8.5l.94-2.06 2.06-.94-2.06-.94L8.5 2.5l-.94 2.06-2.06.94zm10 10l.94 2.06.94-2.06 2.06-.94-2.06-.94-.94-2.06-.94 2.06-2.06.94z\"/><path d=\"M17.41 7.96l-1.37-1.37c-.4-.4-.92-.59-1.43-.59-.52 0-1.04.2-1.43.59L10.3 9.45l-7.72 7.72c-.78.78-.78 2.05 0 2.83L4 21.41c.39.39.9.59 1.41.59.51 0 1.02-.2 1.41-.59l7.78-7.78 2.81-2.81c.8-.78.8-2.07 0-2.86zM5.41 20L4 18.59l7.72-7.72 1.47 1.35L5.41 20z\"/>\n",
              "  </svg>\n",
              "      </button>\n",
              "      \n",
              "  <style>\n",
              "    .colab-df-container {\n",
              "      display:flex;\n",
              "      flex-wrap:wrap;\n",
              "      gap: 12px;\n",
              "    }\n",
              "\n",
              "    .colab-df-convert {\n",
              "      background-color: #E8F0FE;\n",
              "      border: none;\n",
              "      border-radius: 50%;\n",
              "      cursor: pointer;\n",
              "      display: none;\n",
              "      fill: #1967D2;\n",
              "      height: 32px;\n",
              "      padding: 0 0 0 0;\n",
              "      width: 32px;\n",
              "    }\n",
              "\n",
              "    .colab-df-convert:hover {\n",
              "      background-color: #E2EBFA;\n",
              "      box-shadow: 0px 1px 2px rgba(60, 64, 67, 0.3), 0px 1px 3px 1px rgba(60, 64, 67, 0.15);\n",
              "      fill: #174EA6;\n",
              "    }\n",
              "\n",
              "    [theme=dark] .colab-df-convert {\n",
              "      background-color: #3B4455;\n",
              "      fill: #D2E3FC;\n",
              "    }\n",
              "\n",
              "    [theme=dark] .colab-df-convert:hover {\n",
              "      background-color: #434B5C;\n",
              "      box-shadow: 0px 1px 3px 1px rgba(0, 0, 0, 0.15);\n",
              "      filter: drop-shadow(0px 1px 2px rgba(0, 0, 0, 0.3));\n",
              "      fill: #FFFFFF;\n",
              "    }\n",
              "  </style>\n",
              "\n",
              "      <script>\n",
              "        const buttonEl =\n",
              "          document.querySelector('#df-e720ce1e-d1ed-4400-8954-4f945f8a4982 button.colab-df-convert');\n",
              "        buttonEl.style.display =\n",
              "          google.colab.kernel.accessAllowed ? 'block' : 'none';\n",
              "\n",
              "        async function convertToInteractive(key) {\n",
              "          const element = document.querySelector('#df-e720ce1e-d1ed-4400-8954-4f945f8a4982');\n",
              "          const dataTable =\n",
              "            await google.colab.kernel.invokeFunction('convertToInteractive',\n",
              "                                                     [key], {});\n",
              "          if (!dataTable) return;\n",
              "\n",
              "          const docLinkHtml = 'Like what you see? Visit the ' +\n",
              "            '<a target=\"_blank\" href=https://colab.research.google.com/notebooks/data_table.ipynb>data table notebook</a>'\n",
              "            + ' to learn more about interactive tables.';\n",
              "          element.innerHTML = '';\n",
              "          dataTable['output_type'] = 'display_data';\n",
              "          await google.colab.output.renderOutput(dataTable, element);\n",
              "          const docLink = document.createElement('div');\n",
              "          docLink.innerHTML = docLinkHtml;\n",
              "          element.appendChild(docLink);\n",
              "        }\n",
              "      </script>\n",
              "    </div>\n",
              "  </div>\n",
              "  "
            ],
            "text/plain": [
              "       appears\n",
              "year         5\n",
              "deal         3\n",
              "firm         3\n",
              "share        3\n",
              "oil          3"
            ]
          },
          "metadata": {},
          "execution_count": 61
        }
      ]
    },
    {
      "cell_type": "code",
      "execution_count": null,
      "metadata": {
        "id": "fs_82eMBghGs",
        "colab": {
          "base_uri": "https://localhost:8080/"
        },
        "outputId": "699067a8-d42d-4507-cafa-a4c945a35f15"
      },
      "outputs": [
        {
          "output_type": "stream",
          "name": "stdout",
          "text": [
            "topic 0 - 2 tensor(0.9984, device='cuda:0')\n",
            "topic 0 - 8 tensor(0.9989, device='cuda:0')\n",
            "topic 2 - 8 tensor(0.9999, device='cuda:0')\n",
            "topic 9 - 13 tensor(0.9813, device='cuda:0')\n",
            "Cosine similarity b/w topic embeddings w score >=  0.9  | Count -  4\n"
          ]
        }
      ],
      "source": [
        "## np. of topics with similar topic embeddings -->\n",
        "count = 0\n",
        "cos_sim_threshold = 0.9\n",
        "for i in range(num_topic):\n",
        "  for j in range(i):\n",
        "    sim_score_topics = cos_sim(model.mu_z[j],model.mu_z[i])\n",
        "    if sim_score_topics.item()>=cos_sim_threshold:\n",
        "      print(\"topic\",j ,\"-\",i,cos_sim(model.mu_z[j],model.mu_z[i]))\n",
        "      count += 1\n",
        "print(\"Cosine similarity b/w topic embeddings w score >= \",cos_sim_threshold,\" | Count - \",count)"
      ]
    },
    {
      "cell_type": "code",
      "execution_count": null,
      "metadata": {
        "id": "WYr5nG3aNHwm",
        "colab": {
          "base_uri": "https://localhost:8080/"
        },
        "outputId": "15dd83df-7c1d-4e57-bc44-18ff597ea2d1"
      },
      "outputs": [
        {
          "output_type": "stream",
          "name": "stdout",
          "text": [
            "topic0 :  microsoft\n",
            "topic1 :  microsoft\n",
            "topic2 :  microsoft\n",
            "topic3 :  microsoft\n",
            "topic4 :  computer\n",
            "topic5 :  computer\n",
            "topic6 :  microsoft\n",
            "topic7 :  microsoft\n",
            "topic8 :  microsoft\n",
            "topic9 :  microsoft\n",
            "topic10 :  microsoft\n",
            "topic11 :  computer\n",
            "topic12 :  microsoft\n",
            "topic13 :  microsoft\n",
            "topic14 :  microsoft\n",
            "Relv topics:  15\n",
            "Irrelv topics:  0\n"
          ]
        }
      ],
      "source": [
        "keyword_vis_labels = get_keywords(d_data)#+['dummy']\n",
        "min_d_tk, min_d_tk_keyidx = torch.min(dist_key_topic,-1)\n",
        "for i in range(num_topic):\n",
        "  print(\"topic\"+str(i)+\" : \",keyword_vis_labels[min_d_tk_keyidx[i].item()])\n",
        "print(\"Relv topics: \",len(torch.where(min_d_tk_keyidx !=len(keywords))[0]))\n",
        "print(\"Irrelv topics: \",len(torch.where(min_d_tk_keyidx ==len(keywords))[0]))"
      ]
    },
    {
      "cell_type": "code",
      "execution_count": null,
      "metadata": {
        "id": "5UFlBZunULZK",
        "colab": {
          "base_uri": "https://localhost:8080/"
        },
        "outputId": "4d09d8f9-7c21-4af0-a8f5-9125cde3ce7c"
      },
      "outputs": [
        {
          "output_type": "execute_result",
          "data": {
            "text/plain": [
              "(1823, 1823)"
            ]
          },
          "metadata": {},
          "execution_count": 64
        }
      ],
      "source": [
        "# #@title topk DESM Docs in Vis\n",
        "# #Vs Doc containing the keyword (Not used anymore)\n",
        "# topk=100 #@param {type:\"slider\", min:50, max:1000, step:50}\n",
        "\n",
        "### Document closest to any one of the actual labels (all except dummy) ####\n",
        "min_d, min_d_keyidx = torch.min(dist_doc_key,-1)\n",
        "wh_not_dummy_idx = torch.where(min_d_keyidx != len(keywords))[0].numpy()\n",
        "\n",
        "topk = len(wh_not_dummy_idx)\n",
        "sorted_docs, sorted_idxs = torch.sort(docs_rscore,descending=True)\n",
        "topk_DESM_idxs = sorted_idxs[:topk].numpy()\n",
        "topk_DESM_scores = sorted_docs[:topk].numpy()\n",
        "# relv_idxs = np.asarray([np.where(doc_ids == topk_DESM_idxs[i])[0][0] for i in range(len(topk_DESM_idxs)) ])\n",
        "\n",
        "topk_desm_x = x_list[topk_DESM_idxs]\n",
        "topk_desm_x_label = labels_list[topk_DESM_idxs]\n",
        "DESM_Foto_common = np.intersect1d(wh_not_dummy_idx[:topk],topk_DESM_idxs)\n",
        "#### Doc containing the keyword ####\n",
        "# all_key_doc_vis = []\n",
        "# for k in keywords:\n",
        "#   all_key_doc_vis.extend(doc_contains_keyidx[k])\n",
        "# doc_ids_doc_Conkey = np.asarray([np.where(doc_ids == i)[0][0] for i in all_key_doc_vis])\n",
        "len(wh_not_dummy_idx),len(DESM_Foto_common)"
      ]
    },
    {
      "cell_type": "code",
      "execution_count": null,
      "metadata": {
        "cellView": "form",
        "id": "i0bAD46-X5XD"
      },
      "outputs": [],
      "source": [
        "#@title plot F(n) - fig_On_fig + doc_id_on_fig\n",
        "\n",
        "def plot_fig_doc(zx, labels_list, zphi, query_center,query_words,keywords,lim,C,doc_ids,all_key_doc_vis,contour='No'):\n",
        "\n",
        "    fig, ax = plt.subplots( figsize=(20, 20))\n",
        "    if contour=='yes':\n",
        "       get_Contour(ax,zx,lim)\n",
        "\n",
        "    labels_dict = get_labels_dict(sorted_unique_labels)\n",
        "    # sb.scatterplot(ax=ax,x=zx[:,0],y=zx[:,1],hue=labels_list,alpha=0.8,palette='deep')\n",
        "    sb.scatterplot(ax=ax,x=zx[:,0],y=zx[:,1],hue=labels_list,alpha=0.8,palette=labels_dict)\n",
        "\n",
        "    ax.set(ylim=(-lim,lim))\n",
        "    ax.set(xlim=(-lim,lim))\n",
        "\n",
        "    for i in range(len(query_words)):\n",
        "      if (i==len(query_words)-1):\n",
        "        ax.text(query_words[i][0],query_words[i][1], 'X'+keywords[i] ,c='black',weight='bold')\n",
        "      else:\n",
        "        ax.text(query_words[i][0],query_words[i][1], 'X'+keywords[i] ,c='black',weight='bold')\n",
        "\n",
        "    ax.scatter(zphi[:, 0], zphi[:, 1], alpha=1.0,  edgecolors='black', facecolors='none', s=30)\n",
        "\n",
        "    for id in doc_ids:\n",
        "      if id in all_key_doc_vis:\n",
        "    #     # zidx = np.where(doc_ids==id)\n",
        "        ax.text(zx[id,0],zx[id,1], 'D'+str(id) ,c='blue')\n",
        "\n",
        "    for indx, topic in enumerate(zphi):\n",
        "        ax.text(zphi[indx, 0], zphi[indx, 1], 'topic'+str(indx))\n",
        "\n",
        "def plot_fig_On_fig(zx, labels_list,doc_Cx,doc_Cl, zphi, query_center,query_words,keywords,lim,contour='No'):\n",
        "\n",
        "    fig, ax = plt.subplots( figsize=(20, 20))\n",
        "    if contour=='yes':\n",
        "       get_Contour(ax,zx,lim)\n",
        "\n",
        "\n",
        "    labels_dict = get_labels_dict(sorted_unique_labels)\n",
        "    g1 = sb.scatterplot(ax=ax,x=zx[:,0],y=zx[:,1],hue=labels_list,palette=labels_dict,alpha=1.0,s=200) # DESM\n",
        "    # g2 = sb.scatterplot(ax=ax,x=doc_Cx[:,0],y=doc_Cx[:,1],hue=doc_Cl,palette=labels_dict,alpha=0.5,marker=\"X\",s=50)\n",
        "    g2 = sb.scatterplot(ax=ax,x=doc_Cx[:,0],y=doc_Cx[:,1],c=['black']*len(doc_Cx),alpha=0.5,marker=\"X\",s=200)\n",
        "\n",
        "    ax.set(ylim=(-lim,lim))\n",
        "    ax.set(xlim=(-lim,lim))\n",
        "\n",
        "\n",
        "    for i in range(len(query_words)):\n",
        "      if (i==len(query_words)-1):\n",
        "        ax.text(query_words[i][0],query_words[i][1], 'X'+keywords[i] ,c='black',weight='bold')\n",
        "      else:\n",
        "        ax.text(query_words[i][0],query_words[i][1], 'X'+keywords[i] ,c='black',weight='bold')\n",
        "\n",
        "    ax.scatter(zphi[:, 0], zphi[:, 1], alpha=1.0,  edgecolors='black', facecolors='none', s=50)\n",
        "\n",
        "    for indx, topic in enumerate(zphi):\n",
        "        ax.text(zphi[indx, 0], zphi[indx, 1], 'topic'+str(indx))"
      ]
    },
    {
      "cell_type": "code",
      "execution_count": null,
      "metadata": {
        "id": "rAAbQoUXOeDU",
        "colab": {
          "base_uri": "https://localhost:8080/"
        },
        "outputId": "0b4d2c7b-f9b2-4e29-b61d-cd6125bc45e3"
      },
      "outputs": [
        {
          "output_type": "stream",
          "name": "stdout",
          "text": [
            "------------------------------\n",
            "0: deal firm share oil year india market hit price sale economy buy biggest stock car boost south high record group\n",
            "1: office box film man john peel host bbc late died three creator robert air director producer tuesday radio legendary chosen\n",
            "2: deal firm sale hit oil share price year india market record economy south biggest boost stock high airline buy car\n",
            "3: nation cup european win saturday return champion league ireland side second indoor scotland madrid major italy sunday match medal month\n",
            "4: court chief company charge trial bos half rule executive government told phone fraud firm fund poor trade money life country\n",
            "5: bank china job profit growth cut rover rate time financial rise economy reported chinese year top firm cost delayed interest\n",
            "6: election general blair michael party howard microsoft tony leader time tory game future politics offer people big set charles real\n",
            "7: plan minister net microsoft internet broadband government brown software sony law peer anti budget sport secretary medium gordon controversial online\n",
            "8: deal firm oil share sale hit price year india market economy record south biggest boost stock buy high airline car\n",
            "9: film star award year oscar best actor top book monday celebrity three movie french hollywood british london west won facing\n",
            "10: england mobile manager wale face game player coach apple football injury club international named nation half web season british year\n",
            "11: help mobile security aid mail place manchester alex virus spam bos british christmas chelsea anti fight computer wenger united sir\n",
            "12: music chart band film rock festival singer year director single star pop number musical album stage song berlin comedy hit\n",
            "13: award top win oscar prize best set star vinci winning year film book actor bbc british lead robinson french movie\n",
            "14: open final australian victory title win defeat championship play britain roddick quarter friday spain double tennis andy men williams union\n",
            "------------------------------\n",
            "['microsoft', 'computer']\n"
          ]
        }
      ],
      "source": [
        "print_Topics(topwords=20)\n",
        "print(get_keywords(d_data)) #, which_focus,threshold_model"
      ]
    },
    {
      "cell_type": "code",
      "execution_count": null,
      "metadata": {
        "id": "3HChUYWZny-p",
        "colab": {
          "base_uri": "https://localhost:8080/"
        },
        "outputId": "bf857bfc-8140-4d79-f00b-8c8eaad45db0"
      },
      "outputs": [
        {
          "output_type": "stream",
          "name": "stdout",
          "text": [
            "microsoft  :  ['microsoft' 'spyware' 'desktop' 'patch' 'xbox' 'browser' 'safer' 'bug'\n",
            " 'cable' 'source' 'investigating' 'scare' 'halo' 'sight' 'nintendo'\n",
            " 'program' 'piracy' 'searcher' 'window' 'confuse']\n",
            "computer  :  ['computer' 'brainwave' 'tempt' 'lease' 'commodore' 'ownership' 'fbi'\n",
            " 'trusted' 'mac' 'processor' 'audio' 'ibm' 'shopper' 'spyware' 'patent'\n",
            " 'mouse' 'virus' 'tape' 'chip' 'program']\n"
          ]
        }
      ],
      "source": [
        "for k in range(len(keywords)):\n",
        "  v, i = torch.sort(all_keywords_score[k],descending=True)\n",
        "  print(keywords[k],\" : \",np.array(word_list)[np.array(i)][:20])"
      ]
    },
    {
      "cell_type": "code",
      "execution_count": null,
      "metadata": {
        "id": "4XHM7TmQXCoL"
      },
      "outputs": [],
      "source": [
        "# # plot_fig_On_fig(topk_desm_x, topk_desm_x_label,x_list[wh_not_dummy_idx][:topk],labels_list[wh_not_dummy_idx][:topk],\n",
        "# #                 zphi,query_center,query_words,keywords=keyword_vis_labels,lim =15,contour='yes') # x: Closest to keywords\n",
        "\n",
        "# plot_fig(topk_desm_x, topk_desm_x_label, zphi,query_center,query_words=query_words,\n",
        "#          keywords=keyword_vis_labels,lim =20,contour='yes')\n",
        "\n",
        "# topk = len(wh_not_dummy_idx)\n",
        "# plot_fig(x_list[wh_not_dummy_idx][:topk], labels_list[wh_not_dummy_idx][:topk], zphi,query_center,query_words=query_words,\n",
        "#          keywords=keyword_vis_labels,lim =20,contour='yes')"
      ]
    },
    {
      "cell_type": "code",
      "source": [
        "plot_fig(x_list, labels_list, zphi,query_center,query_words=query_words,\n",
        "         keywords=keyword_vis_labels,lim =20,contour='yes')\n",
        "\n",
        "# # plot_fig(x_list[DESM_Foto_common], labels_list[DESM_Foto_common], zphi,query_center,query_words=query_words,\n",
        "# #          keywords=keyword_vis_labels,lim =20,contour='yes')\n",
        "\n",
        "# print_Topics(topwords=20)\n",
        "# print(get_keywords(d_data))"
      ],
      "metadata": {
        "id": "uWX4BzToZc_h",
        "colab": {
          "base_uri": "https://localhost:8080/"
        },
        "outputId": "e929e357-1a96-4658-b9d5-ce3131bd6d06"
      },
      "execution_count": null,
      "outputs": [
        {
          "output_type": "display_data",
          "data": {
            "image/png": "[encoded data removed]",
            "text/plain": [
              "<Figure size 1440x1440 with 1 Axes>"
            ]
          },
          "metadata": {
            "needs_background": "light"
          }
        }
      ]
    },
    {
      "cell_type": "code",
      "source": [
        "FoTo_topics = get_topwords(beta,id_vocab,topwords=topwords)"
      ],
      "metadata": {
        "id": "RkZl9-VH7rT_"
      },
      "execution_count": null,
      "outputs": []
    },
    {
      "cell_type": "markdown",
      "source": [
        "# Heatmap Plot"
      ],
      "metadata": {
        "id": "RafVPKDmxCVb"
      }
    },
    {
      "cell_type": "code",
      "source": [
        "vals, idxs = torch.sort(toT(train_vec.sum(0)))\n",
        "id_vocab[idxs[0].item()]"
      ],
      "metadata": {
        "colab": {
          "base_uri": "https://localhost:8080/",
          "height": 37
        },
        "id": "egy-CHYP0rY3",
        "outputId": "128ce125-3624-4747-e77e-0dbec8b86616"
      },
      "execution_count": null,
      "outputs": [
        {
          "output_type": "execute_result",
          "data": {
            "application/vnd.google.colaboratory.intrinsic+json": {
              "type": "string"
            },
            "text/plain": [
              "'lowest'"
            ]
          },
          "metadata": {},
          "execution_count": 71
        }
      ]
    },
    {
      "cell_type": "code",
      "source": [
        "vals"
      ],
      "metadata": {
        "colab": {
          "base_uri": "https://localhost:8080/"
        },
        "id": "m4mxk58NicS6",
        "outputId": "aad4837e-d0b7-444e-e058-40ecadb77738"
      },
      "execution_count": null,
      "outputs": [
        {
          "output_type": "execute_result",
          "data": {
            "text/plain": [
              "tensor([  3,   3,   3,  ..., 120, 174, 199])"
            ]
          },
          "metadata": {},
          "execution_count": 72
        }
      ]
    },
    {
      "cell_type": "code",
      "source": [
        "import numpy as np\n",
        "import pandas as pd\n",
        "import seaborn as sns\n",
        "import matplotlib as mpl\n",
        "import matplotlib.pyplot as plt\n",
        "\n",
        "def plot_heatmap(zx,color,zphi,query_words,keyword_vis_labels,cmap,lim):\n",
        "\n",
        "  fig, ax = plt.subplots( figsize=(20, 20))\n",
        "  # lim = 15\n",
        "  ax.set(ylim=(-lim,lim))\n",
        "  ax.set(xlim=(-lim,lim))\n",
        "\n",
        "  # color = 'red'\n",
        "  plt.scatter(x=zx[:,0],y=zx[:,1], alpha = 1.0, c = 'red', cmap = cmap,edgecolors='white',s=60)\n",
        "  zxd = zx[color]\n",
        "  plt.scatter(x=zxd[:,0],y=zxd[:,1], alpha = 1.0, c = 'blue', cmap = cmap,edgecolors='white',s=60, marker='x')\n",
        "  # ax.collections[0].colorbar.set_label(\"Hello\")\n",
        "  # cbar = plt.colorbar()\n",
        "\n",
        "\n",
        "  for i in range(len(query_words)):\n",
        "    if (i==len(query_words)-1):\n",
        "      ax.text(query_words[i][0],query_words[i][1], 'X'+keyword_vis_labels[i] ,c='black',weight='bold')\n",
        "    else:\n",
        "      ax.text(query_words[i][0],query_words[i][1], 'X'+keyword_vis_labels[i] ,c='black',weight='bold')\n",
        "\n",
        "  ax.scatter(zphi[:, 0], zphi[:, 1], alpha=1.0,  edgecolors='black', facecolors='none', s=30)\n",
        "\n",
        "  for indx, topic in enumerate(zphi):\n",
        "      ax.text(zphi[indx, 0], zphi[indx, 1], 'topic'+str(indx),weight='bold')"
      ],
      "metadata": {
        "id": "NHfKfHFqxGD6"
      },
      "execution_count": null,
      "outputs": []
    },
    {
      "cell_type": "code",
      "source": [
        "def plot_heatmap1(zx,color,color2,zphi,query_words,keyword_vis_labels,cmap,lim):\n",
        "\n",
        "  fig, ax = plt.subplots( figsize=(20, 20))\n",
        "  # lim = 15\n",
        "  ax.set(ylim=(-lim,lim))\n",
        "  ax.set(xlim=(-lim,lim))\n",
        "\n",
        "  # color = 'red'\n",
        "  plt.scatter(x=zx[:,0],y=zx[:,1], alpha = 1.0, c = 'pink', cmap = cmap,edgecolors='white',s=60)\n",
        "  zxd = zx[color]\n",
        "  plt.scatter(x=zxd[:,0],y=zxd[:,1], alpha = 1.0, c = 'red', cmap = cmap,edgecolors='white',s=60, marker='x')\n",
        "  zxd2 = zx[color2]\n",
        "  plt.scatter(x=zxd2[:,0],y=zxd2[:,1], alpha = 1.0, c = 'yellow', cmap = cmap,edgecolors='white',s=60, marker='x')\n",
        "  # ax.collections[0].colorbar.set_label(\"Hello\")\n",
        "  # cbar = plt.colorbar()\n",
        "\n",
        "\n",
        "  for i in range(len(query_words)):\n",
        "    if (i==len(query_words)-1):\n",
        "      ax.text(query_words[i][0],query_words[i][1], 'X'+keyword_vis_labels[i] ,c='black',weight='bold')\n",
        "    else:\n",
        "      ax.text(query_words[i][0],query_words[i][1], 'X'+keyword_vis_labels[i] ,c='black',weight='bold')\n",
        "\n",
        "  ax.scatter(zphi[:, 0], zphi[:, 1], alpha=1.0,  edgecolors='black', facecolors='none', s=30)\n",
        "\n",
        "  for indx, topic in enumerate(zphi):\n",
        "      ax.text(zphi[indx, 0], zphi[indx, 1], 'topic'+str(indx),weight='bold')"
      ],
      "metadata": {
        "id": "pmfOhdXVc5AX"
      },
      "execution_count": null,
      "outputs": []
    },
    {
      "cell_type": "code",
      "source": [
        "def plot_examples(cms):\n",
        "    \"\"\"\n",
        "    helper function to plot two colormaps\n",
        "    \"\"\"\n",
        "    np.random.seed(19680801)\n",
        "    data = np.random.randn(30, 30)\n",
        "\n",
        "    fig, axs = plt.subplots(1, 2, figsize=(6, 3), constrained_layout=True)\n",
        "    for [ax, cmap] in zip(axs, cms):\n",
        "        psm = ax.pcolormesh(data, cmap=cmap, rasterized=True, vmin=-4, vmax=4)\n",
        "        fig.colorbar(psm, ax=ax)\n",
        "    plt.show()"
      ],
      "metadata": {
        "id": "S9MXdTOZevSb"
      },
      "execution_count": null,
      "outputs": []
    },
    {
      "cell_type": "code",
      "source": [
        "import matplotlib.colors as clr\n",
        "import numpy as np\n",
        "some_matrix = np.random.rand(10,10)\n",
        "red = \"#ff0000\"\n",
        "yellow = '#ffe603'\n",
        "green = \"#02730c\"\n",
        "cmap = clr.LinearSegmentedColormap.from_list('custom', [green,yellow,red], N=256)\n",
        "plt.matshow(some_matrix, cmap=cmap)\n",
        "# plt.show()"
      ],
      "metadata": {
        "colab": {
          "base_uri": "https://localhost:8080/",
          "height": 294
        },
        "id": "KkYRtf3AvhgM",
        "outputId": "8c068a7e-8c94-491a-9956-bbd5569dcc3e"
      },
      "execution_count": null,
      "outputs": [
        {
          "output_type": "execute_result",
          "data": {
            "text/plain": [
              "<matplotlib.image.AxesImage at 0x7f4256497c90>"
            ]
          },
          "metadata": {},
          "execution_count": 76
        },
        {
          "output_type": "display_data",
          "data": {
            "image/png": "[encoded data removed]",
            "text/plain": [
              "<Figure size 288x288 with 1 Axes>"
            ]
          },
          "metadata": {
            "needs_background": "light"
          }
        }
      ]
    },
    {
      "cell_type": "code",
      "source": [
        "# co = [1 for i in range(len(docs_rscore))]\n",
        "# co[0] = 0.9\n",
        "# co[0:10] = [0.0]*10"
      ],
      "metadata": {
        "id": "sLcYbH0g5rbL"
      },
      "execution_count": null,
      "outputs": []
    },
    {
      "cell_type": "code",
      "source": [
        "# delivery_score = key_rscores[-1][doc_ids]\n",
        "# docs_rscore1 = docs_rscore.clone()"
      ],
      "metadata": {
        "id": "yr1cVheIEZqN"
      },
      "execution_count": null,
      "outputs": []
    },
    {
      "cell_type": "code",
      "source": [
        "# docs_rscore = delivery_score\n",
        "plt_vals, plt_idx = torch.sort(docs_rscore)\n",
        "# torch.sort(plt_vals[len(docs_rscore)//2:],descending=True) # .flip(dims=[0]) flips tensor\n",
        "\n",
        "l = r = len(docs_rscore)//4\n",
        "mid = l+1 + len(docs_rscore)//2\n",
        "\n",
        "all_idx = torch.cat((plt_idx[l+1:mid] , plt_idx[:l], plt_idx[-r:]),0) # seq -> middle 0.25 - 0.75 then bottom 0 - 0.25 and finally top 0.75 - 1.0"
      ],
      "metadata": {
        "id": "_xZfz1tB8r9u"
      },
      "execution_count": null,
      "outputs": []
    },
    {
      "cell_type": "code",
      "source": [
        "# sortv , sortidx = torch.sort(docs_rscore,descending=True)"
      ],
      "metadata": {
        "id": "q-OwZBC0KC5r"
      },
      "execution_count": null,
      "outputs": []
    },
    {
      "cell_type": "code",
      "source": [
        "changed_doc_Vis_idxs = np.asarray([np.where(doc_ids == docs_idx_dict['sport'][i])[0][0] for i in range(len(docs_idx_dict['sport'])) ])\n",
        "changed_doc_Vis_idxs2 = np.asarray([np.where(doc_ids == docs_idx_dict['politics'][i])[0][0] for i in range(len(docs_idx_dict['politics'])) ])"
      ],
      "metadata": {
        "id": "4GSusKriznVk"
      },
      "execution_count": null,
      "outputs": []
    },
    {
      "cell_type": "code",
      "source": [
        "# plot_heatmap(x_list[changed_doc_Vis_idxs],docs_rscore[changed_doc_Vis_idxs],zphi,query_words,keyword_vis_labels,cmap=cmap,lim=15) # cmap  #magma, seismic, autumn, (Pastel2,Dark2,Paired)"
      ],
      "metadata": {
        "id": "NB2ILumY0FRp"
      },
      "execution_count": null,
      "outputs": []
    },
    {
      "cell_type": "code",
      "source": [
        "print_Topics(topwords=20)\n",
        "print(get_keywords(d_data))"
      ],
      "metadata": {
        "colab": {
          "base_uri": "https://localhost:8080/"
        },
        "id": "CXHzetnNEWPR",
        "outputId": "74b96bf1-f9b9-4f49-9d7e-e2285b4ae152"
      },
      "execution_count": null,
      "outputs": [
        {
          "output_type": "stream",
          "name": "stdout",
          "text": [
            "------------------------------\n",
            "0: deal firm share oil year india market hit price sale economy buy biggest stock car boost south high record group\n",
            "1: office box film man john peel host bbc late died three creator robert air director producer tuesday radio legendary chosen\n",
            "2: deal firm sale hit oil share price year india market record economy south biggest boost stock high airline buy car\n",
            "3: nation cup european win saturday return champion league ireland side second indoor scotland madrid major italy sunday match medal month\n",
            "4: court chief company charge trial bos half rule executive government told phone fraud firm fund poor trade money life country\n",
            "5: bank china job profit growth cut rover rate time financial rise economy reported chinese year top firm cost delayed interest\n",
            "6: election general blair michael party howard microsoft tony leader time tory game future politics offer people big set charles real\n",
            "7: plan minister net microsoft internet broadband government brown software sony law peer anti budget sport secretary medium gordon controversial online\n",
            "8: deal firm oil share sale hit price year india market economy record south biggest boost stock buy high airline car\n",
            "9: film star award year oscar best actor top book monday celebrity three movie french hollywood british london west won facing\n",
            "10: england mobile manager wale face game player coach apple football injury club international named nation half web season british year\n",
            "11: help mobile security aid mail place manchester alex virus spam bos british christmas chelsea anti fight computer wenger united sir\n",
            "12: music chart band film rock festival singer year director single star pop number musical album stage song berlin comedy hit\n",
            "13: award top win oscar prize best set star vinci winning year film book actor bbc british lead robinson french movie\n",
            "14: open final australian victory title win defeat championship play britain roddick quarter friday spain double tennis andy men williams union\n",
            "------------------------------\n",
            "['microsoft', 'computer']\n"
          ]
        }
      ]
    },
    {
      "cell_type": "code",
      "source": [
        "plot_heatmap1(x_list,changed_doc_Vis_idxs,changed_doc_Vis_idxs2,zphi,query_words,keyword_vis_labels,cmap=cmap,lim=10) # cmap  #magma, seismic, autumn, (Pastel2,Dark2,Paired)"
      ],
      "metadata": {
        "colab": {
          "base_uri": "https://localhost:8080/",
          "height": 833
        },
        "id": "zQ_tStEZUu5A",
        "outputId": "74b58020-d082-4d5c-f7b3-704e47895989"
      },
      "execution_count": null,
      "outputs": [
        {
          "output_type": "display_data",
          "data": {
            "image/png": "[encoded data removed]",
            "text/plain": [
              "<Figure size 1440x1440 with 1 Axes>"
            ]
          },
          "metadata": {
            "needs_background": "light"
          }
        }
      ]
    },
    {
      "cell_type": "code",
      "source": [
        "# plot_heatmap(x_list[plt_idx[:100]],docs_rscore[plt_idx[:100]],zphi,query_words,keyword_vis_labels,cmap=cmap,lim=20) # cmap  #magma, seismic, autumn, (Pastel2,Dark2,Paired)"
      ],
      "metadata": {
        "id": "SY8b4D97NBD8"
      },
      "execution_count": null,
      "outputs": []
    },
    {
      "cell_type": "code",
      "source": [
        "# # scaled_dist = scaler.fit_transform(dist_doc_key[:,len(keywords)].reshape(-1,1))\n",
        "\n",
        "# min_d_ok = torch.min(dist_doc_key[:,:-1],-1).values\n",
        "# scaled_dist = scaler.fit_transform(min_d_ok.reshape(-1,1))\n",
        "# plot_heatmap(x_list,1-min_d_ok,zphi,query_words,keyword_vis_labels,cmap=newcmp,lim=20)"
      ],
      "metadata": {
        "id": "5s5RBEmuBT0Z"
      },
      "execution_count": null,
      "outputs": []
    },
    {
      "cell_type": "code",
      "source": [
        " STOP!!"
      ],
      "metadata": {
        "id": "Z48Vwjjxw4dd",
        "colab": {
          "base_uri": "https://localhost:8080/",
          "height": 137
        },
        "outputId": "19ec2ca0-44d9-4833-9cc0-832084396185"
      },
      "execution_count": null,
      "outputs": [
        {
          "output_type": "error",
          "ename": "SyntaxError",
          "evalue": "ignored",
          "traceback": [
            "\u001b[0;36m  File \u001b[0;32m\"<ipython-input-87-480d53eab50e>\"\u001b[0;36m, line \u001b[0;32m1\u001b[0m\n\u001b[0;31m    STOP!!\u001b[0m\n\u001b[0m        ^\u001b[0m\n\u001b[0;31mSyntaxError\u001b[0m\u001b[0;31m:\u001b[0m invalid syntax\n"
          ]
        }
      ]
    },
    {
      "cell_type": "markdown",
      "metadata": {
        "id": "NvlNjua3jg87"
      },
      "source": [
        "# PLSV_VAE"
      ]
    },
    {
      "cell_type": "code",
      "metadata": {
        "id": "rkdYhGMujg87"
      },
      "source": [
        "import sklearn\n",
        "import pickle\n",
        "import torch\n",
        "from torch.utils.data import Dataset, DataLoader\n",
        "import torch.nn as nn\n",
        "import torch.nn.functional as F\n",
        "import torch.optim as optim\n",
        "import numpy as np\n",
        "import torch.utils.data as data_utils\n",
        "from torch.utils.data import Dataset, DataLoader, TensorDataset\n",
        "from types import SimpleNamespace\n",
        "from torch.nn import Parameter\n",
        "\n",
        "bs = 256\n",
        "en1_units_x = 100\n",
        "en2_units_x = 100\n",
        "variance_x = 1.0\n",
        "learning_rate = 0.002\n",
        "beta1 = 0.99\n",
        "beta2 = 0.999\n",
        "drop_rate = 0.6\n",
        "num_topic = 15\n",
        "num_coordinate = 2\n",
        "\n",
        "def gaussian(alpha):\n",
        "    # phi = torch.exp(-5*alpha)\n",
        "    phi = -0.5*alpha\n",
        "    return phi\n",
        "\n",
        "def inverse_multi_quadric(alpha):\n",
        "    phi = -0.5*torch.log(torch.ones_like(alpha) + alpha)\n",
        "    return phi\n",
        "\n",
        "def inverse_quadratic(alpha):\n",
        "    # phi = torch.ones_like(alpha) / (torch.ones_like(alpha) + alpha)\n",
        "    phi = -torch.log(torch.ones_like(alpha) + alpha)\n",
        "    return phi\n",
        "\n",
        "class PlsvVAE(nn.Module):\n",
        "    def __init__(self, num_input, en1_units_x, en2_units_x, num_coordinate, num_topic, drop_rate, variance_x, bs, distance=\"gaussian\"):\n",
        "        super(PlsvVAE, self).__init__()\n",
        "        self.num_input, self.num_coordinate, self.num_topic, self.variance_x, self.bs\\\n",
        "            = num_input, num_coordinate, num_topic, variance_x, bs\n",
        "\n",
        "        # encoder\n",
        "        self.en1_fc     = nn.Linear(num_input, en1_units_x)             # V -> 100 #nxV->(vxh1)->nxh1;\n",
        "        self.en2_fc     = nn.Linear(en1_units_x, en2_units_x)             # 100  -> 100\n",
        "        self.en2_drop   = nn.Dropout(drop_rate)\n",
        "        self.mean_fc    = nn.Linear(en2_units_x, num_coordinate)        # 100  -> 2\n",
        "        self.mean_bn    = nn.BatchNorm1d(num_coordinate)              # bn for mean\n",
        "        self.logvar_fc  = nn.Linear(en2_units_x, num_coordinate)        # 100  -> 2\n",
        "        self.logvar_bn  = nn.BatchNorm1d(num_coordinate)              # bn for logvar\n",
        "\n",
        "\n",
        "        # RBF\n",
        "        self.in_features = self.num_coordinate\n",
        "        self.out_features = self.num_topic\n",
        "        self.centres = nn.Parameter(torch.Tensor(self.out_features, self.in_features))\n",
        "        if distance==\"gaussian\":\n",
        "            self.basis_func = gaussian\n",
        "        if distance==\"inverse_quadratic\":\n",
        "            self.basis_func = inverse_quadratic\n",
        "        if distance==\"inverse_multi_quadric\":\n",
        "            self.basis_func = inverse_multi_quadric\n",
        "        self.init_parameters()\n",
        "\n",
        "\n",
        "        # decoder layer\n",
        "        self.decoder    = nn.Linear(self.num_topic, self.num_input)             # 50   -> 1995\n",
        "        self.decoder_bn = nn.BatchNorm1d(self.num_topic)                      # bn for decoder\n",
        "\n",
        "        # decoder document\n",
        "        self.decoder_phi_bn = nn.BatchNorm1d(num_coordinate)                      # bn for decoder\n",
        "        self.decoder_x_bn = nn.BatchNorm1d(num_coordinate)\n",
        "        # prior mean and variance as constant buffers\n",
        "        prior_mean   = torch.Tensor(1, num_coordinate).fill_(0)\n",
        "        prior_var    = torch.Tensor(1, num_coordinate).fill_(variance_x)\n",
        "        self.prior_mean = nn.Parameter(prior_mean, requires_grad=False)\n",
        "        self.prior_var  = nn.Parameter(prior_var, requires_grad=False)\n",
        "        self.prior_logvar = nn.Parameter(prior_var.log(), requires_grad=False)\n",
        "\n",
        "\n",
        "\n",
        "    def init_parameters(self):\n",
        "        nn.init.normal_(self.centres, 0, 0.01)\n",
        "\n",
        "    def encode(self, input_):\n",
        "        N, *_ = input_.size()\n",
        "        # compute posterior\n",
        "        en1 = F.softplus(self.en1_fc(input_))                           # en1_fc   output\n",
        "        en2 = F.softplus(self.en2_fc(en1))                              # encoder2 output\n",
        "        en2 = self.en2_drop(en2)\n",
        "        posterior_mean   = self.mean_bn  (self.mean_fc  (en2))          # posterior mean\n",
        "        posterior_logvar = self.logvar_bn(self.logvar_fc(en2))          # posterior log variance\n",
        "        posterior_var    = posterior_logvar.exp()\n",
        "\n",
        "        return en2, posterior_mean, posterior_logvar, posterior_var\n",
        "\n",
        "    def take_sample(self, input_, posterior_mean, posterior_var, prior_var):\n",
        "        # take sample\n",
        "        eps = input_.data.new().resize_as_(posterior_mean.data).normal_(std=1) # noise\n",
        "        # N x X\n",
        "        z = posterior_mean + posterior_var.sqrt() * eps                   # reparameterization\n",
        "\n",
        "        return z\n",
        "\n",
        "    def decode(self, z):\n",
        "        # decode\n",
        "\n",
        "        N, *_ = z.size()\n",
        "        zx = self.decoder_x_bn(z).view(N, 1, self.num_coordinate) # Nx1xX\n",
        "\n",
        "        size = (N, self.out_features, self.in_features)\n",
        "        x = zx.expand(size)\n",
        "        c = self.decoder_phi_bn(self.centres).unsqueeze(0).expand(size)\n",
        "        d = (x-c).pow(2).sum(-1)\n",
        "\n",
        "        distances = self.basis_func(d)#NxK\n",
        "\n",
        "        zx_phi = torch.exp(distances - torch.logsumexp(distances, dim=-1, keepdim=True))\n",
        "\n",
        "        recon_v = torch.mm(zx_phi, F.softmax(self.decoder_bn(self.decoder.weight).transpose(1,0), dim=-1))\n",
        "\n",
        "        return recon_v, zx, zx_phi, d\n",
        "\n",
        "    def forward(self, input_, compute_loss=False):\n",
        "        en2, posterior_mean, posterior_logvar, posterior_var = self.encode(input_)\n",
        "        z = self.take_sample(input_, posterior_mean, posterior_var, self.variance_x)#\n",
        "        # decode\n",
        "        recon_v, zx, zx_phi,d  = self.decode(z)\n",
        "\n",
        "        if compute_loss:\n",
        "            return recon_v, self.loss(input_, recon_v, zx_phi, posterior_mean, posterior_logvar, posterior_var, d)\n",
        "        else:\n",
        "            return z, recon_v, zx, zx_phi\n",
        "\n",
        "\n",
        "    def loss(self, input_, recon_v, zx_phi, posterior_mean, posterior_logvar, posterior_var, d, avg=True):\n",
        "        N = posterior_mean.shape[0]\n",
        "        L = recon_v.shape[0]\n",
        "        NL = -(input_ * (recon_v+1e-10).log()).sum(-1)\n",
        "\n",
        "        prior_mean   = self.prior_mean.expand_as(posterior_mean)\n",
        "        prior_var    = self.prior_var.expand_as(posterior_mean)\n",
        "        prior_logvar = self.prior_logvar.expand_as(posterior_mean)\n",
        "        var_division    = posterior_var  / prior_var #Nx2\n",
        "        diff            = posterior_mean - prior_mean\n",
        "        diff_term       = diff * diff / prior_var\n",
        "        logvar_division = prior_logvar - posterior_logvar\n",
        "\n",
        "\n",
        "        KL = 0.5 * ( (var_division + diff_term + logvar_division).sum(-1) - self.num_coordinate)\n",
        "        NL_mean = NL.mean()\n",
        "        KL_mean = KL.mean()\n",
        "        loss = NL_mean + KL_mean\n",
        "\n",
        "        return loss, NL_mean, KL_mean"
      ],
      "execution_count": null,
      "outputs": []
    },
    {
      "cell_type": "markdown",
      "metadata": {
        "id": "IelvuAFrjg87"
      },
      "source": [
        "## Train"
      ]
    },
    {
      "cell_type": "code",
      "metadata": {
        "id": "y7rBMAKCjg88"
      },
      "source": [
        "# def train(tensor_train_w,train_label,num_input,num_topic):\n",
        "model = PlsvVAE(num_input, en1_units_x, en2_units_x, num_coordinate, num_topic, drop_rate, variance_x, bs, \"inverse_quadratic\")\n",
        "model.to(device)\n",
        "optimizer = optim.Adam(model.parameters(), learning_rate, betas=(beta1, beta2))\n",
        "epochs = 1000\n",
        "phi_arr = []\n",
        "beta_arr = []\n",
        "x_arr = []\n",
        "recon_arr = []\n",
        "list_d = []\n",
        "all_indices = torch.randperm(tensor_train_w.size(0)).split(bs)\n",
        "\n",
        "for epoch in range(epochs):\n",
        "\n",
        "    loss_u_epoch = 0.0\n",
        "    loss_xkl_epoch = 0.0\n",
        "    loss_betakl_epoch = 0.0\n",
        "    loss_phikl_epoch = 0.0\n",
        "    loss_KLD = 0.0\n",
        "    loss_phi_epoch = 0.0\n",
        "    recon_ep = 0.0\n",
        "    loss_epoch = 0.0\n",
        "    model.train()\n",
        "    d_temp = []\n",
        "\n",
        "    for batch_ndx in all_indices:\n",
        "\n",
        "        input_w = tensor_train_w[batch_ndx].to(device)\n",
        "        labels = train_label[batch_ndx]\n",
        "        input_c = None\n",
        "        recon_v, (loss, loss_u, kl) = model(input_w, compute_loss=True)\n",
        "\n",
        "        optimizer.zero_grad()\n",
        "        loss.backward()\n",
        "\n",
        "        optimizer.step()             # backpror.step()            # update parameters\n",
        "\n",
        "        loss_epoch += loss.item()\n",
        "        loss_u_epoch += loss_u.item()\n",
        "        loss_KLD += kl.item() #/ len(tensor_train_w))\n",
        "        recon_ep += recon_v.mean().item()\n",
        "        current_model = model\n",
        "\n",
        "    x_arr.append(loss_xkl_epoch)\n",
        "    recon_arr.append(loss_u_epoch)\n",
        "\n",
        "    if epoch % 10 == 0:\n",
        "        print('Epoch {}, loss={}'.format(epoch, loss_epoch))\n",
        "        print('recon_loss={}, KLD= {}'.format(loss_u_epoch, loss_KLD))\n",
        "# return current_model,all_indices"
      ],
      "execution_count": null,
      "outputs": []
    },
    {
      "cell_type": "markdown",
      "source": [
        "## Test"
      ],
      "metadata": {
        "id": "hZ2z56ADxJZk"
      }
    },
    {
      "cell_type": "code",
      "metadata": {
        "id": "1f6UNXFujg88"
      },
      "source": [
        "def cal_knn(coordinate, label):\n",
        "    output = []\n",
        "    for n_neighbors in [10, 20, 30, 40, 50]:\n",
        "        neigh = KNeighborsClassifier(n_neighbors=n_neighbors, n_jobs=-1)\n",
        "        neigh.fit(coordinate, label)\n",
        "        output.append(neigh.score(coordinate, label))\n",
        "    return output\n",
        "\n",
        "model.eval()\n",
        "x_list = []\n",
        "labels_list = []\n",
        "doc_ids= []\n",
        "docs_rscore = []\n",
        "with torch.no_grad():\n",
        "    for batch_ndx in all_indices:\n",
        "        input_w = tensor_train_w[batch_ndx].to(device)\n",
        "        labels = train_label[batch_ndx]\n",
        "        labels_list.extend(labels)\n",
        "        docs_rscore.extend(normalized_all_rscores[batch_ndx])\n",
        "        z, recon_v, zx, zx_phi = model(input_w, compute_loss=False)\n",
        "        zx = zx.view(-1, num_coordinate).data.detach().cpu().numpy()\n",
        "        x_list.extend(zx)\n",
        "        doc_ids.extend(batch_ndx)\n",
        "\n",
        "    x_list = np.array(x_list)\n",
        "    labels_list = np.asarray(labels_list)\n",
        "    docs_rscore = list_of_tensors_to_tensor(docs_rscore)\n",
        "\n",
        "    beta = model.decoder.weight.data.cpu().numpy().T#\n",
        "    # zphi = model.centres.data.cpu().numpy()\n",
        "    zphi = model.decoder_phi_bn(model.centres).data.cpu().numpy()\n",
        "\n",
        "    # topword_topics = get_topwords(beta, id_vocab,topwords=20)\n",
        "    # print(\"---\"*10)\n",
        "    # for topwords in topword_topics:\n",
        "    #     print(topwords)\n",
        "    # print(\"---\"*10)\n",
        "    query_words = np.array([[0,0],[0,0],[0,0]])\n",
        "    keyword_vis_labels = keywords+['dummy']\n",
        "    PLSV_topics = get_topwords(beta,id_vocab,topwords=topwords)\n",
        "    # print('KNN: ',cal_knn(x_list,labels_list),'KNN mean score: ',np.mean(cal_knn(x_list,labels_list)))\n",
        "    # return x_list,labels_list,zphi,doc_ids,beta"
      ],
      "execution_count": null,
      "outputs": []
    },
    {
      "cell_type": "code",
      "source": [
        "# %%capture_png test.png\n",
        "print_Topics(topwords=20)\n",
        "print(get_keywords(d_data)) #, which_focus,threshold_model\n",
        "plot_heatmap(x_list,docs_rscore,zphi,query_words,keyword_vis_labels,cmap=cmap,lim=30) # cmap  #magma, seismic, autumn, (Pastel2,Dark2,Paired)"
      ],
      "metadata": {
        "id": "CApOb03IL1dQ"
      },
      "execution_count": null,
      "outputs": []
    },
    {
      "cell_type": "markdown",
      "source": [
        "# WTM"
      ],
      "metadata": {
        "id": "hObifgOHF_Gw"
      }
    },
    {
      "cell_type": "code",
      "source": [
        "from torch import Tensor\n",
        "import torch\n",
        "import torch.nn as nn\n",
        "import torch.nn.functional as F\n",
        "import torch.optim as optim\n",
        "from torch.nn import Parameter\n",
        "torch.cuda.empty_cache()\n",
        "\n",
        "bs = 256\n",
        "en1_units_x = 100\n",
        "en2_units_x = 100\n",
        "variance_x = 1.0\n",
        "learning_rate = 0.001\n",
        "beta1 = 0.99\n",
        "beta2 = 0.999\n",
        "dropout = 0.2\n",
        "num_topic = 15\n",
        "num_coordinate = 2\n",
        "\n",
        "#RBF\n",
        "def gaussian(alpha): return -0.5*alpha\n",
        "\n",
        "class WTM(nn.Module):\n",
        "    def __init__(self, num_input, en1_units_x, en2_units_x, num_coordinate, num_topic, drop_rate, variance_x, bs,\n",
        "                 embedding_words, word_emb_size,activation,distance=\"gaussian\"):\n",
        "\n",
        "        super(WTM, self).__init__()\n",
        "        self.num_input, self.num_coordinate, self.num_topic, self.variance_x, self.bs \\\n",
        "            = num_input, num_coordinate, num_topic, variance_x, bs\n",
        "\n",
        "        self.embedding_words = embedding_words\n",
        "        self.emb_size = word_emb_size\n",
        "        self.activation = activation\n",
        "        self.embedding_words = embedding_words\n",
        "        self.emb_size = word_emb_size\n",
        "\n",
        "        # encoder\n",
        "        self.en1_fc     = nn.Linear(num_input, en1_units_x)\n",
        "        self.en2_fc     = nn.Linear(en1_units_x, en2_units_x)\n",
        "        self.mu1_fc     = nn.Linear(2, 100)\n",
        "        self.mu2_fc     = nn.Linear(100, 100)\n",
        "        self.mu_fc      = nn.Linear(100, 300)\n",
        "        self.mu_z = 0\n",
        "\n",
        "        self.en2_drop   = nn.Dropout(drop_rate)\n",
        "        self.mean_fc    = nn.Linear(en2_units_x, num_coordinate)\n",
        "        self.logvar_fc  = nn.Linear(en2_units_x, num_coordinate)\n",
        "\n",
        "        self.mean_bn    = nn.BatchNorm1d(num_coordinate)\n",
        "        self.logvar_bn  = nn.BatchNorm1d(num_coordinate)\n",
        "        self.decoder_x_bn = nn.BatchNorm1d(num_coordinate)\n",
        "        self.decoder_phi_bn = nn.BatchNorm1d(num_coordinate)\n",
        "        self.decoder_bn = nn.BatchNorm1d(self.num_topic)\n",
        "        self.mu_z_bn = nn.BatchNorm1d(self.emb_size)\n",
        "\n",
        "        # RBF\n",
        "        self.in_features = self.num_coordinate\n",
        "        self.out_features = self.num_topic\n",
        "        self.topics = nn.Parameter(torch.Tensor(self.out_features, self.in_features)) # K x 2\n",
        "        self.beta_bias = nn.Parameter(torch.Tensor(self.out_features,self.num_input))\n",
        "\n",
        "        if distance==\"gaussian\": self.basis_func = gaussian\n",
        "        if distance==\"inverse_quadratic\": self.basis_func = inverse_quadratic\n",
        "        self.init_parameters()\n",
        "\n",
        "        # prior mean and variance as constant buffers\n",
        "        prior_mean   = torch.Tensor(1, num_coordinate).fill_(0)\n",
        "        prior_var    = torch.Tensor(1, num_coordinate).fill_(variance_x)\n",
        "        self.prior_mean = nn.Parameter(prior_mean, requires_grad=False)\n",
        "        self.prior_var  = nn.Parameter(prior_var, requires_grad=False)\n",
        "        self.prior_logvar = nn.Parameter(prior_var.log(), requires_grad=False)\n",
        "\n",
        "    def init_parameters(self):\n",
        "        nn.init.normal_(self.topics, 0, 0.1)\n",
        "        nn.init.normal_(self.beta_bias, 0, 0.01)\n",
        "\n",
        "    def get_activation(self, activation,layer):\n",
        "      activation = activation.lower()\n",
        "      if activation == 'relu':\n",
        "          layer =  F.relu(layer)\n",
        "      elif activation == 'softplus':\n",
        "          layer =  F.softplus(layer)\n",
        "      elif activation == 'sigmoid':\n",
        "          layer =  F.sigmoid(layer)\n",
        "      elif activation == 'leaky_relu':\n",
        "          layer = F.leaky_relu(layer)\n",
        "      else:\n",
        "          layer = F.softplus(layer)\n",
        "      return layer\n",
        "\n",
        "    def encode(self, input_):\n",
        "        N, *_ = input_.size()\n",
        "\n",
        "        en1 = self.get_activation(self.activation,self.en1_fc(input_))\n",
        "        en2 = self.get_activation(self.activation,self.en2_fc(en1))\n",
        "\n",
        "        # en1 = F.softplus(self.en1_fc(input_))\n",
        "        # en2 = F.softplus(self.en2_fc(en1))\n",
        "\n",
        "        en2 = self.en2_drop(en2)\n",
        "\n",
        "        posterior_mean   = self.mean_bn(self.mean_fc(en2))\n",
        "        posterior_logvar = self.logvar_bn(self.logvar_fc(en2))\n",
        "        posterior_var    = posterior_logvar.exp()\n",
        "\n",
        "        return en2, posterior_mean, posterior_logvar, posterior_var\n",
        "\n",
        "    def take_sample(self, input_, posterior_mean, posterior_var, prior_var):\n",
        "        eps = input_.data.new().resize_as_(posterior_mean.data).normal_(std=1.0) # noise(epsilon)\n",
        "        z = posterior_mean + posterior_var.sqrt() * eps     # reparameterization trick\n",
        "        return z\n",
        "\n",
        "    def get_beta(self):\n",
        "        return F.softmax(self.decoder_bn(torch.mm(self.mu_z,self.embedding_words.T).T).T + self.beta_bias,dim=-1)\n",
        "\n",
        "    def decode(self, z):\n",
        "\n",
        "      ## Theta - P(z|x,phi) ## NXT\n",
        "      N, *_ = z.size()\n",
        "      size = (N, self.out_features, self.in_features) # N,T,2\n",
        "\n",
        "      ## apply batch normalization across X  (Document coordintes)\n",
        "      zx = self.decoder_x_bn(z) # Nx2\n",
        "      x = zx.view(N, 1, self.num_coordinate).expand(size) # Nx1x2\n",
        "\n",
        "      ## apply batch normalization across phi (Topic coordintes)\n",
        "      zc = self.decoder_phi_bn(self.topics)\n",
        "      c = zc.view(1, self.num_topic, self.num_coordinate).expand(size)\n",
        "\n",
        "      d = (x-c).pow(2).sum(-1)\n",
        "      distances = self.basis_func(d)\n",
        "      theta = torch.exp(distances - torch.logsumexp(distances, dim=-1, keepdim=True)) # N x T\n",
        "\n",
        "      ## Topic Coordinates mapped to topic embeddings\n",
        "      mu1 = F.softplus((self.mu1_fc(zc)))\n",
        "      mu2 = F.softplus(self.en2_drop(self.mu2_fc(mu1)))\n",
        "      self.mu_z = self.mu_fc(mu2)\n",
        "\n",
        "      ## Beta P(w|z) ## (TxV)\n",
        "      beta = self.get_beta()\n",
        "      recon_v = torch.mm(theta,beta)\n",
        "\n",
        "      return recon_v, zx, theta, zc\n",
        "\n",
        "\n",
        "    def forward(self, input_, compute_loss=False):\n",
        "        en2, posterior_mean, posterior_logvar, posterior_var = self.encode(input_)\n",
        "        z = self.take_sample(input_, posterior_mean, posterior_var, self.variance_x)\n",
        "        recon_v, zx, theta,zc= self.decode(z)\n",
        "\n",
        "        if compute_loss:\n",
        "            return recon_v, zx, self.loss(input_, recon_v, theta, posterior_mean, posterior_logvar, posterior_var, zx)\n",
        "        else: return z, recon_v, zx, zc, theta\n",
        "\n",
        "    def KLD(self, posterior_mean,posterior_logvar,posterior_var):\n",
        "        N = posterior_mean.shape[0]\n",
        "        prior_mean   = self.prior_mean.expand_as(posterior_mean)\n",
        "        prior_var    = self.prior_var.expand_as(posterior_mean)\n",
        "        prior_logvar = self.prior_logvar.expand_as(posterior_mean)\n",
        "\n",
        "        var_division    = posterior_var  / prior_var\n",
        "        diff            = posterior_mean - prior_mean\n",
        "        diff_term       = diff * diff / prior_var\n",
        "        logvar_division = prior_logvar - posterior_logvar\n",
        "\n",
        "        KLD = 0.5 * ((var_division + diff_term + logvar_division).sum(-1) - self.num_coordinate)\n",
        "        return KLD\n",
        "\n",
        "    def loss(self, input_, recon_v, theta, posterior_mean, posterior_logvar, posterior_var, zx,avg=True):\n",
        "        N = posterior_mean.shape[0]\n",
        "        smoothen = 1e-6 # 'error/term-smoothening constant'\n",
        "\n",
        "        NL = - (input_ * (recon_v+smoothen).log()).sum(-1)\n",
        "        NL= NL.mean(0)\n",
        "\n",
        "        KLD = self.KLD(posterior_mean,posterior_logvar,posterior_var).mean(0)\n",
        "\n",
        "        loss = NL + KLD\n",
        "        return loss,NL,KLD"
      ],
      "metadata": {
        "id": "yEiQwlCRGAWs"
      },
      "execution_count": null,
      "outputs": []
    },
    {
      "cell_type": "markdown",
      "source": [
        "## Train"
      ],
      "metadata": {
        "id": "AAPNCYd1GBJS"
      }
    },
    {
      "cell_type": "code",
      "source": [
        "activation = 'softplus'\n",
        "embedding_tensor_words = embedding_tensor_sorted_alp.to(device)\n",
        "emb_size = 300\n",
        "model = WTM(num_input, en1_units_x, en2_units_x, num_coordinate, num_topic, dropout,variance_x, bs,\n",
        "  embedding_tensor_words,emb_size,activation, \"inverse_quadratic\")\n",
        "\n",
        "kld_arr,recon_arr = [],[]\n",
        "model.to(device)\n",
        "\n",
        "optimizer = optim.Adam(model.parameters(), learning_rate, betas=(beta1, beta2))\n",
        "for epoch in range(epochs):\n",
        "\n",
        "    loss_u_epoch = 0.0 ## NL loss\n",
        "    loss_KLD = 0.0  ## KL loss\n",
        "    loss_epoch = 0.0 ## Loss per batch #\n",
        "\n",
        "    model.train()\n",
        "    zx_l = []\n",
        "    label_l = []\n",
        "    for batch_ndx in all_indices:\n",
        "    # batch_ndx = all_indices[0]\n",
        "      input_w = tensor_train_w[batch_ndx].to(device)\n",
        "      labels = train_label[batch_ndx]\n",
        "      label_l.extend(labels)\n",
        "      recon_v, zx, (loss, loss_u, xkl_loss) = model(input_w,compute_loss=True)\n",
        "      zx_l.extend(zx.data.detach().cpu().numpy())\n",
        "      optimizer.zero_grad()\n",
        "      loss.backward()\n",
        "\n",
        "      optimizer.step()             # backpror.step()\n",
        "      loss_epoch += loss.item()\n",
        "      loss_u_epoch += loss_u.item()\n",
        "      loss_KLD += xkl_loss.item()\n",
        "      current_model = model\n",
        "    kld_arr.append(loss_KLD)\n",
        "    recon_arr.append(loss_u_epoch)\n",
        "\n",
        "    if epoch % 10 == 0:\n",
        "        #  print('Epoch -> {}'.format(epoch))\n",
        "        print('Epoch -> {} , loss -> {}'.format(epoch,loss_epoch))\n",
        "        print('recon_loss==> {} || KLD==> {}'.format(loss_u_epoch, loss_KLD))\n",
        "        # plot_fig(np.array(zx_l),label_l,model.decoder_phi_bn(model.centres).data.cpu().numpy(),10.0,'No')"
      ],
      "metadata": {
        "id": "Evrmm205GNpu"
      },
      "execution_count": null,
      "outputs": []
    },
    {
      "cell_type": "markdown",
      "source": [
        "## Test"
      ],
      "metadata": {
        "id": "n65qLbLaGB-6"
      }
    },
    {
      "cell_type": "code",
      "source": [
        "model.eval()\n",
        "x_list = []\n",
        "labels_list = []\n",
        "doc_ids = []\n",
        "zx_phi_list=[]\n",
        "docs_rscore = []\n",
        "with torch.no_grad():\n",
        "    for batch_ndx in all_indices:\n",
        "        input_w = tensor_train_w[batch_ndx].to(device)\n",
        "        labels = train_label[batch_ndx]\n",
        "        labels_list.extend(labels)\n",
        "        docs_rscore.extend(normalized_all_rscores[batch_ndx])\n",
        "        z, recon_v, zx,zphi, zx_phi = model(input_w,compute_loss=False)\n",
        "        zx = zx.data.detach().cpu().numpy()\n",
        "        zphi = zphi.data.detach().cpu().numpy()\n",
        "        zx_phi = zx_phi.view(-1, num_topic).data.detach().cpu().numpy()\n",
        "        zx_phi_list.extend(zx_phi)\n",
        "        x_list.extend(zx)\n",
        "        doc_ids.extend(batch_ndx)\n",
        "\n",
        "    x_list = np.array(x_list)\n",
        "    labels_list = np.asarray(labels_list)\n",
        "    docs_rscore = list_of_tensors_to_tensor(docs_rscore)\n",
        "    beta = model.get_beta().data.cpu().numpy()\n",
        "    query_words = np.array([[0,0],[0,0],[0,0]])\n",
        "    keyword_vis_labels = keywords#+['dummy']\n",
        "    WTM_topics = get_topwords(beta,id_vocab,topwords=topwords)"
      ],
      "metadata": {
        "id": "6EunAZLrGPOq"
      },
      "execution_count": null,
      "outputs": []
    },
    {
      "cell_type": "code",
      "source": [
        "key_rscores = []\n",
        "for k in keywords:\n",
        "  key_rscores.append(cosine_similarity_desm_docs([k],train_vec,vocab,embeddings))\n",
        "\n",
        "idx_most_relv_doc = []\n",
        "for k in range(len(keywords)):\n",
        "  idx_most_relv_doc.append(torch.sort(key_rscores[k],descending=True).indices[k].item())"
      ],
      "metadata": {
        "id": "GUoydjcnAUxN"
      },
      "execution_count": null,
      "outputs": []
    },
    {
      "cell_type": "code",
      "source": [
        "doc_idx_tensor = list_of_tensors_to_tensor(doc_ids)\n",
        "batch_most_relv_idx = []\n",
        "for idx_m in idx_most_relv_doc:\n",
        "  batch_most_relv_idx.append(torch.where(doc_idx_tensor==idx_m)[0][0].item())"
      ],
      "metadata": {
        "id": "OZY6Bn_kBJPI"
      },
      "execution_count": null,
      "outputs": []
    },
    {
      "cell_type": "code",
      "source": [
        "query_words = [x_list[b] for b in batch_most_relv_idx]\n",
        "# query_words.append(np.array(([0,0])))\n",
        "query_words"
      ],
      "metadata": {
        "id": "ztUOPsmwBq-z"
      },
      "execution_count": null,
      "outputs": []
    },
    {
      "cell_type": "code",
      "source": [
        "new_doc_s = key_rscores[1][doc_ids]"
      ],
      "metadata": {
        "id": "GxoDRWs0FYU-"
      },
      "execution_count": null,
      "outputs": []
    },
    {
      "cell_type": "code",
      "source": [
        "new_doc_s,docs_rscore,keywords"
      ],
      "metadata": {
        "id": "j4S9DEVMF4Mu"
      },
      "execution_count": null,
      "outputs": []
    },
    {
      "cell_type": "code",
      "source": [
        "all_idx = torch.cat((plt_idx[l+1:mid] , plt_idx[:l], plt_idx[-r:]),0) # seq -> middle 0.25 - 0.75 then bottom 0 - 0.25 and finally top 0.75 - 1.0"
      ],
      "metadata": {
        "id": "ybv0vac2UOsM"
      },
      "execution_count": null,
      "outputs": []
    },
    {
      "cell_type": "code",
      "source": [
        "# changed_doc_Vis_idxs_wtm = np.asarray([np.where(doc_ids == rand_perm_k_to_change[i])[0][0] for i in range(len(rand_perm_k_to_change)) ])"
      ],
      "metadata": {
        "id": "B-UVfphLRCci"
      },
      "execution_count": null,
      "outputs": []
    },
    {
      "cell_type": "code",
      "source": [
        "doc_ids = list_of_tensors_to_tensor(doc_ids).numpy()"
      ],
      "metadata": {
        "id": "QtYwUEVKqKf9"
      },
      "execution_count": null,
      "outputs": []
    },
    {
      "cell_type": "code",
      "source": [
        "changed_doc_Vis_idxs = np.asarray([np.where(doc_ids == docs_idx_dict['sport'][i])[0][0] for i in range(len(docs_idx_dict['sport'])) ])\n",
        "changed_doc_Vis_idxs2 = np.asarray([np.where(doc_ids == docs_idx_dict['tech'][i])[0][0] for i in range(len(docs_idx_dict['tech'])) ])"
      ],
      "metadata": {
        "id": "nXj2NEkpp3T_"
      },
      "execution_count": null,
      "outputs": []
    },
    {
      "cell_type": "code",
      "source": [
        "print_Topics(topwords=20)\n",
        "print(get_keywords(d_data))\n",
        "plot_heatmap1(x_list,changed_doc_Vis_idxs,changed_doc_Vis_idxs2,zphi,query_words,keyword_vis_labels,cmap=cmap,lim=10) # cmap  #magma, seismic, autumn, (Pastel2,Dark2,Paired)"
      ],
      "metadata": {
        "id": "c4IqRwYep3T_"
      },
      "execution_count": null,
      "outputs": []
    },
    {
      "cell_type": "code",
      "source": [
        "print_Topics(topwords=20)\n",
        "print(get_keywords(d_data)) #, which_focus,threshold_model\n",
        "plot_heatmap(x_list,changed_doc_Vis_idxs_wtm,zphi,query_words,keyword_vis_labels,cmap=cmap,lim=20) # cmap  #magma, seismic, autumn, (Pastel2,Dark2,Paired)\n",
        "\n",
        "# plot_heatmap(x_list[all_idx],docs_rscore[all_idx],zphi,query_words,keyword_vis_labels,cmap=cmap,lim=20) # cmap  #magma, seismic, autumn, (Pastel2,Dark2,Paired)\n",
        "# plot_heatmap(x_list[plt_idx[-r:]],docs_rscore[plt_idx[-r:]],zphi,query_words,keyword_vis_labels,cmap=cmap,lim=20) # cmap  #magma, seismic, autumn, (Pastel2,Dark2,Paired)"
      ],
      "metadata": {
        "id": "_c6RnUqcJ_Vi"
      },
      "execution_count": null,
      "outputs": []
    },
    {
      "cell_type": "code",
      "source": [
        "plot_heatmap(x_list[changed_doc_Vis_idxs],docs_rscore[changed_doc_Vis_idxs],zphi,query_words,keyword_vis_labels,cmap=cmap,lim=15) # cmap  #magma, seismic, autumn, (Pastel2,Dark2,Paired)"
      ],
      "metadata": {
        "id": "eZh7JkK8Ecax"
      },
      "execution_count": null,
      "outputs": []
    },
    {
      "cell_type": "code",
      "source": [
        "# plot_heatmap(x_list[sortidx[:100]],docs_rscore[sortidx[:100]],zphi,query_words,keyword_vis_labels,cmap=cmap,lim=20) # cmap  #magma, seismic, autumn, (Pastel2,Dark2,Paired)"
      ],
      "metadata": {
        "id": "ZI3-7vPV_213"
      },
      "execution_count": null,
      "outputs": []
    },
    {
      "cell_type": "code",
      "source": [
        "# plot_heatmap(x_list[plt_idx[:100]],docs_rscore[plt_idx[:100]],zphi,query_words,keyword_vis_labels,cmap=cmap,lim=20) # cmap  #magma, seismic, autumn, (Pastel2,Dark2,Paired)"
      ],
      "metadata": {
        "id": "mI1fUarsNkm3"
      },
      "execution_count": null,
      "outputs": []
    },
    {
      "cell_type": "markdown",
      "metadata": {
        "id": "oCVawukWgxeH"
      },
      "source": [
        "# ____ STOP____"
      ]
    },
    {
      "cell_type": "code",
      "execution_count": null,
      "metadata": {
        "id": "xiUorw-Xg0Hg"
      },
      "outputs": [],
      "source": [
        "STOP!!!!"
      ]
    },
    {
      "cell_type": "code",
      "execution_count": null,
      "metadata": {
        "id": "A2gbTUI2g1Vt"
      },
      "outputs": [],
      "source": [
        "STOP!!!!"
      ]
    },
    {
      "cell_type": "code",
      "execution_count": null,
      "metadata": {
        "id": "Ng3vECMBg1o1"
      },
      "outputs": [],
      "source": [
        "STOP!!!!"
      ]
    },
    {
      "cell_type": "markdown",
      "source": [
        "# Sum Cosine Metric"
      ],
      "metadata": {
        "id": "eTonasdm7UdP"
      }
    },
    {
      "cell_type": "code",
      "source": [
        "import plotly.express as px\n",
        "def plot_relv_topwords(keywords,np_topics_wordsScores):\n",
        "  for i in range(len(keywords)):\n",
        "    fig = px.histogram(pd.DataFrame(np_topics_wordsScores[i],columns=['scores']), x=\"scores\")\n",
        "    print(keywords[i])\n",
        "    fig.show()\n",
        "# print(\"Spike Slab Filter (top # relv words that represents documents):\",spikeSlab_filter,\"\\n\\n\")"
      ],
      "metadata": {
        "id": "P2j-14HZ8vgK"
      },
      "execution_count": null,
      "outputs": []
    },
    {
      "cell_type": "code",
      "source": [
        "# PLSV_topics\n",
        "# WTM_topics\n",
        "# FoTo_topics\n",
        "\n",
        "\n",
        "def get_cosine_sum_topics(topwords_cos_sum):\n",
        "  all_topics = get_topwords(beta,id_vocab,topwords=topwords_cos_sum)\n",
        "  topics_wordlist = [topics.split(': ')[1].split(\" \") for topics in all_topics]\n",
        "  np_flatten_topics_wordlist = np.array(flatten_list(topics_wordlist))\n",
        "  topics_wordtensors = get_embedding_tensor(np_flatten_topics_wordlist,embeddings)\n",
        "  topics_wordsScores,*_ = cosine_keywords(keywords,topics_wordtensors,np_flatten_topics_wordlist,cos_sim)\n",
        "  np_topics_wordsScores = list_of_tensors_to_tensor(topics_wordsScores)\n",
        "  return np_topics_wordsScores\n",
        "\n",
        "\n",
        "# np_topics_wordsScores_WTM = get_cosine_sum_topics(FoTo_topics)\n",
        "# np_topics_wordsScores_PLSV = get_cosine_sum_topics(PLSV_topics)\n",
        "np_topics_wordsScores_FoTo = get_cosine_sum_topics(topwords_cos_sum=10)\n",
        "# np_topics_wordsScores_WTM = min_max_norm_1(np_topics_wordsScores_WTM)\n",
        "\n",
        "# plot_relv_topwords(keywords,np_topics_wordsScores_FoTo)"
      ],
      "metadata": {
        "id": "ZML-0uTF7TkC"
      },
      "execution_count": null,
      "outputs": []
    },
    {
      "cell_type": "code",
      "source": [
        "def keyw_sum_median_mean(np_topics_wordsScores):\n",
        "   return keywords,torch.max(np_topics_wordsScores,0).values.sum().item() , torch.mean(np_topics_wordsScores,-1) , torch.median(np_topics_wordsScores,-1).values"
      ],
      "metadata": {
        "id": "zQWTZF80875D"
      },
      "execution_count": null,
      "outputs": []
    },
    {
      "cell_type": "code",
      "source": [
        "_,sum_max,_,_ = keyw_sum_median_mean(np_topics_wordsScores_FoTo)\n",
        "print(sum_max)"
      ],
      "metadata": {
        "id": "kj7sE7uU9SRJ"
      },
      "execution_count": null,
      "outputs": []
    },
    {
      "cell_type": "code",
      "source": [
        "import plotly.graph_objects as go\n",
        "def plot_cosine_sum(x,y,wtm,name):\n",
        "  fig = go.Figure()\n",
        "  fig.add_trace(go.Scatter(x=x, y=y,\n",
        "                      mode='lines+markers',\n",
        "                      name='FoTo'))\n",
        "  fig.add_trace(go.Scatter(x=x, y=wtm,\n",
        "                      mode='lines+markers',\n",
        "                      name='WTM'))\n",
        "\n",
        "  fig.update_layout(title='Cosine_Sum - topwords ',\n",
        "                    yaxis_title='cosine_sum_score',\n",
        "                    xaxis_title='topwords')\n",
        "\n",
        "  fig.show(renderer='colab')\n",
        "  # file_name = 'Knapsack Dynamic Vs Greedy'\n",
        "  # fig.write_html(file_name+\".html\")"
      ],
      "metadata": {
        "id": "kwhkbrhGsx_C"
      },
      "execution_count": null,
      "outputs": []
    },
    {
      "cell_type": "code",
      "source": [
        "# def plot_cosine_sum(x,y,wtm,name):\n",
        "#   fig = go.Figure()\n",
        "#   df = pd.DataFrame(list(zip(x,y)),columns = ['topwords','cos_sum'])\n",
        "#   df2 = pd.DataFrame(list(zip(x,wtm)),columns = ['topwords','wtm_cos_sum'])\n",
        "#   fig = px.line(df, x='topwords', y='cos_sum',  text='cos_sum')\n",
        "#   fig = px.line(df2, x='topwords', y='wtm_cos_sum',  text='wtm_cos_sum')\n",
        "#   fig.update_traces(textposition=\"bottom right\")\n",
        "#   # fig.show()\n",
        "#   # figure.add_trace(go.Scatter(x=x, y=y,mode='lines',name=name, text=str(y)))\n",
        "#   fig.show(renderer='colab')"
      ],
      "metadata": {
        "id": "4yt3rMK8fMwF"
      },
      "execution_count": null,
      "outputs": []
    },
    {
      "cell_type": "code",
      "source": [
        "a = [i for i in range(10,100,10)]\n",
        "cos_sum_max = []\n",
        "for i in a:\n",
        "  np_topics_wordsScores_FoTo = get_cosine_sum_topics(topwords_cos_sum=i)\n",
        "  _,sum_max,_,_ = keyw_sum_median_mean(np_topics_wordsScores_FoTo)\n",
        "  cos_sum_max.append(sum_max)"
      ],
      "metadata": {
        "id": "Aro7jXO3eE4w"
      },
      "execution_count": null,
      "outputs": []
    },
    {
      "cell_type": "code",
      "source": [
        "wtm_cos = [19.613975524902344,\n",
        " 40.72889709472656,\n",
        " 64.12540435791016,\n",
        " 83.66302490234375,\n",
        " 104.17877197265625,\n",
        " 123.87181854248047,\n",
        " 143.69180297851562,\n",
        " 161.72267150878906,\n",
        " 179.57142639160156]"
      ],
      "metadata": {
        "id": "LL_ulYC-pfo2"
      },
      "execution_count": null,
      "outputs": []
    },
    {
      "cell_type": "code",
      "source": [
        "plot_cosine_sum(a,cos_sum_max,wtm_cos,\"cos_sum_V_topwords\")"
      ],
      "metadata": {
        "id": "t-7No-hFe_HD"
      },
      "execution_count": null,
      "outputs": []
    },
    {
      "cell_type": "code",
      "source": [
        "print_keyw_sum_median_mean(np_topics_wordsScores_PLSV)"
      ],
      "metadata": {
        "id": "9jNi_3E99UW8"
      },
      "execution_count": null,
      "outputs": []
    },
    {
      "cell_type": "code",
      "source": [
        "print_keyw_sum_median_mean(np_topics_wordsScores_WTM)"
      ],
      "metadata": {
        "id": "-ylqMrFr9Vee"
      },
      "execution_count": null,
      "outputs": []
    },
    {
      "cell_type": "code",
      "source": [
        "plot_relv_topwords(keywords,np_topics_wordsScores_FoTo)"
      ],
      "metadata": {
        "id": "-xFb1UGm9j2V"
      },
      "execution_count": null,
      "outputs": []
    },
    {
      "cell_type": "markdown",
      "source": [
        "# Furthur Evaluation (TTM etc..)"
      ],
      "metadata": {
        "id": "nt3Y9cqyMPAB"
      }
    },
    {
      "cell_type": "code",
      "source": [
        "np_topics_wordsScores_FoTo"
      ],
      "metadata": {
        "id": "MIRPRCo68zbL"
      },
      "execution_count": null,
      "outputs": []
    },
    {
      "cell_type": "code",
      "source": [
        "## ToDo\n",
        "\n",
        "# vis of bbc, searchsnippet: Foto, TTM, WTM: 10, 20, 30 topics, old beta, heatmap\n",
        "# sum cosine scores top words (10, 20)"
      ],
      "metadata": {
        "id": "JYUJvcuIKl6J"
      },
      "execution_count": null,
      "outputs": []
    },
    {
      "cell_type": "code",
      "source": [
        "# New Beta cos (for long text) -\n",
        "# softmax((\\tau*\\keyEmbT)*\\cos)\n",
        "# ------------------------------\n",
        "# 0: democracy korean representative star actress action war republic actor amazon stanford college party asian photo school info president critic life\n",
        "# 1: news wikipedia business computer system online game resource encyclopedia health web wiki sport article theory journal service book program link\n",
        "# 2: physic computer service device sale digital theme drama software music performance radio field journal internet database program driver development company\n",
        "# 3: gov team news product topic global issue cover solution management source article consumer overview history application division multi learn system\n",
        "# 4: drama art classical dance character literature beatles ballet architecture television fashion cup artist photography literary philosopher doctor museum film movie\n",
        "# 5: solving square maintenance implication enabling lose monitoring roadmap amp disaster handling monitor vendor problem control environmental solution recovery function measure\n",
        "# 6: movie culture film school democracy college star actor war blog republic car chinese forum tom character action doctor actress football\n",
        "# 7: korean eng representative gov korea sun star democracy actress spotlight dennis powered action doc ngo head israel bush men cross\n",
        "# 8: science music art yahoo political library market search student course theoretical site video job american fashion graduate philosophy digital museum\n",
        "# 9: democracy korean representative star actress action war republic actor amazon stanford college party asian photo school info president critic life\n",
        "# ------------------------------\n",
        "# ['korean', 'drama']\n",
        "\n",
        "# --------------------------------------- VS -------------------------------------------\n",
        "# Old Beta cos (For short text)\n",
        "# softmax ( (\\omegaT*\\tau).cos)\n",
        "# ------------------------------\n",
        "# 0: game sport news football wikipedia soccer team league player tennis match ticket wiki espn article club website racing encyclopedia olympic\n",
        "# 1: computer software network memory web drug intel system electrical linux server device company virtual download motor core processor source document\n",
        "# 2: wikipedia journal theory computer program system web science university article wiki paper theoretical programming encyclopedia physic center data link engineering\n",
        "# 3: amazon book history wikipedia car house online film encyclopedia award video model search american people photo event production community wiki\n",
        "# 4: business health gov market service trade cancer economic product management news disease national bank global exchange federal stock resource public\n",
        "# 5: party democracy political war system republic government democratic presidential election president income parliamentary politics automatic stress people europe representative tax\n",
        "# 6: movie culture imdb star news american oscar film actor disney tom director george ancient robert character cartoon guide biography leonardo\n",
        "# 7: science school library news student yahoo course directory job education online resource graduate study search site philosophy physical degree master\n",
        "# 8: gov engine calorie military healthy hiv diet theorem food diagnosis aid fitness force hospital earth medical weapon north legislation weight\n",
        "# 9: music art fashion digital band artist lyric review wheel rock album classical romantic video piano painting camera pop designer television\n",
        "# ------------------------------\n",
        "# ['korean', 'drama']"
      ],
      "metadata": {
        "id": "2RImm7Sm7AKc"
      },
      "execution_count": null,
      "outputs": []
    },
    {
      "cell_type": "code",
      "execution_count": null,
      "metadata": {
        "id": "i-yI2tVon4Hw"
      },
      "outputs": [],
      "source": []
    },
    {
      "cell_type": "code",
      "execution_count": null,
      "metadata": {
        "id": "lF7nl5p3fYfP"
      },
      "outputs": [],
      "source": [
        "## How much are the topic topwords relevant to keywords\n",
        "## (Calc using cosine sim score)\n",
        "# with_cos_score_more_than = 0.45\n",
        "\n",
        "all_topics = get_topwords(beta,id_vocab,topwords=30)\n",
        "topics_wordlist = [topics.split(': ')[1].split(\" \") for topics in all_topics]\n",
        "# topic_key_idx = [flatten_topics_wordlist.index(k) for k in keywords]\n",
        "np_flatten_topics_wordlist = np.array(flatten_list(topics_wordlist))\n",
        "topics_wordtensors = get_embedding_tensor(np_flatten_topics_wordlist,embeddings)\n",
        "\n",
        "topics_wordsScores,*_ = cosine_keywords(keywords,topics_wordtensors,np_flatten_topics_wordlist,cosine_sqrt)\n",
        "# np_topics_wordsScores = torch_min_max_sim(list_of_tensors_to_tensor(topics_wordsScores),topic_key_idx,3)\n",
        "np_topics_wordsScores = list_of_tensors_to_tensor(topics_wordsScores)\n",
        "# relv_topic_words = flatten_topics_wordlist[np.where(topics_wordsScores>with_cos_score_more_than)[0]]\n",
        "# relv_topic_words , len(relv_topic_words)\n",
        "len(np_flatten_topics_wordlist)"
      ]
    },
    {
      "cell_type": "code",
      "source": [
        "keywords,torch.max(np_topics_wordsScores,0).values.sum().item() , torch.mean(np_topics_wordsScores,-1) , torch.median(np_topics_wordsScores,-1).values"
      ],
      "metadata": {
        "id": "KbDSc4XFNaVQ"
      },
      "execution_count": null,
      "outputs": []
    },
    {
      "cell_type": "code",
      "source": [
        "plot_relv_topwords(keywords,np_topics_wordsScores)"
      ],
      "metadata": {
        "id": "g7SBImS5eEmz"
      },
      "execution_count": null,
      "outputs": []
    },
    {
      "cell_type": "code",
      "source": [
        "# save_obj(beta,'beta_'+d_data)\n",
        "# save_obj(id_vocab,'id_vocab_'+d_data)\n",
        "# save_obj(keywords,'keywords_'+d_data)\n",
        "# !zip -r bbc_results_t15_3k_FoTo.zip *.pkl"
      ],
      "metadata": {
        "id": "iG6WFnSzZBob"
      },
      "execution_count": null,
      "outputs": []
    },
    {
      "cell_type": "code",
      "source": [
        "!wget -N -c https://www.dropbox.com/s/s0xi2fnk5kz72wx/ttm_more_results.zip\n",
        "!unzip -o ttm_more_results.zip"
      ],
      "metadata": {
        "id": "Mk6MhSyYMpr6"
      },
      "execution_count": null,
      "outputs": []
    },
    {
      "cell_type": "code",
      "source": [
        "from os import listdir\n",
        "from os.path import isfile, join\n",
        "import pandas as pd\n",
        "# % cd /content/short\n",
        "mypath = \"/content/short\"\n",
        "onlyfiles = [f for f in listdir(mypath) if isfile(join(mypath, f))]\n",
        "csv_files = []\n",
        "for o in onlyfiles:\n",
        "  for k in keywords:\n",
        "    if k+\"-PT-5-1-Iter-250\" in o and \"target-keyword\" in o:\n",
        "      csv_files.append(o)\n",
        "\n",
        "## get all words\n",
        "all_words = []\n",
        "for c in csv_files:\n",
        "  df = pd.read_csv(c)\n",
        "  words = df.values.reshape(-1)\n",
        "  words_cleaned = [a for a in words if str(a).isalpha() == True and str(a) != 'nan']\n",
        "  all_words.extend(words_cleaned[:150])\n",
        "all_words = np.asarray(all_words)\n",
        "\n",
        "topics_wordtensors = get_embedding_tensor(all_words,embeddings)\n",
        "topics_wordsScores,*_ = cosine_keywords(keywords,topics_wordtensors,np_flatten_topics_wordlist,cosine_sqrt)\n",
        "np_topics_wordsScores = list_of_tensors_to_tensor(topics_wordsScores)\n",
        "# len(all_words)"
      ],
      "metadata": {
        "id": "qPB-kqAoZ5aJ"
      },
      "execution_count": null,
      "outputs": []
    },
    {
      "cell_type": "code",
      "source": [
        "keywords,torch.max(np_topics_wordsScores,0).values.sum().item() , torch.mean(np_topics_wordsScores,-1) , torch.median(np_topics_wordsScores,-1).values"
      ],
      "metadata": {
        "id": "0cTDQI5rdVFY"
      },
      "execution_count": null,
      "outputs": []
    },
    {
      "cell_type": "code",
      "source": [
        "plot_relv_topwords(keywords,np_topics_wordsScores)"
      ],
      "metadata": {
        "id": "Cy8QmO-Zdw8u"
      },
      "execution_count": null,
      "outputs": []
    },
    {
      "cell_type": "code",
      "source": [
        "## how to select topwords for TTM if topics have empty topwords?\n",
        "## the cosine score is as per the embeddings we generated is that fair?"
      ],
      "metadata": {
        "id": "NnxWPIpEdAU8"
      },
      "execution_count": null,
      "outputs": []
    },
    {
      "cell_type": "markdown",
      "metadata": {
        "id": "TPfQ0IUnPlfi"
      },
      "source": [
        "# Save/Download Results"
      ]
    },
    {
      "cell_type": "code",
      "source": [
        "STOP!!"
      ],
      "metadata": {
        "id": "NZMcqg9-MXyl"
      },
      "execution_count": null,
      "outputs": []
    },
    {
      "cell_type": "code",
      "execution_count": null,
      "metadata": {
        "id": "475CSACcuqNS"
      },
      "outputs": [],
      "source": [
        "doc_ids_model = [i.item() for i in doc_ids]"
      ]
    },
    {
      "cell_type": "code",
      "execution_count": null,
      "metadata": {
        "id": "uLNlLcmYiA59"
      },
      "outputs": [],
      "source": [
        "save_obj(get_topwords(beta, id_vocab),\"top100_docmodel_\"+d_data)"
      ]
    },
    {
      "cell_type": "code",
      "execution_count": null,
      "metadata": {
        "id": "-REuGjLoGIU_"
      },
      "outputs": [],
      "source": [
        "save_obj(x_list,\"x_list\")\n",
        "save_obj(indices,\"doc_id_desm\")\n",
        "save_obj(doc_ids_model,\"doc_ids_model\")\n",
        "save_obj(labels_list,\"labels_list\")\n",
        "save_obj(all_rscores,\"all_rscores\")\n",
        "save_obj(keywords,'keywords_'+d_data)"
      ]
    },
    {
      "cell_type": "code",
      "execution_count": null,
      "metadata": {
        "id": "EYDLajZGGaFr"
      },
      "outputs": [],
      "source": [
        "from google.colab import files\n",
        "files.download(\"doc_ids_model.pkl\")\n",
        "files.download(\"doc_id_desm.pkl\")\n",
        "files.download(\"x_list.pkl\")\n",
        "files.download(\"labels_list.pkl\")\n",
        "files.download(\"all_rscores.pkl\")\n",
        "files.download(\"keywords_\"+d_data+\".pkl\")\n",
        "files.download(\"top100_docmodel_\"+d_data+\".pkl\")"
      ]
    },
    {
      "cell_type": "code",
      "execution_count": null,
      "metadata": {
        "id": "xmeP5Rjmoxyg"
      },
      "outputs": [],
      "source": [
        "rm -r *.pkl*"
      ]
    }
  ],
  "metadata": {
    "accelerator": "GPU",
    "colab": {
      "collapsed_sections": [
        "oC_2iVJ0RxWY",
        "TeQ-X4wx45iA",
        "f8wJtTb42ioB",
        "DQmnmNU2pN8K",
        "CCBiqaMRpRBi",
        "K0zQCuyY_kaq",
        "Ew89XnAFbbYP",
        "_H35cwZwSR2O",
        "_ElmsnJB1Dzb",
        "wgepbiLbqvAv",
        "NsE5r0dqr8E4",
        "NvlNjua3jg87",
        "hObifgOHF_Gw",
        "oCVawukWgxeH",
        "nt3Y9cqyMPAB",
        "TPfQ0IUnPlfi"
      ],
      "provenance": [],
      "include_colab_link": true
    },
    "kernelspec": {
      "display_name": "Python 3",
      "name": "python3"
    }
  },
  "nbformat": 4,
  "nbformat_minor": 0
}