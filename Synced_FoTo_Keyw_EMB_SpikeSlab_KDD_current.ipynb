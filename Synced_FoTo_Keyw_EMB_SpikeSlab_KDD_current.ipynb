{
  "cells": [
    {
      "cell_type": "markdown",
      "metadata": {
        "id": "view-in-github",
        "colab_type": "text"
      },
      "source": [
        "<a href=\"https://colab.research.google.com/github/sanujsriv/_topic_models/blob/FoTo/Synced_FoTo_Keyw_EMB_SpikeSlab_KDD_current.ipynb\" target=\"_parent\"><img src=\"https://colab.research.google.com/assets/colab-badge.svg\" alt=\"Open In Colab\"/></a>"
      ]
    },
    {
      "cell_type": "code",
      "execution_count": null,
      "metadata": {
        "id": "ikwLjYjIs4iR"
      },
      "outputs": [],
      "source": [
        "import os\n",
        "# from google import colab # works only in colab (prevents from accidentally deleting files from NMSU server)\n",
        "def clear_colab():\n",
        "  home_dir = os.getcwd()#'/content/'\n",
        "  os.chdir(home_dir)\n",
        "  !rm -r *"
      ]
    },
    {
      "cell_type": "code",
      "execution_count": null,
      "metadata": {
        "id": "GWcqnMCHQ04d",
        "colab": {
          "base_uri": "https://localhost:8080/",
          "height": 36
        },
        "outputId": "3492dee5-6fb2-4727-86fb-6ab0f72d59ee"
      },
      "outputs": [
        {
          "output_type": "execute_result",
          "data": {
            "application/vnd.google.colaboratory.intrinsic+json": {
              "type": "string"
            },
            "text/plain": [
              "'/content'"
            ]
          },
          "metadata": {},
          "execution_count": 2
        }
      ],
      "source": [
        "home_dir = os.getcwd()\n",
        "min_df = 0\n",
        "perc_vocab = 0.7\n",
        "d_data='bbc'  # reuters, twentynews, webkb, wos, crowdgender,bbc,searchsnippet,yahooanswers,agnews120k\n",
        "dtype = 'short'\n",
        "all_vocab = True # False\n",
        "home_dir"
      ]
    },
    {
      "cell_type": "code",
      "execution_count": null,
      "metadata": {
        "colab": {
          "base_uri": "https://localhost:8080/"
        },
        "id": "vUErfm4baqgK",
        "outputId": "4a9d2ef0-553c-42ad-d6fc-8c92a57c1f10"
      },
      "outputs": [
        {
          "output_type": "stream",
          "name": "stdout",
          "text": [
            "Thu Jan 27 16:09:18 2022       \n",
            "+-----------------------------------------------------------------------------+\n",
            "| NVIDIA-SMI 495.46       Driver Version: 460.32.03    CUDA Version: 11.2     |\n",
            "|-------------------------------+----------------------+----------------------+\n",
            "| GPU  Name        Persistence-M| Bus-Id        Disp.A | Volatile Uncorr. ECC |\n",
            "| Fan  Temp  Perf  Pwr:Usage/Cap|         Memory-Usage | GPU-Util  Compute M. |\n",
            "|                               |                      |               MIG M. |\n",
            "|===============================+======================+======================|\n",
            "|   0  Tesla P100-PCIE...  Off  | 00000000:00:04.0 Off |                    0 |\n",
            "| N/A   38C    P0    26W / 250W |      0MiB / 16280MiB |      0%      Default |\n",
            "|                               |                      |                  N/A |\n",
            "+-------------------------------+----------------------+----------------------+\n",
            "                                                                               \n",
            "+-----------------------------------------------------------------------------+\n",
            "| Processes:                                                                  |\n",
            "|  GPU   GI   CI        PID   Type   Process name                  GPU Memory |\n",
            "|        ID   ID                                                   Usage      |\n",
            "|=============================================================================|\n",
            "|  No running processes found                                                 |\n",
            "+-----------------------------------------------------------------------------+\n"
          ]
        }
      ],
      "source": [
        "!nvidia-smi"
      ]
    },
    {
      "cell_type": "code",
      "execution_count": null,
      "metadata": {
        "colab": {
          "base_uri": "https://localhost:8080/"
        },
        "id": "RKuthgRK7DmE",
        "outputId": "6fc13fee-9b8e-421e-dbbd-73799c2ee119"
      },
      "outputs": [
        {
          "output_type": "stream",
          "name": "stdout",
          "text": [
            "/content\n"
          ]
        }
      ],
      "source": [
        "%cd /content/\n",
        "if d_data == \"twentynews\":\n",
        "  !wget -N -c https://www.dropbox.com/s/7yj1yvzpw589018/twentynews_4000.zip\n",
        "  !unzip twentynews_4000.zip"
      ]
    },
    {
      "cell_type": "markdown",
      "metadata": {
        "id": "oC_2iVJ0RxWY"
      },
      "source": [
        "#⬅️ **0. Just Run these..**"
      ]
    },
    {
      "cell_type": "code",
      "execution_count": null,
      "metadata": {
        "id": "gn9JFNO4qjuf",
        "colab": {
          "base_uri": "https://localhost:8080/"
        },
        "outputId": "5f69f150-3aac-4f18-db3c-ca78d5514c6e",
        "cellView": "form"
      },
      "outputs": [
        {
          "output_type": "stream",
          "name": "stdout",
          "text": [
            "Requirement already satisfied: pickle5 in /usr/local/lib/python3.7/dist-packages (0.0.12)\n"
          ]
        }
      ],
      "source": [
        "#@title Imports\n",
        "# from sympy.stats import RaisedCosine, density\n",
        "# from nltk.corpus import stopwords\n",
        "import pandas as pd\n",
        "import re\n",
        "from time import time\n",
        "import numpy as np\n",
        "import collections\n",
        "import gc\n",
        "from sklearn.feature_extraction.text import CountVectorizer,TfidfVectorizer\n",
        "from sklearn.preprocessing import MinMaxScaler\n",
        "import shutil\n",
        "# cos_sim = nn.CosineSimilarity(dim=-1,eps=1e-08)\n",
        "\n",
        "### pickle\n",
        "import pickle\n",
        "!pip install pickle5\n",
        "import pickle5\n",
        "import bz2\n",
        "import _pickle as cPickle\n",
        "\n",
        "\n",
        "### plots\n",
        "import plotly.express as px\n",
        "import plotly.graph_objects as go\n",
        "import seaborn as sb\n",
        "from matplotlib import pyplot as plt\n",
        "\n",
        "\n",
        "#### torch imports\n",
        "import torch\n",
        "import torch.nn as nn\n",
        "import torch.nn.functional as F\n",
        "import torch.optim as optim\n",
        "from torch.nn import Parameter\n",
        "import subprocess\n"
      ]
    },
    {
      "cell_type": "code",
      "execution_count": null,
      "metadata": {
        "cellView": "form",
        "id": "EivGqJ7vBoAo"
      },
      "outputs": [],
      "source": [
        "#@title function : load / save pickle_obj\n",
        "\n",
        "def save_obj(obj, name):\n",
        "    with open(name + '.pkl', 'wb') as f:\n",
        "        pickle.dump(obj, f, pickle.HIGHEST_PROTOCOL)\n",
        "\n",
        "def load_obj(name):\n",
        "    with open(name + '.pkl', 'rb') as f:\n",
        "        return pickle.load(f)\n",
        "\n",
        "def load_obj_pkl5(name):\n",
        "    with open(name + '.pkl', 'rb') as f:\n",
        "        return pickle5.load(f)\n",
        "\n",
        "def compressed_pickle(data,title):\n",
        "  with bz2.BZ2File(title + '.pbz2', 'w') as f:\n",
        "    cPickle.dump(data, f)\n",
        "\n",
        "def decompress_pickle(file):\n",
        " data = bz2.BZ2File(file+'.pbz2', 'rb')\n",
        " data = cPickle.load(data)\n",
        " return data"
      ]
    },
    {
      "cell_type": "markdown",
      "metadata": {
        "id": "TeQ-X4wx45iA"
      },
      "source": [
        "## **Download Data (Short & Full Documents)**"
      ]
    },
    {
      "cell_type": "code",
      "execution_count": null,
      "metadata": {
        "id": "m8duBpAxl-qY"
      },
      "outputs": [],
      "source": [
        "def short_text_datasets():\n",
        "  if not os.path.exists(\"VLDB_WTM_Datasets.zip\"):\n",
        "    !wget -N -c https://www.dropbox.com/s/0vzwa9eagkmgi0q/VLDB_WTM_Datasets.zip\n",
        "    !unzip -o VLDB_WTM_Datasets.zip\n",
        "    if all_vocab == True:\n",
        "      if d_data == \"bbc\":\n",
        "        dir ='/content/content/data_'+d_data\n",
        "        shutil.rmtree(dir)\n",
        "        !wget -N -c https://www.dropbox.com/s/2ow6rn3xgtpg6uq/bbc_all_vocab_.zip\n",
        "        !unzip bbc_all_vocab_.zip\n",
        ""
      ]
    },
    {
      "cell_type": "code",
      "execution_count": null,
      "metadata": {
        "id": "soLvVis5433m"
      },
      "outputs": [],
      "source": [
        "# def download_twenty_news():\n",
        "#   !wget -N https://www.dropbox.com/s/09y9y1h0xk3cxaj/embeddings_twentynews.pkl\n",
        "#   !wget -N https://www.dropbox.com/s/ewv3vcwgll0r8a7/data_twentynews_labels.pkl\n",
        "#   !wget -N https://www.dropbox.com/s/chpjn9lzr7rmn2k/fixed_data_twentynews_preprocessed.pkl"
      ]
    },
    {
      "cell_type": "code",
      "execution_count": null,
      "metadata": {
        "cellView": "both",
        "id": "xtI_f7qHCr9e"
      },
      "outputs": [],
      "source": [
        "def download_reuters():\n",
        "  !wget -N https://www.dropbox.com/s/8khmuj31il8zgkp/data_reuters_labels.pkl\n",
        "  !wget -N https://www.dropbox.com/s/bgc1ht0jsyjed6s/embeddings_reuters.pkl\n",
        "  !wget -N https://www.dropbox.com/s/9fk30bjzeefvhgl/data_reuters_preprocessed.pkl"
      ]
    },
    {
      "cell_type": "code",
      "execution_count": null,
      "metadata": {
        "id": "iN4Hx3KwtKG3"
      },
      "outputs": [],
      "source": [
        "def download_webkb():\n",
        "  !wget -N https://www.dropbox.com/s/wz88fk42r0viqvo/data_webkb_preprocessed.pkl\n",
        "  !wget -N https://www.dropbox.com/s/8oi5qactwrar1ad/data_webkb_labels.pkl\n",
        "  !wget -N https://www.dropbox.com/s/go7r4h39q6l01d5/embeddings_webkb.pkl"
      ]
    },
    {
      "cell_type": "code",
      "execution_count": null,
      "metadata": {
        "id": "Yo_CWo9pslxT"
      },
      "outputs": [],
      "source": [
        "def download_WoS():\n",
        "  # !wget -N -c https://www.dropbox.com/s/3bse48k5kjpt5zd/wos_full_short_all_vocab.zip\n",
        "  # !unzip -o wos_full_short_all_vocab.zip\n",
        "  !wget -N -c https://www.dropbox.com/s/td8vf1lqmau41vn/wos_full_iter200_sent.zip\n",
        "  !unzip -o wos_full_iter200_sent.zip\n",
        "\n",
        "  # !wget -N https://www.dropbox.com/s/c6wlr148lhwsbaz/embeddings_wos.pkl\n",
        "  # !wget -N https://www.dropbox.com/s/j96061ln6oeejkf/data_wos_preprocessed.pkl\n",
        "  # !wget -N https://www.dropbox.com/s/kiffa4nidkjt7wi/data_wos_labels.pkl"
      ]
    },
    {
      "cell_type": "code",
      "execution_count": null,
      "metadata": {
        "id": "pciXVjzayvYx"
      },
      "outputs": [],
      "source": [
        "def download_unzip_crowdgender():\n",
        "  !wget -N https://www.dropbox.com/s/trz5uph29b0t0eg/data_crowder.zip\n",
        "  os.system('unzip data_crowder.zip')"
      ]
    },
    {
      "cell_type": "code",
      "execution_count": null,
      "metadata": {
        "id": "d2jRZizJ5Te5"
      },
      "outputs": [],
      "source": [
        "def download_data(data,dtype):\n",
        "  data = data.lower()\n",
        "  dtype = dtype.lower()\n",
        "  if data == 'reuters':\n",
        "    download_reuters()\n",
        "  elif data == 'crowdgender':\n",
        "   download_unzip_crowdgender()\n",
        "  elif data == 'webkb':\n",
        "    download_webkb()\n",
        "  elif data == 'wos':\n",
        "    download_WoS()\n",
        "  # elif dtype == 'short':\n",
        "  #   short_text_datasets()\n",
        "\n",
        "  elif data == 'searchsnippet' and dtype =='short' and all_vocab:\n",
        "    !wget -N -c https://www.dropbox.com/s/vu3ftyv72fodfiv/searchsnippet_all_vocab_.zip\n",
        "    !unzip -o searchsnippet_all_vocab_.zip\n",
        "  elif data == 'agnews120k' and dtype =='short' and all_vocab:\n",
        "    !wget -N -c https://www.dropbox.com/s/wvx9ed1rop9vjkg/agnews120k_all_vocab_.zip\n",
        "    !unzip -o agnews120k_all_vocab_.zip\n",
        "  elif data=='bbc' and dtype =='short' and all_vocab:\n",
        "    !wget -N -c https://www.dropbox.com/s/4mxikpqoj26rmsg/bbc_short_all_vocab_.zip\n",
        "    !unzip -o bbc_short_all_vocab_.zip\n",
        "  elif data=='bbc' and dtype =='full' and all_vocab:\n",
        "    # dir ='/content/content/data_'+d_data\n",
        "    # shutil.rmtree(dir)\n",
        "    # !wget -N -c https://www.dropbox.com/s/e2ftkdd742chouz/bbc_full_short_all_vocab_.zip\n",
        "    # !unzip -o bbc_full_short_all_vocab_.zip\n",
        "    !wget -N -c https://www.dropbox.com/s/t217pxhn280njre/bbc_full_all_vocab_200iter_sent.zip\n",
        "    !unzip -o bbc_full_all_vocab_200iter_sent.zip"
      ]
    },
    {
      "cell_type": "markdown",
      "metadata": {
        "id": "f8wJtTb42ioB"
      },
      "source": [
        "##**Data Loading functions**"
      ]
    },
    {
      "cell_type": "code",
      "execution_count": null,
      "metadata": {
        "id": "wUua0C3EUnLc"
      },
      "outputs": [],
      "source": [
        "def load_data(d_data,dtype,generated):\n",
        "  dir= home_dir+'/content/data_'+d_data+'/'+dtype\n",
        "  # dir ='/content/content/data_'+d_data+'/'+dtype\n",
        "  os.chdir(dir)\n",
        "  data_preprocessed=load_obj_pkl5(\"data_preprocessed_\"+d_data+\"_\"+dtype)\n",
        "  data_preprocessed_labels=load_obj_pkl5(\"data_preprocessed_labels_\"+d_data+\"_\"+dtype)\n",
        "  if generated == False:\n",
        "    embeddings=load_obj_pkl5(\"embeddings_\"+d_data+\"_\"+dtype)\n",
        "  # generated_embeddings=load_obj_pkl5(\"generated_embeddings_\"+d_data+\"_\"+dtype)\n",
        "  elif generated==True:\n",
        "    embeddings = load_obj_pkl5(\"generated_embeddings_\"+d_data+\"_\"+dtype)\n",
        "  os.chdir(home_dir)\n",
        "  return data_preprocessed,data_preprocessed_labels,embeddings,load_data.__name__\n",
        "\n",
        "def load_20News_sentences():\n",
        "  embeddings = load_obj('embeddings_twentynews_sent')\n",
        "  data_preprocessed = load_obj('data_twentynews_preprocessed_sent')\n",
        "  data_preprocessed_labels = load_obj(\"data_twentynews_labels_sent\")\n",
        "  doc_sent_id = load_obj('doc_id_sent_twentynews')\n",
        "  return data_preprocessed,data_preprocessed_labels,embeddings,doc_sent_id,load_20News_sentences.__name__\n",
        "\n",
        "def load_20News_reuters():\n",
        "  data_preprocessed = load_obj('data_reuters_preprocessed')\n",
        "  data_preprocessed_labels = load_obj(\"data_reuters_labels\")\n",
        "  embeddings = load_obj('embeddings_reuters')\n",
        "  data_preprocessed.extend(load_obj('data_20News_preprocessed'))\n",
        "  data_preprocessed_labels.extend(load_obj(\"data_20news_preprocessed_labels\"))\n",
        "  embeddings.update(load_obj('embeddings_20news'))\n",
        "  return data_preprocessed,data_preprocessed_labels,embeddings,load_20News_reuters.__name__"
      ]
    },
    {
      "cell_type": "markdown",
      "metadata": {
        "id": "DQmnmNU2pN8K"
      },
      "source": [
        "## get_keywords"
      ]
    },
    {
      "cell_type": "code",
      "execution_count": null,
      "metadata": {
        "id": "8R4SK4-e6Aec"
      },
      "outputs": [],
      "source": [
        "def get_keywords(data):\n",
        "  keywords_arxiv = ['molecular ','stimulation','liquid','fluid']\n",
        "  keywords_webkb = ['student','department','india']\n",
        "  keywords_r52 = ['mutual','fund','market','money']\n",
        "\n",
        "  keywords_WoS = ['pediatric','protein','clone']\n",
        "  keywords_20News_Reuters = ['oil','price','opec','bpd','barrel','saudi','production','mln','crude']\n",
        "\n",
        "  # keywords_reuters = ['company', 'analyst', 'offer', 'pct', 'takeover', 'merger', 'record', 'dividend', 'pay', 'stock']\n",
        "  # keywords_reuters = ['stock', 'dividend', 'inc']\n",
        "  keywords_reuters = ['oil','crude','ship']\n",
        "  # keywords =['stock']\n",
        "  # keywords_reuters = ['usa']\n",
        "\n",
        "  keywords_crowdgender = ['housewife','girl','beautiful','blonde']\n",
        "\n",
        "  keywords_20News = ['sport','game','baseball']\n",
        "  # keywords_20News = ['looking' ,'add', 'voice' ,'input', 'capability', 'user', 'interface']\n",
        "\n",
        "  # keywords_bbc=['fuel','reserve','oil']\n",
        "  # keywords_bbc=['fuel','oil','game','win']\n",
        "  # keywords_bbc=['fuel','oil','crude']\n",
        "  # keywords_bbc=['fuel','usa'] #,'politics'\n",
        "  # keywords_bbc = ['stock','apple','increase']\n",
        "  # keywords_bbc = ['microsoft','computer']\n",
        "  # keywords_bbc = ['food','mcdonald']\n",
        "  keywords_bbc = ['apple','microsoft', 'stock']\n",
        "  # keywords_bbc = ['apple','stock']\n",
        "  # keywords_bbc = ['fuel']\n",
        "  # keywords_bbc = ['microsoft','fuel']\n",
        "  # keywords_bbc = ['apple','microsoft','stock']\n",
        "\n",
        "\n",
        "  # keywords_searchsnippet = ['politics','drama','minister']\n",
        "  keywords_searchsnippet = ['korean','drama']\n",
        "\n",
        "\n",
        "  keywords_yahooanswers = ['anger','hate','crime']\n",
        "  # keywords_agnews = ['computer','apple','microsoft']\n",
        "  keywords_agnews = ['auto','gasoline']\n",
        "\n",
        "  data = data.lower()\n",
        "  if data=='reuters': keywords = keywords_reuters\n",
        "  elif data=='twentynews':keywords = keywords_20News\n",
        "  elif data=='crowdgender':keywords = keywords_crowdgender\n",
        "  elif data=='webkb':keywords = keywords_webkb\n",
        "  elif data=='bbc': keywords = keywords_bbc\n",
        "  elif data=='searchsnippet': keywords = keywords_searchsnippet\n",
        "  elif data=='yahooanswers': keywords = keywords_yahooanswers\n",
        "  elif data=='agnews120k': keywords = keywords_agnews\n",
        "  elif data=='wos': keywords = keywords_WoS\n",
        "  else:\n",
        "    print('keyword list not found!!!')\n",
        "  return keywords"
      ]
    },
    {
      "cell_type": "markdown",
      "metadata": {
        "id": "CCBiqaMRpRBi"
      },
      "source": [
        "##DESM Score Function"
      ]
    },
    {
      "cell_type": "code",
      "execution_count": null,
      "metadata": {
        "id": "ajHkB_vb7xza"
      },
      "outputs": [],
      "source": [
        "def cosine_similarity_desm_docs(query_list, train_vec, vocab, embeddings):\n",
        "  num_docs = train_vec.shape[0]\n",
        "  num_voc = len(vocab)\n",
        "  sim_list = torch.zeros(num_docs)\n",
        "  index = 0\n",
        "  id_vocab = dict(map(reversed, vocab.items()))\n",
        "  for d in range(num_docs):\n",
        "    if(d%5000==0): print(d)\n",
        "    doc_bar = torch.zeros(300)\n",
        "    doc_length = 0\n",
        "    for v in range(num_voc):\n",
        "      if(train_vec[d][v] > 0):\n",
        "        doc_bar.add_(train_vec[d][v] * torch.from_numpy(embeddings[id_vocab[v]])/torch.norm(torch.from_numpy(embeddings[id_vocab[v]])))\n",
        "        doc_length = doc_length + train_vec[d][v]\n",
        "    doc_bar = doc_bar / doc_length\n",
        "    sum = 0\n",
        "\n",
        "    for q in query_list:\n",
        "      sum += torch.dot(torch.from_numpy(embeddings[q]) , doc_bar)/(torch.norm(torch.from_numpy(embeddings[q]))*torch.norm(doc_bar))\n",
        "    sum = sum/len(query_list)\n",
        "    sim_list[index]=sum\n",
        "    index = index + 1\n",
        "\n",
        "  return sim_list"
      ]
    },
    {
      "cell_type": "code",
      "execution_count": null,
      "metadata": {
        "id": "7ln_kgdTcVSc"
      },
      "outputs": [],
      "source": [
        "def cosine_similarity_desm_docs_forlarge(query_list, train_vec, vocab, embeddings):\n",
        "  num_docs = train_vec.shape[0]\n",
        "  num_voc = len(vocab)\n",
        "  sim_list = torch.zeros(num_docs)\n",
        "  index = 0\n",
        "  id_vocab = dict(map(reversed, vocab.items()))\n",
        "  for d in range(num_docs):\n",
        "    if(d%5000==0): print(d)\n",
        "    doc_bar = torch.zeros(300)\n",
        "    doc_length = 0\n",
        "    for v in range(num_voc):\n",
        "      train_vec_val = train_vec[d].toarray()[0][v]\n",
        "      if(train_vec_val > 0):\n",
        "        doc_bar.add_(train_vec_val * torch.from_numpy(embeddings[id_vocab[v]])/torch.norm(torch.from_numpy(embeddings[id_vocab[v]])))\n",
        "        doc_length = doc_length + train_vec_val\n",
        "    doc_bar = doc_bar / doc_length\n",
        "    sum = 0\n",
        "\n",
        "    for q in query_list:\n",
        "      sum += torch.dot(torch.from_numpy(embeddings[q]) , doc_bar)/(torch.norm(torch.from_numpy(embeddings[q]))*torch.norm(doc_bar))\n",
        "    sum = sum/len(query_list)\n",
        "    sim_list[index]=sum\n",
        "    index = index + 1\n",
        "\n",
        "  return sim_list"
      ]
    },
    {
      "cell_type": "markdown",
      "metadata": {
        "id": "K0zQCuyY_kaq"
      },
      "source": [
        "\n",
        "## functions (Plot_loss, get_topwords, get_Z, get_Contour, print_Topics)"
      ]
    },
    {
      "cell_type": "code",
      "execution_count": null,
      "metadata": {
        "id": "ju7hYPrZrxfJ"
      },
      "outputs": [],
      "source": [
        "def getall_tensor_size():\n",
        "  for obj in gc.get_objects():\n",
        "    try:\n",
        "        if torch.is_tensor(obj) or (hasattr(obj, 'data') and torch.is_tensor(obj.data)):\n",
        "            print(type(obj), obj.size(),get_mem_size(obj))\n",
        "    except:\n",
        "        pass\n",
        "\n",
        "def list_of_tensors_to_tensor(loT):\n",
        "  stacked_tensor = torch.stack(loT)\n",
        "  return stacked_tensor\n",
        "\n",
        "def get_labels_dict(unique_labels):\n",
        "  labels_dict = {}\n",
        "  for l in unique_labels:\n",
        "    labels_dict[l] = 'C'+str(unique_labels.index(l))\n",
        "  return labels_dict\n",
        "\n",
        "def get_topwords(beta, id_vocab,topwords):\n",
        "    topic_indx = 0\n",
        "    topwords_topic = []\n",
        "    topic_topwords = topwords\n",
        "    for i in range(len(beta)):\n",
        "        topwords_topic.append( str(topic_indx)+\": \"+ \" \".join([id_vocab[j] for j in beta[i].argsort()[:-topic_topwords - 1:-1]]))\n",
        "        topic_indx+=1\n",
        "    return topwords_topic\n",
        "\n",
        "def print_Topics(topwords):\n",
        "  print(\"---\"*10)\n",
        "  topword_topics = get_topwords(beta, id_vocab,topwords)\n",
        "  topword_topics_list=[]\n",
        "  for topwords in topword_topics:\n",
        "      topword_topics_list.append(topwords.split())\n",
        "      print(topwords)\n",
        "  print(\"---\"*10)"
      ]
    },
    {
      "cell_type": "code",
      "execution_count": null,
      "metadata": {
        "id": "h2DrizcsH104"
      },
      "outputs": [],
      "source": [
        "def plot_loss(y,name):\n",
        "  figure = go.Figure()\n",
        "  figure.add_trace(go.Scatter(x=[i for i in range(1,epochs+1)], y=y,mode='lines',name=name))\n",
        "  figure.show(renderer='colab')\n",
        "\n",
        "def plot_fig(zx, labels_list, zphi, query_center,query_words,keywords,lim,contour='No'):\n",
        "\n",
        "    fig, ax = plt.subplots( figsize=(20, 20))\n",
        "    if contour=='yes':\n",
        "       get_Contour(ax,zx,lim)\n",
        "\n",
        "    label_colors_dict = get_labels_dict(sorted_unique_labels)\n",
        "    # sb.scatterplot(ax=ax,x=zx[:,0],y=zx[:,1],hue=labels_list,alpha=0.8,palette='deep')\n",
        "    sb.scatterplot(ax=ax,x=zx[:,0],y=zx[:,1],hue=labels_list,alpha=0.8,palette=label_colors_dict)\n",
        "\n",
        "    ax.set(ylim=(-lim,lim))\n",
        "    ax.set(xlim=(-lim,lim))\n",
        "\n",
        "    # ax.text(query_center[0],query_center[1], 'X' ,c='red')\n",
        "    # ax.text(0,0, 'X' ,c='black')\n",
        "    for i in range(len(query_words)):\n",
        "      if (i==len(query_words)-1):\n",
        "        ax.text(query_words[i][0],query_words[i][1], 'X'+keywords[i] ,c='black',weight='bold')\n",
        "      else:\n",
        "        ax.text(query_words[i][0],query_words[i][1], 'X'+keywords[i] ,c='black',weight='bold')\n",
        "\n",
        "    ax.scatter(zphi[:, 0], zphi[:, 1], alpha=1.0,  edgecolors='black', facecolors='none', s=30)\n",
        "\n",
        "    for indx, topic in enumerate(zphi):\n",
        "        ax.text(zphi[indx, 0], zphi[indx, 1], 'topic'+str(indx))\n",
        "\n",
        "\n",
        "\n",
        "def get_Z(X,Y):\n",
        "  norms = torch.zeros(X.shape)\n",
        "  Z = torch.zeros(X.shape)\n",
        "\n",
        "  for i in range(X.shape[0]):\n",
        "    for j in range(X.shape[0]):\n",
        "      v = torch.tensor([X[i][j],Y[i][j]])\n",
        "\n",
        "      norms[i][j] = torch.norm(v)\n",
        "      Z[i][j]=torch.exp(-0.5 * (torch.pow(norms[i][j],2))/mu_div)\n",
        "\n",
        "      # norms[i][j] = (v-query_center.T).pow(2).sum(-1)\n",
        "      # Z[i][j]=torch.exp(-0.5 * norms[i][j]/mu_div)\n",
        "  return Z\n",
        "\n",
        "def get_Contour(ax,x_list,lim):\n",
        "  xlist = np.linspace(-lim, lim, 200)\n",
        "  ylist = np.linspace(-lim, lim, 200)\n",
        "  X, Y = np.meshgrid(xlist, ylist)\n",
        "  Z = get_Z(X,Y)\n",
        "  levels = np.arange(0,1,0.1)\n",
        "  cp = ax.contour(X, Y, Z, levels=levels)\n",
        "  ax.clabel(cp, inline=1, fontsize=10)\n",
        "\n",
        "\n",
        "def get_gpu_memory_map():\n",
        "    \"\"\"Get the current gpu usage.\n",
        "    Returns\n",
        "    -------\n",
        "    usage: dict\n",
        "        Keys are device ids as integers.\n",
        "        Values are memory usage as integers in MB.\n",
        "    \"\"\"\n",
        "    result = subprocess.check_output(\n",
        "        [\n",
        "            'nvidia-smi', '--query-gpu=memory.used',\n",
        "            '--format=csv,nounits,noheader'\n",
        "        ], encoding='utf-8')\n",
        "    # Convert lines into a dictionary\n",
        "    gpu_memory = np.array([int(x) for x in result.strip().split('\\n')])\n",
        "    # gpu_memory_map = dict(zip(range(len(gpu_memory)), gpu_memory))\n",
        "    return gpu_memory\n",
        "\n",
        "def auto_select_gpu(memory_threshold = 7000, smooth_ratio=200, strategy='greedy'):\n",
        "    gpu_memory_raw = get_gpu_memory_map() + 10\n",
        "    if strategy=='random':\n",
        "        gpu_memory = gpu_memory_raw/smooth_ratio\n",
        "        gpu_memory = gpu_memory.sum() / (gpu_memory+10)\n",
        "        gpu_memory[gpu_memory_raw>memory_threshold] = 0\n",
        "        gpu_prob = gpu_memory / gpu_memory.sum()\n",
        "        cuda = str(np.random.choice(len(gpu_prob), p=gpu_prob))\n",
        "        print('GPU select prob: {}, Select GPU {}'.format(gpu_prob, cuda))\n",
        "    elif strategy == 'greedy':\n",
        "        cuda = np.argmin(gpu_memory_raw)\n",
        "        print('GPU mem: {}, Select GPU {}'.format(gpu_memory_raw[cuda], cuda))\n",
        "    return cuda"
      ]
    },
    {
      "cell_type": "markdown",
      "metadata": {
        "id": "Ew89XnAFbbYP"
      },
      "source": [
        "## Just Run (pytorch)"
      ]
    },
    {
      "cell_type": "code",
      "execution_count": null,
      "metadata": {
        "cellView": "form",
        "id": "HZlo3d0m-Ac4"
      },
      "outputs": [],
      "source": [
        "#@title Weight Drop\n",
        "def _weight_drop(module, weights, dropout):\n",
        "    \"\"\"\n",
        "    Helper for `WeightDrop`.\n",
        "    \"\"\"\n",
        "    for name_w in weights:\n",
        "        w = getattr(module, name_w)\n",
        "        del module._parameters[name_w]\n",
        "        module.register_parameter(name_w + '_raw', Parameter(w))\n",
        "\n",
        "    original_module_forward = module.forward\n",
        "\n",
        "    def forward(*args, **kwargs):\n",
        "        for name_w in weights:\n",
        "            raw_w = getattr(module, name_w + '_raw')\n",
        "            w = torch.nn.functional.dropout(raw_w, p=dropout, training=module.training)\n",
        "\n",
        "            setattr(module, name_w, w)\n",
        "\n",
        "        # return original_module_forward(*args, **kwargs)\n",
        "\n",
        "    setattr(module, 'forward', forward)\n",
        "\n",
        "\n",
        "class WeightDrop(torch.nn.Module):\n",
        "    \"\"\"\n",
        "    The weight-dropped module applies recurrent regularization through a DropConnect mask on the\n",
        "    hidden-to-hidden recurrent weights.\n",
        "\n",
        "    **Thank you** to Sales Force for their initial implementation of :class:`WeightDrop`. Here is\n",
        "    their `License\n",
        "    <https://github.com/salesforce/awd-lstm-lm/blob/master/LICENSE>`__.\n",
        "\n",
        "    Args:\n",
        "        module (:class:`torch.nn.Module`): Containing module.\n",
        "        weights (:class:`list` of :class:`str`): Names of the module weight parameters to apply a\n",
        "          dropout too.\n",
        "        dropout (float): The probability a weight will be dropped.\n",
        "\n",
        "    Example:\n",
        "\n",
        "        >>> from torchnlp.nn import WeightDrop\n",
        "        >>> import torch\n",
        "        >>>\n",
        "        >>> torch.manual_seed(123)\n",
        "        <torch._C.Generator object ...\n",
        "        >>>\n",
        "        >>> gru = torch.nn.GRUCell(2, 2)\n",
        "        >>> weights = ['weight_hh']\n",
        "        >>> weight_drop_gru = WeightDrop(gru, weights, dropout=0.9)\n",
        "        >>>\n",
        "        >>> input_ = torch.randn(3, 2)\n",
        "        >>> hidden_state = torch.randn(3, 2)\n",
        "        >>> weight_drop_gru(input_, hidden_state)\n",
        "        tensor(... grad_fn=<AddBackward0>)\n",
        "    \"\"\"\n",
        "\n",
        "    def __init__(self, module, weights, dropout=0.0):\n",
        "        super(WeightDrop, self).__init__()\n",
        "        _weight_drop(module, weights, dropout)\n",
        "        self.forward = module.forward\n",
        "\n",
        "class WeightDropLinear(torch.nn.Linear):\n",
        "    \"\"\"\n",
        "    Wrapper around :class:`torch.nn.Linear` that adds ``weight_dropout`` named argument.\n",
        "\n",
        "    Args:\n",
        "        weight_dropout (float): The probability a weight will be dropped.\n",
        "    \"\"\"\n",
        "\n",
        "    def __init__(self, *args, weight_dropout=0.0, **kwargs):\n",
        "        super().__init__(*args, **kwargs)\n",
        "\n",
        "        weights = ['weight']\n",
        "        # print('name_w in _weight_drop: ', name_w)\n",
        "        _weight_drop(self, weights, weight_dropout)"
      ]
    },
    {
      "cell_type": "code",
      "execution_count": null,
      "metadata": {
        "cellView": "form",
        "id": "iJJw4-xTu-ZF"
      },
      "outputs": [],
      "source": [
        "# @title Targeted Dropout Class\n",
        "import torch\n",
        "import torch.nn as nn\n",
        "\n",
        "\n",
        "class TargetedDropout(nn.Module):\n",
        "    \"\"\"\n",
        "    Learning Sparse Networks Using Targeted Dropout\n",
        "    https://arxiv.org/abs/1905.13678\n",
        "    \"\"\"\n",
        "\n",
        "    def __init__(self,targeted=\"weight\",target_layer=None,\n",
        "                 dropout_rate=0.5,targeted_portion=0.5):\n",
        "        super(TargetedDropout, self).__init__()\n",
        "        self.targeted = targeted\n",
        "        self.target_layer = target_layer\n",
        "        self.dropout_rate = dropout_rate\n",
        "        self.targeted_portion = targeted_portion\n",
        "        self.weight = target_layer.weight\n",
        "\n",
        "        if self.targeted == \"weight\":\n",
        "            self.targeted_dropout = targeted_weight_dropout\n",
        "        elif self.targeted == \"unit\":\n",
        "            self.targeted_dropout = targeted_unit_dropout\n",
        "\n",
        "    def forward(self):\n",
        "        self.weight = self.targeted_dropout(\n",
        "            weight=self.target_layer.weight,\n",
        "            dropout_rate=self.dropout_rate,\n",
        "            targeted_portion=self.targeted_portion,\n",
        "            is_training=self.training,\n",
        "        )\n",
        "\n",
        "        self.target_layer.weight = self.weight\n",
        "        # output = self.target_layer(x)\n",
        "        return self.weight\n",
        "\n",
        "    def extra_repr(self):\n",
        "        return f\"targeted={self.targeted}, dropout_rate={self.dropout_rate}, targeted_portion={self.targeted_portion}\"\n",
        "\n",
        "\n",
        "def targeted_weight_dropout(weight, dropout_rate, targeted_portion, is_training):\n",
        "    weight_shape = weight.shape\n",
        "    weight = torch.reshape(weight, [-1, weight_shape[-1]]).float()\n",
        "\n",
        "    norm = torch.abs(weight)\n",
        "    idx = int(targeted_portion * torch.tensor(weight.shape[0]).float())\n",
        "    threshold = torch.sort(norm, dim=0)[0][idx]\n",
        "    mask = norm < threshold[None, :]\n",
        "\n",
        "    if not is_training:\n",
        "        mask = (torch.rand_like(weight) < dropout_rate).to(mask.device.type) & mask\n",
        "\n",
        "    weight = (1.0 - mask.float()) * weight\n",
        "    weight = torch.reshape(weight, weight_shape)\n",
        "    weight = torch.nn.Parameter(weight)\n",
        "\n",
        "    return weight\n",
        "\n",
        "def targeted_unit_dropout(weight, dropout_rate, targeted_portion, is_training):\n",
        "    weight_shape = weight.shape\n",
        "    weight = torch.reshape(weight, [-1, weight_shape[-1]]).float()\n",
        "\n",
        "    norm = torch.norm(weight, dim=0)\n",
        "    idx = int(targeted_portion * int(weight.shape[1]))\n",
        "    sorted_norms = torch.sort(norm)[0]\n",
        "    threshold = sorted_norms[idx]\n",
        "    mask = (norm < threshold)[None, :]\n",
        "    mask = mask.repeat(weight.shape[0], 1)\n",
        "\n",
        "    if not is_training:\n",
        "        mask = torch.where(\n",
        "            ((1.0 - dropout_rate) < torch.rand_like(weight)).to(mask.device.type)\n",
        "            & mask,\n",
        "            torch.ones_like(weight, dtype=torch.float32),\n",
        "            torch.zeros_like(weight, dtype=torch.float32),\n",
        "        )\n",
        "\n",
        "    weight = (1.0 - mask.float()) * weight\n",
        "    weight = torch.reshape(weight, weight_shape)\n",
        "    weight = torch.nn.Parameter(weight)\n",
        "\n",
        "    return weight"
      ]
    },
    {
      "cell_type": "markdown",
      "metadata": {
        "id": "tFms0ZiwR5TF"
      },
      "source": [
        "# **1. Prepare Data**"
      ]
    },
    {
      "cell_type": "code",
      "execution_count": null,
      "metadata": {
        "id": "vMyE4tXd5q-e",
        "colab": {
          "base_uri": "https://localhost:8080/"
        },
        "outputId": "aaaebcb7-a828-4440-c103-af2313297ace"
      },
      "outputs": [
        {
          "output_type": "stream",
          "name": "stdout",
          "text": [
            "--2022-01-27 16:09:23--  https://www.dropbox.com/s/4mxikpqoj26rmsg/bbc_short_all_vocab_.zip\n",
            "Resolving www.dropbox.com (www.dropbox.com)... 162.125.65.18, 2620:100:6027:18::a27d:4812\n",
            "Connecting to www.dropbox.com (www.dropbox.com)|162.125.65.18|:443... connected.\n",
            "HTTP request sent, awaiting response... 301 Moved Permanently\n",
            "Location: /s/raw/4mxikpqoj26rmsg/bbc_short_all_vocab_.zip [following]\n",
            "--2022-01-27 16:09:23--  https://www.dropbox.com/s/raw/4mxikpqoj26rmsg/bbc_short_all_vocab_.zip\n",
            "Reusing existing connection to www.dropbox.com:443.\n",
            "HTTP request sent, awaiting response... 302 Found\n",
            "Location: https://uc5d72cef2ae6cb63cf7b44fd53a.dl.dropboxusercontent.com/cd/0/inline/BelARyIyu9ko4G_VJCgrm8K5oKC30tUWt8a1sD24GFWIWEJlW9GcAMuhlvRKjg-XKlfFeynGWOHfbUugjtiieX7XjWhWKxDd8Iz-dGzbUXYeGexJSQSg4fwsaaOxM0ylU3znSmowcAG04jxhcwWDuLeX/file# [following]\n",
            "--2022-01-27 16:09:23--  https://uc5d72cef2ae6cb63cf7b44fd53a.dl.dropboxusercontent.com/cd/0/inline/BelARyIyu9ko4G_VJCgrm8K5oKC30tUWt8a1sD24GFWIWEJlW9GcAMuhlvRKjg-XKlfFeynGWOHfbUugjtiieX7XjWhWKxDd8Iz-dGzbUXYeGexJSQSg4fwsaaOxM0ylU3znSmowcAG04jxhcwWDuLeX/file\n",
            "Resolving uc5d72cef2ae6cb63cf7b44fd53a.dl.dropboxusercontent.com (uc5d72cef2ae6cb63cf7b44fd53a.dl.dropboxusercontent.com)... 162.125.65.15, 2620:100:6021:15::a27d:410f\n",
            "Connecting to uc5d72cef2ae6cb63cf7b44fd53a.dl.dropboxusercontent.com (uc5d72cef2ae6cb63cf7b44fd53a.dl.dropboxusercontent.com)|162.125.65.15|:443... connected.\n",
            "HTTP request sent, awaiting response... 302 Found\n",
            "Location: /cd/0/inline2/BenK4F4jW8l5BWl6llHLhWRlvMUJWUteX6hmkHzgwQCUreKwpWgAWDc7JN7nmRcsCsDMx9nd4lYa6A81a8U4V7E8_rDKtuETIOUygc0g_GwofSyiPdYMYaXOgZ5xdDgaSEKarpZiQ6bEhvmAgJY_IYdEIsV7VCB2TD4VSgJDeAIhjqCAcNMDyQbc3Hnyt0lPrk29mpz27XCaoS-wuUg81nEPSVLcPukB_gODC35aiMPk-B7e9frsiGnoa1bdEeO1CtTuREOHfVPwCJbPd_V64ZHdz6kooZM3fzVKGvJL4IsNvGsBzM5BCd9BSu0ZQX7MIv_0xhVT8bovVLxw-wEmBb7pRLEMiEIn-AsGlu8oIAfMvjHN0wdI_d0GOABx0yx9kH8/file [following]\n",
            "--2022-01-27 16:09:24--  https://uc5d72cef2ae6cb63cf7b44fd53a.dl.dropboxusercontent.com/cd/0/inline2/BenK4F4jW8l5BWl6llHLhWRlvMUJWUteX6hmkHzgwQCUreKwpWgAWDc7JN7nmRcsCsDMx9nd4lYa6A81a8U4V7E8_rDKtuETIOUygc0g_GwofSyiPdYMYaXOgZ5xdDgaSEKarpZiQ6bEhvmAgJY_IYdEIsV7VCB2TD4VSgJDeAIhjqCAcNMDyQbc3Hnyt0lPrk29mpz27XCaoS-wuUg81nEPSVLcPukB_gODC35aiMPk-B7e9frsiGnoa1bdEeO1CtTuREOHfVPwCJbPd_V64ZHdz6kooZM3fzVKGvJL4IsNvGsBzM5BCd9BSu0ZQX7MIv_0xhVT8bovVLxw-wEmBb7pRLEMiEIn-AsGlu8oIAfMvjHN0wdI_d0GOABx0yx9kH8/file\n",
            "Reusing existing connection to uc5d72cef2ae6cb63cf7b44fd53a.dl.dropboxusercontent.com:443.\n",
            "HTTP request sent, awaiting response... 200 OK\n",
            "Length: 9993730 (9.5M) [application/zip]\n",
            "Saving to: ‘bbc_short_all_vocab_.zip’\n",
            "\n",
            "bbc_short_all_vocab 100%[===================>]   9.53M  7.24MB/s    in 1.3s    \n",
            "\n",
            "Last-modified header missing -- time-stamps turned off.\n",
            "2022-01-27 16:09:26 (7.24 MB/s) - ‘bbc_short_all_vocab_.zip’ saved [9993730/9993730]\n",
            "\n",
            "Archive:  bbc_short_all_vocab_.zip\n",
            "  inflating: content/data_bbc/short/vocab_bbc_short.pkl  \n",
            "  inflating: content/data_bbc/short/allsents_in_docs_bbc_short.pkl  \n",
            "  inflating: content/data_bbc/short/generated_vocab_bbc_short.pkl  \n",
            "  inflating: content/data_bbc/short/generated_embeddings_bbc_short.pkl  \n",
            "  inflating: content/data_bbc/short/allsents_labels_bbc_short.pkl  \n",
            "  inflating: content/data_bbc/short/data_preprocessed_labels_bbc_short.pkl  \n",
            "  inflating: content/data_bbc/short/bbc_short.txt  \n",
            "  inflating: content/data_bbc/short/embeddings_bbc_short.pkl  \n",
            "  inflating: content/data_bbc/short/data_preprocessed_bbc_short.pkl  \n"
          ]
        }
      ],
      "source": [
        "#### Data Downloading ####\n",
        "download_data(d_data,dtype) ### Run Once"
      ]
    },
    {
      "cell_type": "code",
      "execution_count": null,
      "metadata": {
        "colab": {
          "base_uri": "https://localhost:8080/"
        },
        "id": "1MN4t01dDLCs",
        "outputId": "b4b059b1-8c0a-4f0c-df00-67e82a512f42"
      },
      "outputs": [
        {
          "output_type": "stream",
          "name": "stdout",
          "text": [
            "load_data bbc 2224 2224 5733 4013\n"
          ]
        }
      ],
      "source": [
        "# ##### Data loading #####\n",
        "# dtype='short'\n",
        "loaded_data = load_data(d_data,dtype,generated=True)\n",
        "##########################\n",
        "\n",
        "data_preprocessed , data_preprocessed_labels , embeddings, name = loaded_data\n",
        "max_features=int(len(embeddings)*perc_vocab)\n",
        "# if len(embeddings)>10000:\n",
        "#   max_features = 10000\n",
        "sorted_unique_labels = sorted(set(data_preprocessed_labels))\n",
        "\n",
        "# for d in range(len(data_preprocessed)):\n",
        "#   data_preprocessed[d] = doc_remove_extra_stopwords(data_preprocessed[d])\n",
        "print(name,d_data,len(data_preprocessed_labels),len(data_preprocessed),len(embeddings),max_features)"
      ]
    },
    {
      "cell_type": "code",
      "execution_count": null,
      "metadata": {
        "cellView": "both",
        "colab": {
          "base_uri": "https://localhost:8080/"
        },
        "id": "2gU5icTALJTS",
        "outputId": "12aacb7e-eefd-4131-c0b5-99d803883940"
      },
      "outputs": [
        {
          "output_type": "stream",
          "name": "stdout",
          "text": [
            "(2224, 4013)\n",
            "['business', 'business', 'business', 'business', 'business', 'business', 'business', 'business', 'business', 'business', 'business', 'business', 'business', 'business', 'business', 'business', 'business', 'business', 'business', 'business', 'business', 'business', 'business', 'business', 'business', 'business', 'business', 'business', 'business', 'business', 'business', 'business', 'business', 'business', 'business', 'business', 'business', 'business', 'business', 'business', 'business', 'business', 'business', 'business', 'business', 'business', 'business', 'business', 'business', 'business', 'business', 'business', 'business', 'business', 'business', 'business', 'business', 'business', 'business', 'business', 'business', 'business', 'business', 'business', 'business', 'business', 'business', 'business', 'business', 'business', 'business', 'business', 'business', 'business', 'business', 'business', 'business', 'business', 'business', 'business', 'business', 'business', 'business', 'business', 'business', 'business', 'business', 'business', 'business', 'business', 'business', 'business', 'business', 'business', 'business', 'business', 'business', 'business', 'business', 'business', 'business', 'business', 'business', 'business', 'business', 'business', 'business', 'business', 'business', 'business', 'business', 'business', 'business', 'business', 'business', 'business', 'business', 'business', 'business', 'business', 'business', 'business', 'business', 'business', 'business', 'business', 'business', 'business', 'business', 'business', 'business', 'business', 'business', 'business', 'business', 'business', 'business', 'business', 'business', 'business', 'business', 'business', 'business', 'business', 'business', 'business', 'business', 'business', 'business', 'business', 'business', 'business', 'business', 'business', 'business', 'business', 'business', 'business', 'business', 'business', 'business', 'business', 'business', 'business', 'business', 'business', 'business', 'business', 'business', 'business', 'business', 'business', 'business', 'business', 'business', 'business', 'business', 'business', 'business', 'business', 'business', 'business', 'business', 'business', 'business', 'business', 'business', 'business', 'business', 'business', 'business', 'business', 'business', 'business', 'business', 'business', 'business', 'business', 'business', 'business', 'business', 'business', 'business', 'business', 'business', 'business', 'business', 'business', 'business', 'business', 'business', 'business', 'business', 'business', 'business', 'business', 'business', 'business', 'business', 'business', 'business', 'business', 'business', 'business', 'business', 'business', 'business', 'business', 'business', 'business', 'business', 'business', 'business', 'business', 'business', 'business', 'business', 'business', 'business', 'business', 'business', 'business', 'business', 'business', 'business', 'business', 'business', 'business', 'business', 'business', 'business', 'business', 'business', 'business', 'business', 'business', 'business', 'business', 'business', 'business', 'business', 'business', 'business', 'business', 'business', 'business', 'business', 'business', 'business', 'business', 'business', 'business', 'business', 'business', 'business', 'business', 'business', 'business', 'business', 'business', 'business', 'business', 'business', 'business', 'business', 'business', 'business', 'business', 'business', 'business', 'business', 'business', 'business', 'business', 'business', 'business', 'business', 'business', 'business', 'business', 'business', 'business', 'business', 'business', 'business', 'business', 'business', 'business', 'business', 'business', 'business', 'business', 'business', 'business', 'business', 'business', 'business', 'business', 'business', 'business', 'business', 'business', 'business', 'business', 'business', 'business', 'business', 'business', 'business', 'business', 'business', 'business', 'business', 'business', 'business', 'business', 'business', 'business', 'business', 'business', 'business', 'business', 'business', 'business', 'business', 'business', 'business', 'business', 'business', 'business', 'business', 'business', 'business', 'business', 'business', 'business', 'business', 'business', 'business', 'business', 'business', 'business', 'business', 'business', 'business', 'business', 'business', 'business', 'business', 'business', 'business', 'business', 'business', 'business', 'business', 'business', 'business', 'business', 'business', 'business', 'business', 'business', 'business', 'business', 'business', 'business', 'business', 'business', 'business', 'business', 'business', 'business', 'business', 'business', 'business', 'business', 'business', 'business', 'business', 'business', 'business', 'business', 'business', 'business', 'business', 'business', 'business', 'business', 'business', 'business', 'business', 'business', 'business', 'business', 'business', 'business', 'business', 'business', 'business', 'business', 'business', 'business', 'business', 'business', 'business', 'business', 'business', 'business', 'business', 'business', 'business', 'business', 'business', 'business', 'business', 'business', 'business', 'business', 'business', 'business', 'business', 'business', 'business', 'business', 'business', 'business', 'business', 'business', 'business', 'business', 'business', 'business', 'business', 'business', 'business', 'business', 'business', 'business', 'business', 'business', 'business', 'business', 'business', 'business', 'business', 'business', 'business', 'business', 'business', 'business', 'business', 'business', 'business', 'business', 'business', 'business', 'business', 'business', 'business', 'business', 'business', 'business', 'business', 'business', 'business', 'business', 'business', 'business', 'business', 'business', 'business', 'business', 'business', 'business', 'business', 'business', 'business', 'business', 'business', 'business', 'business', 'business', 'business', 'business', 'business', 'business', 'business', 'business', 'business', 'business', 'entertainment', 'entertainment', 'entertainment', 'entertainment', 'entertainment', 'entertainment', 'entertainment', 'entertainment', 'entertainment', 'entertainment', 'entertainment', 'entertainment', 'entertainment', 'entertainment', 'entertainment', 'entertainment', 'entertainment', 'entertainment', 'entertainment', 'entertainment', 'entertainment', 'entertainment', 'entertainment', 'entertainment', 'entertainment', 'entertainment', 'entertainment', 'entertainment', 'entertainment', 'entertainment', 'entertainment', 'entertainment', 'entertainment', 'entertainment', 'entertainment', 'entertainment', 'entertainment', 'entertainment', 'entertainment', 'entertainment', 'entertainment', 'entertainment', 'entertainment', 'entertainment', 'entertainment', 'entertainment', 'entertainment', 'entertainment', 'entertainment', 'entertainment', 'entertainment', 'entertainment', 'entertainment', 'entertainment', 'entertainment', 'entertainment', 'entertainment', 'entertainment', 'entertainment', 'entertainment', 'entertainment', 'entertainment', 'entertainment', 'entertainment', 'entertainment', 'entertainment', 'entertainment', 'entertainment', 'entertainment', 'entertainment', 'entertainment', 'entertainment', 'entertainment', 'entertainment', 'entertainment', 'entertainment', 'entertainment', 'entertainment', 'entertainment', 'entertainment', 'entertainment', 'entertainment', 'entertainment', 'entertainment', 'entertainment', 'entertainment', 'entertainment', 'entertainment', 'entertainment', 'entertainment', 'entertainment', 'entertainment', 'entertainment', 'entertainment', 'entertainment', 'entertainment', 'entertainment', 'entertainment', 'entertainment', 'entertainment', 'entertainment', 'entertainment', 'entertainment', 'entertainment', 'entertainment', 'entertainment', 'entertainment', 'entertainment', 'entertainment', 'entertainment', 'entertainment', 'entertainment', 'entertainment', 'entertainment', 'entertainment', 'entertainment', 'entertainment', 'entertainment', 'entertainment', 'entertainment', 'entertainment', 'entertainment', 'entertainment', 'entertainment', 'entertainment', 'entertainment', 'entertainment', 'entertainment', 'entertainment', 'entertainment', 'entertainment', 'entertainment', 'entertainment', 'entertainment', 'entertainment', 'entertainment', 'entertainment', 'entertainment', 'entertainment', 'entertainment', 'entertainment', 'entertainment', 'entertainment', 'entertainment', 'entertainment', 'entertainment', 'entertainment', 'entertainment', 'entertainment', 'entertainment', 'entertainment', 'entertainment', 'entertainment', 'entertainment', 'entertainment', 'entertainment', 'entertainment', 'entertainment', 'entertainment', 'entertainment', 'entertainment', 'entertainment', 'entertainment', 'entertainment', 'entertainment', 'entertainment', 'entertainment', 'entertainment', 'entertainment', 'entertainment', 'entertainment', 'entertainment', 'entertainment', 'entertainment', 'entertainment', 'entertainment', 'entertainment', 'entertainment', 'entertainment', 'entertainment', 'entertainment', 'entertainment', 'entertainment', 'entertainment', 'entertainment', 'entertainment', 'entertainment', 'entertainment', 'entertainment', 'entertainment', 'entertainment', 'entertainment', 'entertainment', 'entertainment', 'entertainment', 'entertainment', 'entertainment', 'entertainment', 'entertainment', 'entertainment', 'entertainment', 'entertainment', 'entertainment', 'entertainment', 'entertainment', 'entertainment', 'entertainment', 'entertainment', 'entertainment', 'entertainment', 'entertainment', 'entertainment', 'entertainment', 'entertainment', 'entertainment', 'entertainment', 'entertainment', 'entertainment', 'entertainment', 'entertainment', 'entertainment', 'entertainment', 'entertainment', 'entertainment', 'entertainment', 'entertainment', 'entertainment', 'entertainment', 'entertainment', 'entertainment', 'entertainment', 'entertainment', 'entertainment', 'entertainment', 'entertainment', 'entertainment', 'entertainment', 'entertainment', 'entertainment', 'entertainment', 'entertainment', 'entertainment', 'entertainment', 'entertainment', 'entertainment', 'entertainment', 'entertainment', 'entertainment', 'entertainment', 'entertainment', 'entertainment', 'entertainment', 'entertainment', 'entertainment', 'entertainment', 'entertainment', 'entertainment', 'entertainment', 'entertainment', 'entertainment', 'entertainment', 'entertainment', 'entertainment', 'entertainment', 'entertainment', 'entertainment', 'entertainment', 'entertainment', 'entertainment', 'entertainment', 'entertainment', 'entertainment', 'entertainment', 'entertainment', 'entertainment', 'entertainment', 'entertainment', 'entertainment', 'entertainment', 'entertainment', 'entertainment', 'entertainment', 'entertainment', 'entertainment', 'entertainment', 'entertainment', 'entertainment', 'entertainment', 'entertainment', 'entertainment', 'entertainment', 'entertainment', 'entertainment', 'entertainment', 'entertainment', 'entertainment', 'entertainment', 'entertainment', 'entertainment', 'entertainment', 'entertainment', 'entertainment', 'entertainment', 'entertainment', 'entertainment', 'entertainment', 'entertainment', 'entertainment', 'entertainment', 'entertainment', 'entertainment', 'entertainment', 'entertainment', 'entertainment', 'entertainment', 'entertainment', 'entertainment', 'entertainment', 'entertainment', 'entertainment', 'entertainment', 'entertainment', 'entertainment', 'entertainment', 'entertainment', 'entertainment', 'entertainment', 'entertainment', 'entertainment', 'entertainment', 'entertainment', 'entertainment', 'entertainment', 'entertainment', 'entertainment', 'entertainment', 'entertainment', 'entertainment', 'entertainment', 'entertainment', 'entertainment', 'entertainment', 'entertainment', 'entertainment', 'entertainment', 'entertainment', 'entertainment', 'entertainment', 'entertainment', 'entertainment', 'entertainment', 'entertainment', 'entertainment', 'entertainment', 'entertainment', 'entertainment', 'entertainment', 'entertainment', 'entertainment', 'entertainment', 'entertainment', 'entertainment', 'entertainment', 'entertainment', 'entertainment', 'entertainment', 'entertainment', 'entertainment', 'entertainment', 'entertainment', 'entertainment', 'entertainment', 'entertainment', 'entertainment', 'entertainment', 'entertainment', 'entertainment', 'entertainment', 'entertainment', 'entertainment', 'entertainment', 'entertainment', 'entertainment', 'entertainment', 'entertainment', 'entertainment', 'politics', 'politics', 'politics', 'politics', 'politics', 'politics', 'politics', 'politics', 'politics', 'politics', 'politics', 'politics', 'politics', 'politics', 'politics', 'politics', 'politics', 'politics', 'politics', 'politics', 'politics', 'politics', 'politics', 'politics', 'politics', 'politics', 'politics', 'politics', 'politics', 'politics', 'politics', 'politics', 'politics', 'politics', 'politics', 'politics', 'politics', 'politics', 'politics', 'politics', 'politics', 'politics', 'politics', 'politics', 'politics', 'politics', 'politics', 'politics', 'politics', 'politics', 'politics', 'politics', 'politics', 'politics', 'politics', 'politics', 'politics', 'politics', 'politics', 'politics', 'politics', 'politics', 'politics', 'politics', 'politics', 'politics', 'politics', 'politics', 'politics', 'politics', 'politics', 'politics', 'politics', 'politics', 'politics', 'politics', 'politics', 'politics', 'politics', 'politics', 'politics', 'politics', 'politics', 'politics', 'politics', 'politics', 'politics', 'politics', 'politics', 'politics', 'politics', 'politics', 'politics', 'politics', 'politics', 'politics', 'politics', 'politics', 'politics', 'politics', 'politics', 'politics', 'politics', 'politics', 'politics', 'politics', 'politics', 'politics', 'politics', 'politics', 'politics', 'politics', 'politics', 'politics', 'politics', 'politics', 'politics', 'politics', 'politics', 'politics', 'politics', 'politics', 'politics', 'politics', 'politics', 'politics', 'politics', 'politics', 'politics', 'politics', 'politics', 'politics', 'politics', 'politics', 'politics', 'politics', 'politics', 'politics', 'politics', 'politics', 'politics', 'politics', 'politics', 'politics', 'politics', 'politics', 'politics', 'politics', 'politics', 'politics', 'politics', 'politics', 'politics', 'politics', 'politics', 'politics', 'politics', 'politics', 'politics', 'politics', 'politics', 'politics', 'politics', 'politics', 'politics', 'politics', 'politics', 'politics', 'politics', 'politics', 'politics', 'politics', 'politics', 'politics', 'politics', 'politics', 'politics', 'politics', 'politics', 'politics', 'politics', 'politics', 'politics', 'politics', 'politics', 'politics', 'politics', 'politics', 'politics', 'politics', 'politics', 'politics', 'politics', 'politics', 'politics', 'politics', 'politics', 'politics', 'politics', 'politics', 'politics', 'politics', 'politics', 'politics', 'politics', 'politics', 'politics', 'politics', 'politics', 'politics', 'politics', 'politics', 'politics', 'politics', 'politics', 'politics', 'politics', 'politics', 'politics', 'politics', 'politics', 'politics', 'politics', 'politics', 'politics', 'politics', 'politics', 'politics', 'politics', 'politics', 'politics', 'politics', 'politics', 'politics', 'politics', 'politics', 'politics', 'politics', 'politics', 'politics', 'politics', 'politics', 'politics', 'politics', 'politics', 'politics', 'politics', 'politics', 'politics', 'politics', 'politics', 'politics', 'politics', 'politics', 'politics', 'politics', 'politics', 'politics', 'politics', 'politics', 'politics', 'politics', 'politics', 'politics', 'politics', 'politics', 'politics', 'politics', 'politics', 'politics', 'politics', 'politics', 'politics', 'politics', 'politics', 'politics', 'politics', 'politics', 'politics', 'politics', 'politics', 'politics', 'politics', 'politics', 'politics', 'politics', 'politics', 'politics', 'politics', 'politics', 'politics', 'politics', 'politics', 'politics', 'politics', 'politics', 'politics', 'politics', 'politics', 'politics', 'politics', 'politics', 'politics', 'politics', 'politics', 'politics', 'politics', 'politics', 'politics', 'politics', 'politics', 'politics', 'politics', 'politics', 'politics', 'politics', 'politics', 'politics', 'politics', 'politics', 'politics', 'politics', 'politics', 'politics', 'politics', 'politics', 'politics', 'politics', 'politics', 'politics', 'politics', 'politics', 'politics', 'politics', 'politics', 'politics', 'politics', 'politics', 'politics', 'politics', 'politics', 'politics', 'politics', 'politics', 'politics', 'politics', 'politics', 'politics', 'politics', 'politics', 'politics', 'politics', 'politics', 'politics', 'politics', 'politics', 'politics', 'politics', 'politics', 'politics', 'politics', 'politics', 'politics', 'politics', 'politics', 'politics', 'politics', 'politics', 'politics', 'politics', 'politics', 'politics', 'politics', 'politics', 'politics', 'politics', 'politics', 'politics', 'politics', 'politics', 'politics', 'politics', 'politics', 'politics', 'politics', 'politics', 'politics', 'politics', 'politics', 'politics', 'politics', 'politics', 'politics', 'politics', 'politics', 'politics', 'politics', 'politics', 'politics', 'politics', 'politics', 'politics', 'politics', 'politics', 'politics', 'politics', 'politics', 'politics', 'politics', 'politics', 'politics', 'politics', 'politics', 'politics', 'politics', 'politics', 'politics', 'sport', 'sport', 'sport', 'sport', 'sport', 'sport', 'sport', 'sport', 'sport', 'sport', 'sport', 'sport', 'sport', 'sport', 'sport', 'sport', 'sport', 'sport', 'sport', 'sport', 'sport', 'sport', 'sport', 'sport', 'sport', 'sport', 'sport', 'sport', 'sport', 'sport', 'sport', 'sport', 'sport', 'sport', 'sport', 'sport', 'sport', 'sport', 'sport', 'sport', 'sport', 'sport', 'sport', 'sport', 'sport', 'sport', 'sport', 'sport', 'sport', 'sport', 'sport', 'sport', 'sport', 'sport', 'sport', 'sport', 'sport', 'sport', 'sport', 'sport', 'sport', 'sport', 'sport', 'sport', 'sport', 'sport', 'sport', 'sport', 'sport', 'sport', 'sport', 'sport', 'sport', 'sport', 'sport', 'sport', 'sport', 'sport', 'sport', 'sport', 'sport', 'sport', 'sport', 'sport', 'sport', 'sport', 'sport', 'sport', 'sport', 'sport', 'sport', 'sport', 'sport', 'sport', 'sport', 'sport', 'sport', 'sport', 'sport', 'sport', 'sport', 'sport', 'sport', 'sport', 'sport', 'sport', 'sport', 'sport', 'sport', 'sport', 'sport', 'sport', 'sport', 'sport', 'sport', 'sport', 'sport', 'sport', 'sport', 'sport', 'sport', 'sport', 'sport', 'sport', 'sport', 'sport', 'sport', 'sport', 'sport', 'sport', 'sport', 'sport', 'sport', 'sport', 'sport', 'sport', 'sport', 'sport', 'sport', 'sport', 'sport', 'sport', 'sport', 'sport', 'sport', 'sport', 'sport', 'sport', 'sport', 'sport', 'sport', 'sport', 'sport', 'sport', 'sport', 'sport', 'sport', 'sport', 'sport', 'sport', 'sport', 'sport', 'sport', 'sport', 'sport', 'sport', 'sport', 'sport', 'sport', 'sport', 'sport', 'sport', 'sport', 'sport', 'sport', 'sport', 'sport', 'sport', 'sport', 'sport', 'sport', 'sport', 'sport', 'sport', 'sport', 'sport', 'sport', 'sport', 'sport', 'sport', 'sport', 'sport', 'sport', 'sport', 'sport', 'sport', 'sport', 'sport', 'sport', 'sport', 'sport', 'sport', 'sport', 'sport', 'sport', 'sport', 'sport', 'sport', 'sport', 'sport', 'sport', 'sport', 'sport', 'sport', 'sport', 'sport', 'sport', 'sport', 'sport', 'sport', 'sport', 'sport', 'sport', 'sport', 'sport', 'sport', 'sport', 'sport', 'sport', 'sport', 'sport', 'sport', 'sport', 'sport', 'sport', 'sport', 'sport', 'sport', 'sport', 'sport', 'sport', 'sport', 'sport', 'sport', 'sport', 'sport', 'sport', 'sport', 'sport', 'sport', 'sport', 'sport', 'sport', 'sport', 'sport', 'sport', 'sport', 'sport', 'sport', 'sport', 'sport', 'sport', 'sport', 'sport', 'sport', 'sport', 'sport', 'sport', 'sport', 'sport', 'sport', 'sport', 'sport', 'sport', 'sport', 'sport', 'sport', 'sport', 'sport', 'sport', 'sport', 'sport', 'sport', 'sport', 'sport', 'sport', 'sport', 'sport', 'sport', 'sport', 'sport', 'sport', 'sport', 'sport', 'sport', 'sport', 'sport', 'sport', 'sport', 'sport', 'sport', 'sport', 'sport', 'sport', 'sport', 'sport', 'sport', 'sport', 'sport', 'sport', 'sport', 'sport', 'sport', 'sport', 'sport', 'sport', 'sport', 'sport', 'sport', 'sport', 'sport', 'sport', 'sport', 'sport', 'sport', 'sport', 'sport', 'sport', 'sport', 'sport', 'sport', 'sport', 'sport', 'sport', 'sport', 'sport', 'sport', 'sport', 'sport', 'sport', 'sport', 'sport', 'sport', 'sport', 'sport', 'sport', 'sport', 'sport', 'sport', 'sport', 'sport', 'sport', 'sport', 'sport', 'sport', 'sport', 'sport', 'sport', 'sport', 'sport', 'sport', 'sport', 'sport', 'sport', 'sport', 'sport', 'sport', 'sport', 'sport', 'sport', 'sport', 'sport', 'sport', 'sport', 'sport', 'sport', 'sport', 'sport', 'sport', 'sport', 'sport', 'sport', 'sport', 'sport', 'sport', 'sport', 'sport', 'sport', 'sport', 'sport', 'sport', 'sport', 'sport', 'sport', 'sport', 'sport', 'sport', 'sport', 'sport', 'sport', 'sport', 'sport', 'sport', 'sport', 'sport', 'sport', 'sport', 'sport', 'sport', 'sport', 'sport', 'sport', 'sport', 'sport', 'sport', 'sport', 'sport', 'sport', 'sport', 'sport', 'sport', 'sport', 'sport', 'sport', 'sport', 'sport', 'sport', 'sport', 'sport', 'sport', 'sport', 'sport', 'sport', 'sport', 'sport', 'sport', 'sport', 'sport', 'sport', 'sport', 'sport', 'sport', 'sport', 'sport', 'sport', 'sport', 'sport', 'sport', 'sport', 'sport', 'sport', 'sport', 'sport', 'sport', 'sport', 'sport', 'sport', 'sport', 'sport', 'sport', 'sport', 'sport', 'sport', 'sport', 'sport', 'sport', 'sport', 'sport', 'sport', 'sport', 'sport', 'sport', 'sport', 'sport', 'sport', 'sport', 'sport', 'sport', 'sport', 'sport', 'sport', 'sport', 'sport', 'sport', 'sport', 'sport', 'sport', 'sport', 'sport', 'sport', 'sport', 'sport', 'sport', 'sport', 'sport', 'sport', 'sport', 'sport', 'sport', 'sport', 'sport', 'sport', 'sport', 'sport', 'sport', 'sport', 'sport', 'sport', 'sport', 'sport', 'tech', 'tech', 'tech', 'tech', 'tech', 'tech', 'tech', 'tech', 'tech', 'tech', 'tech', 'tech', 'tech', 'tech', 'tech', 'tech', 'tech', 'tech', 'tech', 'tech', 'tech', 'tech', 'tech', 'tech', 'tech', 'tech', 'tech', 'tech', 'tech', 'tech', 'tech', 'tech', 'tech', 'tech', 'tech', 'tech', 'tech', 'tech', 'tech', 'tech', 'tech', 'tech', 'tech', 'tech', 'tech', 'tech', 'tech', 'tech', 'tech', 'tech', 'tech', 'tech', 'tech', 'tech', 'tech', 'tech', 'tech', 'tech', 'tech', 'tech', 'tech', 'tech', 'tech', 'tech', 'tech', 'tech', 'tech', 'tech', 'tech', 'tech', 'tech', 'tech', 'tech', 'tech', 'tech', 'tech', 'tech', 'tech', 'tech', 'tech', 'tech', 'tech', 'tech', 'tech', 'tech', 'tech', 'tech', 'tech', 'tech', 'tech', 'tech', 'tech', 'tech', 'tech', 'tech', 'tech', 'tech', 'tech', 'tech', 'tech', 'tech', 'tech', 'tech', 'tech', 'tech', 'tech', 'tech', 'tech', 'tech', 'tech', 'tech', 'tech', 'tech', 'tech', 'tech', 'tech', 'tech', 'tech', 'tech', 'tech', 'tech', 'tech', 'tech', 'tech', 'tech', 'tech', 'tech', 'tech', 'tech', 'tech', 'tech', 'tech', 'tech', 'tech', 'tech', 'tech', 'tech', 'tech', 'tech', 'tech', 'tech', 'tech', 'tech', 'tech', 'tech', 'tech', 'tech', 'tech', 'tech', 'tech', 'tech', 'tech', 'tech', 'tech', 'tech', 'tech', 'tech', 'tech', 'tech', 'tech', 'tech', 'tech', 'tech', 'tech', 'tech', 'tech', 'tech', 'tech', 'tech', 'tech', 'tech', 'tech', 'tech', 'tech', 'tech', 'tech', 'tech', 'tech', 'tech', 'tech', 'tech', 'tech', 'tech', 'tech', 'tech', 'tech', 'tech', 'tech', 'tech', 'tech', 'tech', 'tech', 'tech', 'tech', 'tech', 'tech', 'tech', 'tech', 'tech', 'tech', 'tech', 'tech', 'tech', 'tech', 'tech', 'tech', 'tech', 'tech', 'tech', 'tech', 'tech', 'tech', 'tech', 'tech', 'tech', 'tech', 'tech', 'tech', 'tech', 'tech', 'tech', 'tech', 'tech', 'tech', 'tech', 'tech', 'tech', 'tech', 'tech', 'tech', 'tech', 'tech', 'tech', 'tech', 'tech', 'tech', 'tech', 'tech', 'tech', 'tech', 'tech', 'tech', 'tech', 'tech', 'tech', 'tech', 'tech', 'tech', 'tech', 'tech', 'tech', 'tech', 'tech', 'tech', 'tech', 'tech', 'tech', 'tech', 'tech', 'tech', 'tech', 'tech', 'tech', 'tech', 'tech', 'tech', 'tech', 'tech', 'tech', 'tech', 'tech', 'tech', 'tech', 'tech', 'tech', 'tech', 'tech', 'tech', 'tech', 'tech', 'tech', 'tech', 'tech', 'tech', 'tech', 'tech', 'tech', 'tech', 'tech', 'tech', 'tech', 'tech', 'tech', 'tech', 'tech', 'tech', 'tech', 'tech', 'tech', 'tech', 'tech', 'tech', 'tech', 'tech', 'tech', 'tech', 'tech', 'tech', 'tech', 'tech', 'tech', 'tech', 'tech', 'tech', 'tech', 'tech', 'tech', 'tech', 'tech', 'tech', 'tech', 'tech', 'tech', 'tech', 'tech', 'tech', 'tech', 'tech', 'tech', 'tech', 'tech', 'tech', 'tech', 'tech', 'tech', 'tech', 'tech', 'tech', 'tech', 'tech', 'tech', 'tech', 'tech', 'tech', 'tech', 'tech', 'tech', 'tech', 'tech', 'tech', 'tech', 'tech', 'tech', 'tech', 'tech', 'tech', 'tech', 'tech', 'tech', 'tech', 'tech', 'tech', 'tech', 'tech', 'tech', 'tech', 'tech', 'tech', 'tech', 'tech', 'tech', 'tech', 'tech', 'tech', 'tech', 'tech', 'tech', 'tech', 'tech', 'tech', 'tech', 'tech', 'tech', 'tech', 'tech', 'tech', 'tech', 'tech', 'tech', 'tech', 'tech', 'tech', 'tech', 'tech', 'tech', 'tech', 'tech', 'tech', 'tech', 'tech', 'tech']\n",
            "{'sale': 3002, 'boost': 411, 'time': 3675, 'warner': 3910, 'profit': 2681, 'quarterly': 2740, 'medium': 2239, 'giant': 1612, 'jumped': 1986, 'three': 3664, 'month': 2303, 'december': 900, 'year': 4003, 'earlier': 1200, 'dollar': 1109, 'gain': 1578, 'greenspan': 1664, 'speech': 3333, 'hit': 1770, 'highest': 1760, 'level': 2098, 'euro': 1355, 'federal': 1447, 'reserve': 2883, 'head': 1730, 'trade': 3705, 'deficit': 923, 'set': 3105, 'unit': 3783, 'buyer': 507, 'face': 1402, 'loan': 2136, 'claim': 635, 'owner': 2468, 'embattled': 1275, 'russian': 2987, 'oil': 2422, 'production': 2677, 'pay': 2512, 'high': 1758, 'fuel': 1564, 'price': 2656, 'british': 469, 'airway': 106, 'blamed': 373, 'drop': 1168, 'takeover': 3603, 'talk': 3606, 'lift': 2112, 'share': 3126, 'drink': 1162, 'food': 1515, 'firm': 1490, 'allied': 125, 'risen': 2935, 'speculation': 3332, 'target': 3612, 'france': 1540, 'japan': 1948, 'narrowly': 2356, 'escape': 1349, 'recession': 2801, 'economy': 1230, 'teetered': 3629, 'brink': 465, 'technical': 3624, 'september': 3091, 'figure': 1470, 'job': 1959, 'growth': 1679, 'slow': 3237, 'created': 822, 'fewer': 1464, 'expected': 1383, 'january': 1947, 'fall': 1417, 'jobseekers': 1961, 'pushed': 2731, 'unemployment': 3778, 'rate': 2776, 'lowest': 2159, 'india': 1856, 'call': 519, 'fair': 1413, 'rule': 2978, 'meeting': 2241, 'leading': 2064, 'nation': 2358, 'friday': 1554, 'newcomer': 2374, 'status': 3419, 'ethiopia': 1353, 'crop': 835, 'produced': 2673, 'tonne': 3685, 'higher': 1759, 'average': 256, 'report': 2871, 'court': 813, 'reject': 2837, 'tobacco': 3678, 'case': 557, 'government': 1647, 'accusing': 33, 'country': 810, 'biggest': 353, 'company': 723, 'covering': 817, 'smoking': 3262, 'thrown': 3668, 'appeal': 178, 'online': 2429, 'revival': 2918, 'third': 3658, 'search': 3052, 'week': 3928, 'internet': 1895, 'advertising': 59, 'improving': 1843, 'indonesian': 1864, 'rise': 2934, 'indonesia': 1863, 'confirmed': 752, 'considering': 766, 'raising': 2762, 'peugeot': 2539, 'deal': 891, 'mitsubishi': 2286, 'struggling': 3491, 'japanese': 1949, 'car': 542, 'maker': 2184, 'motor': 2316, 'struck': 3489, 'supply': 3557, 'french': 1551, 'sport': 3358, 'vehicle': 3822, 'telegraph': 3633, 'newspaper': 2378, 'daily': 862, 'sunday': 3546, 'journalist': 1976, 'editorial': 1239, 'staff': 3392, 'air': 98, 'passenger': 2499, 'win': 3954, 'unable': 3771, 'board': 391, 'flight': 1502, 'delay': 927, 'demand': 936, 'greater': 1659, 'compensation': 725, 'china': 615, 'keep': 2002, 'tight': 3673, 'rein': 2835, 'credit': 825, 'effort': 1245, 'clamping': 638, 'continue': 780, 'state': 3414, 'doubled': 1130, 'italian': 1928, 'group': 1674, 'europe': 1357, 'corporate': 803, 'scandal': 3023, 'reported': 2872, 'doubling': 1131, 'rupee': 2983, 'standard': 3404, 'poor': 2601, 'raised': 2761, 'foreign': 1524, 'currency': 853, 'rating': 2777, 'widens': 3943, 'access': 26, 'telecom': 3631, 'limit': 2115, 'direct': 1031, 'investment': 1905, 'user': 3807, 'lose': 2149, 'patience': 2505, 'customer': 857, 'quicker': 2747, 'survey': 3572, 'suggests': 3534, 'rank': 2769, 'sell': 3073, 'film': 1474, 'unveil': 3794, 'plan': 2565, 'demerge': 938, 'service': 3103, 'business': 500, 'sluggish': 3244, 'german': 1609, 'number': 2406, 'people': 2522, 'work': 3980, 'largest': 2047, 'straight': 3468, 'remains': 2855, 'stubbornly': 3493, 'mixed': 2288, 'signal': 3178, 'picked': 2550, 'speed': 3334, 'official': 2419, 'fallen': 1418, 'short': 3154, 'hope': 1788, 'gap': 1588, 'record': 2803, 'export': 1394, 'import': 1838, '7bn': 6, 'latest': 2050, 'loses': 2150, 'bankruptcy': 290, 'battle': 308, 'judge': 1980, 'dismissed': 1071, 'attempt': 233, 'protection': 2705, 'safety': 2996, 'alert': 112, 'recall': 2797, 'carmaker': 551, 'general': 1603, 'ground': 1673, 'regulator': 2834, 'steel': 3425, 'cut': 858, 'producer': 2674, 'chief': 612, 'executive': 1372, 'strong': 3487, 'trigger': 3727, 'rally': 2763, 'crude': 841, 'surged': 3568, 'barrel': 297, 'mark': 2210, 'thursday': 3669, 'energy': 1305, 'market': 2211, 'watchdog': 3917, 'forecast': 1522, 'global': 1626, 'venezuelan': 3826, 'land': 2038, 'row': 2971, 'authority': 252, 'owned': 2467, 'president': 2647, 'chavez': 602, 'agrarian': 79, 'reform': 2819, 'soaring': 3277, 'cost': 805, 'economic': 1227, 'major': 2182, 'weather': 3924, 'storm': 3463, 'irish': 1917, 'reach': 2781, 'investor': 1906, 'buy': 506, 'low': 2157, 'inflation': 1868, 'banking': 288, 'financial': 1479, 'withdrawn': 3969, 'offer': 2414, 'rival': 2938, 'bank': 286, 'holding': 1779, 'enabling': 1296, 'merge': 2251, 'tokyo': 3680, 'rich': 2924, 'grab': 1649, 'half': 1700, 'colombia': 700, 'fund': 1571, 'money': 2299, 'colombian': 701, 'help': 1747, 'benefiting': 337, 'study': 3496, 'rover': 2970, 'midland': 2267, 'plant': 2570, 'chinese': 616, 'ahead': 88, 'surge': 3567, 'posted': 2617, 'larger': 2046, 'annual': 170, 'predicted': 2634, 'extra': 1398, 'meet': 2240, 'tough': 3695, 'governance': 1645, 'regulation': 2833, 'imposed': 1839, 'stock': 3450, 'mogul': 2294, 'arrested': 203, 'fraud': 1544, 'best': 343, 'businessmen': 502, 'charge': 592, 'shareholder': 3128, 'selling': 3076, 'based': 299, 'false': 1420, 'data': 879, 'deutsche': 997, 'mobile': 2289, 'fourth': 1536, 'quarter': 2739, 'upbeat': 3797, 'earnings': 1207, 'asset': 219, 'wine': 3957, 'italy': 1929, 'agreed': 81, 'lifted': 2113, 'sportswear': 3361, 'england': 1310, 'football': 1517, 'kit': 2021, 'boosted': 412, 'tournament': 3698, 'fed': 1446, 'warning': 3911, 'chairman': 581, 'alan': 109, 'warned': 3909, 'allowing': 129, 'huge': 1807, 'budget': 485, 'severe': 3113, 'coal': 681, 'plunge': 2586, 'loss': 2152, 'mining': 2278, 'deepened': 910, 'saudi': 3012, 'ministry': 2280, 'employ': 1288, 'woman': 3973, 'employed': 1289, 'arabia': 192, 'minister': 2279, 'prince': 2659, 'slide': 3225, 'officially': 2420, 'decade': 899, 'soared': 3276, 'fresh': 1553, 'problem': 2669, 'petrol': 2538, 'industrial': 1866, 'output': 2459, 'fell': 1451, 'october': 2411, 'rose': 2966, 'casting': 561, 'doubt': 1132, 'strength': 3475, 'recovery': 2808, '4bn': 3, 'boeing': 395, 'plane': 2566, 'airline': 104, 'order': 2450, '1bn': 0, 'lead': 2061, 'return': 2909, 'stockmarket': 3451, 'dairy': 863, 'bust': 503, 'accounting': 31, 'exchange': 1370, 'july': 1984, 'bmw': 389, 'cash': 558, 'mini': 2276, 'launched': 2053, 'announced': 167, 'bad': 276, 'nestle': 2369, 'rising': 2936, 'raw': 2779, 'material': 2226, 'european': 1358, 'swiss': 3592, 'fiat': 1465, 'mull': 2329, 'ferrari': 1457, 'listing': 2128, 'overhaul': 2463, 'operation': 2437, 'action': 39, 'prime': 2658, 'aimed': 96, 'sputtering': 3377, 'night': 2384, 'rome': 2962, 'weak': 3922, 'reuters': 2911, 'slipped': 3232, 'hyundai': 1821, 'build': 489, 'south': 3306, 'korea': 2028, 'second': 3058, 'growing': 1676, 'unveils': 3796, 'african': 69, 'tax': 3618, 'increased': 1850, 'social': 3279, 'spending': 3339, 'drive': 1164, 'asia': 213, 'stronger': 3488, 'grew': 1668, 'faster': 1434, 'deputy': 968, 'tuesday': 3750, 'shifting': 3142, 'manufacturing': 2199, 'bos': 419, 'launch': 2052, 'lawyer': 2059, 'defending': 919, 'bernie': 342, 'called': 520, 'whistleblower': 3939, 'witness': 3970, 'insurance': 1888, 'boss': 420, 'plead': 2580, 'guilty': 1687, 'pleaded': 2581, 'stemming': 3431, 'ongoing': 2428, 'investigation': 1904, 'industry': 1867, 'jobless': 1960, 'total': 3692, 'wembley': 3934, 'won': 3974, 'building': 490, 'stadium': 3391, 'project': 2685, 'pull': 2721, 'retail': 2900, 'monthly': 2304, 'decline': 906, 'august': 245, 'driven': 1165, 'heavy': 1743, 'sue': 3524, 'bush': 499, 'visit': 3867, 'agency': 74, 'damage': 866, 'arrival': 204, 'george': 1606, 'disrupted': 1081, 'aiming': 97, 'development': 1004, 'aid': 91, 'union': 3782, 'finance': 1477, 'discus': 1058, 'proposal': 2697, 'including': 1847, 'jet': 1955, 'poorer': 2602, 'confidence': 749, 'february': 1445, 'knocking': 2025, 'speedy': 3335, 'warns': 3912, 'impact': 1837, 'subsidy': 3510, 'billion': 357, 'farmer': 1431, 'risk': 2937, 'falling': 1419, 'agriculture': 85, 'seek': 3069, 'construction': 770, 'cleared': 649, 'sector': 3063, 'aircraft': 100, 'unveiled': 3795, 'long': 2142, 'distance': 1082, 'regain': 2825, 'position': 2613, 'manufacturer': 2198, 'circuit': 629, 'city': 633, 'store': 3461, 'electronics': 1261, 'retailer': 2901, 'received': 2799, 'turn': 3755, 'beer': 321, 'alternative': 135, 'brewer': 454, 'increasingly': 1852, 'making': 2185, 'korean': 2029, 'consumer': 772, 'sustain': 3581, 'renewed': 2861, 'private': 2664, 'central': 576, 'germany': 1610, 'shrank': 3163, 'sustained': 3582, 'turkey': 3754, 'iran': 1912, 'scrapped': 3042, 'slashed': 3216, 'brussels': 484, 'controversial': 788, 'palestinian': 2481, 'despite': 985, 'increase': 1849, 'performing': 2527, 'potential': 2622, 'role': 2958, 'split': 3350, 'russia': 2986, '6bn': 5, '2bn': 1, 'key': 2012, 'revealed': 2913, 'deadline': 889, 'nears': 2363, 'settle': 3108, 'disagreement': 1041, 'theft': 3653, 'complained': 731, 'targeted': 3613, 'identity': 1826, 'argentina': 196, 'venezuela': 3825, 'helped': 1748, 'overcome': 2461, 'crisis': 831, 'faulty': 1439, 'diesel': 1017, 'equipped': 1344, 'injection': 1874, 'pump': 2723, 'supplied': 3555, 'robert': 2944, 'storage': 3460, 'delivery': 932, 'closed': 666, 'receive': 2798, 'bid': 348, 'accused': 32, 'lying': 2169, 'lied': 2109, 'heard': 1735, 'mexican': 2257, 'send': 3080, 'living': 2133, 'mortgage': 2312, 'approved': 189, 'lending': 2090, 'slowing': 3241, 'slowest': 3240, 'pace': 2473, 'left': 2081, 'book': 405, '8bn': 7, 'decision': 904, 'told': 3681, 'juror': 1991, 'citigroup': 630, 'insurer': 1889, 'sold': 3287, 'life': 2110, 'arm': 199, '5bn': 4, 'blame': 372, 'leader': 2062, 'sharp': 3132, 'top': 3688, 'hand': 1708, 'damaging': 868, 'blessing': 376, 'debt': 897, 'longer': 2143, 'iranian': 1913, 'bail': 279, '3bn': 2, 'network': 2372, 'stake': 3395, 'close': 665, 'swap': 3585, 'hopeful': 1790, 'creditor': 826, 'accept': 23, 'solid': 3289, 'grown': 1677, 'reddy': 2811, 'indian': 1857, 'drugmaker': 1172, 'flagged': 1496, 'awarded': 267, 'egyptian': 1247, 'contract': 784, 'lucrative': 2163, 'exploration': 1391, 'egypt': 1246, 'halt': 1705, 'yen': 4005, 'treasury': 3716, 'secretary': 3061, 'john': 1962, 'snow': 3271, 'america': 140, 'interest': 1892, 'imf': 1834, 'international': 1894, 'monetary': 2298, 'deutschland': 998, 'ford': 1521, 'forced': 1520, 'denies': 950, 'denied': 949, 'doctoring': 1100, 'australia': 248, 'sign': 3177, 'slowdown': 3238, 'admits': 50, 'bribery': 458, 'telecommunication': 3632, 'admitting': 52, 'west': 3936, 'marsh': 2216, 'broker': 478, 'shake': 3119, 'bigger': 352, 'smoker': 3261, 'ruling': 2980, 'justice': 1992, 'department': 956, 'aston': 223, 'porsche': 2607, 'martin': 2218, 'cheapest': 604, 'model': 2291, 'golden': 1637, 'aide': 92, 'chancellor': 588, 'gordon': 1642, 'brown': 481, 'margin': 2208, 'spare': 3319, 'start': 3411, 'grow': 1675, 'started': 3412, 'deep': 909, 'needed': 2365, 'ensure': 1321, 'term': 3642, 'factory': 1406, 'slower': 3239, 'fly': 1508, 'returned': 2910, 'posting': 2620, 'sparking': 3322, 'concern': 740, 'slip': 3231, 'anglo': 158, 'dutch': 1191, 'good': 1640, 'management': 2192, 'orange': 2449, 'subscription': 3508, 'phone': 2546, 'rap': 2770, 'commission': 713, 'written': 3997, 'operator': 2438, 'vodafone': 3874, 'challenge': 582, 'director': 1036, 'officer': 2418, 'admitted': 51, 'york': 4006, 'lie': 2108, 'fellow': 1452, 'member': 2244, 'aim': 95, 'link': 2119, 'security': 3067, 'amid': 142, 'mercedes': 2249, 'slump': 3246, 'luxury': 2168, 'prompted': 2693, 'big': 351, 'parent': 2487, 'ericsson': 1347, 'improve': 1842, 'equipment': 1343, 'supplier': 3556, 'client': 656, 'leave': 2075, 'hold': 1777, 'sixth': 3202, 'nigeria': 2382, 'cocoa': 684, 'hoping': 1791, 'triple': 3733, 'ambitious': 139, 'anticipated': 175, 'move': 2321, 'settlement': 3110, 'subsidiary': 3509, 'trading': 3707, 'train': 3710, 'strike': 3481, 'grip': 1670, 'buenos': 486, 'aire': 101, 'underground': 3777, 'caused': 566, 'traffic': 3708, 'chaos': 591, 'large': 2045, 'bus': 498, 'argentine': 197, 'capital': 538, 'communication': 721, 'widened': 3942, 'criticism': 834, 'australian': 249, 'resource': 2890, 'continuing': 783, 'hostile': 1796, 'barclays': 296, 'pre': 2631, 'climb': 659, 'majority': 2183, 'sued': 3525, 'fiscal': 1491, 'cutting': 859, 'measure': 2236, 'iraq': 1914, 'invite': 1908, 'telephone': 3634, 'nationwide': 2360, 'coverage': 816, 'aviation': 259, 'eye': 1400, 'booming': 410, 'opened': 2431, 'invitation': 1907, 'aerospace': 62, 'merger': 2252, 'gas': 1594, 'bought': 422, 'brazil': 442, 'belgium': 330, 'belgian': 329, 'brewing': 456, 'soar': 3275, 'acquisition': 36, 'salary': 3001, 'corruption': 804, 'franc': 1539, 'add': 45, 'wall': 3901, 'street': 3474, 'expectation': 1382, 'feta': 1460, 'cheese': 607, 'allowed': 128, 'label': 2034, 'reached': 2782, 'ukraine': 3766, 'offs': 2421, 'preparing': 2643, 'wholesale': 3941, 'review': 2917, 'previous': 2655, 'administration': 49, 'remain': 2853, 'winter': 3964, 'freeze': 1550, 'wednesday': 3927, 'cold': 690, 'side': 3171, 'north': 2394, 'atlantic': 229, 'ore': 2452, 'dropped': 1169, 'worldwide': 3984, 'iron': 1918, 'pipeline': 2555, 'enter': 1323, 'style': 3502, 'bbc': 313, 'news': 2377, 'asian': 214, 'lost': 2153, 'planning': 2569, 'trim': 3729, 'modest': 2293, 'bite': 366, 'result': 2898, 'early': 1202, 'winn': 3961, 'dixie': 1097, 'file': 1471, 'supermarket': 3553, 'filed': 1472, 'succumbing': 3523, 'stiff': 3444, 'competition': 728, 'dominated': 1114, 'wal': 3897, 'mart': 2217, 'summit': 3543, 'meant': 2235, 'united': 3784, 'malaysia': 2186, 'islamic': 1921, 'ownership': 2469, 'encourage': 1299, 'alfa': 116, 'romeo': 2963, 'engine': 1308, 'sporty': 3362, 'saab': 2990, 'sweden': 3588, 'sized': 3204, 'drug': 1170, 'suspension': 3580, 'elan': 1251, 'plunged': 2587, 'monday': 2297, 'suspended': 3578, 'multiple': 2332, 'patient': 2506, 'death': 892, 'voted': 3884, 'change': 589, 'passed': 2498, 'setting': 3107, 'body': 394, 'minute': 2282, 'house': 1801, 'slight': 3226, 'society': 3282, 'allows': 130, 'borrow': 418, 'boosting': 413, 'retreat': 2907, 'ally': 131, 'associate': 221, 'qatar': 2733, 'shell': 3140, 'signed': 3179, 'middle': 2265, 'eastern': 1217, 'sheikhdom': 3137, 'natural': 2361, 'anti': 174, 'poverty': 2625, 'primary': 2657, 'school': 3028, 'health': 1733, 'citizen': 631, 'buyout': 509, 'jail': 1938, 'sentence': 3086, 'fine': 1482, 'illegally': 1832, 'hiring': 1767, 'force': 1519, 'verizon': 3836, 'seal': 3050, 'worth': 3989, 'spark': 3321, 'worry': 3986, 'fastest': 1435, 'auction': 241, 'accelerated': 22, 'transport': 3714, 'backed': 273, 'mail': 2180, 'killing': 2018, 'beirut': 328, 'small': 3250, 'hitting': 1773, 'lobby': 2137, 'snap': 3265, 'snapped': 3266, 'initial': 1871, 'public': 2717, 'suffer': 3526, 'festive': 1459, 'office': 2417, 'dividend': 1093, 'london': 2141, 'payment': 2514, 'newest': 2375, 'western': 3937, 'flat': 1499, 'electric': 1257, 'double': 1129, 'power': 2626, 'gorge': 1643, 'dam': 865, 'hiv': 1774, 'initiative': 1873, 'combat': 703, 'smuggling': 3263, 'cheaper': 603, 'optimism': 2445, 'housing': 1804, 'property': 2696, 'lender': 2089, 'bradford': 430, 'wto': 3999, 'progress': 2684, 'proposed': 2698, 'membership': 2245, 'negotiation': 2366, 'duo': 1186, 'block': 380, 'man': 2191, 'utd': 3809, 'manchester': 2194, 'reportedly': 2873, 'club': 673, 'amount': 144, 'series': 3097, 'pact': 2475, 'invest': 1900, 'batch': 304, 'downbeat': 1138, 'cast': 560, 'future': 1576, 'prospect': 2700, 'fear': 1441, 'gather': 1596, 'constitution': 769, 'focusing': 1512, 'matter': 2229, 'closer': 667, 'stay': 3421, 'spencer': 3337, 'region': 2829, 'detail': 989, 'computer': 738, 'tape': 3611, 'account': 30, 'employee': 1290, 'rush': 2985, 'offering': 2416, 'banker': 287, 'payout': 2515, 'victim': 3847, 'donate': 1119, 'chilean': 614, 'military': 2272, 'regime': 2827, 'madrid': 2175, 'qwest': 2751, 'bidding': 350, 'war': 3905, 'table': 3597, 'losing': 2151, 'scene': 3025, 'steering': 3428, 'conglomerate': 758, 'day': 887, 'control': 785, 'pain': 2477, 'decide': 901, 'linked': 2120, 'heart': 1738, 'attack': 230, 'stroke': 3485, 'troubled': 3739, 'champion': 585, 'bankrupt': 289, 'rescue': 2881, 'fail': 1408, 'post': 2615, 'christmas': 626, 'lull': 2165, 'breaking': 447, 'raise': 2760, 'avoid': 261, 'evidence': 1368, 'finished': 1486, 'trial': 3722, 'illegal': 1831, 'mill': 2274, 'relative': 2842, 'ruled': 2979, 'cairn': 516, 'find': 1480, 'thought': 3661, 'georgia': 1607, 'hidden': 1756, 'amnesty': 143, 'cuba': 847, 'ban': 283, 'transaction': 3712, 'turned': 3756, 'spotlight': 3364, 'ailing': 94, 'trail': 3709, '9bn': 8, 'purchase': 2727, 'legal': 2082, 'standoff': 3407, 'lse': 2161, 'unhappy': 3781, 'chance': 587, 'outline': 2457, 'toughest': 3696, 'congress': 760, 'seeking': 3070, 'domestic': 1112, 'lower': 2158, 'clash': 641, 'venture': 3829, 'easyjet': 1219, 'founder': 1535, 'policy': 2595, 'bonus': 403, 'emi': 1281, 'music': 2341, 'sunk': 3548, 'issued': 1927, 'disappointing': 1046, 'album': 111, 'release': 2844, 'shanda': 3122, 'sina': 3189, 'game': 1583, 'interactive': 1891, 'entertainment': 1328, 'reaction': 2784, 'malcolm': 2187, 'glazer': 1623, 'gold': 1636, 'relief': 2849, 'plasma': 2571, 'joining': 1967, 'develop': 1000, 'technology': 3626, 'screen': 3044, 'television': 3636, 'tie': 3671, 'delayed': 928, 'hail': 1697, 'genius': 1605, 'smith': 3259, 'scottish': 3040, 'church': 627, 'pioneering': 2554, 'economist': 1229, 'adam': 43, 'election': 1256, 'prosper': 2701, 'rethink': 2903, 'enron': 1320, 'soften': 3283, 'ease': 1211, 'burden': 494, 'nissan': 2389, 'successor': 3522, 'named': 2352, 'carlos': 549, 'highly': 1762, 'successful': 3519, 'renault': 2860, 'check': 605, 'dozen': 1145, 'tackle': 3599, 'africa': 68, 'agreeing': 82, 'express': 1395, 'setback': 3106, 'bar': 293, 'gaming': 1587, 'dog': 1105, 'track': 3704, 'break': 446, 'open': 2430, 'tycoon': 3763, 'failed': 1409, 'recover': 2807, 'season': 3054, 'mcdonald': 2234, 'sponsor': 3355, 'mtv': 2328, 'chain': 580, 'channel': 590, 'youth': 4009, 'promotion': 2692, 'save': 3014, 'tuc': 3749, 'calling': 521, 'stem': 3430, 'tsunami': 3746, 'sri': 3386, 'lanka': 2043, 'hard': 1720, 'disaster': 1047, 'threat': 3662, 'involvement': 1910, 'strengthen': 3476, 'indigenous': 1861, 'lloyd': 2135, 'fsa': 1563, 'britain': 468, 'bat': 303, 'spit': 3349, 'main': 2181, 'product': 2676, 'derived': 971, 'vampire': 3813, 'drafted': 1147, 'william': 3949, 'pension': 2521, 'hitch': 1771, 'men': 2247, 'male': 2188, 'estimated': 1352, 'researcher': 2882, 'card': 543, 'fraudsters': 1545, 'web': 3925, 'debit': 895, 'shop': 3151, 'led': 2078, 'focus': 1510, 'windfall': 3955, 'employer': 1291, 'spent': 3340, 'pound': 2624, 'final': 1475, 'trillion': 3728, 'indicates': 1859, 'write': 3994, 'poorest': 2603, 'approach': 188, 'mission': 2284, 'brighten': 461, 'working': 3982, 'continues': 782, 'aurora': 246, 'dock': 1099, 'photo': 2547, 'interview': 1897, 'tale': 3604, 'woe': 3971, 'facing': 1403, 'institute': 1887, 'critical': 833, 'politician': 2597, 'political': 2596, 'dose': 1127, 'shock': 3144, 'current': 854, 'simply': 3187, 'debate': 893, 'fact': 1404, 'program': 2682, 'standpoint': 3408, 'trend': 3721, 'ability': 14, 'trust': 3743, 'require': 2879, 'bond': 401, 'promised': 2688, 'benefit': 336, 'aware': 268, 'directly': 1035, 'involved': 1909, 'closest': 668, 'great': 1658, 'confirms': 754, 'late': 2049, 'presented': 2644, 'stall': 3398, 'lenovo': 2093, 'stood': 3457, 'stiffening': 3446, 'equal': 1341, 'moved': 2322, 'empt': 1292, 'broadband': 471, 'corp': 802, 'video': 3851, 'controlled': 786, 'billionaire': 358, 'rupert': 2984, 'murdoch': 2337, 'eyeing': 1401, 'system': 3596, 'branded': 436, 'retirement': 2905, 'tank': 3609, 'singapore': 3190, 'performance': 2525, 'knock': 2024, 'lira': 2125, 'saturday': 3011, 'create': 821, 'kick': 2014, 'latin': 2051, 'registered': 2832, 'defy': 926, 'quake': 2734, 'gloom': 1628, 'hong': 1785, 'kong': 2027, 'tear': 3622, 'michael': 2261, 'travel': 3715, 'scale': 3020, 'cap': 536, 'suitor': 3539, 'euronext': 1356, 'met': 2255, 'ready': 2788, 'scrutiny': 3048, 'investigating': 1903, 'disguise': 1065, 'thing': 3656, 'entrepreneur': 1332, 'languishing': 2042, 'song': 3294, 'nasdaq': 2357, 'list': 2126, 'operates': 2435, 'gift': 1613, 'child': 613, 'grandchild': 1654, 'toy': 3702, 'national': 2359, 'overseas': 2464, 'debut': 898, 'dual': 1175, 'heavily': 1742, 'closing': 669, 'arsenal': 205, 'full': 1566, 'vice': 3845, 'david': 883, 'consider': 764, 'brazilian': 443, 'display': 1076, 'durability': 1188, 'sinking': 3195, 'stern': 3437, 'word': 3979, 'google': 1641, 'advantage': 57, 'jump': 1985, 'charm': 598, 'dressed': 1157, 'sbc': 3019, 'expects': 1384, 'bidder': 349, 'held': 1745, 'professional': 2679, 'friendly': 1556, 'spin': 3345, 'american': 141, 'sun': 3544, 'beijing': 327, 'refusing': 2824, 'press': 2648, 'ended': 1302, 'iraqi': 1915, 'voter': 3885, 'issue': 1926, 'desperate': 983, 'situation': 3201, 'place': 2563, 'competitive': 729, 'breakneck': 448, 'expanded': 1379, 'built': 491, 'twenty': 3761, 'tuberculosis': 3748, 'clothing': 672, 'eaten': 1221, 'behemoth': 325, 'declared': 905, 'shape': 3124, 'serious': 3098, 'chamber': 584, 'commerce': 711, 'welcomed': 3932, 'alleged': 122, 'danger': 874, 'steady': 3423, 'analyst': 147, 'dip': 1027, 'derail': 969, 'premiership': 2638, 'cheer': 606, 'victory': 3850, 'response': 2892, 'march': 2205, 'textile': 3651, 'worker': 3981, 'introduced': 1899, 'charity': 594, 'lay': 2060, 'netherlands': 2371, 'fannie': 1427, 'mae': 2176, 'restate': 2896, 'dent': 953, 'agrees': 84, 'pharmaceutical': 2540, 'johnson': 1964, 'medical': 2238, 'libya': 2106, 'frozen': 1560, 'cactus': 513, 'diet': 1018, 'slimming': 3229, 'southern': 3308, 'developed': 1001, 'play': 2573, 'played': 2575, 'step': 3432, 'bombardier': 399, 'departure': 957, 'approves': 190, 'law': 2055, 'hoped': 1789, 'november': 2403, 'shopper': 3152, 'began': 322, 'seasonal': 3055, 'flock': 1504, 'drilling': 1161, 'update': 3798, 'eads': 1197, 'philippe': 2543, 'failure': 1412, 'swedish': 3589, 'clinical': 661, 'nike': 2385, 'shoe': 3146, 'sneaker': 3268, 'stormy': 3465, 'string': 3483, 'earthquake': 1209, 'crash': 820, 'paid': 2476, 'fetch': 1461, 'moscow': 2313, 'newcastle': 2373, 'brewery': 455, 'poised': 2590, 'pan': 2482, 'claiming': 637, 'mystery': 2347, 'fate': 1437, 'subject': 3504, 'join': 1965, 'afghanistan': 67, 'spirit': 3348, 'starting': 3413, 'april': 191, 'paper': 2485, 'publishing': 2720, 'independent': 1855, 'buying': 508, 'senior': 3082, 'resigned': 2886, 'irregularity': 1919, 'cannabis': 534, 'canada': 528, 'pledged': 2583, 'introduce': 1898, 'toll': 3683, 'royal': 2972, 'chartered': 600, 'disney': 1073, 'disclosure': 1052, 'settled': 3109, 'disclose': 1051, 'family': 1423, 'defended': 917, 'free': 1547, 'pulled': 2722, 'reconstruction': 2802, 'secures': 3066, 'forthcoming': 1529, 'sexism': 3115, 'sex': 3114, 'discrimination': 1057, 'asbestos': 211, 'james': 1944, 'disease': 1061, 'police': 2593, 'detain': 991, 'milk': 2273, 'detained': 992, 'suggesting': 3532, 'investigated': 1902, 'embezzlement': 1276, 'ordered': 2451, 'airbus': 99, 'expands': 1380, 'fast': 1433, 'offered': 2415, 'ranging': 2767, 'tube': 3747, 'spain': 3313, 'engineering': 1309, 'honda': 1783, 'copyright': 798, 'protecting': 2704, 'jamaica': 1943, 'difficulty': 1020, 'battered': 307, 'emerging': 1280, 'devastation': 999, 'sought': 3301, 'calm': 522, 'wave': 3920, 'killed': 2017, 'pakistan': 2479, 'peace': 2516, 'relation': 2840, 'paying': 2513, 'showing': 3162, 'summer': 3542, 'probe': 2668, 'investigate': 1901, 'delta': 933, 'weekend': 3929, 'liquidation': 2124, 'fails': 1411, 'versus': 3839, 'continued': 781, 'tumbled': 3751, 'mild': 2271, 'densely': 952, 'feud': 1463, 'reliance': 2848, 'counter': 808, 'struggle': 3490, 'controlling': 787, 'massive': 2224, 'thailand': 3652, 'israeli': 1925, 'picking': 2551, 'israel': 1924, 'emerge': 1279, 'soros': 3300, 'financed': 1478, 'local': 2138, 'challenged': 583, 'crunch': 843, 'agreement': 83, 'auto': 253, 'copper': 795, 'optimistic': 2446, 'influential': 1870, 'friend': 1555, 'pas': 2496, 'ssl': 3387, 'awaits': 265, 'refused': 2823, 'comment': 710, 'sunderland': 3547, 'bob': 392, 'murray': 2339, 'broadcaster': 473, 'taxpayer': 3619, 'eco': 1226, 'completes': 734, 'switch': 3593, 'completed': 733, 'replacement': 2868, 'ski': 3206, 'grows': 1678, 'size': 3203, 'predict': 2633, 'considers': 767, 'opening': 2433, 'volkswagen': 3881, 'anil': 162, 'brother': 479, 'running': 2982, 'sky': 3212, 'allow': 126, 'commercial': 712, 'stoke': 3452, 'rebound': 2795, 'retire': 2904, 'justify': 1993, 'clearance': 648, 'proved': 2712, 'tate': 3616, 'bag': 277, 'award': 266, 'businessman': 501, 'magazine': 2177, 'krispy': 2032, 'dunking': 1185, 'idle': 1827, 'farm': 1430, 'gun': 1691, 'suit': 3537, 'lawsuit': 2058, 'california': 518, 'heading': 1731, 'fight': 1468, 'survival': 3573, 'woo': 3977, 'laura': 2054, 'ashley': 212, 'stepping': 3435, 'agree': 80, 'attendant': 237, 'fare': 1429, 'green': 1662, 'shun': 3168, 'environment': 1335, 'bill': 354, 'fined': 1483, 'agrochemical': 86, 'bribing': 459, 'plea': 2579, 'criminal': 829, 'connection': 761, 'rigging': 2929, 'june': 1988, 'ten': 3640, 'pocket': 2588, 'class': 643, 'continental': 779, 'halifax': 1701, 'slash': 3215, 'regional': 2830, 'toyota': 3703, 'spend': 3338, 'jakarta': 1941, 'designed': 978, 'expand': 1378, 'republic': 2877, 'dependence': 958, 'truce': 3741, 'breaching': 445, 'eighteen': 1248, 'collapse': 693, 'dipped': 1030, 'christian': 623, 'stepped': 3434, 'stated': 3415, 'fox': 1538, 'minority': 2281, 'broadcasting': 474, 'asked': 215, 'dispute': 1078, 'commissioner': 714, 'peter': 2537, 'sharply': 3133, 'reversed': 2916, 'karachi': 1996, 'recorded': 2804, 'single': 3193, 'prepares': 2642, 'hybrid': 1819, 'trouble': 3738, 'alliance': 124, 'suspend': 3577, 'discovery': 1055, 'northern': 2395, 'ocean': 2410, 'foster': 1532, 'winemaker': 3958, 'ecb': 1224, 'succession': 3520, 'sharing': 3130, 'narrow': 2354, 'leaving': 2076, 'kraft': 2031, 'snack': 3264, 'sugary': 3530, 'promote': 2690, 'eating': 1222, 'quits': 2749, 'jailed': 1939, 'partner': 2494, 'trio': 3731, 'aer': 61, 'ireland': 1916, 'conflict': 755, 'tariff': 3614, 'hamper': 1706, 'ahold': 90, 'charged': 593, 'helping': 1749, 'campaign': 525, 'note': 2399, 'rejected': 2838, 'bell': 332, 'aged': 73, 'charlie': 596, 'died': 1016, 'cancer': 530, 'eas': 1210, 'albeit': 110, 'voiced': 3876, 'opposition': 2444, 'planned': 2568, 'option': 2447, 'transfer': 3713, 'nuclear': 2405, 'period': 2528, 'stability': 3389, 'grant': 1655, 'apology': 177, 'oracle': 2448, 'completion': 735, 'smaller': 3251, 'parking': 2491, 'fee': 1450, 'jam': 1942, 'area': 195, 'beige': 326, 'cool': 792, 'ebay': 1223, 'hour': 1800, 'southwest': 3309, 'net': 2370, 'depth': 967, 'funding': 1573, 'draft': 1146, 'support': 3558, 'pick': 2549, 'savoy': 3016, 'famous': 1424, 'hotel': 1797, 'slows': 3242, 'unity': 3785, 'suspends': 3579, 'station': 3417, 'environmental': 1336, 'nigerian': 2383, 'virgin': 3862, 'blue': 388, 'steep': 3426, 'vivendi': 3872, 'complaint': 732, 'universal': 3786, 'cooperative': 793, 'morgan': 2309, 'slavery': 3219, 'slave': 3218, 'accepted': 24, 'collateral': 694, 'protocol': 2709, 'wipro': 3965, 'beat': 315, 'software': 3284, 'topping': 3690, 'worst': 3988, 'failing': 1410, 'draw': 1153, 'cope': 794, 'vow': 3888, 'mouse': 2319, 'young': 4007, 'league': 2067, 'enjoy': 1315, 'income': 1848, 'spanish': 3317, 'youngster': 4008, 'cement': 574, 'spree': 3368, 'heat': 1739, 'spat': 3323, 'spilled': 3344, 'globe': 1627, 'mountain': 2317, 'resort': 2889, 'davos': 885, 'forum': 1530, 'wef': 3930, 'tony': 3686, 'blair': 371, 'attending': 238, 'protest': 2707, 'campaigner': 526, 'demonstration': 945, 'worse': 3987, 'trader': 3706, 'paris': 2488, 'economics': 1228, 'suing': 3536, 'banned': 291, 'rapid': 2772, 'poll': 2599, 'asks': 216, 'pressure': 2650, 'fbi': 1440, 'agent': 76, 'colludes': 699, 'confidential': 751, 'missing': 2283, 'disappeared': 1044, 'tunnel': 3752, 'water': 3919, 'agua': 87, 'riot': 2933, 'suffered': 3527, 'violent': 3861, 'maruti': 2220, 'climate': 658, 'agenda': 75, 'released': 2845, 'emilio': 1282, 'powerful': 2628, 'spurt': 3376, 'statistic': 3418, 'claimed': 636, 'gallery': 1580, 'tree': 3718, 'text': 3650, 'message': 2253, 'art': 208, 'musician': 2343, 'perform': 2524, 'concert': 743, 'birth': 363, 'writer': 3995, 'musical': 2342, 'treatment': 3717, 'capra': 539, 'classic': 644, 'wonderful': 3976, 'jerry': 1954, 'springer': 3371, 'opera': 2434, 'richard': 2925, 'judy': 1981, 'choose': 619, 'author': 251, 'shortlisted': 3157, 'success': 3518, 'winner': 3962, 'flying': 1509, 'stage': 3393, 'adaptation': 44, 'mary': 2221, 'bennett': 339, 'prize': 2666, 'history': 1769, 'boy': 426, 'critic': 832, 'levy': 2099, 'tipped': 3676, 'novelist': 2402, 'andrea': 149, 'winning': 3963, 'novel': 2401, 'island': 1922, 'finest': 1484, 'star': 3409, 'evening': 1363, 'vinci': 3860, 'code': 686, 'plot': 2585, 'bestseller': 344, 'reader': 2786, 'clergyman': 653, 'uganda': 3765, 'vagina': 3811, 'monologue': 2302, 'artist': 210, 'secret': 3060, 'postcard': 2616, 'academy': 21, 'hollywood': 1780, 'liam': 2101, 'dinner': 1026, 'party': 2495, 'lyric': 2170, 'adventure': 58, 'fan': 1425, 'story': 3466, 'horse': 1793, 'smarties': 3254, 'mutant': 2345, 'guardian': 1682, 'science': 3030, 'arthur': 209, 'king': 2020, 'age': 72, 'booker': 407, 'dame': 869, 'shortlist': 3156, 'versace': 3837, 'portfolio': 2609, 'collection': 697, 'murdered': 2336, 'designer': 979, 'slater': 3217, 'broadway': 475, 'actor': 41, 'tom': 3684, 'glass': 1622, 'reynolds': 2922, 'portrait': 2610, 'sir': 3197, 'airing': 103, 'wrangle': 3991, 'alicia': 117, 'bath': 306, 'modern': 2292, 'greatest': 1660, 'ballet': 281, 'dancer': 872, 'career': 547, 'famed': 1422, 'conductor': 747, 'venice': 3827, 'century': 577, 'harry': 1725, 'potter': 2623, 'chart': 599, 'topped': 3689, 'amazon': 136, 'visitor': 3868, 'idol': 1828, 'pop': 2604, 'talent': 3605, 'begun': 323, 'simon': 3185, 'studio': 3495, 'variety': 3817, 'baghdad': 278, 'blogger': 384, 'festival': 1458, 'comedy': 707, 'sideways': 3175, 'road': 2940, 'trip': 3732, 'praise': 2629, 'heaped': 1734, 'association': 222, 'adding': 46, 'dirty': 1038, 'den': 947, 'demise': 939, 'marking': 2213, 'anniversary': 166, 'vision': 3866, 'sundance': 3545, 'sporting': 3359, 'pair': 2478, 'dark': 878, 'crowd': 837, 'dvd': 1193, 'prisoner': 2663, 'brought': 480, 'dramatic': 1151, 'visual': 3869, 'shine': 3143, 'vera': 3832, 'drake': 1149, 'scoop': 3033, 'oscar': 2454, 'mike': 2269, 'leigh': 2088, 'vie': 3853, 'eligible': 1264, 'chosen': 620, 'forward': 1531, 'nominee': 2393, 'hank': 1715, 'greeted': 1666, 'premiere': 2637, 'leicester': 2087, 'square': 3384, 'pirate': 2557, 'cannibal': 535, 'sequel': 3092, 'gear': 1600, 'ceremony': 578, 'walk': 3899, 'red': 2810, 'carpet': 553, 'aviator': 260, 'creator': 824, 'snub': 3273, 'nominated': 2391, 'movie': 2324, 'leonardo': 2094, 'shut': 3169, 'race': 2752, 'starring': 3410, 'paul': 2510, 'version': 3838, 'passion': 2500, 'mel': 2242, 'christ': 622, 'berlin': 340, 'tribute': 3724, 'davis': 884, 'spike': 3343, 'lee': 2079, 'burt': 497, 'funeral': 1574, 'dead': 888, 'gerard': 1608, 'beaten': 316, 'howl': 1806, 'cinema': 628, 'box': 424, 'ticket': 3670, 'thriller': 3667, 'rousing': 2969, 'reception': 2800, 'spectator': 3330, 'landmark': 2039, 'hailed': 1698, 'fahrenheit': 1407, 'cultural': 849, 'hide': 1757, 'willis': 3951, 'injury': 1876, 'bruce': 483, 'revolution': 2919, 'swank': 3583, 'jamie': 1945, 'hilary': 1763, 'guild': 1686, 'female': 1453, 'student': 3494, 'black': 367, 'true': 3742, 'camera': 523, 'horror': 1792, 'evil': 1369, 'sam': 3003, 'mumbai': 2333, 'bomb': 398, 'postponed': 2621, 'blast': 374, 'bombing': 400, 'robot': 2948, 'godfather': 1634, 'watch': 3916, 'van': 3814, 'slain': 3213, 'theo': 3655, 'epic': 1338, 'celebrate': 568, 'broadcast': 472, 'live': 2130, 'displacing': 1075, 'nair': 2350, 'vanity': 3816, 'thrilled': 3666, 'cesar': 579, 'engagement': 1307, 'nomination': 2392, 'calendar': 517, 'animation': 164, 'beating': 317, 'alienated': 118, 'suburb': 3514, 'prepare': 2640, 'actress': 42, 'vote': 3883, 'shrek': 3165, 'animated': 163, 'kevin': 2011, 'spacey': 3312, 'kate': 1998, 'sea': 3049, 'blow': 386, 'alexander': 115, 'oliver': 2424, 'stone': 3456, 'historical': 1768, 'entering': 1325, 'ray': 2780, 'biopic': 361, 'surpassed': 3570, 'combined': 704, 'tally': 3607, 'rental': 2863, 'twelve': 3760, 'raid': 2758, 'crime': 828, 'caper': 537, 'clooney': 664, 'brad': 429, 'pitt': 2561, 'julia': 1982, 'indie': 1860, 'abortion': 16, 'drama': 1150, 'scooped': 3034, 'spider': 3342, 'superhero': 3552, 'special': 3328, 'extravaganza': 1399, 'baby': 270, 'clint': 662, 'boxing': 425, 'picture': 2552, 'editing': 1237, 'front': 1557, 'enters': 1327, 'entered': 1324, 'cage': 515, 'attend': 236, 'anger': 156, 'bollywood': 396, 'demanded': 937, 'withdrawal': 3968, 'depicts': 962, 'affair': 63, 'girl': 1617, 'bookmaker': 408, 'moving': 2325, 'distributor': 1086, 'dan': 870, 'nazi': 2362, 'drawn': 1154, 'applause': 183, 'los': 2148, 'angeles': 155, 'cate': 564, 'godzilla': 1635, 'fame': 1421, 'birthday': 364, 'god': 1633, 'screenwriter': 3046, 'philip': 2542, 'remove': 2859, 'reference': 2817, 'accolade': 29, 'singer': 3191, 'documentary': 1103, 'candid': 532, 'surprise': 3571, 'moore': 2307, 'choice': 618, 'howard': 1805, 'convicted': 790, 'retain': 2902, 'crown': 838, 'spot': 3363, 'prominence': 2686, 'theme': 3654, 'lewis': 2100, 'daniel': 875, 'downloads': 1144, 'digital': 1022, 'included': 1846, 'glasgow': 1621, 'host': 1795, 'gig': 1614, 'band': 284, 'busted': 504, 'verge': 3834, 'splitting': 3351, 'aka': 108, 'rapper': 2773, 'songwriter': 3295, 'skinner': 3208, 'manic': 2195, 'preacher': 2632, 'helm': 1746, 'radio': 2756, 'jackson': 1935, 'reporter': 2874, 'strengthening': 3478, 'marion': 2209, 'knight': 2023, 'allegedly': 123, 'elton': 1268, 'performed': 2526, 'elvis': 1270, 'rock': 2952, 'roll': 2959, 'legend': 2085, 'pete': 2536, 'snoop': 3270, 'dogg': 1106, 'entourage': 1331, 'drugged': 1171, 'raped': 2771, 'ago': 78, 'legendary': 2086, 'lennon': 2092, 'jay': 1951, 'hip': 1766, 'hop': 1787, 'rem': 2852, 'player': 2576, 'hospital': 1794, 'suffering': 3528, 'ring': 2930, 'fire': 1487, 'memory': 2246, 'marley': 2214, 'reggae': 2826, 'rob': 2941, 'belle': 334, 'sebastian': 3057, 'dance': 871, 'fatboy': 1436, 'slim': 3227, 'currently': 855, 'patch': 2502, 'brian': 457, 'dublin': 1178, 'son': 3293, 'byrd': 510, 'patrol': 2507, 'feted': 1462, 'dove': 1137, 'scissor': 3032, 'sister': 3198, 'brit': 467, 'keane': 2000, 'cliff': 657, 'recording': 2806, 'ferdinand': 1454, 'frontman': 1559, 'alex': 114, 'edinburgh': 1236, 'lecture': 2077, 'discussion': 1060, 'follow': 1514, 'trophy': 3737, 'super': 3549, 'bowl': 423, 'wowed': 3990, 'avoided': 262, 'janet': 1946, 'controversy': 789, 'korn': 2030, 'guitarist': 1689, 'quit': 2748, 'religious': 2850, 'vibe': 3843, 'stabbing': 3388, 'happened': 1718, 'formula': 1528, 'ultimate': 3768, 'tout': 3699, 'queen': 2742, 'recruit': 2809, 'tour': 3697, 'remaining': 2854, 'rodgers': 2955, 'freddie': 1546, 'mercury': 2250, 'grammy': 1651, 'smashed': 3257, 'ozzy': 2471, 'praised': 2630, 'tackling': 3600, 'burglar': 496, 'stole': 3453, 'rocker': 2953, 'electro': 1258, 'bravery': 440, 'website': 3926, 'sound': 3303, 'promising': 2689, 'copy': 796, 'eminem': 1283, 'soldier': 3288, 'stormed': 3464, 'husband': 1818, 'duet': 1179, 'jennifer': 1953, 'lopez': 2146, 'anthony': 173, 'beastie': 314, 'pupil': 2726, 'piracy': 2556, 'lesson': 2095, 'secondary': 3059, 'spector': 3331, 'phil': 2541, 'mother': 2315, 'usher': 3808, 'billboard': 355, 'category': 565, 'venue': 3830, 'beatles': 318, 'cover': 815, 'glory': 1629, 'oasis': 2408, 'brawl': 441, 'disputed': 1079, 'nirvana': 2388, 'featuring': 1444, 'unreleased': 3790, 'soul': 3302, 'field': 1466, 'anthem': 172, 'inspired': 1886, 'itunes': 1930, 'ipod': 1911, 'download': 1140, 'apple': 184, 'morrison': 2311, 'footballer': 1518, 'campbell': 527, 'stopping': 3459, 'releasing': 2846, 'crowned': 839, 'earner': 1205, 'earned': 1204, 'madonna': 2174, 'rolling': 2960, 'earliest': 1201, 'shook': 3147, 'parker': 2490, 'saxophone': 3018, 'belonging': 335, 'jazz': 1952, 'comic': 708, 'morris': 2310, 'sitcom': 3199, 'comedian': 706, 'chris': 621, 'brass': 438, 'spoof': 3356, 'refuse': 2822, 'adoption': 53, 'father': 1438, 'stiller': 3447, 'ricky': 2927, 'sleaze': 3221, 'indecency': 1853, 'residue': 2885, 'clothes': 671, 'wife': 3944, 'shot': 3158, 'soap': 3274, 'language': 2041, 'eurovision': 1360, 'contest': 777, 'compete': 726, 'csi': 846, 'sending': 3081, 'offensive': 2413, 'threatening': 3663, 'viewer': 3856, 'murder': 2335, 'scientist': 3031, 'factor': 1405, 'itv': 1931, 'singing': 3192, 'charles': 595, 'vicki': 3846, 'comeback': 705, 'branson': 437, 'flop': 1505, 'proving': 2714, 'housewife': 1803, 'audience': 242, 'compared': 724, 'pundit': 2724, 'contestant': 778, 'evicted': 1366, 'celebrity': 571, 'evans': 1362, 'hugh': 1809, 'trek': 3719, 'persuade': 2534, 'scrap': 3041, 'enterprise': 1326, 'leaf': 2065, 'flagship': 1497, 'clean': 646, 'steer': 3427, 'clear': 647, 'johnny': 1963, 'denise': 951, 'passport': 2501, 'vaughan': 3818, 'paradise': 2486, 'eviction': 1367, 'edward': 1242, 'skate': 3205, 'strictly': 3480, 'dancing': 873, 'holmes': 1781, 'moment': 2296, 'sprinter': 3373, 'kelly': 2005, 'olympic': 2426, 'veteran': 3841, 'fletcher': 1501, 'vies': 3854, 'prestigious': 2651, 'unrealistic': 3789, 'view': 3855, 'real': 2789, 'expert': 1385, 'ethnic': 1354, 'barrier': 298, 'succeeding': 3517, 'suggested': 3531, 'writing': 3996, 'simpson': 3188, 'episode': 1340, 'matt': 2228, 'peel': 2518, 'fill': 1473, 'presenter': 2645, 'slot': 3236, 'anna': 165, 'appeared': 181, 'touch': 3694, 'jungle': 1989, 'triumph': 3734, 'cult': 848, 'urged': 3803, 'freedom': 1549, 'greer': 1665, 'quitting': 2750, 'reality': 2790, 'allegation': 121, 'sexual': 3117, 'copycat': 797, 'drew': 1158, 'duran': 1189, 'appear': 179, 'vh1': 3842, 'rat': 2775, 'stunt': 3500, 'disgusted': 1067, 'watching': 3918, 'eat': 1220, 'muslim': 2344, 'aired': 102, 'islam': 1920, 'culture': 850, 'lucas': 2162, 'angolan': 159, 'attempting': 235, 'separated': 3089, 'hugely': 1808, 'popular': 2605, 'volcano': 3880, 'docu': 1101, 'volcanic': 3879, 'park': 2489, 'highlight': 1761, 'reward': 2920, 'dubbed': 1177, 'surf': 3564, 'title': 3677, 'promoting': 2691, 'satellite': 3010, 'clark': 639, 'suffers': 3529, 'dick': 1011, 'bet': 345, 'leak': 2068, 'stopped': 3458, 'sensitive': 3085, 'carson': 555, 'town': 3701, 'ferguson': 1455, 'sheila': 3138, 'farrell': 1432, 'colin': 692, 'joy': 1977, 'division': 1095, 'ian': 1822, 'booked': 406, 'ill': 1830, 'replace': 2867, 'succeeded': 3516, 'diverse': 1088, 'bash': 300, 'scored': 3036, 'jailhouse': 1940, 'shooting': 3150, 'teenage': 3627, 'birmingham': 362, 'announcing': 169, 'hat': 1727, 'trick': 3725, 'score': 3035, 'dour': 1136, 'vanished': 3815, 'disappearance': 1043, 'wilson': 3952, 'backing': 275, 'established': 1351, 'discovered': 1054, 'swearing': 3587, 'gay': 1599, 'spear': 3327, 'britney': 470, 'homophobic': 1782, 'sensation': 3083, 'joss': 1974, 'devon': 1007, 'event': 1364, 'girlfriend': 1618, 'mar': 2202, 'broke': 476, 'promise': 2687, 'care': 546, 'urban': 3801, 'robbie': 2943, 'williams': 3950, 'angel': 154, 'ana': 145, 'collected': 696, 'sioux': 3196, 'today': 3679, 'dream': 1155, 'secure': 3064, 'museum': 2340, 'dedicated': 908, 'jimi': 1958, 'courtney': 814, 'love': 2155, 'spared': 3320, 'assault': 217, 'serve': 3101, 'kanye': 1995, 'shrewd': 3166, 'grammys': 1652, 'producing': 2675, 'christina': 625, 'desire': 980, 'vertigo': 3840, 'influence': 1869, 'posthumous': 2619, 'generation': 1604, 'course': 812, 'abba': 11, 'original': 2453, 'quartet': 2741, 'mamma': 2190, 'mia': 2260, 'downloading': 1143, 'scotland': 3038, 'sabbath': 2991, 'guitar': 1688, 'zombie': 4012, 'respond': 2891, 'blockbuster': 381, 'olivier': 2425, 'coming': 709, 'austrian': 250, 'downloaded': 1142, 'awaiting': 264, 'sheriff': 3141, 'tricked': 3726, 'letting': 2097, 'crew': 827, 'spinning': 3347, 'urge': 3802, 'nelly': 2368, 'boycott': 427, 'prevent': 2653, 'vile': 3858, 'cent': 575, 'protege': 2706, 'prodigy': 2672, 'headline': 1732, 'showbiz': 3160, 'solo': 3290, 'individual': 1862, 'wanted': 3903, 'community': 722, 'visa': 3865, 'hall': 1702, 'schedule': 3026, 'elliot': 1267, 'preview': 2654, 'arrest': 202, 'san': 3005, 'francisco': 1543, 'spokesman': 3354, 'lord': 2147, 'abandoned': 10, 'suitable': 3538, 'julie': 1983, 'andrew': 150, 'bassist': 302, 'exit': 1376, 'gary': 1593, 'stan': 3402, 'multi': 2330, 'fry': 1562, 'hitchhiker': 1772, 'stephen': 3433, 'guide': 1683, 'warrior': 3913, 'hunt': 1816, 'destination': 986, 'depp': 965, 'fantasy': 1428, 'sum': 3541, 'scott': 3039, 'responsible': 2894, 'slice': 3223, 'bangkok': 285, 'determined': 996, 'carry': 554, 'patsy': 2508, 'inside': 1882, 'corbett': 799, 'dumbed': 1181, 'joined': 1966, 'victoria': 3849, 'wood': 3978, 'jason': 1950, 'attacking': 232, 'declining': 907, 'diary': 1010, 'developing': 1003, 'breath': 450, 'discover': 1053, 'showered': 3161, 'humble': 1812, 'hoffman': 1776, 'dustin': 1190, 'quality': 2736, 'acting': 38, 'finding': 1481, 'relationship': 2841, 'equally': 1342, 'tim': 3674, 'born': 416, 'playing': 2577, 'supporting': 3560, 'florida': 1506, 'patti': 2509, 'isle': 1923, 'wight': 3946, 'fuller': 1567, 'supremo': 3562, 'manager': 2193, 'pixy': 2562, 'reading': 2787, 'leeds': 2080, 'moreno': 2308, 'rare': 2774, 'breakthrough': 449, 'safer': 2995, 'contentious': 776, 'kidman': 2016, 'photographer': 2548, 'nicole': 2381, 'sydney': 3595, 'submission': 3506, 'douglas': 1135, 'diamond': 1009, 'hill': 1764, 'reef': 2815, 'composer': 736, 'bach': 271, 'tabloid': 3598, 'attacked': 231, 'questioning': 2745, 'honesty': 1784, 'casino': 559, 'royale': 2973, 'goldeneye': 1638, 'celebrates': 569, 'deport': 963, 'deportation': 964, 'norway': 2396, 'earning': 1206, 'earn': 1203, 'counterpart': 809, 'clutch': 677, 'roundabout': 2968, 'nostalgia': 2398, 'magic': 2178, 'shared': 3127, 'owen': 2466, 'empty': 1293, 'handed': 1709, 'celebrating': 570, 'bit': 365, 'elizabeth': 1266, 'enormous': 1319, 'sure': 3563, 'swansea': 3584, 'wale': 3898, 'shark': 3131, 'seller': 3075, 'appearance': 180, 'feature': 1443, 'exorcist': 1377, 'lack': 2036, 'pirated': 2558, 'prison': 2662, 'wild': 3947, 'viewing': 3857, 'sick': 3170, 'arnold': 201, 'dominates': 1115, 'congratulated': 759, 'council': 807, 'directing': 1032, 'team': 3621, 'absolute': 18, 'abuse': 19, 'braced': 428, 'halloween': 1703, 'debra': 896, 'franchise': 1541, 'boogeyman': 404, 'door': 1125, 'clip': 663, 'university': 3787, 'letter': 2096, 'hobbit': 1775, 'buffy': 487, 'wonder': 3975, 'slayer': 3220, 'signing': 3180, 'maternity': 2227, 'hewitt': 1755, 'cabinet': 511, 'telling': 3637, 'extend': 1397, 'manifesto': 2196, 'autumn': 255, 'conference': 748, 'blackpool': 370, 'suggestion': 3533, 'giveaway': 1619, 'error': 1348, 'doomed': 1124, 'dome': 1111, 'tory': 3691, 'qualm': 2737, 'reveal': 2912, 'sexist': 3116, 'taunt': 3617, 'endure': 1303, 'shocking': 3145, 'silly': 3184, 'crucial': 840, 'parliament': 2492, 'sandra': 3006, 'conservative': 763, 'rebuts': 2796, 'asylum': 225, 'immigrant': 1835, 'terror': 3644, 'eased': 1212, 'passage': 2497, 'jack': 1934, 'straw': 3472, 'skill': 3207, 'shortage': 3155, 'committee': 717, 'camp': 524, 'remark': 2856, 'diversion': 1089, 'statement': 3416, 'drunk': 1173, 'diverted': 1091, 'diploma': 1028, 'ditch': 1087, 'bullish': 492, 'disgraceful': 1064, 'waste': 3915, 'scheme': 3027, 'slum': 3245, 'kenya': 2008, 'shantytown': 3123, 'immigration': 1836, 'monitor': 2301, 'butler': 505, 'civil': 634, 'lib': 2102, 'dems': 946, 'inquiry': 1880, 'question': 2743, 'embassy': 1274, 'truant': 3740, 'crackdown': 818, 'persistent': 2531, 'education': 1240, 'ruth': 2988, 'demo': 940, 'pro': 2667, 'supporter': 3559, 'spring': 3369, 'protester': 2708, 'airport': 105, 'expansion': 1381, 'kennedy': 2007, 'politics': 2598, 'profile': 2680, 'border': 414, 'rail': 2759, 'reopened': 2865, 'welsh': 3933, 'assembly': 218, 'idea': 1825, 'dictatorship': 1012, 'wrong': 3998, 'detainee': 993, 'detaining': 994, 'terrorist': 3645, 'suspect': 3575, 'human': 1810, 'substantial': 3512, 'policing': 2594, 'warn': 3908, 'afford': 64, 'older': 2423, 'granted': 1656, 'questioned': 2744, 'sheffield': 3136, 'angler': 157, 'prosecuted': 2699, 'clarke': 640, 'vowed': 3889, 'scot': 3037, 'smoke': 3260, 'mcconnell': 2233, 'insisted': 1884, 'divorced': 1096, 'disadvantaged': 1040, 'academic': 20, 'spy': 3378, 'hunger': 1814, 'spying': 3379, 'seventh': 3111, 'downing': 1139, 'stamp': 3401, 'duty': 1192, 'liberal': 2103, 'democrat': 942, 'threshold': 3665, 'discipline': 1050, 'citizenship': 632, 'touted': 3700, 'appointed': 187, 'embargo': 1271, 'donation': 1120, 'cardinal': 545, 'east': 1215, 'reduce': 2813, 'murphy': 2338, 'connor': 762, 'ballot': 282, 'referendum': 2818, 'voting': 3886, 'debated': 894, 'representative': 2875, 'protect': 2703, 'bringing': 464, 'prosperity': 2702, 'guantanamo': 1680, 'freed': 1548, 'bay': 311, 'common': 719, 'hunting': 1817, 'disorderly': 1074, 'contact': 773, 'electronically': 1260, 'tagged': 3602, 'considered': 765, 'falconer': 1416, 'outlined': 2458, 'couple': 811, 'resolve': 2888, 'separation': 3090, 'intervention': 1896, 'euthanasia': 1361, 'avert': 257, 'averting': 258, 'expressed': 1396, 'keeping': 2004, 'processing': 2670, 'application': 185, 'concession': 744, 'statute': 3420, 'peer': 2519, 'bnp': 390, 'nick': 2380, 'griffin': 1669, 'boris': 415, 'opposes': 2442, 'mayor': 2232, 'ken': 2006, 'stick': 3443, 'jewish': 1956, 'deliver': 931, 'register': 2831, 'adult': 56, 'literacy': 2129, 'propaganda': 2695, 'exercise': 1373, 'sense': 3084, 'ambition': 138, 'stand': 3403, 'leadership': 2063, 'prove': 2711, 'useless': 3806, 'quango': 2738, 'duplicate': 1187, 'cell': 572, 'racist': 2754, 'refugee': 2821, 'telephoning': 3635, 'marketing': 2212, 'voucher': 3887, 'strategy': 3471, 'wake': 3896, 'dem': 935, 'rift': 2928, 'elected': 1255, 'sentenced': 3087, 'deny': 954, 'personal': 2533, 'elderly': 1253, 'stress': 3479, 'goal': 1631, 'reasonable': 2792, 'minimum': 2277, 'guaranteed': 1681, 'allowance': 127, 'mood': 2305, 'married': 2215, 'form': 1526, 'embracing': 1278, 'opportunity': 2441, 'veritas': 3835, 'chat': 601, 'mep': 2248, 'silk': 3183, 'damaged': 867, 'daughter': 880, 'learning': 2072, 'concerned': 741, 'resident': 2884, 'saved': 3015, 'speaker': 3325, 'betty': 347, 'reforming': 2820, 'upper': 3799, 'distinguished': 1083, 'conducted': 746, 'wearing': 3923, 'fancy': 1426, 'dress': 1156, 'waiting': 3895, 'migrant': 2268, 'wanting': 3904, 'undergo': 3776, 'test': 3646, 'blackberry': 368, 'learn': 2070, 'candidate': 533, 'eurosceptic': 1359, 'criminally': 830, 'insane': 1881, 'denial': 948, 'urging': 3804, 'presidency': 2646, 'shrug': 3167, 'package': 2474, 'troop': 3736, 'ivory': 1933, 'coast': 683, 'standby': 3405, 'exploded': 1389, 'vega': 3821, 'jibe': 1957, 'gambling': 1582, 'activity': 40, 'condemned': 745, 'defiant': 922, 'basis': 301, 'kashmir': 1997, 'dividing': 1094, 'shadow': 3118, 'stolen': 3454, 'resigns': 2887, 'independence': 1854, 'dumpsite': 1182, 'permanently': 2529, 'stored': 3462, 'broken': 477, 'pledge': 2582, 'ink': 1877, 'dried': 1159, 'operating': 2436, 'diplomatic': 1029, 'galloway': 1581, 'margaret': 2207, 'custody': 856, 'defends': 920, 'banning': 292, 'enforceable': 1306, 'retract': 2906, 'pakistani': 2480, 'veil': 3823, 'servant': 3100, 'slurry': 3248, 'platform': 2572, 'fundamental': 1572, 'neil': 2367, 'seat': 3056, 'democratic': 943, 'pub': 2716, 'closure': 670, 'spoken': 3353, 'publisher': 2719, 'reduced': 2814, 'automatically': 254, 'define': 924, 'english': 1311, 'training': 3711, 'faith': 1414, 'cohesion': 689, 'democracy': 941, 'slopping': 3235, 'inmate': 1878, 'slop': 3234, 'rallying': 2764, 'cry': 844, 'gypsy': 1694, 'site': 3200, 'concerning': 742, 'encampment': 1297, 'plaid': 2564, 'arson': 207, 'belief': 331, 'nicholas': 2379, 'advice': 60, 'legality': 2083, 'mosque': 2314, 'leaflet': 2066, 'opposing': 2443, 'snooker': 3269, 'coalition': 682, 'confusion': 757, 'cherie': 609, 'address': 47, 'divert': 1090, 'pressing': 2649, 'indicated': 1858, 'drinking': 1163, 'responsibility': 2893, 'clearer': 650, 'wade': 3892, 'foot': 1516, 'mouth': 2320, 'tutu': 3759, 'desmond': 982, 'swept': 3591, 'described': 973, 'abbas': 12, 'tolerate': 3682, 'suicide': 3535, 'tel': 3630, 'clashed': 642, 'sham': 3120, 'naive': 2351, 'tap': 3610, 'mock': 2290, 'dismisses': 1072, 'soccer': 3278, 'match': 2225, 'point': 2589, 'detention': 995, 'breached': 444, 'blitz': 379, 'abolish': 15, 'rebellion': 2794, 'pig': 2553, 'poster': 2618, 'semitic': 3078, 'semitism': 3079, 'depicting': 961, 'guideline': 1685, 'householder': 1802, 'providing': 2713, 'disrepute': 1080, 'prepared': 2641, 'bobby': 393, 'cunningham': 851, 'wage': 3893, 'regiment': 2828, 'federation': 1448, 'betting': 346, 'learned': 2071, 'shredding': 3164, 'increasing': 1851, 'drastically': 1152, 'document': 1102, 'compiled': 730, 'fishing': 1492, 'vital': 3871, 'army': 200, 'teenager': 3628, 'deprived': 966, 'temple': 3638, 'speaking': 3326, 'rivalry': 2939, 'overshadow': 2465, 'desperately': 984, 'stuff': 3497, 'backbencher': 272, 'angrily': 160, 'squabbling': 3382, 'stiffen': 3445, 'spine': 3346, 'finally': 1476, 'heated': 1740, 'squabble': 3381, 'snowball': 3272, 'looked': 2145, 'kicked': 2015, 'governing': 1646, 'pursue': 2729, 'defection': 914, 'defector': 915, 'attempted': 234, 'describe': 972, 'effective': 1244, 'person': 2532, 'driving': 1167, 'positive': 2614, 'donor': 1122, 'wait': 3894, 'divide': 1092, 'shameful': 3121, 'cautious': 567, 'grand': 1653, 'empire': 1287, 'joke': 1968, 'mass': 2223, 'truth': 3745, 'roger': 2956, 'longest': 2144, 'serving': 3104, 'archer': 194, 'disgraced': 1063, 'rejoin': 2839, 'trusted': 3744, 'heath': 1741, 'outspent': 2460, 'fold': 1513, 'defected': 913, 'stalking': 3397, 'meyer': 2259, 'interested': 1893, 'opinion': 2439, 'keen': 2001, 'stalemate': 3396, 'white': 3940, 'prof': 2678, 'detailed': 990, 'chest': 610, 'predicts': 2635, 'turnout': 3758, 'unseat': 3791, 'goldsmith': 1639, 'attorney': 239, 'leant': 2069, 'defeat': 912, 'image': 1833, 'depict': 960, 'sly': 3249, 'core': 800, 'hungry': 1815, 'doe': 1104, 'vulnerable': 3890, 'afforded': 66, 'aggressively': 77, 'affordable': 65, 'publicly': 2718, 'planet': 2567, 'elect': 1254, 'sailing': 2999, 'donned': 1121, 'dinghy': 1025, 'analysis': 146, 'handling': 1713, 'rebate': 2793, 'bring': 463, 'smiling': 3258, 'ninth': 2387, 'gmt': 1630, 'insist': 1883, 'testing': 3647, 'didn': 1014, 'unfair': 3780, 'epidemic': 1339, 'vaccine': 3810, 'robinson': 2947, 'baa': 269, 'reiterated': 2836, 'discriminated': 1056, 'rom': 2961, 'entry': 1333, 'pitch': 2560, 'observer': 2409, 'unjustified': 3788, 'jacques': 1936, 'direction': 1033, 'answer': 171, 'explain': 1387, 'printed': 2660, 'socially': 3280, 'suspected': 3576, 'disabled': 1039, 'graphic': 1657, 'colonial': 702, 'room': 2965, 'hint': 1765, 'clue': 674, 'sacked': 2993, 'easter': 1216, 'editor': 1238, 'don': 1117, 'creative': 823, 'destruction': 988, 'elude': 1269, 'console': 768, 'mongrel': 2300, 'hain': 1699, 'rattled': 2778, 'delegate': 929, 'jonathan': 1970, 'brighton': 462, 'smart': 3252, 'description': 975, 'vicar': 3844, 'stepson': 3436, 'standing': 3406, 'lot': 2154, 'smarter': 3253, 'slogan': 3233, 'medal': 2237, 'confident': 750, 'indoor': 1865, 'championship': 586, 'sullivan': 3540, 'sonia': 3296, 'cross': 836, 'greene': 1663, 'sight': 3176, 'maurice': 2231, 'athens': 226, 'athletics': 228, 'doping': 1126, 'coach': 679, 'athlete': 227, 'pole': 2592, 'vaulter': 3820, 'clearing': 651, 'hansen': 1717, 'jumper': 1987, 'knee': 2022, 'gardener': 1590, 'upset': 3800, 'stomach': 3455, 'collins': 698, 'kim': 2019, 'norwich': 2397, 'prix': 2665, 'paula': 2511, 'outdoor': 2456, 'holder': 1778, 'phillips': 2544, 'marathon': 2203, 'runner': 2981, 'susan': 3574, 'spar': 3318, 'squad': 3383, 'verdict': 3833, 'greek': 1661, 'soil': 3285, 'hearing': 1736, 'tribunal': 3723, 'fit': 1493, 'michelle': 2262, 'arbitration': 193, 'sprint': 3372, 'deciding': 903, 'sprinting': 3374, 'vault': 3819, 'walker': 3900, 'dougie': 1134, 'fitness': 1494, 'olympics': 2427, 'plenty': 2584, 'jones': 1971, 'doubter': 1133, 'wada': 3891, 'stripped': 3484, 'substance': 3511, 'task': 3615, 'hayes': 1728, 'usa': 3805, 'enjoys': 1318, 'dave': 881, 'steroid': 3438, 'lab': 2033, 'victor': 3848, 'conte': 774, 'distribution': 1085, 'defamation': 911, 'enhancing': 1314, 'hamstring': 1707, 'impressed': 1840, 'carolina': 552, 'spoke': 3352, 'fought': 1533, 'aaa': 9, 'edge': 1232, 'jade': 1937, 'edged': 1233, 'competing': 727, 'streak': 3473, 'endured': 1304, 'emotion': 1284, 'stunning': 3499, 'francis': 1542, 'select': 3071, 'confirming': 753, 'achievement': 34, 'focused': 1511, 'fully': 1568, 'ambassador': 137, 'uncertain': 3774, 'enjoyed': 1316, 'relay': 2843, 'yelling': 4004, 'cardiff': 544, 'hayley': 1729, 'afternoon': 71, 'kathy': 1999, 'impressive': 1841, 'venta': 3828, 'acquittal': 37, 'disappointed': 1045, 'allan': 120, 'selected': 3072, 'eager': 1198, 'laboratory': 2035, 'christie': 624, 'preparation': 2639, 'stroll': 3486, 'cup': 852, 'wayne': 3921, 'everton': 1365, 'striker': 3482, 'achilles': 35, 'round': 2967, 'moyes': 2326, 'dismissal': 1070, 'chelsea': 608, 'defender': 918, 'gallas': 1579, 'ronaldo': 2964, 'winger': 3960, 'walter': 3902, 'ahmed': 89, 'scrappy': 3043, 'gerrard': 1611, 'steven': 3440, 'liverpool': 2131, 'duff': 1180, 'barcelona': 295, 'clinch': 660, 'bolton': 397, 'dyer': 1196, 'unbeaten': 3772, 'charlton': 597, 'danny': 876, 'graham': 1650, 'battling': 310, 'dundee': 1184, 'aberdeen': 13, 'semi': 3077, 'emphatic': 1286, 'clyde': 678, 'celtic': 573, 'livingston': 2134, 'robben': 2942, 'bridge': 460, 'rest': 2895, 'parry': 2493, 'listen': 2127, 'wright': 3992, 'shaun': 3135, 'sidelined': 3173, 'bone': 402, 'giggs': 1615, 'ryan': 2989, 'captain': 540, 'hungary': 1813, 'sociedad': 3281, 'ranger': 2766, 'midfielder': 2266, 'window': 3956, 'relish': 2851, 'anfield': 153, 'rick': 2926, 'replay': 2870, 'southampton': 3307, 'defensive': 921, 'tottenham': 3693, 'premier': 2636, 'cole': 691, 'earns': 1208, 'reprieve': 2876, 'sack': 2992, 'eddie': 1231, 'thompson': 3660, 'drag': 1148, 'weir': 3931, 'turning': 3757, 'ejection': 1250, 'steve': 3439, 'finish': 1485, 'kerr': 2010, 'goalkeeper': 1632, 'uefa': 3764, 'bayern': 312, 'munich': 2334, 'incident': 1845, 'bellamy': 333, 'craig': 819, 'magpie': 2179, 'heroic': 1754, 'brave': 439, 'keeper': 2003, 'assistant': 220, 'benitez': 338, 'rafael': 2757, 'happy': 1719, 'wenger': 3935, 'arsene': 206, 'delight': 930, 'stewart': 3442, 'seriously': 3099, 'nacho': 2348, 'novo': 2404, 'referee': 2816, 'mask': 2222, 'eric': 1346, 'jol': 1969, 'acclaimed': 28, 'nottingham': 2400, 'forest': 1525, 'milan': 2270, 'easier': 1213, 'absence': 17, 'chester': 611, 'severance': 3112, 'reyes': 2921, 'jose': 1973, 'linking': 2121, 'lining': 2118, 'stam': 3400, 'spice': 3341, 'encounter': 1298, 'mourinho': 2318, 'blackburn': 369, 'insists': 1885, 'elite': 1265, 'ranieri': 2768, 'valencia': 3812, 'lengthy': 2091, 'villa': 3859, 'penalty': 2520, 'ajax': 107, 'unclear': 3775, 'carling': 548, 'injured': 1875, 'adriano': 55, 'decides': 902, 'punish': 2725, 'racism': 2753, 'luis': 2164, 'henry': 1751, 'boro': 417, 'robson': 2950, 'preston': 2652, 'fowler': 1537, 'robin': 2946, 'revenge': 2915, 'marcel': 2204, 'repeating': 2866, 'difficult': 1019, 'candela': 531, 'stuart': 3492, 'discussing': 1059, 'lid': 2107, 'sol': 3286, 'gunner': 1692, 'seed': 3068, 'embarrassing': 1273, 'andy': 151, 'dawson': 886, 'redknapp': 2812, 'saint': 3000, 'pompey': 2600, 'portsmouth': 2611, 'thomas': 3659, 'alive': 119, 'departing': 955, 'describes': 974, 'mutu': 2346, 'adrian': 54, 'served': 3102, 'spur': 3375, 'reason': 2791, 'juventus': 1994, 'fake': 1415, 'anelka': 152, 'hart': 1726, 'lane': 2040, 'perfect': 2523, 'succeed': 3515, 'stalling': 3399, 'surgery': 3569, 'mansfield': 2197, 'successive': 3521, 'zambia': 4010, 'frustrated': 1561, 'fulham': 1565, 'oak': 2407, 'brand': 435, 'bristol': 466, 'hereford': 1753, 'wolf': 3972, 'appoint': 186, 'glenn': 1624, 'qualification': 2735, 'leary': 2073, 'millwall': 2275, 'revel': 2914, 'knockout': 2026, 'beckham': 319, 'exeter': 1374, 'edging': 1234, 'lure': 2166, 'pearce': 2517, 'scare': 3024, 'gripping': 1671, 'commit': 715, 'bates': 305, 'rue': 2975, 'ruing': 2977, 'initiated': 1872, 'disciplinary': 1049, 'iceland': 1824, 'accepts': 25, 'disastrous': 1048, 'fernando': 1456, 'robertson': 2945, 'sink': 3194, 'bramble': 434, 'strachan': 3467, 'fifa': 1467, 'slam': 3214, 'savage': 3013, 'brady': 431, 'derisory': 970, 'bottom': 421, 'clearly': 652, 'shoulder': 3159, 'prop': 2694, 'scrum': 3047, 'bernard': 341, 'disallowed': 1042, 'fuming': 1569, 'livid': 2132, 'gara': 1589, 'gareth': 1591, 'elated': 1252, 'wasp': 3914, 'light': 2114, 'neath': 2364, 'osprey': 2455, 'duncan': 1183, 'quick': 2746, 'stutter': 3501, 'guided': 1684, 'workmanlike': 3983, 'gavin': 1598, 'sonny': 3297, 'flanker': 1498, 'serge': 3095, 'clumsy': 675, 'lock': 2139, 'dwayne': 1194, 'lion': 2123, 'glittering': 1625, 'zealand': 4011, 'secured': 3065, 'opener': 2432, 'switched': 3594, 'coaching': 680, 'disgrace': 1062, 'sat': 3009, 'stade': 3390, 'brennan': 453, 'sella': 3074, 'umaga': 3770, 'tama': 3608, 'fearsome': 1442, 'opponent': 2440, 'whingeing': 3938, 'wing': 3959, 'hemisphere': 1750, 'rugby': 2976, 'stevens': 3441, 'skipper': 3210, 'marco': 2206, 'dominating': 1116, 'moody': 2306, 'wilkinson': 3948, 'jonny': 1972, 'captaincy': 541, 'replacing': 2869, 'straightforward': 3469, 'spoon': 3357, 'hots': 1798, 'dal': 864, 'dry': 1174, 'essential': 1350, 'andre': 148, 'destroying': 987, 'announces': 168, 'eagle': 1199, 'remember': 2858, 'subliminal': 3505, 'sweep': 3590, 'separate': 3088, 'lawrence': 2057, 'emotional': 1285, 'uncapped': 3773, 'ulster': 3767, 'dubai': 1176, 'barbarian': 294, 'easy': 1218, 'clung': 676, 'consultant': 771, 'awaited': 263, 'springboard': 3370, 'entire': 1330, 'silent': 3181, 'thinking': 3657, 'wigan': 3945, 'tiger': 3672, 'saga': 2997, 'lindsay': 2116, 'solution': 3291, 'eclipse': 1225, 'stirring': 3449, 'taylor': 3620, 'staying': 3422, 'eighth': 1249, 'overcomes': 2462, 'fighting': 1469, 'greg': 1667, 'tennis': 3641, 'unseeded': 3792, 'juan': 1979, 'roddick': 2954, 'sap': 3008, 'federer': 1449, 'ivan': 1932, 'donald': 1118, 'comprehensive': 737, 'dig': 1021, 'squeezing': 3385, 'nadal': 2349, 'mexico': 2258, 'serena': 3094, 'davenport': 882, 'wimbledon': 3953, 'dogged': 1107, 'slumped': 3247, 'sania': 3007, 'remarkable': 2857, 'venus': 3831, 'stunned': 3498, 'elia': 1263, 'martinez': 2219, 'spaniard': 3316, 'doha': 1108, 'unexpected': 3779, 'volvo': 3882, 'hardcourt': 1721, 'adelaide': 48, 'angry': 161, 'dismantles': 1069, 'void': 3877, 'defend': 916, 'corium': 801, 'auckland': 240, 'elena': 1262, 'sideline': 3172, 'groin': 1672, 'breeze': 452, 'supplement': 3554, 'lawn': 2056, 'exhibition': 1375, 'rubber': 2974, 'melbourne': 2243, 'lady': 2037, 'withdraw': 3967, 'twin': 3762, 'sportsman': 3360, 'sharapova': 3125, 'aussie': 247, 'wrist': 3993, 'edgy': 1235, 'gilbert': 1616, 'stefan': 3429, 'staged': 3394, 'newly': 2376, 'roche': 2951, 'dominate': 1113, 'sidestep': 3174, 'canberra': 529, 'serbia': 3093, 'soviet': 3310, 'cafe': 514, 'microsoft': 2263, 'spyware': 3380, 'trojan': 3735, 'guru': 1693, 'float': 1503, 'mit': 2285, 'laptop': 2044, 'bug': 488, 'tech': 3623, 'peru': 2535, 'wireless': 3966, 'bumper': 493, 'flaw': 1500, 'virus': 3864, 'pose': 2612, 'disguising': 1066, 'electronic': 1259, 'gadget': 1577, 'powerbook': 2627, 'tool': 3687, 'directs': 1037, 'ibm': 1823, 'linux': 2122, 'push': 2730, 'beefing': 320, 'commitment': 716, 'patent': 2503, 'patented': 2504, 'xbox': 4000, 'cable': 512, 'blog': 383, 'playstation': 2578, 'chip': 617, 'sony': 3298, 'intel': 1890, 'laser': 2048, 'browser': 482, 'explorer': 1392, 'microsystems': 2264, 'requiring': 2880, 'computing': 739, 'rent': 2862, 'voice': 3875, 'audition': 244, 'psp': 2715, 'gamers': 1586, 'portable': 2608, 'junk': 1990, 'deluge': 934, 'spam': 3314, 'scam': 3021, 'collect': 695, 'behalf': 324, 'source': 3305, 'movement': 2323, 'govern': 1644, 'phishing': 2545, 'turbo': 3753, 'surfing': 3566, 'exciting': 1371, 'narrowing': 2355, 'alerting': 113, 'aiding': 93, 'cartridge': 556, 'printer': 2661, 'secretly': 3062, 'programmed': 2683, 'expire': 1386, 'bureau': 495, 'spread': 3366, 'purport': 2728, 'device': 1005, 'hotspot': 1799, 'strengthened': 3477, 'harder': 1722, 'devised': 1006, 'liberty': 2104, 'frontier': 1558, 'foundation': 1534, 'eff': 1243, 'gizmo': 1620, 'mp3': 2327, 'equivalent': 1345, 'owns': 2470, 'request': 2878, 'domain': 1110, 'alphabet': 133, 'cyrillic': 861, 'scammer': 3022, 'processor': 2671, 'silicon': 3182, 'blind': 377, 'hears': 1737, 'read': 2785, 'map': 2200, 'codenamed': 688, 'xenon': 4001, 'relentless': 2847, 'putting': 2732, 'astonishing': 224, 'slew': 3222, 'emulate': 1294, 'shooter': 3149, 'multimedia': 2331, 'rfid': 2923, 'tag': 3601, 'frequency': 1552, 'log': 2140, 'handle': 1712, 'content': 775, 'journal': 1975, 'enjoying': 1317, 'boom': 409, 'gartner': 1592, 'yahoo': 4002, 'kenyan': 2009, 'handhelds': 1711, 'click': 654, 'handheld': 1710, 'stylus': 3503, 'ringtone': 2931, 'flout': 1507, 'ringtones': 2932, 'mac': 2171, 'macintosh': 2173, 'dependent': 959, 'recorder': 2805, 'classroom': 645, 'lover': 2156, 'disposing': 1077, 'population': 2606, 'conviction': 791, 'malicious': 2189, 'catch': 563, 'subtle': 3513, 'hooked': 1786, 'keystroke': 2013, 'legally': 2084, 'binding': 359, 'savvy': 3017, 'searcher': 3053, 'odd': 2412, 'mix': 2287, 'sophisticated': 3299, 'habit': 1695, 'restricting': 2897, 'nintendo': 2386, 'space': 3311, 'vocal': 3873, 'accessible': 27, 'dial': 1008, 'napster': 2353, 'downloadable': 1141, 'supreme': 3561, 'geek': 1601, 'fun': 1570, 'definition': 925, 'maturing': 2230, 'skip': 3209, 'clicking': 655, 'hefty': 1744, 'aftermath': 70, 'rack': 2755, 'surfer': 3565, 'deserve': 976, 'enhance': 1312, 'panda': 2483, 'dwindling': 1195, 'desktop': 981, 'fixed': 1495, 'endangered': 1301, 'specie': 3329, 'diy': 1098, 'ware': 3906, 'innovation': 1879, 'audio': 243, 'spreading': 3367, 'machine': 2172, 'blocking': 382, 'loyalty': 2160, 'battlefront': 309, 'warm': 3907, 'doom': 1123, 'sci': 3029, 'blasted': 375, 'joystick': 1978, 'herald': 1752, 'commodore': 718, 'lease': 2074, 'resurrected': 2899, 'slimmer': 3228, 'seaman': 3051, 'sail': 2998, 'biometric': 360, 'cruise': 842, 'liner': 2117, 'crystal': 845, 'harmony': 1724, 'gulf': 1690, 'unsolicited': 3793, 'aol': 176, 'subscriber': 3507, 'fired': 1488, 'inappropriate': 1844, 'gate': 1595, 'technological': 3625, 'firefox': 1489, 'halo': 1704, 'supercomputing': 3551, 'prototype': 2710, 'gene': 1602, 'messaging': 2254, 'virtual': 3863, 'reaching': 2783, 'appears': 182, 'blogging': 385, 'encouraging': 1300, 'dictionary': 1013, 'explode': 1388, 'range': 2765, 'playback': 2574, 'hype': 1820, 'safe': 2994, 'blu': 387, 'format': 1527, 'backer': 274, 'swappers': 3586, 'gathered': 1597, 'argues': 198, 'brainwave': 433, 'brain': 432, 'lifestyle': 2111, 'design': 977, 'metal': 2256, 'slug': 3243, 'retro': 2908, 'drill': 1160, 'sergeant': 3096, 'molly': 2295, 'coddled': 685, 'slick': 3224, 'visuals': 3870, 'trimming': 3730, 'casual': 562, 'supercomputer': 3550, 'nokia': 2390, 'rogue': 2957, 'screensaver': 3045, 'explosion': 1393, 'smartphones': 3255, 'skull': 3211, 'solve': 3292, 'library': 2105, 'alongside': 132, 'smash': 3256, 'disk': 1068, 'forehead': 1523, 'governs': 1648, 'funkier': 1575, 'hardware': 1723, 'handset': 1714, 'spammer': 3315, 'cyber': 860, 'persia': 2530, 'digitally': 1023, 'spell': 3336, 'mapping': 2201, 'darfur': 877, 'tempt': 3639, 'ignore': 1829, 'lured': 2167, 'carly': 550, 'robotic': 2949, 'breed': 451, 'envelop': 1334, 'driver': 1166, 'ensuring': 1322, 'simple': 3186, 'strange': 3470, 'slinkier': 3230, 'shopping': 3153, 'sharpness': 3134, 'developer': 1002, 'stir': 3448, 'shoot': 3148, 'humanoid': 1811, 'gamer': 1585, 'deaf': 890, 'communicate': 720, 'videophones': 3852, 'gameboy': 1584, 'blip': 378, 'poland': 2591, 'worm': 3985, 'sharer': 3129, 'billed': 356, 'steam': 3424, 'rented': 2864, 'costly': 806, 'hacker': 1696, 'tetri': 3648, 'texas': 3649, 'embark': 1272, 'souped': 3304, 'demon': 944, 'speak': 3324, 'educational': 1241, 'confuse': 756, 'samsung': 3004, 'pirating': 2559, 'p2p': 2472, 'exploited': 1390, 'panel': 2484, 'dot': 1128, 'alter': 134, 'enables': 1295, 'enhancement': 1313, 'environmentally': 1337, 'codename': 687, 'dimension': 1024, 'ultra': 3769, 'hanover': 1716, 'sneak': 3267, 'voip': 3878, 'tremor': 3720, 'easily': 1214, 'die': 1015, 'bailey': 280, 'vendor': 3824, 'shelf': 3139, 'embraced': 1277, 'terrestrial': 3643, 'spotted': 3365, 'distribute': 1084, 'directive': 1034, 'enthralling': 1329}\n"
          ]
        }
      ],
      "source": [
        "data_islarge = False\n",
        "preprossed_data = data_preprocessed\n",
        "train_label = data_preprocessed_labels\n",
        "vectorizer = CountVectorizer(min_df=min_df,max_features=max_features)\n",
        "if len(preprossed_data) > 45000:\n",
        "  data_islarge= True\n",
        "  train_vec = vectorizer.fit_transform(preprossed_data)\n",
        "  vocab = vectorizer.vocabulary_\n",
        "  id_vocab = dict(map(reversed, vocab.items()))\n",
        "  train_label = np.asarray(train_label)\n",
        "else:\n",
        "  train_vec = vectorizer.fit_transform(preprossed_data).toarray()\n",
        "  vocab = vectorizer.vocabulary_\n",
        "  id_vocab = dict(map(reversed, vocab.items()))\n",
        "  nonzeros_indexes = np.where(train_vec.any(1))[0]\n",
        "  train_vec_non_zeros = [train_vec[i] for i in nonzeros_indexes]\n",
        "  preprossed_data_non_zeros = [preprossed_data[i] for i in nonzeros_indexes]\n",
        "  train_label = [data_preprocessed_labels[i] for i in nonzeros_indexes]\n",
        "\n",
        "# train_vec = np.asanyarray(train_vec_non_zeros)\n",
        "num_input = train_vec.shape[1]\n",
        "\n",
        "print(train_vec.shape)\n",
        "print(train_label)\n",
        "print(vocab)"
      ]
    },
    {
      "cell_type": "code",
      "source": [
        "# tfidfvectorizer = TfidfVectorizer(min_df=min_df,max_features=max_features)\n",
        "# tfidf_vec = tfidfvectorizer.fit_transform(data_preprocessed).toarray()"
      ],
      "metadata": {
        "id": "Jtd9j52wBpko"
      },
      "execution_count": null,
      "outputs": []
    },
    {
      "cell_type": "code",
      "execution_count": null,
      "metadata": {
        "id": "4E9i9OAVjcpf",
        "colab": {
          "base_uri": "https://localhost:8080/"
        },
        "outputId": "b7e5f9f9-04ae-4f0e-bf22-fc76a549a1e9"
      },
      "outputs": [
        {
          "output_type": "stream",
          "name": "stdout",
          "text": [
            "0\n"
          ]
        }
      ],
      "source": [
        "keywords = get_keywords(d_data)\n",
        "\n",
        "# commented for WoS\n",
        "if data_islarge == True:# pass\n",
        "  all_rscores = cosine_similarity_desm_docs_forlarge(keywords,train_vec,vocab,embeddings)\n",
        "else:\n",
        "  all_rscores = cosine_similarity_desm_docs(keywords,train_vec,vocab,embeddings)"
      ]
    },
    {
      "cell_type": "code",
      "execution_count": null,
      "metadata": {
        "cellView": "both",
        "id": "DqC69zvaqjus",
        "colab": {
          "base_uri": "https://localhost:8080/"
        },
        "outputId": "70a8c411-d5a1-4eb0-c456-31c7276435fa"
      },
      "outputs": [
        {
          "output_type": "stream",
          "name": "stdout",
          "text": [
            "GPU mem: 12, Select GPU 0\n"
          ]
        }
      ],
      "source": [
        "device = torch.device(\"cuda:\"+str(auto_select_gpu()) if torch.cuda.is_available() else \"cpu\")\n",
        "if data_islarge: pass\n",
        "else: tensor_train_w = torch.from_numpy(train_vec).float()\n",
        "train_label = np.asarray(train_label)"
      ]
    },
    {
      "cell_type": "markdown",
      "metadata": {
        "id": "_H35cwZwSR2O"
      },
      "source": [
        "# **2. Scores**"
      ]
    },
    {
      "cell_type": "markdown",
      "metadata": {
        "id": "_ElmsnJB1Dzb"
      },
      "source": [
        "## DESM Score"
      ]
    },
    {
      "cell_type": "code",
      "execution_count": null,
      "metadata": {
        "id": "DkvzqQMNXbuK",
        "colab": {
          "base_uri": "https://localhost:8080/"
        },
        "outputId": "714ec3b9-6e10-4339-aa5b-56bc8b79bfbb"
      },
      "outputs": [
        {
          "output_type": "stream",
          "name": "stdout",
          "text": [
            "Keywords ['apple', 'microsoft', 'stock']\n",
            "Descending : tensor([0.5192, 0.5192, 0.5033,  ..., 0.1512, 0.1399, 0.1333]) \n",
            " indices: tensor([1862, 2154, 1970,  ...,  709,  716,  683])\n",
            "\n",
            "\n",
            " Top 10 Relevant Documents (DESM):\n",
            "\n",
            " ------------------------------------------------------------------------------------------------------------------------\n",
            "1 )  apple ipod family expands market apple expanded ipod family release generation digital music player\n",
            "1 ) tech\n",
            "2 )  apple ipod family expands market apple expanded ipod family release generation digital music player\n",
            "2 ) tech\n",
            "3 )  itunes user sue apple ipod user apple itunes music service suing firm unfair ipod play song\n",
            "3 ) tech\n",
            "4 )  microsoft release bumper patch microsoft warned user update system latest security flaw window program\n",
            "4 ) tech\n",
            "5 )  microsoft release patch microsoft warned user update system latest security flaw window program\n",
            "5 ) tech\n",
            "6 )  mobile music challenge ipod age nokia microsoft agreed deal work delivery music handset sony ericsson unveiled phone walkman motorola working itunes phone\n",
            "6 ) tech\n",
            "7 )  microsoft seeking spyware trojan microsoft investigating trojan program attempt switch firm anti spyware software\n",
            "7 ) tech\n",
            "8 )  microsoft seeking spyware trojan microsoft investigating trojan program attempt switch firm anti spyware software\n",
            "8 ) tech\n",
            "9 )  french suitor hold lse meeting european stock market euronext met london stock exchange lse amid speculation ready launch cash bid\n",
            "9 ) business\n",
            "10 )  firefox browser microsoft microsoft internet explorer serious rival long awaited firefox web browser released\n",
            "10 ) tech\n"
          ]
        }
      ],
      "source": [
        "top_10_docs=[]\n",
        "sort,indices = torch.sort(all_rscores,descending=True)\n",
        "print('Keywords',keywords)\n",
        "print('Descending :',sort,'\\n','indices:',indices)\n",
        "print('\\n\\n Top 10 Relevant Documents (DESM):\\n\\n',\"---\"*40)\n",
        "\n",
        "for k in range(10):\n",
        "   print(k+1,') ',preprossed_data_non_zeros[indices[k].item()])\n",
        "   print(k+1,')',train_label[indices[k].item()])\n",
        "\n",
        "with open(\"1000.txt\", \"w\") as output:\n",
        "  for k in range(0,1000):\n",
        "    output.write(str(k+1)+') '+str(preprossed_data_non_zeros[indices[k].item()])+'\\n')\n",
        "    output.write(str(k+1)+') '+str(sort[k].item())+'\\n')\n",
        "    output.write(str(k+1)+') '+str(train_label[indices[k].item()])+'\\n')\n",
        "output.close()\n",
        "\n",
        "scaler = MinMaxScaler(feature_range=(0+1e-10, 0.99))\n",
        "normalized_all_rscores = scaler.fit_transform(all_rscores.data.reshape(-1,1))\n",
        "normalized_all_rscores=torch.tensor(normalized_all_rscores.flatten())\n",
        "\n",
        "sorted_docs, sorted_idxs = torch.sort(normalized_all_rscores,descending=True)\n",
        "rounded_normalized_all_rscores = torch.round(normalized_all_rscores*10)/10.0"
      ]
    },
    {
      "cell_type": "code",
      "execution_count": null,
      "metadata": {
        "id": "Ij7bLLIzsSwT"
      },
      "outputs": [],
      "source": [
        "# plt.hist(normalized_all_rscores)"
      ]
    },
    {
      "cell_type": "code",
      "execution_count": null,
      "metadata": {
        "id": "AFKk_TJcMSSB"
      },
      "outputs": [],
      "source": [
        "# plt.hist(rounded_normalized_all_rscores)"
      ]
    },
    {
      "cell_type": "code",
      "execution_count": null,
      "metadata": {
        "id": "l-TD0g4qYddh"
      },
      "outputs": [],
      "source": [
        "from collections import defaultdict\n",
        "\n",
        "contains_key = 0\n",
        "doc_contains__anykey_idx = []\n",
        "for doc in preprossed_data_non_zeros:\n",
        "  for k in keywords:\n",
        "    if k in doc:\n",
        "      contains_key += 1\n",
        "      doc_contains__anykey_idx = np.append(doc_contains__anykey_idx,preprossed_data_non_zeros.index(doc)).astype(int)\n",
        "      break\n",
        "\n",
        "doc_contains_anykey = torch.zeros(train_vec.shape[0])\n",
        "doc_contains_anykey[doc_contains__anykey_idx] = 1.0\n",
        "# doc_contains_anykey = torch.zeros(tensor_train_w.size())\n",
        "# for idx in doc_contains__anykey_idx:\n",
        "#     doc_contains_anykey[idx][torch.where(tensor_train_w[idx]>0)[0]] = 1.0\n",
        "\n",
        "def get_relv_words(docs_keys_idx,preprossed_data_non_zeros,vocab):\n",
        "  relv_words  = []\n",
        "  for d in docs_keys_idx:\n",
        "    relv_words.extend(preprossed_data_non_zeros[d].split(' '))\n",
        "  idx_relv_words = np.asarray(list(set([vocab[r] for r in relv_words])))\n",
        "  return idx_relv_words\n",
        "\n",
        "## Approach 1 - All words only in the docs containing the keyword are relevant  (.)\n",
        "\n",
        "## Approach 2 - All words in the docs containing the keyword are relevant i.e. the same words if appear in other docs are relevant  (X)\n",
        "N_V_relv_doc_cOnkey = torch.zeros(tensor_train_w.size())\n",
        "\n",
        "doc_contains_keyidx = defaultdict(list)\n",
        "for k in keywords:\n",
        "  for doc in preprossed_data_non_zeros:\n",
        "    if k in doc:\n",
        "      dk_idx = preprossed_data_non_zeros.index(doc)\n",
        "      doc_contains_keyidx[k].append(dk_idx)\n",
        "      N_V_relv_doc_cOnkey[dk_idx][torch.where(tensor_train_w[dk_idx]>0)[0]] = 1.0 #  All words only in the docs containing the keyword are relevant\n",
        "\n",
        "\n",
        "# idx_allkeys_relvWord = get_relv_words(doc_contains__anykey_idx,preprossed_data_non_zeros,vocab)\n",
        "# idx_keys_relvWord = {}\n",
        "# for k in keywords:\n",
        "#   idx_keys_relvWord[k] =  get_relv_words(doc_contains_keyidx[k],preprossed_data_non_zeros,vocab)  # docs containing the keyword are relevant i.e. the same words if appear in other docs are relevant"
      ]
    },
    {
      "cell_type": "code",
      "execution_count": null,
      "metadata": {
        "id": "F8zGrIE4E3gP",
        "colab": {
          "base_uri": "https://localhost:8080/"
        },
        "outputId": "b7fdd722-2db2-4251-da98-3d180f430e68"
      },
      "outputs": [
        {
          "output_type": "execute_result",
          "data": {
            "text/plain": [
              "202"
            ]
          },
          "metadata": {},
          "execution_count": 32
        }
      ],
      "source": [
        "gc.collect()"
      ]
    },
    {
      "cell_type": "code",
      "execution_count": null,
      "metadata": {
        "id": "ud9pOcxjLSx6"
      },
      "outputs": [],
      "source": [
        "# import torch\n",
        "\n",
        "# def log_bmm(a,b):\n",
        "#     \"\"\"Performs a batch matrix-matrix product of matrices in log-space.\n",
        "#     Args:\n",
        "#         a: tensor with shape (b, n, m)\n",
        "#         b: tensor with shape (b, m, p)\n",
        "#     Returns:\n",
        "#         tensor with shape (b, n, p)\n",
        "#     \"\"\"\n",
        "#     assert a.ndim == b.ndim == 3\n",
        "#     assert a.size(0) == b.size(0)\n",
        "#     assert a.size(2) == b.size(1)\n",
        "\n",
        "#     bsz, p, m = a.size()\n",
        "#     _, _, n = b.size()\n",
        "#     a1 = a.unsqueeze(2).expand(bsz, p, n, m)\n",
        "#     b1 = b.unsqueeze(1).transpose(2, 3).expand(bsz, p, n, m)\n",
        "#     return torch.logsumexp(a1 + b1, dim=-1)\n",
        "\n",
        "# a = torch.ones(10,5,20) * 5\n",
        "# b = torch.ones(10,7,5) * 3\n",
        "\n",
        "# log_bmm(a,b)"
      ]
    },
    {
      "cell_type": "markdown",
      "metadata": {
        "id": "XwcrBK2pe4Qc"
      },
      "source": [
        "## Cosine Score"
      ]
    },
    {
      "cell_type": "code",
      "execution_count": null,
      "metadata": {
        "id": "LTSIn3KOU9gz"
      },
      "outputs": [],
      "source": [
        "cos_sim = nn.CosineSimilarity(dim=-1, eps=1e-8)\n",
        "torch.pi = torch.acos(torch.zeros(1)).item() * 2\n",
        "# model 5.3\n",
        "sig_exp_dist = 50.0\n",
        "\n",
        "\n",
        "def flatten_list(user_list): return [item for sublist in user_list for item in sublist]\n",
        "def get_embedding_tensor(word_list,embeddings): return torch.tensor([embeddings[w] for w in word_list])\n",
        "\n",
        "\n",
        "def cosine_angular_sim(keyword_torch,words_tensor): return 1 - (torch.acos(cos_sim(keyword_torch,words_tensor))) / torch.pi\n",
        "def cosine_norm_01(keyword_torch,words_tensor): return (cos_sim(keyword_torch,words_tensor) + 1.0)/2.0\n",
        "def cosine_sqrt(keyword_torch,words_tensor): return 1 - ((1 - cos_sim(keyword_torch,words_tensor) )/2)**0.5\n",
        "def euclidean_dist(keyword_torch,words_tensor) : return ((words_tensor-keyword_torch).pow(2).sum(-1))**0.5\n",
        "\n",
        "def edist(x,x1):\n",
        "  dist = torch.pow((x-x1),2).sum(-1)\n",
        "  dist_sim = torch.exp(-dist/0.1)\n",
        "  return dist_sim\n",
        "\n",
        "\n",
        "def inv_new_fn(x,x1):\n",
        "  beta = 3\n",
        "  dist = torch.pow((x-x1),2).sum(-1)\n",
        "  dist_sim = 1.0 / (1.0 + (dist/(1-dist))**(-beta))\n",
        "  return dist_sim\n",
        "\n",
        "def exp_dist_sim_x_x1(x,x1,sig=sig_exp_dist):\n",
        "  # sig = 0.1\n",
        "  dist = torch.pow((x-x1),2).sum(-1)\n",
        "  # dist2 = torch.norm((x-x1),dim=-1)**2\n",
        "  exp_dist_sim = torch.exp(- dist / sig)\n",
        "  return exp_dist_sim\n",
        "\n",
        "def get_dist_val_score(f,keyword_torch,words_tensor):\n",
        "  score = f(keyword_torch,words_tensor)\n",
        "  return score\n",
        "\n",
        "def cosine_keywords(keywords,words_tensor,word_list,similarity_function):\n",
        "  all_keywords_score = []\n",
        "  all_cosine_sim = []\n",
        "  all_dist = []\n",
        "  cosine_score_vocab = {}\n",
        "  keyword_total_score = torch.zeros(words_tensor.shape[0])\n",
        "  for k in keywords:\n",
        "    keyword_torch = torch.from_numpy(embeddings[k])\n",
        "    keyword_torch = keyword_torch.unsqueeze(0).expand(words_tensor.shape[0],words_tensor.shape[1])\n",
        "\n",
        "    cosine_sim_score = cos_sim(keyword_torch,words_tensor)\n",
        "    score = get_dist_val_score(similarity_function,keyword_torch,words_tensor)\n",
        "    # cosine_score = cosine_sqrt(keyword_torch,words_tensor)\n",
        "    # cosine_score = cosine_angular_sim(keyword_torch,words_tensor)\n",
        "    # cosine_score = cosine_norm_01(keyword_torch,words_tensor)\n",
        "\n",
        "    # cosine_score[idx_keys_relvWord[k]] = 1.0\n",
        "    all_keywords_score.append(score)\n",
        "    all_cosine_sim.append(cosine_sim_score)\n",
        "\n",
        "    # dist_sim_val,dist_val = exp_dist_sim_x_x1(words_tensor,keyword_torch,sig_exp_dist)\n",
        "    # dist_sim_val,dist_val = edist(keyword_torch,words_tensor,sig_exp_dist)\n",
        "\n",
        "    # dist_sim_val[idx_keys_relvWord[k]] = 1.0\n",
        "    # all_keywords_score.append(dist_sim_val)\n",
        "    # all_dist.append(dist_val)\n",
        "\n",
        "    keyword_total_score += cosine_sim_score\n",
        "  keywords_max_score,keyword_max_score_idx = torch.max(torch.stack(all_keywords_score),dim=0)\n",
        "  cosine_score_vocab = dict(zip(word_list,keywords_max_score.numpy()))\n",
        "\n",
        "  return all_keywords_score,keyword_total_score/len(keywords),keywords_max_score,cosine_score_vocab,all_cosine_sim"
      ]
    },
    {
      "cell_type": "code",
      "execution_count": null,
      "metadata": {
        "id": "OJbv4cJ-Umax",
        "colab": {
          "base_uri": "https://localhost:8080/"
        },
        "outputId": "3b7f21ab-e975-4f07-e01c-77995bd535b9"
      },
      "outputs": [
        {
          "output_type": "stream",
          "name": "stderr",
          "text": [
            "/usr/local/lib/python3.7/dist-packages/ipykernel_launcher.py:8: UserWarning: Creating a tensor from a list of numpy.ndarrays is extremely slow. Please consider converting the list to a single numpy.ndarray with numpy.array() before converting to a tensor. (Triggered internally at  ../torch/csrc/utils/tensor_new.cpp:201.)\n",
            "  \n"
          ]
        }
      ],
      "source": [
        "sorted_id_word_vocab = sorted(id_vocab.items(), key=lambda x: x[1]) ### alphabetically sorted\n",
        "word_list = [s[1] for s in sorted_id_word_vocab]\n",
        "words_tensor = get_embedding_tensor(word_list,embeddings)\n",
        "\n",
        "# sorted_cosine_words_vocab = sorted(cosine_score_vocab.items(), key=lambda x: x[1]) ### cosine sim score sorted\n",
        "# sorted_cosine_vocab = [s[0] for s in sorted_cosine_words_vocab]\n",
        "\n",
        "embedding_tensor_sorted_alp = get_embedding_tensor(word_list,embeddings)\n",
        "embedding_tensor_keywords = get_embedding_tensor(keywords,embeddings)\n",
        "similarity_function = cosine_sqrt # exp_dist_sim_x_x1 # << your similarity function here\n",
        "all_keywords_score,keywords_mean_score,keywords_max_score,cosine_score_vocab,all_cosine_sim = cosine_keywords(keywords,words_tensor,word_list,similarity_function)\n",
        "\n",
        "\n",
        "idx_where_0 = torch.where(keywords_max_score <= 0.45)[0]\n",
        "cosine_flag_testing = keywords_max_score.clone()\n",
        "cosine_flag_testing[idx_where_0] = 0.0"
      ]
    },
    {
      "cell_type": "code",
      "execution_count": null,
      "metadata": {
        "id": "K9H60nLxZSIE"
      },
      "outputs": [],
      "source": [
        "key_idx = np.array([vocab[k] for k in keywords])\n",
        "\n",
        "def min_max_norm_1(cosine_val):\n",
        "  min_v = torch.min(cosine_val)\n",
        "  # max_v = torch.topk(cosine_val,k=len(keywords)+1).values[-1]\n",
        "  max_v = torch.max(cosine_val)\n",
        "  # max_v=torch.max(cosine_val)\n",
        "  val = (cosine_val - min_v) / ( (max_v - min_v) )\n",
        "  # for i in range(len(key_idx)):\n",
        "  #   val[key_idx[i]] = 1.0\n",
        "  return val"
      ]
    },
    {
      "cell_type": "code",
      "execution_count": null,
      "metadata": {
        "id": "XU-ICYq-MdHd"
      },
      "outputs": [],
      "source": [
        "# val = min_max_norm_1(list_of_tensors_to_tensor(all_cosine_sim),key_idx)\n",
        "# threshold_focus = 0.0\n",
        "\n",
        "# most_sim_key_V_K1 = torch.zeros(num_input,len(keywords))\n",
        "# filter = torch.zeros(num_input)\n",
        "\n",
        "# for i in range(num_input):\n",
        "#   maximum,index = torch.max(val[:,i],-1)\n",
        "#   if(maximum>threshold_focus):\n",
        "#     most_sim_key_V_K1[i][int(index)] = 1.0\n",
        "#     filter[i] = 1"
      ]
    },
    {
      "cell_type": "code",
      "execution_count": null,
      "metadata": {
        "id": "YnJw-hrJ0sQk",
        "cellView": "form"
      },
      "outputs": [],
      "source": [
        "####@title Threshold focus (quantile)\n",
        "threshold_focus_quantile = 0.5 #@param {type:\"slider\", min:0.1, max:1.0, step:0.05}\n",
        "\n",
        "# val = min_max_norm_1(list_of_tensors_to_tensor(all_cosine_sim))\n",
        "# val = (list_of_tensors_to_tensor(all_cosine_sim))\n",
        "val = (list_of_tensors_to_tensor(all_keywords_score))\n",
        "a = val\n",
        "q = torch.tensor([threshold_focus_quantile])#0.25, 0.5, 0.75])\n",
        "q_v = torch.quantile(a, q, dim=1, keepdim=True)[0]\n",
        "\n",
        "most_sim_key_V_K1 = torch.zeros(num_input,len(keywords)+1)\n",
        "# most_sim_key_V_K1 = torch.zeros(num_input,len(keywords))\n",
        "filter = torch.zeros(num_input)\n",
        "\n",
        "for i in range(num_input):\n",
        "  maximum,index = torch.max(val[:,i],-1)\n",
        "  # minimum,index = torch.min(val[:,i],-1)\n",
        "  #q_v[index][0] = 0.1\n",
        "  if(maximum>q_v[index][0]):\n",
        "  # if(minimum<q_v[index][0]):\n",
        "\n",
        "    most_sim_key_V_K1[i][int(index)] = 1.0\n",
        "    filter[i] = 1\n",
        "  else:\n",
        "    most_sim_key_V_K1[i][len(keywords)] = 1.0\n",
        "    filter[i] = 1"
      ]
    },
    {
      "cell_type": "code",
      "source": [
        "# word_list[vocab['apple']]"
      ],
      "metadata": {
        "id": "tHFCZgB9oVtG"
      },
      "execution_count": null,
      "outputs": []
    },
    {
      "cell_type": "code",
      "source": [
        "k=232\n",
        "keywords_and_dummy = keywords+['dummy']\n",
        "idx_list = []\n",
        "all_w= []\n",
        "doc_words = data_preprocessed[k].split(' ')\n",
        "for d in doc_words:\n",
        "  if d in word_list:\n",
        "    all_w.append(d)\n",
        "    idx_list.append(torch.where(most_sim_key_V_K1[vocab[d]]==1)[0].item())\n",
        "  else: pass\n",
        "idx_list\n",
        "#   if d in word_list:\n",
        "#     idx_list.append(word_list.index(d))\n",
        "# idx_ar = np.asarray(idx_list)\n",
        "# vals , idxs = torch.where(most_sim_key_V_K1[idx_ar]==1)\n",
        "# vals = vals.numpy()\n",
        "# idxs = idxs.numpy()\n",
        "\n",
        "\n",
        "# for i in range(len(all_w)):\n",
        "#     print(all_w[i],\" : \",keywords_and_dummy[idx_list[i]])\n",
        "plt.hist(idx_list)"
      ],
      "metadata": {
        "id": "5SdQh1kuoFwT",
        "colab": {
          "base_uri": "https://localhost:8080/"
        },
        "outputId": "08f0b4dd-2f72-4995-ede4-00aa7bb05305"
      },
      "execution_count": null,
      "outputs": [
        {
          "output_type": "execute_result",
          "data": {
            "text/plain": [
              "(array([ 3.,  0.,  0.,  0.,  0.,  2.,  0.,  0.,  0., 11.]),\n",
              " array([0. , 0.2, 0.4, 0.6, 0.8, 1. , 1.2, 1.4, 1.6, 1.8, 2. ]),\n",
              " <a list of 10 Patch objects>)"
            ]
          },
          "metadata": {},
          "execution_count": 40
        },
        {
          "output_type": "display_data",
          "data": {
            "image/png": "[encoded data removed]",
            "text/plain": [
              "<Figure size 432x288 with 1 Axes>"
            ]
          },
          "metadata": {
            "needs_background": "light"
          }
        }
      ]
    },
    {
      "cell_type": "code",
      "source": [
        "# STOP!!"
      ],
      "metadata": {
        "id": "qITmwlnfqwZP"
      },
      "execution_count": null,
      "outputs": []
    },
    {
      "cell_type": "code",
      "execution_count": null,
      "metadata": {
        "id": "Oc4f_nio7ehr"
      },
      "outputs": [],
      "source": [
        "# plt.hist(val[0])\n",
        "# torch.median(val[0])"
      ]
    },
    {
      "cell_type": "code",
      "execution_count": null,
      "metadata": {
        "id": "fez8YcMBpVug"
      },
      "outputs": [],
      "source": [
        "# N_K_for_docs = []\n",
        "# for doc in preprossed_data_non_zeros:\n",
        "#   key_in_doc = []\n",
        "#   for k in keywords:\n",
        "#     if k in doc:\n",
        "#       key_in_doc.append(1)\n",
        "#     else:\n",
        "#       key_in_doc.append(0)\n",
        "#   key_in_doc.append(0) # comment this for N_K_V_key_doc_bernoulli\n",
        "#   N_K_for_docs.append(key_in_doc)\n",
        "# N_K_for_docs_t = torch.tensor(np.asarray(N_K_for_docs))\n",
        "# #\n",
        "# # size = (len(preprossed_data_non_zeros) , len(get_keywords(d_data)), num_input)\n",
        "# # all_key_score_t = list_of_tensors_to_tensor(all_keywords_score)\n",
        "# # N_K_for_docs_t_expanded = N_K_for_docs_t.unsqueeze(-1).expand(size)\n",
        "# # N_K_V_key_doc_bernoulli =  all_key_score_t ** N_K_for_docs_t_expanded\n",
        "\n",
        "# # for i in range(len(N_K_V_key_doc_bernoulli)):\n",
        "# #   for j in range(len(keywords)):\n",
        "# #     N_K_V_key_doc_bernoulli[i][j][torch.where(tensor_train_w[i]==0)[0]] = 0.0"
      ]
    },
    {
      "cell_type": "code",
      "execution_count": null,
      "metadata": {
        "id": "D6eYOXrISG_Q"
      },
      "outputs": [],
      "source": [
        "# print('median : ',np.median(keywords_max_score))\n",
        "# print('\\n\\nCosine score (words closest to keywords)\\n')\n",
        "# plt.hist(all_keywords_score[0])"
      ]
    },
    {
      "cell_type": "markdown",
      "metadata": {
        "id": "JtRrwY7L-oRL"
      },
      "source": [
        "# **FoTo**"
      ]
    },
    {
      "cell_type": "code",
      "execution_count": null,
      "metadata": {
        "id": "Av5mpUP5nWVZ"
      },
      "outputs": [],
      "source": [
        "##@title torch functions\n",
        "\n",
        "#####################\n",
        "\n",
        "### distance between topic and keyword embeddings\n",
        "\n",
        "  # # size_emb_topic_key = (self.num_topic,self.keywords_w_dummy_shape,self.word_emb_size)\n",
        "  # # t_emb = self.mu_z.view(self.num_topic, 1 , self.word_emb_size).expand(size_emb_topic_key)\n",
        "  # # k_emb = self.dummy_and_key_emb.view(1, self.keywords_w_dummy_shape , self.word_emb_size).expand(size_emb_topic_key)\n",
        "\n",
        "  # # k_emb = self.embeddings_keys.view(1, self.keywords_w_dummy_shape , self.word_emb_size).expand(size_emb_topic_key)\n",
        "\n",
        "  # # dist_emb_topic_key = (t_emb-k_emb).pow(2).sum(-1)\n",
        "  # # self.dist_emb_topic_key = dist_emb_topic_key\n",
        "\n",
        "###################\n",
        "\n",
        "\n",
        "def min_max_normalization(ip):\n",
        "  vmax,_ = torch.max(ip,-1)\n",
        "  vmin,_ = torch.min(ip,-1)\n",
        "  vmax = vmax.unsqueeze(-1).expand(ip.shape[0],ip.shape[1])\n",
        "  vmin= vmin.unsqueeze(-1).expand(ip.shape[0],ip.shape[1])\n",
        "  ip = (ip - vmin) / (vmax-vmin+smoothen)\n",
        "  return ip\n",
        "\n",
        "def cosine_sqrt_param(keyword_torch,words_tensor,pow):\n",
        "  return 1 - ((1 - cos_sim(keyword_torch,words_tensor) )/2)**pow\n",
        "\n",
        "def euclidean_dist_sim(keyword_torch,words_tensor,pow):\n",
        "  dist = ((words_tensor-keyword_torch).pow(2).sum(-1))**pow\n",
        "  return 1.0/(1.0 + dist)\n",
        "  # return torch.exp(-dist/100.0)\n",
        "\n",
        "def get_cosine_score(k,w,pow):\n",
        "  cos_sim = nn.CosineSimilarity(dim=-1, eps=1e-8)\n",
        "  similarity_function = cosine_sqrt_param\n",
        "  k = k.unsqueeze(1).expand(k.shape[0],w.shape[0],k.shape[1])\n",
        "  w = w.unsqueeze(0).expand(k.shape[0],w.shape[0],w.shape[1])\n",
        "  # return cos_sim(k,w,pow)\n",
        "  return similarity_function(k,w,pow)\n",
        "\n",
        "def get_unit_len_embeddings(my_tensor):\n",
        "  return my_tensor/(torch.norm(my_tensor,dim=-1).unsqueeze(1))\n",
        "\n",
        "key_idx = np.array([vocab[k] for k in keywords])\n",
        "\n",
        "def torch_min_topk_max_sim(cosine_val,key_idx,shape):\n",
        " min_v = torch.min(cosine_val,-1).values\n",
        " max_v = torch.topk(cosine_val,k=2).values[:,1]\n",
        " shape1 = cosine_val.shape[1]\n",
        " min_v_expanded = min_v.view(shape,1).expand(shape,shape1)\n",
        " max_v_expanded = max_v.view(shape,1).expand(shape,shape1)\n",
        " val = (cosine_val - min_v_expanded) / ( (max_v_expanded - min_v_expanded) )\n",
        "\n",
        " for i in range(len(key_idx)):\n",
        "   val[i][key_idx[i]] = 1.0\n",
        " return val\n",
        "\n",
        "def log_bmm(a,b):\n",
        "    \"\"\"Performs a batch matrix-matrix product of matrices in log-space.\n",
        "    Args:\n",
        "        a: tensor with shape (b, n, m)\n",
        "        b: tensor with shape (b, m , p)\n",
        "    Returns:\n",
        "        tensor with shape (b, n, p)\n",
        "    \"\"\"\n",
        "\n",
        "\n",
        "    # a = torch.ones(12,10) * 5\n",
        "    # b = torch.ones(10,4) * 5\n",
        "    # log_bmm(a.unsqueeze(0).log(),b.unsqueeze(0).log()).squeeze(0), torch.mm(a,b).log()\n",
        "    # example ^^\n",
        "\n",
        "    assert a.ndim == b.ndim == 3\n",
        "    assert a.size(0) == b.size(0)\n",
        "    assert a.size(2) == b.size(1)\n",
        "\n",
        "    bsz, p, m = a.size()\n",
        "    _, _, n = b.size()\n",
        "    a1 = a.unsqueeze(2).expand(bsz, p, n, m)\n",
        "    b1 = b.unsqueeze(1).transpose(2, 3).expand(bsz, p, n, m)\n",
        "    return torch.logsumexp(a1 + b1, dim=-1)\n",
        "\n",
        "def toT(a): return torch.tensor(a)\n",
        "\n",
        "def gaussian_dist(x,mu,variance):\n",
        "  pi = 3.1415927410125732\n",
        "  smoothen = 1e-8\n",
        "  x_expand = x.unsqueeze(1).expand(x.shape[0],mu.shape[0],x.shape[1])\n",
        "  #exp_term = torch.exp( -0.5 * torch.sum(((x_expand-mu)/variance)**2,dim=-1) )\n",
        "  exp_term = ( -0.5 * torch.sum(((x_expand-mu)/variance)**2,dim=-1) )\n",
        "  var_term = torch.log(toT(1.0 / (variance * ((2*pi)**0.5))))\n",
        "  ret = var_term + exp_term\n",
        "  return ret"
      ]
    },
    {
      "cell_type": "code",
      "source": [
        "gc.collect()\n",
        "torch.cuda.empty_cache()\n",
        "get_gpu_memory_map()"
      ],
      "metadata": {
        "id": "MShSQ2IqasIL",
        "colab": {
          "base_uri": "https://localhost:8080/"
        },
        "outputId": "2ec03199-6c50-441b-b542-5b6034f848fa"
      },
      "execution_count": null,
      "outputs": [
        {
          "output_type": "execute_result",
          "data": {
            "text/plain": [
              "array([2])"
            ]
          },
          "metadata": {},
          "execution_count": 46
        }
      ]
    },
    {
      "cell_type": "code",
      "source": [
        "# heatmap visualization\n",
        "# test which beta works best\n",
        "# set of query (top and bottom half)\n",
        "# use full vocab?? (use top 70%)\n",
        "# run TTM"
      ],
      "metadata": {
        "id": "D_BhOAUMtlqI"
      },
      "execution_count": null,
      "outputs": []
    },
    {
      "cell_type": "code",
      "execution_count": null,
      "metadata": {
        "id": "yuJjrDMmK9CX"
      },
      "outputs": [],
      "source": [
        "##@title Model 5.5.7 (key-dep theta softmax | min max norm | Dummy )\n",
        "\n",
        "num_topic = 15\n",
        "bs = 256 # for searchsnippet short all docs all vocab\n",
        " ## WOS : for short 8192 for full 5120\n",
        "# bs = 4096 ## WOS NMSU Server full 4096\n",
        "drop_rate = 0.2\n",
        "epochs = 1000\n",
        "mu_div=300.0\n",
        "\n",
        "sig=100.0\n",
        "sig_gauss = 0.1\n",
        "sig_ring = 0.1\n",
        "\n",
        "is_KLD = True\n",
        "\n",
        "smoothen=1e-30\n",
        "# smoothen=1e-8\n",
        "\n",
        "num_coordinate = 2\n",
        "en1_units_x = 100\n",
        "en2_units_x = 100\n",
        "variance_x = 1.0\n",
        "learning_rate = 0.001\n",
        "beta1 = 0.99\n",
        "beta2 = 0.999\n",
        "\n",
        "gc.collect()\n",
        "torch.cuda.empty_cache()\n",
        "\n",
        "#phi\n",
        "def gaussian(alpha): return -0.5*alpha\n",
        "def inverse_quadratic(alpha): return -torch.log(torch.ones_like(alpha) + alpha)\n",
        "\n",
        "class Model(nn.Module):\n",
        "    def __init__(self, num_input, en1_units_x, en2_units_x, num_coordinate, num_topic, drop_rate, variance_x, bs,\n",
        "                 embedding_words,embedding_keywords, word_emb_size,num_keyword, distance=\"gaussian\"):\n",
        "\n",
        "        super(Model, self).__init__()\n",
        "\n",
        "        self.num_input, self.num_coordinate, self.num_topic, self.variance_x, self.bs ,self.word_emb_size, self.num_keyword \\\n",
        "            = num_input, num_coordinate, num_topic, variance_x, bs,word_emb_size,num_keyword\n",
        "\n",
        "        self.embedding_words = embedding_words\n",
        "        self.embeddings_keys = embedding_keywords\n",
        "\n",
        "        # encoder\n",
        "        self.en1_fc     = nn.Linear(num_input, en1_units_x)\n",
        "        self.en2_fc     = nn.Linear(en1_units_x, en2_units_x)\n",
        "        self.en2_drop   = nn.Dropout(drop_rate)\n",
        "        self.mean_fc    = nn.Linear(en2_units_x, num_coordinate)\n",
        "        self.mean_bn    = nn.BatchNorm1d(num_coordinate)\n",
        "        self.logvar_fc  = nn.Linear(en2_units_x, num_coordinate)\n",
        "        self.logvar_bn  = nn.BatchNorm1d(num_coordinate)\n",
        "\n",
        "        # mapping network for topic embeddings\n",
        "        self.mu1_fc     = nn.Linear(2, 100)\n",
        "        self.mu2_fc     = nn.Linear(100, 100)\n",
        "        self.mu_fc = nn.Linear(100, 300)\n",
        "        self.mu_z = 0\n",
        "        self.en2_drop_mu_z   = nn.Dropout(drop_rate)\n",
        "\n",
        "        # mapping network for keyword coordinates\n",
        "        self.k1_fc     = nn.Linear(300, 100)\n",
        "        self.k2_fc     = nn.Linear(100, 100)\n",
        "        self.k_fc = nn.Linear(100, 2)\n",
        "        self.keyword_coords = 0\n",
        "        self.en2_drop_keyw   = nn.Dropout(drop_rate)\n",
        "\n",
        "        # Model paramters\n",
        "        self.in_features = self.num_coordinate\n",
        "        self.out_features = self.num_topic\n",
        "        self.topics = nn.Parameter(torch.Tensor(self.out_features, self.in_features))\n",
        "        self.keywords_w_dummy_shape = self.num_keyword+1\n",
        "\n",
        "        # self.mu_z = nn.Parameter(torch.Tensor(self.num_topic, self.word_emb_size))\n",
        "        # self.keyword_coords = nn.Parameter(torch.Tensor(self.keywords_w_dummy_shape, self.in_features)) # K+1 x 2\n",
        "\n",
        "        self.query_center = nn.Parameter(torch.zeros(2,1))\n",
        "        self.dummy_keyword = nn.Parameter(torch.Tensor(1,self.word_emb_size))# 1 x 300\n",
        "        self.beta_bias = nn.Parameter(torch.Tensor(self.out_features,self.num_input))\n",
        "        self.beta_k_bias = nn.Parameter(torch.Tensor(self.out_features,self.keywords_w_dummy_shape))\n",
        "\n",
        "        if distance==\"gaussian\": self.basis_func = gaussian\n",
        "        if distance==\"inverse_quadratic\": self.basis_func = inverse_quadratic\n",
        "        if distance==\"inverse_multi_quadric\": self.basis_func = inverse_multi_quadric\n",
        "        self.init_parameters()\n",
        "\n",
        "        # decoder batch normalization layers\n",
        "\n",
        "        self.decoder_phi_bn = nn.BatchNorm1d(num_coordinate)\n",
        "        self.decoder_x_bn = nn.BatchNorm1d(num_coordinate)\n",
        "        self.decoder_k_bn = nn.BatchNorm1d(num_coordinate)\n",
        "        self.decoder_bn = nn.BatchNorm1d(self.num_topic)\n",
        "        self.decoder_bn_key = nn.BatchNorm1d(self.keywords_w_dummy_shape)\n",
        "\n",
        "        # prior mean and variance as constant buffers\n",
        "        prior_mean   = torch.Tensor(1, num_coordinate).fill_(0)\n",
        "        prior_var    = torch.Tensor(1, num_coordinate).fill_(variance_x)\n",
        "        self.prior_mean = nn.Parameter(prior_mean, requires_grad=False)\n",
        "        self.prior_var  = nn.Parameter(prior_var, requires_grad=False)\n",
        "        self.prior_logvar = nn.Parameter(prior_var.log(), requires_grad=False)\n",
        "\n",
        "    def init_parameters(self):\n",
        "        nn.init.normal_(self.topics, 0, 0.01)\n",
        "        # nn.init.normal_(self.mu_z, 0, 0.01)\n",
        "        # nn.init.normal_(self.keyword_coords,0,0.01)\n",
        "        nn.init.normal_(self.beta_bias, 0, 0.01)\n",
        "        nn.init.normal_(self.beta_k_bias, 0, 0.01)\n",
        "        nn.init.normal_(self.dummy_keyword, 0, 0.01)\n",
        "\n",
        "    def get_beta(self):\n",
        "        return self.beta\n",
        "\n",
        "    def encode(self, input_):\n",
        "        N, *_ = input_.size()\n",
        "        en1 = F.relu(self.en1_fc(input_))                    # en1_fc   output\n",
        "        en2 = F.relu(self.en2_fc(en1))                       # encoder2 output\n",
        "        en2 = self.en2_drop(en2)\n",
        "        posterior_mean   = self.mean_bn  (self.mean_fc  (en2))   # posterior mean\n",
        "        posterior_logvar = self.logvar_bn(self.logvar_fc(en2))   # posterior log variance\n",
        "        posterior_var    = posterior_logvar.exp()\n",
        "        return en2, posterior_mean, posterior_logvar, posterior_var\n",
        "\n",
        "    def take_sample(self, input_, posterior_mean, posterior_var, prior_var):\n",
        "        eps = input_.data.new().resize_as_(posterior_mean.data).normal_(std=1) # noise\n",
        "        z = posterior_mean + posterior_var.sqrt() * eps           # reparameterization\n",
        "        return z\n",
        "\n",
        "    def get_key_dep_theta(self):\n",
        "\n",
        "      N, *_ = self.z.size()\n",
        "\n",
        "      zx = self.decoder_x_bn(self.z).view(N, 1, self.num_coordinate) # Nx1xX\n",
        "      # zx = self.z.view(N, 1, self.num_coordinate)\n",
        "\n",
        "      zc = self.decoder_phi_bn(self.topics)\n",
        "      # zc = self.topics\n",
        "\n",
        "      # cos_sc = get_cosine_score(k=self.dummy_keyword,w=self.embedding_words,pow=0.5)\n",
        "      # max_idx = torch.argmax(cos_sc)\n",
        "      # self.key_and_dummy_emb = torch.cat((self.embeddings_keys,self.embedding_words[max_idx].unsqueeze(0)),0)\n",
        "\n",
        "      self.key_and_dummy_emb = torch.cat((self.embeddings_keys,self.dummy_keyword),0) # self.embeddings_keys\n",
        "\n",
        "      k1 = F.relu((self.k1_fc(self.key_and_dummy_emb)))                           # keyword mapping\n",
        "      k2 = F.relu((self.k2_fc(k1)))\n",
        "      self.keyword_coords = self.k_fc(k2)\n",
        "\n",
        "      k = self.decoder_k_bn(self.keyword_coords)\n",
        "      # k = self.decoder_phi_bn(self.keyword_coords)\n",
        "      # k = self.keyword_coords\n",
        "\n",
        "      doc_topic_size = (N, self.out_features, self.in_features) # NxTx2\n",
        "      topic_key_size = (self.num_topic, self.keywords_w_dummy_shape, self.in_features) # TxK+1x2\n",
        "      doc_key_size = (N,self.keywords_w_dummy_shape,self.in_features) # NxK+1x2\n",
        "\n",
        "      x = zx.expand(doc_topic_size)\n",
        "      c = zc.view(1, self.num_topic, self.num_coordinate).expand(doc_topic_size)\n",
        "\n",
        "      c_key = zc.view(self.num_topic,1, self.num_coordinate).expand(topic_key_size) # TxK+1x2\n",
        "      k_topic = k.view(1, self.keywords_w_dummy_shape, self.num_coordinate).expand(topic_key_size) #TxK+1x2\n",
        "\n",
        "      x_key = zx.expand(doc_key_size)\n",
        "      k_doc = k.view(1, self.keywords_w_dummy_shape, self.num_coordinate).expand(doc_key_size)\n",
        "\n",
        "      d_doc_topic = (x-c).pow(2).sum(-1)\n",
        "      d_key_topic = (c_key-k_topic).pow(2).sum(-1)\n",
        "      d_doc_key  = (x_key - k_doc).pow(2).sum(-1)\n",
        "\n",
        "      distances_doc_topic = self.basis_func(d_doc_topic)\n",
        "      distances_key_topic = self.basis_func(d_key_topic)\n",
        "      distance_doc_key = self.basis_func(d_doc_key)\n",
        "\n",
        "      self.dist_doc_key = d_doc_key\n",
        "      self.dist_key_topic = d_key_topic\n",
        "      self.dist_doc_key_basis_func = distance_doc_key\n",
        "\n",
        "      doc_key_softmax = torch.exp(distance_doc_key - torch.logsumexp(distance_doc_key, dim=-1, keepdim=True)) # NxK\n",
        "      self.topic_key_softmax = torch.exp(distances_key_topic - torch.logsumexp(distances_key_topic, dim=-1, keepdim=True)) # TxK\n",
        "\n",
        "      add_size = (N,self.num_topic,self.keywords_w_dummy_shape)\n",
        "      distances_doc_topic_expanded = distances_doc_topic.unsqueeze(-1).expand(add_size)\n",
        "      distances_key_topic_expanded = distances_key_topic.unsqueeze(0).expand(add_size)\n",
        "\n",
        "      key_dep_theta = torch.exp( (distances_doc_topic_expanded + distances_key_topic_expanded) - torch.logsumexp((distances_doc_topic_expanded + distances_key_topic_expanded), dim=1, keepdim=True))\n",
        "      key_dep_theta_NT = torch.matmul(key_dep_theta,doc_key_softmax.unsqueeze(-1)).squeeze(-1) # NxTx(K+1) x  Nx(K+1)x1 --> (take sum across k) NxTx1 --> squeeze\n",
        "\n",
        "      return key_dep_theta_NT , zx, d_doc_topic, c, zc, distances_doc_topic,distances_key_topic, N,doc_key_softmax\n",
        "\n",
        "\n",
        "    def decode(self):\n",
        "      key_dep_theta, zx, d, c, zc, distances, distances_k_c, N, doc_key_softmax = self.get_key_dep_theta()\n",
        "\n",
        "      mu1 = F.relu((self.mu1_fc(zc)))  # topic mapping (F.relu, F.softplus)\n",
        "      mu2 = F.relu((self.mu2_fc(mu1))) # self.en2_drop()\n",
        "      self.mu_z = self.mu_fc(mu2)\n",
        "\n",
        "\n",
        "\n",
        "      # ## 13 Jan\n",
        "      # cos_score = torch.max((get_cosine_score(k=self.key_and_dummy_emb,w=self.embedding_words,pow=0.5)),0).values\n",
        "\n",
        "\n",
        "      # # 18 jan\n",
        "      # cos_only_keys = get_cosine_score(k=self.key_and_dummy_emb,w=self.embedding_words,pow=0.5)#[0:num_keyword,:]\n",
        "      # # cos_score =  torch.max(cos_only_keys,0).values\n",
        "      # cos_score = torch.max(self.norm_cos_score,0).values\n",
        "\n",
        "      # last tried 26th Jan\n",
        "      cos_only_keys = get_cosine_score(k=self.key_and_dummy_emb,w=self.embedding_words,pow=0.5)[0:num_keyword,:]\n",
        "      cos_score =  torch.max(cos_only_keys,0).values\n",
        "\n",
        "      self.beta = F.softmax( torch.mm(self.mu_z, self.embedding_words.T) * cos_score,dim=-1) # Cosine Ranked Beta (short beta)\n",
        "\n",
        "      # cos_score = torch.max((get_cosine_score(k=self.key_and_dummy_emb,w=self.embedding_words,pow=0.5)),0).values # take min_max_norm_1? (NO just take normalized cosine)\n",
        "      # self.cos_score = get_cosine_score(k=self.key_and_dummy_emb,w=self.embedding_words,pow=0.5)\n",
        "\n",
        "      # self.beta = F.softmax(self.decoder_bn(torch.mm(self.mu_z, self.embedding_words.T).T).T * cos_score\n",
        "      #                       + self.beta_bias,dim=-1)\n",
        "\n",
        "      # self.beta = F.softmax(self.decoder_bn(torch.mm(self.mu_z, self.embedding_words.T).T).T * cos_score,dim=-1)\n",
        "      # self.beta = F.softmax(torch.mm(self.mu_z, self.embedding_words.T) * cos_score + self.beta_bias,dim=-1) # Cosine Ranked Beta + beta_bias\n",
        "\n",
        "\n",
        "\n",
        "      ## more focused bad visualization ( # Tx300 * Kx300 --> TxK --> TxK * KxV )\n",
        "      # topic_key_pdist = torch.mm(self.mu_z, self.key_and_dummy_emb.T)\n",
        "      # self.beta = F.softmax(self.decoder_bn(torch.mm(topic_key_pdist,self.cos_score).T).T,dim=-1) # Cosine Ranked Beta (long text)\n",
        "\n",
        "\n",
        "      # self.beta = F.softmax((torch.mm(self.mu_z, self.embedding_words.T).T).T,dim=-1) # WTM Beta\n",
        "      recon_v_relv = torch.mm(key_dep_theta,self.beta)\n",
        "\n",
        "      return recon_v_relv, zx, key_dep_theta, doc_key_softmax\n",
        "\n",
        "    def forward(self, input_,most_sim_key, word_filter,norm_cos_score, compute_loss=False):\n",
        "        en2, posterior_mean, posterior_logvar, posterior_var = self.encode(input_)\n",
        "        z = self.take_sample(input_, posterior_mean, posterior_var, self.variance_x)\n",
        "\n",
        "        self.z = z\n",
        "        self.most_sim_key = most_sim_key\n",
        "        self.word_filter = word_filter\n",
        "        self.norm_cos_score = norm_cos_score\n",
        "\n",
        "        recon_v_relv, zx, key_dep_theta, doc_key_softmax = self.decode()\n",
        "\n",
        "        if compute_loss:\n",
        "            return recon_v_relv,zx, self.loss(input_, recon_v_relv, most_sim_key, doc_key_softmax,key_dep_theta, posterior_mean, posterior_logvar, posterior_var,zx)\n",
        "        else: return z, recon_v_relv, zx, key_dep_theta,doc_key_softmax\n",
        "\n",
        "    def KLD(self, posterior_mean,posterior_logvar,posterior_var):\n",
        "        N = posterior_mean.shape[0]\n",
        "        prior_mean   = self.prior_mean.expand_as(posterior_mean)\n",
        "        prior_var    = self.prior_var.expand_as(posterior_mean)\n",
        "        prior_logvar = self.prior_logvar.expand_as(posterior_mean)\n",
        "\n",
        "        var_division    = posterior_var  / prior_var\n",
        "        diff            = posterior_mean - prior_mean\n",
        "        diff_term       = diff * diff / prior_var\n",
        "        logvar_division = prior_logvar - posterior_logvar\n",
        "\n",
        "        xKLD = 0.5 * ((var_division + diff_term + logvar_division).sum(-1) - self.num_coordinate)\n",
        "        return xKLD\n",
        "\n",
        "    def loss(self, input_, recon_v_relv, most_sim_key, doc_key_softmax,key_dep_theta, posterior_mean, posterior_logvar, posterior_var, zx, avg=True):\n",
        "        N = posterior_mean.shape[0]\n",
        "\n",
        "        # filter = self.word_filter.unsqueeze(0).expand(N,self.num_input)\n",
        "        p_label = torch.mm(doc_key_softmax,most_sim_key.T) # N x V\n",
        "\n",
        "        NL1 = - ((input_ * (recon_v_relv+smoothen).log())).sum(-1)\n",
        "        NL2 = - ((input_ * (p_label+smoothen).log())).sum(-1)\n",
        "\n",
        "        NL1 = NL1.sum()\n",
        "        NL2 = NL2.sum()\n",
        "        # NL2 = toT(0.0)\n",
        "        NL = NL1 + NL2\n",
        "        KLD = self.KLD(posterior_mean,posterior_logvar,posterior_var).sum()\n",
        "        loss = NL + KLD\n",
        "        return loss/N, NL,NL1,NL2, KLD"
      ]
    },
    {
      "cell_type": "markdown",
      "metadata": {
        "id": "t5sz_euGLjAV"
      },
      "source": [
        "#**Train Model**"
      ]
    },
    {
      "cell_type": "code",
      "execution_count": null,
      "metadata": {
        "id": "Xiv54gv6-sqB",
        "colab": {
          "base_uri": "https://localhost:8080/"
        },
        "outputId": "add684ee-62f0-4770-e536-4f2928b3e56b"
      },
      "outputs": [
        {
          "output_type": "stream",
          "name": "stdout",
          "text": [
            "Epoch -> 0 , loss -> 1213.8534240722656\n",
            "recon_loss==> 296410.798828125 || NL1==> 250786.787109375 || NL2==> 45624.01513671875 || KLD==> 3328.7382049560547\n",
            "Epoch -> 10 , loss -> 1127.5115814208984\n",
            "recon_loss==> 275682.263671875 || NL1==> 235911.8359375 || NL2==> 39770.426025390625 || KLD==> 2522.6986694335938\n",
            "Epoch -> 20 , loss -> 1115.0398025512695\n",
            "recon_loss==> 272764.55859375 || NL1==> 233261.765625 || NL2==> 39502.793701171875 || KLD==> 2359.3246154785156\n",
            "Epoch -> 30 , loss -> 1108.7653121948242\n",
            "recon_loss==> 271029.859375 || NL1==> 231823.193359375 || NL2==> 39206.66552734375 || KLD==> 2565.044708251953\n",
            "Epoch -> 40 , loss -> 1103.6714782714844\n",
            "recon_loss==> 269440.630859375 || NL1==> 230463.955078125 || NL2==> 38976.67724609375 || KLD==> 2870.4327697753906\n",
            "Epoch -> 50 , loss -> 1100.4603652954102\n",
            "recon_loss==> 268382.0859375 || NL1==> 229488.76953125 || NL2==> 38893.31689453125 || KLD==> 3158.418197631836\n",
            "Epoch -> 60 , loss -> 1096.597396850586\n",
            "recon_loss==> 267164.212890625 || NL1==> 228625.994140625 || NL2==> 38538.21826171875 || KLD==> 3404.4833984375\n",
            "Epoch -> 70 , loss -> 1093.5178985595703\n",
            "recon_loss==> 266259.677734375 || NL1==> 227667.392578125 || NL2==> 38592.287109375 || KLD==> 3577.4396057128906\n",
            "Epoch -> 80 , loss -> 1089.5454940795898\n",
            "recon_loss==> 265119.08203125 || NL1==> 226471.138671875 || NL2==> 38647.9423828125 || KLD==> 3711.555389404297\n",
            "Epoch -> 90 , loss -> 1086.9711456298828\n",
            "recon_loss==> 264399.80859375 || NL1==> 225941.830078125 || NL2==> 38457.97607421875 || KLD==> 3815.2655639648438\n",
            "Epoch -> 100 , loss -> 1084.4616928100586\n",
            "recon_loss==> 263691.1796875 || NL1==> 225019.01171875 || NL2==> 38672.166015625 || KLD==> 3925.605438232422\n",
            "Epoch -> 110 , loss -> 1081.3477478027344\n",
            "recon_loss==> 262792.328125 || NL1==> 224200.30078125 || NL2==> 38592.02685546875 || KLD==> 4049.073028564453\n",
            "Epoch -> 120 , loss -> 1078.942253112793\n",
            "recon_loss==> 262059.396484375 || NL1==> 223503.7109375 || NL2==> 38555.68701171875 || KLD==> 4178.210266113281\n",
            "Epoch -> 130 , loss -> 1077.2035217285156\n",
            "recon_loss==> 261524.53125 || NL1==> 222900.3671875 || NL2==> 38624.162109375 || KLD==> 4293.691345214844\n",
            "Epoch -> 140 , loss -> 1075.0059967041016\n",
            "recon_loss==> 260873.923828125 || NL1==> 222349.111328125 || NL2==> 38524.810546875 || KLD==> 4397.022521972656\n",
            "Epoch -> 150 , loss -> 1073.1068725585938\n",
            "recon_loss==> 260319.84375 || NL1==> 221795.37109375 || NL2==> 38524.472412109375 || KLD==> 4481.8265380859375\n",
            "Epoch -> 160 , loss -> 1071.9144668579102\n",
            "recon_loss==> 259931.501953125 || NL1==> 221468.091796875 || NL2==> 38463.41259765625 || KLD==> 4576.5426025390625\n",
            "Epoch -> 170 , loss -> 1069.0435943603516\n",
            "recon_loss==> 259127.671875 || NL1==> 220652.15234375 || NL2==> 38475.52001953125 || KLD==> 4696.810729980469\n",
            "Epoch -> 180 , loss -> 1067.4808502197266\n",
            "recon_loss==> 258641.373046875 || NL1==> 220053.69140625 || NL2==> 38587.67919921875 || KLD==> 4807.283905029297\n",
            "Epoch -> 190 , loss -> 1065.0616989135742\n",
            "recon_loss==> 257954.046875 || NL1==> 219540.3046875 || NL2==> 38413.742431640625 || KLD==> 4904.0704345703125\n",
            "Epoch -> 200 , loss -> 1062.8419342041016\n",
            "recon_loss==> 257301.345703125 || NL1==> 218938.650390625 || NL2==> 38362.695556640625 || KLD==> 5015.6165771484375\n",
            "Epoch -> 210 , loss -> 1061.5919799804688\n",
            "recon_loss==> 256854.2578125 || NL1==> 218426.546875 || NL2==> 38427.709228515625 || KLD==> 5130.183502197266\n",
            "Epoch -> 220 , loss -> 1060.960807800293\n",
            "recon_loss==> 256626.732421875 || NL1==> 218199.451171875 || NL2==> 38427.283203125 || KLD==> 5223.530944824219\n",
            "Epoch -> 230 , loss -> 1059.3903274536133\n",
            "recon_loss==> 256090.40234375 || NL1==> 217731.0 || NL2==> 38359.40283203125 || KLD==> 5337.379486083984\n",
            "Epoch -> 240 , loss -> 1057.5234985351562\n",
            "recon_loss==> 255567.73828125 || NL1==> 217160.826171875 || NL2==> 38406.9091796875 || KLD==> 5442.782897949219\n",
            "Epoch -> 250 , loss -> 1056.7367858886719\n",
            "recon_loss==> 255278.490234375 || NL1==> 216938.876953125 || NL2==> 38339.611572265625 || KLD==> 5515.854736328125\n",
            "Epoch -> 260 , loss -> 1055.072265625\n",
            "recon_loss==> 254815.880859375 || NL1==> 216448.9921875 || NL2==> 38366.88623046875 || KLD==> 5580.711486816406\n",
            "Epoch -> 270 , loss -> 1053.6752319335938\n",
            "recon_loss==> 254428.10546875 || NL1==> 216153.318359375 || NL2==> 38274.785888671875 || KLD==> 5667.763671875\n",
            "Epoch -> 280 , loss -> 1053.1946258544922\n",
            "recon_loss==> 254213.7578125 || NL1==> 215794.890625 || NL2==> 38418.86669921875 || KLD==> 5719.668304443359\n",
            "Epoch -> 290 , loss -> 1051.1788787841797\n",
            "recon_loss==> 253657.66015625 || NL1==> 215341.197265625 || NL2==> 38316.46484375 || KLD==> 5804.318634033203\n",
            "Epoch -> 300 , loss -> 1050.701057434082\n",
            "recon_loss==> 253440.869140625 || NL1==> 215112.607421875 || NL2==> 38328.26318359375 || KLD==> 5903.275970458984\n",
            "Epoch -> 310 , loss -> 1049.8816833496094\n",
            "recon_loss==> 253111.951171875 || NL1==> 214752.654296875 || NL2==> 38359.29638671875 || KLD==> 6003.707214355469\n",
            "Epoch -> 320 , loss -> 1048.508644104004\n",
            "recon_loss==> 252695.869140625 || NL1==> 214378.642578125 || NL2==> 38317.22705078125 || KLD==> 6082.8800048828125\n",
            "Epoch -> 330 , loss -> 1047.442726135254\n",
            "recon_loss==> 252377.26171875 || NL1==> 214091.2265625 || NL2==> 38286.035888671875 || KLD==> 6123.4730224609375\n",
            "Epoch -> 340 , loss -> 1046.7633056640625\n",
            "recon_loss==> 252139.30859375 || NL1==> 213922.763671875 || NL2==> 38216.54296875 || KLD==> 6200.11962890625\n",
            "Epoch -> 350 , loss -> 1045.8344192504883\n",
            "recon_loss==> 251866.345703125 || NL1==> 213641.1484375 || NL2==> 38225.201171875 || KLD==> 6255.721008300781\n",
            "Epoch -> 360 , loss -> 1045.1073608398438\n",
            "recon_loss==> 251639.791015625 || NL1==> 213458.900390625 || NL2==> 38180.887939453125 || KLD==> 6324.981109619141\n",
            "Epoch -> 370 , loss -> 1044.2084732055664\n",
            "recon_loss==> 251317.615234375 || NL1==> 213052.7578125 || NL2==> 38264.8583984375 || KLD==> 6398.9647216796875\n",
            "Epoch -> 380 , loss -> 1044.2056732177734\n",
            "recon_loss==> 251293.181640625 || NL1==> 213030.73828125 || NL2==> 38262.44384765625 || KLD==> 6441.765869140625\n",
            "Epoch -> 390 , loss -> 1043.2153625488281\n",
            "recon_loss==> 250964.505859375 || NL1==> 212765.23046875 || NL2==> 38199.2763671875 || KLD==> 6501.6148681640625\n",
            "Epoch -> 400 , loss -> 1041.7624282836914\n",
            "recon_loss==> 250531.9140625 || NL1==> 212294.3515625 || NL2==> 38237.561279296875 || KLD==> 6579.5296630859375\n",
            "Epoch -> 410 , loss -> 1041.0605239868164\n",
            "recon_loss==> 250351.1875 || NL1==> 212203.28515625 || NL2==> 38147.90087890625 || KLD==> 6638.542053222656\n",
            "Epoch -> 420 , loss -> 1041.1459503173828\n",
            "recon_loss==> 250308.076171875 || NL1==> 212136.3203125 || NL2==> 38171.7529296875 || KLD==> 6663.044189453125\n",
            "Epoch -> 430 , loss -> 1040.3153076171875\n",
            "recon_loss==> 250062.8203125 || NL1==> 211850.55859375 || NL2==> 38212.261474609375 || KLD==> 6722.893737792969\n",
            "Epoch -> 440 , loss -> 1039.4181060791016\n",
            "recon_loss==> 249778.16015625 || NL1==> 211582.896484375 || NL2==> 38195.267578125 || KLD==> 6787.737976074219\n",
            "Epoch -> 450 , loss -> 1039.629295349121\n",
            "recon_loss==> 249775.130859375 || NL1==> 211631.197265625 || NL2==> 38143.936279296875 || KLD==> 6843.1724853515625\n",
            "Epoch -> 460 , loss -> 1038.1510925292969\n",
            "recon_loss==> 249354.060546875 || NL1==> 211234.228515625 || NL2==> 38119.833251953125 || KLD==> 6888.305114746094\n",
            "Epoch -> 470 , loss -> 1038.1990509033203\n",
            "recon_loss==> 249328.1015625 || NL1==> 211169.033203125 || NL2==> 38159.068359375 || KLD==> 6936.515563964844\n",
            "Epoch -> 480 , loss -> 1037.2472305297852\n",
            "recon_loss==> 249055.556640625 || NL1==> 210951.912109375 || NL2==> 38103.6435546875 || KLD==> 6980.227783203125\n",
            "Epoch -> 490 , loss -> 1037.5092391967773\n",
            "recon_loss==> 249108.076171875 || NL1==> 210935.498046875 || NL2==> 38172.578369140625 || KLD==> 6992.1729736328125\n",
            "Epoch -> 500 , loss -> 1036.6575012207031\n",
            "recon_loss==> 248851.986328125 || NL1==> 210763.771484375 || NL2==> 38088.2177734375 || KLD==> 7051.333068847656\n",
            "Epoch -> 510 , loss -> 1036.495834350586\n",
            "recon_loss==> 248763.06640625 || NL1==> 210609.771484375 || NL2==> 38153.294189453125 || KLD==> 7079.682434082031\n",
            "Epoch -> 520 , loss -> 1035.7775115966797\n",
            "recon_loss==> 248560.7109375 || NL1==> 210425.98828125 || NL2==> 38134.720703125 || KLD==> 7132.1866455078125\n",
            "Epoch -> 530 , loss -> 1035.7361297607422\n",
            "recon_loss==> 248496.30859375 || NL1==> 210423.623046875 || NL2==> 38072.68212890625 || KLD==> 7157.983154296875\n",
            "Epoch -> 540 , loss -> 1035.1157913208008\n",
            "recon_loss==> 248343.853515625 || NL1==> 210183.794921875 || NL2==> 38160.0615234375 || KLD==> 7164.984130859375\n",
            "Epoch -> 550 , loss -> 1034.9318466186523\n",
            "recon_loss==> 248244.626953125 || NL1==> 210192.12109375 || NL2==> 38052.5078125 || KLD==> 7221.588073730469\n",
            "Epoch -> 560 , loss -> 1034.4339752197266\n",
            "recon_loss==> 248075.56640625 || NL1==> 209926.888671875 || NL2==> 38148.678466796875 || KLD==> 7268.727722167969\n",
            "Epoch -> 570 , loss -> 1034.0700225830078\n",
            "recon_loss==> 247996.501953125 || NL1==> 209942.8984375 || NL2==> 38053.605224609375 || KLD==> 7267.755676269531\n",
            "Epoch -> 580 , loss -> 1033.8480834960938\n",
            "recon_loss==> 247947.927734375 || NL1==> 209794.0859375 || NL2==> 38153.8447265625 || KLD==> 7259.251037597656\n",
            "Epoch -> 590 , loss -> 1033.6588897705078\n",
            "recon_loss==> 247849.416015625 || NL1==> 209771.4765625 || NL2==> 38077.9365234375 || KLD==> 7300.844543457031\n",
            "Epoch -> 600 , loss -> 1033.423484802246\n",
            "recon_loss==> 247758.0546875 || NL1==> 209656.7109375 || NL2==> 38101.344482421875 || KLD==> 7336.168762207031\n",
            "Epoch -> 610 , loss -> 1032.8385314941406\n",
            "recon_loss==> 247604.216796875 || NL1==> 209436.943359375 || NL2==> 38167.271484375 || KLD==> 7361.597961425781\n",
            "Epoch -> 620 , loss -> 1032.490737915039\n",
            "recon_loss==> 247492.20703125 || NL1==> 209412.48828125 || NL2==> 38079.718994140625 || KLD==> 7381.588806152344\n",
            "Epoch -> 630 , loss -> 1032.5631256103516\n",
            "recon_loss==> 247472.77734375 || NL1==> 209402.87109375 || NL2==> 38069.904296875 || KLD==> 7407.270080566406\n",
            "Epoch -> 640 , loss -> 1032.1783447265625\n",
            "recon_loss==> 247372.748046875 || NL1==> 209340.453125 || NL2==> 38032.29345703125 || KLD==> 7427.542724609375\n",
            "Epoch -> 650 , loss -> 1031.4960021972656\n",
            "recon_loss==> 247201.142578125 || NL1==> 209095.029296875 || NL2==> 38106.11083984375 || KLD==> 7429.9786376953125\n",
            "Epoch -> 660 , loss -> 1031.353645324707\n",
            "recon_loss==> 247123.1015625 || NL1==> 209061.576171875 || NL2==> 38061.52294921875 || KLD==> 7466.9791259765625\n",
            "Epoch -> 670 , loss -> 1031.6565246582031\n",
            "recon_loss==> 247195.591796875 || NL1==> 209069.654296875 || NL2==> 38125.93603515625 || KLD==> 7463.5545654296875\n",
            "Epoch -> 680 , loss -> 1031.0290069580078\n",
            "recon_loss==> 247035.0625 || NL1==> 208916.564453125 || NL2==> 38118.49755859375 || KLD==> 7484.1009521484375\n",
            "Epoch -> 690 , loss -> 1030.9504852294922\n",
            "recon_loss==> 246953.68359375 || NL1==> 208768.525390625 || NL2==> 38185.159912109375 || KLD==> 7525.546142578125\n",
            "Epoch -> 700 , loss -> 1030.9820861816406\n",
            "recon_loss==> 246977.712890625 || NL1==> 208805.9453125 || NL2==> 38171.765380859375 || KLD==> 7524.762390136719\n",
            "Epoch -> 710 , loss -> 1030.2763900756836\n",
            "recon_loss==> 246772.29296875 || NL1==> 208686.25 || NL2==> 38086.045166015625 || KLD==> 7552.523986816406\n",
            "Epoch -> 720 , loss -> 1029.7520294189453\n",
            "recon_loss==> 246659.04296875 || NL1==> 208615.705078125 || NL2==> 38043.33544921875 || KLD==> 7550.669494628906\n",
            "Epoch -> 730 , loss -> 1029.9094848632812\n",
            "recon_loss==> 246685.828125 || NL1==> 208486.76171875 || NL2==> 38199.06884765625 || KLD==> 7558.505676269531\n",
            "Epoch -> 740 , loss -> 1029.5365829467773\n",
            "recon_loss==> 246568.345703125 || NL1==> 208504.166015625 || NL2==> 38064.1806640625 || KLD==> 7581.754699707031\n",
            "Epoch -> 750 , loss -> 1029.2967910766602\n",
            "recon_loss==> 246482.076171875 || NL1==> 208299.07421875 || NL2==> 38183.00146484375 || KLD==> 7597.246765136719\n",
            "Epoch -> 760 , loss -> 1029.630989074707\n",
            "recon_loss==> 246519.1328125 || NL1==> 208380.392578125 || NL2==> 38138.7392578125 || KLD==> 7641.747375488281\n",
            "Epoch -> 770 , loss -> 1028.275749206543\n",
            "recon_loss==> 246216.294921875 || NL1==> 208039.119140625 || NL2==> 38177.17431640625 || KLD==> 7633.8238525390625\n",
            "Epoch -> 780 , loss -> 1028.9756927490234\n",
            "recon_loss==> 246415.994140625 || NL1==> 208291.3515625 || NL2==> 38124.643310546875 || KLD==> 7608.6151123046875\n",
            "Epoch -> 790 , loss -> 1028.7773666381836\n",
            "recon_loss==> 246315.30859375 || NL1==> 208152.6796875 || NL2==> 38162.62939453125 || KLD==> 7661.093078613281\n",
            "Epoch -> 800 , loss -> 1028.2900161743164\n",
            "recon_loss==> 246175.341796875 || NL1==> 208117.0390625 || NL2==> 38058.301025390625 || KLD==> 7676.5606689453125\n",
            "Epoch -> 810 , loss -> 1027.7229537963867\n",
            "recon_loss==> 246033.072265625 || NL1==> 207914.900390625 || NL2==> 38118.17236328125 || KLD==> 7661.4273681640625\n",
            "Epoch -> 820 , loss -> 1028.3270950317383\n",
            "recon_loss==> 246160.41796875 || NL1==> 207976.587890625 || NL2==> 38183.83154296875 || KLD==> 7680.5482177734375\n",
            "Epoch -> 830 , loss -> 1027.3516006469727\n",
            "recon_loss==> 245922.943359375 || NL1==> 207806.201171875 || NL2==> 38116.739013671875 || KLD==> 7702.0555419921875\n",
            "Epoch -> 840 , loss -> 1027.660987854004\n",
            "recon_loss==> 245986.50390625 || NL1==> 207901.181640625 || NL2==> 38085.326416015625 || KLD==> 7708.008056640625\n",
            "Epoch -> 850 , loss -> 1027.0623245239258\n",
            "recon_loss==> 245822.390625 || NL1==> 207716.990234375 || NL2==> 38105.40234375 || KLD==> 7724.0716552734375\n",
            "Epoch -> 860 , loss -> 1026.9468002319336\n",
            "recon_loss==> 245854.388671875 || NL1==> 207691.7265625 || NL2==> 38162.66064453125 || KLD==> 7689.727844238281\n",
            "Epoch -> 870 , loss -> 1027.0438842773438\n",
            "recon_loss==> 245829.8203125 || NL1==> 207686.607421875 || NL2==> 38143.2138671875 || KLD==> 7714.1461181640625\n",
            "Epoch -> 880 , loss -> 1026.877815246582\n",
            "recon_loss==> 245755.13671875 || NL1==> 207699.279296875 || NL2==> 38055.857421875 || KLD==> 7755.1781005859375\n",
            "Epoch -> 890 , loss -> 1026.8956832885742\n",
            "recon_loss==> 245789.12109375 || NL1==> 207615.240234375 || NL2==> 38173.880615234375 || KLD==> 7738.190856933594\n",
            "Epoch -> 900 , loss -> 1027.1902313232422\n",
            "recon_loss==> 245823.326171875 || NL1==> 207652.578125 || NL2==> 38170.75 || KLD==> 7755.9005126953125\n",
            "Epoch -> 910 , loss -> 1026.0563430786133\n",
            "recon_loss==> 245564.85546875 || NL1==> 207448.673828125 || NL2==> 38116.1806640625 || KLD==> 7774.401916503906\n",
            "Epoch -> 920 , loss -> 1026.0833740234375\n",
            "recon_loss==> 245545.837890625 || NL1==> 207404.35546875 || NL2==> 38141.482421875 || KLD==> 7760.507751464844\n",
            "Epoch -> 930 , loss -> 1026.0285568237305\n",
            "recon_loss==> 245551.662109375 || NL1==> 207364.142578125 || NL2==> 38187.522216796875 || KLD==> 7760.0098876953125\n",
            "Epoch -> 940 , loss -> 1026.1010437011719\n",
            "recon_loss==> 245532.123046875 || NL1==> 207339.8984375 || NL2==> 38192.22509765625 || KLD==> 7778.72412109375\n",
            "Epoch -> 950 , loss -> 1025.5243301391602\n",
            "recon_loss==> 245381.474609375 || NL1==> 207218.33984375 || NL2==> 38163.1337890625 || KLD==> 7795.0018310546875\n",
            "Epoch -> 960 , loss -> 1025.294906616211\n",
            "recon_loss==> 245337.63671875 || NL1==> 207161.6640625 || NL2==> 38175.970458984375 || KLD==> 7780.098327636719\n",
            "Epoch -> 970 , loss -> 1025.7352981567383\n",
            "recon_loss==> 245447.130859375 || NL1==> 207302.501953125 || NL2==> 38144.626220703125 || KLD==> 7780.406311035156\n",
            "Epoch -> 980 , loss -> 1025.4288940429688\n",
            "recon_loss==> 245328.31640625 || NL1==> 207226.88671875 || NL2==> 38101.43115234375 || KLD==> 7836.935791015625\n",
            "Epoch -> 990 , loss -> 1025.6868362426758\n",
            "recon_loss==> 245364.779296875 || NL1==> 207161.7265625 || NL2==> 38203.05224609375 || KLD==> 7860.93212890625\n"
          ]
        }
      ],
      "source": [
        "## Preparing model parameters\n",
        "def get_paramters(embedding_tensor_sorted_alp,embedding_tensor_keywords,device):\n",
        "  num_keyword = embedding_tensor_keywords.shape[0]\n",
        "  emb_size = embedding_tensor_keywords.shape[1]\n",
        "  cos_sim = nn.CosineSimilarity(dim=-1, eps=1e-8)\n",
        "  embedding_tensor_words = embedding_tensor_sorted_alp.to(device)\n",
        "  embedding_tensor_keywords = embedding_tensor_keywords.to(device)\n",
        "  return num_keyword,emb_size,cos_sim,embedding_tensor_words,embedding_tensor_keywords\n",
        "\n",
        "num_keyword,emb_size,cos_sim,embedding_tensor_words,embedding_tensor_keywords = get_paramters(embedding_tensor_sorted_alp,embedding_tensor_keywords,device)\n",
        "kld_arr,recon_arr,neg_log_rscore_arr = [],[],[]\n",
        "all_indices = torch.randperm(train_vec.shape[0]).split(bs)\n",
        "\n",
        "### Model training starts here...\n",
        "\n",
        "model = Model(num_input, en1_units_x, en2_units_x, num_coordinate, num_topic, drop_rate, variance_x, bs,\n",
        "              embedding_tensor_words,embedding_tensor_keywords,emb_size,num_keyword, \"inverse_quadratic\") # gaussian , inverse_quadratic\n",
        "\n",
        "model.to(device)\n",
        "\n",
        "optimizer = optim.Adam(model.parameters(), learning_rate, betas=(beta1, beta2)) # weight_decay=0.01 - L2 for loss\n",
        "\n",
        "def get_cosine_for_model(all_keywords_score, keywords_max_score,device):\n",
        "\n",
        "  cosine_score = list_of_tensors_to_tensor(all_keywords_score).to(device) # Model 4,5.1,5.3,5.4\n",
        "  return cosine_score\n",
        "\n",
        "# >> pass params to forward (cosine , filter, etc..)\n",
        "\n",
        "most_sim_key = most_sim_key_V_K1.to(device)\n",
        "word_filter = filter.to(device)\n",
        "norm_cos_score = val.to(device)\n",
        "# gaus_dist_w_k_device = gaus_dist_w_k.to(device)\n",
        "for epoch in range(epochs):\n",
        "\n",
        "    x_coord_train_list = [] ## Vis while training\n",
        "    labels_list = [] ## Vis while training\n",
        "\n",
        "    loss_u_epoch = 0.0 ## NL loss\n",
        "    loss_KLD = 0.0  ## KL loss\n",
        "    loss_epoch = 0.0 ## Loss per batch\n",
        "    loss_NL1_epoch = 0.0\n",
        "    loss_NL2_epoch = 0.0\n",
        "\n",
        "    model.train()\n",
        "    for batch_ndx in all_indices:\n",
        "        if data_islarge:\n",
        "           input_w = torch.from_numpy(train_vec[batch_ndx].toarray()).float().to(device) ## for large dataset\n",
        "        else: input_w = tensor_train_w[batch_ndx].to(device)\n",
        "\n",
        "        labels = train_label[batch_ndx]\n",
        "\n",
        "        recon_v, zx, (loss, loss_u,loss_NL1,loss_NL2, xkl_loss) = model(input_w,most_sim_key,word_filter,norm_cos_score,compute_loss=True)\n",
        "        zx = zx.view(-1, num_coordinate).data.detach().cpu().numpy()\n",
        "\n",
        "        x_coord_train_list.extend(zx) ## Vis while training\n",
        "        labels_list.extend(labels) ## Vis while training\n",
        "\n",
        "        optimizer.zero_grad()\n",
        "        loss.backward()\n",
        "        optimizer.step()\n",
        "\n",
        "        loss_epoch += loss.item()\n",
        "        loss_u_epoch += loss_u.item()\n",
        "        loss_KLD += xkl_loss.item()\n",
        "        loss_NL1_epoch += loss_NL1.item()\n",
        "        loss_NL2_epoch += loss_NL2.item()\n",
        "\n",
        "    kld_arr.append(loss_KLD)\n",
        "    recon_arr.append(loss_u_epoch)\n",
        "\n",
        "    if epoch % 10 == 0:\n",
        "        print('Epoch -> {} , loss -> {}'.format(epoch,loss_epoch))\n",
        "        print('recon_loss==> {} || NL1==> {} || NL2==> {} || KLD==> {}'.format(loss_u_epoch,loss_NL1_epoch,loss_NL2_epoch, loss_KLD))\n",
        "\n",
        "    # ## Vis while training\n",
        "    # zphi = model.decoder_phi_bn(model.topics).data.cpu().numpy()\n",
        "    # query_center = model.query_center.data.cpu().numpy()\n",
        "    # query_words = model.decoder_k_bn(model.keyword_coords).data.cpu().numpy()\n",
        "    # query_words = (model.keyword_coords).data.cpu().numpy()\n",
        "    # x_coord_train_list = np.array(x_coord_train_list)\n",
        "    # labels_list = np.array(labels_list)\n",
        "    # keyword_vis_labels = get_keywords(d_data)+['dummy']\n",
        "    # if epoch %100 ==0:\n",
        "    #   plot_fig(x_coord_train_list, labels_list, zphi,query_center,query_words=query_words,\n",
        "    #      keywords=keyword_vis_labels,lim =20,contour='yes')"
      ]
    },
    {
      "cell_type": "markdown",
      "metadata": {
        "id": "JM0IBTQv_s8T"
      },
      "source": [
        "# **Testing & Visualizations**"
      ]
    },
    {
      "cell_type": "code",
      "execution_count": null,
      "metadata": {
        "id": "WPXzCVFuO0_n",
        "colab": {
          "base_uri": "https://localhost:8080/",
          "height": 542
        },
        "outputId": "0462f539-29b1-429c-a071-17472629590b"
      },
      "outputs": [
        {
          "output_type": "display_data",
          "data": {
            "text/html": [
              "<html>\n",
              "<head><meta charset=\"utf-8\" /></head>\n",
              "<body>\n",
              "    <div>            <script src=\"https://cdnjs.cloudflare.com/ajax/libs/mathjax/2.7.5/MathJax.js?config=TeX-AMS-MML_SVG\"></script><script type=\"text/javascript\">if (window.MathJax) {MathJax.Hub.Config({SVG: {font: \"STIX-Web\"}});}</script>                <script type=\"text/javascript\">window.PlotlyConfig = {MathJaxConfig: 'local'};</script>\n",
              "        <script src=\"https://cdn.plot.ly/plotly-2.8.3.min.js\"></script>                <div id=\"566904c5-b5b6-47d0-990b-e579b0c5954f\" class=\"plotly-graph-div\" style=\"height:525px; width:100%;\"></div>            <script type=\"text/javascript\">                                    window.PLOTLYENV=window.PLOTLYENV || {};                                    if (document.getElementById(\"566904c5-b5b6-47d0-990b-e579b0c5954f\")) {                    Plotly.newPlot(                        \"566904c5-b5b6-47d0-990b-e579b0c5954f\",                        [{\"mode\":\"lines\",\"name\":\"Recon\",\"x\":[1,2,3,4,5,6,7,8,9,10,11,12,13,14,15,16,17,18,19,20,21,22,23,24,25,26,27,28,29,30,31,32,33,34,35,36,37,38,39,40,41,42,43,44,45,46,47,48,49,50,51,52,53,54,55,56,57,58,59,60,61,62,63,64,65,66,67,68,69,70,71,72,73,74,75,76,77,78,79,80,81,82,83,84,85,86,87,88,89,90,91,92,93,94,95,96,97,98,99,100,101,102,103,104,105,106,107,108,109,110,111,112,113,114,115,116,117,118,119,120,121,122,123,124,125,126,127,128,129,130,131,132,133,134,135,136,137,138,139,140,141,142,143,144,145,146,147,148,149,150,151,152,153,154,155,156,157,158,159,160,161,162,163,164,165,166,167,168,169,170,171,172,173,174,175,176,177,178,179,180,181,182,183,184,185,186,187,188,189,190,191,192,193,194,195,196,197,198,199,200,201,202,203,204,205,206,207,208,209,210,211,212,213,214,215,216,217,218,219,220,221,222,223,224,225,226,227,228,229,230,231,232,233,234,235,236,237,238,239,240,241,242,243,244,245,246,247,248,249,250,251,252,253,254,255,256,257,258,259,260,261,262,263,264,265,266,267,268,269,270,271,272,273,274,275,276,277,278,279,280,281,282,283,284,285,286,287,288,289,290,291,292,293,294,295,296,297,298,299,300,301,302,303,304,305,306,307,308,309,310,311,312,313,314,315,316,317,318,319,320,321,322,323,324,325,326,327,328,329,330,331,332,333,334,335,336,337,338,339,340,341,342,343,344,345,346,347,348,349,350,351,352,353,354,355,356,357,358,359,360,361,362,363,364,365,366,367,368,369,370,371,372,373,374,375,376,377,378,379,380,381,382,383,384,385,386,387,388,389,390,391,392,393,394,395,396,397,398,399,400,401,402,403,404,405,406,407,408,409,410,411,412,413,414,415,416,417,418,419,420,421,422,423,424,425,426,427,428,429,430,431,432,433,434,435,436,437,438,439,440,441,442,443,444,445,446,447,448,449,450,451,452,453,454,455,456,457,458,459,460,461,462,463,464,465,466,467,468,469,470,471,472,473,474,475,476,477,478,479,480,481,482,483,484,485,486,487,488,489,490,491,492,493,494,495,496,497,498,499,500,501,502,503,504,505,506,507,508,509,510,511,512,513,514,515,516,517,518,519,520,521,522,523,524,525,526,527,528,529,530,531,532,533,534,535,536,537,538,539,540,541,542,543,544,545,546,547,548,549,550,551,552,553,554,555,556,557,558,559,560,561,562,563,564,565,566,567,568,569,570,571,572,573,574,575,576,577,578,579,580,581,582,583,584,585,586,587,588,589,590,591,592,593,594,595,596,597,598,599,600,601,602,603,604,605,606,607,608,609,610,611,612,613,614,615,616,617,618,619,620,621,622,623,624,625,626,627,628,629,630,631,632,633,634,635,636,637,638,639,640,641,642,643,644,645,646,647,648,649,650,651,652,653,654,655,656,657,658,659,660,661,662,663,664,665,666,667,668,669,670,671,672,673,674,675,676,677,678,679,680,681,682,683,684,685,686,687,688,689,690,691,692,693,694,695,696,697,698,699,700,701,702,703,704,705,706,707,708,709,710,711,712,713,714,715,716,717,718,719,720,721,722,723,724,725,726,727,728,729,730,731,732,733,734,735,736,737,738,739,740,741,742,743,744,745,746,747,748,749,750,751,752,753,754,755,756,757,758,759,760,761,762,763,764,765,766,767,768,769,770,771,772,773,774,775,776,777,778,779,780,781,782,783,784,785,786,787,788,789,790,791,792,793,794,795,796,797,798,799,800,801,802,803,804,805,806,807,808,809,810,811,812,813,814,815,816,817,818,819,820,821,822,823,824,825,826,827,828,829,830,831,832,833,834,835,836,837,838,839,840,841,842,843,844,845,846,847,848,849,850,851,852,853,854,855,856,857,858,859,860,861,862,863,864,865,866,867,868,869,870,871,872,873,874,875,876,877,878,879,880,881,882,883,884,885,886,887,888,889,890,891,892,893,894,895,896,897,898,899,900,901,902,903,904,905,906,907,908,909,910,911,912,913,914,915,916,917,918,919,920,921,922,923,924,925,926,927,928,929,930,931,932,933,934,935,936,937,938,939,940,941,942,943,944,945,946,947,948,949,950,951,952,953,954,955,956,957,958,959,960,961,962,963,964,965,966,967,968,969,970,971,972,973,974,975,976,977,978,979,980,981,982,983,984,985,986,987,988,989,990,991,992,993,994,995,996,997,998,999,1000],\"y\":[296410.798828125,284758.349609375,281845.927734375,279235.74609375,278347.34765625,278286.974609375,277388.869140625,276957.298828125,276533.751953125,276313.693359375,275682.263671875,275764.5078125,275495.30859375,275175.96484375,274611.201171875,274756.001953125,274137.09375,273782.779296875,273640.57421875,273303.97265625,272764.55859375,272823.537109375,272551.609375,272423.6015625,272218.6171875,271879.41796875,271718.6015625,271547.181640625,271220.19140625,271095.390625,271029.859375,271142.515625,270660.98046875,270799.59375,270423.859375,270239.9921875,270241.7578125,270116.201171875,269860.705078125,269683.89453125,269440.630859375,269450.59765625,269449.533203125,269218.615234375,269083.9453125,269076.970703125,269192.134765625,268879.140625,268568.986328125,268312.791015625,268382.0859375,268223.65234375,268039.5859375,268020.115234375,267913.529296875,267883.203125,267863.931640625,267897.17578125,267452.537109375,267400.583984375,267164.212890625,267159.34375,267157.5625,266869.419921875,266844.361328125,266700.775390625,266683.408203125,266611.841796875,266154.341796875,266579.748046875,266259.677734375,265935.3984375,265934.771484375,265855.7578125,265745.5859375,265839.16015625,265614.57421875,265492.076171875,265463.1171875,265215.34765625,265119.08203125,265237.837890625,264931.388671875,265079.15625,264885.591796875,264687.595703125,264450.955078125,264512.73046875,264554.13671875,264469.91015625,264399.80859375,264154.66796875,264185.947265625,264256.5,264080.025390625,263887.12890625,263801.734375,263937.974609375,263724.75390625,263659.697265625,263691.1796875,263341.7890625,263335.77734375,263415.3359375,263280.095703125,263307.171875,263085.205078125,263124.39453125,263089.029296875,262920.111328125,262792.328125,262860.421875,262680.119140625,262626.650390625,262500.48828125,262442.78515625,262599.21484375,262399.48046875,262288.62109375,262262.962890625,262059.396484375,262084.427734375,262121.83203125,261961.046875,261902.80859375,261928.419921875,261771.765625,261719.462890625,261741.197265625,261531.97265625,261524.53125,261508.15234375,261468.595703125,261461.865234375,261148.048828125,260950.84765625,261377.384765625,261133.51953125,261025.98046875,261130.341796875,260873.923828125,260787.47265625,260845.837890625,260468.37890625,260888.48828125,260590.837890625,260512.52734375,260431.0390625,260480.9140625,260329.646484375,260319.84375,260437.46875,260291.072265625,260250.39453125,260090.19921875,260067.5625,259954.978515625,259949.494140625,259754.666015625,259733.185546875,259931.501953125,259766.61328125,259814.80859375,259748.125,259626.7109375,259421.5,259415.783203125,259183.8828125,259366.20703125,259246.490234375,259127.671875,259087.162109375,259069.4609375,258928.826171875,258960.96875,258815.98828125,258751.04296875,258709.521484375,258672.072265625,258692.466796875,258641.373046875,258421.388671875,258481.509765625,258447.888671875,258339.90234375,258509.138671875,258293.318359375,258216.30859375,258155.041015625,258314.00390625,257954.046875,257992.748046875,257821.9375,257924.572265625,257863.23046875,257881.494140625,257705.33984375,257663.646484375,257648.671875,257542.25390625,257301.345703125,257487.181640625,257514.4375,257177.341796875,257473.609375,257418.603515625,257187.10546875,257130.318359375,257204.291015625,256822.208984375,256854.2578125,256967.783203125,256775.75,256989.962890625,256769.1875,256814.44140625,256577.857421875,256819.3515625,256776.75,256583.75,256626.732421875,256321.9453125,256395.943359375,256548.841796875,256247.236328125,256409.083984375,256320.666015625,256158.103515625,256227.556640625,256054.27734375,256090.40234375,256053.396484375,256151.24609375,255886.71875,255848.15234375,255706.638671875,255862.091796875,255712.376953125,255600.947265625,255748.06640625,255567.73828125,255471.787109375,255532.048828125,255451.955078125,255587.326171875,255245.98828125,255387.697265625,255340.357421875,255285.5,255230.306640625,255278.490234375,255220.94140625,255004.591796875,255132.4609375,255059.080078125,255060.1640625,255233.916015625,254752.76171875,254901.453125,254859.28125,254815.880859375,254837.9296875,254692.400390625,254718.298828125,254770.6328125,254851.123046875,254618.279296875,254443.771484375,254479.48046875,254369.697265625,254428.10546875,254204.857421875,254296.703125,254271.310546875,254326.259765625,254260.20703125,254180.017578125,254150.033203125,254113.6015625,254048.154296875,254213.7578125,254085.123046875,253942.775390625,254055.626953125,254053.447265625,253755.810546875,253894.982421875,253860.630859375,253859.689453125,253612.794921875,253657.66015625,253913.216796875,253742.27734375,253560.732421875,253608.28125,253579.06640625,253580.939453125,253399.345703125,253411.966796875,253457.259765625,253440.869140625,253268.35546875,253339.9375,253359.328125,253358.833984375,253343.8046875,253041.150390625,253080.5078125,253136.837890625,253130.224609375,253111.951171875,253084.6171875,253030.0703125,253045.30078125,252941.357421875,252974.3984375,252711.783203125,252756.673828125,252663.962890625,252702.212890625,252695.869140625,252563.953125,252689.033203125,252510.5703125,252706.2265625,252576.697265625,252523.24609375,252428.056640625,252393.90625,252551.8359375,252377.26171875,252440.376953125,252556.67578125,252377.96484375,252494.34765625,252235.87890625,252329.642578125,252156.455078125,252272.212890625,252261.12890625,252139.30859375,251838.47265625,252205.46875,252019.0546875,251922.546875,251923.421875,252016.052734375,251764.412109375,251805.0,251935.025390625,251866.345703125,251837.71875,251875.53125,251806.611328125,251899.005859375,251754.16015625,251794.103515625,251760.5703125,251649.08984375,251627.0078125,251639.791015625,251464.751953125,251756.2421875,251515.275390625,251504.630859375,251286.58984375,251248.458984375,251311.98046875,251332.630859375,251214.365234375,251317.615234375,251205.248046875,251291.79296875,251352.791015625,251354.84765625,251008.763671875,251275.994140625,250885.421875,251080.541015625,251025.6484375,251293.181640625,250986.208984375,251094.546875,250974.759765625,251056.310546875,250857.958984375,250967.861328125,250844.7890625,250981.458984375,250897.455078125,250964.505859375,250769.294921875,250737.892578125,250758.126953125,250711.044921875,250815.876953125,250792.15234375,250592.0546875,250625.69921875,250620.265625,250531.9140625,250629.337890625,250631.935546875,250608.248046875,250532.640625,250462.279296875,250550.419921875,250391.31640625,250270.537109375,250347.787109375,250351.1875,250195.09375,250346.296875,250277.666015625,250471.611328125,250300.953125,250352.875,250272.048828125,250164.90234375,250214.23828125,250308.076171875,250203.6953125,250118.939453125,250265.5078125,250122.2421875,250006.234375,250041.23046875,250122.3515625,250114.63671875,250151.408203125,250062.8203125,250086.986328125,249946.13671875,250005.94140625,250039.359375,249802.078125,249842.19140625,249835.044921875,249769.181640625,249915.923828125,249778.16015625,249877.0703125,249832.75,249804.28515625,249825.51171875,249807.83203125,249770.828125,249666.296875,249714.720703125,249756.416015625,249775.130859375,249726.109375,249590.92578125,249673.580078125,249536.056640625,249607.71484375,249526.47265625,249548.35546875,249451.2265625,249695.615234375,249354.060546875,249373.416015625,249363.26953125,249398.81640625,249512.732421875,249503.126953125,249544.50390625,249352.103515625,249332.58984375,249363.72265625,249328.1015625,249351.556640625,249308.486328125,249151.732421875,249257.615234375,249326.52734375,249249.3828125,249189.9765625,249230.904296875,249214.28125,249055.556640625,249161.306640625,249109.951171875,249117.21484375,249057.931640625,249055.23046875,249143.068359375,249044.90625,249063.375,249124.46484375,249108.076171875,249087.208984375,249107.64453125,249000.7578125,249056.6171875,248934.939453125,249054.919921875,248927.05859375,248908.365234375,248861.09765625,248851.986328125,248885.7578125,248855.8125,248686.37109375,248717.29296875,248810.373046875,248704.046875,248857.515625,248748.837890625,248855.421875,248763.06640625,248852.599609375,248583.267578125,248727.326171875,248717.328125,248691.39453125,248669.359375,248809.30078125,248570.7578125,248691.625,248560.7109375,248717.904296875,248451.095703125,248544.046875,248457.908203125,248564.578125,248481.546875,248483.3203125,248439.14453125,248420.517578125,248496.30859375,248443.25390625,248335.359375,248515.92578125,248405.44921875,248386.0390625,248499.759765625,248501.61328125,248478.197265625,248454.322265625,248343.853515625,248383.33203125,248363.353515625,248424.892578125,248381.771484375,248253.25390625,248218.54296875,248428.896484375,248498.88671875,248329.0625,248244.626953125,248154.220703125,248283.7109375,248211.693359375,248274.638671875,248304.443359375,248227.73046875,248256.95703125,248156.208984375,248116.513671875,248075.56640625,248091.19921875,248075.564453125,248072.2109375,248083.779296875,248111.99609375,248114.275390625,248021.78125,248061.84765625,248030.369140625,247996.501953125,247917.705078125,248054.533203125,248070.783203125,247895.826171875,248010.5,248015.138671875,247901.6015625,247780.849609375,248028.935546875,247947.927734375,248033.302734375,247896.0703125,247981.435546875,247807.845703125,247905.671875,247977.2109375,247881.830078125,247961.7421875,247810.43359375,247849.416015625,247866.904296875,247771.87109375,247819.15625,247680.19140625,247776.587890625,247721.154296875,247806.431640625,247809.8046875,247863.255859375,247758.0546875,247778.408203125,247706.1484375,247769.009765625,247765.142578125,247795.220703125,247770.595703125,247578.015625,247747.865234375,247694.966796875,247604.216796875,247496.052734375,247693.0390625,247662.1328125,247552.9765625,247752.908203125,247648.6328125,247532.5,247586.087890625,247563.89453125,247492.20703125,247464.015625,247594.642578125,247588.35546875,247586.109375,247539.697265625,247566.90625,247513.05078125,247488.30859375,247518.01171875,247472.77734375,247450.623046875,247402.81640625,247591.83984375,247419.353515625,247445.5625,247325.146484375,247397.396484375,247432.548828125,247435.298828125,247372.748046875,247352.46484375,247399.896484375,247336.8046875,247254.41015625,247472.853515625,247378.447265625,247464.353515625,247310.19921875,247374.466796875,247201.142578125,247257.087890625,247351.369140625,247264.46875,247305.099609375,247315.408203125,247317.89453125,247284.72265625,247280.2109375,247173.599609375,247123.1015625,247242.2421875,247077.525390625,247241.126953125,247244.048828125,247088.876953125,247138.5859375,247097.02734375,247152.373046875,247127.541015625,247195.591796875,247228.140625,247285.474609375,247061.86328125,247082.81640625,247201.853515625,247247.552734375,247155.24609375,247095.29296875,247232.94140625,247035.0625,247171.3125,247104.623046875,246989.037109375,247028.26171875,247034.435546875,247108.240234375,247103.49609375,247041.8671875,247005.126953125,246953.68359375,247087.115234375,246853.478515625,246881.0234375,247021.7265625,246868.1484375,247023.650390625,246857.765625,246941.265625,246877.951171875,246977.712890625,246867.880859375,246867.08984375,246937.45703125,247021.857421875,246788.52734375,246766.359375,246959.04296875,246888.177734375,246833.51953125,246772.29296875,246763.6640625,246789.9921875,246652.0703125,246831.166015625,246786.93359375,246749.55078125,246821.818359375,246771.6015625,246690.73046875,246659.04296875,246711.283203125,246723.71875,246829.224609375,246843.6640625,246801.97265625,246754.21484375,246647.69921875,246714.583984375,246641.345703125,246685.828125,246561.900390625,246677.517578125,246638.67578125,246743.84765625,246674.619140625,246600.52734375,246717.82421875,246571.521484375,246536.875,246568.345703125,246673.970703125,246574.80859375,246498.228515625,246518.375,246465.07421875,246487.50390625,246485.619140625,246549.1953125,246641.763671875,246482.076171875,246517.328125,246744.6328125,246569.130859375,246497.939453125,246544.322265625,246604.205078125,246545.623046875,246456.421875,246431.544921875,246519.1328125,246305.861328125,246419.00390625,246455.21875,246305.73046875,246353.626953125,246483.62890625,246344.271484375,246262.15234375,246413.943359375,246216.294921875,246221.0078125,246368.205078125,246407.087890625,246540.333984375,246317.419921875,246526.087890625,246162.0234375,246375.8046875,246372.595703125,246415.994140625,246283.03515625,246276.283203125,246352.458984375,246405.75,246312.0078125,246280.671875,246316.828125,246146.103515625,246390.943359375,246315.30859375,246143.76953125,246342.916015625,246221.80859375,246220.4765625,246184.375,246156.779296875,246207.62109375,246265.931640625,246171.404296875,246175.341796875,246065.576171875,246165.623046875,246060.001953125,246095.580078125,246183.275390625,246130.59765625,246219.048828125,245951.8125,246210.17578125,246033.072265625,246081.53125,246110.400390625,246135.470703125,246239.228515625,246097.0390625,246205.224609375,245983.48828125,246110.951171875,246144.037109375,246160.41796875,246031.765625,245917.287109375,246188.701171875,246104.20703125,245949.171875,246061.525390625,246092.70703125,246106.470703125,246132.544921875,245922.943359375,246175.796875,245902.39453125,245962.82421875,246017.69140625,246009.087890625,245852.193359375,245935.27734375,245850.96484375,245933.28515625,245986.50390625,245983.744140625,246025.45703125,245957.587890625,245917.255859375,245974.654296875,245963.609375,245903.3046875,245913.166015625,245827.07421875,245822.390625,245725.50390625,245864.919921875,245865.970703125,245770.888671875,245776.837890625,245772.296875,245832.40234375,245663.8359375,245873.93359375,245854.388671875,245892.29296875,245881.861328125,245778.8828125,245983.54296875,246064.3671875,245818.662109375,245806.369140625,246014.58984375,245701.638671875,245829.8203125,245845.70703125,245775.53515625,245763.498046875,245763.681640625,245873.400390625,245650.236328125,245800.1171875,245731.798828125,245740.974609375,245755.13671875,245688.810546875,245792.275390625,245715.26171875,245684.43359375,245724.390625,245609.041015625,245722.53125,245688.828125,245635.44140625,245789.12109375,245756.671875,245702.484375,245884.173828125,245667.87109375,245709.515625,245692.126953125,245684.810546875,245672.93359375,245703.767578125,245823.326171875,245612.3828125,245687.30078125,245473.630859375,245571.216796875,245582.986328125,245486.0,245614.4453125,245679.33203125,245676.919921875,245564.85546875,245604.69921875,245582.623046875,245545.072265625,245673.09375,245619.759765625,245602.220703125,245520.568359375,245568.193359375,245521.7734375,245545.837890625,245682.0546875,245578.65234375,245516.193359375,245385.66015625,245494.12109375,245594.494140625,245563.359375,245625.59375,245515.212890625,245551.662109375,245614.326171875,245642.125,245539.337890625,245551.150390625,245632.810546875,245395.830078125,245356.39453125,245553.984375,245513.611328125,245532.123046875,245503.107421875,245392.9453125,245470.30859375,245484.603515625,245452.005859375,245421.751953125,245390.951171875,245486.224609375,245543.060546875,245381.474609375,245365.939453125,245356.845703125,245439.400390625,245368.39453125,245418.23828125,245321.580078125,245343.021484375,245308.546875,245384.240234375,245337.63671875,245440.373046875,245263.3671875,245463.88671875,245323.4296875,245377.486328125,245464.6640625,245472.82421875,245612.31640625,245324.302734375,245447.130859375,245232.517578125,245270.998046875,245376.607421875,245496.171875,245276.1953125,245273.654296875,245404.162109375,245584.80859375,245364.107421875,245328.31640625,245233.91015625,245336.634765625,245226.626953125,245284.517578125,245123.158203125,245246.21875,245199.23828125,245184.087890625,245316.427734375,245364.779296875,245180.087890625,245247.80859375,245143.345703125,245193.177734375,245206.484375,245156.390625,245159.521484375,245350.78125,245114.052734375],\"type\":\"scatter\"}],                        {\"template\":{\"data\":{\"bar\":[{\"error_x\":{\"color\":\"#2a3f5f\"},\"error_y\":{\"color\":\"#2a3f5f\"},\"marker\":{\"line\":{\"color\":\"#E5ECF6\",\"width\":0.5},\"pattern\":{\"fillmode\":\"overlay\",\"size\":10,\"solidity\":0.2}},\"type\":\"bar\"}],\"barpolar\":[{\"marker\":{\"line\":{\"color\":\"#E5ECF6\",\"width\":0.5},\"pattern\":{\"fillmode\":\"overlay\",\"size\":10,\"solidity\":0.2}},\"type\":\"barpolar\"}],\"carpet\":[{\"aaxis\":{\"endlinecolor\":\"#2a3f5f\",\"gridcolor\":\"white\",\"linecolor\":\"white\",\"minorgridcolor\":\"white\",\"startlinecolor\":\"#2a3f5f\"},\"baxis\":{\"endlinecolor\":\"#2a3f5f\",\"gridcolor\":\"white\",\"linecolor\":\"white\",\"minorgridcolor\":\"white\",\"startlinecolor\":\"#2a3f5f\"},\"type\":\"carpet\"}],\"choropleth\":[{\"colorbar\":{\"outlinewidth\":0,\"ticks\":\"\"},\"type\":\"choropleth\"}],\"contour\":[{\"colorbar\":{\"outlinewidth\":0,\"ticks\":\"\"},\"colorscale\":[[0.0,\"#0d0887\"],[0.1111111111111111,\"#46039f\"],[0.2222222222222222,\"#7201a8\"],[0.3333333333333333,\"#9c179e\"],[0.4444444444444444,\"#bd3786\"],[0.5555555555555556,\"#d8576b\"],[0.6666666666666666,\"#ed7953\"],[0.7777777777777778,\"#fb9f3a\"],[0.8888888888888888,\"#fdca26\"],[1.0,\"#f0f921\"]],\"type\":\"contour\"}],\"contourcarpet\":[{\"colorbar\":{\"outlinewidth\":0,\"ticks\":\"\"},\"type\":\"contourcarpet\"}],\"heatmap\":[{\"colorbar\":{\"outlinewidth\":0,\"ticks\":\"\"},\"colorscale\":[[0.0,\"#0d0887\"],[0.1111111111111111,\"#46039f\"],[0.2222222222222222,\"#7201a8\"],[0.3333333333333333,\"#9c179e\"],[0.4444444444444444,\"#bd3786\"],[0.5555555555555556,\"#d8576b\"],[0.6666666666666666,\"#ed7953\"],[0.7777777777777778,\"#fb9f3a\"],[0.8888888888888888,\"#fdca26\"],[1.0,\"#f0f921\"]],\"type\":\"heatmap\"}],\"heatmapgl\":[{\"colorbar\":{\"outlinewidth\":0,\"ticks\":\"\"},\"colorscale\":[[0.0,\"#0d0887\"],[0.1111111111111111,\"#46039f\"],[0.2222222222222222,\"#7201a8\"],[0.3333333333333333,\"#9c179e\"],[0.4444444444444444,\"#bd3786\"],[0.5555555555555556,\"#d8576b\"],[0.6666666666666666,\"#ed7953\"],[0.7777777777777778,\"#fb9f3a\"],[0.8888888888888888,\"#fdca26\"],[1.0,\"#f0f921\"]],\"type\":\"heatmapgl\"}],\"histogram\":[{\"marker\":{\"pattern\":{\"fillmode\":\"overlay\",\"size\":10,\"solidity\":0.2}},\"type\":\"histogram\"}],\"histogram2d\":[{\"colorbar\":{\"outlinewidth\":0,\"ticks\":\"\"},\"colorscale\":[[0.0,\"#0d0887\"],[0.1111111111111111,\"#46039f\"],[0.2222222222222222,\"#7201a8\"],[0.3333333333333333,\"#9c179e\"],[0.4444444444444444,\"#bd3786\"],[0.5555555555555556,\"#d8576b\"],[0.6666666666666666,\"#ed7953\"],[0.7777777777777778,\"#fb9f3a\"],[0.8888888888888888,\"#fdca26\"],[1.0,\"#f0f921\"]],\"type\":\"histogram2d\"}],\"histogram2dcontour\":[{\"colorbar\":{\"outlinewidth\":0,\"ticks\":\"\"},\"colorscale\":[[0.0,\"#0d0887\"],[0.1111111111111111,\"#46039f\"],[0.2222222222222222,\"#7201a8\"],[0.3333333333333333,\"#9c179e\"],[0.4444444444444444,\"#bd3786\"],[0.5555555555555556,\"#d8576b\"],[0.6666666666666666,\"#ed7953\"],[0.7777777777777778,\"#fb9f3a\"],[0.8888888888888888,\"#fdca26\"],[1.0,\"#f0f921\"]],\"type\":\"histogram2dcontour\"}],\"mesh3d\":[{\"colorbar\":{\"outlinewidth\":0,\"ticks\":\"\"},\"type\":\"mesh3d\"}],\"parcoords\":[{\"line\":{\"colorbar\":{\"outlinewidth\":0,\"ticks\":\"\"}},\"type\":\"parcoords\"}],\"pie\":[{\"automargin\":true,\"type\":\"pie\"}],\"scatter\":[{\"marker\":{\"colorbar\":{\"outlinewidth\":0,\"ticks\":\"\"}},\"type\":\"scatter\"}],\"scatter3d\":[{\"line\":{\"colorbar\":{\"outlinewidth\":0,\"ticks\":\"\"}},\"marker\":{\"colorbar\":{\"outlinewidth\":0,\"ticks\":\"\"}},\"type\":\"scatter3d\"}],\"scattercarpet\":[{\"marker\":{\"colorbar\":{\"outlinewidth\":0,\"ticks\":\"\"}},\"type\":\"scattercarpet\"}],\"scattergeo\":[{\"marker\":{\"colorbar\":{\"outlinewidth\":0,\"ticks\":\"\"}},\"type\":\"scattergeo\"}],\"scattergl\":[{\"marker\":{\"colorbar\":{\"outlinewidth\":0,\"ticks\":\"\"}},\"type\":\"scattergl\"}],\"scattermapbox\":[{\"marker\":{\"colorbar\":{\"outlinewidth\":0,\"ticks\":\"\"}},\"type\":\"scattermapbox\"}],\"scatterpolar\":[{\"marker\":{\"colorbar\":{\"outlinewidth\":0,\"ticks\":\"\"}},\"type\":\"scatterpolar\"}],\"scatterpolargl\":[{\"marker\":{\"colorbar\":{\"outlinewidth\":0,\"ticks\":\"\"}},\"type\":\"scatterpolargl\"}],\"scatterternary\":[{\"marker\":{\"colorbar\":{\"outlinewidth\":0,\"ticks\":\"\"}},\"type\":\"scatterternary\"}],\"surface\":[{\"colorbar\":{\"outlinewidth\":0,\"ticks\":\"\"},\"colorscale\":[[0.0,\"#0d0887\"],[0.1111111111111111,\"#46039f\"],[0.2222222222222222,\"#7201a8\"],[0.3333333333333333,\"#9c179e\"],[0.4444444444444444,\"#bd3786\"],[0.5555555555555556,\"#d8576b\"],[0.6666666666666666,\"#ed7953\"],[0.7777777777777778,\"#fb9f3a\"],[0.8888888888888888,\"#fdca26\"],[1.0,\"#f0f921\"]],\"type\":\"surface\"}],\"table\":[{\"cells\":{\"fill\":{\"color\":\"#EBF0F8\"},\"line\":{\"color\":\"white\"}},\"header\":{\"fill\":{\"color\":\"#C8D4E3\"},\"line\":{\"color\":\"white\"}},\"type\":\"table\"}]},\"layout\":{\"annotationdefaults\":{\"arrowcolor\":\"#2a3f5f\",\"arrowhead\":0,\"arrowwidth\":1},\"autotypenumbers\":\"strict\",\"coloraxis\":{\"colorbar\":{\"outlinewidth\":0,\"ticks\":\"\"}},\"colorscale\":{\"diverging\":[[0,\"#8e0152\"],[0.1,\"#c51b7d\"],[0.2,\"#de77ae\"],[0.3,\"#f1b6da\"],[0.4,\"#fde0ef\"],[0.5,\"#f7f7f7\"],[0.6,\"#e6f5d0\"],[0.7,\"#b8e186\"],[0.8,\"#7fbc41\"],[0.9,\"#4d9221\"],[1,\"#276419\"]],\"sequential\":[[0.0,\"#0d0887\"],[0.1111111111111111,\"#46039f\"],[0.2222222222222222,\"#7201a8\"],[0.3333333333333333,\"#9c179e\"],[0.4444444444444444,\"#bd3786\"],[0.5555555555555556,\"#d8576b\"],[0.6666666666666666,\"#ed7953\"],[0.7777777777777778,\"#fb9f3a\"],[0.8888888888888888,\"#fdca26\"],[1.0,\"#f0f921\"]],\"sequentialminus\":[[0.0,\"#0d0887\"],[0.1111111111111111,\"#46039f\"],[0.2222222222222222,\"#7201a8\"],[0.3333333333333333,\"#9c179e\"],[0.4444444444444444,\"#bd3786\"],[0.5555555555555556,\"#d8576b\"],[0.6666666666666666,\"#ed7953\"],[0.7777777777777778,\"#fb9f3a\"],[0.8888888888888888,\"#fdca26\"],[1.0,\"#f0f921\"]]},\"colorway\":[\"#636efa\",\"#EF553B\",\"#00cc96\",\"#ab63fa\",\"#FFA15A\",\"#19d3f3\",\"#FF6692\",\"#B6E880\",\"#FF97FF\",\"#FECB52\"],\"font\":{\"color\":\"#2a3f5f\"},\"geo\":{\"bgcolor\":\"white\",\"lakecolor\":\"white\",\"landcolor\":\"#E5ECF6\",\"showlakes\":true,\"showland\":true,\"subunitcolor\":\"white\"},\"hoverlabel\":{\"align\":\"left\"},\"hovermode\":\"closest\",\"mapbox\":{\"style\":\"light\"},\"paper_bgcolor\":\"white\",\"plot_bgcolor\":\"#E5ECF6\",\"polar\":{\"angularaxis\":{\"gridcolor\":\"white\",\"linecolor\":\"white\",\"ticks\":\"\"},\"bgcolor\":\"#E5ECF6\",\"radialaxis\":{\"gridcolor\":\"white\",\"linecolor\":\"white\",\"ticks\":\"\"}},\"scene\":{\"xaxis\":{\"backgroundcolor\":\"#E5ECF6\",\"gridcolor\":\"white\",\"gridwidth\":2,\"linecolor\":\"white\",\"showbackground\":true,\"ticks\":\"\",\"zerolinecolor\":\"white\"},\"yaxis\":{\"backgroundcolor\":\"#E5ECF6\",\"gridcolor\":\"white\",\"gridwidth\":2,\"linecolor\":\"white\",\"showbackground\":true,\"ticks\":\"\",\"zerolinecolor\":\"white\"},\"zaxis\":{\"backgroundcolor\":\"#E5ECF6\",\"gridcolor\":\"white\",\"gridwidth\":2,\"linecolor\":\"white\",\"showbackground\":true,\"ticks\":\"\",\"zerolinecolor\":\"white\"}},\"shapedefaults\":{\"line\":{\"color\":\"#2a3f5f\"}},\"ternary\":{\"aaxis\":{\"gridcolor\":\"white\",\"linecolor\":\"white\",\"ticks\":\"\"},\"baxis\":{\"gridcolor\":\"white\",\"linecolor\":\"white\",\"ticks\":\"\"},\"bgcolor\":\"#E5ECF6\",\"caxis\":{\"gridcolor\":\"white\",\"linecolor\":\"white\",\"ticks\":\"\"}},\"title\":{\"x\":0.05},\"xaxis\":{\"automargin\":true,\"gridcolor\":\"white\",\"linecolor\":\"white\",\"ticks\":\"\",\"title\":{\"standoff\":15},\"zerolinecolor\":\"white\",\"zerolinewidth\":2},\"yaxis\":{\"automargin\":true,\"gridcolor\":\"white\",\"linecolor\":\"white\",\"ticks\":\"\",\"title\":{\"standoff\":15},\"zerolinecolor\":\"white\",\"zerolinewidth\":2}}}},                        {\"responsive\": true}                    ).then(function(){\n",
              "                            \n",
              "var gd = document.getElementById('566904c5-b5b6-47d0-990b-e579b0c5954f');\n",
              "var x = new MutationObserver(function (mutations, observer) {{\n",
              "        var display = window.getComputedStyle(gd).display;\n",
              "        if (!display || display === 'none') {{\n",
              "            console.log([gd, 'removed!']);\n",
              "            Plotly.purge(gd);\n",
              "            observer.disconnect();\n",
              "        }}\n",
              "}});\n",
              "\n",
              "// Listen for the removal of the full notebook cells\n",
              "var notebookContainer = gd.closest('#notebook-container');\n",
              "if (notebookContainer) {{\n",
              "    x.observe(notebookContainer, {childList: true});\n",
              "}}\n",
              "\n",
              "// Listen for the clearing of the current output cell\n",
              "var outputEl = gd.closest('.output');\n",
              "if (outputEl) {{\n",
              "    x.observe(outputEl, {childList: true});\n",
              "}}\n",
              "\n",
              "                        })                };                            </script>        </div>\n",
              "</body>\n",
              "</html>"
            ]
          },
          "metadata": {}
        }
      ],
      "source": [
        "plot_loss(recon_arr,\"Recon\")"
      ]
    },
    {
      "cell_type": "code",
      "execution_count": null,
      "metadata": {
        "id": "xQETW799qju9"
      },
      "outputs": [],
      "source": [
        "##@title Evaluation (x,phi,beta,query_center,)\n",
        "model.eval()\n",
        "x_list = []\n",
        "labels_list = []\n",
        "doc_ids = []\n",
        "zx_phi_list=[]\n",
        "dist_doc_key = []\n",
        "dist_doc_key_bfn = []\n",
        "docs_rscore = []\n",
        "with torch.no_grad():\n",
        "    for batch_ndx in all_indices:\n",
        "\n",
        "        if data_islarge:\n",
        "           input_w = torch.from_numpy(train_vec[batch_ndx].toarray()).float().to(device) ## for large dataset\n",
        "        else: input_w = tensor_train_w[batch_ndx].to(device)\n",
        "        labels = train_label[batch_ndx]\n",
        "\n",
        "        z, recon_v, zx, zx_phi,doc_key_softmax = model(input_w, most_sim_key, word_filter,norm_cos_score, compute_loss=False)\n",
        "        zx = zx.view(-1, num_coordinate).data.detach().cpu().numpy()\n",
        "        zx_phi = zx_phi.view(-1, num_topic).data.detach().cpu().numpy()\n",
        "        d_doc_key = model.dist_doc_key.data.detach().cpu().numpy()\n",
        "        dist_doc_key_basis_func = model.dist_doc_key_basis_func.data.detach().cpu().numpy()\n",
        "\n",
        "        labels_list.extend(labels)\n",
        "        docs_rscore.extend(normalized_all_rscores[batch_ndx])\n",
        "        zx_phi_list.extend(zx_phi)\n",
        "        x_list.extend(zx)\n",
        "        dist_doc_key.extend(d_doc_key)\n",
        "        dist_doc_key_bfn.extend(dist_doc_key_basis_func)\n",
        "        doc_ids = np.append(doc_ids,batch_ndx.numpy().astype(int))\n",
        "\n",
        "    doc_ids = doc_ids.astype(int)\n",
        "    x_list = np.array(x_list)\n",
        "    labels_list = np.array(labels_list)\n",
        "    docs_rscore = list_of_tensors_to_tensor(docs_rscore)\n",
        "    dist_doc_key = torch.tensor(np.array(dist_doc_key))\n",
        "    dist_doc_key_bfn = np.array(dist_doc_key_bfn)\n",
        "\n",
        "    beta = model.get_beta().data.cpu().numpy()\n",
        "\n",
        "    zphi = model.decoder_phi_bn(model.topics).data.cpu().numpy()\n",
        "    # zphi = model.topics.data.cpu().numpy()\n",
        "\n",
        "    query_center = model.query_center.data.cpu().numpy()\n",
        "    dist_key_topic = toT(model.dist_key_topic.data.detach().cpu().numpy())\n",
        "\n",
        "    query_words = model.decoder_k_bn(model.keyword_coords).data.cpu().numpy()\n",
        "    # query_words = model.keyword_coords.data.cpu().numpy()"
      ]
    },
    {
      "cell_type": "code",
      "execution_count": null,
      "metadata": {
        "id": "Oe7MfHKjpPmG",
        "colab": {
          "base_uri": "https://localhost:8080/"
        },
        "outputId": "ebf50f12-8065-452c-cafd-9cfc28d60e84"
      },
      "outputs": [
        {
          "output_type": "execute_result",
          "data": {
            "text/plain": [
              "tensor([[ 2.9457, -4.4040,  3.3352,  ...,  5.0890,  2.2290, -1.1887],\n",
              "        [-0.5442,  0.0323, -0.7543,  ..., -2.4261,  3.5670,  0.2247],\n",
              "        [-0.6912, -1.7966,  2.3897,  ..., -2.4183,  1.7384, -1.5530],\n",
              "        ...,\n",
              "        [ 1.0712, -4.3670, -0.1868,  ...,  0.4605,  0.3917, -1.3546],\n",
              "        [ 0.2770, -2.5631, -2.1932,  ...,  0.4873,  1.2814,  0.7812],\n",
              "        [ 2.8119, -4.9757,  0.9730,  ...,  2.0413,  0.6012, -0.7003]],\n",
              "       device='cuda:0')"
            ]
          },
          "metadata": {},
          "execution_count": 52
        }
      ],
      "source": [
        "model.mu_z"
      ]
    },
    {
      "cell_type": "code",
      "source": [
        "import plotly.io as pio\n",
        "pio.renderers.default = \"colab\"\n",
        "#@title Jaccard similarity - metric for topic diversity\n",
        "topic1 =  2#@param {type:\"integer\"}\n",
        "topic2 =  3#@param {type:\"integer\"}\n",
        "def get_common_items(list1,list2):\n",
        "  common_list = []\n",
        "  for item in list1:\n",
        "    if item in list2:\n",
        "      common_list.append(item)\n",
        "  return common_list\n",
        "\n",
        "def get_jaccard_score(topic1,topic2,topword_lists):\n",
        "  jaccard_topic_list = topword_lists[topic1] + topword_lists[topic2]\n",
        "  union_len = len(set(jaccard_topic_list))\n",
        "  interesection_len = len(get_common_items(topword_lists[topic1],topword_lists[topic2]))\n",
        "  jaccard_score = interesection_len / union_len\n",
        "  return jaccard_score\n",
        "\n",
        "## All topics word dictionary\n",
        "def topword_count_dict(all_topics_topwords):\n",
        "  flattened_all_topics_topwords = flatten_list(all_topics_topwords)\n",
        "  built_words_dict = {}\n",
        "  for f in flattened_all_topics_topwords:\n",
        "    try :\n",
        "      built_words_dict[f] = built_words_dict[f]+1\n",
        "    except KeyError:\n",
        "      built_words_dict[f] = 1\n",
        "  df_words = pd.DataFrame.from_dict(built_words_dict,orient='index',columns=['appears'])\n",
        "  all_topics_unique_words = df_words.index.tolist()\n",
        "  return df_words\n",
        "\n",
        "all_topics_topwords = get_topwords(beta,id_vocab,topwords=10)\n",
        "all_topics_topwords = [t.split(\": \")[1].split(\" \") for t in all_topics_topwords]\n",
        "print(\"Jaccard sim b/w topics\",topic1,\"and\",topic2,\"is : \",\n",
        "      get_jaccard_score(topic1=topic1,topic2=topic2,topword_lists=all_topics_topwords)) # <<\n",
        "\n",
        "df_word_count = topword_count_dict(all_topics_topwords)\n",
        "fig = px.histogram(df_word_count ,x=\"appears\",title=\"How many words(count) appear how many times(appears)\")\n",
        "fig.show()\n",
        "df_word_count.sort_values([\"appears\"], ascending=False).head()"
      ],
      "metadata": {
        "cellView": "form",
        "id": "XkXP2ehTug5O",
        "colab": {
          "base_uri": "https://localhost:8080/",
          "height": 750
        },
        "outputId": "4f53f59c-a2bd-42c8-c7f8-9fa8effc850c"
      },
      "execution_count": null,
      "outputs": [
        {
          "output_type": "stream",
          "name": "stdout",
          "text": [
            "Jaccard sim b/w topics 2 and 3 is :  0.0\n"
          ]
        },
        {
          "output_type": "display_data",
          "data": {
            "text/html": [
              "<html>\n",
              "<head><meta charset=\"utf-8\" /></head>\n",
              "<body>\n",
              "    <div>            <script src=\"https://cdnjs.cloudflare.com/ajax/libs/mathjax/2.7.5/MathJax.js?config=TeX-AMS-MML_SVG\"></script><script type=\"text/javascript\">if (window.MathJax) {MathJax.Hub.Config({SVG: {font: \"STIX-Web\"}});}</script>                <script type=\"text/javascript\">window.PlotlyConfig = {MathJaxConfig: 'local'};</script>\n",
              "        <script src=\"https://cdn.plot.ly/plotly-2.8.3.min.js\"></script>                <div id=\"cc1a8b21-a238-47b9-9a06-3cf60fb8f4ea\" class=\"plotly-graph-div\" style=\"height:525px; width:100%;\"></div>            <script type=\"text/javascript\">                                    window.PLOTLYENV=window.PLOTLYENV || {};                                    if (document.getElementById(\"cc1a8b21-a238-47b9-9a06-3cf60fb8f4ea\")) {                    Plotly.newPlot(                        \"cc1a8b21-a238-47b9-9a06-3cf60fb8f4ea\",                        [{\"alignmentgroup\":\"True\",\"bingroup\":\"x\",\"hovertemplate\":\"appears=%{x}<br>count=%{y}<extra></extra>\",\"legendgroup\":\"\",\"marker\":{\"color\":\"#636efa\",\"pattern\":{\"shape\":\"\"}},\"name\":\"\",\"offsetgroup\":\"\",\"orientation\":\"v\",\"showlegend\":false,\"x\":[1,1,1,1,1,1,1,2,1,1,2,5,1,1,2,2,1,2,1,1,3,1,1,1,1,2,1,1,1,1,2,2,2,1,3,2,1,1,1,1,1,1,1,1,1,1,1,1,1,1,1,1,1,1,1,2,2,1,1,1,1,1,1,1,1,1,1,1,1,1,1,1,1,1,1,1,1,1,1,2,1,1,1,1,1,1,1,1,1,1,1,1,1,1,1,1,1,1,1,1,1,1,1,1,1,1,2,1,1,1,1,1,1,1,1,1,1,1,1,1,1,1,1,1,1,1,1,1],\"xaxis\":\"x\",\"yaxis\":\"y\",\"type\":\"histogram\"}],                        {\"template\":{\"data\":{\"bar\":[{\"error_x\":{\"color\":\"#2a3f5f\"},\"error_y\":{\"color\":\"#2a3f5f\"},\"marker\":{\"line\":{\"color\":\"#E5ECF6\",\"width\":0.5},\"pattern\":{\"fillmode\":\"overlay\",\"size\":10,\"solidity\":0.2}},\"type\":\"bar\"}],\"barpolar\":[{\"marker\":{\"line\":{\"color\":\"#E5ECF6\",\"width\":0.5},\"pattern\":{\"fillmode\":\"overlay\",\"size\":10,\"solidity\":0.2}},\"type\":\"barpolar\"}],\"carpet\":[{\"aaxis\":{\"endlinecolor\":\"#2a3f5f\",\"gridcolor\":\"white\",\"linecolor\":\"white\",\"minorgridcolor\":\"white\",\"startlinecolor\":\"#2a3f5f\"},\"baxis\":{\"endlinecolor\":\"#2a3f5f\",\"gridcolor\":\"white\",\"linecolor\":\"white\",\"minorgridcolor\":\"white\",\"startlinecolor\":\"#2a3f5f\"},\"type\":\"carpet\"}],\"choropleth\":[{\"colorbar\":{\"outlinewidth\":0,\"ticks\":\"\"},\"type\":\"choropleth\"}],\"contour\":[{\"colorbar\":{\"outlinewidth\":0,\"ticks\":\"\"},\"colorscale\":[[0.0,\"#0d0887\"],[0.1111111111111111,\"#46039f\"],[0.2222222222222222,\"#7201a8\"],[0.3333333333333333,\"#9c179e\"],[0.4444444444444444,\"#bd3786\"],[0.5555555555555556,\"#d8576b\"],[0.6666666666666666,\"#ed7953\"],[0.7777777777777778,\"#fb9f3a\"],[0.8888888888888888,\"#fdca26\"],[1.0,\"#f0f921\"]],\"type\":\"contour\"}],\"contourcarpet\":[{\"colorbar\":{\"outlinewidth\":0,\"ticks\":\"\"},\"type\":\"contourcarpet\"}],\"heatmap\":[{\"colorbar\":{\"outlinewidth\":0,\"ticks\":\"\"},\"colorscale\":[[0.0,\"#0d0887\"],[0.1111111111111111,\"#46039f\"],[0.2222222222222222,\"#7201a8\"],[0.3333333333333333,\"#9c179e\"],[0.4444444444444444,\"#bd3786\"],[0.5555555555555556,\"#d8576b\"],[0.6666666666666666,\"#ed7953\"],[0.7777777777777778,\"#fb9f3a\"],[0.8888888888888888,\"#fdca26\"],[1.0,\"#f0f921\"]],\"type\":\"heatmap\"}],\"heatmapgl\":[{\"colorbar\":{\"outlinewidth\":0,\"ticks\":\"\"},\"colorscale\":[[0.0,\"#0d0887\"],[0.1111111111111111,\"#46039f\"],[0.2222222222222222,\"#7201a8\"],[0.3333333333333333,\"#9c179e\"],[0.4444444444444444,\"#bd3786\"],[0.5555555555555556,\"#d8576b\"],[0.6666666666666666,\"#ed7953\"],[0.7777777777777778,\"#fb9f3a\"],[0.8888888888888888,\"#fdca26\"],[1.0,\"#f0f921\"]],\"type\":\"heatmapgl\"}],\"histogram\":[{\"marker\":{\"pattern\":{\"fillmode\":\"overlay\",\"size\":10,\"solidity\":0.2}},\"type\":\"histogram\"}],\"histogram2d\":[{\"colorbar\":{\"outlinewidth\":0,\"ticks\":\"\"},\"colorscale\":[[0.0,\"#0d0887\"],[0.1111111111111111,\"#46039f\"],[0.2222222222222222,\"#7201a8\"],[0.3333333333333333,\"#9c179e\"],[0.4444444444444444,\"#bd3786\"],[0.5555555555555556,\"#d8576b\"],[0.6666666666666666,\"#ed7953\"],[0.7777777777777778,\"#fb9f3a\"],[0.8888888888888888,\"#fdca26\"],[1.0,\"#f0f921\"]],\"type\":\"histogram2d\"}],\"histogram2dcontour\":[{\"colorbar\":{\"outlinewidth\":0,\"ticks\":\"\"},\"colorscale\":[[0.0,\"#0d0887\"],[0.1111111111111111,\"#46039f\"],[0.2222222222222222,\"#7201a8\"],[0.3333333333333333,\"#9c179e\"],[0.4444444444444444,\"#bd3786\"],[0.5555555555555556,\"#d8576b\"],[0.6666666666666666,\"#ed7953\"],[0.7777777777777778,\"#fb9f3a\"],[0.8888888888888888,\"#fdca26\"],[1.0,\"#f0f921\"]],\"type\":\"histogram2dcontour\"}],\"mesh3d\":[{\"colorbar\":{\"outlinewidth\":0,\"ticks\":\"\"},\"type\":\"mesh3d\"}],\"parcoords\":[{\"line\":{\"colorbar\":{\"outlinewidth\":0,\"ticks\":\"\"}},\"type\":\"parcoords\"}],\"pie\":[{\"automargin\":true,\"type\":\"pie\"}],\"scatter\":[{\"marker\":{\"colorbar\":{\"outlinewidth\":0,\"ticks\":\"\"}},\"type\":\"scatter\"}],\"scatter3d\":[{\"line\":{\"colorbar\":{\"outlinewidth\":0,\"ticks\":\"\"}},\"marker\":{\"colorbar\":{\"outlinewidth\":0,\"ticks\":\"\"}},\"type\":\"scatter3d\"}],\"scattercarpet\":[{\"marker\":{\"colorbar\":{\"outlinewidth\":0,\"ticks\":\"\"}},\"type\":\"scattercarpet\"}],\"scattergeo\":[{\"marker\":{\"colorbar\":{\"outlinewidth\":0,\"ticks\":\"\"}},\"type\":\"scattergeo\"}],\"scattergl\":[{\"marker\":{\"colorbar\":{\"outlinewidth\":0,\"ticks\":\"\"}},\"type\":\"scattergl\"}],\"scattermapbox\":[{\"marker\":{\"colorbar\":{\"outlinewidth\":0,\"ticks\":\"\"}},\"type\":\"scattermapbox\"}],\"scatterpolar\":[{\"marker\":{\"colorbar\":{\"outlinewidth\":0,\"ticks\":\"\"}},\"type\":\"scatterpolar\"}],\"scatterpolargl\":[{\"marker\":{\"colorbar\":{\"outlinewidth\":0,\"ticks\":\"\"}},\"type\":\"scatterpolargl\"}],\"scatterternary\":[{\"marker\":{\"colorbar\":{\"outlinewidth\":0,\"ticks\":\"\"}},\"type\":\"scatterternary\"}],\"surface\":[{\"colorbar\":{\"outlinewidth\":0,\"ticks\":\"\"},\"colorscale\":[[0.0,\"#0d0887\"],[0.1111111111111111,\"#46039f\"],[0.2222222222222222,\"#7201a8\"],[0.3333333333333333,\"#9c179e\"],[0.4444444444444444,\"#bd3786\"],[0.5555555555555556,\"#d8576b\"],[0.6666666666666666,\"#ed7953\"],[0.7777777777777778,\"#fb9f3a\"],[0.8888888888888888,\"#fdca26\"],[1.0,\"#f0f921\"]],\"type\":\"surface\"}],\"table\":[{\"cells\":{\"fill\":{\"color\":\"#EBF0F8\"},\"line\":{\"color\":\"white\"}},\"header\":{\"fill\":{\"color\":\"#C8D4E3\"},\"line\":{\"color\":\"white\"}},\"type\":\"table\"}]},\"layout\":{\"annotationdefaults\":{\"arrowcolor\":\"#2a3f5f\",\"arrowhead\":0,\"arrowwidth\":1},\"autotypenumbers\":\"strict\",\"coloraxis\":{\"colorbar\":{\"outlinewidth\":0,\"ticks\":\"\"}},\"colorscale\":{\"diverging\":[[0,\"#8e0152\"],[0.1,\"#c51b7d\"],[0.2,\"#de77ae\"],[0.3,\"#f1b6da\"],[0.4,\"#fde0ef\"],[0.5,\"#f7f7f7\"],[0.6,\"#e6f5d0\"],[0.7,\"#b8e186\"],[0.8,\"#7fbc41\"],[0.9,\"#4d9221\"],[1,\"#276419\"]],\"sequential\":[[0.0,\"#0d0887\"],[0.1111111111111111,\"#46039f\"],[0.2222222222222222,\"#7201a8\"],[0.3333333333333333,\"#9c179e\"],[0.4444444444444444,\"#bd3786\"],[0.5555555555555556,\"#d8576b\"],[0.6666666666666666,\"#ed7953\"],[0.7777777777777778,\"#fb9f3a\"],[0.8888888888888888,\"#fdca26\"],[1.0,\"#f0f921\"]],\"sequentialminus\":[[0.0,\"#0d0887\"],[0.1111111111111111,\"#46039f\"],[0.2222222222222222,\"#7201a8\"],[0.3333333333333333,\"#9c179e\"],[0.4444444444444444,\"#bd3786\"],[0.5555555555555556,\"#d8576b\"],[0.6666666666666666,\"#ed7953\"],[0.7777777777777778,\"#fb9f3a\"],[0.8888888888888888,\"#fdca26\"],[1.0,\"#f0f921\"]]},\"colorway\":[\"#636efa\",\"#EF553B\",\"#00cc96\",\"#ab63fa\",\"#FFA15A\",\"#19d3f3\",\"#FF6692\",\"#B6E880\",\"#FF97FF\",\"#FECB52\"],\"font\":{\"color\":\"#2a3f5f\"},\"geo\":{\"bgcolor\":\"white\",\"lakecolor\":\"white\",\"landcolor\":\"#E5ECF6\",\"showlakes\":true,\"showland\":true,\"subunitcolor\":\"white\"},\"hoverlabel\":{\"align\":\"left\"},\"hovermode\":\"closest\",\"mapbox\":{\"style\":\"light\"},\"paper_bgcolor\":\"white\",\"plot_bgcolor\":\"#E5ECF6\",\"polar\":{\"angularaxis\":{\"gridcolor\":\"white\",\"linecolor\":\"white\",\"ticks\":\"\"},\"bgcolor\":\"#E5ECF6\",\"radialaxis\":{\"gridcolor\":\"white\",\"linecolor\":\"white\",\"ticks\":\"\"}},\"scene\":{\"xaxis\":{\"backgroundcolor\":\"#E5ECF6\",\"gridcolor\":\"white\",\"gridwidth\":2,\"linecolor\":\"white\",\"showbackground\":true,\"ticks\":\"\",\"zerolinecolor\":\"white\"},\"yaxis\":{\"backgroundcolor\":\"#E5ECF6\",\"gridcolor\":\"white\",\"gridwidth\":2,\"linecolor\":\"white\",\"showbackground\":true,\"ticks\":\"\",\"zerolinecolor\":\"white\"},\"zaxis\":{\"backgroundcolor\":\"#E5ECF6\",\"gridcolor\":\"white\",\"gridwidth\":2,\"linecolor\":\"white\",\"showbackground\":true,\"ticks\":\"\",\"zerolinecolor\":\"white\"}},\"shapedefaults\":{\"line\":{\"color\":\"#2a3f5f\"}},\"ternary\":{\"aaxis\":{\"gridcolor\":\"white\",\"linecolor\":\"white\",\"ticks\":\"\"},\"baxis\":{\"gridcolor\":\"white\",\"linecolor\":\"white\",\"ticks\":\"\"},\"bgcolor\":\"#E5ECF6\",\"caxis\":{\"gridcolor\":\"white\",\"linecolor\":\"white\",\"ticks\":\"\"}},\"title\":{\"x\":0.05},\"xaxis\":{\"automargin\":true,\"gridcolor\":\"white\",\"linecolor\":\"white\",\"ticks\":\"\",\"title\":{\"standoff\":15},\"zerolinecolor\":\"white\",\"zerolinewidth\":2},\"yaxis\":{\"automargin\":true,\"gridcolor\":\"white\",\"linecolor\":\"white\",\"ticks\":\"\",\"title\":{\"standoff\":15},\"zerolinecolor\":\"white\",\"zerolinewidth\":2}}},\"xaxis\":{\"anchor\":\"y\",\"domain\":[0.0,1.0],\"title\":{\"text\":\"appears\"}},\"yaxis\":{\"anchor\":\"x\",\"domain\":[0.0,1.0],\"title\":{\"text\":\"count\"}},\"legend\":{\"tracegroupgap\":0},\"title\":{\"text\":\"How many words(count) appear how many times(appears)\"},\"barmode\":\"relative\"},                        {\"responsive\": true}                    ).then(function(){\n",
              "                            \n",
              "var gd = document.getElementById('cc1a8b21-a238-47b9-9a06-3cf60fb8f4ea');\n",
              "var x = new MutationObserver(function (mutations, observer) {{\n",
              "        var display = window.getComputedStyle(gd).display;\n",
              "        if (!display || display === 'none') {{\n",
              "            console.log([gd, 'removed!']);\n",
              "            Plotly.purge(gd);\n",
              "            observer.disconnect();\n",
              "        }}\n",
              "}});\n",
              "\n",
              "// Listen for the removal of the full notebook cells\n",
              "var notebookContainer = gd.closest('#notebook-container');\n",
              "if (notebookContainer) {{\n",
              "    x.observe(notebookContainer, {childList: true});\n",
              "}}\n",
              "\n",
              "// Listen for the clearing of the current output cell\n",
              "var outputEl = gd.closest('.output');\n",
              "if (outputEl) {{\n",
              "    x.observe(outputEl, {childList: true});\n",
              "}}\n",
              "\n",
              "                        })                };                            </script>        </div>\n",
              "</body>\n",
              "</html>"
            ]
          },
          "metadata": {}
        },
        {
          "output_type": "execute_result",
          "data": {
            "text/html": [
              "\n",
              "  <div id=\"df-31599fce-a820-4fcf-a127-085dcd52da1d\">\n",
              "    <div class=\"colab-df-container\">\n",
              "      <div>\n",
              "<style scoped>\n",
              "    .dataframe tbody tr th:only-of-type {\n",
              "        vertical-align: middle;\n",
              "    }\n",
              "\n",
              "    .dataframe tbody tr th {\n",
              "        vertical-align: top;\n",
              "    }\n",
              "\n",
              "    .dataframe thead th {\n",
              "        text-align: right;\n",
              "    }\n",
              "</style>\n",
              "<table border=\"1\" class=\"dataframe\">\n",
              "  <thead>\n",
              "    <tr style=\"text-align: right;\">\n",
              "      <th></th>\n",
              "      <th>appears</th>\n",
              "    </tr>\n",
              "  </thead>\n",
              "  <tbody>\n",
              "    <tr>\n",
              "      <th>year</th>\n",
              "      <td>5</td>\n",
              "    </tr>\n",
              "    <tr>\n",
              "      <th>star</th>\n",
              "      <td>3</td>\n",
              "    </tr>\n",
              "    <tr>\n",
              "      <th>firm</th>\n",
              "      <td>3</td>\n",
              "    </tr>\n",
              "    <tr>\n",
              "      <th>top</th>\n",
              "      <td>2</td>\n",
              "    </tr>\n",
              "    <tr>\n",
              "      <th>election</th>\n",
              "      <td>2</td>\n",
              "    </tr>\n",
              "  </tbody>\n",
              "</table>\n",
              "</div>\n",
              "      <button class=\"colab-df-convert\" onclick=\"convertToInteractive('df-31599fce-a820-4fcf-a127-085dcd52da1d')\"\n",
              "              title=\"Convert this dataframe to an interactive table.\"\n",
              "              style=\"display:none;\">\n",
              "        \n",
              "  <svg xmlns=\"http://www.w3.org/2000/svg\" height=\"24px\"viewBox=\"0 0 24 24\"\n",
              "       width=\"24px\">\n",
              "    <path d=\"M0 0h24v24H0V0z\" fill=\"none\"/>\n",
              "    <path d=\"M18.56 5.44l.94 2.06.94-2.06 2.06-.94-2.06-.94-.94-2.06-.94 2.06-2.06.94zm-11 1L8.5 8.5l.94-2.06 2.06-.94-2.06-.94L8.5 2.5l-.94 2.06-2.06.94zm10 10l.94 2.06.94-2.06 2.06-.94-2.06-.94-.94-2.06-.94 2.06-2.06.94z\"/><path d=\"M17.41 7.96l-1.37-1.37c-.4-.4-.92-.59-1.43-.59-.52 0-1.04.2-1.43.59L10.3 9.45l-7.72 7.72c-.78.78-.78 2.05 0 2.83L4 21.41c.39.39.9.59 1.41.59.51 0 1.02-.2 1.41-.59l7.78-7.78 2.81-2.81c.8-.78.8-2.07 0-2.86zM5.41 20L4 18.59l7.72-7.72 1.47 1.35L5.41 20z\"/>\n",
              "  </svg>\n",
              "      </button>\n",
              "      \n",
              "  <style>\n",
              "    .colab-df-container {\n",
              "      display:flex;\n",
              "      flex-wrap:wrap;\n",
              "      gap: 12px;\n",
              "    }\n",
              "\n",
              "    .colab-df-convert {\n",
              "      background-color: #E8F0FE;\n",
              "      border: none;\n",
              "      border-radius: 50%;\n",
              "      cursor: pointer;\n",
              "      display: none;\n",
              "      fill: #1967D2;\n",
              "      height: 32px;\n",
              "      padding: 0 0 0 0;\n",
              "      width: 32px;\n",
              "    }\n",
              "\n",
              "    .colab-df-convert:hover {\n",
              "      background-color: #E2EBFA;\n",
              "      box-shadow: 0px 1px 2px rgba(60, 64, 67, 0.3), 0px 1px 3px 1px rgba(60, 64, 67, 0.15);\n",
              "      fill: #174EA6;\n",
              "    }\n",
              "\n",
              "    [theme=dark] .colab-df-convert {\n",
              "      background-color: #3B4455;\n",
              "      fill: #D2E3FC;\n",
              "    }\n",
              "\n",
              "    [theme=dark] .colab-df-convert:hover {\n",
              "      background-color: #434B5C;\n",
              "      box-shadow: 0px 1px 3px 1px rgba(0, 0, 0, 0.15);\n",
              "      filter: drop-shadow(0px 1px 2px rgba(0, 0, 0, 0.3));\n",
              "      fill: #FFFFFF;\n",
              "    }\n",
              "  </style>\n",
              "\n",
              "      <script>\n",
              "        const buttonEl =\n",
              "          document.querySelector('#df-31599fce-a820-4fcf-a127-085dcd52da1d button.colab-df-convert');\n",
              "        buttonEl.style.display =\n",
              "          google.colab.kernel.accessAllowed ? 'block' : 'none';\n",
              "\n",
              "        async function convertToInteractive(key) {\n",
              "          const element = document.querySelector('#df-31599fce-a820-4fcf-a127-085dcd52da1d');\n",
              "          const dataTable =\n",
              "            await google.colab.kernel.invokeFunction('convertToInteractive',\n",
              "                                                     [key], {});\n",
              "          if (!dataTable) return;\n",
              "\n",
              "          const docLinkHtml = 'Like what you see? Visit the ' +\n",
              "            '<a target=\"_blank\" href=https://colab.research.google.com/notebooks/data_table.ipynb>data table notebook</a>'\n",
              "            + ' to learn more about interactive tables.';\n",
              "          element.innerHTML = '';\n",
              "          dataTable['output_type'] = 'display_data';\n",
              "          await google.colab.output.renderOutput(dataTable, element);\n",
              "          const docLink = document.createElement('div');\n",
              "          docLink.innerHTML = docLinkHtml;\n",
              "          element.appendChild(docLink);\n",
              "        }\n",
              "      </script>\n",
              "    </div>\n",
              "  </div>\n",
              "  "
            ],
            "text/plain": [
              "          appears\n",
              "year            5\n",
              "star            3\n",
              "firm            3\n",
              "top             2\n",
              "election        2"
            ]
          },
          "metadata": {},
          "execution_count": 53
        }
      ]
    },
    {
      "cell_type": "code",
      "execution_count": null,
      "metadata": {
        "id": "fs_82eMBghGs",
        "colab": {
          "base_uri": "https://localhost:8080/"
        },
        "outputId": "c6c27c9d-3ce8-4be9-d233-7adf98fb2b3f"
      },
      "outputs": [
        {
          "output_type": "stream",
          "name": "stdout",
          "text": [
            "topic 1 - 8 tensor(0.9374, device='cuda:0')\n",
            "topic 3 - 10 tensor(0.9751, device='cuda:0')\n",
            "Cosine similarity b/w topic embeddings w score >=  0.9  | Count -  2\n"
          ]
        }
      ],
      "source": [
        "## np. of topics with similar topic embeddings -->\n",
        "count = 0\n",
        "cos_sim_threshold = 0.9\n",
        "for i in range(num_topic):\n",
        "  for j in range(i):\n",
        "    sim_score_topics = cos_sim(model.mu_z[j],model.mu_z[i])\n",
        "    if sim_score_topics.item()>=cos_sim_threshold:\n",
        "      print(\"topic\",j ,\"-\",i,cos_sim(model.mu_z[j],model.mu_z[i]))\n",
        "      count += 1\n",
        "print(\"Cosine similarity b/w topic embeddings w score >= \",cos_sim_threshold,\" | Count - \",count)"
      ]
    },
    {
      "cell_type": "code",
      "execution_count": null,
      "metadata": {
        "id": "WYr5nG3aNHwm",
        "colab": {
          "base_uri": "https://localhost:8080/"
        },
        "outputId": "b9a55dd5-42f9-4bb0-afca-428d570e7ec6"
      },
      "outputs": [
        {
          "output_type": "stream",
          "name": "stdout",
          "text": [
            "topic0 :  stock\n",
            "topic1 :  microsoft\n",
            "topic2 :  stock\n",
            "topic3 :  dummy\n",
            "topic4 :  stock\n",
            "topic5 :  stock\n",
            "topic6 :  stock\n",
            "topic7 :  dummy\n",
            "topic8 :  stock\n",
            "topic9 :  microsoft\n",
            "topic10 :  dummy\n",
            "topic11 :  microsoft\n",
            "topic12 :  dummy\n",
            "topic13 :  apple\n",
            "topic14 :  dummy\n",
            "Relv topics:  10\n",
            "Irrelv topics:  5\n"
          ]
        }
      ],
      "source": [
        "keyword_vis_labels = get_keywords(d_data)+['dummy']\n",
        "min_d_tk, min_d_tk_keyidx = torch.min(dist_key_topic,-1)\n",
        "for i in range(num_topic):\n",
        "  print(\"topic\"+str(i)+\" : \",keyword_vis_labels[min_d_tk_keyidx[i].item()])\n",
        "print(\"Relv topics: \",len(torch.where(min_d_tk_keyidx !=len(keywords))[0]))\n",
        "print(\"Irrelv topics: \",len(torch.where(min_d_tk_keyidx ==len(keywords))[0]))"
      ]
    },
    {
      "cell_type": "code",
      "execution_count": null,
      "metadata": {
        "id": "5UFlBZunULZK",
        "colab": {
          "base_uri": "https://localhost:8080/"
        },
        "outputId": "9f393e2d-7777-4235-9ae7-0d43a970ccef"
      },
      "outputs": [
        {
          "output_type": "execute_result",
          "data": {
            "text/plain": [
              "(1355, 978)"
            ]
          },
          "metadata": {},
          "execution_count": 56
        }
      ],
      "source": [
        "# #@title topk DESM Docs in Vis\n",
        "# #Vs Doc containing the keyword (Not used anymore)\n",
        "# topk=100 #@param {type:\"slider\", min:50, max:1000, step:50}\n",
        "\n",
        "### Document closest to any one of the actual labels (all except dummy) ####\n",
        "min_d, min_d_keyidx = torch.min(dist_doc_key,-1)\n",
        "wh_not_dummy_idx = torch.where(min_d_keyidx != len(keywords))[0].numpy()\n",
        "\n",
        "topk = len(wh_not_dummy_idx)\n",
        "sorted_docs, sorted_idxs = torch.sort(docs_rscore,descending=True)\n",
        "topk_DESM_idxs = sorted_idxs[:topk].numpy()\n",
        "topk_DESM_scores = sorted_docs[:topk].numpy()\n",
        "# relv_idxs = np.asarray([np.where(doc_ids == topk_DESM_idxs[i])[0][0] for i in range(len(topk_DESM_idxs)) ])\n",
        "\n",
        "topk_desm_x = x_list[topk_DESM_idxs]\n",
        "topk_desm_x_label = labels_list[topk_DESM_idxs]\n",
        "DESM_Foto_common = np.intersect1d(wh_not_dummy_idx[:topk],topk_DESM_idxs)\n",
        "#### Doc containing the keyword ####\n",
        "# all_key_doc_vis = []\n",
        "# for k in keywords:\n",
        "#   all_key_doc_vis.extend(doc_contains_keyidx[k])\n",
        "# doc_ids_doc_Conkey = np.asarray([np.where(doc_ids == i)[0][0] for i in all_key_doc_vis])\n",
        "len(wh_not_dummy_idx),len(DESM_Foto_common)"
      ]
    },
    {
      "cell_type": "code",
      "execution_count": null,
      "metadata": {
        "cellView": "form",
        "id": "i0bAD46-X5XD"
      },
      "outputs": [],
      "source": [
        "#@title plot F(n) - fig_On_fig + doc_id_on_fig\n",
        "\n",
        "def plot_fig_doc(zx, labels_list, zphi, query_center,query_words,keywords,lim,C,doc_ids,all_key_doc_vis,contour='No'):\n",
        "\n",
        "    fig, ax = plt.subplots( figsize=(20, 20))\n",
        "    if contour=='yes':\n",
        "       get_Contour(ax,zx,lim)\n",
        "\n",
        "    labels_dict = get_labels_dict(sorted_unique_labels)\n",
        "    # sb.scatterplot(ax=ax,x=zx[:,0],y=zx[:,1],hue=labels_list,alpha=0.8,palette='deep')\n",
        "    sb.scatterplot(ax=ax,x=zx[:,0],y=zx[:,1],hue=labels_list,alpha=0.8,palette=labels_dict)\n",
        "\n",
        "    ax.set(ylim=(-lim,lim))\n",
        "    ax.set(xlim=(-lim,lim))\n",
        "\n",
        "    for i in range(len(query_words)):\n",
        "      if (i==len(query_words)-1):\n",
        "        ax.text(query_words[i][0],query_words[i][1], 'X'+keywords[i] ,c='black',weight='bold')\n",
        "      else:\n",
        "        ax.text(query_words[i][0],query_words[i][1], 'X'+keywords[i] ,c='black',weight='bold')\n",
        "\n",
        "    ax.scatter(zphi[:, 0], zphi[:, 1], alpha=1.0,  edgecolors='black', facecolors='none', s=30)\n",
        "\n",
        "    for id in doc_ids:\n",
        "      if id in all_key_doc_vis:\n",
        "    #     # zidx = np.where(doc_ids==id)\n",
        "        ax.text(zx[id,0],zx[id,1], 'D'+str(id) ,c='blue')\n",
        "\n",
        "    for indx, topic in enumerate(zphi):\n",
        "        ax.text(zphi[indx, 0], zphi[indx, 1], 'topic'+str(indx))\n",
        "\n",
        "def plot_fig_On_fig(zx, labels_list,doc_Cx,doc_Cl, zphi, query_center,query_words,keywords,lim,contour='No'):\n",
        "\n",
        "    fig, ax = plt.subplots( figsize=(20, 20))\n",
        "    if contour=='yes':\n",
        "       get_Contour(ax,zx,lim)\n",
        "\n",
        "\n",
        "    labels_dict = get_labels_dict(sorted_unique_labels)\n",
        "    g1 = sb.scatterplot(ax=ax,x=zx[:,0],y=zx[:,1],hue=labels_list,palette=labels_dict,alpha=1.0,s=200) # DESM\n",
        "    # g2 = sb.scatterplot(ax=ax,x=doc_Cx[:,0],y=doc_Cx[:,1],hue=doc_Cl,palette=labels_dict,alpha=0.5,marker=\"X\",s=50)\n",
        "    g2 = sb.scatterplot(ax=ax,x=doc_Cx[:,0],y=doc_Cx[:,1],c=['black']*len(doc_Cx),alpha=0.5,marker=\"X\",s=200)\n",
        "\n",
        "    ax.set(ylim=(-lim,lim))\n",
        "    ax.set(xlim=(-lim,lim))\n",
        "\n",
        "\n",
        "    for i in range(len(query_words)):\n",
        "      if (i==len(query_words)-1):\n",
        "        ax.text(query_words[i][0],query_words[i][1], 'X'+keywords[i] ,c='black',weight='bold')\n",
        "      else:\n",
        "        ax.text(query_words[i][0],query_words[i][1], 'X'+keywords[i] ,c='black',weight='bold')\n",
        "\n",
        "    ax.scatter(zphi[:, 0], zphi[:, 1], alpha=1.0,  edgecolors='black', facecolors='none', s=50)\n",
        "\n",
        "    for indx, topic in enumerate(zphi):\n",
        "        ax.text(zphi[indx, 0], zphi[indx, 1], 'topic'+str(indx))"
      ]
    },
    {
      "cell_type": "code",
      "execution_count": null,
      "metadata": {
        "id": "rAAbQoUXOeDU",
        "colab": {
          "base_uri": "https://localhost:8080/"
        },
        "outputId": "da1879ad-bc97-4b61-9b1e-246979b8c429"
      },
      "outputs": [
        {
          "output_type": "stream",
          "name": "stdout",
          "text": [
            "------------------------------\n",
            "0: united arsenal manchester chelsea drug bos sprinter bid greek sport manager wenger athletics ferguson doping ruled hope campbell chance arsene\n",
            "1: sale year rate month economy growth boost job december japan interest profit expected business strong biggest set report record figure\n",
            "2: firm hit oil dollar price share group euro cost economic cut year buy low european high news energy airline asia\n",
            "3: film year award oscar british star top festival box prize actor best hit office book win named director lead winner\n",
            "4: bank deal state india budget spending company car hold agreed south trade china russian pay maker official chinese giant president\n",
            "5: blair brown tony gordon report chief election bbc tax aid british public trial poll top chancellor bush talk budget european\n",
            "6: london market share stock bid takeover exchange talk sell lse watchdog company executive bank boss deutsche tough german report probe\n",
            "7: plan tory election party howard government minister court leader general michael campaign law terror people voter claim face cut target\n",
            "8: profit year sale economy job record rise three figure growth biggest boost german level china reported europe month price country\n",
            "9: mobile phone net internet search offer web broadband firm help technology launched access service online move consumer business fast suggests\n",
            "10: film award top best star oscar movie actor bbc year office director hollywood win won british box brit actress prize\n",
            "11: game microsoft computer network people mail software sony gadget firm security industry peer video virus website warning digital console dvd\n",
            "12: england nation final wale win ireland open return coach saturday international victory rugby match championship injury cup second australian britain\n",
            "13: music apple band year rock singer chart star three single big fan pop died concert find woman blogger los radio\n",
            "14: cup champion striker newcastle win league manager club madrid holmes real indoor liverpool city season man benitez test move join\n",
            "------------------------------\n",
            "['apple', 'microsoft', 'stock']\n"
          ]
        }
      ],
      "source": [
        "print_Topics(topwords=20)\n",
        "print(get_keywords(d_data)) #, which_focus,threshold_model"
      ]
    },
    {
      "cell_type": "code",
      "execution_count": null,
      "metadata": {
        "id": "3HChUYWZny-p",
        "colab": {
          "base_uri": "https://localhost:8080/"
        },
        "outputId": "b7ebfff4-03f8-4174-bce7-8554c01302ef"
      },
      "outputs": [
        {
          "output_type": "stream",
          "name": "stdout",
          "text": [
            "apple  :  ['apple' 'sharer' 'powerbook' 'ipod' 'diy' 'mac' 'itunes' 'cheapest'\n",
            " 'warm' 'expanded' 'tiger' 'liberty' 'billed' 'source' 'mini' 'macintosh'\n",
            " 'expands' 'hacker' 'journalist' 'reveal']\n",
            "microsoft  :  ['microsoft' 'blogging' 'bumper' 'sneak' 'spyware' 'firefox' 'desktop'\n",
            " 'codenamed' 'explorer' 'patch' 'plunge' 'trojan' 'xbox' 'flaw' 'xenon'\n",
            " 'clamping' 'browser' 'movement' 'paying' 'safer']\n",
            "stock  :  ['stock' 'exchange' 'karachi' 'euronext' 'ferrari' 'suitor' 'nasdaq'\n",
            " 'soften' 'standoff' 'colludes' 'lse' 'jakarta' 'core' 'governance'\n",
            " 'enron' 'bat' 'market' 'voiced' 'cheer' 'spit']\n"
          ]
        }
      ],
      "source": [
        "for k in range(len(keywords)):\n",
        "  v, i = torch.sort(all_keywords_score[k],descending=True)\n",
        "  print(keywords[k],\" : \",np.array(word_list)[np.array(i)][:20])"
      ]
    },
    {
      "cell_type": "code",
      "execution_count": null,
      "metadata": {
        "id": "4XHM7TmQXCoL"
      },
      "outputs": [],
      "source": [
        "# # plot_fig_On_fig(topk_desm_x, topk_desm_x_label,x_list[wh_not_dummy_idx][:topk],labels_list[wh_not_dummy_idx][:topk],\n",
        "# #                 zphi,query_center,query_words,keywords=keyword_vis_labels,lim =15,contour='yes') # x: Closest to keywords\n",
        "\n",
        "# plot_fig(topk_desm_x, topk_desm_x_label, zphi,query_center,query_words=query_words,\n",
        "#          keywords=keyword_vis_labels,lim =20,contour='yes')\n",
        "\n",
        "# topk = len(wh_not_dummy_idx)\n",
        "# plot_fig(x_list[wh_not_dummy_idx][:topk], labels_list[wh_not_dummy_idx][:topk], zphi,query_center,query_words=query_words,\n",
        "#          keywords=keyword_vis_labels,lim =20,contour='yes')"
      ]
    },
    {
      "cell_type": "code",
      "source": [
        "# plot_fig(x_list, labels_list, zphi,query_center,query_words=query_words,\n",
        "#          keywords=keyword_vis_labels,lim =20,contour='yes')\n",
        "\n",
        "# # plot_fig(x_list[DESM_Foto_common], labels_list[DESM_Foto_common], zphi,query_center,query_words=query_words,\n",
        "# #          keywords=keyword_vis_labels,lim =20,contour='yes')\n",
        "\n",
        "# print_Topics(topwords=20)\n",
        "# print(get_keywords(d_data))"
      ],
      "metadata": {
        "id": "uWX4BzToZc_h"
      },
      "execution_count": null,
      "outputs": []
    },
    {
      "cell_type": "code",
      "source": [
        "import numpy as np\n",
        "import pandas as pd\n",
        "import seaborn as sns\n",
        "import matplotlib as mpl\n",
        "import matplotlib.pyplot as plt\n",
        "\n",
        "def plot_heatmap(zx,color,zphi,query_words,keyword_vis_labels,cmap,lim):\n",
        "  # g = sns.FacetGrid(iris, col = 'species', hue = 'petal_length', palette = 'seismic')\n",
        "  # g = g.map(plt.scatter, 'sepal_length', 'sepal_width', s = 100, alpha = 0.5)\n",
        "  # g.add_legend()\n",
        "\n",
        "  fig, ax = plt.subplots( figsize=(20, 20))\n",
        "  # lim = 15\n",
        "  ax.set(ylim=(-lim,lim))\n",
        "  ax.set(xlim=(-lim,lim))\n",
        "\n",
        "  # zx = topk_desm_x\n",
        "  # color = topk_DESM_scores\n",
        "\n",
        "  # zx = x_list\n",
        "  # color= sorted_docs\n",
        "\n",
        "  # zx = x_list[DESM_Foto_common]\n",
        "  # color = torch.where(min_d_keyidx!=2,0,1) ## wrt keywords\n",
        "  # color = dist_doc_key[DESM_Foto_common][:,2] ## wrt DESM score for actual keywords\n",
        "\n",
        "  plt.scatter(x=zx[:,0],y=zx[:,1], alpha = .8, c = color, cmap = cmap,edgecolors='white')\n",
        "  # ax.collections[0].colorbar.set_label(\"Hello\")\n",
        "  cbar = plt.colorbar()\n",
        "\n",
        "\n",
        "  for i in range(len(query_words)):\n",
        "    if (i==len(query_words)-1):\n",
        "      ax.text(query_words[i][0],query_words[i][1], 'X'+keyword_vis_labels[i] ,c='black',weight='bold')\n",
        "    else:\n",
        "      ax.text(query_words[i][0],query_words[i][1], 'X'+keyword_vis_labels[i] ,c='black',weight='bold')\n",
        "\n",
        "  ax.scatter(zphi[:, 0], zphi[:, 1], alpha=1.0,  edgecolors='black', facecolors='none', s=30)\n",
        "\n",
        "  for indx, topic in enumerate(zphi):\n",
        "      ax.text(zphi[indx, 0], zphi[indx, 1], 'topic'+str(indx))"
      ],
      "metadata": {
        "id": "NHfKfHFqxGD6"
      },
      "execution_count": null,
      "outputs": []
    },
    {
      "cell_type": "code",
      "source": [
        "def plot_examples(cms):\n",
        "    \"\"\"\n",
        "    helper function to plot two colormaps\n",
        "    \"\"\"\n",
        "    np.random.seed(19680801)\n",
        "    data = np.random.randn(30, 30)\n",
        "\n",
        "    fig, axs = plt.subplots(1, 2, figsize=(6, 3), constrained_layout=True)\n",
        "    for [ax, cmap] in zip(axs, cms):\n",
        "        psm = ax.pcolormesh(data, cmap=cmap, rasterized=True, vmin=-4, vmax=4)\n",
        "        fig.colorbar(psm, ax=ax)\n",
        "    plt.show()"
      ],
      "metadata": {
        "id": "S9MXdTOZevSb"
      },
      "execution_count": null,
      "outputs": []
    },
    {
      "cell_type": "code",
      "source": [
        "import matplotlib.colors as clr\n",
        "import numpy as np\n",
        "some_matrix = np.random.rand(10,10)\n",
        "cmap = clr.LinearSegmentedColormap.from_list('custom blue', [\"#54cf08\",'#cfbb08','#ff0505'], N=256)\n",
        "plt.matshow(some_matrix, cmap=cmap)\n",
        "# plt.show()"
      ],
      "metadata": {
        "colab": {
          "base_uri": "https://localhost:8080/",
          "height": 293
        },
        "id": "KkYRtf3AvhgM",
        "outputId": "33a6c7ab-ce1a-437d-bf5d-bd07dddc1c4f"
      },
      "execution_count": null,
      "outputs": [
        {
          "output_type": "execute_result",
          "data": {
            "text/plain": [
              "<matplotlib.image.AxesImage at 0x7f20119d6c90>"
            ]
          },
          "metadata": {},
          "execution_count": 64
        },
        {
          "output_type": "display_data",
          "data": {
            "image/png": "[encoded data removed]",
            "text/plain": [
              "<Figure size 288x288 with 1 Axes>"
            ]
          },
          "metadata": {
            "needs_background": "light"
          }
        }
      ]
    },
    {
      "cell_type": "code",
      "source": [
        "plot_heatmap(x_list,docs_rscore,zphi,query_words,keyword_vis_labels,cmap=cmap,lim=20) # cmap  #magma, seismic, autumn, (Pastel2,Dark2,Paired)"
      ],
      "metadata": {
        "colab": {
          "base_uri": "https://localhost:8080/",
          "height": 1000
        },
        "id": "ZYPFPMdMBCpJ",
        "outputId": "a9a1a3b7-3432-42c7-ac9a-390d206a58cf"
      },
      "execution_count": null,
      "outputs": [
        {
          "output_type": "display_data",
          "data": {
            "image/png": "[encoded data removed]",
            "text/plain": [
              "<Figure size 1440x1440 with 2 Axes>"
            ]
          },
          "metadata": {
            "needs_background": "light"
          }
        }
      ]
    },
    {
      "cell_type": "code",
      "source": [
        "# # scaled_dist = scaler.fit_transform(dist_doc_key[:,len(keywords)].reshape(-1,1))\n",
        "\n",
        "# min_d_ok = torch.min(dist_doc_key[:,:-1],-1).values\n",
        "# scaled_dist = scaler.fit_transform(min_d_ok.reshape(-1,1))\n",
        "# plot_heatmap(x_list,1-min_d_ok,zphi,query_words,keyword_vis_labels,cmap=newcmp,lim=20)"
      ],
      "metadata": {
        "id": "5s5RBEmuBT0Z"
      },
      "execution_count": null,
      "outputs": []
    },
    {
      "cell_type": "markdown",
      "metadata": {
        "id": "oCVawukWgxeH"
      },
      "source": [
        "# ____ STOP____"
      ]
    },
    {
      "cell_type": "code",
      "execution_count": null,
      "metadata": {
        "id": "xiUorw-Xg0Hg",
        "colab": {
          "base_uri": "https://localhost:8080/",
          "height": 134
        },
        "outputId": "40d4e615-b2ec-49f8-fd8e-916533623939"
      },
      "outputs": [
        {
          "output_type": "error",
          "ename": "SyntaxError",
          "evalue": "ignored",
          "traceback": [
            "\u001b[0;36m  File \u001b[0;32m\"<ipython-input-67-b364428b80d5>\"\u001b[0;36m, line \u001b[0;32m1\u001b[0m\n\u001b[0;31m    STOP!!!!\u001b[0m\n\u001b[0m        ^\u001b[0m\n\u001b[0;31mSyntaxError\u001b[0m\u001b[0;31m:\u001b[0m invalid syntax\n"
          ]
        }
      ],
      "source": [
        "STOP!!!!"
      ]
    },
    {
      "cell_type": "code",
      "execution_count": null,
      "metadata": {
        "id": "A2gbTUI2g1Vt"
      },
      "outputs": [],
      "source": [
        "STOP!!!!"
      ]
    },
    {
      "cell_type": "code",
      "execution_count": null,
      "metadata": {
        "id": "Ng3vECMBg1o1"
      },
      "outputs": [],
      "source": [
        "STOP!!!!"
      ]
    },
    {
      "cell_type": "markdown",
      "source": [
        "# Furthur Evaluation (TTM etc..)"
      ],
      "metadata": {
        "id": "nt3Y9cqyMPAB"
      }
    },
    {
      "cell_type": "code",
      "source": [
        "## ToDo\n",
        "\n",
        "# vis of bbc, searchsnippet: Foto, TTM, WTM: 10, 20, 30 topics, old beta, heatmap\n",
        "# sum cosine scores top words (10, 20)"
      ],
      "metadata": {
        "id": "JYUJvcuIKl6J"
      },
      "execution_count": null,
      "outputs": []
    },
    {
      "cell_type": "code",
      "source": [
        "# New Beta cos (for long text) -\n",
        "# softmax((\\tau*\\keyEmbT)*\\cos)\n",
        "# ------------------------------\n",
        "# 0: democracy korean representative star actress action war republic actor amazon stanford college party asian photo school info president critic life\n",
        "# 1: news wikipedia business computer system online game resource encyclopedia health web wiki sport article theory journal service book program link\n",
        "# 2: physic computer service device sale digital theme drama software music performance radio field journal internet database program driver development company\n",
        "# 3: gov team news product topic global issue cover solution management source article consumer overview history application division multi learn system\n",
        "# 4: drama art classical dance character literature beatles ballet architecture television fashion cup artist photography literary philosopher doctor museum film movie\n",
        "# 5: solving square maintenance implication enabling lose monitoring roadmap amp disaster handling monitor vendor problem control environmental solution recovery function measure\n",
        "# 6: movie culture film school democracy college star actor war blog republic car chinese forum tom character action doctor actress football\n",
        "# 7: korean eng representative gov korea sun star democracy actress spotlight dennis powered action doc ngo head israel bush men cross\n",
        "# 8: science music art yahoo political library market search student course theoretical site video job american fashion graduate philosophy digital museum\n",
        "# 9: democracy korean representative star actress action war republic actor amazon stanford college party asian photo school info president critic life\n",
        "# ------------------------------\n",
        "# ['korean', 'drama']\n",
        "\n",
        "# --------------------------------------- VS -------------------------------------------\n",
        "# Old Beta cos (For short text)\n",
        "# softmax ( (\\omegaT*\\tau).cos)\n",
        "# ------------------------------\n",
        "# 0: game sport news football wikipedia soccer team league player tennis match ticket wiki espn article club website racing encyclopedia olympic\n",
        "# 1: computer software network memory web drug intel system electrical linux server device company virtual download motor core processor source document\n",
        "# 2: wikipedia journal theory computer program system web science university article wiki paper theoretical programming encyclopedia physic center data link engineering\n",
        "# 3: amazon book history wikipedia car house online film encyclopedia award video model search american people photo event production community wiki\n",
        "# 4: business health gov market service trade cancer economic product management news disease national bank global exchange federal stock resource public\n",
        "# 5: party democracy political war system republic government democratic presidential election president income parliamentary politics automatic stress people europe representative tax\n",
        "# 6: movie culture imdb star news american oscar film actor disney tom director george ancient robert character cartoon guide biography leonardo\n",
        "# 7: science school library news student yahoo course directory job education online resource graduate study search site philosophy physical degree master\n",
        "# 8: gov engine calorie military healthy hiv diet theorem food diagnosis aid fitness force hospital earth medical weapon north legislation weight\n",
        "# 9: music art fashion digital band artist lyric review wheel rock album classical romantic video piano painting camera pop designer television\n",
        "# ------------------------------\n",
        "# ['korean', 'drama']"
      ],
      "metadata": {
        "id": "2RImm7Sm7AKc"
      },
      "execution_count": null,
      "outputs": []
    },
    {
      "cell_type": "code",
      "execution_count": null,
      "metadata": {
        "id": "i-yI2tVon4Hw"
      },
      "outputs": [],
      "source": [
        "import plotly.express as px\n",
        "def plot_relv_topwords(keywords,np_topics_wordsScores):\n",
        "  for i in range(len(keywords)):\n",
        "    fig = px.histogram(pd.DataFrame(np_topics_wordsScores[i],columns=['scores']), x=\"scores\")\n",
        "    print(keywords[i])\n",
        "    fig.show()\n",
        "# print(\"Spike Slab Filter (top # relv words that represents documents):\",spikeSlab_filter,\"\\n\\n\")"
      ]
    },
    {
      "cell_type": "code",
      "execution_count": null,
      "metadata": {
        "id": "lF7nl5p3fYfP"
      },
      "outputs": [],
      "source": [
        "## How much are the topic topwords relevant to keywords\n",
        "## (Calc using cosine sim score)\n",
        "# with_cos_score_more_than = 0.45\n",
        "\n",
        "all_topics = get_topwords(beta,id_vocab,topwords=30)\n",
        "topics_wordlist = [topics.split(': ')[1].split(\" \") for topics in all_topics]\n",
        "# topic_key_idx = [flatten_topics_wordlist.index(k) for k in keywords]\n",
        "np_flatten_topics_wordlist = np.array(flatten_list(topics_wordlist))\n",
        "topics_wordtensors = get_embedding_tensor(np_flatten_topics_wordlist,embeddings)\n",
        "\n",
        "topics_wordsScores,*_ = cosine_keywords(keywords,topics_wordtensors,np_flatten_topics_wordlist,cosine_sqrt)\n",
        "# np_topics_wordsScores = torch_min_max_sim(list_of_tensors_to_tensor(topics_wordsScores),topic_key_idx,3)\n",
        "np_topics_wordsScores = list_of_tensors_to_tensor(topics_wordsScores)\n",
        "# relv_topic_words = flatten_topics_wordlist[np.where(topics_wordsScores>with_cos_score_more_than)[0]]\n",
        "# relv_topic_words , len(relv_topic_words)\n",
        "len(np_flatten_topics_wordlist)"
      ]
    },
    {
      "cell_type": "code",
      "source": [
        "keywords,torch.max(np_topics_wordsScores,0).values.sum().item() , torch.mean(np_topics_wordsScores,-1) , torch.median(np_topics_wordsScores,-1).values"
      ],
      "metadata": {
        "id": "KbDSc4XFNaVQ"
      },
      "execution_count": null,
      "outputs": []
    },
    {
      "cell_type": "code",
      "source": [
        "plot_relv_topwords(keywords,np_topics_wordsScores)"
      ],
      "metadata": {
        "id": "g7SBImS5eEmz"
      },
      "execution_count": null,
      "outputs": []
    },
    {
      "cell_type": "code",
      "source": [
        "# save_obj(beta,'beta_'+d_data)\n",
        "# save_obj(id_vocab,'id_vocab_'+d_data)\n",
        "# save_obj(keywords,'keywords_'+d_data)\n",
        "# !zip -r bbc_results_t15_3k_FoTo.zip *.pkl"
      ],
      "metadata": {
        "id": "iG6WFnSzZBob"
      },
      "execution_count": null,
      "outputs": []
    },
    {
      "cell_type": "code",
      "source": [
        "!wget -N -c https://www.dropbox.com/s/s0xi2fnk5kz72wx/ttm_more_results.zip\n",
        "!unzip -o ttm_more_results.zip"
      ],
      "metadata": {
        "id": "Mk6MhSyYMpr6"
      },
      "execution_count": null,
      "outputs": []
    },
    {
      "cell_type": "code",
      "source": [
        "from os import listdir\n",
        "from os.path import isfile, join\n",
        "import pandas as pd\n",
        "# % cd /content/short\n",
        "mypath = \"/content/short\"\n",
        "onlyfiles = [f for f in listdir(mypath) if isfile(join(mypath, f))]\n",
        "csv_files = []\n",
        "for o in onlyfiles:\n",
        "  for k in keywords:\n",
        "    if k+\"-PT-5-1-Iter-250\" in o and \"target-keyword\" in o:\n",
        "      csv_files.append(o)\n",
        "\n",
        "## get all words\n",
        "all_words = []\n",
        "for c in csv_files:\n",
        "  df = pd.read_csv(c)\n",
        "  words = df.values.reshape(-1)\n",
        "  words_cleaned = [a for a in words if str(a).isalpha() == True and str(a) != 'nan']\n",
        "  all_words.extend(words_cleaned[:150])\n",
        "all_words = np.asarray(all_words)\n",
        "\n",
        "topics_wordtensors = get_embedding_tensor(all_words,embeddings)\n",
        "topics_wordsScores,*_ = cosine_keywords(keywords,topics_wordtensors,np_flatten_topics_wordlist,cosine_sqrt)\n",
        "np_topics_wordsScores = list_of_tensors_to_tensor(topics_wordsScores)\n",
        "# len(all_words)"
      ],
      "metadata": {
        "id": "qPB-kqAoZ5aJ"
      },
      "execution_count": null,
      "outputs": []
    },
    {
      "cell_type": "code",
      "source": [
        "keywords,torch.max(np_topics_wordsScores,0).values.sum().item() , torch.mean(np_topics_wordsScores,-1) , torch.median(np_topics_wordsScores,-1).values"
      ],
      "metadata": {
        "id": "0cTDQI5rdVFY"
      },
      "execution_count": null,
      "outputs": []
    },
    {
      "cell_type": "code",
      "source": [
        "plot_relv_topwords(keywords,np_topics_wordsScores)"
      ],
      "metadata": {
        "id": "Cy8QmO-Zdw8u"
      },
      "execution_count": null,
      "outputs": []
    },
    {
      "cell_type": "code",
      "source": [
        "## how to select topwords for TTM if topics have empty topwords?\n",
        "## the cosine score is as per the embeddings we generated is that fair?"
      ],
      "metadata": {
        "id": "NnxWPIpEdAU8"
      },
      "execution_count": null,
      "outputs": []
    },
    {
      "cell_type": "markdown",
      "metadata": {
        "id": "TPfQ0IUnPlfi"
      },
      "source": [
        "# Save/Download Results"
      ]
    },
    {
      "cell_type": "code",
      "source": [
        "STOP!!"
      ],
      "metadata": {
        "id": "NZMcqg9-MXyl"
      },
      "execution_count": null,
      "outputs": []
    },
    {
      "cell_type": "code",
      "execution_count": null,
      "metadata": {
        "id": "475CSACcuqNS"
      },
      "outputs": [],
      "source": [
        "doc_ids_model = [i.item() for i in doc_ids]"
      ]
    },
    {
      "cell_type": "code",
      "execution_count": null,
      "metadata": {
        "id": "uLNlLcmYiA59"
      },
      "outputs": [],
      "source": [
        "save_obj(get_topwords(beta, id_vocab),\"top100_docmodel_\"+d_data)"
      ]
    },
    {
      "cell_type": "code",
      "execution_count": null,
      "metadata": {
        "id": "-REuGjLoGIU_"
      },
      "outputs": [],
      "source": [
        "save_obj(x_list,\"x_list\")\n",
        "save_obj(indices,\"doc_id_desm\")\n",
        "save_obj(doc_ids_model,\"doc_ids_model\")\n",
        "save_obj(labels_list,\"labels_list\")\n",
        "save_obj(all_rscores,\"all_rscores\")\n",
        "save_obj(keywords,'keywords_'+d_data)"
      ]
    },
    {
      "cell_type": "code",
      "execution_count": null,
      "metadata": {
        "id": "EYDLajZGGaFr"
      },
      "outputs": [],
      "source": [
        "from google.colab import files\n",
        "files.download(\"doc_ids_model.pkl\")\n",
        "files.download(\"doc_id_desm.pkl\")\n",
        "files.download(\"x_list.pkl\")\n",
        "files.download(\"labels_list.pkl\")\n",
        "files.download(\"all_rscores.pkl\")\n",
        "files.download(\"keywords_\"+d_data+\".pkl\")\n",
        "files.download(\"top100_docmodel_\"+d_data+\".pkl\")"
      ]
    },
    {
      "cell_type": "code",
      "execution_count": null,
      "metadata": {
        "id": "xmeP5Rjmoxyg"
      },
      "outputs": [],
      "source": [
        "rm -r *.pkl*"
      ]
    }
  ],
  "metadata": {
    "accelerator": "GPU",
    "colab": {
      "collapsed_sections": [
        "f8wJtTb42ioB",
        "DQmnmNU2pN8K",
        "CCBiqaMRpRBi",
        "K0zQCuyY_kaq",
        "Ew89XnAFbbYP",
        "tFms0ZiwR5TF",
        "XwcrBK2pe4Qc",
        "nt3Y9cqyMPAB",
        "TPfQ0IUnPlfi"
      ],
      "provenance": [],
      "include_colab_link": true
    },
    "kernelspec": {
      "display_name": "Python 3",
      "name": "python3"
    }
  },
  "nbformat": 4,
  "nbformat_minor": 0
}